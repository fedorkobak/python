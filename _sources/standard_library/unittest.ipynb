{
 "cells": [
  {
   "cell_type": "markdown",
   "id": "ac03a2fb-95ec-4dc5-9b97-70f91048e3c8",
   "metadata": {},
   "source": [
    "# Unittest\n",
    "\n",
    "Is an inbuilt python library for unit testing."
   ]
  },
  {
   "cell_type": "code",
   "execution_count": 1,
   "id": "4a2e0928-57b8-4330-927f-b0b158221d90",
   "metadata": {},
   "outputs": [],
   "source": [
    "import unittest"
   ]
  },
  {
   "cell_type": "markdown",
   "id": "85334787-b285-424f-a036-fd38b451e940",
   "metadata": {},
   "source": [
    "## Run tests\n",
    "\n",
    "This section provides an overview of ways and options to execute `unittest` scripts. Typically you can run your tests with `python3 -m unittest <path to test>` command - but there are some issues. Findout more at the [special page](unittest/run_tests.ipynb)."
   ]
  },
  {
   "cell_type": "markdown",
   "id": "8ceb5289",
   "metadata": {},
   "source": [
    "---\n",
    "\n",
    "For the purposes of this site’s approach, it is useful to have a way to run tests directly from Jupyter Notebook cells. To achieve this, you can use `unittest.main(argv=[''], verbosity=2, exit=False)`. The following cell defines a simple test and executes it."
   ]
  },
  {
   "cell_type": "code",
   "execution_count": null,
   "id": "3177c92d",
   "metadata": {},
   "outputs": [],
   "source": [
    "class SomeTest(unittest.TestCase):\n",
    "    def test(self):\n",
    "        self.assertEqual(10,10)\n",
    "\n",
    "ans = unittest.main(argv=[''], verbosity=2, exit=False)\n",
    "del SomeTest"
   ]
  },
  {
   "cell_type": "markdown",
   "id": "dcaebbda-6a61-4e9a-93e1-e4dfa04e9a25",
   "metadata": {},
   "source": [
    "### `unittest.TestCase` descendant\n",
    "\n",
    "You can run tests from a specific descendant of `unittest.TestCase`."
   ]
  },
  {
   "cell_type": "markdown",
   "id": "7e9445f7-4e2a-4884-86f6-4587b687dd48",
   "metadata": {},
   "source": [
    "The following example defines two descendants of the `unittest.TestCase`, but only tests from `Test1` have been executed."
   ]
  },
  {
   "cell_type": "code",
   "execution_count": null,
   "id": "4bc92b2e-ca4f-4ac5-a089-52dab0da4994",
   "metadata": {},
   "outputs": [
    {
     "name": "stderr",
     "output_type": "stream",
     "text": [
      ".\n",
      "----------------------------------------------------------------------\n",
      "Ran 1 test in 0.001s\n",
      "\n",
      "OK\n"
     ]
    },
    {
     "name": "stdout",
     "output_type": "stream",
     "text": [
      "test1 executed\n"
     ]
    }
   ],
   "source": [
    "class Test1(unittest.TestCase):\n",
    "    def test(self):\n",
    "        print(\"test1 executed\")\n",
    "        self.assertEqual(10,10)\n",
    "\n",
    "class Test2(unittest.TestCase):\n",
    "    def test(self):\n",
    "        print(\"test2 executed\")\n",
    "        self.assertEqual(3,3)\n",
    "\n",
    "suite = unittest.TestLoader().loadTestsFromTestCase(Test1)\n",
    "runner = unittest.TextTestRunner()\n",
    "ans = runner.run(suite)"
   ]
  },
  {
   "cell_type": "markdown",
   "id": "ea0921f1",
   "metadata": {},
   "source": [
    "## Mocking\n",
    "\n",
    "Mocking is a crucial concept in testing, allowing for the simulation of program components that depend on elements difficult to reproduce in unit tests. It enables testers to isolate and control dependencies, making tests more reliable and manageable.\n",
    "\n",
    "Find out more in [specific page](unittest/mocking.ipynb)."
   ]
  },
  {
   "cell_type": "markdown",
   "id": "2a039774",
   "metadata": {},
   "source": [
    "---\n",
    "\n",
    "The following cell demonstrates the use of the `unittest.mock.Mock` object as a \"test double\" whose behavior is defined by the test logic. It also tracks interactions, allowing you to verify how it was used during the test."
   ]
  },
  {
   "cell_type": "code",
   "execution_count": 7,
   "id": "ad4afa6c",
   "metadata": {},
   "outputs": [],
   "source": [
    "my_mock = unittest.mock.Mock()\n",
    "my_mock.return_value = \"hello mock\""
   ]
  },
  {
   "cell_type": "markdown",
   "id": "e9702f48",
   "metadata": {},
   "source": [
    "We defined what the mock should return - the following cell demonstrates that it returns exactly what was specified."
   ]
  },
  {
   "cell_type": "code",
   "execution_count": 9,
   "id": "70a17f57",
   "metadata": {},
   "outputs": [
    {
     "data": {
      "text/plain": [
       "'hello mock'"
      ]
     },
     "execution_count": 9,
     "metadata": {},
     "output_type": "execute_result"
    }
   ],
   "source": [
    "my_mock(a=10, b=20)"
   ]
  },
  {
   "cell_type": "markdown",
   "id": "c2ab94db",
   "metadata": {},
   "source": [
    "We can also check which arguments were passed to the mock object during its call, which is useful for testing."
   ]
  },
  {
   "cell_type": "code",
   "execution_count": 10,
   "id": "9865f792",
   "metadata": {},
   "outputs": [
    {
     "data": {
      "text/plain": [
       "call(a=10, b=20)"
      ]
     },
     "execution_count": 10,
     "metadata": {},
     "output_type": "execute_result"
    }
   ],
   "source": [
    "my_mock.call_args"
   ]
  },
  {
   "cell_type": "markdown",
   "id": "97db88a1",
   "metadata": {},
   "source": [
    "## Inheritance\n",
    "\n",
    "Sometimes you can benefit from using inheritance in `unittest`. A common case is when you want to implement shared code for a set of test cases — code that serves as a template or abstraction for child classes that define the actual tests. To do this, you apply basic inheritance principles. Importantly, if you don’t want the base class itself to be executed by `unittest`, simply avoid inheriting it from `unittest.TestCase`. However, the concrete test implementations must inherit both from the base class and from `unittest.TestCase` to be recognized and run by `unittest`."
   ]
  },
  {
   "cell_type": "markdown",
   "id": "1cceca55",
   "metadata": {},
   "source": [
    "---\n",
    "\n",
    "The following cell shows the implementation of the `BaseClass` which defines the typical for `unittest` methods `setUpClass` and `tearDownClass` - but it is not a child of the `unittest.TestCase` so it won't be interpreted by `unittest` as tests to execute. It also defines two classes `Test1` and `Test2`, which are actually tests - but they don't implement any code - all tests and other actions are inherited from the `BaseClass`."
   ]
  },
  {
   "cell_type": "code",
   "execution_count": 7,
   "id": "3e31f2f2",
   "metadata": {},
   "outputs": [
    {
     "name": "stdout",
     "output_type": "stream",
     "text": [
      "Overwriting /tmp/inheritance_unittest.py\n"
     ]
    }
   ],
   "source": [
    "%%writefile /tmp/inheritance_unittest.py\n",
    "import unittest\n",
    "\n",
    "class BaseClass:\n",
    "    @classmethod\n",
    "    def setUpClass(cls):\n",
    "        print(\"set up in:\", cls)\n",
    "    \n",
    "    @classmethod\n",
    "    def tearDownClass(cls):\n",
    "        print(\"tear down in:\", cls)\n",
    "    \n",
    "    def test_method(self):\n",
    "        print(\"test in:\", type(self))\n",
    "\n",
    "\n",
    "class Test1(BaseClass, unittest.TestCase):\n",
    "    pass\n",
    "\n",
    "\n",
    "class Test2(BaseClass, unittest.TestCase):\n",
    "    pass"
   ]
  },
  {
   "cell_type": "markdown",
   "id": "ef8f5d73",
   "metadata": {},
   "source": [
    "The following cell performs the tests shown above."
   ]
  },
  {
   "cell_type": "code",
   "execution_count": 8,
   "id": "9e505231",
   "metadata": {},
   "outputs": [
    {
     "name": "stdout",
     "output_type": "stream",
     "text": [
      "set up in: <class 'inheritance_unittest.Test1'>\n",
      "test in: <class 'inheritance_unittest.Test1'>\n",
      "tear down in: <class 'inheritance_unittest.Test1'>\n",
      "set up in: <class 'inheritance_unittest.Test2'>\n",
      "test in: <class 'inheritance_unittest.Test2'>\n"
     ]
    },
    {
     "name": "stderr",
     "output_type": "stream",
     "text": [
      ".."
     ]
    },
    {
     "name": "stdout",
     "output_type": "stream",
     "text": [
      "tear down in: <class 'inheritance_unittest.Test2'>\n"
     ]
    },
    {
     "name": "stderr",
     "output_type": "stream",
     "text": [
      "\n",
      "----------------------------------------------------------------------\n",
      "Ran 2 tests in 0.000s\n",
      "\n",
      "OK\n"
     ]
    }
   ],
   "source": [
    "%%bash\n",
    "cd /tmp\n",
    "python3 -m unittest inheritance_unittest.py"
   ]
  },
  {
   "cell_type": "markdown",
   "id": "1a9ffd94",
   "metadata": {},
   "source": [
    "There are 6 messages - 3 from `Test1` and 3 from `Test2`."
   ]
  }
 ],
 "metadata": {
  "kernelspec": {
   "display_name": "src",
   "language": "python",
   "name": "python3"
  },
  "language_info": {
   "codemirror_mode": {
    "name": "ipython",
    "version": 3
   },
   "file_extension": ".py",
   "mimetype": "text/x-python",
   "name": "python",
   "nbconvert_exporter": "python",
   "pygments_lexer": "ipython3",
   "version": "3.12.9"
  }
 },
 "nbformat": 4,
 "nbformat_minor": 5
}
