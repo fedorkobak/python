{
 "cells": [
  {
   "cell_type": "markdown",
   "id": "707d52cd-24d5-4efc-8b8e-4dfcc0cb2945",
   "metadata": {},
   "source": [
    "# collections\n",
    "\n",
    "Allows date types that enhance standard Python collections."
   ]
  },
  {
   "cell_type": "markdown",
   "id": "e6664791-2a7b-427c-b442-727dd1e75506",
   "metadata": {},
   "source": [
    "## `defaultdict`\n",
    "\n",
    "A type that represents a dictionary to which a key is automatically added when an attempt is made to access that key."
   ]
  },
  {
   "cell_type": "markdown",
   "id": "21bd0a00-b12d-4a49-8f5a-a755594e3f81",
   "metadata": {},
   "source": [
    "### Basics\n",
    "You need to pass a function that will return the items that will be used as default values.\n",
    "\n",
    "In the following example, I have created a dictionary where when I try to access an unknown key in the dictionary, an int is created, one more than the last time. "
   ]
  },
  {
   "cell_type": "code",
   "execution_count": 62,
   "id": "52ba5d1d-b893-488a-a4e0-87f9f7d972e6",
   "metadata": {},
   "outputs": [
    {
     "name": "stdout",
     "output_type": "stream",
     "text": [
      "before cycle  {}\n",
      "my_defaultdict[\"element0\"] ==  1\n",
      "my_defaultdict[\"element1\"] ==  2\n",
      "my_defaultdict[\"element2\"] ==  3\n",
      "my_defaultdict[\"element3\"] ==  4\n",
      "my_defaultdict[\"element4\"] ==  5\n",
      "after cycle  {'element0': 1, 'element1': 2, 'element2': 3, 'element3': 4, 'element4': 5}\n"
     ]
    }
   ],
   "source": [
    "from collections import defaultdict\n",
    "\n",
    "counter = 0\n",
    "\n",
    "def dict_filler():\n",
    "    global counter\n",
    "    counter += 1\n",
    "    return counter\n",
    "\n",
    "my_defaultdict = defaultdict(dict_filler)\n",
    "\n",
    "print(\"before cycle \", dict(my_defaultdict))\n",
    "\n",
    "for i in range(5):\n",
    "    print(f\"my_defaultdict[\\\"element{i}\\\"] == \", my_defaultdict[f\"element{i}\"])\n",
    "\n",
    "print(\"after cycle \", dict(my_defaultdict))"
   ]
  },
  {
   "cell_type": "markdown",
   "id": "458cbbb5-f6dd-435d-b583-f105cd201d9e",
   "metadata": {},
   "source": [
    "A more applied example is calculating the frequencies of random integers. It is enough to create a `defaultdict` which by default uses `0` as a value for an unknown key. Without any initialisation, you can just use the `+=` operator for the dictionary, where each key corresponds to the number of times a given number is used."
   ]
  },
  {
   "cell_type": "code",
   "execution_count": 92,
   "id": "7671653d-a4cb-4987-a05f-e4e1f8098ac0",
   "metadata": {},
   "outputs": [
    {
     "name": "stdout",
     "output_type": "stream",
     "text": [
      "{1: 47, 2: 54, 3: 43, 4: 52, 5: 46, 6: 57, 7: 47, 8: 57, 9: 52, 10: 45}\n"
     ]
    }
   ],
   "source": [
    "import random\n",
    "from collections import defaultdict\n",
    "my_defaultdict = defaultdict(int)\n",
    "\n",
    "for i in range(500):\n",
    "    my_defaultdict[random.randint(1, 10)] += 1\n",
    "\n",
    "sorted_dict = dict(sorted(my_defaultdict.items(), key=lambda x: x[0]))\n",
    "print(sorted_dict)"
   ]
  },
  {
   "cell_type": "markdown",
   "id": "3db8ca88-d9d6-48aa-8535-092d738ae21c",
   "metadata": {},
   "source": [
    "### To/from `dict`"
   ]
  },
  {
   "cell_type": "markdown",
   "id": "012c0180-b902-4ef8-9c9a-31c7cb6ef1a3",
   "metadata": {},
   "source": [
    "### From\n",
    "\n",
    "You can convert a regular `dict` to the `defaultdict` simply by passing it as the second argument to the `defalutdict` function.\n",
    "\n",
    "So in the following example I will convert `initial_dict` to `default_dict` and then show that it has got properties of `defaultdcit`."
   ]
  },
  {
   "cell_type": "code",
   "execution_count": 87,
   "id": "c325a13a-fc28-4b97-bbba-995f1a904fd3",
   "metadata": {},
   "outputs": [
    {
     "name": "stdout",
     "output_type": "stream",
     "text": [
      "defaultdict(<class 'int'>, {'key1': 1, 'key2': 3, 'key3': 0})\n"
     ]
    }
   ],
   "source": [
    "from collections import defaultdict\n",
    "initial_dict = {\"key1\": 1, \"key2\":3}\n",
    "default_dict = defaultdict(int, initial_dict)\n",
    "my_defalut_value = default_dict[\"key3\"]\n",
    "print(default_dict)"
   ]
  },
  {
   "cell_type": "markdown",
   "id": "0083d1d8-b757-465d-be00-b0fa4a8883e4",
   "metadata": {},
   "source": [
    "### To\n",
    "\n",
    "Just pass `defaultdict` to the `dict` function to get it as a regular Python `dict`."
   ]
  },
  {
   "cell_type": "code",
   "execution_count": 96,
   "id": "8211ef03-36fa-48a4-8e20-25fdc82f3f63",
   "metadata": {},
   "outputs": [
    {
     "data": {
      "text/plain": [
       "{0: 0, 1: 0, 2: 0, 3: 0, 4: 0, 5: 0, 6: 0, 7: 0, 8: 0, 9: 0}"
      ]
     },
     "execution_count": 96,
     "metadata": {},
     "output_type": "execute_result"
    }
   ],
   "source": [
    "from collections import defaultdict\n",
    "default_dict = defaultdict(int)\n",
    "# create dict using defaultdict mechanisms\n",
    "for i in range(10): default_dict[i]\n",
    "# but for clearer printing, let's convert it \n",
    "# into a regular dictionary\n",
    "dict(default_dict)"
   ]
  },
  {
   "cell_type": "markdown",
   "id": "43aeee19-13a9-4f2a-9dd1-285b902cf6ae",
   "metadata": {},
   "source": [
    "## `Counter`\n",
    "\n",
    "This is a datatype that allows you to count items in the collection."
   ]
  },
  {
   "cell_type": "markdown",
   "id": "aa2a7b82-4404-4160-beb3-de90ff5e5b9c",
   "metadata": {},
   "source": [
    "### Basic\n",
    "\n",
    "You will have the result just as dictionary with items `<value in input collection> : <number of occurrences of an element in the collection>`.\n",
    "\n",
    "The following example shows how `Counter` is applied to a `list` of frequently recurring items."
   ]
  },
  {
   "cell_type": "code",
   "execution_count": 103,
   "id": "332d2e98-e993-4634-9a9e-4ec146efe774",
   "metadata": {},
   "outputs": [
    {
     "name": "stdout",
     "output_type": "stream",
     "text": [
      "Initial list: [2, 2, 4, 1, 1, 2, 4, 2, 2, 2]\n"
     ]
    },
    {
     "data": {
      "text/plain": [
       "Counter({2: 6, 4: 2, 1: 2})"
      ]
     },
     "execution_count": 103,
     "metadata": {},
     "output_type": "execute_result"
    }
   ],
   "source": [
    "from random import randint\n",
    "from collections import Counter\n",
    "\n",
    "input_lst = [randint(1,4) for i in range(10)]\n",
    "print(\"Initial list:\", input_lst)\n",
    "Counter(input_lst)"
   ]
  },
  {
   "cell_type": "markdown",
   "id": "8b571eb0-b95e-4349-ac8b-cb804eb78481",
   "metadata": {},
   "source": [
    "### `dict` properties\n",
    "`Counter` objects have all the properties of a normal dictionary.\n",
    "\n",
    "So in the following example I show that `Counter` can be easily accessed by inedex."
   ]
  },
  {
   "cell_type": "code",
   "execution_count": 113,
   "id": "e5ed3741-bd80-49da-a7a4-544b7572f032",
   "metadata": {},
   "outputs": [
    {
     "name": "stdout",
     "output_type": "stream",
     "text": [
      "Initial list: [2, 2, 2, 1, 3, 4, 4, 4, 2, 4]\n",
      "You can find '2' element 4 times in the input array\n"
     ]
    }
   ],
   "source": [
    "from random import randint\n",
    "from collections import Counter\n",
    "\n",
    "input_lst = [randint(1,4) for i in range(10)]\n",
    "print(\"Initial list:\", input_lst)\n",
    "my_counter = Counter(input_lst)\n",
    "print(f\"You can find '{2}' element {my_counter[2]} times in the input array\")"
   ]
  },
  {
   "cell_type": "markdown",
   "id": "d27e9b36-6e97-4c92-bf84-6fbcc93e4878",
   "metadata": {},
   "source": [
    "### Unhashable types\n",
    "\n",
    "As we know, unhashable types cannot be used as keys in a dictionary. `Counter` is just a modified dictionary, so you may get trouble trying to apply the `Counter` to the collection with unhashable items in it:"
   ]
  },
  {
   "cell_type": "code",
   "execution_count": 105,
   "id": "b1280279-d670-4658-b107-2c35220942b5",
   "metadata": {},
   "outputs": [
    {
     "ename": "TypeError",
     "evalue": "unhashable type: 'list'",
     "output_type": "error",
     "traceback": [
      "\u001b[0;31m---------------------------------------------------------------------------\u001b[0m",
      "\u001b[0;31mTypeError\u001b[0m                                 Traceback (most recent call last)",
      "Cell \u001b[0;32mIn[105], line 1\u001b[0m\n\u001b[0;32m----> 1\u001b[0m \u001b[43mCounter\u001b[49m\u001b[43m(\u001b[49m\u001b[43m[\u001b[49m\u001b[43m[\u001b[49m\u001b[38;5;241;43m1\u001b[39;49m\u001b[43m,\u001b[49m\u001b[38;5;241;43m2\u001b[39;49m\u001b[43m,\u001b[49m\u001b[38;5;241;43m3\u001b[39;49m\u001b[43m]\u001b[49m\u001b[43m,\u001b[49m\u001b[43m \u001b[49m\u001b[38;5;124;43m\"\u001b[39;49m\u001b[38;5;124;43mtest\u001b[39;49m\u001b[38;5;124;43m\"\u001b[39;49m\u001b[43m]\u001b[49m\u001b[43m)\u001b[49m\n",
      "File \u001b[0;32m/usr/lib/python3.10/collections/__init__.py:577\u001b[0m, in \u001b[0;36mCounter.__init__\u001b[0;34m(self, iterable, **kwds)\u001b[0m\n\u001b[1;32m    566\u001b[0m \u001b[38;5;250m\u001b[39m\u001b[38;5;124;03m'''Create a new, empty Counter object.  And if given, count elements\u001b[39;00m\n\u001b[1;32m    567\u001b[0m \u001b[38;5;124;03mfrom an input iterable.  Or, initialize the count from another mapping\u001b[39;00m\n\u001b[1;32m    568\u001b[0m \u001b[38;5;124;03mof elements to their counts.\u001b[39;00m\n\u001b[0;32m   (...)\u001b[0m\n\u001b[1;32m    574\u001b[0m \n\u001b[1;32m    575\u001b[0m \u001b[38;5;124;03m'''\u001b[39;00m\n\u001b[1;32m    576\u001b[0m \u001b[38;5;28msuper\u001b[39m()\u001b[38;5;241m.\u001b[39m\u001b[38;5;21m__init__\u001b[39m()\n\u001b[0;32m--> 577\u001b[0m \u001b[38;5;28;43mself\u001b[39;49m\u001b[38;5;241;43m.\u001b[39;49m\u001b[43mupdate\u001b[49m\u001b[43m(\u001b[49m\u001b[43miterable\u001b[49m\u001b[43m,\u001b[49m\u001b[43m \u001b[49m\u001b[38;5;241;43m*\u001b[39;49m\u001b[38;5;241;43m*\u001b[39;49m\u001b[43mkwds\u001b[49m\u001b[43m)\u001b[49m\n",
      "File \u001b[0;32m/usr/lib/python3.10/collections/__init__.py:670\u001b[0m, in \u001b[0;36mCounter.update\u001b[0;34m(self, iterable, **kwds)\u001b[0m\n\u001b[1;32m    668\u001b[0m             \u001b[38;5;28msuper\u001b[39m()\u001b[38;5;241m.\u001b[39mupdate(iterable)\n\u001b[1;32m    669\u001b[0m     \u001b[38;5;28;01melse\u001b[39;00m:\n\u001b[0;32m--> 670\u001b[0m         \u001b[43m_count_elements\u001b[49m\u001b[43m(\u001b[49m\u001b[38;5;28;43mself\u001b[39;49m\u001b[43m,\u001b[49m\u001b[43m \u001b[49m\u001b[43miterable\u001b[49m\u001b[43m)\u001b[49m\n\u001b[1;32m    671\u001b[0m \u001b[38;5;28;01mif\u001b[39;00m kwds:\n\u001b[1;32m    672\u001b[0m     \u001b[38;5;28mself\u001b[39m\u001b[38;5;241m.\u001b[39mupdate(kwds)\n",
      "\u001b[0;31mTypeError\u001b[0m: unhashable type: 'list'"
     ]
    }
   ],
   "source": [
    "Counter([[1,2,3], \"test\"])"
   ]
  }
 ],
 "metadata": {
  "kernelspec": {
   "display_name": "Python 3 (ipykernel)",
   "language": "python",
   "name": "python3"
  },
  "language_info": {
   "codemirror_mode": {
    "name": "ipython",
    "version": 3
   },
   "file_extension": ".py",
   "mimetype": "text/x-python",
   "name": "python",
   "nbconvert_exporter": "python",
   "pygments_lexer": "ipython3",
   "version": "3.10.12"
  }
 },
 "nbformat": 4,
 "nbformat_minor": 5
}
