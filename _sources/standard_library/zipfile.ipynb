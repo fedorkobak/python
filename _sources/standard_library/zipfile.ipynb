{
 "cells": [
  {
   "cell_type": "markdown",
   "metadata": {},
   "source": [
    "# Zipfile\n",
    "\n",
    "There is a special tool in Python that allows you to work with ZIP files. This page explores the options available in this library."
   ]
  },
  {
   "cell_type": "code",
   "execution_count": 1,
   "metadata": {},
   "outputs": [],
   "source": [
    "import shutil\n",
    "import seedir as sd\n",
    "from pathlib import Path\n",
    "from zipfile import ZipFile"
   ]
  },
  {
   "cell_type": "markdown",
   "metadata": {},
   "source": [
    "## ZipFile object\n",
    "\n",
    "The `ZipFile` object behaves like a regular file stream. You have to specify `file` and `mode`."
   ]
  },
  {
   "cell_type": "markdown",
   "metadata": {},
   "source": [
    "---\n",
    "\n",
    "The following example opens an archive with `mode='w'`, so a new archive is created at the path specified in `file`."
   ]
  },
  {
   "cell_type": "code",
   "execution_count": 19,
   "metadata": {},
   "outputs": [],
   "source": [
    "archive_path = Path('experimental.zip')\n",
    "zip = ZipFile(file=archive_path, mode='w')\n",
    "zip.close()"
   ]
  },
  {
   "cell_type": "markdown",
   "metadata": {},
   "source": [
    "The following cell demonstrates that the file was indeed created and then immediately deletes it."
   ]
  },
  {
   "cell_type": "code",
   "execution_count": 20,
   "metadata": {},
   "outputs": [
    {
     "name": "stdout",
     "output_type": "stream",
     "text": [
      "File exists -  True\n"
     ]
    }
   ],
   "source": [
    "print(\"File exists - \", archive_path.exists())\n",
    "archive_path.unlink()"
   ]
  },
  {
   "cell_type": "markdown",
   "metadata": {},
   "source": [
    "## Archive's content\n",
    "\n",
    "With `ZipFile`, you can manipulate files inside an archive. The following methods are available:\n",
    "\n",
    "- `write`: Writes a file to the archive.\n",
    "- `namelist`: Allows you to check the contents of the archive.\n",
    "- `extractall` and `extract`: Allows you to extract files from the archive to the regular filesystem."
   ]
  },
  {
   "cell_type": "markdown",
   "metadata": {},
   "source": [
    "---\n",
    "\n",
    "The following cell creates filesystem that we'll use for example."
   ]
  },
  {
   "cell_type": "code",
   "execution_count": 45,
   "metadata": {},
   "outputs": [
    {
     "name": "stdout",
     "output_type": "stream",
     "text": [
      "toy_folder/\n",
      "├─inner_folder/\n",
      "│ └─file\n",
      "└─archieved_file\n"
     ]
    }
   ],
   "source": [
    "toy_folder = Path(\"toy_folder\")\n",
    "toy_folder.mkdir()\n",
    "\n",
    "archieve_file_path = (toy_folder/\"archived_file\")\n",
    "archieve_file_path.write_text(\"this is some message\")\n",
    "\n",
    "inner_folder = toy_folder/\"inner_folder\"\n",
    "inner_file = inner_folder/\"file\"\n",
    "inner_folder.mkdir()\n",
    "inner_file.write_text(\"test\")\n",
    "\n",
    "sd.seedir(toy_folder)"
   ]
  },
  {
   "cell_type": "markdown",
   "metadata": {},
   "source": [
    "Now, we are creating an archive and writing files to it."
   ]
  },
  {
   "cell_type": "code",
   "execution_count": 46,
   "metadata": {},
   "outputs": [],
   "source": [
    "archive_path = Path(\"archive.zip\")\n",
    "\n",
    "with ZipFile(file=archive_path, mode='w') as a:\n",
    "    a.write(archieve_file_path)\n",
    "    a.write(inner_file)"
   ]
  },
  {
   "cell_type": "markdown",
   "metadata": {},
   "source": [
    "The following cell displays the contents of the archive, confirming that it matches what we created in the previous cell."
   ]
  },
  {
   "cell_type": "code",
   "execution_count": 47,
   "metadata": {},
   "outputs": [
    {
     "name": "stdout",
     "output_type": "stream",
     "text": [
      "['toy_folder/archieved_file', 'toy_folder/inner_folder/file']\n"
     ]
    }
   ],
   "source": [
    "with ZipFile(file=archive_path, mode=\"r\") as a:\n",
    "    print(a.namelist())"
   ]
  },
  {
   "cell_type": "markdown",
   "metadata": {},
   "source": [
    "Now, using `extractall`, we extract the entire contents of the archive. The file tree of the extracted folder is printed below."
   ]
  },
  {
   "cell_type": "code",
   "execution_count": 52,
   "metadata": {},
   "outputs": [
    {
     "name": "stdout",
     "output_type": "stream",
     "text": [
      "test_extraction/\n",
      "└─toy_folder/\n",
      "  ├─inner_folder/\n",
      "  │ └─file\n",
      "  └─archieved_file\n"
     ]
    }
   ],
   "source": [
    "test_extraction_folder = Path(\"test_extraction\")\n",
    "with ZipFile(file=archive_path, mode=\"r\") as f:\n",
    "    f.extractall(test_extraction_folder)\n",
    "sd.seedir(test_extraction_folder)\n",
    "shutil.rmtree(test_extraction_folder)"
   ]
  },
  {
   "cell_type": "markdown",
   "metadata": {},
   "source": [
    "After the experiments, we will delete the toy files."
   ]
  },
  {
   "cell_type": "code",
   "execution_count": 60,
   "metadata": {},
   "outputs": [],
   "source": [
    "archive_path.unlink()\n",
    "shutil.rmtree(toy_folder)"
   ]
  }
 ],
 "metadata": {
  "kernelspec": {
   "display_name": "Python 3",
   "language": "python",
   "name": "python3"
  },
  "language_info": {
   "codemirror_mode": {
    "name": "ipython",
    "version": 3
   },
   "file_extension": ".py",
   "mimetype": "text/x-python",
   "name": "python",
   "nbconvert_exporter": "python",
   "pygments_lexer": "ipython3",
   "version": "3.10.12"
  }
 },
 "nbformat": 4,
 "nbformat_minor": 2
}
