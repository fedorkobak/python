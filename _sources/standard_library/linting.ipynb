{
 "cells": [
  {
   "cell_type": "markdown",
   "id": "0902b7c2",
   "metadata": {},
   "source": [
    "# Linting\n",
    "\n",
    "Some approaches allow you to specify and check the validity of the code before executing it."
   ]
  },
  {
   "cell_type": "markdown",
   "id": "e885774a",
   "metadata": {},
   "source": [
    "## Annotations\n",
    "\n",
    "Python allows you to annotate types of varibles. By default, annotations don't influence the program; they are just hints for **static** code checkers, such as linters.\n",
    "\n",
    "Check more at the [Annotations](linting/annotations.ipynb) page."
   ]
  },
  {
   "cell_type": "markdown",
   "id": "5fdc79e8",
   "metadata": {},
   "source": [
    "---\n",
    "\n",
    "The following cell shows the really basics of the annotations syntax."
   ]
  },
  {
   "cell_type": "code",
   "execution_count": null,
   "id": "c50bd908",
   "metadata": {},
   "outputs": [],
   "source": [
    "val: int\n",
    "lst: list[int]\n",
    "\n",
    "def function(arg: int, arg2: str) -> int:\n",
    "    return 5"
   ]
  },
  {
   "cell_type": "markdown",
   "id": "321c3cb1",
   "metadata": {},
   "source": [
    "Here:\n",
    "\n",
    "- `val`: is just a variable annotated as an `int`.\n",
    "- `lst`: is a list of integers, such kind of type called \"generic\". Feature is that `list` parameterized with `int`.\n",
    "- `function`: specifies the types of the arguments and has an output of type `int`."
   ]
  },
  {
   "cell_type": "markdown",
   "id": "0ca3da20",
   "metadata": {},
   "source": [
    "## Tools\n",
    "\n",
    "There is the set of tools that designed to organize the process of annotations verification: \n",
    "\n",
    "- [mypy](https://mypy-lang.org/): static type checking for python.\n",
    "- [pyright](https://github.com/microsoft/pyright): static type checking for python.\n",
    "- [typeguard](https://typeguard.readthedocs.io/en/latest/): runtime type checking.\n",
    "- [flake8](https://pypi.org/project/flake8/): code style checker.\n",
    "\n",
    "For more details, check [Tools](linting/tools.ipynb) page."
   ]
  },
  {
   "cell_type": "markdown",
   "id": "9cd084c9",
   "metadata": {},
   "source": [
    "### Mypy\n",
    "\n",
    "Tool that allows you to check if the programme respects the specified type hints."
   ]
  },
  {
   "cell_type": "markdown",
   "id": "ed8e2bb6",
   "metadata": {},
   "source": [
    "---\n",
    "\n",
    "So in the following example a function is defined that takes two arguments and they are annotated as `int`."
   ]
  },
  {
   "cell_type": "code",
   "execution_count": null,
   "id": "12834dc2",
   "metadata": {},
   "outputs": [
    {
     "name": "stdout",
     "output_type": "stream",
     "text": [
      "Writing /tmp/mypy_example.py\n"
     ]
    }
   ],
   "source": [
    "%%writefile /tmp/mypy_example.py\n",
    "def bin_sum(a: int, b: int):\n",
    "    return a+b\n",
    "\n",
    "print(bin_sum(\"a\", \"b\"))"
   ]
  },
  {
   "cell_type": "markdown",
   "id": "c340fd03",
   "metadata": {},
   "source": [
    "The following code shows shows how to apply `mypy` to this file."
   ]
  },
  {
   "cell_type": "code",
   "execution_count": null,
   "id": "ec6eae59",
   "metadata": {},
   "outputs": [
    {
     "name": "stdout",
     "output_type": "stream",
     "text": [
      "/tmp/mypy_example.py:4: error: Argument 1 to \"bin_sum\" has incompatible type \"str\"; expected \"int\"  [arg-type]\n",
      "/tmp/mypy_example.py:4: error: Argument 2 to \"bin_sum\" has incompatible type \"str\"; expected \"int\"  [arg-type]\n",
      "Found 2 errors in 1 file (checked 1 source file)\n"
     ]
    }
   ],
   "source": [
    "!python3 -m mypy /tmp/mypy_example.py"
   ]
  },
  {
   "cell_type": "markdown",
   "id": "e06d782f",
   "metadata": {},
   "source": [
    "As a result, we got corresponding errors."
   ]
  },
  {
   "cell_type": "markdown",
   "id": "f45442cb",
   "metadata": {},
   "source": [
    "### Typeguard\n",
    "\n",
    "Type guard checks whether the value matches to the annotated types at runtime. With this library you can:\n",
    "\n",
    "- Write code that checks if the value matches to specified type - use the `typeguard.check_type()` function.\n",
    "- Modify the behavior of the functions using the `@typeguard.typechecked` decorator - so that any inconsistency in the input/output of the function will result in an error."
   ]
  },
  {
   "cell_type": "markdown",
   "id": "21472afe",
   "metadata": {},
   "source": [
    "---\n",
    "\n",
    "The following cell checks if the literal \"hello\" matches to the `int` annotation, and shows what kind of error `typeguard` will generate in such a case."
   ]
  },
  {
   "cell_type": "code",
   "execution_count": null,
   "id": "1777b73a",
   "metadata": {},
   "outputs": [
    {
     "name": "stdout",
     "output_type": "stream",
     "text": [
      "<class 'typeguard.TypeCheckError'> str is not an instance of int\n"
     ]
    }
   ],
   "source": [
    "import typeguard\n",
    "try: typeguard.check_type(\"hello\", int)\n",
    "except Exception as e: print(type(e), e)"
   ]
  },
  {
   "cell_type": "markdown",
   "id": "72f78525",
   "metadata": {},
   "source": [
    "The following cell saves to file code that uses the `@typeguard.typechecked` decorator, as it doesn't work in jupyter notebook."
   ]
  },
  {
   "cell_type": "code",
   "execution_count": null,
   "id": "1b6a213d",
   "metadata": {},
   "outputs": [
    {
     "name": "stdout",
     "output_type": "stream",
     "text": [
      "Overwriting /tmp/typechecked_decorator.py\n"
     ]
    }
   ],
   "source": [
    "%%writefile /tmp/typechecked_decorator.py\n",
    "import typeguard\n",
    "\n",
    "@typeguard.typechecked\n",
    "def value() -> int:\n",
    "    return \"value\""
   ]
  },
  {
   "cell_type": "markdown",
   "id": "b72fc343",
   "metadata": {},
   "source": [
    "Function returns \"value\" but `int` is annotated. The following cell shows what kind of error `typeguard` will produce for such a case."
   ]
  },
  {
   "cell_type": "code",
   "execution_count": null,
   "id": "000fad61",
   "metadata": {},
   "outputs": [
    {
     "name": "stdout",
     "output_type": "stream",
     "text": [
      "<class 'typeguard.TypeCheckError'> the return value (str) is not an instance of int\n"
     ]
    }
   ],
   "source": [
    "from typechecked_decorator import value\n",
    "try: value()\n",
    "except Exception as e: print(type(e), e)"
   ]
  }
 ],
 "metadata": {
  "language_info": {
   "name": "python"
  }
 },
 "nbformat": 4,
 "nbformat_minor": 5
}
