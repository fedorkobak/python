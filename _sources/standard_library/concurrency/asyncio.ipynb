{
 "cells": [
  {
   "cell_type": "markdown",
   "id": "bd81f408",
   "metadata": {},
   "source": [
    "# Asyncio"
   ]
  },
  {
   "cell_type": "markdown",
   "id": "3b08126a",
   "metadata": {},
   "source": [
    "## Coroutine\n",
    "\n",
    "Waiting for coroutine"
   ]
  },
  {
   "cell_type": "code",
   "execution_count": null,
   "id": "6c411b08",
   "metadata": {},
   "outputs": [
    {
     "name": "stdout",
     "output_type": "stream",
     "text": [
      "hello\n"
     ]
    }
   ],
   "source": [
    "async def coroutine():\n",
    "    print(\"hello\")\n",
    "\n",
    "await coroutine()"
   ]
  },
  {
   "cell_type": "markdown",
   "id": "52ab49fd",
   "metadata": {},
   "source": [
    "Coroutine object"
   ]
  },
  {
   "cell_type": "code",
   "execution_count": 14,
   "id": "ee14287e",
   "metadata": {},
   "outputs": [
    {
     "data": {
      "text/plain": [
       "<coroutine object coroutine at 0x792ae83f4700>"
      ]
     },
     "execution_count": 14,
     "metadata": {},
     "output_type": "execute_result"
    }
   ],
   "source": [
    "coroutine()"
   ]
  }
 ],
 "metadata": {
  "kernelspec": {
   "display_name": "python",
   "language": "python",
   "name": "python3"
  },
  "language_info": {
   "codemirror_mode": {
    "name": "ipython",
    "version": 3
   },
   "file_extension": ".py",
   "mimetype": "text/x-python",
   "name": "python",
   "nbconvert_exporter": "python",
   "pygments_lexer": "ipython3",
   "version": "3.13.5"
  }
 },
 "nbformat": 4,
 "nbformat_minor": 5
}
