{
 "cells": [
  {
   "cell_type": "markdown",
   "id": "8c2d81a2-266d-4716-bdf1-e09d34dcd781",
   "metadata": {},
   "source": [
    "# Threading"
   ]
  },
  {
   "cell_type": "markdown",
   "id": "74837611-5a6b-44fd-9a55-9146587d5a08",
   "metadata": {},
   "source": [
    "## Sources\n",
    "\n",
    "- <a href=\"https://docs.python.org/3/library/threading.html\">Official documentarion for `threading` module</a>;\n",
    "- <a href=\"https://www.tutorialspoint.com/python/python_multithreading.htm\">Third-party tutorial with examples (python2)</a>."
   ]
  },
  {
   "cell_type": "markdown",
   "id": "bb331d6c-4045-49f2-a71f-87e589525963",
   "metadata": {},
   "source": [
    "## Example1 - runtime messages\n",
    "\n",
    "In following exmaple:\n",
    "\n",
    "- Define the `myThread` class as an ancestor of the `threading.Thread` class - it will describe the behaviour of the thread:\n",
    "    - The `run` method is executed when the thread is started - in this case method:\n",
    "        - Spends time according to the `delay` parameter of the class;\n",
    "        - Increases the value of `counter` by one.\n",
    "- Create and run two instances of `myThread`:\n",
    "    - With `delay` 0.5 and 1;\n",
    "    - With `name` \"first\" and \"second\";\n",
    "- In cycle every 0.5 seconds check is threads still alife and print `counter` values for each instance;\n",
    "- Result:\n",
    "    - `counter` of instance named \"first\" updated at each step;\n",
    "    - `counter` of instance named \"second\" is updated once every two steps. "
   ]
  },
  {
   "cell_type": "code",
   "execution_count": 27,
   "id": "dc08edc9-fba6-4e71-88d5-2d5a8839657c",
   "metadata": {},
   "outputs": [
    {
     "name": "stdout",
     "output_type": "stream",
     "text": [
      "=====0.5 seconds after begining=====\n",
      "first counter = 1\n",
      "second counter = 0\n",
      "=====1.0 seconds after begining=====\n",
      "first counter = 2\n",
      "second counter = 1\n",
      "=====1.5 seconds after begining=====\n",
      "first counter = 3\n",
      "second counter = 1\n",
      "=====2.0 seconds after begining=====\n",
      "first counter = 4\n",
      "second counter = 2\n",
      "=====2.5 seconds after begining=====\n",
      "first counter = 5\n",
      "second counter = 2\n",
      "=====3.0 seconds after begining=====\n",
      "first counter = 5\n",
      "second counter = 3\n",
      "=====3.5 seconds after begining=====\n",
      "first counter = 5\n",
      "second counter = 3\n",
      "=====4.0 seconds after begining=====\n",
      "first counter = 5\n",
      "second counter = 4\n",
      "=====4.5 seconds after begining=====\n",
      "first counter = 5\n",
      "second counter = 4\n",
      "=====5.0 seconds after begining=====\n",
      "first counter = 5\n",
      "second counter = 5\n"
     ]
    }
   ],
   "source": [
    "import threading\n",
    "import time\n",
    "\n",
    "steps_count = 5\n",
    "\n",
    "class myThread(threading.Thread):\n",
    "    def __init__(self, delay, name):\n",
    "        super().__init__()\n",
    "        self.counter = 0\n",
    "        self.delay = delay\n",
    "        self.name = name\n",
    "\n",
    "    def run(self):\n",
    "        for i in range(steps_count):\n",
    "            time.sleep(self.delay)\n",
    "            self.counter += 1\n",
    "\n",
    "threads = []\n",
    "\n",
    "# Create new threads\n",
    "thread1 = myThread(0.5, \"first\")\n",
    "thread2 = myThread(1, \"second\")\n",
    "\n",
    "begin_time = time.time()\n",
    "# Start new Threads\n",
    "thread1.start()\n",
    "thread2.start()\n",
    "\n",
    "# Add threads to thread list\n",
    "threads.append(thread1)\n",
    "threads.append(thread2)\n",
    "\n",
    "is_any_thread_live = True\n",
    "while is_any_thread_live:\n",
    "    time.sleep(0.5)\n",
    "\n",
    "    dislpay_line = \\\n",
    "        f\"====={round(time.time() - begin_time, 1)}\" + \\\n",
    "        \" seconds after begining=====\"\n",
    "    print(dislpay_line)\n",
    "    for t in threads:\n",
    "        print(t.name + \" counter = \" + str(t.counter))\n",
    "    \n",
    "    for t in threads:\n",
    "        if t.is_alive():\n",
    "            # if any thread alife\n",
    "            # i leave the cycle\n",
    "            break\n",
    "    else:\n",
    "        # if we tried all threads\n",
    "        # and there aren't any alife \n",
    "        # set flag for cycle leaving\n",
    "        is_any_thread_live = False"
   ]
  }
 ],
 "metadata": {
  "kernelspec": {
   "display_name": "Python 3 (ipykernel)",
   "language": "python",
   "name": "python3"
  },
  "language_info": {
   "codemirror_mode": {
    "name": "ipython",
    "version": 3
   },
   "file_extension": ".py",
   "mimetype": "text/x-python",
   "name": "python",
   "nbconvert_exporter": "python",
   "pygments_lexer": "ipython3",
   "version": "3.10.12"
  }
 },
 "nbformat": 4,
 "nbformat_minor": 5
}
