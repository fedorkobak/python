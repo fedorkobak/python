{
 "cells": [
  {
   "cell_type": "markdown",
   "id": "70345b26-f7ab-4852-b799-22c432762675",
   "metadata": {},
   "source": [
    "# Call details\n",
    "\n",
    "Sometimes you need to understand which parameters have been passed to the function within the function under consideration. This page focuses on such a case."
   ]
  },
  {
   "cell_type": "code",
   "execution_count": 1,
   "id": "8004882f-2b6a-4670-8436-8f9f0a56f710",
   "metadata": {},
   "outputs": [],
   "source": [
    "import torch\n",
    "\n",
    "import unittest\n",
    "from unittest.mock import patch"
   ]
  },
  {
   "cell_type": "markdown",
   "id": "7c3b4569-27ab-4946-a6cc-d6ccc1a5f8bb",
   "metadata": {},
   "source": [
    "## `assert_called_with`"
   ]
  },
  {
   "cell_type": "markdown",
   "id": "ce9a2862-fa96-4ecd-afb0-f9eac933392a",
   "metadata": {},
   "source": [
    "If you need to check which arguments were passed to the mocked function, you can use the `assert_called_with(<supposed arguments>)` method of the patch object."
   ]
  },
  {
   "cell_type": "markdown",
   "id": "3149a788",
   "metadata": {},
   "source": [
    "---\n",
    "\n",
    "As an example, consider a simple function that just wraps the default `sum` function."
   ]
  },
  {
   "cell_type": "code",
   "execution_count": 2,
   "id": "64ae87d5-66af-4e6f-8433-1071961dc83a",
   "metadata": {},
   "outputs": [],
   "source": [
    "def sum_wrapper(numbers):\n",
    "    return sum(numbers)"
   ]
  },
  {
   "cell_type": "markdown",
   "id": "c89830aa-d23f-4cf6-af24-9f39620ec409",
   "metadata": {},
   "source": [
    "Tests will mock `sum` funtion. In both tests to `sum_wrapper` was passed `[1,2,3]` list. But in second case we use `[1,2,5]` in `assert_called_with`."
   ]
  },
  {
   "cell_type": "code",
   "execution_count": 3,
   "id": "94921285-1de8-4ca6-b32e-b8b4b0b146f7",
   "metadata": {},
   "outputs": [
    {
     "name": "stderr",
     "output_type": "stream",
     "text": [
      "test_fail (__main__.TestCalledWith) ... FAIL\n",
      "test_ok (__main__.TestCalledWith) ... ok\n",
      "\n",
      "======================================================================\n",
      "FAIL: test_fail (__main__.TestCalledWith)\n",
      "----------------------------------------------------------------------\n",
      "Traceback (most recent call last):\n",
      "  File \"/tmp/ipykernel_196007/486826917.py\", line 10, in test_fail\n",
      "    mocked_sum.assert_called_with([1,2,5])\n",
      "  File \"/usr/lib/python3.10/unittest/mock.py\", line 929, in assert_called_with\n",
      "    raise AssertionError(_error_message()) from cause\n",
      "AssertionError: expected call not found.\n",
      "Expected: sum([1, 2, 5])\n",
      "Actual: sum([1, 2, 3])\n",
      "\n",
      "----------------------------------------------------------------------\n",
      "Ran 2 tests in 0.011s\n",
      "\n",
      "FAILED (failures=1)\n"
     ]
    }
   ],
   "source": [
    "class TestCalledWith(unittest.TestCase):\n",
    "    def test_ok(self):\n",
    "        with patch(\"__main__.sum\") as mocked_sum:\n",
    "            sum_wrapper([1,2,3])\n",
    "            mocked_sum.assert_called_with([1,2,3])\n",
    "\n",
    "    def test_fail(self):\n",
    "        with patch(\"__main__.sum\") as mocked_sum:\n",
    "            sum_wrapper([1,2,3])\n",
    "            mocked_sum.assert_called_with([1,2,5])      \n",
    "\n",
    "ans = unittest.main(argv=[''], verbosity=2, exit=False)\n",
    "del TestCalledWith"
   ]
  },
  {
   "cell_type": "markdown",
   "id": "d9b8d159-7313-49ca-8775-f01f4d521379",
   "metadata": {},
   "source": [
    "So one test passed successfully because the supposed argument in `assert_called_with` matches the argument passed to `sum_wrapper`. But in the second case we got \"Fail\" because it doesn't."
   ]
  },
  {
   "cell_type": "markdown",
   "id": "4e426e59",
   "metadata": {},
   "source": [
    "## Get arguments\n",
    "\n",
    "Sometimes it's critical to just extract arguments with which mocked object was called. For example you may want to use special testing facilities provided by some specific packages like `torch.testing.assert_close`.\n",
    "\n",
    "You can achieve this by accessing the `call_args` attribute of the `Mock`. This will store the arguments that were passed to the model."
   ]
  },
  {
   "cell_type": "markdown",
   "id": "252b0e2c",
   "metadata": {},
   "source": [
    "---\n",
    "\n",
    "The following cell shows how to get the `torch.tensor` that was passed to the patched function."
   ]
  },
  {
   "cell_type": "code",
   "execution_count": 24,
   "id": "3b74fe02",
   "metadata": {},
   "outputs": [
    {
     "data": {
      "text/plain": [
       "(tensor([1, 2, 3, 4]),)"
      ]
     },
     "execution_count": 24,
     "metadata": {},
     "output_type": "execute_result"
    }
   ],
   "source": [
    "def sum_wrapper(numbers):\n",
    "    return sum(numbers)\n",
    "\n",
    "with patch(\"__main__.sum_wrapper\") as sw:\n",
    "    sum_wrapper(torch.tensor([1,2,3,4]))\n",
    "    call_args = sw.call_args\n",
    "\n",
    "call_args[0]"
   ]
  },
  {
   "cell_type": "markdown",
   "id": "746495ee-e227-48f2-866b-b60008fc3133",
   "metadata": {},
   "source": [
    "## Several calls"
   ]
  },
  {
   "cell_type": "markdown",
   "id": "055bf172-be6e-4792-846f-572e179c6b64",
   "metadata": {},
   "source": [
    "Consider the case where the mocked function is called many times by the unit under test. For this case you can use the `mock_calls` attribute of the `unittest.mock.MagicMock` object."
   ]
  },
  {
   "cell_type": "markdown",
   "id": "9c0ea62e-f09b-4aa8-97ec-40de3e2b898c",
   "metadata": {},
   "source": [
    "---\n",
    "\n",
    "The following cell prints what `mock_calls` will contain if `sum` is called twice in `sum_wrapper`."
   ]
  },
  {
   "cell_type": "code",
   "execution_count": 2,
   "id": "0c71989e-d8ff-4adc-b779-22b3176dfe2d",
   "metadata": {},
   "outputs": [
    {
     "name": "stdout",
     "output_type": "stream",
     "text": [
      "[call([1, 2, 3, 3, 3]), call(iterable=[1, 2, 3, 2, 2])]\n",
      "([1, 2, 3, 3, 3],)\n",
      "{'iterable': [1, 2, 3, 2, 2]}\n"
     ]
    }
   ],
   "source": [
    "def sum_wrapper(numbers):\n",
    "    sum(numbers + [3,3])\n",
    "    sum(iterable=(numbers + [2,2]))\n",
    "\n",
    "with patch(\"__main__.sum\") as mocked_sum:\n",
    "    sum_wrapper([1,2,3])\n",
    "    print(mocked_sum.mock_calls)\n",
    "    print(mocked_sum.mock_calls[0].args)\n",
    "    print(mocked_sum.mock_calls[1].kwargs)"
   ]
  },
  {
   "cell_type": "markdown",
   "id": "a65fa1af-e5cb-49a2-9a17-33923348d001",
   "metadata": {},
   "source": [
    "So for each call we list what element it contains. We can access each call and query the `args` field for positional arguments and `kwargs` for named arguments."
   ]
  },
  {
   "cell_type": "markdown",
   "id": "475812b3-ce48-41fc-91e2-73367281e34c",
   "metadata": {},
   "source": [
    "The full version of such a test should look like the following cell:"
   ]
  },
  {
   "cell_type": "code",
   "execution_count": 22,
   "id": "e715a246-57d9-40f7-840a-560edbc6a3f2",
   "metadata": {},
   "outputs": [
    {
     "name": "stderr",
     "output_type": "stream",
     "text": [
      "test_example (__main__.TestCalledWith) ... ok\n",
      "\n",
      "----------------------------------------------------------------------\n",
      "Ran 1 test in 0.001s\n",
      "\n",
      "OK\n"
     ]
    }
   ],
   "source": [
    "class TestCalledWith(unittest.TestCase):\n",
    "    def test_example(self):\n",
    "        with patch(\"__main__.sum\") as mocked_sum:\n",
    "            sum_wrapper([1,2,3])\n",
    "            self.assertEqual(\n",
    "                mocked_sum.mock_calls[0].args[0],\n",
    "                [1,2,3,3,3]\n",
    "            )\n",
    "            self.assertEqual(\n",
    "                mocked_sum.mock_calls[1].kwargs,\n",
    "                {'iterable': [1, 2, 3, 2, 2]}\n",
    "            )\n",
    "\n",
    "ans = unittest.main(argv=[''], verbosity=2, exit=False)\n",
    "del TestCalledWith"
   ]
  },
  {
   "cell_type": "markdown",
   "id": "6afc31e1",
   "metadata": {},
   "source": [
    "## Calls count\n",
    "\n",
    "You can get amount of calls of the mock from `call_count` attribute."
   ]
  },
  {
   "cell_type": "markdown",
   "id": "18c2c74b",
   "metadata": {},
   "source": [
    "---\n",
    "\n",
    "The following cell creates a mock and calls it 10 times in cycle. The result is the number '10' as the value of the variable 'call_count'."
   ]
  },
  {
   "cell_type": "code",
   "execution_count": 11,
   "id": "94384e77",
   "metadata": {},
   "outputs": [
    {
     "data": {
      "text/plain": [
       "10"
      ]
     },
     "execution_count": 11,
     "metadata": {},
     "output_type": "execute_result"
    }
   ],
   "source": [
    "mock = unittest.mock.Mock()\n",
    "\n",
    "for i in range(10):\n",
    "    mock()\n",
    "\n",
    "mock.call_count"
   ]
  }
 ],
 "metadata": {
  "kernelspec": {
   "display_name": "src",
   "language": "python",
   "name": "python3"
  },
  "language_info": {
   "codemirror_mode": {
    "name": "ipython",
    "version": 3
   },
   "file_extension": ".py",
   "mimetype": "text/x-python",
   "name": "python",
   "nbconvert_exporter": "python",
   "pygments_lexer": "ipython3",
   "version": "3.12.9"
  }
 },
 "nbformat": 4,
 "nbformat_minor": 5
}
