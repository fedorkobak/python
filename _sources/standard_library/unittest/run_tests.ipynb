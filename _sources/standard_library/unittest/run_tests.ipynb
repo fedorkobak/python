{
 "cells": [
  {
   "cell_type": "markdown",
   "metadata": {},
   "source": [
    "# Run tests\n",
    "\n",
    "This page focuses on the ways to run tests in `unittest` library."
   ]
  },
  {
   "cell_type": "markdown",
   "metadata": {},
   "source": [
    "## Run from file\n",
    "\n",
    "If you have files listing all your tests, you can execute them using `python3 -m unittest <path to file>`. The path can be specified in two formats:\n",
    "\n",
    "- Sections separated by `/` slashes: system-like.  \n",
    "- Sections separated by `.` dots: Python imports-like.  "
   ]
  },
  {
   "cell_type": "markdown",
   "metadata": {},
   "source": [
    "---\n",
    "\n",
    "The following cell defines the unittest file that will be run later."
   ]
  },
  {
   "cell_type": "code",
   "execution_count": 1,
   "metadata": {},
   "outputs": [
    {
     "name": "stdout",
     "output_type": "stream",
     "text": [
      "Overwriting run_tests_files/test.py\n"
     ]
    }
   ],
   "source": [
    "%%writefile run_tests_files/test.py\n",
    "import unittest\n",
    "\n",
    "class SomeTest(unittest.TestCase):\n",
    "    def test(self):\n",
    "        print(\"simple test\")\n",
    "        self.assertEqual(10,10)"
   ]
  },
  {
   "cell_type": "markdown",
   "metadata": {},
   "source": [
    "You can run this test by specifying the file path to it as a parameter to the `python3 -m unittest' command."
   ]
  },
  {
   "cell_type": "code",
   "execution_count": 2,
   "metadata": {},
   "outputs": [
    {
     "name": "stdout",
     "output_type": "stream",
     "text": [
      "simple test\n",
      ".\n",
      "----------------------------------------------------------------------\n",
      "Ran 1 test in 0.000s\n",
      "\n",
      "OK\n"
     ]
    }
   ],
   "source": [
    "!python3 -m unittest run_tests_files/test.py"
   ]
  },
  {
   "cell_type": "markdown",
   "metadata": {},
   "source": [
    "Or how to import this file into a Python program."
   ]
  },
  {
   "cell_type": "code",
   "execution_count": 3,
   "metadata": {},
   "outputs": [
    {
     "name": "stdout",
     "output_type": "stream",
     "text": [
      "simple test\n",
      ".\n",
      "----------------------------------------------------------------------\n",
      "Ran 1 test in 0.000s\n",
      "\n",
      "OK\n"
     ]
    }
   ],
   "source": [
    "!python3 -m unittest run_tests_files.test"
   ]
  },
  {
   "cell_type": "markdown",
   "metadata": {},
   "source": [
    "## Tests package\n",
    "\n",
    "More complex programs require more complex tests. In this case, you need to put tests in packages (folders of modules). In such a case you can just run `python -m unittest` from the folder with tests - everything that can be interpreted as python package will be executed. **Note** Unittest will only identify modules starting with `test_` as test modules."
   ]
  },
  {
   "cell_type": "markdown",
   "metadata": {},
   "source": [
    "---\n",
    "\n",
    "The following cells prepare the structure of the package that we'll use for the example."
   ]
  },
  {
   "cell_type": "code",
   "execution_count": 58,
   "metadata": {},
   "outputs": [],
   "source": [
    "%%bash\n",
    "mkdir /tmp/run_test &> /dev/null | true\n",
    "mkdir /tmp/run_test/inner &> /dev/null | true"
   ]
  },
  {
   "cell_type": "code",
   "execution_count": 59,
   "metadata": {},
   "outputs": [
    {
     "name": "stdout",
     "output_type": "stream",
     "text": [
      "Writing /tmp/run_test/test_first.py\n"
     ]
    }
   ],
   "source": [
    "%%writefile /tmp/run_test/test_first.py\n",
    "from unittest import TestCase\n",
    "\n",
    "class FirstTest(TestCase):\n",
    "    def test_root(self):\n",
    "        print(\"First test\")"
   ]
  },
  {
   "cell_type": "code",
   "execution_count": 60,
   "metadata": {},
   "outputs": [
    {
     "name": "stdout",
     "output_type": "stream",
     "text": [
      "Writing /tmp/run_test/inner/test_inner.py\n"
     ]
    }
   ],
   "source": [
    "%%writefile /tmp/run_test/inner/test_inner.py\n",
    "from unittest import TestCase\n",
    "\n",
    "class InnerTest(TestCase):\n",
    "    def test_root(self):\n",
    "        print(\"Innter test\")"
   ]
  },
  {
   "cell_type": "markdown",
   "metadata": {},
   "source": [
    "Finally we got package with one test on the current folder and one hidden on the `innter` folder."
   ]
  },
  {
   "cell_type": "code",
   "execution_count": 61,
   "metadata": {},
   "outputs": [
    {
     "name": "stdout",
     "output_type": "stream",
     "text": [
      "\u001b[01;34m.\u001b[0m\n",
      "├── \u001b[01;34minner\u001b[0m\n",
      "│   └── test_inner.py\n",
      "└── test_first.py\n",
      "\n",
      "2 directories, 2 files\n"
     ]
    }
   ],
   "source": [
    "!cd /tmp/run_test && tree"
   ]
  },
  {
   "cell_type": "markdown",
   "metadata": {},
   "source": [
    "By running `python3 -m unittest` from the working directory we got `FirstTest` executed, but not inner test."
   ]
  },
  {
   "cell_type": "code",
   "execution_count": 62,
   "metadata": {},
   "outputs": [
    {
     "name": "stdout",
     "output_type": "stream",
     "text": [
      "First test\n"
     ]
    },
    {
     "name": "stderr",
     "output_type": "stream",
     "text": [
      ".\n",
      "----------------------------------------------------------------------\n",
      "Ran 1 test in 0.000s\n",
      "\n",
      "OK\n"
     ]
    }
   ],
   "source": [
    "%%bash\n",
    "cd /tmp/run_test\n",
    "python3 -m unittest"
   ]
  },
  {
   "cell_type": "markdown",
   "metadata": {},
   "source": [
    "This is because `unittest` doesn't recognize `inner` as a module. You can fix this by adding `__init__.py` to the `inner`."
   ]
  },
  {
   "cell_type": "code",
   "execution_count": 63,
   "metadata": {},
   "outputs": [
    {
     "name": "stdout",
     "output_type": "stream",
     "text": [
      "Writing /tmp/run_test/inner/__init__.py\n"
     ]
    }
   ],
   "source": [
    "%%writefile /tmp/run_test/inner/__init__.py\n",
    "pass"
   ]
  },
  {
   "cell_type": "markdown",
   "metadata": {},
   "source": [
    "After that, both tests ran as expected."
   ]
  },
  {
   "cell_type": "code",
   "execution_count": 64,
   "metadata": {},
   "outputs": [
    {
     "name": "stdout",
     "output_type": "stream",
     "text": [
      "Innter test\n"
     ]
    },
    {
     "name": "stderr",
     "output_type": "stream",
     "text": [
      ".."
     ]
    },
    {
     "name": "stdout",
     "output_type": "stream",
     "text": [
      "First test\n"
     ]
    },
    {
     "name": "stderr",
     "output_type": "stream",
     "text": [
      "\n",
      "----------------------------------------------------------------------\n",
      "Ran 2 tests in 0.000s\n",
      "\n",
      "OK\n"
     ]
    }
   ],
   "source": [
    "%%bash\n",
    "cd /tmp/run_test\n",
    "python3 -m unittest"
   ]
  }
 ],
 "metadata": {
  "kernelspec": {
   "display_name": "python",
   "language": "python",
   "name": "python3"
  },
  "language_info": {
   "codemirror_mode": {
    "name": "ipython",
    "version": 3
   },
   "file_extension": ".py",
   "mimetype": "text/x-python",
   "name": "python",
   "nbconvert_exporter": "python",
   "pygments_lexer": "ipython3",
   "version": "3.12.9"
  }
 },
 "nbformat": 4,
 "nbformat_minor": 2
}
