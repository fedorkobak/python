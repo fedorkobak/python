{
 "cells": [
  {
   "cell_type": "markdown",
   "metadata": {},
   "source": [
    "# Run tests\n",
    "\n",
    "This page focuses on the ways to run tests in `unittest` library."
   ]
  },
  {
   "cell_type": "markdown",
   "metadata": {},
   "source": [
    "## Run from file\n",
    "\n",
    "If you have files listing all your tests, you can execute them using `python3 -m unittest <path to file>`. The path can be specified in two formats:\n",
    "\n",
    "- Sections separated by `/` slashes: system-like.  \n",
    "- Sections separated by `.` dots: Python imports-like.  "
   ]
  },
  {
   "cell_type": "markdown",
   "metadata": {},
   "source": [
    "---\n",
    "\n",
    "The following cell defines the unittest file that will be run later."
   ]
  },
  {
   "cell_type": "code",
   "execution_count": 1,
   "metadata": {},
   "outputs": [
    {
     "name": "stdout",
     "output_type": "stream",
     "text": [
      "Overwriting run_tests_files/test.py\n"
     ]
    }
   ],
   "source": [
    "%%writefile run_tests_files/test.py\n",
    "import unittest\n",
    "\n",
    "class SomeTest(unittest.TestCase):\n",
    "    def test(self):\n",
    "        print(\"simple test\")\n",
    "        self.assertEqual(10,10)"
   ]
  },
  {
   "cell_type": "markdown",
   "metadata": {},
   "source": [
    "You can run this test by specifying the file path to it as a parameter to the `python3 -m unittest' command."
   ]
  },
  {
   "cell_type": "code",
   "execution_count": 2,
   "metadata": {},
   "outputs": [
    {
     "name": "stdout",
     "output_type": "stream",
     "text": [
      "simple test\n",
      ".\n",
      "----------------------------------------------------------------------\n",
      "Ran 1 test in 0.000s\n",
      "\n",
      "OK\n"
     ]
    }
   ],
   "source": [
    "!python3 -m unittest run_tests_files/test.py"
   ]
  },
  {
   "cell_type": "markdown",
   "metadata": {},
   "source": [
    "Or how to import this file into a Python program."
   ]
  },
  {
   "cell_type": "code",
   "execution_count": 3,
   "metadata": {},
   "outputs": [
    {
     "name": "stdout",
     "output_type": "stream",
     "text": [
      "simple test\n",
      ".\n",
      "----------------------------------------------------------------------\n",
      "Ran 1 test in 0.000s\n",
      "\n",
      "OK\n"
     ]
    }
   ],
   "source": [
    "!python3 -m unittest run_tests_files.test"
   ]
  },
  {
   "cell_type": "markdown",
   "metadata": {},
   "source": [
    "## Module with tests\n",
    "\n",
    "More complicated programs requires more complicated tests. So once you'll have to separate files with tests for different sections of the program - but you still keep them in one module defined by the `__inin__.py` file.\n",
    "\n",
    "So any `unittest.TestCase` inheritant defined in the `__init__.py` of the tests module will be executed. It does not matter if it is created directly in __init.py__ or imported into it.\n",
    "\n",
    "**Note:** if you want to use filesystem style of tests invoking - you'll need to specify exact file to run, in module case explicitly specify `__init__.py` of the module."
   ]
  },
  {
   "cell_type": "markdown",
   "metadata": {},
   "source": [
    "---\n",
    "\n",
    "The following cells define the module and the file within it. During their invocation, you will see messages indicating that they are invoked, with `Root test` for the module and `Inner test` for the inner file."
   ]
  },
  {
   "cell_type": "code",
   "execution_count": 15,
   "metadata": {},
   "outputs": [
    {
     "name": "stdout",
     "output_type": "stream",
     "text": [
      "Overwriting run_tests_files/inner_module/test.py\n"
     ]
    }
   ],
   "source": [
    "%%writefile run_tests_files/inner_module/test.py\n",
    "from unittest import TestCase\n",
    "\n",
    "class SomeTest(TestCase):\n",
    "    def test_root(self):\n",
    "        print(\"Inner test\")"
   ]
  },
  {
   "cell_type": "code",
   "execution_count": 16,
   "metadata": {},
   "outputs": [
    {
     "name": "stdout",
     "output_type": "stream",
     "text": [
      "Overwriting run_tests_files/inner_module/__init__.py\n"
     ]
    }
   ],
   "source": [
    "%%writefile run_tests_files/inner_module/__init__.py\n",
    "from .test import SomeTest\n",
    "from unittest import TestCase\n",
    "\n",
    "class RootTest(TestCase):\n",
    "    def test_root(self):\n",
    "        print(\"Root test\")"
   ]
  },
  {
   "cell_type": "markdown",
   "metadata": {},
   "source": [
    "The following cell executes all of the module's tests."
   ]
  },
  {
   "cell_type": "code",
   "execution_count": 11,
   "metadata": {},
   "outputs": [
    {
     "name": "stdout",
     "output_type": "stream",
     "text": [
      "root test\n",
      ".Inner test\n",
      ".\n",
      "----------------------------------------------------------------------\n",
      "Ran 2 tests in 0.000s\n",
      "\n",
      "OK\n"
     ]
    }
   ],
   "source": [
    "!python3 -m unittest run_tests_files.inner_module"
   ]
  },
  {
   "cell_type": "markdown",
   "metadata": {},
   "source": [
    "If you try to invoke it simply by using the system path to the root folder of the module, you will get an error."
   ]
  },
  {
   "cell_type": "code",
   "execution_count": 12,
   "metadata": {},
   "outputs": [
    {
     "name": "stdout",
     "output_type": "stream",
     "text": [
      "E\n",
      "======================================================================\n",
      "ERROR: run_tests_files/inner_module (unittest.loader._FailedTest)\n",
      "----------------------------------------------------------------------\n",
      "ImportError: Failed to import test module: run_tests_files/inner_module\n",
      "Traceback (most recent call last):\n",
      "  File \"/usr/lib/python3.10/unittest/loader.py\", line 154, in loadTestsFromName\n",
      "    module = __import__(module_name)\n",
      "ModuleNotFoundError: No module named 'run_tests_files/inner_module'\n",
      "\n",
      "\n",
      "----------------------------------------------------------------------\n",
      "Ran 1 test in 0.000s\n",
      "\n",
      "FAILED (errors=1)\n"
     ]
    }
   ],
   "source": [
    "!python3 -m unittest run_tests_files/inner_module"
   ]
  },
  {
   "cell_type": "markdown",
   "metadata": {},
   "source": [
    "It is still possible to explicitly address the `__init__.py` module."
   ]
  },
  {
   "cell_type": "code",
   "execution_count": 14,
   "metadata": {},
   "outputs": [
    {
     "name": "stdout",
     "output_type": "stream",
     "text": [
      "root test\n",
      ".Inner test\n",
      ".\n",
      "----------------------------------------------------------------------\n",
      "Ran 2 tests in 0.000s\n",
      "\n",
      "OK\n"
     ]
    }
   ],
   "source": [
    "!python3 -m unittest run_tests_files/inner_module/__init__.py"
   ]
  }
 ],
 "metadata": {
  "kernelspec": {
   "display_name": "Python 3",
   "language": "python",
   "name": "python3"
  },
  "language_info": {
   "codemirror_mode": {
    "name": "ipython",
    "version": 3
   },
   "file_extension": ".py",
   "mimetype": "text/x-python",
   "name": "python",
   "nbconvert_exporter": "python",
   "pygments_lexer": "ipython3",
   "version": "3.10.12"
  }
 },
 "nbformat": 4,
 "nbformat_minor": 2
}
