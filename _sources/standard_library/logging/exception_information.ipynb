{
 "cells": [
  {
   "cell_type": "markdown",
   "id": "06255703-0637-4aa6-b2c1-67acf7e110a6",
   "metadata": {},
   "source": [
    "# Exceptions information\n",
    "\n",
    "By adding the `exc_info=True` argument to the logging method, you can include information about the exception in the log."
   ]
  },
  {
   "cell_type": "code",
   "execution_count": 1,
   "id": "c1ee2648-6d37-4bf1-83f2-0293d0e5bc2e",
   "metadata": {},
   "outputs": [],
   "source": [
    "import os\n",
    "import logging"
   ]
  },
  {
   "cell_type": "markdown",
   "id": "984b3192-29a4-4011-b065-c1ff52aa850e",
   "metadata": {},
   "source": [
    "## Basic example\n",
    "\n",
    "Here I create loggin system which will write any error to `logging_files/basic.log`"
   ]
  },
  {
   "cell_type": "code",
   "execution_count": 2,
   "id": "f17e1b21-3f0d-418a-925e-629ff4df03b8",
   "metadata": {},
   "outputs": [
    {
     "name": "stdout",
     "output_type": "stream",
     "text": [
      "2024-04-18 21:04:50,089|ERROR|===Any error===\n",
      "Traceback (most recent call last):\n",
      "  File \"/tmp/ipykernel_8410/697886762.py\", line 18, in <module>\n",
      "    fun()\n",
      "  File \"/tmp/ipykernel_8410/697886762.py\", line 4, in <lambda>\n",
      "    lambda: 7/0, # ZeroDivisionError\n",
      "ZeroDivisionError: division by zero\n",
      "2024-04-18 21:04:50,089|ERROR|===Any error===\n",
      "Traceback (most recent call last):\n",
      "  File \"/tmp/ipykernel_8410/697886762.py\", line 18, in <module>\n",
      "    fun()\n",
      "  File \"/tmp/ipykernel_8410/697886762.py\", line 5, in <lambda>\n",
      "    lambda: \"hello\" + 5784 # TypeError\n",
      "TypeError: can only concatenate str (not \"int\") to str\n",
      "\n"
     ]
    }
   ],
   "source": [
    "log_filename = \"exception_information_files/basic.log\"\n",
    "fun_lines = [\n",
    "    lambda: \"no_bug\", # no_bug function\n",
    "    lambda: 7/0, # ZeroDivisionError\n",
    "    lambda: \"hello\" + 5784 # TypeError\n",
    "]\n",
    "\n",
    "basic_logger = logging.getLogger(\"basic loger\")\n",
    "basic_logger.level = logging.INFO\n",
    "handler = logging.FileHandler(log_filename, mode='w')\n",
    "handler.setFormatter(\n",
    "    logging.Formatter('%(asctime)s|%(levelname)s|%(message)s')\n",
    ")\n",
    "basic_logger.addHandler(handler)\n",
    "\n",
    "for fun in fun_lines:\n",
    "    try:\n",
    "        fun()\n",
    "    except:\n",
    "        basic_logger.error(\"===Any error===\", exc_info=True)\n",
    "\n",
    "with open(log_filename) as file:\n",
    "    print(file.read())\n",
    "os.remove(log_filename)"
   ]
  },
  {
   "cell_type": "markdown",
   "id": "7220a663-a1a0-4bab-811b-64047f4120c8",
   "metadata": {},
   "source": [
    "## Exception in exception\n",
    "\n",
    "I wanted to learn how `looging` module will process the situation when there is one exception is handled within the framework of the other. In the following example there are functions:\n",
    "- `inside_exception` calls the division by zero exception;\n",
    "- `outside_exception` will execute `inside_exception` and in addition will lead to type exception;\n",
    "- as a result we see only `TypeError` in log."
   ]
  },
  {
   "cell_type": "code",
   "execution_count": 3,
   "id": "2a26232b-77eb-4a85-94b2-183251d8f757",
   "metadata": {},
   "outputs": [
    {
     "name": "stdout",
     "output_type": "stream",
     "text": [
      "2024-04-18 21:04:51,494 ERROR Any error\n",
      "Traceback (most recent call last):\n",
      "  File \"/tmp/ipykernel_8410/1712082539.py\", line 18, in outside_exception\n",
      "    \"hello\" + 7\n",
      "TypeError: can only concatenate str (not \"int\") to str\n",
      "\n"
     ]
    }
   ],
   "source": [
    "log_filename = \"exception_information_files/excep_in_excep.log\"\n",
    "logging.basicConfig(\n",
    "    level=logging.INFO, \n",
    "    filename=log_filename,\n",
    "    filemode=\"w\",\n",
    "    format=\"%(asctime)s %(levelname)s %(message)s\"\n",
    ")\n",
    "\n",
    "def inside_exception():\n",
    "    try:\n",
    "        7/0\n",
    "    except:\n",
    "        pass\n",
    "\n",
    "def outside_exception():\n",
    "    try:\n",
    "        inside_exception()\n",
    "        \"hello\" + 7\n",
    "    except:\n",
    "        logging.error(\"Any error\", exc_info=True)\n",
    "\n",
    "outside_exception()\n",
    "\n",
    "with open(log_filename) as f:\n",
    "    print(f.read())"
   ]
  }
 ],
 "metadata": {
  "kernelspec": {
   "display_name": "Python 3 (ipykernel)",
   "language": "python",
   "name": "python3"
  },
  "language_info": {
   "codemirror_mode": {
    "name": "ipython",
    "version": 3
   },
   "file_extension": ".py",
   "mimetype": "text/x-python",
   "name": "python",
   "nbconvert_exporter": "python",
   "pygments_lexer": "ipython3",
   "version": "3.10.12"
  }
 },
 "nbformat": 4,
 "nbformat_minor": 5
}
