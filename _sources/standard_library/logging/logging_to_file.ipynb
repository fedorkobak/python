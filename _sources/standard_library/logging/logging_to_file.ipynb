{
 "cells": [
  {
   "cell_type": "markdown",
   "id": "53fe8249-ddc1-4b70-98d7-ae5dffef157a",
   "metadata": {},
   "source": [
    "# Logging to file"
   ]
  },
  {
   "cell_type": "markdown",
   "id": "863425a9-c559-4509-8909-7ce1fddb48b0",
   "metadata": {},
   "source": [
    "It's usually more convenient to set up a file to store logs in. This page focuses on the aspect of writing logs to the files."
   ]
  },
  {
   "cell_type": "markdown",
   "id": "d237d9e2-03ef-4506-8c5e-ad11c624f34e",
   "metadata": {},
   "source": [
    "## Many logs to same file"
   ]
  },
  {
   "cell_type": "markdown",
   "id": "bd5facc9-4ec6-4978-9c28-6f7ac750538f",
   "metadata": {},
   "source": [
    "Is it possible to store different logs in the same file? So in the following exmaple I create 20 loggers and bind them to the same file. Then I make 50 log messages each from random loggers. After that I output the resulting file. Everything is fine."
   ]
  },
  {
   "cell_type": "code",
   "execution_count": 10,
   "id": "bcb6f028-39fe-49b5-85d9-c0435149a4b4",
   "metadata": {},
   "outputs": [
    {
     "name": "stdout",
     "output_type": "stream",
     "text": [
      "Iteration0|2024-04-17 00:16:17,057|ERROR|logger 8\n",
      "Iteration1|2024-04-17 00:16:17,058|ERROR|logger 7\n",
      "Iteration2|2024-04-17 00:16:17,058|ERROR|logger 5\n",
      "Iteration3|2024-04-17 00:16:17,058|ERROR|logger 16\n",
      "Iteration4|2024-04-17 00:16:17,058|ERROR|logger 6\n",
      "Iteration5|2024-04-17 00:16:17,058|ERROR|logger 10\n",
      "Iteration6|2024-04-17 00:16:17,058|ERROR|logger 15\n",
      "Iteration7|2024-04-17 00:16:17,058|ERROR|logger 2\n",
      "Iteration8|2024-04-17 00:16:17,058|ERROR|logger 18\n",
      "Iteration9|2024-04-17 00:16:17,058|ERROR|logger 6\n",
      "Iteration10|2024-04-17 00:16:17,058|ERROR|logger 5\n",
      "Iteration11|2024-04-17 00:16:17,058|ERROR|logger 16\n",
      "Iteration12|2024-04-17 00:16:17,058|ERROR|logger 4\n",
      "Iteration13|2024-04-17 00:16:17,058|ERROR|logger 12\n",
      "Iteration14|2024-04-17 00:16:17,058|ERROR|logger 11\n",
      "Iteration15|2024-04-17 00:16:17,058|ERROR|logger 3\n",
      "Iteration16|2024-04-17 00:16:17,058|ERROR|logger 13\n",
      "Iteration17|2024-04-17 00:16:17,058|ERROR|logger 0\n",
      "Iteration18|2024-04-17 00:16:17,058|ERROR|logger 8\n",
      "Iteration19|2024-04-17 00:16:17,058|ERROR|logger 14\n",
      "Iteration20|2024-04-17 00:16:17,058|ERROR|logger 14\n",
      "Iteration21|2024-04-17 00:16:17,058|ERROR|logger 9\n",
      "Iteration22|2024-04-17 00:16:17,059|ERROR|logger 8\n",
      "Iteration23|2024-04-17 00:16:17,059|ERROR|logger 13\n",
      "Iteration24|2024-04-17 00:16:17,059|ERROR|logger 6\n",
      "Iteration25|2024-04-17 00:16:17,059|ERROR|logger 12\n",
      "Iteration26|2024-04-17 00:16:17,059|ERROR|logger 11\n",
      "Iteration27|2024-04-17 00:16:17,059|ERROR|logger 1\n",
      "Iteration28|2024-04-17 00:16:17,059|ERROR|logger 17\n",
      "Iteration29|2024-04-17 00:16:17,059|ERROR|logger 7\n",
      "Iteration30|2024-04-17 00:16:17,059|ERROR|logger 9\n",
      "Iteration31|2024-04-17 00:16:17,059|ERROR|logger 15\n",
      "Iteration32|2024-04-17 00:16:17,059|ERROR|logger 14\n",
      "Iteration33|2024-04-17 00:16:17,059|ERROR|logger 5\n",
      "Iteration34|2024-04-17 00:16:17,059|ERROR|logger 10\n",
      "Iteration35|2024-04-17 00:16:17,059|ERROR|logger 9\n",
      "Iteration36|2024-04-17 00:16:17,059|ERROR|logger 9\n",
      "Iteration37|2024-04-17 00:16:17,059|ERROR|logger 12\n",
      "Iteration38|2024-04-17 00:16:17,059|ERROR|logger 5\n",
      "Iteration39|2024-04-17 00:16:17,059|ERROR|logger 12\n",
      "Iteration40|2024-04-17 00:16:17,059|ERROR|logger 3\n",
      "Iteration41|2024-04-17 00:16:17,059|ERROR|logger 7\n",
      "Iteration42|2024-04-17 00:16:17,059|ERROR|logger 7\n",
      "Iteration43|2024-04-17 00:16:17,059|ERROR|logger 15\n",
      "Iteration44|2024-04-17 00:16:17,060|ERROR|logger 10\n",
      "Iteration45|2024-04-17 00:16:17,060|ERROR|logger 9\n",
      "Iteration46|2024-04-17 00:16:17,060|ERROR|logger 8\n",
      "Iteration47|2024-04-17 00:16:17,060|ERROR|logger 18\n",
      "Iteration48|2024-04-17 00:16:17,060|ERROR|logger 2\n",
      "Iteration49|2024-04-17 00:16:17,060|ERROR|logger 19\n",
      "\n"
     ]
    }
   ],
   "source": [
    "log_filename = \"logging_files/manylog_samefile.log\"\n",
    "logs_count = 20\n",
    "loggers = []\n",
    "\n",
    "for i in range(logs_count):\n",
    "    loger_name = f\"logger {i}\"\n",
    "    basic_logger = logging.getLogger(loger_name)\n",
    "    basic_logger.level = logging.INFO\n",
    "    handler = logging.FileHandler(log_filename, mode='a')\n",
    "    handler.setFormatter(\n",
    "        logging.Formatter('%(message)s|%(asctime)s|%(levelname)s|%(name)s')\n",
    "    )\n",
    "    basic_logger.addHandler(handler)\n",
    "    loggers.append(basic_logger)\n",
    "\n",
    "for i in range(0,50):\n",
    "    loggers[random.randint(0, logs_count - 1)].error(f\"Iteration{i}\")\n",
    "\n",
    "with open(log_filename) as f:\n",
    "    print(f.read())\n",
    "os.remove(log_filename)"
   ]
  },
  {
   "cell_type": "markdown",
   "id": "64e40e05-c751-44d5-916d-e71beebae3e2",
   "metadata": {},
   "source": [
    "In this case it's important to use mode `mode='a'` for the file handler. The following cell is the same as the previous one, but uses `mode='w'` instead of `mode='a'`. Something is wrong with the logger in this case."
   ]
  },
  {
   "cell_type": "code",
   "execution_count": 9,
   "id": "3de816d2-d71a-4944-b0b1-53b3806af237",
   "metadata": {},
   "outputs": [
    {
     "name": "stdout",
     "output_type": "stream",
     "text": [
      "Iteration48|2024-04-17 00:16:13,111|ERROR|logger 0\n",
      "Iteration47|2024-04-17 00:16:13,111|ERROR|logger 6\n",
      "IIteration45|2024-04-17 00:16:13,110|ERROR|logger 13\n",
      "Iteration44|2024-04-17 00:16:13,110|ERROR|logger Iteration49|2024-04-17 00:16:13,111|ERROR|logger 5\n",
      "\n"
     ]
    }
   ],
   "source": [
    "log_filename = \"logging_files/manylog_samefile.log\"\n",
    "logs_count = 20\n",
    "loggers = []\n",
    "\n",
    "for i in range(logs_count):\n",
    "    loger_name = f\"logger {i}\"\n",
    "    basic_logger = logging.getLogger(loger_name)\n",
    "    basic_logger.level = logging.INFO\n",
    "    handler = logging.FileHandler(log_filename, mode='w')\n",
    "    handler.setFormatter(\n",
    "        logging.Formatter('%(message)s|%(asctime)s|%(levelname)s|%(name)s')\n",
    "    )\n",
    "    basic_logger.addHandler(handler)\n",
    "    loggers.append(basic_logger)\n",
    "\n",
    "for i in range(0,50):\n",
    "    loggers[random.randint(0, logs_count - 1)].error(f\"Iteration{i}\")\n",
    "\n",
    "with open(log_filename) as f:\n",
    "    print(f.read())\n",
    "os.remove(log_filename)"
   ]
  }
 ],
 "metadata": {
  "kernelspec": {
   "display_name": "Python 3 (ipykernel)",
   "language": "python",
   "name": "python3"
  },
  "language_info": {
   "codemirror_mode": {
    "name": "ipython",
    "version": 3
   },
   "file_extension": ".py",
   "mimetype": "text/x-python",
   "name": "python",
   "nbconvert_exporter": "python",
   "pygments_lexer": "ipython3",
   "version": "3.10.12"
  }
 },
 "nbformat": 4,
 "nbformat_minor": 5
}
