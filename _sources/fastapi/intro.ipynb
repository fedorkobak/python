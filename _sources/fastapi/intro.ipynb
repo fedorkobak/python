{
 "cells": [
  {
   "cell_type": "markdown",
   "id": "39f46a00-0722-4172-8914-4a94b6f344b7",
   "metadata": {},
   "source": [
    "# Intro\n",
    "\n",
    "`fastapi` is a python library that allows you to build APIs on top of python."
   ]
  },
  {
   "cell_type": "markdown",
   "id": "3f3c9665-1161-41e9-bbd9-12626aea0266",
   "metadata": {},
   "source": [
    "Find out more here:\n",
    "\n",
    "- [Introductory and tutorials on fastapi](https://fastapi.tiangolo.com/learn/)."
   ]
  },
  {
   "cell_type": "code",
   "execution_count": 3,
   "id": "e1e835c9",
   "metadata": {},
   "outputs": [],
   "source": [
    "import requests"
   ]
  },
  {
   "cell_type": "markdown",
   "id": "a9a81842-e48b-4a55-9828-0c080250af7e",
   "metadata": {},
   "source": [
    "## Run application\n",
    "\n",
    "To ensure all notebooks on this site are runnable, I've implemented a solution using Docker containers. This approach allows for efficient execution and prevents notebook cell stacking, providing a seamless experience.  Below is a comprehensive list of requirements for running the application.\n",
    "\n",
    "For detailed instructions on running a FastAPI application, please refer to the [specific page](run_application.ipynb)."
   ]
  },
  {
   "cell_type": "markdown",
   "id": "af509920",
   "metadata": {},
   "source": [
    "---"
   ]
  },
  {
   "cell_type": "markdown",
   "id": "1e5d9983",
   "metadata": {},
   "source": [
    "If you haven't already built a container with your FastAPI application, you'll need to do so. "
   ]
  },
  {
   "cell_type": "code",
   "execution_count": null,
   "id": "0cda66b0",
   "metadata": {},
   "outputs": [],
   "source": [
    "!docker build -t fastapi_experiment fastapi/run_application_files"
   ]
  },
  {
   "cell_type": "markdown",
   "id": "3bdeb715",
   "metadata": {},
   "source": [
    "\n",
    "Create a file containing the application you want to play with. "
   ]
  },
  {
   "cell_type": "code",
   "execution_count": 4,
   "id": "1fd0f2cb",
   "metadata": {},
   "outputs": [
    {
     "name": "stdout",
     "output_type": "stream",
     "text": [
      "Overwriting fastapi/run_application_files/get_started.py\n"
     ]
    }
   ],
   "source": [
    "%%writefile fastapi/run_application_files/get_started.py\n",
    "from fastapi import FastAPI\n",
    "\n",
    "my_first_app = FastAPI()\n",
    "\n",
    "@my_first_app.get(\"/\")\n",
    "def say_hello():\n",
    "    return \"hello\""
   ]
  },
  {
   "cell_type": "markdown",
   "id": "dfdcc0e7",
   "metadata": {},
   "source": [
    "Now you need to start the container.  There are a few important features to consider: \n",
    "\n",
    "* **`-v` option:**  Specifies the location of the file containing your program, allowing you to substitute a specific file.\n",
    "* **Command to execute:** `uvicorn --host 0.0.0.0 --reload get_started:my_first_app`\n",
    "    * **`--host 0.0.0.0`:**  Makes the API accessible from the host.\n",
    "    * **`--reload`:**  Automatically applies changes to the API whenever you modify the application file. \n"
   ]
  },
  {
   "cell_type": "code",
   "execution_count": 5,
   "id": "38604ef9",
   "metadata": {},
   "outputs": [],
   "source": [
    "!docker run --rm -itd\\\n",
    "    --name test_container\\\n",
    "    -v ./fastapi/run_application_files/get_started.py:/get_started.py\\\n",
    "    -p 8000:8000 \\\n",
    "    fastapi_experiment \\\n",
    "    uvicorn --host 0.0.0.0 --reload get_started:my_first_app >/dev/null"
   ]
  },
  {
   "cell_type": "markdown",
   "id": "e9b49f5b",
   "metadata": {},
   "source": [
    "Now you can test that everything is working correctly by making a request to the newly created API. "
   ]
  },
  {
   "cell_type": "code",
   "execution_count": 12,
   "id": "16124467",
   "metadata": {},
   "outputs": [
    {
     "data": {
      "text/plain": [
       "b'\"hello\"'"
      ]
     },
     "execution_count": 12,
     "metadata": {},
     "output_type": "execute_result"
    }
   ],
   "source": [
    "requests.get(\"http://localhost:8000/\").content"
   ]
  },
  {
   "cell_type": "markdown",
   "id": "2db809cb",
   "metadata": {},
   "source": [
    "We received a response that matches the code we just wrote."
   ]
  },
  {
   "cell_type": "markdown",
   "id": "3e99165f",
   "metadata": {},
   "source": [
    "Finally, don't forget to stop the container when you're finished. "
   ]
  },
  {
   "cell_type": "code",
   "execution_count": 14,
   "id": "e1e46242",
   "metadata": {},
   "outputs": [
    {
     "name": "stdout",
     "output_type": "stream",
     "text": [
      "test_container\n"
     ]
    }
   ],
   "source": [
    "!docker stop test_container"
   ]
  },
  {
   "cell_type": "markdown",
   "id": "54c5cce4",
   "metadata": {},
   "source": [
    "## Requests\n",
    "\n",
    "There are numerous ways to organize requests to an application. This section presents different options. For more details check [sepcific page](requests.ipynb)."
   ]
  },
  {
   "cell_type": "markdown",
   "id": "51492da8",
   "metadata": {},
   "source": [
    "---\n",
    "\n",
    "The following cell defines an application that requires query parameters as part of the request. These parameters, `a: int` and `b: str`, are specified in the function decorated as an endpoint. The function returns a message that corresponds to the provided arguments."
   ]
  },
  {
   "cell_type": "code",
   "execution_count": 10,
   "id": "802559b5",
   "metadata": {},
   "outputs": [
    {
     "name": "stdout",
     "output_type": "stream",
     "text": [
      "Overwriting fastapi/run_application_files/get_started.py\n"
     ]
    }
   ],
   "source": [
    "%%writefile fastapi/run_application_files/get_started.py\n",
    "from fastapi import FastAPI\n",
    "\n",
    "my_first_app = FastAPI()\n",
    "\n",
    "@my_first_app.get(\"/\")\n",
    "def index(a: int, b: str):\n",
    "    return f\"a = {a}, b = {b}\""
   ]
  },
  {
   "cell_type": "markdown",
   "id": "f132258d",
   "metadata": {},
   "source": [
    "Now we need to make a request to the API with the query parameters `a` and `b` defined."
   ]
  },
  {
   "cell_type": "code",
   "execution_count": 11,
   "id": "2475ea97",
   "metadata": {},
   "outputs": [
    {
     "data": {
      "text/plain": [
       "b'\"a = 3, b = name\"'"
      ]
     },
     "execution_count": 11,
     "metadata": {},
     "output_type": "execute_result"
    }
   ],
   "source": [
    "requests.get(\"http://localhost:8000/?a=3&b=name\").content"
   ]
  },
  {
   "cell_type": "markdown",
   "id": "dac83432",
   "metadata": {},
   "source": [
    "As a result, we received a response that contains the specified inputs."
   ]
  },
  {
   "cell_type": "markdown",
   "id": "a4088d31",
   "metadata": {},
   "source": [
    "## Responses\n",
    "\n",
    "FastAPI handles API output, returning Python objects or using special wrappers. Output annotations also play a role. For more details check [special page](return_values.ipynb)."
   ]
  },
  {
   "cell_type": "markdown",
   "id": "c27964a8",
   "metadata": {},
   "source": [
    "---\n",
    "\n",
    "The following example shows an API that returns a simple Python dictionary as its output. "
   ]
  },
  {
   "cell_type": "code",
   "execution_count": 25,
   "id": "3bb6194c",
   "metadata": {},
   "outputs": [
    {
     "name": "stdout",
     "output_type": "stream",
     "text": [
      "Overwriting fastapi/run_application_files/get_started.py\n"
     ]
    }
   ],
   "source": [
    "%%writefile fastapi/run_application_files/get_started.py\n",
    "from fastapi import FastAPI\n",
    "\n",
    "my_first_app = FastAPI()\n",
    "\n",
    "@my_first_app.get(\"/\")\n",
    "def get_dict():\n",
    "    return {\"a\": \"value\", \"b\": 32}"
   ]
  },
  {
   "cell_type": "markdown",
   "id": "787cc65e",
   "metadata": {},
   "source": [
    "If we request this API, we would receive the corresponding JSON data in response."
   ]
  },
  {
   "cell_type": "code",
   "execution_count": 37,
   "id": "20ef2485",
   "metadata": {},
   "outputs": [
    {
     "data": {
      "text/plain": [
       "b'{\"a\":\"value\",\"b\":32}'"
      ]
     },
     "execution_count": 37,
     "metadata": {},
     "output_type": "execute_result"
    }
   ],
   "source": [
    "requests.get(\"http://localhost:8000\").content"
   ]
  },
  {
   "cell_type": "markdown",
   "id": "60bd02dd",
   "metadata": {},
   "source": [
    "## Logging\n",
    "\n",
    "Uvicorn and FastAPI generate their own logs. It's useful to configure these logs to follow the same rules as the logs for the rest of the program.\n",
    "\n",
    "For details check [this page](logging.ipynb)."
   ]
  },
  {
   "cell_type": "markdown",
   "id": "d26e9001",
   "metadata": {},
   "source": [
    "---\n",
    "\n",
    "The following cell shows option how you can check logs of the fastAPI application. And shows you typical fastapi logs."
   ]
  },
  {
   "cell_type": "code",
   "execution_count": 6,
   "id": "a4f25212",
   "metadata": {},
   "outputs": [
    {
     "name": "stdout",
     "output_type": "stream",
     "text": [
      "\u001b[32mINFO\u001b[0m:     Will watch for changes in these directories: ['/']\n",
      "\u001b[32mINFO\u001b[0m:     Uvicorn running on \u001b[1mhttp://0.0.0.0:8000\u001b[0m (Press CTRL+C to quit)\n",
      "\u001b[32mINFO\u001b[0m:     Started reloader process [\u001b[36m\u001b[1m1\u001b[0m] using \u001b[36m\u001b[1mStatReload\u001b[0m\n",
      "\u001b[32mINFO\u001b[0m:     Started server process [\u001b[36m8\u001b[0m]\n",
      "\u001b[32mINFO\u001b[0m:     Waiting for application startup.\n",
      "\u001b[32mINFO\u001b[0m:     Application startup complete.\n"
     ]
    }
   ],
   "source": [
    "!docker logs test_container"
   ]
  },
  {
   "cell_type": "markdown",
   "id": "5cbed04f",
   "metadata": {},
   "source": [
    "Now let's try to send a request to the application and check its logs after the request."
   ]
  },
  {
   "cell_type": "code",
   "execution_count": 8,
   "id": "269ae2fe",
   "metadata": {},
   "outputs": [
    {
     "data": {
      "text/plain": [
       "<Response [200]>"
      ]
     },
     "execution_count": 8,
     "metadata": {},
     "output_type": "execute_result"
    }
   ],
   "source": [
    "requests.get(\"http://localhost:8000/\")"
   ]
  },
  {
   "cell_type": "code",
   "execution_count": 9,
   "id": "ac34d341",
   "metadata": {},
   "outputs": [
    {
     "name": "stdout",
     "output_type": "stream",
     "text": [
      "\u001b[32mINFO\u001b[0m:     Will watch for changes in these directories: ['/']\n",
      "\u001b[32mINFO\u001b[0m:     Uvicorn running on \u001b[1mhttp://0.0.0.0:8000\u001b[0m (Press CTRL+C to quit)\n",
      "\u001b[32mINFO\u001b[0m:     Started reloader process [\u001b[36m\u001b[1m1\u001b[0m] using \u001b[36m\u001b[1mStatReload\u001b[0m\n",
      "\u001b[32mINFO\u001b[0m:     Started server process [\u001b[36m8\u001b[0m]\n",
      "\u001b[32mINFO\u001b[0m:     Waiting for application startup.\n",
      "\u001b[32mINFO\u001b[0m:     Application startup complete.\n",
      "\u001b[32mINFO\u001b[0m:     172.17.0.1:54964 - \"\u001b[1mGET / HTTP/1.1\u001b[0m\" \u001b[32m200 OK\u001b[0m\n"
     ]
    }
   ],
   "source": [
    "!docker logs test_container"
   ]
  },
  {
   "cell_type": "markdown",
   "id": "afc0ffd8",
   "metadata": {},
   "source": [
    "So there is a new line in the application logs."
   ]
  },
  {
   "cell_type": "markdown",
   "id": "cd0c733e",
   "metadata": {},
   "source": [
    "## Cache\n",
    "\n",
    "A common way to optimize applications is by using caching, which involves storing the outputs of certain processes for a set period. For FastAPI, the [`fastapi_cache`](https://github.com/long2ice/fastapi-cache) library provides a convenient way to implement caching, simplifying the process significantly.\n",
    "\n",
    "For more details check [corresponding page](cache.ipynb)."
   ]
  },
  {
   "cell_type": "markdown",
   "id": "5b8fbcab",
   "metadata": {},
   "source": [
    "---\n",
    "\n",
    "Consider an example of a very basic program using `fastapi_cache`. **Note:** running this program requires setup described in the [specific page](cache.ipynb).\n",
    "\n",
    "By design, this programme returns a random number in response to a query on the root path."
   ]
  },
  {
   "cell_type": "code",
   "execution_count": 9,
   "id": "56862ef1",
   "metadata": {},
   "outputs": [
    {
     "name": "stdout",
     "output_type": "stream",
     "text": [
      "Overwriting fastapi/cache_files/app.py\n"
     ]
    }
   ],
   "source": [
    "%%writefile fastapi/cache_files/app.py\n",
    "from random import random\n",
    "\n",
    "from fastapi import FastAPI\n",
    "\n",
    "from fastapi_cache import FastAPICache\n",
    "from fastapi_cache.decorator import cache\n",
    "from fastapi_cache.backends.redis import RedisBackend\n",
    "\n",
    "from redis import asyncio as aioredis\n",
    "\n",
    "redis = aioredis.from_url(\"redis://localhost:6380\")\n",
    "FastAPICache.init(RedisBackend(redis), prefix=\"fastapi-cache\")\n",
    "\n",
    "app = FastAPI()\n",
    "\n",
    "@app.get(\"/\")\n",
    "@cache(expire=600)\n",
    "def index():\n",
    "    return random()"
   ]
  },
  {
   "cell_type": "markdown",
   "id": "81b457b6",
   "metadata": {},
   "source": [
    "The following cell runs API."
   ]
  },
  {
   "cell_type": "code",
   "execution_count": 10,
   "id": "c906fffb",
   "metadata": {},
   "outputs": [],
   "source": [
    "%%bash\n",
    "cd fastapi/cache_files/\n",
    "docker compose up -d &> /dev/null"
   ]
  },
  {
   "cell_type": "markdown",
   "id": "23127f32",
   "metadata": {},
   "source": [
    "Now we can try to access ot it's endpoint."
   ]
  },
  {
   "cell_type": "code",
   "execution_count": 12,
   "id": "ee154c35",
   "metadata": {},
   "outputs": [
    {
     "name": "stdout",
     "output_type": "stream",
     "text": [
      "0.23100308576336648\n",
      "0.23100308576336648"
     ]
    }
   ],
   "source": [
    "%%bash\n",
    "curl -s localhost:8000\n",
    "echo\n",
    "curl -s localhost:8000"
   ]
  },
  {
   "cell_type": "markdown",
   "id": "424ba9aa",
   "metadata": {},
   "source": [
    "Subsequent requests will be identical to the first, as the value has been cached."
   ]
  },
  {
   "cell_type": "code",
   "execution_count": 13,
   "id": "af5e2da8",
   "metadata": {},
   "outputs": [],
   "source": [
    "%%bash\n",
    "cd fastapi/cache_files/\n",
    "docker compose down &> /dev/null"
   ]
  }
 ],
 "metadata": {
  "kernelspec": {
   "display_name": "Python 3",
   "language": "python",
   "name": "python3"
  },
  "language_info": {
   "codemirror_mode": {
    "name": "ipython",
    "version": 3
   },
   "file_extension": ".py",
   "mimetype": "text/x-python",
   "name": "python",
   "nbconvert_exporter": "python",
   "pygments_lexer": "ipython3",
   "version": "3.10.12"
  }
 },
 "nbformat": 4,
 "nbformat_minor": 5
}
