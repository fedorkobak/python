{
 "cells": [
  {
   "cell_type": "markdown",
   "metadata": {},
   "source": [
    "# Cache\n",
    "\n",
    "A common way to optimize applications is by using caching, which involves storing the outputs of certain processes for a set period. For FastAPI, the [`fastapi_cache`](https://github.com/long2ice/fastapi-cache) library provides a convenient way to implement caching, simplifying the process significantly."
   ]
  },
  {
   "cell_type": "code",
   "execution_count": 1,
   "metadata": {},
   "outputs": [],
   "source": [
    "from random import random\n",
    "\n",
    "from fastapi import FastAPI\n",
    "\n",
    "from fastapi.responses import JSONResponse\n",
    "from fastapi.exceptions import HTTPException\n",
    "\n",
    "from fastapi_cache import FastAPICache\n",
    "from fastapi_cache.decorator import cache\n",
    "from fastapi_cache.backends.redis import RedisBackend\n",
    "\n",
    "from httpx import AsyncClient\n",
    "from redis import asyncio as aioredis"
   ]
  },
  {
   "cell_type": "markdown",
   "metadata": {},
   "source": [
    "For testing, we need a cache backend. Here, we'll use Redis in a Docker container—the following cell creates this container."
   ]
  },
  {
   "cell_type": "code",
   "execution_count": 2,
   "metadata": {},
   "outputs": [],
   "source": [
    "import docker\n",
    "docker_client = docker.from_env()\n",
    "\n",
    "container = docker_client.containers.run(\n",
    "    image=\"redis:7.4.0\",\n",
    "    name=\"fastapi_chache_test_redis\",\n",
    "    detach=True,\n",
    "    remove=True,\n",
    "    ports={6379: 6380}\n",
    ")"
   ]
  },
  {
   "cell_type": "markdown",
   "metadata": {},
   "source": [
    "Let's try gotten redis backend."
   ]
  },
  {
   "cell_type": "code",
   "execution_count": 3,
   "metadata": {},
   "outputs": [
    {
     "data": {
      "text/plain": [
       "True"
      ]
     },
     "execution_count": 3,
     "metadata": {},
     "output_type": "execute_result"
    }
   ],
   "source": [
    "redis_client = aioredis.from_url(\"redis://localhost:6380\")\n",
    "await redis_client.ping()"
   ]
  },
  {
   "cell_type": "markdown",
   "metadata": {},
   "source": [
    "The following line is crucial—it initializes `FastAPICache`. It's typical to use this initialization within the `lifespan` function of your application."
   ]
  },
  {
   "cell_type": "code",
   "execution_count": 4,
   "metadata": {},
   "outputs": [],
   "source": [
    "FastAPICache.init(RedisBackend(redis_client), prefix=\"fastapi-cache\")"
   ]
  },
  {
   "cell_type": "markdown",
   "metadata": {},
   "source": [
    "**Note:** Don't forget to stop the Docker container with Redis after you're done."
   ]
  },
  {
   "cell_type": "code",
   "execution_count": 15,
   "metadata": {},
   "outputs": [],
   "source": [
    "container.stop()"
   ]
  },
  {
   "cell_type": "markdown",
   "metadata": {},
   "source": [
    "## Check cache\n",
    "\n",
    "Caching isn't magic; you can find your cached records in the backend you're using."
   ]
  },
  {
   "cell_type": "markdown",
   "metadata": {},
   "source": [
    "---\n",
    "\n",
    "The following example defines a program that returns a random value each time you access the endpoint, requiring you to specify a `user_id`. "
   ]
  },
  {
   "cell_type": "code",
   "execution_count": 5,
   "metadata": {},
   "outputs": [],
   "source": [
    "app = FastAPI()\n",
    "\n",
    "@app.get(\"/{id}\")\n",
    "@cache(expire=600)\n",
    "def index(id: int):\n",
    "    return random()"
   ]
  },
  {
   "cell_type": "markdown",
   "metadata": {},
   "source": [
    "The following code executes the application and makes requests using different IDs, with each ID being requested twice."
   ]
  },
  {
   "cell_type": "code",
   "execution_count": 6,
   "metadata": {},
   "outputs": [
    {
     "data": {
      "text/plain": [
       "b'0.45806010585100077'"
      ]
     },
     "metadata": {},
     "output_type": "display_data"
    },
    {
     "data": {
      "text/plain": [
       "b'0.45806010585100077'"
      ]
     },
     "metadata": {},
     "output_type": "display_data"
    },
    {
     "data": {
      "text/plain": [
       "b'0.8354224226556365'"
      ]
     },
     "metadata": {},
     "output_type": "display_data"
    },
    {
     "data": {
      "text/plain": [
       "b'0.8354224226556365'"
      ]
     },
     "metadata": {},
     "output_type": "display_data"
    }
   ],
   "source": [
    "async with AsyncClient(app=app, base_url=\"http://test\") as ac:\n",
    "    content10_1 = (await ac.get(\"/10\")).content\n",
    "    content10_2 = (await ac.get(\"/10\")).content\n",
    "\n",
    "    content20_1 = (await ac.get(\"/20\")).content\n",
    "    content20_2 = (await ac.get(\"/20\")).content\n",
    "\n",
    "display(content10_1)\n",
    "display(content10_2)\n",
    "\n",
    "display(content20_1)\n",
    "display(content20_2)"
   ]
  },
  {
   "cell_type": "markdown",
   "metadata": {},
   "source": [
    "As a result, requests with the same IDs return the same numbers, demonstrating that caching is working."
   ]
  },
  {
   "cell_type": "markdown",
   "metadata": {},
   "source": [
    "Let's check the keys available in the experimental Redis database and the values corresponding to them."
   ]
  },
  {
   "cell_type": "code",
   "execution_count": 7,
   "metadata": {},
   "outputs": [
    {
     "name": "stdout",
     "output_type": "stream",
     "text": [
      "fastapi-cache::1ef05260a7f5a4b566cd6a44d5147ea7: 0.8354224226556365\n",
      "fastapi-cache::83ad8bee65395e62425345c322d43f64: 0.45806010585100077\n"
     ]
    }
   ],
   "source": [
    "keys = await redis_client.keys(\"*\")\n",
    "\n",
    "values = await redis_client.mget(keys)\n",
    "for key, value in zip(keys, values):\n",
    "    print(f\"{key.decode('utf-8')}: {value.decode('utf-8')}\")"
   ]
  },
  {
   "cell_type": "markdown",
   "metadata": {},
   "source": [
    "The values retrieved from Redis match the values we received from the API responses."
   ]
  },
  {
   "cell_type": "markdown",
   "metadata": {},
   "source": [
    "## Query params\n",
    "\n",
    "You can also use query parameters with `fastapi_cache`. Each unique combination of query parameters will have its own cached variable."
   ]
  },
  {
   "cell_type": "markdown",
   "metadata": {},
   "source": [
    "---\n",
    "\n",
    "The following API defines an endpoint that uses query parameters."
   ]
  },
  {
   "cell_type": "code",
   "execution_count": 8,
   "metadata": {},
   "outputs": [],
   "source": [
    "app = FastAPI()\n",
    "\n",
    "@app.get(\"/\")\n",
    "@cache(expire=600)\n",
    "def index(id: int):\n",
    "    return random()"
   ]
  },
  {
   "cell_type": "markdown",
   "metadata": {},
   "source": [
    "Now let's try passing different query parameters to the API."
   ]
  },
  {
   "cell_type": "code",
   "execution_count": 9,
   "metadata": {},
   "outputs": [
    {
     "data": {
      "text/plain": [
       "b'0.33010852478769437'"
      ]
     },
     "metadata": {},
     "output_type": "display_data"
    },
    {
     "data": {
      "text/plain": [
       "b'0.33010852478769437'"
      ]
     },
     "metadata": {},
     "output_type": "display_data"
    },
    {
     "data": {
      "text/plain": [
       "b'0.41410719388169837'"
      ]
     },
     "metadata": {},
     "output_type": "display_data"
    },
    {
     "data": {
      "text/plain": [
       "b'0.41410719388169837'"
      ]
     },
     "metadata": {},
     "output_type": "display_data"
    }
   ],
   "source": [
    "async with AsyncClient(app=app, base_url=\"http://test\") as ac:\n",
    "    content_id50_1 = (await ac.get(\"/?id=50\")).content\n",
    "    content_id50_2 = (await ac.get(\"/?id=50\")).content\n",
    "\n",
    "    content_id60_1 = (await ac.get(\"/?id=60\")).content\n",
    "    content_id60_2 = (await ac.get(\"/?id=60\")).content\n",
    "\n",
    "display(content_id50_1)\n",
    "display(content_id50_2)\n",
    "\n",
    "display(content_id60_1)\n",
    "display(content_id60_2)"
   ]
  },
  {
   "cell_type": "markdown",
   "metadata": {},
   "source": [
    "Different query parameters will produce different results. However, identical sets of query parameters will return the same values due to caching."
   ]
  },
  {
   "cell_type": "markdown",
   "metadata": {},
   "source": [
    "## Wrong backend\n",
    "\n",
    "It's interesting to note that if you define an incorrect backend for your application, everything will work fine except for caching, of course."
   ]
  },
  {
   "cell_type": "markdown",
   "metadata": {},
   "source": [
    "---\n",
    "\n",
    "The following cell defines an application that first resets `FastAPICache` and then redefines it with a non-existent Redis backend."
   ]
  },
  {
   "cell_type": "code",
   "execution_count": 10,
   "metadata": {},
   "outputs": [],
   "source": [
    "wrong_client = aioredis.from_url(\"redis://this_host_doesnt_exist:7777\")\n",
    "FastAPICache.reset()\n",
    "FastAPICache.init(RedisBackend(wrong_client), prefix=\"fastapi-cache\")\n",
    "\n",
    "app = FastAPI()\n",
    "\n",
    "@app.get(\"/\")\n",
    "@cache(expire=600)\n",
    "def index():\n",
    "    return random()"
   ]
  },
  {
   "cell_type": "markdown",
   "metadata": {},
   "source": [
    "The following cell shows that appliactoin actually answers requests but caching doesn't work."
   ]
  },
  {
   "cell_type": "code",
   "execution_count": 18,
   "metadata": {},
   "outputs": [
    {
     "name": "stdout",
     "output_type": "stream",
     "text": [
      "b'0.37765920837730704'\n",
      "b'0.05150428134172702'\n"
     ]
    }
   ],
   "source": [
    "async with AsyncClient(app=app, base_url=\"http://test\") as ac:\n",
    "    print((await ac.get(\"/\")).content)\n",
    "    print((await ac.get(\"/\")).content)"
   ]
  },
  {
   "cell_type": "markdown",
   "metadata": {},
   "source": [
    "After this example, you'll need to revert the `FastAPICache` initialization to ensure that other examples work correctly."
   ]
  },
  {
   "cell_type": "code",
   "execution_count": 19,
   "metadata": {},
   "outputs": [],
   "source": [
    "FastAPICache.reset()\n",
    "FastAPICache.init(RedisBackend(redis_client), prefix=\"fastapi-cache\")"
   ]
  },
  {
   "cell_type": "markdown",
   "metadata": {},
   "source": [
    "## Key builder\n",
    "\n",
    "A special function that generates keys to be used in Redis for caching. You can get default `key_builder` by using `FastAPICache.get_key_builder` method of the initialised `FastAPICache`."
   ]
  },
  {
   "cell_type": "markdown",
   "metadata": {},
   "source": [
    "---\n",
    "\n",
    "The following cell demonstrates how to retrieve the default `key_builder` and even calls it with an incomplete set of arguments."
   ]
  },
  {
   "cell_type": "code",
   "execution_count": 20,
   "metadata": {},
   "outputs": [
    {
     "data": {
      "text/plain": [
       "':f0a9508ba2bac36e3742d56a5c0859cb'"
      ]
     },
     "execution_count": 20,
     "metadata": {},
     "output_type": "execute_result"
    }
   ],
   "source": [
    "key_builder = FastAPICache.get_key_builder()\n",
    "def test_function():\n",
    "    pass\n",
    "key_builder(func=test_function, args=[], kwargs={})"
   ]
  },
  {
   "cell_type": "markdown",
   "metadata": {},
   "source": [
    "As a result, a random hash is generated."
   ]
  },
  {
   "cell_type": "markdown",
   "metadata": {},
   "source": [
    "## Exceptions caching\n",
    "\n",
    "`fastapi_cache` does not provide caching of exceptions. Therefore, if your code throws an exception, each subsequent call to the same endpoint will re-execute all code leading up to the exception."
   ]
  },
  {
   "cell_type": "markdown",
   "metadata": {},
   "source": [
    "---\n",
    "\n",
    "The following code provides an application that throws an exception every time it's called. The exception message is generated randomly."
   ]
  },
  {
   "cell_type": "code",
   "execution_count": 21,
   "metadata": {},
   "outputs": [],
   "source": [
    "app = FastAPI()\n",
    "\n",
    "@app.get(\"/\")\n",
    "@cache(expire=600)\n",
    "def index():\n",
    "    raise HTTPException(500, str(random()))"
   ]
  },
  {
   "cell_type": "markdown",
   "metadata": {},
   "source": [
    "Each call to the API results in an error with a different message."
   ]
  },
  {
   "cell_type": "code",
   "execution_count": 22,
   "metadata": {},
   "outputs": [
    {
     "name": "stdout",
     "output_type": "stream",
     "text": [
      "b'{\"detail\":\"0.2278803117705277\"}'\n"
     ]
    }
   ],
   "source": [
    "async with AsyncClient(app=app, base_url=\"http://test\") as ac:\n",
    "    print((await ac.get(\"/?id=50\")).content)"
   ]
  },
  {
   "cell_type": "markdown",
   "metadata": {},
   "source": [
    "### JSONResponse as exception\n",
    "\n",
    "As possible solution you can reproduce outputs of the `fastapi.exceptions.HTTPException` using `fastapi.responses.JSONResponse`."
   ]
  },
  {
   "cell_type": "markdown",
   "metadata": {},
   "source": [
    "---\n",
    "\n",
    "The following cell demonstrates the creation of an application that generates a `JSONResponse` with a `status_code=500` and a random message under the `detail` key for each response."
   ]
  },
  {
   "cell_type": "code",
   "execution_count": 23,
   "metadata": {},
   "outputs": [],
   "source": [
    "app = FastAPI()\n",
    "\n",
    "@app.get(\"/\")\n",
    "@cache(expire=600)\n",
    "def index():\n",
    "    data = {\"detail\": str(random())}\n",
    "    return JSONResponse(content=data, status_code=500)"
   ]
  },
  {
   "cell_type": "markdown",
   "metadata": {},
   "source": [
    "Now let's make some requests to the created application."
   ]
  },
  {
   "cell_type": "code",
   "execution_count": 24,
   "metadata": {},
   "outputs": [
    {
     "name": "stdout",
     "output_type": "stream",
     "text": [
      "=========response 1=========\n",
      "Status code 500\n",
      "Content b'{\"detail\":\"0.35714545508611095\"}'\n",
      "Headers Headers({'content-length': '32', 'content-type': 'application/json'})\n",
      "=========response 2=========\n",
      "Status code 200\n",
      "Content b'{\"detail\":\"0.35714545508611095\"}'\n",
      "Headers Headers({'content-length': '32', 'content-type': 'application/json', 'cache-control': 'max-age=600', 'etag': 'W/3775337072360237072', 'x-fastapi-cache': 'HIT'})\n"
     ]
    }
   ],
   "source": [
    "async with AsyncClient(app=app, base_url=\"http://test\") as ac:\n",
    "    response1 = await ac.get(\"/\")\n",
    "    response2 = await ac.get(\"/\")\n",
    "\n",
    "print(\"=========response 1=========\")\n",
    "print(\"Status code\", response1.status_code)\n",
    "print(\"Content\", response1.content)\n",
    "print(\"Headers\", response1.headers)\n",
    "\n",
    "print(\"=========response 2=========\")\n",
    "print(\"Status code\", response2.status_code)\n",
    "print(\"Content\", response2.content)\n",
    "print(\"Headers\", response2.headers)"
   ]
  },
  {
   "cell_type": "markdown",
   "metadata": {},
   "source": [
    "Actually content was cached but not status code!"
   ]
  }
 ],
 "metadata": {
  "kernelspec": {
   "display_name": "Python 3",
   "language": "python",
   "name": "python3"
  },
  "language_info": {
   "codemirror_mode": {
    "name": "ipython",
    "version": 3
   },
   "file_extension": ".py",
   "mimetype": "text/x-python",
   "name": "python",
   "nbconvert_exporter": "python",
   "pygments_lexer": "ipython3",
   "version": "3.10.12"
  }
 },
 "nbformat": 4,
 "nbformat_minor": 2
}
