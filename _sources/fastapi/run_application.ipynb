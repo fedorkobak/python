{
 "cells": [
  {
   "cell_type": "markdown",
   "metadata": {},
   "source": [
    "# Run application\n",
    "\n",
    "This page provides a detailed explanation of the options available for running a FastAPI application."
   ]
  },
  {
   "cell_type": "code",
   "execution_count": 2,
   "metadata": {},
   "outputs": [],
   "source": [
    "import uvicorn\n",
    "import requests\n",
    "from fastapi import FastAPI\n",
    "from multiprocessing import Process"
   ]
  },
  {
   "cell_type": "markdown",
   "metadata": {},
   "source": [
    "## Image\n",
    "\n",
    "Here we'll focus on the image that we'll primarily use for experimenting with FastAPI.  This is the default image used in most FastAPI examples."
   ]
  },
  {
   "cell_type": "markdown",
   "metadata": {},
   "source": [
    "### Dockerfile\n",
    "\n",
    "In the next cell is the docker file I am using for this example."
   ]
  },
  {
   "cell_type": "code",
   "execution_count": null,
   "metadata": {},
   "outputs": [
    {
     "name": "stdout",
     "output_type": "stream",
     "text": [
      "Overwriting fastapi/run_application_files/dockerfile\n"
     ]
    }
   ],
   "source": [
    "%%writefile run_application_files/dockerfile\n",
    "FROM python:3.11\n",
    "COPY requrements.txt requrements.txt\n",
    "RUN pip3 install -r requrements.txt\n",
    "EXPOSE 8000"
   ]
  },
  {
   "cell_type": "markdown",
   "metadata": {},
   "source": [
    "### `requrements.txt`\n",
    "\n",
    "Python libraries you only needed to run the `fastapi` server. It is supposed to be used in the [dockerfile](#sec-dockerfile) described above."
   ]
  },
  {
   "cell_type": "code",
   "execution_count": null,
   "metadata": {},
   "outputs": [
    {
     "name": "stdout",
     "output_type": "stream",
     "text": [
      "Overwriting fastapi/run_application_files/requrements.txt\n"
     ]
    }
   ],
   "source": [
    "%%writefile fastapi/run_application_files/requrements.txt\n",
    "fastapi==0.103.1\n",
    "uvicorn==0.23.2"
   ]
  },
  {
   "cell_type": "markdown",
   "metadata": {},
   "source": [
    "### Build the image\n",
    "\n",
    "Image with name `fastapi_experiment`, created in the following cell, will be used in the other subsections of the fastapi section."
   ]
  },
  {
   "cell_type": "code",
   "execution_count": null,
   "metadata": {},
   "outputs": [],
   "source": [
    "!docker build -t fastapi_experiment\\\n",
    "    ./fastapi/run_application_files/ &> /dev/null"
   ]
  },
  {
   "cell_type": "markdown",
   "metadata": {},
   "source": [
    "## Runtime update"
   ]
  },
  {
   "cell_type": "markdown",
   "metadata": {},
   "source": [
    "The most convenient approach to experimenting with a container that contains fastapi is to dynamically swap the program, enabling the execution of multiple examples within a single container. For this purpose, I typically establish a connection between the utilized execution Python file and the container as a volume. This ensures that any changes made on the computer are promptly reflected within the container.\n",
    "\n",
    "To implement this functionality, it is necessary to run uvicorn with the `--reload` flag. This flag enables uvicorn to monitor changes in the program and update accordingly."
   ]
  },
  {
   "cell_type": "markdown",
   "metadata": {},
   "source": [
    "---\n",
    "\n",
    "The following cells start an application that returns `initial line`. "
   ]
  },
  {
   "cell_type": "code",
   "execution_count": 15,
   "metadata": {},
   "outputs": [
    {
     "name": "stdout",
     "output_type": "stream",
     "text": [
      "Overwriting ./run_application_files/reload.py\n"
     ]
    }
   ],
   "source": [
    "%%writefile ./run_application_files/reload.py\n",
    "from fastapi import FastAPI\n",
    "\n",
    "my_first_app = FastAPI()\n",
    "\n",
    "@my_first_app.get(\"/\")\n",
    "def say_hello():\n",
    "    return \"initial line\""
   ]
  },
  {
   "cell_type": "markdown",
   "metadata": {},
   "source": [
    "Note that the `uvicorn` call here includes the `--reload` option."
   ]
  },
  {
   "cell_type": "code",
   "execution_count": 16,
   "metadata": {},
   "outputs": [
    {
     "name": "stdout",
     "output_type": "stream",
     "text": [
      "f70c9566a8c067d1d20008d9204876e5696a48823218b5a6ac02aa12458a59a8\n"
     ]
    }
   ],
   "source": [
    "!docker run --rm -itd\\\n",
    "    --name test_container\\\n",
    "    -v ./run_application_files/reload.py:/reload.py\\\n",
    "    -p 8000:8000 \\\n",
    "    fastapi_experiment \\\n",
    "    uvicorn --host 0.0.0.0 --reload reload:my_first_app"
   ]
  },
  {
   "cell_type": "markdown",
   "metadata": {},
   "source": [
    "As expected, a request to this API returns `initial line`. "
   ]
  },
  {
   "cell_type": "code",
   "execution_count": 17,
   "metadata": {},
   "outputs": [
    {
     "data": {
      "text/plain": [
       "b'\"initial line\"'"
      ]
     },
     "execution_count": 17,
     "metadata": {},
     "output_type": "execute_result"
    }
   ],
   "source": [
    "requests.get(\"http://localhost:8000/\").content"
   ]
  },
  {
   "cell_type": "markdown",
   "metadata": {},
   "source": [
    "Now, without restarting the container, simply change the file containing your application - it will now return `updated line`. "
   ]
  },
  {
   "cell_type": "code",
   "execution_count": 18,
   "metadata": {},
   "outputs": [
    {
     "name": "stdout",
     "output_type": "stream",
     "text": [
      "Overwriting ./run_application_files/reload.py\n"
     ]
    }
   ],
   "source": [
    "%%writefile ./run_application_files/reload.py\n",
    "from fastapi import FastAPI\n",
    "\n",
    "my_first_app = FastAPI()\n",
    "\n",
    "@my_first_app.get(\"/\")\n",
    "def say_hello():\n",
    "    return \"updated line\""
   ]
  },
  {
   "cell_type": "markdown",
   "metadata": {},
   "source": [
    "By checking api result we'll got `updated line`."
   ]
  },
  {
   "cell_type": "code",
   "execution_count": 19,
   "metadata": {},
   "outputs": [
    {
     "data": {
      "text/plain": [
       "b'\"updated line\"'"
      ]
     },
     "execution_count": 19,
     "metadata": {},
     "output_type": "execute_result"
    }
   ],
   "source": [
    "requests.get(\"http://localhost:8000/\").content"
   ]
  },
  {
   "cell_type": "markdown",
   "metadata": {},
   "source": [
    "Therefore, the API was refreshed without restarting the container. "
   ]
  },
  {
   "cell_type": "code",
   "execution_count": 20,
   "metadata": {},
   "outputs": [
    {
     "name": "stdout",
     "output_type": "stream",
     "text": [
      "test_container\n"
     ]
    }
   ],
   "source": [
    "!docker stop test_container"
   ]
  },
  {
   "cell_type": "markdown",
   "metadata": {},
   "source": [
    "## Run as `__main__`\n",
    "\n",
    "Sometimes it's useful to be able to start a program by simply running it as a Python script, i.e. without bothering to call `uvicorn`.\n",
    "\n",
    "All you have to do is run `uvicorn.run(<fast_api object>, ...)`."
   ]
  },
  {
   "cell_type": "markdown",
   "metadata": {},
   "source": [
    "---\n",
    "\n",
    "The next cell shows a program using such an approach."
   ]
  },
  {
   "cell_type": "code",
   "execution_count": 21,
   "metadata": {},
   "outputs": [
    {
     "name": "stdout",
     "output_type": "stream",
     "text": [
      "Overwriting ./run_application_files/reload.py\n"
     ]
    }
   ],
   "source": [
    "%%writefile ./run_application_files/reload.py\n",
    "import uvicorn\n",
    "from fastapi import FastAPI\n",
    "\n",
    "app = FastAPI()\n",
    "\n",
    "@app.get(\"/\")\n",
    "def say_hello():\n",
    "    return \"I'm started from __main__\"\n",
    "\n",
    "if __name__ == \"__main__\":\n",
    "    uvicorn.run(app, host=\"0.0.0.0\", port=8000)"
   ]
  },
  {
   "cell_type": "markdown",
   "metadata": {},
   "source": [
    "To run it now we just use the command `python3 <script_name>.py`."
   ]
  },
  {
   "cell_type": "code",
   "execution_count": 23,
   "metadata": {},
   "outputs": [
    {
     "name": "stdout",
     "output_type": "stream",
     "text": [
      "054cc3956c27ad9c72c3ec7e960ccd92eed4b8ac9544c751af6040a6dab3b2db\n"
     ]
    }
   ],
   "source": [
    "!docker run --rm -itd\\\n",
    "    --name test_container\\\n",
    "    -v ./run_application_files/reload.py:/reload.py\\\n",
    "    -p 8000:8000 \\\n",
    "    fastapi_experiment \\\n",
    "    python3 reload.py"
   ]
  },
  {
   "cell_type": "markdown",
   "metadata": {},
   "source": [
    "Let's ask api to make sure everything is working."
   ]
  },
  {
   "cell_type": "code",
   "execution_count": 24,
   "metadata": {},
   "outputs": [
    {
     "name": "stdout",
     "output_type": "stream",
     "text": [
      "\"I'm started from __main__\""
     ]
    }
   ],
   "source": [
    "!curl localhost:8000"
   ]
  },
  {
   "cell_type": "code",
   "execution_count": 25,
   "metadata": {},
   "outputs": [
    {
     "name": "stdout",
     "output_type": "stream",
     "text": [
      "test_container\n"
     ]
    }
   ],
   "source": [
    "!docker stop test_container"
   ]
  },
  {
   "cell_type": "markdown",
   "metadata": {},
   "source": [
    "## Test client\n",
    "\n",
    "FastAPI provides a special tool, `fastapi.testclient.TestClient`, for testing applications. This approach is valuable because it allows you to run tests in a different software environment, which can be very useful for research purposes."
   ]
  },
  {
   "cell_type": "markdown",
   "metadata": {},
   "source": [
    "---\n",
    "\n",
    "The following cell creates fastapi appliction but not saves it to file - it creates fastapi relate objects just in jupyter environment."
   ]
  },
  {
   "cell_type": "code",
   "execution_count": 5,
   "metadata": {},
   "outputs": [],
   "source": [
    "from fastapi import FastAPI\n",
    "\n",
    "app = FastAPI()\n",
    "\n",
    "@app.get(\"/\")\n",
    "def index():\n",
    "    return \"hello from test client\""
   ]
  },
  {
   "cell_type": "markdown",
   "metadata": {},
   "source": [
    "With `fastapi.testclient.TestClient`, you can get special object which actually interface that allows to interact with created application. The following cell shows requesting to the `/` endpoint from `TestClient` object."
   ]
  },
  {
   "cell_type": "code",
   "execution_count": 10,
   "metadata": {},
   "outputs": [
    {
     "data": {
      "text/plain": [
       "b'\"hello from test client\"'"
      ]
     },
     "metadata": {},
     "output_type": "display_data"
    }
   ],
   "source": [
    "from fastapi.testclient import TestClient\n",
    "test_client = TestClient(app = app)\n",
    "display(test_client.get(\"/\").content)\n",
    "test_client.close()"
   ]
  },
  {
   "cell_type": "markdown",
   "metadata": {},
   "source": [
    "As a result, we get a response exactly as defined by the API."
   ]
  },
  {
   "cell_type": "markdown",
   "metadata": {},
   "source": [
    "## Process\n",
    "\n",
    "An alternative way to start a Python process is to use `multiprocessing.Process`. You need to specify `target=uvicorn.run`, along with `args` and `kwargs` to match the arguments you would use for the program."
   ]
  },
  {
   "cell_type": "markdown",
   "metadata": {},
   "source": [
    "---\n",
    "\n",
    "The following cell shows how it can be achieved."
   ]
  },
  {
   "cell_type": "code",
   "execution_count": null,
   "metadata": {},
   "outputs": [
    {
     "name": "stderr",
     "output_type": "stream",
     "text": [
      "INFO:     Started server process [271008]\n",
      "INFO:     Waiting for application startup.\n",
      "INFO:     Application startup complete.\n",
      "INFO:     Uvicorn running on http://127.0.0.1:8000 (Press CTRL+C to quit)\n"
     ]
    },
    {
     "name": "stderr",
     "output_type": "stream",
     "text": [
      "INFO:     Shutting down\n",
      "INFO:     Waiting for application shutdown.\n",
      "INFO:     Application shutdown complete.\n",
      "INFO:     Finished server process [271008]\n"
     ]
    }
   ],
   "source": [
    "app = FastAPI()\n",
    "\n",
    "@app.get(\"/\")\n",
    "def index():\n",
    "    return \"I'm a python process\"\n",
    "\n",
    "proc = Process(\n",
    "    target=uvicorn.run, args=(app,), kwargs={\"log_level\": \"info\"}, daemon=True\n",
    ")\n",
    "proc.start()"
   ]
  },
  {
   "cell_type": "markdown",
   "metadata": {},
   "source": [
    "**Note:** Jupyter prints the stdout of the process, so you'll see the application logs in your notebooks. To prevent this, set the `log_level` keyword argument to `critical`."
   ]
  },
  {
   "cell_type": "markdown",
   "metadata": {},
   "source": [
    "To ensure that everything is functioning properly, we request an application, followed by terminating the process."
   ]
  },
  {
   "cell_type": "code",
   "execution_count": 35,
   "metadata": {},
   "outputs": [
    {
     "name": "stdout",
     "output_type": "stream",
     "text": [
      "INFO:     127.0.0.1:58210 - \"GET / HTTP/1.1\" 200 OK\n"
     ]
    },
    {
     "name": "stdout",
     "output_type": "stream",
     "text": [
      "b'\"I\\'m a python process\"'\n"
     ]
    }
   ],
   "source": [
    "print(requests.get(\"http://localhost:8000\").content)\n",
    "proc.terminate()"
   ]
  },
  {
   "cell_type": "markdown",
   "metadata": {},
   "source": [
    "## `httpx.AsyncClient`\n",
    "\n",
    "Run application through `httpx.AxsyncClient` is another option. You can just open asynchronomous context manager and all code in it will be able to reques the application under consideration."
   ]
  },
  {
   "cell_type": "markdown",
   "metadata": {},
   "source": [
    "---\n",
    "\n",
    "The following cell shows how to create a \"Hello World\" application with FastAPI and run it using `httpx.AsyncClient`."
   ]
  },
  {
   "cell_type": "code",
   "execution_count": 5,
   "metadata": {},
   "outputs": [
    {
     "name": "stdout",
     "output_type": "stream",
     "text": [
      "b'\"hello world\"'\n"
     ]
    }
   ],
   "source": [
    "from httpx import AsyncClient\n",
    "\n",
    "app = FastAPI()\n",
    "@app.get(\"/\")\n",
    "def index():\n",
    "    return \"hello world\"\n",
    "\n",
    "async with AsyncClient(app=app, base_url=\"http://hello\") as ac:\n",
    "    print(((await ac.get(\"/\")).content))"
   ]
  }
 ],
 "metadata": {
  "kernelspec": {
   "display_name": "Python 3",
   "language": "python",
   "name": "python3"
  },
  "language_info": {
   "codemirror_mode": {
    "name": "ipython",
    "version": 3
   },
   "file_extension": ".py",
   "mimetype": "text/x-python",
   "name": "python",
   "nbconvert_exporter": "python",
   "pygments_lexer": "ipython3",
   "version": "3.10.12"
  }
 },
 "nbformat": 4,
 "nbformat_minor": 2
}
