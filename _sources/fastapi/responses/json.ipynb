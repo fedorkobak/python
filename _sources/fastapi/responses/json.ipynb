{
 "cells": [
  {
   "cell_type": "markdown",
   "metadata": {},
   "source": [
    "# JSON\n",
    "\n",
    "JSON format is a widely used method for data exchange over the internet. This page explores various approaches to crafting JSON responses within the FastAPI framework. "
   ]
  },
  {
   "cell_type": "code",
   "execution_count": 7,
   "metadata": {},
   "outputs": [
    {
     "name": "stdout",
     "output_type": "stream",
     "text": [
      "64f8096c46f92f2392710e94830f4e5a57b708d0b7d7b85a7b77a6c8d5d1d274\n"
     ]
    }
   ],
   "source": [
    "import requests\n",
    "\n",
    "!docker run --rm -itd\\\n",
    "    --name fastapi_json_responses\\\n",
    "    -v ./json_files/app.py:/app.py\\\n",
    "    -p 8000:8000 \\\n",
    "    fastapi_experiment \\\n",
    "    uvicorn --host 0.0.0.0 --reload app:app"
   ]
  },
  {
   "cell_type": "markdown",
   "metadata": {},
   "source": [
    "**Note:** Remember to stop the container after you're finished. "
   ]
  },
  {
   "cell_type": "code",
   "execution_count": 21,
   "metadata": {},
   "outputs": [
    {
     "name": "stdout",
     "output_type": "stream",
     "text": [
      "fastapi_json_responses\n"
     ]
    }
   ],
   "source": [
    "!docker stop fastapi_json_responses"
   ]
  },
  {
   "cell_type": "markdown",
   "metadata": {},
   "source": [
    "## String as json\n",
    "\n",
    "When building an API that primarily returns JSON data, it's common to encounter scenarios where you need to provide pre-serialized JSON responses. In such cases, you can simply return a string containing the serialized JSON, which the browser will interpret as JSON."
   ]
  },
  {
   "cell_type": "markdown",
   "metadata": {},
   "source": [
    "---\n",
    "\n",
    "Let's consider an example where our API simply returns the string \"hello\". "
   ]
  },
  {
   "cell_type": "code",
   "execution_count": 15,
   "metadata": {},
   "outputs": [
    {
     "name": "stdout",
     "output_type": "stream",
     "text": [
      "Overwriting json_files/app.py\n"
     ]
    }
   ],
   "source": [
    "%%writefile json_files/app.py\n",
    "from fastapi import FastAPI\n",
    "\n",
    "app = FastAPI()\n",
    "\n",
    "@app.get(\"/\")\n",
    "def get() -> str:\n",
    "    return 'hello'"
   ]
  },
  {
   "cell_type": "markdown",
   "metadata": {},
   "source": [
    "Now let's response of the endpoint and check it's headers."
   ]
  },
  {
   "cell_type": "code",
   "execution_count": 18,
   "metadata": {},
   "outputs": [
    {
     "name": "stdout",
     "output_type": "stream",
     "text": [
      "date Fri, 16 Aug 2024 08:35:28 GMT\n",
      "server uvicorn\n",
      "content-length 7\n",
      "content-type application/json\n"
     ]
    }
   ],
   "source": [
    "for key, item in requests.get(\"http://localhost:8000\").headers.items():\n",
    "    print(key, item)"
   ]
  },
  {
   "cell_type": "markdown",
   "metadata": {},
   "source": [
    "The header `Content-Type: application/json` indicates that the API has returned JSON data."
   ]
  },
  {
   "cell_type": "markdown",
   "metadata": {},
   "source": [
    "## JSONResponse object\n",
    "\n",
    "FastAPI provides a special class, `fastapi.responses.JSONResponse`, which allows for more fine-grained control over JSON responses. The following cell shows the docstring for this object."
   ]
  },
  {
   "cell_type": "code",
   "execution_count": 4,
   "metadata": {},
   "outputs": [
    {
     "name": "stdout",
     "output_type": "stream",
     "text": [
      "\u001b[0;31mInit signature:\u001b[0m\n",
      "\u001b[0mJSONResponse\u001b[0m\u001b[0;34m(\u001b[0m\u001b[0;34m\u001b[0m\n",
      "\u001b[0;34m\u001b[0m    \u001b[0mcontent\u001b[0m\u001b[0;34m:\u001b[0m \u001b[0;34m'typing.Any'\u001b[0m\u001b[0;34m,\u001b[0m\u001b[0;34m\u001b[0m\n",
      "\u001b[0;34m\u001b[0m    \u001b[0mstatus_code\u001b[0m\u001b[0;34m:\u001b[0m \u001b[0;34m'int'\u001b[0m \u001b[0;34m=\u001b[0m \u001b[0;36m200\u001b[0m\u001b[0;34m,\u001b[0m\u001b[0;34m\u001b[0m\n",
      "\u001b[0;34m\u001b[0m    \u001b[0mheaders\u001b[0m\u001b[0;34m:\u001b[0m \u001b[0;34m'typing.Mapping[str, str] | None'\u001b[0m \u001b[0;34m=\u001b[0m \u001b[0;32mNone\u001b[0m\u001b[0;34m,\u001b[0m\u001b[0;34m\u001b[0m\n",
      "\u001b[0;34m\u001b[0m    \u001b[0mmedia_type\u001b[0m\u001b[0;34m:\u001b[0m \u001b[0;34m'str | None'\u001b[0m \u001b[0;34m=\u001b[0m \u001b[0;32mNone\u001b[0m\u001b[0;34m,\u001b[0m\u001b[0;34m\u001b[0m\n",
      "\u001b[0;34m\u001b[0m    \u001b[0mbackground\u001b[0m\u001b[0;34m:\u001b[0m \u001b[0;34m'BackgroundTask | None'\u001b[0m \u001b[0;34m=\u001b[0m \u001b[0;32mNone\u001b[0m\u001b[0;34m,\u001b[0m\u001b[0;34m\u001b[0m\n",
      "\u001b[0;34m\u001b[0m\u001b[0;34m)\u001b[0m \u001b[0;34m->\u001b[0m \u001b[0;34m'None'\u001b[0m\u001b[0;34m\u001b[0m\u001b[0;34m\u001b[0m\u001b[0m\n",
      "\u001b[0;31mDocstring:\u001b[0m      <no docstring>\n",
      "\u001b[0;31mFile:\u001b[0m           ~/.local/lib/python3.10/site-packages/starlette/responses.py\n",
      "\u001b[0;31mType:\u001b[0m           type\n",
      "\u001b[0;31mSubclasses:\u001b[0m     UJSONResponse, ORJSONResponse"
     ]
    }
   ],
   "source": [
    "from fastapi.responses import JSONResponse\n",
    "JSONResponse?"
   ]
  },
  {
   "cell_type": "markdown",
   "metadata": {},
   "source": [
    "---\n",
    "\n",
    "The following cell defines a FastAPI application that utilizes `JSONResponse` as the object to be returned. It defines `content`, `status_code`, and `headers`, which we will explore to see how they influence the response. "
   ]
  },
  {
   "cell_type": "code",
   "execution_count": 14,
   "metadata": {},
   "outputs": [
    {
     "name": "stdout",
     "output_type": "stream",
     "text": [
      "Overwriting json_files/app.py\n"
     ]
    }
   ],
   "source": [
    "%%writefile json_files/app.py\n",
    "from fastapi import FastAPI\n",
    "from fastapi.responses import JSONResponse\n",
    "\n",
    "app = FastAPI()\n",
    "\n",
    "@app.get(\"/\")\n",
    "def get() -> JSONResponse:\n",
    "    return JSONResponse(\n",
    "        content={\"key\": \"value\"}, \n",
    "        status_code=255, \n",
    "        headers={\"name\": \"Fedor\", \"surname\": \"Kobak\"}\n",
    "    )"
   ]
  },
  {
   "cell_type": "markdown",
   "metadata": {},
   "source": [
    "The following cell sends a request to the newly created API and prints the `content`, `status_code`, and `headers` of the response. "
   ]
  },
  {
   "cell_type": "code",
   "execution_count": 20,
   "metadata": {},
   "outputs": [
    {
     "name": "stdout",
     "output_type": "stream",
     "text": [
      "content b'{\"key\":\"value\"}'\n",
      "status code 255\n",
      "headers {'date': 'Tue, 20 Aug 2024 12:04:25 GMT', 'server': 'uvicorn', 'name': 'Fedor', 'surname': 'Kobak', 'content-length': '15', 'content-type': 'application/json'}\n"
     ]
    }
   ],
   "source": [
    "response = requests.get(\"http://localhost:8000/\")\n",
    "\n",
    "print(\"content\", response.content)\n",
    "print(\"status code\", response.status_code)\n",
    "print(\"headers\", response.headers)"
   ]
  },
  {
   "cell_type": "markdown",
   "metadata": {},
   "source": [
    "So, the `content` and `status code` are exactly as we specified. The `headers` also include the specified key/value pairs, along with the necessary ones."
   ]
  }
 ],
 "metadata": {
  "kernelspec": {
   "display_name": "Python 3",
   "language": "python",
   "name": "python3"
  },
  "language_info": {
   "codemirror_mode": {
    "name": "ipython",
    "version": 3
   },
   "file_extension": ".py",
   "mimetype": "text/x-python",
   "name": "python",
   "nbconvert_exporter": "python",
   "pygments_lexer": "ipython3",
   "version": "3.10.12"
  }
 },
 "nbformat": 4,
 "nbformat_minor": 2
}
