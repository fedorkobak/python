{
 "cells": [
  {
   "cell_type": "markdown",
   "metadata": {},
   "source": [
    "# Pydantic model"
   ]
  },
  {
   "cell_type": "code",
   "execution_count": 1,
   "metadata": {},
   "outputs": [],
   "source": [
    "from fastapi import FastAPI\n",
    "from fastapi.testclient import TestClient\n",
    "\n",
    "from pydantic import BaseModel"
   ]
  },
  {
   "cell_type": "markdown",
   "metadata": {},
   "source": [
    "## Default arguments\n",
    "\n",
    "All defined arguments you've specified for the `pydantic` model will be interpreted by python as default values in case parameter doesn't passed."
   ]
  },
  {
   "cell_type": "markdown",
   "metadata": {},
   "source": [
    "---\n",
    "\n",
    "The following cell defines an endpoint that uses `BaseModel` where `param1` has a default value and `param2` doesn't have a default value."
   ]
  },
  {
   "cell_type": "code",
   "execution_count": 9,
   "metadata": {},
   "outputs": [],
   "source": [
    "class Item(BaseModel):\n",
    "    param1: int = 33\n",
    "    param2: str\n",
    "\n",
    "app = FastAPI()\n",
    "\n",
    "@app.post(\"/\")\n",
    "def read_json(item: Item):\n",
    "    return f\"\"\"I have got:\n",
    "    param1={item.param1};\n",
    "    param2={item.param2}.\"\"\"\n",
    "\n",
    "test_client = TestClient(app=app)"
   ]
  },
  {
   "cell_type": "markdown",
   "metadata": {},
   "source": [
    "Here api is called with `param1` doesn't specified."
   ]
  },
  {
   "cell_type": "code",
   "execution_count": 10,
   "metadata": {},
   "outputs": [
    {
     "name": "stdout",
     "output_type": "stream",
     "text": [
      "\"I have got:\n",
      "    param1=33;\n",
      "    param2=test line.\"\n"
     ]
    }
   ],
   "source": [
    "data = {\"param2\": \"test line\"}\n",
    "print(\n",
    "    test_client.post(url=\"/\", json=data)\n",
    "    .content\n",
    "    .decode(\"utf-8\")\n",
    "    .replace(\"\\\\n\", \"\\n\")\n",
    ")"
   ]
  },
  {
   "cell_type": "markdown",
   "metadata": {},
   "source": [
    "Result shows that the default value has been replaced."
   ]
  },
  {
   "cell_type": "markdown",
   "metadata": {},
   "source": [
    "But if you don't pass a parameter without a default value, you will get a 422 error."
   ]
  },
  {
   "cell_type": "code",
   "execution_count": 18,
   "metadata": {},
   "outputs": [
    {
     "name": "stdout",
     "output_type": "stream",
     "text": [
      "<Response [422 Unprocessable Entity]>\n",
      "{\"detail\":[{\"type\":\"missing\",\"loc\":[\"body\",\"param2\"],\"msg\":\"Field required\",\"input\":{}}]}\n"
     ]
    }
   ],
   "source": [
    "ans = test_client.post(url=\"/\", json={})\n",
    "print(ans)\n",
    "print(ans.content.decode())"
   ]
  },
  {
   "cell_type": "code",
   "execution_count": 19,
   "metadata": {},
   "outputs": [],
   "source": [
    "test_client.close()"
   ]
  }
 ],
 "metadata": {
  "kernelspec": {
   "display_name": "Python 3",
   "language": "python",
   "name": "python3"
  },
  "language_info": {
   "codemirror_mode": {
    "name": "ipython",
    "version": 3
   },
   "file_extension": ".py",
   "mimetype": "text/x-python",
   "name": "python",
   "nbconvert_exporter": "python",
   "pygments_lexer": "ipython3",
   "version": "3.10.12"
  }
 },
 "nbformat": 4,
 "nbformat_minor": 2
}
