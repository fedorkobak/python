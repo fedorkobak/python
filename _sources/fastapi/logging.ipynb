{
 "cells": [
  {
   "cell_type": "markdown",
   "id": "4394e2ec-ae37-495c-86c7-7546825c2416",
   "metadata": {},
   "source": [
    "# Logging\n",
    "\n",
    "**Sources:**\n",
    "\n",
    "- [Fast api logging essentials](https://marketsplash.com/fastapi-logging/);"
   ]
  },
  {
   "cell_type": "markdown",
   "id": "f7e639b6-c141-47d9-829c-ec79a4db56b8",
   "metadata": {},
   "source": [
    "## Set up"
   ]
  },
  {
   "cell_type": "code",
   "execution_count": 1,
   "id": "75d70047-e1a6-4f9e-bfce-41db9520a779",
   "metadata": {},
   "outputs": [],
   "source": [
    "from requests import get"
   ]
  },
  {
   "cell_type": "markdown",
   "id": "277b41dd-d126-48e4-bc60-95e02d1aafa3",
   "metadata": {},
   "source": [
    "The following cell runs a Docker container that utilizes a specified file to build a FastAPI application.\n",
    "\n",
    "**Note** here the whole `logging_files` folder is mounted as a volume, which is not typical for the `fastapi` section. This is because we'll be working with configs as separate files."
   ]
  },
  {
   "cell_type": "code",
   "execution_count": 7,
   "id": "82ef8a30-7f36-4ea0-9905-25f61f7f1ea0",
   "metadata": {},
   "outputs": [
    {
     "name": "stdout",
     "output_type": "stream",
     "text": [
      "00c6b2ba8d2a6b07131e0b69ec503747c6b5771094d1287afca9e56c780e4ffd\n"
     ]
    }
   ],
   "source": [
    "!docker run --rm -itd\\\n",
    "    --name test_container\\\n",
    "    -v ./logging_files/:/app/\\\n",
    "    -p 8000:8000 \\\n",
    "    fastapi_experiment \\\n",
    "    uvicorn --host 0.0.0.0 --reload app.app:app"
   ]
  },
  {
   "cell_type": "markdown",
   "id": "9d3e955e-e56f-4c8a-8ef2-7c83a89d6491",
   "metadata": {},
   "source": [
    "Don't forget to stop the container."
   ]
  },
  {
   "cell_type": "code",
   "execution_count": 6,
   "id": "6bb0c22a-e482-4a06-8086-90cb7e38bb15",
   "metadata": {},
   "outputs": [
    {
     "name": "stdout",
     "output_type": "stream",
     "text": [
      "test_container\n"
     ]
    }
   ],
   "source": [
    "!docker stop test_container"
   ]
  },
  {
   "cell_type": "markdown",
   "id": "533947ec-56ca-4d79-bc46-7376031d9daa",
   "metadata": {},
   "source": [
    "## View logs"
   ]
  },
  {
   "cell_type": "markdown",
   "id": "a214c5b9-687b-44cd-ab92-b7d585c2ca6b",
   "metadata": {},
   "source": [
    "Let's see what the default logs of the fast api look like. We will make an application to write something to the console and then extract it from the docker container."
   ]
  },
  {
   "cell_type": "markdown",
   "id": "aca559ce",
   "metadata": {},
   "source": [
    "---\n",
    "\n",
    "In the following cell we've just defined a simple fastapi program that throws a `HTTPException` if called with a `False` argument."
   ]
  },
  {
   "cell_type": "code",
   "execution_count": 19,
   "id": "b016419a-ee4e-47ae-9909-1bcfd086ba4c",
   "metadata": {},
   "outputs": [
    {
     "name": "stdout",
     "output_type": "stream",
     "text": [
      "Overwriting logging_files/app.py\n"
     ]
    }
   ],
   "source": [
    "%%writefile logging_files/app.py\n",
    "from fastapi import FastAPI, HTTPException\n",
    "\n",
    "app = FastAPI()\n",
    "\n",
    "@app.get(\"/{is_ok}\")\n",
    "def handle(is_ok: bool):\n",
    "    if is_ok:\n",
    "        return \"im fine\"\n",
    "    else:\n",
    "        raise HTTPException(status_code=404, detail=\"Item not found\")"
   ]
  },
  {
   "cell_type": "markdown",
   "id": "830ba684-2a9d-4a5f-8fc5-4dfe3620d91e",
   "metadata": {},
   "source": [
    "Now let's send some requests to the application and view it's log last lines:"
   ]
  },
  {
   "cell_type": "code",
   "execution_count": 20,
   "id": "2d46be9e-d525-40a3-b65d-6a2d546d76e2",
   "metadata": {},
   "outputs": [
    {
     "name": "stdout",
     "output_type": "stream",
     "text": [
      "\u001b[32mINFO\u001b[0m:     172.17.0.1:60808 - \"\u001b[1mGET /True HTTP/1.1\u001b[0m\" \u001b[32m200 OK\u001b[0m\n",
      "\u001b[32mINFO\u001b[0m:     172.17.0.1:60816 - \"\u001b[1mGET /False HTTP/1.1\u001b[0m\" \u001b[31m404 Not Found\u001b[0m\n"
     ]
    }
   ],
   "source": [
    "get(\"http://localhost:8000/True\")\n",
    "get(\"http://localhost:8000/False\")\n",
    "!docker logs --tail 2 test_container"
   ]
  },
  {
   "cell_type": "markdown",
   "id": "f62ec603-3eb9-4129-818a-7af642a26086",
   "metadata": {},
   "source": [
    "## Loggers\n",
    "\n",
    "The following fastapi program returns all available loggers in the fast api."
   ]
  },
  {
   "cell_type": "code",
   "execution_count": 21,
   "id": "54db1b87-c84f-4e43-a4f8-90a7756fa522",
   "metadata": {},
   "outputs": [
    {
     "name": "stdout",
     "output_type": "stream",
     "text": [
      "Overwriting logging_files/app.py\n"
     ]
    }
   ],
   "source": [
    "%%writefile logging_files/app.py\n",
    "import logging\n",
    "from fastapi import FastAPI, HTTPException\n",
    "\n",
    "app = FastAPI()\n",
    "\n",
    "@app.get(\"/\")\n",
    "def handle():\n",
    "    return [\n",
    "        name for name in \n",
    "        logging.root.manager.loggerDict.keys()\n",
    "    ]"
   ]
  },
  {
   "cell_type": "markdown",
   "id": "97ab2b76-a30d-454e-9427-4c666564ab6d",
   "metadata": {},
   "source": [
    "So let's check what does we have."
   ]
  },
  {
   "cell_type": "code",
   "execution_count": 22,
   "id": "8b94669d-9d1b-47d3-9d42-d7f165891941",
   "metadata": {},
   "outputs": [
    {
     "data": {
      "text/plain": [
       "b'[\"concurrent.futures\",\"concurrent\",\"asyncio\",\"uvicorn.error\",\"uvicorn\",\"uvicorn.access\",\"fastapi\"]'"
      ]
     },
     "execution_count": 22,
     "metadata": {},
     "output_type": "execute_result"
    }
   ],
   "source": [
    "response = get(\"http://localhost:8000\")\n",
    "response.content"
   ]
  },
  {
   "cell_type": "markdown",
   "id": "8e589a71-9931-4bcd-8ea7-bd67d3402ec6",
   "metadata": {},
   "source": [
    "In my opinion, the most interesting logs for us here are `fastapi`, `unicorn`, `unicorn.error`, `unicorn.acess` and `fastapi`."
   ]
  },
  {
   "cell_type": "markdown",
   "id": "c9aaabae-c332-4546-a531-03f84ff679f0",
   "metadata": {},
   "source": [
    "## Configure loggers\n",
    "\n",
    "You can use the `fastapi` and `uvicorn` loggers just like any other `logging` package logger."
   ]
  },
  {
   "cell_type": "markdown",
   "id": "0ca325a2-e4b4-411d-bb5a-8e4ead29cdad",
   "metadata": {},
   "source": [
    "The following cell defines the logging config that makes uvicorn print its logs to the file."
   ]
  },
  {
   "cell_type": "code",
   "execution_count": 38,
   "id": "bddca6f6-a647-4300-8287-bd35dd90ba19",
   "metadata": {},
   "outputs": [
    {
     "name": "stdout",
     "output_type": "stream",
     "text": [
      "Overwriting logging_files/uvicorn_logging.ini\n"
     ]
    }
   ],
   "source": [
    "%%writefile logging_files/uvicorn_logging.ini\n",
    "[loggers]\n",
    "keys=root,uvicorn\n",
    "\n",
    "[handlers]\n",
    "keys=console,file\n",
    "\n",
    "[formatters]\n",
    "keys=generic\n",
    "\n",
    "[logger_root]\n",
    "level=INFO\n",
    "handlers=console\n",
    "\n",
    "[logger_uvicorn]\n",
    "level=DEBUG\n",
    "handlers=file\n",
    "qualname=uvicorn\n",
    "propagate=0\n",
    "\n",
    "[handler_console]\n",
    "class=StreamHandler\n",
    "formatter=generic\n",
    "args=(sys.stderr,)\n",
    "\n",
    "[handler_file]\n",
    "class=FileHandler\n",
    "formatter=generic\n",
    "args=('./app/uvicorn.log', 'a')\n",
    "\n",
    "[formatter_generic]\n",
    "format=%(asctime)s - %(levelname)s - %(message)s\n",
    "datefmt=%Y-%m-%d %H:%M:%S"
   ]
  },
  {
   "cell_type": "markdown",
   "id": "22dc06b0-9ff1-4545-a096-01cfd7520f54",
   "metadata": {},
   "source": [
    "Now define new programm that apply config showen before to `logging` module."
   ]
  },
  {
   "cell_type": "code",
   "execution_count": 45,
   "id": "db5ff6df-74d1-47b0-9291-7855252e2040",
   "metadata": {},
   "outputs": [
    {
     "name": "stdout",
     "output_type": "stream",
     "text": [
      "Overwriting logging_files/app.py\n"
     ]
    }
   ],
   "source": [
    "%%writefile logging_files/app.py\n",
    "import logging\n",
    "import logging.config\n",
    "from fastapi import FastAPI, HTTPException\n",
    "\n",
    "app = FastAPI()\n",
    "logging.config.fileConfig(\"./app/uvicorn_logging.ini\")\n",
    "\n",
    "@app.get(\"/\")\n",
    "def handle():\n",
    "    return \"hello\""
   ]
  },
  {
   "cell_type": "markdown",
   "id": "f6f0caa3-ae5d-4fe8-8af9-a876adafd40d",
   "metadata": {},
   "source": [
    "Now let's try a few requests to this api and see what's written to our log file."
   ]
  },
  {
   "cell_type": "code",
   "execution_count": 8,
   "id": "9376579e-a35c-4a95-a510-e0b89589f908",
   "metadata": {},
   "outputs": [
    {
     "name": "stdout",
     "output_type": "stream",
     "text": [
      "\"hello\"\"hello\"2024-05-07 11:40:11 - INFO - Started server process [8]\n",
      "2024-05-07 11:40:11 - INFO - Waiting for application startup.\n",
      "2024-05-07 11:40:11 - INFO - Application startup complete.\n",
      "2024-05-07 11:40:17 - INFO - 172.17.0.1:45930 - \"GET / HTTP/1.1\" 200\n",
      "2024-05-07 11:40:17 - INFO - 172.17.0.1:45946 - \"GET / HTTP/1.1\" 200\n"
     ]
    }
   ],
   "source": [
    "%%bash\n",
    "curl -s localhost:8000/\n",
    "curl -s localhost:8000/\n",
    "cat logging_files/uvicorn.log"
   ]
  },
  {
   "cell_type": "markdown",
   "id": "b72295ac-5725-4e9a-a4eb-ea203bfaa322",
   "metadata": {},
   "source": [
    "As you can see, all the logs that uvicorn used to print to the terminal are now on the file."
   ]
  }
 ],
 "metadata": {
  "kernelspec": {
   "display_name": "Python 3 (ipykernel)",
   "language": "python",
   "name": "python3"
  },
  "language_info": {
   "codemirror_mode": {
    "name": "ipython",
    "version": 3
   },
   "file_extension": ".py",
   "mimetype": "text/x-python",
   "name": "python",
   "nbconvert_exporter": "python",
   "pygments_lexer": "ipython3",
   "version": "3.10.12"
  }
 },
 "nbformat": 4,
 "nbformat_minor": 5
}
