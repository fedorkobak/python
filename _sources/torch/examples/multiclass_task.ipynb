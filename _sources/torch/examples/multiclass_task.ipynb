{
 "cells": [
  {
   "cell_type": "markdown",
   "id": "69671dd1-5007-4c77-b131-49492950ecfe",
   "metadata": {},
   "source": [
    "# Multiclass task\n",
    "\n",
    "This page describes how to build a multiclass classification network using pytorch."
   ]
  },
  {
   "cell_type": "code",
   "execution_count": 1,
   "id": "e3c33799-9e07-42d1-b827-31d732040fac",
   "metadata": {},
   "outputs": [],
   "source": [
    "import pandas as pd\n",
    "\n",
    "from sklearn import datasets\n",
    "\n",
    "import torch\n",
    "from torch import nn, optim\n",
    "from torch.utils.data import TensorDataset, DataLoader"
   ]
  },
  {
   "cell_type": "markdown",
   "id": "f9d87b1d-db4a-4bff-a46e-8b0b93ef40ea",
   "metadata": {},
   "source": [
    "## Create sample"
   ]
  },
  {
   "cell_type": "markdown",
   "id": "0d8eedce-74d2-43d8-91a3-7021742e4a12",
   "metadata": {},
   "source": [
    "Generate some data with a certain number of features and classes."
   ]
  },
  {
   "cell_type": "code",
   "execution_count": 2,
   "id": "bf9a1b2f-c217-4b3f-a022-c682220651e0",
   "metadata": {},
   "outputs": [],
   "source": [
    "n_features = 5\n",
    "n_classes = 3\n",
    "\n",
    "X, Y = datasets.make_classification(\n",
    "    n_features = 5, \n",
    "    n_classes = n_classes,\n",
    "    n_clusters_per_class = 1,\n",
    "    n_informative = 2,\n",
    "    n_redundant = 0,\n",
    "    n_samples = 10000,\n",
    "    random_state = 10\n",
    ")\n",
    "\n",
    "X, Y = torch.tensor(X, dtype = torch.float), torch.tensor(Y)"
   ]
  },
  {
   "cell_type": "markdown",
   "id": "26e79371-b56c-44cd-9315-f60b1b1ce945",
   "metadata": {},
   "source": [
    "## Model"
   ]
  },
  {
   "cell_type": "markdown",
   "id": "0d5e17b8-407a-48a1-a32f-614c9dc49f92",
   "metadata": {},
   "source": [
    "In the next cell, we need to define a model where the number of inputs corresponds to the number of features of the input data and the number of outputs corresponds to the number of classes for the sample generated below."
   ]
  },
  {
   "cell_type": "code",
   "execution_count": 3,
   "id": "8e042535-6c37-4000-be3c-50ed0c1c56cd",
   "metadata": {},
   "outputs": [],
   "source": [
    "network = nn.Sequential(\n",
    "    nn.Linear(in_features = n_features, out_features = 30),\n",
    "    nn.ReLU(),\n",
    "    nn.Linear(in_features = 30, out_features = n_classes)\n",
    ")"
   ]
  },
  {
   "cell_type": "markdown",
   "id": "8e23fc33-fe86-490d-b761-1dfa52ff3cc3",
   "metadata": {},
   "source": [
    "The output of the model for each object will be the number of floats corresponding to the number of classes in the input data. The index of the maximum value we will understand as the predicted class.\n",
    "\n",
    "The following cell show how a whole complex of transformations can be performed in code:"
   ]
  },
  {
   "cell_type": "code",
   "execution_count": 4,
   "id": "180de874-cb50-4401-9f29-eb37022a296d",
   "metadata": {},
   "outputs": [
    {
     "data": {
      "text/html": [
       "<div>\n",
       "<style scoped>\n",
       "    .dataframe tbody tr th:only-of-type {\n",
       "        vertical-align: middle;\n",
       "    }\n",
       "\n",
       "    .dataframe tbody tr th {\n",
       "        vertical-align: top;\n",
       "    }\n",
       "\n",
       "    .dataframe thead th {\n",
       "        text-align: right;\n",
       "    }\n",
       "</style>\n",
       "<table border=\"1\" class=\"dataframe\">\n",
       "  <thead>\n",
       "    <tr style=\"text-align: right;\">\n",
       "      <th></th>\n",
       "      <th>out 0</th>\n",
       "      <th>out 1</th>\n",
       "      <th>out 2</th>\n",
       "      <th>predicted class</th>\n",
       "      <th>real_class</th>\n",
       "    </tr>\n",
       "  </thead>\n",
       "  <tbody>\n",
       "    <tr>\n",
       "      <th>0</th>\n",
       "      <td>-0.131736</td>\n",
       "      <td>0.335459</td>\n",
       "      <td>-0.036521</td>\n",
       "      <td>1</td>\n",
       "      <td>1</td>\n",
       "    </tr>\n",
       "    <tr>\n",
       "      <th>1</th>\n",
       "      <td>0.123889</td>\n",
       "      <td>-0.031864</td>\n",
       "      <td>-0.228509</td>\n",
       "      <td>0</td>\n",
       "      <td>2</td>\n",
       "    </tr>\n",
       "    <tr>\n",
       "      <th>2</th>\n",
       "      <td>-0.137551</td>\n",
       "      <td>0.272115</td>\n",
       "      <td>-0.049151</td>\n",
       "      <td>1</td>\n",
       "      <td>1</td>\n",
       "    </tr>\n",
       "    <tr>\n",
       "      <th>3</th>\n",
       "      <td>-0.376087</td>\n",
       "      <td>0.127549</td>\n",
       "      <td>-0.022875</td>\n",
       "      <td>1</td>\n",
       "      <td>2</td>\n",
       "    </tr>\n",
       "    <tr>\n",
       "      <th>4</th>\n",
       "      <td>-0.129013</td>\n",
       "      <td>0.456219</td>\n",
       "      <td>-0.003062</td>\n",
       "      <td>1</td>\n",
       "      <td>1</td>\n",
       "    </tr>\n",
       "  </tbody>\n",
       "</table>\n",
       "</div>"
      ],
      "text/plain": [
       "      out 0     out 1     out 2  predicted class  real_class\n",
       "0 -0.131736  0.335459 -0.036521                1           1\n",
       "1  0.123889 -0.031864 -0.228509                0           2\n",
       "2 -0.137551  0.272115 -0.049151                1           1\n",
       "3 -0.376087  0.127549 -0.022875                1           2\n",
       "4 -0.129013  0.456219 -0.003062                1           1"
      ]
     },
     "execution_count": 4,
     "metadata": {},
     "output_type": "execute_result"
    }
   ],
   "source": [
    "output = network(X)\n",
    "\n",
    "show_df = pd.DataFrame(\n",
    "    output.detach().numpy(),\n",
    "    columns = [f\"out {i}\" for i in range(n_classes)]\n",
    ")\n",
    "show_df[\"predicted class\"] = output.max(axis = 1).indices\n",
    "show_df[\"real_class\"] = Y\n",
    "\n",
    "show_df.head(5)"
   ]
  },
  {
   "cell_type": "markdown",
   "id": "b5f7826b-cc40-4101-8a03-167689682993",
   "metadata": {},
   "source": [
    "And, of course, we can use operations from the previous cell to calculate a fraction of correct predictions - accuracy:"
   ]
  },
  {
   "cell_type": "code",
   "execution_count": 5,
   "id": "234acf50-ab27-4d8b-80dd-f7c641a32c31",
   "metadata": {},
   "outputs": [
    {
     "name": "stdout",
     "output_type": "stream",
     "text": [
      "accuracy - 0.3848\n"
     ]
    }
   ],
   "source": [
    "accyracy = (output.max(axis = 1).indices == Y).numpy().mean()\n",
    "print(f\"accuracy - {accyracy}\")"
   ]
  },
  {
   "cell_type": "markdown",
   "id": "9662684c-4166-4036-a926-08d7ba15b3d8",
   "metadata": {},
   "source": [
    "## Optimization\n",
    "\n",
    "Now we can do classic burner model optimisation pipline and print accuracy after each epoch - we get better and better results."
   ]
  },
  {
   "cell_type": "code",
   "execution_count": 7,
   "id": "437f1acb-c509-45d9-af99-09b25baa57af",
   "metadata": {},
   "outputs": [
    {
     "name": "stdout",
     "output_type": "stream",
     "text": [
      "epoch - 0, accuracy - 0.9231\n",
      "epoch - 1, accuracy - 0.924\n",
      "epoch - 2, accuracy - 0.9243\n",
      "epoch - 3, accuracy - 0.9242\n",
      "epoch - 4, accuracy - 0.9243\n",
      "epoch - 5, accuracy - 0.9245\n",
      "epoch - 6, accuracy - 0.9239\n",
      "epoch - 7, accuracy - 0.9244\n",
      "epoch - 8, accuracy - 0.9252\n",
      "epoch - 9, accuracy - 0.9254\n"
     ]
    }
   ],
   "source": [
    "data_loder = DataLoader(\n",
    "    TensorDataset(X, Y), batch_size = 100\n",
    ")\n",
    "\n",
    "optimizer = optim.Adam(network.parameters(), lr = 1e-2)\n",
    "loss_fn = nn.CrossEntropyLoss()\n",
    "\n",
    "for epoch in range(10):\n",
    "    for x, y in data_loder:\n",
    "        optimizer.zero_grad()\n",
    "        output = network(x)\n",
    "        loss_val = loss_fn(output, y)\n",
    "        loss_val.backward()\n",
    "        optimizer.step()\n",
    "    predict = network(X).max(axis = 1).indices\n",
    "    print(f\"epoch - {epoch}, accuracy - {((predict == Y)).numpy().mean()}\")"
   ]
  }
 ],
 "metadata": {
  "kernelspec": {
   "display_name": "Python 3 (ipykernel)",
   "language": "python",
   "name": "python3"
  },
  "language_info": {
   "codemirror_mode": {
    "name": "ipython",
    "version": 3
   },
   "file_extension": ".py",
   "mimetype": "text/x-python",
   "name": "python",
   "nbconvert_exporter": "python",
   "pygments_lexer": "ipython3",
   "version": "3.10.12"
  }
 },
 "nbformat": 4,
 "nbformat_minor": 5
}
