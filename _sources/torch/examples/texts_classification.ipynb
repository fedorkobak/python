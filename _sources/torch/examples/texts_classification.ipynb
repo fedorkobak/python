{
 "cells": [
  {
   "cell_type": "markdown",
   "metadata": {
    "cellId": "9zxlngtrja7lv0wvs9xxij",
    "pycharm": {
     "name": "#%% md\n"
    }
   },
   "source": [
    "# Text classification\n",
    "\n",
    "It's common task for machine learning and in this notebook is showen how it can be solved with deep learning, in particular pytorch."
   ]
  },
  {
   "cell_type": "code",
   "execution_count": 1,
   "metadata": {
    "cellId": "sy01230za7aduvs9p1bsw7"
   },
   "outputs": [],
   "source": [
    "import numpy as np\n",
    "import pandas as pd\n",
    "\n",
    "import re\n",
    "import string\n",
    "from collections import Counter\n",
    "\n",
    "from tqdm import tqdm\n",
    "\n",
    "import torch\n",
    "import torch.nn as nn\n",
    "from torch.optim import Adam\n",
    "from torch.utils.data import (\n",
    "    DataLoader, random_split, Dataset\n",
    ")\n",
    "from torch.nn.utils.rnn import pad_sequence\n",
    "import torch.nn.functional as F\n",
    "\n",
    "import gensim.downloader as api\n",
    "\n",
    "import matplotlib.pyplot as plt\n",
    "from IPython.display import clear_output"
   ]
  },
  {
   "cell_type": "markdown",
   "metadata": {},
   "source": [
    "## Data"
   ]
  },
  {
   "cell_type": "markdown",
   "metadata": {},
   "source": [
    "Here we deal with pretty simple dataset. That just contains review on movies and markers that show weather this comment is positive or negative. We will build a model that can \"read\" the content and evaluate whether a given comment is positive or negative."
   ]
  },
  {
   "cell_type": "code",
   "execution_count": 2,
   "metadata": {},
   "outputs": [
    {
     "data": {
      "text/html": [
       "<div>\n",
       "<style scoped>\n",
       "    .dataframe tbody tr th:only-of-type {\n",
       "        vertical-align: middle;\n",
       "    }\n",
       "\n",
       "    .dataframe tbody tr th {\n",
       "        vertical-align: top;\n",
       "    }\n",
       "\n",
       "    .dataframe thead th {\n",
       "        text-align: right;\n",
       "    }\n",
       "</style>\n",
       "<table border=\"1\" class=\"dataframe\">\n",
       "  <thead>\n",
       "    <tr style=\"text-align: right;\">\n",
       "      <th></th>\n",
       "      <th>review</th>\n",
       "      <th>sentiment</th>\n",
       "    </tr>\n",
       "  </thead>\n",
       "  <tbody>\n",
       "    <tr>\n",
       "      <th>0</th>\n",
       "      <td>One of the other reviewers has mentioned that ...</td>\n",
       "      <td>positive</td>\n",
       "    </tr>\n",
       "    <tr>\n",
       "      <th>1</th>\n",
       "      <td>A wonderful little production. &lt;br /&gt;&lt;br /&gt;The...</td>\n",
       "      <td>positive</td>\n",
       "    </tr>\n",
       "    <tr>\n",
       "      <th>2</th>\n",
       "      <td>I thought this was a wonderful way to spend ti...</td>\n",
       "      <td>positive</td>\n",
       "    </tr>\n",
       "    <tr>\n",
       "      <th>3</th>\n",
       "      <td>Basically there's a family where a little boy ...</td>\n",
       "      <td>negative</td>\n",
       "    </tr>\n",
       "    <tr>\n",
       "      <th>4</th>\n",
       "      <td>Petter Mattei's \"Love in the Time of Money\" is...</td>\n",
       "      <td>positive</td>\n",
       "    </tr>\n",
       "  </tbody>\n",
       "</table>\n",
       "</div>"
      ],
      "text/plain": [
       "                                              review sentiment\n",
       "0  One of the other reviewers has mentioned that ...  positive\n",
       "1  A wonderful little production. <br /><br />The...  positive\n",
       "2  I thought this was a wonderful way to spend ti...  positive\n",
       "3  Basically there's a family where a little boy ...  negative\n",
       "4  Petter Mattei's \"Love in the Time of Money\" is...  positive"
      ]
     },
     "execution_count": 2,
     "metadata": {},
     "output_type": "execute_result"
    }
   ],
   "source": [
    "data = pd.read_csv(\"texts_classification_files/IMDB Dataset.csv\")\n",
    "#data = pd.read_csv(\"../input/imdb-dataset-of-50k-movie-reviews/IMDB Dataset.csv\")\n",
    "data.head(5)"
   ]
  },
  {
   "cell_type": "markdown",
   "metadata": {},
   "source": [
    "## Text vectorisation\n",
    "\n",
    "We need to vectorise our text. There is method that allows to each word match some vector. Here we are using ready tool for this purpose."
   ]
  },
  {
   "cell_type": "code",
   "execution_count": 3,
   "metadata": {},
   "outputs": [],
   "source": [
    "fasttext = api.load('glove-twitter-25')"
   ]
  },
  {
   "cell_type": "markdown",
   "metadata": {},
   "source": [
    "Here is example how this tool can be used for some words."
   ]
  },
  {
   "cell_type": "code",
   "execution_count": 4,
   "metadata": {},
   "outputs": [
    {
     "name": "stdout",
     "output_type": "stream",
     "text": [
      "man -> [ 0.37013  -0.39648  -0.021712 -0.6301   -0.3189    0.34329   0.10968\n",
      "  0.4879   -0.48663   0.36837  -0.39179   0.25414  -4.9282    0.067597\n",
      "  0.37147   0.36817   1.1655    0.092116 -0.87735  -0.74562   0.40903\n",
      "  1.5672   -0.23879   0.24755   0.76386 ]\n",
      "king -> [-0.74501  -0.11992   0.37329   0.36847  -0.4472   -0.2288    0.70118\n",
      "  0.82872   0.39486  -0.58347   0.41488   0.37074  -3.6906   -0.20101\n",
      "  0.11472  -0.34661   0.36208   0.095679 -0.01765   0.68498  -0.049013\n",
      "  0.54049  -0.21005  -0.65397   0.64556 ]\n"
     ]
    }
   ],
   "source": [
    "print(\"man ->\", fasttext[\"man\"])\n",
    "print(\"king ->\", fasttext[\"king\"])"
   ]
  },
  {
   "cell_type": "markdown",
   "metadata": {},
   "source": [
    "## Vocabulary\n",
    "\n",
    "Vocabulary is object that describes all worlds that we allowed to use in our model and basic operation under them."
   ]
  },
  {
   "cell_type": "markdown",
   "metadata": {},
   "source": [
    "The following cell represents possible realisation of the vocabulary in python:"
   ]
  },
  {
   "cell_type": "code",
   "execution_count": 5,
   "metadata": {
    "cellId": "z4ua30e569g7nu6o0p1ya7",
    "collapsed": false,
    "jupyter": {
     "outputs_hidden": false
    },
    "pycharm": {
     "name": "#%%\n"
    }
   },
   "outputs": [],
   "source": [
    "class Vocabulary:\n",
    "    def __init__(self, texts: list[str], min_freq: int = 10):\n",
    "        text = ' '.join(texts)\n",
    "\n",
    "        text = re.sub(r\"http[s]?://(?:[a-zA-Z]|[0-9]|[$-_@.&+]|[!*\\(\\),]|(?:%[0-9a-fA-F][0-9a-fA-F]))+\", \" \", text)\n",
    "        text = re.sub(\"[^a-zA-Z]\", \" \", text)\n",
    "\n",
    "        while '  ' in text:\n",
    "            text = text.replace('  ', ' ')\n",
    "\n",
    "        words = text.strip().lower().split()\n",
    "\n",
    "        c = Counter(words)\n",
    "\n",
    "        self.vocabulary = list(set([word for word in words if c[word] >= min_freq]))\n",
    "        self.vocabulary.append('<unk>')\n",
    "        self._idx2word = {i: word for i, word in enumerate(self.vocabulary)}\n",
    "        self._word2idx = {word: i for i, word in enumerate(self.vocabulary)}\n",
    "\n",
    "    def get_vocabulary(self):\n",
    "        return self.vocabulary\n",
    "\n",
    "    def idx2word(self, idx: int):\n",
    "        if idx not in self._idx2word:\n",
    "            return '<unk>'\n",
    "\n",
    "        return self._idx2word[idx]\n",
    "\n",
    "    def word2idx(self, word: str):\n",
    "        word = word.lower()\n",
    "        if word not in self._word2idx:\n",
    "            return self._word2idx['<unk>']\n",
    "\n",
    "        return self._word2idx[word]\n",
    "    \n",
    "    def encode(self, text):\n",
    "        result = []\n",
    "\n",
    "        for word in text.split():\n",
    "            result.append(self.word2idx(word))\n",
    "\n",
    "        return result\n",
    "\n",
    "    def build_vectors(self, fasttext):\n",
    "        vectors = []\n",
    "        \n",
    "        for word in self.vocabulary:\n",
    "            if fasttext.has_index_for(word):\n",
    "                vectors.append(fasttext[word])\n",
    "            else:\n",
    "                vectors.append(np.zeros(25))\n",
    "\n",
    "        return np.stack(vectors)"
   ]
  },
  {
   "cell_type": "markdown",
   "metadata": {},
   "source": [
    "The vocabulary must be common to both the training and test datasets, so in the following cell the vocabulary has been created under words that can be found in the given sample."
   ]
  },
  {
   "cell_type": "code",
   "execution_count": 6,
   "metadata": {},
   "outputs": [],
   "source": [
    "data[\"sentiment\"] = data[\"sentiment\"].replace({\"positive\" : 1, \"negative\" : 0})\n",
    "vocab = Vocabulary(data[\"review\"].values)"
   ]
  },
  {
   "cell_type": "markdown",
   "metadata": {},
   "source": [
    "## Datasets/dataloaders"
   ]
  },
  {
   "cell_type": "markdown",
   "metadata": {},
   "source": [
    "The following cell extends `torch.dataset` to work with data from the example under consideration and creates ti's instances for training and test samples."
   ]
  },
  {
   "cell_type": "code",
   "execution_count": 7,
   "metadata": {},
   "outputs": [],
   "source": [
    "class IMDB(Dataset):\n",
    "    def __init__(self, texts, labels, vocab):\n",
    "        \n",
    "        self.texts = texts\n",
    "        self.labels = labels\n",
    "        self.vocab = vocab\n",
    "\n",
    "    def __getitem__(self, idx):\n",
    "        text = self.texts[idx]\n",
    "        label = self.labels[idx]\n",
    "\n",
    "        text = torch.LongTensor(self.vocab.encode(text))\n",
    "        label = torch.FloatTensor([label])\n",
    "\n",
    "        return text, label\n",
    "\n",
    "    def __len__(self):\n",
    "        return len(self.texts)\n",
    "\n",
    "\n",
    "train_dataset, test_dataset = np.split(data, [45000], axis = 0)\n",
    "train_dataset = IMDB(\n",
    "    train_dataset[\"review\"].values, \n",
    "    train_dataset[\"sentiment\"].values, \n",
    "    vocab\n",
    ")\n",
    "test_dataset = IMDB(\n",
    "    test_dataset[\"review\"].values, \n",
    "    test_dataset[\"sentiment\"].values, \n",
    "    vocab\n",
    ")"
   ]
  },
  {
   "cell_type": "markdown",
   "metadata": {},
   "source": [
    "Same for dataloaders."
   ]
  },
  {
   "cell_type": "code",
   "execution_count": 8,
   "metadata": {
    "cellId": "ys9mi6x8n8bl6uwhe3uke"
   },
   "outputs": [],
   "source": [
    "pad_idx = len(vocab.vocabulary)\n",
    "def collate_fn(batch):\n",
    "    texts = pad_sequence(\n",
    "        [b[0] for b in batch], \n",
    "        padding_value=pad_idx, \n",
    "        batch_first=True\n",
    "    )\n",
    "    labels = torch.stack([b[1] for b in batch])\n",
    "    \n",
    "    return texts, labels\n",
    "\n",
    "\n",
    "train_loader = DataLoader(\n",
    "    train_dataset, \n",
    "    batch_size=64, \n",
    "    collate_fn=collate_fn, \n",
    "    pin_memory=True\n",
    ")\n",
    "test_loader = DataLoader(\n",
    "    test_dataset, \n",
    "    batch_size=64, \n",
    "    collate_fn=collate_fn, \n",
    "    pin_memory=True\n",
    ")"
   ]
  },
  {
   "cell_type": "markdown",
   "metadata": {},
   "source": [
    "## Model architecture"
   ]
  },
  {
   "cell_type": "code",
   "execution_count": 9,
   "metadata": {
    "cellId": "j7zom9926to9bpqfvayl6d"
   },
   "outputs": [],
   "source": [
    "class TextCNN(nn.Module):\n",
    "    def __init__(self, vocab_size: int, embedding_dim: int, pad_idx):\n",
    "        super().__init__()\n",
    "\n",
    "        self.embedding = nn.Embedding(vocab_size, embedding_dim, padding_idx = pad_idx)\n",
    "\n",
    "        self.convs = nn.ModuleList(\n",
    "            [\n",
    "                nn.Sequential(\n",
    "                    nn.Conv2d(\n",
    "                        in_channels = 1, \n",
    "                        out_channels = 16, \n",
    "                        kernel_size = (fs, embedding_dim)\n",
    "                    ),\n",
    "                    nn.Dropout(0.5)\n",
    "                )\n",
    "                for fs in [2, 3, 4, 5]\n",
    "            ]\n",
    "        )\n",
    "        \n",
    "        self.fc = nn.Linear(4 * 16, 1)\n",
    "    \n",
    "    def forward(self, x):\n",
    "        x = self.embedding(x)\n",
    "        x = x.unsqueeze(1)\n",
    "\n",
    "        x = [F.relu(conv(x)).squeeze(3) for conv in self.convs]\n",
    "        x = [F.max_pool1d(_, _.shape[2]).squeeze(2) for _ in x]\n",
    "\n",
    "        return self.fc(torch.cat(x, dim = 1))"
   ]
  },
  {
   "cell_type": "markdown",
   "metadata": {},
   "source": [
    "## Model fitting functions\n",
    "\n",
    "The following cells define a function that implements model optimisation, evaluation and visualisation procedures."
   ]
  },
  {
   "cell_type": "code",
   "execution_count": 10,
   "metadata": {
    "cellId": "gev1mg9v942jvdi9j6jgk"
   },
   "outputs": [],
   "source": [
    "def binary_accuracy(preds, y):\n",
    "    rounded_preds = torch.round(torch.sigmoid(preds))\n",
    "    correct = (rounded_preds == y).float()\n",
    "    acc = correct.sum() / len(correct)\n",
    "    return acc.item()\n",
    "\n",
    "\n",
    "def train(model) -> tuple[float, float]:\n",
    "    model.train()\n",
    "\n",
    "    train_loss = 0\n",
    "    train_accuracy = 0\n",
    "\n",
    "    for x, y in tqdm(train_loader, desc='Train'):\n",
    "        x, y = x.to(device), y.to(device)\n",
    "\n",
    "        optimizer.zero_grad()\n",
    "\n",
    "        output = model(x)\n",
    "\n",
    "        loss = loss_fn(output, y)\n",
    "\n",
    "        train_loss += loss.item()\n",
    "        train_accuracy += binary_accuracy(output, y)\n",
    "\n",
    "        loss.backward()\n",
    "\n",
    "        optimizer.step()\n",
    "\n",
    "    train_loss /= len(train_loader)\n",
    "    train_accuracy /= len(train_loader)\n",
    "\n",
    "    return train_loss, train_accuracy\n",
    "\n",
    "@torch.inference_mode()\n",
    "def evaluate(model, loader) -> tuple[float, float]:\n",
    "    model.eval()\n",
    "\n",
    "    total_loss = 0\n",
    "    total_accuracy = 0\n",
    "\n",
    "    for x, y in tqdm(loader, desc='Evaluation'):\n",
    "        x, y = x.to(device), y.to(device)\n",
    "\n",
    "        output = model(x)\n",
    "\n",
    "        loss = loss_fn(output, y)\n",
    "\n",
    "        total_loss += loss.item()\n",
    "        total_accuracy += binary_accuracy(output, y)\n",
    "\n",
    "    total_loss /= len(loader)\n",
    "    total_accuracy /= len(loader)\n",
    "\n",
    "    return total_loss, total_accuracy\n",
    "\n",
    "def plot_stats(\n",
    "    train_loss: list[float],\n",
    "    valid_loss: list[float],\n",
    "    train_accuracy: list[float],\n",
    "    valid_accuracy: list[float],\n",
    "    title: str\n",
    "):\n",
    "    plt.figure(figsize=(16, 8))\n",
    "\n",
    "    plt.title(title + ' loss')\n",
    "\n",
    "    plt.plot(train_loss, label='Train loss')\n",
    "    plt.plot(valid_loss, label='Valid loss')\n",
    "    plt.legend()\n",
    "    plt.grid()\n",
    "\n",
    "    plt.show()\n",
    "\n",
    "    plt.figure(figsize=(16, 8))\n",
    "\n",
    "    plt.title(title + ' accuracy')\n",
    "    \n",
    "    plt.plot(train_accuracy, label='Train accuracy')\n",
    "    plt.plot(valid_accuracy, label='Valid accuracy')\n",
    "    plt.legend()\n",
    "    plt.grid()\n",
    "\n",
    "    plt.show()"
   ]
  },
  {
   "cell_type": "markdown",
   "metadata": {},
   "source": [
    "## Fitting"
   ]
  },
  {
   "cell_type": "markdown",
   "metadata": {},
   "source": [
    "This is where everything necessary for running the optimisation algorithm is defined."
   ]
  },
  {
   "cell_type": "code",
   "execution_count": 28,
   "metadata": {},
   "outputs": [
    {
     "name": "stdout",
     "output_type": "stream",
     "text": [
      "cpu\n"
     ]
    }
   ],
   "source": [
    "device = torch.device('cuda:0' if torch.cuda.is_available() else 'cpu')\n",
    "print(device)\n",
    "\n",
    "model = TextCNN(\n",
    "    vocab_size=len(vocab.vocabulary) + 1, \n",
    "    embedding_dim=25,\n",
    "    pad_idx=pad_idx\n",
    ").to(device)\n",
    "vectors = vocab.build_vectors(fasttext)\n",
    "model.embedding.weight.data[:len(vectors)] = torch.from_numpy(vectors)\n",
    "\n",
    "loss_fn = nn.BCEWithLogitsLoss()\n",
    "optimizer = Adam(model.parameters(), lr=1e-3)"
   ]
  },
  {
   "cell_type": "markdown",
   "metadata": {},
   "source": [
    "The fitting process can be started with the next cell. It can take a considerable amount of time, so the results are saved in temporary files."
   ]
  },
  {
   "cell_type": "markdown",
   "metadata": {},
   "source": [
    "```python\n",
    "history = {\n",
    "    \"train_loss\" : [],\n",
    "    \"valid_loss\" : [],\n",
    "    \"train_accuracy\" : [],\n",
    "    \"valid_accuracy\" : []\n",
    "}\n",
    "```"
   ]
  },
  {
   "cell_type": "markdown",
   "metadata": {
    "cellId": "b08v3hrqacbpbw1g4fe03"
   },
   "source": [
    "```python\n",
    "for epoch in range(5):\n",
    "    train_loss, train_accuracy = train(model)\n",
    "    valid_loss, valid_accuracy = evaluate(model, test_loader)\n",
    "\n",
    "    history[\"train_loss\"].append(train_loss)\n",
    "    history[\"valid_loss\"].append(valid_loss)\n",
    "    history[\"train_accuracy\"].append(train_accuracy)\n",
    "    history[\"valid_accuracy\"].append(valid_accuracy)\n",
    "\n",
    "    clear_output()\n",
    "\n",
    "    plot_stats(\n",
    "        history[\"train_loss\"], history[\"valid_loss\"],\n",
    "        history[\"train_accuracy\"], history[\"valid_accuracy\"],\n",
    "        \"Learning curves\"\n",
    "    )\n",
    "```"
   ]
  },
  {
   "cell_type": "markdown",
   "metadata": {},
   "source": [
    "```python\n",
    "with open(\"texts_classification_files/model.pck\", \"wb\") as f:\n",
    "    torch.save(model.state_dict(), f)\n",
    "with open(\"texts_classification_files/history.pck\", \"wb\") as f:\n",
    "    pickle.dump(history, f)\n",
    "```"
   ]
  },
  {
   "cell_type": "markdown",
   "metadata": {},
   "source": [
    "The following cell shows the learning curves of the model fitting process."
   ]
  },
  {
   "cell_type": "code",
   "execution_count": 79,
   "metadata": {},
   "outputs": [
    {
     "data": {
      "image/png": "[encoded data removed]",
      "text/plain": [
       "<Figure size 1600x800 with 1 Axes>"
      ]
     },
     "metadata": {},
     "output_type": "display_data"
    },
    {
     "data": {
      "image/png": "[encoded data removed]",
      "text/plain": [
       "<Figure size 1600x800 with 1 Axes>"
      ]
     },
     "metadata": {},
     "output_type": "display_data"
    }
   ],
   "source": [
    "with open(\"texts_classification_files/history.pck\", \"rb\") as f:\n",
    "    history = pickle.load(f)\n",
    "\n",
    "plot_stats(\n",
    "    history[\"train_loss\"], history[\"valid_loss\"],\n",
    "    history[\"train_accuracy\"], history[\"valid_accuracy\"],\n",
    "    \"Learning curves\"\n",
    ")"
   ]
  }
 ],
 "metadata": {
  "kaggle": {
   "accelerator": "gpu",
   "dataSources": [
    {
     "datasetId": 134715,
     "sourceId": 320111,
     "sourceType": "datasetVersion"
    }
   ],
   "dockerImageVersionId": 30627,
   "isGpuEnabled": true,
   "isInternetEnabled": true,
   "language": "python",
   "sourceType": "notebook"
  },
  "kernelspec": {
   "display_name": "Python 3 (ipykernel)",
   "language": "python",
   "name": "python3"
  },
  "language_info": {
   "codemirror_mode": {
    "name": "ipython",
    "version": 3
   },
   "file_extension": ".py",
   "mimetype": "text/x-python",
   "name": "python",
   "nbconvert_exporter": "python",
   "pygments_lexer": "ipython3",
   "version": "3.10.12"
  },
  "notebookId": "be6e82ed-bd2e-40d0-86cf-23d5c36c0468",
  "notebookPath": "8/Lecture_8_Intro_to_DL.ipynb"
 },
 "nbformat": 4,
 "nbformat_minor": 4
}
