{
 "cells": [
  {
   "cell_type": "markdown",
   "metadata": {},
   "source": [
    "# Dimentionality\n",
    "\n",
    "Dimentionality is a crucial property of the tensor, so it's important to know the torch tools to manage dimentionality."
   ]
  },
  {
   "cell_type": "code",
   "execution_count": 1,
   "metadata": {},
   "outputs": [],
   "source": [
    "import torch\n",
    "from random import randint"
   ]
  },
  {
   "cell_type": "markdown",
   "metadata": {},
   "source": [
    "## Get\n",
    "\n",
    "There are two methods to get `torch.Tensor` dimentionality to use `torch.Tensor.shape` attribute or to use `torch.Tensor.size` methods."
   ]
  },
  {
   "cell_type": "markdown",
   "metadata": {},
   "source": [
    "---\n",
    "\n",
    "In the follwing cells both methods were applied to the `test_tensor`."
   ]
  },
  {
   "cell_type": "code",
   "execution_count": 4,
   "metadata": {},
   "outputs": [],
   "source": [
    "test_tensor = torch.zeros([randint(2, 10) for i in range(randint(3, 6))])"
   ]
  },
  {
   "cell_type": "code",
   "execution_count": 5,
   "metadata": {},
   "outputs": [
    {
     "data": {
      "text/plain": [
       "torch.Size([8, 10, 9, 4, 3])"
      ]
     },
     "execution_count": 5,
     "metadata": {},
     "output_type": "execute_result"
    }
   ],
   "source": [
    "test_tensor.shape"
   ]
  },
  {
   "cell_type": "code",
   "execution_count": 6,
   "metadata": {},
   "outputs": [
    {
     "data": {
      "text/plain": [
       "torch.Size([8, 10, 9, 4, 3])"
      ]
     },
     "execution_count": 6,
     "metadata": {},
     "output_type": "execute_result"
    }
   ],
   "source": [
    "test_tensor.size()"
   ]
  },
  {
   "cell_type": "markdown",
   "metadata": {},
   "source": [
    "### `torch.Size`\n",
    "\n",
    "`torch.Size` object keeps dimentionality in it. It have some features:"
   ]
  },
  {
   "cell_type": "markdown",
   "metadata": {},
   "source": [
    "Typical Python indexing methods."
   ]
  },
  {
   "cell_type": "code",
   "execution_count": 37,
   "metadata": {},
   "outputs": [
    {
     "name": "stdout",
     "output_type": "stream",
     "text": [
      "Original shape torch.Size([6, 6, 5, 4, 2, 3, 2])\n",
      "Shape slice torch.Size([6, 5, 4, 2])\n"
     ]
    }
   ],
   "source": [
    "tens = torch.zeros([randint(2,6) for i in range(7)])\n",
    "print(\"Original shape\", tens.shape)\n",
    "print(\"Shape slice\", tens.shape[1:5])"
   ]
  },
  {
   "cell_type": "markdown",
   "metadata": {},
   "source": [
    "Some operators will have meaning when used with certain types of data. \n",
    "For example, `==` works with `tuple` or `list`."
   ]
  },
  {
   "cell_type": "code",
   "execution_count": 24,
   "metadata": {},
   "outputs": [
    {
     "data": {
      "text/plain": [
       "(True, False)"
      ]
     },
     "execution_count": 24,
     "metadata": {},
     "output_type": "execute_result"
    }
   ],
   "source": [
    "tens = torch.Tensor(4,3)\n",
    "(\n",
    "    tens.shape == (4, 3), \n",
    "    tens.shape == [3, 1]\n",
    ")"
   ]
  },
  {
   "cell_type": "markdown",
   "metadata": {},
   "source": [
    "## Null dimentional tensors\n",
    "\n",
    "In PyTorch, there are \"null-dimensional\" tensors, which are tensors with a single value. In such cases, the tensor appears without any square brackets denoting its dimensionality. For example, when we print the tensor, it doesn't show any brackets to indicate it's a single value. When we print its shape, it displays an empty list, signifying that the tensor has no dimensions."
   ]
  },
  {
   "cell_type": "code",
   "execution_count": 38,
   "metadata": {},
   "outputs": [
    {
     "name": "stdout",
     "output_type": "stream",
     "text": [
      "tensor(3)\n",
      "torch.Size([])\n"
     ]
    }
   ],
   "source": [
    "example_tensor = torch.tensor(3)\n",
    "print(example_tensor)\n",
    "print(example_tensor.shape)"
   ]
  },
  {
   "cell_type": "markdown",
   "metadata": {},
   "source": [
    "## Reshape like \n",
    "\n",
    "The transformations discussed in this section allow you to change the dimensionality of a tensor while preserving the order of its elements. The order is determined by filling elements from the innermost dimension first, then moving to the next dimension, and so on. This order is maintained in the reshaped tensor but adapted to the new dimensionality.\n",
    "\n",
    "There are two operations in Torch that allow you to perform such transformations:\n",
    "\n",
    "- `torch.Tensor.view`: The fastest method, but it requires the tensor to be contiguous.\n",
    "- `torch.Tensor.reshape` (or the identical function `torch.reshape`): If the tensor is contiguous, it will still use `torch.Tensor.view`. Otherwise, it copies the tensor to make it contiguous before applying `torch.view`.\n",
    "\n",
    "Find out more int [particular page](dimentionality/reshape_like.ipynb)."
   ]
  },
  {
   "cell_type": "markdown",
   "metadata": {},
   "source": [
    "---\n",
    "\n",
    "As an example, consider a flat tensor (vector)."
   ]
  },
  {
   "cell_type": "code",
   "execution_count": 7,
   "metadata": {},
   "outputs": [
    {
     "data": {
      "text/plain": [
       "tensor([ 0,  1,  2,  3,  4,  5,  6,  7,  8,  9, 10, 11])"
      ]
     },
     "execution_count": 7,
     "metadata": {},
     "output_type": "execute_result"
    }
   ],
   "source": [
    "example = torch.arange(12)\n",
    "example"
   ]
  },
  {
   "cell_type": "markdown",
   "metadata": {},
   "source": [
    "Using the `torhc.tensor.reshape` method, we composed a 3x4 matrix from the elements of the original tensor."
   ]
  },
  {
   "cell_type": "code",
   "execution_count": 9,
   "metadata": {},
   "outputs": [
    {
     "data": {
      "text/plain": [
       "tensor([[ 0,  1,  2,  3],\n",
       "        [ 4,  5,  6,  7],\n",
       "        [ 8,  9, 10, 11]])"
      ]
     },
     "execution_count": 9,
     "metadata": {},
     "output_type": "execute_result"
    }
   ],
   "source": [
    "example = example.reshape([3, 4])\n",
    "example"
   ]
  },
  {
   "cell_type": "markdown",
   "metadata": {},
   "source": [
    "Using the `torch.reshape` function, we obtained a 3-dimensional tensor with the original elements."
   ]
  },
  {
   "cell_type": "code",
   "execution_count": 10,
   "metadata": {},
   "outputs": [
    {
     "data": {
      "text/plain": [
       "tensor([[[ 0,  1],\n",
       "         [ 2,  3],\n",
       "         [ 4,  5]],\n",
       "\n",
       "        [[ 6,  7],\n",
       "         [ 8,  9],\n",
       "         [10, 11]]])"
      ]
     },
     "execution_count": 10,
     "metadata": {},
     "output_type": "execute_result"
    }
   ],
   "source": [
    "torch.reshape(example, (2,3,2))"
   ]
  },
  {
   "cell_type": "markdown",
   "metadata": {},
   "source": [
    "## Transpose/permute\n",
    "\n",
    "Transposing is an operation that reindexes the elements of the original tensor. For simplicity, consider the two-dimensional case: if we have a matrix $\\left[x_{ij}\\right]_{n \\times m}$, after transposing, we get a matrix $\\left[x_{ji}\\right]_{m \\times n}$. Learn more on the [specific page](dimentionality/transpose_permute.ipynb).\n",
    "\n",
    "For operations like that torch have tools:\n",
    "\n",
    "- `torch.transpose` function, `torch.Tensor.traspose` method to change indexes for two sepcified axis.\n",
    "- `torch.Tensor.T` attribute that switches dimentions for two dimentional tensor.\n",
    "- `torch.premute` function, `torch.Tensor.permute` method to set specific order of dimentions not only switch two selected."
   ]
  },
  {
   "cell_type": "markdown",
   "metadata": {},
   "source": [
    "---\n",
    "\n",
    "As example consider matrix defined in the following cell:"
   ]
  },
  {
   "cell_type": "code",
   "execution_count": 19,
   "metadata": {},
   "outputs": [
    {
     "data": {
      "text/plain": [
       "tensor([[ 0,  1,  2,  3],\n",
       "        [ 4,  5,  6,  7],\n",
       "        [ 8,  9, 10, 11]])"
      ]
     },
     "execution_count": 19,
     "metadata": {},
     "output_type": "execute_result"
    }
   ],
   "source": [
    "example = torch.arange(12).reshape([3, 4])\n",
    "example"
   ]
  },
  {
   "cell_type": "markdown",
   "metadata": {},
   "source": [
    "Applying `transpose(0, 1)` specifies switching dimension 0 with dimension 1:"
   ]
  },
  {
   "cell_type": "code",
   "execution_count": 20,
   "metadata": {},
   "outputs": [
    {
     "data": {
      "text/plain": [
       "tensor([[ 0,  4,  8],\n",
       "        [ 1,  5,  9],\n",
       "        [ 2,  6, 10],\n",
       "        [ 3,  7, 11]])"
      ]
     },
     "execution_count": 20,
     "metadata": {},
     "output_type": "execute_result"
    }
   ],
   "source": [
    "example.transpose(0, 1)"
   ]
  },
  {
   "cell_type": "markdown",
   "metadata": {},
   "source": [
    "But `permute(1, 0)` gives the same output. It specifies that the index at position 1 in the input should move to position 0 in the output, and the index at position 0 in the original tensor should move to position 1 in the result."
   ]
  },
  {
   "cell_type": "code",
   "execution_count": 21,
   "metadata": {},
   "outputs": [
    {
     "data": {
      "text/plain": [
       "tensor([[ 0,  4,  8],\n",
       "        [ 1,  5,  9],\n",
       "        [ 2,  6, 10],\n",
       "        [ 3,  7, 11]])"
      ]
     },
     "execution_count": 21,
     "metadata": {},
     "output_type": "execute_result"
    }
   ],
   "source": [
    "example.permute(1, 0)"
   ]
  },
  {
   "cell_type": "markdown",
   "metadata": {},
   "source": [
    "## Add dimention\n",
    "\n",
    "Adding an extra dimension to a tensor can be beneficial, particularly when performing matrix multiplication.\n",
    "\n",
    "All methods of creating a new dimension will result in a new axis being created at the specified position. Each element at the specified position will be transformed into a one-element array along this new axis. Find out more in the [specific page](dimentionality/add_dimention.ipynb)."
   ]
  },
  {
   "cell_type": "markdown",
   "metadata": {},
   "source": [
    "---\n",
    "\n",
    "The following example is a quick overview of this operation. For a matrix, it inserts a rows dimension using a `None` index and a columns dimension using the `unsqueeze` method. "
   ]
  },
  {
   "cell_type": "code",
   "execution_count": 63,
   "metadata": {},
   "outputs": [
    {
     "data": {
      "text/plain": [
       "tensor([[ 0,  1,  2],\n",
       "        [ 3,  4,  5],\n",
       "        [ 6,  7,  8],\n",
       "        [ 9, 10, 11],\n",
       "        [12, 13, 14]])"
      ]
     },
     "metadata": {},
     "output_type": "display_data"
    },
    {
     "data": {
      "text/plain": [
       "tensor([[[ 0,  1,  2]],\n",
       "\n",
       "        [[ 3,  4,  5]],\n",
       "\n",
       "        [[ 6,  7,  8]],\n",
       "\n",
       "        [[ 9, 10, 11]],\n",
       "\n",
       "        [[12, 13, 14]]])"
      ]
     },
     "metadata": {},
     "output_type": "display_data"
    },
    {
     "data": {
      "text/plain": [
       "tensor([[[ 0],\n",
       "         [ 1],\n",
       "         [ 2]],\n",
       "\n",
       "        [[ 3],\n",
       "         [ 4],\n",
       "         [ 5]],\n",
       "\n",
       "        [[ 6],\n",
       "         [ 7],\n",
       "         [ 8]],\n",
       "\n",
       "        [[ 9],\n",
       "         [10],\n",
       "         [11]],\n",
       "\n",
       "        [[12],\n",
       "         [13],\n",
       "         [14]]])"
      ]
     },
     "metadata": {},
     "output_type": "display_data"
    }
   ],
   "source": [
    "show_tensor = torch.arange(15).reshape(5,3)\n",
    "display(show_tensor)\n",
    "\n",
    "display(show_tensor[:, None])\n",
    "display(show_tensor.unsqueeze(-1))"
   ]
  },
  {
   "cell_type": "markdown",
   "metadata": {},
   "source": [
    "## Remove dimention"
   ]
  },
  {
   "cell_type": "markdown",
   "metadata": {},
   "source": [
    "The `torch.squeeze` function and the `torch.Tensor.squeeze` method remove dimensions from a tensor that have a size of one. These dimensions are considered \"ambiguous\" as they contain only a single value. Find out more in [corresponding page](dimentionality/squeeze.ipynb)."
   ]
  },
  {
   "cell_type": "markdown",
   "metadata": {},
   "source": [
    "---\n",
    "\n",
    "Consider a tensor containing a few 3D objects. These objects are actually single rows wrapped as 3D layers, with each element being a 1-element vector. "
   ]
  },
  {
   "cell_type": "code",
   "execution_count": 12,
   "metadata": {},
   "outputs": [
    {
     "data": {
      "text/plain": [
       "tensor([[[[ 0],\n",
       "          [ 1],\n",
       "          [ 2],\n",
       "          [ 3],\n",
       "          [ 4]]],\n",
       "\n",
       "\n",
       "        [[[ 5],\n",
       "          [ 6],\n",
       "          [ 7],\n",
       "          [ 8],\n",
       "          [ 9]]],\n",
       "\n",
       "\n",
       "        [[[10],\n",
       "          [11],\n",
       "          [12],\n",
       "          [13],\n",
       "          [14]]]])"
      ]
     },
     "execution_count": 12,
     "metadata": {},
     "output_type": "execute_result"
    }
   ],
   "source": [
    "example_tensor = torch.arange(15).reshape(3, 1, 5, 1)\n",
    "example_tensor"
   ]
  },
  {
   "cell_type": "markdown",
   "metadata": {},
   "source": [
    "By applying the `squeeze` method we got just a matrix, so any 3D tensor with ambiguous values becomes just a vector."
   ]
  },
  {
   "cell_type": "code",
   "execution_count": 14,
   "metadata": {},
   "outputs": [
    {
     "data": {
      "text/plain": [
       "tensor([[ 0,  1,  2,  3,  4],\n",
       "        [ 5,  6,  7,  8,  9],\n",
       "        [10, 11, 12, 13, 14]])"
      ]
     },
     "execution_count": 14,
     "metadata": {},
     "output_type": "execute_result"
    }
   ],
   "source": [
    "example_tensor.squeeze()"
   ]
  },
  {
   "cell_type": "markdown",
   "metadata": {},
   "source": [
    "## Add padding\n",
    "\n",
    "There are cases when you'll need to add elements along certain axes, regardless of their exact values, just to make the elements compatible for passing to the next layer of the network. For this purpose, you can use `torch.nn.functional.pad`.\n",
    "\n",
    "Find out more in official [documentaion page](https://pytorch.org/docs/stable/generated/torch.nn.functional.pad.html).\n",
    "\n",
    "**Note**: There are **special layers** in Torch that implement padding—it's preferable to use them."
   ]
  },
  {
   "cell_type": "markdown",
   "metadata": {},
   "source": [
    "In the first argument, you specify the tensor that needs to be transformed, and in the second, an array of numbers $(x_1^l, x_1^r, x_2^l, x_2^r, \\dots, x_m^l, x_m^r)$, where $m$ is the number of dimensions of the tensor being transformed. $x_k^l$ is the number of elements to be added at the beginning (left) of the $k$-th dimension, and $x_k^r$ is the number of elements to be added at the end (right side)."
   ]
  },
  {
   "cell_type": "markdown",
   "metadata": {},
   "source": [
    "---\n",
    "\n",
    "As an example, consider a matrix of ones."
   ]
  },
  {
   "cell_type": "code",
   "execution_count": 45,
   "metadata": {},
   "outputs": [
    {
     "data": {
      "text/plain": [
       "tensor([[1., 1., 1., 1., 1.],\n",
       "        [1., 1., 1., 1., 1.],\n",
       "        [1., 1., 1., 1., 1.],\n",
       "        [1., 1., 1., 1., 1.],\n",
       "        [1., 1., 1., 1., 1.]])"
      ]
     },
     "execution_count": 45,
     "metadata": {},
     "output_type": "execute_result"
    }
   ],
   "source": [
    "example = torch.ones(5, 5)\n",
    "example"
   ]
  },
  {
   "cell_type": "markdown",
   "metadata": {},
   "source": [
    "The following cell adds one element at the beginning of each row and two elements at the end of each row:"
   ]
  },
  {
   "cell_type": "code",
   "execution_count": 43,
   "metadata": {},
   "outputs": [
    {
     "data": {
      "text/plain": [
       "tensor([[0., 1., 1., 1., 1., 1., 0., 0.],\n",
       "        [0., 1., 1., 1., 1., 1., 0., 0.],\n",
       "        [0., 1., 1., 1., 1., 1., 0., 0.],\n",
       "        [0., 1., 1., 1., 1., 1., 0., 0.],\n",
       "        [0., 1., 1., 1., 1., 1., 0., 0.]])"
      ]
     },
     "execution_count": 43,
     "metadata": {},
     "output_type": "execute_result"
    }
   ],
   "source": [
    "torch.nn.functional.pad(example, (1, 2))"
   ]
  },
  {
   "cell_type": "markdown",
   "metadata": {},
   "source": [
    "Or almost the same with columns:"
   ]
  },
  {
   "cell_type": "code",
   "execution_count": 44,
   "metadata": {},
   "outputs": [
    {
     "data": {
      "text/plain": [
       "tensor([[0., 0., 0., 0., 0.],\n",
       "        [0., 0., 0., 0., 0.],\n",
       "        [1., 1., 1., 1., 1.],\n",
       "        [1., 1., 1., 1., 1.],\n",
       "        [1., 1., 1., 1., 1.],\n",
       "        [1., 1., 1., 1., 1.],\n",
       "        [1., 1., 1., 1., 1.],\n",
       "        [0., 0., 0., 0., 0.]])"
      ]
     },
     "execution_count": 44,
     "metadata": {},
     "output_type": "execute_result"
    }
   ],
   "source": [
    "torch.nn.functional.pad(example, (0, 0, 2, 1))"
   ]
  }
 ],
 "metadata": {
  "kernelspec": {
   "display_name": "venv",
   "language": "python",
   "name": "python3"
  },
  "language_info": {
   "codemirror_mode": {
    "name": "ipython",
    "version": 3
   },
   "file_extension": ".py",
   "mimetype": "text/x-python",
   "name": "python",
   "nbconvert_exporter": "python",
   "pygments_lexer": "ipython3",
   "version": "3.12.3"
  }
 },
 "nbformat": 4,
 "nbformat_minor": 2
}
