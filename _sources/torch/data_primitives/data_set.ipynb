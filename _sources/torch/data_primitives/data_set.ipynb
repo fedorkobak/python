{
 "cells": [
  {
   "cell_type": "markdown",
   "id": "0df16fb2",
   "metadata": {},
   "source": [
    "# Data set\n",
    "\n",
    "A data set in Torch is a special type of object that prepares data and returns individual data units with indexing syntax. It have to implement such methods:"
   ]
  },
  {
   "cell_type": "code",
   "execution_count": 3,
   "id": "a8b21fd6",
   "metadata": {},
   "outputs": [],
   "source": [
    "import torch\n",
    "import torch.utils.data as td"
   ]
  },
  {
   "cell_type": "markdown",
   "id": "d38c78da",
   "metadata": {},
   "source": [
    "## Iterable datasets\n",
    "\n",
    "There is a special kind of dataset - iterable dataset. It's property is that it should be used as an iterator - it have to have a specil `__iter__` method.\n",
    "\n",
    "Check the [corresposponding section](https://pytorch.org/docs/stable/data.html#torch.utils.data.IterableDataset) of the pytorch documentation."
   ]
  },
  {
   "cell_type": "markdown",
   "id": "594992e1",
   "metadata": {},
   "source": [
    "---\n",
    "\n",
    "The following cell defines such kind of dataset."
   ]
  },
  {
   "cell_type": "code",
   "execution_count": 4,
   "id": "3dca1486",
   "metadata": {},
   "outputs": [],
   "source": [
    "class MyDataset(td.IterableDataset):\n",
    "    def __iter__(self):\n",
    "        return iter(torch.arange(0, 20)[:, None])"
   ]
  },
  {
   "cell_type": "markdown",
   "id": "d1d2cc17",
   "metadata": {},
   "source": [
    "As a result you'll have a object that return all instances one by one."
   ]
  },
  {
   "cell_type": "code",
   "execution_count": 5,
   "id": "d16e8c0a",
   "metadata": {},
   "outputs": [
    {
     "data": {
      "text/plain": [
       "[tensor([0]),\n",
       " tensor([1]),\n",
       " tensor([2]),\n",
       " tensor([3]),\n",
       " tensor([4]),\n",
       " tensor([5]),\n",
       " tensor([6]),\n",
       " tensor([7]),\n",
       " tensor([8]),\n",
       " tensor([9]),\n",
       " tensor([10]),\n",
       " tensor([11]),\n",
       " tensor([12]),\n",
       " tensor([13]),\n",
       " tensor([14]),\n",
       " tensor([15]),\n",
       " tensor([16]),\n",
       " tensor([17]),\n",
       " tensor([18]),\n",
       " tensor([19])]"
      ]
     },
     "execution_count": 5,
     "metadata": {},
     "output_type": "execute_result"
    }
   ],
   "source": [
    "my_dataset = MyDataset()\n",
    "list(my_dataset)"
   ]
  },
  {
   "cell_type": "markdown",
   "id": "be5b4598",
   "metadata": {},
   "source": [
    "The following cell shows the application of the data loader to the dataset we've created earlier."
   ]
  },
  {
   "cell_type": "code",
   "execution_count": 6,
   "id": "47f861e0",
   "metadata": {},
   "outputs": [
    {
     "data": {
      "text/plain": [
       "[tensor([[0],\n",
       "         [1],\n",
       "         [2]]),\n",
       " tensor([[3],\n",
       "         [4],\n",
       "         [5]]),\n",
       " tensor([[6],\n",
       "         [7],\n",
       "         [8]]),\n",
       " tensor([[ 9],\n",
       "         [10],\n",
       "         [11]]),\n",
       " tensor([[12],\n",
       "         [13],\n",
       "         [14]]),\n",
       " tensor([[15],\n",
       "         [16],\n",
       "         [17]]),\n",
       " tensor([[18],\n",
       "         [19]])]"
      ]
     },
     "execution_count": 6,
     "metadata": {},
     "output_type": "execute_result"
    }
   ],
   "source": [
    "data_loader = td.DataLoader(my_dataset, batch_size=3)\n",
    "list(data_loader)"
   ]
  },
  {
   "cell_type": "markdown",
   "id": "b43cd2dc",
   "metadata": {},
   "source": [
    "## Train/test split\n",
    "\n",
    "To split data into train/test subsets there is pytorch function `torch.utils.data.random_split`. It doesn't actually split the data, but ruther returns an object whose indices refer to the different elements of the original dataset."
   ]
  },
  {
   "cell_type": "markdown",
   "id": "e3928214",
   "metadata": {},
   "source": [
    "---\n",
    "\n",
    "The following generates the Torch dataset, which will be used as an example and prints it's length."
   ]
  },
  {
   "cell_type": "code",
   "execution_count": 33,
   "id": "3a399d85",
   "metadata": {},
   "outputs": [
    {
     "data": {
      "text/plain": [
       "5"
      ]
     },
     "execution_count": 33,
     "metadata": {},
     "output_type": "execute_result"
    }
   ],
   "source": [
    "X = torch.arange(20).reshape((5, 4))\n",
    "data_set = td.TensorDataset(X)\n",
    "len(data_set)"
   ]
  },
  {
   "cell_type": "markdown",
   "id": "d741b80b",
   "metadata": {},
   "source": [
    "Applying the `torch.utils.data.random_split` function to this object returns a `Subset` object that practicaly behaves just like regular dataset.\n",
    "\n",
    "The length argument specifies the proportion of the original dataset that will be included result subsets."
   ]
  },
  {
   "cell_type": "code",
   "execution_count": 34,
   "id": "49fc6999",
   "metadata": {},
   "outputs": [
    {
     "data": {
      "text/plain": [
       "(torch.utils.data.dataset.Subset, torch.utils.data.dataset.Subset)"
      ]
     },
     "execution_count": 34,
     "metadata": {},
     "output_type": "execute_result"
    }
   ],
   "source": [
    "train, test = td.random_split(dataset=data_set, lengths=[0.8, 0.2])\n",
    "type(train), type(test)"
   ]
  },
  {
   "cell_type": "markdown",
   "id": "cfb7d06f",
   "metadata": {},
   "source": [
    "The following cell demonstrates that the sizes of the result subsets correspond to the values specified in the `lengths` argument."
   ]
  },
  {
   "cell_type": "code",
   "execution_count": 35,
   "id": "c9daf655",
   "metadata": {},
   "outputs": [
    {
     "data": {
      "text/plain": [
       "(4, 1)"
      ]
     },
     "execution_count": 35,
     "metadata": {},
     "output_type": "execute_result"
    }
   ],
   "source": [
    "len(train), len(test)"
   ]
  },
  {
   "cell_type": "markdown",
   "id": "8de7f254",
   "metadata": {},
   "source": [
    "### Seed\n",
    "\n",
    "The seed can be specified using the `generator` argument. Pass the corresponding torch generator there."
   ]
  },
  {
   "cell_type": "markdown",
   "id": "8e0fa778",
   "metadata": {},
   "source": [
    "---\n",
    "\n",
    "The following cell demonstrates the implementation of a fixed random seed using the generator function `Generator().manual_seed()`."
   ]
  },
  {
   "cell_type": "code",
   "execution_count": 45,
   "id": "4a323f79",
   "metadata": {},
   "outputs": [
    {
     "data": {
      "text/plain": [
       "[(tensor([4, 5, 6, 7]),),\n",
       " (tensor([12, 13, 14, 15]),),\n",
       " (tensor([ 8,  9, 10, 11]),),\n",
       " (tensor([16, 17, 18, 19]),)]"
      ]
     },
     "execution_count": 45,
     "metadata": {},
     "output_type": "execute_result"
    }
   ],
   "source": [
    "train, test = td.random_split(\n",
    "    dataset=td.TensorDataset(X),\n",
    "    lengths=(0.8, 0.2),\n",
    "    generator=torch.Generator().manual_seed(20)\n",
    ")\n",
    "[t for t in train]"
   ]
  },
  {
   "cell_type": "markdown",
   "id": "6ed6d0b3",
   "metadata": {},
   "source": [
    "Therefore, any run of this cell will produce the same result."
   ]
  }
 ],
 "metadata": {
  "kernelspec": {
   "display_name": "knowledge",
   "language": "python",
   "name": "python3"
  },
  "language_info": {
   "codemirror_mode": {
    "name": "ipython",
    "version": 3
   },
   "file_extension": ".py",
   "mimetype": "text/x-python",
   "name": "python",
   "nbconvert_exporter": "python",
   "pygments_lexer": "ipython3",
   "version": "3.12.9"
  }
 },
 "nbformat": 4,
 "nbformat_minor": 5
}
