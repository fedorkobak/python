{
 "cells": [
  {
   "cell_type": "markdown",
   "metadata": {},
   "source": [
    "# Sequential\n",
    "\n",
    "`torch.nn.sequential` allows you to connect layers into single chain."
   ]
  },
  {
   "cell_type": "code",
   "execution_count": 3,
   "metadata": {},
   "outputs": [],
   "source": [
    "import torch\n",
    "from random import randint"
   ]
  },
  {
   "cell_type": "markdown",
   "metadata": {},
   "source": [
    "## Display\n",
    "\n",
    "You can check what your sequential contains by viewing it in terminal or jupyter cell.\n",
    "\n",
    "---\n",
    "\n",
    "As an example, consider the chain of linear layers defined in the following cell:"
   ]
  },
  {
   "cell_type": "code",
   "execution_count": 9,
   "metadata": {},
   "outputs": [],
   "source": [
    "layers_sizes = [randint(4,10) for i in range(5)]\n",
    "\n",
    "layer = torch.nn.Sequential(*[\n",
    "    torch.nn.Linear(layers_sizes[i], layers_sizes[i+1]) \n",
    "    for i in range(len(layers_sizes)-1)\n",
    "])"
   ]
  },
  {
   "cell_type": "markdown",
   "metadata": {},
   "source": [
    "You can coinvert it into string."
   ]
  },
  {
   "cell_type": "code",
   "execution_count": 10,
   "metadata": {},
   "outputs": [
    {
     "data": {
      "text/plain": [
       "'Sequential(\\n  (0): Linear(in_features=5, out_features=9, bias=True)\\n  (1): Linear(in_features=9, out_features=5, bias=True)\\n  (2): Linear(in_features=5, out_features=10, bias=True)\\n  (3): Linear(in_features=10, out_features=5, bias=True)\\n)'"
      ]
     },
     "execution_count": 10,
     "metadata": {},
     "output_type": "execute_result"
    }
   ],
   "source": [
    "str(layer)"
   ]
  },
  {
   "cell_type": "markdown",
   "metadata": {},
   "source": [
    "As a result, you can apply `print` to the `sequential` or use it as output for jupyter cell."
   ]
  },
  {
   "cell_type": "code",
   "execution_count": 11,
   "metadata": {},
   "outputs": [
    {
     "name": "stdout",
     "output_type": "stream",
     "text": [
      "Sequential(\n",
      "  (0): Linear(in_features=5, out_features=9, bias=True)\n",
      "  (1): Linear(in_features=9, out_features=5, bias=True)\n",
      "  (2): Linear(in_features=5, out_features=10, bias=True)\n",
      "  (3): Linear(in_features=10, out_features=5, bias=True)\n",
      ")\n"
     ]
    },
    {
     "data": {
      "text/plain": [
       "Sequential(\n",
       "  (0): Linear(in_features=5, out_features=9, bias=True)\n",
       "  (1): Linear(in_features=9, out_features=5, bias=True)\n",
       "  (2): Linear(in_features=5, out_features=10, bias=True)\n",
       "  (3): Linear(in_features=10, out_features=5, bias=True)\n",
       ")"
      ]
     },
     "execution_count": 11,
     "metadata": {},
     "output_type": "execute_result"
    }
   ],
   "source": [
    "print(layer)\n",
    "layer"
   ]
  },
  {
   "cell_type": "markdown",
   "metadata": {},
   "source": [
    "## Defining layers names\n",
    "\n",
    "Defining sequential with `collections.OrderedDict` you can set names for layers."
   ]
  },
  {
   "cell_type": "markdown",
   "metadata": {},
   "source": [
    "---\n",
    "\n",
    "Consider the following sequence of randomly named ReLU layers with \"my_special_layer\" sigmoid at the end as an example."
   ]
  },
  {
   "cell_type": "code",
   "execution_count": 41,
   "metadata": {},
   "outputs": [
    {
     "data": {
      "text/plain": [
       "Sequential(\n",
       "  (anatriptic): ReLU()\n",
       "  (hookeys): ReLU()\n",
       "  (splenical): ReLU()\n",
       "  (starvers): ReLU()\n",
       "  (harlot): ReLU()\n",
       "  (my_special_layer): Sigmoid()\n",
       ")"
      ]
     },
     "execution_count": 41,
     "metadata": {},
     "output_type": "execute_result"
    }
   ],
   "source": [
    "from random_word import RandomWords\n",
    "from collections import OrderedDict\n",
    "\n",
    "random_words = RandomWords()\n",
    "\n",
    "example_sequential = torch.nn.Sequential(\n",
    "    OrderedDict(\n",
    "        [\n",
    "            (random_words.get_random_word(), torch.nn.ReLU()) \n",
    "            for i in range(5)\n",
    "        ] + \n",
    "        [(\"my_special_layer\", torch.nn.Sigmoid())]\n",
    "    )\n",
    ")\n",
    "\n",
    "example_sequential"
   ]
  },
  {
   "cell_type": "markdown",
   "metadata": {},
   "source": [
    "Layers already displayed with specific names in parentheses."
   ]
  },
  {
   "cell_type": "markdown",
   "metadata": {},
   "source": [
    "You can now access the layers using the `.` operator. So let us try to access `my_special_layer` which we defined for this purpose."
   ]
  },
  {
   "cell_type": "code",
   "execution_count": 43,
   "metadata": {},
   "outputs": [
    {
     "data": {
      "text/plain": [
       "Sigmoid()"
      ]
     },
     "execution_count": 43,
     "metadata": {},
     "output_type": "execute_result"
    }
   ],
   "source": [
    "example_sequential.my_special_layer"
   ]
  }
 ],
 "metadata": {
  "kernelspec": {
   "display_name": "Python 3",
   "language": "python",
   "name": "python3"
  },
  "language_info": {
   "codemirror_mode": {
    "name": "ipython",
    "version": 3
   },
   "file_extension": ".py",
   "mimetype": "text/x-python",
   "name": "python",
   "nbconvert_exporter": "python",
   "pygments_lexer": "ipython3",
   "version": "3.10.12"
  }
 },
 "nbformat": 4,
 "nbformat_minor": 2
}
