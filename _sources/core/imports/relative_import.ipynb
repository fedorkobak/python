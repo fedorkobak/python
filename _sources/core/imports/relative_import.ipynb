{
 "cells": [
  {
   "cell_type": "markdown",
   "id": "bd52e731",
   "metadata": {},
   "source": [
    "# Relative import\n",
    "\n",
    "This page discusses the implementation details of the relative imports in python."
   ]
  },
  {
   "cell_type": "markdown",
   "id": "21c16087",
   "metadata": {},
   "source": [
    "## `__main__` module\n",
    "\n",
    "A common issue related to relative imports in Python occurs when attempting to execute a Python file that contains relative imports.\n",
    "\n",
    "Check out [this](https://stackoverflow.com/questions/16981921/relative-imports-in-python-3) stackoverflow discussion of what actually happens.\n",
    "\n",
    "Python uses the module's `__name__` attribute of the module when loading imports into the module. If the import occurs in the `__main__` module, correct path to the module cannot be built, resulting in an `ImportError`. Running the module with the `-m` flag processes the path of the `python` interpreter a bit differently."
   ]
  },
  {
   "cell_type": "markdown",
   "id": "3f6d297b",
   "metadata": {},
   "source": [
    "---\n",
    "\n",
    "A few following cells create a simple project structure that uses relative imports."
   ]
  },
  {
   "cell_type": "code",
   "execution_count": 2,
   "id": "c8364009",
   "metadata": {},
   "outputs": [],
   "source": [
    "%%bash\n",
    "rm -rf /tmp/relative_import\n",
    "mkdir -p /tmp/relative_import/package"
   ]
  },
  {
   "cell_type": "code",
   "execution_count": 4,
   "id": "ee795570",
   "metadata": {},
   "outputs": [
    {
     "name": "stdout",
     "output_type": "stream",
     "text": [
      "Writing /tmp/relative_import/package/module1.py\n"
     ]
    }
   ],
   "source": [
    "%%writefile /tmp/relative_import/package/module1.py\n",
    "print(\"module1\")"
   ]
  },
  {
   "cell_type": "code",
   "execution_count": 3,
   "id": "6beca9b1",
   "metadata": {},
   "outputs": [
    {
     "name": "stdout",
     "output_type": "stream",
     "text": [
      "Writing /tmp/relative_import/package/intro_module.py\n"
     ]
    }
   ],
   "source": [
    "%%writefile /tmp/relative_import/package/intro_module.py\n",
    "from . import module1"
   ]
  },
  {
   "cell_type": "markdown",
   "id": "5e4b5ed2",
   "metadata": {},
   "source": [
    "The following cell attempts to run `intro_module` as the main programm's main module."
   ]
  },
  {
   "cell_type": "code",
   "execution_count": 6,
   "id": "4576b7dc",
   "metadata": {},
   "outputs": [
    {
     "name": "stdout",
     "output_type": "stream",
     "text": [
      "Traceback (most recent call last):\n",
      "  File \"/tmp/relative_import/package/intro_module.py\", line 1, in <module>\n",
      "    from . import module1\n",
      "ImportError: attempted relative import with no known parent package\n"
     ]
    }
   ],
   "source": [
    "!cd /tmp/relative_import/ && python3 package/intro_module.py"
   ]
  },
  {
   "cell_type": "markdown",
   "id": "76dc277d",
   "metadata": {},
   "source": [
    "The result is the `ImportError`, which makes it clear that the error occurs due to relative import. The following cell runs `package.intro_module` with the `-m` flag. As a result, the programm executes without any problems."
   ]
  },
  {
   "cell_type": "code",
   "execution_count": 8,
   "id": "c6898345",
   "metadata": {},
   "outputs": [
    {
     "name": "stdout",
     "output_type": "stream",
     "text": [
      "module1\n"
     ]
    }
   ],
   "source": [
    "!cd /tmp/relative_import/ && python3 -m package.intro_module"
   ]
  },
  {
   "cell_type": "markdown",
   "id": "d76584c2",
   "metadata": {},
   "source": [
    "**Note:** This won't work if the module you want to run doesn't have a parent package. The following cell demonstrates an attempt to run the `intro_module` from the `package` folder."
   ]
  },
  {
   "cell_type": "code",
   "execution_count": 9,
   "id": "684c37dd",
   "metadata": {},
   "outputs": [
    {
     "name": "stdout",
     "output_type": "stream",
     "text": [
      "Traceback (most recent call last):\n",
      "  File \"<frozen runpy>\", line 198, in _run_module_as_main\n",
      "  File \"<frozen runpy>\", line 88, in _run_code\n",
      "  File \"/tmp/relative_import/package/intro_module.py\", line 1, in <module>\n",
      "    from . import module1\n",
      "ImportError: attempted relative import with no known parent package\n"
     ]
    }
   ],
   "source": [
    "!cd /tmp/relative_import/package/ && python3 -m intro_module"
   ]
  }
 ],
 "metadata": {
  "kernelspec": {
   "display_name": "src",
   "language": "python",
   "name": "python3"
  },
  "language_info": {
   "codemirror_mode": {
    "name": "ipython",
    "version": 3
   },
   "file_extension": ".py",
   "mimetype": "text/x-python",
   "name": "python",
   "nbconvert_exporter": "python",
   "pygments_lexer": "ipython3",
   "version": "3.12.9"
  }
 },
 "nbformat": 4,
 "nbformat_minor": 5
}
