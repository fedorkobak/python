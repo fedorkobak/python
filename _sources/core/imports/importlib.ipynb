{
 "cells": [
  {
   "cell_type": "markdown",
   "metadata": {},
   "source": [
    "# Importlib\n",
    "\n",
    "This is a package that implements the functionality of the `import` keyword. It can be useful in some cases when you need to do some tricky import. See the [appropriate section of the offical documentation](https://docs.python.org/3/library/importlib.html) for more information."
   ]
  },
  {
   "cell_type": "code",
   "execution_count": 8,
   "metadata": {},
   "outputs": [],
   "source": [
    "import sys\n",
    "import importlib\n",
    "from pathlib import Path\n",
    "\n",
    "sys.path.append(\"/tmp\")"
   ]
  },
  {
   "cell_type": "markdown",
   "metadata": {},
   "source": [
    "## Import module\n",
    "\n",
    "This section provides an overview of the options for loading modules with `importlib`. The central option here is the `importlib.import_module` function. You just have to specify the name of the module as it is typically written in the `import` keyword."
   ]
  },
  {
   "cell_type": "markdown",
   "metadata": {},
   "source": [
    "---\n",
    "\n",
    "The following cell imports `cowsay` using `importlib.import_module`."
   ]
  },
  {
   "cell_type": "code",
   "execution_count": 64,
   "metadata": {},
   "outputs": [
    {
     "data": {
      "text/plain": [
       "<module 'cowsay' from '/home/fedor/.virtualenvs/python/lib/python3.12/site-packages/cowsay/__init__.py'>"
      ]
     },
     "execution_count": 64,
     "metadata": {},
     "output_type": "execute_result"
    }
   ],
   "source": [
    "cowsay_object = importlib.import_module(\"cowsay\")\n",
    "cowsay_object"
   ]
  },
  {
   "cell_type": "markdown",
   "metadata": {},
   "source": [
    "It returns module object - the objects that act just like a regular module loaded with the `import` keyword."
   ]
  },
  {
   "cell_type": "markdown",
   "metadata": {},
   "source": [
    "The following cells clearly prove that `cowsay_object` is just a regular object."
   ]
  },
  {
   "cell_type": "code",
   "execution_count": 68,
   "metadata": {},
   "outputs": [
    {
     "name": "stdout",
     "output_type": "stream",
     "text": [
      " _______________ \n",
      "< import module >\n",
      " --------------- \n",
      "        \\   ^__^\n",
      "         \\  (oo)\\_______\n",
      "            (__)\\       )\\/\\\n",
      "                ||----w |\n",
      "                ||     ||\n"
     ]
    }
   ],
   "source": [
    "print(cowsay_object.cowsay(\"import module\"))"
   ]
  },
  {
   "cell_type": "code",
   "execution_count": 70,
   "metadata": {},
   "outputs": [
    {
     "name": "stdout",
     "output_type": "stream",
     "text": [
      " ____________________ \n",
      "( it's really module )\n",
      " -------------------- \n",
      "        o   ^__^\n",
      "         o  (oo)\\_______\n",
      "            (__)\\       )\\/\\\n",
      "                ||----w |\n",
      "                ||     ||\n"
     ]
    }
   ],
   "source": [
    "print(cowsay_object.cowthink(\"it's really module\"))"
   ]
  },
  {
   "cell_type": "markdown",
   "metadata": {},
   "source": [
    "### `import_module` arguments\n",
    "\n",
    "[Description of the `importlib.import_module(name, package)`](https://docs.python.org/3/library/importlib.html#importlib.import_module) function in the official documentation can be a bit complicated.\n",
    "\n",
    "The `name` argument specifies where to look for a module relative to the `package`, where `package` is just a folder."
   ]
  },
  {
   "cell_type": "markdown",
   "metadata": {},
   "source": [
    "---\n",
    "\n",
    "The following cell creates a file structure just as shown in the example in the documentation."
   ]
  },
  {
   "cell_type": "code",
   "execution_count": 107,
   "metadata": {},
   "outputs": [],
   "source": [
    "import os\n",
    "os.chdir(\"/tmp\")\n",
    "(Path(\"pkg\")/\"subpkg\").mkdir(parents=True, exist_ok=True)"
   ]
  },
  {
   "cell_type": "code",
   "execution_count": 104,
   "metadata": {},
   "outputs": [
    {
     "name": "stdout",
     "output_type": "stream",
     "text": [
      "Writing pkg/mod.py\n"
     ]
    }
   ],
   "source": [
    "%%writefile pkg/mod.py\n",
    "def hello_mod():\n",
    "    print(\"hello from mod\")"
   ]
  },
  {
   "cell_type": "markdown",
   "metadata": {},
   "source": [
    "So there is a \"package\" `pkg.subpkg` and at the same level there is a module `mod.py`"
   ]
  },
  {
   "cell_type": "code",
   "execution_count": 108,
   "metadata": {},
   "outputs": [
    {
     "name": "stdout",
     "output_type": "stream",
     "text": [
      "\u001b[01;34mpkg\u001b[0m\n",
      "├── mod.py\n",
      "└── \u001b[01;34msubpkg\u001b[0m\n",
      "\n",
      "2 directories, 1 file\n"
     ]
    }
   ],
   "source": [
    "!tree pkg"
   ]
  },
  {
   "cell_type": "markdown",
   "metadata": {},
   "source": [
    "The following cell executes `importlib.import_module` as it's shown in the official documentation. And proves that import really works."
   ]
  },
  {
   "cell_type": "code",
   "execution_count": 109,
   "metadata": {},
   "outputs": [
    {
     "name": "stdout",
     "output_type": "stream",
     "text": [
      "hello from mod\n"
     ]
    }
   ],
   "source": [
    "mod = importlib.import_module(\"..mod\", \"pkg.subpkg\")\n",
    "mod.hello_mod()"
   ]
  },
  {
   "cell_type": "markdown",
   "metadata": {},
   "source": [
    "### From optional file\n",
    "\n",
    "You can also load the module from the optional file. To do this, you need to:\n",
    "\n",
    "- Get spec using `importlib.util.spec_from_file_localtion`.\n",
    "- Get module from spec with `importlib.util.module_from_spec`.\n",
    "- Execute module with spec's `exec_module` method."
   ]
  },
  {
   "cell_type": "markdown",
   "metadata": {},
   "source": [
    "---\n",
    "\n",
    "The following cell creates a python module in the optional location."
   ]
  },
  {
   "cell_type": "code",
   "execution_count": 23,
   "metadata": {},
   "outputs": [
    {
     "name": "stdout",
     "output_type": "stream",
     "text": [
      "Writing /tmp/some_module.py\n"
     ]
    }
   ],
   "source": [
    "%%writefile /tmp/some_module.py\n",
    "def fun():\n",
    "    print(\"some input\")"
   ]
  },
  {
   "cell_type": "markdown",
   "metadata": {},
   "source": [
    "The following cell imports this module and shows that it works expected."
   ]
  },
  {
   "cell_type": "code",
   "execution_count": 50,
   "metadata": {},
   "outputs": [
    {
     "name": "stdout",
     "output_type": "stream",
     "text": [
      "some input\n"
     ]
    }
   ],
   "source": [
    "spec = importlib.util.spec_from_file_location(\n",
    "    \"some_module\", \"/tmp/some_module.py\"\n",
    ")\n",
    "some_module = importlib.util.module_from_spec(spec)\n",
    "spec.loader.exec_module(some_module)\n",
    "some_module.fun()"
   ]
  },
  {
   "cell_type": "markdown",
   "metadata": {},
   "source": [
    "## Reload\n",
    "\n",
    "Python only executes the module's code the first time the module is imported. `importlib.reload` allows the module to be executed again."
   ]
  },
  {
   "cell_type": "markdown",
   "metadata": {},
   "source": [
    "---\n",
    "\n",
    "The following cell creates a python module that we'll use as an example."
   ]
  },
  {
   "cell_type": "code",
   "execution_count": 2,
   "metadata": {},
   "outputs": [
    {
     "name": "stdout",
     "output_type": "stream",
     "text": [
      "Overwriting /tmp/my_module.py\n"
     ]
    }
   ],
   "source": [
    "%%writefile /tmp/my_module.py\n",
    "print(\"my module is imported\")"
   ]
  },
  {
   "cell_type": "markdown",
   "metadata": {},
   "source": [
    "The next cell imports the module."
   ]
  },
  {
   "cell_type": "code",
   "execution_count": null,
   "metadata": {},
   "outputs": [
    {
     "name": "stdout",
     "output_type": "stream",
     "text": [
      "my module is imported\n"
     ]
    }
   ],
   "source": [
    "import my_module"
   ]
  },
  {
   "cell_type": "markdown",
   "metadata": {},
   "source": [
    "As a result, the module was executed and the message specified in the module is printed."
   ]
  },
  {
   "cell_type": "markdown",
   "metadata": {},
   "source": [
    "The following cell attempts to reload the module."
   ]
  },
  {
   "cell_type": "code",
   "execution_count": 4,
   "metadata": {},
   "outputs": [],
   "source": [
    "import my_module"
   ]
  },
  {
   "cell_type": "markdown",
   "metadata": {},
   "source": [
    "As a result, there is no message again - because python didn't execute the module again. But the following code uses the `importlib.reload` function."
   ]
  },
  {
   "cell_type": "code",
   "execution_count": 5,
   "metadata": {},
   "outputs": [
    {
     "name": "stdout",
     "output_type": "stream",
     "text": [
      "my module is imported\n"
     ]
    },
    {
     "data": {
      "text/plain": [
       "<module 'my_module' from '/tmp/my_module.py'>"
      ]
     },
     "execution_count": 5,
     "metadata": {},
     "output_type": "execute_result"
    }
   ],
   "source": [
    "importlib.reload(my_module)"
   ]
  },
  {
   "cell_type": "markdown",
   "metadata": {},
   "source": [
    "**Note.** The function returned the module object, but you don't have to reassign the module to it's name - it will be done automatically."
   ]
  }
 ],
 "metadata": {
  "kernelspec": {
   "display_name": "src",
   "language": "python",
   "name": "python3"
  },
  "language_info": {
   "codemirror_mode": {
    "name": "ipython",
    "version": 3
   },
   "file_extension": ".py",
   "mimetype": "text/x-python",
   "name": "python",
   "nbconvert_exporter": "python",
   "pygments_lexer": "ipython3",
   "version": "3.12.9"
  }
 },
 "nbformat": 4,
 "nbformat_minor": 2
}
