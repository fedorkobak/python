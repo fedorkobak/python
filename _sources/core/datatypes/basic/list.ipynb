{
 "cells": [
  {
   "cell_type": "markdown",
   "id": "ef9c0fc3-478d-4ec7-85bd-a3726d61199f",
   "metadata": {},
   "source": [
    "# list\n",
    "\n",
    "Is an array that you can change at runtime."
   ]
  },
  {
   "cell_type": "markdown",
   "id": "b4f5f50c-2831-4978-9ebb-98d953ba907e",
   "metadata": {},
   "source": [
    "## `pop` - delete by index\n",
    "\n",
    "You can delete element by index and get it back."
   ]
  },
  {
   "cell_type": "code",
   "execution_count": 1,
   "id": "27021c1d-104f-4daf-a8df-d736fc6716f4",
   "metadata": {},
   "outputs": [
    {
     "name": "stdout",
     "output_type": "stream",
     "text": [
      "Poped element 5\n",
      "Result list [3, 4, 2]\n"
     ]
    }
   ],
   "source": [
    "test_list = [3,4,5,2]\n",
    "print(\"Poped element\", test_list.pop(2))\n",
    "print(\"Result list\", test_list)"
   ]
  },
  {
   "cell_type": "markdown",
   "id": "adbd801a-4cc8-461d-a4db-646277de37bc",
   "metadata": {},
   "source": [
    "By default it deltes the first element."
   ]
  },
  {
   "cell_type": "code",
   "execution_count": 2,
   "id": "69a46c04-94a9-4501-8684-384ad4862e9e",
   "metadata": {},
   "outputs": [
    {
     "name": "stdout",
     "output_type": "stream",
     "text": [
      "Poped elemnt 3\n",
      "Result list [5, 6, 4]\n"
     ]
    }
   ],
   "source": [
    "test_list = [5,6,4,3]\n",
    "print(\"Poped elemnt\", test_list.pop())\n",
    "print(\"Result list\", test_list)"
   ]
  },
  {
   "cell_type": "markdown",
   "id": "daee62ea-916a-49a9-ace2-d39399b6585d",
   "metadata": {},
   "source": [
    "## `remove` - delete by value"
   ]
  },
  {
   "cell_type": "markdown",
   "id": "6ff6c304-aa44-4a0b-b0ba-e845e91238ab",
   "metadata": {},
   "source": [
    "You can delete element by value."
   ]
  },
  {
   "cell_type": "code",
   "execution_count": 3,
   "id": "c32353cf-ddcf-432e-b132-2a4cbb71b4b4",
   "metadata": {},
   "outputs": [
    {
     "name": "stdout",
     "output_type": "stream",
     "text": [
      "initial list [4, 5, 4, 5]\n",
      "resutl list [5, 4, 5]\n"
     ]
    }
   ],
   "source": [
    "test_list = [4,5,4,5]\n",
    "print(\"initial list\", test_list)\n",
    "test_list.remove(4)\n",
    "print(\"resutl list\", test_list)"
   ]
  },
  {
   "cell_type": "markdown",
   "id": "dc118009-b963-4b06-9d7e-fbb923788578",
   "metadata": {},
   "source": [
    "**Note** that if there's no removing value in the source list, you'll have an error."
   ]
  },
  {
   "cell_type": "code",
   "execution_count": 4,
   "id": "aa096eb0-bd9c-4d36-b4ff-165740747508",
   "metadata": {},
   "outputs": [
    {
     "ename": "ValueError",
     "evalue": "list.remove(x): x not in list",
     "output_type": "error",
     "traceback": [
      "\u001b[0;31m---------------------------------------------------------------------------\u001b[0m",
      "\u001b[0;31mValueError\u001b[0m                                Traceback (most recent call last)",
      "Cell \u001b[0;32mIn[4], line 2\u001b[0m\n\u001b[1;32m      1\u001b[0m test_list \u001b[38;5;241m=\u001b[39m [\u001b[38;5;241m5\u001b[39m,\u001b[38;5;241m3\u001b[39m,\u001b[38;5;241m4\u001b[39m,\u001b[38;5;241m1\u001b[39m]\n\u001b[0;32m----> 2\u001b[0m \u001b[43mtest_list\u001b[49m\u001b[38;5;241;43m.\u001b[39;49m\u001b[43mremove\u001b[49m\u001b[43m(\u001b[49m\u001b[38;5;241;43m6\u001b[39;49m\u001b[43m)\u001b[49m\n",
      "\u001b[0;31mValueError\u001b[0m: list.remove(x): x not in list"
     ]
    }
   ],
   "source": [
    "test_list = [5,3,4,1]\n",
    "test_list.remove(6)"
   ]
  },
  {
   "cell_type": "markdown",
   "id": "ece99d41-b663-447c-8ea9-7338771ef660",
   "metadata": {},
   "source": [
    "## `index` - index of value\n",
    "\n",
    "Using this method you can get the index by which you can get the first occurrence of this element in the list.\n",
    "\n",
    "In the following example I ask `.index(3)` and got 2 as a result because the first occurrence of number 3 in the 2 index.\n",
    "\n",
    "**Note** any other entry of the element will be ignored, just like the second 3 value with 4 index in the example."
   ]
  },
  {
   "cell_type": "code",
   "execution_count": 5,
   "id": "1babffca-dfe7-4218-ad7c-d3db9be2366f",
   "metadata": {},
   "outputs": [
    {
     "data": {
      "text/plain": [
       "2"
      ]
     },
     "execution_count": 5,
     "metadata": {},
     "output_type": "execute_result"
    }
   ],
   "source": [
    "test_list = [1,2,3,4,3,5]\n",
    "test_list.index(3)"
   ]
  },
  {
   "cell_type": "markdown",
   "id": "8988f1ee-7e82-4579-aa9d-6ce5ac83f3f3",
   "metadata": {},
   "source": [
    "## `appned` vs `+`\n",
    "\n",
    "There are two common ways to extend a Python list: by using the `append` method and the `+` operator. There is a significant difference: `+` creates a new list and copies operands to it, but `append` changes the initial list.\n",
    "\n",
    "The following example:\n",
    "\n",
    "- Prints \"Initial list: <id>\";\n",
    "- Prints id of list modified with `+` operator - it has different id with initial list;\n",
    "- Prints the id of the list modified with the `append` method - it has the same id as the initial list."
   ]
  },
  {
   "cell_type": "code",
   "execution_count": 6,
   "id": "21a37c9f-5d8a-4f6f-bf04-59a6adff6d42",
   "metadata": {},
   "outputs": [
    {
     "name": "stdout",
     "output_type": "stream",
     "text": [
      "Initial list: 139771686692224\n",
      "Plus list: 139771686592256\n",
      "Append list: 139771686692224\n"
     ]
    }
   ],
   "source": [
    "internal_list = [1,2,3,4,5]\n",
    "print(\"Initial list:\", id(internal_list))\n",
    "print(\"Plus list:\", id(internal_list + [3]))\n",
    "internal_list.append(3)\n",
    "print(\"Append list:\", id(internal_list))"
   ]
  },
  {
   "cell_type": "markdown",
   "id": "4c031439-6882-4582-b115-1bf47151f982",
   "metadata": {},
   "source": [
    "## drop duplicates"
   ]
  },
  {
   "cell_type": "markdown",
   "id": "44e47179-671d-4255-af2f-a9ccea498c08",
   "metadata": {},
   "source": [
    "### `list(set(<input>))`\n",
    "\n",
    "The easiest way is to convert the input list to `set` and then back to `list`. `set` can't have duplicates, so they're dropped.\n",
    "\n",
    "**Note** this option does not save the original order of the items in the list, because the `set' data type ignores the order of the items.\n",
    "\n",
    "The following example allows you to obtain unique values, but despite the fact that the elements in the original list are not in ascending order, they are in the result of the transformation."
   ]
  },
  {
   "cell_type": "code",
   "execution_count": 7,
   "id": "70b14509-5978-40ec-8751-3a838c973bb3",
   "metadata": {},
   "outputs": [
    {
     "data": {
      "text/plain": [
       "[1, 2, 3, 4]"
      ]
     },
     "execution_count": 7,
     "metadata": {},
     "output_type": "execute_result"
    }
   ],
   "source": [
    "test_list = [1,4,4,2,2,3,3]\n",
    "list(set(test_list))"
   ]
  },
  {
   "cell_type": "markdown",
   "id": "725b8de3-462d-4bd3-a97d-62118467494e",
   "metadata": {},
   "source": [
    "### Saving the order\n",
    "\n",
    "It is possible to loop through the elements of the transformed list and check if the result of the `item` method for the selected element corresponds to the iteration number:\n",
    "\n",
    "- If the iteration number and the result of the `item` method match, it means that this is the first occurrence of this element and it should be included in the result;\n",
    "- Otherwise, it means that this item has already been included in the result earlier and it should not be added to the result.\n",
    "\n",
    "The following cell shows a possible implementation of the described algorithm. As a result, 4 appears immediately after 1, as in the original list."
   ]
  },
  {
   "cell_type": "code",
   "execution_count": 8,
   "id": "9adc11ee-d089-4cf4-8a1f-4ad6f9907e3b",
   "metadata": {},
   "outputs": [
    {
     "data": {
      "text/plain": [
       "[1, 4, 2, 3]"
      ]
     },
     "execution_count": 8,
     "metadata": {},
     "output_type": "execute_result"
    }
   ],
   "source": [
    "test_list = [1,4,4,2,2,3,3]\n",
    "[val for i, val in enumerate(test_list) if test_list.index(val) == i]"
   ]
  }
 ],
 "metadata": {
  "kernelspec": {
   "display_name": "Python 3 (ipykernel)",
   "language": "python",
   "name": "python3"
  },
  "language_info": {
   "codemirror_mode": {
    "name": "ipython",
    "version": 3
   },
   "file_extension": ".py",
   "mimetype": "text/x-python",
   "name": "python",
   "nbconvert_exporter": "python",
   "pygments_lexer": "ipython3",
   "version": "3.10.12"
  }
 },
 "nbformat": 4,
 "nbformat_minor": 5
}
