{
 "cells": [
  {
   "cell_type": "markdown",
   "id": "125ed3d7-fb20-4079-9f0b-5157a3ddd04a",
   "metadata": {},
   "source": [
    "# dict\n",
    "\n",
    "Allow to build arrays that has *key<->value* relationship."
   ]
  },
  {
   "cell_type": "markdown",
   "id": "3ef3873c-7cd9-4a73-ab4d-52a73504d516",
   "metadata": {},
   "source": [
    "## `get` extract element\n",
    "\n",
    "By using this function you can get value by key from the dict."
   ]
  },
  {
   "cell_type": "markdown",
   "id": "72d5e5c5-cb1e-4026-a757-79a56101c2af",
   "metadata": {},
   "source": [
    "### Purpose\n",
    "\n",
    "It may not be clear why this is necessary, as there is a `[]` operator which allows you to perform exactly the same actions. The **difference from the `[]` operator** is that it doesn't cause an error if there is no specified key in the dictionary.\n",
    "\n",
    "So the following cells show that the `[]` operator caused an error when you tried to load a non-existent key, but in the identical example the `get` method just returned None."
   ]
  },
  {
   "cell_type": "code",
   "execution_count": 1,
   "id": "288ff574-e389-4fa7-a3b8-5f4131328ac3",
   "metadata": {},
   "outputs": [
    {
     "ename": "KeyError",
     "evalue": "'c'",
     "output_type": "error",
     "traceback": [
      "\u001b[0;31m---------------------------------------------------------------------------\u001b[0m",
      "\u001b[0;31mKeyError\u001b[0m                                  Traceback (most recent call last)",
      "Cell \u001b[0;32mIn[1], line 2\u001b[0m\n\u001b[1;32m      1\u001b[0m test_dict \u001b[38;5;241m=\u001b[39m {\u001b[38;5;124m\"\u001b[39m\u001b[38;5;124ma\u001b[39m\u001b[38;5;124m\"\u001b[39m:\u001b[38;5;241m1\u001b[39m, \u001b[38;5;124m\"\u001b[39m\u001b[38;5;124mb\u001b[39m\u001b[38;5;124m\"\u001b[39m:\u001b[38;5;241m2\u001b[39m}\n\u001b[0;32m----> 2\u001b[0m \u001b[38;5;28mprint\u001b[39m(\u001b[43mtest_dict\u001b[49m\u001b[43m[\u001b[49m\u001b[38;5;124;43m\"\u001b[39;49m\u001b[38;5;124;43mc\u001b[39;49m\u001b[38;5;124;43m\"\u001b[39;49m\u001b[43m]\u001b[49m)\n",
      "\u001b[0;31mKeyError\u001b[0m: 'c'"
     ]
    }
   ],
   "source": [
    "test_dict = {\"a\":1, \"b\":2}\n",
    "print(test_dict[\"c\"])"
   ]
  },
  {
   "cell_type": "code",
   "execution_count": 2,
   "id": "6a1279e6-4aa1-4561-81fb-775f65873465",
   "metadata": {},
   "outputs": [
    {
     "name": "stdout",
     "output_type": "stream",
     "text": [
      "None\n"
     ]
    }
   ],
   "source": [
    "test_dict = {\"a\":1, \"b\":2}\n",
    "print(test_dict.get(\"c\"))"
   ]
  },
  {
   "cell_type": "markdown",
   "id": "a063d078-4afb-42c9-8c4a-4b500097f95c",
   "metadata": {},
   "source": [
    "### `default` argument\n",
    "\n",
    "Allows to set value to be returned If there is no item with the requested key."
   ]
  },
  {
   "cell_type": "code",
   "execution_count": 3,
   "id": "585ac391-b19f-4b73-8725-9609614f52a8",
   "metadata": {},
   "outputs": [
    {
     "name": "stdout",
     "output_type": "stream",
     "text": [
      "default value\n"
     ]
    }
   ],
   "source": [
    "test_dict = {\"a\":1, \"b\":2}\n",
    "print(test_dict.get(\"c\", \"default value\"))"
   ]
  },
  {
   "cell_type": "markdown",
   "id": "e8f0948e-ebc7-43a2-97cb-4a90050fa522",
   "metadata": {},
   "source": [
    "## Delete specific item"
   ]
  },
  {
   "cell_type": "markdown",
   "id": "f95bb80d-9216-4ce3-815d-50af1084c7c2",
   "metadata": {},
   "source": [
    "### `del` operator\n",
    "\n",
    "You can simply apply the `del` operator to the specific element. As in the following example:"
   ]
  },
  {
   "cell_type": "code",
   "execution_count": 4,
   "id": "e9d0107a-3b04-420b-995e-9d95e1560245",
   "metadata": {},
   "outputs": [
    {
     "name": "stdout",
     "output_type": "stream",
     "text": [
      "{'b': 2}\n"
     ]
    }
   ],
   "source": [
    "test_dict = {\"a\":1, \"b\":2}\n",
    "del test_dict[\"a\"]\n",
    "print(test_dict)"
   ]
  },
  {
   "cell_type": "markdown",
   "id": "647f9f14-83b8-47df-bedc-61266540ea67",
   "metadata": {},
   "source": [
    "**Note** If there is no item in the `dict` that you want to delete in this way, you will get the error. The next cell shows exactly this case:"
   ]
  },
  {
   "cell_type": "code",
   "execution_count": 5,
   "id": "02500115-837d-4f3f-aa76-537f92700bd8",
   "metadata": {},
   "outputs": [
    {
     "ename": "KeyError",
     "evalue": "'c'",
     "output_type": "error",
     "traceback": [
      "\u001b[0;31m---------------------------------------------------------------------------\u001b[0m",
      "\u001b[0;31mKeyError\u001b[0m                                  Traceback (most recent call last)",
      "Cell \u001b[0;32mIn[5], line 2\u001b[0m\n\u001b[1;32m      1\u001b[0m test_dict \u001b[38;5;241m=\u001b[39m {\u001b[38;5;124m\"\u001b[39m\u001b[38;5;124ma\u001b[39m\u001b[38;5;124m\"\u001b[39m:\u001b[38;5;241m1\u001b[39m, \u001b[38;5;124m\"\u001b[39m\u001b[38;5;124mb\u001b[39m\u001b[38;5;124m\"\u001b[39m:\u001b[38;5;241m2\u001b[39m}\n\u001b[0;32m----> 2\u001b[0m \u001b[38;5;28;01mdel\u001b[39;00m test_dict[\u001b[38;5;124m\"\u001b[39m\u001b[38;5;124mc\u001b[39m\u001b[38;5;124m\"\u001b[39m]\n\u001b[1;32m      3\u001b[0m \u001b[38;5;28mprint\u001b[39m(test_dict)\n",
      "\u001b[0;31mKeyError\u001b[0m: 'c'"
     ]
    }
   ],
   "source": [
    "test_dict = {\"a\":1, \"b\":2}\n",
    "del test_dict[\"c\"]\n",
    "print(test_dict)"
   ]
  },
  {
   "cell_type": "markdown",
   "id": "00f73453-fd43-4a78-9072-1e6f07d2bc67",
   "metadata": {},
   "source": [
    "### `pop` method\n",
    "\n",
    "It will remove element by key passed as an argument to this method and return value as a result of the function. The following example shows how it works:\n",
    "\n",
    "- In the first print we show the result of the `pop` method;\n",
    "- In the second part, we'll show that the dictionary no longer has an element with the key \"a\"."
   ]
  },
  {
   "cell_type": "code",
   "execution_count": 6,
   "id": "50a1bc9d-f284-4ae9-bf39-870447b59071",
   "metadata": {},
   "outputs": [
    {
     "name": "stdout",
     "output_type": "stream",
     "text": [
      "1\n",
      "{'b': 2}\n"
     ]
    }
   ],
   "source": [
    "test_dict = {\"a\":1, \"b\":2}\n",
    "print(test_dict.pop(\"a\"))\n",
    "print(test_dict)"
   ]
  },
  {
   "cell_type": "markdown",
   "id": "4ab1297c-a121-4361-a8fe-62e7b04ceea4",
   "metadata": {},
   "source": [
    "**Note** this method will still cause an error if you apply it to a key that doesn't exist in the dictionary."
   ]
  },
  {
   "cell_type": "code",
   "execution_count": 7,
   "id": "2ef80202-6385-436b-b78b-ec6f763b247d",
   "metadata": {},
   "outputs": [
    {
     "ename": "KeyError",
     "evalue": "'C'",
     "output_type": "error",
     "traceback": [
      "\u001b[0;31m---------------------------------------------------------------------------\u001b[0m",
      "\u001b[0;31mKeyError\u001b[0m                                  Traceback (most recent call last)",
      "Cell \u001b[0;32mIn[7], line 2\u001b[0m\n\u001b[1;32m      1\u001b[0m test_dict \u001b[38;5;241m=\u001b[39m {\u001b[38;5;124m\"\u001b[39m\u001b[38;5;124ma\u001b[39m\u001b[38;5;124m\"\u001b[39m:\u001b[38;5;241m1\u001b[39m, \u001b[38;5;124m\"\u001b[39m\u001b[38;5;124mb\u001b[39m\u001b[38;5;124m\"\u001b[39m:\u001b[38;5;241m2\u001b[39m}\n\u001b[0;32m----> 2\u001b[0m \u001b[43mtest_dict\u001b[49m\u001b[38;5;241;43m.\u001b[39;49m\u001b[43mpop\u001b[49m\u001b[43m(\u001b[49m\u001b[38;5;124;43m\"\u001b[39;49m\u001b[38;5;124;43mC\u001b[39;49m\u001b[38;5;124;43m\"\u001b[39;49m\u001b[43m)\u001b[49m\n",
      "\u001b[0;31mKeyError\u001b[0m: 'C'"
     ]
    }
   ],
   "source": [
    "test_dict = {\"a\":1, \"b\":2}\n",
    "test_dict.pop(\"C\")"
   ]
  },
  {
   "cell_type": "markdown",
   "id": "08271821-e63e-4f4d-95bb-2b24391beab3",
   "metadata": {},
   "source": [
    "## `clear` delete all\n",
    "\n",
    "This method allows you to delete all the values written in the dictionary. The following example shows what it can look like."
   ]
  },
  {
   "cell_type": "code",
   "execution_count": 8,
   "id": "1fe4066c-c487-48e4-9210-77061b327f92",
   "metadata": {},
   "outputs": [
    {
     "name": "stdout",
     "output_type": "stream",
     "text": [
      "{}\n"
     ]
    }
   ],
   "source": [
    "test_dict = {\"a\":1, \"b\":2}\n",
    "test_dict.clear()\n",
    "print(test_dict)"
   ]
  },
  {
   "cell_type": "markdown",
   "id": "2b3220bf-d35c-4d50-96c8-c38ed935ff83",
   "metadata": {},
   "source": [
    "## `in` operator\n",
    "\n",
    "Checks if the element on the left side of `in` is **in the keys** (not values) of the dictionary on the right side of `in`."
   ]
  },
  {
   "cell_type": "code",
   "execution_count": 9,
   "id": "898bfef7-40ed-4fcb-a651-e4adba09e8b2",
   "metadata": {},
   "outputs": [
    {
     "name": "stdout",
     "output_type": "stream",
     "text": [
      "True\n",
      "False\n"
     ]
    }
   ],
   "source": [
    "test_dict = {\"a\":1, \"b\":2}\n",
    "print(\"a\" in test_dict)\n",
    "print(1 in test_dict)"
   ]
  },
  {
   "cell_type": "markdown",
   "id": "b1091d7a",
   "metadata": {},
   "source": [
    "## Insert values\n",
    "\n",
    "There is a really trivial way to add new `key:value` combinations to the dictionary:"
   ]
  },
  {
   "cell_type": "code",
   "execution_count": 1,
   "id": "44ebe507",
   "metadata": {},
   "outputs": [
    {
     "data": {
      "text/plain": [
       "{'a': 5, 'b': 8}"
      ]
     },
     "execution_count": 1,
     "metadata": {},
     "output_type": "execute_result"
    }
   ],
   "source": [
    "my_dict = {\"a\":5}\n",
    "my_dict[\"b\"] = 8\n",
    "my_dict"
   ]
  },
  {
   "cell_type": "markdown",
   "id": "02264b14",
   "metadata": {},
   "source": [
    "But there are some options to make it for group of the elements. We will consider them below."
   ]
  },
  {
   "cell_type": "markdown",
   "id": "5ae2a581",
   "metadata": {},
   "source": [
    "### `update` method\n",
    "\n",
    "Allows values to be added to the calling instance. If there are some identical keys - values, they would be taken from the argument dictionary."
   ]
  },
  {
   "cell_type": "code",
   "execution_count": 4,
   "id": "38475b8e",
   "metadata": {},
   "outputs": [
    {
     "data": {
      "text/plain": [
       "{'a': 3, 'c': 10, 'b': 7, 'e': 14}"
      ]
     },
     "execution_count": 4,
     "metadata": {},
     "output_type": "execute_result"
    }
   ],
   "source": [
    "dict1 = {\"a\":5, \"c\" : 10}\n",
    "dict2 = {\"b\":7, \"e\" : 14, \"a\":3}\n",
    "dict1.update(dict2)\n",
    "dict1"
   ]
  },
  {
   "cell_type": "markdown",
   "id": "f12c94c4",
   "metadata": {},
   "source": [
    "### `|` operator\n",
    "\n",
    "Placed between two dictionaries will return a dictionary that has items from both dictionaries. The keys from the right dictionary taking precedence."
   ]
  },
  {
   "cell_type": "code",
   "execution_count": 7,
   "id": "382ca420",
   "metadata": {},
   "outputs": [
    {
     "data": {
      "text/plain": [
       "{'a': 3, 'c': 10, 'b': 7, 'e': 14}"
      ]
     },
     "execution_count": 7,
     "metadata": {},
     "output_type": "execute_result"
    }
   ],
   "source": [
    "dict1 = {\"a\":5, \"c\" : 10}\n",
    "dict2 = {\"b\":7, \"e\" : 14, \"a\":3}\n",
    "dict1 | dict2"
   ]
  },
  {
   "cell_type": "markdown",
   "id": "c9db94ce",
   "metadata": {},
   "source": [
    "### `**` operator\n",
    "\n",
    "You can unpack dictionaries that you want to merge by using `**` to create a new dictionary that contains both original dictionaries. The keys from the later dictionary taking precedence."
   ]
  },
  {
   "cell_type": "code",
   "execution_count": 8,
   "id": "bd2497c7",
   "metadata": {},
   "outputs": [
    {
     "data": {
      "text/plain": [
       "{'a': 3, 'c': 10, 'b': 7, 'e': 14}"
      ]
     },
     "execution_count": 8,
     "metadata": {},
     "output_type": "execute_result"
    }
   ],
   "source": [
    "dict1 = {\"a\":5, \"c\" : 10}\n",
    "dict2 = {\"b\":7, \"e\" : 14, \"a\":3}\n",
    "{**dict1, **dict2}"
   ]
  },
  {
   "cell_type": "markdown",
   "id": "74d0c021-ef24-46d0-b8c1-5a1353817185",
   "metadata": {},
   "source": [
    "## Key of max\n",
    "\n",
    "It was a common task for me to find a key of dict that matches the max/min value of the dictionary. The most elegant solution I found is to use dict as an argument for the `max`/`min` basic Python function, but as `key` argument use the `dict.get` method. \n",
    "\n",
    "The logic is as follows - the function will iterate over the dictionary keys, and use only the results of execution of the function passed as an argument to the `key` parameter for comparison. Since we pass to the `get` function the corresponding value to the key, the comparison will be performed on the `values` of the dictionary.\n",
    "\n",
    "So in the following example, I apply this solution to the randomly generated dictionary:"
   ]
  },
  {
   "cell_type": "code",
   "execution_count": 19,
   "id": "85255744-19e9-46a3-8571-910a2cec7cc8",
   "metadata": {},
   "outputs": [
    {
     "data": {
      "text/html": [
       "<b style=\"font-size:120%\">=====Input dict=====</b>"
      ],
      "text/plain": [
       "<IPython.core.display.HTML object>"
      ]
     },
     "metadata": {},
     "output_type": "display_data"
    },
    {
     "data": {
      "text/plain": [
       "{'a': 3, 'b': 8, 'c': 6, 'd': 9, 'e': 6, 'f': 3}"
      ]
     },
     "metadata": {},
     "output_type": "display_data"
    },
    {
     "data": {
      "text/html": [
       "<b style=\"font-size:120%\">=====Result=====</b>"
      ],
      "text/plain": [
       "<IPython.core.display.HTML object>"
      ]
     },
     "metadata": {},
     "output_type": "display_data"
    },
    {
     "data": {
      "text/html": [
       "d"
      ],
      "text/plain": [
       "<IPython.core.display.HTML object>"
      ]
     },
     "metadata": {},
     "output_type": "display_data"
    }
   ],
   "source": [
    "from random import randint\n",
    "from IPython.display import HTML\n",
    "\n",
    "example_dict = {\n",
    "    chr(iscii_code): randint(0,10)\n",
    "    for iscii_code in range(ord(\"a\"), ord(\"g\"))\n",
    "}\n",
    "display(HTML(\"<b style=\\\"font-size:120%\\\">=====Input dict=====</b>\"))\n",
    "display(example_dict)\n",
    "display(HTML(\"<b style=\\\"font-size:120%\\\">=====Result=====</b>\"))\n",
    "display(HTML(max(example_dict, key=example_dict.get)))"
   ]
  }
 ],
 "metadata": {
  "kernelspec": {
   "display_name": "Python 3 (ipykernel)",
   "language": "python",
   "name": "python3"
  },
  "language_info": {
   "codemirror_mode": {
    "name": "ipython",
    "version": 3
   },
   "file_extension": ".py",
   "mimetype": "text/x-python",
   "name": "python",
   "nbconvert_exporter": "python",
   "pygments_lexer": "ipython3",
   "version": "3.10.12"
  }
 },
 "nbformat": 4,
 "nbformat_minor": 5
}
