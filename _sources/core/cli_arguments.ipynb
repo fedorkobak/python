{
 "cells": [
  {
   "cell_type": "markdown",
   "metadata": {},
   "source": [
    "# Cli arguments\n",
    "\n",
    "This page discusses tools in python that allow you to work with stdin paramters used when python started."
   ]
  },
  {
   "cell_type": "markdown",
   "metadata": {},
   "source": [
    "## Manual\n",
    "\n",
    "You can access the stdIn used to run python from the `sys.argv` attribute. This is list of string containing all the arguments passed to the python during the call."
   ]
  },
  {
   "cell_type": "markdown",
   "metadata": {},
   "source": [
    "---\n",
    "\n",
    "The following cell shows the arguments, which is used to run the jupyter kernel, which is used as the environment on this site."
   ]
  },
  {
   "cell_type": "code",
   "execution_count": 1,
   "metadata": {},
   "outputs": [
    {
     "data": {
      "text/plain": [
       "['/home/fedor/.virtualenvs/python/lib/python3.12/site-packages/ipykernel_launcher.py',\n",
       " '--f=/run/user/1000/jupyter/runtime/kernel-v394a53a093ec8001e3f58f0d7c748849ec5233782.json']"
      ]
     },
     "execution_count": 1,
     "metadata": {},
     "output_type": "execute_result"
    }
   ],
   "source": [
    "import sys\n",
    "sys.argv"
   ]
  },
  {
   "cell_type": "markdown",
   "metadata": {},
   "source": [
    "The following cell creates in general the same example, but in a different py file."
   ]
  },
  {
   "cell_type": "code",
   "execution_count": 2,
   "metadata": {},
   "outputs": [
    {
     "name": "stdout",
     "output_type": "stream",
     "text": [
      "Writing /tmp/python_cli_example.py\n"
     ]
    }
   ],
   "source": [
    "%%writefile /tmp/python_cli_example.py\n",
    "import sys\n",
    "for v in sys.argv: print(v)"
   ]
  },
  {
   "cell_type": "markdown",
   "metadata": {},
   "source": [
    "So now we can run this script with any set of parameters."
   ]
  },
  {
   "cell_type": "code",
   "execution_count": 4,
   "metadata": {},
   "outputs": [
    {
     "name": "stdout",
     "output_type": "stream",
     "text": [
      "/tmp/python_cli_example.py\n",
      "value1\n",
      "value2\n",
      "value3\n",
      "value4\n",
      "value5\n",
      "value6\n",
      "value7\n",
      "value8\n",
      "value9\n",
      "value10\n"
     ]
    }
   ],
   "source": [
    "!python3 /tmp/python_cli_example.py value{1..10}"
   ]
  },
  {
   "cell_type": "markdown",
   "metadata": {},
   "source": [
    "## Argparse\n",
    "\n",
    "Argparse is a library that allows you to describe parameters that should be passed to the program when called from the command line. There are few central features of `ArgumentParser.add_argument` method:\n",
    "\n",
    "- To define positional parameters of the program, use only line as first positional argument of the `add_argument`;\n",
    "- To define an option, add the prefix `--` to the first positional argument of the `add_argument`;\n",
    "- You can access to the values by using `ArgumentParser.parse_args().<option dest>`."
   ]
  },
  {
   "cell_type": "markdown",
   "metadata": {},
   "source": [
    "---\n",
    "\n",
    "In a real project, you'll write your scripts in separate files. The following cell creates a script and writes it to disk. This script uses `argparse` to implement a command-line interface and prints the values of the received arguments:"
   ]
  },
  {
   "cell_type": "code",
   "execution_count": 5,
   "metadata": {},
   "outputs": [
    {
     "name": "stdout",
     "output_type": "stream",
     "text": [
      "Writing /tmp/basic_argparse.py\n"
     ]
    }
   ],
   "source": [
    "%%writefile /tmp/basic_argparse.py\n",
    "import argparse\n",
    "\n",
    "my_parser = argparse.ArgumentParser(\n",
    "    description='Process some integers.'\n",
    ")\n",
    "my_parser.add_argument(\n",
    "    \"positional\", \n",
    "    help = \"Example of the positional argument.\",\n",
    ")\n",
    "my_parser.add_argument(\n",
    "    \"--option\",\n",
    "    help = \"Option that takes value.\"\n",
    ")\n",
    "\n",
    "args = my_parser.parse_args()\n",
    "print(\n",
    "    \"positional : \", args.positional, \"\\n\",\n",
    "    \"option : \", args.option,\n",
    "    sep = \"\"\n",
    ")"
   ]
  },
  {
   "cell_type": "markdown",
   "metadata": {},
   "source": [
    "Here is the `--help` output  for the created programme."
   ]
  },
  {
   "cell_type": "code",
   "execution_count": 6,
   "metadata": {},
   "outputs": [
    {
     "name": "stdout",
     "output_type": "stream",
     "text": [
      "usage: basic_argparse.py [-h] [--option OPTION] positional\n",
      "\n",
      "Process some integers.\n",
      "\n",
      "positional arguments:\n",
      "  positional       Example of the positional argument.\n",
      "\n",
      "options:\n",
      "  -h, --help       show this help message and exit\n",
      "  --option OPTION  Option that takes value.\n"
     ]
    }
   ],
   "source": [
    "%%bash\n",
    "python3 /tmp/basic_argparse.py --help"
   ]
  },
  {
   "cell_type": "markdown",
   "metadata": {},
   "source": [
    "Here is example of calling programm."
   ]
  },
  {
   "cell_type": "code",
   "execution_count": 8,
   "metadata": {},
   "outputs": [
    {
     "name": "stdout",
     "output_type": "stream",
     "text": [
      "positional : positional_value\n",
      "option : option_value\n"
     ]
    }
   ],
   "source": [
    "%%bash\n",
    "python3 /tmp/basic_argparse.py\\\n",
    "    positional_value\\\n",
    "    --option option_value"
   ]
  },
  {
   "cell_type": "markdown",
   "metadata": {},
   "source": [
    "## Click\n",
    "\n",
    "The [`click`](https://click.palletsprojects.com/en/stable/) is the another package for creating command line interfaces."
   ]
  },
  {
   "cell_type": "markdown",
   "metadata": {},
   "source": [
    "---\n",
    "\n",
    "The following example creates a script with a single posional argument."
   ]
  },
  {
   "cell_type": "code",
   "execution_count": 7,
   "metadata": {},
   "outputs": [
    {
     "name": "stdout",
     "output_type": "stream",
     "text": [
      "Overwriting /tmp/click_example.py\n"
     ]
    }
   ],
   "source": [
    "%%writefile /tmp/click_example.py\n",
    "import click\n",
    "@click.command()\n",
    "@click.argument('positional')\n",
    "def main(positional):\n",
    "    print(f'Positional argument value: {positional}')\n",
    "\n",
    "if __name__ == '__main__':\n",
    "    main()"
   ]
  },
  {
   "cell_type": "markdown",
   "metadata": {},
   "source": [
    "The following code calls on the help of the defined script."
   ]
  },
  {
   "cell_type": "code",
   "execution_count": 9,
   "metadata": {},
   "outputs": [
    {
     "name": "stdout",
     "output_type": "stream",
     "text": [
      "Usage: click_example.py [OPTIONS] POSITIONAL\n",
      "\n",
      "Options:\n",
      "  --help  Show this message and exit.\n"
     ]
    }
   ],
   "source": [
    "!python3 /tmp/click_example.py --help"
   ]
  },
  {
   "cell_type": "markdown",
   "metadata": {},
   "source": [
    "And infocation of the script with `positional=value1` argument. "
   ]
  },
  {
   "cell_type": "code",
   "execution_count": 10,
   "metadata": {},
   "outputs": [
    {
     "name": "stdout",
     "output_type": "stream",
     "text": [
      "Positional argument value: value1\n"
     ]
    }
   ],
   "source": [
    "!python3 /tmp/click_example.py value1"
   ]
  }
 ],
 "metadata": {
  "kernelspec": {
   "display_name": "python",
   "language": "python",
   "name": "python3"
  },
  "language_info": {
   "codemirror_mode": {
    "name": "ipython",
    "version": 3
   },
   "file_extension": ".py",
   "mimetype": "text/x-python",
   "name": "python",
   "nbconvert_exporter": "python",
   "pygments_lexer": "ipython3",
   "version": "3.13.7"
  }
 },
 "nbformat": 4,
 "nbformat_minor": 2
}
