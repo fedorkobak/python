{
 "cells": [
  {
   "cell_type": "markdown",
   "id": "096269fc-478c-443d-9c5d-865d2abcd895",
   "metadata": {},
   "source": [
    "# Imports\n",
    "\n",
    "This topic may seem unimportant, but some configurations can be inconvenient. It is therefore important to know the tools that Python has for importing modules.\n",
    "\n",
    "**Sources**\n",
    "\n",
    "- [Python modules and packages intorduction](https://realpython.com/python-modules-packages/#python-modules-overview) page in realpython;\n",
    "- [Python import: advanced Techniques and Tips](https://realpython.com/python-import/) page in realpython.\n",
    "- [The importing system](https://docs.python.org/3/reference/import.html) page of the official python documentation."
   ]
  },
  {
   "cell_type": "code",
   "execution_count": 14,
   "id": "b0d5e85c",
   "metadata": {},
   "outputs": [],
   "source": [
    "import sys\n",
    "import random"
   ]
  },
  {
   "cell_type": "markdown",
   "id": "29845505",
   "metadata": {},
   "source": [
    "## Loaded modules \n",
    "\n",
    "The `sys.path` is a dictionary that contains paths to directories where Python looks for modules during program execution."
   ]
  },
  {
   "cell_type": "markdown",
   "id": "6c1c653e",
   "metadata": {},
   "source": [
    "---\n",
    "\n",
    "The following cell shows the number of packages available in the current environment."
   ]
  },
  {
   "cell_type": "code",
   "execution_count": 11,
   "id": "221ba2f8",
   "metadata": {},
   "outputs": [
    {
     "data": {
      "text/plain": [
       "961"
      ]
     },
     "execution_count": 11,
     "metadata": {},
     "output_type": "execute_result"
    }
   ],
   "source": [
    "len(sys.modules)"
   ]
  },
  {
   "cell_type": "markdown",
   "id": "69ce5e76",
   "metadata": {},
   "source": [
    "There are so many packages because Jupyter, used as the environment for these experiments, has numerous dependencies. The following cell shows the same count but for a clean Python environment without imports from Jupyter's requirements."
   ]
  },
  {
   "cell_type": "code",
   "execution_count": 19,
   "id": "0fa90e53",
   "metadata": {},
   "outputs": [
    {
     "name": "stdout",
     "output_type": "stream",
     "text": [
      "54\n"
     ]
    }
   ],
   "source": [
    "%%bash\n",
    "python3 -c \"import sys; print(len(sys.modules))\""
   ]
  },
  {
   "cell_type": "markdown",
   "id": "4f247c95",
   "metadata": {},
   "source": [
    "Here is small subset of the modules loaded by jupyter."
   ]
  },
  {
   "cell_type": "code",
   "execution_count": 18,
   "id": "1adb743f",
   "metadata": {},
   "outputs": [
    {
     "data": {
      "text/plain": [
       "['IPython.core.builtin_trap',\n",
       " 'email',\n",
       " 'IPython.core.ultratb',\n",
       " 'types',\n",
       " 'threading',\n",
       " 'asyncio.futures',\n",
       " 'psutil._psutil_linux',\n",
       " 'IPython.testing.skipdoctest',\n",
       " 'zmq.sugar.frame',\n",
       " '_json']"
      ]
     },
     "execution_count": 18,
     "metadata": {},
     "output_type": "execute_result"
    }
   ],
   "source": [
    "random.sample(list(sys.modules.keys()), 10)"
   ]
  },
  {
   "cell_type": "markdown",
   "id": "fa2a9aea",
   "metadata": {},
   "source": [
    "Each object from that list has the `module` type, as demonstrated by the following code."
   ]
  },
  {
   "cell_type": "code",
   "execution_count": 21,
   "id": "3339d1db",
   "metadata": {},
   "outputs": [
    {
     "data": {
      "text/plain": [
       "module"
      ]
     },
     "execution_count": 21,
     "metadata": {},
     "output_type": "execute_result"
    }
   ],
   "source": [
    "type(sys.modules[\"sys\"])"
   ]
  },
  {
   "cell_type": "markdown",
   "id": "a1125d5a-1180-45df-beec-41cfe0ac80e2",
   "metadata": {},
   "source": [
    "## `sys.path`\n",
    "\n",
    "The `sys.path` list defines the directories where Python searches for modules when you try to import them. For more details check [specific page](imports/sys_path.ipynb)."
   ]
  },
  {
   "cell_type": "markdown",
   "id": "c77a49b1",
   "metadata": {},
   "source": [
    "---\n",
    "\n",
    "The following cell displays the `sys.path` for the current run."
   ]
  },
  {
   "cell_type": "code",
   "execution_count": 1,
   "id": "053c654f-f133-4671-aeff-58c79d3674ac",
   "metadata": {},
   "outputs": [
    {
     "data": {
      "text/plain": [
       "['/usr/lib/python312.zip',\n",
       " '/usr/lib/python3.12',\n",
       " '/usr/lib/python3.12/lib-dynload',\n",
       " '',\n",
       " '/home/f-kobak-distance-desctop/Documents/knowledge/venv/lib/python3.12/site-packages']"
      ]
     },
     "execution_count": 1,
     "metadata": {},
     "output_type": "execute_result"
    }
   ],
   "source": [
    "sys.path"
   ]
  },
  {
   "cell_type": "markdown",
   "id": "85d68ba9",
   "metadata": {},
   "source": [
    "## Searching module\n",
    "\n",
    "Searching for module in python described in [this subsection](https://docs.python.org/3/reference/import.html#searching) of the official documentation.\n",
    "\n",
    "For some practical features associated with that check [special page](imports/searching_module.ipynb) of this site."
   ]
  },
  {
   "cell_type": "markdown",
   "id": "e35c98a3",
   "metadata": {},
   "source": [
    "## Import function\n",
    "\n",
    "There is a special build-in function `__import__` that is actually hiden under the `import` keyword in the conventional python. See the [official description](https://docs.python.org/3/library/functions.html#import__) of the `__import__` buildin function."
   ]
  },
  {
   "cell_type": "markdown",
   "id": "9224886c",
   "metadata": {},
   "source": [
    "---\n",
    "\n",
    "The following cell shows the usage of the `cowsay` when imported through the `__import__` buildin."
   ]
  },
  {
   "cell_type": "code",
   "execution_count": null,
   "id": "25444f2f",
   "metadata": {},
   "outputs": [
    {
     "name": "stdout",
     "output_type": "stream",
     "text": [
      " ____________ \n",
      "< __import__ >\n",
      " ------------ \n",
      "        \\   ^__^\n",
      "         \\  (oo)\\_______\n",
      "            (__)\\       )\\/\\\n",
      "                ||----w |\n",
      "                ||     ||\n"
     ]
    }
   ],
   "source": [
    "cowsay = __import__(\"cowsay\")\n",
    "print(cowsay.cowsay(\"__import__\"))"
   ]
  }
 ],
 "metadata": {
  "kernelspec": {
   "display_name": "python",
   "language": "python",
   "name": "python3"
  },
  "language_info": {
   "codemirror_mode": {
    "name": "ipython",
    "version": 3
   },
   "file_extension": ".py",
   "mimetype": "text/x-python",
   "name": "python",
   "nbconvert_exporter": "python",
   "pygments_lexer": "ipython3",
   "version": "3.12.9"
  }
 },
 "nbformat": 4,
 "nbformat_minor": 5
}
