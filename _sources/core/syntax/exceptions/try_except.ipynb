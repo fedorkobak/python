{
 "cells": [
  {
   "cell_type": "markdown",
   "id": "32bbbb52",
   "metadata": {},
   "source": [
    "# Try/except\n",
    "\n",
    "This page covers the `try/except` construct in the python programming languages - its typical syntax and patterns that are related to them."
   ]
  },
  {
   "cell_type": "markdown",
   "id": "1638d5f7",
   "metadata": {},
   "source": [
    "## Re-rising\n",
    "\n",
    "A typical case is when you need to react to some exception by writing an `except` block for it, but you still have to raise the exact same exception - just to pass the information about it to a higher-level caller.\n",
    "\n",
    "It's definitely not an antipattern, as it is literally described in the [raise](https://docs.python.org/3/tutorial/errors.html#raising-exceptions) section of the official documentation.\n",
    "\n",
    "In fact, it is reflected in the language syntax. You can omit specifying the exception for `raise` inside an `except` block - it automatically re-raises the exception that caused entry into this `except`."
   ]
  },
  {
   "cell_type": "markdown",
   "id": "239d4d60",
   "metadata": {},
   "source": [
    "---\n",
    "\n",
    "The typical behaviour of a `try/except` block is to suppress the exception if the corresponding `except` block is found. The following code shows that:"
   ]
  },
  {
   "cell_type": "code",
   "execution_count": 1,
   "id": "8432bd15",
   "metadata": {},
   "outputs": [],
   "source": [
    "try:\n",
    "    raise ValueError(\"hello\")\n",
    "except:\n",
    "    pass"
   ]
  },
  {
   "cell_type": "markdown",
   "id": "9d7c4b5a",
   "metadata": {},
   "source": [
    "But the following cell demonstrates that using just the `raise` keyword in an `except` block leads to re-rising the exception."
   ]
  },
  {
   "cell_type": "code",
   "execution_count": 2,
   "id": "86339752",
   "metadata": {},
   "outputs": [
    {
     "ename": "ValueError",
     "evalue": "hello",
     "output_type": "error",
     "traceback": [
      "\u001b[31m---------------------------------------------------------------------------\u001b[39m",
      "\u001b[31mValueError\u001b[39m                                Traceback (most recent call last)",
      "\u001b[36mCell\u001b[39m\u001b[36m \u001b[39m\u001b[32mIn[2]\u001b[39m\u001b[32m, line 2\u001b[39m\n\u001b[32m      1\u001b[39m \u001b[38;5;28;01mtry\u001b[39;00m:\n\u001b[32m----> \u001b[39m\u001b[32m2\u001b[39m     \u001b[38;5;28;01mraise\u001b[39;00m \u001b[38;5;167;01mValueError\u001b[39;00m(\u001b[33m\"\u001b[39m\u001b[33mhello\u001b[39m\u001b[33m\"\u001b[39m)\n\u001b[32m      3\u001b[39m \u001b[38;5;28;01mexcept\u001b[39;00m:\n\u001b[32m      4\u001b[39m     \u001b[38;5;66;03m# break connection with the database\u001b[39;00m\n\u001b[32m      5\u001b[39m     \u001b[38;5;28;01mraise\u001b[39;00m\n",
      "\u001b[31mValueError\u001b[39m: hello"
     ]
    }
   ],
   "source": [
    "try:\n",
    "    raise ValueError(\"hello\")\n",
    "except:\n",
    "    # break connection with the database\n",
    "    raise"
   ]
  },
  {
   "cell_type": "markdown",
   "id": "011209f0",
   "metadata": {},
   "source": [
    "## Same `except` block\n",
    "\n",
    "To use the same code to handle different types of exceptions, you can simply mention them as tuples in the condition for the `except` block."
   ]
  },
  {
   "cell_type": "markdown",
   "id": "f8b370e0",
   "metadata": {},
   "source": [
    "---\n",
    "\n",
    "In the following example, a random exception type is displayed, but only three of four possible error types are mentioned in the `except` block. So I will only get a message from the `except` block until I get the unmentioned error type.\n",
    "\n",
    "I would like to emphasise once again that this is not done to handle all error types, there is a special design for this which is described [here](#default-except)."
   ]
  },
  {
   "cell_type": "code",
   "execution_count": null,
   "id": "dd8c6dca",
   "metadata": {},
   "outputs": [
    {
     "name": "stdout",
     "output_type": "stream",
     "text": [
      "====I got a type ZeroDivisionError====\n",
      "I handle all mentioned exceptions\n",
      "====I got a type TypeError====\n",
      "I handle all mentioned exceptions\n",
      "====I got a type ZeroDivisionError====\n",
      "I handle all mentioned exceptions\n",
      "====I got a type ZeroDivisionError====\n",
      "I handle all mentioned exceptions\n",
      "====I got a type IndexError====\n",
      "I handle all mentioned exceptions\n",
      "====I got a type NameError====\n"
     ]
    },
    {
     "ename": "NameError",
     "evalue": "name 'unknown_name' is not defined",
     "output_type": "error",
     "traceback": [
      "\u001b[31m---------------------------------------------------------------------------\u001b[39m\n",
      "\u001b[31mNameError\u001b[39m                                 Traceback (most recent call last)\n",
      "\u001b[36mCell\u001b[39m\u001b[36m \u001b[39m\u001b[32mIn[1]\u001b[39m\u001b[32m, line 15\u001b[39m\n",
      "\u001b[32m     13\u001b[39m     this_type = choice(error_types)\n",
      "\u001b[32m     14\u001b[39m     \u001b[38;5;28mprint\u001b[39m(\u001b[33mf\u001b[39m\u001b[33m\"\u001b[39m\u001b[33m====I got a type \u001b[39m\u001b[38;5;132;01m{\u001b[39;00mthis_type\u001b[38;5;132;01m}\u001b[39;00m\u001b[33m====\u001b[39m\u001b[33m\"\u001b[39m)\n",
      "\u001b[32m---> \u001b[39m\u001b[32m15\u001b[39m     \u001b[43mtry_functions\u001b[49m\u001b[43m[\u001b[49m\u001b[43mthis_type\u001b[49m\u001b[43m]\u001b[49m\u001b[43m(\u001b[49m\u001b[43m)\u001b[49m\n",
      "\u001b[32m     16\u001b[39m \u001b[38;5;28;01mexcept\u001b[39;00m (\u001b[38;5;167;01mZeroDivisionError\u001b[39;00m, \u001b[38;5;167;01mIndexError\u001b[39;00m, \u001b[38;5;167;01mTypeError\u001b[39;00m):\n",
      "\u001b[32m     17\u001b[39m     \u001b[38;5;28mprint\u001b[39m(\u001b[33m\"\u001b[39m\u001b[33mI handle all mentioned exceptions\u001b[39m\u001b[33m\"\u001b[39m)\n",
      "\n",
      "\u001b[36mCell\u001b[39m\u001b[36m \u001b[39m\u001b[32mIn[1]\u001b[39m\u001b[32m, line 7\u001b[39m, in \u001b[36m<lambda>\u001b[39m\u001b[34m()\u001b[39m\n",
      "\u001b[32m      1\u001b[39m \u001b[38;5;28;01mfrom\u001b[39;00m\u001b[38;5;250m \u001b[39m\u001b[34;01mrandom\u001b[39;00m\u001b[38;5;250m \u001b[39m\u001b[38;5;28;01mimport\u001b[39;00m choice\n",
      "\u001b[32m      2\u001b[39m test_lst = [\u001b[32m1\u001b[39m,\u001b[32m2\u001b[39m]\n",
      "\u001b[32m      3\u001b[39m try_functions = {\n",
      "\u001b[32m      4\u001b[39m     \u001b[33m\"\u001b[39m\u001b[33mZeroDivisionError\u001b[39m\u001b[33m\"\u001b[39m: \u001b[38;5;28;01mlambda\u001b[39;00m: \u001b[32m8\u001b[39m/\u001b[32m0\u001b[39m, \u001b[38;5;66;03m# \u001b[39;00m\n",
      "\u001b[32m      5\u001b[39m     \u001b[33m\"\u001b[39m\u001b[33mIndexError\u001b[39m\u001b[33m\"\u001b[39m : \u001b[38;5;28;01mlambda\u001b[39;00m: test_lst[\u001b[32m5\u001b[39m],\n",
      "\u001b[32m      6\u001b[39m     \u001b[33m\"\u001b[39m\u001b[33mTypeError\u001b[39m\u001b[33m\"\u001b[39m : \u001b[38;5;28;01mlambda\u001b[39;00m: \u001b[33m\"\u001b[39m\u001b[33mhello\u001b[39m\u001b[33m\"\u001b[39m + \u001b[32m4\u001b[39m,\n",
      "\u001b[32m----> \u001b[39m\u001b[32m7\u001b[39m     \u001b[33m\"\u001b[39m\u001b[33mNameError\u001b[39m\u001b[33m\"\u001b[39m : \u001b[38;5;28;01mlambda\u001b[39;00m: \u001b[43munknown_name\u001b[49m\n",
      "\u001b[32m      8\u001b[39m }\n",
      "\u001b[32m      9\u001b[39m error_types = \u001b[38;5;28mlist\u001b[39m(try_functions.keys())\n",
      "\u001b[32m     11\u001b[39m \u001b[38;5;28;01mfor\u001b[39;00m i \u001b[38;5;129;01min\u001b[39;00m \u001b[38;5;28mrange\u001b[39m(\u001b[32m10\u001b[39m):\n",
      "\n",
      "\u001b[31mNameError\u001b[39m: name 'unknown_name' is not defined"
     ]
    }
   ],
   "source": [
    "from random import choice\n",
    "test_lst = [1,2]\n",
    "try_functions = {\n",
    "    \"ZeroDivisionError\": lambda: 8/0, # \n",
    "    \"IndexError\" : lambda: test_lst[5],\n",
    "    \"TypeError\" : lambda: \"hello\" + 4,\n",
    "    \"NameError\" : lambda: unknown_name\n",
    "}\n",
    "error_types = list(try_functions.keys())\n",
    "\n",
    "for i in range(10):\n",
    "    try:\n",
    "        this_type = choice(error_types)\n",
    "        print(f\"====I got a type {this_type}====\")\n",
    "        try_functions[this_type]()\n",
    "    except (ZeroDivisionError, IndexError, TypeError):\n",
    "        print(\"I handle all mentioned exceptions\")"
   ]
  },
  {
   "cell_type": "markdown",
   "id": "fa9a4298",
   "metadata": {},
   "source": [
    "## Different `except` blocks\n",
    "\n",
    "You can set code to handle a particular type of error, and do it several times for a `try` block. All you have to do is mention several `except` blocks one after the other."
   ]
  },
  {
   "cell_type": "markdown",
   "id": "2d187c15",
   "metadata": {},
   "source": [
    "---\n",
    "\n",
    "The following example, call random error in a loop, and different errors have different handlers. You can see that there is a specific message for each iteration."
   ]
  },
  {
   "cell_type": "code",
   "execution_count": null,
   "id": "ba433b96",
   "metadata": {},
   "outputs": [
    {
     "name": "stdout",
     "output_type": "stream",
     "text": [
      "====I got a type TypeError====\n",
      "This is wrong operations with types (third option)\n",
      "====I got a type ZeroDivisionError====\n",
      "This is divison by zero (first option)\n",
      "====I got a type TypeError====\n",
      "This is wrong operations with types (third option)\n",
      "====I got a type IndexError====\n",
      "This is wrong index (second option)\n",
      "====I got a type TypeError====\n",
      "This is wrong operations with types (third option)\n",
      "====I got a type TypeError====\n",
      "This is wrong operations with types (third option)\n",
      "====I got a type ZeroDivisionError====\n",
      "This is divison by zero (first option)\n",
      "====I got a type TypeError====\n",
      "This is wrong operations with types (third option)\n",
      "====I got a type ZeroDivisionError====\n",
      "This is divison by zero (first option)\n",
      "====I got a type TypeError====\n",
      "This is wrong operations with types (third option)\n"
     ]
    }
   ],
   "source": [
    "import numpy as np\n",
    "\n",
    "test_lst = [1,2]\n",
    "try_functions = {\n",
    "    \"ZeroDivisionError\": lambda: 8/0, # \n",
    "    \"IndexError\" : lambda: test_lst[5],\n",
    "    \"TypeError\" : lambda: \"hello\" + 4,\n",
    "}\n",
    "error_types = list(try_functions.keys())\n",
    "\n",
    "for i in range(10):\n",
    "    try:\n",
    "        this_type = np.random.choice(error_types)\n",
    "        print(f\"====I got a type {this_type}====\")\n",
    "        try_functions[this_type]()\n",
    "    except ZeroDivisionError:\n",
    "        print(\"This is divison by zero (first option)\")\n",
    "    except IndexError:\n",
    "        print(\"This is wrong index (second option)\")\n",
    "    except TypeError:\n",
    "        print(\"This is wrong operations with types (third option)\")"
   ]
  },
  {
   "cell_type": "markdown",
   "id": "e392bab4",
   "metadata": {},
   "source": [
    "## default `except`\n",
    "\n",
    "You can run some code with any type of exception, just without specifying the type of exception in the corresponding `except` block."
   ]
  },
  {
   "cell_type": "markdown",
   "id": "8f7d7aac",
   "metadata": {},
   "source": [
    "---\n",
    "\n",
    "In the following example, I call random exceptions in a loop, and each of them is handled by an `except` block."
   ]
  },
  {
   "cell_type": "code",
   "execution_count": null,
   "id": "fc164345",
   "metadata": {},
   "outputs": [
    {
     "name": "stdout",
     "output_type": "stream",
     "text": [
      "====I got a type NameError====\n",
      "I handle all exceptions\n",
      "====I got a type TypeError====\n",
      "I handle all exceptions\n",
      "====I got a type NameError====\n",
      "I handle all exceptions\n",
      "====I got a type NameError====\n",
      "I handle all exceptions\n",
      "====I got a type NameError====\n",
      "I handle all exceptions\n",
      "====I got a type TypeError====\n",
      "I handle all exceptions\n",
      "====I got a type ZeroDivisionError====\n",
      "I handle all exceptions\n",
      "====I got a type IndexError====\n",
      "I handle all exceptions\n",
      "====I got a type ZeroDivisionError====\n",
      "I handle all exceptions\n",
      "====I got a type IndexError====\n",
      "I handle all exceptions\n"
     ]
    }
   ],
   "source": [
    "from random import choice\n",
    "\n",
    "test_lst = [1,2]\n",
    "try_functions = {\n",
    "    \"ZeroDivisionError\": lambda: 8/0, # \n",
    "    \"IndexError\" : lambda: test_lst[5],\n",
    "    \"TypeError\" : lambda: \"hello\" + 4,\n",
    "    \"NameError\" : lambda: unknown_name\n",
    "}\n",
    "error_types = list(try_functions.keys())\n",
    "\n",
    "\n",
    "for i in range(10):\n",
    "    try:\n",
    "        this_type = choice(error_types)\n",
    "        print(f\"====I got a type {this_type}====\")\n",
    "        try_functions[this_type]()\n",
    "    except:\n",
    "        print(\"I handle all exceptions\")"
   ]
  },
  {
   "cell_type": "markdown",
   "id": "1972b087",
   "metadata": {},
   "source": [
    "**Note** that default `except` must be placed last.\n",
    "\n",
    "So it's not possible if the default `except` hadnle all exceptions, even if you specify some specific ones - specific ones always have priority.\n",
    "\n",
    "In the following example, I am trying to place a specific exception after the default exception, but I am getting a syntax error."
   ]
  },
  {
   "cell_type": "code",
   "execution_count": null,
   "id": "33689dc5",
   "metadata": {},
   "outputs": [
    {
     "ename": "SyntaxError",
     "evalue": "default 'except:' must be last (1507528251.py, line 3)",
     "output_type": "error",
     "traceback": [
      "\u001b[0;36m  Cell \u001b[0;32mIn[56], line 3\u001b[0;36m\u001b[0m\n",
      "\u001b[0;31m    except:\u001b[0m\n",
      "\u001b[0m    ^\u001b[0m\n",
      "\u001b[0;31mSyntaxError\u001b[0m\u001b[0;31m:\u001b[0m default 'except:' must be last\n"
     ]
    }
   ],
   "source": [
    "try:\n",
    "    \"str\" + 1\n",
    "except:\n",
    "    print(\"I handle all exceptions\")\n",
    "except TypeError:\n",
    "    print(\"I handle type error\")"
   ]
  }
 ],
 "metadata": {
  "kernelspec": {
   "display_name": "python (3.13.5)",
   "language": "python",
   "name": "python3"
  },
  "language_info": {
   "codemirror_mode": {
    "name": "ipython",
    "version": 3
   },
   "file_extension": ".py",
   "mimetype": "text/x-python",
   "name": "python",
   "nbconvert_exporter": "python",
   "pygments_lexer": "ipython3",
   "version": "3.13.5"
  }
 },
 "nbformat": 4,
 "nbformat_minor": 5
}
