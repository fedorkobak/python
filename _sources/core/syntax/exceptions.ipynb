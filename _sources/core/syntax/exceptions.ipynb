{
 "cells": [
  {
   "cell_type": "markdown",
   "id": "011f9c43-ee8e-4fb6-a01d-2d5bf019b5c4",
   "metadata": {},
   "source": [
    "# Exceptions"
   ]
  },
  {
   "cell_type": "markdown",
   "id": "e993512f-ecf0-4d7a-984a-b4d9aa416930",
   "metadata": {},
   "source": [
    "## Several exception types\n",
    "\n",
    "If you want to handle multiple exceptions for a block, you can use one of the following options:"
   ]
  },
  {
   "cell_type": "markdown",
   "id": "02bd8b7e-b33d-49e9-81a1-f135ccb52951",
   "metadata": {},
   "source": [
    "### Same `except` block\n",
    "\n",
    "To use the same code to handle different types of exceptions, you can simply mention them as tuples in the condition for the `except` block.\n",
    "\n",
    "In the following example, I have called a random exception type, but only three of four possible error types are mentioned in the `except` block. So I will only get a message from the `except` block until I get the unmentioned error type.\n",
    "\n",
    "I would like to emphasise once again that this is not done to handle all error types, there is a special design for this which is described [here](#default-except)."
   ]
  },
  {
   "cell_type": "code",
   "execution_count": 62,
   "id": "251540f4-a992-4045-a6d6-d0c6bc9cb408",
   "metadata": {},
   "outputs": [
    {
     "name": "stdout",
     "output_type": "stream",
     "text": [
      "====I got a type IndexError====\n",
      "I handle all mentioned exceptions\n",
      "====I got a type TypeError====\n",
      "I handle all mentioned exceptions\n",
      "====I got a type ZeroDivisionError====\n",
      "I handle all mentioned exceptions\n",
      "====I got a type TypeError====\n",
      "I handle all mentioned exceptions\n",
      "====I got a type NameError====\n"
     ]
    },
    {
     "ename": "NameError",
     "evalue": "name 'unknown_name' is not defined",
     "output_type": "error",
     "traceback": [
      "\u001b[0;31m---------------------------------------------------------------------------\u001b[0m",
      "\u001b[0;31mNameError\u001b[0m                                 Traceback (most recent call last)",
      "Cell \u001b[0;32mIn[62], line 14\u001b[0m\n\u001b[1;32m     12\u001b[0m     this_type \u001b[38;5;241m=\u001b[39m np\u001b[38;5;241m.\u001b[39mrandom\u001b[38;5;241m.\u001b[39mchoice(error_types)\n\u001b[1;32m     13\u001b[0m     \u001b[38;5;28mprint\u001b[39m(\u001b[38;5;124mf\u001b[39m\u001b[38;5;124m\"\u001b[39m\u001b[38;5;124m====I got a type \u001b[39m\u001b[38;5;132;01m{\u001b[39;00mthis_type\u001b[38;5;132;01m}\u001b[39;00m\u001b[38;5;124m====\u001b[39m\u001b[38;5;124m\"\u001b[39m)\n\u001b[0;32m---> 14\u001b[0m     \u001b[43mtry_functions\u001b[49m\u001b[43m[\u001b[49m\u001b[43mthis_type\u001b[49m\u001b[43m]\u001b[49m\u001b[43m(\u001b[49m\u001b[43m)\u001b[49m\n\u001b[1;32m     15\u001b[0m \u001b[38;5;28;01mexcept\u001b[39;00m (\u001b[38;5;167;01mZeroDivisionError\u001b[39;00m, \u001b[38;5;167;01mIndexError\u001b[39;00m, \u001b[38;5;167;01mTypeError\u001b[39;00m):\n\u001b[1;32m     16\u001b[0m     \u001b[38;5;28mprint\u001b[39m(\u001b[38;5;124m\"\u001b[39m\u001b[38;5;124mI handle all mentioned exceptions\u001b[39m\u001b[38;5;124m\"\u001b[39m)\n",
      "Cell \u001b[0;32mIn[62], line 6\u001b[0m, in \u001b[0;36m<lambda>\u001b[0;34m()\u001b[0m\n\u001b[1;32m      1\u001b[0m test_lst \u001b[38;5;241m=\u001b[39m [\u001b[38;5;241m1\u001b[39m,\u001b[38;5;241m2\u001b[39m]\n\u001b[1;32m      2\u001b[0m try_functions \u001b[38;5;241m=\u001b[39m {\n\u001b[1;32m      3\u001b[0m     \u001b[38;5;124m\"\u001b[39m\u001b[38;5;124mZeroDivisionError\u001b[39m\u001b[38;5;124m\"\u001b[39m: \u001b[38;5;28;01mlambda\u001b[39;00m: \u001b[38;5;241m8\u001b[39m\u001b[38;5;241m/\u001b[39m\u001b[38;5;241m0\u001b[39m, \u001b[38;5;66;03m# \u001b[39;00m\n\u001b[1;32m      4\u001b[0m     \u001b[38;5;124m\"\u001b[39m\u001b[38;5;124mIndexError\u001b[39m\u001b[38;5;124m\"\u001b[39m : \u001b[38;5;28;01mlambda\u001b[39;00m: test_lst[\u001b[38;5;241m5\u001b[39m],\n\u001b[1;32m      5\u001b[0m     \u001b[38;5;124m\"\u001b[39m\u001b[38;5;124mTypeError\u001b[39m\u001b[38;5;124m\"\u001b[39m : \u001b[38;5;28;01mlambda\u001b[39;00m: \u001b[38;5;124m\"\u001b[39m\u001b[38;5;124mhello\u001b[39m\u001b[38;5;124m\"\u001b[39m \u001b[38;5;241m+\u001b[39m \u001b[38;5;241m4\u001b[39m,\n\u001b[0;32m----> 6\u001b[0m     \u001b[38;5;124m\"\u001b[39m\u001b[38;5;124mNameError\u001b[39m\u001b[38;5;124m\"\u001b[39m : \u001b[38;5;28;01mlambda\u001b[39;00m: \u001b[43munknown_name\u001b[49m\n\u001b[1;32m      7\u001b[0m }\n\u001b[1;32m      8\u001b[0m error_types \u001b[38;5;241m=\u001b[39m \u001b[38;5;28mlist\u001b[39m(try_functions\u001b[38;5;241m.\u001b[39mkeys())\n\u001b[1;32m     10\u001b[0m \u001b[38;5;28;01mfor\u001b[39;00m i \u001b[38;5;129;01min\u001b[39;00m \u001b[38;5;28mrange\u001b[39m(\u001b[38;5;241m10\u001b[39m):\n",
      "\u001b[0;31mNameError\u001b[0m: name 'unknown_name' is not defined"
     ]
    }
   ],
   "source": [
    "test_lst = [1,2]\n",
    "try_functions = {\n",
    "    \"ZeroDivisionError\": lambda: 8/0, # \n",
    "    \"IndexError\" : lambda: test_lst[5],\n",
    "    \"TypeError\" : lambda: \"hello\" + 4,\n",
    "    \"NameError\" : lambda: unknown_name\n",
    "}\n",
    "error_types = list(try_functions.keys())\n",
    "\n",
    "for i in range(10):\n",
    "    try:\n",
    "        this_type = np.random.choice(error_types)\n",
    "        print(f\"====I got a type {this_type}====\")\n",
    "        try_functions[this_type]()\n",
    "    except (ZeroDivisionError, IndexError, TypeError):\n",
    "        print(\"I handle all mentioned exceptions\")"
   ]
  },
  {
   "cell_type": "markdown",
   "id": "167c3425-4e89-4d71-99b6-13d0d69bcebe",
   "metadata": {},
   "source": [
    "### Different `except` blocks\n",
    "\n",
    "You can set code to handle a particular type of error, and do it several times for a `try` block. All you have to do is mention several `except` blocks one after the other.\n",
    "\n",
    "So in the following example, I call random error in a loop, and different errors have different handlers. You can see that there is a specific message for each iteration."
   ]
  },
  {
   "cell_type": "code",
   "execution_count": 61,
   "id": "4aadb0f7-0a9a-4d90-899d-95e9af60fb63",
   "metadata": {},
   "outputs": [
    {
     "name": "stdout",
     "output_type": "stream",
     "text": [
      "====I got a type TypeError====\n",
      "This is wrong operations with types (third option)\n",
      "====I got a type ZeroDivisionError====\n",
      "This is divison by zero (first option)\n",
      "====I got a type TypeError====\n",
      "This is wrong operations with types (third option)\n",
      "====I got a type IndexError====\n",
      "This is wrong index (second option)\n",
      "====I got a type TypeError====\n",
      "This is wrong operations with types (third option)\n",
      "====I got a type TypeError====\n",
      "This is wrong operations with types (third option)\n",
      "====I got a type ZeroDivisionError====\n",
      "This is divison by zero (first option)\n",
      "====I got a type TypeError====\n",
      "This is wrong operations with types (third option)\n",
      "====I got a type ZeroDivisionError====\n",
      "This is divison by zero (first option)\n",
      "====I got a type TypeError====\n",
      "This is wrong operations with types (third option)\n"
     ]
    }
   ],
   "source": [
    "import numpy as np\n",
    "\n",
    "test_lst = [1,2]\n",
    "try_functions = {\n",
    "    \"ZeroDivisionError\": lambda: 8/0, # \n",
    "    \"IndexError\" : lambda: test_lst[5],\n",
    "    \"TypeError\" : lambda: \"hello\" + 4,\n",
    "}\n",
    "error_types = list(try_functions.keys())\n",
    "\n",
    "for i in range(10):\n",
    "    try:\n",
    "        this_type = np.random.choice(error_types)\n",
    "        print(f\"====I got a type {this_type}====\")\n",
    "        try_functions[this_type]()\n",
    "    except ZeroDivisionError:\n",
    "        print(\"This is divison by zero (first option)\")\n",
    "    except IndexError:\n",
    "        print(\"This is wrong index (second option)\")\n",
    "    except TypeError:\n",
    "        print(\"This is wrong operations with types (third option)\")"
   ]
  },
  {
   "cell_type": "markdown",
   "id": "99a2a04c-4b7b-4110-9e53-f923957af06a",
   "metadata": {},
   "source": [
    "### Ony one `exception` per type\n",
    "\n",
    "You can define any number of `except' blocks for the same exception type, but only the first one will be called.\n",
    "\n",
    "In the following example, even though I declared two codes for the `ZeroDivisionError` type exception, only the first one was executed."
   ]
  },
  {
   "cell_type": "code",
   "execution_count": 34,
   "id": "51af66de-0f70-457d-bea2-5f443b6e6a51",
   "metadata": {},
   "outputs": [
    {
     "name": "stdout",
     "output_type": "stream",
     "text": [
      "First code to handle exception\n"
     ]
    }
   ],
   "source": [
    "try:\n",
    "    1/0\n",
    "except ZeroDivisionError:\n",
    "    print(\"First code to handle exception\")\n",
    "except ZeroDivisionError:\n",
    "    print(\"Second code to handle exception\")"
   ]
  },
  {
   "cell_type": "markdown",
   "id": "330e4a32-f1fb-4125-9357-f50d0cc1e134",
   "metadata": {},
   "source": [
    "## default `except`\n",
    "\n",
    "You can run some code with any type of exception, just without specifying the type of exception in the corresponding `except` block."
   ]
  },
  {
   "cell_type": "markdown",
   "id": "d6168516-d13c-4d6c-93e3-e71573c922b6",
   "metadata": {},
   "source": [
    "In the following example, I call random exceptions in a loop, and each of them is handled by an `except` block."
   ]
  },
  {
   "cell_type": "code",
   "execution_count": 52,
   "id": "5a9af848-e322-412c-8697-5cf4b28cf6af",
   "metadata": {},
   "outputs": [
    {
     "name": "stdout",
     "output_type": "stream",
     "text": [
      "====I got a type ZeroDivisionError====\n",
      "I handle all exceptions\n",
      "====I got a type NameError====\n",
      "I handle all exceptions\n",
      "====I got a type IndexError====\n",
      "I handle all exceptions\n",
      "====I got a type IndexError====\n",
      "I handle all exceptions\n",
      "====I got a type NameError====\n",
      "I handle all exceptions\n",
      "====I got a type ZeroDivisionError====\n",
      "I handle all exceptions\n",
      "====I got a type NameError====\n",
      "I handle all exceptions\n",
      "====I got a type NameError====\n",
      "I handle all exceptions\n",
      "====I got a type NameError====\n",
      "I handle all exceptions\n",
      "====I got a type IndexError====\n",
      "I handle all exceptions\n"
     ]
    }
   ],
   "source": [
    "import numpy as np\n",
    "\n",
    "test_lst = [1,2]\n",
    "try_functions = {\n",
    "    \"ZeroDivisionError\": lambda: 8/0, # \n",
    "    \"IndexError\" : lambda: test_lst[5],\n",
    "    \"TypeError\" : lambda: \"hello\" + 4,\n",
    "    \"NameError\" : lambda: unknown_name\n",
    "}\n",
    "error_types = list(try_functions.keys())\n",
    "\n",
    "\n",
    "for i in range(10):\n",
    "    try:\n",
    "        this_type = np.random.choice(error_types)\n",
    "        print(f\"====I got a type {this_type}====\")\n",
    "        try_functions[this_type]()\n",
    "    except:\n",
    "        print(\"I handle all exceptions\")"
   ]
  },
  {
   "cell_type": "markdown",
   "id": "6e0959dd-20bb-4810-b8f2-e34d2b3c7598",
   "metadata": {},
   "source": [
    "**Note** that default `except` must be placed last.\n",
    "\n",
    "So it's not possible if the default `except` hadnle all exceptions, even if you specify some specific ones - specific ones always have priority.\n",
    "\n",
    "In the following example, I am trying to place a specific exception after the default exception, but I am getting a syntax error."
   ]
  },
  {
   "cell_type": "code",
   "execution_count": 56,
   "id": "7a7a7154-5c6a-4eac-aa03-57c4a99499e1",
   "metadata": {},
   "outputs": [
    {
     "ename": "SyntaxError",
     "evalue": "default 'except:' must be last (1507528251.py, line 3)",
     "output_type": "error",
     "traceback": [
      "\u001b[0;36m  Cell \u001b[0;32mIn[56], line 3\u001b[0;36m\u001b[0m\n\u001b[0;31m    except:\u001b[0m\n\u001b[0m    ^\u001b[0m\n\u001b[0;31mSyntaxError\u001b[0m\u001b[0;31m:\u001b[0m default 'except:' must be last\n"
     ]
    }
   ],
   "source": [
    "try:\n",
    "    \"str\" + 1\n",
    "except:\n",
    "    print(\"I handle all exceptions\")\n",
    "except TypeError:\n",
    "    print(\"I handle type error\")"
   ]
  },
  {
   "cell_type": "markdown",
   "id": "e23a2e8b-1e4f-43d2-b0d3-6dcaa6bbb12e",
   "metadata": {},
   "source": [
    "## Get type of excetption\n",
    "\n",
    "You can get type of error as string by using `except Exception as e:` code in definition of `except` block.\n",
    "\n",
    "So in the following example I have a list of functions, some of which should work fine, but some of which should cause exceptions. And in `except` block I print the type of exception."
   ]
  },
  {
   "cell_type": "code",
   "execution_count": 4,
   "id": "0df6f963-f03d-48ff-8022-3b0a8264c7a0",
   "metadata": {},
   "outputs": [
    {
     "name": "stdout",
     "output_type": "stream",
     "text": [
      "error type: division by zero\n",
      "no error\n",
      "error type: can only concatenate str (not \"int\") to str\n"
     ]
    }
   ],
   "source": [
    "try_functions = [\n",
    "    lambda: 8/0,\n",
    "    lambda: \"hello\",\n",
    "    lambda: \"hello\" + 4\n",
    "]\n",
    "\n",
    "for fun in try_functions:\n",
    "    try:\n",
    "        fun()\n",
    "        print(\"no error\")\n",
    "    except Exception as e:\n",
    "        print(\"error type:\", e)"
   ]
  }
 ],
 "metadata": {
  "kernelspec": {
   "display_name": "Python 3 (ipykernel)",
   "language": "python",
   "name": "python3"
  },
  "language_info": {
   "codemirror_mode": {
    "name": "ipython",
    "version": 3
   },
   "file_extension": ".py",
   "mimetype": "text/x-python",
   "name": "python",
   "nbconvert_exporter": "python",
   "pygments_lexer": "ipython3",
   "version": "3.10.12"
  }
 },
 "nbformat": 4,
 "nbformat_minor": 5
}
