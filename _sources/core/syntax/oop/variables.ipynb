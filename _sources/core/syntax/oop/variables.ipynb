{
 "cells": [
  {
   "cell_type": "markdown",
   "id": "b947a49d",
   "metadata": {},
   "source": [
    "# Variables\n",
    "\n",
    "Classes and their instances can contain variables (sometimes called data attributes) - it's a peace of data that corresponds to the class or its instances."
   ]
  },
  {
   "cell_type": "markdown",
   "id": "1375f06a",
   "metadata": {},
   "source": [
    "## Class and instance variables\n",
    "\n",
    "If variable is defined only in the class namespace - it will be a class variable, corresponding to the class. If you define an attribute using the syntax `<instance name>.<attribute name>` (`self.<attribute name>` as a particular case), it will be an attibute of the particular instance."
   ]
  },
  {
   "cell_type": "markdown",
   "id": "d3f672d0",
   "metadata": {},
   "source": [
    "---\n",
    "\n",
    "The following cell defines class variable `MyClass.val`."
   ]
  },
  {
   "cell_type": "code",
   "execution_count": null,
   "id": "089d51fa",
   "metadata": {},
   "outputs": [],
   "source": [
    "class MyClass:\n",
    "    val = 10"
   ]
  },
  {
   "cell_type": "markdown",
   "id": "6ad86463",
   "metadata": {},
   "source": [
    "So you can work with it without creating an instance."
   ]
  },
  {
   "cell_type": "code",
   "execution_count": null,
   "id": "9a499a46",
   "metadata": {},
   "outputs": [
    {
     "data": {
      "text/plain": [
       "10"
      ]
     },
     "metadata": {},
     "output_type": "display_data"
    }
   ],
   "source": [
    "MyClass.val"
   ]
  },
  {
   "cell_type": "markdown",
   "id": "0efc71d3",
   "metadata": {},
   "source": [
    "But each instance will have the same attribute."
   ]
  },
  {
   "cell_type": "code",
   "execution_count": null,
   "id": "27fb8dc9",
   "metadata": {},
   "outputs": [
    {
     "data": {
      "text/plain": [
       "10"
      ]
     },
     "metadata": {},
     "output_type": "display_data"
    }
   ],
   "source": [
    "my_class = MyClass()\n",
    "my_class.val"
   ]
  },
  {
   "cell_type": "markdown",
   "id": "f66117b2",
   "metadata": {},
   "source": [
    "Even more - this is the same object."
   ]
  },
  {
   "cell_type": "code",
   "execution_count": null,
   "id": "01621aee",
   "metadata": {},
   "outputs": [
    {
     "data": {
      "text/plain": [
       "True"
      ]
     },
     "metadata": {},
     "output_type": "display_data"
    }
   ],
   "source": [
    "my_class.val is MyClass.val"
   ]
  },
  {
   "cell_type": "markdown",
   "id": "53d8e22d",
   "metadata": {},
   "source": [
    "But if you access to the of the instance, it will create the new attribute that's not realted to the attribute of the class."
   ]
  },
  {
   "cell_type": "code",
   "execution_count": null,
   "id": "d2d0667d",
   "metadata": {},
   "outputs": [
    {
     "data": {
      "text/plain": [
       "10"
      ]
     },
     "metadata": {},
     "output_type": "display_data"
    }
   ],
   "source": [
    "my_class.val = 9\n",
    "MyClass.val"
   ]
  },
  {
   "cell_type": "markdown",
   "id": "929106b6",
   "metadata": {},
   "source": [
    "## Dynamic attributes\n",
    "\n",
    "There is a build-in `property` decorator in python that allows you to use methods just like just variable attributes of the class - the value the method returns is interpreted as the value of the corresponding attribute."
   ]
  },
  {
   "cell_type": "markdown",
   "id": "6c93da0b",
   "metadata": {},
   "source": [
    "---\n",
    "\n",
    "The following cell defines the `RandGen` class, which defines the `value` method under the `property` decorator - it just returns random values."
   ]
  },
  {
   "cell_type": "code",
   "execution_count": null,
   "id": "9b505858",
   "metadata": {},
   "outputs": [],
   "source": [
    "import random\n",
    "\n",
    "class RandGen:\n",
    "    def __init__(self, min: float, max: float):\n",
    "        self.min = min\n",
    "        self.max = max\n",
    "\n",
    "    @property\n",
    "    def value(self):\n",
    "        return random.uniform(self.min, self.max)"
   ]
  },
  {
   "cell_type": "markdown",
   "id": "5af4a266",
   "metadata": {},
   "source": [
    "The following code shows that with `RandGen` you can operate just like a regular variable in case of reading information."
   ]
  },
  {
   "cell_type": "code",
   "execution_count": null,
   "id": "e9b93ffb",
   "metadata": {},
   "outputs": [
    {
     "data": {
      "text/plain": [
       "[6.646884067379181,\n",
       " 6.3595125203166845,\n",
       " 7.164334806512267,\n",
       " 7.855654367739249,\n",
       " 7.763809778902321]"
      ]
     },
     "metadata": {},
     "output_type": "display_data"
    }
   ],
   "source": [
    "rg = RandGen(4, 8)\n",
    "[rg.value for i in range(5)]"
   ]
  },
  {
   "cell_type": "markdown",
   "id": "b752df6d",
   "metadata": {},
   "source": [
    "But obviously, you can't set a new value for the attribute easily - that leads to the specific error shown in the next cell."
   ]
  },
  {
   "cell_type": "code",
   "execution_count": null,
   "id": "b41dc0ab",
   "metadata": {},
   "outputs": [
    {
     "name": "stdout",
     "output_type": "stream",
     "text": [
      "property 'value' of 'RandGen' object has no setter\n"
     ]
    }
   ],
   "source": [
    "try:\n",
    "    rg.value = 5\n",
    "except Exception as e:\n",
    "    print(e)"
   ]
  }
 ],
 "metadata": {
  "language_info": {
   "name": "python"
  }
 },
 "nbformat": 4,
 "nbformat_minor": 5
}
