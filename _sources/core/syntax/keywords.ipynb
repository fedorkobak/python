{
 "cells": [
  {
   "cell_type": "markdown",
   "metadata": {},
   "source": [
    "# Keywords\n",
    "\n",
    "This page show basic scenarious of using different keywords in python."
   ]
  },
  {
   "cell_type": "markdown",
   "metadata": {},
   "source": [
    "## Leave cycle (break)\n",
    "\n",
    "Lets you exit the cycle."
   ]
  },
  {
   "cell_type": "markdown",
   "metadata": {},
   "source": [
    "### Nested loops\n",
    "\n",
    "What will happens if you put cycle incide two cycles? Will it leave both cycles or just the internal one?\n",
    "\n",
    "**It will leave only intertal loop.**\n",
    "\n",
    "So in the following example we will use the `break` operator inside the internal cycle only if we loop to a variable of the internal cycle that is equal to or greater than 2. As a result, we go through all the operations provided by the outer loop, but each interation of the internal loop is ended when the loop variable enriches 2."
   ]
  },
  {
   "cell_type": "code",
   "execution_count": null,
   "metadata": {},
   "outputs": [
    {
     "name": "stdout",
     "output_type": "stream",
     "text": [
      "external loop 0\n",
      "    internal loop 0\n",
      "    internal loop 1\n",
      "external loop 1\n",
      "    internal loop 0\n",
      "    internal loop 1\n",
      "external loop 2\n",
      "    internal loop 0\n",
      "    internal loop 1\n",
      "external loop 3\n",
      "    internal loop 0\n",
      "    internal loop 1\n"
     ]
    }
   ],
   "source": [
    "for i in range(4):\n",
    "    print(\"external loop\", i)\n",
    "    for j in range(4):\n",
    "        if j >= 2:\n",
    "            break\n",
    "        print(\"    internal loop\", j)"
   ]
  },
  {
   "cell_type": "markdown",
   "metadata": {},
   "source": [
    "**Solution** the best solution for today is to organise a flag that will cause a `break` operator in the external cycle.\n",
    "\n",
    "So in the following example I have added a `flag` that gets a `True` value before exiting the internal loop, and if after exiting the internal loop `flag==True` it will cause exiting the external cycle as well.\n",
    "\n",
    "**No better solution has been found to date.**"
   ]
  },
  {
   "cell_type": "code",
   "execution_count": null,
   "metadata": {},
   "outputs": [
    {
     "name": "stdout",
     "output_type": "stream",
     "text": [
      "external loop 0\n",
      "    internal loop 0\n",
      "    internal loop 1\n"
     ]
    }
   ],
   "source": [
    "for i in range(4):\n",
    "    print(\"external loop\", i)\n",
    "    for j in range(4):\n",
    "        if j >= 2:\n",
    "            flag = True\n",
    "            break\n",
    "        print(\"    internal loop\", j)\n",
    "\n",
    "    if flag: break"
   ]
  },
  {
   "cell_type": "markdown",
   "metadata": {},
   "source": [
    "## Is in array (in)\n",
    "\n",
    "This keyword lets you check if an element exists in an array. Here's a simple example of how it works with a `list`. For more details, please refer to the [specific page](keywords/in.ipynb)."
   ]
  },
  {
   "cell_type": "code",
   "execution_count": 5,
   "metadata": {},
   "outputs": [
    {
     "name": "stdout",
     "output_type": "stream",
     "text": [
      "5 in [2, 7, 2, 5] >> True\n",
      "8 in [2, 7, 2, 5] >> False\n"
     ]
    }
   ],
   "source": [
    "test_lst = [2, 7, 2, 5]\n",
    "print(f\"5 in {test_lst} >>\", 5 in test_lst)\n",
    "print(f\"8 in {test_lst} >>\", 8 in test_lst)"
   ]
  },
  {
   "cell_type": "markdown",
   "metadata": {},
   "source": [
    "## Indexing ([])"
   ]
  },
  {
   "cell_type": "markdown",
   "metadata": {},
   "source": [
    "### Negative index"
   ]
  },
  {
   "cell_type": "markdown",
   "metadata": {},
   "source": [
    "In Python, all indices have an alternate index which is negative. Suppose we have a list of `n` elements, so elements will have indexes from `0` to `n-1` **and** from `-n` to `-1`.\n",
    "\n",
    "The following table puts positive and negative indexing in python into a visual correlation.\n",
    "\n",
    "<table>\n",
    "    <tr>\n",
    "        <th>Positive indexing</th>\n",
    "        <td>0</td>\n",
    "        <td>1</td>\n",
    "        <td>...</td>\n",
    "        <td>n-1</td>\n",
    "    </tr>\n",
    "    <tr>\n",
    "        <th>Negative indexing</th>\n",
    "        <td>-n</td>\n",
    "        <td>-n+1</td>\n",
    "        <td>...</td>\n",
    "        <td>-1</td>\n",
    "    </tr>\n",
    "</table>\n",
    "\n",
    "It can be very useful to access items from the end of the collection. So in the last example, I easily accessed the penultimate item in the list."
   ]
  },
  {
   "cell_type": "code",
   "execution_count": null,
   "metadata": {},
   "outputs": [
    {
     "data": {
      "text/plain": [
       "48"
      ]
     },
     "metadata": {},
     "output_type": "display_data"
    }
   ],
   "source": [
    "list(range(50))[-2]"
   ]
  },
  {
   "cell_type": "markdown",
   "metadata": {},
   "source": [
    "## Assert\n",
    "\n",
    "`assert <statement>` is a keyword used to raise an error if `<statement>` evaluates to `False`. The main purpose of this keyword is using it in the unittests."
   ]
  },
  {
   "cell_type": "markdown",
   "metadata": {},
   "source": [
    "---\n",
    "\n",
    "If you pass a statement that evaluates to `True`, everything will proceed without any issues."
   ]
  },
  {
   "cell_type": "code",
   "execution_count": null,
   "metadata": {},
   "outputs": [],
   "source": [
    "assert True"
   ]
  },
  {
   "cell_type": "markdown",
   "metadata": {},
   "source": [
    "But `False` lead to the `AssertionError`."
   ]
  },
  {
   "cell_type": "code",
   "execution_count": null,
   "metadata": {},
   "outputs": [
    {
     "ename": "AssertionError",
     "evalue": "",
     "output_type": "error",
     "traceback": [
      "\u001b[0;31m---------------------------------------------------------------------------\u001b[0m\n",
      "\u001b[0;31mAssertionError\u001b[0m                            Traceback (most recent call last)\n",
      "Cell \u001b[0;32mIn[7], line 1\u001b[0m\n",
      "\u001b[0;32m----> 1\u001b[0m \u001b[38;5;28;01massert\u001b[39;00m \u001b[38;5;28;01mFalse\u001b[39;00m\n",
      "\n",
      "\u001b[0;31mAssertionError\u001b[0m: "
     ]
    }
   ],
   "source": [
    "assert False"
   ]
  },
  {
   "cell_type": "markdown",
   "metadata": {},
   "source": [
    "## yield\n",
    "\n",
    "The `yield` keyword is an alternative to the `return` statement for specifying the output of a function. A function that uses `yield` will return a generator, which can be iterated over to produce values one at a time.\n",
    "\n",
    "Learn more on the:\n",
    "\n",
    "- [Yield expressions](https://docs.python.org/3/reference/expressions.html#yield-expressions) secion of the official documentation.\n",
    "- Special [yield](keywords/yield.ipynb) page."
   ]
  },
  {
   "cell_type": "markdown",
   "metadata": {},
   "source": [
    "---\n",
    "\n",
    "Consider the following example: a function defined with `yield` returns a generator. By iterating over this generator, you will retrieve the result of each subsequent `yield` statement."
   ]
  },
  {
   "cell_type": "code",
   "execution_count": 35,
   "metadata": {},
   "outputs": [
    {
     "name": "stdout",
     "output_type": "stream",
     "text": [
      "<class 'generator'>\n",
      "1 2\n"
     ]
    }
   ],
   "source": [
    "def func(lst):\n",
    "    for i in lst:\n",
    "        yield i\n",
    "\n",
    "gen = func([1,2,3])\n",
    "print(type(gen))\n",
    "print(next(gen), next(gen))"
   ]
  }
 ],
 "metadata": {
  "kernelspec": {
   "display_name": "Python 3",
   "language": "python",
   "name": "python3"
  },
  "language_info": {
   "codemirror_mode": {
    "name": "ipython",
    "version": 3
   },
   "file_extension": ".py",
   "mimetype": "text/x-python",
   "name": "python",
   "nbconvert_exporter": "python",
   "pygments_lexer": "ipython3",
   "version": "3.10.12"
  }
 },
 "nbformat": 4,
 "nbformat_minor": 2
}
