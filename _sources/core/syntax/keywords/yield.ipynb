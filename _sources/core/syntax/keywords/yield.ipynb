{
 "cells": [
  {
   "cell_type": "markdown",
   "id": "f6a4b7b6-0b01-4efa-bd6e-6f7306fe73c4",
   "metadata": {},
   "source": [
    "# yield\n",
    "\n",
    "The `yield` is a keyword in python that is used to return from a function while preserving the state of its local variables, and when such a function is called again, execution continues from the `yield` statement where it was interrupted. Any function containing the `yield` keyword is called a generator. We can say that `yield` is what makes it a generator."
   ]
  },
  {
   "cell_type": "markdown",
   "id": "98070072",
   "metadata": {},
   "source": [
    "---\n",
    "\n",
    "The followoing cell defines generator that iterates over list but returns only those values that are even. It also prints the corresponding message before returning."
   ]
  },
  {
   "cell_type": "code",
   "execution_count": 4,
   "id": "d3cae011-8892-4d04-8cea-5c5040eecdc0",
   "metadata": {},
   "outputs": [],
   "source": [
    "def even_generator(list_of_nums: list[int]):\n",
    "    for i in list_of_nums:\n",
    "        if i % 2 == 0:\n",
    "            print(f\"Returning {i}\")\n",
    "            yield i"
   ]
  },
  {
   "cell_type": "markdown",
   "id": "f4a7cc41",
   "metadata": {},
   "source": [
    "Next code demonstrates the direct result of the generator call."
   ]
  },
  {
   "cell_type": "code",
   "execution_count": 5,
   "id": "227e32a4",
   "metadata": {},
   "outputs": [
    {
     "data": {
      "text/plain": [
       "<generator object even_generator at 0x7e93fc460900>"
      ]
     },
     "execution_count": 5,
     "metadata": {},
     "output_type": "execute_result"
    }
   ],
   "source": [
    "generator_object = even_generator([1, 2, 4, 7, 10])\n",
    "generator_object"
   ]
  },
  {
   "cell_type": "markdown",
   "id": "fce1c91c",
   "metadata": {},
   "source": [
    "It's an object that will produce a result when the function `next` is applied to it."
   ]
  },
  {
   "cell_type": "code",
   "execution_count": null,
   "id": "6569b256",
   "metadata": {},
   "outputs": [
    {
     "name": "stdout",
     "output_type": "stream",
     "text": [
      "Returning 2\n",
      "Returning 4\n",
      "2 4\n"
     ]
    }
   ],
   "source": [
    "print(next(generator_object), next(generator_object))"
   ]
  },
  {
   "cell_type": "markdown",
   "id": "404a6b8a",
   "metadata": {},
   "source": [
    "Applying the `list` function to it simply collects all the outputs into one list object."
   ]
  },
  {
   "cell_type": "code",
   "execution_count": 7,
   "id": "f2bb09d6",
   "metadata": {},
   "outputs": [
    {
     "name": "stdout",
     "output_type": "stream",
     "text": [
      "Returning 2\n",
      "Returning 4\n",
      "Returning 10\n"
     ]
    },
    {
     "data": {
      "text/plain": [
       "[2, 4, 10]"
      ]
     },
     "execution_count": 7,
     "metadata": {},
     "output_type": "execute_result"
    }
   ],
   "source": [
    "list(even_generator([1, 2, 4, 7, 10]))"
   ]
  },
  {
   "cell_type": "markdown",
   "id": "d3564581",
   "metadata": {},
   "source": [
    "Standard output messages indicate that the next element is computed only when the `next` call is applied to the generator. This is actually a really important feature - you can operate on arrays just as you would with regular iterable objects, but they are not necessary in memory, which is imporant when you need to save memory."
   ]
  },
  {
   "cell_type": "markdown",
   "id": "086011a4-5018-47de-a52f-f0b26a8ec502",
   "metadata": {},
   "source": [
    "## Generator object\n",
    "\n",
    "Functions that exit using `yield` return a generator. A generator is a special kind of iterator that represents a \"frozen\" procedure, which resumes execution when the program requests the next element."
   ]
  },
  {
   "cell_type": "markdown",
   "id": "f87b539c",
   "metadata": {},
   "source": [
    "---\n",
    "\n",
    "The following example simply iterates over a list of numbers using the `yield` operator and prints each element."
   ]
  },
  {
   "cell_type": "code",
   "execution_count": 34,
   "id": "5c8abf0f-0764-4bcc-9f7c-cfa789bf7eb5",
   "metadata": {},
   "outputs": [
    {
     "name": "stdout",
     "output_type": "stream",
     "text": [
      "Function execution:\n",
      "Result: <generator object experiment_fun at 0x7fada84d4b30>\n",
      "\n",
      "Generator unpacking:\n",
      "processing object: 10\n",
      "processing object: 20\n",
      "processing object: 30\n",
      "processing object: 40\n",
      "processing object: 50\n",
      "Result: [10, 20, 30, 40, 50]\n"
     ]
    }
   ],
   "source": [
    "def experiment_fun(list_of_nums):\n",
    "    for v in list_of_nums:\n",
    "        print(f\"processing object: {v}\")\n",
    "        yield v\n",
    "\n",
    "list_of_nums = [10,20,30,40,50]\n",
    "\n",
    "print(\"Function execution:\")\n",
    "gen = experiment_fun(list_of_nums)\n",
    "print(\"Result:\", gen, end = \"\\n\\n\")\n",
    "\n",
    "print(\"Generator unpacking:\")\n",
    "print(\"Result:\", list(gen))"
   ]
  },
  {
   "cell_type": "markdown",
   "id": "38b53e16",
   "metadata": {},
   "source": [
    "The key idea here is that\n",
    "\n",
    "- During the function call, the function wasn't actually executed - we don't have any output from `print`, and we got the `generator` object as a result;\n",
    "- But when we unpacked the `generator` into a list, we got messages and a list as a result."
   ]
  },
  {
   "cell_type": "markdown",
   "id": "86fa21f8-54fe-4229-bbd0-89932ca5711f",
   "metadata": {},
   "source": [
    "## `yield` and `return`\n",
    "\n",
    "But what happens if you use both `yield` and `return` in the same function? Nothing special - the function will create generator, but if it has `return` in it - it will just stop iterating over `generator`."
   ]
  },
  {
   "cell_type": "markdown",
   "id": "58ad8197",
   "metadata": {},
   "source": [
    "---\n",
    "\n",
    "The following cell just shows how it might look - it iterates over the passed array while for the first three elements, but then `return` is executed so that elements after the third have not been processed."
   ]
  },
  {
   "cell_type": "code",
   "execution_count": 44,
   "id": "ccfae0de-e532-4dec-8158-d197cdd27fd9",
   "metadata": {},
   "outputs": [
    {
     "name": "stdout",
     "output_type": "stream",
     "text": [
      "processing object: (10, 0)\n",
      "processing object: (20, 1)\n",
      "processing object: (30, 2)\n"
     ]
    },
    {
     "data": {
      "text/plain": [
       "[10, 20, 30]"
      ]
     },
     "execution_count": 44,
     "metadata": {},
     "output_type": "execute_result"
    }
   ],
   "source": [
    "def experiment_fun(list_of_nums):\n",
    "    for i, v in enumerate(list_of_nums):\n",
    "        print(f\"processing object: {v, i}\")\n",
    "        \n",
    "        yield v\n",
    "        \n",
    "        if i > 1:\n",
    "            return \"test\"\n",
    "\n",
    "list_of_nums = [10,20,30,40,50]\n",
    "list(experiment_fun(list_of_nums))"
   ]
  }
 ],
 "metadata": {
  "kernelspec": {
   "display_name": "python",
   "language": "python",
   "name": "python3"
  },
  "language_info": {
   "codemirror_mode": {
    "name": "ipython",
    "version": 3
   },
   "file_extension": ".py",
   "mimetype": "text/x-python",
   "name": "python",
   "nbconvert_exporter": "python",
   "pygments_lexer": "ipython3",
   "version": "3.13.5"
  }
 },
 "nbformat": 4,
 "nbformat_minor": 5
}
