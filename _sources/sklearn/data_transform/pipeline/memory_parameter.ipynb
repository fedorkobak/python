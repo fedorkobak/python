{
 "cells": [
  {
   "cell_type": "markdown",
   "id": "921f8a25-eb9c-4c06-97ea-a29cf26e065e",
   "metadata": {},
   "source": [
    "# `memory` parameter(chacing)\n",
    "\n",
    "\n",
    "**Sources**\n",
    "\n",
    "- [Example from sklearn pipeline guilde](https://scikit-learn.org/stable/modules/compose.html#caching-transformers-avoid-repeated-computation);\n",
    "- Example from oficial sklearn site [\"selecting dimensionality reduction with Pipeline and GridSearchCV\"](https://scikit-learn.org/stable/auto_examples/compose/plot_compare_reduction.html#sphx-glr-auto-examples-compose-plot-compare-reduction-py);\n",
    "- Stackoverflow question [using scikit Pipeline for testing models but preprocessing data only once](https://stackoverflow.com/questions/47385781/using-scikit-pipeline-for-testing-models-but-preprocessing-data-only-once).\n",
    "\n",
    "There is a mechanism implemented by sklearn that allows not to recompute transform stages of the pipeline each time. By setting the `memory` argument, you make `sklearn.pipeline.Pipeline` store the temporary results of the pipeline.\n",
    "\n",
    "It still not really clear how it works but here is few cases that show what actually can be imporved with chaching."
   ]
  },
  {
   "cell_type": "code",
   "execution_count": 10,
   "id": "f4e72bd4-6528-497b-9ce9-45d4f59aa1dc",
   "metadata": {},
   "outputs": [],
   "source": [
    "import numpy as np\n",
    "import pandas as pd\n",
    "\n",
    "from sklearn.pipeline import Pipeline\n",
    "from sklearn.decomposition import PCA\n",
    "from sklearn.datasets import make_regression\n",
    "from sklearn.model_selection import KFold\n",
    "from sklearn.linear_model import (\n",
    "    Lasso, LinearRegression\n",
    ")\n",
    "from sklearn.model_selection import GridSearchCV"
   ]
  },
  {
   "cell_type": "markdown",
   "id": "8938888f-9e57-423a-aa28-25d33c87327f",
   "metadata": {},
   "source": [
    "## Example of improvement"
   ]
  },
  {
   "cell_type": "markdown",
   "id": "50aca683-fbc4-4be9-9a26-b4d1a28b4292",
   "metadata": {},
   "source": [
    "The following cells define two almost identical `GridSearchCV` experiments - the difference is that the second one passes the `memory` argument. Let's see which one runs faster. "
   ]
  },
  {
   "cell_type": "code",
   "execution_count": 11,
   "id": "257a77d6-2a0c-4bd2-b9f1-764adac6c1c4",
   "metadata": {},
   "outputs": [],
   "source": [
    "X,y = make_regression(n_features=10, random_state=10, n_samples=1000)\n",
    "# The grid is intentionally redundant \n",
    "# to maximise the usefulness of caching\n",
    "param_grid = {\"lasso__alpha\":np.arange(0.1,1, 0.001)}\n",
    "steps = [\n",
    "    (\"pca\", PCA(n_components=3)),\n",
    "    (\"lasso\", Lasso()),\n",
    "]"
   ]
  },
  {
   "cell_type": "code",
   "execution_count": 12,
   "id": "eb12e3be-6c3c-4753-ae2b-500075fedba4",
   "metadata": {},
   "outputs": [
    {
     "name": "stdout",
     "output_type": "stream",
     "text": [
      "12.4 s ± 192 ms per loop (mean ± std. dev. of 7 runs, 1 loop each)\n"
     ]
    }
   ],
   "source": [
    "%%timeit\n",
    "just_pipe = Pipeline(steps).fit(X, y)\n",
    "\n",
    "GridSearchCV(\n",
    "    just_pipe,\n",
    "    param_grid=param_grid\n",
    ").fit(X,y)"
   ]
  },
  {
   "cell_type": "code",
   "execution_count": 13,
   "id": "f4073711-0820-4fef-b8f3-cbffd0d6ce8f",
   "metadata": {},
   "outputs": [
    {
     "name": "stdout",
     "output_type": "stream",
     "text": [
      "301 ms ± 3.33 ms per loop (mean ± std. dev. of 7 runs, 1 loop each)\n"
     ]
    }
   ],
   "source": [
    "%%timeit\n",
    "frozen_pipe = Pipeline(\n",
    "    steps,\n",
    "    memory=\"chaching_pipeline_files\"\n",
    ").fit(X, y)\n",
    "\n",
    "GridSearchCV(\n",
    "    frozen_pipe,\n",
    "    param_grid={\"lasso__alpha\":np.arange(0.1,1, 0.05)}\n",
    ").fit(X,y)"
   ]
  },
  {
   "cell_type": "markdown",
   "id": "f8385530-33b1-45cb-a8bd-2f1de5c75884",
   "metadata": {},
   "source": [
    "So the cell that uses chacing is much faster."
   ]
  },
  {
   "cell_type": "markdown",
   "id": "e61d7688-aecd-49a5-b91f-8b81e7807112",
   "metadata": {},
   "source": [
    "## How it doesn't work"
   ]
  },
  {
   "cell_type": "markdown",
   "id": "d5fcb2b9-034a-4299-beb1-b1c9134fc089",
   "metadata": {},
   "source": [
    "At first I thought that this argument could be used to restrict frozen stages in sklearn transformations. This is a topic of great interest to me, and there is a [separate page for it](../frozen_steps.ipynb)."
   ]
  },
  {
   "cell_type": "markdown",
   "id": "42fe8c6d-ecd2-40b9-bfc3-e12255c96061",
   "metadata": {},
   "source": [
    "But caching of `sklearn.pipeline.Pipeline` is useless for this purposes. The followig cell show why. Here is fitted `LinearRegression` on the whole data and on the separate parts of data."
   ]
  },
  {
   "cell_type": "code",
   "execution_count": 14,
   "id": "f25cf676-9788-4390-8dad-c3d1880db851",
   "metadata": {},
   "outputs": [
    {
     "data": {
      "text/html": [
       "<div>\n",
       "<style scoped>\n",
       "    .dataframe tbody tr th:only-of-type {\n",
       "        vertical-align: middle;\n",
       "    }\n",
       "\n",
       "    .dataframe tbody tr th {\n",
       "        vertical-align: top;\n",
       "    }\n",
       "\n",
       "    .dataframe thead tr th {\n",
       "        text-align: left;\n",
       "    }\n",
       "</style>\n",
       "<table border=\"1\" class=\"dataframe\">\n",
       "  <thead>\n",
       "    <tr>\n",
       "      <th></th>\n",
       "      <th></th>\n",
       "      <th colspan=\"3\" halign=\"left\">PCA components</th>\n",
       "      <th>Regression cofficients</th>\n",
       "    </tr>\n",
       "    <tr>\n",
       "      <th></th>\n",
       "      <th></th>\n",
       "      <th>1</th>\n",
       "      <th>2</th>\n",
       "      <th>3</th>\n",
       "      <th></th>\n",
       "    </tr>\n",
       "  </thead>\n",
       "  <tbody>\n",
       "    <tr>\n",
       "      <th rowspan=\"3\" valign=\"top\">initial_fit</th>\n",
       "      <th>1</th>\n",
       "      <td>-0.672216</td>\n",
       "      <td>0.738179</td>\n",
       "      <td>-0.056720</td>\n",
       "      <td>-32.308331</td>\n",
       "    </tr>\n",
       "    <tr>\n",
       "      <th>2</th>\n",
       "      <td>-0.433684</td>\n",
       "      <td>-0.454703</td>\n",
       "      <td>-0.777922</td>\n",
       "      <td>-22.777824</td>\n",
       "    </tr>\n",
       "    <tr>\n",
       "      <th>3</th>\n",
       "      <td>0.600037</td>\n",
       "      <td>0.498333</td>\n",
       "      <td>-0.625795</td>\n",
       "      <td>-67.793876</td>\n",
       "    </tr>\n",
       "    <tr>\n",
       "      <th rowspan=\"3\" valign=\"top\">split 1</th>\n",
       "      <th>1</th>\n",
       "      <td>-0.348919</td>\n",
       "      <td>-0.857311</td>\n",
       "      <td>0.378514</td>\n",
       "      <td>-68.506909</td>\n",
       "    </tr>\n",
       "    <tr>\n",
       "      <th>2</th>\n",
       "      <td>-0.892296</td>\n",
       "      <td>0.427377</td>\n",
       "      <td>0.145455</td>\n",
       "      <td>28.807335</td>\n",
       "    </tr>\n",
       "    <tr>\n",
       "      <th>3</th>\n",
       "      <td>0.286469</td>\n",
       "      <td>0.286994</td>\n",
       "      <td>0.914095</td>\n",
       "      <td>25.211267</td>\n",
       "    </tr>\n",
       "    <tr>\n",
       "      <th rowspan=\"3\" valign=\"top\">split 2</th>\n",
       "      <th>1</th>\n",
       "      <td>-0.675871</td>\n",
       "      <td>-0.476143</td>\n",
       "      <td>-0.562571</td>\n",
       "      <td>49.580387</td>\n",
       "    </tr>\n",
       "    <tr>\n",
       "      <th>2</th>\n",
       "      <td>0.732309</td>\n",
       "      <td>-0.347679</td>\n",
       "      <td>-0.585528</td>\n",
       "      <td>-21.533917</td>\n",
       "    </tr>\n",
       "    <tr>\n",
       "      <th>3</th>\n",
       "      <td>-0.083201</td>\n",
       "      <td>0.807717</td>\n",
       "      <td>-0.583670</td>\n",
       "      <td>-56.892379</td>\n",
       "    </tr>\n",
       "    <tr>\n",
       "      <th rowspan=\"3\" valign=\"top\">split 3</th>\n",
       "      <th>1</th>\n",
       "      <td>-0.672216</td>\n",
       "      <td>0.738179</td>\n",
       "      <td>-0.056720</td>\n",
       "      <td>-32.308331</td>\n",
       "    </tr>\n",
       "    <tr>\n",
       "      <th>2</th>\n",
       "      <td>-0.433684</td>\n",
       "      <td>-0.454703</td>\n",
       "      <td>-0.777922</td>\n",
       "      <td>-22.777824</td>\n",
       "    </tr>\n",
       "    <tr>\n",
       "      <th>3</th>\n",
       "      <td>0.600037</td>\n",
       "      <td>0.498333</td>\n",
       "      <td>-0.625795</td>\n",
       "      <td>-67.793876</td>\n",
       "    </tr>\n",
       "  </tbody>\n",
       "</table>\n",
       "</div>"
      ],
      "text/plain": [
       "              PCA components                     Regression cofficients\n",
       "                           1         2         3                       \n",
       "initial_fit 1      -0.672216  0.738179 -0.056720             -32.308331\n",
       "            2      -0.433684 -0.454703 -0.777922             -22.777824\n",
       "            3       0.600037  0.498333 -0.625795             -67.793876\n",
       "split 1     1      -0.348919 -0.857311  0.378514             -68.506909\n",
       "            2      -0.892296  0.427377  0.145455              28.807335\n",
       "            3       0.286469  0.286994  0.914095              25.211267\n",
       "split 2     1      -0.675871 -0.476143 -0.562571              49.580387\n",
       "            2       0.732309 -0.347679 -0.585528             -21.533917\n",
       "            3      -0.083201  0.807717 -0.583670             -56.892379\n",
       "split 3     1      -0.672216  0.738179 -0.056720             -32.308331\n",
       "            2      -0.433684 -0.454703 -0.777922             -22.777824\n",
       "            3       0.600037  0.498333 -0.625795             -67.793876"
      ]
     },
     "execution_count": 14,
     "metadata": {},
     "output_type": "execute_result"
    }
   ],
   "source": [
    "def get_pca_components(pipe):\n",
    "    return pd.DataFrame(\n",
    "        pipe[\"pca\"].components_.T,\n",
    "        columns=range(1, pipe[\"pca\"].n_components+1),\n",
    "        index=range(1, len(pipe[\"pca\"].components_.T)+1)\n",
    "    )\n",
    "\n",
    "def get_reg_coefficients(pipe):\n",
    "    return pd.Series(\n",
    "        pipe[\"regression\"].coef_.T,\n",
    "        index=range(1, len(pipe[\"regression\"].coef_)+1)\n",
    "    )\n",
    "\n",
    "def cv_fit_pipe(pipe, X, y):\n",
    "    pca = {}\n",
    "    reg = {}\n",
    "    for i, (train, test) in enumerate(KFold(n_splits=3).split(X)):\n",
    "        pipe.fit(X[train], y[train])\n",
    "        pca[f\"split {i+1}\"] = get_pca_components(pipe)\n",
    "        reg[f\"split {i+1}\"] = get_reg_coefficients(pipe)\n",
    "    return pca, reg\n",
    "\n",
    "X,y = make_regression(n_features=3, random_state=10)\n",
    "\n",
    "frozen_pipe = Pipeline(\n",
    "    [\n",
    "        (\"pca\", PCA(n_components=3)),\n",
    "        (\"regression\", LinearRegression()),\n",
    "    ],\n",
    "    memory=\"chaching_pipeline_files\"\n",
    ").fit(X, y)\n",
    "\n",
    "pca, reg = cv_fit_pipe(frozen_pipe, X, y)\n",
    "pd.concat(\n",
    "    {\n",
    "        \"PCA components\":pd.concat({\n",
    "            \"initial_fit\" : get_pca_components(frozen_pipe),\n",
    "            **pca\n",
    "        }),\n",
    "        \"Regression cofficients\" : pd.concat({\n",
    "            \"initial_fit\" : get_reg_coefficients(frozen_pipe),\n",
    "            **reg\n",
    "        }).rename(\"\").to_frame()\n",
    "    },\n",
    "    axis=1\n",
    ")"
   ]
  },
  {
   "cell_type": "markdown",
   "id": "423cf5b1-f179-49c4-94d7-a4dcd5181bb6",
   "metadata": {},
   "source": [
    "I was hoping the fitted pca parameters wouldn't change after the first fit. But new run on different data - new coefficients."
   ]
  }
 ],
 "metadata": {
  "kernelspec": {
   "display_name": "Python 3 (ipykernel)",
   "language": "python",
   "name": "python3"
  },
  "language_info": {
   "codemirror_mode": {
    "name": "ipython",
    "version": 3
   },
   "file_extension": ".py",
   "mimetype": "text/x-python",
   "name": "python",
   "nbconvert_exporter": "python",
   "pygments_lexer": "ipython3",
   "version": "3.10.12"
  }
 },
 "nbformat": 4,
 "nbformat_minor": 5
}
