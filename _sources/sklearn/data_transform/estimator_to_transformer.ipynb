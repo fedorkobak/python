{
 "cells": [
  {
   "cell_type": "markdown",
   "id": "62d09151-171b-434c-8cdd-827f0c374d6a",
   "metadata": {},
   "source": [
    "# Estimator to transformer\n",
    "\n",
    "I faced a problem when I needed sklearn estimator to behave as sklearn transformer to use it as an intermediate step in sklearn pipeline. Here I describe issues and possible solutions associated with this case."
   ]
  },
  {
   "cell_type": "code",
   "execution_count": 1,
   "id": "acbd8fdc-147f-4321-a475-5075c1c552bf",
   "metadata": {},
   "outputs": [],
   "source": [
    "from sklearn.datasets import make_classification\n",
    "from sklearn.model_selection import train_test_split\n",
    "from sklearn.compose import ColumnTransformer\n",
    "from sklearn.preprocessing import StandardScaler\n",
    "from sklearn.ensemble import RandomForestClassifier\n",
    "from sklearn.base import BaseEstimator, TransformerMixin\n",
    "from sklearn.pipeline import Pipeline\n",
    "from sklearn.linear_model import LogisticRegression\n",
    "\n",
    "X, y = make_classification(n_samples=1000, n_features=10, n_classes=2, random_state=42)"
   ]
  },
  {
   "cell_type": "markdown",
   "id": "3d61e5ad-08f4-4ec6-9ab8-aafbf78181ac",
   "metadata": {},
   "source": [
    "Suppose you need to build such a pipeline, where some columns go through `RandomForestClassifier`, others only through `StandardScaler`, but then the results of the transformation need to be used in `LogisticRegression`."
   ]
  },
  {
   "cell_type": "markdown",
   "id": "a6206cf4-aa07-4769-9084-9307c8e8d356",
   "metadata": {},
   "source": [
    "## Problem"
   ]
  },
  {
   "cell_type": "markdown",
   "id": "1c34273d-0e2b-4c75-b77f-5baa27843dd6",
   "metadata": {},
   "source": [
    "The main problem here is that according to sklearn there are two types of objects in pipelines: estimators and transformers, and you can't use a `RandomForestClassifier` in a `ColumnTransformer`, just like you can't use a transformation. So the following cell tries to pass a `RandomForestClassifier` instance as a transformation - during `fit` it got an error."
   ]
  },
  {
   "cell_type": "code",
   "execution_count": 16,
   "id": "67b181b5-4c17-4bbc-acd4-f5ffee0fd21c",
   "metadata": {},
   "outputs": [
    {
     "name": "stdout",
     "output_type": "stream",
     "text": [
      "All estimators should implement fit and transform, or can be 'drop' or 'passthrough' specifiers. 'RandomForestClassifier(max_depth=10, n_estimators=10)' (type <class 'sklearn.ensemble._forest.RandomForestClassifier'>) doesn't.\n"
     ]
    }
   ],
   "source": [
    "model = RandomForestClassifier(\n",
    "    n_estimators=10, \n",
    "    max_depth=10\n",
    ")\n",
    "\n",
    "transformer=ColumnTransformer([\n",
    "    (\"model\", model, [0,1,2,3]),\n",
    "    (\"standart_scaler\", StandardScaler(), [4,5,6,7,8,9])\n",
    "])\n",
    "try:\n",
    "    transformer.fit(X,y)\n",
    "except Exception as e:\n",
    "    print(e)"
   ]
  },
  {
   "cell_type": "markdown",
   "id": "dff5e67a-3daf-43d5-9983-61988c757b2b",
   "metadata": {},
   "source": [
    "## Solution"
   ]
  },
  {
   "cell_type": "markdown",
   "id": "9ef22c94-525d-456e-aa90-5c11b57899c1",
   "metadata": {},
   "source": [
    "The best solution I've found for now is to just define a custom transformer (read more about custom transformers in `sklearn`), and wrap it with the estimator you need - so we'll have a transformer that will behave like an estimator. In the following cell such an idea is implemented:"
   ]
  },
  {
   "cell_type": "code",
   "execution_count": 17,
   "id": "4115fd4b-5487-4d02-85fd-06b5fa7f91ff",
   "metadata": {},
   "outputs": [
    {
     "data": {
      "text/html": [
       "<style>#sk-container-id-3 {color: black;}#sk-container-id-3 pre{padding: 0;}#sk-container-id-3 div.sk-toggleable {background-color: white;}#sk-container-id-3 label.sk-toggleable__label {cursor: pointer;display: block;width: 100%;margin-bottom: 0;padding: 0.3em;box-sizing: border-box;text-align: center;}#sk-container-id-3 label.sk-toggleable__label-arrow:before {content: \"▸\";float: left;margin-right: 0.25em;color: #696969;}#sk-container-id-3 label.sk-toggleable__label-arrow:hover:before {color: black;}#sk-container-id-3 div.sk-estimator:hover label.sk-toggleable__label-arrow:before {color: black;}#sk-container-id-3 div.sk-toggleable__content {max-height: 0;max-width: 0;overflow: hidden;text-align: left;background-color: #f0f8ff;}#sk-container-id-3 div.sk-toggleable__content pre {margin: 0.2em;color: black;border-radius: 0.25em;background-color: #f0f8ff;}#sk-container-id-3 input.sk-toggleable__control:checked~div.sk-toggleable__content {max-height: 200px;max-width: 100%;overflow: auto;}#sk-container-id-3 input.sk-toggleable__control:checked~label.sk-toggleable__label-arrow:before {content: \"▾\";}#sk-container-id-3 div.sk-estimator input.sk-toggleable__control:checked~label.sk-toggleable__label {background-color: #d4ebff;}#sk-container-id-3 div.sk-label input.sk-toggleable__control:checked~label.sk-toggleable__label {background-color: #d4ebff;}#sk-container-id-3 input.sk-hidden--visually {border: 0;clip: rect(1px 1px 1px 1px);clip: rect(1px, 1px, 1px, 1px);height: 1px;margin: -1px;overflow: hidden;padding: 0;position: absolute;width: 1px;}#sk-container-id-3 div.sk-estimator {font-family: monospace;background-color: #f0f8ff;border: 1px dotted black;border-radius: 0.25em;box-sizing: border-box;margin-bottom: 0.5em;}#sk-container-id-3 div.sk-estimator:hover {background-color: #d4ebff;}#sk-container-id-3 div.sk-parallel-item::after {content: \"\";width: 100%;border-bottom: 1px solid gray;flex-grow: 1;}#sk-container-id-3 div.sk-label:hover label.sk-toggleable__label {background-color: #d4ebff;}#sk-container-id-3 div.sk-serial::before {content: \"\";position: absolute;border-left: 1px solid gray;box-sizing: border-box;top: 0;bottom: 0;left: 50%;z-index: 0;}#sk-container-id-3 div.sk-serial {display: flex;flex-direction: column;align-items: center;background-color: white;padding-right: 0.2em;padding-left: 0.2em;position: relative;}#sk-container-id-3 div.sk-item {position: relative;z-index: 1;}#sk-container-id-3 div.sk-parallel {display: flex;align-items: stretch;justify-content: center;background-color: white;position: relative;}#sk-container-id-3 div.sk-item::before, #sk-container-id-3 div.sk-parallel-item::before {content: \"\";position: absolute;border-left: 1px solid gray;box-sizing: border-box;top: 0;bottom: 0;left: 50%;z-index: -1;}#sk-container-id-3 div.sk-parallel-item {display: flex;flex-direction: column;z-index: 1;position: relative;background-color: white;}#sk-container-id-3 div.sk-parallel-item:first-child::after {align-self: flex-end;width: 50%;}#sk-container-id-3 div.sk-parallel-item:last-child::after {align-self: flex-start;width: 50%;}#sk-container-id-3 div.sk-parallel-item:only-child::after {width: 0;}#sk-container-id-3 div.sk-dashed-wrapped {border: 1px dashed gray;margin: 0 0.4em 0.5em 0.4em;box-sizing: border-box;padding-bottom: 0.4em;background-color: white;}#sk-container-id-3 div.sk-label label {font-family: monospace;font-weight: bold;display: inline-block;line-height: 1.2em;}#sk-container-id-3 div.sk-label-container {text-align: center;}#sk-container-id-3 div.sk-container {/* jupyter's `normalize.less` sets `[hidden] { display: none; }` but bootstrap.min.css set `[hidden] { display: none !important; }` so we also need the `!important` here to be able to override the default hidden behavior on the sphinx rendered scikit-learn.org. See: https://github.com/scikit-learn/scikit-learn/issues/21755 */display: inline-block !important;position: relative;}#sk-container-id-3 div.sk-text-repr-fallback {display: none;}</style><div id=\"sk-container-id-3\" class=\"sk-top-container\"><div class=\"sk-text-repr-fallback\"><pre>Pipeline(steps=[(&#x27;class_to_transform&#x27;,\n",
       "                 ColumnTransformer(transformers=[(&#x27;model&#x27;,\n",
       "                                                  ClassifierToTransformer(estimator=RandomForestClassifier(max_depth=10,\n",
       "                                                                                                           n_estimators=10)),\n",
       "                                                  [0, 1, 2, 3]),\n",
       "                                                 (&#x27;standart_scaler&#x27;,\n",
       "                                                  StandardScaler(),\n",
       "                                                  [4, 5, 6, 7, 8, 9])])),\n",
       "                (&#x27;log_reg&#x27;, LogisticRegression())])</pre><b>In a Jupyter environment, please rerun this cell to show the HTML representation or trust the notebook. <br />On GitHub, the HTML representation is unable to render, please try loading this page with nbviewer.org.</b></div><div class=\"sk-container\" hidden><div class=\"sk-item sk-dashed-wrapped\"><div class=\"sk-label-container\"><div class=\"sk-label sk-toggleable\"><input class=\"sk-toggleable__control sk-hidden--visually\" id=\"sk-estimator-id-17\" type=\"checkbox\" ><label for=\"sk-estimator-id-17\" class=\"sk-toggleable__label sk-toggleable__label-arrow\">Pipeline</label><div class=\"sk-toggleable__content\"><pre>Pipeline(steps=[(&#x27;class_to_transform&#x27;,\n",
       "                 ColumnTransformer(transformers=[(&#x27;model&#x27;,\n",
       "                                                  ClassifierToTransformer(estimator=RandomForestClassifier(max_depth=10,\n",
       "                                                                                                           n_estimators=10)),\n",
       "                                                  [0, 1, 2, 3]),\n",
       "                                                 (&#x27;standart_scaler&#x27;,\n",
       "                                                  StandardScaler(),\n",
       "                                                  [4, 5, 6, 7, 8, 9])])),\n",
       "                (&#x27;log_reg&#x27;, LogisticRegression())])</pre></div></div></div><div class=\"sk-serial\"><div class=\"sk-item sk-dashed-wrapped\"><div class=\"sk-label-container\"><div class=\"sk-label sk-toggleable\"><input class=\"sk-toggleable__control sk-hidden--visually\" id=\"sk-estimator-id-18\" type=\"checkbox\" ><label for=\"sk-estimator-id-18\" class=\"sk-toggleable__label sk-toggleable__label-arrow\">class_to_transform: ColumnTransformer</label><div class=\"sk-toggleable__content\"><pre>ColumnTransformer(transformers=[(&#x27;model&#x27;,\n",
       "                                 ClassifierToTransformer(estimator=RandomForestClassifier(max_depth=10,\n",
       "                                                                                          n_estimators=10)),\n",
       "                                 [0, 1, 2, 3]),\n",
       "                                (&#x27;standart_scaler&#x27;, StandardScaler(),\n",
       "                                 [4, 5, 6, 7, 8, 9])])</pre></div></div></div><div class=\"sk-parallel\"><div class=\"sk-parallel-item\"><div class=\"sk-item\"><div class=\"sk-label-container\"><div class=\"sk-label sk-toggleable\"><input class=\"sk-toggleable__control sk-hidden--visually\" id=\"sk-estimator-id-19\" type=\"checkbox\" ><label for=\"sk-estimator-id-19\" class=\"sk-toggleable__label sk-toggleable__label-arrow\">model</label><div class=\"sk-toggleable__content\"><pre>[0, 1, 2, 3]</pre></div></div></div><div class=\"sk-serial\"><div class=\"sk-item sk-dashed-wrapped\"><div class=\"sk-parallel\"><div class=\"sk-parallel-item\"><div class=\"sk-item\"><div class=\"sk-label-container\"><div class=\"sk-label sk-toggleable\"><input class=\"sk-toggleable__control sk-hidden--visually\" id=\"sk-estimator-id-20\" type=\"checkbox\" ><label for=\"sk-estimator-id-20\" class=\"sk-toggleable__label sk-toggleable__label-arrow\">estimator: RandomForestClassifier</label><div class=\"sk-toggleable__content\"><pre>RandomForestClassifier(max_depth=10, n_estimators=10)</pre></div></div></div><div class=\"sk-serial\"><div class=\"sk-item\"><div class=\"sk-estimator sk-toggleable\"><input class=\"sk-toggleable__control sk-hidden--visually\" id=\"sk-estimator-id-21\" type=\"checkbox\" ><label for=\"sk-estimator-id-21\" class=\"sk-toggleable__label sk-toggleable__label-arrow\">RandomForestClassifier</label><div class=\"sk-toggleable__content\"><pre>RandomForestClassifier(max_depth=10, n_estimators=10)</pre></div></div></div></div></div></div></div></div></div></div></div><div class=\"sk-parallel-item\"><div class=\"sk-item\"><div class=\"sk-label-container\"><div class=\"sk-label sk-toggleable\"><input class=\"sk-toggleable__control sk-hidden--visually\" id=\"sk-estimator-id-22\" type=\"checkbox\" ><label for=\"sk-estimator-id-22\" class=\"sk-toggleable__label sk-toggleable__label-arrow\">standart_scaler</label><div class=\"sk-toggleable__content\"><pre>[4, 5, 6, 7, 8, 9]</pre></div></div></div><div class=\"sk-serial\"><div class=\"sk-item\"><div class=\"sk-estimator sk-toggleable\"><input class=\"sk-toggleable__control sk-hidden--visually\" id=\"sk-estimator-id-23\" type=\"checkbox\" ><label for=\"sk-estimator-id-23\" class=\"sk-toggleable__label sk-toggleable__label-arrow\">StandardScaler</label><div class=\"sk-toggleable__content\"><pre>StandardScaler()</pre></div></div></div></div></div></div></div></div><div class=\"sk-item\"><div class=\"sk-estimator sk-toggleable\"><input class=\"sk-toggleable__control sk-hidden--visually\" id=\"sk-estimator-id-24\" type=\"checkbox\" ><label for=\"sk-estimator-id-24\" class=\"sk-toggleable__label sk-toggleable__label-arrow\">LogisticRegression</label><div class=\"sk-toggleable__content\"><pre>LogisticRegression()</pre></div></div></div></div></div></div></div>"
      ],
      "text/plain": [
       "Pipeline(steps=[('class_to_transform',\n",
       "                 ColumnTransformer(transformers=[('model',\n",
       "                                                  ClassifierToTransformer(estimator=RandomForestClassifier(max_depth=10,\n",
       "                                                                                                           n_estimators=10)),\n",
       "                                                  [0, 1, 2, 3]),\n",
       "                                                 ('standart_scaler',\n",
       "                                                  StandardScaler(),\n",
       "                                                  [4, 5, 6, 7, 8, 9])])),\n",
       "                ('log_reg', LogisticRegression())])"
      ]
     },
     "execution_count": 17,
     "metadata": {},
     "output_type": "execute_result"
    }
   ],
   "source": [
    "model = RandomForestClassifier(\n",
    "    n_estimators=10, \n",
    "    max_depth=10\n",
    ")\n",
    "\n",
    "class ClassifierToTransformer(BaseEstimator, TransformerMixin):\n",
    "    '''\n",
    "    This is class that wrap sklearn classifier\n",
    "    '''\n",
    "    def __init__(self, estimator):\n",
    "        self.estimator = estimator\n",
    "        super().__init__()\n",
    "    \n",
    "    def fit(self, X, y=None):\n",
    "        self.estimator.fit(X,y)\n",
    "        return self\n",
    "\n",
    "    def transform(self, X, y=None):\n",
    "        return self.estimator.predict_proba(X)[:,[1]]\n",
    "\n",
    "transformer=ColumnTransformer([\n",
    "    (\"model\", ClassifierToTransformer(model), [0,1,2,3]),\n",
    "    (\"standart_scaler\", StandardScaler(), [4,5,6,7,8,9])\n",
    "])\n",
    "\n",
    "test_model = Pipeline([\n",
    "    (\"class_to_transform\", transformer),\n",
    "    (\"log_reg\", LogisticRegression())\n",
    "])\n",
    "\n",
    "test_model.fit(X, y)"
   ]
  }
 ],
 "metadata": {
  "kernelspec": {
   "display_name": "Python 3 (ipykernel)",
   "language": "python",
   "name": "python3"
  },
  "language_info": {
   "codemirror_mode": {
    "name": "ipython",
    "version": 3
   },
   "file_extension": ".py",
   "mimetype": "text/x-python",
   "name": "python",
   "nbconvert_exporter": "python",
   "pygments_lexer": "ipython3",
   "version": "3.10.12"
  }
 },
 "nbformat": 4,
 "nbformat_minor": 5
}
