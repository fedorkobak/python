{
 "cells": [
  {
   "cell_type": "markdown",
   "id": "b4328b87-43c2-4bf1-af5e-0a902138f0e5",
   "metadata": {},
   "source": [
    "# Developing transformer\n",
    "\n",
    "This page focuses on building your own `sklearn` transformers.\n",
    "\n",
    "Check [developing scikit-learn estimators](https://scikit-learn.org/stable/developers/develop.html) guide."
   ]
  },
  {
   "cell_type": "markdown",
   "id": "12abed5e-a874-444c-8f9e-b2e12bf14c7f",
   "metadata": {},
   "source": [
    "The following cell makes some inputs and generates a data frame that will be used for the examples on this page."
   ]
  },
  {
   "cell_type": "code",
   "execution_count": 1,
   "id": "28c0c344-39db-4d81-a506-3bda64afb10c",
   "metadata": {},
   "outputs": [],
   "source": [
    "import numpy as np\n",
    "import pandas as pd\n",
    "\n",
    "from pathlib import Path\n",
    "\n",
    "from sklearn.decomposition import PCA\n",
    "from sklearn.pipeline import Pipeline, FeatureUnion\n",
    "from sklearn.utils.estimator_checks import check_estimator"
   ]
  },
  {
   "cell_type": "markdown",
   "id": "88ad6a82-13dd-4baf-bd60-5b1ba88beeeb",
   "metadata": {},
   "source": [
    "## Creating Example\n",
    "\n",
    "This cell creates the example that's used on the pages in this section."
   ]
  },
  {
   "cell_type": "code",
   "execution_count": 2,
   "id": "9d740612-7e6e-4222-bc3e-a7645d062af6",
   "metadata": {},
   "outputs": [
    {
     "data": {
      "text/html": [
       "<div>\n",
       "<style scoped>\n",
       "    .dataframe tbody tr th:only-of-type {\n",
       "        vertical-align: middle;\n",
       "    }\n",
       "\n",
       "    .dataframe tbody tr th {\n",
       "        vertical-align: top;\n",
       "    }\n",
       "\n",
       "    .dataframe thead th {\n",
       "        text-align: right;\n",
       "    }\n",
       "</style>\n",
       "<table border=\"1\" class=\"dataframe\">\n",
       "  <thead>\n",
       "    <tr style=\"text-align: right;\">\n",
       "      <th></th>\n",
       "      <th>a x</th>\n",
       "      <th>a y</th>\n",
       "      <th>b x</th>\n",
       "      <th>b y</th>\n",
       "    </tr>\n",
       "  </thead>\n",
       "  <tbody>\n",
       "    <tr>\n",
       "      <th>0</th>\n",
       "      <td>1.331587</td>\n",
       "      <td>0.133137</td>\n",
       "      <td>0.462386</td>\n",
       "      <td>0.570693</td>\n",
       "    </tr>\n",
       "    <tr>\n",
       "      <th>1</th>\n",
       "      <td>0.715279</td>\n",
       "      <td>1.202744</td>\n",
       "      <td>-1.219856</td>\n",
       "      <td>-0.512875</td>\n",
       "    </tr>\n",
       "    <tr>\n",
       "      <th>2</th>\n",
       "      <td>-1.545400</td>\n",
       "      <td>-1.024753</td>\n",
       "      <td>0.192573</td>\n",
       "      <td>0.275782</td>\n",
       "    </tr>\n",
       "    <tr>\n",
       "      <th>3</th>\n",
       "      <td>-0.008384</td>\n",
       "      <td>0.160399</td>\n",
       "      <td>0.435450</td>\n",
       "      <td>-0.389282</td>\n",
       "    </tr>\n",
       "    <tr>\n",
       "      <th>4</th>\n",
       "      <td>0.621336</td>\n",
       "      <td>-1.130475</td>\n",
       "      <td>-1.634944</td>\n",
       "      <td>0.648529</td>\n",
       "    </tr>\n",
       "  </tbody>\n",
       "</table>\n",
       "</div>"
      ],
      "text/plain": [
       "        a x       a y       b x       b y\n",
       "0  1.331587  0.133137  0.462386  0.570693\n",
       "1  0.715279  1.202744 -1.219856 -0.512875\n",
       "2 -1.545400 -1.024753  0.192573  0.275782\n",
       "3 -0.008384  0.160399  0.435450 -0.389282\n",
       "4  0.621336 -1.130475 -1.634944  0.648529"
      ]
     },
     "metadata": {},
     "output_type": "display_data"
    }
   ],
   "source": [
    "np.random.seed(10)\n",
    "char_1 = [\"a\", \"b\"]\n",
    "char_2 = [\"x\", \"y\"]\n",
    "sample_size=200\n",
    "example_data = pd.DataFrame({\n",
    "    f\"{c1} {c2}\":np.random.normal(size=sample_size) \n",
    "    for c1 in char_1 for c2 in char_2\n",
    "})\n",
    "display(example_data.head())\n",
    "example_data.to_parquet(\n",
    "    Path(\"developing_transformer\")/\"example_frame.parquet\"\n",
    ")"
   ]
  },
  {
   "cell_type": "markdown",
   "id": "d7d45b97-5053-47b4-97af-ec09a87ee85b",
   "metadata": {},
   "source": [
    "## Minimum setup\n",
    "\n",
    "For minimum setup you need:\n",
    "\n",
    "For minimum setup you need\n",
    "\n",
    "- Inherit class from `BaseEstimator, TransformerMixin`;\n",
    "- Implement `__init__` which defines the hyperparameters of the transformer;\n",
    "- Implement `fit` and `transform` methods."
   ]
  },
  {
   "cell_type": "markdown",
   "id": "05f86ce8-31f8-4e15-9001-e5ca53e0590b",
   "metadata": {},
   "source": [
    "Which subtracts given columns of input data from each other."
   ]
  },
  {
   "cell_type": "code",
   "execution_count": 3,
   "id": "09a9e1aa-f87a-4267-8539-36390a7ea3b8",
   "metadata": {},
   "outputs": [],
   "source": [
    "from sklearn.base import BaseEstimator, TransformerMixin\n",
    "\n",
    "class ColumnsSubtraction(BaseEstimator, TransformerMixin):\n",
    "    \n",
    "    def __init__(self, A_columns : list, B_columns : list):        \n",
    "        self.A_columns = A_columns\n",
    "        self.B_columns = B_columns\n",
    "\n",
    "    def fit(self, X, y=None):\n",
    "        return self\n",
    "    \n",
    "    def transform(self, X):\n",
    "        return (\n",
    "            X[self.A_columns].to_numpy() - \n",
    "            X[self.B_columns].to_numpy()\n",
    "        )"
   ]
  },
  {
   "cell_type": "markdown",
   "id": "6d4ed35b-5249-460b-a4fe-61cd2d60845f",
   "metadata": {},
   "source": [
    "The following cell shows that instances of such a transformer can transform data."
   ]
  },
  {
   "cell_type": "code",
   "execution_count": 4,
   "id": "5724ee66-11f3-493b-bfa1-f4071c2e4118",
   "metadata": {},
   "outputs": [
    {
     "data": {
      "text/plain": [
       "array([[ 0.86920095, -0.43755596],\n",
       "       [ 1.93513451,  1.71561907],\n",
       "       [-1.73797313, -1.30053539],\n",
       "       [-0.44383424,  0.54968071],\n",
       "       [ 2.25628011, -1.7790047 ]])"
      ]
     },
     "metadata": {},
     "output_type": "display_data"
    },
    {
     "data": {
      "text/plain": [
       "array([[ 1.19844901, -0.1083079 ],\n",
       "       [-0.4874649 , -0.70698034],\n",
       "       [-0.52064733, -0.08320958],\n",
       "       [-0.16878301,  0.82473193],\n",
       "       [ 1.75181126, -2.28347355]])"
      ]
     },
     "metadata": {},
     "output_type": "display_data"
    }
   ],
   "source": [
    "display(\n",
    "    ColumnsSubtraction([\"a x\", \"a y\"], [\"b x\", \"b y\"])\n",
    "    .transform(example_data)[:5, :]\n",
    ")\n",
    "display(\n",
    "    ColumnsSubtraction([\"a x\", \"b x\"], [\"a y\", \"b y\"])\n",
    "    .transform(example_data)[:5, :]\n",
    ")"
   ]
  },
  {
   "cell_type": "markdown",
   "id": "cc28e374-946d-4586-a128-3e7b96434f7f",
   "metadata": {},
   "source": [
    "As well you can use them in the `sklearn.pipeline.FeatureUnion`:"
   ]
  },
  {
   "cell_type": "code",
   "execution_count": 5,
   "id": "69228428-95a8-423f-a3f2-1d4a235396de",
   "metadata": {},
   "outputs": [
    {
     "data": {
      "text/plain": [
       "array([[ 0.86920095, -0.43755596,  1.19844901, -0.1083079 ],\n",
       "       [ 1.93513451,  1.71561907, -0.4874649 , -0.70698034],\n",
       "       [-1.73797313, -1.30053539, -0.52064733, -0.08320958],\n",
       "       [-0.44383424,  0.54968071, -0.16878301,  0.82473193],\n",
       "       [ 2.25628011, -1.7790047 ,  1.75181126, -2.28347355]])"
      ]
     },
     "execution_count": 5,
     "metadata": {},
     "output_type": "execute_result"
    }
   ],
   "source": [
    "test_union = FeatureUnion([\n",
    "    (\"a-b\", ColumnsSubtraction([\"a x\", \"a y\"], [\"b x\", \"b y\"])),\n",
    "    (\"x-y\", ColumnsSubtraction([\"a x\", \"b x\"], [\"a y\", \"b y\"]))\n",
    "])\n",
    "test_union.fit_transform(example_data)[:5,:]"
   ]
  },
  {
   "cell_type": "markdown",
   "id": "c3309c0d-dab0-4e83-817d-d7a7b7d90b8b",
   "metadata": {},
   "source": [
    "And using the `sklearn.pipeline.FeatureUnion` from the previous cell as a step for the `sklearn.pipeline.Pipeline` also works well:"
   ]
  },
  {
   "cell_type": "code",
   "execution_count": 6,
   "id": "474db2f0-bdb2-48e4-b4f0-ed3d99737ca2",
   "metadata": {},
   "outputs": [
    {
     "data": {
      "text/plain": [
       "array([[ 1.221,  0.587, -0.502,  0.   ],\n",
       "       [ 0.056,  1.582,  2.072, -0.   ],\n",
       "       [-0.522, -2.11 , -0.93 , -0.   ],\n",
       "       [-1.084,  0.235, -0.449, -0.   ],\n",
       "       [ 3.915, -0.036,  0.554, -0.   ]])"
      ]
     },
     "execution_count": 6,
     "metadata": {},
     "output_type": "execute_result"
    }
   ],
   "source": [
    "test_pipeline = Pipeline([\n",
    "    (\"test_union\", test_union),\n",
    "    (\"pca\", PCA())\n",
    "])\n",
    "np.round(test_pipeline.fit_transform(example_data)[:5,:], 3)"
   ]
  },
  {
   "cell_type": "markdown",
   "id": "a01e3f94-b94a-498e-9ea1-d8aae321bdf1",
   "metadata": {},
   "source": [
    "### `check_estimator`\n",
    "\n",
    "Such a transformer **doesn't** path `sklearn.utils.estimator_checks.check_estimator`. It looks like this happens because it's trying to run `transform` on the instance, which just passes a random `numpy.array` as input. But this transformer expects to have `pandas.DataFrame` as input."
   ]
  },
  {
   "cell_type": "markdown",
   "id": "9c200c9d-4392-4c3a-ac16-e37778e1647a",
   "metadata": {},
   "source": [
    "The following example shows such error:"
   ]
  },
  {
   "cell_type": "code",
   "execution_count": 7,
   "id": "b19146e9-6b07-4824-9543-aeda372bf2b8",
   "metadata": {},
   "outputs": [
    {
     "name": "stdout",
     "output_type": "stream",
     "text": [
      "only integers, slices (`:`), ellipsis (`...`), numpy.newaxis (`None`) and integer or boolean arrays are valid indices\n"
     ]
    }
   ],
   "source": [
    "from sklearn.utils.estimator_checks import check_estimator\n",
    "try:\n",
    "    check_estimator(ColumnsSubtraction([\"a x\", \"a y\"], [\"b x\", \"b y\"]))\n",
    "except Exception as e:\n",
    "    print(e)"
   ]
  },
  {
   "cell_type": "markdown",
   "id": "62fb94b1-ea6e-4c5e-ae1a-1d033c692c94",
   "metadata": {},
   "source": [
    "But it's not the transformer itself that's the problem. The problem lies in the type of transformation it performs - its logic is based on column names, which `numpy.array` doesn't have. The following cell shows that `FunctionTransformer` with the same transformation in function will have the same result in the `check_estimator` function."
   ]
  },
  {
   "cell_type": "code",
   "execution_count": 8,
   "id": "969409bb-050b-41ed-9307-dbb4b9b8498a",
   "metadata": {},
   "outputs": [
    {
     "name": "stdout",
     "output_type": "stream",
     "text": [
      "only integers, slices (`:`), ellipsis (`...`), numpy.newaxis (`None`) and integer or boolean arrays are valid indices\n"
     ]
    }
   ],
   "source": [
    "from sklearn.preprocessing import FunctionTransformer\n",
    "try:\n",
    "    check_estimator(FunctionTransformer(\n",
    "        lambda X: X[[\"a x\", \"a y\"]] - X[[\"b x\", \"b y\"]]\n",
    "    ))\n",
    "except Exception as e:\n",
    "    print(e)"
   ]
  }
 ],
 "metadata": {
  "kernelspec": {
   "display_name": "Python 3 (ipykernel)",
   "language": "python",
   "name": "python3"
  },
  "language_info": {
   "codemirror_mode": {
    "name": "ipython",
    "version": 3
   },
   "file_extension": ".py",
   "mimetype": "text/x-python",
   "name": "python",
   "nbconvert_exporter": "python",
   "pygments_lexer": "ipython3",
   "version": "3.10.12"
  }
 },
 "nbformat": 4,
 "nbformat_minor": 5
}
