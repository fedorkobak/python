{
 "cells": [
  {
   "cell_type": "markdown",
   "id": "f6d62836-2b75-4bb7-8c4e-97e67e094b15",
   "metadata": {},
   "source": [
    "# Custom components\n",
    "\n",
    "[developing scikit-learn estimators](https://scikit-learn.org/stable/developers/develop.html)\n",
    "\n",
    "https://scikit-learn.org/stable/auto_examples/developing_estimators/sklearn_is_fitted.html#sphx-glr-auto-examples-developing-estimators-sklearn-is-fitted-py"
   ]
  },
  {
   "cell_type": "code",
   "execution_count": 8,
   "id": "d49351a4-bbcc-4932-b34a-52e10bce2d5b",
   "metadata": {},
   "outputs": [],
   "source": [
    "from sklearn.base import BaseEstimator, RegressorMixin\n",
    "\n",
    "from sklearn.utils.validation import check_is_fitted\n",
    "from sklearn.utils import check_X_y, check_array\n",
    "from sklearn.utils.estimator_checks import is_regressor, check_estimator\n",
    "\n",
    "import numpy as np\n",
    "\n",
    "class CustomEstimator(BaseEstimator, RegressorMixin):\n",
    "    def __init__(self, parameter=1):\n",
    "        self.parameter = parameter\n",
    "\n",
    "    def fit(self, X, y=None):\n",
    "        \"\"\"\n",
    "        Fit the estimator to the training data.\n",
    "        \"\"\"\n",
    "        check_array(X)\n",
    "        # Custom attribute to track if the estimator is fitted\n",
    "        self._is_fitted = True\n",
    "        return self\n",
    "\n",
    "    def predict(self, X):\n",
    "        \"\"\"\n",
    "        Perform Predictions\n",
    "\n",
    "        If the estimator is not fitted, then raise NotFittedError\n",
    "        \"\"\"\n",
    "        check_is_fitted(self)\n",
    "        check_array(X)\n",
    "        # Perform prediction logic\n",
    "        return X\n",
    "\n",
    "    def score(self, X, y):\n",
    "        \"\"\"\n",
    "        Calculate Score\n",
    "\n",
    "        If the estimator is not fitted, then raise NotFittedError\n",
    "        \"\"\"\n",
    "        check_is_fitted(self)\n",
    "        # Perform scoring logic\n",
    "        return 0.5\n",
    "\n",
    "    def __sklearn_is_fitted__(self):\n",
    "        \"\"\"\n",
    "        Check fitted status and return a Boolean value.\n",
    "        \"\"\"\n",
    "        return hasattr(self, \"_is_fitted\") and self._is_fitted"
   ]
  },
  {
   "cell_type": "code",
   "execution_count": 9,
   "id": "5dd8910a-d121-4a39-bb73-fc346018eb28",
   "metadata": {},
   "outputs": [
    {
     "data": {
      "text/plain": [
       "array([[ -4.63484267,   4.75831614,   0.81843804,  -9.23739688,\n",
       "          5.43814649,  -0.67537273,   5.71325109,  -7.64032437,\n",
       "         17.11249815,   1.27673257,  -5.58722534, -27.13473491,\n",
       "          8.16777821,   9.86198836,  -2.43300276, -15.86173125,\n",
       "         -4.48851822,  -9.56794218,  -8.7936713 ,   2.69450362],\n",
       "       [  6.09574719,   1.8756715 ,   0.75438603,  13.46715333,\n",
       "          3.18447071,  -0.37314868, -12.13459004,  10.52988471,\n",
       "         -7.02709772, -15.7034411 ,  -1.95841864,  -3.89362664,\n",
       "          6.66888427,  21.14070295, -11.3595738 ,  -0.05416943,\n",
       "         -9.97553786,  10.91238664,   0.09785959,  -0.15235549],\n",
       "       [ 13.6910626 ,   6.64008949,   0.50356055,  -4.80973091,\n",
       "         -1.0789562 ,  14.48076481,  11.20009176,   0.8594514 ,\n",
       "          4.56058112,   8.83203908,  21.7504379 , -12.8213451 ,\n",
       "         19.9071623 ,   5.8651516 ,   0.78952143,   0.50511009,\n",
       "          5.75965674,  -2.44408313,   1.01747535,  14.79503173],\n",
       "       [  7.85420077,   6.79760395,  -8.66090862,   0.79182016,\n",
       "         -9.50008459, -17.57130815, -12.541175  ,  10.86039705,\n",
       "         -3.93419092, -11.60894524,   4.87355645,   4.26096593,\n",
       "        -21.53816025,  -6.13680367, -20.36784918,   1.81338889,\n",
       "         17.16340875,  -1.18809597,  -9.9409314 , -20.88433088],\n",
       "       [  9.60566176,  -7.05506581,  -5.84588611,  -2.28866831,\n",
       "          1.12678721,   2.61072442,   2.84236697,  30.87948588,\n",
       "         -4.64978815,  12.25195287,  15.43556776,  -4.94755181,\n",
       "         -5.53333483,  17.75124671,  16.34440858,  -3.14628007,\n",
       "          0.93353528, -11.25780179,   4.71920817,  14.98278601],\n",
       "       [  3.53417926,  -1.38181544,  -9.76121416,  15.69934882,\n",
       "        -20.34107645,  -0.09571804,   4.01193178,  -0.82896452,\n",
       "          5.86494362, -21.43342884,  -6.19639651, -10.34596007,\n",
       "         -0.23622432,  27.12696779,   2.38180578,   5.55003487,\n",
       "         -5.55699934, -30.68501671, -15.62867134,  20.76135755],\n",
       "       [ -4.38002244,   3.67651792,  -6.53453836,   3.20310079,\n",
       "          0.63272074,   8.76281781,   0.69796722,   3.03491488,\n",
       "          5.75450498,   6.26806581,  -2.75118038,  12.80592794,\n",
       "        -10.15261586,  -2.2193488 ,   3.73597729, -11.44389365,\n",
       "          8.07577027, -13.89546332, -11.42361495,  -0.91173835],\n",
       "       [  0.23709415,   8.76671797,  10.82999252,   5.31438012,\n",
       "         -6.4858145 ,   9.70894711,  27.70035968,   0.07210121,\n",
       "         16.17361776,  14.26783981, -24.00859966,   9.03789325,\n",
       "        -21.25504644,  -3.72463498,   9.8154215 ,  -3.51106558,\n",
       "        -24.71395494,  12.85392742,   2.38827132,   3.70208688],\n",
       "       [ -5.28070615,  -6.95926609, -24.33179849,   2.37642644,\n",
       "         24.11401081,  13.16727678,  -4.82721267, -15.92471501,\n",
       "          6.96294609,  -2.57135906, -19.76904852,  10.44369274,\n",
       "         -5.40479961,   8.2472518 ,  -1.04062557,  -3.26377079,\n",
       "         20.46419823, -12.73513073,  11.1317341 ,  -1.70290092],\n",
       "       [ -9.08659361, -10.29682298,  -2.78325229,  -3.21488385,\n",
       "        -13.20585984,  -3.67862893, -11.97938975,  12.75384242,\n",
       "        -19.13810553,   4.32259151,  -4.02706089,   7.89824121,\n",
       "         -5.54574792,  -9.76562544,  17.2486382 ,  -3.40734652,\n",
       "         -2.42014996,  -7.09419555,   7.92098043,  19.64405014]])"
      ]
     },
     "execution_count": 9,
     "metadata": {},
     "output_type": "execute_result"
    }
   ],
   "source": [
    "X = np.random.normal(0,10,[10,20])\n",
    "CustomEstimator().fit(X).predict(X)"
   ]
  },
  {
   "cell_type": "code",
   "execution_count": 13,
   "id": "655ff832-e96c-4f8c-b9b8-a12323a4e8bd",
   "metadata": {},
   "outputs": [
    {
     "ename": "AssertionError",
     "evalue": "The classifier CustomEstimator does not raise an error when incorrect/malformed input data for fit is passed. The number of training examples is not the same as the number of labels. Perhaps use check_X_y in fit.",
     "output_type": "error",
     "traceback": [
      "\u001b[0;31m---------------------------------------------------------------------------\u001b[0m",
      "\u001b[0;31mAssertionError\u001b[0m                            Traceback (most recent call last)",
      "Cell \u001b[0;32mIn[13], line 1\u001b[0m\n\u001b[0;32m----> 1\u001b[0m \u001b[43mcheck_estimator\u001b[49m\u001b[43m(\u001b[49m\u001b[43mCustomEstimator\u001b[49m\u001b[43m(\u001b[49m\u001b[43m)\u001b[49m\u001b[43m)\u001b[49m\n",
      "File \u001b[0;32m~/.local/lib/python3.10/site-packages/sklearn/utils/estimator_checks.py:653\u001b[0m, in \u001b[0;36mcheck_estimator\u001b[0;34m(estimator, generate_only)\u001b[0m\n\u001b[1;32m    651\u001b[0m \u001b[38;5;28;01mfor\u001b[39;00m estimator, check \u001b[38;5;129;01min\u001b[39;00m checks_generator():\n\u001b[1;32m    652\u001b[0m     \u001b[38;5;28;01mtry\u001b[39;00m:\n\u001b[0;32m--> 653\u001b[0m         \u001b[43mcheck\u001b[49m\u001b[43m(\u001b[49m\u001b[43mestimator\u001b[49m\u001b[43m)\u001b[49m\n\u001b[1;32m    654\u001b[0m     \u001b[38;5;28;01mexcept\u001b[39;00m SkipTest \u001b[38;5;28;01mas\u001b[39;00m exception:\n\u001b[1;32m    655\u001b[0m         \u001b[38;5;66;03m# SkipTest is thrown when pandas can't be imported, or by checks\u001b[39;00m\n\u001b[1;32m    656\u001b[0m         \u001b[38;5;66;03m# that are in the xfail_checks tag\u001b[39;00m\n\u001b[1;32m    657\u001b[0m         warnings\u001b[38;5;241m.\u001b[39mwarn(\u001b[38;5;28mstr\u001b[39m(exception), SkipTestWarning)\n",
      "File \u001b[0;32m~/.local/lib/python3.10/site-packages/sklearn/utils/_testing.py:160\u001b[0m, in \u001b[0;36m_IgnoreWarnings.__call__.<locals>.wrapper\u001b[0;34m(*args, **kwargs)\u001b[0m\n\u001b[1;32m    158\u001b[0m \u001b[38;5;28;01mwith\u001b[39;00m warnings\u001b[38;5;241m.\u001b[39mcatch_warnings():\n\u001b[1;32m    159\u001b[0m     warnings\u001b[38;5;241m.\u001b[39msimplefilter(\u001b[38;5;124m\"\u001b[39m\u001b[38;5;124mignore\u001b[39m\u001b[38;5;124m\"\u001b[39m, \u001b[38;5;28mself\u001b[39m\u001b[38;5;241m.\u001b[39mcategory)\n\u001b[0;32m--> 160\u001b[0m     \u001b[38;5;28;01mreturn\u001b[39;00m \u001b[43mfn\u001b[49m\u001b[43m(\u001b[49m\u001b[38;5;241;43m*\u001b[39;49m\u001b[43margs\u001b[49m\u001b[43m,\u001b[49m\u001b[43m \u001b[49m\u001b[38;5;241;43m*\u001b[39;49m\u001b[38;5;241;43m*\u001b[39;49m\u001b[43mkwargs\u001b[49m\u001b[43m)\u001b[49m\n",
      "File \u001b[0;32m~/.local/lib/python3.10/site-packages/sklearn/utils/estimator_checks.py:3094\u001b[0m, in \u001b[0;36mcheck_regressors_train\u001b[0;34m(name, regressor_orig, readonly_memmap, X_dtype)\u001b[0m\n\u001b[1;32m   3091\u001b[0m     regressor\u001b[38;5;241m.\u001b[39mC \u001b[38;5;241m=\u001b[39m \u001b[38;5;241m0.01\u001b[39m\n\u001b[1;32m   3093\u001b[0m \u001b[38;5;66;03m# raises error on malformed input for fit\u001b[39;00m\n\u001b[0;32m-> 3094\u001b[0m \u001b[38;5;28;01mwith\u001b[39;00m raises(\n\u001b[1;32m   3095\u001b[0m     \u001b[38;5;167;01mValueError\u001b[39;00m,\n\u001b[1;32m   3096\u001b[0m     err_msg\u001b[38;5;241m=\u001b[39m(\n\u001b[1;32m   3097\u001b[0m         \u001b[38;5;124mf\u001b[39m\u001b[38;5;124m\"\u001b[39m\u001b[38;5;124mThe classifier \u001b[39m\u001b[38;5;132;01m{\u001b[39;00mname\u001b[38;5;132;01m}\u001b[39;00m\u001b[38;5;124m does not raise an error when \u001b[39m\u001b[38;5;124m\"\u001b[39m\n\u001b[1;32m   3098\u001b[0m         \u001b[38;5;124m\"\u001b[39m\u001b[38;5;124mincorrect/malformed input data for fit is passed. The number of \u001b[39m\u001b[38;5;124m\"\u001b[39m\n\u001b[1;32m   3099\u001b[0m         \u001b[38;5;124m\"\u001b[39m\u001b[38;5;124mtraining examples is not the same as the number of labels. Perhaps \u001b[39m\u001b[38;5;124m\"\u001b[39m\n\u001b[1;32m   3100\u001b[0m         \u001b[38;5;124m\"\u001b[39m\u001b[38;5;124muse check_X_y in fit.\u001b[39m\u001b[38;5;124m\"\u001b[39m\n\u001b[1;32m   3101\u001b[0m     ),\n\u001b[1;32m   3102\u001b[0m ):\n\u001b[1;32m   3103\u001b[0m     regressor\u001b[38;5;241m.\u001b[39mfit(X, y[:\u001b[38;5;241m-\u001b[39m\u001b[38;5;241m1\u001b[39m])\n\u001b[1;32m   3104\u001b[0m \u001b[38;5;66;03m# fit\u001b[39;00m\n",
      "File \u001b[0;32m~/.local/lib/python3.10/site-packages/sklearn/utils/_testing.py:908\u001b[0m, in \u001b[0;36m_Raises.__exit__\u001b[0;34m(self, exc_type, exc_value, _)\u001b[0m\n\u001b[1;32m    906\u001b[0m     \u001b[38;5;28;01melse\u001b[39;00m:\n\u001b[1;32m    907\u001b[0m         err_msg \u001b[38;5;241m=\u001b[39m \u001b[38;5;28mself\u001b[39m\u001b[38;5;241m.\u001b[39merr_msg \u001b[38;5;129;01mor\u001b[39;00m \u001b[38;5;124mf\u001b[39m\u001b[38;5;124m\"\u001b[39m\u001b[38;5;124mDid not raise: \u001b[39m\u001b[38;5;132;01m{\u001b[39;00m\u001b[38;5;28mself\u001b[39m\u001b[38;5;241m.\u001b[39mexpected_exc_types\u001b[38;5;132;01m}\u001b[39;00m\u001b[38;5;124m\"\u001b[39m\n\u001b[0;32m--> 908\u001b[0m         \u001b[38;5;28;01mraise\u001b[39;00m \u001b[38;5;167;01mAssertionError\u001b[39;00m(err_msg)\n\u001b[1;32m    910\u001b[0m \u001b[38;5;28;01mif\u001b[39;00m \u001b[38;5;129;01mnot\u001b[39;00m \u001b[38;5;28many\u001b[39m(\n\u001b[1;32m    911\u001b[0m     \u001b[38;5;28missubclass\u001b[39m(exc_type, expected_type)\n\u001b[1;32m    912\u001b[0m     \u001b[38;5;28;01mfor\u001b[39;00m expected_type \u001b[38;5;129;01min\u001b[39;00m \u001b[38;5;28mself\u001b[39m\u001b[38;5;241m.\u001b[39mexpected_exc_types\n\u001b[1;32m    913\u001b[0m ):\n\u001b[1;32m    914\u001b[0m     \u001b[38;5;28;01mif\u001b[39;00m \u001b[38;5;28mself\u001b[39m\u001b[38;5;241m.\u001b[39merr_msg \u001b[38;5;129;01mis\u001b[39;00m \u001b[38;5;129;01mnot\u001b[39;00m \u001b[38;5;28;01mNone\u001b[39;00m:\n",
      "\u001b[0;31mAssertionError\u001b[0m: The classifier CustomEstimator does not raise an error when incorrect/malformed input data for fit is passed. The number of training examples is not the same as the number of labels. Perhaps use check_X_y in fit."
     ]
    }
   ],
   "source": [
    "check_estimator(CustomEstimator())"
   ]
  },
  {
   "cell_type": "code",
   "execution_count": 22,
   "id": "348b798f-fe4d-4615-9011-20750f11493d",
   "metadata": {},
   "outputs": [
    {
     "data": {
      "text/plain": [
       "True"
      ]
     },
     "execution_count": 22,
     "metadata": {},
     "output_type": "execute_result"
    }
   ],
   "source": [
    "is_regressor(CustomEstimator)"
   ]
  }
 ],
 "metadata": {
  "kernelspec": {
   "display_name": "Python 3 (ipykernel)",
   "language": "python",
   "name": "python3"
  },
  "language_info": {
   "codemirror_mode": {
    "name": "ipython",
    "version": 3
   },
   "file_extension": ".py",
   "mimetype": "text/x-python",
   "name": "python",
   "nbconvert_exporter": "python",
   "pygments_lexer": "ipython3",
   "version": "3.10.12"
  }
 },
 "nbformat": 4,
 "nbformat_minor": 5
}
