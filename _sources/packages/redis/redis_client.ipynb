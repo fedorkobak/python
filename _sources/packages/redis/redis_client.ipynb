{
 "cells": [
  {
   "cell_type": "markdown",
   "metadata": {},
   "source": [
    "# Redis client\n",
    "\n",
    "You'll interact with Redis through a special Python object called a Redis client. This page focuses on the various methods of creating and monitoring Redis clients."
   ]
  },
  {
   "cell_type": "code",
   "execution_count": 10,
   "metadata": {},
   "outputs": [],
   "source": [
    "import redis"
   ]
  },
  {
   "cell_type": "markdown",
   "metadata": {},
   "source": [
    "## Invalid connection\n",
    "\n",
    "During creation redis absolutely doen't give reasons to think that it has some problems with connection to the redis server. It happens because it actually connects only during requests."
   ]
  },
  {
   "cell_type": "markdown",
   "metadata": {},
   "source": [
    "---\n",
    "\n",
    "The following cell shows creation of the redis client to the unexisting host with unexisting port."
   ]
  },
  {
   "cell_type": "code",
   "execution_count": 11,
   "metadata": {},
   "outputs": [
    {
     "data": {
      "text/plain": [
       "Redis<ConnectionPool<Connection<host=this host doesn't exist,port=666,db=0>>>"
      ]
     },
     "execution_count": 11,
     "metadata": {},
     "output_type": "execute_result"
    }
   ],
   "source": [
    "redis_client = redis.Redis(host=\"this host doesn't exist\", port=666)\n",
    "redis_client"
   ]
  },
  {
   "cell_type": "markdown",
   "metadata": {},
   "source": [
    "There are no errors, and we even receive a Redis client object in return."
   ]
  },
  {
   "cell_type": "markdown",
   "metadata": {},
   "source": [
    "A legitimate way to check if the connection is fine is to use the `ping` method of the Redis client object. It raises a `redis.exceptions.ConnectionError` if the connection is incorrectly specified."
   ]
  },
  {
   "cell_type": "code",
   "execution_count": 22,
   "metadata": {},
   "outputs": [
    {
     "name": "stdout",
     "output_type": "stream",
     "text": [
      "<class 'redis.exceptions.ConnectionError'>\n"
     ]
    }
   ],
   "source": [
    "try: redis_client.ping()\n",
    "except Exception as e: print(type(e))"
   ]
  }
 ],
 "metadata": {
  "kernelspec": {
   "display_name": "Python 3",
   "language": "python",
   "name": "python3"
  },
  "language_info": {
   "codemirror_mode": {
    "name": "ipython",
    "version": 3
   },
   "file_extension": ".py",
   "mimetype": "text/x-python",
   "name": "python",
   "nbconvert_exporter": "python",
   "pygments_lexer": "ipython3",
   "version": "3.10.12"
  }
 },
 "nbformat": 4,
 "nbformat_minor": 2
}
