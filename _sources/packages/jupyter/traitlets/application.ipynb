{
 "cells": [
  {
   "cell_type": "markdown",
   "metadata": {},
   "source": [
    "# Application"
   ]
  },
  {
   "cell_type": "code",
   "execution_count": 1,
   "metadata": {},
   "outputs": [],
   "source": [
    "import traitlets\n",
    "from traitlets.config import Application\n",
    "Application._instance = None"
   ]
  },
  {
   "cell_type": "markdown",
   "metadata": {},
   "source": [
    "## Command line\n",
    "\n",
    "The core feature of the `Application` class is that it behaves like `traitlets.config.Config`, but it can override class properties from the command line arguments. You just jave to pass arguments like `<class name>.<attribute>=<value>` when calling the prograr, just in the configuration script for the `traitlets.config.Config`."
   ]
  },
  {
   "cell_type": "markdown",
   "metadata": {},
   "source": [
    "---\n",
    "\n",
    "The following cell defines pythhon script that defines the inheritor of the `Application`, that has the `parameter` trait in it - consider how to set the value of `parameter`."
   ]
  },
  {
   "cell_type": "code",
   "execution_count": null,
   "metadata": {},
   "outputs": [
    {
     "name": "stdout",
     "output_type": "stream",
     "text": [
      "Writing /tmp/my_application.py\n"
     ]
    }
   ],
   "source": [
    "%%writefile /tmp/my_application.py\n",
    "import traitlets\n",
    "from traitlets.config import Application\n",
    "from traitlets.utils import cast_unicode\n",
    "\n",
    "class MyApplication(Application):\n",
    "    parameter = traitlets.Unicode(\n",
    "        default_value=\"default\",\n",
    "        config=True\n",
    "    )\n",
    "\n",
    "if __name__ == \"__main__\":\n",
    "    MyApplication.launch_instance()\n",
    "    my_application = MyApplication.instance()\n",
    "    print(my_application.parameter)"
   ]
  },
  {
   "cell_type": "markdown",
   "metadata": {},
   "source": [
    "The following cell calls the previously created scriptip without any additional arguments."
   ]
  },
  {
   "cell_type": "code",
   "execution_count": 10,
   "metadata": {},
   "outputs": [
    {
     "name": "stdout",
     "output_type": "stream",
     "text": [
      "default\n"
     ]
    }
   ],
   "source": [
    "!python3 /tmp/my_application.py"
   ]
  },
  {
   "cell_type": "markdown",
   "metadata": {},
   "source": [
    "As a result, the `MyApplication.instance().parameter` will have a default value. The following cell runs the same script, but passes the value as a CLI argument."
   ]
  },
  {
   "cell_type": "code",
   "execution_count": 3,
   "metadata": {},
   "outputs": [
    {
     "name": "stdout",
     "output_type": "stream",
     "text": [
      "new value\n"
     ]
    }
   ],
   "source": [
    "!python3 /tmp/my_application.py --MyApplication.parameter=\"new value\""
   ]
  },
  {
   "cell_type": "markdown",
   "metadata": {},
   "source": [
    "Sometimes it usefull to intialise `Application` from python code. You can do this by passing argumets as a `list[str]` to the `initialize` method."
   ]
  },
  {
   "cell_type": "code",
   "execution_count": 11,
   "metadata": {},
   "outputs": [
    {
     "data": {
      "text/plain": [
       "'new value'"
      ]
     },
     "execution_count": 11,
     "metadata": {},
     "output_type": "execute_result"
    }
   ],
   "source": [
    "import os\n",
    "os.chdir(\"/tmp\")\n",
    "from my_application import MyApplication\n",
    "\n",
    "app = MyApplication()\n",
    "app.initialize([\"--MyApplication.parameter\", \"new value\"])\n",
    "app.parameter"
   ]
  }
 ],
 "metadata": {
  "kernelspec": {
   "display_name": "python",
   "language": "python",
   "name": "python3"
  },
  "language_info": {
   "codemirror_mode": {
    "name": "ipython",
    "version": 3
   },
   "file_extension": ".py",
   "mimetype": "text/x-python",
   "name": "python",
   "nbconvert_exporter": "python",
   "pygments_lexer": "ipython3",
   "version": "3.12.9"
  }
 },
 "nbformat": 4,
 "nbformat_minor": 2
}
