{
 "cells": [
  {
   "cell_type": "markdown",
   "id": "ebed11e5-bbc2-4cbb-8f5b-8af81e28cfe7",
   "metadata": {},
   "source": [
    "# Jinja"
   ]
  },
  {
   "cell_type": "markdown",
   "id": "c2e3c99a-5adb-4110-8f89-1a1fa424a265",
   "metadata": {},
   "source": [
    "## Generate HTML"
   ]
  },
  {
   "cell_type": "markdown",
   "id": "b686e09f-e887-4391-9bcb-06c16eb0663b",
   "metadata": {},
   "source": [
    "You can easily generate some html using jinja templates. For example, in the following cell I have displayed python dict as html using jinja templates."
   ]
  },
  {
   "cell_type": "code",
   "execution_count": 2,
   "id": "9fc6306c-e813-48aa-94a7-3da8ad18fe05",
   "metadata": {},
   "outputs": [
    {
     "data": {
      "text/html": [
       "\n",
       "    <table>\n",
       "        <thead>\n",
       "            <tr>\n",
       "                <th>Fruit</th>\n",
       "                <th>Quantity</th>\n",
       "            </tr>\n",
       "        </thead>\n",
       "        <tbody>\n",
       "            \n",
       "                <tr>\n",
       "                    <td>apple</td>\n",
       "                    <td>3</td>\n",
       "                </tr>\n",
       "            \n",
       "                <tr>\n",
       "                    <td>banana</td>\n",
       "                    <td>5</td>\n",
       "                </tr>\n",
       "            \n",
       "                <tr>\n",
       "                    <td>orange</td>\n",
       "                    <td>2</td>\n",
       "                </tr>\n",
       "            \n",
       "        </tbody>\n",
       "    </table>"
      ],
      "text/plain": [
       "<IPython.core.display.HTML object>"
      ]
     },
     "execution_count": 2,
     "metadata": {},
     "output_type": "execute_result"
    }
   ],
   "source": [
    "from jinja2 import Template\n",
    "from IPython.display import HTML\n",
    "\n",
    "data = {'apple': 3, 'banana': 5, 'orange': 2}\n",
    "\n",
    "template = Template('''\n",
    "    <table>\n",
    "        <thead>\n",
    "            <tr>\n",
    "                <th>Fruit</th>\n",
    "                <th>Quantity</th>\n",
    "            </tr>\n",
    "        </thead>\n",
    "        <tbody>\n",
    "            {% for key, value in data.items() %}\n",
    "                <tr>\n",
    "                    <td>{{ key }}</td>\n",
    "                    <td>{{ value }}</td>\n",
    "                </tr>\n",
    "            {% endfor %}\n",
    "        </tbody>\n",
    "    </table>\n",
    "''')\n",
    "\n",
    "html = template.render(data=data)\n",
    "HTML(html)"
   ]
  }
 ],
 "metadata": {
  "kernelspec": {
   "display_name": "Python 3 (ipykernel)",
   "language": "python",
   "name": "python3"
  },
  "language_info": {
   "codemirror_mode": {
    "name": "ipython",
    "version": 3
   },
   "file_extension": ".py",
   "mimetype": "text/x-python",
   "name": "python",
   "nbconvert_exporter": "python",
   "pygments_lexer": "ipython3",
   "version": "3.10.12"
  }
 },
 "nbformat": 4,
 "nbformat_minor": 5
}
