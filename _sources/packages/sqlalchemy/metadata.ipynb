{
 "cells": [
  {
   "cell_type": "markdown",
   "metadata": {},
   "source": [
    "# Metadata\n",
    "\n",
    "Metadata contains information that defines the structure of the database: tables, relationships between tables, and table schemas. Check the more in [corresponding page of the official documentation](https://docs.sqlalchemy.org/en/20/tutorial/metadata.html#tutorial-working-with-metadata)."
   ]
  },
  {
   "cell_type": "code",
   "execution_count": 1,
   "metadata": {},
   "outputs": [],
   "source": [
    "import sqlalchemy\n",
    "from sqlalchemy import MetaData"
   ]
  },
  {
   "cell_type": "markdown",
   "metadata": {
    "vscode": {
     "languageId": "plaintext"
    }
   },
   "source": [
    "## Load from DB\n",
    "\n",
    "Typical case when project has to work with database created for other purposes. In such case you need to load schema from bata base to the alchemy defined by the programs. Officially it called **reflecting database objects**.\n",
    "\n",
    "There are two general ways to do this:\n",
    "\n",
    "- Extract the schema of the single table by defining the `autoload_with=<engine>` argument.\n",
    "- Extract all data from the schema using the `MetaData.reflect(<engine>)` method.\n",
    "\n",
    "Check description and examples provided by [official docuemntation](https://docs.sqlalchemy.org/en/20/core/reflection.html)."
   ]
  },
  {
   "cell_type": "markdown",
   "metadata": {},
   "source": [
    "---\n",
    "\n",
    "The following cell creates engine and a few tables in, we would try to put them in metadata created by SQLAlchemy."
   ]
  },
  {
   "cell_type": "code",
   "execution_count": 5,
   "metadata": {},
   "outputs": [],
   "source": [
    "create_users = \"\"\"\n",
    "CREATE TABLE users (\n",
    "    id INTEGER PRIMARY KEY,\n",
    "    name TEXT NOT NULL,\n",
    "    email TEXT UNIQUE NOT NULL\n",
    ");\n",
    "\"\"\"\n",
    "create_orders = \"\"\"\n",
    "CREATE TABLE orders (\n",
    "    order_id INTEGER PRIMARY KEY,\n",
    "    user_id INTEGER NOT NULL,\n",
    "    product_name TEXT NOT NULL,\n",
    "    order_date DATE NOT NULL,\n",
    "    FOREIGN KEY (user_id) REFERENCES users(id)\n",
    ");\n",
    "\"\"\"\n",
    "\n",
    "engine = sqlalchemy.create_engine(\"sqlite+pysqlite:///:memory:\")\n",
    "with engine.connect() as conn:\n",
    "    conn.execute(sqlalchemy.text(create_users))\n",
    "    conn.execute(sqlalchemy.text(create_orders))"
   ]
  },
  {
   "cell_type": "markdown",
   "metadata": {},
   "source": [
    "Now by using the `reflect` method of the metadata the database created in the cell before being loaded into the ORM. There is also some code that corresponds to each table columns it has."
   ]
  },
  {
   "cell_type": "code",
   "execution_count": 21,
   "metadata": {},
   "outputs": [
    {
     "data": {
      "text/plain": [
       "{'orders': ['order_id', 'user_id', 'product_name', 'order_date'],\n",
       " 'users': ['id', 'name', 'email']}"
      ]
     },
     "execution_count": 21,
     "metadata": {},
     "output_type": "execute_result"
    }
   ],
   "source": [
    "metadata_obj = MetaData()\n",
    "metadata_obj.reflect(bind=engine)\n",
    "{\n",
    "    name: [col.name for col in table.columns]\n",
    "    for name, table in metadata_obj.tables.items()\n",
    "}"
   ]
  },
  {
   "cell_type": "markdown",
   "metadata": {},
   "source": [
    "So there is information about every column of every table that was created using raw SQL loaded into Alchimia metadata."
   ]
  },
  {
   "cell_type": "markdown",
   "metadata": {},
   "source": [
    "## Create table\n",
    "\n",
    "Consider the case when you have defined a SQLAlchemy schema and need to duplicate it in the real database. This section corresponds to this option. For example, with `sqlalchemy.Table.create` you can create the corresponding table in the provided engine."
   ]
  },
  {
   "cell_type": "markdown",
   "metadata": {},
   "source": [
    "---\n",
    "\n",
    "The following cell shows how to define an SQLAlchemy table and apply its `create` method."
   ]
  },
  {
   "cell_type": "code",
   "execution_count": 10,
   "metadata": {},
   "outputs": [],
   "source": [
    "meta_data = MetaData()\n",
    "\n",
    "table = sqlalchemy.Table(\n",
    "    \"example_table\",\n",
    "    meta_data,\n",
    "    sqlalchemy.Column(\"id\", sqlalchemy.Integer),\n",
    "    sqlalchemy.Column(\"some_info\", sqlalchemy.String)\n",
    ")\n",
    "\n",
    "engine = sqlalchemy.create_engine(\"sqlite+pysqlite:///:memory:\")\n",
    "table.create(engine)"
   ]
  },
  {
   "cell_type": "markdown",
   "metadata": {},
   "source": [
    "Now let's check if the corresponding `sqlite` really contains a table with the corresponding name and schema."
   ]
  },
  {
   "cell_type": "code",
   "execution_count": 13,
   "metadata": {},
   "outputs": [
    {
     "data": {
      "text/plain": [
       "[(0, 'id', 'INTEGER', 0, None, 0), (1, 'some_info', 'VARCHAR', 0, None, 0)]"
      ]
     },
     "execution_count": 13,
     "metadata": {},
     "output_type": "execute_result"
    }
   ],
   "source": [
    "with engine.connect() as conn:\n",
    "    ans = conn.execute(\n",
    "        sqlalchemy.text(\"PRAGMA table_info(example_table)\")\n",
    "    ).all()\n",
    "ans"
   ]
  },
  {
   "cell_type": "markdown",
   "metadata": {},
   "source": [
    "The result is a bit confusing, but there are lines with names of tables that were specified during creation."
   ]
  }
 ],
 "metadata": {
  "kernelspec": {
   "display_name": "Python 3",
   "language": "python",
   "name": "python3"
  },
  "language_info": {
   "codemirror_mode": {
    "name": "ipython",
    "version": 3
   },
   "file_extension": ".py",
   "mimetype": "text/x-python",
   "name": "python",
   "nbconvert_exporter": "python",
   "pygments_lexer": "ipython3",
   "version": "3.10.12"
  }
 },
 "nbformat": 4,
 "nbformat_minor": 2
}
