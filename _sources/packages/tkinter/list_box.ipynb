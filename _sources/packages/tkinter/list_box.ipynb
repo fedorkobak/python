{
 "cells": [
  {
   "cell_type": "markdown",
   "id": "8c50de8a-707b-4f17-9c4b-88a648ac845e",
   "metadata": {},
   "source": [
    "**Виджет `Listbox` из библиотеки `tkinter`**"
   ]
  },
  {
   "cell_type": "markdown",
   "id": "f69a7217-be7f-49f1-b7d7-46193f9a9ee1",
   "metadata": {},
   "source": [
    "# Источники\n",
    "\n",
    "- файл предоставленный на курсах от belhard по программированию на python (см. в тойже папке, в которой лежит этот `.ipynb`);"
   ]
  },
  {
   "cell_type": "markdown",
   "id": "757704cc-9ee6-47d0-91b8-21cda826b081",
   "metadata": {},
   "source": [
    "# Содержание\n",
    "\n",
    "1. [Методы](#1);\n",
    "    1. [`insert`](#1.A) вставка элементов в `Listbox`;\n",
    "    2. [`get`](#1.B) получение элементов из `Listbox`;\n",
    "    3. [`delete`](#1.C) удаление элементо из `Listbox`;\n",
    "    4. [`curselection`](#1.D) \n",
    "2. [Поля](#2)."
   ]
  },
  {
   "cell_type": "markdown",
   "id": "1cf9536f-bf4c-4f8e-b664-a78a8524127a",
   "metadata": {
    "tags": []
   },
   "source": [
    "# Подготовка\n",
    "\n"
   ]
  },
  {
   "cell_type": "code",
   "execution_count": 37,
   "id": "a304d1f3-958f-4a89-ad30-14472a610e71",
   "metadata": {},
   "outputs": [],
   "source": [
    "from tkinter import *\n",
    "\n",
    "def get_l_box():\n",
    "    '''\n",
    "        Для того, чтобы кратко создавать окно с `Listbox` внутри сделал функию.\n",
    "    '''\n",
    "    root = Tk()\n",
    "\n",
    "    lst_box = Listbox()\n",
    "    lst_box.pack()\n",
    "\n",
    "    return root, lst_box\n",
    "\n",
    "def insert_123(lst_box):\n",
    "    '''\n",
    "        Для быстрой вставки\n",
    "        one\n",
    "        two \n",
    "        three\n",
    "        в переданный listbox\n",
    "    '''\n",
    "    for i in (\"one\", \"two\", \"three\"):\n",
    "        lst_box.insert(0, i)"
   ]
  },
  {
   "cell_type": "markdown",
   "id": "daa9a810-7b47-4fb5-91bf-a1022af360ad",
   "metadata": {},
   "source": [
    "# <a id='1'>Методы</a>"
   ]
  },
  {
   "cell_type": "markdown",
   "id": "ac7f5465-8d93-475d-af10-cfa0b84abe81",
   "metadata": {
    "tags": []
   },
   "source": [
    "### <a id=\"1.A\">`insert`</a>\n",
    "Производит вставку элементов в `Listbox`\n",
    "\n",
    "Агрументы:\n",
    "\n",
    "- Идекс вставки;"
   ]
  },
  {
   "cell_type": "code",
   "execution_count": 20,
   "id": "4430518d-7c71-4026-8b7c-e7726b85e801",
   "metadata": {},
   "outputs": [],
   "source": [
    "root, lst_box = get_l_box()\n",
    "\n",
    "for i in (\"one\", \"two\", \"three\"):\n",
    "    lst_box.insert(0, i)\n",
    "    \n",
    "root.mainloop()"
   ]
  },
  {
   "cell_type": "markdown",
   "id": "56b30ca7-7bca-43ba-b6eb-e30ac2d05c99",
   "metadata": {},
   "source": [
    "<img src=\"listbox_insert.png\">"
   ]
  },
  {
   "cell_type": "markdown",
   "id": "6bce5c9f-d1af-4506-a69b-a27769ee64dc",
   "metadata": {
    "tags": []
   },
   "source": [
    "### <a id=\"1.B\">`get`</a>\n",
    "\n",
    "Производит извлечение элементов из `Listbox`\n",
    "\n",
    "Аргументы для извлечения одного элемента:\n",
    "\n",
    "- индекс или срез извлекаемых элементов;"
   ]
  },
  {
   "cell_type": "code",
   "execution_count": 38,
   "id": "4c6a2de9-63aa-49bf-b49b-e67665160843",
   "metadata": {},
   "outputs": [
    {
     "name": "stdout",
     "output_type": "stream",
     "text": [
      "Извлечение из индекса '1' two\n"
     ]
    }
   ],
   "source": [
    "root, lst_box = get_l_box()\n",
    "insert_123(lst_box)\n",
    "    \n",
    "print(\"Извлечение из индекса '1'\", lst_box.get(1))\n",
    "\n",
    "root.mainloop()"
   ]
  },
  {
   "cell_type": "markdown",
   "id": "596465fc-d15d-48b0-823b-9b62ea83811b",
   "metadata": {},
   "source": [
    "Аргументы для извлечения слеза:\n",
    "\n",
    "1. первый индекс среза;\n",
    "2. последний индекс среза."
   ]
  },
  {
   "cell_type": "code",
   "execution_count": 39,
   "id": "b79b22b5-3e9c-4ad2-a28e-d44a1c707647",
   "metadata": {},
   "outputs": [
    {
     "name": "stdout",
     "output_type": "stream",
     "text": [
      "Извлечение среза с от 0 до 1 ('three', 'two')\n"
     ]
    }
   ],
   "source": [
    "root, lst_box = get_l_box()\n",
    "insert_123(lst_box)\n",
    "    \n",
    "print(\"Извлечение среза с от 0 до 1\", lst_box.get(0,1))\n",
    "\n",
    "root.mainloop()"
   ]
  },
  {
   "cell_type": "markdown",
   "id": "0e5338ab-d2aa-4b0c-9dcd-000aaca56340",
   "metadata": {
    "jp-MarkdownHeadingCollapsed": true,
    "tags": []
   },
   "source": [
    "### <a id=\"1.C\">`delete`</a>\n",
    "\n",
    "Производит удаление по индексу или срезу.\n",
    "\n",
    "Аргументы для удаления по индексу:\n",
    "\n",
    "1. Индекс удаляемого элемента."
   ]
  },
  {
   "cell_type": "code",
   "execution_count": 40,
   "id": "231e15b0-6fab-4c77-a93d-714555bcf39f",
   "metadata": {},
   "outputs": [],
   "source": [
    "root, lst_box = get_l_box()\n",
    "insert_123(lst_box)\n",
    "    \n",
    "lst_box.delete(2)\n",
    "\n",
    "root.mainloop()"
   ]
  },
  {
   "cell_type": "markdown",
   "id": "a86cc938-cf51-4df1-a6bc-8925c182831e",
   "metadata": {},
   "source": [
    "<img src=\"listbox_delete_index.png\">"
   ]
  },
  {
   "cell_type": "markdown",
   "id": "7e0435e1-5dc7-4fc6-9162-12f13156b263",
   "metadata": {},
   "source": [
    "Аргументы для удаления среза:\n",
    "\n",
    "1. первый индекс среза;\n",
    "2. последний индекс среза."
   ]
  },
  {
   "cell_type": "code",
   "execution_count": 41,
   "id": "08ad1a5b-d3f5-42d4-a040-6ea657fd99e5",
   "metadata": {},
   "outputs": [],
   "source": [
    "root, lst_box = get_l_box()\n",
    "insert_123(lst_box)\n",
    "    \n",
    "lst_box.delete(1,2)\n",
    "\n",
    "root.mainloop()"
   ]
  },
  {
   "cell_type": "markdown",
   "id": "45d9bc11-129a-4283-ad6c-598facd261b9",
   "metadata": {},
   "source": [
    "<img src=\"listbox_delete_slice.png\">"
   ]
  },
  {
   "cell_type": "markdown",
   "id": "0c85911e-8aff-49fd-a7ce-886bdaef502e",
   "metadata": {},
   "source": [
    "### <a id=\"1.C\">`curselection`</a>\n",
    "\n",
    "Получение в виде картежа выделенных индексов."
   ]
  },
  {
   "cell_type": "code",
   "execution_count": 48,
   "id": "92e96a7c-3932-4871-a629-3522d58bb538",
   "metadata": {},
   "outputs": [],
   "source": [
    "root, lst_box = get_l_box()\n",
    "insert_123(lst_box)\n",
    "lst_box[\"selectmode\"] = EXTENDED\n",
    "\n",
    "def print_sel_ind():\n",
    "    sel_lab[\"text\"] = lst_box.curselection()\n",
    "\n",
    "Button(\n",
    "    text = \"Вывести индексы\",\n",
    "    command = print_sel_ind\n",
    ").pack()\n",
    "\n",
    "sel_lab = Label()\n",
    "sel_lab.pack()\n",
    "\n",
    "root.mainloop()"
   ]
  },
  {
   "cell_type": "markdown",
   "id": "fc3522ff-b281-42bd-8e82-0111cff0b69f",
   "metadata": {},
   "source": [
    "<img src=\"list_box_curselection.png\">"
   ]
  },
  {
   "cell_type": "markdown",
   "id": "3b6cc54b-9425-47d8-b7fe-8086c7edf7f0",
   "metadata": {},
   "source": [
    "# <a id=\"2\">Поля</a>"
   ]
  },
  {
   "cell_type": "markdown",
   "id": "2fad3e68-db02-4496-901e-e0f5edff4def",
   "metadata": {},
   "source": [
    "### `selectmode`\n",
    "\n",
    "Определяет будет доступен ли множествнный выбор. В следующем примере создаются 2, `ListBox` в одном из которых доступен множественный выбор во втором нет."
   ]
  },
  {
   "cell_type": "code",
   "execution_count": 23,
   "id": "e9764df0-9fcf-47a3-a746-595468040556",
   "metadata": {},
   "outputs": [],
   "source": [
    "root, lst_box1 = get_l_box()\n",
    "lst_box2 = Listbox(selectmode = EXTENDED)\n",
    "lst_box2.pack()\n",
    "\n",
    "for i in (\"one\", \"two\", \"three\"):\n",
    "    lst_box1.insert(0, i)\n",
    "    lst_box2.insert(0,i)\n",
    "\n",
    "root.mainloop()"
   ]
  }
 ],
 "metadata": {
  "kernelspec": {
   "display_name": "Python 3 (ipykernel)",
   "language": "python",
   "name": "python3"
  },
  "language_info": {
   "codemirror_mode": {
    "name": "ipython",
    "version": 3
   },
   "file_extension": ".py",
   "mimetype": "text/x-python",
   "name": "python",
   "nbconvert_exporter": "python",
   "pygments_lexer": "ipython3",
   "version": "3.10.12"
  }
 },
 "nbformat": 4,
 "nbformat_minor": 5
}
