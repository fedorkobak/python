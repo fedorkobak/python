{
 "cells": [
  {
   "cell_type": "markdown",
   "id": "6c47ad72-5751-4f7c-ba34-3e692451b47d",
   "metadata": {},
   "source": [
    "# Scrolling\n",
    "\n",
    "This page focuses on describing tricks for implementing scrolling with tkinter. There are three elements in tkinter that support scrolling: `tkinter.Text`, `tkinter.Listbox`, `tkinter.ttk.Treeview`, `tkinter.ttk.Canvas`. And there is `tkinter.Scrollbar`, which implements a corresponding interface element to handle scrolling."
   ]
  },
  {
   "cell_type": "code",
   "execution_count": 1,
   "id": "41f92104-4e24-4e65-905e-ade0d5d6b527",
   "metadata": {},
   "outputs": [],
   "source": [
    "import os\n",
    "from pathlib import Path\n",
    "\n",
    "import numpy as np\n",
    "import tkinter as tk\n",
    "\n",
    "os.chdir(str(Path(os.getcwd()).parent))\n",
    "from tkinter_files.screenshot import take_screenshot"
   ]
  },
  {
   "cell_type": "markdown",
   "id": "ac3e70a6-633d-4f63-b7e6-8a56b708758f",
   "metadata": {},
   "source": [
    "## Binds\n",
    "\n",
    "Binding to a scrolling event is a bit complicated. Because certain name of the event is system dependent."
   ]
  },
  {
   "cell_type": "markdown",
   "id": "581a0405-9244-49a5-8688-f26908c4ea0e",
   "metadata": {},
   "source": [
    "The following example works on Linux - just use `<Button-4>` to scroll up and `<Button-5>` to scroll down. See this stack overflow step to see what to do on Mac or Windows. Here is a program that counts down and up scrolls and displays them on the labels."
   ]
  },
  {
   "cell_type": "code",
   "execution_count": 9,
   "id": "4d5a9764-be54-4785-874a-6a191d5a7a7f",
   "metadata": {},
   "outputs": [],
   "source": [
    "root = tk.Tk()\n",
    "\n",
    "up_scrolls_label = tk.Label(text=\"Up scrolls 0\")\n",
    "up_scrolls_label.pack()\n",
    "down_scrolls_label = tk.Label(text=\"Down scrolls 0\")\n",
    "down_scrolls_label.pack()\n",
    "\n",
    "up_counter = 0\n",
    "down_counter = 0\n",
    "\n",
    "def up_count(event):\n",
    "    global up_counter\n",
    "    up_scrolls_label.config(text=f\"Up scrolls value {up_counter}\")\n",
    "    up_counter += 1\n",
    "\n",
    "def down_count(event):\n",
    "    global down_counter\n",
    "    down_scrolls_label.config(text=f\"Down Scrolls value {down_counter}\")\n",
    "    down_counter += 1\n",
    "\n",
    "lb = tk.Listbox(root)\n",
    "lb.pack()\n",
    "lb.bind(\"<Button-4>\", up_count)\n",
    "lb.bind(\"<Button-5>\", down_count)\n",
    "\n",
    "for i in range(100):\n",
    "    lb.insert(tk.END, \"This is line number \" + str(i))\n",
    "\n",
    "root.mainloop()"
   ]
  },
  {
   "cell_type": "markdown",
   "id": "6794945e-e844-4b95-a589-ca2ba6d5acd1",
   "metadata": {},
   "source": [
    "## Attachment to the objects\n",
    "\n",
    "When you add a scrollbar, you will probably want to use it to scroll something. So here we will discuss the options you need to add to be able to scroll items."
   ]
  },
  {
   "cell_type": "markdown",
   "id": "361a9f8a-95d1-437f-968f-672dd5918ff8",
   "metadata": {},
   "source": [
    "### `set` method\n",
    "\n",
    "The `set` method allows you to set the position of the scroll bar. It takes two arguments, `start` and `stop`, both of which take values from 0 to 1. The following example shows a set of scrollbars with different `set` arguments."
   ]
  },
  {
   "cell_type": "code",
   "execution_count": 2,
   "id": "4c2cfe7a-f1e3-4b97-a274-3dfc13b41c29",
   "metadata": {},
   "outputs": [
    {
     "data": {
      "image/png": "[encoded data removed]",
      "text/plain": [
       "<PIL.Image.Image image mode=RGBA size=500x200 at 0x765CA20F1270>"
      ]
     },
     "metadata": {},
     "output_type": "display_data"
    }
   ],
   "source": [
    "root = tk.Tk()\n",
    "root.geometry(\"500x200\")\n",
    "\n",
    "for i in np.linspace(0,0.5,30):\n",
    "    scrollbar = tk.Scrollbar(root)\n",
    "    scrollbar.pack(expand=True, fill=tk.Y,side=\"left\")\n",
    "    scrollbar.set(0.5-i,0.5+i)\n",
    "\n",
    "root.after(200, take_screenshot, root)\n",
    "root.mainloop()"
   ]
  },
  {
   "cell_type": "markdown",
   "id": "42a2e658-3d6c-442c-b004-ecaaaabae436",
   "metadata": {},
   "source": [
    "The mail purpose of this method is to be able to pass it as an `yscrollcommand` parameter to some other objects. So scrolling these elements will cause the scrollbar's traveller to move."
   ]
  },
  {
   "cell_type": "markdown",
   "id": "7ab32cdf-ac0a-4724-b1d3-c8a323038459",
   "metadata": {},
   "source": [
    "In the following example, the scrollbar was linked to the list box. The listbox was scrolled to `0.3` - and the traveller followed it. But the traveller's movements don't affect the listbox in any way."
   ]
  },
  {
   "cell_type": "code",
   "execution_count": 7,
   "id": "d79ddcde-e99a-4380-b93d-cfd6fc859036",
   "metadata": {},
   "outputs": [
    {
     "data": {
      "image/png": "[encoded data removed]",
      "text/plain": [
       "<PIL.Image.Image image mode=RGBA size=177x184 at 0x765CA02D8C40>"
      ]
     },
     "metadata": {},
     "output_type": "display_data"
    }
   ],
   "source": [
    "root = tk.Tk()\n",
    "scrollbar = tk.Scrollbar(root)\n",
    "scrollbar.pack(side = tk.RIGHT, fill=tk.Y)\n",
    "\n",
    "mylist = tk.Listbox(root, yscrollcommand = scrollbar.set)\n",
    "for line in range(100):\n",
    "   mylist.insert(tk.END, \"This is line number \" + str(line))\n",
    "mylist.yview_moveto(0.3)\n",
    "mylist.pack()\n",
    "\n",
    "root.after(200, take_screenshot, root)\n",
    "root.mainloop()"
   ]
  },
  {
   "cell_type": "markdown",
   "id": "c45bd5a7-a24c-4d95-96cf-c71596ed92b0",
   "metadata": {},
   "source": [
    "### `command` attibute\n",
    "\n",
    "You can set `command` using `scrollbar.config(command = <object>.yview)` so that moving the scrollbar with the mouse will cause the bound object to move."
   ]
  },
  {
   "cell_type": "markdown",
   "id": "9377a23e-cd26-4dbd-a657-c29fdbd2a201",
   "metadata": {},
   "source": [
    "To better understand how it works, let's set up a custom function as a `command`. It will wrap `yview` of some `Listbox` and additionally increment and display coutner every time it is called - so we can be sure that our function was called."
   ]
  },
  {
   "cell_type": "code",
   "execution_count": 29,
   "id": "64ce8440-99dc-4e39-9167-77d6ee0dcd21",
   "metadata": {},
   "outputs": [],
   "source": [
    "root = tk.Tk()\n",
    "\n",
    "scrolls_number = 0\n",
    "label = tk.Label(root, text=f\"Number of scrolls - {scrolls_nubmer}\")\n",
    "label.pack()\n",
    "\n",
    "scrollbar = tk.Scrollbar(root)\n",
    "scrollbar.pack(side = tk.RIGHT, fill=tk.Y)\n",
    "\n",
    "mylist = tk.Listbox(root, yscrollcommand = scrollbar.set)\n",
    "for line in range(100):\n",
    "   mylist.insert(tk.END, \"This is line number \" + str(line))\n",
    "mylist.pack(side = tk.LEFT, fill = tk.BOTH )\n",
    "\n",
    "def scrollbar_command(*args):\n",
    "    \n",
    "    mylist.yview(*args)\n",
    "\n",
    "    global scrolls_number\n",
    "    scrolls_number += 1\n",
    "    label.config(text=f\"Number of scrolls - {scrolls_number}\")\n",
    "\n",
    "#scrollbar.config(command = mylist.yview)\n",
    "scrollbar.config(command = scrollbar_command)\n",
    "\n",
    "root.mainloop()"
   ]
  }
 ],
 "metadata": {
  "kernelspec": {
   "display_name": "Python 3 (ipykernel)",
   "language": "python",
   "name": "python3"
  },
  "language_info": {
   "codemirror_mode": {
    "name": "ipython",
    "version": 3
   },
   "file_extension": ".py",
   "mimetype": "text/x-python",
   "name": "python",
   "nbconvert_exporter": "python",
   "pygments_lexer": "ipython3",
   "version": "3.10.14"
  }
 },
 "nbformat": 4,
 "nbformat_minor": 5
}
