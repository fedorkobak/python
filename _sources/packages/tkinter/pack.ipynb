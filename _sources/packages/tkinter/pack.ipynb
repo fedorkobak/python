{
 "cells": [
  {
   "cell_type": "markdown",
   "id": "b7b723cd-c71d-4774-8658-4b8e1566a577",
   "metadata": {},
   "source": [
    "# Pack\n",
    "\n",
    "In Tkinter, the `pack()` method is a geometry manager provided by the Frame and Tk (root) widgets. It is used to organize and position widgets within a container using a packing algorithm. The `pack()` method arranges widgets in a one-dimensional manner, either horizontally or vertically, filling the available space.\n",
    "\n",
    "This page focuses on its features."
   ]
  },
  {
   "cell_type": "code",
   "execution_count": 9,
   "id": "aa1985b2-e820-42d4-860c-4fcc57fa973a",
   "metadata": {},
   "outputs": [],
   "source": [
    "import os\n",
    "from pathlib import Path\n",
    "os.chdir(str(Path(os.getcwd()).parent))\n",
    "\n",
    "import tkinter as tk\n",
    "from tkinter import ttk\n",
    "from tkinter_files.screenshot import take_screenshot"
   ]
  },
  {
   "cell_type": "markdown",
   "id": "8eb421a4-a988-478d-b4dc-3cbe8ea49356",
   "metadata": {},
   "source": [
    "## side\n",
    "\n",
    "The side parameter in the `pack()` method of widgets is used to specify the side or edge of the container where a widget should be packed. It determines the direction in which widgets are arranged within the available space."
   ]
  },
  {
   "cell_type": "markdown",
   "id": "25256381-6808-42e7-9019-640a7faad9be",
   "metadata": {},
   "source": [
    "Possible options are `tk.LEFT`, `tk.TOP`, `tk.RIGHT` and `tk.BOTTOM`. The behaviour of objects added using all these arguments is described in the following example."
   ]
  },
  {
   "cell_type": "code",
   "execution_count": 32,
   "id": "da17074d-0165-4e30-a912-af5011ab2e9c",
   "metadata": {},
   "outputs": [
    {
     "data": {
      "image/png": "[encoded data removed]",
      "text/plain": [
       "<PIL.Image.Image image mode=RGBA size=250x250 at 0x7394019BA7D0>"
      ]
     },
     "metadata": {},
     "output_type": "display_data"
    }
   ],
   "source": [
    "root = tk.Tk()\n",
    "root.geometry(\"250x250\")\n",
    " \n",
    "btn1 = ttk.Button(text=\"BOTTOM\")\n",
    "btn1.pack(side=tk.BOTTOM)\n",
    " \n",
    "btn2 = ttk.Button(text=\"RIGHT\")\n",
    "btn2.pack(side=tk.RIGHT)\n",
    " \n",
    "btn3 = ttk.Button(text=\"LEFT\")\n",
    "btn3.pack(side=tk.LEFT)\n",
    " \n",
    "btn4 = ttk.Button(text=\"TOP\")\n",
    "btn4.pack(side=tk.TOP)\n",
    "\n",
    "root.after(200, take_screenshot, root)\n",
    "root.mainloop()"
   ]
  }
 ],
 "metadata": {
  "kernelspec": {
   "display_name": "Python 3 (ipykernel)",
   "language": "python",
   "name": "python3"
  },
  "language_info": {
   "codemirror_mode": {
    "name": "ipython",
    "version": 3
   },
   "file_extension": ".py",
   "mimetype": "text/x-python",
   "name": "python",
   "nbconvert_exporter": "python",
   "pygments_lexer": "ipython3",
   "version": "3.10.12"
  }
 },
 "nbformat": 4,
 "nbformat_minor": 5
}
