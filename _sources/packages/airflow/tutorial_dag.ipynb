{
 "cells": [
  {
   "cell_type": "markdown",
   "id": "c387f34a-db5d-4c7c-b394-254b78bbc5fc",
   "metadata": {},
   "source": [
    "# Tutorial DAG\n",
    "\n",
    "Using this jupyter notebook you can run DAG from <a href=\"https://airflow.apache.org/docs/apache-airflow/stable/tutorial/fundamentals.html\">this</a> example."
   ]
  },
  {
   "cell_type": "markdown",
   "id": "908b8dc1-e289-41c8-8223-7599d84c3768",
   "metadata": {},
   "source": [
    "## DAG code\n",
    "\n",
    "The following is the DAG code that we just copied from the example into the prepared folder."
   ]
  },
  {
   "cell_type": "code",
   "execution_count": 1,
   "id": "403fca1b-a926-4600-9351-a7302c07a6f0",
   "metadata": {},
   "outputs": [
    {
     "name": "stdout",
     "output_type": "stream",
     "text": [
      "Overwriting tutorial_dag/tutorial_dug.py\n"
     ]
    }
   ],
   "source": [
    "%%writefile tutorial_dag/tutorial_dug.py\n",
    "\n",
    "from datetime import datetime, timedelta\n",
    "from textwrap import dedent\n",
    "\n",
    "# The DAG object; we'll need this to instantiate a DAG\n",
    "from airflow import DAG\n",
    "\n",
    "# Operators; we need this to operate!\n",
    "from airflow.operators.bash import BashOperator\n",
    "with DAG(\n",
    "    \"tutorial\",\n",
    "    # These args will get passed on to each operator\n",
    "    # You can override them on a per-task basis during operator initialization\n",
    "    default_args={\n",
    "        \"depends_on_past\": False,\n",
    "        \"email\": [\"airflow@example.com\"],\n",
    "        \"email_on_failure\": False,\n",
    "        \"email_on_retry\": False,\n",
    "        \"retries\": 1,\n",
    "        \"retry_delay\": timedelta(minutes=5),\n",
    "        # 'queue': 'bash_queue',\n",
    "        # 'pool': 'backfill',\n",
    "        # 'priority_weight': 10,\n",
    "        # 'end_date': datetime(2016, 1, 1),\n",
    "        # 'wait_for_downstream': False,\n",
    "        # 'sla': timedelta(hours=2),\n",
    "        # 'execution_timeout': timedelta(seconds=300),\n",
    "        # 'on_failure_callback': some_function, # or list of functions\n",
    "        # 'on_success_callback': some_other_function, # or list of functions\n",
    "        # 'on_retry_callback': another_function, # or list of functions\n",
    "        # 'sla_miss_callback': yet_another_function, # or list of functions\n",
    "        # 'trigger_rule': 'all_success'\n",
    "    },\n",
    "    description=\"A simple tutorial DAG\",\n",
    "    schedule=timedelta(days=1),\n",
    "    start_date=datetime(2021, 1, 1),\n",
    "    catchup=False,\n",
    "    tags=[\"example\"],\n",
    ") as dag:\n",
    "\n",
    "    # t1, t2 and t3 are examples of tasks created by instantiating operators\n",
    "    t1 = BashOperator(\n",
    "        task_id=\"print_date\",\n",
    "        bash_command=\"date\",\n",
    "    )\n",
    "\n",
    "    t2 = BashOperator(\n",
    "        task_id=\"sleep\",\n",
    "        depends_on_past=False,\n",
    "        bash_command=\"sleep 5\",\n",
    "        retries=3,\n",
    "    )\n",
    "    t1.doc_md = dedent(\n",
    "        \"\"\"\\\n",
    "    #### Task Documentation\n",
    "    You can document your task using the attributes `doc_md` (markdown),\n",
    "    `doc` (plain text), `doc_rst`, `doc_json`, `doc_yaml` which gets\n",
    "    rendered in the UI's Task Instance Details page.\n",
    "    ![img](http://montcs.bloomu.edu/~bobmon/Semesters/2012-01/491/import%20soul.png)\n",
    "    **Image Credit:** Randall Munroe, [XKCD](https://xkcd.com/license.html)\n",
    "    \"\"\"\n",
    "    )\n",
    "\n",
    "    dag.doc_md = __doc__  # providing that you have a docstring at the beginning of the DAG; OR\n",
    "    dag.doc_md = \"\"\"\n",
    "    This is a documentation placed anywhere\n",
    "    \"\"\"  # otherwise, type it like this\n",
    "    templated_command = dedent(\n",
    "        \"\"\"\n",
    "    {% for i in range(5) %}\n",
    "        echo \"{{ ds }}\"\n",
    "        echo \"{{ macros.ds_add(ds, 7)}}\"\n",
    "    {% endfor %}\n",
    "    \"\"\"\n",
    "    )\n",
    "\n",
    "    t3 = BashOperator(\n",
    "        task_id=\"templated\",\n",
    "        depends_on_past=False,\n",
    "        bash_command=templated_command,\n",
    "    )\n",
    "\n",
    "    t1 >> [t2, t3]"
   ]
  },
  {
   "cell_type": "markdown",
   "id": "58743bf7-a6e2-483c-bdaa-9d4ba02828f3",
   "metadata": {},
   "source": [
    "## Container"
   ]
  },
  {
   "cell_type": "markdown",
   "id": "98b9582f-d5be-4222-9b76-2a469ea70c47",
   "metadata": {},
   "source": [
    "By running the following cell you start an instance of ariflow with the prepared example dug in."
   ]
  },
  {
   "cell_type": "code",
   "execution_count": 2,
   "id": "01c5e431-6730-476d-a4d5-f1178c9a995b",
   "metadata": {},
   "outputs": [],
   "source": [
    "!docker run -itd --rm\\\n",
    "    --name tutorial_dag\\\n",
    "    -p 8080:8080\\\n",
    "    -v ./tutorial_dag:/root/airflow/dags\\\n",
    "    airflow_tests &> /dev/null"
   ]
  },
  {
   "cell_type": "markdown",
   "id": "9de4cd57-cdcb-4074-ba6b-2948f8425f53",
   "metadata": {},
   "source": [
    "Let's check that the tutorial dag has been added to the airflow."
   ]
  },
  {
   "cell_type": "code",
   "execution_count": 3,
   "id": "ddc2c06a-d58a-4c3b-875b-4430e3b6f3bf",
   "metadata": {},
   "outputs": [
    {
     "name": "stdout",
     "output_type": "stream",
     "text": [
      "dag_id   | filepath        | owner   | paused\n",
      "=========+=================+=========+=======\n",
      "tutorial | tutorial_dug.py | airflow | True  \n",
      "                                             \n"
     ]
    }
   ],
   "source": [
    "!docker exec tutorial_dag airflow dags list"
   ]
  },
  {
   "cell_type": "markdown",
   "id": "fdb99cef-51f0-4fa5-bb6f-7859dd7f7b90",
   "metadata": {},
   "source": [
    "**Don't forget** to stop the container when you have finished playing with the example."
   ]
  },
  {
   "cell_type": "code",
   "execution_count": 1,
   "id": "56d3e63e-1802-4187-adf3-190663ec28f0",
   "metadata": {},
   "outputs": [],
   "source": [
    "!docker stop tutorial_dag &> /dev/null"
   ]
  },
  {
   "cell_type": "markdown",
   "id": "e91812a1-7f6c-4e99-9f8d-4629d75236e4",
   "metadata": {},
   "source": [
    "## Test task\n",
    "\n",
    "By using the command `airflow tasks test` you can execute the task and get it's output just in terminal. Like in the example below.\n",
    "\n",
    "**None** For some unknown reason, the first execution of this command causes a Python error. This shouldn't affect us for now - the logs are fine, but I need to look into it more."
   ]
  },
  {
   "cell_type": "code",
   "execution_count": 5,
   "id": "2d46a9c5-0ca5-421c-b368-8cee9bec9f14",
   "metadata": {},
   "outputs": [
    {
     "name": "stdout",
     "output_type": "stream",
     "text": [
      "=====test=====\n",
      "[\u001b[34m2023-09-24T13:00:55.874+0000\u001b[0m] {\u001b[34mdagbag.py:\u001b[0m539} INFO\u001b[0m - Filling up the DagBag from /root/airflow/dags\u001b[0m\n",
      "[\u001b[34m2023-09-24T13:00:55.986+0000\u001b[0m] {\u001b[34mtaskinstance.py:\u001b[0m1157} INFO\u001b[0m - Dependencies all met for dep_context=non-requeueable deps ti=<TaskInstance: tutorial.print_date __airflow_temporary_run_2023-09-24T13:00:44.709050+00:00__ [None]>\u001b[0m\n",
      "[\u001b[34m2023-09-24T13:00:55.990+0000\u001b[0m] {\u001b[34mtaskinstance.py:\u001b[0m1157} INFO\u001b[0m - Dependencies all met for dep_context=requeueable deps ti=<TaskInstance: tutorial.print_date __airflow_temporary_run_2023-09-24T13:00:44.709050+00:00__ [None]>\u001b[0m\n",
      "[\u001b[34m2023-09-24T13:00:55.990+0000\u001b[0m] {\u001b[34mtaskinstance.py:\u001b[0m1359} INFO\u001b[0m - Starting attempt 1 of 2\u001b[0m\n",
      "[\u001b[34m2023-09-24T13:00:55.990+0000\u001b[0m] {\u001b[34mtaskinstance.py:\u001b[0m1428} WARNING\u001b[0m - cannot record queued_duration for task print_date because previous state change time has not been saved\u001b[0m\n",
      "[\u001b[34m2023-09-24T13:00:55.991+0000\u001b[0m] {\u001b[34mtaskinstance.py:\u001b[0m1380} INFO\u001b[0m - Executing <Task(BashOperator): print_date> on 2015-06-01 00:00:00+00:00\u001b[0m\n",
      "[\u001b[34m2023-09-24T13:00:56.017+0000\u001b[0m] {\u001b[34mtaskinstance.py:\u001b[0m1660} INFO\u001b[0m - Exporting env vars: AIRFLOW_CTX_DAG_EMAIL='airflow@example.com' AIRFLOW_CTX_DAG_OWNER='airflow' AIRFLOW_CTX_DAG_ID='tutorial' AIRFLOW_CTX_TASK_ID='print_date' AIRFLOW_CTX_EXECUTION_DATE='2015-06-01T00:00:00+00:00' AIRFLOW_CTX_TRY_NUMBER='1' AIRFLOW_CTX_DAG_RUN_ID='__airflow_temporary_run_2023-09-24T13:00:44.709050+00:00__'\u001b[0m\n",
      "[\u001b[34m2023-09-24T13:00:56.019+0000\u001b[0m] {\u001b[34msubprocess.py:\u001b[0m63} INFO\u001b[0m - Tmp dir root location: /tmp\u001b[0m\n",
      "[\u001b[34m2023-09-24T13:00:56.020+0000\u001b[0m] {\u001b[34msubprocess.py:\u001b[0m75} INFO\u001b[0m - Running command: ['/usr/bin/bash', '-c', 'date']\u001b[0m\n",
      "[\u001b[34m2023-09-24T13:00:56.027+0000\u001b[0m] {\u001b[34msubprocess.py:\u001b[0m86} INFO\u001b[0m - Output:\u001b[0m\n",
      "[\u001b[34m2023-09-24T13:00:56.028+0000\u001b[0m] {\u001b[34msubprocess.py:\u001b[0m93} INFO\u001b[0m - Sun Sep 24 13:00:56 UTC 2023\u001b[0m\n",
      "[\u001b[34m2023-09-24T13:00:56.028+0000\u001b[0m] {\u001b[34msubprocess.py:\u001b[0m97} INFO\u001b[0m - Command exited with return code 0\u001b[0m\n",
      "[\u001b[34m2023-09-24T13:00:56.043+0000\u001b[0m] {\u001b[34mtaskinstance.py:\u001b[0m1398} INFO\u001b[0m - Marking task as SUCCESS. dag_id=tutorial, task_id=print_date, execution_date=20150601T000000, start_date=, end_date=20230924T130056\u001b[0m\n"
     ]
    }
   ],
   "source": [
    "%%bash\n",
    "echo \"=====test=====\"\n",
    "docker exec tutorial_dag airflow tasks test tutorial print_date 2015-06-01"
   ]
  }
 ],
 "metadata": {
  "kernelspec": {
   "display_name": "Python 3 (ipykernel)",
   "language": "python",
   "name": "python3"
  },
  "language_info": {
   "codemirror_mode": {
    "name": "ipython",
    "version": 3
   },
   "file_extension": ".py",
   "mimetype": "text/x-python",
   "name": "python",
   "nbconvert_exporter": "python",
   "pygments_lexer": "ipython3",
   "version": "3.10.6"
  }
 },
 "nbformat": 4,
 "nbformat_minor": 5
}
