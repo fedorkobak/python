{
 "cells": [
  {
   "cell_type": "markdown",
   "id": "cfe9cf28-ebb6-4425-91bc-78ac097f18e4",
   "metadata": {},
   "source": [
    "# Numpy\n",
    "\n",
    "Numpy is a library that brings array operations to Python. This page focuses on key library concepts."
   ]
  },
  {
   "cell_type": "code",
   "execution_count": 1,
   "id": "f85cdcd7-e71d-42eb-bee9-c1b4c6778e7a",
   "metadata": {},
   "outputs": [],
   "source": [
    "import numpy as np\n",
    "from IPython.display import HTML\n",
    "header_template = \"<text style='font-size:20px'>{}</text>\""
   ]
  },
  {
   "cell_type": "markdown",
   "id": "8c5a8489-4ee2-462f-923e-3c7d48aaa4b4",
   "metadata": {},
   "source": [
    "## Axis\n",
    "\n",
    "Array nesting is a numpy feature. Each level of nesting has a different number, starting from the outermost to the innermost. "
   ]
  },
  {
   "cell_type": "markdown",
   "id": "cba6d75d-e411-4624-ab93-d4174db94226",
   "metadata": {},
   "source": [
    "### Description\n",
    "\n",
    "The following cell shows the array form of 3 arrays, each having two arrays each having 4 elements:"
   ]
  },
  {
   "cell_type": "code",
   "execution_count": 8,
   "id": "310f4c5c-d489-4923-af87-169e6b3fff2d",
   "metadata": {},
   "outputs": [
    {
     "data": {
      "text/plain": [
       "(3, 2, 4)"
      ]
     },
     "execution_count": 8,
     "metadata": {},
     "output_type": "execute_result"
    }
   ],
   "source": [
    "arr = np.array([\n",
    "    [\n",
    "        [1,2,3,4],\n",
    "        [3,3,2,1]\n",
    "    ],\n",
    "    [\n",
    "        [3,2,1,3],\n",
    "        [5,3,2,1]\n",
    "    ],\n",
    "    [\n",
    "        [3,2,1,3],\n",
    "        [5,3,2,1]\n",
    "    ]\n",
    "])\n",
    "arr.shape"
   ]
  },
  {
   "cell_type": "markdown",
   "id": "f56c401b-e40d-410c-8ca8-1f92737ce7a4",
   "metadata": {},
   "source": [
    "So the position on the shape corresponds to the axis:\n",
    "\n",
    "- axis 0 is the array of the two dimensional arrays;\n",
    "- axis 1 is the array of the one dimensional arrays;\n",
    "- axis 2 is the array of the end elements."
   ]
  },
  {
   "cell_type": "markdown",
   "id": "c7a9043e-7fbb-415c-abce-89361091afa4",
   "metadata": {},
   "source": [
    "### Aggregations\n",
    "\n",
    "There are many functions in numpy that somehow aggregate values along an axis - they usually take an `axis` argument. For example, we will consider the aggregation function `numpy.mean`."
   ]
  },
  {
   "cell_type": "markdown",
   "id": "91caf88c-6b30-48f0-9e43-2d7c0f7c3c6d",
   "metadata": {},
   "source": [
    "The following cell applies `np.mean` along all possible axes."
   ]
  },
  {
   "cell_type": "code",
   "execution_count": 21,
   "id": "ee0e8162-0909-4d4e-8ec5-a1b32bb3f919",
   "metadata": {},
   "outputs": [
    {
     "data": {
      "text/html": [
       "<text style='font-size:20px'>axis=0</text>"
      ],
      "text/plain": [
       "<IPython.core.display.HTML object>"
      ]
     },
     "metadata": {},
     "output_type": "display_data"
    },
    {
     "data": {
      "text/plain": [
       "array([[2.33333333, 2.        , 1.66666667, 3.33333333],\n",
       "       [4.33333333, 3.        , 2.        , 1.        ]])"
      ]
     },
     "metadata": {},
     "output_type": "display_data"
    },
    {
     "data": {
      "text/html": [
       "<text style='font-size:20px'>axis=1</text>"
      ],
      "text/plain": [
       "<IPython.core.display.HTML object>"
      ]
     },
     "metadata": {},
     "output_type": "display_data"
    },
    {
     "data": {
      "text/plain": [
       "array([[2. , 2.5, 2.5, 2.5],\n",
       "       [4. , 2.5, 1.5, 2. ],\n",
       "       [4. , 2.5, 1.5, 2. ]])"
      ]
     },
     "metadata": {},
     "output_type": "display_data"
    },
    {
     "data": {
      "text/html": [
       "<text style='font-size:20px'>axis=2</text>"
      ],
      "text/plain": [
       "<IPython.core.display.HTML object>"
      ]
     },
     "metadata": {},
     "output_type": "display_data"
    },
    {
     "data": {
      "text/plain": [
       "array([[2.5 , 2.25],\n",
       "       [2.25, 2.75],\n",
       "       [2.25, 2.75]])"
      ]
     },
     "metadata": {},
     "output_type": "display_data"
    }
   ],
   "source": [
    "arr = np.array([\n",
    "    [\n",
    "        [1,2,3,4],\n",
    "        [3,3,2,1]\n",
    "    ],\n",
    "    [\n",
    "        [3,2,1,3],\n",
    "        [5,3,2,1]\n",
    "    ],\n",
    "    [\n",
    "        [3,2,1,3],\n",
    "        [5,3,2,1]\n",
    "    ]\n",
    "])\n",
    "\n",
    "display(HTML(header_template.format(\"axis=0\")))\n",
    "display(np.mean(arr, axis=0))\n",
    "display(HTML(header_template.format(\"axis=1\")))\n",
    "display(np.mean(arr, axis=1))\n",
    "display(HTML(header_template.format(\"axis=2\")))\n",
    "display(np.mean(arr, axis=2))"
   ]
  },
  {
   "cell_type": "markdown",
   "id": "70366051-25d7-4bbf-b495-c80d092739e9",
   "metadata": {},
   "source": [
    "When aggregating along an axis using the np.mean function, we apply the function to all elements that have the same position on the other axes but vary along the specified axis. This means that for each set of elements aligned along the specified axis, the mean is computed and a single value is returned for that set, reducing the dimensionality of the array by one along the specified axis. So for:\n",
    "\n",
    "- `axis=0` output size is (2,4) (no zero axis).\n",
    "- `axis=1` output size is (3,4) (no one axis).\n",
    "- `axis=2` output size is (3,2) (no two axis)."
   ]
  },
  {
   "cell_type": "markdown",
   "id": "55be7048",
   "metadata": {},
   "source": [
    "## From function\n",
    "\n",
    "You can set a custom rule for creating a numpy array by using `np.fromfunction`. The first argument specifies a function that takes the index of the row and the index of the column and must return elements that typically depend on the indexes."
   ]
  },
  {
   "cell_type": "markdown",
   "id": "a157bb39",
   "metadata": {},
   "source": [
    "---\n",
    "\n",
    "The following cell shows the process of generating a sequential array using this method."
   ]
  },
  {
   "cell_type": "code",
   "execution_count": null,
   "id": "1f507e51",
   "metadata": {},
   "outputs": [
    {
     "data": {
      "text/plain": [
       "array([[ 0.,  1.,  2.,  3.],\n",
       "       [ 3.,  4.,  5.,  6.],\n",
       "       [ 6.,  7.,  8.,  9.],\n",
       "       [ 9., 10., 11., 12.]])"
      ]
     },
     "execution_count": 2,
     "metadata": {},
     "output_type": "execute_result"
    }
   ],
   "source": [
    "np.fromfunction(lambda i, j: i*3 + j, (4,4))"
   ]
  }
 ],
 "metadata": {
  "kernelspec": {
   "display_name": "python",
   "language": "python",
   "name": "python3"
  },
  "language_info": {
   "codemirror_mode": {
    "name": "ipython",
    "version": 3
   },
   "file_extension": ".py",
   "mimetype": "text/x-python",
   "name": "python",
   "nbconvert_exporter": "python",
   "pygments_lexer": "ipython3",
   "version": "3.12.9"
  }
 },
 "nbformat": 4,
 "nbformat_minor": 5
}
