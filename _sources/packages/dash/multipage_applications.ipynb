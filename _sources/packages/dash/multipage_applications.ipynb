{
 "cells": [
  {
   "cell_type": "markdown",
   "id": "175aa05e-1437-4fa0-bbcf-21bc7beab700",
   "metadata": {},
   "source": [
    "# Multipage applications\n",
    "\n",
    "Official information about creating multi-page applications in dash can be found <a href=\"https://dash.plotly.com/urls\">here</a>. In this page I just want to write down some of my experiments related to this feature."
   ]
  },
  {
   "cell_type": "markdown",
   "id": "5c2fadd2-11e7-47f8-930a-86c7c8841a41",
   "metadata": {},
   "source": [
    "## `dash.page_registry`\n",
    "\n",
    "`dash.page_registry` is a special dictionary that contains information about the pages in the current application. So in the following example an application with two pages has been created. `Page with button` has a special button that stores `dash.page_registry`."
   ]
  },
  {
   "cell_type": "code",
   "execution_count": 1,
   "id": "47ea771e-b00c-47d7-aab7-bbe56b5d8afa",
   "metadata": {},
   "outputs": [
    {
     "name": "stdout",
     "output_type": "stream",
     "text": [
      "Overwriting multipage_applications_files/app.py\n"
     ]
    }
   ],
   "source": [
    "%%writefile multipage_applications_files/app.py\n",
    "import dash\n",
    "from dash import Dash, html, dcc\n",
    "\n",
    "app = Dash(__name__, use_pages=True)\n",
    "\n",
    "app.layout = html.Div([\n",
    "    html.H1('Multi-page app with Dash Pages'),\n",
    "    html.Div([\n",
    "        html.Div(\n",
    "            dcc.Link(f\"{page['name']} - {page['path']}\", href=page[\"relative_path\"])\n",
    "        ) for page in dash.page_registry.values()\n",
    "    ]),\n",
    "    dash.page_container\n",
    "])\n",
    "\n",
    "if __name__ == '__main__':\n",
    "    app.run(debug=True)"
   ]
  },
  {
   "cell_type": "code",
   "execution_count": 2,
   "id": "de84f228-502c-47b9-a783-8c858be43f1b",
   "metadata": {},
   "outputs": [
    {
     "name": "stdout",
     "output_type": "stream",
     "text": [
      "Overwriting multipage_applications_files/pages/some_page.py\n"
     ]
    }
   ],
   "source": [
    "%%writefile multipage_applications_files/pages/some_page.py\n",
    "import dash\n",
    "from dash import html, callback, Input, Output\n",
    "\n",
    "import pickle\n",
    "\n",
    "dash.register_page(__name__)\n",
    "layout = html.Div([\n",
    "    html.H1('Page with button'),\n",
    "    html.Button(\n",
    "        \"Save page_registry\",\n",
    "        id=\"save-button\",\n",
    "    ),\n",
    "    html.Div(id='dummy')\n",
    "])\n",
    "\n",
    "@callback(\n",
    "    Output(\"dummy\", \"children\"),\n",
    "    Input(\"save-button\", \"n_clicks\")\n",
    ")\n",
    "def save_callback(n_clicks):\n",
    "    with open(\"page_registry\", \"wb\") as f:\n",
    "        pickle.dump(dash.page_registry, f)"
   ]
  },
  {
   "cell_type": "code",
   "execution_count": 3,
   "id": "f5231d43-7241-45b1-b1df-d153738508e3",
   "metadata": {},
   "outputs": [
    {
     "name": "stdout",
     "output_type": "stream",
     "text": [
      "Overwriting multipage_applications_files/pages/home.py\n"
     ]
    }
   ],
   "source": [
    "%%writefile multipage_applications_files/pages/home.py\n",
    "import dash\n",
    "from dash import html\n",
    "\n",
    "dash.register_page(__name__, path=\"/\")\n",
    "layout = html.Div([\n",
    "    html.H1('Basic home page')\n",
    "])"
   ]
  },
  {
   "cell_type": "markdown",
   "id": "c19101fb-6eed-4575-b935-372f6e86a250",
   "metadata": {},
   "source": [
    "By running the following cell, you can run the dash application described in the previous three cells."
   ]
  },
  {
   "cell_type": "code",
   "execution_count": 4,
   "id": "816eacc6-1dee-430a-ac65-93da26b4c018",
   "metadata": {},
   "outputs": [
    {
     "name": "stdout",
     "output_type": "stream",
     "text": [
      "Dash is running on http://127.0.0.1:8050/\n",
      "\n",
      " * Serving Flask app 'app'\n",
      " * Debug mode: on\n",
      "Error while terminating subprocess (pid=19264): \n"
     ]
    }
   ],
   "source": [
    "%%bash\n",
    "cd multipage_applications_files\n",
    "python3 app.py"
   ]
  },
  {
   "cell_type": "markdown",
   "id": "e126d351-8a2f-47d4-95d9-5b58f465c61a",
   "metadata": {},
   "source": [
    "Here you can explore the layers of the `dash.page_registry`."
   ]
  },
  {
   "cell_type": "code",
   "execution_count": 11,
   "id": "02cead52-4ebb-4eb2-845b-e112dde03fbe",
   "metadata": {},
   "outputs": [
    {
     "data": {
      "application/json": {
       "pages.home": {
        "description": "",
        "image": null,
        "image_url": null,
        "layout": [],
        "module": "pages.home",
        "name": "Home",
        "order": 0,
        "path": "/",
        "path_template": null,
        "redirect_from": null,
        "relative_path": "/",
        "supplied_image": null,
        "supplied_layout": null,
        "supplied_name": null,
        "supplied_order": null,
        "supplied_path": "/",
        "supplied_title": null,
        "title": "Home"
       },
       "pages.some_page": {
        "description": "",
        "image": null,
        "image_url": null,
        "layout": [
         "save-button",
         "dummy"
        ],
        "module": "pages.some_page",
        "name": "Some page",
        "order": null,
        "path": "/some-page",
        "path_template": null,
        "redirect_from": null,
        "relative_path": "/some-page",
        "supplied_image": null,
        "supplied_layout": null,
        "supplied_name": null,
        "supplied_order": null,
        "supplied_path": null,
        "supplied_title": null,
        "title": "Some page"
       }
      },
      "text/plain": [
       "<IPython.core.display.JSON object>"
      ]
     },
     "execution_count": 11,
     "metadata": {
      "application/json": {
       "expanded": false,
       "root": "root"
      }
     },
     "output_type": "execute_result"
    }
   ],
   "source": [
    "import pickle\n",
    "from IPython.display import JSON, HTML\n",
    "\n",
    "with open(\"multipage_applications_files/page_registry\", \"rb\") as f:\n",
    "    j = pickle.load(f)\n",
    "\n",
    "JSON(j)"
   ]
  }
 ],
 "metadata": {
  "kernelspec": {
   "display_name": "Python 3 (ipykernel)",
   "language": "python",
   "name": "python3"
  },
  "language_info": {
   "codemirror_mode": {
    "name": "ipython",
    "version": 3
   },
   "file_extension": ".py",
   "mimetype": "text/x-python",
   "name": "python",
   "nbconvert_exporter": "python",
   "pygments_lexer": "ipython3",
   "version": "3.10.12"
  }
 },
 "nbformat": 4,
 "nbformat_minor": 5
}
