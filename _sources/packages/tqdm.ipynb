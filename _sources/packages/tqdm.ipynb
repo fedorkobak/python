{
 "cells": [
  {
   "cell_type": "markdown",
   "id": "2cd6dc57-ba0a-476c-8aa1-faa9b8a37a7d",
   "metadata": {},
   "source": [
    "# TQDM\n",
    "\n",
    "This page focuses on features related to working with the `tqdm` Python library. This is a library that allows you to create terminal progress bars in your python code. See the [official documentation](https://tqdm.github.io/) for more details."
   ]
  },
  {
   "cell_type": "code",
   "execution_count": null,
   "id": "42623a8e-72d1-4856-879d-ed8d7db14b92",
   "metadata": {},
   "outputs": [],
   "source": [
    "import tqdm\n",
    "from random import randint, seed\n",
    "from IPython.display import clear_output"
   ]
  },
  {
   "cell_type": "markdown",
   "id": "fed38490-bef9-41b9-9956-4b043f49daf2",
   "metadata": {},
   "source": [
    "## tqdm object\n",
    "\n",
    "The `tqdm.tqdm` function returns a `tqdm.std.tqdm` object, which is iterable. Each `next` call on this object will update the progress line."
   ]
  },
  {
   "cell_type": "markdown",
   "id": "e3a872f7",
   "metadata": {},
   "source": [
    "---\n",
    "\n",
    "The following cell shows type of the object returned by `tqdm.tqdm`."
   ]
  },
  {
   "cell_type": "code",
   "execution_count": 13,
   "id": "6d9d5a92",
   "metadata": {},
   "outputs": [
    {
     "data": {
      "text/plain": [
       "tqdm.std.tqdm"
      ]
     },
     "metadata": {},
     "output_type": "display_data"
    }
   ],
   "source": [
    "bar = tqdm.tqdm([1,2,3,4])\n",
    "bar.close()\n",
    "clear_output()\n",
    "display(type(bar))"
   ]
  },
  {
   "cell_type": "markdown",
   "id": "0cd78740-019e-45e1-b15c-2e74262897df",
   "metadata": {},
   "source": [
    "So, as with any other iterabe, you can manually iterate over it using the `next` function."
   ]
  },
  {
   "cell_type": "code",
   "execution_count": 19,
   "id": "74aba634-2e18-4bc7-866c-720eb6ab82b7",
   "metadata": {},
   "outputs": [
    {
     "name": "stderr",
     "output_type": "stream",
     "text": [
      " 25%|██▌       | 1/4 [00:00<00:00, 4660.34it/s]\n"
     ]
    }
   ],
   "source": [
    "bar = tqdm.tqdm([1,2,3,4])\n",
    "bar = iter(bar)\n",
    "next(bar)\n",
    "next(bar)\n",
    "bar.close()"
   ]
  },
  {
   "cell_type": "markdown",
   "id": "91c5113a",
   "metadata": {},
   "source": [
    "You can also use the `update` method to manually advance the progress bar."
   ]
  },
  {
   "cell_type": "code",
   "execution_count": 20,
   "id": "4d8c0dfd",
   "metadata": {},
   "outputs": [
    {
     "name": "stderr",
     "output_type": "stream",
     "text": [
      " 30%|█████████████████▍                                        | 30/100 [00:00<00:00, 408536.10it/s]\n"
     ]
    }
   ],
   "source": [
    "bar = tqdm.tqdm(total=100, ncols=100)\n",
    "bar.update(10)\n",
    "bar.update(20)\n",
    "bar.close()"
   ]
  },
  {
   "cell_type": "markdown",
   "id": "a5d73ebd",
   "metadata": {},
   "source": [
    "## Total\n",
    "\n",
    "In cases where `tqdm` cannot determine the length of the sequence it is iterating through, it will not display the percentage of completed iterations. This is typical for generators. Instead, it will only show the number of iterations completed. To address this, you can specify the `total` argument when using `tqdm.tqdm`."
   ]
  },
  {
   "cell_type": "markdown",
   "id": "1aae255a",
   "metadata": {},
   "source": [
    "---\n",
    "\n",
    "As an example, consider the generator specified in the following line:"
   ]
  },
  {
   "cell_type": "code",
   "execution_count": 2,
   "id": "3343cc4b",
   "metadata": {},
   "outputs": [],
   "source": [
    "def my_generator():\n",
    "    for i in range(10):\n",
    "        yield"
   ]
  },
  {
   "cell_type": "markdown",
   "id": "552b3aeb",
   "metadata": {},
   "source": [
    "Here is a typical output for such a case:"
   ]
  },
  {
   "cell_type": "code",
   "execution_count": 9,
   "id": "3c7eb898",
   "metadata": {},
   "outputs": [
    {
     "name": "stderr",
     "output_type": "stream",
     "text": [
      "10it [00:00, 170500.16it/s]\n"
     ]
    }
   ],
   "source": [
    "for i in tqdm.tqdm(my_generator()):\n",
    "    pass"
   ]
  },
  {
   "cell_type": "markdown",
   "id": "891f097c",
   "metadata": {},
   "source": [
    "No information about how many iterations are left. The following cell fixes this problem by simply specifying the `total=10` argument."
   ]
  },
  {
   "cell_type": "code",
   "execution_count": 10,
   "id": "2363d834",
   "metadata": {},
   "outputs": [
    {
     "name": "stderr",
     "output_type": "stream",
     "text": [
      "100%|██████████| 10/10 [00:00<00:00, 196915.68it/s]\n"
     ]
    }
   ],
   "source": [
    "for i in tqdm.tqdm(my_generator(), total=10):\n",
    "    pass"
   ]
  },
  {
   "cell_type": "markdown",
   "id": "795412e9",
   "metadata": {},
   "source": [
    "## Output stream\n",
    "\n",
    "You can use the `file` argument to set the output stream for the progress bar."
   ]
  },
  {
   "cell_type": "markdown",
   "id": "d9b812d6",
   "metadata": {},
   "source": [
    "---\n",
    "\n",
    "The following cell introduces code that uses simple output file as arguemnt `file`. And creates process bar with 100 stems."
   ]
  },
  {
   "cell_type": "code",
   "execution_count": 23,
   "id": "beb533fc",
   "metadata": {},
   "outputs": [],
   "source": [
    "with open(\"test\", \"w\") as f:\n",
    "    for i in tqdm.tqdm(range(100), file=f):\n",
    "        pass\n",
    "    bar.update(10)\n",
    "    bar.close()"
   ]
  },
  {
   "cell_type": "markdown",
   "id": "fb922e04",
   "metadata": {},
   "source": [
    "Now lets check gotten file:"
   ]
  },
  {
   "cell_type": "code",
   "execution_count": 24,
   "id": "c93f5c1b",
   "metadata": {},
   "outputs": [
    {
     "name": "stdout",
     "output_type": "stream",
     "text": [
      "100%|██████████| 100/100 [00:00<00:00, 2304562.64it/s]\n"
     ]
    }
   ],
   "source": [
    "%%bash\n",
    "cat test\n",
    "rm test"
   ]
  },
  {
   "cell_type": "markdown",
   "id": "f8e8bcad",
   "metadata": {},
   "source": [
    "## Position\n",
    "\n",
    "The `position` argument specifies the line where the progress bar will be displayed."
   ]
  },
  {
   "cell_type": "markdown",
   "id": "f5cc1893",
   "metadata": {},
   "source": [
    "---\n",
    "\n",
    "The following example shows code that creates `tqdm` bars, each with a random position."
   ]
  },
  {
   "cell_type": "code",
   "execution_count": 113,
   "id": "0354b859",
   "metadata": {},
   "outputs": [
    {
     "name": "stderr",
     "output_type": "stream",
     "text": [
      "100%|██████████| 10/10 [00:00<00:00, 241051.95it/s]\n",
      "100%|██████████| 10/10 [00:00<00:00, 285326.80it/s]\n",
      "\n",
      "100%|██████████| 10/10 [00:00<00:00, 272357.40it/s]\n",
      "\n",
      "\n",
      "100%|██████████| 10/10 [00:00<00:00, 181571.60it/s]\n"
     ]
    }
   ],
   "source": [
    "seed(17)\n",
    "ans = [\n",
    "    tqdm.tqdm(position=i, total=10).update(10) \n",
    "    for i in range(5) if randint(0,1)\n",
    "]"
   ]
  }
 ],
 "metadata": {
  "kernelspec": {
   "display_name": "venv",
   "language": "python",
   "name": "python3"
  },
  "language_info": {
   "codemirror_mode": {
    "name": "ipython",
    "version": 3
   },
   "file_extension": ".py",
   "mimetype": "text/x-python",
   "name": "python",
   "nbconvert_exporter": "python",
   "pygments_lexer": "ipython3",
   "version": "3.12.3"
  }
 },
 "nbformat": 4,
 "nbformat_minor": 5
}
