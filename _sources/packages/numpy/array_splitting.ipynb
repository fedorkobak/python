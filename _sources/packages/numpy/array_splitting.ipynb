{
 "cells": [
  {
   "cell_type": "markdown",
   "id": "be4361f2-1e2f-4bfd-9dc1-893c1a2ce4ab",
   "metadata": {},
   "source": [
    "# Array splitting\n",
    "\n",
    "Here we consider numpy functions to split arrays."
   ]
  },
  {
   "cell_type": "code",
   "execution_count": 1,
   "id": "31754e44-5d8d-4331-adaf-881cd217d97e",
   "metadata": {},
   "outputs": [],
   "source": [
    "import numpy as np"
   ]
  },
  {
   "cell_type": "markdown",
   "id": "f6ac5ea0-2eee-486f-b857-5839b6c0b5c7",
   "metadata": {},
   "source": [
    "## `split`\n",
    "\n",
    "Read more in the [official documentation](https://numpy.org/doc/stable/reference/generated/numpy.split.html)."
   ]
  },
  {
   "cell_type": "markdown",
   "id": "6b822ded-7844-4031-ad39-9c1bd930f027",
   "metadata": {},
   "source": [
    "The following example shows 2 splits for 20 observations."
   ]
  },
  {
   "cell_type": "code",
   "execution_count": 12,
   "id": "bd4650aa-a126-4617-9b68-4df6941c49c3",
   "metadata": {},
   "outputs": [
    {
     "name": "stdout",
     "output_type": "stream",
     "text": [
      "1 with 10 rows\n",
      "2 with 10 rows\n"
     ]
    }
   ],
   "source": [
    "arr = np.random.normal(0, 1, [20, 3])\n",
    "res = np.split(arr, 2)\n",
    "for i, r in enumerate(res):\n",
    "    print(f\"{i+1} with {r.shape[0]} rows\")"
   ]
  },
  {
   "cell_type": "markdown",
   "id": "2d6f795d-bdd6-4de2-b9a2-e304c1f1e6cd",
   "metadata": {},
   "source": [
    "The same example but with 10 splits."
   ]
  },
  {
   "cell_type": "code",
   "execution_count": 13,
   "id": "624db06f-e064-4fcc-8418-7c6c80384f8b",
   "metadata": {},
   "outputs": [
    {
     "name": "stdout",
     "output_type": "stream",
     "text": [
      "1 with 2 rows\n",
      "2 with 2 rows\n",
      "3 with 2 rows\n",
      "4 with 2 rows\n",
      "5 with 2 rows\n",
      "6 with 2 rows\n",
      "7 with 2 rows\n",
      "8 with 2 rows\n",
      "9 with 2 rows\n",
      "10 with 2 rows\n"
     ]
    }
   ],
   "source": [
    "arr = np.random.normal(0, 1, [20, 3])\n",
    "res = np.split(arr, 10)\n",
    "for i, r in enumerate(res):\n",
    "    print(f\"{i+1} with {r.shape[0]} rows\")"
   ]
  },
  {
   "cell_type": "markdown",
   "id": "c39f1503-b28c-4b26-970c-6b3a407c47c9",
   "metadata": {},
   "source": [
    "### Exceptions\n",
    "\n",
    "There are some cases where this won't work:\n",
    "\n",
    "- Dividing an array into a number of parts that do not equal the input array.\n",
    "- Dividing an array into more parts than there are observations in your array - technically, it's the partial option of the previous point, but I have to mention it."
   ]
  },
  {
   "cell_type": "markdown",
   "id": "8a557936-1e36-465b-984c-1b2eb475dafd",
   "metadata": {},
   "source": [
    "Here is an example of dividing 20 rows into the 3 subarrays."
   ]
  },
  {
   "cell_type": "code",
   "execution_count": 10,
   "id": "2e13cf3b-74a4-4738-a841-48df090f7a00",
   "metadata": {},
   "outputs": [
    {
     "name": "stdout",
     "output_type": "stream",
     "text": [
      "We got the error: array split does not result in an equal division\n"
     ]
    }
   ],
   "source": [
    "try:\n",
    "    arr = np.random.normal(0, 1, [20, 3])\n",
    "    res = np.split(arr, 3)\n",
    "except Exception as e:\n",
    "    print(\"We got the error:\", e)"
   ]
  },
  {
   "cell_type": "markdown",
   "id": "8ba036bd-81c7-48f3-8da3-316730f3790b",
   "metadata": {},
   "source": [
    "And the same error if we are trying to divide 3 rows into 50 subarrays."
   ]
  },
  {
   "cell_type": "code",
   "execution_count": 15,
   "id": "de42c2bd-d8e9-4976-89c7-1fd6dd9adaa3",
   "metadata": {},
   "outputs": [
    {
     "name": "stdout",
     "output_type": "stream",
     "text": [
      "We got the error: array split does not result in an equal division\n"
     ]
    }
   ],
   "source": [
    "try:\n",
    "    arr = np.random.normal(0, 1, [3, 3])\n",
    "    res = np.split(arr, 50)\n",
    "except Exception as e:\n",
    "    print(\"We got the error:\", e)"
   ]
  },
  {
   "cell_type": "markdown",
   "id": "8264db71-3e42-4aee-91aa-a181e8a9bff4",
   "metadata": {},
   "source": [
    "## `array_split`\n",
    "\n",
    "Read more in [official doucmentation](https://numpy.org/doc/stable/reference/generated/numpy.array_split.html). The main feature of this function is that it allows you not to worry about the size of the input array. So we define $l$ the number of elements in the array we want to split and $n$ the number of result arrays.\n",
    "\n",
    "So in result will be:\n",
    "\n",
    "- First $(l \\mod n)$ arrays will have size $\\lfloor \\frac{l}{n} \\rfloor + 1$.\n",
    "- And other $1-(l \\mod n)$ arrays will have size $\\lfloor \\frac{l}{n} \\rfloor$."
   ]
  },
  {
   "cell_type": "markdown",
   "id": "f0d92376-5488-48f0-b405-b1f37d98980b",
   "metadata": {},
   "source": [
    "Suppose we have $l=20; n=3$. So we will have $20 \\mod 3=2$ subarrays of size $\\lfloor \\frac{l}{n} \\rfloor + 1= \\lfloor \\frac{20}{3} \\rfloor + 1=7$ and the other of size $\\lfloor \\frac{20}{3} \\rfloor = 6$. The same result in the code:"
   ]
  },
  {
   "cell_type": "code",
   "execution_count": 30,
   "id": "f72215c3-ed9c-480e-8460-c50ba7c4a516",
   "metadata": {},
   "outputs": [
    {
     "name": "stdout",
     "output_type": "stream",
     "text": [
      "1 with 7 rows\n",
      "2 with 7 rows\n",
      "3 with 6 rows\n"
     ]
    }
   ],
   "source": [
    "arr = np.random.normal(0, 1, [20, 3])\n",
    "res = np.array_split(arr, 3)\n",
    "for i, r in enumerate(res):\n",
    "    print(f\"{i+1} with {r.shape[0]} rows\")"
   ]
  },
  {
   "cell_type": "markdown",
   "id": "073c4bc6-a3b4-4f8a-9e9b-9c58a12611d5",
   "metadata": {},
   "source": [
    "Suppose we have $l=40; n=3$. So we will have $40 \\mod 3=1$ subarrays of size $\\lfloor \\frac{l}{n} \\rfloor + 1= \\lfloor \\frac{40}{3} \\rfloor + 1=14$ and the other of size $\\lfloor \\frac{40}{3} \\rfloor = 13$. The same result in the code:"
   ]
  },
  {
   "cell_type": "code",
   "execution_count": 33,
   "id": "05abec00-7861-48ae-b7e8-55fc62b9fd11",
   "metadata": {},
   "outputs": [
    {
     "name": "stdout",
     "output_type": "stream",
     "text": [
      "1 with 14 rows\n",
      "2 with 13 rows\n",
      "3 with 13 rows\n"
     ]
    }
   ],
   "source": [
    "arr = np.random.normal(0, 1, [40, 3])\n",
    "res = np.array_split(arr, 3)\n",
    "for i, r in enumerate(res):\n",
    "    print(f\"{i+1} with {r.shape[0]} rows\")"
   ]
  },
  {
   "cell_type": "markdown",
   "id": "92221664-9ca0-443b-a32f-74b4033cd4ec",
   "metadata": {},
   "source": [
    "And actually cases where $l<n$ will all follow the same rule:"
   ]
  },
  {
   "cell_type": "code",
   "execution_count": 18,
   "id": "bd0b7e33-dcc2-4220-9db3-ced0a6a266aa",
   "metadata": {},
   "outputs": [
    {
     "name": "stdout",
     "output_type": "stream",
     "text": [
      "1 with 1 rows\n",
      "2 with 1 rows\n",
      "3 with 1 rows\n",
      "4 with 1 rows\n",
      "5 with 1 rows\n",
      "6 with 1 rows\n",
      "7 with 1 rows\n",
      "8 with 1 rows\n",
      "9 with 1 rows\n",
      "10 with 1 rows\n",
      "11 with 1 rows\n",
      "12 with 1 rows\n",
      "13 with 1 rows\n",
      "14 with 1 rows\n",
      "15 with 1 rows\n",
      "16 with 1 rows\n",
      "17 with 1 rows\n",
      "18 with 1 rows\n",
      "19 with 1 rows\n",
      "20 with 1 rows\n",
      "21 with 0 rows\n",
      "22 with 0 rows\n",
      "23 with 0 rows\n",
      "24 with 0 rows\n",
      "25 with 0 rows\n",
      "26 with 0 rows\n",
      "27 with 0 rows\n",
      "28 with 0 rows\n",
      "29 with 0 rows\n",
      "30 with 0 rows\n",
      "31 with 0 rows\n",
      "32 with 0 rows\n",
      "33 with 0 rows\n",
      "34 with 0 rows\n",
      "35 with 0 rows\n",
      "36 with 0 rows\n",
      "37 with 0 rows\n",
      "38 with 0 rows\n",
      "39 with 0 rows\n",
      "40 with 0 rows\n",
      "41 with 0 rows\n",
      "42 with 0 rows\n",
      "43 with 0 rows\n",
      "44 with 0 rows\n",
      "45 with 0 rows\n",
      "46 with 0 rows\n",
      "47 with 0 rows\n",
      "48 with 0 rows\n",
      "49 with 0 rows\n",
      "50 with 0 rows\n"
     ]
    }
   ],
   "source": [
    "arr = np.random.normal(0, 1, [20, 3])\n",
    "res = np.array_split(arr, 50)\n",
    "for i, r in enumerate(res):\n",
    "    print(f\"{i+1} with {r.shape[0]} rows\")"
   ]
  }
 ],
 "metadata": {
  "kernelspec": {
   "display_name": "Python 3 (ipykernel)",
   "language": "python",
   "name": "python3"
  },
  "language_info": {
   "codemirror_mode": {
    "name": "ipython",
    "version": 3
   },
   "file_extension": ".py",
   "mimetype": "text/x-python",
   "name": "python",
   "nbconvert_exporter": "python",
   "pygments_lexer": "ipython3",
   "version": "3.10.12"
  }
 },
 "nbformat": 4,
 "nbformat_minor": 5
}
