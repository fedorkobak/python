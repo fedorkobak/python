{
 "cells": [
  {
   "cell_type": "markdown",
   "id": "d958faa8-a155-4f6a-a6bd-2ebed7c20214",
   "metadata": {},
   "source": [
    "# Norm\n",
    "\n",
    "There is a `numpy.linalg.norm` function which allows you to get norms for arrays."
   ]
  },
  {
   "cell_type": "code",
   "execution_count": 5,
   "id": "8f4b2668-d729-42bc-9899-ff719c204783",
   "metadata": {},
   "outputs": [],
   "source": [
    "import numpy as np"
   ]
  },
  {
   "cell_type": "markdown",
   "id": "4daace36-2491-4eb5-89e7-67394ede1d85",
   "metadata": {},
   "source": [
    "## Basic Example"
   ]
  },
  {
   "cell_type": "markdown",
   "id": "27a2a97e-2445-457b-b309-5b2849d64875",
   "metadata": {},
   "source": [
    "Here is an example that calculates the norm for an arbitrary array."
   ]
  },
  {
   "cell_type": "code",
   "execution_count": 8,
   "id": "ce9289b4-e564-4166-bc2c-3e7a7c92c7ca",
   "metadata": {},
   "outputs": [
    {
     "data": {
      "text/plain": [
       "3.7416573867739413"
      ]
     },
     "execution_count": 8,
     "metadata": {},
     "output_type": "execute_result"
    }
   ],
   "source": [
    "arr = np.array([1, 2, 3])\n",
    "np.linalg.norm(arr)"
   ]
  },
  {
   "cell_type": "markdown",
   "id": "639b912e-5736-4401-9e1f-721140aa37c1",
   "metadata": {},
   "source": [
    "### `axis` argument\n",
    "\n",
    "If you pass a matrix, it will also calculate the norm for all numbers as a single array."
   ]
  },
  {
   "cell_type": "code",
   "execution_count": 9,
   "id": "482f9569-395b-4c2a-ab7c-e9222897dadc",
   "metadata": {},
   "outputs": [
    {
     "data": {
      "text/plain": [
       "5.916079783099616"
      ]
     },
     "execution_count": 9,
     "metadata": {},
     "output_type": "execute_result"
    }
   ],
   "source": [
    "arr = np.array([\n",
    "    [1, 2, 3],\n",
    "    [4, 2, 1]\n",
    "])\n",
    "np.linalg.norm(arr)"
   ]
  },
  {
   "cell_type": "markdown",
   "id": "5ff93b34-7ef4-4df2-ad04-ac4b3cde17df",
   "metadata": {},
   "source": [
    "By specifying `axis` you can choose whether to calculate norms by columns or by rows."
   ]
  },
  {
   "cell_type": "markdown",
   "id": "a80af24a-af6e-4f68-9ce2-cb60c3d6e847",
   "metadata": {},
   "source": [
    "The following example shows that by specifying\n",
    "\n",
    "- `axis=0` you can compute the norm for each column of the matrix;\n",
    "- `axis=1` you can compute the norm for each row of the matrix.  "
   ]
  },
  {
   "cell_type": "code",
   "execution_count": 20,
   "id": "375db97d-f45b-444b-a4a6-225b879d8bbd",
   "metadata": {},
   "outputs": [
    {
     "name": "stdout",
     "output_type": "stream",
     "text": [
      "[4.12310563 2.82842712 3.16227766]\n",
      "[3.74165739 4.58257569]\n"
     ]
    }
   ],
   "source": [
    "arr = np.array([\n",
    "    [1, 2, 3],\n",
    "    [4, 2, 1]\n",
    "])\n",
    "print(np.linalg.norm(arr, axis=0))\n",
    "print(np.linalg.norm(arr, axis=1))"
   ]
  },
  {
   "cell_type": "markdown",
   "id": "9007bd1d-960e-43fa-8863-b78ef368f2a6",
   "metadata": {},
   "source": [
    "## `keepdims` argument\n",
    "\n",
    "The `keepdims` argument allows you to retain the reduced dimensions with size one when calculating the norm. This is useful when you want the output array to have the same number of dimensions as the input array, even after the reduction.\n",
    "\n",
    "If you normalise by columns - you get a row of norms. If you normalise by rows - you'll get a column of rows. If you normalise the whole matrix, you'll just have one number wrapped in the same number of layers as the original array."
   ]
  },
  {
   "cell_type": "code",
   "execution_count": 23,
   "id": "8a947b6c-49bf-4faf-904a-5d3e2767f081",
   "metadata": {},
   "outputs": [
    {
     "name": "stdout",
     "output_type": "stream",
     "text": [
      "[[5.91607978]]\n",
      "[[4.12310563 2.82842712 3.16227766]]\n",
      "[[3.74165739]\n",
      " [4.58257569]]\n"
     ]
    }
   ],
   "source": [
    "arr = np.array([\n",
    "    [1, 2, 3],\n",
    "    [4, 2, 1]\n",
    "])\n",
    "print(np.linalg.norm(arr, keepdims=True))\n",
    "print(np.linalg.norm(arr, axis=0, keepdims=True))\n",
    "print(np.linalg.norm(arr, axis=1, keepdims=True))"
   ]
  }
 ],
 "metadata": {
  "kernelspec": {
   "display_name": "Python 3 (ipykernel)",
   "language": "python",
   "name": "python3"
  },
  "language_info": {
   "codemirror_mode": {
    "name": "ipython",
    "version": 3
   },
   "file_extension": ".py",
   "mimetype": "text/x-python",
   "name": "python",
   "nbconvert_exporter": "python",
   "pygments_lexer": "ipython3",
   "version": "3.10.12"
  }
 },
 "nbformat": 4,
 "nbformat_minor": 5
}
