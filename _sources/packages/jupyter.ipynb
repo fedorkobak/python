{
 "cells": [
  {
   "cell_type": "markdown",
   "metadata": {},
   "source": [
    "# Jupyter\n",
    "\n",
    "Jupyter is a set of tools for developing and sharing scientific code with description. See the [official website](https://docs.jupyter.org/en/latest/)."
   ]
  },
  {
   "cell_type": "markdown",
   "metadata": {},
   "source": [
    "## IPython\n",
    "\n",
    "`ipython` actually exists separately from jupyter. But the most common way to use it as the backend for jupyter notebooks, that's why this tool udner `jupyter` section. Find out more at the [corresponding page](jupyter/ipython.ipynb)."
   ]
  },
  {
   "cell_type": "markdown",
   "metadata": {},
   "source": [
    "## Jupyter client\n",
    "\n",
    "jupyter_client' is a Python package that actually handles the management of the jupyter kernel: registering, running, connecting, etc. Check [specific page](jupyter/jupyter_client.ipynb) for more."
   ]
  }
 ],
 "metadata": {
  "language_info": {
   "name": "python"
  }
 },
 "nbformat": 4,
 "nbformat_minor": 2
}
