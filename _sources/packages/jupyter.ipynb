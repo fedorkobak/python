{
 "cells": [
  {
   "cell_type": "markdown",
   "metadata": {},
   "source": [
    "# Jupyter\n",
    "\n",
    "Jupyter is a set of tools for developing and sharing scientific code with description. See the [official website](https://docs.jupyter.org/en/latest/)."
   ]
  },
  {
   "cell_type": "markdown",
   "metadata": {},
   "source": [
    "## IPython\n",
    "\n",
    "`ipython` actually exists separately from jupyter. But the most common way to use it as the backend for jupyter notebooks, that's why this tool udner `jupyter` section. Find out more at the [corresponding page](jupyter/ipython.ipynb)."
   ]
  },
  {
   "cell_type": "markdown",
   "metadata": {},
   "source": [
    "## Jupyter client\n",
    "\n",
    "jupyter_client' is a Python package that actually handles the management of the jupyter kernel: registering, running, connecting, etc. Check [specific page](jupyter/jupyter_client.ipynb) for more."
   ]
  },
  {
   "cell_type": "markdown",
   "metadata": {},
   "source": [
    "## Traitlets\n",
    "\n",
    "Traitlets is a tool that allows to make python objects that, automatically check types, autamatically change values of attributes and implement \"on change\" callbacks. It designed to be used in general, but jet I haven't seen usage anywhere else except Jupyter project. Check out the [traitlest github page](https://github.com/ipython/traitlets). Practically if you want to dive deep into customizing your jupyter workflow you have to learn it."
   ]
  },
  {
   "cell_type": "markdown",
   "metadata": {},
   "source": [
    "---\n",
    "\n",
    "To get an idea what traitlets are in general consider an example using the `traitlets.HasTraits` class, which only allows to build classes that automatically validate type, set dynamic default value for the instances and set up methods that will be called in an attemt to change the attribute."
   ]
  },
  {
   "cell_type": "markdown",
   "metadata": {},
   "source": [
    "The following cell defines the `traitlets.HasTraitlet` ancestor with the `value` attribute, the `_default_value` method sets up rules which default value `value` will have, `_observe_value` is a method that will be callled on an attempt to change the value of `value`."
   ]
  },
  {
   "cell_type": "code",
   "execution_count": null,
   "metadata": {},
   "outputs": [],
   "source": [
    "import random\n",
    "import traitlets\n",
    "\n",
    "class MyFirstTraitlet(traitlets.HasTraits): \n",
    "    value = traitlets.Int()\n",
    "\n",
    "    @traitlets.default(\"value\")\n",
    "    def _default_value(self):\n",
    "        return random.randint(1, 100)\n",
    "    \n",
    "    @traitlets.observe(\"value\")\n",
    "    def _observe_value(self, change):\n",
    "        print(f\"Invoked to change: {change[\"old\"]} to {change[\"new\"]}\")"
   ]
  },
  {
   "cell_type": "markdown",
   "metadata": {},
   "source": [
    "The following cell creates the number of `MyFirstTraitlet` and displays `value` for them."
   ]
  },
  {
   "cell_type": "code",
   "execution_count": 36,
   "metadata": {},
   "outputs": [
    {
     "name": "stdout",
     "output_type": "stream",
     "text": [
      "56\n",
      "29\n",
      "54\n"
     ]
    }
   ],
   "source": [
    "for i in range(3):\n",
    "    obj = MyFirstTraitlet()\n",
    "    print(obj.value)"
   ]
  },
  {
   "cell_type": "markdown",
   "metadata": {},
   "source": [
    "Each time there is a different default value for the instance - just as specified in the `_default_value` method."
   ]
  },
  {
   "cell_type": "markdown",
   "metadata": {},
   "source": [
    "The following cell attemts to create `MyFirstTrait` instance and set `value` with a `str` datatype."
   ]
  },
  {
   "cell_type": "code",
   "execution_count": 37,
   "metadata": {},
   "outputs": [
    {
     "name": "stdout",
     "output_type": "stream",
     "text": [
      "Exception: The 'value' trait of a MyFirstTraitlet instance expected an int, not the str 'string'.\n"
     ]
    }
   ],
   "source": [
    "try:\n",
    "    MyFirstTraitlet(value=\"string\")\n",
    "except Exception as e:\n",
    "    print(f\"Exception: {e}\")"
   ]
  },
  {
   "cell_type": "markdown",
   "metadata": {},
   "source": [
    "But due to the value defined as `traitlets.Int` it doesn't allow to set `string` value to it."
   ]
  },
  {
   "cell_type": "markdown",
   "metadata": {},
   "source": [
    "The following cell attempts to change change the `value`."
   ]
  },
  {
   "cell_type": "code",
   "execution_count": 38,
   "metadata": {},
   "outputs": [
    {
     "name": "stdout",
     "output_type": "stream",
     "text": [
      "Invoked to change: 0 to 10\n"
     ]
    }
   ],
   "source": [
    "traitlet = MyFirstTraitlet()\n",
    "traitlet.value = 10"
   ]
  },
  {
   "cell_type": "markdown",
   "metadata": {},
   "source": [
    "As a result there will be a message in the output that defined by the `_observe_value` method."
   ]
  }
 ],
 "metadata": {
  "kernelspec": {
   "display_name": "python",
   "language": "python",
   "name": "python3"
  },
  "language_info": {
   "codemirror_mode": {
    "name": "ipython",
    "version": 3
   },
   "file_extension": ".py",
   "mimetype": "text/x-python",
   "name": "python",
   "nbconvert_exporter": "python",
   "pygments_lexer": "ipython3",
   "version": "3.12.9"
  }
 },
 "nbformat": 4,
 "nbformat_minor": 2
}
