{
 "cells": [
  {
   "cell_type": "markdown",
   "id": "9b41ec6d-5e34-458b-9ae5-893b1c2b1522",
   "metadata": {},
   "source": [
    "# To excel import"
   ]
  },
  {
   "cell_type": "code",
   "execution_count": 1,
   "id": "9d835dab-460e-469d-bddf-b6bf2b305d50",
   "metadata": {},
   "outputs": [
    {
     "data": {
      "text/html": [
       "\n",
       "<style>\n",
       "    h1 {text-align:center}\n",
       "</style>\n"
      ],
      "text/plain": [
       "<IPython.core.display.HTML object>"
      ]
     },
     "execution_count": 1,
     "metadata": {},
     "output_type": "execute_result"
    }
   ],
   "source": [
    "from IPython.display import HTML\n",
    "HTML('''\n",
    "<style>\n",
    "    h1 {text-align:center}\n",
    "</style>\n",
    "''')"
   ]
  },
  {
   "cell_type": "markdown",
   "id": "ebee3b0a-16d7-46a6-a254-701588ae5b37",
   "metadata": {},
   "source": [
    "## Several `pd.DataFrame` on list"
   ]
  },
  {
   "cell_type": "code",
   "execution_count": 5,
   "id": "3630d319-9a6b-4594-8b9c-6d02af7b6113",
   "metadata": {},
   "outputs": [],
   "source": [
    "import pandas as pd\n",
    "\n",
    "df1 = pd.DataFrame({'A': [1, 2, 3], 'B': [4, 5, 6]})\n",
    "df2 = pd.DataFrame({'C': [7, 8, 9], 'D': [10, 11, 12]})\n",
    "\n",
    "writer = pd.ExcelWriter('excel_export_files/output.xlsx')\n",
    "\n",
    "df1.to_excel(writer, sheet_name='Sheet1')\n",
    "df2.to_excel(writer, sheet_name='Sheet1', startrow=df1.shape[0] + 2)\n",
    "\n",
    "df1.to_excel(writer, sheet_name='Sheet2')\n",
    "df2.to_excel(writer, sheet_name='Sheet2', startrow=df1.shape[0] + 2)\n",
    "\n",
    "writer.close()"
   ]
  }
 ],
 "metadata": {
  "kernelspec": {
   "display_name": "Python 3 (ipykernel)",
   "language": "python",
   "name": "python3"
  },
  "language_info": {
   "codemirror_mode": {
    "name": "ipython",
    "version": 3
   },
   "file_extension": ".py",
   "mimetype": "text/x-python",
   "name": "python",
   "nbconvert_exporter": "python",
   "pygments_lexer": "ipython3",
   "version": "3.10.12"
  }
 },
 "nbformat": 4,
 "nbformat_minor": 5
}
