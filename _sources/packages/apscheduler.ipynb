{
 "cells": [
  {
   "cell_type": "markdown",
   "metadata": {},
   "source": [
    "# APScheduler\n",
    "\n",
    "APScheduler is a package that allows to start and controll processes that will do some jobs according to some triggers.For more check official [APScheduler documentation](https://apscheduler.readthedocs.io/en/3.x/index.html). \n"
   ]
  },
  {
   "cell_type": "code",
   "execution_count": 35,
   "metadata": {},
   "outputs": [],
   "source": [
    "from time import sleep\n",
    "from unittest.mock import Mock\n",
    "\n",
    "import apscheduler\n",
    "from apscheduler.schedulers.background import BackgroundScheduler"
   ]
  },
  {
   "cell_type": "markdown",
   "metadata": {},
   "source": [
    "## Scheduler events\n",
    "\n",
    "There are a number of events that can happen with job. You can add some logic for when they occur by using *listeners*. Add listeners to the scheduler using the scheduler's `add_listener` method.\n",
    "\n",
    "The `add_listener` method typically takes the function to be executed and evnt code to triger execution."
   ]
  },
  {
   "cell_type": "markdown",
   "metadata": {},
   "source": [
    "---\n",
    "\n",
    "The next cell implements the job code, the listener code, and creates the corresponding scheduler. Note that the listener was added with `EVENT_JOB_EXECUTED`, which declares some actions before a job is finished."
   ]
  },
  {
   "cell_type": "code",
   "execution_count": 18,
   "metadata": {},
   "outputs": [],
   "source": [
    "def my_listener(event):\n",
    "    print(\"Job completed.\")\n",
    "\n",
    "def periodic_job():\n",
    "    print(\"I'm a main task\")\n",
    "\n",
    "scheduler = BackgroundScheduler()\n",
    "scheduler.add_job(periodic_job, \"interval\", seconds=3)\n",
    "scheduler.add_listener(my_listener, apscheduler.events.EVENT_JOB_EXECUTED)"
   ]
  },
  {
   "cell_type": "markdown",
   "metadata": {},
   "source": [
    "The following cell runs the scheduler we created."
   ]
  },
  {
   "cell_type": "code",
   "execution_count": 25,
   "metadata": {},
   "outputs": [
    {
     "name": "stdout",
     "output_type": "stream",
     "text": [
      "I'm a main task\n",
      "Job completed.\n",
      "I'm a main task\n",
      "Job completed.\n",
      "I'm a main task\n",
      "Job completed.\n"
     ]
    }
   ],
   "source": [
    "scheduler.start()\n",
    "sleep(10)\n",
    "scheduler.shutdown()"
   ]
  },
  {
   "cell_type": "markdown",
   "metadata": {},
   "source": [
    "Each message produced by `periodic_job` is followed by message produced by the `periodic_job` proving that the job was terminated with the code specified in the listener."
   ]
  },
  {
   "cell_type": "markdown",
   "metadata": {},
   "source": [
    "## Triggers\n",
    "\n",
    "Triggers determine when a job is executed. \n",
    "\n",
    "Trigger properties are defined in the `add_job` method of the `scheduler`. There are two common ways to configure triggers for a job:\n",
    "\n",
    "- Pass an explicit object that describes the trigger as the `trigger` argument.  \n",
    "- Pass a string that corresponds to the trigger type, which you can configure further."
   ]
  },
  {
   "cell_type": "markdown",
   "metadata": {},
   "source": [
    "---\n",
    "\n",
    "The following cell shows a way to define triggers in the simplest way: by setting `trigger=\"interval\"` and setting `minutes` parameter of the corresponding trigger."
   ]
  },
  {
   "cell_type": "code",
   "execution_count": 38,
   "metadata": {},
   "outputs": [
    {
     "data": {
      "text/plain": [
       "<Job (id=a4a09732485342cda07deaf79f53279d name=Mock)>"
      ]
     },
     "execution_count": 38,
     "metadata": {},
     "output_type": "execute_result"
    }
   ],
   "source": [
    "scheduler = BackgroundScheduler()\n",
    "scheduler.add_job(Mock(), trigger=\"interval\", minutes=0.01)"
   ]
  },
  {
   "cell_type": "markdown",
   "metadata": {},
   "source": [
    "The opposite way is to set a custom instance of `IntervalTrigger` to the `trigger` argument."
   ]
  },
  {
   "cell_type": "code",
   "execution_count": 39,
   "metadata": {},
   "outputs": [
    {
     "data": {
      "text/plain": [
       "<Job (id=266cd5c8d30348e693d4350369edad12 name=Mock)>"
      ]
     },
     "execution_count": 39,
     "metadata": {},
     "output_type": "execute_result"
    }
   ],
   "source": [
    "from apscheduler.triggers.interval import IntervalTrigger\n",
    "scheduler.add_job(Mock(), trigger=IntervalTrigger(days=3))"
   ]
  },
  {
   "cell_type": "markdown",
   "metadata": {},
   "source": [
    "Each scheduler class has a `_trigger_classes` attribute that describes the correspondence of strings to actual classes to use. The following cell shows `BackgroupdScheduler._trigger_classes`."
   ]
  },
  {
   "cell_type": "code",
   "execution_count": 45,
   "metadata": {},
   "outputs": [
    {
     "data": {
      "text/plain": [
       "{'interval': apscheduler.triggers.interval.IntervalTrigger}"
      ]
     },
     "execution_count": 45,
     "metadata": {},
     "output_type": "execute_result"
    }
   ],
   "source": [
    "BackgroundScheduler._trigger_classes"
   ]
  }
 ],
 "metadata": {
  "kernelspec": {
   "display_name": "Python 3",
   "language": "python",
   "name": "python3"
  },
  "language_info": {
   "codemirror_mode": {
    "name": "ipython",
    "version": 3
   },
   "file_extension": ".py",
   "mimetype": "text/x-python",
   "name": "python",
   "nbconvert_exporter": "python",
   "pygments_lexer": "ipython3",
   "version": "3.10.12"
  }
 },
 "nbformat": 4,
 "nbformat_minor": 2
}
