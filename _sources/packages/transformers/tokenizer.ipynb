{
 "cells": [
  {
   "cell_type": "markdown",
   "metadata": {},
   "source": [
    "# Tokenizer\n",
    "\n",
    "There is a group of objects in the `transformers` library that provide tokinzation. This page considers their properties."
   ]
  },
  {
   "cell_type": "code",
   "execution_count": 1,
   "metadata": {},
   "outputs": [],
   "source": [
    "import transformers\n",
    "from random import randint\n",
    "tokenizer = transformers.AutoTokenizer.from_pretrained(\"bert-base-cased\")"
   ]
  },
  {
   "cell_type": "markdown",
   "metadata": {},
   "source": [
    "## Vocabulary\n",
    "\n",
    "To get the vocabulary of the tonizer, use the `get_vocab` method: it returns dict where each available token corresponds to it's id."
   ]
  },
  {
   "cell_type": "markdown",
   "metadata": {},
   "source": [
    "---\n",
    "\n",
    "The following cell represents a small subset of the vocabulary of the tokeniser under consideration."
   ]
  },
  {
   "cell_type": "code",
   "execution_count": 20,
   "metadata": {},
   "outputs": [
    {
     "data": {
      "text/plain": [
       "{'##úl': 26994,\n",
       " 'Michaels': 19108,\n",
       " 'Sculpture': 19477,\n",
       " 'notoriety': 26002,\n",
       " '##kov': 7498,\n",
       " '##grating': 21889,\n",
       " '##¹': 28173,\n",
       " 'Manny': 17381,\n",
       " 'towers': 8873,\n",
       " '##gles': 15657}"
      ]
     },
     "execution_count": 20,
     "metadata": {},
     "output_type": "execute_result"
    }
   ],
   "source": [
    "vocab: dict[str, int] = tokenizer.get_vocab()\n",
    "dict(list(vocab.items())[:10])"
   ]
  },
  {
   "cell_type": "markdown",
   "metadata": {},
   "source": [
    "## Transformations\n",
    "\n",
    "There is a set of tools available in the Transformers Python package for performing common transformations in the NLP domain:\n",
    "\n",
    "- `tokenize`: Converts a given `str` into a list of tokens.\n",
    "- `convert_tokens_to_ids`: Converts a `list[str]` into a list of integers, where each integer represents the index of the corresponding token.\n",
    "- `convert_ids_to_tokens`: Converts a `list[int]` of token indices into a list of strings, where each string represents a token.\n",
    "- `decode`: Takes a `list[int]` of token indices and reconstructs a full sentence from them."
   ]
  },
  {
   "cell_type": "markdown",
   "metadata": {},
   "source": [
    "---\n",
    "\n",
    "The following cells represents the usage of all the tools mentioned."
   ]
  },
  {
   "cell_type": "markdown",
   "metadata": {},
   "source": [
    "Here is an example of decomposing text into tokens."
   ]
  },
  {
   "cell_type": "code",
   "execution_count": 10,
   "metadata": {},
   "outputs": [
    {
     "data": {
      "text/plain": [
       "['typical', 'to', '##kin', '##ez', '##ation', 'example']"
      ]
     },
     "execution_count": 10,
     "metadata": {},
     "output_type": "execute_result"
    }
   ],
   "source": [
    "tokens_list = tokenizer.tokenize(\"typical tokinezation example\")\n",
    "tokens_list"
   ]
  },
  {
   "cell_type": "markdown",
   "metadata": {},
   "source": [
    "The following cell shows how really popular words, which is typicaly have separate tokens corresponding indices of the tokens."
   ]
  },
  {
   "cell_type": "code",
   "execution_count": 3,
   "metadata": {},
   "outputs": [
    {
     "data": {
      "text/plain": [
       "[19082, 1110, 1103]"
      ]
     },
     "execution_count": 3,
     "metadata": {},
     "output_type": "execute_result"
    }
   ],
   "source": [
    "ids_list = tokenizer.convert_tokens_to_ids([\"hello\", \"is\", \"the\"])\n",
    "ids_list"
   ]
  },
  {
   "cell_type": "markdown",
   "metadata": {},
   "source": [
    "Now use `convert_ids_to_tokens` to convert the list of numbers into a list of strings, each string being a token."
   ]
  },
  {
   "cell_type": "code",
   "execution_count": 10,
   "metadata": {},
   "outputs": [
    {
     "data": {
      "text/plain": [
       "['##gles', 'needed', 'thereafter']"
      ]
     },
     "execution_count": 10,
     "metadata": {},
     "output_type": "execute_result"
    }
   ],
   "source": [
    "tokenizer.convert_ids_to_tokens([15657, 1834, 7321])"
   ]
  },
  {
   "cell_type": "markdown",
   "metadata": {},
   "source": [
    "And the list of tokens can be transformed into finished text using the `decode` method."
   ]
  },
  {
   "cell_type": "code",
   "execution_count": 11,
   "metadata": {},
   "outputs": [
    {
     "data": {
      "text/plain": [
       "'##gles needed thereafter'"
      ]
     },
     "execution_count": 11,
     "metadata": {},
     "output_type": "execute_result"
    }
   ],
   "source": [
    "tokenizer.decode([15657, 1834, 7321])"
   ]
  },
  {
   "cell_type": "markdown",
   "metadata": {},
   "source": [
    "## Special tokens\n",
    "\n",
    "Typically, tokenisers have `pad_token`, `eos_token`, `bos_token` and `unk_token` fields that allow access to how the tokeniser in question handles service tokens. "
   ]
  },
  {
   "cell_type": "markdown",
   "metadata": {},
   "source": [
    "---\n",
    "\n",
    "The next code represents the special tokens for the tokinesator we loaded earlier:"
   ]
  },
  {
   "cell_type": "code",
   "execution_count": 5,
   "metadata": {},
   "outputs": [
    {
     "data": {
      "text/plain": [
       "('[PAD]', None, None, '[UNK]')"
      ]
     },
     "execution_count": 5,
     "metadata": {},
     "output_type": "execute_result"
    }
   ],
   "source": [
    "tokenizer.pad_token, tokenizer.eos_token, tokenizer.bos_token, tokenizer.unk_token"
   ]
  }
 ],
 "metadata": {
  "kernelspec": {
   "display_name": "venv",
   "language": "python",
   "name": "python3"
  },
  "language_info": {
   "codemirror_mode": {
    "name": "ipython",
    "version": 3
   },
   "file_extension": ".py",
   "mimetype": "text/x-python",
   "name": "python",
   "nbconvert_exporter": "python",
   "pygments_lexer": "ipython3",
   "version": "3.12.3"
  }
 },
 "nbformat": 4,
 "nbformat_minor": 2
}
