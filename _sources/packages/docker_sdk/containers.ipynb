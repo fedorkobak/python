{
 "cells": [
  {
   "cell_type": "markdown",
   "metadata": {},
   "source": [
    "# Containers\n",
    "\n",
    "Here is more carefull consideration of the options associated with working with containers."
   ]
  },
  {
   "cell_type": "code",
   "execution_count": 2,
   "metadata": {},
   "outputs": [],
   "source": [
    "import os\n",
    "import docker\n",
    "client = docker.from_env()"
   ]
  },
  {
   "cell_type": "markdown",
   "metadata": {},
   "source": [
    "## Run\n",
    "\n",
    "Here we look more closely at concepts related to running containers. See the [relevant section](https://docker-py.readthedocs.io/en/stable/containers.html#docker.models.containers.ContainerCollection.run) in the official documentation."
   ]
  },
  {
   "cell_type": "markdown",
   "metadata": {},
   "source": [
    "### Volumes\n",
    "\n",
    "There is a special parameter in `docker.client.DockerClient` - `volumes`. This allows you to specify volumes for your Docker container.\n",
    "\n",
    "The definition of the volume has a specific syntax - it should be a dictionary, each element of which corresponds to the container. Each key is a path on the host, each value is another dictionary with keys `bind` and `mode`. Where `bind` is the path in the container and `mode` is the mode of the volume.\n",
    "\n",
    "In general, it should look like this:\n",
    "\n",
    "```python\n",
    "{\n",
    "    \"<path on the host 1>\": {\"bind\": \"<path on the container 1>\", \"mode\": \"<mode>\"},\n",
    "    \"<path on the host 2>\": {\"bind\": \"<path on the container 2>\", \"mode\": \"<mode>\"},\n",
    "    ...\n",
    "}\n",
    "```"
   ]
  },
  {
   "cell_type": "markdown",
   "metadata": {},
   "source": [
    "Consider example where we try to mount file to the container runned with sdk. So in the next file we creating file that contains specific message:"
   ]
  },
  {
   "cell_type": "code",
   "execution_count": 3,
   "metadata": {},
   "outputs": [
    {
     "name": "stdout",
     "output_type": "stream",
     "text": [
      "Overwriting containers_files/some_message\n"
     ]
    }
   ],
   "source": [
    "%%writefile containers_files/some_message\n",
    "This is message from future container"
   ]
  },
  {
   "cell_type": "markdown",
   "metadata": {},
   "source": [
    "This cell is running container and then executing `cat some_message` so content of the mounted file should be printed."
   ]
  },
  {
   "cell_type": "code",
   "execution_count": null,
   "metadata": {},
   "outputs": [
    {
     "name": "stdout",
     "output_type": "stream",
     "text": [
      "This is message from future container\n",
      "\n"
     ]
    }
   ],
   "source": [
    "container = client.containers.run(\n",
    "    image=\"ubuntu\",\n",
    "    name=\"temp_container\",\n",
    "    volumes={\n",
    "        f\"{os.getcwd()}/containers_files/some_message\": \n",
    "        {'bind': '/some_message', 'mode': 'rw'}\n",
    "    },\n",
    "    detach=True,\n",
    "    stdin_open=True,\n",
    "    remove=True\n",
    ")\n",
    "\n",
    "print(container.exec_run(\"cat some_message\").output.decode(\"utf-8\"))\n",
    "\n",
    "container.stop()"
   ]
  },
  {
   "cell_type": "markdown",
   "metadata": {},
   "source": [
    "### Ports\n",
    "\n",
    "You can set ports for docker conatiner using the `ports` argument. It must take dict value with format `{<port in the conatainer>: <port in the host>}`.\n",
    "\n",
    "**Note:** it can be confusing that in the `docker run`, `-p` parameter we usually set the port on the host first, but in the `port` argument of the docker SDK, the dictionary takes ports on the host as a keys."
   ]
  },
  {
   "cell_type": "markdown",
   "metadata": {},
   "source": [
    "---\n",
    "\n",
    "The following cell starts the docker container with the `ports` argument."
   ]
  },
  {
   "cell_type": "code",
   "execution_count": 18,
   "metadata": {},
   "outputs": [],
   "source": [
    "container = client.containers.run(\n",
    "    image=\"alpine\",\n",
    "    ports={6060: 7070},\n",
    "    command=\"sh\",\n",
    "    detach=True,\n",
    "    stdin_open=True,\n",
    "    remove=True\n",
    ")"
   ]
  },
  {
   "cell_type": "markdown",
   "metadata": {},
   "source": [
    "The following code shows that the container was indeed created and that it has the appropriate ports configuration."
   ]
  },
  {
   "cell_type": "code",
   "execution_count": 19,
   "metadata": {},
   "outputs": [
    {
     "name": "stdout",
     "output_type": "stream",
     "text": [
      "CONTAINER ID   IMAGE     COMMAND   CREATED         STATUS         PORTS                                         NAMES\n",
      "81bd3dacf36b   alpine    \"sh\"      3 seconds ago   Up 3 seconds   0.0.0.0:7070->6060/tcp, [::]:7070->6060/tcp   tender_allen\n"
     ]
    }
   ],
   "source": [
    "!docker ps"
   ]
  },
  {
   "cell_type": "code",
   "execution_count": 20,
   "metadata": {},
   "outputs": [],
   "source": [
    "container.stop()"
   ]
  },
  {
   "cell_type": "markdown",
   "metadata": {},
   "source": [
    "## Logs\n",
    "\n",
    "You can get container logs as `bytes` by using `logs()` method."
   ]
  },
  {
   "cell_type": "markdown",
   "metadata": {},
   "source": [
    "The following example runs a Docker container that uses Python to spam some information to standard output."
   ]
  },
  {
   "cell_type": "code",
   "execution_count": 34,
   "metadata": {},
   "outputs": [],
   "source": [
    "command = \"\"\"\n",
    "    python3 -c \n",
    "    \"for i in range(10): \n",
    "    print(''.join([chr(i+j+100) for j in range(10)]))\"\n",
    "\"\"\"\n",
    "container = client.containers.run(\n",
    "    \"python:3.10.14-alpine3.20\",\n",
    "    command = command,\n",
    "    detach = True\n",
    ")"
   ]
  },
  {
   "cell_type": "markdown",
   "metadata": {},
   "source": [
    "Now for an example of loading and printing logs from the container."
   ]
  },
  {
   "cell_type": "code",
   "execution_count": 35,
   "metadata": {},
   "outputs": [
    {
     "name": "stdout",
     "output_type": "stream",
     "text": [
      "defghijklm\n",
      "efghijklmn\n",
      "fghijklmno\n",
      "ghijklmnop\n",
      "hijklmnopq\n",
      "ijklmnopqr\n",
      "jklmnopqrs\n",
      "klmnopqrst\n",
      "lmnopqrstu\n",
      "mnopqrstuv\n",
      "\n"
     ]
    }
   ],
   "source": [
    "print(container.logs().decode(\"utf-8\"))\n",
    "container.remove()"
   ]
  }
 ],
 "metadata": {
  "kernelspec": {
   "display_name": "Python 3",
   "language": "python",
   "name": "python3"
  },
  "language_info": {
   "codemirror_mode": {
    "name": "ipython",
    "version": 3
   },
   "file_extension": ".py",
   "mimetype": "text/x-python",
   "name": "python",
   "nbconvert_exporter": "python",
   "pygments_lexer": "ipython3",
   "version": "3.12.10"
  }
 },
 "nbformat": 4,
 "nbformat_minor": 4
}
