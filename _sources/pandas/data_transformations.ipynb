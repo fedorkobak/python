{
 "cells": [
  {
   "cell_type": "markdown",
   "id": "f2eabcd3-54a6-42b8-a9ac-eb12d6e477e8",
   "metadata": {},
   "source": [
    "# Data transformations"
   ]
  },
  {
   "cell_type": "code",
   "execution_count": 2,
   "id": "e19d647c-2aa3-4bab-b828-46ed49af2e75",
   "metadata": {},
   "outputs": [],
   "source": [
    "import numpy as np\n",
    "import pandas as pd"
   ]
  },
  {
   "cell_type": "markdown",
   "id": "b97d5b50-92aa-4a56-b24d-c5a54954d1fe",
   "metadata": {},
   "source": [
    "## Stack/unstack\n",
    "\n",
    "This topic is well covered in the official documentation: [stack](https://pandas.pydata.org/docs/reference/api/pandas.DataFrame.stack.html) and [unstack](https://pandas.pydata.org/docs/reference/api/pandas.DataFrame.unstack.html#pandas.DataFrame.unstack) functions."
   ]
  },
  {
   "cell_type": "markdown",
   "id": "3772d802-8612-4787-9731-80f0cfd8e979",
   "metadata": {},
   "source": [
    "Here I just want to show the idea that `stack` actually adds columns as a sublevel of the index. And `unstack` adds index as sublevel of columns."
   ]
  },
  {
   "cell_type": "markdown",
   "id": "0b1b5601-b847-4937-b4aa-8eadcd986ee2",
   "metadata": {},
   "source": [
    "### One level example\n",
    "\n",
    "The simple example will help you understand the concept. The following cell defines `pandas.DataFrame`, which we will use as an example."
   ]
  },
  {
   "cell_type": "code",
   "execution_count": 3,
   "id": "007473c5-87c6-4af6-861f-a7c4c182cb5f",
   "metadata": {},
   "outputs": [
    {
     "data": {
      "text/html": [
       "<div>\n",
       "<style scoped>\n",
       "    .dataframe tbody tr th:only-of-type {\n",
       "        vertical-align: middle;\n",
       "    }\n",
       "\n",
       "    .dataframe tbody tr th {\n",
       "        vertical-align: top;\n",
       "    }\n",
       "\n",
       "    .dataframe thead th {\n",
       "        text-align: right;\n",
       "    }\n",
       "</style>\n",
       "<table border=\"1\" class=\"dataframe\">\n",
       "  <thead>\n",
       "    <tr style=\"text-align: right;\">\n",
       "      <th></th>\n",
       "      <th>weight</th>\n",
       "      <th>height</th>\n",
       "    </tr>\n",
       "  </thead>\n",
       "  <tbody>\n",
       "    <tr>\n",
       "      <th>cat</th>\n",
       "      <td>0</td>\n",
       "      <td>1</td>\n",
       "    </tr>\n",
       "    <tr>\n",
       "      <th>dog</th>\n",
       "      <td>2</td>\n",
       "      <td>3</td>\n",
       "    </tr>\n",
       "  </tbody>\n",
       "</table>\n",
       "</div>"
      ],
      "text/plain": [
       "     weight  height\n",
       "cat       0       1\n",
       "dog       2       3"
      ]
     },
     "execution_count": 3,
     "metadata": {},
     "output_type": "execute_result"
    }
   ],
   "source": [
    "df_single_level_cols = pd.DataFrame(\n",
    "    [[0, 1], [2, 3]],\n",
    "    index=['cat', 'dog'],\n",
    "    columns=['weight', 'height']\n",
    ")\n",
    "df_single_level_cols"
   ]
  },
  {
   "cell_type": "markdown",
   "id": "eebfa0df-d9ea-4731-bd40-157692c40e2c",
   "metadata": {},
   "source": [
    "If we use the `stack` method, you'll get series with indexes that use original columns as a sublevel of the index."
   ]
  },
  {
   "cell_type": "code",
   "execution_count": 4,
   "id": "e534e9ea-5976-4bf7-ae05-5264bbbf2801",
   "metadata": {},
   "outputs": [
    {
     "data": {
      "text/plain": [
       "cat  weight    0\n",
       "     height    1\n",
       "dog  weight    2\n",
       "     height    3\n",
       "dtype: int64"
      ]
     },
     "execution_count": 4,
     "metadata": {},
     "output_type": "execute_result"
    }
   ],
   "source": [
    "df_single_level_cols.stack(future_stack=True)"
   ]
  },
  {
   "cell_type": "markdown",
   "id": "6600d8d8-bb29-4850-9df4-4ece5932810c",
   "metadata": {},
   "source": [
    "If we use the `unstack` method, we'll get series that have an index where the top level is built from columns and the inner level is built from the index of the original dataframe."
   ]
  },
  {
   "cell_type": "code",
   "execution_count": 5,
   "id": "feb633db-45a7-4b3b-86f1-7be5223f390e",
   "metadata": {},
   "outputs": [
    {
     "data": {
      "text/plain": [
       "weight  cat    0\n",
       "        dog    2\n",
       "height  cat    1\n",
       "        dog    3\n",
       "dtype: int64"
      ]
     },
     "execution_count": 5,
     "metadata": {},
     "output_type": "execute_result"
    }
   ],
   "source": [
    "df_single_level_cols.unstack()"
   ]
  },
  {
   "cell_type": "markdown",
   "id": "b9e75cf7-4791-4572-979f-210b207c6103",
   "metadata": {},
   "source": [
    "### Two level example\n",
    "\n",
    "This example is even more representative, because as a result we get not a series that is always displayed vertically, but a dataframe that preserves the original display. So the following cell creates and displays the dataframe we'll use as an example."
   ]
  },
  {
   "cell_type": "code",
   "execution_count": 30,
   "id": "20d376a2-bb87-4583-8e0c-a26cc81472a4",
   "metadata": {},
   "outputs": [
    {
     "data": {
      "text/html": [
       "<div>\n",
       "<style scoped>\n",
       "    .dataframe tbody tr th:only-of-type {\n",
       "        vertical-align: middle;\n",
       "    }\n",
       "\n",
       "    .dataframe tbody tr th {\n",
       "        vertical-align: top;\n",
       "    }\n",
       "\n",
       "    .dataframe thead tr th {\n",
       "        text-align: left;\n",
       "    }\n",
       "</style>\n",
       "<table border=\"1\" class=\"dataframe\">\n",
       "  <thead>\n",
       "    <tr>\n",
       "      <th></th>\n",
       "      <th></th>\n",
       "      <th colspan=\"2\" halign=\"left\">width</th>\n",
       "      <th colspan=\"2\" halign=\"left\">height</th>\n",
       "    </tr>\n",
       "    <tr>\n",
       "      <th></th>\n",
       "      <th></th>\n",
       "      <th>m</th>\n",
       "      <th>ft</th>\n",
       "      <th>m</th>\n",
       "      <th>ft</th>\n",
       "    </tr>\n",
       "  </thead>\n",
       "  <tbody>\n",
       "    <tr>\n",
       "      <th rowspan=\"2\" valign=\"top\">cat</th>\n",
       "      <th>wild</th>\n",
       "      <td>0</td>\n",
       "      <td>1</td>\n",
       "      <td>2</td>\n",
       "      <td>3</td>\n",
       "    </tr>\n",
       "    <tr>\n",
       "      <th>home</th>\n",
       "      <td>4</td>\n",
       "      <td>5</td>\n",
       "      <td>6</td>\n",
       "      <td>7</td>\n",
       "    </tr>\n",
       "    <tr>\n",
       "      <th rowspan=\"2\" valign=\"top\">dog</th>\n",
       "      <th>wild</th>\n",
       "      <td>8</td>\n",
       "      <td>9</td>\n",
       "      <td>10</td>\n",
       "      <td>11</td>\n",
       "    </tr>\n",
       "    <tr>\n",
       "      <th>home</th>\n",
       "      <td>12</td>\n",
       "      <td>13</td>\n",
       "      <td>14</td>\n",
       "      <td>15</td>\n",
       "    </tr>\n",
       "  </tbody>\n",
       "</table>\n",
       "</div>"
      ],
      "text/plain": [
       "         width     height    \n",
       "             m  ft      m  ft\n",
       "cat wild     0   1      2   3\n",
       "    home     4   5      6   7\n",
       "dog wild     8   9     10  11\n",
       "    home    12  13     14  15"
      ]
     },
     "execution_count": 30,
     "metadata": {},
     "output_type": "execute_result"
    }
   ],
   "source": [
    "ind = pd.MultiIndex.from_tuples([\n",
    "    ('cat', 'wild'),\n",
    "    ('cat', 'home'),\n",
    "    ('dog', \"wild\"),\n",
    "    ('dog', 'home')\n",
    "])\n",
    "col = pd.MultiIndex.from_tuples([\n",
    "    (\"width\", \"m\"),\n",
    "    (\"width\", \"ft\"),\n",
    "    (\"height\", \"m\"),\n",
    "    (\"height\", \"ft\")\n",
    "])\n",
    "\n",
    "example_df = pd.DataFrame(\n",
    "    (\n",
    "        np.arange(len(ind)*len(col))\n",
    "        .reshape([len(ind), len(col)])\n",
    "    ),\n",
    "    index=ind,\n",
    "    columns=col\n",
    ")\n",
    "example_df"
   ]
  },
  {
   "cell_type": "markdown",
   "id": "a31f95da-9708-40fc-ac59-5273b7a2a8b7",
   "metadata": {},
   "source": [
    "**Stack**\n",
    "\n",
    "So here is an example of a `stack` that actually just moved different levels of columns to the inner level of the index."
   ]
  },
  {
   "cell_type": "code",
   "execution_count": 31,
   "id": "6a71ac48-f3be-4e60-9303-8f93be103c73",
   "metadata": {},
   "outputs": [
    {
     "data": {
      "text/html": [
       "<div>\n",
       "<style scoped>\n",
       "    .dataframe tbody tr th:only-of-type {\n",
       "        vertical-align: middle;\n",
       "    }\n",
       "\n",
       "    .dataframe tbody tr th {\n",
       "        vertical-align: top;\n",
       "    }\n",
       "\n",
       "    .dataframe thead th {\n",
       "        text-align: right;\n",
       "    }\n",
       "</style>\n",
       "<table border=\"1\" class=\"dataframe\">\n",
       "  <thead>\n",
       "    <tr style=\"text-align: right;\">\n",
       "      <th></th>\n",
       "      <th></th>\n",
       "      <th></th>\n",
       "      <th>m</th>\n",
       "      <th>ft</th>\n",
       "    </tr>\n",
       "  </thead>\n",
       "  <tbody>\n",
       "    <tr>\n",
       "      <th rowspan=\"4\" valign=\"top\">cat</th>\n",
       "      <th rowspan=\"2\" valign=\"top\">wild</th>\n",
       "      <th>width</th>\n",
       "      <td>0</td>\n",
       "      <td>1</td>\n",
       "    </tr>\n",
       "    <tr>\n",
       "      <th>height</th>\n",
       "      <td>2</td>\n",
       "      <td>3</td>\n",
       "    </tr>\n",
       "    <tr>\n",
       "      <th rowspan=\"2\" valign=\"top\">home</th>\n",
       "      <th>width</th>\n",
       "      <td>4</td>\n",
       "      <td>5</td>\n",
       "    </tr>\n",
       "    <tr>\n",
       "      <th>height</th>\n",
       "      <td>6</td>\n",
       "      <td>7</td>\n",
       "    </tr>\n",
       "    <tr>\n",
       "      <th rowspan=\"4\" valign=\"top\">dog</th>\n",
       "      <th rowspan=\"2\" valign=\"top\">wild</th>\n",
       "      <th>width</th>\n",
       "      <td>8</td>\n",
       "      <td>9</td>\n",
       "    </tr>\n",
       "    <tr>\n",
       "      <th>height</th>\n",
       "      <td>10</td>\n",
       "      <td>11</td>\n",
       "    </tr>\n",
       "    <tr>\n",
       "      <th rowspan=\"2\" valign=\"top\">home</th>\n",
       "      <th>width</th>\n",
       "      <td>12</td>\n",
       "      <td>13</td>\n",
       "    </tr>\n",
       "    <tr>\n",
       "      <th>height</th>\n",
       "      <td>14</td>\n",
       "      <td>15</td>\n",
       "    </tr>\n",
       "  </tbody>\n",
       "</table>\n",
       "</div>"
      ],
      "text/plain": [
       "                  m  ft\n",
       "cat wild width    0   1\n",
       "         height   2   3\n",
       "    home width    4   5\n",
       "         height   6   7\n",
       "dog wild width    8   9\n",
       "         height  10  11\n",
       "    home width   12  13\n",
       "         height  14  15"
      ]
     },
     "metadata": {},
     "output_type": "display_data"
    },
    {
     "data": {
      "text/html": [
       "<div>\n",
       "<style scoped>\n",
       "    .dataframe tbody tr th:only-of-type {\n",
       "        vertical-align: middle;\n",
       "    }\n",
       "\n",
       "    .dataframe tbody tr th {\n",
       "        vertical-align: top;\n",
       "    }\n",
       "\n",
       "    .dataframe thead th {\n",
       "        text-align: right;\n",
       "    }\n",
       "</style>\n",
       "<table border=\"1\" class=\"dataframe\">\n",
       "  <thead>\n",
       "    <tr style=\"text-align: right;\">\n",
       "      <th></th>\n",
       "      <th></th>\n",
       "      <th></th>\n",
       "      <th>width</th>\n",
       "      <th>height</th>\n",
       "    </tr>\n",
       "  </thead>\n",
       "  <tbody>\n",
       "    <tr>\n",
       "      <th rowspan=\"4\" valign=\"top\">cat</th>\n",
       "      <th rowspan=\"2\" valign=\"top\">wild</th>\n",
       "      <th>m</th>\n",
       "      <td>0</td>\n",
       "      <td>2</td>\n",
       "    </tr>\n",
       "    <tr>\n",
       "      <th>ft</th>\n",
       "      <td>1</td>\n",
       "      <td>3</td>\n",
       "    </tr>\n",
       "    <tr>\n",
       "      <th rowspan=\"2\" valign=\"top\">home</th>\n",
       "      <th>m</th>\n",
       "      <td>4</td>\n",
       "      <td>6</td>\n",
       "    </tr>\n",
       "    <tr>\n",
       "      <th>ft</th>\n",
       "      <td>5</td>\n",
       "      <td>7</td>\n",
       "    </tr>\n",
       "    <tr>\n",
       "      <th rowspan=\"4\" valign=\"top\">dog</th>\n",
       "      <th rowspan=\"2\" valign=\"top\">wild</th>\n",
       "      <th>m</th>\n",
       "      <td>8</td>\n",
       "      <td>10</td>\n",
       "    </tr>\n",
       "    <tr>\n",
       "      <th>ft</th>\n",
       "      <td>9</td>\n",
       "      <td>11</td>\n",
       "    </tr>\n",
       "    <tr>\n",
       "      <th rowspan=\"2\" valign=\"top\">home</th>\n",
       "      <th>m</th>\n",
       "      <td>12</td>\n",
       "      <td>14</td>\n",
       "    </tr>\n",
       "    <tr>\n",
       "      <th>ft</th>\n",
       "      <td>13</td>\n",
       "      <td>15</td>\n",
       "    </tr>\n",
       "  </tbody>\n",
       "</table>\n",
       "</div>"
      ],
      "text/plain": [
       "             width  height\n",
       "cat wild m       0       2\n",
       "         ft      1       3\n",
       "    home m       4       6\n",
       "         ft      5       7\n",
       "dog wild m       8      10\n",
       "         ft      9      11\n",
       "    home m      12      14\n",
       "         ft     13      15"
      ]
     },
     "metadata": {},
     "output_type": "display_data"
    }
   ],
   "source": [
    "display(example_df.stack(level=0, future_stack=True))\n",
    "display(example_df.stack(level=1, future_stack=True))"
   ]
  },
  {
   "cell_type": "markdown",
   "id": "0144655a-3cdd-461a-a4f1-90885b6af616",
   "metadata": {},
   "source": [
    "**Unstack**\n",
    "\n",
    "So here is an example of the `unstack` that moves different levels of the index to the inner level of the columns."
   ]
  },
  {
   "cell_type": "code",
   "execution_count": 32,
   "id": "3d2f0c39-23b3-4bc8-b7a2-b9a2af4c0640",
   "metadata": {},
   "outputs": [
    {
     "data": {
      "text/html": [
       "<div>\n",
       "<style scoped>\n",
       "    .dataframe tbody tr th:only-of-type {\n",
       "        vertical-align: middle;\n",
       "    }\n",
       "\n",
       "    .dataframe tbody tr th {\n",
       "        vertical-align: top;\n",
       "    }\n",
       "\n",
       "    .dataframe thead tr th {\n",
       "        text-align: left;\n",
       "    }\n",
       "</style>\n",
       "<table border=\"1\" class=\"dataframe\">\n",
       "  <thead>\n",
       "    <tr>\n",
       "      <th></th>\n",
       "      <th colspan=\"4\" halign=\"left\">width</th>\n",
       "      <th colspan=\"4\" halign=\"left\">height</th>\n",
       "    </tr>\n",
       "    <tr>\n",
       "      <th></th>\n",
       "      <th colspan=\"2\" halign=\"left\">m</th>\n",
       "      <th colspan=\"2\" halign=\"left\">ft</th>\n",
       "      <th colspan=\"2\" halign=\"left\">m</th>\n",
       "      <th colspan=\"2\" halign=\"left\">ft</th>\n",
       "    </tr>\n",
       "    <tr>\n",
       "      <th></th>\n",
       "      <th>cat</th>\n",
       "      <th>dog</th>\n",
       "      <th>cat</th>\n",
       "      <th>dog</th>\n",
       "      <th>cat</th>\n",
       "      <th>dog</th>\n",
       "      <th>cat</th>\n",
       "      <th>dog</th>\n",
       "    </tr>\n",
       "  </thead>\n",
       "  <tbody>\n",
       "    <tr>\n",
       "      <th>home</th>\n",
       "      <td>4</td>\n",
       "      <td>12</td>\n",
       "      <td>5</td>\n",
       "      <td>13</td>\n",
       "      <td>6</td>\n",
       "      <td>14</td>\n",
       "      <td>7</td>\n",
       "      <td>15</td>\n",
       "    </tr>\n",
       "    <tr>\n",
       "      <th>wild</th>\n",
       "      <td>0</td>\n",
       "      <td>8</td>\n",
       "      <td>1</td>\n",
       "      <td>9</td>\n",
       "      <td>2</td>\n",
       "      <td>10</td>\n",
       "      <td>3</td>\n",
       "      <td>11</td>\n",
       "    </tr>\n",
       "  </tbody>\n",
       "</table>\n",
       "</div>"
      ],
      "text/plain": [
       "     width             height            \n",
       "         m      ft          m      ft    \n",
       "       cat dog cat dog    cat dog cat dog\n",
       "home     4  12   5  13      6  14   7  15\n",
       "wild     0   8   1   9      2  10   3  11"
      ]
     },
     "metadata": {},
     "output_type": "display_data"
    },
    {
     "data": {
      "text/html": [
       "<div>\n",
       "<style scoped>\n",
       "    .dataframe tbody tr th:only-of-type {\n",
       "        vertical-align: middle;\n",
       "    }\n",
       "\n",
       "    .dataframe tbody tr th {\n",
       "        vertical-align: top;\n",
       "    }\n",
       "\n",
       "    .dataframe thead tr th {\n",
       "        text-align: left;\n",
       "    }\n",
       "</style>\n",
       "<table border=\"1\" class=\"dataframe\">\n",
       "  <thead>\n",
       "    <tr>\n",
       "      <th></th>\n",
       "      <th colspan=\"4\" halign=\"left\">width</th>\n",
       "      <th colspan=\"4\" halign=\"left\">height</th>\n",
       "    </tr>\n",
       "    <tr>\n",
       "      <th></th>\n",
       "      <th colspan=\"2\" halign=\"left\">m</th>\n",
       "      <th colspan=\"2\" halign=\"left\">ft</th>\n",
       "      <th colspan=\"2\" halign=\"left\">m</th>\n",
       "      <th colspan=\"2\" halign=\"left\">ft</th>\n",
       "    </tr>\n",
       "    <tr>\n",
       "      <th></th>\n",
       "      <th>home</th>\n",
       "      <th>wild</th>\n",
       "      <th>home</th>\n",
       "      <th>wild</th>\n",
       "      <th>home</th>\n",
       "      <th>wild</th>\n",
       "      <th>home</th>\n",
       "      <th>wild</th>\n",
       "    </tr>\n",
       "  </thead>\n",
       "  <tbody>\n",
       "    <tr>\n",
       "      <th>cat</th>\n",
       "      <td>4</td>\n",
       "      <td>0</td>\n",
       "      <td>5</td>\n",
       "      <td>1</td>\n",
       "      <td>6</td>\n",
       "      <td>2</td>\n",
       "      <td>7</td>\n",
       "      <td>3</td>\n",
       "    </tr>\n",
       "    <tr>\n",
       "      <th>dog</th>\n",
       "      <td>12</td>\n",
       "      <td>8</td>\n",
       "      <td>13</td>\n",
       "      <td>9</td>\n",
       "      <td>14</td>\n",
       "      <td>10</td>\n",
       "      <td>15</td>\n",
       "      <td>11</td>\n",
       "    </tr>\n",
       "  </tbody>\n",
       "</table>\n",
       "</div>"
      ],
      "text/plain": [
       "    width                height               \n",
       "        m        ft           m        ft     \n",
       "     home wild home wild   home wild home wild\n",
       "cat     4    0    5    1      6    2    7    3\n",
       "dog    12    8   13    9     14   10   15   11"
      ]
     },
     "metadata": {},
     "output_type": "display_data"
    }
   ],
   "source": [
    "display(example_df.unstack(level=0))\n",
    "display(example_df.unstack(level=1))"
   ]
  },
  {
   "cell_type": "markdown",
   "id": "3150e632-8bae-4a9f-9d2a-7ee90562ae3b",
   "metadata": {},
   "source": [
    "## Combining frames\n",
    "\n",
    "Sometimes there are situations where it is useful to create a data frame that contains all possible combinations of input rows and their corresponding columns concatenated."
   ]
  },
  {
   "cell_type": "markdown",
   "id": "3431954f-b8f7-4bdb-8e3c-6a18e0b88ee3",
   "metadata": {},
   "source": [
    "### Problem"
   ]
  },
  {
   "cell_type": "markdown",
   "id": "65308126-56d5-47eb-97f7-8829937f3043",
   "metadata": {},
   "source": [
    "Imagine you have a task that involves applying a statistical model to evaluate the performance of different games for each user in a game service. To accomplish this, you need to examine all possible combinations of users and games to determine the best game for each user. In the cell below, we have created example tables for both users and games to illustrate this scenario."
   ]
  },
  {
   "cell_type": "code",
   "execution_count": 21,
   "id": "d3576f26-8d6e-4fdd-b92e-1ca7b00f5a4c",
   "metadata": {},
   "outputs": [
    {
     "data": {
      "text/html": [
       "<p style='font-size:15px'>Users</p>"
      ],
      "text/plain": [
       "<IPython.core.display.HTML object>"
      ]
     },
     "metadata": {},
     "output_type": "display_data"
    },
    {
     "data": {
      "text/html": [
       "<div>\n",
       "<style scoped>\n",
       "    .dataframe tbody tr th:only-of-type {\n",
       "        vertical-align: middle;\n",
       "    }\n",
       "\n",
       "    .dataframe tbody tr th {\n",
       "        vertical-align: top;\n",
       "    }\n",
       "\n",
       "    .dataframe thead th {\n",
       "        text-align: right;\n",
       "    }\n",
       "</style>\n",
       "<table border=\"1\" class=\"dataframe\">\n",
       "  <thead>\n",
       "    <tr style=\"text-align: right;\">\n",
       "      <th></th>\n",
       "      <th>user_name</th>\n",
       "      <th>sex</th>\n",
       "      <th>age</th>\n",
       "    </tr>\n",
       "  </thead>\n",
       "  <tbody>\n",
       "    <tr>\n",
       "      <th>0</th>\n",
       "      <td>Fedor</td>\n",
       "      <td>m</td>\n",
       "      <td>10</td>\n",
       "    </tr>\n",
       "    <tr>\n",
       "      <th>1</th>\n",
       "      <td>Sandra</td>\n",
       "      <td>w</td>\n",
       "      <td>23</td>\n",
       "    </tr>\n",
       "    <tr>\n",
       "      <th>2</th>\n",
       "      <td>Mark</td>\n",
       "      <td>m</td>\n",
       "      <td>7</td>\n",
       "    </tr>\n",
       "  </tbody>\n",
       "</table>\n",
       "</div>"
      ],
      "text/plain": [
       "  user_name sex  age\n",
       "0     Fedor   m   10\n",
       "1    Sandra   w   23\n",
       "2      Mark   m    7"
      ]
     },
     "metadata": {},
     "output_type": "display_data"
    },
    {
     "data": {
      "text/html": [
       "<p style='font-size:15px'>Games</p>"
      ],
      "text/plain": [
       "<IPython.core.display.HTML object>"
      ]
     },
     "metadata": {},
     "output_type": "display_data"
    },
    {
     "data": {
      "text/html": [
       "<div>\n",
       "<style scoped>\n",
       "    .dataframe tbody tr th:only-of-type {\n",
       "        vertical-align: middle;\n",
       "    }\n",
       "\n",
       "    .dataframe tbody tr th {\n",
       "        vertical-align: top;\n",
       "    }\n",
       "\n",
       "    .dataframe thead th {\n",
       "        text-align: right;\n",
       "    }\n",
       "</style>\n",
       "<table border=\"1\" class=\"dataframe\">\n",
       "  <thead>\n",
       "    <tr style=\"text-align: right;\">\n",
       "      <th></th>\n",
       "      <th>game_name</th>\n",
       "      <th>genre</th>\n",
       "    </tr>\n",
       "  </thead>\n",
       "  <tbody>\n",
       "    <tr>\n",
       "      <th>0</th>\n",
       "      <td>warcraft</td>\n",
       "      <td>rpg</td>\n",
       "    </tr>\n",
       "    <tr>\n",
       "      <th>1</th>\n",
       "      <td>conter-strike</td>\n",
       "      <td>shooter</td>\n",
       "    </tr>\n",
       "    <tr>\n",
       "      <th>2</th>\n",
       "      <td>valorant</td>\n",
       "      <td>shooter</td>\n",
       "    </tr>\n",
       "  </tbody>\n",
       "</table>\n",
       "</div>"
      ],
      "text/plain": [
       "       game_name    genre\n",
       "0       warcraft      rpg\n",
       "1  conter-strike  shooter\n",
       "2       valorant  shooter"
      ]
     },
     "metadata": {},
     "output_type": "display_data"
    }
   ],
   "source": [
    "import pandas as pd\n",
    "from IPython.display import HTML \n",
    "\n",
    "user = pd.DataFrame({\n",
    "    \"user_name\" : [\"Fedor\", \"Sandra\", \"Mark\"],\n",
    "    \"sex\" : [\"m\", \"w\", \"m\"],\n",
    "    \"age\" : [10, 23, 7]\n",
    "})\n",
    "game = pd.DataFrame({\n",
    "    \"game_name\" : [\"warcraft\", \"conter-strike\", \"valorant\"],\n",
    "    \"genre\" : [\"rpg\", \"shooter\", \"shooter\"]\n",
    "})\n",
    "\n",
    "display(HTML(\"<p style='font-size:15px'>Users</p>\"))\n",
    "display(user)\n",
    "display(HTML(\"<p style='font-size:15px'>Games</p>\"))\n",
    "display(game)"
   ]
  },
  {
   "cell_type": "markdown",
   "id": "6c7fcf89-55d3-4617-9b13-24a635e2ce9a",
   "metadata": {},
   "source": [
    "### Solution\n",
    "\n",
    "You can just use `pandas.Merge` function for getting all possble combinations. But you have to specify column that should be used as a key for merge. You can just specify same key for all records of both tables and specify it on the `on` argument of the `pandas.Merge`. So the realisation is showen below."
   ]
  },
  {
   "cell_type": "code",
   "execution_count": 23,
   "id": "c7505711-e4e4-4d21-a953-beaddf7b1729",
   "metadata": {},
   "outputs": [
    {
     "data": {
      "text/html": [
       "<div>\n",
       "<style scoped>\n",
       "    .dataframe tbody tr th:only-of-type {\n",
       "        vertical-align: middle;\n",
       "    }\n",
       "\n",
       "    .dataframe tbody tr th {\n",
       "        vertical-align: top;\n",
       "    }\n",
       "\n",
       "    .dataframe thead th {\n",
       "        text-align: right;\n",
       "    }\n",
       "</style>\n",
       "<table border=\"1\" class=\"dataframe\">\n",
       "  <thead>\n",
       "    <tr style=\"text-align: right;\">\n",
       "      <th></th>\n",
       "      <th>user_name</th>\n",
       "      <th>sex</th>\n",
       "      <th>age</th>\n",
       "      <th>game_name</th>\n",
       "      <th>genre</th>\n",
       "    </tr>\n",
       "  </thead>\n",
       "  <tbody>\n",
       "    <tr>\n",
       "      <th>0</th>\n",
       "      <td>Fedor</td>\n",
       "      <td>m</td>\n",
       "      <td>10</td>\n",
       "      <td>warcraft</td>\n",
       "      <td>rpg</td>\n",
       "    </tr>\n",
       "    <tr>\n",
       "      <th>1</th>\n",
       "      <td>Fedor</td>\n",
       "      <td>m</td>\n",
       "      <td>10</td>\n",
       "      <td>conter-strike</td>\n",
       "      <td>shooter</td>\n",
       "    </tr>\n",
       "    <tr>\n",
       "      <th>2</th>\n",
       "      <td>Fedor</td>\n",
       "      <td>m</td>\n",
       "      <td>10</td>\n",
       "      <td>valorant</td>\n",
       "      <td>shooter</td>\n",
       "    </tr>\n",
       "    <tr>\n",
       "      <th>3</th>\n",
       "      <td>Sandra</td>\n",
       "      <td>w</td>\n",
       "      <td>23</td>\n",
       "      <td>warcraft</td>\n",
       "      <td>rpg</td>\n",
       "    </tr>\n",
       "    <tr>\n",
       "      <th>4</th>\n",
       "      <td>Sandra</td>\n",
       "      <td>w</td>\n",
       "      <td>23</td>\n",
       "      <td>conter-strike</td>\n",
       "      <td>shooter</td>\n",
       "    </tr>\n",
       "    <tr>\n",
       "      <th>5</th>\n",
       "      <td>Sandra</td>\n",
       "      <td>w</td>\n",
       "      <td>23</td>\n",
       "      <td>valorant</td>\n",
       "      <td>shooter</td>\n",
       "    </tr>\n",
       "    <tr>\n",
       "      <th>6</th>\n",
       "      <td>Mark</td>\n",
       "      <td>m</td>\n",
       "      <td>7</td>\n",
       "      <td>warcraft</td>\n",
       "      <td>rpg</td>\n",
       "    </tr>\n",
       "    <tr>\n",
       "      <th>7</th>\n",
       "      <td>Mark</td>\n",
       "      <td>m</td>\n",
       "      <td>7</td>\n",
       "      <td>conter-strike</td>\n",
       "      <td>shooter</td>\n",
       "    </tr>\n",
       "    <tr>\n",
       "      <th>8</th>\n",
       "      <td>Mark</td>\n",
       "      <td>m</td>\n",
       "      <td>7</td>\n",
       "      <td>valorant</td>\n",
       "      <td>shooter</td>\n",
       "    </tr>\n",
       "  </tbody>\n",
       "</table>\n",
       "</div>"
      ],
      "text/plain": [
       "  user_name sex  age      game_name    genre\n",
       "0     Fedor   m   10       warcraft      rpg\n",
       "1     Fedor   m   10  conter-strike  shooter\n",
       "2     Fedor   m   10       valorant  shooter\n",
       "3    Sandra   w   23       warcraft      rpg\n",
       "4    Sandra   w   23  conter-strike  shooter\n",
       "5    Sandra   w   23       valorant  shooter\n",
       "6      Mark   m    7       warcraft      rpg\n",
       "7      Mark   m    7  conter-strike  shooter\n",
       "8      Mark   m    7       valorant  shooter"
      ]
     },
     "execution_count": 23,
     "metadata": {},
     "output_type": "execute_result"
    }
   ],
   "source": [
    "user[\"key\"]=1;game[\"key\"]=1\n",
    "pd.merge(user, game, on=\"key\").drop(\"key\", axis = 1)"
   ]
  },
  {
   "cell_type": "markdown",
   "id": "8bf1dd6a-6e10-43b7-b43d-29a58c128b3d",
   "metadata": {},
   "source": [
    "As the result `Fedor` have maches with all games. And any other user have matches with all games."
   ]
  },
  {
   "cell_type": "markdown",
   "id": "7680fe5e",
   "metadata": {},
   "source": [
    "## Group by\n",
    "\n",
    "`pd.dataframe.groupby()` and `pd.series.groupby()` allow to perform operations by groups.\n",
    "\n",
    "For more check:\n",
    "\n",
    "- [Special page](data_transformations/groupby.ipynb) on this website.\n",
    "- [Corresponding page in the official documentation](data_transformations/groupby.ipynb)."
   ]
  },
  {
   "cell_type": "markdown",
   "id": "90d15424",
   "metadata": {},
   "source": [
    "---\n",
    "\n",
    "The following cell shows a very basic example of the groupby data. There is a column that separates the dataset by groups: `group`; and a column under consideration: `value`."
   ]
  },
  {
   "cell_type": "code",
   "execution_count": 5,
   "id": "5a65343c",
   "metadata": {},
   "outputs": [
    {
     "data": {
      "text/html": [
       "<div>\n",
       "<style scoped>\n",
       "    .dataframe tbody tr th:only-of-type {\n",
       "        vertical-align: middle;\n",
       "    }\n",
       "\n",
       "    .dataframe tbody tr th {\n",
       "        vertical-align: top;\n",
       "    }\n",
       "\n",
       "    .dataframe thead th {\n",
       "        text-align: right;\n",
       "    }\n",
       "</style>\n",
       "<table border=\"1\" class=\"dataframe\">\n",
       "  <thead>\n",
       "    <tr style=\"text-align: right;\">\n",
       "      <th></th>\n",
       "      <th>group</th>\n",
       "      <th>value</th>\n",
       "    </tr>\n",
       "  </thead>\n",
       "  <tbody>\n",
       "    <tr>\n",
       "      <th>0</th>\n",
       "      <td>a</td>\n",
       "      <td>1</td>\n",
       "    </tr>\n",
       "    <tr>\n",
       "      <th>1</th>\n",
       "      <td>b</td>\n",
       "      <td>2</td>\n",
       "    </tr>\n",
       "    <tr>\n",
       "      <th>2</th>\n",
       "      <td>b</td>\n",
       "      <td>8</td>\n",
       "    </tr>\n",
       "    <tr>\n",
       "      <th>3</th>\n",
       "      <td>c</td>\n",
       "      <td>2</td>\n",
       "    </tr>\n",
       "  </tbody>\n",
       "</table>\n",
       "</div>"
      ],
      "text/plain": [
       "  group  value\n",
       "0     a      1\n",
       "1     b      2\n",
       "2     b      8\n",
       "3     c      2"
      ]
     },
     "execution_count": 5,
     "metadata": {},
     "output_type": "execute_result"
    }
   ],
   "source": [
    "example = pd.DataFrame(\n",
    "    [\n",
    "        [\"a\", 1],\n",
    "        [\"b\", 2],\n",
    "        [\"b\", 8],\n",
    "        [\"c\", 2]\n",
    "    ],\n",
    "    columns=[\"group\", \"value\"]\n",
    ")\n",
    "example"
   ]
  },
  {
   "cell_type": "markdown",
   "id": "45f3ce0e",
   "metadata": {},
   "source": [
    "So the following cell calculates sum of the values for each unique value in the `group`."
   ]
  },
  {
   "cell_type": "code",
   "execution_count": 11,
   "id": "60660e59",
   "metadata": {},
   "outputs": [
    {
     "data": {
      "text/html": [
       "<div>\n",
       "<style scoped>\n",
       "    .dataframe tbody tr th:only-of-type {\n",
       "        vertical-align: middle;\n",
       "    }\n",
       "\n",
       "    .dataframe tbody tr th {\n",
       "        vertical-align: top;\n",
       "    }\n",
       "\n",
       "    .dataframe thead th {\n",
       "        text-align: right;\n",
       "    }\n",
       "</style>\n",
       "<table border=\"1\" class=\"dataframe\">\n",
       "  <thead>\n",
       "    <tr style=\"text-align: right;\">\n",
       "      <th></th>\n",
       "      <th>value</th>\n",
       "    </tr>\n",
       "    <tr>\n",
       "      <th>group</th>\n",
       "      <th></th>\n",
       "    </tr>\n",
       "  </thead>\n",
       "  <tbody>\n",
       "    <tr>\n",
       "      <th>a</th>\n",
       "      <td>1</td>\n",
       "    </tr>\n",
       "    <tr>\n",
       "      <th>b</th>\n",
       "      <td>10</td>\n",
       "    </tr>\n",
       "    <tr>\n",
       "      <th>c</th>\n",
       "      <td>2</td>\n",
       "    </tr>\n",
       "  </tbody>\n",
       "</table>\n",
       "</div>"
      ],
      "text/plain": [
       "       value\n",
       "group       \n",
       "a          1\n",
       "b         10\n",
       "c          2"
      ]
     },
     "execution_count": 11,
     "metadata": {},
     "output_type": "execute_result"
    }
   ],
   "source": [
    "example.groupby(\"group\").sum()"
   ]
  }
 ],
 "metadata": {
  "kernelspec": {
   "display_name": "python",
   "language": "python",
   "name": "python3"
  },
  "language_info": {
   "codemirror_mode": {
    "name": "ipython",
    "version": 3
   },
   "file_extension": ".py",
   "mimetype": "text/x-python",
   "name": "python",
   "nbconvert_exporter": "python",
   "pygments_lexer": "ipython3",
   "version": "3.12.9"
  }
 },
 "nbformat": 4,
 "nbformat_minor": 5
}
