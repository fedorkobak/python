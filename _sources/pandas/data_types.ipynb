{
 "cells": [
  {
   "cell_type": "markdown",
   "id": "159126a3",
   "metadata": {},
   "source": [
    "# Data types\n",
    "\n",
    "`pandas` generally inherits its types system from NumPy. Below, we consider some features exclusive to pandas, and options for processing pandas series/data frames specific to particular data types. "
   ]
  },
  {
   "cell_type": "markdown",
   "id": "cddb41df",
   "metadata": {},
   "source": [
    "## Date & time\n",
    "\n",
    "Pandas provides an option for specifying a time zone for a datetime object.\n",
    "\n",
    "The following table lists features of the Pandas design that allow you to work with datetime and timedelta objects.\n",
    "\n",
    "| Function / Method                  | Description                                                                  |\n",
    "| ---------------------------------- | ---------------------------------------------------------------------------- |\n",
    "| `pd.to_datetime()`                 | Convert strings, numbers, etc. to `datetime64[ns]`                           |\n",
    "| `pd.date_range()`                  | Create a range of dates with fixed frequency                                 |\n",
    "| `pd.bdate_range()`                 | Like `date_range` but excludes weekends/holidays (business days)             |\n",
    "| `pd.to_timedelta()`                | Convert strings or numbers to `timedelta64[ns]`                              |\n",
    "| `pd.timedelta_range()`             | Create a range of timedeltas                                                 |\n",
    "| `Series.dt`                        | Accessor for datetime and timedelta components (e.g. `.dt.year`, `.dt.days`) |\n",
    "| `Series.dt.date`                   | Extract just the date part (as `datetime.date`)                              |\n",
    "| `Series.dt.time`                   | Extract just the time part (as `datetime.time`)                              |\n",
    "| `Series.dt.tz_localize()`          | Localize naive datetime to a timezone                                        |\n",
    "| `Series.dt.tz_convert()`           | Convert timezone-aware datetimes to another timezone                         |\n",
    "| `Series.dt.normalize()`            | Set time to midnight (00:00:00)                                              |\n",
    "| `Series.dt.floor(freq)`            | Round down to nearest frequency                                              |\n",
    "| `Series.dt.ceil(freq)`             | Round up to nearest frequency                                                |\n",
    "| `Series.dt.round(freq)`            | Round to nearest frequency                                                   |\n",
    "| `Series.dt.strftime(fmt)`          | Format datetime as string using `strftime` format                            |\n",
    "| `Series.dt.total_seconds()`        | Get total seconds from timedelta                                             |\n",
    "| `Series.dt.days` / `dt.seconds`    | Extract days or seconds from timedelta                                       |\n",
    "| `DataFrame.resample()`             | Resample time series data                                                    |\n",
    "| `DataFrame.asfreq(freq)`           | Change frequency without resampling                                          |\n",
    "| `DataFrame.shift(periods, freq)`   | Shift data in time                                                           |\n",
    "| `DataFrame.diff()`                 | Calculate timedelta difference between rows                                  |\n",
    "| `DatetimeIndex`, `TimedeltaIndex`  | Specialized index types for time-aware indexing and slicing                  |\n",
    "| `DataFrame.set_index(\"timestamp\")` | Useful to enable datetime indexing/resampling                                |\n",
    "| `DataFrame.rolling(window=\"30D\")`  | Rolling operations over time-based windows                                   |\n",
    "\n",
    "\n",
    "Check details in:\n",
    "- [Time series / date functionality](https://pandas.pydata.org/docs/user_guide/timeseries.html).\n",
    "- [Date & time](data_types/datetime.ipynb)."
   ]
  }
 ],
 "metadata": {
  "kernelspec": {
   "display_name": "python (3.13.5)",
   "language": "python",
   "name": "python3"
  },
  "language_info": {
   "codemirror_mode": {
    "name": "ipython",
    "version": 3
   },
   "file_extension": ".py",
   "mimetype": "text/x-python",
   "name": "python",
   "nbconvert_exporter": "python",
   "pygments_lexer": "ipython3",
   "version": "3.13.5"
  }
 },
 "nbformat": 4,
 "nbformat_minor": 5
}
