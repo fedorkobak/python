{
 "cells": [
  {
   "cell_type": "markdown",
   "id": "47c7d2f4-a162-47dd-9e07-d8c1a4f6e7e3",
   "metadata": {},
   "source": [
    "# Raising errors\n",
    "\n",
    "If you have cases with handling errors in your program, to test such cases you may need a tool to raise these errors.\n",
    "\n",
    "One particular case is testing logging for `try/except' blocks.\n",
    "\n",
    "You can use mocking mechanisms in such cases - you can pass the error to `unittest.mock.MagicMock.side_effect` and it'll be raised when the mock is called."
   ]
  },
  {
   "cell_type": "markdown",
   "id": "5fa5cac8-94a3-4e86-8227-0b0606527f3d",
   "metadata": {},
   "source": [
    "Here is example of the function that uses `request.get`. But, suppose, it can raise some errors and we need to handle them. The handling assumes that we will write the error information to the log. The log, for simplicity, is just a toy - just a list to which we can write something."
   ]
  },
  {
   "cell_type": "code",
   "execution_count": 25,
   "id": "8bef6e6d-494f-435f-b620-01f55e7e014c",
   "metadata": {},
   "outputs": [],
   "source": [
    "import requests\n",
    "def request_user(user_id, toy_log):\n",
    "    try:\n",
    "        response = requests.get(f\"https://im_not_exist/{user_id}\")\n",
    "        if response.ok:\n",
    "            return response.text\n",
    "    except ValueError:\n",
    "        toy_log.append(\"ValueError\")\n",
    "    except ZeroDivisionError:\n",
    "        toy_log.append(\"ZeroDivisionError\")\n",
    "    return \"Fail!\""
   ]
  },
  {
   "cell_type": "markdown",
   "id": "8118504e-01c3-46d8-9466-8cdf1b4e3a1c",
   "metadata": {},
   "source": [
    "The function handles `ValueError` and `ZeroDivisionError`. To check that all is well, we need to raise one of these within the `try` block."
   ]
  },
  {
   "cell_type": "markdown",
   "id": "89064b0e-b710-4dcb-9caf-780b01c3ccc0",
   "metadata": {},
   "source": [
    "The following cell shows the test case that will do the planned thing. It uses `mocked_get.side_effect = ValueError(\"\")` to raise `ValueError` so that the appropriate string should appear in `toy_log`."
   ]
  },
  {
   "cell_type": "code",
   "execution_count": 27,
   "id": "07160d06-b363-408c-9299-0f8deb4405f4",
   "metadata": {},
   "outputs": [
    {
     "name": "stderr",
     "output_type": "stream",
     "text": [
      "test_error_raised (__main__.TestUnit) ... ok\n",
      "\n",
      "----------------------------------------------------------------------\n",
      "Ran 1 test in 0.002s\n",
      "\n",
      "OK\n"
     ]
    }
   ],
   "source": [
    "import unittest\n",
    "from unittest.mock import patch\n",
    "\n",
    "class TestUnit(unittest.TestCase):\n",
    "    def test_error_raised(self):\n",
    "        toy_log = []\n",
    "        with patch(\"__main__.requests.get\") as mocked_get:\n",
    "            mocked_get.side_effect = ValueError(\"\")\n",
    "            output = request_user(10, toy_log)\n",
    "            # check if answer was \"Fail\"\n",
    "            self.assertEqual(output, \"Fail!\")\n",
    "            # check if \"ValueError\" was \n",
    "            # appened to the toy log\n",
    "            self.assertEqual(toy_log, [\"ValueError\"])\n",
    "\n",
    "ans = unittest.main(argv=[''], verbosity=2, exit=False)\n",
    "del TestUnit"
   ]
  }
 ],
 "metadata": {
  "kernelspec": {
   "display_name": "Python 3 (ipykernel)",
   "language": "python",
   "name": "python3"
  },
  "language_info": {
   "codemirror_mode": {
    "name": "ipython",
    "version": 3
   },
   "file_extension": ".py",
   "mimetype": "text/x-python",
   "name": "python",
   "nbconvert_exporter": "python",
   "pygments_lexer": "ipython3",
   "version": "3.10.12"
  }
 },
 "nbformat": 4,
 "nbformat_minor": 5
}
