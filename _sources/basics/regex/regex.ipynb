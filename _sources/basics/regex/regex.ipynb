{
 "cells": [
  {
   "cell_type": "markdown",
   "id": "b8b682a3-59e0-4c5b-bfdb-02ff4c457f50",
   "metadata": {},
   "source": [
    "**Регулярные выражения (regex)**\n",
    "\n",
    "Тут разберем реализацию регулярных выражений в `python`. Вообще, конечно, регулярные выражения используются во многих языках программирования и выходят за контекст `python`. Но никаким языком программирования я и близко так не владею, как владею `python` (на сегодняшний день). Потому тут будут разбораны и общие идеи лежащие в синтаксисе регулярных выражений. Разбор общих элементов регулярных выражений я надеюсь вынести на уровень выше."
   ]
  },
  {
   "cell_type": "markdown",
   "id": "72f9a7e2-cfca-43a1-8593-b39a5b718544",
   "metadata": {},
   "source": [
    "# Источники\n",
    "\n",
    "- https://docs.python.org/3/howto/regex.html#regex-howto статья в официальной докумментации `python` в которой описаны принципы использования regex."
   ]
  }
 ],
 "metadata": {
  "kernelspec": {
   "display_name": "Python 3 (ipykernel)",
   "language": "python",
   "name": "python3"
  },
  "language_info": {
   "codemirror_mode": {
    "name": "ipython",
    "version": 3
   },
   "file_extension": ".py",
   "mimetype": "text/x-python",
   "name": "python",
   "nbconvert_exporter": "python",
   "pygments_lexer": "ipython3",
   "version": "3.10.0"
  }
 },
 "nbformat": 4,
 "nbformat_minor": 5
}
