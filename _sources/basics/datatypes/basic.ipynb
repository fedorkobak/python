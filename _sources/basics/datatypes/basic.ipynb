{
 "cells": [
  {
   "cell_type": "markdown",
   "metadata": {},
   "source": [
    "# Basic\n",
    "\n",
    "This page focuses on the basic `python` datatypes, their properties and methods. Check [official python documentation](https://docs.python.org/3/library/stdtypes.html) on it."
   ]
  },
  {
   "cell_type": "markdown",
   "metadata": {},
   "source": [
    "## str\n",
    "\n",
    "Here is the list of `str` methods:\n",
    "\n",
    "| Method                | Description                                                                 |\n",
    "|-----------------------|-----------------------------------------------------------------------------|\n",
    "| `capitalize()`        | Converts the first character to uppercase and the rest to lowercase.       |\n",
    "| `casefold()`          | Converts the string to lowercase, more aggressive than `lower()`.          |\n",
    "| `center(width)`       | Centers the string in a field of given width, padding with spaces.          |\n",
    "| `count(sub[, start[, end]])` | Returns the number of non-overlapping occurrences of a substring.       |\n",
    "| `encode([encoding[, errors]])` | Encodes the string to the specified encoding.                       |\n",
    "| `endswith(suffix[, start[, end]])` | Checks if the string ends with the specified suffix.               |\n",
    "| `expandtabs(tabsize=8)` | Replaces all tab characters with spaces.                                 |\n",
    "| `find(sub[, start[, end]])` | Returns the lowest index of a substring, or -1 if not found.          |\n",
    "| `format(*args, **kwargs)` | Formats the string using placeholders.                                |\n",
    "| `format_map(mapping)` | Formats the string using a mapping object.                                |\n",
    "| `index(sub[, start[, end]])` | Like `find()`, but raises `ValueError` if the substring is not found. |\n",
    "| `isalnum()`           | Checks if all characters are alphanumeric.                                 |\n",
    "| `isalpha()`           | Checks if all characters are alphabetic.                                   |\n",
    "| `isascii()`           | Checks if all characters are ASCII.                                        |\n",
    "| `isdigit()`           | Checks if all characters are digits.                                       |\n",
    "| `isdecimal()`         | Checks if all characters are decimal characters.                           |\n",
    "| `isidentifier()`      | Checks if the string is a valid Python identifier.                         |\n",
    "| `islower()`           | Checks if all characters are lowercase.                                    |\n",
    "| `isnumeric()`         | Checks if all characters are numeric.                                      |\n",
    "| `isprintable()`       | Checks if all characters are printable.                                    |\n",
    "| `isspace()`           | Checks if all characters are whitespace.                                   |\n",
    "| `istitle()`           | Checks if the string follows title case.                                   |\n",
    "| `isupper()`           | Checks if all characters are uppercase.                                    |\n",
    "| `join(iterable)`      | Joins elements of an iterable with the string as the separator.            |\n",
    "| `ljust(width[, fillchar])` | Left-aligns the string in a field of given width.                      |\n",
    "| `lower()`             | Converts the string to lowercase.                                          |\n",
    "| `lstrip([chars])`     | Removes leading characters (default: whitespace).                          |\n",
    "| `maketrans(x, y[, z])` | Returns a translation table for `translate()`.                            |\n",
    "| `partition(sep)`      | Splits the string into a tuple at the first occurrence of a separator.      |\n",
    "| `replace(old, new[, count])` | Replaces occurrences of a substring with another string.            |\n",
    "| `rfind(sub[, start[, end]])` | Returns the highest index of a substring, or -1 if not found.        |\n",
    "| `rindex(sub[, start[, end]])` | Like `rfind()`, but raises `ValueError` if the substring is not found. |\n",
    "| `rjust(width[, fillchar])` | Right-aligns the string in a field of given width.                     |\n",
    "| `rpartition(sep)`     | Splits the string into a tuple at the last occurrence of a separator.       |\n",
    "| `rsplit([sep[, maxsplit]])` | Splits the string from the right.                                    |\n",
    "| `rstrip([chars])`     | Removes trailing characters (default: whitespace).                         |\n",
    "| `split([sep[, maxsplit]])` | Splits the string into a list using a separator.                      |\n",
    "| `splitlines([keepends])` | Splits the string at line breaks.                                       |\n",
    "| `startswith(prefix[, start[, end]])` | Checks if the string starts with the specified prefix.       |\n",
    "| `strip([chars])`      | Removes leading and trailing characters (default: whitespace).             |\n",
    "| `swapcase()`          | Swaps uppercase characters to lowercase and vice versa.                    |\n",
    "| `title()`             | Converts the string to title case.                                         |\n",
    "| `translate(table)`    | Translates the string using a given translation table.                     |\n",
    "| `upper()`             | Converts the string to uppercase.                                          |\n",
    "| `zfill(width)`        | Pads the string with zeros on the left to fill the given width.            |\n",
    "\n",
    "For more details check:\n",
    "\n",
    "- [Specific page](basic/str.ipynb) about str datatype.\n",
    "- [Corresponding section](https://docs.python.org/3/library/stdtypes.html#text-sequence-type-str) of the official documentation.\n"
   ]
  },
  {
   "cell_type": "markdown",
   "metadata": {},
   "source": [
    "## list\n",
    "\n",
    "To read more check [specific page](basic/list.ipynb).\n",
    "\n",
    "Is a collection datatype that allows items to be added to and removed from it. Lists are ordered.\n",
    "\n",
    "The following example uses all the named properties of the list to move the element one at a time."
   ]
  },
  {
   "cell_type": "code",
   "execution_count": 5,
   "metadata": {},
   "outputs": [
    {
     "name": "stdout",
     "output_type": "stream",
     "text": [
      "[0, 1, 2, 3, 4, 5, 6, 7, 8, 9, 10, 11, 12, 13, 14, 15, 16, 17, 18, 19]\n",
      "[1, 2, 3, 4, 5, 6, 7, 8, 9, 10, 11, 12, 13, 14, 15, 16, 17, 18, 19, 0]\n",
      "[2, 3, 4, 5, 6, 7, 8, 9, 10, 11, 12, 13, 14, 15, 16, 17, 18, 19, 0, 1]\n",
      "[3, 4, 5, 6, 7, 8, 9, 10, 11, 12, 13, 14, 15, 16, 17, 18, 19, 0, 1, 2]\n",
      "[4, 5, 6, 7, 8, 9, 10, 11, 12, 13, 14, 15, 16, 17, 18, 19, 0, 1, 2, 3]\n",
      "[5, 6, 7, 8, 9, 10, 11, 12, 13, 14, 15, 16, 17, 18, 19, 0, 1, 2, 3, 4]\n",
      "[6, 7, 8, 9, 10, 11, 12, 13, 14, 15, 16, 17, 18, 19, 0, 1, 2, 3, 4, 5]\n",
      "[7, 8, 9, 10, 11, 12, 13, 14, 15, 16, 17, 18, 19, 0, 1, 2, 3, 4, 5, 6]\n",
      "[8, 9, 10, 11, 12, 13, 14, 15, 16, 17, 18, 19, 0, 1, 2, 3, 4, 5, 6, 7]\n",
      "[9, 10, 11, 12, 13, 14, 15, 16, 17, 18, 19, 0, 1, 2, 3, 4, 5, 6, 7, 8]\n"
     ]
    }
   ],
   "source": [
    "show_lst = [i for i in range(20)]\n",
    "\n",
    "for i in range(10):\n",
    "    print(show_lst)\n",
    "    show_lst.append(show_lst.pop(0))"
   ]
  },
  {
   "cell_type": "markdown",
   "metadata": {},
   "source": [
    "## dict"
   ]
  },
  {
   "cell_type": "markdown",
   "metadata": {},
   "source": [
    "A data type that implements key/value relationships between objects. Modern implementations make it orderly.\n",
    "\n",
    "Find out more at the [specific page](basic/dict.ipynb)."
   ]
  },
  {
   "cell_type": "markdown",
   "metadata": {},
   "source": [
    "The following example corresponds to each symbol in ASCII code. Note that the elements follow the order in which they were generated."
   ]
  },
  {
   "cell_type": "code",
   "execution_count": 8,
   "metadata": {},
   "outputs": [
    {
     "name": "stdout",
     "output_type": "stream",
     "text": [
      "{'a': 97, 'b': 98, 'c': 99, 'd': 100, 'e': 101, 'f': 102, 'g': 103, 'h': 104, 'i': 105, 'j': 106, 'k': 107, 'l': 108, 'm': 109, 'n': 110, 'o': 111, 'p': 112, 'q': 113, 'r': 114, 's': 115, 't': 116, 'u': 117, 'v': 118, 'w': 119, 'x': 120, 'y': 121, 'z': 122}\n"
     ]
    }
   ],
   "source": [
    "print({chr(i): i for i in range(ord(\"a\"), ord(\"z\")+1)})"
   ]
  },
  {
   "cell_type": "markdown",
   "metadata": {},
   "source": [
    "## tuple\n",
    "\n",
    "Is ordred collection of the elements that can't be changed."
   ]
  },
  {
   "cell_type": "code",
   "execution_count": 38,
   "metadata": {},
   "outputs": [
    {
     "name": "stdout",
     "output_type": "stream",
     "text": [
      "Value at index 0 - a\n",
      "Got exception: 'tuple' object does not support item assignment\n"
     ]
    }
   ],
   "source": [
    "my_tuple = (\"a\", \"c\", \"b\")\n",
    "# You can acess particular element\n",
    "print(\"Value at index 0 -\", my_tuple[0])\n",
    "# You can't change value of the particular element\n",
    "try: my_tuple[0] = 3\n",
    "except Exception as e: print(\"Got exception:\", e)"
   ]
  },
  {
   "cell_type": "markdown",
   "metadata": {},
   "source": [
    "**Note** To create an element tuple, you must use the syntax `(<element>,)` (comma after element). It was necessary to make a distinction with the operators `()` that define the order of the operations."
   ]
  },
  {
   "cell_type": "markdown",
   "metadata": {},
   "source": [
    "The following example shows two almost identical expressions, but one uses tuples and the other uses only arithmetic operations."
   ]
  },
  {
   "cell_type": "code",
   "execution_count": 45,
   "metadata": {},
   "outputs": [
    {
     "name": "stdout",
     "output_type": "stream",
     "text": [
      "No commas - 24\n",
      "With commas - (8, 8, 8)\n"
     ]
    }
   ],
   "source": [
    "print(\"No commas -\", (3+5) * 3)\n",
    "print(\"With commas -\", (3+5,) * 3)"
   ]
  },
  {
   "cell_type": "markdown",
   "metadata": {},
   "source": [
    "## set\n",
    "\n",
    "Is mutable unordred collection. The main feature of this type is that it can contain only unique elements. Find out more on the [specific page](basic/set.ipynb)."
   ]
  },
  {
   "cell_type": "markdown",
   "metadata": {},
   "source": [
    "The following example shows the creation of a set of random characters. Even though 100 items have been generated, only unique items are in the collection and they are in alphabetical order, which shows that the collection is unordered - it doesn't follow the order specified by the developer."
   ]
  },
  {
   "cell_type": "code",
   "execution_count": 51,
   "metadata": {},
   "outputs": [
    {
     "data": {
      "text/plain": [
       "{'a', 'b', 'c', 'd', 'e', 'f', 'g', 'h', 'i', 'j', 'k'}"
      ]
     },
     "execution_count": 51,
     "metadata": {},
     "output_type": "execute_result"
    }
   ],
   "source": [
    "from random import randint\n",
    "{chr(randint(97, 107)) for i in range(100)}"
   ]
  },
  {
   "cell_type": "code",
   "execution_count": 52,
   "metadata": {},
   "outputs": [
    {
     "name": "stdout",
     "output_type": "stream",
     "text": [
      "\u001b[0;31mInit signature:\u001b[0m \u001b[0mfrozenset\u001b[0m\u001b[0;34m(\u001b[0m\u001b[0mself\u001b[0m\u001b[0;34m,\u001b[0m \u001b[0;34m/\u001b[0m\u001b[0;34m,\u001b[0m \u001b[0;34m*\u001b[0m\u001b[0margs\u001b[0m\u001b[0;34m,\u001b[0m \u001b[0;34m**\u001b[0m\u001b[0mkwargs\u001b[0m\u001b[0;34m)\u001b[0m\u001b[0;34m\u001b[0m\u001b[0;34m\u001b[0m\u001b[0m\n",
      "\u001b[0;31mDocstring:\u001b[0m     \n",
      "frozenset() -> empty frozenset object\n",
      "frozenset(iterable) -> frozenset object\n",
      "\n",
      "Build an immutable unordered collection of unique elements.\n",
      "\u001b[0;31mType:\u001b[0m           type\n",
      "\u001b[0;31mSubclasses:\u001b[0m     "
     ]
    }
   ],
   "source": [
    "frozenset?"
   ]
  },
  {
   "cell_type": "markdown",
   "metadata": {},
   "source": [
    "## frozenset\n",
    "\n",
    "`set` in Python is a mutable data type, so you cannot use it in many cases (e.g. as a key for `dict` or as an element of another `set`). To fix this, Python provides a special data type `frozenset` which is like `set` but immutable.\n",
    "\n",
    "So in the following example I try to use `frozenset` and `set` as elements of another `set`:\n",
    "\n",
    "- With `frozenset` all is well;\n",
    "- Regular `set` causes an error."
   ]
  },
  {
   "cell_type": "code",
   "execution_count": 53,
   "metadata": {},
   "outputs": [
    {
     "name": "stdout",
     "output_type": "stream",
     "text": [
      "Using a frozenset: {1, 2, 3, frozenset({1, 2, 3, 4})}\n",
      "Got exception: unhashable type: 'set'\n"
     ]
    }
   ],
   "source": [
    "regular_set = {1,3}\n",
    "frozen_set = frozenset([1,2,3,4])\n",
    "\n",
    "print(\"Using a frozenset:\", {1,2,3, frozen_set})\n",
    "\n",
    "try:\n",
    "    print(\"Using a regular set:\", {1, 2, 3, regular_set, 1})\n",
    "except Exception as e:\n",
    "    print(\"Got exception:\", e)"
   ]
  }
 ],
 "metadata": {
  "kernelspec": {
   "display_name": "Python 3",
   "language": "python",
   "name": "python3"
  },
  "language_info": {
   "codemirror_mode": {
    "name": "ipython",
    "version": 3
   },
   "file_extension": ".py",
   "mimetype": "text/x-python",
   "name": "python",
   "nbconvert_exporter": "python",
   "pygments_lexer": "ipython3",
   "version": "3.10.12"
  }
 },
 "nbformat": 4,
 "nbformat_minor": 2
}
