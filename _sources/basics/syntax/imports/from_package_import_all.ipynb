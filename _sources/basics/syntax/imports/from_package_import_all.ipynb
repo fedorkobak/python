{
 "cells": [
  {
   "cell_type": "markdown",
   "id": "919a85e3-264c-46c7-b47b-14719d813b1a",
   "metadata": {},
   "source": [
    "# `from <package> import *`\n",
    "\n",
    "Individual `.py` files in Python are modules. But a folder containing a bunch of `.py` files is a package. This section shows the behaviour of the program when you use the `from <package name> import *` syntax."
   ]
  },
  {
   "cell_type": "code",
   "execution_count": 1,
   "id": "6a3a353f-7513-4481-9d6e-413acb9fe99a",
   "metadata": {},
   "outputs": [],
   "source": [
    "from importlib import reload"
   ]
  },
  {
   "cell_type": "markdown",
   "id": "563cba43-8c6d-4f23-9a30-07d4ba2101e7",
   "metadata": {},
   "source": [
    "## Creating package\n",
    "\n",
    "Consider package with two modules. It is created in the following cells."
   ]
  },
  {
   "cell_type": "code",
   "execution_count": 2,
   "id": "28d76ac8-5df2-4d52-bfee-685296861217",
   "metadata": {},
   "outputs": [
    {
     "name": "stdout",
     "output_type": "stream",
     "text": [
      "Overwriting from_package_import_all_files/package/__init__.py\n"
     ]
    }
   ],
   "source": [
    "%%writefile from_package_import_all_files/package/__init__.py\n",
    "# this is __init__.py - it's not necessary\n",
    "# but generally better to add it to packages"
   ]
  },
  {
   "cell_type": "code",
   "execution_count": 3,
   "id": "e452929d-1332-4acf-9da4-f566ffe6c9de",
   "metadata": {},
   "outputs": [
    {
     "name": "stdout",
     "output_type": "stream",
     "text": [
      "Overwriting from_package_import_all_files/package/square.py\n"
     ]
    }
   ],
   "source": [
    "%%writefile from_package_import_all_files/package/square.py\n",
    "square = \"\"\"\n",
    "+----+\n",
    "|    |\n",
    "|    |\n",
    "|    |\n",
    "+----+\n",
    "\"\"\"\n",
    "\n",
    "def draw_square():\n",
    "    print(square)"
   ]
  },
  {
   "cell_type": "code",
   "execution_count": 4,
   "id": "554f2944-5b70-4101-b239-2a7b223170e6",
   "metadata": {},
   "outputs": [
    {
     "name": "stdout",
     "output_type": "stream",
     "text": [
      "Overwriting from_package_import_all_files/package/triangle.py\n"
     ]
    }
   ],
   "source": [
    "%%writefile from_package_import_all_files/package/triangle.py\n",
    "triangle = \"\"\"\n",
    "   *\n",
    "  * *\n",
    " *   *\n",
    "*******\n",
    "\"\"\"\n",
    "\n",
    "def draw_triangle():\n",
    "    print(triangle)"
   ]
  },
  {
   "cell_type": "markdown",
   "id": "37e3cea7-84da-4b39-8b30-41e80a0dd85b",
   "metadata": {},
   "source": [
    "## Entry script\n",
    "\n",
    "Here is script that trying to import everything from package created before and shows `dir()` output. `dir()` returns current namespace - names that can be accessed in a current interpreter run:"
   ]
  },
  {
   "cell_type": "code",
   "execution_count": 5,
   "id": "0510dd2e-c5a9-446b-8361-2452839483e3",
   "metadata": {},
   "outputs": [
    {
     "name": "stdout",
     "output_type": "stream",
     "text": [
      "Namesapce - ['__annotations__', '__builtins__', '__cached__', '__doc__', '__file__', '__loader__', '__name__', '__package__', '__spec__']\n"
     ]
    }
   ],
   "source": [
    "%%bash\n",
    "cd from_package_import_all_files\n",
    "python3\n",
    "from package import *\n",
    "dir_result = dir()\n",
    "print(\"Namesapce -\", dir_result)"
   ]
  },
  {
   "cell_type": "markdown",
   "id": "307e14a9-ff7a-4bd3-b292-0986c30c6762",
   "metadata": {},
   "source": [
    "The result is a bit counterintuitive - none of the modules in the package appear in the namespace. To get python to load modules from the package in such a case, you need to specify them in the `__all__` dunder of the modules `__init__.py`. Read more in the following section."
   ]
  },
  {
   "cell_type": "markdown",
   "id": "fc8345ee-b170-4f84-89ff-8de5a56a96d7",
   "metadata": {},
   "source": [
    "## Load modules (`__all__`)\n",
    "\n",
    "In `__all__` dunder list you can describe modules that need to be imported to namespace when outer script tries to import everything from module."
   ]
  },
  {
   "cell_type": "markdown",
   "id": "b6830ba4-f422-4747-bf00-a56453db6da3",
   "metadata": {},
   "source": [
    "The following cell modify  `__init__.py`:"
   ]
  },
  {
   "cell_type": "code",
   "execution_count": 6,
   "id": "2f65c3e5-002c-4e5f-92d3-12a4b8fa8275",
   "metadata": {},
   "outputs": [
    {
     "name": "stdout",
     "output_type": "stream",
     "text": [
      "Overwriting from_package_import_all_files/package/__init__.py\n"
     ]
    }
   ],
   "source": [
    "%%writefile from_package_import_all_files/package/__init__.py\n",
    "__all__=[\"square\"]\n",
    "from .triangle import draw_triangle"
   ]
  },
  {
   "cell_type": "markdown",
   "id": "635944cb-22a9-444d-b9c2-c41f3661b7a7",
   "metadata": {},
   "source": [
    "Let's now try to check what we have in such case:"
   ]
  },
  {
   "cell_type": "code",
   "execution_count": 7,
   "id": "acf28400-bd98-435f-b8aa-72f4eb4d5a2a",
   "metadata": {},
   "outputs": [
    {
     "name": "stdout",
     "output_type": "stream",
     "text": [
      "Namesapce - ['__annotations__', '__builtins__', '__cached__', '__doc__', '__file__', '__loader__', '__name__', '__package__', '__spec__', 'square']\n",
      "\n",
      "+----+\n",
      "|    |\n",
      "|    |\n",
      "|    |\n",
      "+----+\n",
      "\n"
     ]
    }
   ],
   "source": [
    "%%bash\n",
    "cd from_package_import_all_files\n",
    "python3\n",
    "from package import *\n",
    "dir_result = dir()\n",
    "print(\"Namesapce -\", dir_result)\n",
    "square.draw_square()"
   ]
  },
  {
   "cell_type": "markdown",
   "id": "7269c2b5-2fc7-464f-ba94-2744d7f11449",
   "metadata": {},
   "source": [
    "The results are worthy of detailed consideration:\n",
    "\n",
    "- We finally have `square` in the namespace and you can use its functions accordingly;\n",
    "- But `triangle.draw_triangle` that was defined in conventional way still doesn't appear in the namespace."
   ]
  },
  {
   "cell_type": "markdown",
   "id": "cf22eb48-36c9-49ff-b5b6-e63643f3e227",
   "metadata": {},
   "source": [
    "### Add object to `__all__`\n",
    "\n",
    "Note that it's not possible to add specific obejects from within the module."
   ]
  },
  {
   "cell_type": "markdown",
   "id": "cd025f6c-0cb8-4efc-8103-d4c707400c5b",
   "metadata": {},
   "source": [
    "The following example attempts to add the `triangle.draw_triangle` function to the `__all__` dunder."
   ]
  },
  {
   "cell_type": "code",
   "execution_count": 8,
   "id": "84282411-eae7-4593-bac2-c0e0a5dd480e",
   "metadata": {},
   "outputs": [
    {
     "name": "stdout",
     "output_type": "stream",
     "text": [
      "Overwriting from_package_import_all_files/package/__init__.py\n"
     ]
    }
   ],
   "source": [
    "%%writefile from_package_import_all_files/package/__init__.py\n",
    "__all__=[\n",
    "    \"square\",\n",
    "    \"triangle.draw_triangle\"\n",
    "]"
   ]
  },
  {
   "cell_type": "markdown",
   "id": "fc4617f5-0517-4247-ad32-56dcddb74943",
   "metadata": {},
   "source": [
    "But if you try to run such an option, you'll get an error:"
   ]
  },
  {
   "cell_type": "code",
   "execution_count": 9,
   "id": "eb62d81d-c4b4-4fd3-8cb7-ef1484fd6a82",
   "metadata": {},
   "outputs": [
    {
     "name": "stdout",
     "output_type": "stream",
     "text": [
      "module 'package' has no attribute 'triangle.draw_triangle'\n"
     ]
    }
   ],
   "source": [
    "%%bash\n",
    "cd from_package_import_all_files\n",
    "python3\n",
    "try:\n",
    "    from package import *\n",
    "except Exception as e:\n",
    "    print(e)"
   ]
  }
 ],
 "metadata": {
  "kernelspec": {
   "display_name": "Python 3 (ipykernel)",
   "language": "python",
   "name": "python3"
  },
  "language_info": {
   "codemirror_mode": {
    "name": "ipython",
    "version": 3
   },
   "file_extension": ".py",
   "mimetype": "text/x-python",
   "name": "python",
   "nbconvert_exporter": "python",
   "pygments_lexer": "ipython3",
   "version": "3.10.12"
  }
 },
 "nbformat": 4,
 "nbformat_minor": 5
}
