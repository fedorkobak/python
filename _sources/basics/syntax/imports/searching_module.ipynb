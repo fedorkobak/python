{
 "cells": [
  {
   "cell_type": "markdown",
   "id": "a637b035-9fef-4e58-982d-f47d58cfd972",
   "metadata": {},
   "source": [
    "# Searching module "
   ]
  },
  {
   "cell_type": "markdown",
   "id": "1f6391ac-619b-49b2-b662-a979bb9f6d94",
   "metadata": {},
   "source": [
    "## Experiment\n",
    "\n",
    "This experiment examines whether the Python interpreter will load a module first from the current folder or the environment."
   ]
  },
  {
   "cell_type": "markdown",
   "id": "c5b30c0a-e918-444d-8eb4-b7c71d564869",
   "metadata": {},
   "source": [
    "### Module files"
   ]
  },
  {
   "cell_type": "markdown",
   "id": "d894543c-251b-496d-8c21-1791dff0fd58",
   "metadata": {},
   "source": [
    "Let's create the module files. It will be a package that will just print something when you import it."
   ]
  },
  {
   "cell_type": "code",
   "execution_count": 7,
   "id": "dedc6e53-9c85-4bd3-b378-f38c3d5ff15c",
   "metadata": {},
   "outputs": [
    {
     "name": "stdout",
     "output_type": "stream",
     "text": [
      "Overwriting environment_vs_files_files/pyproject.toml\n"
     ]
    }
   ],
   "source": [
    "%%writefile environment_vs_files_files/pyproject.toml\n",
    "[project]\n",
    "version = \"0.0.0\"\n",
    "name = \"echo_project\""
   ]
  },
  {
   "cell_type": "code",
   "execution_count": 8,
   "id": "dc404816-4a24-4af4-8fc3-c1af2ff90e22",
   "metadata": {},
   "outputs": [
    {
     "name": "stdout",
     "output_type": "stream",
     "text": [
      "Overwriting environment_vs_files_files/src/echo_project/__init__.py\n"
     ]
    }
   ],
   "source": [
    "%%writefile environment_vs_files_files/src/echo_project/__init__.py\n",
    "print(\"Hello world\")"
   ]
  },
  {
   "cell_type": "markdown",
   "id": "61556221-9318-4fbb-9f66-a9d2a3e1a41f",
   "metadata": {},
   "source": [
    "### Excuting file\n",
    "\n",
    "Here is a file that imports the module created in the previous section. Note that it adds the module's folder to it's path, so even if it's not installed in the folder it will access the module from."
   ]
  },
  {
   "cell_type": "code",
   "execution_count": 9,
   "id": "1da759ea-ff6a-4c99-b452-3c672830bcd4",
   "metadata": {},
   "outputs": [
    {
     "name": "stdout",
     "output_type": "stream",
     "text": [
      "Overwriting environment_vs_files_files/loader.py\n"
     ]
    }
   ],
   "source": [
    "%%writefile environment_vs_files_files/loader.py\n",
    "import sys\n",
    "import os\n",
    "from pathlib import Path\n",
    "sys.path.append(\n",
    "    str(Path(os.getcwd())/\"src\")\n",
    ")\n",
    "import echo_project"
   ]
  },
  {
   "cell_type": "markdown",
   "id": "9e725472-28ba-46dc-89f0-239fa828c03c",
   "metadata": {},
   "source": [
    "### Test"
   ]
  },
  {
   "cell_type": "markdown",
   "id": "9b9beaa1-31fc-46ca-bbe6-e2126216a711",
   "metadata": {},
   "source": [
    "Creating the environment so we're sure we're working in a clear environment."
   ]
  },
  {
   "cell_type": "code",
   "execution_count": 10,
   "id": "17e5bef6-11ed-4acb-93b5-aa24cd9d7a88",
   "metadata": {},
   "outputs": [],
   "source": [
    "!python3 -m venv venv"
   ]
  },
  {
   "cell_type": "markdown",
   "id": "8c16da00-c100-4b4a-bdab-cf1cc8318c33",
   "metadata": {},
   "source": [
    "Now let's try to execute the file we prepared."
   ]
  },
  {
   "cell_type": "code",
   "execution_count": 11,
   "id": "1638fe3c-1bd2-4138-9150-6cf7a6924c62",
   "metadata": {},
   "outputs": [
    {
     "name": "stdout",
     "output_type": "stream",
     "text": [
      "Hello world\n"
     ]
    }
   ],
   "source": [
    "%%bash\n",
    "source venv/bin/activate\n",
    "cd environment_vs_files_files\n",
    "python3 loader.py"
   ]
  },
  {
   "cell_type": "markdown",
   "id": "f7570c5c-8011-48ec-a53e-1a6dee236548",
   "metadata": {},
   "source": [
    "And so we got the expected behaviour."
   ]
  },
  {
   "cell_type": "markdown",
   "id": "8151c1af-3564-4988-8503-7ab6e9fa50cb",
   "metadata": {},
   "source": [
    "Install package - so it's now added to the environment."
   ]
  },
  {
   "cell_type": "code",
   "execution_count": 12,
   "id": "2156d5cb-2119-4728-9465-7bdc5afa94d4",
   "metadata": {},
   "outputs": [
    {
     "name": "stdout",
     "output_type": "stream",
     "text": [
      "Processing ./environment_vs_files_files\n",
      "  Installing build dependencies: started\n",
      "  Installing build dependencies: finished with status 'done'\n",
      "  Getting requirements to build wheel: started\n",
      "  Getting requirements to build wheel: finished with status 'done'\n",
      "  Preparing metadata (pyproject.toml): started\n",
      "  Preparing metadata (pyproject.toml): finished with status 'done'\n",
      "Building wheels for collected packages: echo_project\n",
      "  Building wheel for echo_project (pyproject.toml): started\n",
      "  Building wheel for echo_project (pyproject.toml): finished with status 'done'\n",
      "  Created wheel for echo_project: filename=echo_project-0.0.0-py3-none-any.whl size=1183 sha256=4fbfdaf9bd624cd574606e2fcbe6091cf50bbc1eeef41c4efb6b9d45e12c8194\n",
      "  Stored in directory: /tmp/pip-ephem-wheel-cache-ptthpksn/wheels/33/24/f8/050002a9108b77a63da6dcfc566179f4a21a20d56b8b708e45\n",
      "Successfully built echo_project\n",
      "Installing collected packages: echo_project\n",
      "Successfully installed echo_project-0.0.0\n"
     ]
    }
   ],
   "source": [
    "%%bash\n",
    "source venv/bin/activate\n",
    "pip3 install ./environment_vs_files_files"
   ]
  },
  {
   "cell_type": "markdown",
   "id": "a294eb80-6688-471d-b90b-c74b8347027c",
   "metadata": {},
   "source": [
    "Now let's change the behaviour of the package."
   ]
  },
  {
   "cell_type": "code",
   "execution_count": 13,
   "id": "2b00e410-7b57-4453-beb4-62264fd49ad3",
   "metadata": {},
   "outputs": [
    {
     "name": "stdout",
     "output_type": "stream",
     "text": [
      "Overwriting environment_vs_files_files/src/echo_project/__init__.py\n"
     ]
    }
   ],
   "source": [
    "%%writefile environment_vs_files_files/src/echo_project/__init__.py\n",
    "print(\"Hello world\")\n",
    "print(\"I was edited\")"
   ]
  },
  {
   "cell_type": "markdown",
   "id": "700e6053-e9f7-4932-9ad4-8cefe3e77ffd",
   "metadata": {},
   "source": [
    "But since the changes are not installed in the virtual environment, the behaviour remains the same as before."
   ]
  },
  {
   "cell_type": "code",
   "execution_count": 14,
   "id": "8cd1b46a-2f16-4774-ae68-f0db6eac9cf8",
   "metadata": {},
   "outputs": [
    {
     "name": "stdout",
     "output_type": "stream",
     "text": [
      "Hello world\n"
     ]
    }
   ],
   "source": [
    "%%bash\n",
    "source venv/bin/activate\n",
    "cd environment_vs_files_files\n",
    "python3 loader.py"
   ]
  },
  {
   "cell_type": "markdown",
   "id": "26268996-bdd0-4c83-b6e7-7a24892a3ad0",
   "metadata": {},
   "source": [
    "But if we run the same code without enabling the virtual environment, we'll get different behaviour."
   ]
  },
  {
   "cell_type": "code",
   "execution_count": 15,
   "id": "2010e398-b450-4ed2-aa29-28cb86afda7a",
   "metadata": {},
   "outputs": [
    {
     "name": "stdout",
     "output_type": "stream",
     "text": [
      "Hello world\n",
      "I was edited\n"
     ]
    }
   ],
   "source": [
    "%%bash\n",
    "cd environment_vs_files_files\n",
    "python3 loader.py"
   ]
  },
  {
   "cell_type": "markdown",
   "id": "592437be-ffe6-444c-861f-086c83eb4bee",
   "metadata": {},
   "source": [
    "Don't forget to remove the environment we just used, to avoid cluttering up the repository with temporary files."
   ]
  },
  {
   "cell_type": "code",
   "execution_count": 16,
   "id": "db37b7e9-ed61-41c9-abfb-7ab3eb060a04",
   "metadata": {},
   "outputs": [],
   "source": [
    "!rm -r venv"
   ]
  }
 ],
 "metadata": {
  "kernelspec": {
   "display_name": "venv",
   "language": "python",
   "name": "python3"
  },
  "language_info": {
   "codemirror_mode": {
    "name": "ipython",
    "version": 3
   },
   "file_extension": ".py",
   "mimetype": "text/x-python",
   "name": "python",
   "nbconvert_exporter": "python",
   "pygments_lexer": "ipython3",
   "version": "3.12.3"
  }
 },
 "nbformat": 4,
 "nbformat_minor": 5
}
