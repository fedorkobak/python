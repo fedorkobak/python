{
 "cells": [
  {
   "cell_type": "markdown",
   "id": "eeac06f8-7b84-49e5-a3c5-83b69d6af1b9",
   "metadata": {},
   "source": [
    "**Разбор спецальных меодов/полей в языке программирования `python3`**"
   ]
  },
  {
   "cell_type": "markdown",
   "id": "ce4ec95b-9968-4149-ba0f-8b9a0c25765b",
   "metadata": {},
   "source": [
    "# Источники информации\n",
    "\n",
    "- Python на примерах Васильев А.Н. глава 8, раздел *Специальные методы и поля*"
   ]
  },
  {
   "cell_type": "markdown",
   "id": "ceb871b3-c2b9-40bf-927e-1ad9201b463c",
   "metadata": {},
   "source": [
    "# Классы которые послужат примером"
   ]
  },
  {
   "cell_type": "markdown",
   "id": "9d40d0c0-e93b-43ec-86fd-49580640d26c",
   "metadata": {},
   "source": [
    "Специальные методы и поля начинаются и заканчиваются двумя подчеркиваниями. Далее рассмотрим сисетму классов, на примере которой будут разобраны возможности всех специальных методов/полей."
   ]
  },
  {
   "cell_type": "markdown",
   "id": "a5ad5299-f450-4972-8ed4-48e87e241084",
   "metadata": {},
   "source": [
    "**Классы родители и мета классы**"
   ]
  },
  {
   "cell_type": "code",
   "execution_count": 41,
   "id": "0d6851db-21f2-434f-b0d9-831e3eb233da",
   "metadata": {},
   "outputs": [],
   "source": [
    "class Thing(type):\n",
    "    '''\n",
    "        Класс вещь. Это метакласс.\n",
    "        Дело в том, что некоторые методы могут быть \n",
    "        переопределены только в метаклассах.\n",
    "    '''\n",
    "    def __instancecheck__(self, instance):\n",
    "        '''\n",
    "            Будет вызван для базовой функции isinstace\n",
    "        '''\n",
    "        print(\"__isinstacecheck__ called\")\n",
    "        return super().__instancecheck__(instance)\n",
    "    \n",
    "    def __subclasscheck__(self, subclass):\n",
    "        '''\n",
    "            Будет вызван для базовой функции issubclass\n",
    "        '''\n",
    "        print(\"__issubclasscheck__ called\")\n",
    "        return super().__subclasscheck__(subclass)\n",
    "\n",
    "class TechThing(metaclass = Thing):\n",
    "    '''\n",
    "        Класс \"технологическая штука\"\n",
    "        исопльзуется для изучения фишек связаных\n",
    "        с наследованием.\n",
    "    '''\n",
    "    find_field = \"find field of TechThing\"\n",
    "\n",
    "class Machine(TechThing):\n",
    "    '''\n",
    "        Класс \"Машина\" используется для изучения\n",
    "        фишек связанных с наследованием\n",
    "    '''\n",
    "    pass\n",
    "\n",
    "class Veicle():\n",
    "    '''\n",
    "        Класс \"Средсво передвижения\" используется\n",
    "        для исследования фишек связанных с наследованием\n",
    "    '''\n",
    "    find_field = \"find field of Veicle\""
   ]
  },
  {
   "cell_type": "markdown",
   "id": "4a613a7b-b08e-4b5a-9c9f-edb3d617c048",
   "metadata": {},
   "source": [
    "**Класс `Auto` класс над которым будет проводиться наибольшее число испытаний**"
   ]
  },
  {
   "cell_type": "code",
   "execution_count": 79,
   "id": "4c9e05c7-69c3-42e4-a246-8868f05b289b",
   "metadata": {},
   "outputs": [],
   "source": [
    "class Auto(Veicle, Machine):\n",
    "    '''\n",
    "        Класс \"Автомобиль\" исопльзуется для \n",
    "        создания изучения специальных методов и полей\n",
    "    '''\n",
    "    \n",
    "    class hundle():\n",
    "        pass\n",
    "    \n",
    "    atribute_var = 5\n",
    "    \n",
    "    def atribute_method(self):\n",
    "        pass\n",
    "    \n",
    "    \n",
    "    # ===================================================\n",
    "    #              МЕТОДЫ ПРИВЕДЕНИЯ К ТИПУ\n",
    "    # ===================================================\n",
    "    def __bool__(self):\n",
    "        '''\n",
    "            Будет вызван для экземпляра переданного\n",
    "            базовой функции bool.\n",
    "            В данном случае я наделю её следующим смыслом - \n",
    "            если для экземпляра была определено поле marka\n",
    "            то будет преобзовываться в True в противном случае\n",
    "            в False\n",
    "        '''\n",
    "        return False if self.marka == None else True\n",
    "    \n",
    "    def __complex__(self):\n",
    "        '''\n",
    "            Будет вызван для экземпляра преданного\n",
    "            базовой функции complex.\n",
    "        '''\n",
    "        \n",
    "        return complex(len(self.marka), len(self.marka))\n",
    "    \n",
    "    def __float__(self):\n",
    "        '''\n",
    "            Будет вызван для экземпляра переданного\n",
    "            базовой функции float.\n",
    "        '''\n",
    "        \n",
    "        return float(len(self.marka))\n",
    "    \n",
    "    def __int__(self):\n",
    "        '''\n",
    "            Будет вызван для экземпляра преданного\n",
    "            базовой функции int.\n",
    "        '''\n",
    "        \n",
    "        return len(self.marka)\n",
    "    \n",
    "    def __str__(self):\n",
    "        '''\n",
    "            Будет вызван для экземпляра переданного\n",
    "            базововй функции str.\n",
    "        '''\n",
    "        \n",
    "        return self.marka\n",
    "    # ===================================================\n",
    "    #              МЕТОДЫ ПРИВЕДЕНИЯ К ТИПУ\n",
    "    # ===================================================\n",
    "    \n",
    "    # ===================================================\n",
    "    #                    МЕТОДЫ ДЛЯ РАБОТЫ\n",
    "    #                   с индексами (операторы [])\n",
    "    # ===================================================\n",
    "    \n",
    "    def __setitem__(self, i, v):\n",
    "        '''\n",
    "            Метод, который будет использоваться\n",
    "            при использовании индекса (оператора \"[]\") \n",
    "            с присвоением.\n",
    "            i - переданный индекс;\n",
    "            v - присваиваемое занчение.\n",
    "        '''\n",
    "        self.marka = self.marka[:i] + v + self.marka[i+1:] \n",
    "        \n",
    "    def __getitem__(self, i):\n",
    "        '''\n",
    "            Метод, который будет использоваться\n",
    "            при вызове индекса (оператора []).\n",
    "            i - переданный индекс.\n",
    "        '''\n",
    "        return self.marka[i]\n",
    "    \n",
    "    def __delitem__(self, i):\n",
    "        '''\n",
    "            Метод, который будет вызван\n",
    "            при использовании оператора del\n",
    "            для выбранного иднекса (оператора [])\n",
    "        '''\n",
    "        self.marka = self.marka[:i] + self.marka[i+1:]\n",
    "    # ===================================================\n",
    "    #                    МЕТОДЫ ДЛЯ РАБОТЫ\n",
    "    #                   с индексами (операторы [])\n",
    "    # ===================================================\n",
    "    \n",
    "    \n",
    "    # ===================================================\n",
    "    #                     ДРУГИЕ МЕТОДЫ\n",
    "    # ===================================================\n",
    "    \n",
    "    def __init__(self, marka):\n",
    "        '''\n",
    "            Вызывается при создании любого экземпляра\n",
    "        '''\n",
    "        self.marka = marka\n",
    "    \n",
    "    def __del__(self):\n",
    "        '''\n",
    "            Вызывается при удалении любого экземпляра\n",
    "        '''\n",
    "        print(self.marka, \"удачно был удален\")\n",
    "        \n",
    "    def __call__(self):\n",
    "        '''\n",
    "            Вызывается при вызове какого-либо экземпляра класса\n",
    "        '''\n",
    "        return \"вы вызвали \" + self.marka\n",
    "    \n",
    "    def __len__(self):\n",
    "        '''\n",
    "            Вызывается при передаче экземпляра класса\n",
    "            в базовую функцию len\n",
    "        '''\n",
    "        \n",
    "        return len(self.marka)\n",
    "    \n",
    "    def __index__(self):\n",
    "        '''\n",
    "            Будет вызван при передаче экземпляра класса\n",
    "            одной из базовых функции bin, oct и hex.\n",
    "            Но самого преоброзования к соответсвующей\n",
    "            системе исчисления не надо - достаточно вернуть\n",
    "            десятичное число\n",
    "        '''\n",
    "        return 17\n",
    "    \n",
    "    def __round__(self):\n",
    "        '''\n",
    "            Будет вызван при передаче экземпляра класса\n",
    "            базовой функции round.\n",
    "        '''\n",
    "        \n",
    "        self.marka += \" rounded\"\n",
    "        return self\n",
    "    # ===================================================\n",
    "    #                     ДРУГИЕ МЕТОДЫ\n",
    "    # ==================================================="
   ]
  },
  {
   "cell_type": "markdown",
   "id": "183702c3-11e7-4685-8079-85b3a20e0183",
   "metadata": {},
   "source": [
    "**Класс который позволит подробнее разобраться с методами для работы с индексами (оператор `[]`)**"
   ]
  },
  {
   "cell_type": "code",
   "execution_count": 68,
   "id": "b5c17491-d9c7-49ab-8e9a-0bf8392a5736",
   "metadata": {},
   "outputs": [],
   "source": [
    "class indexer_example():\n",
    "    \n",
    "    def print_index(self, index):\n",
    "        print(\"пришёл инедкс\", index)\n",
    "    \n",
    "    \n",
    "    def __setitem__(self, i, v):\n",
    "        self.print_index(i)\n",
    "        print(\"пришло занчение \", v)\n",
    "        \n",
    "    def __getitem__(self, i):\n",
    "        self.print_index(i)\n",
    "    \n",
    "    def __delitem__(self, i):\n",
    "        self.print_index(i)"
   ]
  },
  {
   "cell_type": "markdown",
   "id": "090296b8-c948-41d7-ba23-583bd5c586b7",
   "metadata": {
    "tags": []
   },
   "source": [
    "# **Замечание**"
   ]
  },
  {
   "cell_type": "markdown",
   "id": "ee39fa4a-6b22-4c53-8941-d762a94bcb31",
   "metadata": {},
   "source": [
    "**Заметим**, интерестную деталь которую я выяснил работая над этим файлом: при вызове поля атрибута класса из только созданного объекта IPython после завершения выполнения ячейки производит удаление только, что созданного экземпляра."
   ]
  },
  {
   "cell_type": "markdown",
   "id": "978523f8-edb8-47d3-8972-17dda0868fa2",
   "metadata": {},
   "source": [
    "<img src=\"Ipython_obj_deleting.png\">"
   ]
  },
  {
   "cell_type": "markdown",
   "id": "a7c37090-9b1a-4636-a64c-5a42f55b1eed",
   "metadata": {},
   "source": [
    "Интерпритатор, понятное дело, ведет себя аналогично.\n",
    "\n",
    "<img src=\"python_obj_deleting.png\">"
   ]
  },
  {
   "cell_type": "markdown",
   "id": "a8d8964b-e9e6-4cf2-80be-8e0cececae02",
   "metadata": {},
   "source": [
    "Потому не обращайте внимание на постоянно сопутсвующий примерам вывод типа:<br>\n",
    "`<name_of_car> удачно был удален `"
   ]
  },
  {
   "cell_type": "markdown",
   "id": "124f5875-31a0-4f9d-a3fa-91be7b412b8a",
   "metadata": {
    "tags": []
   },
   "source": [
    "# **Методы**"
   ]
  },
  {
   "cell_type": "markdown",
   "id": "5dc3671b-0274-41c3-a539-1e4de795612d",
   "metadata": {
    "tags": []
   },
   "source": [
    "## *Методы метаклассов*"
   ]
  },
  {
   "cell_type": "markdown",
   "id": "213311f5-00a6-4ebe-bc36-c426247f37e1",
   "metadata": {},
   "source": [
    "### `__instancecheck__`\n",
    "\n",
    "Доступен пример использования https://github.com/Dranikf/knowledge_bank/blob/main/python_class_interface/python_class_interface.ipynb (см. раздел **\"Использование метаклассов\"**)\n",
    "\n",
    "Будет вызван для класса при использовании встроенной функции `isinstace(instance, class)` - функции которая (при `__instancecheck__` оставленного по умолчанию) вернет `True` если первый аргумент экземпляр класса указанного вторым."
   ]
  },
  {
   "cell_type": "code",
   "execution_count": 5,
   "id": "54e3f960-302e-48e9-ad0c-441d0c736b49",
   "metadata": {},
   "outputs": [
    {
     "name": "stdout",
     "output_type": "stream",
     "text": [
      "__isinstacecheck__ called\n",
      "Gelentvagen удачно был удален\n"
     ]
    },
    {
     "data": {
      "text/plain": [
       "True"
      ]
     },
     "execution_count": 5,
     "metadata": {},
     "output_type": "execute_result"
    }
   ],
   "source": [
    "isinstance(Auto(\"Gelentvagen\"), TechThing)"
   ]
  },
  {
   "cell_type": "markdown",
   "id": "f5f42fb9-1ff1-4041-bad2-747251d95cdc",
   "metadata": {},
   "source": [
    "Притом, ход приведенный в следующей ячейке, не сработает."
   ]
  },
  {
   "cell_type": "code",
   "execution_count": 6,
   "id": "588df37d-c720-4dcf-9525-f20ff78c591a",
   "metadata": {},
   "outputs": [
    {
     "name": "stdout",
     "output_type": "stream",
     "text": [
      "Toyota удачно был удален\n"
     ]
    },
    {
     "data": {
      "text/plain": [
       "True"
      ]
     },
     "execution_count": 6,
     "metadata": {},
     "output_type": "execute_result"
    }
   ],
   "source": [
    "isinstance(Auto(\"Toyota\"), Auto)"
   ]
  },
  {
   "cell_type": "markdown",
   "id": "3f1c8bfe-ee3d-4587-a167-61d16b8309f0",
   "metadata": {},
   "source": [
    "Видимо потому, что в класс `Auto` не указан метакласс `Thing` как это сделано для класса `TechThing`. Весьма обывательское объяснение, но возможно в будующем я буду знать об этой концепции больше."
   ]
  },
  {
   "cell_type": "markdown",
   "id": "10302fe6-64bb-49c4-ae93-7ee9702896ce",
   "metadata": {},
   "source": [
    "### `__subclasscheck__`\n",
    "\n",
    "Доступен пример использования https://github.com/Dranikf/knowledge_bank/blob/main/python_class_interface/python_class_interface.ipynb (см. раздел **\"Использование метаклассов\"**)\n",
    "\n",
    "Будет вызван для класса при использовании встроенной функции `issubclass(class1, class2)` которая (при `__subclasscheck__` оставленной по умолчанию), вернет `True` если `class1` наследник `class2`."
   ]
  },
  {
   "cell_type": "code",
   "execution_count": 7,
   "id": "4cfff54e-a03a-490a-9efb-3716fd6059f3",
   "metadata": {},
   "outputs": [
    {
     "name": "stdout",
     "output_type": "stream",
     "text": [
      "__issubclasscheck__ called\n"
     ]
    },
    {
     "data": {
      "text/plain": [
       "True"
      ]
     },
     "execution_count": 7,
     "metadata": {},
     "output_type": "execute_result"
    }
   ],
   "source": [
    "issubclass(Auto, TechThing)"
   ]
  },
  {
   "cell_type": "markdown",
   "id": "f2e8e4f4-7132-4681-8816-2403d8d8cf50",
   "metadata": {},
   "source": [
    "Притом, ход приведенный в следующей ячейке, сработает, в отличии от аналогичной ситуации для другого специального метода метаклассов `__instancecheck__`."
   ]
  },
  {
   "cell_type": "code",
   "execution_count": 8,
   "id": "3ae5a945-0152-4064-b9cc-1693aa64b367",
   "metadata": {},
   "outputs": [
    {
     "name": "stdout",
     "output_type": "stream",
     "text": [
      "__issubclasscheck__ called\n"
     ]
    },
    {
     "data": {
      "text/plain": [
       "True"
      ]
     },
     "execution_count": 8,
     "metadata": {},
     "output_type": "execute_result"
    }
   ],
   "source": [
    "issubclass(Auto, Machine)"
   ]
  },
  {
   "cell_type": "markdown",
   "id": "284596ef-5a81-4d2b-8e62-b4edb8b5aa3c",
   "metadata": {},
   "source": [
    "Почему так, на данном этапе погружения в pyhton, остается загадкой."
   ]
  },
  {
   "cell_type": "markdown",
   "id": "2a749a2e-c8f0-4ff3-9a68-c21352634100",
   "metadata": {
    "tags": []
   },
   "source": [
    "## *Методы приведения к типу*"
   ]
  },
  {
   "cell_type": "markdown",
   "id": "a10c6096-157c-4745-9d0b-8bdfb12cff1e",
   "metadata": {
    "jp-MarkdownHeadingCollapsed": true,
    "tags": []
   },
   "source": [
    "### `__bool__`\n",
    "\n",
    "Этот метод будет вызван для любого экземпляра переданного в базовую функцию `bool`"
   ]
  },
  {
   "cell_type": "code",
   "execution_count": 9,
   "id": "bc2da9d8-dd29-4d59-b3cc-0548a2ac31bf",
   "metadata": {},
   "outputs": [
    {
     "name": "stdout",
     "output_type": "stream",
     "text": [
      "Gili удачно был удален\n",
      "Gili result True\n",
      "None удачно был удален\n",
      "None result False\n"
     ]
    }
   ],
   "source": [
    "print(\"Gili result\", bool(Auto(\"Gili\")))\n",
    "print(\"None result\", bool(Auto(None)))"
   ]
  },
  {
   "cell_type": "markdown",
   "id": "d43e3c42-f49c-4e99-9ee1-352924d117a3",
   "metadata": {},
   "source": [
    "### `__complex__`\n",
    "\n",
    "Этот метод будет вызваться при передече экземпляра класса в функцию `complex`. `complex` производит преведение переданного объекта к типу `complex`. В данном случае я в преобразование заложил чтобы действительная и мнимая части числа были равны числу букв в марке автомобиля."
   ]
  },
  {
   "cell_type": "code",
   "execution_count": 15,
   "id": "88853a0b-50a1-4044-8872-d22fc854657c",
   "metadata": {},
   "outputs": [
    {
     "name": "stdout",
     "output_type": "stream",
     "text": [
      "Lexus удачно был удален\n"
     ]
    },
    {
     "data": {
      "text/plain": [
       "(5+5j)"
      ]
     },
     "execution_count": 15,
     "metadata": {},
     "output_type": "execute_result"
    }
   ],
   "source": [
    "complex(Auto(\"Lexus\"))"
   ]
  },
  {
   "cell_type": "markdown",
   "id": "21fb7c60-57d3-4a14-95be-d7e3f0326403",
   "metadata": {},
   "source": [
    "### `__float__`\n",
    "\n",
    "Этот метод будет вызваться при предаче экземпляра класса в функцию `float`. `float` произодит приведение переданного объекта к типу `float`. В данном случае я в преобразование заложил, чтобы возвращалось число символов в поле `marka` преобарзованное к типу `float`"
   ]
  },
  {
   "cell_type": "code",
   "execution_count": 18,
   "id": "39cfc2d8-ef3d-4dff-904a-83571ad1f8f7",
   "metadata": {},
   "outputs": [
    {
     "name": "stdout",
     "output_type": "stream",
     "text": [
      "Hyundai удачно был удален\n"
     ]
    },
    {
     "data": {
      "text/plain": [
       "7.0"
      ]
     },
     "execution_count": 18,
     "metadata": {},
     "output_type": "execute_result"
    }
   ],
   "source": [
    "float(Auto(\"Hyundai\"))"
   ]
  },
  {
   "cell_type": "markdown",
   "id": "c7dc7a44-0fcf-4f4c-97e6-272714a9d3f9",
   "metadata": {},
   "source": [
    "### `__int__`\n",
    "\n",
    "Этот метод будет вызываться при передаче экземпляра класса в функцию `int`. `int` производит приведенение переданного объекта к типу `int`. В данном случае я в преобразование заложил, чтобы приведение означало подсчет числа символов в марке автомобиля."
   ]
  },
  {
   "cell_type": "code",
   "execution_count": 20,
   "id": "d7fb6a8a-b0fa-4e4e-a749-851074cfbcbb",
   "metadata": {},
   "outputs": [
    {
     "name": "stdout",
     "output_type": "stream",
     "text": [
      "Mitsubishi удачно был удален\n"
     ]
    },
    {
     "data": {
      "text/plain": [
       "10"
      ]
     },
     "execution_count": 20,
     "metadata": {},
     "output_type": "execute_result"
    }
   ],
   "source": [
    "int(Auto(\"Mitsubishi\"))"
   ]
  },
  {
   "cell_type": "markdown",
   "id": "5560ae05-c261-4060-bb4d-ba1c209819a0",
   "metadata": {},
   "source": [
    "### `__str__`\n",
    "\n",
    "Этот метод будет вызываться при передаче экземпляра класса в функцию `str`. `str` производит приведение переданного объекта к строковому типу. В данном случае я в преобразование заложил, чтобы приведение просто возвращало марку автомобиля."
   ]
  },
  {
   "cell_type": "code",
   "execution_count": 22,
   "id": "385a54c7-e7c9-4aae-b438-d096d79adc01",
   "metadata": {},
   "outputs": [
    {
     "name": "stdout",
     "output_type": "stream",
     "text": [
      "Honda удачно был удален\n"
     ]
    },
    {
     "data": {
      "text/plain": [
       "'Honda'"
      ]
     },
     "execution_count": 22,
     "metadata": {},
     "output_type": "execute_result"
    }
   ],
   "source": [
    "str(Auto(\"Honda\"))"
   ]
  },
  {
   "cell_type": "markdown",
   "id": "ea25bc1e-1562-436b-8b2b-393127e60ad6",
   "metadata": {
    "tags": []
   },
   "source": [
    "## *Методы для работы с индексами*"
   ]
  },
  {
   "cell_type": "markdown",
   "id": "643397b5-877c-4b10-acae-2d3bc9e5167c",
   "metadata": {},
   "source": [
    "### `__setitem__`\n",
    "\n",
    "Метод, который будет вызваться при использовании оператора `[]` с присвоением. В метод `__setitem__` должен содерать два аргумента:\n",
    "1. индекс - объект указонный в скобках;\n",
    "2. значение - присваимое заначение (после оператора `=`).\n",
    "\n",
    "Был заложен смысл извлечения замены символа в марке автомобиля."
   ]
  },
  {
   "cell_type": "code",
   "execution_count": 53,
   "id": "5e1266da-b4fd-4b14-a338-653eb44a3270",
   "metadata": {},
   "outputs": [
    {
     "name": "stdout",
     "output_type": "stream",
     "text": [
      "Mastrati удачно был удален\n",
      "Mastrati\n"
     ]
    }
   ],
   "source": [
    "maz_car = Auto(\"Maserati\")\n",
    "maz_car[3] = \"t\"\n",
    "print(maz_car)"
   ]
  },
  {
   "cell_type": "markdown",
   "id": "b0fd9cbd-b847-4970-864e-fecc147159d4",
   "metadata": {},
   "source": [
    "### `__getitem__`\n",
    "\n",
    "Метод, который будет вызваться при использовании оператора `[]`, для извелечения значения. В данном случае, индекс используется как индекс марки автомобиля."
   ]
  },
  {
   "cell_type": "code",
   "execution_count": 63,
   "id": "5fd8e157-2207-47c2-b332-b01a7fc06404",
   "metadata": {},
   "outputs": [
    {
     "data": {
      "text/plain": [
       "'Bug'"
      ]
     },
     "execution_count": 63,
     "metadata": {},
     "output_type": "execute_result"
    }
   ],
   "source": [
    "bug_car = Auto(\"Bugatti\")\n",
    "bug_car[:3]"
   ]
  },
  {
   "cell_type": "markdown",
   "id": "9b55fd0e-901d-4a0e-aa31-a0c3fec36e8a",
   "metadata": {},
   "source": [
    "### `__delitem__`\n",
    "\n",
    "Метод, который будет вызываться при использовании оператора `[]` вместе с оператором `del`. В данном случае, из марки автомобиля "
   ]
  },
  {
   "cell_type": "code",
   "execution_count": 82,
   "id": "05e7a339-490c-47fc-b6f3-fcf99077c68f",
   "metadata": {},
   "outputs": [
    {
     "name": "stdout",
     "output_type": "stream",
     "text": [
      "BW удачно был удален\n"
     ]
    },
    {
     "data": {
      "text/plain": [
       "'BW'"
      ]
     },
     "execution_count": 82,
     "metadata": {},
     "output_type": "execute_result"
    }
   ],
   "source": [
    "bmw_car = Auto(\"BMW\")\n",
    "del bmw_car[1]\n",
    "bmw_car.marka"
   ]
  },
  {
   "cell_type": "markdown",
   "id": "b54d2f00-8b0e-4dbc-acc0-61d8e305455c",
   "metadata": {},
   "source": [
    "### Множественный индекс\n",
    "\n",
    "При передаче множественного индекса, функции `__setitem__`, `__getitem__` и `__delitem__`  в аргуметы соответвующие индексу получают картеж."
   ]
  },
  {
   "cell_type": "code",
   "execution_count": 70,
   "id": "c98bf4e1-d683-402f-affe-6504955c9731",
   "metadata": {},
   "outputs": [
    {
     "name": "stdout",
     "output_type": "stream",
     "text": [
      "пришёл инедкс (3, 4, 5, 'str index')\n"
     ]
    }
   ],
   "source": [
    "ind_exmpl = indexer_example()\n",
    "\n",
    "ind_exmpl[3,4,5,\"str index\"]"
   ]
  },
  {
   "cell_type": "markdown",
   "id": "dcb28196-09b6-4658-920d-d2d933fbb09e",
   "metadata": {},
   "source": [
    "### Опретор `:` внутри индекса\n",
    "\n",
    "При использовании `:` внутри индекса в методы отвечающие за управление поведением класса придет `slice`"
   ]
  },
  {
   "cell_type": "code",
   "execution_count": 71,
   "id": "2db97064-872a-41c6-8c49-3895b04a8d4a",
   "metadata": {},
   "outputs": [
    {
     "name": "stdout",
     "output_type": "stream",
     "text": [
      "пришёл инедкс slice(None, 3, None)\n"
     ]
    }
   ],
   "source": [
    "ind_exmpl = indexer_example()\n",
    "\n",
    "ind_exmpl[:3]"
   ]
  },
  {
   "cell_type": "markdown",
   "id": "fc041131-294a-4dcf-b0ce-d555c90d14fc",
   "metadata": {},
   "source": [
    "## *Протокол итерации*\n",
    "\n",
    "Или методы которые делают экземпляры класса `iterable`."
   ]
  },
  {
   "cell_type": "markdown",
   "id": "94ba3e89-4021-4bf9-a74d-cf1111f4037a",
   "metadata": {},
   "source": [
    "### `__iter__`\n",
    "\n",
    "Вызывается для того, что-бы \"предупредить\" объект, что по нему будут итерироваться - можно провести некоторый процессинг, который будет готовить этот класс к итерированию по нему. Будет вызван при:\n",
    "- Передаче экземпляра в функцию `iter()`;\n",
    "- При использовании после оператора `in` в цикле `for`.\n",
    "\n",
    "Ожидается возврат любого объекта у которого переопределен метод `__next__`. Чаще всего возврящают `self` но не всегда."
   ]
  },
  {
   "cell_type": "markdown",
   "id": "ee42bb61-4961-4ab4-ab4f-337350119940",
   "metadata": {},
   "source": [
    "### `__next__`\n",
    "\n",
    "Определяет что класс будет возвращать при каждой следующей итерации по нему. Будет вызван при:\n",
    "- Передаче экземпляра в фнукцию `next()`;\n",
    "- При каждой идерации цикла `for` по объекту.\n",
    "\n",
    "Возвращать следует, то что должно попасть в теририрующую переменную на этой итерации.<br>\n",
    "В момент, когда требуется прeкратить процесс итерирования следует использовать `raise StopIteration`."
   ]
  },
  {
   "cell_type": "markdown",
   "id": "68e44b28-1a6c-43fd-9b1b-88cb78847173",
   "metadata": {},
   "source": [
    "### Базовый пример\n",
    "\n",
    "Эти операторы лучше рассматривать в комбинации, потому общий пример для них:"
   ]
  },
  {
   "cell_type": "code",
   "execution_count": 55,
   "id": "974e33a3-3979-4235-8061-89ef7722b930",
   "metadata": {},
   "outputs": [],
   "source": [
    "class ar_progression_shower:\n",
    "    '''\n",
    "        Класс имплементирует расчет элементов\n",
    "        арифметической прогрессии до определенного\n",
    "        наблюдения в прогрессии\n",
    "    '''\n",
    "    def __init__(self, a0 = 0, n = 5, d = 3):\n",
    "        self.n = n\n",
    "        self.a0 = a0\n",
    "        self.d = d\n",
    "        \n",
    "    def __iter__(self):\n",
    "        print(\"был вызван __iter__\")\n",
    "        self.i = 0\n",
    "        self.curr_a = self.a0\n",
    "        return self\n",
    "    \n",
    "    def __next__(self):\n",
    "        print(\"был вызван __next__\")\n",
    "        if self.i < self.n:\n",
    "            self.curr_a = self.a0 + self.d*self.i\n",
    "            self.i += 1\n",
    "            return \"{} : {}\".format(self.i-1, self.curr_a)\n",
    "        else:\n",
    "            print(\"вызван StopIteration\")\n",
    "            raise StopIteration\n",
    "        \n",
    "        \n",
    "        \n",
    "example_iter = ar_progression_shower()"
   ]
  },
  {
   "cell_type": "markdown",
   "id": "c4f54e4f-b111-46c6-a973-e6203f1a01bf",
   "metadata": {},
   "source": [
    "Можно использовать методы `iter()` и `next()`."
   ]
  },
  {
   "cell_type": "code",
   "execution_count": 56,
   "id": "93a5a0e0-decc-4e86-8d6f-15ef370956f2",
   "metadata": {},
   "outputs": [
    {
     "name": "stdout",
     "output_type": "stream",
     "text": [
      "был вызван __iter__\n",
      "был вызван __next__\n",
      "0 : 0\n",
      "был вызван __next__\n",
      "1 : 3\n",
      "был вызван __next__\n",
      "2 : 6\n",
      "был вызван __next__\n",
      "3 : 9\n",
      "был вызван __next__\n",
      "4 : 12\n"
     ]
    }
   ],
   "source": [
    "iter(example_iter)\n",
    "\n",
    "print(next(example_iter))\n",
    "print(next(example_iter))\n",
    "print(next(example_iter))\n",
    "print(next(example_iter))\n",
    "print(next(example_iter))"
   ]
  },
  {
   "cell_type": "markdown",
   "id": "fca178b2-82fb-4fb5-97ae-7451da829957",
   "metadata": {},
   "source": [
    "Но в случае, если вывалиться за допустииое число итераций. Вывод будет следующий."
   ]
  },
  {
   "cell_type": "code",
   "execution_count": 57,
   "id": "7f571523-797b-45d0-bec6-1af18d7938af",
   "metadata": {},
   "outputs": [
    {
     "name": "stdout",
     "output_type": "stream",
     "text": [
      "был вызван __iter__\n",
      "был вызван __next__\n",
      "0 : 0\n",
      "был вызван __next__\n",
      "1 : 3\n",
      "был вызван __next__\n",
      "2 : 6\n",
      "был вызван __next__\n",
      "3 : 9\n",
      "был вызван __next__\n",
      "4 : 12\n",
      "был вызван __next__\n",
      "вызван StopIteration\n"
     ]
    },
    {
     "ename": "StopIteration",
     "evalue": "",
     "output_type": "error",
     "traceback": [
      "\u001b[0;31m---------------------------------------------------------------------------\u001b[0m",
      "\u001b[0;31mStopIteration\u001b[0m                             Traceback (most recent call last)",
      "Input \u001b[0;32mIn [57]\u001b[0m, in \u001b[0;36m<cell line: 8>\u001b[0;34m()\u001b[0m\n\u001b[1;32m      6\u001b[0m \u001b[38;5;28mprint\u001b[39m(\u001b[38;5;28mnext\u001b[39m(example_iter))\n\u001b[1;32m      7\u001b[0m \u001b[38;5;28mprint\u001b[39m(\u001b[38;5;28mnext\u001b[39m(example_iter))\n\u001b[0;32m----> 8\u001b[0m \u001b[38;5;28mprint\u001b[39m(\u001b[38;5;28;43mnext\u001b[39;49m\u001b[43m(\u001b[49m\u001b[43mexample_iter\u001b[49m\u001b[43m)\u001b[49m)\n",
      "Input \u001b[0;32mIn [55]\u001b[0m, in \u001b[0;36mar_progression_shower.__next__\u001b[0;34m(self)\u001b[0m\n\u001b[1;32m     24\u001b[0m \u001b[38;5;28;01melse\u001b[39;00m:\n\u001b[1;32m     25\u001b[0m     \u001b[38;5;28mprint\u001b[39m(\u001b[38;5;124m\"\u001b[39m\u001b[38;5;124mвызван StopIteration\u001b[39m\u001b[38;5;124m\"\u001b[39m)\n\u001b[0;32m---> 26\u001b[0m     \u001b[38;5;28;01mraise\u001b[39;00m \u001b[38;5;167;01mStopIteration\u001b[39;00m\n",
      "\u001b[0;31mStopIteration\u001b[0m: "
     ]
    }
   ],
   "source": [
    "iter(example_iter)\n",
    "\n",
    "print(next(example_iter))\n",
    "print(next(example_iter))\n",
    "print(next(example_iter))\n",
    "print(next(example_iter))\n",
    "print(next(example_iter))\n",
    "print(next(example_iter))"
   ]
  },
  {
   "cell_type": "markdown",
   "id": "6fcfda24-879f-4c77-bbee-87cc1ee26fa5",
   "metadata": {},
   "source": [
    "Все те-же самые результаты при использовании цикла."
   ]
  },
  {
   "cell_type": "code",
   "execution_count": 58,
   "id": "394e8797-8ff9-4378-a64a-b913e042dff1",
   "metadata": {},
   "outputs": [
    {
     "name": "stdout",
     "output_type": "stream",
     "text": [
      "был вызван __iter__\n",
      "был вызван __next__\n",
      "0 : 0\n",
      "был вызван __next__\n",
      "1 : 3\n",
      "был вызван __next__\n",
      "2 : 6\n",
      "был вызван __next__\n",
      "3 : 9\n",
      "был вызван __next__\n",
      "4 : 12\n",
      "был вызван __next__\n",
      "вызван StopIteration\n"
     ]
    }
   ],
   "source": [
    "for val in example_iter:\n",
    "    print(val)"
   ]
  },
  {
   "cell_type": "code",
   "execution_count": 68,
   "id": "271411b4-e19b-4925-aff5-b9a3ac79e7ae",
   "metadata": {},
   "outputs": [
    {
     "name": "stdout",
     "output_type": "stream",
     "text": [
      "был вызван __iter__\n"
     ]
    },
    {
     "data": {
      "text/plain": [
       "__main__.ar_progression_shower"
      ]
     },
     "execution_count": 68,
     "metadata": {},
     "output_type": "execute_result"
    }
   ],
   "source": [
    "type(iter(example_iter))"
   ]
  },
  {
   "cell_type": "markdown",
   "id": "e21f3e5f-95d3-4526-ba03-892b69222a7f",
   "metadata": {},
   "source": [
    "### Фишки"
   ]
  },
  {
   "cell_type": "markdown",
   "id": "16ec42f4-622e-4066-b0bf-39541814e084",
   "metadata": {},
   "source": [
    "#### Без `__next__`"
   ]
  },
  {
   "cell_type": "code",
   "execution_count": 74,
   "id": "c24b47cf-5892-4582-b094-7dc62b812f80",
   "metadata": {},
   "outputs": [
    {
     "ename": "TypeError",
     "evalue": "iter() returned non-iterator of type 'test'",
     "output_type": "error",
     "traceback": [
      "\u001b[0;31m---------------------------------------------------------------------------\u001b[0m",
      "\u001b[0;31mTypeError\u001b[0m                                 Traceback (most recent call last)",
      "Input \u001b[0;32mIn [74]\u001b[0m, in \u001b[0;36m<cell line: 5>\u001b[0;34m()\u001b[0m\n\u001b[1;32m      2\u001b[0m     \u001b[38;5;28;01mdef\u001b[39;00m \u001b[38;5;21m__iter__\u001b[39m(\u001b[38;5;28mself\u001b[39m):\n\u001b[1;32m      3\u001b[0m         \u001b[38;5;28;01mreturn\u001b[39;00m \u001b[38;5;28mself\u001b[39m\n\u001b[0;32m----> 5\u001b[0m \u001b[38;5;28;43miter\u001b[39;49m\u001b[43m(\u001b[49m\u001b[43mtest\u001b[49m\u001b[43m(\u001b[49m\u001b[43m)\u001b[49m\u001b[43m)\u001b[49m\n",
      "\u001b[0;31mTypeError\u001b[0m: iter() returned non-iterator of type 'test'"
     ]
    }
   ],
   "source": [
    "class test:\n",
    "    def __iter__(self):\n",
    "        return self\n",
    "    \n",
    "iter(test())"
   ]
  },
  {
   "cell_type": "code",
   "execution_count": 75,
   "id": "16393d97-d612-4a61-aa04-41bd26999987",
   "metadata": {},
   "outputs": [
    {
     "data": {
      "text/plain": [
       "<__main__.test at 0x7f081022c220>"
      ]
     },
     "execution_count": 75,
     "metadata": {},
     "output_type": "execute_result"
    }
   ],
   "source": [
    "class test:\n",
    "    def __next__(self):\n",
    "        return 0\n",
    "    def __iter__(self):\n",
    "        return self\n",
    "    \n",
    "iter(test())"
   ]
  },
  {
   "cell_type": "markdown",
   "id": "2b69c749-68d9-4a32-9a88-6c60dc285dc4",
   "metadata": {},
   "source": [
    "#### `list`/`tuple`/`dict` как результат `__iter__`\n",
    "\n",
    "Сами по себе эти пипы не переопределяют `__next__`, как следвие, вернуть их как из `__iter__` не получится."
   ]
  },
  {
   "cell_type": "code",
   "execution_count": 78,
   "id": "fde79d3b-957b-45ce-a5d7-bfc60d3ee83c",
   "metadata": {},
   "outputs": [
    {
     "ename": "TypeError",
     "evalue": "iter() returned non-iterator of type 'list'",
     "output_type": "error",
     "traceback": [
      "\u001b[0;31m---------------------------------------------------------------------------\u001b[0m",
      "\u001b[0;31mTypeError\u001b[0m                                 Traceback (most recent call last)",
      "Input \u001b[0;32mIn [78]\u001b[0m, in \u001b[0;36m<cell line: 5>\u001b[0;34m()\u001b[0m\n\u001b[1;32m      2\u001b[0m     \u001b[38;5;28;01mdef\u001b[39;00m \u001b[38;5;21m__iter__\u001b[39m(\u001b[38;5;28mself\u001b[39m):\n\u001b[1;32m      3\u001b[0m         \u001b[38;5;28;01mreturn\u001b[39;00m [\u001b[38;5;241m10\u001b[39m, \u001b[38;5;241m20\u001b[39m, \u001b[38;5;241m30\u001b[39m, \u001b[38;5;241m40\u001b[39m]\n\u001b[0;32m----> 5\u001b[0m \u001b[38;5;28;43miter\u001b[39;49m\u001b[43m(\u001b[49m\u001b[43mtest\u001b[49m\u001b[43m(\u001b[49m\u001b[43m)\u001b[49m\u001b[43m)\u001b[49m\n",
      "\u001b[0;31mTypeError\u001b[0m: iter() returned non-iterator of type 'list'"
     ]
    }
   ],
   "source": [
    "class test():\n",
    "    def __iter__(self):\n",
    "        return [10, 20, 30, 40]\n",
    "    \n",
    "iter(test())"
   ]
  },
  {
   "cell_type": "code",
   "execution_count": 79,
   "id": "9333310b-48f1-431c-99c7-b94e8ddeaa5b",
   "metadata": {},
   "outputs": [
    {
     "ename": "TypeError",
     "evalue": "iter() returned non-iterator of type 'tuple'",
     "output_type": "error",
     "traceback": [
      "\u001b[0;31m---------------------------------------------------------------------------\u001b[0m",
      "\u001b[0;31mTypeError\u001b[0m                                 Traceback (most recent call last)",
      "Input \u001b[0;32mIn [79]\u001b[0m, in \u001b[0;36m<cell line: 5>\u001b[0;34m()\u001b[0m\n\u001b[1;32m      2\u001b[0m     \u001b[38;5;28;01mdef\u001b[39;00m \u001b[38;5;21m__iter__\u001b[39m(\u001b[38;5;28mself\u001b[39m):\n\u001b[1;32m      3\u001b[0m         \u001b[38;5;28;01mreturn\u001b[39;00m (\u001b[38;5;241m10\u001b[39m, \u001b[38;5;241m20\u001b[39m, \u001b[38;5;241m30\u001b[39m, \u001b[38;5;241m40\u001b[39m)\n\u001b[0;32m----> 5\u001b[0m \u001b[38;5;28;43miter\u001b[39;49m\u001b[43m(\u001b[49m\u001b[43mtest\u001b[49m\u001b[43m(\u001b[49m\u001b[43m)\u001b[49m\u001b[43m)\u001b[49m\n",
      "\u001b[0;31mTypeError\u001b[0m: iter() returned non-iterator of type 'tuple'"
     ]
    }
   ],
   "source": [
    "class test():\n",
    "    def __iter__(self):\n",
    "        return (10, 20, 30, 40)\n",
    "    \n",
    "iter(test())"
   ]
  },
  {
   "cell_type": "code",
   "execution_count": 80,
   "id": "b03ff98b-8074-404c-95c1-d97b4dd36914",
   "metadata": {},
   "outputs": [
    {
     "ename": "TypeError",
     "evalue": "iter() returned non-iterator of type 'dict'",
     "output_type": "error",
     "traceback": [
      "\u001b[0;31m---------------------------------------------------------------------------\u001b[0m",
      "\u001b[0;31mTypeError\u001b[0m                                 Traceback (most recent call last)",
      "Input \u001b[0;32mIn [80]\u001b[0m, in \u001b[0;36m<cell line: 5>\u001b[0;34m()\u001b[0m\n\u001b[1;32m      2\u001b[0m     \u001b[38;5;28;01mdef\u001b[39;00m \u001b[38;5;21m__iter__\u001b[39m(\u001b[38;5;28mself\u001b[39m):\n\u001b[1;32m      3\u001b[0m         \u001b[38;5;28;01mreturn\u001b[39;00m {\u001b[38;5;124m\"\u001b[39m\u001b[38;5;124ma\u001b[39m\u001b[38;5;124m\"\u001b[39m:\u001b[38;5;241m10\u001b[39m, \u001b[38;5;124m\"\u001b[39m\u001b[38;5;124mb\u001b[39m\u001b[38;5;124m\"\u001b[39m:\u001b[38;5;241m20\u001b[39m, \u001b[38;5;124m\"\u001b[39m\u001b[38;5;124mc\u001b[39m\u001b[38;5;124m\"\u001b[39m:\u001b[38;5;241m30\u001b[39m, \u001b[38;5;124m\"\u001b[39m\u001b[38;5;124md\u001b[39m\u001b[38;5;124m\"\u001b[39m:\u001b[38;5;241m40\u001b[39m}\n\u001b[0;32m----> 5\u001b[0m \u001b[38;5;28;43miter\u001b[39;49m\u001b[43m(\u001b[49m\u001b[43mtest\u001b[49m\u001b[43m(\u001b[49m\u001b[43m)\u001b[49m\u001b[43m)\u001b[49m\n",
      "\u001b[0;31mTypeError\u001b[0m: iter() returned non-iterator of type 'dict'"
     ]
    }
   ],
   "source": [
    "class test():\n",
    "    def __iter__(self):\n",
    "        return {\"a\":10, \"b\":20, \"c\":30, \"d\":40}\n",
    "    \n",
    "iter(test())"
   ]
  },
  {
   "cell_type": "markdown",
   "id": "944e9cb0-46f2-457c-a7f8-d3139f6bcac0",
   "metadata": {},
   "source": [
    "**Но можно вернуть результат передачи их функции `iter()`.** Обращею отдельное внимание на типы данных результатов."
   ]
  },
  {
   "cell_type": "code",
   "execution_count": 82,
   "id": "68668c1b-1099-488e-ab9f-9abe2732d892",
   "metadata": {},
   "outputs": [
    {
     "data": {
      "text/plain": [
       "list_iterator"
      ]
     },
     "execution_count": 82,
     "metadata": {},
     "output_type": "execute_result"
    }
   ],
   "source": [
    "class test():\n",
    "    def __iter__(self):\n",
    "        return iter([10, 20, 30, 40])\n",
    "    \n",
    "type(iter(test()))"
   ]
  },
  {
   "cell_type": "code",
   "execution_count": 85,
   "id": "c4e1b72d-f8f5-4b81-835a-bd1e97ebc5a3",
   "metadata": {},
   "outputs": [
    {
     "data": {
      "text/plain": [
       "tuple_iterator"
      ]
     },
     "execution_count": 85,
     "metadata": {},
     "output_type": "execute_result"
    }
   ],
   "source": [
    "class test():\n",
    "    def __iter__(self):\n",
    "        return iter((10, 20, 30, 40))\n",
    "    \n",
    "type(iter(test()))"
   ]
  },
  {
   "cell_type": "code",
   "execution_count": 87,
   "id": "d195f5cf-6a4a-4614-af76-be0a0a16afcf",
   "metadata": {},
   "outputs": [
    {
     "data": {
      "text/plain": [
       "dict_keyiterator"
      ]
     },
     "execution_count": 87,
     "metadata": {},
     "output_type": "execute_result"
    }
   ],
   "source": [
    "class test():\n",
    "    def __iter__(self):\n",
    "        return iter({\"a\":10, \"b\":20, \"c\":30, \"d\":40})\n",
    "    \n",
    "type(iter(test()))"
   ]
  },
  {
   "cell_type": "markdown",
   "id": "a43162bb-18b4-45bf-8b1d-71bdf130f31d",
   "metadata": {
    "tags": []
   },
   "source": [
    "## *Другие методы*"
   ]
  },
  {
   "cell_type": "markdown",
   "id": "3621bc1a-a2e6-4b3d-8933-f211dc0336e6",
   "metadata": {},
   "source": [
    "### `__init__`\n",
    "Будет вызван при создании экземпляра класса"
   ]
  },
  {
   "cell_type": "code",
   "execution_count": 2,
   "id": "a3a03eec-d7e3-4272-b5ea-9f06f33926e4",
   "metadata": {},
   "outputs": [
    {
     "name": "stdout",
     "output_type": "stream",
     "text": [
      "mersedes удачно был удален\n"
     ]
    },
    {
     "data": {
      "text/plain": [
       "'mersedes'"
      ]
     },
     "execution_count": 2,
     "metadata": {},
     "output_type": "execute_result"
    }
   ],
   "source": [
    "Auto(\"mersedes\").marka"
   ]
  },
  {
   "cell_type": "markdown",
   "id": "c9b5432b-86c4-426d-b25f-41dd1495d085",
   "metadata": {},
   "source": [
    "### `__del__`\n",
    "\n",
    "Будет вызван при удалении экземпляра класса"
   ]
  },
  {
   "cell_type": "code",
   "execution_count": 3,
   "id": "ef070cc2-c36c-4e02-9a45-133e355be857",
   "metadata": {},
   "outputs": [
    {
     "name": "stdout",
     "output_type": "stream",
     "text": [
      "москвич удачно был удален\n"
     ]
    }
   ],
   "source": [
    "a = Auto(\"москвич\")\n",
    "del a"
   ]
  },
  {
   "cell_type": "markdown",
   "id": "8dc2e5fa-8f68-43ee-92c5-0c4aa41ff2b5",
   "metadata": {
    "tags": []
   },
   "source": [
    "### `__call__`\n",
    "\n",
    "Вызывается при попытке \"вызвать\" экземпляр класса, то есть ипользование оператора `()` для экземплара класса."
   ]
  },
  {
   "cell_type": "code",
   "execution_count": 4,
   "id": "6ff6571d-2fb2-4760-87a4-7651d085a663",
   "metadata": {},
   "outputs": [
    {
     "name": "stdout",
     "output_type": "stream",
     "text": [
      "tesla удачно был удален\n"
     ]
    },
    {
     "data": {
      "text/plain": [
       "'вы вызвали tesla'"
      ]
     },
     "execution_count": 4,
     "metadata": {},
     "output_type": "execute_result"
    }
   ],
   "source": [
    "Auto(\"tesla\")()"
   ]
  },
  {
   "cell_type": "markdown",
   "id": "b8113449-3f24-4f38-9eab-2984cf359873",
   "metadata": {},
   "source": [
    "### `__len__`\n",
    "\n",
    "Вызывается при передаче экземпляра в функцию базовую функцию `len`. В данном случае я заложил возврат числа символов в марке."
   ]
  },
  {
   "cell_type": "code",
   "execution_count": 24,
   "id": "1b275c35-64f4-451e-b7d5-675c88c37d2b",
   "metadata": {},
   "outputs": [
    {
     "name": "stdout",
     "output_type": "stream",
     "text": [
      "Mazda удачно был удален\n"
     ]
    },
    {
     "data": {
      "text/plain": [
       "5"
      ]
     },
     "execution_count": 24,
     "metadata": {},
     "output_type": "execute_result"
    }
   ],
   "source": [
    "len(Auto(\"Mazda\"))"
   ]
  },
  {
   "cell_type": "markdown",
   "id": "007545b1-0e40-4c67-800e-217848df8f9a",
   "metadata": {},
   "source": [
    "### `__index__`\n",
    "\n",
    "Вызывается при передаче экземпляра в одну из базовых функций `bin`, `oct` и `hex`. Вернуть из `__index__` следует число, которое в зависимости от вызванной функции будет преобразовано соответсвенно к соответсвующей системе исчисления. В данном случае `__index__` всегда возвращает число `17`."
   ]
  },
  {
   "cell_type": "code",
   "execution_count": 30,
   "id": "a5163568-932a-4b72-a8ab-77355c1d78b1",
   "metadata": {},
   "outputs": [
    {
     "name": "stdout",
     "output_type": "stream",
     "text": [
      "Lambargini удачно был удален\n",
      "Приведение к бинарному виду  0b10001\n",
      "Приведение к восьмеричному виду  0o21\n",
      "Приведение к шестнадцатиричному виду  0x11\n"
     ]
    }
   ],
   "source": [
    "my_auto = Auto(\"Lambargini\")\n",
    "\n",
    "print(\"Приведение к бинарному виду \", bin(my_auto))\n",
    "print(\"Приведение к восьмеричному виду \", oct(my_auto))\n",
    "print(\"Приведение к шестнадцатиричному виду \", hex(my_auto))"
   ]
  },
  {
   "cell_type": "markdown",
   "id": "159910b8-1704-4695-b68b-c416a8f675a1",
   "metadata": {},
   "source": [
    "### `__round__`\n",
    "\n",
    "Вызвается при передаче экземпляра базовой функции `round`."
   ]
  },
  {
   "cell_type": "code",
   "execution_count": 40,
   "id": "8d71af8a-ee9e-4010-ab6d-41234b0122e8",
   "metadata": {},
   "outputs": [
    {
     "name": "stdout",
     "output_type": "stream",
     "text": [
      "Jeep rounded удачно был удален\n"
     ]
    },
    {
     "data": {
      "text/plain": [
       "'Jeep rounded'"
      ]
     },
     "execution_count": 40,
     "metadata": {},
     "output_type": "execute_result"
    }
   ],
   "source": [
    "jeep_auto = Auto(\"Jeep\")\n",
    "round(jeep_auto).marka"
   ]
  },
  {
   "cell_type": "markdown",
   "id": "434b0e04-f96e-422a-8410-a3b579eceb7c",
   "metadata": {
    "tags": []
   },
   "source": [
    "# **Поля** классов"
   ]
  },
  {
   "cell_type": "markdown",
   "id": "45ec29c7-21e6-48c4-b2b8-bb2c40c32c32",
   "metadata": {},
   "source": [
    "### `__bases__`\n",
    "\n",
    "Возвраящет список базовых классов"
   ]
  },
  {
   "cell_type": "code",
   "execution_count": 10,
   "id": "9d5732a0-7020-4b78-bbb2-3d53bb92be39",
   "metadata": {},
   "outputs": [
    {
     "data": {
      "text/plain": [
       "(__main__.Veicle, __main__.Machine)"
      ]
     },
     "execution_count": 10,
     "metadata": {},
     "output_type": "execute_result"
    }
   ],
   "source": [
    "Auto.__bases__"
   ]
  },
  {
   "cell_type": "markdown",
   "id": "702edf54-db33-4cde-9f5d-ee11105b045e",
   "metadata": {},
   "source": [
    "### `__dict__`\n",
    "\n",
    "Слварь с атрибутами класса. **Атрибутом** класса называется, что-либо объявленное в глобальном пространсве класса."
   ]
  },
  {
   "cell_type": "code",
   "execution_count": 11,
   "id": "8ae4f721-60ee-4501-be74-f4763e38a609",
   "metadata": {},
   "outputs": [
    {
     "data": {
      "text/plain": [
       "mappingproxy({'__module__': '__main__',\n",
       "              '__doc__': '\\n        Класс \"Автомобиль\" исопльзуется для \\n        создания изучения специальных методов и полей\\n    ',\n",
       "              'hundle': __main__.Auto.hundle,\n",
       "              'atribute_var': 5,\n",
       "              'atribute_method': <function __main__.Auto.atribute_method(self)>,\n",
       "              '__init__': <function __main__.Auto.__init__(self, marka)>,\n",
       "              '__del__': <function __main__.Auto.__del__(self)>,\n",
       "              '__call__': <function __main__.Auto.__call__(self)>,\n",
       "              '__bool__': <function __main__.Auto.__bool__(self)>})"
      ]
     },
     "execution_count": 11,
     "metadata": {},
     "output_type": "execute_result"
    }
   ],
   "source": [
    "Auto.__dict__"
   ]
  },
  {
   "cell_type": "markdown",
   "id": "2a07058a-9ffa-44df-8c0c-a57255e559b2",
   "metadata": {},
   "source": [
    "### `__doc__`\n",
    "\n",
    "Док-строка класса"
   ]
  },
  {
   "cell_type": "code",
   "execution_count": 12,
   "id": "c66ecba8-3d3a-4daf-8ad7-9275318bf6d5",
   "metadata": {},
   "outputs": [
    {
     "name": "stdout",
     "output_type": "stream",
     "text": [
      "\n",
      "        Класс \"Автомобиль\" исопльзуется для \n",
      "        создания изучения специальных методов и полей\n",
      "    \n"
     ]
    }
   ],
   "source": [
    "print(Auto.__doc__)"
   ]
  },
  {
   "cell_type": "markdown",
   "id": "5bdd0106-5e7f-45fe-bc62-dad0c7a5f789",
   "metadata": {},
   "source": [
    "### `__module__`\n",
    "\n",
    "Возвращается модуль класса"
   ]
  },
  {
   "cell_type": "code",
   "execution_count": 13,
   "id": "5e415db5-c271-4a01-b628-2c966d539eb8",
   "metadata": {},
   "outputs": [
    {
     "data": {
      "text/plain": [
       "'pandas.core.frame'"
      ]
     },
     "execution_count": 13,
     "metadata": {},
     "output_type": "execute_result"
    }
   ],
   "source": [
    "import pandas as pd\n",
    "\n",
    "pd.DataFrame.__module__"
   ]
  },
  {
   "cell_type": "markdown",
   "id": "ea0e1e4f-7c82-42d3-b771-7143fb3372f1",
   "metadata": {},
   "source": [
    "### `__mro__`\n",
    "\n",
    "Цепочка наследования класса. А именно последовантельность классов в котороых будут искаться те или иные вызываемые поля.<br>\n",
    "Идея приводимого моной тут примера в следующем - я создаю `Auto` и пытаюсь достать из него `find_field`, который определен только в базовых классах. В результате, будет выведен `find_field` того класса который в результатах `__mro__` ближайший и, при том, имеет определение поля `find_field`."
   ]
  },
  {
   "cell_type": "code",
   "execution_count": 14,
   "id": "9e78ca3e-df59-4e39-afa7-c560c44d5092",
   "metadata": {},
   "outputs": [
    {
     "data": {
      "text/plain": [
       "(__main__.Auto, __main__.Veicle, __main__.Machine, __main__.TechThing, object)"
      ]
     },
     "execution_count": 14,
     "metadata": {},
     "output_type": "execute_result"
    }
   ],
   "source": [
    "Auto.__mro__"
   ]
  },
  {
   "cell_type": "code",
   "execution_count": 15,
   "id": "caca6056-68d9-4deb-af41-780c1c8e5096",
   "metadata": {},
   "outputs": [
    {
     "name": "stdout",
     "output_type": "stream",
     "text": [
      "chevrolet удачно был удален\n"
     ]
    },
    {
     "data": {
      "text/plain": [
       "'find field of Veicle'"
      ]
     },
     "execution_count": 15,
     "metadata": {},
     "output_type": "execute_result"
    }
   ],
   "source": [
    "Auto(\"chevrolet\").find_field"
   ]
  },
  {
   "cell_type": "markdown",
   "id": "6225ded6-f5c8-45b0-8d45-01c9b4ce4b5a",
   "metadata": {},
   "source": [
    "Вызывая `find_field` я наткнулся на принадлежащий классу `Veicle`, то есть певого в кортеже `__mro__` его объявляющего."
   ]
  },
  {
   "cell_type": "markdown",
   "id": "2eb1f3d2-790f-4854-9304-ddc4922fe5fe",
   "metadata": {},
   "source": [
    "### `__name__` \n",
    "Возвращает имя класса"
   ]
  },
  {
   "cell_type": "code",
   "execution_count": 16,
   "id": "6fb8c38b-61be-43ad-af33-238ceac70af7",
   "metadata": {},
   "outputs": [
    {
     "data": {
      "text/plain": [
       "'Auto'"
      ]
     },
     "execution_count": 16,
     "metadata": {},
     "output_type": "execute_result"
    }
   ],
   "source": [
    "Auto.__name__"
   ]
  },
  {
   "cell_type": "markdown",
   "id": "7aa8e663-cf42-4b71-95e8-d1b1ce66c6f7",
   "metadata": {},
   "source": [
    "### `__qualname__`\n",
    "\n",
    "Дословно поле описываю так: \"возвращается полное имя класса в точечном формате, отображающем структуру вложенных классов\". Я понимаю это так, если я вызову у класса `hundle` который объявлен в нутри класса `Auto` \n",
    "то поле, то я полулу полное имя класса в точечном формате."
   ]
  },
  {
   "cell_type": "code",
   "execution_count": 17,
   "id": "6eecc4a0-0b7c-48e8-8840-2cf7a15930ea",
   "metadata": {},
   "outputs": [
    {
     "data": {
      "text/plain": [
       "'Auto.hundle'"
      ]
     },
     "execution_count": 17,
     "metadata": {},
     "output_type": "execute_result"
    }
   ],
   "source": [
    "Auto.hundle.__qualname__"
   ]
  },
  {
   "cell_type": "markdown",
   "id": "34773031-06a5-4daa-8009-de091761e8bb",
   "metadata": {},
   "source": [
    "Для сравнения результат вызова поля `__name__` того же класса."
   ]
  },
  {
   "cell_type": "code",
   "execution_count": 18,
   "id": "1c27a27a-c18f-4307-8398-3a3e0a25b0a8",
   "metadata": {},
   "outputs": [
    {
     "data": {
      "text/plain": [
       "'hundle'"
      ]
     },
     "execution_count": 18,
     "metadata": {},
     "output_type": "execute_result"
    }
   ],
   "source": [
    "Auto.hundle.__name__"
   ]
  },
  {
   "cell_type": "markdown",
   "id": "86eea237-87f3-4485-b332-cb6e80cedb7c",
   "metadata": {
    "tags": []
   },
   "source": [
    "# **Поля** экземпляров"
   ]
  },
  {
   "cell_type": "markdown",
   "id": "f2b50df2-6dfd-4999-831f-f462b8e47766",
   "metadata": {},
   "source": [
    "### `__class__`\n",
    "\n",
    "Это поле содержит название класса которому принадлежт объект. Далее пару примеров"
   ]
  },
  {
   "cell_type": "code",
   "execution_count": 19,
   "id": "324e294f-1d94-4e38-80d0-846e088c57bb",
   "metadata": {},
   "outputs": [
    {
     "data": {
      "text/plain": [
       "__main__.Auto"
      ]
     },
     "execution_count": 19,
     "metadata": {},
     "output_type": "execute_result"
    }
   ],
   "source": [
    "a1 = Auto(\"BMW\")\n",
    "a1.__class__"
   ]
  },
  {
   "cell_type": "code",
   "execution_count": 20,
   "id": "4f6788a5-9ed9-4134-b8cf-4892258efb94",
   "metadata": {},
   "outputs": [
    {
     "data": {
      "text/plain": [
       "pandas.core.frame.DataFrame"
      ]
     },
     "execution_count": 20,
     "metadata": {},
     "output_type": "execute_result"
    }
   ],
   "source": [
    "import pandas as pd\n",
    "\n",
    "pd.DataFrame({\n",
    "    \"1\" : [1,2]\n",
    "}).__class__"
   ]
  },
  {
   "cell_type": "markdown",
   "id": "a5dd0a1c-8687-47d5-a1bc-53a686ea4064",
   "metadata": {},
   "source": [
    "Заметим, что сами классы это тоже эксемпляры класса `type`"
   ]
  },
  {
   "cell_type": "code",
   "execution_count": 21,
   "id": "6c18393e-51bf-4c58-9556-99cca9e4c0dd",
   "metadata": {},
   "outputs": [
    {
     "data": {
      "text/plain": [
       "__main__.Thing"
      ]
     },
     "execution_count": 21,
     "metadata": {},
     "output_type": "execute_result"
    }
   ],
   "source": [
    "Auto.__class__"
   ]
  }
 ],
 "metadata": {
  "kernelspec": {
   "display_name": "Python 3 (ipykernel)",
   "language": "python",
   "name": "python3"
  },
  "language_info": {
   "codemirror_mode": {
    "name": "ipython",
    "version": 3
   },
   "file_extension": ".py",
   "mimetype": "text/x-python",
   "name": "python",
   "nbconvert_exporter": "python",
   "pygments_lexer": "ipython3",
   "version": "3.10.6"
  }
 },
 "nbformat": 4,
 "nbformat_minor": 5
}
