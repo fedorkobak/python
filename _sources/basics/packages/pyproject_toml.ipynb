{
 "cells": [
  {
   "cell_type": "markdown",
   "metadata": {},
   "source": [
    "# Pyproject.toml\n",
    "\n",
    "The primary way to configure the process of building Python packages is by specifying the `pyproject.toml` configuration file. There are several features you may encounter."
   ]
  },
  {
   "cell_type": "markdown",
   "metadata": {},
   "source": [
    "## Dependencies\n",
    "\n",
    "With `project.dependencies` variable you can specify which packages your packages depends on - so they'll automatically installed by pip."
   ]
  },
  {
   "cell_type": "markdown",
   "metadata": {},
   "source": [
    "---\n",
    "\n",
    "The following cell creates `pyproject.toml` which requires `python-dotenv==1.0.1` and installs \"package\" based on this `pyproject.toml`."
   ]
  },
  {
   "cell_type": "code",
   "execution_count": 18,
   "metadata": {
    "vscode": {
     "languageId": "shellscript"
    }
   },
   "outputs": [],
   "source": [
    "[ -d /tmp/dependencies ] && rm -r /tmp/dependencies\n",
    "mkdir /tmp/dependencies\n",
    "cd /tmp/dependencies\n",
    "\n",
    "cat << EOF > pyproject.toml\n",
    "[project]\n",
    "name = \"toy_package\"\n",
    "version = \"0.0.0\"\n",
    "dependencies = [\"python-dotenv==1.0.1\"]\n",
    "EOF\n",
    "\n",
    "mkdir target\n",
    "pip3 install . --target target &> /dev/null"
   ]
  },
  {
   "cell_type": "markdown",
   "metadata": {},
   "source": [
    "The following cell shows the contents of the installation target, there are files belonging to `python_dotenv` that depend on it."
   ]
  },
  {
   "cell_type": "code",
   "execution_count": null,
   "metadata": {
    "vscode": {
     "languageId": "shellscript"
    }
   },
   "outputs": [
    {
     "name": "stdout",
     "output_type": "stream",
     "text": [
      "\u001b[0m\u001b[01;34mbin\u001b[0m  \u001b[01;34mdotenv\u001b[0m  \u001b[01;34mpython_dotenv-1.0.1.dist-info\u001b[0m  \u001b[01;34mtoy_package-0.0.0.dist-info\u001b[0m\n"
     ]
    }
   ],
   "source": [
    "ls target"
   ]
  },
  {
   "cell_type": "markdown",
   "metadata": {},
   "source": [
    "## Extra files\n",
    "\n",
    "If your package contains some resources that do not have the `py` extension by default, they will not be included in the final distribution. You have to make extra configuration to make thing work."
   ]
  },
  {
   "cell_type": "markdown",
   "metadata": {},
   "source": [
    "---\n",
    "\n",
    "The following cell creates an example that will be used to demonstrate the feature."
   ]
  },
  {
   "cell_type": "code",
   "execution_count": 1,
   "metadata": {
    "vscode": {
     "languageId": "shellscript"
    }
   },
   "outputs": [
    {
     "name": "stdout",
     "output_type": "stream",
     "text": [
      "\u001b[01;34msrc\u001b[0m\n",
      "└── \u001b[01;34mmy_files\u001b[0m\n",
      "    ├── data_file1.txt\n",
      "    ├── data_file2.txt\n",
      "    ├── data_file3.txt\n",
      "    ├── data_file4.txt\n",
      "    ├── data_file5.txt\n",
      "    ├── script_file1.py\n",
      "    ├── script_file2.py\n",
      "    ├── script_file3.py\n",
      "    ├── script_file4.py\n",
      "    └── script_file5.py\n",
      "\n",
      "1 directory, 10 files\n"
     ]
    }
   ],
   "source": [
    "[ -d /tmp/data_files ] && rm -r /tmp/data_files\n",
    "mkdir /tmp/data_files\n",
    "cd /tmp/data_files\n",
    "mkdir -p src/my_files\n",
    "touch src/my_files/data_file{1..5}.txt\n",
    "touch src/my_files/script_file{1..5}.py\n",
    "tree src\n",
    "\n",
    "cat << EOF > pyproject.toml\n",
    "[project]\n",
    "name = \"toy_package\"\n",
    "version = \"0.0.0\"\n",
    "EOF"
   ]
  },
  {
   "cell_type": "markdown",
   "metadata": {
    "vscode": {
     "languageId": "shellscript"
    }
   },
   "source": [
    "`src` folder contains some `.txt` and some `.py` files."
   ]
  },
  {
   "cell_type": "markdown",
   "metadata": {},
   "source": [
    "The following cell installs the package in the `result` folder and lists its contents:"
   ]
  },
  {
   "cell_type": "code",
   "execution_count": 5,
   "metadata": {
    "vscode": {
     "languageId": "shellscript"
    }
   },
   "outputs": [
    {
     "name": "stdout",
     "output_type": "stream",
     "text": [
      "\u001b[0m\u001b[01;34m__pycache__\u001b[0m      script_file2.py  script_file4.py\n",
      "script_file1.py  script_file3.py  script_file5.py\n"
     ]
    }
   ],
   "source": [
    "[ -d result ] && rm -r result\n",
    "mkdir result\n",
    "pip3 install . --target result &> /dev/null \n",
    "ls result/my_files"
   ]
  },
  {
   "cell_type": "markdown",
   "metadata": {},
   "source": [
    "As the result there are only `.py` files comes with installed package."
   ]
  },
  {
   "cell_type": "markdown",
   "metadata": {},
   "source": [
    "The following cell shows options to correct the configuration saving `.txt` files in distibution."
   ]
  },
  {
   "cell_type": "code",
   "execution_count": 7,
   "metadata": {
    "vscode": {
     "languageId": "shellscript"
    }
   },
   "outputs": [],
   "source": [
    "cat << EOF > pyproject.toml\n",
    "[project]\n",
    "name = \"toy_package\"\n",
    "version = \"0.0.0\"\n",
    "\n",
    "[tool.setuptools]\n",
    "include-package-data = true\n",
    "\n",
    "[tool.setuptools.packages.find]\n",
    "where = [\"src\"]\n",
    "EOF\n",
    "\n",
    "cat << EOF > MANIFEST.in\n",
    "include src/my_files/*.txt\n",
    "EOF"
   ]
  },
  {
   "cell_type": "markdown",
   "metadata": {},
   "source": [
    "Only after installing the package with the new configuration do we get all the files needed in the distribution."
   ]
  },
  {
   "cell_type": "code",
   "execution_count": 8,
   "metadata": {
    "vscode": {
     "languageId": "shellscript"
    }
   },
   "outputs": [
    {
     "name": "stdout",
     "output_type": "stream",
     "text": [
      "data_file1.txt  data_file4.txt  script_file1.py  script_file4.py\n",
      "data_file2.txt  data_file5.txt  script_file2.py  script_file5.py\n",
      "data_file3.txt  \u001b[0m\u001b[01;34m__pycache__\u001b[0m     script_file3.py\n"
     ]
    }
   ],
   "source": [
    "[ -d result ] && rm -r result \n",
    "mkdir result\n",
    "pip3 install . --target result &> /dev/null\n",
    "ls result/my_files"
   ]
  }
 ],
 "metadata": {
  "kernelspec": {
   "display_name": "Bash",
   "language": "bash",
   "name": "bash"
  },
  "language_info": {
   "codemirror_mode": "shell",
   "file_extension": ".sh",
   "mimetype": "text/x-sh",
   "name": "bash"
  }
 },
 "nbformat": 4,
 "nbformat_minor": 2
}
