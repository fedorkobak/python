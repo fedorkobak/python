{
 "cells": [
  {
   "cell_type": "markdown",
   "metadata": {},
   "source": [
    "# Build\n",
    "\n",
    "This page considers details on building python from source.\n",
    "\n",
    "**Note**: The examples in this notebook must be run in the same environment, as they can alter your system's configuration.\n",
    "\n",
    "You can **download the distribution** from the corresponding *releases* of the official [github account](https://github.com/python/cpython/tags).\n",
    "\n",
    "Check [Compile and build](https://devguide.python.org/getting-started/setup-building/#compile-and-build) section of documentation."
   ]
  },
  {
   "cell_type": "markdown",
   "metadata": {},
   "source": [
    "The following cell installs everything needed to build Python, downloads, and extracts the Python version that we'll use as an example."
   ]
  },
  {
   "cell_type": "code",
   "execution_count": 9,
   "metadata": {
    "vscode": {
     "languageId": "shellscript"
    }
   },
   "outputs": [],
   "source": [
    "apt update &> /dev/null && apt install -y wget gcc make &> /dev/null\n",
    "[ -d /tmp/installation ] && rm -r /tmp/installation\n",
    "mkdir /tmp/installation\n",
    "cd /tmp/installation\n",
    "wget -q https://github.com/python/cpython/archive/refs/tags/3.8.tar.gz\n",
    "tar -xzf 3.8.tar.gz\n",
    "cd cpython-3.8"
   ]
  },
  {
   "cell_type": "markdown",
   "metadata": {},
   "source": [
    "The resulting Python build may or may not include specific features. This is typically determined during the `./configure` step using CLI parameters that start with the word `with`."
   ]
  },
  {
   "cell_type": "markdown",
   "metadata": {},
   "source": [
    "All available options can be checked by running the `./configure --help` command."
   ]
  },
  {
   "cell_type": "markdown",
   "metadata": {},
   "source": [
    "---\n",
    "\n",
    "The following cell displays parts of the `./configure --help` command, as the full output is too lengthy."
   ]
  },
  {
   "cell_type": "code",
   "execution_count": 12,
   "metadata": {
    "vscode": {
     "languageId": "shellscript"
    }
   },
   "outputs": [
    {
     "name": "stdout",
     "output_type": "stream",
     "text": [
      "  --disable-option-checking  ignore unrecognized --enable/--with options\n",
      "  --enable-ipv6           Enable ipv6 (with ipv4) support\n",
      "  --with-PACKAGE[=ARG]    use PACKAGE [ARG=yes]\n",
      "  --without-PACKAGE       do not use PACKAGE (same as --with-PACKAGE=no)\n",
      "  --with-universal-archs=ARCH\n",
      "  --with-framework-name=FRAMEWORK\n",
      "                          with --enable-framework\n",
      "  --with-cxx-main=<compiler>\n",
      "                          compile main() and link python executable with C++\n",
      "  --with-suffix=.exe      set executable suffix\n",
      "  --with-pydebug          build with Py_DEBUG defined\n",
      "  --with-trace-refs       enable tracing references for debugging purpose\n",
      "  --with-assertions       build with C assertions enabled\n",
      "  --with-lto              Enable Link Time Optimization in any build. Disabled\n",
      "  --with-hash-algorithm=[fnv|siphash24]\n",
      "  --with-address-sanitizer\n",
      "  --with-memory-sanitizer enable MemorySanitizer (msan)\n",
      "  --with-undefined-behavior-sanitizer\n",
      "  --with-libs='lib1 ...'  link against additional libs\n",
      "  --with-system-expat     build pyexpat module using an installed expat\n"
     ]
    }
   ],
   "source": [
    "./configure --help | grep with | head -n 20"
   ]
  },
  {
   "cell_type": "markdown",
   "metadata": {},
   "source": [
    "## Depencies\n",
    "\n",
    "Python building depends on some packages awailable in your system. Here are listed some of the common issues.\n",
    "\n",
    "Without `openSSL` installed, python would not be able to build the ssl module, so use `apt install libssl-dev` on ubuntu."
   ]
  },
  {
   "cell_type": "markdown",
   "metadata": {},
   "source": [
    "## Must have options\n",
    "\n",
    "Here are the options that I think are really necessary for a comfortable usa of python.\n",
    "\n",
    "- `--with-ensurepip`: garantees that python will have the `ensurepip` package, which installes pip in python and possble virtual environments.\n",
    "- `--with-ssl-default-sites=openssl` to include the ssl module in the build."
   ]
  }
 ],
 "metadata": {
  "kernelspec": {
   "display_name": "Bash",
   "language": "bash",
   "name": "bash"
  },
  "language_info": {
   "codemirror_mode": "shell",
   "file_extension": ".sh",
   "mimetype": "text/x-sh",
   "name": "bash"
  }
 },
 "nbformat": 4,
 "nbformat_minor": 2
}
