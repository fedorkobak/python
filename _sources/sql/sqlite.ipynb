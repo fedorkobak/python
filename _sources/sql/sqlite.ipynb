{
 "cells": [
  {
   "cell_type": "markdown",
   "id": "5c56400d",
   "metadata": {},
   "source": [
    "# sqlite\n",
    "\n",
    "`sqlite3` package implements a sqlite database in the python. It's usually build in package. Check [its page](https://docs.python.org/3/library/sqlite3.html) in python.org."
   ]
  },
  {
   "cell_type": "code",
   "execution_count": 2,
   "id": "d937e986",
   "metadata": {},
   "outputs": [],
   "source": [
    "import sqlite3\n",
    "from pathlib import Path\n",
    "from src.sqlite import execute_several_statements"
   ]
  },
  {
   "cell_type": "markdown",
   "id": "9f5626b0",
   "metadata": {},
   "source": [
    "## Usage\n",
    "\n",
    "To use database you need: create connection, get cursor, manipulate with database using cursor methods."
   ]
  },
  {
   "cell_type": "markdown",
   "id": "71b74678",
   "metadata": {},
   "source": [
    "---\n",
    "\n",
    "The following cell creates the connection - it passes `:memory:` to use the database only in memory without any file where data will be stored."
   ]
  },
  {
   "cell_type": "code",
   "execution_count": 22,
   "id": "9e2146a8",
   "metadata": {},
   "outputs": [],
   "source": [
    "con = sqlite3.connect(':memory:')"
   ]
  },
  {
   "cell_type": "markdown",
   "id": "7645177f",
   "metadata": {},
   "source": [
    "Next code shows how to create cursor and load data from it."
   ]
  },
  {
   "cell_type": "code",
   "execution_count": 23,
   "id": "875ae864",
   "metadata": {},
   "outputs": [
    {
     "data": {
      "text/plain": [
       "<sqlite3.Cursor at 0x73c3b067f0c0>"
      ]
     },
     "execution_count": 23,
     "metadata": {},
     "output_type": "execute_result"
    }
   ],
   "source": [
    "cursor = con.cursor()\n",
    "cursor.execute(\"SELECT 1 as val1, 2 as val2;\")"
   ]
  },
  {
   "cell_type": "markdown",
   "id": "2c755ae8",
   "metadata": {},
   "source": [
    "The following cells show how you can extract data and ged description to it."
   ]
  },
  {
   "cell_type": "code",
   "execution_count": 24,
   "id": "8271ab2c",
   "metadata": {},
   "outputs": [
    {
     "data": {
      "text/plain": [
       "[(1, 2)]"
      ]
     },
     "execution_count": 24,
     "metadata": {},
     "output_type": "execute_result"
    }
   ],
   "source": [
    "cursor.fetchall()"
   ]
  },
  {
   "cell_type": "code",
   "execution_count": 25,
   "id": "f43f3b3a",
   "metadata": {},
   "outputs": [
    {
     "data": {
      "text/plain": [
       "(('val1', None, None, None, None, None, None),\n",
       " ('val2', None, None, None, None, None, None))"
      ]
     },
     "execution_count": 25,
     "metadata": {},
     "output_type": "execute_result"
    }
   ],
   "source": [
    "cursor.description"
   ]
  },
  {
   "cell_type": "markdown",
   "id": "023afa5d",
   "metadata": {},
   "source": [
    "## Not query\n",
    "\n",
    "Consider how sqlite deals with commands that aren't supposed to return data. After executing such commands:\n",
    "\n",
    "- `fetchone`: cursor returns `None`.\n",
    "- `fetchall`: cursor returns `[]`.\n",
    "- `description`: attribute of the cursor takes the value `None`."
   ]
  },
  {
   "cell_type": "markdown",
   "id": "cf4eda81",
   "metadata": {},
   "source": [
    "---\n",
    "\n",
    "The following cell executes a command that creates a table and displays values taken from various different attributes and methods of the cursor."
   ]
  },
  {
   "cell_type": "code",
   "execution_count": 9,
   "id": "298a3ddf",
   "metadata": {},
   "outputs": [
    {
     "name": "stdout",
     "output_type": "stream",
     "text": [
      "description None\n",
      "fetchone() None\n",
      "fetchall() []\n"
     ]
    }
   ],
   "source": [
    "con = sqlite3.connect(\":memory:\")\n",
    "cursor = con.cursor()\n",
    "\n",
    "cursor.execute(\"CREATE TABLE my_table (col1 INT);\")\n",
    "\n",
    "print(\"description\", cursor.description)\n",
    "print(\"fetchone()\", cursor.fetchone())\n",
    "print(\"fetchall()\", cursor.fetchall())\n",
    "\n",
    "cursor.close()"
   ]
  },
  {
   "cell_type": "markdown",
   "id": "54a8505e",
   "metadata": {},
   "source": [
    "## Several commands\n",
    "\n",
    "SQLite `execute` doesn't allow you to pass SQL code that contains multiple SQL statements. To execute multiple statements, you are supposed to use the `curosr.executescript` method. Note that the `executescript` method doesn't allow you to extract data that was a result of the query."
   ]
  },
  {
   "cell_type": "markdown",
   "id": "4946b3c1",
   "metadata": {},
   "source": [
    "---\n",
    "\n",
    "The following cell shows a type of error you'll get if you try to execute SQL code that contains multiple queries in one execution. "
   ]
  },
  {
   "cell_type": "code",
   "execution_count": 9,
   "id": "2f114c9c",
   "metadata": {},
   "outputs": [
    {
     "name": "stdout",
     "output_type": "stream",
     "text": [
      "<class 'sqlite3.ProgrammingError'> You can only execute one statement at a time.\n"
     ]
    }
   ],
   "source": [
    "con = sqlite3.connect(\":memory:\")\n",
    "cursor = con.cursor()\n",
    "try:\n",
    "    cursor.execute(\"\"\"\n",
    "    CREATE TABLE tab1 (val INT);\n",
    "    INSERT INTO tab1 (val) VALUES (10), (40);\n",
    "    \"\"\")\n",
    "except Exception as e: print(type(e), e)\n",
    "\n",
    "cursor.close()\n",
    "con.close()"
   ]
  },
  {
   "cell_type": "markdown",
   "id": "2b87bfee",
   "metadata": {},
   "source": [
    "### Execute script\n",
    "\n",
    "The following cells show how you can use the `cursor.executescript` method to execute SQL code."
   ]
  },
  {
   "cell_type": "code",
   "execution_count": 10,
   "id": "5b73420e",
   "metadata": {},
   "outputs": [
    {
     "data": {
      "text/plain": [
       "<sqlite3.Cursor at 0x7df9101ca0c0>"
      ]
     },
     "execution_count": 10,
     "metadata": {},
     "output_type": "execute_result"
    }
   ],
   "source": [
    "con = sqlite3.connect(\":memory:\")\n",
    "cursor = con.cursor()\n",
    "cursor.executescript(\"\"\"\n",
    "    CREATE TABLE tab1 (val INT);\n",
    "    INSERT INTO tab1 (val) VALUES (10), (40);\n",
    "\"\"\")"
   ]
  },
  {
   "cell_type": "markdown",
   "id": "1c3896ff",
   "metadata": {},
   "source": [
    "The following code shows that `tab1` is created and contains the appropriate data."
   ]
  },
  {
   "cell_type": "code",
   "execution_count": 11,
   "id": "3a62a385",
   "metadata": {},
   "outputs": [
    {
     "data": {
      "text/plain": [
       "[(10,), (40,)]"
      ]
     },
     "execution_count": 11,
     "metadata": {},
     "output_type": "execute_result"
    }
   ],
   "source": [
    "cursor.execute(\"SELECT * FROM tab1\").fetchall()"
   ]
  },
  {
   "cell_type": "markdown",
   "id": "5b929012",
   "metadata": {},
   "source": [
    "But the same query in the `executescript` method produces a case where the cursor doesn't contain any data."
   ]
  },
  {
   "cell_type": "code",
   "execution_count": 12,
   "id": "68ed77b5",
   "metadata": {},
   "outputs": [
    {
     "data": {
      "text/plain": [
       "[]"
      ]
     },
     "execution_count": 12,
     "metadata": {},
     "output_type": "execute_result"
    }
   ],
   "source": [
    "cursor.executescript(\"SELECT * FROM tab1\").fetchall()"
   ]
  },
  {
   "cell_type": "code",
   "execution_count": 13,
   "id": "c6e2bb12",
   "metadata": {},
   "outputs": [],
   "source": [
    "cursor.close()\n",
    "con.close()"
   ]
  },
  {
   "cell_type": "markdown",
   "id": "e3037a1a",
   "metadata": {},
   "source": [
    "### DIY solution\n",
    "\n",
    "The `cursor.execute` method doesn't allow to get the results of the queries. In order to overcome the limitation of `sqlite3` this site uses DIY function `src.sqlite.execute_several_statements`."
   ]
  },
  {
   "cell_type": "markdown",
   "id": "bb391d07",
   "metadata": {},
   "source": [
    "---\n",
    "\n",
    "The follwing code shows a solution that you can use - use `execute_several_statements` to execute code."
   ]
  },
  {
   "cell_type": "code",
   "execution_count": null,
   "id": "2c2e56a1",
   "metadata": {},
   "outputs": [
    {
     "data": {
      "text/plain": [
       "[(None, []),\n",
       " ((('value', None, None, None, None, None, None),), [(10,)]),\n",
       " (None, [])]"
      ]
     },
     "execution_count": 17,
     "metadata": {},
     "output_type": "execute_result"
    }
   ],
   "source": [
    "queries = \"\"\"\n",
    "    CREATE TABLE tab1 (val INT);\n",
    "    SELECT 10 as value;\n",
    "    INSERT INTO tab1 (val) VALUES (10), (40);\n",
    "\"\"\"\n",
    "execute_several_statements(\n",
    "    cursor=cursor, queries=queries\n",
    ")"
   ]
  },
  {
   "cell_type": "markdown",
   "id": "550e8a5d",
   "metadata": {},
   "source": [
    "The result is a list containing `description` and `fetchall()` of the corresponding query."
   ]
  },
  {
   "cell_type": "markdown",
   "id": "aa1ef69f",
   "metadata": {},
   "source": [
    "## Commint\n",
    "\n",
    "When you insert some data into the database - using `INSERT` command. You must commit changes to the file system using the `connection.commit` method, otherwise any connection corresponding to that file won't see any changes."
   ]
  },
  {
   "cell_type": "markdown",
   "id": "7c3fb791",
   "metadata": {},
   "source": [
    "---\n",
    "\n",
    "The following cell creates a connection that createa a table and inserts some data into it."
   ]
  },
  {
   "cell_type": "code",
   "execution_count": 12,
   "id": "a82d1df4",
   "metadata": {},
   "outputs": [],
   "source": [
    "db_file = Path(\"/tmp/my_file.sql\")\n",
    "db_file.unlink(missing_ok=True)\n",
    "\n",
    "main_con = sqlite3.connect(db_file)\n",
    "cursor = main_con.cursor()\n",
    "\n",
    "queries = \"\"\"\n",
    "CREATE TABLE tab1 (val INT);\n",
    "INSERT INTO tab1 (val) VALUES (30), (37);\n",
    "\"\"\"\n",
    "ans = execute_several_statements(cursor=cursor, queries=queries)"
   ]
  },
  {
   "cell_type": "markdown",
   "id": "acfd96bc",
   "metadata": {},
   "source": [
    "The following cell shows that you can easily access changes from the same `cursor`."
   ]
  },
  {
   "cell_type": "code",
   "execution_count": 13,
   "id": "22915555",
   "metadata": {},
   "outputs": [
    {
     "name": "stdout",
     "output_type": "stream",
     "text": [
      "[(30,), (37,)]\n"
     ]
    }
   ],
   "source": [
    "cursor.execute(\"SELECT * FROM tab1;\")\n",
    "print(cursor.fetchall())\n",
    "cursor.close()"
   ]
  },
  {
   "cell_type": "markdown",
   "id": "eec21023",
   "metadata": {},
   "source": [
    "Even other cursor from the same connection works fine."
   ]
  },
  {
   "cell_type": "code",
   "execution_count": 14,
   "id": "0228bbfc",
   "metadata": {},
   "outputs": [
    {
     "name": "stdout",
     "output_type": "stream",
     "text": [
      "[(30,), (37,)]\n"
     ]
    }
   ],
   "source": [
    "cursor = main_con.cursor()\n",
    "print(cursor.execute(\"SELECT * FROM tab1;\").fetchall())\n",
    "cursor.close()"
   ]
  },
  {
   "cell_type": "markdown",
   "id": "26801925",
   "metadata": {},
   "source": [
    "But if you try to create a new connection and load data from it - you got noting data not commited to the file."
   ]
  },
  {
   "cell_type": "code",
   "execution_count": 15,
   "id": "ebe367ac",
   "metadata": {},
   "outputs": [
    {
     "name": "stdout",
     "output_type": "stream",
     "text": [
      "[]\n"
     ]
    }
   ],
   "source": [
    "new_con = sqlite3.connect(\"/tmp/my_file.sql\")\n",
    "print(new_con.execute(\"SELECT * FROM tab1;\").fetchall())"
   ]
  },
  {
   "cell_type": "markdown",
   "id": "ef1c5675",
   "metadata": {},
   "source": [
    "The following cell commits changes of the `main_con` connection."
   ]
  },
  {
   "cell_type": "code",
   "execution_count": 16,
   "id": "2bd9edbd",
   "metadata": {},
   "outputs": [],
   "source": [
    "main_con.commit()"
   ]
  },
  {
   "cell_type": "markdown",
   "id": "00cfee96",
   "metadata": {},
   "source": [
    "After committing, the data appeared in the `new_con`."
   ]
  },
  {
   "cell_type": "code",
   "execution_count": 17,
   "id": "6e8b3477",
   "metadata": {},
   "outputs": [
    {
     "name": "stdout",
     "output_type": "stream",
     "text": [
      "[(30,), (37,)]\n"
     ]
    }
   ],
   "source": [
    "print(new_con.execute(\"SELECT * FROM tab1;\").fetchall())\n",
    "new_con.close()\n",
    "main_con.close()"
   ]
  }
 ],
 "metadata": {
  "kernelspec": {
   "display_name": "src",
   "language": "python",
   "name": "python3"
  },
  "language_info": {
   "codemirror_mode": {
    "name": "ipython",
    "version": 3
   },
   "file_extension": ".py",
   "mimetype": "text/x-python",
   "name": "python",
   "nbconvert_exporter": "python",
   "pygments_lexer": "ipython3",
   "version": "3.12.9"
  }
 },
 "nbformat": 4,
 "nbformat_minor": 5
}
