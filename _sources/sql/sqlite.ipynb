{
 "cells": [
  {
   "cell_type": "markdown",
   "id": "5c56400d",
   "metadata": {},
   "source": [
    "# sqlite\n",
    "\n",
    "`sqlite3` package implements a sqlite database in the python. It's usually build in package. Check [its page](https://docs.python.org/3/library/sqlite3.html) in python.org."
   ]
  },
  {
   "cell_type": "code",
   "execution_count": null,
   "id": "d937e986",
   "metadata": {},
   "outputs": [],
   "source": [
    "import sqlite3"
   ]
  },
  {
   "cell_type": "markdown",
   "id": "9f5626b0",
   "metadata": {},
   "source": [
    "## Usage\n",
    "\n",
    "To use database you need: create connection, get cursor, manipulate with database using cursor methods."
   ]
  },
  {
   "cell_type": "markdown",
   "id": "71b74678",
   "metadata": {},
   "source": [
    "---\n",
    "\n",
    "The following cell creates the connection - it passes `:memory:` to use the database only in memory without any file where data will be stored."
   ]
  },
  {
   "cell_type": "code",
   "execution_count": 22,
   "id": "9e2146a8",
   "metadata": {},
   "outputs": [],
   "source": [
    "con = sqlite3.connect(':memory:')"
   ]
  },
  {
   "cell_type": "markdown",
   "id": "7645177f",
   "metadata": {},
   "source": [
    "Next code shows how to create cursor and load data from it."
   ]
  },
  {
   "cell_type": "code",
   "execution_count": 23,
   "id": "875ae864",
   "metadata": {},
   "outputs": [
    {
     "data": {
      "text/plain": [
       "<sqlite3.Cursor at 0x73c3b067f0c0>"
      ]
     },
     "execution_count": 23,
     "metadata": {},
     "output_type": "execute_result"
    }
   ],
   "source": [
    "cursor = con.cursor()\n",
    "cursor.execute(\"SELECT 1 as val1, 2 as val2;\")"
   ]
  },
  {
   "cell_type": "markdown",
   "id": "2c755ae8",
   "metadata": {},
   "source": [
    "The following cells show how you can extract data and ged description to it."
   ]
  },
  {
   "cell_type": "code",
   "execution_count": 24,
   "id": "8271ab2c",
   "metadata": {},
   "outputs": [
    {
     "data": {
      "text/plain": [
       "[(1, 2)]"
      ]
     },
     "execution_count": 24,
     "metadata": {},
     "output_type": "execute_result"
    }
   ],
   "source": [
    "cursor.fetchall()"
   ]
  },
  {
   "cell_type": "code",
   "execution_count": 25,
   "id": "f43f3b3a",
   "metadata": {},
   "outputs": [
    {
     "data": {
      "text/plain": [
       "(('val1', None, None, None, None, None, None),\n",
       " ('val2', None, None, None, None, None, None))"
      ]
     },
     "execution_count": 25,
     "metadata": {},
     "output_type": "execute_result"
    }
   ],
   "source": [
    "cursor.description"
   ]
  }
 ],
 "metadata": {
  "kernelspec": {
   "display_name": "python",
   "language": "python",
   "name": "python3"
  },
  "language_info": {
   "codemirror_mode": {
    "name": "ipython",
    "version": 3
   },
   "file_extension": ".py",
   "mimetype": "text/x-python",
   "name": "python",
   "nbconvert_exporter": "python",
   "pygments_lexer": "ipython3",
   "version": "3.12.9"
  }
 },
 "nbformat": 4,
 "nbformat_minor": 5
}
