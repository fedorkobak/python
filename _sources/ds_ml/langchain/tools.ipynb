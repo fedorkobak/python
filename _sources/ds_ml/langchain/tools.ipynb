{
 "cells": [
  {
   "cell_type": "markdown",
   "id": "0d781dc2",
   "metadata": {},
   "source": [
    "# Tools\n",
    "\n",
    "Tools allows LLM to interact with the environment. Tooling is probably is the most important feature of the framework."
   ]
  },
  {
   "cell_type": "markdown",
   "id": "d897b8cb",
   "metadata": {},
   "source": [
    "## Defining\n",
    "\n",
    "Tools implement how LLMs can interact with external systems. In Lang Chain, tools can take various forms, which are described in the [Tool interface](https://python.langchain.com/docs/concepts/tools/#tool-interface) section.\n",
    "\n",
    "Check full guide in [Tools](https://python.langchain.com/docs/concepts/tools/)."
   ]
  },
  {
   "cell_type": "markdown",
   "id": "f9686b06",
   "metadata": {},
   "source": [
    "---\n",
    "\n",
    "The most common way to define the tools is to use the `@tool` decorator. According to Lang Chain, the tool wrapped object gets all properties of the \"tool interaface\".\n",
    "\n",
    "The following cell defines the tool."
   ]
  },
  {
   "cell_type": "code",
   "execution_count": null,
   "id": "2a8a169c",
   "metadata": {},
   "outputs": [],
   "source": [
    "from langchain_core.tools import tool\n",
    "\n",
    "@tool\n",
    "def my_tool(a: int, b: str) -> float:\n",
    "    \"\"\"This is my tool\"\"\"\n",
    "    return 4.20"
   ]
  },
  {
   "cell_type": "markdown",
   "id": "86830bf3",
   "metadata": {},
   "source": [
    "The important attributes for Langchain's internal processes are presented below."
   ]
  },
  {
   "cell_type": "code",
   "execution_count": null,
   "id": "c4b1c998",
   "metadata": {},
   "outputs": [
    {
     "data": {
      "text/plain": [
       "'my_tool'"
      ]
     },
     "metadata": {},
     "output_type": "display_data"
    }
   ],
   "source": [
    "my_tool.name"
   ]
  },
  {
   "cell_type": "code",
   "execution_count": null,
   "id": "0baa4d22",
   "metadata": {},
   "outputs": [
    {
     "data": {
      "text/plain": [
       "'This is my tool'"
      ]
     },
     "metadata": {},
     "output_type": "display_data"
    }
   ],
   "source": [
    "my_tool.description"
   ]
  },
  {
   "cell_type": "code",
   "execution_count": null,
   "id": "ca9badad",
   "metadata": {},
   "outputs": [
    {
     "data": {
      "text/plain": [
       "{'a': {'title': 'A', 'type': 'integer'}, 'b': {'title': 'B', 'type': 'string'}}"
      ]
     },
     "metadata": {},
     "output_type": "display_data"
    }
   ],
   "source": [
    "my_tool.args"
   ]
  }
 ],
 "metadata": {
  "language_info": {
   "name": "python"
  }
 },
 "nbformat": 4,
 "nbformat_minor": 5
}
