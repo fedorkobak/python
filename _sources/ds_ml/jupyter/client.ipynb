{
 "cells": [
  {
   "cell_type": "markdown",
   "metadata": {},
   "source": [
    "# Client\n",
    "\n",
    "This section describes how the jupyter client normally works and how to work with different implementations of the jupyter client."
   ]
  },
  {
   "cell_type": "markdown",
   "metadata": {},
   "source": [
    "---\n",
    "\n",
    "The following cell runs the simpliest `IPythonKernlel` that is commonly used for experimenting with jupyter clients."
   ]
  },
  {
   "cell_type": "code",
   "execution_count": 1,
   "metadata": {},
   "outputs": [
    {
     "data": {
      "text/plain": [
       "<src.run_jupyter_kernel.IPKernelAppProcess at 0x773b699979e0>"
      ]
     },
     "execution_count": 1,
     "metadata": {},
     "output_type": "execute_result"
    },
    {
     "name": "stdout",
     "output_type": "stream",
     "text": [
      "NOTE: When using the `ipython kernel` entry point, Ctrl-C will not work.\n",
      "\n",
      "To exit, you will have to explicitly quit this process, by either sending\n",
      "\"quit\" from a client, or using Ctrl-\\ in UNIX-like environments.\n",
      "\n",
      "To read more about this, see https://github.com/ipython/ipython/issues/2049\n",
      "\n",
      "\n",
      "To connect another client to this kernel, use:\n",
      "    --existing /tmp/connection_file.json\n"
     ]
    }
   ],
   "source": [
    "from pathlib import Path\n",
    "from src.run_jupyter_kernel import IPKernelAppProcess\n",
    "from jupyter_client.blocking import BlockingKernelClient\n",
    "from IPython.display import JSON\n",
    "\n",
    "\n",
    "connection_file = Path(\"/tmp\")/\"connection_file.json\"\n",
    "connection_file.unlink(missing_ok=True)\n",
    "IPKernelAppProcess(connection_file=str(connection_file))"
   ]
  },
  {
   "cell_type": "markdown",
   "metadata": {},
   "source": [
    "## Creating client\n",
    "\n",
    "The following cell defines the client that we'll use as an example. You need to pass the connection file to the kernel and call the `start_channels` method."
   ]
  },
  {
   "cell_type": "code",
   "execution_count": 2,
   "metadata": {},
   "outputs": [],
   "source": [
    "client = BlockingKernelClient()\n",
    "client.load_connection_file(connection_file)\n",
    "client.start_channels()"
   ]
  },
  {
   "cell_type": "markdown",
   "metadata": {},
   "source": [
    "The conenction can be checked by using the `is_alive` method - it must return `True`."
   ]
  },
  {
   "cell_type": "code",
   "execution_count": 3,
   "metadata": {},
   "outputs": [
    {
     "data": {
      "text/plain": [
       "True"
      ]
     },
     "execution_count": 3,
     "metadata": {},
     "output_type": "execute_result"
    }
   ],
   "source": [
    "client.is_alive()"
   ]
  },
  {
   "cell_type": "markdown",
   "metadata": {},
   "source": [
    "## Execute\n",
    "\n",
    "For execution code, use the `execute` method to point to code that needs to be executed. It returns `msg_id` which allows to identify which messages from the kernel correspond to which messages returned by the kernel.\n",
    "\n",
    "To get messages from the kernel, use the client's `get_iopub_msg` method of the client. It consistently returns different messages that correspond to different stages of execution. "
   ]
  },
  {
   "cell_type": "markdown",
   "metadata": {},
   "source": [
    "---\n",
    "\n",
    "The following cell sends some code to be executed by the kernel."
   ]
  },
  {
   "cell_type": "code",
   "execution_count": 4,
   "metadata": {},
   "outputs": [
    {
     "data": {
      "text/plain": [
       "'fe6a6eeb-5f12062d2f9dea307db4ff50_36430_0'"
      ]
     },
     "execution_count": 4,
     "metadata": {},
     "output_type": "execute_result"
    }
   ],
   "source": [
    "msg_id = client.execute(\"x = 42\\ny = x * 2\\ny\")\n",
    "msg_id"
   ]
  },
  {
   "cell_type": "markdown",
   "metadata": {},
   "source": [
    "The following cell collects all messages generaged by the kernel."
   ]
  },
  {
   "cell_type": "code",
   "execution_count": 5,
   "metadata": {},
   "outputs": [],
   "source": [
    "ans_list = []\n",
    "\n",
    "while True:\n",
    "    try:\n",
    "        ans_list.append(client.get_iopub_msg(timeout=5))\n",
    "    except:\n",
    "        break"
   ]
  },
  {
   "cell_type": "markdown",
   "metadata": {},
   "source": [
    "In this case 4 messages were returned by the kernel. There is a lot of duplicated information: what's importand at this stage is: \n",
    "\n",
    "- `msg_type`: this allows to understand what type of message we got, for example `execute_result` means that this message.\n",
    "- `content`: the content that the kernel sends to the client - depends on `msg_type`.\n",
    "- `header.msg_id`: This allows to understand to which message from the client this response belongs to."
   ]
  },
  {
   "cell_type": "code",
   "execution_count": 6,
   "metadata": {},
   "outputs": [
    {
     "data": {
      "text/plain": [
       "{'header': {'msg_id': 'b129712b-72dfc25a8727a31966a73369_36544_5',\n",
       "  'msg_type': 'status',\n",
       "  'username': 'fedor',\n",
       "  'session': 'b129712b-72dfc25a8727a31966a73369',\n",
       "  'date': datetime.datetime(2025, 4, 16, 19, 14, 14, 147446, tzinfo=tzutc()),\n",
       "  'version': '5.3'},\n",
       " 'msg_id': 'b129712b-72dfc25a8727a31966a73369_36544_5',\n",
       " 'msg_type': 'status',\n",
       " 'parent_header': {'msg_id': 'fe6a6eeb-5f12062d2f9dea307db4ff50_36430_0',\n",
       "  'msg_type': 'execute_request',\n",
       "  'username': 'fedor',\n",
       "  'session': 'fe6a6eeb-5f12062d2f9dea307db4ff50',\n",
       "  'date': datetime.datetime(2025, 4, 16, 19, 14, 14, 145429, tzinfo=tzutc()),\n",
       "  'version': '5.3'},\n",
       " 'metadata': {},\n",
       " 'content': {'execution_state': 'busy'},\n",
       " 'buffers': []}"
      ]
     },
     "execution_count": 6,
     "metadata": {},
     "output_type": "execute_result"
    }
   ],
   "source": [
    "ans_list[0]"
   ]
  },
  {
   "cell_type": "code",
   "execution_count": 7,
   "metadata": {},
   "outputs": [
    {
     "data": {
      "text/plain": [
       "{'header': {'msg_id': 'b129712b-72dfc25a8727a31966a73369_36544_6',\n",
       "  'msg_type': 'execute_input',\n",
       "  'username': 'fedor',\n",
       "  'session': 'b129712b-72dfc25a8727a31966a73369',\n",
       "  'date': datetime.datetime(2025, 4, 16, 19, 14, 14, 147899, tzinfo=tzutc()),\n",
       "  'version': '5.3'},\n",
       " 'msg_id': 'b129712b-72dfc25a8727a31966a73369_36544_6',\n",
       " 'msg_type': 'execute_input',\n",
       " 'parent_header': {'msg_id': 'fe6a6eeb-5f12062d2f9dea307db4ff50_36430_0',\n",
       "  'msg_type': 'execute_request',\n",
       "  'username': 'fedor',\n",
       "  'session': 'fe6a6eeb-5f12062d2f9dea307db4ff50',\n",
       "  'date': datetime.datetime(2025, 4, 16, 19, 14, 14, 145429, tzinfo=tzutc()),\n",
       "  'version': '5.3'},\n",
       " 'metadata': {},\n",
       " 'content': {'code': 'x = 42\\ny = x * 2\\ny', 'execution_count': 1},\n",
       " 'buffers': []}"
      ]
     },
     "execution_count": 7,
     "metadata": {},
     "output_type": "execute_result"
    }
   ],
   "source": [
    "ans_list[1]"
   ]
  },
  {
   "cell_type": "code",
   "execution_count": 8,
   "metadata": {},
   "outputs": [
    {
     "data": {
      "text/plain": [
       "{'header': {'msg_id': 'b129712b-72dfc25a8727a31966a73369_36544_7',\n",
       "  'msg_type': 'execute_result',\n",
       "  'username': 'fedor',\n",
       "  'session': 'b129712b-72dfc25a8727a31966a73369',\n",
       "  'date': datetime.datetime(2025, 4, 16, 19, 14, 14, 151135, tzinfo=tzutc()),\n",
       "  'version': '5.3'},\n",
       " 'msg_id': 'b129712b-72dfc25a8727a31966a73369_36544_7',\n",
       " 'msg_type': 'execute_result',\n",
       " 'parent_header': {'msg_id': 'fe6a6eeb-5f12062d2f9dea307db4ff50_36430_0',\n",
       "  'msg_type': 'execute_request',\n",
       "  'username': 'fedor',\n",
       "  'session': 'fe6a6eeb-5f12062d2f9dea307db4ff50',\n",
       "  'date': datetime.datetime(2025, 4, 16, 19, 14, 14, 145429, tzinfo=tzutc()),\n",
       "  'version': '5.3'},\n",
       " 'metadata': {},\n",
       " 'content': {'data': {'text/plain': '84'},\n",
       "  'metadata': {},\n",
       "  'execution_count': 1},\n",
       " 'buffers': []}"
      ]
     },
     "execution_count": 8,
     "metadata": {},
     "output_type": "execute_result"
    }
   ],
   "source": [
    "ans_list[2]"
   ]
  },
  {
   "cell_type": "code",
   "execution_count": 9,
   "metadata": {},
   "outputs": [
    {
     "data": {
      "text/plain": [
       "{'header': {'msg_id': 'b129712b-72dfc25a8727a31966a73369_36544_9',\n",
       "  'msg_type': 'status',\n",
       "  'username': 'fedor',\n",
       "  'session': 'b129712b-72dfc25a8727a31966a73369',\n",
       "  'date': datetime.datetime(2025, 4, 16, 19, 14, 14, 156378, tzinfo=tzutc()),\n",
       "  'version': '5.3'},\n",
       " 'msg_id': 'b129712b-72dfc25a8727a31966a73369_36544_9',\n",
       " 'msg_type': 'status',\n",
       " 'parent_header': {'msg_id': 'fe6a6eeb-5f12062d2f9dea307db4ff50_36430_0',\n",
       "  'msg_type': 'execute_request',\n",
       "  'username': 'fedor',\n",
       "  'session': 'fe6a6eeb-5f12062d2f9dea307db4ff50',\n",
       "  'date': datetime.datetime(2025, 4, 16, 19, 14, 14, 145429, tzinfo=tzutc()),\n",
       "  'version': '5.3'},\n",
       " 'metadata': {},\n",
       " 'content': {'execution_state': 'idle'},\n",
       " 'buffers': []}"
      ]
     },
     "execution_count": 9,
     "metadata": {},
     "output_type": "execute_result"
    }
   ],
   "source": [
    "ans_list[3]"
   ]
  },
  {
   "cell_type": "markdown",
   "metadata": {},
   "source": [
    "## Tools\n",
    "\n",
    "In the `utils.run_jupyter_kernel` module there are tools that implement some utilities to work with the jupyter client and avoid boilerplate code in notebooks."
   ]
  },
  {
   "cell_type": "markdown",
   "metadata": {},
   "source": [
    "---\n",
    "\n",
    "The `get_messages` function allows to execute some code in the given kernel, catching and returning all messages."
   ]
  },
  {
   "cell_type": "code",
   "execution_count": 6,
   "metadata": {},
   "outputs": [
    {
     "data": {
      "text/plain": [
       "[{'header': {'msg_id': '8172f864-deac1bd202c2ad241eee2ae2_129765_5',\n",
       "   'msg_type': 'status',\n",
       "   'username': 'fedor',\n",
       "   'session': '8172f864-deac1bd202c2ad241eee2ae2',\n",
       "   'date': datetime.datetime(2025, 4, 17, 8, 38, 31, 521258, tzinfo=tzutc()),\n",
       "   'version': '5.3'},\n",
       "  'msg_id': '8172f864-deac1bd202c2ad241eee2ae2_129765_5',\n",
       "  'msg_type': 'status',\n",
       "  'parent_header': {'msg_id': '1a1e0701-a0ca2d36265f355a70edf622_79253_0',\n",
       "   'msg_type': 'execute_request',\n",
       "   'username': 'fedor',\n",
       "   'session': '1a1e0701-a0ca2d36265f355a70edf622',\n",
       "   'date': datetime.datetime(2025, 4, 17, 8, 38, 31, 520480, tzinfo=tzutc()),\n",
       "   'version': '5.3'},\n",
       "  'metadata': {},\n",
       "  'content': {'execution_state': 'busy'},\n",
       "  'buffers': []},\n",
       " {'header': {'msg_id': '8172f864-deac1bd202c2ad241eee2ae2_129765_6',\n",
       "   'msg_type': 'execute_input',\n",
       "   'username': 'fedor',\n",
       "   'session': '8172f864-deac1bd202c2ad241eee2ae2',\n",
       "   'date': datetime.datetime(2025, 4, 17, 8, 38, 31, 521728, tzinfo=tzutc()),\n",
       "   'version': '5.3'},\n",
       "  'msg_id': '8172f864-deac1bd202c2ad241eee2ae2_129765_6',\n",
       "  'msg_type': 'execute_input',\n",
       "  'parent_header': {'msg_id': '1a1e0701-a0ca2d36265f355a70edf622_79253_0',\n",
       "   'msg_type': 'execute_request',\n",
       "   'username': 'fedor',\n",
       "   'session': '1a1e0701-a0ca2d36265f355a70edf622',\n",
       "   'date': datetime.datetime(2025, 4, 17, 8, 38, 31, 520480, tzinfo=tzutc()),\n",
       "   'version': '5.3'},\n",
       "  'metadata': {},\n",
       "  'content': {'code': \"print('hello')\", 'execution_count': 1},\n",
       "  'buffers': []},\n",
       " {'header': {'msg_id': '8172f864-deac1bd202c2ad241eee2ae2_129765_7',\n",
       "   'msg_type': 'stream',\n",
       "   'username': 'fedor',\n",
       "   'session': '8172f864-deac1bd202c2ad241eee2ae2',\n",
       "   'date': datetime.datetime(2025, 4, 17, 8, 38, 31, 523541, tzinfo=tzutc()),\n",
       "   'version': '5.3'},\n",
       "  'msg_id': '8172f864-deac1bd202c2ad241eee2ae2_129765_7',\n",
       "  'msg_type': 'stream',\n",
       "  'parent_header': {'session': '1a1e0701-a0ca2d36265f355a70edf622',\n",
       "   'version': '5.3',\n",
       "   'msg_id': '1a1e0701-a0ca2d36265f355a70edf622_79253_0',\n",
       "   'username': 'fedor',\n",
       "   'msg_type': 'execute_request',\n",
       "   'date': datetime.datetime(2025, 4, 17, 8, 38, 31, 520480, tzinfo=tzutc())},\n",
       "  'metadata': {},\n",
       "  'content': {'name': 'stdout', 'text': 'hello\\n'},\n",
       "  'buffers': []},\n",
       " {'header': {'msg_id': '8172f864-deac1bd202c2ad241eee2ae2_129765_9',\n",
       "   'msg_type': 'status',\n",
       "   'username': 'fedor',\n",
       "   'session': '8172f864-deac1bd202c2ad241eee2ae2',\n",
       "   'date': datetime.datetime(2025, 4, 17, 8, 38, 31, 525225, tzinfo=tzutc()),\n",
       "   'version': '5.3'},\n",
       "  'msg_id': '8172f864-deac1bd202c2ad241eee2ae2_129765_9',\n",
       "  'msg_type': 'status',\n",
       "  'parent_header': {'msg_id': '1a1e0701-a0ca2d36265f355a70edf622_79253_0',\n",
       "   'msg_type': 'execute_request',\n",
       "   'username': 'fedor',\n",
       "   'session': '1a1e0701-a0ca2d36265f355a70edf622',\n",
       "   'date': datetime.datetime(2025, 4, 17, 8, 38, 31, 520480, tzinfo=tzutc()),\n",
       "   'version': '5.3'},\n",
       "  'metadata': {},\n",
       "  'content': {'execution_state': 'idle'},\n",
       "  'buffers': []}]"
      ]
     },
     "execution_count": 6,
     "metadata": {},
     "output_type": "execute_result"
    }
   ],
   "source": [
    "from utils.run_jupyter_kernel import get_messages\n",
    "get_messages(connection_file=str(connection_file), code=\"print('hello')\")"
   ]
  }
 ],
 "metadata": {
  "kernelspec": {
   "display_name": "python",
   "language": "python",
   "name": "python3"
  },
  "language_info": {
   "codemirror_mode": {
    "name": "ipython",
    "version": 3
   },
   "file_extension": ".py",
   "mimetype": "text/x-python",
   "name": "python",
   "nbconvert_exporter": "python",
   "pygments_lexer": "ipython3",
   "version": "3.12.9"
  }
 },
 "nbformat": 4,
 "nbformat_minor": 2
}
