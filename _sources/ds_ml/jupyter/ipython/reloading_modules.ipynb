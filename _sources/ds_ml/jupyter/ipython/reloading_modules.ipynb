{
 "cells": [
  {
   "cell_type": "markdown",
   "metadata": {},
   "source": [
    "# Reload modules\n",
    "\n",
    "By default, IPython will only read imported modules when their `import` is mentioned for the first time. But this option allows you to set some specific rules for importing modules. [Official documentation](https://ipython.readthedocs.io/en/stable/config/extensions/autoreload.html).\n",
    "\n",
    "In essence this extension doles out two magic `%autoreload` and `%aimport`:\n",
    "\n",
    "- `%autoreload` - specifies the import mode;\n",
    "- `%aimport` - sets exceptions for `%autoreload` if they are provided by the current mode.\n",
    "\n",
    "**Note** look like you should use the full path to the files if you want to mention them for `%aimport`."
   ]
  },
  {
   "cell_type": "markdown",
   "metadata": {},
   "source": [
    "## `%autoreload 1/explicit`\n",
    "\n",
    "Before executing a cell, only modules mentioned with `%aimport` will be reloaded.\n",
    "\n",
    "In the following example I:\n",
    "\n",
    "- Create two files `fun<i>` $i \\in {1,2}$, each containing only one function that returns a line like `\"Original line from fun<i>.py\"`;\n",
    "- Import them using the `%autoreload explicit` magic and mentioning `fun1` in `%aimport`.\n",
    "- Call them, and got obvious result - `Original line from fun<i>.py`;\n",
    "- Then change both functions to return `New line from fun<i>.py`;\n",
    "- Call the functions again:\n",
    "    - Function from `fun1` has changed the line;\n",
    "    - Function from `fun2` still has the word `Original` at the beginning (because it was mentioned in `%aimport` as module to me reloaded)."
   ]
  },
  {
   "cell_type": "code",
   "execution_count": 1,
   "metadata": {},
   "outputs": [],
   "source": [
    "%%bash\n",
    "cat > reloading_modules_files/fun1.py << EOF\n",
    "def return_line():\n",
    "    return \"Original line from fun1.py\"\n",
    "EOF\n",
    "cat > reloading_modules_files/fun2.py << EOF\n",
    "def return_line():\n",
    "    return \"Original line from fun2.py\"\n",
    "EOF"
   ]
  },
  {
   "cell_type": "code",
   "execution_count": 2,
   "metadata": {},
   "outputs": [
    {
     "name": "stdout",
     "output_type": "stream",
     "text": [
      "Original line from fun1.py\n",
      "Original line from fun2.py\n"
     ]
    }
   ],
   "source": [
    "%load_ext autoreload\n",
    "%autoreload explicit\n",
    "from reloading_modules_files import fun1, fun2\n",
    "%aimport reloading_modules_files.fun1\n",
    "\n",
    "print(fun1.return_line())\n",
    "print(fun2.return_line())"
   ]
  },
  {
   "cell_type": "code",
   "execution_count": 3,
   "metadata": {},
   "outputs": [],
   "source": [
    "%%bash\n",
    "cat > reloading_modules_files/fun1.py << EOF\n",
    "def return_line():\n",
    "    return \"New line from fun1.py\"\n",
    "EOF\n",
    "cat > reloading_modules_files/fun2.py << EOF\n",
    "def return_line():\n",
    "    return \"New line from fun2.py\"\n",
    "EOF"
   ]
  },
  {
   "cell_type": "code",
   "execution_count": 4,
   "metadata": {},
   "outputs": [
    {
     "name": "stdout",
     "output_type": "stream",
     "text": [
      "New line from fun1.py\n",
      "Original line from fun2.py\n"
     ]
    }
   ],
   "source": [
    "print(fun1.return_line())\n",
    "print(fun2.return_line())"
   ]
  },
  {
   "cell_type": "markdown",
   "metadata": {},
   "source": [
    "## `%autoreload 2/all`\n",
    "\n",
    "It's the most common mode for me - reload all modules before running any cell except those mentioned in `%aimport`.\n",
    "\n",
    "If you want to exclude some modules from reimport, you should use `%aimport -<module name>` (the \"-\" symbol is crucial here).\n",
    "\n",
    "In the following example I:\n",
    "\n",
    "- Create two files `fun<i>` $i \\in {1,2}$, each containing only one function that returns a line like `\"Original line from fun<i>.py\"`;\n",
    "- Import them using the `%autoreload all` magic and mentioning `fun2` in `%aimport`.\n",
    "- Call them, and got obvious result - `Original line from fun<i>.py`;\n",
    "- Then change both functions to return `New line from fun<i>.py`;\n",
    "- Call the functions again:\n",
    "    - Function from `fun1` has changed the line;\n",
    "    - Function from `fun2` still has the word `Original` at the beginning (because it was mentioned in `%aimport` as an exclusion)."
   ]
  },
  {
   "cell_type": "code",
   "execution_count": 5,
   "metadata": {},
   "outputs": [],
   "source": [
    "%%bash\n",
    "cat > reloading_modules_files/fun1.py << EOF\n",
    "def return_line():\n",
    "    return \"Original line from fun1.py\"\n",
    "EOF\n",
    "cat > reloading_modules_files/fun2.py << EOF\n",
    "def return_line():\n",
    "    return \"Original line from fun2.py\"\n",
    "EOF"
   ]
  },
  {
   "cell_type": "code",
   "execution_count": 6,
   "metadata": {},
   "outputs": [
    {
     "name": "stdout",
     "output_type": "stream",
     "text": [
      "The autoreload extension is already loaded. To reload it, use:\n",
      "  %reload_ext autoreload\n",
      "Original line from fun1.py\n",
      "Original line from fun2.py\n"
     ]
    }
   ],
   "source": [
    "%load_ext autoreload\n",
    "%autoreload all\n",
    "\n",
    "from reloading_modules_files import fun1, fun2\n",
    "%aimport -reloading_modules_files.fun2\n",
    "print(fun1.return_line())\n",
    "print(fun2.return_line())"
   ]
  },
  {
   "cell_type": "code",
   "execution_count": 7,
   "metadata": {},
   "outputs": [],
   "source": [
    "%%bash\n",
    "cat > reloading_modules_files/fun1.py << EOF\n",
    "def return_line():\n",
    "    return \"New line from fun1.py\"\n",
    "EOF\n",
    "cat > reloading_modules_files/fun2.py << EOF\n",
    "def return_line():\n",
    "    return \"New line from fun2.py\"\n",
    "EOF"
   ]
  },
  {
   "cell_type": "code",
   "execution_count": 8,
   "metadata": {},
   "outputs": [
    {
     "name": "stdout",
     "output_type": "stream",
     "text": [
      "New line from fun1.py\n",
      "Original line from fun2.py\n"
     ]
    }
   ],
   "source": [
    "print(fun1.return_line())\n",
    "print(fun2.return_line())"
   ]
  }
 ],
 "metadata": {
  "kernelspec": {
   "display_name": "venv",
   "language": "python",
   "name": "python3"
  },
  "language_info": {
   "codemirror_mode": {
    "name": "ipython",
    "version": 3
   },
   "file_extension": ".py",
   "mimetype": "text/x-python",
   "name": "python",
   "nbconvert_exporter": "python",
   "pygments_lexer": "ipython3",
   "version": "3.10.16"
  }
 },
 "nbformat": 4,
 "nbformat_minor": 2
}
