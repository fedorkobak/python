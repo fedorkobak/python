{
 "cells": [
  {
   "cell_type": "markdown",
   "id": "e9e24c21",
   "metadata": {},
   "source": [
    "# LangChain\n",
    "\n",
    "LangCain is software that allows to build applications based on LLMs."
   ]
  },
  {
   "cell_type": "markdown",
   "id": "e30554ee",
   "metadata": {},
   "source": [
    "## Setup\n",
    "\n",
    "Typically, you must export the API key corresponding to the model type you want to use from your environment."
   ]
  },
  {
   "cell_type": "markdown",
   "id": "741f7a52",
   "metadata": {},
   "source": [
    "---\n",
    "\n",
    "The following cell shows the code that will only work if the \"GOOGLE_API_KEY\" variable exists in your environment with the corresponding value."
   ]
  },
  {
   "cell_type": "code",
   "execution_count": 4,
   "id": "86af27d9",
   "metadata": {},
   "outputs": [
    {
     "name": "stdout",
     "output_type": "stream",
     "text": [
      "Please provide me with the details of the test you'd like to request.  To help me understand your request, please tell me:\n",
      "\n",
      "* **What kind of test is it?** (e.g., unit test, integration test, performance test, usability test, A/B test, etc.)\n",
      "* **What is the subject of the test?** (e.g., a specific piece of code, a website, a software application, a marketing campaign, etc.)\n",
      "* **What are the goals of the test?** (e.g., to identify bugs, to measure performance, to compare different versions, to assess user experience, etc.)\n",
      "* **What are the inputs or data required for the test?** (e.g., specific files, parameters, user accounts, etc.)\n",
      "* **What are the expected outputs or results?** (e.g., pass/fail status, performance metrics, user feedback, etc.)\n",
      "* **What is the testing environment?** (e.g., operating system, browser, hardware specifications, etc.)\n",
      "* **Are there any specific test cases or scenarios you want to include?**\n",
      "\n",
      "The more information you provide, the better I can understand your request and potentially help you.\n"
     ]
    }
   ],
   "source": [
    "from langchain_google_genai import ChatGoogleGenerativeAI\n",
    "llm = ChatGoogleGenerativeAI(model=\"gemini-1.5-flash\")\n",
    "ans = llm.invoke(\"Test request\")\n",
    "print(ans.content)"
   ]
  }
 ],
 "metadata": {
  "kernelspec": {
   "display_name": "knowledge",
   "language": "python",
   "name": "python3"
  },
  "language_info": {
   "codemirror_mode": {
    "name": "ipython",
    "version": 3
   },
   "file_extension": ".py",
   "mimetype": "text/x-python",
   "name": "python",
   "nbconvert_exporter": "python",
   "pygments_lexer": "ipython3",
   "version": "3.12.9"
  }
 },
 "nbformat": 4,
 "nbformat_minor": 5
}
