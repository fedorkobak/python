{
 "cells": [
  {
   "cell_type": "markdown",
   "id": "b8f19283-9e94-453f-8a45-310f09c140c4",
   "metadata": {},
   "source": [
    "# Surprise\n",
    "\n",
    "[`Surprise`](https://surprise.readthedocs.io/en/stable/) is a Python library for building recommendation systems. Here are some basic ideas about working with this library."
   ]
  },
  {
   "cell_type": "code",
   "execution_count": 1,
   "id": "5a81a95d-bfb0-47fe-affe-2b3fc53496c6",
   "metadata": {},
   "outputs": [],
   "source": [
    "import pandas as pd\n",
    "from surprise import KNNWithMeans, Dataset, Reader"
   ]
  },
  {
   "cell_type": "markdown",
   "id": "64f1bfc8-8207-4c22-9006-1f9d62b73ead",
   "metadata": {},
   "source": [
    "The following cell defines the matrix that will be used as an example on this page. Read more about relevance matrix and recommender systems ideas in the [ranking task section](../../data_science/ranking_task.md)."
   ]
  },
  {
   "cell_type": "code",
   "execution_count": 2,
   "id": "8ca77bfb-ad35-4b31-85d2-50bc8def40e0",
   "metadata": {},
   "outputs": [
    {
     "data": {
      "text/html": [
       "<div>\n",
       "<style scoped>\n",
       "    .dataframe tbody tr th:only-of-type {\n",
       "        vertical-align: middle;\n",
       "    }\n",
       "\n",
       "    .dataframe tbody tr th {\n",
       "        vertical-align: top;\n",
       "    }\n",
       "\n",
       "    .dataframe thead th {\n",
       "        text-align: right;\n",
       "    }\n",
       "</style>\n",
       "<table border=\"1\" class=\"dataframe\">\n",
       "  <thead>\n",
       "    <tr style=\"text-align: right;\">\n",
       "      <th>Items</th>\n",
       "      <th>Item 1</th>\n",
       "      <th>Item 2</th>\n",
       "      <th>Item 3</th>\n",
       "      <th>Item 4</th>\n",
       "      <th>Item 5</th>\n",
       "    </tr>\n",
       "    <tr>\n",
       "      <th>Users</th>\n",
       "      <th></th>\n",
       "      <th></th>\n",
       "      <th></th>\n",
       "      <th></th>\n",
       "      <th></th>\n",
       "    </tr>\n",
       "  </thead>\n",
       "  <tbody>\n",
       "    <tr>\n",
       "      <th>User 1</th>\n",
       "      <td>1.0</td>\n",
       "      <td>23</td>\n",
       "      <td>NaN</td>\n",
       "      <td>53.0</td>\n",
       "      <td>50.0</td>\n",
       "    </tr>\n",
       "    <tr>\n",
       "      <th>User 2</th>\n",
       "      <td>0.0</td>\n",
       "      <td>2</td>\n",
       "      <td>0.0</td>\n",
       "      <td>4.0</td>\n",
       "      <td>0.0</td>\n",
       "    </tr>\n",
       "    <tr>\n",
       "      <th>User 3</th>\n",
       "      <td>NaN</td>\n",
       "      <td>10</td>\n",
       "      <td>11.0</td>\n",
       "      <td>NaN</td>\n",
       "      <td>NaN</td>\n",
       "    </tr>\n",
       "    <tr>\n",
       "      <th>User 4</th>\n",
       "      <td>1.0</td>\n",
       "      <td>8</td>\n",
       "      <td>2.0</td>\n",
       "      <td>23.0</td>\n",
       "      <td>NaN</td>\n",
       "    </tr>\n",
       "    <tr>\n",
       "      <th>User 5</th>\n",
       "      <td>4.0</td>\n",
       "      <td>2</td>\n",
       "      <td>15.0</td>\n",
       "      <td>3.0</td>\n",
       "      <td>4.0</td>\n",
       "    </tr>\n",
       "    <tr>\n",
       "      <th>User 6</th>\n",
       "      <td>3.0</td>\n",
       "      <td>10</td>\n",
       "      <td>0.0</td>\n",
       "      <td>NaN</td>\n",
       "      <td>23.0</td>\n",
       "    </tr>\n",
       "  </tbody>\n",
       "</table>\n",
       "</div>"
      ],
      "text/plain": [
       "Items   Item 1  Item 2  Item 3  Item 4  Item 5\n",
       "Users                                         \n",
       "User 1     1.0      23     NaN    53.0    50.0\n",
       "User 2     0.0       2     0.0     4.0     0.0\n",
       "User 3     NaN      10    11.0     NaN     NaN\n",
       "User 4     1.0       8     2.0    23.0     NaN\n",
       "User 5     4.0       2    15.0     3.0     4.0\n",
       "User 6     3.0      10     0.0     NaN    23.0"
      ]
     },
     "execution_count": 2,
     "metadata": {},
     "output_type": "execute_result"
    }
   ],
   "source": [
    "data = {\n",
    "    \"Item 1\": [1, 0, None, 1, 4, 3],\n",
    "    \"Item 2\": [23, 2, 10, 8, 2, 10],\n",
    "    \"Item 3\": [None, 0, 11, 2, 15, 0],\n",
    "    \"Item 4\": [53, 4, None, 23, 3, None],\n",
    "    \"Item 5\": [50, 0, None, None, 4, 23], \n",
    "}\n",
    "users = pd.Index(\n",
    "    [\n",
    "        \"User 1\", \n",
    "        \"User 2\", \n",
    "        \"User 3\", \n",
    "        \"User 4\", \n",
    "        \"User 5\",\n",
    "        \"User 6\"\n",
    "    ],\n",
    "    name = \"Users\"\n",
    ")\n",
    "\n",
    "R_matrix = pd.DataFrame(data, index=users)\n",
    "R_matrix.columns.name = \"Items\"\n",
    "R_matrix"
   ]
  },
  {
   "cell_type": "markdown",
   "id": "f32568b4-b36a-4cb7-8a73-8636c6475ba7",
   "metadata": {},
   "source": [
    "To use with surprise, the matrix should be converted to a table with the format as in the following cell:"
   ]
  },
  {
   "cell_type": "code",
   "execution_count": 3,
   "id": "7e762e80-e4a5-4e6a-985d-68266f4cf7e9",
   "metadata": {},
   "outputs": [
    {
     "data": {
      "text/html": [
       "<div>\n",
       "<style scoped>\n",
       "    .dataframe tbody tr th:only-of-type {\n",
       "        vertical-align: middle;\n",
       "    }\n",
       "\n",
       "    .dataframe tbody tr th {\n",
       "        vertical-align: top;\n",
       "    }\n",
       "\n",
       "    .dataframe thead th {\n",
       "        text-align: right;\n",
       "    }\n",
       "</style>\n",
       "<table border=\"1\" class=\"dataframe\">\n",
       "  <thead>\n",
       "    <tr style=\"text-align: right;\">\n",
       "      <th></th>\n",
       "      <th>Users</th>\n",
       "      <th>Items</th>\n",
       "      <th>ratings</th>\n",
       "    </tr>\n",
       "  </thead>\n",
       "  <tbody>\n",
       "    <tr>\n",
       "      <th>0</th>\n",
       "      <td>User 1</td>\n",
       "      <td>Item 1</td>\n",
       "      <td>1.0</td>\n",
       "    </tr>\n",
       "    <tr>\n",
       "      <th>1</th>\n",
       "      <td>User 1</td>\n",
       "      <td>Item 2</td>\n",
       "      <td>23.0</td>\n",
       "    </tr>\n",
       "    <tr>\n",
       "      <th>2</th>\n",
       "      <td>User 1</td>\n",
       "      <td>Item 4</td>\n",
       "      <td>53.0</td>\n",
       "    </tr>\n",
       "    <tr>\n",
       "      <th>3</th>\n",
       "      <td>User 1</td>\n",
       "      <td>Item 5</td>\n",
       "      <td>50.0</td>\n",
       "    </tr>\n",
       "    <tr>\n",
       "      <th>4</th>\n",
       "      <td>User 2</td>\n",
       "      <td>Item 1</td>\n",
       "      <td>0.0</td>\n",
       "    </tr>\n",
       "    <tr>\n",
       "      <th>5</th>\n",
       "      <td>User 2</td>\n",
       "      <td>Item 2</td>\n",
       "      <td>2.0</td>\n",
       "    </tr>\n",
       "    <tr>\n",
       "      <th>6</th>\n",
       "      <td>User 2</td>\n",
       "      <td>Item 3</td>\n",
       "      <td>0.0</td>\n",
       "    </tr>\n",
       "    <tr>\n",
       "      <th>7</th>\n",
       "      <td>User 2</td>\n",
       "      <td>Item 4</td>\n",
       "      <td>4.0</td>\n",
       "    </tr>\n",
       "    <tr>\n",
       "      <th>8</th>\n",
       "      <td>User 2</td>\n",
       "      <td>Item 5</td>\n",
       "      <td>0.0</td>\n",
       "    </tr>\n",
       "    <tr>\n",
       "      <th>9</th>\n",
       "      <td>User 3</td>\n",
       "      <td>Item 2</td>\n",
       "      <td>10.0</td>\n",
       "    </tr>\n",
       "    <tr>\n",
       "      <th>10</th>\n",
       "      <td>User 3</td>\n",
       "      <td>Item 3</td>\n",
       "      <td>11.0</td>\n",
       "    </tr>\n",
       "    <tr>\n",
       "      <th>11</th>\n",
       "      <td>User 4</td>\n",
       "      <td>Item 1</td>\n",
       "      <td>1.0</td>\n",
       "    </tr>\n",
       "    <tr>\n",
       "      <th>12</th>\n",
       "      <td>User 4</td>\n",
       "      <td>Item 2</td>\n",
       "      <td>8.0</td>\n",
       "    </tr>\n",
       "    <tr>\n",
       "      <th>13</th>\n",
       "      <td>User 4</td>\n",
       "      <td>Item 3</td>\n",
       "      <td>2.0</td>\n",
       "    </tr>\n",
       "    <tr>\n",
       "      <th>14</th>\n",
       "      <td>User 4</td>\n",
       "      <td>Item 4</td>\n",
       "      <td>23.0</td>\n",
       "    </tr>\n",
       "    <tr>\n",
       "      <th>15</th>\n",
       "      <td>User 5</td>\n",
       "      <td>Item 1</td>\n",
       "      <td>4.0</td>\n",
       "    </tr>\n",
       "    <tr>\n",
       "      <th>16</th>\n",
       "      <td>User 5</td>\n",
       "      <td>Item 2</td>\n",
       "      <td>2.0</td>\n",
       "    </tr>\n",
       "    <tr>\n",
       "      <th>17</th>\n",
       "      <td>User 5</td>\n",
       "      <td>Item 3</td>\n",
       "      <td>15.0</td>\n",
       "    </tr>\n",
       "    <tr>\n",
       "      <th>18</th>\n",
       "      <td>User 5</td>\n",
       "      <td>Item 4</td>\n",
       "      <td>3.0</td>\n",
       "    </tr>\n",
       "    <tr>\n",
       "      <th>19</th>\n",
       "      <td>User 5</td>\n",
       "      <td>Item 5</td>\n",
       "      <td>4.0</td>\n",
       "    </tr>\n",
       "    <tr>\n",
       "      <th>20</th>\n",
       "      <td>User 6</td>\n",
       "      <td>Item 1</td>\n",
       "      <td>3.0</td>\n",
       "    </tr>\n",
       "    <tr>\n",
       "      <th>21</th>\n",
       "      <td>User 6</td>\n",
       "      <td>Item 2</td>\n",
       "      <td>10.0</td>\n",
       "    </tr>\n",
       "    <tr>\n",
       "      <th>22</th>\n",
       "      <td>User 6</td>\n",
       "      <td>Item 3</td>\n",
       "      <td>0.0</td>\n",
       "    </tr>\n",
       "    <tr>\n",
       "      <th>23</th>\n",
       "      <td>User 6</td>\n",
       "      <td>Item 5</td>\n",
       "      <td>23.0</td>\n",
       "    </tr>\n",
       "  </tbody>\n",
       "</table>\n",
       "</div>"
      ],
      "text/plain": [
       "     Users   Items  ratings\n",
       "0   User 1  Item 1      1.0\n",
       "1   User 1  Item 2     23.0\n",
       "2   User 1  Item 4     53.0\n",
       "3   User 1  Item 5     50.0\n",
       "4   User 2  Item 1      0.0\n",
       "5   User 2  Item 2      2.0\n",
       "6   User 2  Item 3      0.0\n",
       "7   User 2  Item 4      4.0\n",
       "8   User 2  Item 5      0.0\n",
       "9   User 3  Item 2     10.0\n",
       "10  User 3  Item 3     11.0\n",
       "11  User 4  Item 1      1.0\n",
       "12  User 4  Item 2      8.0\n",
       "13  User 4  Item 3      2.0\n",
       "14  User 4  Item 4     23.0\n",
       "15  User 5  Item 1      4.0\n",
       "16  User 5  Item 2      2.0\n",
       "17  User 5  Item 3     15.0\n",
       "18  User 5  Item 4      3.0\n",
       "19  User 5  Item 5      4.0\n",
       "20  User 6  Item 1      3.0\n",
       "21  User 6  Item 2     10.0\n",
       "22  User 6  Item 3      0.0\n",
       "23  User 6  Item 5     23.0"
      ]
     },
     "execution_count": 3,
     "metadata": {},
     "output_type": "execute_result"
    }
   ],
   "source": [
    "R_frame = R_matrix.stack().rename(\"ratings\").reset_index()\n",
    "R_frame"
   ]
  },
  {
   "cell_type": "markdown",
   "id": "8f399dc3-1894-4eaa-959c-a95a4e0c787c",
   "metadata": {},
   "source": [
    "But it also needs to be transformed into the surprise type dataset. It uses `readers` which define details of how the data should be interpreted.\n",
    "\n",
    "By default, the dataset should contain 3 columns in the following order: user id, item id and ratings.\n",
    "\n",
    "The following cell performs such a transformation for the example considered:"
   ]
  },
  {
   "cell_type": "code",
   "execution_count": 4,
   "id": "a019c364-4771-4c82-982f-4d3c1ac43c0b",
   "metadata": {},
   "outputs": [],
   "source": [
    "reader = Reader(\n",
    "    rating_scale=(\n",
    "        R_matrix.min().min(),\n",
    "        R_matrix.max().max()\n",
    "    )\n",
    ")\n",
    "data_set = Dataset.load_from_df(\n",
    "    df=R_frame, \n",
    "    reader=reader\n",
    ")"
   ]
  },
  {
   "cell_type": "markdown",
   "id": "7fef2525-177c-4d49-be67-c2de4f681b33",
   "metadata": {},
   "source": [
    "But that's not enough for your first model. So you need to create a `surprise.trainset.Trainset` instance."
   ]
  },
  {
   "cell_type": "code",
   "execution_count": 5,
   "id": "7e2c690a-a683-4133-bdfa-6d788649c70b",
   "metadata": {},
   "outputs": [
    {
     "data": {
      "text/plain": [
       "surprise.trainset.Trainset"
      ]
     },
     "execution_count": 5,
     "metadata": {},
     "output_type": "execute_result"
    }
   ],
   "source": [
    "train_set = data_set.build_full_trainset()\n",
    "type(train_set)"
   ]
  },
  {
   "cell_type": "markdown",
   "id": "458c679b-82ca-40f2-b078-27d7ed1b5118",
   "metadata": {},
   "source": [
    "Such a model can now be fitted:"
   ]
  },
  {
   "cell_type": "code",
   "execution_count": 6,
   "id": "f8d7254d-edce-4f5e-8cf1-5971e93a8746",
   "metadata": {},
   "outputs": [
    {
     "name": "stdout",
     "output_type": "stream",
     "text": [
      "Computing the msd similarity matrix...\n",
      "Done computing similarity matrix.\n"
     ]
    }
   ],
   "source": [
    "model = KNNWithMeans(k=2).fit(train_set)"
   ]
  },
  {
   "cell_type": "markdown",
   "id": "5ca764f8-fd60-42d2-a641-24a5c4bff287",
   "metadata": {},
   "source": [
    "To get a prediction, you need to specify user and item as defined in the user/item identifier columns. The prediction will be in a specific dtype, you need to refer to the `est` field:"
   ]
  },
  {
   "cell_type": "code",
   "execution_count": 11,
   "id": "61a60098-d658-4b33-904b-0615645a657f",
   "metadata": {},
   "outputs": [
    {
     "data": {
      "text/plain": [
       "Prediction(uid='User 6', iid='Item 1', r_ui=None, est=2.75, details={'actual_k': 2, 'was_impossible': False})"
      ]
     },
     "metadata": {},
     "output_type": "display_data"
    },
    {
     "data": {
      "text/plain": [
       "2.75"
      ]
     },
     "metadata": {},
     "output_type": "display_data"
    }
   ],
   "source": [
    "pred = model.predict(uid=\"User 6\", iid=\"Item 1\")\n",
    "display(pred)\n",
    "display(pred.est)"
   ]
  },
  {
   "cell_type": "markdown",
   "id": "09a3a12e-042a-40e9-8035-43f72bc5e8a2",
   "metadata": {},
   "source": [
    "Or to get predictions for all items for `User 6`:"
   ]
  },
  {
   "cell_type": "code",
   "execution_count": 19,
   "id": "d659bece-0ada-4e83-80b1-840bea287489",
   "metadata": {},
   "outputs": [
    {
     "data": {
      "text/html": [
       "<div>\n",
       "<style scoped>\n",
       "    .dataframe tbody tr th:only-of-type {\n",
       "        vertical-align: middle;\n",
       "    }\n",
       "\n",
       "    .dataframe tbody tr th {\n",
       "        vertical-align: top;\n",
       "    }\n",
       "\n",
       "    .dataframe thead th {\n",
       "        text-align: right;\n",
       "    }\n",
       "</style>\n",
       "<table border=\"1\" class=\"dataframe\">\n",
       "  <thead>\n",
       "    <tr style=\"text-align: right;\">\n",
       "      <th></th>\n",
       "      <th>estimations</th>\n",
       "    </tr>\n",
       "    <tr>\n",
       "      <th>Items</th>\n",
       "      <th></th>\n",
       "    </tr>\n",
       "  </thead>\n",
       "  <tbody>\n",
       "    <tr>\n",
       "      <th>Item 1</th>\n",
       "      <td>2.750000</td>\n",
       "    </tr>\n",
       "    <tr>\n",
       "      <th>Item 2</th>\n",
       "      <td>9.750000</td>\n",
       "    </tr>\n",
       "    <tr>\n",
       "      <th>Item 3</th>\n",
       "      <td>0.416667</td>\n",
       "    </tr>\n",
       "    <tr>\n",
       "      <th>Item 4</th>\n",
       "      <td>23.126198</td>\n",
       "    </tr>\n",
       "    <tr>\n",
       "      <th>Item 5</th>\n",
       "      <td>22.900328</td>\n",
       "    </tr>\n",
       "  </tbody>\n",
       "</table>\n",
       "</div>"
      ],
      "text/plain": [
       "        estimations\n",
       "Items              \n",
       "Item 1     2.750000\n",
       "Item 2     9.750000\n",
       "Item 3     0.416667\n",
       "Item 4    23.126198\n",
       "Item 5    22.900328"
      ]
     },
     "execution_count": 19,
     "metadata": {},
     "output_type": "execute_result"
    }
   ],
   "source": [
    "pd.Series(\n",
    "    [\n",
    "        model.predict(uid=\"User 6\", iid=f\"Item {i}\").est\n",
    "        for i in range(1, 6)\n",
    "    ],\n",
    "    index = R_matrix.columns,\n",
    "    name=\"estimations\"\n",
    ").to_frame()"
   ]
  }
 ],
 "metadata": {
  "kernelspec": {
   "display_name": "Python 3 (ipykernel)",
   "language": "python",
   "name": "python3"
  },
  "language_info": {
   "codemirror_mode": {
    "name": "ipython",
    "version": 3
   },
   "file_extension": ".py",
   "mimetype": "text/x-python",
   "name": "python",
   "nbconvert_exporter": "python",
   "pygments_lexer": "ipython3",
   "version": "3.10.12"
  }
 },
 "nbformat": 4,
 "nbformat_minor": 5
}
