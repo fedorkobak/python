{
 "cells": [
  {
   "cell_type": "markdown",
   "id": "d548bd96",
   "metadata": {},
   "source": [
    "# Intro\n",
    "\n",
    "The DS/ML section discusses the python packages/frameworks specialised for building database systems and machine learning."
   ]
  },
  {
   "cell_type": "markdown",
   "id": "3f9e7dad",
   "metadata": {},
   "source": [
    "## Hugging face\n",
    "\n",
    "Hugging Face is a site that allows you to publish and download models. It’s convenient because you can automate the process using Python scripting. For this, you need the `huggingface-hub` package. Aspects of working with it are discussed on this page.\n",
    "\n",
    "\n",
    "The first thing you need to do is log in:\n",
    "\n",
    "`huggingface-cli login --token <your HF token>`\n",
    "\n",
    "Check the set of tutorials: \n",
    "- [LLM course](https://huggingface.co/learn/llm-course/chapter0/1) from hugging face.\n",
    "- The [transformers](transformers.ipynb) package, provided by the Hugging Face, allows you to use a variety of popular transformer-based models."
   ]
  }
 ],
 "metadata": {
  "language_info": {
   "name": "python"
  }
 },
 "nbformat": 4,
 "nbformat_minor": 5
}
