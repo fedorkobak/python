{
 "cells": [
  {
   "cell_type": "markdown",
   "id": "779478d1",
   "metadata": {},
   "source": [
    "# Experiment\n",
    "\n",
    "In mlflow, an experiment is a structure that contains a set of runs. Typically, comparable runs are kept in the same experiment."
   ]
  },
  {
   "cell_type": "code",
   "execution_count": 2,
   "id": "8aa8979d",
   "metadata": {},
   "outputs": [],
   "source": [
    "import mlflow\n",
    "mlflow.set_tracking_uri(\"file:///tmp/experiment\")"
   ]
  },
  {
   "cell_type": "markdown",
   "id": "db32a833",
   "metadata": {},
   "source": [
    "## Experiment object\n",
    "\n",
    "There is an object that describes an experiment in mlflow. It has the type `mlflow.entities.experiment.Experiment`.\n",
    "\n",
    "You can access the experiment objects in several cases:\n",
    "\n",
    "- `mlflow.set_experiment`: returns the experiment that is active now.\n",
    "- `mlflow.get_experiment`: returns the experiment with the specified id.\n",
    "- `mlflow.get_experiment_by_name`: returns the experiment with the specified name."
   ]
  },
  {
   "cell_type": "markdown",
   "id": "5170e780",
   "metadata": {},
   "source": [
    "---\n",
    "\n",
    "The following cell shows the attributes of an experiment."
   ]
  },
  {
   "cell_type": "code",
   "execution_count": null,
   "id": "7a1629d0",
   "metadata": {},
   "outputs": [
    {
     "name": "stdout",
     "output_type": "stream",
     "text": [
      "mlflow-artifacts:/316075063118674621\n",
      "1754732470778\n",
      "316075063118674621\n",
      "1754732470778\n",
      "active\n",
      "some experiment\n"
     ]
    }
   ],
   "source": [
    "experiment = mlflow.set_experiment(\"some experiment\")\n",
    "print(\n",
    "    experiment.artifact_location,\n",
    "    experiment.creation_time,\n",
    "    experiment.experiment_id,\n",
    "    experiment.last_update_time,\n",
    "    experiment.lifecycle_stage,\n",
    "    experiment.name,\n",
    "    sep=\"\\n\"\n",
    ")"
   ]
  },
  {
   "cell_type": "markdown",
   "id": "4d07f5c9",
   "metadata": {},
   "source": [
    "## Current experiment\n",
    "\n",
    "There is no special tool to get information about the experiment that is active in mlflow right now. The only option that is available now is to start a run and load information from it, using the `run.info.experiment_id` attributes to get the id of the experiment and the `mlflow.get_experiment` function to load the other information about the experiment."
   ]
  },
  {
   "cell_type": "markdown",
   "id": "31ec68d4",
   "metadata": {},
   "source": [
    "---\n",
    "\n",
    "The following cell shows how information about the currently used experiment can be loaded using the `experiment_id` that the run keeps."
   ]
  },
  {
   "cell_type": "code",
   "execution_count": null,
   "id": "5ad38300",
   "metadata": {},
   "outputs": [
    {
     "name": "stdout",
     "output_type": "stream",
     "text": [
      "Experiment ID: 0\n",
      "Experiment name: Default\n",
      "🏃 View run secretive-horse-172 at: http://localhost:5000/#/experiments/0/runs/85fd8830eb3a435fbc84142f9083719c\n",
      "🧪 View experiment at: http://localhost:5000/#/experiments/0\n"
     ]
    }
   ],
   "source": [
    "with mlflow.start_run() as run:\n",
    "    experiment_id = run.info.experiment_id\n",
    "    print(\"Experiment ID:\", experiment_id)\n",
    "    experiment = mlflow.get_experiment(experiment_id)\n",
    "    print(\"Experiment name:\", experiment.name)"
   ]
  },
  {
   "cell_type": "markdown",
   "id": "c4efbfe8",
   "metadata": {},
   "source": [
    "## Env variable\n",
    "\n",
    "You can set the experiment to be used with `MLFLOW_EXPERIMENT_NAME` environment variable."
   ]
  },
  {
   "cell_type": "markdown",
   "id": "7b30bf86",
   "metadata": {},
   "source": [
    "---\n",
    "\n",
    "The following code sets the value `\"env experiment\"` for the `MLFLOW_EXPERIMENT_NAME` variable."
   ]
  },
  {
   "cell_type": "code",
   "execution_count": null,
   "id": "07756824",
   "metadata": {},
   "outputs": [],
   "source": [
    "import os\n",
    "import mlflow\n",
    "os.environ[\"MLFLOW_EXPERIMENT_NAME\"] = \"env experiment\""
   ]
  },
  {
   "cell_type": "markdown",
   "id": "ff79c972",
   "metadata": {},
   "source": [
    "The next code, by loading information about the active run, shows that the value from the environment variable was applied."
   ]
  },
  {
   "cell_type": "code",
   "execution_count": null,
   "id": "2c25ff57",
   "metadata": {},
   "outputs": [
    {
     "name": "stdout",
     "output_type": "stream",
     "text": [
      "env experiment\n"
     ]
    }
   ],
   "source": [
    "with mlflow.start_run() as run:\n",
    "    name = mlflow.get_experiment(run.info.experiment_id).name\n",
    "print(name)"
   ]
  },
  {
   "cell_type": "markdown",
   "id": "fe299010",
   "metadata": {},
   "source": [
    "## Delete\n",
    "\n",
    "Use the method `mlflow.delete_experiment` to delete the mlflow experiment. After invoking the method, the experiment will be moved to the `trash`, and you will lose access to it from all MLFlow clients.\n",
    "\n",
    "You are also restricted from creating a new experiment with the same name. The only way to completely remove an experiment is to delete it from MLFlow Storage."
   ]
  },
  {
   "cell_type": "markdown",
   "id": "a0e0552c",
   "metadata": {},
   "source": [
    "---\n",
    "\n",
    "The following cell will create an experiment that we will attempt to delete."
   ]
  },
  {
   "cell_type": "code",
   "execution_count": 11,
   "id": "05090ead",
   "metadata": {},
   "outputs": [
    {
     "data": {
      "text/plain": [
       "'692879448156854806'"
      ]
     },
     "execution_count": 11,
     "metadata": {},
     "output_type": "execute_result"
    }
   ],
   "source": [
    "mlflow.create_experiment(\"delete me\")\n",
    "delete_id = mlflow.get_experiment_by_name(\"delete me\").experiment_id\n",
    "delete_id"
   ]
  },
  {
   "cell_type": "markdown",
   "id": "3586511d",
   "metadata": {},
   "source": [
    "Pay attention to the experiment id."
   ]
  },
  {
   "cell_type": "markdown",
   "id": "c50fa4c6",
   "metadata": {},
   "source": [
    "Calling `mlflow.delete_experiment` goes smothly."
   ]
  },
  {
   "cell_type": "code",
   "execution_count": 12,
   "id": "345e0f3a",
   "metadata": {},
   "outputs": [],
   "source": [
    "mlflow.delete_experiment(delete_id)"
   ]
  },
  {
   "cell_type": "markdown",
   "id": "70cda722",
   "metadata": {},
   "source": [
    "The attempt to recreate the experiment fails."
   ]
  },
  {
   "cell_type": "code",
   "execution_count": 13,
   "id": "82acdf53",
   "metadata": {},
   "outputs": [
    {
     "name": "stdout",
     "output_type": "stream",
     "text": [
      "Experiment 'delete me' already exists in deleted state. You can restore the experiment, or permanently delete the experiment from the .trash folder (under tracking server's root folder) in order to use this experiment name again.\n"
     ]
    }
   ],
   "source": [
    "try:\n",
    "    mlflow.create_experiment(\"delete me\")\n",
    "except Exception as e:\n",
    "    print(e)"
   ]
  },
  {
   "cell_type": "markdown",
   "id": "5932c0a8",
   "metadata": {},
   "source": [
    "As `delete me` already exists but in **deleted state**."
   ]
  },
  {
   "cell_type": "markdown",
   "id": "703f83db",
   "metadata": {},
   "source": [
    "Deleted experiments are stored in a special place of the storage. In case of the local file system storage, it is the `.trash` folder."
   ]
  },
  {
   "cell_type": "code",
   "execution_count": null,
   "id": "0e8c57eb",
   "metadata": {},
   "outputs": [
    {
     "name": "stdout",
     "output_type": "stream",
     "text": [
      "692879448156854806\n"
     ]
    }
   ],
   "source": [
    "!ls /tmp/experiment/.trash"
   ]
  },
  {
   "cell_type": "markdown",
   "id": "6a7060cd",
   "metadata": {},
   "source": [
    "**Note** that the name of the folder in the `.trash` folder corresponds to the ID of the deleted experiment."
   ]
  },
  {
   "cell_type": "code",
   "execution_count": 19,
   "id": "c3e89ab9",
   "metadata": {},
   "outputs": [],
   "source": [
    "!rm -r /tmp/experiment/.trash/*"
   ]
  },
  {
   "cell_type": "markdown",
   "id": "7f7ea26f",
   "metadata": {},
   "source": [
    "After removing the experiment from the `.trash` folder, creating another experiment with the same name does not cause any issues."
   ]
  },
  {
   "cell_type": "code",
   "execution_count": 20,
   "id": "70c860a3",
   "metadata": {},
   "outputs": [
    {
     "data": {
      "text/plain": [
       "'673998879641046421'"
      ]
     },
     "execution_count": 20,
     "metadata": {},
     "output_type": "execute_result"
    }
   ],
   "source": [
    "mlflow.create_experiment(\"delete me\")"
   ]
  }
 ],
 "metadata": {
  "kernelspec": {
   "display_name": "python",
   "language": "python",
   "name": "python3"
  },
  "language_info": {
   "codemirror_mode": {
    "name": "ipython",
    "version": 3
   },
   "file_extension": ".py",
   "mimetype": "text/x-python",
   "name": "python",
   "nbconvert_exporter": "python",
   "pygments_lexer": "ipython3",
   "version": "3.13.7"
  }
 },
 "nbformat": 4,
 "nbformat_minor": 5
}
