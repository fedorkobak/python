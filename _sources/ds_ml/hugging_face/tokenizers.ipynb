{
 "cells": [
  {
   "cell_type": "markdown",
   "id": "dd188ad6",
   "metadata": {},
   "source": [
    "# Tokenizers\n",
    "\n",
    "This page discusses the details of working with the `tokenizers` package."
   ]
  },
  {
   "cell_type": "code",
   "execution_count": null,
   "id": "ccc48fdd",
   "metadata": {},
   "outputs": [],
   "source": [
    "from tokenizers import Tokenizer\n",
    "from tokenizers.models import BPE\n",
    "from tokenizers.trainers import BpeTrainer"
   ]
  },
  {
   "cell_type": "markdown",
   "id": "5f6ccce9",
   "metadata": {},
   "source": [
    "## Continuing subword  prefix\n",
    "\n",
    "`continuing_subword_prefix` is a parameter that defines the prefix added to tokens when a word is split into multiple subword tokens. It marks tokens that follow the initial token of a word."
   ]
  },
  {
   "cell_type": "markdown",
   "id": "632cd3f3",
   "metadata": {},
   "source": [
    "---\n",
    "\n",
    "The following cell builds the `tokenizer`. Note that the trainer passed `continuing_subword_prefix=\"##\"`."
   ]
  },
  {
   "cell_type": "code",
   "execution_count": 42,
   "id": "347bd4cd",
   "metadata": {},
   "outputs": [
    {
     "name": "stdout",
     "output_type": "stream",
     "text": [
      "\n",
      "\n",
      "\n"
     ]
    }
   ],
   "source": [
    "trainer = BpeTrainer(continuing_subword_prefix=\"##\", vocab_size=30)\n",
    "tokenizer = Tokenizer(BPE())\n",
    "tokenizer.train_from_iterator(\n",
    "    [\"doing\", \"sleeping\", \"resting\", \"reading\", \"running\"],\n",
    "    trainer=trainer\n",
    ")"
   ]
  },
  {
   "cell_type": "markdown",
   "id": "89796d8f",
   "metadata": {},
   "source": [
    "The next code shows the vocabulary of the tokenizer that was used."
   ]
  },
  {
   "cell_type": "code",
   "execution_count": 36,
   "id": "a0c2555e",
   "metadata": {},
   "outputs": [
    {
     "data": {
      "text/plain": [
       "{'t': 11,\n",
       " '##s': 18,\n",
       " 'i': 4,\n",
       " 'ru': 29,\n",
       " 'do': 28,\n",
       " '##l': 21,\n",
       " '##n': 14,\n",
       " '##d': 24,\n",
       " 'g': 3,\n",
       " '##g': 16,\n",
       " '##u': 13,\n",
       " '##ing': 26,\n",
       " 're': 27,\n",
       " 'p': 8,\n",
       " '##a': 23,\n",
       " 'u': 12,\n",
       " 'o': 7,\n",
       " '##o': 20,\n",
       " '##p': 22,\n",
       " '##t': 19,\n",
       " 'r': 9,\n",
       " 'd': 1,\n",
       " 'l': 5,\n",
       " '##ng': 25,\n",
       " 's': 10,\n",
       " '##i': 15,\n",
       " 'e': 2,\n",
       " 'a': 0,\n",
       " 'n': 6,\n",
       " '##e': 17}"
      ]
     },
     "execution_count": 36,
     "metadata": {},
     "output_type": "execute_result"
    }
   ],
   "source": [
    "tokenizer.get_vocab()"
   ]
  },
  {
   "cell_type": "markdown",
   "id": "043e1963",
   "metadata": {},
   "source": [
    "There are a versions of the tokens with a `##` prefix, which means that these tokens are supposed to follow another token. For example, the `##ing` token is a common sequence of the symbols that marks end of the unit. It never appears at the begining of any unit in the training courpus, so it must be added as a \"following\" token."
   ]
  },
  {
   "cell_type": "markdown",
   "id": "4692625f",
   "metadata": {},
   "source": [
    "The following cell applies a tokenizer to some specific words."
   ]
  },
  {
   "cell_type": "code",
   "execution_count": 34,
   "id": "806d13eb",
   "metadata": {},
   "outputs": [
    {
     "data": {
      "text/plain": [
       "['do', '##ing', 're', '##a', '##d', '##ing']"
      ]
     },
     "execution_count": 34,
     "metadata": {},
     "output_type": "execute_result"
    }
   ],
   "source": [
    "tokenizer.encode(\"doing\", \"reading\").tokens"
   ]
  },
  {
   "cell_type": "markdown",
   "id": "272750b3",
   "metadata": {},
   "source": [
    "As result:\n",
    "\n",
    "- `doing`: `do`, `#ing`.\n",
    "- `reading`: `re`, `##a`, `##d`, `##ing`."
   ]
  }
 ],
 "metadata": {
  "kernelspec": {
   "display_name": "python",
   "language": "python",
   "name": "python3"
  },
  "language_info": {
   "codemirror_mode": {
    "name": "ipython",
    "version": 3
   },
   "file_extension": ".py",
   "mimetype": "text/x-python",
   "name": "python",
   "nbconvert_exporter": "python",
   "pygments_lexer": "ipython3",
   "version": "3.13.7"
  }
 },
 "nbformat": 4,
 "nbformat_minor": 5
}
