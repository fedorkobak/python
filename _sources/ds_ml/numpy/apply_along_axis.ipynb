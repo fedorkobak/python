{
 "cells": [
  {
   "cell_type": "markdown",
   "id": "ec314972-fb6a-45c2-96af-5674bface1fb",
   "metadata": {},
   "source": [
    "# Apply along axis\n",
    "\n",
    "There is function `numpy.apply_along_axis`, this is function that allow to apply something along selected axis."
   ]
  },
  {
   "cell_type": "code",
   "execution_count": 12,
   "id": "93e59313-9fc8-4589-b93d-f3119c415fe4",
   "metadata": {},
   "outputs": [],
   "source": [
    "import numpy as np\n",
    "from scipy.spatial.distance import correlation"
   ]
  },
  {
   "cell_type": "markdown",
   "id": "f88e34d8-fea3-4eaf-846c-7d76900422c4",
   "metadata": {},
   "source": [
    "## Keep dimentions"
   ]
  },
  {
   "cell_type": "markdown",
   "id": "e3e01599-5189-4a83-8bbe-52cf15fdc7d6",
   "metadata": {},
   "source": [
    "This keepaxis function means that if you apply it to any column (`axis=0`), you'll get results as columns - it doesn't matter what shape the output is in."
   ]
  },
  {
   "cell_type": "markdown",
   "id": "21da3c08-bb59-4328-a3f3-dad3a33b0bd4",
   "metadata": {},
   "source": [
    "The following example shows how `numpy.apply_along_axis` will display the same output, but in the case of different `axis` options."
   ]
  },
  {
   "cell_type": "code",
   "execution_count": 32,
   "id": "85f9ed59-b0c4-4497-8899-5074b487be4a",
   "metadata": {},
   "outputs": [
    {
     "name": "stdout",
     "output_type": "stream",
     "text": [
      "=====axis0=====\n"
     ]
    },
    {
     "data": {
      "text/plain": [
       "array([[1, 1, 1],\n",
       "       [2, 2, 2],\n",
       "       [3, 3, 3]])"
      ]
     },
     "metadata": {},
     "output_type": "display_data"
    },
    {
     "name": "stdout",
     "output_type": "stream",
     "text": [
      "=====axis1=====\n"
     ]
    },
    {
     "data": {
      "text/plain": [
       "array([[1, 2, 3],\n",
       "       [1, 2, 3],\n",
       "       [1, 2, 3]])"
      ]
     },
     "metadata": {},
     "output_type": "display_data"
    }
   ],
   "source": [
    "print(\"=====axis0=====\")\n",
    "display(np.apply_along_axis(\n",
    "    func1d=lambda x: np.array([1,2,3]),\n",
    "    axis=0,\n",
    "    arr=np.zeros(shape=(3,3))\n",
    "))\n",
    "print(\"=====axis1=====\")\n",
    "display(np.apply_along_axis(\n",
    "    func1d=lambda x: np.array(np.array([1,2,3])),\n",
    "    axis=1,\n",
    "    arr=np.zeros(shape=(3,3))\n",
    "))"
   ]
  },
  {
   "cell_type": "markdown",
   "id": "0c9df616-28b2-469d-bd86-f16e247ca609",
   "metadata": {},
   "source": [
    "So in the case of `axis=0` the array was interpreted as columns and in the case of `axis=1` the array was interpreted as rows."
   ]
  },
  {
   "cell_type": "markdown",
   "id": "70451437-942f-486f-b460-f40150a127d7",
   "metadata": {},
   "source": [
    "## Combinations\n",
    "\n",
    "You can combine rows/columns of matrices in binary functions. The following examples use `numpy.apply_along_axis` to calculate correlations between rows/columns."
   ]
  },
  {
   "cell_type": "markdown",
   "id": "c8980ec1-78ff-4539-b982-d186109facf7",
   "metadata": {},
   "source": [
    "Here is an example that computes the matrix $\\left[r_{ij}\\right]$, where $r_{ij}$ is the Pearson correlation distance between the $i$-th row of `arr1` and the $j$-th row of `arr2`."
   ]
  },
  {
   "cell_type": "code",
   "execution_count": 13,
   "id": "f7e0a4a3-bb93-41b3-a6ac-43762cee47da",
   "metadata": {},
   "outputs": [
    {
     "data": {
      "text/plain": [
       "array([[0.5       , 1.        , 0.76095428],\n",
       "       [1.76525353, 1.42267702, 1.80166638]])"
      ]
     },
     "execution_count": 13,
     "metadata": {},
     "output_type": "execute_result"
    }
   ],
   "source": [
    "arr1 = np.array([\n",
    "    [10,20,30,20],\n",
    "    [30,10,22,13]\n",
    "])\n",
    "arr2 = np.array([\n",
    "    [0.1,0.2,0.2,0.3],\n",
    "    [0.3,0.3,0.3,0.7],\n",
    "    [0.1,0.3,0.2,0.5]\n",
    "])\n",
    "\n",
    "np.apply_along_axis(\n",
    "    func1d = lambda row1: np.apply_along_axis(\n",
    "        func1d=lambda row2: correlation(row1, row2),\n",
    "        axis=1, arr=arr2\n",
    "    ),\n",
    "    axis=1, arr=arr1\n",
    ")"
   ]
  },
  {
   "cell_type": "markdown",
   "id": "2fea1798-f924-4085-9e8a-6fba5c96a650",
   "metadata": {},
   "source": [
    "The following example shows a matrix $\\left[r_{i,j}\\right]$, where $r_{i,j}$ is the Pearson correlation coefficient between the $j$-th column of `arr1` and the $i$-th column of `arr2`. "
   ]
  },
  {
   "cell_type": "code",
   "execution_count": 17,
   "id": "75c8add3-6f68-425e-966b-10d8cb6b1425",
   "metadata": {},
   "outputs": [
    {
     "data": {
      "text/plain": [
       "array([[0.1339746 , 1.75592895, 1.80295507],\n",
       "       [1.        , 1.18898224, 1.11470787],\n",
       "       [0.        , 1.98198051, 1.99339927],\n",
       "       [0.09580557, 1.807183  , 1.84923193],\n",
       "       [1.        , 1.18898224, 1.11470787],\n",
       "       [1.8660254 , 0.05508882, 0.08233706]])"
      ]
     },
     "execution_count": 17,
     "metadata": {},
     "output_type": "execute_result"
    }
   ],
   "source": [
    "arr1 = np.array([\n",
    "    [10,20,30],\n",
    "    [30,10,22],\n",
    "    [30,12,23]\n",
    "])\n",
    "arr2 = np.array([\n",
    "    [0.1,0.2,0.2,0.3,0.4,0.3],\n",
    "    [0.3,0.3,0.3,0.7,0.5,0.1],\n",
    "    [0.5,0.1,0.3,  1,0.3,0.2]\n",
    "])\n",
    "\n",
    "np.apply_along_axis(\n",
    "    func1d = lambda row1: np.apply_along_axis(\n",
    "        func1d=lambda row2: correlation(row1, row2),\n",
    "        axis=0, arr=arr2\n",
    "    ),\n",
    "    axis=0, arr=arr1\n",
    ")"
   ]
  },
  {
   "cell_type": "markdown",
   "id": "caaa9c82-8f4a-4b7d-8a8f-a4ea41935f85",
   "metadata": {},
   "source": [
    "Here it can be a bit confusing that the result of the outer `np.apply_along_axis` is stored as columns. But this is explained by the fact that the function is applied by columns - that's why the result is by columns."
   ]
  }
 ],
 "metadata": {
  "kernelspec": {
   "display_name": "Python 3 (ipykernel)",
   "language": "python",
   "name": "python3"
  },
  "language_info": {
   "codemirror_mode": {
    "name": "ipython",
    "version": 3
   },
   "file_extension": ".py",
   "mimetype": "text/x-python",
   "name": "python",
   "nbconvert_exporter": "python",
   "pygments_lexer": "ipython3",
   "version": "3.10.12"
  }
 },
 "nbformat": 4,
 "nbformat_minor": 5
}
