{
 "cells": [
  {
   "cell_type": "markdown",
   "id": "ec9994b4-fff9-4ca3-afdb-5838e76c1eeb",
   "metadata": {},
   "source": [
    "# Styles"
   ]
  },
  {
   "cell_type": "markdown",
   "id": "4ff326c7-9fb3-40d1-92ca-a5aaa3eeac6d",
   "metadata": {},
   "source": [
    "It's useful to have ability to highlight some cells depending on their content. This page focuses on how to do this in pandas and how to display it in jupyter notebook. To get more examples check out [table visualisation on official pandas documentation](https://pandas.pydata.org/docs/user_guide/style.html#Table-Styles)."
   ]
  },
  {
   "cell_type": "code",
   "execution_count": 2,
   "id": "c28fa4b2-1630-47c4-b189-d7e0797e3b7f",
   "metadata": {},
   "outputs": [],
   "source": [
    "import numpy as np\n",
    "import pandas as pd"
   ]
  },
  {
   "cell_type": "markdown",
   "id": "5cc17197-d672-4545-8d68-f070ab4af51e",
   "metadata": {},
   "source": [
    "## `style.map`"
   ]
  },
  {
   "cell_type": "markdown",
   "id": "18055b90-e4a7-493b-a108-84fb4c264f92",
   "metadata": {},
   "source": [
    "It's quite common to highlight large values with one colour and small values with another. This can be achieved with `DataFrame.style.map`. You have to pass a callable that is executed for each cell - it takes it's value and returns a `str` that describes it's property."
   ]
  },
  {
   "cell_type": "markdown",
   "id": "74c72b2f",
   "metadata": {},
   "source": [
    "---\n",
    "\n",
    "The following example shows how values higher than 0.5 are coloured red and others green."
   ]
  },
  {
   "cell_type": "code",
   "execution_count": 4,
   "id": "3651e08b-f59c-4e14-95f3-f60a2a2415ba",
   "metadata": {},
   "outputs": [
    {
     "data": {
      "text/html": [
       "<style type=\"text/css\">\n",
       "#T_b9f06_row0_col0, #T_b9f06_row2_col1, #T_b9f06_row3_col1, #T_b9f06_row4_col1, #T_b9f06_row6_col0, #T_b9f06_row6_col1, #T_b9f06_row7_col0, #T_b9f06_row8_col0, #T_b9f06_row8_col1, #T_b9f06_row9_col1 {\n",
       "  background-color: red;\n",
       "}\n",
       "#T_b9f06_row0_col1, #T_b9f06_row1_col0, #T_b9f06_row1_col1, #T_b9f06_row2_col0, #T_b9f06_row3_col0, #T_b9f06_row4_col0, #T_b9f06_row5_col0, #T_b9f06_row5_col1, #T_b9f06_row7_col1, #T_b9f06_row9_col0 {\n",
       "  background-color: green;\n",
       "}\n",
       "</style>\n",
       "<table id=\"T_b9f06\">\n",
       "  <thead>\n",
       "    <tr>\n",
       "      <th class=\"blank level0\" >&nbsp;</th>\n",
       "      <th id=\"T_b9f06_level0_col0\" class=\"col_heading level0 col0\" >a</th>\n",
       "      <th id=\"T_b9f06_level0_col1\" class=\"col_heading level0 col1\" >b</th>\n",
       "    </tr>\n",
       "  </thead>\n",
       "  <tbody>\n",
       "    <tr>\n",
       "      <th id=\"T_b9f06_level0_row0\" class=\"row_heading level0 row0\" >0</th>\n",
       "      <td id=\"T_b9f06_row0_col0\" class=\"data row0 col0\" >0.226920</td>\n",
       "      <td id=\"T_b9f06_row0_col1\" class=\"data row0 col1\" >0.928350</td>\n",
       "    </tr>\n",
       "    <tr>\n",
       "      <th id=\"T_b9f06_level0_row1\" class=\"row_heading level0 row1\" >1</th>\n",
       "      <td id=\"T_b9f06_row1_col0\" class=\"data row1 col0\" >0.616279</td>\n",
       "      <td id=\"T_b9f06_row1_col1\" class=\"data row1 col1\" >0.656896</td>\n",
       "    </tr>\n",
       "    <tr>\n",
       "      <th id=\"T_b9f06_level0_row2\" class=\"row_heading level0 row2\" >2</th>\n",
       "      <td id=\"T_b9f06_row2_col0\" class=\"data row2 col0\" >0.843329</td>\n",
       "      <td id=\"T_b9f06_row2_col1\" class=\"data row2 col1\" >0.346096</td>\n",
       "    </tr>\n",
       "    <tr>\n",
       "      <th id=\"T_b9f06_level0_row3\" class=\"row_heading level0 row3\" >3</th>\n",
       "      <td id=\"T_b9f06_row3_col0\" class=\"data row3 col0\" >0.742186</td>\n",
       "      <td id=\"T_b9f06_row3_col1\" class=\"data row3 col1\" >0.490360</td>\n",
       "    </tr>\n",
       "    <tr>\n",
       "      <th id=\"T_b9f06_level0_row4\" class=\"row_heading level0 row4\" >4</th>\n",
       "      <td id=\"T_b9f06_row4_col0\" class=\"data row4 col0\" >0.526169</td>\n",
       "      <td id=\"T_b9f06_row4_col1\" class=\"data row4 col1\" >0.478509</td>\n",
       "    </tr>\n",
       "    <tr>\n",
       "      <th id=\"T_b9f06_level0_row5\" class=\"row_heading level0 row5\" >5</th>\n",
       "      <td id=\"T_b9f06_row5_col0\" class=\"data row5 col0\" >0.850815</td>\n",
       "      <td id=\"T_b9f06_row5_col1\" class=\"data row5 col1\" >0.920514</td>\n",
       "    </tr>\n",
       "    <tr>\n",
       "      <th id=\"T_b9f06_level0_row6\" class=\"row_heading level0 row6\" >6</th>\n",
       "      <td id=\"T_b9f06_row6_col0\" class=\"data row6 col0\" >0.142186</td>\n",
       "      <td id=\"T_b9f06_row6_col1\" class=\"data row6 col1\" >0.083970</td>\n",
       "    </tr>\n",
       "    <tr>\n",
       "      <th id=\"T_b9f06_level0_row7\" class=\"row_heading level0 row7\" >7</th>\n",
       "      <td id=\"T_b9f06_row7_col0\" class=\"data row7 col0\" >0.223666</td>\n",
       "      <td id=\"T_b9f06_row7_col1\" class=\"data row7 col1\" >0.769463</td>\n",
       "    </tr>\n",
       "    <tr>\n",
       "      <th id=\"T_b9f06_level0_row8\" class=\"row_heading level0 row8\" >8</th>\n",
       "      <td id=\"T_b9f06_row8_col0\" class=\"data row8 col0\" >0.277761</td>\n",
       "      <td id=\"T_b9f06_row8_col1\" class=\"data row8 col1\" >0.451426</td>\n",
       "    </tr>\n",
       "    <tr>\n",
       "      <th id=\"T_b9f06_level0_row9\" class=\"row_heading level0 row9\" >9</th>\n",
       "      <td id=\"T_b9f06_row9_col0\" class=\"data row9 col0\" >0.782243</td>\n",
       "      <td id=\"T_b9f06_row9_col1\" class=\"data row9 col1\" >0.078029</td>\n",
       "    </tr>\n",
       "  </tbody>\n",
       "</table>\n"
      ],
      "text/plain": [
       "<pandas.io.formats.style.Styler at 0x7beabd8f3160>"
      ]
     },
     "execution_count": 4,
     "metadata": {},
     "output_type": "execute_result"
    }
   ],
   "source": [
    "sample_size = 10\n",
    "\n",
    "def color_map(val):\n",
    "    color = 'green' if val > 0.5 else 'red'\n",
    "    return f'background-color: {color}'\n",
    "\n",
    "pd.DataFrame({\n",
    "    \"a\" : np.random.rand(sample_size),\n",
    "    \"b\" : np.random.rand(sample_size)\n",
    "}).style.map(color_map)"
   ]
  },
  {
   "cell_type": "markdown",
   "id": "a018818c",
   "metadata": {},
   "source": [
    "## Gradients\n",
    "\n",
    "With `Style.background_gradient`, you can gradually change the background color of the cell, and with `Style.text_gradient`, you can apply a gradient effect to the text color within the cell."
   ]
  },
  {
   "cell_type": "markdown",
   "id": "9aec85a3",
   "metadata": {},
   "source": [
    "---\n",
    "\n",
    "The following cell demonstrates the application of these tools to the Pandas dataframe."
   ]
  },
  {
   "cell_type": "code",
   "execution_count": 22,
   "id": "b1ab2886",
   "metadata": {},
   "outputs": [
    {
     "data": {
      "text/html": [
       "<style type=\"text/css\">\n",
       "#T_a3578_row0_col0 {\n",
       "  background-color: #a50026;\n",
       "  color: #f1f1f1;\n",
       "}\n",
       "#T_a3578_row0_col1 {\n",
       "  color: #045e94;\n",
       "}\n",
       "#T_a3578_row1_col0 {\n",
       "  background-color: #bb1526;\n",
       "  color: #f1f1f1;\n",
       "}\n",
       "#T_a3578_row1_col1 {\n",
       "  color: #023858;\n",
       "}\n",
       "#T_a3578_row2_col0 {\n",
       "  background-color: #d42d27;\n",
       "  color: #f1f1f1;\n",
       "}\n",
       "#T_a3578_row2_col1 {\n",
       "  color: #fff7fb;\n",
       "}\n",
       "#T_a3578_row3_col0 {\n",
       "  background-color: #f57547;\n",
       "  color: #f1f1f1;\n",
       "}\n",
       "#T_a3578_row3_col1 {\n",
       "  color: #046096;\n",
       "}\n",
       "#T_a3578_row4_col0 {\n",
       "  background-color: #f67f4b;\n",
       "  color: #f1f1f1;\n",
       "}\n",
       "#T_a3578_row4_col1 {\n",
       "  color: #e7e3f0;\n",
       "}\n",
       "#T_a3578_row5_col0 {\n",
       "  background-color: #f2faae;\n",
       "  color: #000000;\n",
       "}\n",
       "#T_a3578_row5_col1 {\n",
       "  color: #d9d8ea;\n",
       "}\n",
       "#T_a3578_row6_col0 {\n",
       "  background-color: #b5df74;\n",
       "  color: #000000;\n",
       "}\n",
       "#T_a3578_row6_col1 {\n",
       "  color: #328dbf;\n",
       "}\n",
       "#T_a3578_row7_col0 {\n",
       "  background-color: #91d068;\n",
       "  color: #000000;\n",
       "}\n",
       "#T_a3578_row7_col1 {\n",
       "  color: #b3c3de;\n",
       "}\n",
       "#T_a3578_row8_col0 {\n",
       "  background-color: #04703b;\n",
       "  color: #f1f1f1;\n",
       "}\n",
       "#T_a3578_row8_col1 {\n",
       "  color: #f7f0f7;\n",
       "}\n",
       "#T_a3578_row9_col0 {\n",
       "  background-color: #006837;\n",
       "  color: #f1f1f1;\n",
       "}\n",
       "#T_a3578_row9_col1 {\n",
       "  color: #d7d6e9;\n",
       "}\n",
       "</style>\n",
       "<table id=\"T_a3578\">\n",
       "  <thead>\n",
       "    <tr>\n",
       "      <th class=\"blank level0\" >&nbsp;</th>\n",
       "      <th id=\"T_a3578_level0_col0\" class=\"col_heading level0 col0\" >a</th>\n",
       "      <th id=\"T_a3578_level0_col1\" class=\"col_heading level0 col1\" >b</th>\n",
       "    </tr>\n",
       "  </thead>\n",
       "  <tbody>\n",
       "    <tr>\n",
       "      <th id=\"T_a3578_level0_row0\" class=\"row_heading level0 row0\" >3</th>\n",
       "      <td id=\"T_a3578_row0_col0\" class=\"data row0 col0\" >0.001426</td>\n",
       "      <td id=\"T_a3578_row0_col1\" class=\"data row0 col1\" >0.846427</td>\n",
       "    </tr>\n",
       "    <tr>\n",
       "      <th id=\"T_a3578_level0_row1\" class=\"row_heading level0 row1\" >5</th>\n",
       "      <td id=\"T_a3578_row1_col0\" class=\"data row1 col0\" >0.045175</td>\n",
       "      <td id=\"T_a3578_row1_col1\" class=\"data row1 col1\" >0.992176</td>\n",
       "    </tr>\n",
       "    <tr>\n",
       "      <th id=\"T_a3578_level0_row2\" class=\"row_heading level0 row2\" >1</th>\n",
       "      <td id=\"T_a3578_row2_col0\" class=\"data row2 col0\" >0.096464</td>\n",
       "      <td id=\"T_a3578_row2_col1\" class=\"data row2 col1\" >0.024943</td>\n",
       "    </tr>\n",
       "    <tr>\n",
       "      <th id=\"T_a3578_level0_row3\" class=\"row_heading level0 row3\" >7</th>\n",
       "      <td id=\"T_a3578_row3_col0\" class=\"data row3 col0\" >0.207873</td>\n",
       "      <td id=\"T_a3578_row3_col1\" class=\"data row3 col1\" >0.840228</td>\n",
       "    </tr>\n",
       "    <tr>\n",
       "      <th id=\"T_a3578_level0_row4\" class=\"row_heading level0 row4\" >0</th>\n",
       "      <td id=\"T_a3578_row4_col0\" class=\"data row4 col0\" >0.225465</td>\n",
       "      <td id=\"T_a3578_row4_col1\" class=\"data row4 col1\" >0.166648</td>\n",
       "    </tr>\n",
       "    <tr>\n",
       "      <th id=\"T_a3578_level0_row5\" class=\"row_heading level0 row5\" >8</th>\n",
       "      <td id=\"T_a3578_row5_col0\" class=\"data row5 col0\" >0.523759</td>\n",
       "      <td id=\"T_a3578_row5_col1\" class=\"data row5 col1\" >0.229616</td>\n",
       "    </tr>\n",
       "    <tr>\n",
       "      <th id=\"T_a3578_level0_row6\" class=\"row_heading level0 row6\" >2</th>\n",
       "      <td id=\"T_a3578_row6_col0\" class=\"data row6 col0\" >0.654663</td>\n",
       "      <td id=\"T_a3578_row6_col1\" class=\"data row6 col1\" >0.639400</td>\n",
       "    </tr>\n",
       "    <tr>\n",
       "      <th id=\"T_a3578_level0_row7\" class=\"row_heading level0 row7\" >4</th>\n",
       "      <td id=\"T_a3578_row7_col0\" class=\"data row7 col0\" >0.718397</td>\n",
       "      <td id=\"T_a3578_row7_col1\" class=\"data row7 col1\" >0.352168</td>\n",
       "    </tr>\n",
       "    <tr>\n",
       "      <th id=\"T_a3578_level0_row8\" class=\"row_heading level0 row8\" >9</th>\n",
       "      <td id=\"T_a3578_row8_col0\" class=\"data row8 col0\" >0.962090</td>\n",
       "      <td id=\"T_a3578_row8_col1\" class=\"data row8 col1\" >0.081076</td>\n",
       "    </tr>\n",
       "    <tr>\n",
       "      <th id=\"T_a3578_level0_row9\" class=\"row_heading level0 row9\" >6</th>\n",
       "      <td id=\"T_a3578_row9_col0\" class=\"data row9 col0\" >0.978666</td>\n",
       "      <td id=\"T_a3578_row9_col1\" class=\"data row9 col1\" >0.238494</td>\n",
       "    </tr>\n",
       "  </tbody>\n",
       "</table>\n"
      ],
      "text/plain": [
       "<pandas.io.formats.style.Styler at 0x7e52097428c0>"
      ]
     },
     "execution_count": 22,
     "metadata": {},
     "output_type": "execute_result"
    }
   ],
   "source": [
    "sample_size = 10\n",
    "\n",
    "df = pd.DataFrame({\n",
    "    \"a\" : np.random.rand(sample_size),\n",
    "    \"b\" : np.random.rand(sample_size)\n",
    "})\n",
    "\n",
    "(\n",
    "    df.sort_values(\"a\").style\n",
    "    .background_gradient(axis=0, cmap=\"RdYlGn\", subset=[\"a\"])\n",
    "    .text_gradient(axis=0, subset=\"b\")\n",
    ")"
   ]
  }
 ],
 "metadata": {
  "kernelspec": {
   "display_name": "Python 3",
   "language": "python",
   "name": "python3"
  },
  "language_info": {
   "codemirror_mode": {
    "name": "ipython",
    "version": 3
   },
   "file_extension": ".py",
   "mimetype": "text/x-python",
   "name": "python",
   "nbconvert_exporter": "python",
   "pygments_lexer": "ipython3",
   "version": "3.10.12"
  }
 },
 "nbformat": 4,
 "nbformat_minor": 5
}
