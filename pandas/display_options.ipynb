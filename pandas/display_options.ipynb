{
 "cells": [
  {
   "cell_type": "markdown",
   "id": "1b31b11a-a6ba-4f4f-97b1-8be473349303",
   "metadata": {},
   "source": [
    "# Display options\n",
    "\n",
    "Here is discussed options to set up pandas displayment in jupyter notebooks."
   ]
  },
  {
   "cell_type": "code",
   "execution_count": 36,
   "id": "78d70546-6625-430a-8793-471ed7ccd883",
   "metadata": {},
   "outputs": [],
   "source": [
    "import numpy as np\n",
    "import pandas as pd\n",
    "from IPython.display import HTML"
   ]
  },
  {
   "cell_type": "markdown",
   "id": "c7f4a137-05f7-49db-a3a1-908e1d96d47f",
   "metadata": {},
   "source": [
    "## My seetings\n",
    "\n",
    "Now I'm using the following settings to set up the display of pandas. So you can just copy/paste it.\n",
    "\n",
    "```python\n",
    "pd.set_option(\"display.max_rows\", 1000)\n",
    "pd.set_option(\"display.max_columns\", 1000)\n",
    "pd.set_option(\"display.float_format\", \"{:.3f}\".format)\n",
    "```"
   ]
  },
  {
   "cell_type": "markdown",
   "id": "0bcb260d-d16e-4d63-a2b6-57249a227086",
   "metadata": {},
   "source": [
    "## Interfaces\n",
    "\n",
    "You can access the `pandas` display options via the `pandas.options.display` path. So in the following cell are displayed default falue for some ojects."
   ]
  },
  {
   "cell_type": "code",
   "execution_count": 19,
   "id": "19d9b05c-ce0f-4ad8-9b59-d5d1e0180733",
   "metadata": {},
   "outputs": [
    {
     "name": "stdout",
     "output_type": "stream",
     "text": [
      "float_format None\n",
      "max_columns 20\n",
      "max_rows 60\n"
     ]
    }
   ],
   "source": [
    "print(\"float_format\", pd.options.display.float_format)\n",
    "print(\"max_columns\", pd.options.display.max_columns)\n",
    "print(\"max_rows\", pd.options.display.max_rows)"
   ]
  },
  {
   "cell_type": "markdown",
   "id": "7679a38a-4e4c-4f39-a243-777a04e64710",
   "metadata": {},
   "source": [
    "Through `pandas.set_option(\"display.<property>\", <value>)` you can setup values for options. The following example shows how `rax_rows` can be setted up with this expression."
   ]
  },
  {
   "cell_type": "code",
   "execution_count": 22,
   "id": "5622a060-1031-46da-b5de-b835dfa5e9b5",
   "metadata": {},
   "outputs": [
    {
     "name": "stdout",
     "output_type": "stream",
     "text": [
      "max_rows 10\n"
     ]
    }
   ],
   "source": [
    "pd.set_option(\"display.max_rows\", 10)\n",
    "print(\"max_rows\", pd.options.display.max_rows)\n",
    "pd.options.display.max_rows = 60"
   ]
  },
  {
   "cell_type": "markdown",
   "id": "e661b0ad-f4f1-46e3-b8fd-ca8566492271",
   "metadata": {},
   "source": [
    "## `float_format`\n",
    "\n",
    "Allows to set up the format of the float outputs.\n",
    "\n",
    "The following example illustrates how a single value, with an extremely small number, can convert all columns into scientific notation. However, by using the `pd.set_option('display.float_format', \"{:.3f}\".format)` function, it will display all numbers in standard notation with only three digits after the decimal point."
   ]
  },
  {
   "cell_type": "code",
   "execution_count": 40,
   "id": "374d77fe-4ff1-4b0d-92e9-9235319553d4",
   "metadata": {},
   "outputs": [
    {
     "data": {
      "text/html": [
       "<p style='font-size:17px'>Default</p>"
      ],
      "text/plain": [
       "<IPython.core.display.HTML object>"
      ]
     },
     "metadata": {},
     "output_type": "display_data"
    },
    {
     "data": {
      "text/html": [
       "<div>\n",
       "<style scoped>\n",
       "    .dataframe tbody tr th:only-of-type {\n",
       "        vertical-align: middle;\n",
       "    }\n",
       "\n",
       "    .dataframe tbody tr th {\n",
       "        vertical-align: top;\n",
       "    }\n",
       "\n",
       "    .dataframe thead th {\n",
       "        text-align: right;\n",
       "    }\n",
       "</style>\n",
       "<table border=\"1\" class=\"dataframe\">\n",
       "  <thead>\n",
       "    <tr style=\"text-align: right;\">\n",
       "      <th></th>\n",
       "      <th>0</th>\n",
       "      <th>1</th>\n",
       "    </tr>\n",
       "  </thead>\n",
       "  <tbody>\n",
       "    <tr>\n",
       "      <th>0</th>\n",
       "      <td>1.000000e-10</td>\n",
       "      <td>0.020752</td>\n",
       "    </tr>\n",
       "    <tr>\n",
       "      <th>1</th>\n",
       "      <td>6.336482e-01</td>\n",
       "      <td>0.748804</td>\n",
       "    </tr>\n",
       "    <tr>\n",
       "      <th>2</th>\n",
       "      <td>4.985070e-01</td>\n",
       "      <td>0.224797</td>\n",
       "    </tr>\n",
       "    <tr>\n",
       "      <th>3</th>\n",
       "      <td>1.980629e-01</td>\n",
       "      <td>0.760531</td>\n",
       "    </tr>\n",
       "    <tr>\n",
       "      <th>4</th>\n",
       "      <td>1.691108e-01</td>\n",
       "      <td>0.088340</td>\n",
       "    </tr>\n",
       "    <tr>\n",
       "      <th>5</th>\n",
       "      <td>6.853598e-01</td>\n",
       "      <td>0.953393</td>\n",
       "    </tr>\n",
       "    <tr>\n",
       "      <th>6</th>\n",
       "      <td>3.948266e-03</td>\n",
       "      <td>0.512192</td>\n",
       "    </tr>\n",
       "    <tr>\n",
       "      <th>7</th>\n",
       "      <td>8.126210e-01</td>\n",
       "      <td>0.612526</td>\n",
       "    </tr>\n",
       "    <tr>\n",
       "      <th>8</th>\n",
       "      <td>7.217553e-01</td>\n",
       "      <td>0.291876</td>\n",
       "    </tr>\n",
       "    <tr>\n",
       "      <th>9</th>\n",
       "      <td>9.177741e-01</td>\n",
       "      <td>0.714576</td>\n",
       "    </tr>\n",
       "  </tbody>\n",
       "</table>\n",
       "</div>"
      ],
      "text/plain": [
       "              0         1\n",
       "0  1.000000e-10  0.020752\n",
       "1  6.336482e-01  0.748804\n",
       "2  4.985070e-01  0.224797\n",
       "3  1.980629e-01  0.760531\n",
       "4  1.691108e-01  0.088340\n",
       "5  6.853598e-01  0.953393\n",
       "6  3.948266e-03  0.512192\n",
       "7  8.126210e-01  0.612526\n",
       "8  7.217553e-01  0.291876\n",
       "9  9.177741e-01  0.714576"
      ]
     },
     "metadata": {},
     "output_type": "display_data"
    },
    {
     "data": {
      "text/html": [
       "<p style='font-size:17px'>Format</p>"
      ],
      "text/plain": [
       "<IPython.core.display.HTML object>"
      ]
     },
     "metadata": {},
     "output_type": "display_data"
    },
    {
     "data": {
      "text/html": [
       "<div>\n",
       "<style scoped>\n",
       "    .dataframe tbody tr th:only-of-type {\n",
       "        vertical-align: middle;\n",
       "    }\n",
       "\n",
       "    .dataframe tbody tr th {\n",
       "        vertical-align: top;\n",
       "    }\n",
       "\n",
       "    .dataframe thead th {\n",
       "        text-align: right;\n",
       "    }\n",
       "</style>\n",
       "<table border=\"1\" class=\"dataframe\">\n",
       "  <thead>\n",
       "    <tr style=\"text-align: right;\">\n",
       "      <th></th>\n",
       "      <th>0</th>\n",
       "      <th>1</th>\n",
       "    </tr>\n",
       "  </thead>\n",
       "  <tbody>\n",
       "    <tr>\n",
       "      <th>0</th>\n",
       "      <td>0.000</td>\n",
       "      <td>0.021</td>\n",
       "    </tr>\n",
       "    <tr>\n",
       "      <th>1</th>\n",
       "      <td>0.634</td>\n",
       "      <td>0.749</td>\n",
       "    </tr>\n",
       "    <tr>\n",
       "      <th>2</th>\n",
       "      <td>0.499</td>\n",
       "      <td>0.225</td>\n",
       "    </tr>\n",
       "    <tr>\n",
       "      <th>3</th>\n",
       "      <td>0.198</td>\n",
       "      <td>0.761</td>\n",
       "    </tr>\n",
       "    <tr>\n",
       "      <th>4</th>\n",
       "      <td>0.169</td>\n",
       "      <td>0.088</td>\n",
       "    </tr>\n",
       "    <tr>\n",
       "      <th>5</th>\n",
       "      <td>0.685</td>\n",
       "      <td>0.953</td>\n",
       "    </tr>\n",
       "    <tr>\n",
       "      <th>6</th>\n",
       "      <td>0.004</td>\n",
       "      <td>0.512</td>\n",
       "    </tr>\n",
       "    <tr>\n",
       "      <th>7</th>\n",
       "      <td>0.813</td>\n",
       "      <td>0.613</td>\n",
       "    </tr>\n",
       "    <tr>\n",
       "      <th>8</th>\n",
       "      <td>0.722</td>\n",
       "      <td>0.292</td>\n",
       "    </tr>\n",
       "    <tr>\n",
       "      <th>9</th>\n",
       "      <td>0.918</td>\n",
       "      <td>0.715</td>\n",
       "    </tr>\n",
       "  </tbody>\n",
       "</table>\n",
       "</div>"
      ],
      "text/plain": [
       "      0     1\n",
       "0 0.000 0.021\n",
       "1 0.634 0.749\n",
       "2 0.499 0.225\n",
       "3 0.198 0.761\n",
       "4 0.169 0.088\n",
       "5 0.685 0.953\n",
       "6 0.004 0.512\n",
       "7 0.813 0.613\n",
       "8 0.722 0.292\n",
       "9 0.918 0.715"
      ]
     },
     "metadata": {},
     "output_type": "display_data"
    }
   ],
   "source": [
    "np.random.seed(10)\n",
    "show_frame = pd.DataFrame(\n",
    "    np.random.rand(10, 2)\n",
    ")\n",
    "show_frame.iloc[0,0] = 10**(-10)\n",
    "\n",
    "display(HTML(\"<p style='font-size:17px'>Default</p>\"))\n",
    "display(show_frame)\n",
    "display(HTML(\"<p style='font-size:17px'>Format</p>\"))\n",
    "pd.set_option('display.float_format', \"{:.3f}\".format)\n",
    "display(show_frame)\n",
    "# returning default value\n",
    "pd.set_option('display.float_format', None)"
   ]
  }
 ],
 "metadata": {
  "kernelspec": {
   "display_name": "Python 3 (ipykernel)",
   "language": "python",
   "name": "python3"
  },
  "language_info": {
   "codemirror_mode": {
    "name": "ipython",
    "version": 3
   },
   "file_extension": ".py",
   "mimetype": "text/x-python",
   "name": "python",
   "nbconvert_exporter": "python",
   "pygments_lexer": "ipython3",
   "version": "3.10.12"
  }
 },
 "nbformat": 4,
 "nbformat_minor": 5
}
