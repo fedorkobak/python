{
 "cells": [
  {
   "cell_type": "markdown",
   "id": "a4e18171-64f2-4c77-a398-735e07225cd7",
   "metadata": {},
   "source": [
    "# Groupby\n",
    "\n",
    "`pd.DataFrame.groupby` is a very useful tool, but sometimes working with it can be a bit confusing. So in this page I want to pay more attention to some functions and cases.\n",
    "\n",
    "The most useful page for learning is <a href=\"https://pandas.pydata.org/docs/reference/groupby.html\">GroupBy object in pandas documentation</a>."
   ]
  },
  {
   "cell_type": "code",
   "execution_count": 1,
   "id": "147a5989",
   "metadata": {},
   "outputs": [],
   "source": [
    "import pandas as pd\n",
    "from IPython.display import HTML"
   ]
  },
  {
   "cell_type": "markdown",
   "id": "28170813-2825-48ab-b4b6-ff02ec24cffe",
   "metadata": {},
   "source": [
    "## `groupby` parameters\n",
    "\n",
    "Here are described general parameters of the `groupby` method, that affect the result regardless of the specific transformations.\n",
    "\n",
    "| Argument     | Description                                                                                                                                                   |\n",
    "| ------------ | ------------------------------------------------------------------------------------------------------------------------------------------------------------- |\n",
    "| `by`         | Mapping, function, label, or list of labels. What to group by (e.g., a column name, a list of column names, or a function to transform the index or columns). |\n",
    "| `axis`       | `{0 or ‘index’, 1 or ‘columns’}`, default `0`. Whether to group rows (`0`) or columns (`1`).                                                                  |\n",
    "| `level`      | If the axis is a MultiIndex, group by a specific level or levels.                                                                                             |\n",
    "| `as_index`   | `bool`, default `True`. If `True`, the group labels become the index; if `False`, they remain columns.                                                        |\n",
    "| `sort`       | `bool`, default `True`. Sort group keys.                                                                                                                      |\n",
    "| `group_keys` | `bool`, default `True`. If `True`, adds the group keys to the result index.                                                                                   |\n",
    "| `observed`   | `bool`, default `False`. For categorical groupers: if `True`, only show observed groups.                                                                      |\n",
    "| `dropna`     | `bool`, default `True`. If `True`, do not include groups whose key is `NaN`.                                                                                  |\n",
    "\n",
    "Check some description for some of them in the [corresponding page](groupby/groupby_parameters.ipynb)."
   ]
  },
  {
   "cell_type": "markdown",
   "id": "c1dd2a90",
   "metadata": {},
   "source": [
    "## Usage options\n",
    "\n",
    "This section considers ways to compute things over groups and practical ways to overate with \"gropby\" objects. \n",
    "\n",
    "| **Method**                                                           | **Description**                                            | **Example**                                                    |\n",
    "| -------------------------------------------------------------------- | ---------------------------------------------------------- | -------------------------------------------------------------- |\n",
    "| `agg` / `aggregate`                                                  | Apply one or more aggregation functions.                   | `df.groupby('team').agg({'points': 'sum', 'assists': 'mean'})` |\n",
    "| `apply`                                                              | Apply any custom function to each group.                   | `df.groupby('team').apply(lambda g: g.head(1))`                |\n",
    "| `transform`                                                          | Return same-shaped output with function applied per group. | `df['mean'] = df.groupby('team')['points'].transform('mean')`  |\n",
    "| `filter`                                                             | Filter groups based on a condition.                        | `df.groupby('team').filter(lambda g: g['points'].mean() > 15)` |\n",
    "| `get_group`                                                          | Extract a single group by key.                             | `df.groupby('team').get_group('A')`                            |\n",
    "| `expanding` | Create an expanding window for each group — like cumulative operations but allows applying other functions too. | `df.groupby('team')['points'].expanding().mean()` |\n",
    "\n",
    "\n",
    "Check more details on the [corresponding page](groupby/usage_options.ipynb)."
   ]
  },
  {
   "cell_type": "markdown",
   "id": "40aab34d",
   "metadata": {},
   "source": [
    "---\n",
    "\n",
    "The following cell defines the `groupby` object that will be used by all the following examples to make sure there are only different ways to use the same tool."
   ]
  },
  {
   "cell_type": "code",
   "execution_count": null,
   "id": "f49fb1ae",
   "metadata": {},
   "outputs": [],
   "source": [
    "basic_frame = pd.DataFrame({\n",
    "    'A': ['a', 'a', 'b', 'b', 'c', 'c'],\n",
    "    'B': [2, 1, 3, 4, 6, 5],\n",
    "    'C': [10, 20, 30, 40, 50, 60]\n",
    "})\n",
    "gb = basic_frame.groupby(\"A\")"
   ]
  },
  {
   "cell_type": "markdown",
   "id": "3127fe7b",
   "metadata": {},
   "source": [
    "Classic option - just apply the function from the `groupby` object:"
   ]
  },
  {
   "cell_type": "code",
   "execution_count": null,
   "id": "4d3908c3",
   "metadata": {},
   "outputs": [
    {
     "data": {
      "text/html": [
       "<div>\n",
       "<style scoped>\n",
       "    .dataframe tbody tr th:only-of-type {\n",
       "        vertical-align: middle;\n",
       "    }\n",
       "\n",
       "    .dataframe tbody tr th {\n",
       "        vertical-align: top;\n",
       "    }\n",
       "\n",
       "    .dataframe thead th {\n",
       "        text-align: right;\n",
       "    }\n",
       "</style>\n",
       "<table border=\"1\" class=\"dataframe\">\n",
       "  <thead>\n",
       "    <tr style=\"text-align: right;\">\n",
       "      <th></th>\n",
       "      <th>B</th>\n",
       "      <th>C</th>\n",
       "    </tr>\n",
       "    <tr>\n",
       "      <th>A</th>\n",
       "      <th></th>\n",
       "      <th></th>\n",
       "    </tr>\n",
       "  </thead>\n",
       "  <tbody>\n",
       "    <tr>\n",
       "      <th>a</th>\n",
       "      <td>3</td>\n",
       "      <td>30</td>\n",
       "    </tr>\n",
       "    <tr>\n",
       "      <th>b</th>\n",
       "      <td>7</td>\n",
       "      <td>70</td>\n",
       "    </tr>\n",
       "    <tr>\n",
       "      <th>c</th>\n",
       "      <td>11</td>\n",
       "      <td>110</td>\n",
       "    </tr>\n",
       "  </tbody>\n",
       "</table>\n",
       "</div>"
      ],
      "text/plain": [
       "    B    C\n",
       "A         \n",
       "a   3   30\n",
       "b   7   70\n",
       "c  11  110"
      ]
     },
     "execution_count": 35,
     "metadata": {},
     "output_type": "execute_result"
    }
   ],
   "source": [
    "gb.sum()"
   ]
  },
  {
   "cell_type": "markdown",
   "id": "d8211597",
   "metadata": {},
   "source": [
    "Iterating over the `groupby` object allows you to work with subsets that correspond to the particular group."
   ]
  },
  {
   "cell_type": "code",
   "execution_count": 33,
   "id": "9cdc7e5d",
   "metadata": {},
   "outputs": [
    {
     "data": {
      "text/html": [
       "<div>\n",
       "<style scoped>\n",
       "    .dataframe tbody tr th:only-of-type {\n",
       "        vertical-align: middle;\n",
       "    }\n",
       "\n",
       "    .dataframe tbody tr th {\n",
       "        vertical-align: top;\n",
       "    }\n",
       "\n",
       "    .dataframe thead th {\n",
       "        text-align: right;\n",
       "    }\n",
       "</style>\n",
       "<table border=\"1\" class=\"dataframe\">\n",
       "  <thead>\n",
       "    <tr style=\"text-align: right;\">\n",
       "      <th></th>\n",
       "      <th>a</th>\n",
       "      <th>b</th>\n",
       "      <th>c</th>\n",
       "    </tr>\n",
       "  </thead>\n",
       "  <tbody>\n",
       "    <tr>\n",
       "      <th>A</th>\n",
       "      <td>aa</td>\n",
       "      <td>bb</td>\n",
       "      <td>cc</td>\n",
       "    </tr>\n",
       "    <tr>\n",
       "      <th>B</th>\n",
       "      <td>3</td>\n",
       "      <td>7</td>\n",
       "      <td>11</td>\n",
       "    </tr>\n",
       "    <tr>\n",
       "      <th>C</th>\n",
       "      <td>30</td>\n",
       "      <td>70</td>\n",
       "      <td>110</td>\n",
       "    </tr>\n",
       "  </tbody>\n",
       "</table>\n",
       "</div>"
      ],
      "text/plain": [
       "    a   b    c\n",
       "A  aa  bb   cc\n",
       "B   3   7   11\n",
       "C  30  70  110"
      ]
     },
     "execution_count": 33,
     "metadata": {},
     "output_type": "execute_result"
    }
   ],
   "source": [
    "pd.DataFrame({sub_frame[0]: sub_frame[1].sum() for sub_frame in gb})"
   ]
  },
  {
   "cell_type": "markdown",
   "id": "879acbae",
   "metadata": {},
   "source": [
    "The `agg` method allows to set a separate transformation for each column by dictionary."
   ]
  },
  {
   "cell_type": "code",
   "execution_count": 39,
   "id": "1262aa58",
   "metadata": {},
   "outputs": [
    {
     "data": {
      "text/html": [
       "<div>\n",
       "<style scoped>\n",
       "    .dataframe tbody tr th:only-of-type {\n",
       "        vertical-align: middle;\n",
       "    }\n",
       "\n",
       "    .dataframe tbody tr th {\n",
       "        vertical-align: top;\n",
       "    }\n",
       "\n",
       "    .dataframe thead th {\n",
       "        text-align: right;\n",
       "    }\n",
       "</style>\n",
       "<table border=\"1\" class=\"dataframe\">\n",
       "  <thead>\n",
       "    <tr style=\"text-align: right;\">\n",
       "      <th></th>\n",
       "      <th>B</th>\n",
       "      <th>C</th>\n",
       "    </tr>\n",
       "    <tr>\n",
       "      <th>A</th>\n",
       "      <th></th>\n",
       "      <th></th>\n",
       "    </tr>\n",
       "  </thead>\n",
       "  <tbody>\n",
       "    <tr>\n",
       "      <th>a</th>\n",
       "      <td>3</td>\n",
       "      <td>30</td>\n",
       "    </tr>\n",
       "    <tr>\n",
       "      <th>b</th>\n",
       "      <td>7</td>\n",
       "      <td>70</td>\n",
       "    </tr>\n",
       "    <tr>\n",
       "      <th>c</th>\n",
       "      <td>11</td>\n",
       "      <td>110</td>\n",
       "    </tr>\n",
       "  </tbody>\n",
       "</table>\n",
       "</div>"
      ],
      "text/plain": [
       "    B    C\n",
       "A         \n",
       "a   3   30\n",
       "b   7   70\n",
       "c  11  110"
      ]
     },
     "execution_count": 39,
     "metadata": {},
     "output_type": "execute_result"
    }
   ],
   "source": [
    "gb.agg({\"B\": \"sum\", \"C\": \"sum\"})"
   ]
  },
  {
   "cell_type": "markdown",
   "id": "303f2fd1",
   "metadata": {},
   "source": [
    "The `apply` method of the `groupby` object allows to specify a function to be applied to each subset."
   ]
  },
  {
   "cell_type": "code",
   "execution_count": 41,
   "id": "24d31e09",
   "metadata": {},
   "outputs": [
    {
     "data": {
      "text/html": [
       "<div>\n",
       "<style scoped>\n",
       "    .dataframe tbody tr th:only-of-type {\n",
       "        vertical-align: middle;\n",
       "    }\n",
       "\n",
       "    .dataframe tbody tr th {\n",
       "        vertical-align: top;\n",
       "    }\n",
       "\n",
       "    .dataframe thead th {\n",
       "        text-align: right;\n",
       "    }\n",
       "</style>\n",
       "<table border=\"1\" class=\"dataframe\">\n",
       "  <thead>\n",
       "    <tr style=\"text-align: right;\">\n",
       "      <th></th>\n",
       "      <th>B</th>\n",
       "      <th>C</th>\n",
       "    </tr>\n",
       "    <tr>\n",
       "      <th>A</th>\n",
       "      <th></th>\n",
       "      <th></th>\n",
       "    </tr>\n",
       "  </thead>\n",
       "  <tbody>\n",
       "    <tr>\n",
       "      <th>a</th>\n",
       "      <td>3</td>\n",
       "      <td>30</td>\n",
       "    </tr>\n",
       "    <tr>\n",
       "      <th>b</th>\n",
       "      <td>7</td>\n",
       "      <td>70</td>\n",
       "    </tr>\n",
       "    <tr>\n",
       "      <th>c</th>\n",
       "      <td>11</td>\n",
       "      <td>110</td>\n",
       "    </tr>\n",
       "  </tbody>\n",
       "</table>\n",
       "</div>"
      ],
      "text/plain": [
       "    B    C\n",
       "A         \n",
       "a   3   30\n",
       "b   7   70\n",
       "c  11  110"
      ]
     },
     "execution_count": 41,
     "metadata": {},
     "output_type": "execute_result"
    }
   ],
   "source": [
    "gb.apply(lambda sub_frame: sub_frame.sum(), include_groups=False)"
   ]
  },
  {
   "cell_type": "markdown",
   "id": "e06db13f",
   "metadata": {},
   "source": [
    "The `transform` function allows to compute values without collapsing the result dataframe into rows by groups."
   ]
  },
  {
   "cell_type": "code",
   "execution_count": 42,
   "id": "e5349c43",
   "metadata": {},
   "outputs": [
    {
     "data": {
      "text/html": [
       "<div>\n",
       "<style scoped>\n",
       "    .dataframe tbody tr th:only-of-type {\n",
       "        vertical-align: middle;\n",
       "    }\n",
       "\n",
       "    .dataframe tbody tr th {\n",
       "        vertical-align: top;\n",
       "    }\n",
       "\n",
       "    .dataframe thead th {\n",
       "        text-align: right;\n",
       "    }\n",
       "</style>\n",
       "<table border=\"1\" class=\"dataframe\">\n",
       "  <thead>\n",
       "    <tr style=\"text-align: right;\">\n",
       "      <th></th>\n",
       "      <th>B</th>\n",
       "      <th>C</th>\n",
       "    </tr>\n",
       "  </thead>\n",
       "  <tbody>\n",
       "    <tr>\n",
       "      <th>0</th>\n",
       "      <td>3</td>\n",
       "      <td>30</td>\n",
       "    </tr>\n",
       "    <tr>\n",
       "      <th>1</th>\n",
       "      <td>3</td>\n",
       "      <td>30</td>\n",
       "    </tr>\n",
       "    <tr>\n",
       "      <th>2</th>\n",
       "      <td>7</td>\n",
       "      <td>70</td>\n",
       "    </tr>\n",
       "    <tr>\n",
       "      <th>3</th>\n",
       "      <td>7</td>\n",
       "      <td>70</td>\n",
       "    </tr>\n",
       "    <tr>\n",
       "      <th>4</th>\n",
       "      <td>11</td>\n",
       "      <td>110</td>\n",
       "    </tr>\n",
       "    <tr>\n",
       "      <th>5</th>\n",
       "      <td>11</td>\n",
       "      <td>110</td>\n",
       "    </tr>\n",
       "  </tbody>\n",
       "</table>\n",
       "</div>"
      ],
      "text/plain": [
       "    B    C\n",
       "0   3   30\n",
       "1   3   30\n",
       "2   7   70\n",
       "3   7   70\n",
       "4  11  110\n",
       "5  11  110"
      ]
     },
     "execution_count": 42,
     "metadata": {},
     "output_type": "execute_result"
    }
   ],
   "source": [
    "gb.transform(\"sum\")"
   ]
  },
  {
   "cell_type": "markdown",
   "id": "2e52db70",
   "metadata": {},
   "source": [
    "## Arrays functions\n",
    "\n",
    "Consider the functions that can be applied to the corresponding group. All of the functions I am familiar yet, works in the same way with regular `pandas.Series`. Here are some cases that were useful for me in the groupby context."
   ]
  },
  {
   "cell_type": "markdown",
   "id": "b4483ee6-74bd-416f-9671-affc859e5e8f",
   "metadata": {},
   "source": [
    "### Concatenation\n",
    "\n",
    "Use the sum function to concatenate strings of subsets."
   ]
  },
  {
   "cell_type": "markdown",
   "id": "9d8e3a0b",
   "metadata": {},
   "source": [
    "---\n",
    "\n",
    "The following cell defines an example dataframe."
   ]
  },
  {
   "cell_type": "code",
   "execution_count": 9,
   "id": "5201e540-8417-4ee3-98ca-b911cee62b4c",
   "metadata": {},
   "outputs": [
    {
     "data": {
      "text/html": [
       "<div>\n",
       "<style scoped>\n",
       "    .dataframe tbody tr th:only-of-type {\n",
       "        vertical-align: middle;\n",
       "    }\n",
       "\n",
       "    .dataframe tbody tr th {\n",
       "        vertical-align: top;\n",
       "    }\n",
       "\n",
       "    .dataframe thead th {\n",
       "        text-align: right;\n",
       "    }\n",
       "</style>\n",
       "<table border=\"1\" class=\"dataframe\">\n",
       "  <thead>\n",
       "    <tr style=\"text-align: right;\">\n",
       "      <th></th>\n",
       "      <th>group</th>\n",
       "      <th>text</th>\n",
       "    </tr>\n",
       "  </thead>\n",
       "  <tbody>\n",
       "    <tr>\n",
       "      <th>0</th>\n",
       "      <td>a</td>\n",
       "      <td>hello</td>\n",
       "    </tr>\n",
       "    <tr>\n",
       "      <th>1</th>\n",
       "      <td>a</td>\n",
       "      <td>test</td>\n",
       "    </tr>\n",
       "    <tr>\n",
       "      <th>2</th>\n",
       "      <td>b</td>\n",
       "      <td>line3</td>\n",
       "    </tr>\n",
       "    <tr>\n",
       "      <th>3</th>\n",
       "      <td>b</td>\n",
       "      <td>superline</td>\n",
       "    </tr>\n",
       "  </tbody>\n",
       "</table>\n",
       "</div>"
      ],
      "text/plain": [
       "  group       text\n",
       "0     a      hello\n",
       "1     a       test\n",
       "2     b      line3\n",
       "3     b  superline"
      ]
     },
     "execution_count": 9,
     "metadata": {},
     "output_type": "execute_result"
    }
   ],
   "source": [
    "df = pd.DataFrame({\n",
    "    \"group\" : [\"a\", \"a\", \"b\", \"b\"],\n",
    "    \"text\" : [\"hello\", \"test\", \"line3\", \"superline\"]\n",
    "})\n",
    "df"
   ]
  },
  {
   "cell_type": "markdown",
   "id": "e0f099de",
   "metadata": {},
   "source": [
    "The applicaiton of the `sum` funciton to the `groupby(\"group\")` object is displayed below."
   ]
  },
  {
   "cell_type": "code",
   "execution_count": 10,
   "id": "6c7300df",
   "metadata": {},
   "outputs": [
    {
     "data": {
      "text/html": [
       "<div>\n",
       "<style scoped>\n",
       "    .dataframe tbody tr th:only-of-type {\n",
       "        vertical-align: middle;\n",
       "    }\n",
       "\n",
       "    .dataframe tbody tr th {\n",
       "        vertical-align: top;\n",
       "    }\n",
       "\n",
       "    .dataframe thead th {\n",
       "        text-align: right;\n",
       "    }\n",
       "</style>\n",
       "<table border=\"1\" class=\"dataframe\">\n",
       "  <thead>\n",
       "    <tr style=\"text-align: right;\">\n",
       "      <th></th>\n",
       "      <th>text</th>\n",
       "    </tr>\n",
       "    <tr>\n",
       "      <th>group</th>\n",
       "      <th></th>\n",
       "    </tr>\n",
       "  </thead>\n",
       "  <tbody>\n",
       "    <tr>\n",
       "      <th>a</th>\n",
       "      <td>hellotest</td>\n",
       "    </tr>\n",
       "    <tr>\n",
       "      <th>b</th>\n",
       "      <td>line3superline</td>\n",
       "    </tr>\n",
       "  </tbody>\n",
       "</table>\n",
       "</div>"
      ],
      "text/plain": [
       "                 text\n",
       "group                \n",
       "a           hellotest\n",
       "b      line3superline"
      ]
     },
     "execution_count": 10,
     "metadata": {},
     "output_type": "execute_result"
    }
   ],
   "source": [
    "df.groupby(\"group\").sum()"
   ]
  },
  {
   "cell_type": "markdown",
   "id": "978e01a0",
   "metadata": {},
   "source": [
    "### Shift\n",
    "\n",
    "The `shift` functions allows each value to be matched with the previous/next value in the same group. Check corresponding [documentation page](https://pandas.pydata.org/docs/reference/api/pandas.core.groupby.DataFrameGroupBy.shift.html)."
   ]
  },
  {
   "cell_type": "markdown",
   "id": "b8aed70b",
   "metadata": {},
   "source": [
    "---\n",
    "\n",
    "The following cell creates an example dataframe."
   ]
  },
  {
   "cell_type": "code",
   "execution_count": 16,
   "id": "bcb6fb56",
   "metadata": {},
   "outputs": [
    {
     "data": {
      "text/html": [
       "<div>\n",
       "<style scoped>\n",
       "    .dataframe tbody tr th:only-of-type {\n",
       "        vertical-align: middle;\n",
       "    }\n",
       "\n",
       "    .dataframe tbody tr th {\n",
       "        vertical-align: top;\n",
       "    }\n",
       "\n",
       "    .dataframe thead th {\n",
       "        text-align: right;\n",
       "    }\n",
       "</style>\n",
       "<table border=\"1\" class=\"dataframe\">\n",
       "  <thead>\n",
       "    <tr style=\"text-align: right;\">\n",
       "      <th></th>\n",
       "      <th>group</th>\n",
       "      <th>variable</th>\n",
       "    </tr>\n",
       "  </thead>\n",
       "  <tbody>\n",
       "    <tr>\n",
       "      <th>0</th>\n",
       "      <td>a</td>\n",
       "      <td>1</td>\n",
       "    </tr>\n",
       "    <tr>\n",
       "      <th>1</th>\n",
       "      <td>a</td>\n",
       "      <td>2</td>\n",
       "    </tr>\n",
       "    <tr>\n",
       "      <th>2</th>\n",
       "      <td>b</td>\n",
       "      <td>3</td>\n",
       "    </tr>\n",
       "    <tr>\n",
       "      <th>3</th>\n",
       "      <td>b</td>\n",
       "      <td>4</td>\n",
       "    </tr>\n",
       "  </tbody>\n",
       "</table>\n",
       "</div>"
      ],
      "text/plain": [
       "  group  variable\n",
       "0     a         1\n",
       "1     a         2\n",
       "2     b         3\n",
       "3     b         4"
      ]
     },
     "execution_count": 16,
     "metadata": {},
     "output_type": "execute_result"
    }
   ],
   "source": [
    "df = pd.DataFrame({\n",
    "    \"group\" : [\"a\", \"a\", \"b\", \"b\"],\n",
    "    \"variable\": [1, 2, 3, 4]\n",
    "})\n",
    "df"
   ]
  },
  {
   "cell_type": "markdown",
   "id": "df45d099",
   "metadata": {},
   "source": [
    "Applying the `shift` function to the `groupby(\"group\")` returns the dataframe that is indexed just like the original dataframe, but all the `variable` values are shifted inside the groups determined by the `group` column. "
   ]
  },
  {
   "cell_type": "code",
   "execution_count": null,
   "id": "17c1fa60",
   "metadata": {},
   "outputs": [
    {
     "data": {
      "text/html": [
       "<div>\n",
       "<style scoped>\n",
       "    .dataframe tbody tr th:only-of-type {\n",
       "        vertical-align: middle;\n",
       "    }\n",
       "\n",
       "    .dataframe tbody tr th {\n",
       "        vertical-align: top;\n",
       "    }\n",
       "\n",
       "    .dataframe thead th {\n",
       "        text-align: right;\n",
       "    }\n",
       "</style>\n",
       "<table border=\"1\" class=\"dataframe\">\n",
       "  <thead>\n",
       "    <tr style=\"text-align: right;\">\n",
       "      <th></th>\n",
       "      <th>value</th>\n",
       "    </tr>\n",
       "  </thead>\n",
       "  <tbody>\n",
       "    <tr>\n",
       "      <th>0</th>\n",
       "      <td>NaN</td>\n",
       "    </tr>\n",
       "    <tr>\n",
       "      <th>1</th>\n",
       "      <td>1.0</td>\n",
       "    </tr>\n",
       "    <tr>\n",
       "      <th>2</th>\n",
       "      <td>NaN</td>\n",
       "    </tr>\n",
       "    <tr>\n",
       "      <th>3</th>\n",
       "      <td>3.0</td>\n",
       "    </tr>\n",
       "  </tbody>\n",
       "</table>\n",
       "</div>"
      ],
      "text/plain": [
       "   value\n",
       "0    NaN\n",
       "1    1.0\n",
       "2    NaN\n",
       "3    3.0"
      ]
     },
     "execution_count": 15,
     "metadata": {},
     "output_type": "execute_result"
    }
   ],
   "source": [
    "df.groupby(\"group\").shift()"
   ]
  }
 ],
 "metadata": {
  "kernelspec": {
   "display_name": "knowledge",
   "language": "python",
   "name": "python3"
  },
  "language_info": {
   "codemirror_mode": {
    "name": "ipython",
    "version": 3
   },
   "file_extension": ".py",
   "mimetype": "text/x-python",
   "name": "python",
   "nbconvert_exporter": "python",
   "pygments_lexer": "ipython3",
   "version": "3.12.9"
  }
 },
 "nbformat": 4,
 "nbformat_minor": 5
}
