{
 "cells": [
  {
   "cell_type": "markdown",
   "id": "a4e18171-64f2-4c77-a398-735e07225cd7",
   "metadata": {},
   "source": [
    "# Groupby\n",
    "\n",
    "`pd.DataFrame.groupby` is a very useful tool, but sometimes working with it can be a bit confusing. So in this page I want to pay more attention to some functions and cases.\n",
    "\n",
    "The most useful page for learning is <a href=\"https://pandas.pydata.org/docs/reference/groupby.html\">GroupBy object in pandas documentation</a>."
   ]
  },
  {
   "cell_type": "markdown",
   "id": "2a9f8e6c-65de-419e-b405-a431c07c7e4d",
   "metadata": {},
   "source": [
    "## Basic frame\n",
    "\n",
    "There are many examples of the same type in this section, so unless specified by default I will use the dataset declared below."
   ]
  },
  {
   "cell_type": "code",
   "execution_count": 2,
   "id": "0b5b9a08-8eca-459b-bd6c-2b96a7091a48",
   "metadata": {},
   "outputs": [
    {
     "data": {
      "text/html": [
       "<div>\n",
       "<style scoped>\n",
       "    .dataframe tbody tr th:only-of-type {\n",
       "        vertical-align: middle;\n",
       "    }\n",
       "\n",
       "    .dataframe tbody tr th {\n",
       "        vertical-align: top;\n",
       "    }\n",
       "\n",
       "    .dataframe thead th {\n",
       "        text-align: right;\n",
       "    }\n",
       "</style>\n",
       "<table border=\"1\" class=\"dataframe\">\n",
       "  <thead>\n",
       "    <tr style=\"text-align: right;\">\n",
       "      <th></th>\n",
       "      <th>A</th>\n",
       "      <th>B</th>\n",
       "      <th>C</th>\n",
       "    </tr>\n",
       "  </thead>\n",
       "  <tbody>\n",
       "    <tr>\n",
       "      <th>0</th>\n",
       "      <td>a</td>\n",
       "      <td>2</td>\n",
       "      <td>10</td>\n",
       "    </tr>\n",
       "    <tr>\n",
       "      <th>1</th>\n",
       "      <td>a</td>\n",
       "      <td>1</td>\n",
       "      <td>20</td>\n",
       "    </tr>\n",
       "    <tr>\n",
       "      <th>2</th>\n",
       "      <td>b</td>\n",
       "      <td>3</td>\n",
       "      <td>30</td>\n",
       "    </tr>\n",
       "    <tr>\n",
       "      <th>3</th>\n",
       "      <td>b</td>\n",
       "      <td>4</td>\n",
       "      <td>40</td>\n",
       "    </tr>\n",
       "    <tr>\n",
       "      <th>4</th>\n",
       "      <td>c</td>\n",
       "      <td>6</td>\n",
       "      <td>50</td>\n",
       "    </tr>\n",
       "    <tr>\n",
       "      <th>5</th>\n",
       "      <td>c</td>\n",
       "      <td>5</td>\n",
       "      <td>60</td>\n",
       "    </tr>\n",
       "  </tbody>\n",
       "</table>\n",
       "</div>"
      ],
      "text/plain": [
       "   A  B   C\n",
       "0  a  2  10\n",
       "1  a  1  20\n",
       "2  b  3  30\n",
       "3  b  4  40\n",
       "4  c  6  50\n",
       "5  c  5  60"
      ]
     },
     "execution_count": 2,
     "metadata": {},
     "output_type": "execute_result"
    }
   ],
   "source": [
    "import pandas as pd\n",
    "from IPython.display import HTML\n",
    "\n",
    "basic_frame = pd.DataFrame({\n",
    "    'A': ['a', 'a', 'b', 'b', 'c', 'c'],\n",
    "    'B': [2, 1, 3, 4, 6, 5],\n",
    "    'C': [10, 20, 30, 40, 50, 60]\n",
    "})\n",
    "\n",
    "basic_frame"
   ]
  },
  {
   "cell_type": "markdown",
   "id": "28170813-2825-48ab-b4b6-ff02ec24cffe",
   "metadata": {},
   "source": [
    "## Parameters\n",
    "\n",
    "Here are described general parameters of the `groupby` method, that affect the result regardless of the specific transformations."
   ]
  },
  {
   "cell_type": "markdown",
   "id": "d87be323-22af-4a96-98b1-492f99ea9f83",
   "metadata": {},
   "source": [
    "###  Result index (`as_index`)\n",
    "\n",
    "The `as_index` sepcify whether columns selected for certain groups are to be used as indexes in the output, or as regular columns."
   ]
  },
  {
   "cell_type": "markdown",
   "id": "fa891952",
   "metadata": {},
   "source": [
    "---\n",
    "\n",
    "The following cell shows the result when using `as_index=True`."
   ]
  },
  {
   "cell_type": "code",
   "execution_count": 3,
   "id": "f9320270",
   "metadata": {},
   "outputs": [
    {
     "data": {
      "text/plain": [
       "A\n",
       "a     30\n",
       "b     70\n",
       "c    110\n",
       "Name: C, dtype: int64"
      ]
     },
     "execution_count": 3,
     "metadata": {},
     "output_type": "execute_result"
    }
   ],
   "source": [
    "basic_frame.groupby(\"A\", as_index=True)[\"C\"].sum()"
   ]
  },
  {
   "cell_type": "markdown",
   "id": "9201e89a",
   "metadata": {},
   "source": [
    "So the output have groups in the index."
   ]
  },
  {
   "cell_type": "markdown",
   "id": "ce09cacf",
   "metadata": {},
   "source": [
    "The following cell uses `as_index=False`."
   ]
  },
  {
   "cell_type": "code",
   "execution_count": 4,
   "id": "20e71bee-d74f-4868-90e5-f8157260bf01",
   "metadata": {},
   "outputs": [
    {
     "data": {
      "text/html": [
       "<div>\n",
       "<style scoped>\n",
       "    .dataframe tbody tr th:only-of-type {\n",
       "        vertical-align: middle;\n",
       "    }\n",
       "\n",
       "    .dataframe tbody tr th {\n",
       "        vertical-align: top;\n",
       "    }\n",
       "\n",
       "    .dataframe thead th {\n",
       "        text-align: right;\n",
       "    }\n",
       "</style>\n",
       "<table border=\"1\" class=\"dataframe\">\n",
       "  <thead>\n",
       "    <tr style=\"text-align: right;\">\n",
       "      <th></th>\n",
       "      <th>A</th>\n",
       "      <th>C</th>\n",
       "    </tr>\n",
       "  </thead>\n",
       "  <tbody>\n",
       "    <tr>\n",
       "      <th>0</th>\n",
       "      <td>a</td>\n",
       "      <td>30</td>\n",
       "    </tr>\n",
       "    <tr>\n",
       "      <th>1</th>\n",
       "      <td>b</td>\n",
       "      <td>70</td>\n",
       "    </tr>\n",
       "    <tr>\n",
       "      <th>2</th>\n",
       "      <td>c</td>\n",
       "      <td>110</td>\n",
       "    </tr>\n",
       "  </tbody>\n",
       "</table>\n",
       "</div>"
      ],
      "text/plain": [
       "   A    C\n",
       "0  a   30\n",
       "1  b   70\n",
       "2  c  110"
      ]
     },
     "execution_count": 4,
     "metadata": {},
     "output_type": "execute_result"
    }
   ],
   "source": [
    "basic_frame.groupby(\"A\", as_index=False)[\"C\"].sum()"
   ]
  },
  {
   "cell_type": "markdown",
   "id": "770f03d3",
   "metadata": {},
   "source": [
    "Now groups have a regular column in the output, index is just range."
   ]
  },
  {
   "cell_type": "markdown",
   "id": "790cfc55-04d8-4354-befe-44b930de79d1",
   "metadata": {},
   "source": [
    "### `observed`\n",
    "\n",
    "In the categorical datatype there is a possible case where a category exists but never appears in `series`. This parameter describes whether unobserved catetories will be used in `groupby` results (`False`) or only observed categories will be used (`True`)."
   ]
  },
  {
   "cell_type": "markdown",
   "id": "93ebc4ee",
   "metadata": {},
   "source": [
    "---\n",
    "\n",
    "The following cell sets the column `A` to the categorical datatype and adds a new category `l` that doesn't appear in any observation."
   ]
  },
  {
   "cell_type": "code",
   "execution_count": 10,
   "id": "d69352a4-5b5f-4a05-a230-049cb4e0d52f",
   "metadata": {},
   "outputs": [
    {
     "data": {
      "text/plain": [
       "0    a\n",
       "1    a\n",
       "2    b\n",
       "3    b\n",
       "4    c\n",
       "5    c\n",
       "Name: A, dtype: category\n",
       "Categories (4, object): ['a', 'b', 'c', 'l']"
      ]
     },
     "execution_count": 10,
     "metadata": {},
     "output_type": "execute_result"
    }
   ],
   "source": [
    "example_frame = basic_frame.copy()\n",
    "example_frame[\"A\"] = (\n",
    "    example_frame[\"A\"].astype(\"category\")\n",
    "    .cat.add_categories(\"l\")\n",
    ")\n",
    "example_frame[\"A\"]"
   ]
  },
  {
   "cell_type": "markdown",
   "id": "b0977560",
   "metadata": {},
   "source": [
    "The follwing cell shows `groupby` with `observed=True`. "
   ]
  },
  {
   "cell_type": "code",
   "execution_count": 11,
   "id": "e7f79a1c",
   "metadata": {},
   "outputs": [
    {
     "data": {
      "text/html": [
       "<div>\n",
       "<style scoped>\n",
       "    .dataframe tbody tr th:only-of-type {\n",
       "        vertical-align: middle;\n",
       "    }\n",
       "\n",
       "    .dataframe tbody tr th {\n",
       "        vertical-align: top;\n",
       "    }\n",
       "\n",
       "    .dataframe thead th {\n",
       "        text-align: right;\n",
       "    }\n",
       "</style>\n",
       "<table border=\"1\" class=\"dataframe\">\n",
       "  <thead>\n",
       "    <tr style=\"text-align: right;\">\n",
       "      <th></th>\n",
       "      <th>B</th>\n",
       "      <th>C</th>\n",
       "    </tr>\n",
       "    <tr>\n",
       "      <th>A</th>\n",
       "      <th></th>\n",
       "      <th></th>\n",
       "    </tr>\n",
       "  </thead>\n",
       "  <tbody>\n",
       "    <tr>\n",
       "      <th>a</th>\n",
       "      <td>3</td>\n",
       "      <td>30</td>\n",
       "    </tr>\n",
       "    <tr>\n",
       "      <th>b</th>\n",
       "      <td>7</td>\n",
       "      <td>70</td>\n",
       "    </tr>\n",
       "    <tr>\n",
       "      <th>c</th>\n",
       "      <td>11</td>\n",
       "      <td>110</td>\n",
       "    </tr>\n",
       "  </tbody>\n",
       "</table>\n",
       "</div>"
      ],
      "text/plain": [
       "    B    C\n",
       "A         \n",
       "a   3   30\n",
       "b   7   70\n",
       "c  11  110"
      ]
     },
     "execution_count": 11,
     "metadata": {},
     "output_type": "execute_result"
    }
   ],
   "source": [
    "example_frame.groupby(\"A\", observed=True).sum()"
   ]
  },
  {
   "cell_type": "markdown",
   "id": "990e67ec",
   "metadata": {},
   "source": [
    "There are only groups that appear in the input dataframe."
   ]
  },
  {
   "cell_type": "markdown",
   "id": "3e7a8b3e",
   "metadata": {},
   "source": [
    "The following code uses `observed=False`."
   ]
  },
  {
   "cell_type": "code",
   "execution_count": 12,
   "id": "7136cc0d",
   "metadata": {},
   "outputs": [
    {
     "data": {
      "text/html": [
       "<div>\n",
       "<style scoped>\n",
       "    .dataframe tbody tr th:only-of-type {\n",
       "        vertical-align: middle;\n",
       "    }\n",
       "\n",
       "    .dataframe tbody tr th {\n",
       "        vertical-align: top;\n",
       "    }\n",
       "\n",
       "    .dataframe thead th {\n",
       "        text-align: right;\n",
       "    }\n",
       "</style>\n",
       "<table border=\"1\" class=\"dataframe\">\n",
       "  <thead>\n",
       "    <tr style=\"text-align: right;\">\n",
       "      <th></th>\n",
       "      <th>B</th>\n",
       "      <th>C</th>\n",
       "    </tr>\n",
       "    <tr>\n",
       "      <th>A</th>\n",
       "      <th></th>\n",
       "      <th></th>\n",
       "    </tr>\n",
       "  </thead>\n",
       "  <tbody>\n",
       "    <tr>\n",
       "      <th>a</th>\n",
       "      <td>3</td>\n",
       "      <td>30</td>\n",
       "    </tr>\n",
       "    <tr>\n",
       "      <th>b</th>\n",
       "      <td>7</td>\n",
       "      <td>70</td>\n",
       "    </tr>\n",
       "    <tr>\n",
       "      <th>c</th>\n",
       "      <td>11</td>\n",
       "      <td>110</td>\n",
       "    </tr>\n",
       "    <tr>\n",
       "      <th>l</th>\n",
       "      <td>0</td>\n",
       "      <td>0</td>\n",
       "    </tr>\n",
       "  </tbody>\n",
       "</table>\n",
       "</div>"
      ],
      "text/plain": [
       "    B    C\n",
       "A         \n",
       "a   3   30\n",
       "b   7   70\n",
       "c  11  110\n",
       "l   0    0"
      ]
     },
     "execution_count": 12,
     "metadata": {},
     "output_type": "execute_result"
    }
   ],
   "source": [
    "example_frame.groupby(\"A\", observed=False).sum()"
   ]
  },
  {
   "cell_type": "markdown",
   "id": "5bb87252",
   "metadata": {},
   "source": [
    "Finally, `l` is included in the result even though there were no corresponding observations in the input data."
   ]
  },
  {
   "cell_type": "markdown",
   "id": "c1dd2a90",
   "metadata": {},
   "source": [
    "## Usage options\n",
    "\n",
    "This section considers ways to compute things over groups and practical ways to overate with \"gropby\" objects. \n",
    "\n",
    "Check more details on the [corresponding page](groupby/usage_options.ipynb)."
   ]
  },
  {
   "cell_type": "markdown",
   "id": "40aab34d",
   "metadata": {},
   "source": [
    "---\n",
    "\n",
    "To better understand what this section is about, consider some cases for using `pandas.groupby` objects, that generally produce same results - counting sum over groups.\n",
    "\n",
    "The following cell defines the `groupby` object that will be used by all the following examples to make sure there are only different ways to use the same tool."
   ]
  },
  {
   "cell_type": "code",
   "execution_count": 34,
   "id": "3eebfbeb",
   "metadata": {},
   "outputs": [],
   "source": [
    "gb = basic_frame.groupby(\"A\")"
   ]
  },
  {
   "cell_type": "markdown",
   "id": "3127fe7b",
   "metadata": {},
   "source": [
    "Classic option - just apply the function from the `groupby` object:"
   ]
  },
  {
   "cell_type": "code",
   "execution_count": null,
   "id": "4d3908c3",
   "metadata": {},
   "outputs": [
    {
     "data": {
      "text/html": [
       "<div>\n",
       "<style scoped>\n",
       "    .dataframe tbody tr th:only-of-type {\n",
       "        vertical-align: middle;\n",
       "    }\n",
       "\n",
       "    .dataframe tbody tr th {\n",
       "        vertical-align: top;\n",
       "    }\n",
       "\n",
       "    .dataframe thead th {\n",
       "        text-align: right;\n",
       "    }\n",
       "</style>\n",
       "<table border=\"1\" class=\"dataframe\">\n",
       "  <thead>\n",
       "    <tr style=\"text-align: right;\">\n",
       "      <th></th>\n",
       "      <th>B</th>\n",
       "      <th>C</th>\n",
       "    </tr>\n",
       "    <tr>\n",
       "      <th>A</th>\n",
       "      <th></th>\n",
       "      <th></th>\n",
       "    </tr>\n",
       "  </thead>\n",
       "  <tbody>\n",
       "    <tr>\n",
       "      <th>a</th>\n",
       "      <td>3</td>\n",
       "      <td>30</td>\n",
       "    </tr>\n",
       "    <tr>\n",
       "      <th>b</th>\n",
       "      <td>7</td>\n",
       "      <td>70</td>\n",
       "    </tr>\n",
       "    <tr>\n",
       "      <th>c</th>\n",
       "      <td>11</td>\n",
       "      <td>110</td>\n",
       "    </tr>\n",
       "  </tbody>\n",
       "</table>\n",
       "</div>"
      ],
      "text/plain": [
       "    B    C\n",
       "A         \n",
       "a   3   30\n",
       "b   7   70\n",
       "c  11  110"
      ]
     },
     "execution_count": 35,
     "metadata": {},
     "output_type": "execute_result"
    }
   ],
   "source": [
    "gb.sum()"
   ]
  },
  {
   "cell_type": "markdown",
   "id": "d8211597",
   "metadata": {},
   "source": [
    "Iterating over the `groupby` object allows you to work with subsets that correspond to the particular group."
   ]
  },
  {
   "cell_type": "code",
   "execution_count": 33,
   "id": "9cdc7e5d",
   "metadata": {},
   "outputs": [
    {
     "data": {
      "text/html": [
       "<div>\n",
       "<style scoped>\n",
       "    .dataframe tbody tr th:only-of-type {\n",
       "        vertical-align: middle;\n",
       "    }\n",
       "\n",
       "    .dataframe tbody tr th {\n",
       "        vertical-align: top;\n",
       "    }\n",
       "\n",
       "    .dataframe thead th {\n",
       "        text-align: right;\n",
       "    }\n",
       "</style>\n",
       "<table border=\"1\" class=\"dataframe\">\n",
       "  <thead>\n",
       "    <tr style=\"text-align: right;\">\n",
       "      <th></th>\n",
       "      <th>a</th>\n",
       "      <th>b</th>\n",
       "      <th>c</th>\n",
       "    </tr>\n",
       "  </thead>\n",
       "  <tbody>\n",
       "    <tr>\n",
       "      <th>A</th>\n",
       "      <td>aa</td>\n",
       "      <td>bb</td>\n",
       "      <td>cc</td>\n",
       "    </tr>\n",
       "    <tr>\n",
       "      <th>B</th>\n",
       "      <td>3</td>\n",
       "      <td>7</td>\n",
       "      <td>11</td>\n",
       "    </tr>\n",
       "    <tr>\n",
       "      <th>C</th>\n",
       "      <td>30</td>\n",
       "      <td>70</td>\n",
       "      <td>110</td>\n",
       "    </tr>\n",
       "  </tbody>\n",
       "</table>\n",
       "</div>"
      ],
      "text/plain": [
       "    a   b    c\n",
       "A  aa  bb   cc\n",
       "B   3   7   11\n",
       "C  30  70  110"
      ]
     },
     "execution_count": 33,
     "metadata": {},
     "output_type": "execute_result"
    }
   ],
   "source": [
    "pd.DataFrame({sub_frame[0]: sub_frame[1].sum() for sub_frame in gb})"
   ]
  },
  {
   "cell_type": "markdown",
   "id": "879acbae",
   "metadata": {},
   "source": [
    "The `agg` method allows to set a separate transformation for each column by dictionary."
   ]
  },
  {
   "cell_type": "code",
   "execution_count": 39,
   "id": "1262aa58",
   "metadata": {},
   "outputs": [
    {
     "data": {
      "text/html": [
       "<div>\n",
       "<style scoped>\n",
       "    .dataframe tbody tr th:only-of-type {\n",
       "        vertical-align: middle;\n",
       "    }\n",
       "\n",
       "    .dataframe tbody tr th {\n",
       "        vertical-align: top;\n",
       "    }\n",
       "\n",
       "    .dataframe thead th {\n",
       "        text-align: right;\n",
       "    }\n",
       "</style>\n",
       "<table border=\"1\" class=\"dataframe\">\n",
       "  <thead>\n",
       "    <tr style=\"text-align: right;\">\n",
       "      <th></th>\n",
       "      <th>B</th>\n",
       "      <th>C</th>\n",
       "    </tr>\n",
       "    <tr>\n",
       "      <th>A</th>\n",
       "      <th></th>\n",
       "      <th></th>\n",
       "    </tr>\n",
       "  </thead>\n",
       "  <tbody>\n",
       "    <tr>\n",
       "      <th>a</th>\n",
       "      <td>3</td>\n",
       "      <td>30</td>\n",
       "    </tr>\n",
       "    <tr>\n",
       "      <th>b</th>\n",
       "      <td>7</td>\n",
       "      <td>70</td>\n",
       "    </tr>\n",
       "    <tr>\n",
       "      <th>c</th>\n",
       "      <td>11</td>\n",
       "      <td>110</td>\n",
       "    </tr>\n",
       "  </tbody>\n",
       "</table>\n",
       "</div>"
      ],
      "text/plain": [
       "    B    C\n",
       "A         \n",
       "a   3   30\n",
       "b   7   70\n",
       "c  11  110"
      ]
     },
     "execution_count": 39,
     "metadata": {},
     "output_type": "execute_result"
    }
   ],
   "source": [
    "gb.agg({\"B\": \"sum\", \"C\": \"sum\"})"
   ]
  },
  {
   "cell_type": "markdown",
   "id": "303f2fd1",
   "metadata": {},
   "source": [
    "The `apply` method of the `groupby` object allows to specify a function to be applied to each subset."
   ]
  },
  {
   "cell_type": "code",
   "execution_count": 41,
   "id": "24d31e09",
   "metadata": {},
   "outputs": [
    {
     "data": {
      "text/html": [
       "<div>\n",
       "<style scoped>\n",
       "    .dataframe tbody tr th:only-of-type {\n",
       "        vertical-align: middle;\n",
       "    }\n",
       "\n",
       "    .dataframe tbody tr th {\n",
       "        vertical-align: top;\n",
       "    }\n",
       "\n",
       "    .dataframe thead th {\n",
       "        text-align: right;\n",
       "    }\n",
       "</style>\n",
       "<table border=\"1\" class=\"dataframe\">\n",
       "  <thead>\n",
       "    <tr style=\"text-align: right;\">\n",
       "      <th></th>\n",
       "      <th>B</th>\n",
       "      <th>C</th>\n",
       "    </tr>\n",
       "    <tr>\n",
       "      <th>A</th>\n",
       "      <th></th>\n",
       "      <th></th>\n",
       "    </tr>\n",
       "  </thead>\n",
       "  <tbody>\n",
       "    <tr>\n",
       "      <th>a</th>\n",
       "      <td>3</td>\n",
       "      <td>30</td>\n",
       "    </tr>\n",
       "    <tr>\n",
       "      <th>b</th>\n",
       "      <td>7</td>\n",
       "      <td>70</td>\n",
       "    </tr>\n",
       "    <tr>\n",
       "      <th>c</th>\n",
       "      <td>11</td>\n",
       "      <td>110</td>\n",
       "    </tr>\n",
       "  </tbody>\n",
       "</table>\n",
       "</div>"
      ],
      "text/plain": [
       "    B    C\n",
       "A         \n",
       "a   3   30\n",
       "b   7   70\n",
       "c  11  110"
      ]
     },
     "execution_count": 41,
     "metadata": {},
     "output_type": "execute_result"
    }
   ],
   "source": [
    "gb.apply(lambda sub_frame: sub_frame.sum(), include_groups=False)"
   ]
  },
  {
   "cell_type": "markdown",
   "id": "e06db13f",
   "metadata": {},
   "source": [
    "The `transform` function allows to compute values without collapsing the result dataframe into rows by groups."
   ]
  },
  {
   "cell_type": "code",
   "execution_count": 42,
   "id": "e5349c43",
   "metadata": {},
   "outputs": [
    {
     "data": {
      "text/html": [
       "<div>\n",
       "<style scoped>\n",
       "    .dataframe tbody tr th:only-of-type {\n",
       "        vertical-align: middle;\n",
       "    }\n",
       "\n",
       "    .dataframe tbody tr th {\n",
       "        vertical-align: top;\n",
       "    }\n",
       "\n",
       "    .dataframe thead th {\n",
       "        text-align: right;\n",
       "    }\n",
       "</style>\n",
       "<table border=\"1\" class=\"dataframe\">\n",
       "  <thead>\n",
       "    <tr style=\"text-align: right;\">\n",
       "      <th></th>\n",
       "      <th>B</th>\n",
       "      <th>C</th>\n",
       "    </tr>\n",
       "  </thead>\n",
       "  <tbody>\n",
       "    <tr>\n",
       "      <th>0</th>\n",
       "      <td>3</td>\n",
       "      <td>30</td>\n",
       "    </tr>\n",
       "    <tr>\n",
       "      <th>1</th>\n",
       "      <td>3</td>\n",
       "      <td>30</td>\n",
       "    </tr>\n",
       "    <tr>\n",
       "      <th>2</th>\n",
       "      <td>7</td>\n",
       "      <td>70</td>\n",
       "    </tr>\n",
       "    <tr>\n",
       "      <th>3</th>\n",
       "      <td>7</td>\n",
       "      <td>70</td>\n",
       "    </tr>\n",
       "    <tr>\n",
       "      <th>4</th>\n",
       "      <td>11</td>\n",
       "      <td>110</td>\n",
       "    </tr>\n",
       "    <tr>\n",
       "      <th>5</th>\n",
       "      <td>11</td>\n",
       "      <td>110</td>\n",
       "    </tr>\n",
       "  </tbody>\n",
       "</table>\n",
       "</div>"
      ],
      "text/plain": [
       "    B    C\n",
       "0   3   30\n",
       "1   3   30\n",
       "2   7   70\n",
       "3   7   70\n",
       "4  11  110\n",
       "5  11  110"
      ]
     },
     "execution_count": 42,
     "metadata": {},
     "output_type": "execute_result"
    }
   ],
   "source": [
    "gb.transform(\"sum\")"
   ]
  },
  {
   "cell_type": "markdown",
   "id": "571e93a6-4dff-4d8b-b814-13a82aaf5f10",
   "metadata": {},
   "source": [
    "## External group array\n",
    "\n",
    "You can use an arbitrary array (that is not a column of the dataframe being grouped) for grouping.\n",
    "\n",
    "So in the following example I use list shat markers to split the dataframe into two groups `x` and `y`."
   ]
  },
  {
   "cell_type": "code",
   "execution_count": 4,
   "id": "8998dad5-a5e4-4630-8208-b8b94e54cb3d",
   "metadata": {},
   "outputs": [
    {
     "data": {
      "text/html": [
       "<b>Input dataframe</b>"
      ],
      "text/plain": [
       "<IPython.core.display.HTML object>"
      ]
     },
     "metadata": {},
     "output_type": "display_data"
    },
    {
     "data": {
      "text/html": [
       "<div>\n",
       "<style scoped>\n",
       "    .dataframe tbody tr th:only-of-type {\n",
       "        vertical-align: middle;\n",
       "    }\n",
       "\n",
       "    .dataframe tbody tr th {\n",
       "        vertical-align: top;\n",
       "    }\n",
       "\n",
       "    .dataframe thead th {\n",
       "        text-align: right;\n",
       "    }\n",
       "</style>\n",
       "<table border=\"1\" class=\"dataframe\">\n",
       "  <thead>\n",
       "    <tr style=\"text-align: right;\">\n",
       "      <th></th>\n",
       "      <th>A</th>\n",
       "      <th>B</th>\n",
       "      <th>C</th>\n",
       "    </tr>\n",
       "  </thead>\n",
       "  <tbody>\n",
       "    <tr>\n",
       "      <th>0</th>\n",
       "      <td>a</td>\n",
       "      <td>2</td>\n",
       "      <td>10</td>\n",
       "    </tr>\n",
       "    <tr>\n",
       "      <th>1</th>\n",
       "      <td>a</td>\n",
       "      <td>1</td>\n",
       "      <td>20</td>\n",
       "    </tr>\n",
       "    <tr>\n",
       "      <th>2</th>\n",
       "      <td>b</td>\n",
       "      <td>3</td>\n",
       "      <td>30</td>\n",
       "    </tr>\n",
       "    <tr>\n",
       "      <th>3</th>\n",
       "      <td>b</td>\n",
       "      <td>4</td>\n",
       "      <td>40</td>\n",
       "    </tr>\n",
       "    <tr>\n",
       "      <th>4</th>\n",
       "      <td>c</td>\n",
       "      <td>6</td>\n",
       "      <td>50</td>\n",
       "    </tr>\n",
       "    <tr>\n",
       "      <th>5</th>\n",
       "      <td>c</td>\n",
       "      <td>5</td>\n",
       "      <td>60</td>\n",
       "    </tr>\n",
       "  </tbody>\n",
       "</table>\n",
       "</div>"
      ],
      "text/plain": [
       "   A  B   C\n",
       "0  a  2  10\n",
       "1  a  1  20\n",
       "2  b  3  30\n",
       "3  b  4  40\n",
       "4  c  6  50\n",
       "5  c  5  60"
      ]
     },
     "metadata": {},
     "output_type": "display_data"
    },
    {
     "data": {
      "text/html": [
       "<b>Group variable</b>"
      ],
      "text/plain": [
       "<IPython.core.display.HTML object>"
      ]
     },
     "metadata": {},
     "output_type": "display_data"
    },
    {
     "data": {
      "text/plain": [
       "['x', 'x', 'x', 'y', 'y', 'y']"
      ]
     },
     "metadata": {},
     "output_type": "display_data"
    },
    {
     "data": {
      "text/html": [
       "<div>\n",
       "<style scoped>\n",
       "    .dataframe tbody tr th:only-of-type {\n",
       "        vertical-align: middle;\n",
       "    }\n",
       "\n",
       "    .dataframe tbody tr th {\n",
       "        vertical-align: top;\n",
       "    }\n",
       "\n",
       "    .dataframe thead th {\n",
       "        text-align: right;\n",
       "    }\n",
       "</style>\n",
       "<table border=\"1\" class=\"dataframe\">\n",
       "  <thead>\n",
       "    <tr style=\"text-align: right;\">\n",
       "      <th></th>\n",
       "      <th>A</th>\n",
       "      <th>B</th>\n",
       "      <th>C</th>\n",
       "    </tr>\n",
       "  </thead>\n",
       "  <tbody>\n",
       "    <tr>\n",
       "      <th>x</th>\n",
       "      <td>aab</td>\n",
       "      <td>6</td>\n",
       "      <td>60</td>\n",
       "    </tr>\n",
       "    <tr>\n",
       "      <th>y</th>\n",
       "      <td>bcc</td>\n",
       "      <td>15</td>\n",
       "      <td>150</td>\n",
       "    </tr>\n",
       "  </tbody>\n",
       "</table>\n",
       "</div>"
      ],
      "text/plain": [
       "     A   B    C\n",
       "x  aab   6   60\n",
       "y  bcc  15  150"
      ]
     },
     "execution_count": 4,
     "metadata": {},
     "output_type": "execute_result"
    }
   ],
   "source": [
    "group_list = [\"x\", \"x\", \"x\", \"y\", \"y\", \"y\"]\n",
    "display(HTML(\"<b>Input dataframe</b>\"))\n",
    "display(basic_frame)\n",
    "display(HTML(\"<b>Group variable</b>\"))\n",
    "display(group_list)\n",
    "basic_frame.groupby(group_list).sum()"
   ]
  },
  {
   "cell_type": "markdown",
   "id": "1d072967-878d-421e-a627-47fedb4fef1b",
   "metadata": {},
   "source": [
    "You can even mix two external variables."
   ]
  },
  {
   "cell_type": "code",
   "execution_count": 5,
   "id": "bb5f3307-f4c2-459a-9156-097418c12c4a",
   "metadata": {},
   "outputs": [
    {
     "data": {
      "text/html": [
       "<b>Group variables</b>"
      ],
      "text/plain": [
       "<IPython.core.display.HTML object>"
      ]
     },
     "metadata": {},
     "output_type": "display_data"
    },
    {
     "data": {
      "text/plain": [
       "['x', 'x', 'x', 'y', 'y', 'y']"
      ]
     },
     "metadata": {},
     "output_type": "display_data"
    },
    {
     "data": {
      "text/plain": [
       "[1, 1, 2, 2, 2, 1]"
      ]
     },
     "metadata": {},
     "output_type": "display_data"
    },
    {
     "data": {
      "text/html": [
       "<div>\n",
       "<style scoped>\n",
       "    .dataframe tbody tr th:only-of-type {\n",
       "        vertical-align: middle;\n",
       "    }\n",
       "\n",
       "    .dataframe tbody tr th {\n",
       "        vertical-align: top;\n",
       "    }\n",
       "\n",
       "    .dataframe thead th {\n",
       "        text-align: right;\n",
       "    }\n",
       "</style>\n",
       "<table border=\"1\" class=\"dataframe\">\n",
       "  <thead>\n",
       "    <tr style=\"text-align: right;\">\n",
       "      <th></th>\n",
       "      <th></th>\n",
       "      <th>A</th>\n",
       "      <th>B</th>\n",
       "      <th>C</th>\n",
       "    </tr>\n",
       "  </thead>\n",
       "  <tbody>\n",
       "    <tr>\n",
       "      <th rowspan=\"2\" valign=\"top\">x</th>\n",
       "      <th>1</th>\n",
       "      <td>aa</td>\n",
       "      <td>3</td>\n",
       "      <td>30</td>\n",
       "    </tr>\n",
       "    <tr>\n",
       "      <th>2</th>\n",
       "      <td>b</td>\n",
       "      <td>3</td>\n",
       "      <td>30</td>\n",
       "    </tr>\n",
       "    <tr>\n",
       "      <th rowspan=\"2\" valign=\"top\">y</th>\n",
       "      <th>1</th>\n",
       "      <td>c</td>\n",
       "      <td>5</td>\n",
       "      <td>60</td>\n",
       "    </tr>\n",
       "    <tr>\n",
       "      <th>2</th>\n",
       "      <td>bc</td>\n",
       "      <td>10</td>\n",
       "      <td>90</td>\n",
       "    </tr>\n",
       "  </tbody>\n",
       "</table>\n",
       "</div>"
      ],
      "text/plain": [
       "      A   B   C\n",
       "x 1  aa   3  30\n",
       "  2   b   3  30\n",
       "y 1   c   5  60\n",
       "  2  bc  10  90"
      ]
     },
     "execution_count": 5,
     "metadata": {},
     "output_type": "execute_result"
    }
   ],
   "source": [
    "group_list1 = [\"x\", \"x\", \"x\", \"y\", \"y\", \"y\"]\n",
    "group_list2 = [1,1,2,2,2,1]\n",
    "display(HTML(\"<b>Group variables</b>\"))\n",
    "display(group_list1, group_list2)\n",
    "basic_frame.groupby([group_list1, group_list2]).sum()"
   ]
  },
  {
   "cell_type": "markdown",
   "id": "199b9a2a-4de0-45e5-a7a3-57b8688c02fe",
   "metadata": {},
   "source": [
    "Or mix external and internal variables in a `groupby`."
   ]
  },
  {
   "cell_type": "code",
   "execution_count": 6,
   "id": "81ae0368-1571-4a05-8f41-b15f42356647",
   "metadata": {},
   "outputs": [
    {
     "data": {
      "text/html": [
       "<b>Group variable</b>"
      ],
      "text/plain": [
       "<IPython.core.display.HTML object>"
      ]
     },
     "metadata": {},
     "output_type": "display_data"
    },
    {
     "data": {
      "text/plain": [
       "['x', 'x', 'x', 'y', 'y', 'y']"
      ]
     },
     "metadata": {},
     "output_type": "display_data"
    },
    {
     "data": {
      "text/html": [
       "<div>\n",
       "<style scoped>\n",
       "    .dataframe tbody tr th:only-of-type {\n",
       "        vertical-align: middle;\n",
       "    }\n",
       "\n",
       "    .dataframe tbody tr th {\n",
       "        vertical-align: top;\n",
       "    }\n",
       "\n",
       "    .dataframe thead th {\n",
       "        text-align: right;\n",
       "    }\n",
       "</style>\n",
       "<table border=\"1\" class=\"dataframe\">\n",
       "  <thead>\n",
       "    <tr style=\"text-align: right;\">\n",
       "      <th></th>\n",
       "      <th></th>\n",
       "      <th>B</th>\n",
       "      <th>C</th>\n",
       "    </tr>\n",
       "    <tr>\n",
       "      <th></th>\n",
       "      <th>A</th>\n",
       "      <th></th>\n",
       "      <th></th>\n",
       "    </tr>\n",
       "  </thead>\n",
       "  <tbody>\n",
       "    <tr>\n",
       "      <th rowspan=\"2\" valign=\"top\">x</th>\n",
       "      <th>a</th>\n",
       "      <td>3</td>\n",
       "      <td>30</td>\n",
       "    </tr>\n",
       "    <tr>\n",
       "      <th>b</th>\n",
       "      <td>3</td>\n",
       "      <td>30</td>\n",
       "    </tr>\n",
       "    <tr>\n",
       "      <th rowspan=\"2\" valign=\"top\">y</th>\n",
       "      <th>b</th>\n",
       "      <td>4</td>\n",
       "      <td>40</td>\n",
       "    </tr>\n",
       "    <tr>\n",
       "      <th>c</th>\n",
       "      <td>11</td>\n",
       "      <td>110</td>\n",
       "    </tr>\n",
       "  </tbody>\n",
       "</table>\n",
       "</div>"
      ],
      "text/plain": [
       "      B    C\n",
       "  A         \n",
       "x a   3   30\n",
       "  b   3   30\n",
       "y b   4   40\n",
       "  c  11  110"
      ]
     },
     "execution_count": 6,
     "metadata": {},
     "output_type": "execute_result"
    }
   ],
   "source": [
    "group_list = [\"x\", \"x\", \"x\", \"y\", \"y\", \"y\"]\n",
    "display(HTML(\"<b>Group variable</b>\"))\n",
    "display(group_list)\n",
    "basic_frame.groupby([group_list1, \"A\"]).sum()"
   ]
  },
  {
   "cell_type": "markdown",
   "id": "ab097ba0-cdef-4212-b582-66ca2a247218",
   "metadata": {},
   "source": [
    "## `sum`\n",
    "\n",
    "The basic function that allows you to get sums by groups."
   ]
  },
  {
   "cell_type": "markdown",
   "id": "b4483ee6-74bd-416f-9671-affc859e5e8f",
   "metadata": {},
   "source": [
    "### For `str` dtype\n",
    "\n",
    "If you apply the `sum` function to a variable containing a `str` datatype, it will concatenate observations by groups.\n",
    "\n",
    "So in the following example, this just happened with the `group text` column of the test dataframe."
   ]
  },
  {
   "cell_type": "code",
   "execution_count": 10,
   "id": "5201e540-8417-4ee3-98ca-b911cee62b4c",
   "metadata": {},
   "outputs": [
    {
     "data": {
      "text/html": [
       "<b>Initial frame</b>"
      ],
      "text/plain": [
       "<IPython.core.display.HTML object>"
      ]
     },
     "metadata": {},
     "output_type": "display_data"
    },
    {
     "data": {
      "text/html": [
       "<div>\n",
       "<style scoped>\n",
       "    .dataframe tbody tr th:only-of-type {\n",
       "        vertical-align: middle;\n",
       "    }\n",
       "\n",
       "    .dataframe tbody tr th {\n",
       "        vertical-align: top;\n",
       "    }\n",
       "\n",
       "    .dataframe thead th {\n",
       "        text-align: right;\n",
       "    }\n",
       "</style>\n",
       "<table border=\"1\" class=\"dataframe\">\n",
       "  <thead>\n",
       "    <tr style=\"text-align: right;\">\n",
       "      <th></th>\n",
       "      <th>group class</th>\n",
       "      <th>group numeric</th>\n",
       "      <th>group text</th>\n",
       "    </tr>\n",
       "  </thead>\n",
       "  <tbody>\n",
       "    <tr>\n",
       "      <th>0</th>\n",
       "      <td>a</td>\n",
       "      <td>3</td>\n",
       "      <td>hello</td>\n",
       "    </tr>\n",
       "    <tr>\n",
       "      <th>1</th>\n",
       "      <td>a</td>\n",
       "      <td>4</td>\n",
       "      <td>test</td>\n",
       "    </tr>\n",
       "    <tr>\n",
       "      <th>2</th>\n",
       "      <td>b</td>\n",
       "      <td>5</td>\n",
       "      <td>line3</td>\n",
       "    </tr>\n",
       "    <tr>\n",
       "      <th>3</th>\n",
       "      <td>b</td>\n",
       "      <td>1</td>\n",
       "      <td>superline</td>\n",
       "    </tr>\n",
       "  </tbody>\n",
       "</table>\n",
       "</div>"
      ],
      "text/plain": [
       "  group class  group numeric group text\n",
       "0           a              3      hello\n",
       "1           a              4       test\n",
       "2           b              5      line3\n",
       "3           b              1  superline"
      ]
     },
     "metadata": {},
     "output_type": "display_data"
    },
    {
     "data": {
      "text/html": [
       "<b>Aggregation result</b>"
      ],
      "text/plain": [
       "<IPython.core.display.HTML object>"
      ]
     },
     "metadata": {},
     "output_type": "display_data"
    },
    {
     "data": {
      "text/html": [
       "<div>\n",
       "<style scoped>\n",
       "    .dataframe tbody tr th:only-of-type {\n",
       "        vertical-align: middle;\n",
       "    }\n",
       "\n",
       "    .dataframe tbody tr th {\n",
       "        vertical-align: top;\n",
       "    }\n",
       "\n",
       "    .dataframe thead th {\n",
       "        text-align: right;\n",
       "    }\n",
       "</style>\n",
       "<table border=\"1\" class=\"dataframe\">\n",
       "  <thead>\n",
       "    <tr style=\"text-align: right;\">\n",
       "      <th></th>\n",
       "      <th>group numeric</th>\n",
       "      <th>group text</th>\n",
       "    </tr>\n",
       "    <tr>\n",
       "      <th>group class</th>\n",
       "      <th></th>\n",
       "      <th></th>\n",
       "    </tr>\n",
       "  </thead>\n",
       "  <tbody>\n",
       "    <tr>\n",
       "      <th>a</th>\n",
       "      <td>7</td>\n",
       "      <td>hellotest</td>\n",
       "    </tr>\n",
       "    <tr>\n",
       "      <th>b</th>\n",
       "      <td>6</td>\n",
       "      <td>line3superline</td>\n",
       "    </tr>\n",
       "  </tbody>\n",
       "</table>\n",
       "</div>"
      ],
      "text/plain": [
       "             group numeric      group text\n",
       "group class                               \n",
       "a                        7       hellotest\n",
       "b                        6  line3superline"
      ]
     },
     "execution_count": 10,
     "metadata": {},
     "output_type": "execute_result"
    }
   ],
   "source": [
    "test_df = pd.DataFrame({\n",
    "    \"group class\" : [\"a\", \"a\", \"b\", \"b\"],\n",
    "    \"group numeric\" : [3,4,5,1],\n",
    "    \"group text\" : [\"hello\", \"test\", \"line3\", \"superline\"]\n",
    "})\n",
    "display(HTML(\"<b>Initial frame</b>\"))\n",
    "display(test_df)\n",
    "display(HTML(\"<b>Aggregation result</b>\"))\n",
    "test_df.groupby(\"group class\").sum()"
   ]
  },
  {
   "cell_type": "markdown",
   "id": "978e01a0",
   "metadata": {},
   "source": [
    "## Shift\n",
    "\n",
    "The `shift` functions allows each value to be matched with the previous/next value in the same group. Check corresponding [documentation page](https://pandas.pydata.org/docs/reference/api/pandas.core.groupby.DataFrameGroupBy.shift.html)."
   ]
  },
  {
   "cell_type": "markdown",
   "id": "b8aed70b",
   "metadata": {},
   "source": [
    "---\n",
    "\n",
    "The next cell shows the application of the `shift` to the current data frame."
   ]
  },
  {
   "cell_type": "code",
   "execution_count": 10,
   "id": "bcb6fb56",
   "metadata": {},
   "outputs": [
    {
     "data": {
      "text/html": [
       "<div>\n",
       "<style scoped>\n",
       "    .dataframe tbody tr th:only-of-type {\n",
       "        vertical-align: middle;\n",
       "    }\n",
       "\n",
       "    .dataframe tbody tr th {\n",
       "        vertical-align: top;\n",
       "    }\n",
       "\n",
       "    .dataframe thead th {\n",
       "        text-align: right;\n",
       "    }\n",
       "</style>\n",
       "<table border=\"1\" class=\"dataframe\">\n",
       "  <thead>\n",
       "    <tr style=\"text-align: right;\">\n",
       "      <th></th>\n",
       "      <th>B</th>\n",
       "      <th>C</th>\n",
       "    </tr>\n",
       "  </thead>\n",
       "  <tbody>\n",
       "    <tr>\n",
       "      <th>0</th>\n",
       "      <td>NaN</td>\n",
       "      <td>NaN</td>\n",
       "    </tr>\n",
       "    <tr>\n",
       "      <th>1</th>\n",
       "      <td>2.0</td>\n",
       "      <td>10.0</td>\n",
       "    </tr>\n",
       "    <tr>\n",
       "      <th>2</th>\n",
       "      <td>NaN</td>\n",
       "      <td>NaN</td>\n",
       "    </tr>\n",
       "    <tr>\n",
       "      <th>3</th>\n",
       "      <td>3.0</td>\n",
       "      <td>30.0</td>\n",
       "    </tr>\n",
       "    <tr>\n",
       "      <th>4</th>\n",
       "      <td>NaN</td>\n",
       "      <td>NaN</td>\n",
       "    </tr>\n",
       "    <tr>\n",
       "      <th>5</th>\n",
       "      <td>6.0</td>\n",
       "      <td>50.0</td>\n",
       "    </tr>\n",
       "  </tbody>\n",
       "</table>\n",
       "</div>"
      ],
      "text/plain": [
       "     B     C\n",
       "0  NaN   NaN\n",
       "1  2.0  10.0\n",
       "2  NaN   NaN\n",
       "3  3.0  30.0\n",
       "4  NaN   NaN\n",
       "5  6.0  50.0"
      ]
     },
     "execution_count": 10,
     "metadata": {},
     "output_type": "execute_result"
    }
   ],
   "source": [
    "basic_frame.groupby(\"A\").shift(1)"
   ]
  },
  {
   "cell_type": "markdown",
   "id": "2da9b5b9",
   "metadata": {},
   "source": [
    "As a result, to each index corresponds to \"B\" and \"C\" values that were in the same \"A\" group but one position higher in the original table."
   ]
  }
 ],
 "metadata": {
  "kernelspec": {
   "display_name": "python",
   "language": "python",
   "name": "python3"
  },
  "language_info": {
   "codemirror_mode": {
    "name": "ipython",
    "version": 3
   },
   "file_extension": ".py",
   "mimetype": "text/x-python",
   "name": "python",
   "nbconvert_exporter": "python",
   "pygments_lexer": "ipython3",
   "version": "3.12.9"
  }
 },
 "nbformat": 4,
 "nbformat_minor": 5
}
