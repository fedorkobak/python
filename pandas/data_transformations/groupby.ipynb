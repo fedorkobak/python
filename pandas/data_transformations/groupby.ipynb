{
 "cells": [
  {
   "cell_type": "markdown",
   "id": "a4e18171-64f2-4c77-a398-735e07225cd7",
   "metadata": {},
   "source": [
    "# Groupby\n",
    "\n",
    "`pd.DataFrame.groupby` is a very useful tool, but sometimes working with it can be a bit confusing. So in this page I want to pay more attention to some functions and cases.\n",
    "\n",
    "The most useful page for learning is <a href=\"https://pandas.pydata.org/docs/reference/groupby.html\">GroupBy object in pandas documentation</a>."
   ]
  },
  {
   "cell_type": "markdown",
   "id": "2a9f8e6c-65de-419e-b405-a431c07c7e4d",
   "metadata": {},
   "source": [
    "## Basic frame\n",
    "\n",
    "There are many examples of the same type in this section, so unless specified by default I will use the dataset declared below."
   ]
  },
  {
   "cell_type": "code",
   "execution_count": 2,
   "id": "0b5b9a08-8eca-459b-bd6c-2b96a7091a48",
   "metadata": {},
   "outputs": [
    {
     "data": {
      "text/html": [
       "<div>\n",
       "<style scoped>\n",
       "    .dataframe tbody tr th:only-of-type {\n",
       "        vertical-align: middle;\n",
       "    }\n",
       "\n",
       "    .dataframe tbody tr th {\n",
       "        vertical-align: top;\n",
       "    }\n",
       "\n",
       "    .dataframe thead th {\n",
       "        text-align: right;\n",
       "    }\n",
       "</style>\n",
       "<table border=\"1\" class=\"dataframe\">\n",
       "  <thead>\n",
       "    <tr style=\"text-align: right;\">\n",
       "      <th></th>\n",
       "      <th>A</th>\n",
       "      <th>B</th>\n",
       "      <th>C</th>\n",
       "    </tr>\n",
       "  </thead>\n",
       "  <tbody>\n",
       "    <tr>\n",
       "      <th>0</th>\n",
       "      <td>a</td>\n",
       "      <td>2</td>\n",
       "      <td>10</td>\n",
       "    </tr>\n",
       "    <tr>\n",
       "      <th>1</th>\n",
       "      <td>a</td>\n",
       "      <td>1</td>\n",
       "      <td>20</td>\n",
       "    </tr>\n",
       "    <tr>\n",
       "      <th>2</th>\n",
       "      <td>b</td>\n",
       "      <td>3</td>\n",
       "      <td>30</td>\n",
       "    </tr>\n",
       "    <tr>\n",
       "      <th>3</th>\n",
       "      <td>b</td>\n",
       "      <td>4</td>\n",
       "      <td>40</td>\n",
       "    </tr>\n",
       "    <tr>\n",
       "      <th>4</th>\n",
       "      <td>c</td>\n",
       "      <td>6</td>\n",
       "      <td>50</td>\n",
       "    </tr>\n",
       "    <tr>\n",
       "      <th>5</th>\n",
       "      <td>c</td>\n",
       "      <td>5</td>\n",
       "      <td>60</td>\n",
       "    </tr>\n",
       "  </tbody>\n",
       "</table>\n",
       "</div>"
      ],
      "text/plain": [
       "   A  B   C\n",
       "0  a  2  10\n",
       "1  a  1  20\n",
       "2  b  3  30\n",
       "3  b  4  40\n",
       "4  c  6  50\n",
       "5  c  5  60"
      ]
     },
     "execution_count": 2,
     "metadata": {},
     "output_type": "execute_result"
    }
   ],
   "source": [
    "import pandas as pd\n",
    "from IPython.display import HTML\n",
    "\n",
    "basic_frame = pd.DataFrame({'A': ['a', 'a', 'b', 'b', 'c', 'c'],\n",
    "                   'B': [2, 1, 3, 4, 6, 5],\n",
    "                   'C': [10, 20, 30, 40, 50, 60]})\n",
    "\n",
    "basic_frame"
   ]
  },
  {
   "cell_type": "markdown",
   "id": "28170813-2825-48ab-b4b6-ff02ec24cffe",
   "metadata": {},
   "source": [
    "## `pd.groupby`\n",
    "\n",
    "Here I describe basic usage of `pandas.groupby` function. For a formal description, see the <a href=\"https://pandas.pydata.org/docs/reference/api/pandas.DataFrame.groupby.html\">official pandas documntation for this function</a>."
   ]
  },
  {
   "cell_type": "markdown",
   "id": "d87be323-22af-4a96-98b1-492f99ea9f83",
   "metadata": {},
   "source": [
    "### `as_idnex`\n",
    "\n",
    "\n",
    "Setting this value to `True` allows you to say that the aggregation variable should not be used as an index.\n",
    "\n",
    "So in the following example I show the difference.\n",
    "\n",
    "**Note** In the first case the return is `padnas.Series` just because I called it that way, but in the second case it's not a dataframe that pandas has to use as a result."
   ]
  },
  {
   "cell_type": "code",
   "execution_count": 2,
   "id": "20e71bee-d74f-4868-90e5-f8157260bf01",
   "metadata": {},
   "outputs": [
    {
     "data": {
      "text/html": [
       "<b>as_index=True</b>"
      ],
      "text/plain": [
       "<IPython.core.display.HTML object>"
      ]
     },
     "metadata": {},
     "output_type": "display_data"
    },
    {
     "data": {
      "text/plain": [
       "A\n",
       "a     30\n",
       "b     70\n",
       "c    110\n",
       "Name: C, dtype: int64"
      ]
     },
     "metadata": {},
     "output_type": "display_data"
    },
    {
     "data": {
      "text/html": [
       "<b>as_index=False</b>"
      ],
      "text/plain": [
       "<IPython.core.display.HTML object>"
      ]
     },
     "metadata": {},
     "output_type": "display_data"
    },
    {
     "data": {
      "text/html": [
       "<div>\n",
       "<style scoped>\n",
       "    .dataframe tbody tr th:only-of-type {\n",
       "        vertical-align: middle;\n",
       "    }\n",
       "\n",
       "    .dataframe tbody tr th {\n",
       "        vertical-align: top;\n",
       "    }\n",
       "\n",
       "    .dataframe thead th {\n",
       "        text-align: right;\n",
       "    }\n",
       "</style>\n",
       "<table border=\"1\" class=\"dataframe\">\n",
       "  <thead>\n",
       "    <tr style=\"text-align: right;\">\n",
       "      <th></th>\n",
       "      <th>A</th>\n",
       "      <th>C</th>\n",
       "    </tr>\n",
       "  </thead>\n",
       "  <tbody>\n",
       "    <tr>\n",
       "      <th>0</th>\n",
       "      <td>a</td>\n",
       "      <td>30</td>\n",
       "    </tr>\n",
       "    <tr>\n",
       "      <th>1</th>\n",
       "      <td>b</td>\n",
       "      <td>70</td>\n",
       "    </tr>\n",
       "    <tr>\n",
       "      <th>2</th>\n",
       "      <td>c</td>\n",
       "      <td>110</td>\n",
       "    </tr>\n",
       "  </tbody>\n",
       "</table>\n",
       "</div>"
      ],
      "text/plain": [
       "   A    C\n",
       "0  a   30\n",
       "1  b   70\n",
       "2  c  110"
      ]
     },
     "metadata": {},
     "output_type": "display_data"
    }
   ],
   "source": [
    "display(HTML(\"<b>as_index=True</b>\"))\n",
    "display(basic_frame.groupby(\"A\", as_index=True)[\"C\"].sum())\n",
    "display(HTML(\"<b>as_index=False</b>\"))\n",
    "display(basic_frame.groupby(\"A\", as_index=False)[\"C\"].sum())"
   ]
  },
  {
   "cell_type": "markdown",
   "id": "790cfc55-04d8-4354-befe-44b930de79d1",
   "metadata": {},
   "source": [
    "### `observed`\n",
    "\n",
    "In the categorical datatype there is a possible case where a category exists but never appears in `series'. This parameter describes whether unobserved catetories will be used in `groupby` results (False) or only observed categories will be used (True).\n",
    "\n",
    "So in the following example I changed a datatype for the `A` column to `category`, added a new category `l` but no new observation corresponding to this category, and finally tried all options for the `observed` parameter. In the first case we don't have `l` in the groupby result index, in the second we do."
   ]
  },
  {
   "cell_type": "code",
   "execution_count": 29,
   "id": "d69352a4-5b5f-4a05-a230-049cb4e0d52f",
   "metadata": {},
   "outputs": [
    {
     "data": {
      "text/html": [
       "<b style=\"font-size:120%\">=====observed=True=====</b>"
      ],
      "text/plain": [
       "<IPython.core.display.HTML object>"
      ]
     },
     "metadata": {},
     "output_type": "display_data"
    },
    {
     "data": {
      "text/html": [
       "<div>\n",
       "<style scoped>\n",
       "    .dataframe tbody tr th:only-of-type {\n",
       "        vertical-align: middle;\n",
       "    }\n",
       "\n",
       "    .dataframe tbody tr th {\n",
       "        vertical-align: top;\n",
       "    }\n",
       "\n",
       "    .dataframe thead th {\n",
       "        text-align: right;\n",
       "    }\n",
       "</style>\n",
       "<table border=\"1\" class=\"dataframe\">\n",
       "  <thead>\n",
       "    <tr style=\"text-align: right;\">\n",
       "      <th></th>\n",
       "      <th>B</th>\n",
       "      <th>C</th>\n",
       "    </tr>\n",
       "    <tr>\n",
       "      <th>A</th>\n",
       "      <th></th>\n",
       "      <th></th>\n",
       "    </tr>\n",
       "  </thead>\n",
       "  <tbody>\n",
       "    <tr>\n",
       "      <th>a</th>\n",
       "      <td>3</td>\n",
       "      <td>30</td>\n",
       "    </tr>\n",
       "    <tr>\n",
       "      <th>b</th>\n",
       "      <td>7</td>\n",
       "      <td>70</td>\n",
       "    </tr>\n",
       "    <tr>\n",
       "      <th>c</th>\n",
       "      <td>11</td>\n",
       "      <td>110</td>\n",
       "    </tr>\n",
       "  </tbody>\n",
       "</table>\n",
       "</div>"
      ],
      "text/plain": [
       "    B    C\n",
       "A         \n",
       "a   3   30\n",
       "b   7   70\n",
       "c  11  110"
      ]
     },
     "metadata": {},
     "output_type": "display_data"
    },
    {
     "data": {
      "text/html": [
       "<b style=\"font-size:120%\">=====observed=False=====</b>"
      ],
      "text/plain": [
       "<IPython.core.display.HTML object>"
      ]
     },
     "metadata": {},
     "output_type": "display_data"
    },
    {
     "data": {
      "text/html": [
       "<div>\n",
       "<style scoped>\n",
       "    .dataframe tbody tr th:only-of-type {\n",
       "        vertical-align: middle;\n",
       "    }\n",
       "\n",
       "    .dataframe tbody tr th {\n",
       "        vertical-align: top;\n",
       "    }\n",
       "\n",
       "    .dataframe thead th {\n",
       "        text-align: right;\n",
       "    }\n",
       "</style>\n",
       "<table border=\"1\" class=\"dataframe\">\n",
       "  <thead>\n",
       "    <tr style=\"text-align: right;\">\n",
       "      <th></th>\n",
       "      <th>B</th>\n",
       "      <th>C</th>\n",
       "    </tr>\n",
       "    <tr>\n",
       "      <th>A</th>\n",
       "      <th></th>\n",
       "      <th></th>\n",
       "    </tr>\n",
       "  </thead>\n",
       "  <tbody>\n",
       "    <tr>\n",
       "      <th>a</th>\n",
       "      <td>3</td>\n",
       "      <td>30</td>\n",
       "    </tr>\n",
       "    <tr>\n",
       "      <th>b</th>\n",
       "      <td>7</td>\n",
       "      <td>70</td>\n",
       "    </tr>\n",
       "    <tr>\n",
       "      <th>c</th>\n",
       "      <td>11</td>\n",
       "      <td>110</td>\n",
       "    </tr>\n",
       "    <tr>\n",
       "      <th>l</th>\n",
       "      <td>0</td>\n",
       "      <td>0</td>\n",
       "    </tr>\n",
       "  </tbody>\n",
       "</table>\n",
       "</div>"
      ],
      "text/plain": [
       "    B    C\n",
       "A         \n",
       "a   3   30\n",
       "b   7   70\n",
       "c  11  110\n",
       "l   0    0"
      ]
     },
     "metadata": {},
     "output_type": "display_data"
    }
   ],
   "source": [
    "example_frame = basic_frame.copy()\n",
    "example_frame[\"A\"] = example_frame[\"A\"].\\\n",
    "                        astype(\"category\").cat.\\\n",
    "                        add_categories(\"l\")\n",
    "\n",
    "display(\n",
    "    HTML(\"<b style=\\\"font-size:120%\\\">=====observed=True=====</b>\")\n",
    ")\n",
    "display(\n",
    "    example_frame.groupby(\"A\", observed=True).sum()\n",
    ")\n",
    "\n",
    "display(\n",
    "    HTML(\"<b style=\\\"font-size:120%\\\">=====observed=False=====</b>\")\n",
    ")\n",
    "display(\n",
    "    example_frame.groupby(\"A\", observed=False).sum()\n",
    ")"
   ]
  },
  {
   "cell_type": "markdown",
   "id": "b18ab54a-b6b0-4b70-b8ae-cbef93a33ca3",
   "metadata": {},
   "source": [
    "## Iterating\n",
    "\n",
    "You can iterate trow `pandas.DataFrame.groupby` retults. In each eteration you will get tuple of two values:\n",
    "\n",
    "- Value of the grouping variable for this iteration;\n",
    "- Sub-sampling from the original data set corresponding to the considered value of the grouping variable.\n",
    "\n",
    "So in the following example I show the result of the first iteration under `pandas.DataFrameGroupby` result and then show a case of using it in the cycle. "
   ]
  },
  {
   "cell_type": "code",
   "execution_count": 3,
   "id": "096d5791-2c77-403d-b3dd-3662abfc8994",
   "metadata": {},
   "outputs": [
    {
     "data": {
      "text/html": [
       "<b>Some iteration returns</b>"
      ],
      "text/plain": [
       "<IPython.core.display.HTML object>"
      ]
     },
     "metadata": {},
     "output_type": "display_data"
    },
    {
     "data": {
      "text/plain": [
       "('a',\n",
       "    A  B   C\n",
       " 0  a  2  10\n",
       " 1  a  1  20)"
      ]
     },
     "metadata": {},
     "output_type": "display_data"
    },
    {
     "data": {
      "text/html": [
       "<b>Whole cycle</b>"
      ],
      "text/plain": [
       "<IPython.core.display.HTML object>"
      ]
     },
     "metadata": {},
     "output_type": "display_data"
    },
    {
     "name": "stdout",
     "output_type": "stream",
     "text": [
      "====a=====\n"
     ]
    },
    {
     "data": {
      "text/html": [
       "<div>\n",
       "<style scoped>\n",
       "    .dataframe tbody tr th:only-of-type {\n",
       "        vertical-align: middle;\n",
       "    }\n",
       "\n",
       "    .dataframe tbody tr th {\n",
       "        vertical-align: top;\n",
       "    }\n",
       "\n",
       "    .dataframe thead th {\n",
       "        text-align: right;\n",
       "    }\n",
       "</style>\n",
       "<table border=\"1\" class=\"dataframe\">\n",
       "  <thead>\n",
       "    <tr style=\"text-align: right;\">\n",
       "      <th></th>\n",
       "      <th>A</th>\n",
       "      <th>B</th>\n",
       "      <th>C</th>\n",
       "    </tr>\n",
       "  </thead>\n",
       "  <tbody>\n",
       "    <tr>\n",
       "      <th>0</th>\n",
       "      <td>a</td>\n",
       "      <td>2</td>\n",
       "      <td>10</td>\n",
       "    </tr>\n",
       "    <tr>\n",
       "      <th>1</th>\n",
       "      <td>a</td>\n",
       "      <td>1</td>\n",
       "      <td>20</td>\n",
       "    </tr>\n",
       "  </tbody>\n",
       "</table>\n",
       "</div>"
      ],
      "text/plain": [
       "   A  B   C\n",
       "0  a  2  10\n",
       "1  a  1  20"
      ]
     },
     "metadata": {},
     "output_type": "display_data"
    },
    {
     "name": "stdout",
     "output_type": "stream",
     "text": [
      "====b=====\n"
     ]
    },
    {
     "data": {
      "text/html": [
       "<div>\n",
       "<style scoped>\n",
       "    .dataframe tbody tr th:only-of-type {\n",
       "        vertical-align: middle;\n",
       "    }\n",
       "\n",
       "    .dataframe tbody tr th {\n",
       "        vertical-align: top;\n",
       "    }\n",
       "\n",
       "    .dataframe thead th {\n",
       "        text-align: right;\n",
       "    }\n",
       "</style>\n",
       "<table border=\"1\" class=\"dataframe\">\n",
       "  <thead>\n",
       "    <tr style=\"text-align: right;\">\n",
       "      <th></th>\n",
       "      <th>A</th>\n",
       "      <th>B</th>\n",
       "      <th>C</th>\n",
       "    </tr>\n",
       "  </thead>\n",
       "  <tbody>\n",
       "    <tr>\n",
       "      <th>2</th>\n",
       "      <td>b</td>\n",
       "      <td>3</td>\n",
       "      <td>30</td>\n",
       "    </tr>\n",
       "    <tr>\n",
       "      <th>3</th>\n",
       "      <td>b</td>\n",
       "      <td>4</td>\n",
       "      <td>40</td>\n",
       "    </tr>\n",
       "  </tbody>\n",
       "</table>\n",
       "</div>"
      ],
      "text/plain": [
       "   A  B   C\n",
       "2  b  3  30\n",
       "3  b  4  40"
      ]
     },
     "metadata": {},
     "output_type": "display_data"
    },
    {
     "name": "stdout",
     "output_type": "stream",
     "text": [
      "====c=====\n"
     ]
    },
    {
     "data": {
      "text/html": [
       "<div>\n",
       "<style scoped>\n",
       "    .dataframe tbody tr th:only-of-type {\n",
       "        vertical-align: middle;\n",
       "    }\n",
       "\n",
       "    .dataframe tbody tr th {\n",
       "        vertical-align: top;\n",
       "    }\n",
       "\n",
       "    .dataframe thead th {\n",
       "        text-align: right;\n",
       "    }\n",
       "</style>\n",
       "<table border=\"1\" class=\"dataframe\">\n",
       "  <thead>\n",
       "    <tr style=\"text-align: right;\">\n",
       "      <th></th>\n",
       "      <th>A</th>\n",
       "      <th>B</th>\n",
       "      <th>C</th>\n",
       "    </tr>\n",
       "  </thead>\n",
       "  <tbody>\n",
       "    <tr>\n",
       "      <th>4</th>\n",
       "      <td>c</td>\n",
       "      <td>6</td>\n",
       "      <td>50</td>\n",
       "    </tr>\n",
       "    <tr>\n",
       "      <th>5</th>\n",
       "      <td>c</td>\n",
       "      <td>5</td>\n",
       "      <td>60</td>\n",
       "    </tr>\n",
       "  </tbody>\n",
       "</table>\n",
       "</div>"
      ],
      "text/plain": [
       "   A  B   C\n",
       "4  c  6  50\n",
       "5  c  5  60"
      ]
     },
     "metadata": {},
     "output_type": "display_data"
    }
   ],
   "source": [
    "display(HTML(\"<b>Some iteration returns</b>\"))\n",
    "display(next(basic_frame.groupby(\"A\").__iter__()))\n",
    "\n",
    "display(HTML(\"<b>Whole cycle</b>\"))\n",
    "for a_val, subframe in basic_frame.groupby(\"A\"):\n",
    "    print(\"====\" + a_val + \"=====\")\n",
    "    display(subframe)"
   ]
  },
  {
   "cell_type": "markdown",
   "id": "571e93a6-4dff-4d8b-b814-13a82aaf5f10",
   "metadata": {},
   "source": [
    "## External group array\n",
    "\n",
    "You can use an arbitrary array (that is not a column of the dataframe being grouped) for grouping.\n",
    "\n",
    "So in the following example I use list shat markers to split the dataframe into two groups `x` and `y`."
   ]
  },
  {
   "cell_type": "code",
   "execution_count": 4,
   "id": "8998dad5-a5e4-4630-8208-b8b94e54cb3d",
   "metadata": {},
   "outputs": [
    {
     "data": {
      "text/html": [
       "<b>Input dataframe</b>"
      ],
      "text/plain": [
       "<IPython.core.display.HTML object>"
      ]
     },
     "metadata": {},
     "output_type": "display_data"
    },
    {
     "data": {
      "text/html": [
       "<div>\n",
       "<style scoped>\n",
       "    .dataframe tbody tr th:only-of-type {\n",
       "        vertical-align: middle;\n",
       "    }\n",
       "\n",
       "    .dataframe tbody tr th {\n",
       "        vertical-align: top;\n",
       "    }\n",
       "\n",
       "    .dataframe thead th {\n",
       "        text-align: right;\n",
       "    }\n",
       "</style>\n",
       "<table border=\"1\" class=\"dataframe\">\n",
       "  <thead>\n",
       "    <tr style=\"text-align: right;\">\n",
       "      <th></th>\n",
       "      <th>A</th>\n",
       "      <th>B</th>\n",
       "      <th>C</th>\n",
       "    </tr>\n",
       "  </thead>\n",
       "  <tbody>\n",
       "    <tr>\n",
       "      <th>0</th>\n",
       "      <td>a</td>\n",
       "      <td>2</td>\n",
       "      <td>10</td>\n",
       "    </tr>\n",
       "    <tr>\n",
       "      <th>1</th>\n",
       "      <td>a</td>\n",
       "      <td>1</td>\n",
       "      <td>20</td>\n",
       "    </tr>\n",
       "    <tr>\n",
       "      <th>2</th>\n",
       "      <td>b</td>\n",
       "      <td>3</td>\n",
       "      <td>30</td>\n",
       "    </tr>\n",
       "    <tr>\n",
       "      <th>3</th>\n",
       "      <td>b</td>\n",
       "      <td>4</td>\n",
       "      <td>40</td>\n",
       "    </tr>\n",
       "    <tr>\n",
       "      <th>4</th>\n",
       "      <td>c</td>\n",
       "      <td>6</td>\n",
       "      <td>50</td>\n",
       "    </tr>\n",
       "    <tr>\n",
       "      <th>5</th>\n",
       "      <td>c</td>\n",
       "      <td>5</td>\n",
       "      <td>60</td>\n",
       "    </tr>\n",
       "  </tbody>\n",
       "</table>\n",
       "</div>"
      ],
      "text/plain": [
       "   A  B   C\n",
       "0  a  2  10\n",
       "1  a  1  20\n",
       "2  b  3  30\n",
       "3  b  4  40\n",
       "4  c  6  50\n",
       "5  c  5  60"
      ]
     },
     "metadata": {},
     "output_type": "display_data"
    },
    {
     "data": {
      "text/html": [
       "<b>Group variable</b>"
      ],
      "text/plain": [
       "<IPython.core.display.HTML object>"
      ]
     },
     "metadata": {},
     "output_type": "display_data"
    },
    {
     "data": {
      "text/plain": [
       "['x', 'x', 'x', 'y', 'y', 'y']"
      ]
     },
     "metadata": {},
     "output_type": "display_data"
    },
    {
     "data": {
      "text/html": [
       "<div>\n",
       "<style scoped>\n",
       "    .dataframe tbody tr th:only-of-type {\n",
       "        vertical-align: middle;\n",
       "    }\n",
       "\n",
       "    .dataframe tbody tr th {\n",
       "        vertical-align: top;\n",
       "    }\n",
       "\n",
       "    .dataframe thead th {\n",
       "        text-align: right;\n",
       "    }\n",
       "</style>\n",
       "<table border=\"1\" class=\"dataframe\">\n",
       "  <thead>\n",
       "    <tr style=\"text-align: right;\">\n",
       "      <th></th>\n",
       "      <th>A</th>\n",
       "      <th>B</th>\n",
       "      <th>C</th>\n",
       "    </tr>\n",
       "  </thead>\n",
       "  <tbody>\n",
       "    <tr>\n",
       "      <th>x</th>\n",
       "      <td>aab</td>\n",
       "      <td>6</td>\n",
       "      <td>60</td>\n",
       "    </tr>\n",
       "    <tr>\n",
       "      <th>y</th>\n",
       "      <td>bcc</td>\n",
       "      <td>15</td>\n",
       "      <td>150</td>\n",
       "    </tr>\n",
       "  </tbody>\n",
       "</table>\n",
       "</div>"
      ],
      "text/plain": [
       "     A   B    C\n",
       "x  aab   6   60\n",
       "y  bcc  15  150"
      ]
     },
     "execution_count": 4,
     "metadata": {},
     "output_type": "execute_result"
    }
   ],
   "source": [
    "group_list = [\"x\", \"x\", \"x\", \"y\", \"y\", \"y\"]\n",
    "display(HTML(\"<b>Input dataframe</b>\"))\n",
    "display(basic_frame)\n",
    "display(HTML(\"<b>Group variable</b>\"))\n",
    "display(group_list)\n",
    "basic_frame.groupby(group_list).sum()"
   ]
  },
  {
   "cell_type": "markdown",
   "id": "1d072967-878d-421e-a627-47fedb4fef1b",
   "metadata": {},
   "source": [
    "You can even mix two external variables."
   ]
  },
  {
   "cell_type": "code",
   "execution_count": 5,
   "id": "bb5f3307-f4c2-459a-9156-097418c12c4a",
   "metadata": {},
   "outputs": [
    {
     "data": {
      "text/html": [
       "<b>Group variables</b>"
      ],
      "text/plain": [
       "<IPython.core.display.HTML object>"
      ]
     },
     "metadata": {},
     "output_type": "display_data"
    },
    {
     "data": {
      "text/plain": [
       "['x', 'x', 'x', 'y', 'y', 'y']"
      ]
     },
     "metadata": {},
     "output_type": "display_data"
    },
    {
     "data": {
      "text/plain": [
       "[1, 1, 2, 2, 2, 1]"
      ]
     },
     "metadata": {},
     "output_type": "display_data"
    },
    {
     "data": {
      "text/html": [
       "<div>\n",
       "<style scoped>\n",
       "    .dataframe tbody tr th:only-of-type {\n",
       "        vertical-align: middle;\n",
       "    }\n",
       "\n",
       "    .dataframe tbody tr th {\n",
       "        vertical-align: top;\n",
       "    }\n",
       "\n",
       "    .dataframe thead th {\n",
       "        text-align: right;\n",
       "    }\n",
       "</style>\n",
       "<table border=\"1\" class=\"dataframe\">\n",
       "  <thead>\n",
       "    <tr style=\"text-align: right;\">\n",
       "      <th></th>\n",
       "      <th></th>\n",
       "      <th>A</th>\n",
       "      <th>B</th>\n",
       "      <th>C</th>\n",
       "    </tr>\n",
       "  </thead>\n",
       "  <tbody>\n",
       "    <tr>\n",
       "      <th rowspan=\"2\" valign=\"top\">x</th>\n",
       "      <th>1</th>\n",
       "      <td>aa</td>\n",
       "      <td>3</td>\n",
       "      <td>30</td>\n",
       "    </tr>\n",
       "    <tr>\n",
       "      <th>2</th>\n",
       "      <td>b</td>\n",
       "      <td>3</td>\n",
       "      <td>30</td>\n",
       "    </tr>\n",
       "    <tr>\n",
       "      <th rowspan=\"2\" valign=\"top\">y</th>\n",
       "      <th>1</th>\n",
       "      <td>c</td>\n",
       "      <td>5</td>\n",
       "      <td>60</td>\n",
       "    </tr>\n",
       "    <tr>\n",
       "      <th>2</th>\n",
       "      <td>bc</td>\n",
       "      <td>10</td>\n",
       "      <td>90</td>\n",
       "    </tr>\n",
       "  </tbody>\n",
       "</table>\n",
       "</div>"
      ],
      "text/plain": [
       "      A   B   C\n",
       "x 1  aa   3  30\n",
       "  2   b   3  30\n",
       "y 1   c   5  60\n",
       "  2  bc  10  90"
      ]
     },
     "execution_count": 5,
     "metadata": {},
     "output_type": "execute_result"
    }
   ],
   "source": [
    "group_list1 = [\"x\", \"x\", \"x\", \"y\", \"y\", \"y\"]\n",
    "group_list2 = [1,1,2,2,2,1]\n",
    "display(HTML(\"<b>Group variables</b>\"))\n",
    "display(group_list1, group_list2)\n",
    "basic_frame.groupby([group_list1, group_list2]).sum()"
   ]
  },
  {
   "cell_type": "markdown",
   "id": "199b9a2a-4de0-45e5-a7a3-57b8688c02fe",
   "metadata": {},
   "source": [
    "Or mix external and internal variables in a `groupby`."
   ]
  },
  {
   "cell_type": "code",
   "execution_count": 6,
   "id": "81ae0368-1571-4a05-8f41-b15f42356647",
   "metadata": {},
   "outputs": [
    {
     "data": {
      "text/html": [
       "<b>Group variable</b>"
      ],
      "text/plain": [
       "<IPython.core.display.HTML object>"
      ]
     },
     "metadata": {},
     "output_type": "display_data"
    },
    {
     "data": {
      "text/plain": [
       "['x', 'x', 'x', 'y', 'y', 'y']"
      ]
     },
     "metadata": {},
     "output_type": "display_data"
    },
    {
     "data": {
      "text/html": [
       "<div>\n",
       "<style scoped>\n",
       "    .dataframe tbody tr th:only-of-type {\n",
       "        vertical-align: middle;\n",
       "    }\n",
       "\n",
       "    .dataframe tbody tr th {\n",
       "        vertical-align: top;\n",
       "    }\n",
       "\n",
       "    .dataframe thead th {\n",
       "        text-align: right;\n",
       "    }\n",
       "</style>\n",
       "<table border=\"1\" class=\"dataframe\">\n",
       "  <thead>\n",
       "    <tr style=\"text-align: right;\">\n",
       "      <th></th>\n",
       "      <th></th>\n",
       "      <th>B</th>\n",
       "      <th>C</th>\n",
       "    </tr>\n",
       "    <tr>\n",
       "      <th></th>\n",
       "      <th>A</th>\n",
       "      <th></th>\n",
       "      <th></th>\n",
       "    </tr>\n",
       "  </thead>\n",
       "  <tbody>\n",
       "    <tr>\n",
       "      <th rowspan=\"2\" valign=\"top\">x</th>\n",
       "      <th>a</th>\n",
       "      <td>3</td>\n",
       "      <td>30</td>\n",
       "    </tr>\n",
       "    <tr>\n",
       "      <th>b</th>\n",
       "      <td>3</td>\n",
       "      <td>30</td>\n",
       "    </tr>\n",
       "    <tr>\n",
       "      <th rowspan=\"2\" valign=\"top\">y</th>\n",
       "      <th>b</th>\n",
       "      <td>4</td>\n",
       "      <td>40</td>\n",
       "    </tr>\n",
       "    <tr>\n",
       "      <th>c</th>\n",
       "      <td>11</td>\n",
       "      <td>110</td>\n",
       "    </tr>\n",
       "  </tbody>\n",
       "</table>\n",
       "</div>"
      ],
      "text/plain": [
       "      B    C\n",
       "  A         \n",
       "x a   3   30\n",
       "  b   3   30\n",
       "y b   4   40\n",
       "  c  11  110"
      ]
     },
     "execution_count": 6,
     "metadata": {},
     "output_type": "execute_result"
    }
   ],
   "source": [
    "group_list = [\"x\", \"x\", \"x\", \"y\", \"y\", \"y\"]\n",
    "display(HTML(\"<b>Group variable</b>\"))\n",
    "display(group_list)\n",
    "basic_frame.groupby([group_list1, \"A\"]).sum()"
   ]
  },
  {
   "cell_type": "markdown",
   "id": "0f1e7840-d26e-46b0-b58e-f6e59ad1a797",
   "metadata": {},
   "source": [
    "## `agg` - rule by dict\n",
    "\n",
    "This is a way to apply aggregation functions using syntax `{<var_name_1>:<aggregation_function_1>, <var_name_2>:<aggregation_function_2>, ...}`.\n",
    "\n",
    "So in the following example, I use the above syntax to aggregate max `B` values and sum of `C` values by `A` subsets:"
   ]
  },
  {
   "cell_type": "code",
   "execution_count": 7,
   "id": "9ca202a2-4237-440a-afcc-d27d897abe89",
   "metadata": {},
   "outputs": [
    {
     "data": {
      "text/html": [
       "<b>Aggregation</b>"
      ],
      "text/plain": [
       "<IPython.core.display.HTML object>"
      ]
     },
     "metadata": {},
     "output_type": "display_data"
    },
    {
     "data": {
      "text/html": [
       "<div>\n",
       "<style scoped>\n",
       "    .dataframe tbody tr th:only-of-type {\n",
       "        vertical-align: middle;\n",
       "    }\n",
       "\n",
       "    .dataframe tbody tr th {\n",
       "        vertical-align: top;\n",
       "    }\n",
       "\n",
       "    .dataframe thead th {\n",
       "        text-align: right;\n",
       "    }\n",
       "</style>\n",
       "<table border=\"1\" class=\"dataframe\">\n",
       "  <thead>\n",
       "    <tr style=\"text-align: right;\">\n",
       "      <th></th>\n",
       "      <th>B</th>\n",
       "      <th>C</th>\n",
       "    </tr>\n",
       "    <tr>\n",
       "      <th>A</th>\n",
       "      <th></th>\n",
       "      <th></th>\n",
       "    </tr>\n",
       "  </thead>\n",
       "  <tbody>\n",
       "    <tr>\n",
       "      <th>a</th>\n",
       "      <td>2</td>\n",
       "      <td>30</td>\n",
       "    </tr>\n",
       "    <tr>\n",
       "      <th>b</th>\n",
       "      <td>4</td>\n",
       "      <td>70</td>\n",
       "    </tr>\n",
       "    <tr>\n",
       "      <th>c</th>\n",
       "      <td>6</td>\n",
       "      <td>110</td>\n",
       "    </tr>\n",
       "  </tbody>\n",
       "</table>\n",
       "</div>"
      ],
      "text/plain": [
       "   B    C\n",
       "A        \n",
       "a  2   30\n",
       "b  4   70\n",
       "c  6  110"
      ]
     },
     "metadata": {},
     "output_type": "display_data"
    }
   ],
   "source": [
    "display(HTML(\"<b>Aggregation</b>\"))\n",
    "display(basic_frame.groupby(\"A\").agg({\"B\":\"max\", \"C\":\"sum\"}))"
   ]
  },
  {
   "cell_type": "markdown",
   "id": "3d6bf63c-becf-439b-9f19-ff6ae940ff88",
   "metadata": {},
   "source": [
    "## `apply` - combine results\n",
    "\n",
    "<a href=\"https://pandas.pydata.org/docs/reference/api/pandas.core.groupby.DataFrameGroupBy.apply.html#pandas.core.groupby.DataFrameGroupBy.apply\">Pandas documentation about apply function.</a>"
   ]
  },
  {
   "cell_type": "markdown",
   "id": "745baaf0-22f6-4e82-879a-935b11bfa505",
   "metadata": {},
   "source": [
    "### Basic idea\n",
    "\n",
    "The peculiarity of this method is that it uses `pandas.DataFrame` as the input for the aggregation function.\n",
    "\n",
    "The following example shows this: `example_funtion' just prints the input and it always prints a DataFrame for each \"A\" variable option."
   ]
  },
  {
   "cell_type": "code",
   "execution_count": 8,
   "id": "ad60e7c8-5e03-4589-9a81-4442e3e43e66",
   "metadata": {},
   "outputs": [
    {
     "name": "stdout",
     "output_type": "stream",
     "text": [
      "=========\n",
      "   A  B   C\n",
      "0  a  2  10\n",
      "1  a  1  20\n",
      "=========\n",
      "   A  B   C\n",
      "2  b  3  30\n",
      "3  b  4  40\n",
      "=========\n",
      "   A  B   C\n",
      "4  c  6  50\n",
      "5  c  5  60\n"
     ]
    }
   ],
   "source": [
    "def example_funtion(subdf):\n",
    "    print(\"=========\")\n",
    "    print(subdf)\n",
    "    return 5\n",
    "\n",
    "res = basic_frame.groupby(\"A\")[\n",
    "    [\"A\", \"B\", \"C\"]\n",
    "].apply(example_funtion)"
   ]
  },
  {
   "cell_type": "markdown",
   "id": "bc479fe5-8c62-44ae-8461-0ad065f198c0",
   "metadata": {},
   "source": [
    "### Use case\n",
    "\n",
    "So it's perfect for cases where you need to get, for each variant of variable A, some value of variable C conditioned on the value of variable B.\n",
    "\n",
    "In particular, the following example shows how to obtain for each option of \"A\" the \"C\" value corresponding to the minimum \"B\" value.\n",
    "\n",
    "- For `\"A\" == \"a\"` I got `\"C\" == 20`, because it corresponds to `\"B\"== 1`, which is the minimum for every `\"A\" == \"a\"`;\n",
    "- For `\"A\" == \"b\"` I got `\"C\" == 30`, because it corresponds to `\"B\"== 3`, which is the minimum for every `\"A\" == \"b\"`;\n",
    "- For `\"A\" == \"c\"` I got `\"C\" == 60`, because it corresponds to `\"B\"== 5`, which is the minimum for every `\"A\" == \"c\"`."
   ]
  },
  {
   "cell_type": "code",
   "execution_count": 9,
   "id": "bbc1caa4-70ed-4eac-aeed-e51dc55586aa",
   "metadata": {},
   "outputs": [
    {
     "data": {
      "text/html": [
       "<b>Result</b>"
      ],
      "text/plain": [
       "<IPython.core.display.HTML object>"
      ]
     },
     "metadata": {},
     "output_type": "display_data"
    },
    {
     "data": {
      "text/html": [
       "<div>\n",
       "<style scoped>\n",
       "    .dataframe tbody tr th:only-of-type {\n",
       "        vertical-align: middle;\n",
       "    }\n",
       "\n",
       "    .dataframe tbody tr th {\n",
       "        vertical-align: top;\n",
       "    }\n",
       "\n",
       "    .dataframe thead th {\n",
       "        text-align: right;\n",
       "    }\n",
       "</style>\n",
       "<table border=\"1\" class=\"dataframe\">\n",
       "  <thead>\n",
       "    <tr style=\"text-align: right;\">\n",
       "      <th></th>\n",
       "      <th>C</th>\n",
       "    </tr>\n",
       "    <tr>\n",
       "      <th>A</th>\n",
       "      <th></th>\n",
       "    </tr>\n",
       "  </thead>\n",
       "  <tbody>\n",
       "    <tr>\n",
       "      <th>a</th>\n",
       "      <td>20</td>\n",
       "    </tr>\n",
       "    <tr>\n",
       "      <th>b</th>\n",
       "      <td>30</td>\n",
       "    </tr>\n",
       "    <tr>\n",
       "      <th>c</th>\n",
       "      <td>60</td>\n",
       "    </tr>\n",
       "  </tbody>\n",
       "</table>\n",
       "</div>"
      ],
      "text/plain": [
       "    C\n",
       "A    \n",
       "a  20\n",
       "b  30\n",
       "c  60"
      ]
     },
     "execution_count": 9,
     "metadata": {},
     "output_type": "execute_result"
    }
   ],
   "source": [
    "result = basic_frame.groupby(\"A\")[[\"B\", \"C\"]].apply(\n",
    "    lambda subset: subset.loc[subset[\"B\"].idxmin(), \"C\"]\n",
    ")\n",
    "display(HTML(\"<b>Result</b>\"))\n",
    "result.rename(\"C\").to_frame()"
   ]
  },
  {
   "cell_type": "markdown",
   "id": "d4515b24-e11c-4994-bba7-9de2db5280f9",
   "metadata": {},
   "source": [
    "### vs `agg`\n",
    "\n",
    "Other common function may seem useless because this function can do everything they can. However, according to the <a href=\"https://pandas.pydata.org/docs/reference/api/pandas.core.groupby.DataFrameGroupBy.apply.html#pandas.core.groupby.DataFrameGroupBy.apply\">pandas documentation</a>, they may work a little faster. I have not been able to test this yet."
   ]
  },
  {
   "cell_type": "markdown",
   "id": "0ea7ea53-e8cc-4c19-ba2f-af3d16734013",
   "metadata": {},
   "source": [
    "## `transform`\n",
    "\n",
    "This is a function that allows you to get aggregations as `pandas.Series`/`pandas.DataFrame` indexed like the original `pandas.DataFrame`."
   ]
  },
  {
   "cell_type": "markdown",
   "id": "da90b484-9883-45cf-b64e-356fc597e08a",
   "metadata": {},
   "source": [
    "For example, in the following cell, throw the `transform` function, for each record in the original `pandas.DataFrame` I got the mean value of `B` for each group in `A`."
   ]
  },
  {
   "cell_type": "code",
   "execution_count": 17,
   "id": "4ea665cb-ab1b-4055-b084-5df5f2c63fdf",
   "metadata": {},
   "outputs": [
    {
     "data": {
      "text/html": [
       "<div>\n",
       "<style scoped>\n",
       "    .dataframe tbody tr th:only-of-type {\n",
       "        vertical-align: middle;\n",
       "    }\n",
       "\n",
       "    .dataframe tbody tr th {\n",
       "        vertical-align: top;\n",
       "    }\n",
       "\n",
       "    .dataframe thead th {\n",
       "        text-align: right;\n",
       "    }\n",
       "</style>\n",
       "<table border=\"1\" class=\"dataframe\">\n",
       "  <thead>\n",
       "    <tr style=\"text-align: right;\">\n",
       "      <th></th>\n",
       "      <th>A</th>\n",
       "      <th>B</th>\n",
       "      <th>C</th>\n",
       "      <th>mean B by A</th>\n",
       "    </tr>\n",
       "  </thead>\n",
       "  <tbody>\n",
       "    <tr>\n",
       "      <th>0</th>\n",
       "      <td>a</td>\n",
       "      <td>2</td>\n",
       "      <td>10</td>\n",
       "      <td>1.5</td>\n",
       "    </tr>\n",
       "    <tr>\n",
       "      <th>1</th>\n",
       "      <td>a</td>\n",
       "      <td>1</td>\n",
       "      <td>20</td>\n",
       "      <td>1.5</td>\n",
       "    </tr>\n",
       "    <tr>\n",
       "      <th>2</th>\n",
       "      <td>b</td>\n",
       "      <td>3</td>\n",
       "      <td>30</td>\n",
       "      <td>3.5</td>\n",
       "    </tr>\n",
       "    <tr>\n",
       "      <th>3</th>\n",
       "      <td>b</td>\n",
       "      <td>4</td>\n",
       "      <td>40</td>\n",
       "      <td>3.5</td>\n",
       "    </tr>\n",
       "    <tr>\n",
       "      <th>4</th>\n",
       "      <td>c</td>\n",
       "      <td>6</td>\n",
       "      <td>50</td>\n",
       "      <td>5.5</td>\n",
       "    </tr>\n",
       "    <tr>\n",
       "      <th>5</th>\n",
       "      <td>c</td>\n",
       "      <td>5</td>\n",
       "      <td>60</td>\n",
       "      <td>5.5</td>\n",
       "    </tr>\n",
       "  </tbody>\n",
       "</table>\n",
       "</div>"
      ],
      "text/plain": [
       "   A  B   C  mean B by A\n",
       "0  a  2  10          1.5\n",
       "1  a  1  20          1.5\n",
       "2  b  3  30          3.5\n",
       "3  b  4  40          3.5\n",
       "4  c  6  50          5.5\n",
       "5  c  5  60          5.5"
      ]
     },
     "metadata": {},
     "output_type": "display_data"
    }
   ],
   "source": [
    "temp_frame = basic_frame.copy()\n",
    "\n",
    "temp_frame[\"mean B by A\"] = (\n",
    "    temp_frame.\n",
    "    groupby(\"A\")[\"B\"].\n",
    "    transform(\"mean\")\n",
    ")\n",
    "display(temp_frame)"
   ]
  },
  {
   "cell_type": "markdown",
   "id": "01347c88-780b-41f7-96b2-b4844831e508",
   "metadata": {},
   "source": [
    "Here I have a `pandas.DataFrame` that for each record from the original `pandas.DataFrame` matches the mean value of the `B` and `C` columns to the `A` column in a command."
   ]
  },
  {
   "cell_type": "code",
   "execution_count": 16,
   "id": "b6c4084d-713f-4100-b6ec-6bbe02b5cd44",
   "metadata": {},
   "outputs": [
    {
     "data": {
      "text/html": [
       "<div>\n",
       "<style scoped>\n",
       "    .dataframe tbody tr th:only-of-type {\n",
       "        vertical-align: middle;\n",
       "    }\n",
       "\n",
       "    .dataframe tbody tr th {\n",
       "        vertical-align: top;\n",
       "    }\n",
       "\n",
       "    .dataframe thead th {\n",
       "        text-align: right;\n",
       "    }\n",
       "</style>\n",
       "<table border=\"1\" class=\"dataframe\">\n",
       "  <thead>\n",
       "    <tr style=\"text-align: right;\">\n",
       "      <th></th>\n",
       "      <th>B</th>\n",
       "      <th>C</th>\n",
       "    </tr>\n",
       "  </thead>\n",
       "  <tbody>\n",
       "    <tr>\n",
       "      <th>0</th>\n",
       "      <td>1.5</td>\n",
       "      <td>15.0</td>\n",
       "    </tr>\n",
       "    <tr>\n",
       "      <th>1</th>\n",
       "      <td>1.5</td>\n",
       "      <td>15.0</td>\n",
       "    </tr>\n",
       "    <tr>\n",
       "      <th>2</th>\n",
       "      <td>3.5</td>\n",
       "      <td>35.0</td>\n",
       "    </tr>\n",
       "    <tr>\n",
       "      <th>3</th>\n",
       "      <td>3.5</td>\n",
       "      <td>35.0</td>\n",
       "    </tr>\n",
       "    <tr>\n",
       "      <th>4</th>\n",
       "      <td>5.5</td>\n",
       "      <td>55.0</td>\n",
       "    </tr>\n",
       "    <tr>\n",
       "      <th>5</th>\n",
       "      <td>5.5</td>\n",
       "      <td>55.0</td>\n",
       "    </tr>\n",
       "  </tbody>\n",
       "</table>\n",
       "</div>"
      ],
      "text/plain": [
       "     B     C\n",
       "0  1.5  15.0\n",
       "1  1.5  15.0\n",
       "2  3.5  35.0\n",
       "3  3.5  35.0\n",
       "4  5.5  55.0\n",
       "5  5.5  55.0"
      ]
     },
     "metadata": {},
     "output_type": "display_data"
    }
   ],
   "source": [
    "display(\n",
    "    temp_frame.\n",
    "    groupby(\"A\")[[\"B\", \"C\"]].\n",
    "    transform(\"mean\")\n",
    ")"
   ]
  },
  {
   "cell_type": "markdown",
   "id": "ab097ba0-cdef-4212-b582-66ca2a247218",
   "metadata": {},
   "source": [
    "## `sum`\n",
    "\n",
    "The basic function that allows you to get sums by groups."
   ]
  },
  {
   "cell_type": "markdown",
   "id": "b4483ee6-74bd-416f-9671-affc859e5e8f",
   "metadata": {},
   "source": [
    "### For `str` dtype\n",
    "\n",
    "If you apply the `sum` function to a variable containing a `str` datatype, it will concatenate observations by groups.\n",
    "\n",
    "So in the following example, this just happened with the `group text` column of the test dataframe."
   ]
  },
  {
   "cell_type": "code",
   "execution_count": 10,
   "id": "5201e540-8417-4ee3-98ca-b911cee62b4c",
   "metadata": {},
   "outputs": [
    {
     "data": {
      "text/html": [
       "<b>Initial frame</b>"
      ],
      "text/plain": [
       "<IPython.core.display.HTML object>"
      ]
     },
     "metadata": {},
     "output_type": "display_data"
    },
    {
     "data": {
      "text/html": [
       "<div>\n",
       "<style scoped>\n",
       "    .dataframe tbody tr th:only-of-type {\n",
       "        vertical-align: middle;\n",
       "    }\n",
       "\n",
       "    .dataframe tbody tr th {\n",
       "        vertical-align: top;\n",
       "    }\n",
       "\n",
       "    .dataframe thead th {\n",
       "        text-align: right;\n",
       "    }\n",
       "</style>\n",
       "<table border=\"1\" class=\"dataframe\">\n",
       "  <thead>\n",
       "    <tr style=\"text-align: right;\">\n",
       "      <th></th>\n",
       "      <th>group class</th>\n",
       "      <th>group numeric</th>\n",
       "      <th>group text</th>\n",
       "    </tr>\n",
       "  </thead>\n",
       "  <tbody>\n",
       "    <tr>\n",
       "      <th>0</th>\n",
       "      <td>a</td>\n",
       "      <td>3</td>\n",
       "      <td>hello</td>\n",
       "    </tr>\n",
       "    <tr>\n",
       "      <th>1</th>\n",
       "      <td>a</td>\n",
       "      <td>4</td>\n",
       "      <td>test</td>\n",
       "    </tr>\n",
       "    <tr>\n",
       "      <th>2</th>\n",
       "      <td>b</td>\n",
       "      <td>5</td>\n",
       "      <td>line3</td>\n",
       "    </tr>\n",
       "    <tr>\n",
       "      <th>3</th>\n",
       "      <td>b</td>\n",
       "      <td>1</td>\n",
       "      <td>superline</td>\n",
       "    </tr>\n",
       "  </tbody>\n",
       "</table>\n",
       "</div>"
      ],
      "text/plain": [
       "  group class  group numeric group text\n",
       "0           a              3      hello\n",
       "1           a              4       test\n",
       "2           b              5      line3\n",
       "3           b              1  superline"
      ]
     },
     "metadata": {},
     "output_type": "display_data"
    },
    {
     "data": {
      "text/html": [
       "<b>Aggregation result</b>"
      ],
      "text/plain": [
       "<IPython.core.display.HTML object>"
      ]
     },
     "metadata": {},
     "output_type": "display_data"
    },
    {
     "data": {
      "text/html": [
       "<div>\n",
       "<style scoped>\n",
       "    .dataframe tbody tr th:only-of-type {\n",
       "        vertical-align: middle;\n",
       "    }\n",
       "\n",
       "    .dataframe tbody tr th {\n",
       "        vertical-align: top;\n",
       "    }\n",
       "\n",
       "    .dataframe thead th {\n",
       "        text-align: right;\n",
       "    }\n",
       "</style>\n",
       "<table border=\"1\" class=\"dataframe\">\n",
       "  <thead>\n",
       "    <tr style=\"text-align: right;\">\n",
       "      <th></th>\n",
       "      <th>group numeric</th>\n",
       "      <th>group text</th>\n",
       "    </tr>\n",
       "    <tr>\n",
       "      <th>group class</th>\n",
       "      <th></th>\n",
       "      <th></th>\n",
       "    </tr>\n",
       "  </thead>\n",
       "  <tbody>\n",
       "    <tr>\n",
       "      <th>a</th>\n",
       "      <td>7</td>\n",
       "      <td>hellotest</td>\n",
       "    </tr>\n",
       "    <tr>\n",
       "      <th>b</th>\n",
       "      <td>6</td>\n",
       "      <td>line3superline</td>\n",
       "    </tr>\n",
       "  </tbody>\n",
       "</table>\n",
       "</div>"
      ],
      "text/plain": [
       "             group numeric      group text\n",
       "group class                               \n",
       "a                        7       hellotest\n",
       "b                        6  line3superline"
      ]
     },
     "execution_count": 10,
     "metadata": {},
     "output_type": "execute_result"
    }
   ],
   "source": [
    "test_df = pd.DataFrame({\n",
    "    \"group class\" : [\"a\", \"a\", \"b\", \"b\"],\n",
    "    \"group numeric\" : [3,4,5,1],\n",
    "    \"group text\" : [\"hello\", \"test\", \"line3\", \"superline\"]\n",
    "})\n",
    "display(HTML(\"<b>Initial frame</b>\"))\n",
    "display(test_df)\n",
    "display(HTML(\"<b>Aggregation result</b>\"))\n",
    "test_df.groupby(\"group class\").sum()"
   ]
  },
  {
   "cell_type": "markdown",
   "id": "978e01a0",
   "metadata": {},
   "source": [
    "## Shift\n",
    "\n",
    "The `shift` functions allows each value to be matched with the previous/next value in the same group. Check corresponding [documentation page](https://pandas.pydata.org/docs/reference/api/pandas.core.groupby.DataFrameGroupBy.shift.html)."
   ]
  },
  {
   "cell_type": "markdown",
   "id": "b8aed70b",
   "metadata": {},
   "source": [
    "---\n",
    "\n",
    "The next cell shows the application of the `shift` to the current data frame."
   ]
  },
  {
   "cell_type": "code",
   "execution_count": 10,
   "id": "bcb6fb56",
   "metadata": {},
   "outputs": [
    {
     "data": {
      "text/html": [
       "<div>\n",
       "<style scoped>\n",
       "    .dataframe tbody tr th:only-of-type {\n",
       "        vertical-align: middle;\n",
       "    }\n",
       "\n",
       "    .dataframe tbody tr th {\n",
       "        vertical-align: top;\n",
       "    }\n",
       "\n",
       "    .dataframe thead th {\n",
       "        text-align: right;\n",
       "    }\n",
       "</style>\n",
       "<table border=\"1\" class=\"dataframe\">\n",
       "  <thead>\n",
       "    <tr style=\"text-align: right;\">\n",
       "      <th></th>\n",
       "      <th>B</th>\n",
       "      <th>C</th>\n",
       "    </tr>\n",
       "  </thead>\n",
       "  <tbody>\n",
       "    <tr>\n",
       "      <th>0</th>\n",
       "      <td>NaN</td>\n",
       "      <td>NaN</td>\n",
       "    </tr>\n",
       "    <tr>\n",
       "      <th>1</th>\n",
       "      <td>2.0</td>\n",
       "      <td>10.0</td>\n",
       "    </tr>\n",
       "    <tr>\n",
       "      <th>2</th>\n",
       "      <td>NaN</td>\n",
       "      <td>NaN</td>\n",
       "    </tr>\n",
       "    <tr>\n",
       "      <th>3</th>\n",
       "      <td>3.0</td>\n",
       "      <td>30.0</td>\n",
       "    </tr>\n",
       "    <tr>\n",
       "      <th>4</th>\n",
       "      <td>NaN</td>\n",
       "      <td>NaN</td>\n",
       "    </tr>\n",
       "    <tr>\n",
       "      <th>5</th>\n",
       "      <td>6.0</td>\n",
       "      <td>50.0</td>\n",
       "    </tr>\n",
       "  </tbody>\n",
       "</table>\n",
       "</div>"
      ],
      "text/plain": [
       "     B     C\n",
       "0  NaN   NaN\n",
       "1  2.0  10.0\n",
       "2  NaN   NaN\n",
       "3  3.0  30.0\n",
       "4  NaN   NaN\n",
       "5  6.0  50.0"
      ]
     },
     "execution_count": 10,
     "metadata": {},
     "output_type": "execute_result"
    }
   ],
   "source": [
    "basic_frame.groupby(\"A\").shift(1)"
   ]
  },
  {
   "cell_type": "markdown",
   "id": "2da9b5b9",
   "metadata": {},
   "source": [
    "As a result, to each index corresponds to \"B\" and \"C\" values that were in the same \"A\" group but one position higher in the original table."
   ]
  }
 ],
 "metadata": {
  "kernelspec": {
   "display_name": "python",
   "language": "python",
   "name": "python3"
  },
  "language_info": {
   "codemirror_mode": {
    "name": "ipython",
    "version": 3
   },
   "file_extension": ".py",
   "mimetype": "text/x-python",
   "name": "python",
   "nbconvert_exporter": "python",
   "pygments_lexer": "ipython3",
   "version": "3.12.9"
  }
 },
 "nbformat": 4,
 "nbformat_minor": 5
}
