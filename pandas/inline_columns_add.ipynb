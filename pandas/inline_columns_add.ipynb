{
 "cells": [
  {
   "cell_type": "markdown",
   "id": "29eb2b4e-cd40-4fc6-a9f9-8604dce4f37e",
   "metadata": {},
   "source": [
    "# Inline column add (assign)\n",
    "\n",
    "Sometimes you need to create temporary columns for certain calculations and don't need a new column in other calculations. For this purpose, it is very convenient to have a method that allows you to return the same database but with new columns. For such purposes you can use `pandas.DataFrame.assign`. See basic examples in <a href=\"https://pandas.pydata.org/docs/reference/api/pandas.DataFrame.assign.html\">pandas documentation</a>."
   ]
  },
  {
   "cell_type": "code",
   "execution_count": 1,
   "id": "c4564895-7c45-48f7-8aab-93165aea5efe",
   "metadata": {},
   "outputs": [],
   "source": [
    "import numpy as np\n",
    "import pandas as pd\n",
    "\n",
    "from IPython.display import HTML"
   ]
  },
  {
   "cell_type": "markdown",
   "id": "3a6dceb6-90f8-425f-9046-a95e369ee711",
   "metadata": {},
   "source": [
    "## Use case\n",
    "\n",
    "Let's say you need to group your data frame by the sum of the columns. Example data frame generated in the following cell."
   ]
  },
  {
   "cell_type": "code",
   "execution_count": 2,
   "id": "95e0c229-6b24-449c-9114-a8748d66617a",
   "metadata": {},
   "outputs": [
    {
     "data": {
      "text/html": [
       "<div>\n",
       "<style scoped>\n",
       "    .dataframe tbody tr th:only-of-type {\n",
       "        vertical-align: middle;\n",
       "    }\n",
       "\n",
       "    .dataframe tbody tr th {\n",
       "        vertical-align: top;\n",
       "    }\n",
       "\n",
       "    .dataframe thead th {\n",
       "        text-align: right;\n",
       "    }\n",
       "</style>\n",
       "<table border=\"1\" class=\"dataframe\">\n",
       "  <thead>\n",
       "    <tr style=\"text-align: right;\">\n",
       "      <th></th>\n",
       "      <th>group col1</th>\n",
       "      <th>group col2</th>\n",
       "    </tr>\n",
       "  </thead>\n",
       "  <tbody>\n",
       "    <tr>\n",
       "      <th>0</th>\n",
       "      <td>11</td>\n",
       "      <td>10</td>\n",
       "    </tr>\n",
       "    <tr>\n",
       "      <th>1</th>\n",
       "      <td>11</td>\n",
       "      <td>13</td>\n",
       "    </tr>\n",
       "    <tr>\n",
       "      <th>2</th>\n",
       "      <td>10</td>\n",
       "      <td>10</td>\n",
       "    </tr>\n",
       "    <tr>\n",
       "      <th>3</th>\n",
       "      <td>13</td>\n",
       "      <td>10</td>\n",
       "    </tr>\n",
       "    <tr>\n",
       "      <th>4</th>\n",
       "      <td>10</td>\n",
       "      <td>13</td>\n",
       "    </tr>\n",
       "    <tr>\n",
       "      <th>5</th>\n",
       "      <td>11</td>\n",
       "      <td>13</td>\n",
       "    </tr>\n",
       "    <tr>\n",
       "      <th>6</th>\n",
       "      <td>13</td>\n",
       "      <td>12</td>\n",
       "    </tr>\n",
       "    <tr>\n",
       "      <th>7</th>\n",
       "      <td>10</td>\n",
       "      <td>10</td>\n",
       "    </tr>\n",
       "    <tr>\n",
       "      <th>8</th>\n",
       "      <td>11</td>\n",
       "      <td>13</td>\n",
       "    </tr>\n",
       "    <tr>\n",
       "      <th>9</th>\n",
       "      <td>11</td>\n",
       "      <td>12</td>\n",
       "    </tr>\n",
       "    <tr>\n",
       "      <th>10</th>\n",
       "      <td>10</td>\n",
       "      <td>12</td>\n",
       "    </tr>\n",
       "    <tr>\n",
       "      <th>11</th>\n",
       "      <td>11</td>\n",
       "      <td>11</td>\n",
       "    </tr>\n",
       "    <tr>\n",
       "      <th>12</th>\n",
       "      <td>11</td>\n",
       "      <td>10</td>\n",
       "    </tr>\n",
       "    <tr>\n",
       "      <th>13</th>\n",
       "      <td>12</td>\n",
       "      <td>10</td>\n",
       "    </tr>\n",
       "    <tr>\n",
       "      <th>14</th>\n",
       "      <td>10</td>\n",
       "      <td>12</td>\n",
       "    </tr>\n",
       "    <tr>\n",
       "      <th>15</th>\n",
       "      <td>11</td>\n",
       "      <td>11</td>\n",
       "    </tr>\n",
       "    <tr>\n",
       "      <th>16</th>\n",
       "      <td>10</td>\n",
       "      <td>13</td>\n",
       "    </tr>\n",
       "    <tr>\n",
       "      <th>17</th>\n",
       "      <td>12</td>\n",
       "      <td>12</td>\n",
       "    </tr>\n",
       "    <tr>\n",
       "      <th>18</th>\n",
       "      <td>10</td>\n",
       "      <td>11</td>\n",
       "    </tr>\n",
       "    <tr>\n",
       "      <th>19</th>\n",
       "      <td>12</td>\n",
       "      <td>11</td>\n",
       "    </tr>\n",
       "  </tbody>\n",
       "</table>\n",
       "</div>"
      ],
      "text/plain": [
       "    group col1  group col2\n",
       "0           11          10\n",
       "1           11          13\n",
       "2           10          10\n",
       "3           13          10\n",
       "4           10          13\n",
       "5           11          13\n",
       "6           13          12\n",
       "7           10          10\n",
       "8           11          13\n",
       "9           11          12\n",
       "10          10          12\n",
       "11          11          11\n",
       "12          11          10\n",
       "13          12          10\n",
       "14          10          12\n",
       "15          11          11\n",
       "16          10          13\n",
       "17          12          12\n",
       "18          10          11\n",
       "19          12          11"
      ]
     },
     "execution_count": 2,
     "metadata": {},
     "output_type": "execute_result"
    }
   ],
   "source": [
    "sample_size = 20\n",
    "np.random.seed(10)\n",
    "\n",
    "show_df = pd.DataFrame({\n",
    "    \"group col1\" : np.random.randint(10, 14, sample_size),\n",
    "    \"group col2\" : np.random.randint(10, 14, sample_size)\n",
    "})\n",
    "show_df"
   ]
  },
  {
   "cell_type": "markdown",
   "id": "2d28fc88-9adb-4937-9396-7bdc7de6e7f3",
   "metadata": {},
   "source": [
    "Some combinations of numbers can give the same sum. For example, 10 + 12 = 22 and 11 + 11 = 22. If you just `groupby` both columns it will think they are different combinations, but we need to aggregate by the sum of the columns.\n",
    "\n",
    "The following cell shows that `groupby` both columns leads to wrong results."
   ]
  },
  {
   "cell_type": "code",
   "execution_count": 3,
   "id": "b8f32199-b157-4b00-94c8-522e0e552688",
   "metadata": {},
   "outputs": [
    {
     "data": {
      "text/plain": [
       "{(10, 10): 2,\n",
       " (10, 11): 1,\n",
       " (10, 12): 2,\n",
       " (10, 13): 2,\n",
       " (11, 10): 2,\n",
       " (11, 11): 2,\n",
       " (11, 12): 1,\n",
       " (11, 13): 3,\n",
       " (12, 10): 1,\n",
       " (12, 11): 1,\n",
       " (12, 12): 1,\n",
       " (13, 10): 1,\n",
       " (13, 12): 1}"
      ]
     },
     "execution_count": 3,
     "metadata": {},
     "output_type": "execute_result"
    }
   ],
   "source": [
    "show_df.groupby([\"group col1\", \"group col2\"])[\"group col1\"].count().to_dict()"
   ]
  },
  {
   "cell_type": "markdown",
   "id": "4535c2d6-52e3-4714-97d6-06b36cd8d263",
   "metadata": {},
   "source": [
    "You can perform it using temporary dataframe. But it cause some unnecessary code and variables. Like in cell below."
   ]
  },
  {
   "cell_type": "code",
   "execution_count": 4,
   "id": "cc8a036e-cd5d-4f6f-83e6-b999ec668225",
   "metadata": {},
   "outputs": [
    {
     "data": {
      "text/html": [
       "<p style=\"font-size:15px\">Temp frame</p>"
      ],
      "text/plain": [
       "<IPython.core.display.HTML object>"
      ]
     },
     "metadata": {},
     "output_type": "display_data"
    },
    {
     "data": {
      "text/html": [
       "<div>\n",
       "<style scoped>\n",
       "    .dataframe tbody tr th:only-of-type {\n",
       "        vertical-align: middle;\n",
       "    }\n",
       "\n",
       "    .dataframe tbody tr th {\n",
       "        vertical-align: top;\n",
       "    }\n",
       "\n",
       "    .dataframe thead th {\n",
       "        text-align: right;\n",
       "    }\n",
       "</style>\n",
       "<table border=\"1\" class=\"dataframe\">\n",
       "  <thead>\n",
       "    <tr style=\"text-align: right;\">\n",
       "      <th></th>\n",
       "      <th>group col1</th>\n",
       "      <th>group col2</th>\n",
       "      <th>sum</th>\n",
       "    </tr>\n",
       "  </thead>\n",
       "  <tbody>\n",
       "    <tr>\n",
       "      <th>0</th>\n",
       "      <td>11</td>\n",
       "      <td>10</td>\n",
       "      <td>21</td>\n",
       "    </tr>\n",
       "    <tr>\n",
       "      <th>1</th>\n",
       "      <td>11</td>\n",
       "      <td>13</td>\n",
       "      <td>24</td>\n",
       "    </tr>\n",
       "    <tr>\n",
       "      <th>2</th>\n",
       "      <td>10</td>\n",
       "      <td>10</td>\n",
       "      <td>20</td>\n",
       "    </tr>\n",
       "    <tr>\n",
       "      <th>3</th>\n",
       "      <td>13</td>\n",
       "      <td>10</td>\n",
       "      <td>23</td>\n",
       "    </tr>\n",
       "    <tr>\n",
       "      <th>4</th>\n",
       "      <td>10</td>\n",
       "      <td>13</td>\n",
       "      <td>23</td>\n",
       "    </tr>\n",
       "    <tr>\n",
       "      <th>5</th>\n",
       "      <td>11</td>\n",
       "      <td>13</td>\n",
       "      <td>24</td>\n",
       "    </tr>\n",
       "    <tr>\n",
       "      <th>6</th>\n",
       "      <td>13</td>\n",
       "      <td>12</td>\n",
       "      <td>25</td>\n",
       "    </tr>\n",
       "    <tr>\n",
       "      <th>7</th>\n",
       "      <td>10</td>\n",
       "      <td>10</td>\n",
       "      <td>20</td>\n",
       "    </tr>\n",
       "    <tr>\n",
       "      <th>8</th>\n",
       "      <td>11</td>\n",
       "      <td>13</td>\n",
       "      <td>24</td>\n",
       "    </tr>\n",
       "    <tr>\n",
       "      <th>9</th>\n",
       "      <td>11</td>\n",
       "      <td>12</td>\n",
       "      <td>23</td>\n",
       "    </tr>\n",
       "    <tr>\n",
       "      <th>10</th>\n",
       "      <td>10</td>\n",
       "      <td>12</td>\n",
       "      <td>22</td>\n",
       "    </tr>\n",
       "    <tr>\n",
       "      <th>11</th>\n",
       "      <td>11</td>\n",
       "      <td>11</td>\n",
       "      <td>22</td>\n",
       "    </tr>\n",
       "    <tr>\n",
       "      <th>12</th>\n",
       "      <td>11</td>\n",
       "      <td>10</td>\n",
       "      <td>21</td>\n",
       "    </tr>\n",
       "    <tr>\n",
       "      <th>13</th>\n",
       "      <td>12</td>\n",
       "      <td>10</td>\n",
       "      <td>22</td>\n",
       "    </tr>\n",
       "    <tr>\n",
       "      <th>14</th>\n",
       "      <td>10</td>\n",
       "      <td>12</td>\n",
       "      <td>22</td>\n",
       "    </tr>\n",
       "    <tr>\n",
       "      <th>15</th>\n",
       "      <td>11</td>\n",
       "      <td>11</td>\n",
       "      <td>22</td>\n",
       "    </tr>\n",
       "    <tr>\n",
       "      <th>16</th>\n",
       "      <td>10</td>\n",
       "      <td>13</td>\n",
       "      <td>23</td>\n",
       "    </tr>\n",
       "    <tr>\n",
       "      <th>17</th>\n",
       "      <td>12</td>\n",
       "      <td>12</td>\n",
       "      <td>24</td>\n",
       "    </tr>\n",
       "    <tr>\n",
       "      <th>18</th>\n",
       "      <td>10</td>\n",
       "      <td>11</td>\n",
       "      <td>21</td>\n",
       "    </tr>\n",
       "    <tr>\n",
       "      <th>19</th>\n",
       "      <td>12</td>\n",
       "      <td>11</td>\n",
       "      <td>23</td>\n",
       "    </tr>\n",
       "  </tbody>\n",
       "</table>\n",
       "</div>"
      ],
      "text/plain": [
       "    group col1  group col2  sum\n",
       "0           11          10   21\n",
       "1           11          13   24\n",
       "2           10          10   20\n",
       "3           13          10   23\n",
       "4           10          13   23\n",
       "5           11          13   24\n",
       "6           13          12   25\n",
       "7           10          10   20\n",
       "8           11          13   24\n",
       "9           11          12   23\n",
       "10          10          12   22\n",
       "11          11          11   22\n",
       "12          11          10   21\n",
       "13          12          10   22\n",
       "14          10          12   22\n",
       "15          11          11   22\n",
       "16          10          13   23\n",
       "17          12          12   24\n",
       "18          10          11   21\n",
       "19          12          11   23"
      ]
     },
     "metadata": {},
     "output_type": "display_data"
    },
    {
     "data": {
      "text/html": [
       "<p style=\"font-size:15px\">Result</p>"
      ],
      "text/plain": [
       "<IPython.core.display.HTML object>"
      ]
     },
     "metadata": {},
     "output_type": "display_data"
    },
    {
     "data": {
      "text/plain": [
       "{20: 2, 21: 3, 22: 5, 23: 5, 24: 4, 25: 1}"
      ]
     },
     "metadata": {},
     "output_type": "display_data"
    }
   ],
   "source": [
    "temp_df = show_df.copy()\n",
    "temp_df[\"sum\"] = temp_df[\"group col1\"] + temp_df[\"group col2\"]\n",
    "display(HTML('<p style=\"font-size:15px\">Temp frame</p>'))\n",
    "display(temp_df)\n",
    "display(HTML('<p style=\"font-size:15px\">Result</p>'))\n",
    "display(temp_df.groupby(\"sum\")[\"group col1\"].count().to_dict())"
   ]
  },
  {
   "cell_type": "markdown",
   "id": "4214e8df-a0eb-4cda-8a95-19b193cf606a",
   "metadata": {},
   "source": [
    "But using `assign` method you can perform the same operation just using one line of the code. The exampe is in the cell below."
   ]
  },
  {
   "cell_type": "code",
   "execution_count": 5,
   "id": "f65896d3-0640-4d3c-954e-2a3bd3902dc8",
   "metadata": {},
   "outputs": [
    {
     "data": {
      "text/plain": [
       "{20: 2, 21: 3, 22: 5, 23: 5, 24: 4, 25: 1}"
      ]
     },
     "execution_count": 5,
     "metadata": {},
     "output_type": "execute_result"
    }
   ],
   "source": [
    "show_df.assign(\n",
    "    sum = lambda row: row[\"group col1\"] + row[\"group col2\"]\n",
    ").groupby(\"sum\")[\"sum\"].count().to_dict()"
   ]
  }
 ],
 "metadata": {
  "kernelspec": {
   "display_name": "Python 3 (ipykernel)",
   "language": "python",
   "name": "python3"
  },
  "language_info": {
   "codemirror_mode": {
    "name": "ipython",
    "version": 3
   },
   "file_extension": ".py",
   "mimetype": "text/x-python",
   "name": "python",
   "nbconvert_exporter": "python",
   "pygments_lexer": "ipython3",
   "version": "3.10.12"
  }
 },
 "nbformat": 4,
 "nbformat_minor": 5
}
