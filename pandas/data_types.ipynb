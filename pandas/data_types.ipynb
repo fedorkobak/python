{
 "cells": [
  {
   "cell_type": "markdown",
   "id": "159126a3",
   "metadata": {},
   "source": [
    "# Data types\n",
    "\n",
    "`pandas` uses custom data types for it's tables. This section focuses on the intricacies of working with these data types."
   ]
  },
  {
   "cell_type": "markdown",
   "id": "cddb41df",
   "metadata": {},
   "source": [
    "## Date & time\n",
    "\n",
    "In `pandas`, dates and times can be represented using the `datetime64` dtype. Periods of time can be represented using the `timedelta` data type.\n",
    "\n",
    "After the mentioned types, there are brackets containing a stamp that defines the precision of the time representation. It can take values:\n",
    "\n",
    "- `s`: seconds.\n",
    "- `ms`: miliseconds.\n",
    "- `us`: microseconds.\n",
    "- `ns`: nanoseconds.\n",
    "\n",
    "Check details in:\n",
    "- [Time series / date functionality](https://pandas.pydata.org/docs/user_guide/timeseries.html).\n",
    "- [Date & time](data_types/datetime.ipynb)."
   ]
  }
 ],
 "metadata": {
  "kernelspec": {
   "display_name": "python (3.13.5)",
   "language": "python",
   "name": "python3"
  },
  "language_info": {
   "codemirror_mode": {
    "name": "ipython",
    "version": 3
   },
   "file_extension": ".py",
   "mimetype": "text/x-python",
   "name": "python",
   "nbconvert_exporter": "python",
   "pygments_lexer": "ipython3",
   "version": "3.13.5"
  }
 },
 "nbformat": 4,
 "nbformat_minor": 5
}
