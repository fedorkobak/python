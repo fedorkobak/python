{
 "cells": [
  {
   "cell_type": "markdown",
   "id": "159126a3",
   "metadata": {},
   "source": [
    "# Data types\n",
    "\n",
    "`pandas` uses custom data types for it's tables. This section focuses on the intricacies of working with these data types."
   ]
  }
 ],
 "metadata": {
  "language_info": {
   "name": "python"
  }
 },
 "nbformat": 4,
 "nbformat_minor": 5
}
