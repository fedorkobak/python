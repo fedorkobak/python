{
 "cells": [
  {
   "cell_type": "markdown",
   "id": "8ee5a416-498f-44fe-972b-974aa75fff94",
   "metadata": {},
   "source": [
    "# Parameters"
   ]
  },
  {
   "cell_type": "markdown",
   "id": "2d28d0fc-6a0a-49d1-b3e4-596522b81f02",
   "metadata": {},
   "source": [
    "This page focuses on the topic of how the API's parameters are displayed in the documentation. We will check it mainly as results in `openapi.json`, assuming that engines for display will show everything."
   ]
  },
  {
   "cell_type": "code",
   "execution_count": 1,
   "id": "6f87ee2e-07e8-45a1-b8b2-c3aa23772498",
   "metadata": {},
   "outputs": [],
   "source": [
    "import json\n",
    "import requests\n",
    "import pandas as pd"
   ]
  },
  {
   "cell_type": "markdown",
   "id": "64a4c2e4-aceb-40c8-a799-d0f685e8eefc",
   "metadata": {},
   "source": [
    "Create the initial state of the application."
   ]
  },
  {
   "cell_type": "code",
   "execution_count": 2,
   "id": "ce58f91a-4355-4f03-a09b-9b7bf02bc32b",
   "metadata": {},
   "outputs": [
    {
     "name": "stdout",
     "output_type": "stream",
     "text": [
      "Overwriting parameters_files/app.py\n"
     ]
    }
   ],
   "source": [
    "%%writefile parameters_files/app.py\n",
    "from fastapi import FastAPI\n",
    "\n",
    "app = FastAPI()\n",
    "\n",
    "@app.get(\"/\")\n",
    "def example(par):\n",
    "    return \"hello\""
   ]
  },
  {
   "cell_type": "markdown",
   "id": "f2af5171-1f56-43c9-a6eb-6dea76a6584b",
   "metadata": {},
   "source": [
    "Run the docker container that uses the file created below."
   ]
  },
  {
   "cell_type": "code",
   "execution_count": 3,
   "id": "25477766-62cc-4fd2-9f07-81815323cbf7",
   "metadata": {},
   "outputs": [],
   "source": [
    "%%bash\n",
    "docker run --rm -itd\\\n",
    "    --name test_container\\\n",
    "    -v ./parameters_files/app.py:/app.py\\\n",
    "    -p 8000:8000 \\\n",
    "    fastapi_experiment \\\n",
    "    uvicorn --host 0.0.0.0 --reload app:app >/dev/null\n",
    "sleep 10"
   ]
  },
  {
   "cell_type": "markdown",
   "id": "93e621d9-8804-47cd-b663-823fb237bbb0",
   "metadata": {},
   "source": [
    "## Get parameters"
   ]
  },
  {
   "cell_type": "markdown",
   "id": "f75f3a32-5bca-4083-9087-f6558f338774",
   "metadata": {},
   "source": [
    "In order to obtain the parameters that require a handler for a specific path, you need to refer to the keys `paths/<considered path>/<http method>/parameters`. The provided code cell showcases a portion of the `openapi.json` file extracted from the basic example, which corresponds to the `/` handler."
   ]
  },
  {
   "cell_type": "code",
   "execution_count": 6,
   "id": "0610a77e-b95c-4424-9d15-477f893ee83c",
   "metadata": {},
   "outputs": [
    {
     "data": {
      "text/plain": [
       "{'get': {'summary': 'Example',\n",
       "  'operationId': 'example__get',\n",
       "  'parameters': [{'name': 'par',\n",
       "    'in': 'query',\n",
       "    'required': True,\n",
       "    'schema': {'title': 'Par'}}],\n",
       "  'responses': {'200': {'description': 'Successful Response',\n",
       "    'content': {'application/json': {'schema': {}}}},\n",
       "   '422': {'description': 'Validation Error',\n",
       "    'content': {'application/json': {'schema': {'$ref': '#/components/schemas/HTTPValidationError'}}}}}}}"
      ]
     },
     "execution_count": 6,
     "metadata": {},
     "output_type": "execute_result"
    }
   ],
   "source": [
    "json.loads(\n",
    "    requests.get(\"http://localhost:8000/openapi.json\").content.decode(\"utf-8\")\n",
    ")[\"paths\"][\"/\"]"
   ]
  },
  {
   "cell_type": "markdown",
   "id": "2da47c69-8457-4f6f-aaf1-8a89b4bb5cd0",
   "metadata": {},
   "source": [
    "## Required parameters"
   ]
  },
  {
   "cell_type": "markdown",
   "id": "97fbb7da-59d5-4783-b823-f7d70579043f",
   "metadata": {},
   "source": [
    "I'm interested in how the various options associated with the required parameters for the api are displayed in the docs."
   ]
  },
  {
   "cell_type": "markdown",
   "id": "f11a1862-de76-4fa3-9976-9f496d2c41a3",
   "metadata": {},
   "source": [
    "The following cell creates different handlers that create parameters in different syntax:\n",
    "\n",
    "- `/ex1` - uses syntax of path params:\n",
    "    - `par1` - parameter that is not needed anywhere;\n",
    "    - `par2` - parameter that is required only by path;\n",
    "    - `par3` - parameter is required only by function;\n",
    "    - `par4` - parameter is required for both.\n",
    "- `/ex2` - uses syntax of query params:\n",
    "    - `par1` - is required;\n",
    "    - `par2` - not required."
   ]
  },
  {
   "cell_type": "code",
   "execution_count": 7,
   "id": "175a7a4d-2811-416b-bec1-58b414d5aa20",
   "metadata": {},
   "outputs": [
    {
     "name": "stdout",
     "output_type": "stream",
     "text": [
      "Overwriting parameters_files/app.py\n"
     ]
    }
   ],
   "source": [
    "%%writefile parameters_files/app.py\n",
    "from fastapi import FastAPI\n",
    "\n",
    "app = FastAPI()\n",
    "\n",
    "@app.get(\"/ex1/{par1}{par2=10}{par3}{par4=10}\")\n",
    "def ex1(par1:int, par2:int, par3=10, par4=10):\n",
    "    return \"hello\"\n",
    "\n",
    "@app.get(\"/ex2\")\n",
    "def ex2(par1:int, par2=10):\n",
    "    return \"hello\""
   ]
  },
  {
   "cell_type": "markdown",
   "id": "90cb0fc3-b756-466d-b2cf-53c6e8750f6b",
   "metadata": {},
   "source": [
    "Ok now let's check what we see in the `parameters` for different paths."
   ]
  },
  {
   "cell_type": "code",
   "execution_count": 8,
   "id": "bddee869-efce-4003-a66f-7055354c624b",
   "metadata": {},
   "outputs": [
    {
     "data": {
      "text/html": [
       "<div>\n",
       "<style scoped>\n",
       "    .dataframe tbody tr th:only-of-type {\n",
       "        vertical-align: middle;\n",
       "    }\n",
       "\n",
       "    .dataframe tbody tr th {\n",
       "        vertical-align: top;\n",
       "    }\n",
       "\n",
       "    .dataframe thead th {\n",
       "        text-align: right;\n",
       "    }\n",
       "</style>\n",
       "<table border=\"1\" class=\"dataframe\">\n",
       "  <thead>\n",
       "    <tr style=\"text-align: right;\">\n",
       "      <th></th>\n",
       "      <th></th>\n",
       "      <th>name</th>\n",
       "      <th>in</th>\n",
       "      <th>required</th>\n",
       "      <th>schema</th>\n",
       "    </tr>\n",
       "    <tr>\n",
       "      <th>paths</th>\n",
       "      <th></th>\n",
       "      <th></th>\n",
       "      <th></th>\n",
       "      <th></th>\n",
       "      <th></th>\n",
       "    </tr>\n",
       "  </thead>\n",
       "  <tbody>\n",
       "    <tr>\n",
       "      <th rowspan=\"4\" valign=\"top\">/ex1/{par1}{par2=10}{par3}{par4=10}</th>\n",
       "      <th>0</th>\n",
       "      <td>par1</td>\n",
       "      <td>path</td>\n",
       "      <td>True</td>\n",
       "      <td>{'type': 'integer', 'title': 'Par1'}</td>\n",
       "    </tr>\n",
       "    <tr>\n",
       "      <th>1</th>\n",
       "      <td>par3</td>\n",
       "      <td>path</td>\n",
       "      <td>True</td>\n",
       "      <td>{'title': 'Par3'}</td>\n",
       "    </tr>\n",
       "    <tr>\n",
       "      <th>2</th>\n",
       "      <td>par2</td>\n",
       "      <td>query</td>\n",
       "      <td>True</td>\n",
       "      <td>{'type': 'integer', 'title': 'Par2'}</td>\n",
       "    </tr>\n",
       "    <tr>\n",
       "      <th>3</th>\n",
       "      <td>par4</td>\n",
       "      <td>query</td>\n",
       "      <td>False</td>\n",
       "      <td>{'default': 10, 'title': 'Par4'}</td>\n",
       "    </tr>\n",
       "    <tr>\n",
       "      <th rowspan=\"2\" valign=\"top\">/ex2</th>\n",
       "      <th>0</th>\n",
       "      <td>par1</td>\n",
       "      <td>query</td>\n",
       "      <td>True</td>\n",
       "      <td>{'type': 'integer', 'title': 'Par1'}</td>\n",
       "    </tr>\n",
       "    <tr>\n",
       "      <th>1</th>\n",
       "      <td>par2</td>\n",
       "      <td>query</td>\n",
       "      <td>False</td>\n",
       "      <td>{'default': 10, 'title': 'Par2'}</td>\n",
       "    </tr>\n",
       "  </tbody>\n",
       "</table>\n",
       "</div>"
      ],
      "text/plain": [
       "                                       name     in  required  \\\n",
       "paths                                                          \n",
       "/ex1/{par1}{par2=10}{par3}{par4=10} 0  par1   path      True   \n",
       "                                    1  par3   path      True   \n",
       "                                    2  par2  query      True   \n",
       "                                    3  par4  query     False   \n",
       "/ex2                                0  par1  query      True   \n",
       "                                    1  par2  query     False   \n",
       "\n",
       "                                                                     schema  \n",
       "paths                                                                        \n",
       "/ex1/{par1}{par2=10}{par3}{par4=10} 0  {'type': 'integer', 'title': 'Par1'}  \n",
       "                                    1                     {'title': 'Par3'}  \n",
       "                                    2  {'type': 'integer', 'title': 'Par2'}  \n",
       "                                    3      {'default': 10, 'title': 'Par4'}  \n",
       "/ex2                                0  {'type': 'integer', 'title': 'Par1'}  \n",
       "                                    1      {'default': 10, 'title': 'Par2'}  "
      ]
     },
     "execution_count": 8,
     "metadata": {},
     "output_type": "execute_result"
    }
   ],
   "source": [
    "pd.concat(\n",
    "    {\n",
    "        path : pd.DataFrame(\n",
    "            json.loads(\n",
    "                requests.get(\"http://localhost:8000/openapi.json\").content.decode(\"utf-8\")\n",
    "            )[\"paths\"][path][\"get\"][\"parameters\"]\n",
    "        )\n",
    "        for path in [\n",
    "            \"/ex1/{par1}{par2=10}{par3}{par4=10}\",\n",
    "            \"/ex2\"\n",
    "        ]\n",
    "    },\n",
    "    names=[\"paths\"]\n",
    ")"
   ]
  },
  {
   "cell_type": "markdown",
   "id": "46ffa2b1-568b-4c98-b5d9-3c293fc45af2",
   "metadata": {},
   "source": [
    "The main focus here is that to create an optional parameter using path params, you need to set it as required in both path and function. It's enough to specify it in the function arguments to make it required by the api."
   ]
  },
  {
   "cell_type": "markdown",
   "id": "8ae339b0-c6be-4dac-8915-b850dc55672a",
   "metadata": {},
   "source": [
    "## Stop container"
   ]
  },
  {
   "cell_type": "markdown",
   "id": "1c4a12f0-495d-4322-ad16-ffb7a4ea243b",
   "metadata": {},
   "source": [
    "Don't forget to stop the container you created at the beginning."
   ]
  },
  {
   "cell_type": "code",
   "execution_count": 9,
   "id": "115eb74f-5a55-4369-a03f-0f5533854c8f",
   "metadata": {},
   "outputs": [
    {
     "name": "stdout",
     "output_type": "stream",
     "text": [
      "test_container\n"
     ]
    }
   ],
   "source": [
    "!docker stop test_container"
   ]
  }
 ],
 "metadata": {
  "kernelspec": {
   "display_name": "Python 3 (ipykernel)",
   "language": "python",
   "name": "python3"
  },
  "language_info": {
   "codemirror_mode": {
    "name": "ipython",
    "version": 3
   },
   "file_extension": ".py",
   "mimetype": "text/x-python",
   "name": "python",
   "nbconvert_exporter": "python",
   "pygments_lexer": "ipython3",
   "version": "3.10.12"
  }
 },
 "nbformat": 4,
 "nbformat_minor": 5
}
