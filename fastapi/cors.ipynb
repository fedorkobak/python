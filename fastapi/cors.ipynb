{
 "cells": [
  {
   "cell_type": "markdown",
   "id": "eaf3c12f-7143-4858-965a-82e3c899e739",
   "metadata": {},
   "source": [
    "# CORS\n",
    "\n",
    "Cross origin resources usually handled by browsers in specific way.\n",
    "\n",
    "**Sources**\n",
    "\n",
    "- [CORS](https://fastapi.tiangolo.com/tutorial/cors/) topic in fastapi documentation.\n",
    "- [Cross-Origin Resource Sharing (CORS)](https://developer.mozilla.org/en-US/docs/Web/HTTP/CORS) page in MDN.\n",
    "\n",
    "On this page we will look at an extremely simple example that shows where CORS errors occur and how to fix them using embedded fastapi tools. So we'll look at a really popular case - there's an API that expects to be accessed by a front-end running in a browser. So this is where CORS comes in - the browser won't work with the results of the API response if it doesn't have special headers."
   ]
  },
  {
   "cell_type": "code",
   "execution_count": 1,
   "id": "3b144b42",
   "metadata": {},
   "outputs": [],
   "source": [
    "import os\n",
    "import docker\n",
    "import requests\n",
    "docker_client = docker.from_env()"
   ]
  },
  {
   "cell_type": "markdown",
   "id": "059afb8c",
   "metadata": {},
   "source": [
    "## Back-end\n",
    "\n",
    "The simplest possible backend application. It doesn't use any middleware yet, to show that it won't work if we just build it like this."
   ]
  },
  {
   "cell_type": "code",
   "execution_count": 2,
   "id": "1927fafb",
   "metadata": {},
   "outputs": [
    {
     "name": "stdout",
     "output_type": "stream",
     "text": [
      "Overwriting cors_files/app.py\n"
     ]
    }
   ],
   "source": [
    "%%writefile cors_files/app.py\n",
    "from fastapi import FastAPI\n",
    "\n",
    "app = FastAPI()\n",
    "\n",
    "@app.get(\"/\")\n",
    "def say_hello():\n",
    "    return \"hello\""
   ]
  },
  {
   "cell_type": "markdown",
   "id": "6c9969a9",
   "metadata": {},
   "source": [
    "## Front-end\n",
    "\n",
    "Consider the front-end application that we'll use as an example. The main feature is that here we have `Fetch Data from Backend` button that will cause fetching data from `http://localhost:8000` where will be access to backend."
   ]
  },
  {
   "cell_type": "code",
   "execution_count": 3,
   "id": "f25c836f",
   "metadata": {},
   "outputs": [
    {
     "name": "stdout",
     "output_type": "stream",
     "text": [
      "Overwriting cors_files/index.html\n"
     ]
    }
   ],
   "source": [
    "%%writefile cors_files/index.html\n",
    "<!DOCTYPE html>\n",
    "<html lang=\"en\">\n",
    "<head>\n",
    "    <meta charset=\"UTF-8\">\n",
    "    <meta name=\"viewport\" content=\"width=device-width, initial-scale=1.0\">\n",
    "    <title>Frontend</title>\n",
    "</head>\n",
    "<body>\n",
    "    <h1>Frontend</h1>\n",
    "    <button id=\"fetchData\">Fetch Data from Backend</button>\n",
    "    <pre id=\"response\"></pre>\n",
    "\n",
    "    <script>\n",
    "        document.getElementById('fetchData').addEventListener('click', () => {\n",
    "            fetch('http://localhost:8000')\n",
    "                .then(response => response.json())\n",
    "                .then(data => {\n",
    "                    document.getElementById('response').textContent = JSON.stringify(data, null, 2);\n",
    "                })\n",
    "                .catch(error => console.error('Error:', error));\n",
    "        });\n",
    "    </script>\n",
    "</body>\n",
    "</html>"
   ]
  },
  {
   "cell_type": "markdown",
   "id": "9eeaab5c",
   "metadata": {},
   "source": [
    "## Containers\n",
    "\n",
    "Now let's set up Docker containers: one for the front-end and one for the back-end."
   ]
  },
  {
   "cell_type": "code",
   "execution_count": 4,
   "id": "69be251c",
   "metadata": {},
   "outputs": [],
   "source": [
    "frontend_container = docker_client.containers.run(\n",
    "    image = \"httpd\",\n",
    "    remove = True,\n",
    "    detach = True,\n",
    "    name = \"test_front\",\n",
    "    volumes = {\n",
    "        f\"{os.getcwd()}/cors_files/index.html\": {\n",
    "            \"bind\": \"/usr/local/apache2/htdocs/index.html\", \n",
    "            \"mode\": \"rw\"\n",
    "        }\n",
    "    },\n",
    "    ports={80: 8080}\n",
    ")\n",
    "\n",
    "backend_container = docker_client.containers.run(\n",
    "    image = \"fastapi_experiment\",\n",
    "    remove = True,\n",
    "    detach = True,\n",
    "    name = \"test_back\",\n",
    "    ports = {8000: 8000},\n",
    "    volumes = {\n",
    "        f\"{os.getcwd()}/cors_files/app.py\": {\n",
    "            \"bind\": \"/app.py\", \"mode\": \"rw\"\n",
    "        }\n",
    "    },\n",
    "    command = \"uvicorn --host 0.0.0.0 --reload app:app\"\n",
    ")"
   ]
  },
  {
   "cell_type": "markdown",
   "id": "4ad3cf7f",
   "metadata": {},
   "source": [
    "Let's check that the front-end is working by sending a request to it."
   ]
  },
  {
   "cell_type": "code",
   "execution_count": 5,
   "id": "6703cb68",
   "metadata": {},
   "outputs": [
    {
     "name": "stdout",
     "output_type": "stream",
     "text": [
      "<!DOCTYPE html>\n",
      "<html lang=\"en\">\n",
      "<head>\n",
      "    <meta charset=\"UTF-8\">\n",
      "    <meta name=\"viewport\" content=\"width=device-width, initial-scale=1.0\">\n",
      "    <title>Frontend</title>\n",
      "</head>\n",
      "<body>\n",
      "    <h1>Frontend</h1>\n",
      "    <button id=\"fetchData\">Fetch Data from Backend</button>\n",
      "    <pre id=\"response\"></pre>\n",
      "\n",
      "    <script>\n",
      "        document.getElementById('fetchData').addEventListener('click', () => {\n",
      "            fetch('http://localhost:8000')\n",
      "                .then(response => response.json())\n",
      "                .then(data => {\n",
      "                    document.getElementById('response').textContent = JSON.stringify(data, null, 2);\n",
      "                })\n",
      "                .catch(error => console.error('Error:', error));\n",
      "        });\n",
      "    </script>\n",
      "</body>\n",
      "</html>\n",
      "\n"
     ]
    }
   ],
   "source": [
    "ans = requests.get(\"http://localhost:8080\")\n",
    "print(ans.content.decode(\"utf-8\"))"
   ]
  },
  {
   "cell_type": "markdown",
   "id": "e079f205",
   "metadata": {},
   "source": [
    "And same with back-end."
   ]
  },
  {
   "cell_type": "code",
   "execution_count": 6,
   "id": "1fe9b5ab",
   "metadata": {},
   "outputs": [
    {
     "name": "stdout",
     "output_type": "stream",
     "text": [
      "\"hello\"\n"
     ]
    }
   ],
   "source": [
    "ans = requests.get(\"http://localhost:8000\")\n",
    "print(ans.content.decode(\"utf-8\"))"
   ]
  },
  {
   "cell_type": "markdown",
   "id": "af33442e",
   "metadata": {},
   "source": [
    "## Problem\n",
    "\n",
    "Now you can access the frontend at http://localhost:8080. When you press the \"Fetch data from backend\" button, you'll see something like the following picture:\n",
    "\n",
    "![pic](cors_files/error_screen.png)\n",
    "\n",
    "Your request failed because of `CORS Missing Allow Origin`."
   ]
  },
  {
   "cell_type": "markdown",
   "id": "0853c589",
   "metadata": {},
   "source": [
    "## Modification of the API\n",
    "\n",
    "To avoid the problem we had in the previous examples, we need to use `fastapi.middleware.cors.CORSMiddleware`. So here is a modification of the backend application."
   ]
  },
  {
   "cell_type": "code",
   "execution_count": 7,
   "id": "ef622d2e",
   "metadata": {},
   "outputs": [
    {
     "name": "stdout",
     "output_type": "stream",
     "text": [
      "Overwriting cors_files/app.py\n"
     ]
    }
   ],
   "source": [
    "%%writefile cors_files/app.py\n",
    "from fastapi import FastAPI\n",
    "from fastapi.middleware.cors import CORSMiddleware\n",
    "\n",
    "app = FastAPI()\n",
    "\n",
    "app.add_middleware(\n",
    "    CORSMiddleware,\n",
    "    allow_origins=[\"*\"],\n",
    "    allow_credentials=True,\n",
    "    allow_methods=[\"*\"],\n",
    "    allow_headers=[\"*\"],\n",
    ")\n",
    "\n",
    "@app.get(\"/\")\n",
    "def say_hello():\n",
    "    return \"hello\""
   ]
  },
  {
   "cell_type": "markdown",
   "id": "fff61c0c",
   "metadata": {},
   "source": [
    "If you now try to press the \"Fetch data from backend\" button - everything is fine."
   ]
  },
  {
   "cell_type": "markdown",
   "id": "fd8ea327",
   "metadata": {},
   "source": [
    "## Get cors headers\n",
    "\n",
    "What if we try to check if fastapi really adds cors? You need to add `origin` - only then will fastapi return CORS headers."
   ]
  },
  {
   "cell_type": "markdown",
   "id": "a9104efd",
   "metadata": {},
   "source": [
    "\n",
    "---\n",
    "\n",
    "In the following example, we're printing headers for our API request."
   ]
  },
  {
   "cell_type": "code",
   "execution_count": 33,
   "id": "5e4fe553",
   "metadata": {},
   "outputs": [
    {
     "data": {
      "text/plain": [
       "{'date': 'Mon, 29 Jul 2024 15:51:57 GMT', 'server': 'uvicorn', 'content-length': '7', 'content-type': 'application/json'}"
      ]
     },
     "execution_count": 33,
     "metadata": {},
     "output_type": "execute_result"
    }
   ],
   "source": [
    "requests.get(\"http://localhost:8000\").headers"
   ]
  },
  {
   "cell_type": "markdown",
   "id": "276c70eb",
   "metadata": {},
   "source": [
    "The result doesn't contain any headers related to the cors."
   ]
  },
  {
   "cell_type": "markdown",
   "id": "9d2b78ac",
   "metadata": {},
   "source": [
    "But after adding the `origin` header to the request, we got headers with headers specific to CORS."
   ]
  },
  {
   "cell_type": "code",
   "execution_count": 35,
   "id": "affe7439",
   "metadata": {},
   "outputs": [
    {
     "data": {
      "text/plain": [
       "{'date': 'Mon, 29 Jul 2024 15:52:27 GMT', 'server': 'uvicorn', 'content-length': '7', 'content-type': 'application/json', 'access-control-allow-origin': '*', 'access-control-allow-credentials': 'true'}"
      ]
     },
     "execution_count": 35,
     "metadata": {},
     "output_type": "execute_result"
    }
   ],
   "source": [
    "requests.get(\"http://localhost:8000\", headers={'origin': ''}).headers"
   ]
  },
  {
   "cell_type": "markdown",
   "id": "bb2ba24c",
   "metadata": {},
   "source": [
    "So in the result we got headers `access-control-allow-origin` and `access-control-allow-credentials`."
   ]
  },
  {
   "cell_type": "markdown",
   "id": "7801cba7",
   "metadata": {},
   "source": [
    "**Note** don't forget to stop containers after all."
   ]
  },
  {
   "cell_type": "code",
   "execution_count": 36,
   "id": "22a1f515",
   "metadata": {},
   "outputs": [],
   "source": [
    "frontend_container.stop()\n",
    "backend_container.stop()"
   ]
  }
 ],
 "metadata": {
  "kernelspec": {
   "display_name": "Python 3 (ipykernel)",
   "language": "python",
   "name": "python3"
  },
  "language_info": {
   "codemirror_mode": {
    "name": "ipython",
    "version": 3
   },
   "file_extension": ".py",
   "mimetype": "text/x-python",
   "name": "python",
   "nbconvert_exporter": "python",
   "pygments_lexer": "ipython3",
   "version": "3.10.12"
  }
 },
 "nbformat": 4,
 "nbformat_minor": 5
}
