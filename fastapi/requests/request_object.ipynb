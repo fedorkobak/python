{
 "cells": [
  {
   "cell_type": "markdown",
   "metadata": {},
   "source": [
    "# Request object\n",
    "\n",
    "FastAPI provides the `fastapi.Request` object, which represents an incoming request to the application. This page focuses on the properties of this object that can be useful for your applications.\n",
    "\n",
    "Find out more in:\n",
    "\n",
    "- [Using the request directly](https://fastapi.tiangolo.com/advanced/using-request-directly/) from the FastAPI official documentation.\n",
    "- [Requests](https://www.starlette.io/requests/) page from Starlette documetation."
   ]
  },
  {
   "cell_type": "code",
   "execution_count": 7,
   "metadata": {},
   "outputs": [],
   "source": [
    "import pickle\n",
    "import uvicorn\n",
    "import requests\n",
    "import multiprocessing\n",
    "from pathlib import Path\n",
    "from fastapi import FastAPI, Request"
   ]
  },
  {
   "cell_type": "markdown",
   "metadata": {},
   "source": [
    "## Getting object\n",
    "\n",
    "Here is a trick by which we can research real fastAPI object generated for some endpoint."
   ]
  },
  {
   "cell_type": "markdown",
   "metadata": {},
   "source": [
    "---\n",
    "\n",
    "The following cell defines an application that uses path parameters, query parameters, and the `Request` object. It accepts a `Request`, serializes some of it fields so you can try them."
   ]
  },
  {
   "cell_type": "code",
   "execution_count": 13,
   "metadata": {},
   "outputs": [],
   "source": [
    "app = FastAPI()\n",
    "\n",
    "@app.get(\"/{a}/{b}\")\n",
    "def index(a: int, b: str, c: float, request: Request):\n",
    "    \n",
    "    # fastapi.Request can't be saved with pickle, so we save only fields we are \n",
    "    # iterested in with dictionary\n",
    "    save_dict = {\n",
    "        \"url\": request.url,\n",
    "        \"query_params\": request.query_params\n",
    "    }\n",
    "    with open(\"request.pkl\", \"wb\") as f:\n",
    "        pickle.dump(save_dict, f)\n",
    "    \n",
    "    return \"OK\""
   ]
  },
  {
   "cell_type": "markdown",
   "metadata": {},
   "source": [
    "The following code runs the newly created API and sends a request to the corresponding endpoint, resulting in the serialization of the `Request` fields. Afterward, the serialized object is unpickled for further processing within the notebook."
   ]
  },
  {
   "cell_type": "code",
   "execution_count": 14,
   "metadata": {},
   "outputs": [],
   "source": [
    "proc = multiprocessing.Process(\n",
    "    target=uvicorn.run,\n",
    "    args=(app,),\n",
    "    kwargs={\"log_level\": \"critical\"},\n",
    "    daemon=True\n",
    ")\n",
    "proc.start()\n",
    "\n",
    "requests.get(\"http://localhost:8000/10/hello?c=10.0\").content\n",
    "request_path = Path(\"request.pkl\")\n",
    "with open(request_path, \"rb\") as f:\n",
    "    requst_fields = pickle.load(f)\n",
    "request_path.unlink()\n",
    "proc.terminate()"
   ]
  },
  {
   "cell_type": "markdown",
   "metadata": {},
   "source": [
    "Here are the request fields that we saved from the application."
   ]
  },
  {
   "cell_type": "code",
   "execution_count": 16,
   "metadata": {},
   "outputs": [
    {
     "data": {
      "text/plain": [
       "{'url': URL('http://localhost:8000/10/hello?c=10.0'),\n",
       " 'query_params': QueryParams('c=10.0')}"
      ]
     },
     "execution_count": 16,
     "metadata": {},
     "output_type": "execute_result"
    }
   ],
   "source": [
    "requst_fields"
   ]
  }
 ],
 "metadata": {
  "kernelspec": {
   "display_name": "Python 3",
   "language": "python",
   "name": "python3"
  },
  "language_info": {
   "codemirror_mode": {
    "name": "ipython",
    "version": 3
   },
   "file_extension": ".py",
   "mimetype": "text/x-python",
   "name": "python",
   "nbconvert_exporter": "python",
   "pygments_lexer": "ipython3",
   "version": "3.10.12"
  }
 },
 "nbformat": 4,
 "nbformat_minor": 2
}
