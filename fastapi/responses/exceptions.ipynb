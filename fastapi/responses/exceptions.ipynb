{
 "cells": [
  {
   "cell_type": "markdown",
   "metadata": {},
   "source": [
    "# Exceptions\n",
    "\n",
    "In backend development, there are situations where you need to return messages to the user indicating errors during code execution. There are dedicated objects designed for this purpose: `HTTPException`, `RequestValidationError`, `StarletteHTTPException`, and so on. You can even create your custom exceptions. The key feature of these objects is that you must *raise* them, not return them.\n",
    "\n",
    "Find out more in [handling errors](https://fastapi.tiangolo.com/tutorial/handling-errors/#raise-an-httpexception-in-your-code) official fastAPI documentation."
   ]
  },
  {
   "cell_type": "code",
   "execution_count": 1,
   "metadata": {},
   "outputs": [
    {
     "name": "stdout",
     "output_type": "stream",
     "text": [
      "7122b07d3d06130565a3a4ae8bf0ced9da081e4a2d866130556f2374df79db5f\n"
     ]
    }
   ],
   "source": [
    "import requests\n",
    "\n",
    "!docker run --rm -itd\\\n",
    "    --name test_container\\\n",
    "    -v ./exceptions_files/app.py:/app.py\\\n",
    "    -p 8000:8000 \\\n",
    "    fastapi_experiment \\\n",
    "    uvicorn --host 0.0.0.0 --reload app:app"
   ]
  },
  {
   "cell_type": "markdown",
   "metadata": {},
   "source": [
    "**Note** don't forget to stop container after all your tests."
   ]
  },
  {
   "cell_type": "code",
   "execution_count": 14,
   "metadata": {},
   "outputs": [
    {
     "name": "stdout",
     "output_type": "stream",
     "text": [
      "test_container\n"
     ]
    }
   ],
   "source": [
    "!docker stop test_container"
   ]
  },
  {
   "cell_type": "markdown",
   "metadata": {},
   "source": [
    "## HTTPException\n",
    "\n",
    "The most common way to define exceptions in FastAPI."
   ]
  },
  {
   "cell_type": "markdown",
   "metadata": {},
   "source": [
    "---\n",
    "\n",
    "The following cell defines an application that returns an `HTTPException` for each call, with a specified status code, content, and headers."
   ]
  },
  {
   "cell_type": "code",
   "execution_count": 25,
   "metadata": {},
   "outputs": [
    {
     "name": "stdout",
     "output_type": "stream",
     "text": [
      "Overwriting exceptions_files/app.py\n"
     ]
    }
   ],
   "source": [
    "%%writefile exceptions_files/app.py\n",
    "from fastapi import FastAPI, Request\n",
    "from fastapi.responses import JSONResponse\n",
    "from fastapi.exceptions import HTTPException\n",
    "\n",
    "app = FastAPI()\n",
    "\n",
    "@app.get(\"/\")\n",
    "def index():\n",
    "    raise HTTPException(\n",
    "        status_code=400, \n",
    "        detail=\"Test value\",\n",
    "        headers={\"key\": \"value\"}\n",
    "    )"
   ]
  },
  {
   "cell_type": "markdown",
   "metadata": {},
   "source": [
    "Now let's check what we got back."
   ]
  },
  {
   "cell_type": "code",
   "execution_count": 27,
   "metadata": {},
   "outputs": [
    {
     "name": "stdout",
     "output_type": "stream",
     "text": [
      "400\n",
      "b'{\"detail\":\"Test value\"}'\n",
      "{'date': 'Wed, 21 Aug 2024 14:35:30 GMT', 'server': 'uvicorn', 'key': 'value', 'content-length': '23', 'content-type': 'application/json'}\n"
     ]
    }
   ],
   "source": [
    "response = requests.get(\"http://localhost:8000\")\n",
    "print(response.status_code)\n",
    "print(response.content)\n",
    "print(response.headers)"
   ]
  },
  {
   "cell_type": "markdown",
   "metadata": {},
   "source": [
    "All parameters influence the response in the typical FastAPI manner."
   ]
  },
  {
   "cell_type": "markdown",
   "metadata": {},
   "source": [
    "## Custom\n",
    "\n",
    "You can create a custom exception by defining a class that inherits from `Exception`. Then, use the `app.exception_handler` decorator to associate this exception class with a specific function."
   ]
  },
  {
   "cell_type": "markdown",
   "metadata": {},
   "source": [
    "---\n",
    "\n",
    "The following example demonstrates how to handle a custom exception. The class `MyException` inherits from `Exception`, and instances of this class can be raised as exceptions. The `unicorn_exception_handler` function is decorated with `app.exception_handler(MyException)`, ensuring that it is invoked whenever a `MyException` is raised."
   ]
  },
  {
   "cell_type": "code",
   "execution_count": 12,
   "metadata": {},
   "outputs": [
    {
     "name": "stdout",
     "output_type": "stream",
     "text": [
      "Overwriting exceptions_files/app.py\n"
     ]
    }
   ],
   "source": [
    "%%writefile exceptions_files/app.py\n",
    "from fastapi import FastAPI, Request\n",
    "from fastapi.responses import JSONResponse\n",
    "\n",
    "class MyException(Exception):\n",
    "    def __init__(self, message):\n",
    "        self.message = message\n",
    "\n",
    "app = FastAPI()\n",
    "\n",
    "@app.exception_handler(MyException)\n",
    "def unicorn_exception_handler(request: Request, exc: MyException):\n",
    "    return JSONResponse(\n",
    "        status_code=418,\n",
    "        content={\"message\": f\"Oops! {exc.message} did something.\"},\n",
    "        headers={\"key1\": \"10\", \"key2\": \"string value\"}\n",
    "    )\n",
    "\n",
    "@app.get(\"/\")\n",
    "def divide():\n",
    "    raise MyException(\"My god\")"
   ]
  },
  {
   "cell_type": "markdown",
   "metadata": {},
   "source": [
    "Now, let's test the newly created API with a request."
   ]
  },
  {
   "cell_type": "code",
   "execution_count": 13,
   "metadata": {},
   "outputs": [
    {
     "name": "stdout",
     "output_type": "stream",
     "text": [
      "status_code 418\n",
      "content b'{\"message\":\"Oops! My god did something.\"}'\n",
      "headers {'date': 'Thu, 22 Aug 2024 07:37:41 GMT', 'server': 'uvicorn', 'key1': '10', 'key2': 'string value', 'content-length': '41', 'content-type': 'application/json'}\n"
     ]
    }
   ],
   "source": [
    "response = requests.get(\"http://localhost:8000\")\n",
    "\n",
    "print(\"status_code\", response.status_code)\n",
    "print(\"content\", response.content)\n",
    "print(\"headers\", response.headers)"
   ]
  },
  {
   "cell_type": "markdown",
   "metadata": {},
   "source": [
    "We received a typical FastAPI error message, but it was customized according to the specified behavior."
   ]
  }
 ],
 "metadata": {
  "kernelspec": {
   "display_name": "Python 3",
   "language": "python",
   "name": "python3"
  },
  "language_info": {
   "codemirror_mode": {
    "name": "ipython",
    "version": 3
   },
   "file_extension": ".py",
   "mimetype": "text/x-python",
   "name": "python",
   "nbconvert_exporter": "python",
   "pygments_lexer": "ipython3",
   "version": "3.10.12"
  }
 },
 "nbformat": 4,
 "nbformat_minor": 2
}
