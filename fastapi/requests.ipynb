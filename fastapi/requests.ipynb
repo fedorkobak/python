{
 "cells": [
  {
   "cell_type": "markdown",
   "id": "51a75d75-b979-49b9-9202-3cfc7bbeb490",
   "metadata": {},
   "source": [
    "# Requests\n",
    "\n",
    "There are numerous ways to organize requests to an application."
   ]
  },
  {
   "cell_type": "code",
   "execution_count": 1,
   "id": "e50c2d3f-5803-4981-b644-b413074101b2",
   "metadata": {},
   "outputs": [],
   "source": [
    "from fastapi import FastAPI\n",
    "from fastapi.testclient import TestClient\n",
    "\n",
    "from pydantic import BaseModel\n",
    "from datetime import datetime, timedelta"
   ]
  },
  {
   "cell_type": "markdown",
   "id": "1a6f83bc",
   "metadata": {},
   "source": [
    "## Syntax options\n",
    "\n",
    "Here, we consider different options for configuring endpoint syntax."
   ]
  },
  {
   "cell_type": "markdown",
   "id": "c41bf6db-b1fa-40e5-b7de-42754ff9c195",
   "metadata": {},
   "source": [
    "### Query params\n",
    "\n",
    "In order to pass an argument using ulr we need to write a construction `?param1=argument1&param2=argument2&...&paramN=argumentN` at the end of url (in web development, the name for this construction is query params)."
   ]
  },
  {
   "cell_type": "markdown",
   "id": "ce7aa619-8f00-48f1-8169-99286105581e",
   "metadata": {},
   "source": [
    "---\n",
    "\n",
    "The following example shows api to divide two numbers and use the syntax `/divide?a=10&b=2` in the url to complete the division."
   ]
  },
  {
   "cell_type": "code",
   "execution_count": 5,
   "id": "eb96f0d8",
   "metadata": {},
   "outputs": [
    {
     "data": {
      "text/plain": [
       "b'5'"
      ]
     },
     "metadata": {},
     "output_type": "display_data"
    }
   ],
   "source": [
    "app = FastAPI()\n",
    "\n",
    "@app.get(\"/divide\")\n",
    "def divide(a: int, b: int) -> int:\n",
    "    return a/b\n",
    "\n",
    "test_client = TestClient(app=app)\n",
    "display(test_client.get(\"/divide?a=10&b=2\").content)\n",
    "test_client.close()"
   ]
  },
  {
   "cell_type": "markdown",
   "id": "08c2dd87",
   "metadata": {},
   "source": [
    "You can specify default values by defining them as the default values for the parameters in the corresponding Python function."
   ]
  },
  {
   "cell_type": "code",
   "execution_count": 16,
   "id": "9a386ba1",
   "metadata": {},
   "outputs": [
    {
     "data": {
      "text/plain": [
       "b'2'"
      ]
     },
     "metadata": {},
     "output_type": "display_data"
    }
   ],
   "source": [
    "app = FastAPI()\n",
    "\n",
    "@app.get(\"/divide\")\n",
    "def divide(a: int, b: int=10) -> int:\n",
    "    return a/b\n",
    "\n",
    "test_client = TestClient(app=app)\n",
    "display(test_client.get(\"/divide?a=20\").content)\n",
    "test_client.close()"
   ]
  },
  {
   "cell_type": "markdown",
   "id": "b481f0de-a659-4e81-a7a9-3091f0d579ea",
   "metadata": {},
   "source": [
    "### Path params"
   ]
  },
  {
   "cell_type": "markdown",
   "id": "fc3bdb2a-1ee7-435a-8577-e6b7760436fb",
   "metadata": {},
   "source": [
    "You can specify some parameters as part of your url. Just specify url in fastapi decorators using the syntax `<path>/{param1}/{param2}/...`. So you can request this api by using the corresponding syntax."
   ]
  },
  {
   "cell_type": "markdown",
   "id": "457527e9-16f5-44ef-a744-900a1ea034d1",
   "metadata": {},
   "source": [
    "---\n",
    "\n",
    "In the next cell, an application is defined that will use path parameter syntax for a division API."
   ]
  },
  {
   "cell_type": "code",
   "execution_count": 3,
   "id": "c8819c3e-0fad-42d2-91d9-8e3442c88c54",
   "metadata": {},
   "outputs": [
    {
     "data": {
      "text/plain": [
       "b'5.0'"
      ]
     },
     "metadata": {},
     "output_type": "display_data"
    }
   ],
   "source": [
    "app = FastAPI()\n",
    "\n",
    "@app.get(\"/divide/{a}/{b}\")\n",
    "def divide(a: int, b: int) -> float:\n",
    "    return a/b\n",
    "\n",
    "test_client = TestClient(app=app)\n",
    "display(test_client.get(\"/divide/10/2\").content)\n",
    "test_client.close()"
   ]
  },
  {
   "cell_type": "markdown",
   "id": "cbc1d049-b2d9-4669-970f-83d01e8ab1a0",
   "metadata": {},
   "source": [
    "### Pydantic model"
   ]
  },
  {
   "cell_type": "markdown",
   "id": "0e806a20-feb3-4ba7-96e9-3b2a7a3e2966",
   "metadata": {},
   "source": [
    "You can define pydentic model as an input to your endpoint - simply by declaring pydentic model as a type in parameters."
   ]
  },
  {
   "cell_type": "markdown",
   "id": "0809eff7",
   "metadata": {},
   "source": [
    "---\n",
    "\n",
    "So the following `fastapi` program defines `Item` which expects `json` with keys `param1` and `param2` and just returns line describing what data we've got."
   ]
  },
  {
   "cell_type": "code",
   "execution_count": 18,
   "id": "ed9ce6e6-2d31-4181-8fde-6b1c7bef4edd",
   "metadata": {},
   "outputs": [
    {
     "name": "stdout",
     "output_type": "stream",
     "text": [
      "\"I have got:\n",
      "    param1=2;\n",
      "    param2=test line.\"\n"
     ]
    }
   ],
   "source": [
    "class Item(BaseModel):\n",
    "    param1: int\n",
    "    param2: str\n",
    "\n",
    "app = FastAPI()\n",
    "\n",
    "@app.post(\"/\")\n",
    "def read_json(item: Item):\n",
    "    return f\"\"\"I have got:\n",
    "    param1={item.param1};\n",
    "    param2={item.param2}.\"\"\"\n",
    "\n",
    "test_client = TestClient(app=app)\n",
    "data = {\"param1\" : 2, \"param2\": \"test line\"}\n",
    "print(\n",
    "    test_client.post(url=\"/\", json=data)\n",
    "    .content.decode(\"utf-8\").replace(\"\\\\n\", \"\\n\")\n",
    ")\n",
    "test_client.close()"
   ]
  },
  {
   "cell_type": "markdown",
   "id": "96171e59-bf12-459e-a388-204a1b54ff34",
   "metadata": {},
   "source": [
    "## Data types"
   ]
  },
  {
   "cell_type": "markdown",
   "id": "2e38824a-6d3b-42df-87b5-fe82b2d8eee7",
   "metadata": {},
   "source": [
    "You need to declare data types for the arguments otherwise the call will not work correctly."
   ]
  },
  {
   "cell_type": "markdown",
   "id": "d6c5a809",
   "metadata": {},
   "source": [
    "---\n",
    "\n",
    "The following example describes a programme without input datatypes. The request to the server causes the error:"
   ]
  },
  {
   "cell_type": "code",
   "execution_count": 19,
   "id": "9c6f7593-eb6e-4587-a330-8b845628ce94",
   "metadata": {},
   "outputs": [
    {
     "name": "stdout",
     "output_type": "stream",
     "text": [
      "1 validation errors:\n",
      "  {'type': 'int_parsing', 'loc': ('response',), 'msg': 'Input should be a valid integer, unable to parse string as an integer', 'input': '10 2'}\n",
      "\n"
     ]
    }
   ],
   "source": [
    "app = FastAPI()\n",
    "\n",
    "@app.get(\"/divide\")\n",
    "def divide(a, b) -> int:\n",
    "    return f\"{a} {b}\"\n",
    "\n",
    "test_client = TestClient(app=app)\n",
    "\n",
    "try:\n",
    "    display(test_client.get(\"/divide?a=10&b=2\").content)\n",
    "except Exception as e:\n",
    "    print(e)\n",
    "\n",
    "test_client.close()"
   ]
  },
  {
   "cell_type": "markdown",
   "id": "333bb7a3",
   "metadata": {},
   "source": [
    "### Datetime input\n",
    "\n",
    "You are allowed to use `datetime.datetime` as input type in fastapi. But note that you have to use ISO 8601 fromat for datetime objects - `<YYYY-MM-DDTHH-MM-SS>`.\n",
    "Where:\n",
    "\n",
    "- YYYYY: year (e.g. 2022);\n",
    "- MM: month (from 01 to 12);\n",
    "- DD: day (from 01 to 31);\n",
    "- T: separator between date and time;\n",
    "- HH: hour (00 to 23);\n",
    "- MM: minutes (from 00 to 59);\n",
    "- SS: seconds (00 to 59)."
   ]
  },
  {
   "cell_type": "markdown",
   "id": "ed3d6285",
   "metadata": {},
   "source": [
    "---\n",
    "\n",
    "The following example is the service that takes any date and returns the date for the next day:"
   ]
  },
  {
   "cell_type": "code",
   "execution_count": 20,
   "id": "63bfaf43",
   "metadata": {},
   "outputs": [
    {
     "data": {
      "text/plain": [
       "b'\"2022-10-06T20:10:10\"'"
      ]
     },
     "metadata": {},
     "output_type": "display_data"
    }
   ],
   "source": [
    "app = FastAPI()\n",
    "\n",
    "@app.get(\"/add_year\")\n",
    "def add_year(dt : datetime):\n",
    "    return dt + timedelta(days = 1)\n",
    "\n",
    "test_client = TestClient(app=app)\n",
    "display(test_client.get(\"/add_year?dt=2022-10-05T20:10:10\").content)\n",
    "test_client.close()"
   ]
  },
  {
   "cell_type": "markdown",
   "id": "3ebe5f4a",
   "metadata": {},
   "source": [
    "## Request object\n",
    "\n",
    "In your FastAPI application, you can work with a special type of object called `Request`. This object contains various technical details about the incoming request to your application.\n",
    "\n",
    "For more check:\n",
    "\n",
    "- Official [FastAPI documentation](https://fastapi.tiangolo.com/advanced/using-request-directly/).\n",
    "- [Stalette Request](https://www.starlette.io/requests/) page"
   ]
  },
  {
   "cell_type": "markdown",
   "id": "40d6654c",
   "metadata": {},
   "source": [
    "---\n",
    "\n",
    "The following code demonstrates how to access the `Request` object in your endpoint. Simply add a parameter with the type `fastapi.Request` to your function, and FastAPI will pass the request object to that parameter. The example code returns the host of the client that sent the request, which can be obtained using `request.client.host`."
   ]
  },
  {
   "cell_type": "code",
   "execution_count": 22,
   "id": "d6f4d7d8",
   "metadata": {},
   "outputs": [],
   "source": [
    "from fastapi import Request\n",
    "\n",
    "app = FastAPI()\n",
    "\n",
    "@app.get(\"/\")\n",
    "def index(request: Request):\n",
    "    return request.client.host"
   ]
  },
  {
   "cell_type": "markdown",
   "id": "f66c39a3",
   "metadata": {},
   "source": [
    "The following cell runs the application using the `TestClient` utility."
   ]
  },
  {
   "cell_type": "code",
   "execution_count": 23,
   "id": "dd6f8295",
   "metadata": {},
   "outputs": [
    {
     "data": {
      "text/plain": [
       "b'\"testclient\"'"
      ]
     },
     "metadata": {},
     "output_type": "display_data"
    }
   ],
   "source": [
    "test_client = TestClient(app=app)\n",
    "display(test_client.get(\"http://localhost:8000\").content)\n",
    "test_client.close()"
   ]
  },
  {
   "cell_type": "markdown",
   "id": "4ba631c7",
   "metadata": {},
   "source": [
    "As a result, the API returned `testclient`—this seems to be a feature of FastAPI."
   ]
  },
  {
   "cell_type": "markdown",
   "id": "fd9776fc",
   "metadata": {},
   "source": [
    "Additionally, consider executing the application using `httpx.AsyncClient`:"
   ]
  },
  {
   "cell_type": "code",
   "execution_count": 24,
   "id": "719e2780",
   "metadata": {},
   "outputs": [
    {
     "name": "stdout",
     "output_type": "stream",
     "text": [
      "b'\"127.0.0.1\"'\n"
     ]
    }
   ],
   "source": [
    "from httpx import AsyncClient\n",
    "\n",
    "async with AsyncClient(app=app, base_url=\"http://hello\") as ac:\n",
    "    print(((await ac.get(\"/\")).content))"
   ]
  },
  {
   "cell_type": "markdown",
   "id": "0089eee5",
   "metadata": {},
   "source": [
    "Now it returns the localhost IP address, which is correct because we are calling the API from the same host it was launched on."
   ]
  }
 ],
 "metadata": {
  "kernelspec": {
   "display_name": "Python 3",
   "language": "python",
   "name": "python3"
  },
  "language_info": {
   "codemirror_mode": {
    "name": "ipython",
    "version": 3
   },
   "file_extension": ".py",
   "mimetype": "text/x-python",
   "name": "python",
   "nbconvert_exporter": "python",
   "pygments_lexer": "ipython3",
   "version": "3.10.12"
  }
 },
 "nbformat": 4,
 "nbformat_minor": 5
}
