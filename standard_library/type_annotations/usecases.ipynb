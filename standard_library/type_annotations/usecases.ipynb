{
 "cells": [
  {
   "cell_type": "markdown",
   "metadata": {},
   "source": [
    "# Usecases \n",
    "\n",
    "This page considers details of annotation in some special cases."
   ]
  },
  {
   "cell_type": "code",
   "execution_count": 4,
   "metadata": {},
   "outputs": [],
   "source": [
    "import sys\n",
    "sys.path.append(\"/tmp\")"
   ]
  },
  {
   "cell_type": "markdown",
   "metadata": {},
   "source": [
    "## Void functions\n",
    "\n",
    "If function doesn't return anything you have to specify `None` as type of output. In other cases, type analisis tools will allow you to assign the function's returns to any value - which is incorrect behavior."
   ]
  },
  {
   "cell_type": "markdown",
   "metadata": {},
   "source": [
    "---\n",
    "\n",
    "The following cell defines the void function and assigns its result to the variable - which is nonsence."
   ]
  },
  {
   "cell_type": "code",
   "execution_count": 68,
   "metadata": {},
   "outputs": [
    {
     "name": "stdout",
     "output_type": "stream",
     "text": [
      "Overwriting /tmp/none_output.py\n"
     ]
    }
   ],
   "source": [
    "%%writefile /tmp/none_output.py\n",
    "def fun():\n",
    "    print(\"test\")\n",
    "\n",
    "val = fun()"
   ]
  },
  {
   "cell_type": "code",
   "execution_count": 69,
   "metadata": {},
   "outputs": [
    {
     "name": "stdout",
     "output_type": "stream",
     "text": [
      "Success: no issues found in 1 source file\n"
     ]
    }
   ],
   "source": [
    "!python3 -m mypy /tmp/none_output.py"
   ]
  },
  {
   "cell_type": "markdown",
   "metadata": {},
   "source": [
    "But `mypy` sees no problem here - just because the output of the function is not defined."
   ]
  },
  {
   "cell_type": "markdown",
   "metadata": {},
   "source": [
    "In contrast, the following cell creates the same file, but function return is annotated as `None`."
   ]
  },
  {
   "cell_type": "code",
   "execution_count": 81,
   "metadata": {},
   "outputs": [
    {
     "name": "stdout",
     "output_type": "stream",
     "text": [
      "Overwriting /tmp/none_output.py\n"
     ]
    }
   ],
   "source": [
    "%%writefile /tmp/none_output.py\n",
    "def fun(val: int) -> None:\n",
    "    print(\"test\")\n",
    "\n",
    "val = fun(3)"
   ]
  },
  {
   "cell_type": "code",
   "execution_count": 82,
   "metadata": {},
   "outputs": [
    {
     "name": "stdout",
     "output_type": "stream",
     "text": [
      "/tmp/none_output.py:4: error: \"fun\" does not return a value (it only ever returns None)  [func-returns-value]\n",
      "Found 1 error in 1 file (checked 1 source file)\n"
     ]
    }
   ],
   "source": [
    "!python3 -m mypy /tmp/none_output.py"
   ]
  },
  {
   "cell_type": "markdown",
   "metadata": {},
   "source": [
    "As result `mypy` returns corresponding error."
   ]
  }
 ],
 "metadata": {
  "kernelspec": {
   "display_name": "python",
   "language": "python",
   "name": "python3"
  },
  "language_info": {
   "codemirror_mode": {
    "name": "ipython",
    "version": 3
   },
   "file_extension": ".py",
   "mimetype": "text/x-python",
   "name": "python",
   "nbconvert_exporter": "python",
   "pygments_lexer": "ipython3",
   "version": "3.12.9"
  }
 },
 "nbformat": 4,
 "nbformat_minor": 2
}
