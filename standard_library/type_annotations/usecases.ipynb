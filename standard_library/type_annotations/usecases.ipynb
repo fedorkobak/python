{
 "cells": [
  {
   "cell_type": "markdown",
   "metadata": {},
   "source": [
    "# Usecases \n",
    "\n",
    "You can annotate types of the arguments and type of the output."
   ]
  },
  {
   "cell_type": "markdown",
   "metadata": {},
   "source": [
    "Here is a simple example of how function types can be annotated. And below is an expression that violates the annotations for both the input data and the result function - it passes float instead of int and expects string output instead of float."
   ]
  },
  {
   "cell_type": "code",
   "execution_count": 8,
   "metadata": {},
   "outputs": [
    {
     "name": "stdout",
     "output_type": "stream",
     "text": [
      "Overwriting function_annotations_files/basic_example.py\n"
     ]
    }
   ],
   "source": [
    "%%writefile function_annotations_files/basic_example.py\n",
    "def some_function(arg1: int) -> float:\n",
    "    return arg1 / 2\n",
    "\n",
    "res: str = some_function(3.)"
   ]
  },
  {
   "cell_type": "markdown",
   "metadata": {},
   "source": [
    "So let us check the output of mypy for this program."
   ]
  },
  {
   "cell_type": "code",
   "execution_count": 9,
   "metadata": {},
   "outputs": [
    {
     "name": "stdout",
     "output_type": "stream",
     "text": [
      "function_annotations_files/basic_example.py:4: \u001b[1m\u001b[31merror:\u001b[m Incompatible types in assignment (expression has type \u001b[m\u001b[1m\"float\"\u001b[m, variable has type \u001b[m\u001b[1m\"str\"\u001b[m)  \u001b[m\u001b[33m[assignment]\u001b[m\n",
      "function_annotations_files/basic_example.py:4: \u001b[1m\u001b[31merror:\u001b[m Argument 1 to \u001b[m\u001b[1m\"some_function\"\u001b[m has incompatible type \u001b[m\u001b[1m\"float\"\u001b[m; expected \u001b[m\u001b[1m\"int\"\u001b[m  \u001b[m\u001b[33m[arg-type]\u001b[m\n",
      "\u001b[1m\u001b[31mFound 2 errors in 1 file (checked 1 source file)\u001b[m\n"
     ]
    }
   ],
   "source": [
    "!python3 -m mypy function_annotations_files/basic_example.py  "
   ]
  },
  {
   "cell_type": "markdown",
   "metadata": {},
   "source": [
    "## No return functions"
   ]
  },
  {
   "cell_type": "markdown",
   "metadata": {},
   "source": [
    "### `None` output "
   ]
  },
  {
   "cell_type": "markdown",
   "metadata": {},
   "source": [
    "Popular case when there are functions that don't have a return value. Technically it returns `None`, so you have to annotate `None` as output in such a case."
   ]
  },
  {
   "cell_type": "markdown",
   "metadata": {},
   "source": [
    "\n",
    "The following example shows the difference between functions that are annotated to return `None` and those that are not. So we have `annotated_function` and `empty_function`, both of which return `None`, so operating with their result can cause problems in subsequent stages of the programme."
   ]
  },
  {
   "cell_type": "code",
   "execution_count": 17,
   "metadata": {},
   "outputs": [
    {
     "name": "stdout",
     "output_type": "stream",
     "text": [
      "Overwriting function_annotations_files/none_return.py\n"
     ]
    }
   ],
   "source": [
    "%%writefile function_annotations_files/none_return.py\n",
    "def annotated_function() -> None:\n",
    "    print(\"I annotated to return None\")\n",
    "\n",
    "def empty_function():\n",
    "    print(\"My output doesn't annotated\")\n",
    "\n",
    "my_value = annotated_function()\n",
    "my_value = empty_function()"
   ]
  },
  {
   "cell_type": "code",
   "execution_count": 18,
   "metadata": {},
   "outputs": [
    {
     "name": "stdout",
     "output_type": "stream",
     "text": [
      "function_annotations_files/none_return.py:7: \u001b[1m\u001b[31merror:\u001b[m \u001b[m\u001b[1m\"annotated_function\"\u001b[m does not return a value (it only ever returns None)  \u001b[m\u001b[33m[func-returns-value]\u001b[m\n",
      "\u001b[1m\u001b[31mFound 1 error in 1 file (checked 1 source file)\u001b[m\n"
     ]
    }
   ],
   "source": [
    "!python3 -m mypy function_annotations_files/none_return.py"
   ]
  },
  {
   "cell_type": "markdown",
   "metadata": {},
   "source": [
    "As you can see, `mypy` only highlighted the case with the annotated function - preventing a potential logical error."
   ]
  },
  {
   "cell_type": "markdown",
   "metadata": {},
   "source": [
    "### `NoReturn`\n",
    "\n",
    "A more specific case is when you have a function that cannot be executed - so for such cases there is a `typing.NoReturn` object."
   ]
  },
  {
   "cell_type": "markdown",
   "metadata": {},
   "source": [
    "Here's just an example of syntax, but I haven't found any reasons to use it yet."
   ]
  },
  {
   "cell_type": "code",
   "execution_count": 14,
   "metadata": {},
   "outputs": [],
   "source": [
    "from typing import NoReturn\n",
    "def some_function() -> NoReturn:\n",
    "    raise Exception(\"Function won't be executed.\")"
   ]
  }
 ],
 "metadata": {
  "kernelspec": {
   "display_name": "venv",
   "language": "python",
   "name": "python3"
  },
  "language_info": {
   "codemirror_mode": {
    "name": "ipython",
    "version": 3
   },
   "file_extension": ".py",
   "mimetype": "text/x-python",
   "name": "python",
   "nbconvert_exporter": "python",
   "pygments_lexer": "ipython3",
   "version": "3.10.14"
  }
 },
 "nbformat": 4,
 "nbformat_minor": 2
}
