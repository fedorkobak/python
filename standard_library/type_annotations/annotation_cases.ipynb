{
 "cells": [
  {
   "cell_type": "markdown",
   "metadata": {},
   "source": [
    "# Usecases \n",
    "\n",
    "This page considers details of annotation in some special cases."
   ]
  },
  {
   "cell_type": "code",
   "execution_count": 4,
   "metadata": {},
   "outputs": [],
   "source": [
    "import sys\n",
    "sys.path.append(\"/tmp\")"
   ]
  },
  {
   "cell_type": "markdown",
   "metadata": {},
   "source": [
    "## Void functions\n",
    "\n",
    "If function doesn't return anything you have to specify `None` as type of output. In other cases, type analisis tools will allow you to assign the function's returns to any value - which is incorrect behavior."
   ]
  },
  {
   "cell_type": "markdown",
   "metadata": {},
   "source": [
    "---\n",
    "\n",
    "The following cell defines the void function and assigns its result to the variable - which is nonsence."
   ]
  },
  {
   "cell_type": "code",
   "execution_count": 68,
   "metadata": {},
   "outputs": [
    {
     "name": "stdout",
     "output_type": "stream",
     "text": [
      "Overwriting /tmp/none_output.py\n"
     ]
    }
   ],
   "source": [
    "%%writefile /tmp/none_output.py\n",
    "def fun():\n",
    "    print(\"test\")\n",
    "\n",
    "val = fun()"
   ]
  },
  {
   "cell_type": "code",
   "execution_count": 69,
   "metadata": {},
   "outputs": [
    {
     "name": "stdout",
     "output_type": "stream",
     "text": [
      "Success: no issues found in 1 source file\n"
     ]
    }
   ],
   "source": [
    "!python3 -m mypy /tmp/none_output.py"
   ]
  },
  {
   "cell_type": "markdown",
   "metadata": {},
   "source": [
    "But `mypy` sees no problem here - just because the output of the function is not defined."
   ]
  },
  {
   "cell_type": "markdown",
   "metadata": {},
   "source": [
    "In contrast, the following cell creates the same file, but function return is annotated as `None`."
   ]
  },
  {
   "cell_type": "code",
   "execution_count": 81,
   "metadata": {},
   "outputs": [
    {
     "name": "stdout",
     "output_type": "stream",
     "text": [
      "Overwriting /tmp/none_output.py\n"
     ]
    }
   ],
   "source": [
    "%%writefile /tmp/none_output.py\n",
    "def fun(val: int) -> None:\n",
    "    print(\"test\")\n",
    "\n",
    "val = fun(3)"
   ]
  },
  {
   "cell_type": "code",
   "execution_count": 82,
   "metadata": {},
   "outputs": [
    {
     "name": "stdout",
     "output_type": "stream",
     "text": [
      "/tmp/none_output.py:4: error: \"fun\" does not return a value (it only ever returns None)  [func-returns-value]\n",
      "Found 1 error in 1 file (checked 1 source file)\n"
     ]
    }
   ],
   "source": [
    "!python3 -m mypy /tmp/none_output.py"
   ]
  },
  {
   "cell_type": "markdown",
   "metadata": {},
   "source": [
    "As result `mypy` returns corresponding error."
   ]
  },
  {
   "cell_type": "markdown",
   "metadata": {},
   "source": [
    "## `typing.NoReturn`"
   ]
  },
  {
   "cell_type": "code",
   "execution_count": null,
   "metadata": {},
   "outputs": [
    {
     "name": "stdout",
     "output_type": "stream",
     "text": [
      "Overwriting /tmp/none_output.py\n"
     ]
    }
   ],
   "source": [
    "%%writefile /tmp/none_output.py\n",
    "def fun(val: int) -> int | None:\n",
    "    if val < 0:\n",
    "        raise Exception(\"test\")\n",
    "    return 5\n",
    "\n",
    "val: int = fun(5)"
   ]
  },
  {
   "cell_type": "code",
   "execution_count": null,
   "metadata": {},
   "outputs": [
    {
     "name": "stdout",
     "output_type": "stream",
     "text": [
      "/tmp/none_output.py:8: error: Incompatible types in assignment (expression has type \"int | None\", variable has type \"int\")  [assignment]\n",
      "Found 1 error in 1 file (checked 1 source file)\n"
     ]
    }
   ],
   "source": [
    "!python3 -m mypy /tmp/none_output.py"
   ]
  },
  {
   "cell_type": "code",
   "execution_count": null,
   "metadata": {},
   "outputs": [
    {
     "name": "stdout",
     "output_type": "stream",
     "text": [
      "Overwriting /tmp/none_output.py\n"
     ]
    }
   ],
   "source": [
    "%%writefile /tmp/none_output.py\n",
    "from typing import NoReturn\n",
    "\n",
    "def fun(val: int) -> int | NoReturn:\n",
    "    if val < 0:\n",
    "        raise Exception(\"test\")\n",
    "    return 5\n",
    "\n",
    "val: int = fun(5)"
   ]
  },
  {
   "cell_type": "code",
   "execution_count": null,
   "metadata": {},
   "outputs": [
    {
     "name": "stdout",
     "output_type": "stream",
     "text": [
      "Success: no issues found in 1 source file\n"
     ]
    }
   ],
   "source": [
    "!python3 -m mypy /tmp/none_output.py"
   ]
  },
  {
   "cell_type": "markdown",
   "metadata": {},
   "source": [
    "## Complex types annotation\n",
    "\n",
    "There is a special syntax for annotating the types of elements of complex types. Find out more about annotations for complex data types at [specific page](type_annotations/complex_types.ipynb).\n",
    "\n",
    "Here is a short example of annotations for different complex types."
   ]
  },
  {
   "cell_type": "code",
   "execution_count": null,
   "metadata": {},
   "outputs": [],
   "source": [
    "my_tuple: tuple[int, float, bool] = (10, 4., True)\n",
    "my_list: list[int] = [10,20,30]\n",
    "my_dict: dict[str, float] = {\"item1\" : 3., \"item2\" : 7.}\n",
    "my_set: set[int] = {3,2,1,4}"
   ]
  },
  {
   "cell_type": "markdown",
   "metadata": {},
   "source": [
    "## Any type\n",
    "\n",
    "Some times you'll meet cases where object can take any type. In most cases you can just ignore typing for it. But there are reasons why you should have option to declare that expression can have any type:\n",
    "\n",
    "- To show that any type is a deliberate decision.\n",
    "- To have an option for cases where a type must be specified, such as the type of keys in a dictionary or the type of a particular element in a tuple."
   ]
  },
  {
   "cell_type": "markdown",
   "metadata": {},
   "source": [
    "Consider the example where there are functions that return the key of the item with the maximum value from dict. But keys can be of any type that is acceptable to be keys for dictionaries. So it can be completed with syntax below."
   ]
  },
  {
   "cell_type": "code",
   "execution_count": null,
   "metadata": {},
   "outputs": [
    {
     "data": {
      "text/plain": [
       "'hello'"
      ]
     },
     "metadata": {},
     "output_type": "display_data"
    }
   ],
   "source": [
    "from typing import Any\n",
    "def max_key(inp_dict: dict[Any, int|float]) -> Any:\n",
    "    return max(inp_dict, key=inp_dict.get)\n",
    "\n",
    "max_key({10: 3, \"hello\": 7})"
   ]
  }
 ],
 "metadata": {
  "kernelspec": {
   "display_name": "python",
   "language": "python",
   "name": "python3"
  },
  "language_info": {
   "codemirror_mode": {
    "name": "ipython",
    "version": 3
   },
   "file_extension": ".py",
   "mimetype": "text/x-python",
   "name": "python",
   "nbconvert_exporter": "python",
   "pygments_lexer": "ipython3",
   "version": "3.12.9"
  }
 },
 "nbformat": 4,
 "nbformat_minor": 2
}
