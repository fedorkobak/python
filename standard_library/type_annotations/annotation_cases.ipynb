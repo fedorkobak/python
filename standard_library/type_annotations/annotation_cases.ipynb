{
 "cells": [
  {
   "cell_type": "markdown",
   "metadata": {},
   "source": [
    "# Annotation cases\n",
    "\n",
    "This page considers details of annotation in some special cases."
   ]
  },
  {
   "cell_type": "code",
   "execution_count": 1,
   "metadata": {},
   "outputs": [],
   "source": [
    "import sys\n",
    "import typing\n",
    "import typeguard\n",
    "\n",
    "sys.path.append(\"/tmp\")"
   ]
  },
  {
   "cell_type": "markdown",
   "metadata": {},
   "source": [
    "## Union\n",
    "\n",
    "If a value can take multiple types, you have to annotate it as an enumeration of types with `|` symbol. Using the syntax `typing.Union[<type 1>, <type 2>, ...] will have a similar result."
   ]
  },
  {
   "cell_type": "markdown",
   "metadata": {},
   "source": [
    "---\n",
    "\n",
    "The following cell shows how `typeguard.check_type` passes the literals `10` and `\"hello\"` when comparing with the `int | str` annotation."
   ]
  },
  {
   "cell_type": "code",
   "execution_count": 3,
   "metadata": {},
   "outputs": [
    {
     "data": {
      "text/plain": [
       "'hello'"
      ]
     },
     "execution_count": 3,
     "metadata": {},
     "output_type": "execute_result"
    }
   ],
   "source": [
    "union_type = int | str\n",
    "typeguard.check_type(10, union_type)\n",
    "typeguard.check_type(\"hello\", union_type)"
   ]
  },
  {
   "cell_type": "markdown",
   "metadata": {},
   "source": [
    "**Note:** The `typing.Union` syntax can look a bit inconvenient if you compare it to enumeration by `|`, but it has advantage of possibility to list awailable types in the different place.\n",
    "\n",
    "For example, the following cell shows how you can define `typing.Union` with types defined as the elements of the list."
   ]
  },
  {
   "cell_type": "code",
   "execution_count": 5,
   "metadata": {},
   "outputs": [
    {
     "data": {
      "text/plain": [
       "typing.Union[int, str, float]"
      ]
     },
     "execution_count": 5,
     "metadata": {},
     "output_type": "execute_result"
    }
   ],
   "source": [
    "types = [int, str, float]\n",
    "typing.Union[*types]"
   ]
  },
  {
   "cell_type": "markdown",
   "metadata": {},
   "source": [
    "## Void functions\n",
    "\n",
    "If function doesn't return anything you have to specify `None` as type of output. In other cases, type analisis tools will allow you to assign the function's returns to any value - which is incorrect behavior."
   ]
  },
  {
   "cell_type": "markdown",
   "metadata": {},
   "source": [
    "---\n",
    "\n",
    "The following cell defines the void function and assigns its result to the variable - which is nonsence."
   ]
  },
  {
   "cell_type": "code",
   "execution_count": 68,
   "metadata": {},
   "outputs": [
    {
     "name": "stdout",
     "output_type": "stream",
     "text": [
      "Overwriting /tmp/none_output.py\n"
     ]
    }
   ],
   "source": [
    "%%writefile /tmp/none_output.py\n",
    "def fun():\n",
    "    print(\"test\")\n",
    "\n",
    "val = fun()"
   ]
  },
  {
   "cell_type": "code",
   "execution_count": 69,
   "metadata": {},
   "outputs": [
    {
     "name": "stdout",
     "output_type": "stream",
     "text": [
      "Success: no issues found in 1 source file\n"
     ]
    }
   ],
   "source": [
    "!python3 -m mypy /tmp/none_output.py"
   ]
  },
  {
   "cell_type": "markdown",
   "metadata": {},
   "source": [
    "But `mypy` sees no problem here - just because the output of the function is not defined."
   ]
  },
  {
   "cell_type": "markdown",
   "metadata": {},
   "source": [
    "In contrast, the following cell creates the same file, but function return is annotated as `None`."
   ]
  },
  {
   "cell_type": "code",
   "execution_count": 81,
   "metadata": {},
   "outputs": [
    {
     "name": "stdout",
     "output_type": "stream",
     "text": [
      "Overwriting /tmp/none_output.py\n"
     ]
    }
   ],
   "source": [
    "%%writefile /tmp/none_output.py\n",
    "def fun(val: int) -> None:\n",
    "    print(\"test\")\n",
    "\n",
    "val = fun(3)"
   ]
  },
  {
   "cell_type": "code",
   "execution_count": 82,
   "metadata": {},
   "outputs": [
    {
     "name": "stdout",
     "output_type": "stream",
     "text": [
      "/tmp/none_output.py:4: error: \"fun\" does not return a value (it only ever returns None)  [func-returns-value]\n",
      "Found 1 error in 1 file (checked 1 source file)\n"
     ]
    }
   ],
   "source": [
    "!python3 -m mypy /tmp/none_output.py"
   ]
  },
  {
   "cell_type": "markdown",
   "metadata": {},
   "source": [
    "As result `mypy` returns corresponding error."
   ]
  },
  {
   "cell_type": "markdown",
   "metadata": {},
   "source": [
    "## `typing.NoReturn`\n",
    "\n",
    "In case some can be stopped during execution without returning anything outside - you must use `typing.NoReturn` as return type for the function. `None` is not suitable here because it means that the variable to which the return value is assigned must accept the type `None` - but it's not correct if the exception or some other termination function doesn't return anything."
   ]
  },
  {
   "cell_type": "markdown",
   "metadata": {},
   "source": [
    "---\n",
    "\n",
    "The following cell creates a function that can return `int` in some cases or just raise the exception."
   ]
  },
  {
   "cell_type": "code",
   "execution_count": 6,
   "metadata": {},
   "outputs": [
    {
     "name": "stdout",
     "output_type": "stream",
     "text": [
      "Overwriting /tmp/none_output.py\n"
     ]
    }
   ],
   "source": [
    "%%writefile /tmp/none_output.py\n",
    "def fun(val: int) -> int | None:\n",
    "    if val < 0:\n",
    "        raise Exception(\"test\")\n",
    "    return 5\n",
    "\n",
    "val: int = fun(5)"
   ]
  },
  {
   "cell_type": "code",
   "execution_count": 7,
   "metadata": {},
   "outputs": [
    {
     "name": "stdout",
     "output_type": "stream",
     "text": [
      "/tmp/none_output.py:6: error: Incompatible types in assignment (expression has type \"int | None\", variable has type \"int\")  [assignment]\n",
      "Found 1 error in 1 file (checked 1 source file)\n"
     ]
    }
   ],
   "source": [
    "!python3 -m mypy /tmp/none_output.py"
   ]
  },
  {
   "cell_type": "markdown",
   "metadata": {},
   "source": [
    "As a result, trying to assign the result of the `fun` to an integer value will result in an error."
   ]
  },
  {
   "cell_type": "markdown",
   "metadata": {},
   "source": [
    "But if you use `typing.NoReturn` everything works fine."
   ]
  },
  {
   "cell_type": "code",
   "execution_count": 9,
   "metadata": {},
   "outputs": [
    {
     "name": "stdout",
     "output_type": "stream",
     "text": [
      "Overwriting /tmp/none_output.py\n"
     ]
    }
   ],
   "source": [
    "%%writefile /tmp/none_output.py\n",
    "from typing import NoReturn\n",
    "\n",
    "def fun(val: int) -> int | NoReturn:\n",
    "    if val < 0:\n",
    "        raise Exception(\"test\")\n",
    "    return 5\n",
    "\n",
    "val: int = fun(5)"
   ]
  },
  {
   "cell_type": "code",
   "execution_count": 10,
   "metadata": {},
   "outputs": [
    {
     "name": "stdout",
     "output_type": "stream",
     "text": [
      "Success: no issues found in 1 source file\n"
     ]
    }
   ],
   "source": [
    "!python3 -m mypy /tmp/none_output.py"
   ]
  },
  {
   "cell_type": "markdown",
   "metadata": {},
   "source": [
    "## Tuple\n",
    "\n",
    "There are significant differences between annotations for lists or sets and annotations for tuples. In tuples, you have to define the type of each element individually, which means you need to count the number of elements in the tuple. However, for lists or sets, it's sufficient to annotate the types that can be stored in the collection."
   ]
  },
  {
   "cell_type": "markdown",
   "metadata": {},
   "source": [
    "---\n",
    "\n",
    "The following cell shows that the annotation `tuple[int, bool, float, str]` does not correspond to the value `(10, True, 3.0)`."
   ]
  },
  {
   "cell_type": "code",
   "execution_count": 6,
   "metadata": {},
   "outputs": [
    {
     "name": "stdout",
     "output_type": "stream",
     "text": [
      "tuple has wrong number of elements (expected 4, got 3 instead)\n"
     ]
    }
   ],
   "source": [
    "try:\n",
    "    typeguard.check_type(\n",
    "        (10, True, 3.0),\n",
    "        tuple[int, bool, float, str]\n",
    "    )\n",
    "except Exception as e:\n",
    "    print(e)"
   ]
  },
  {
   "cell_type": "markdown",
   "metadata": {},
   "source": [
    "It expects another `str` value as the last element of the `tuple`. The following cell compares the tuple `(10, True, 3.0, \"hello\")` with the given annotation."
   ]
  },
  {
   "cell_type": "code",
   "execution_count": 7,
   "metadata": {},
   "outputs": [
    {
     "data": {
      "text/plain": [
       "(10, True, 3.0, 'hello')"
      ]
     },
     "execution_count": 7,
     "metadata": {},
     "output_type": "execute_result"
    }
   ],
   "source": [
    "typeguard.check_type(\n",
    "    (10, True, 3.0, \"hello\"),\n",
    "    tuple[int, bool, float, str]\n",
    ")"
   ]
  },
  {
   "cell_type": "markdown",
   "metadata": {},
   "source": [
    "Now everything is fine."
   ]
  },
  {
   "cell_type": "markdown",
   "metadata": {},
   "source": [
    "## Any type\n",
    "\n",
    "Some times you'll meet cases where object can take any type. In most cases you can just ignore typing for it. But there are reasons why you should have option to declare that expression can have any type:\n",
    "\n",
    "- To show that any type is a deliberate decision.\n",
    "- To have an option for cases where a type must be specified, such as the type of keys in a dictionary or the type of a particular element in a tuple."
   ]
  },
  {
   "cell_type": "markdown",
   "metadata": {},
   "source": [
    "---\n",
    "\n",
    "Consider the example where there are functions that return the key of the item with the maximum value from dict. But keys can be of any type that is acceptable to be keys for dictionaries. So it can be completed with syntax below."
   ]
  },
  {
   "cell_type": "code",
   "execution_count": null,
   "metadata": {},
   "outputs": [
    {
     "data": {
      "text/plain": [
       "'hello'"
      ]
     },
     "metadata": {},
     "output_type": "display_data"
    }
   ],
   "source": [
    "from typing import Any\n",
    "def max_key(inp_dict: dict[Any, int|float]) -> Any:\n",
    "    return max(inp_dict, key=inp_dict.get)\n",
    "\n",
    "max_key({10: 3, \"hello\": 7})"
   ]
  },
  {
   "cell_type": "markdown",
   "metadata": {},
   "source": [
    "## Sequence\n",
    "\n",
    "With `typing.Sequence`, you can annotate any subscriptable type and those that have a defined `__len__` dunder."
   ]
  },
  {
   "cell_type": "markdown",
   "metadata": {},
   "source": [
    "---\n",
    "\n",
    "The following two cells show the comparison of the `list` and the `tuple` with the `Sequence` annotation."
   ]
  },
  {
   "cell_type": "code",
   "execution_count": null,
   "metadata": {},
   "outputs": [
    {
     "data": {
      "text/plain": [
       "(True, 'hello', False)"
      ]
     },
     "execution_count": 15,
     "metadata": {},
     "output_type": "execute_result"
    }
   ],
   "source": [
    "typeguard.check_type(\n",
    "    (True, \"hello\", False),\n",
    "    typing.Sequence[str | bool]\n",
    ")"
   ]
  },
  {
   "cell_type": "code",
   "execution_count": 16,
   "metadata": {},
   "outputs": [
    {
     "data": {
      "text/plain": [
       "[True, 'hello', False]"
      ]
     },
     "execution_count": 16,
     "metadata": {},
     "output_type": "execute_result"
    }
   ],
   "source": [
    "typeguard.check_type(\n",
    "    [True, \"hello\", False],\n",
    "    typing.Sequence[str | bool]\n",
    ")"
   ]
  },
  {
   "cell_type": "markdown",
   "metadata": {},
   "source": [
    "Everything works fine. But the following cell shows that the `set` doesn't refer to the `Sequence`."
   ]
  },
  {
   "cell_type": "code",
   "execution_count": 18,
   "metadata": {},
   "outputs": [
    {
     "name": "stdout",
     "output_type": "stream",
     "text": [
      "set is not a sequence\n"
     ]
    }
   ],
   "source": [
    "try:\n",
    "    typeguard.check_type(\n",
    "        {True, \"hello\", False},\n",
    "        typing.Sequence[str | bool]\n",
    "    )\n",
    "except Exception as e:\n",
    "    print(e)"
   ]
  },
  {
   "cell_type": "markdown",
   "metadata": {},
   "source": [
    "## Generic\n",
    "\n",
    "A generic is a type that can be parametrized with other types. The simpliest and probably the most common generic type is `list[int]`, which means that you are dealing with the list of exactly integers.\n",
    "\n",
    "In this context, the list annotation is parametrized with `int`, meaning that any linter or completor treat the elements of the list as integer values.\n",
    "\n",
    "For more details check the: \n",
    "- [Generics](https://typing.python.org/en/latest/reference/generics.html) page of the official documentation.\n",
    "- [Generics](https://docs.python.org/3/library/typing.html#generics) section of the `typing` package.\n",
    "\n",
    "Most cases of annotations using generics have their own subsection on the page. This section explains the concept of generics and how to create the custom ones."
   ]
  }
 ],
 "metadata": {
  "kernelspec": {
   "display_name": "python",
   "language": "python",
   "name": "python3"
  },
  "language_info": {
   "codemirror_mode": {
    "name": "ipython",
    "version": 3
   },
   "file_extension": ".py",
   "mimetype": "text/x-python",
   "name": "python",
   "nbconvert_exporter": "python",
   "pygments_lexer": "ipython3",
   "version": "3.13.5"
  }
 },
 "nbformat": 4,
 "nbformat_minor": 2
}
