{
 "cells": [
  {
   "cell_type": "markdown",
   "metadata": {},
   "source": [
    "# Concurrency\n",
    "\n",
    "Concurrent execution means that multiple tasks are in progress at the same time, but not necessarily running at the exact same time."
   ]
  },
  {
   "cell_type": "markdown",
   "metadata": {},
   "source": [
    "## Asyncio\n",
    "\n",
    "Python offers tools for organizing asynchronous programming. The main components are the `async` and `await` keywords, along with the `asyncio` library."
   ]
  },
  {
   "cell_type": "markdown",
   "metadata": {},
   "source": [
    "---\n",
    "\n",
    "The following cell demonstrates a classical asynchronous program. It uses the functions `fun1` and `fun2`, which are essentially the same - each prints a number in a loop. Each record identifies which function produced it."
   ]
  },
  {
   "cell_type": "code",
   "execution_count": 1,
   "metadata": {},
   "outputs": [
    {
     "name": "stdout",
     "output_type": "stream",
     "text": [
      "=========begin cycle=========\n",
      "fun 1|iteration 0\n",
      "fun 2|iteration 0\n",
      "fun 1|iteration 1\n",
      "fun 1|iteration 2\n",
      "fun 2|iteration 1\n",
      "fun 2|iteration 2\n",
      "fun 1|iteration 3\n",
      "fun 2|iteration 3\n",
      "fun 2|iteration 4\n",
      "fun 1|iteration 4\n",
      "fun 2|iteration 5\n",
      "fun 1|iteration 5\n",
      "fun 2|iteration 6\n",
      "fun 2|iteration 7\n",
      "fun 1|iteration 6\n",
      "fun 1|iteration 7\n",
      "fun 2|iteration 8\n",
      "fun 1|iteration 8\n",
      "fun 1|iteration 9\n",
      "fun 2|iteration 9\n",
      "=========end cycle=========\n"
     ]
    }
   ],
   "source": [
    "import asyncio\n",
    "from random import uniform\n",
    "\n",
    "async def fun1():\n",
    "    for i in range(10):\n",
    "        print(f\"fun 1|iteration {i}\")\n",
    "        await asyncio.sleep(uniform(0, 0.1))\n",
    "\n",
    "async def fun2():\n",
    "    for i in range(10):\n",
    "        print(f\"fun 2|iteration {i}\")\n",
    "        await asyncio.sleep(uniform(0, 0.1))\n",
    "\n",
    "print(\"=========begin cycle=========\")\n",
    "await asyncio.gather(fun1(), fun2())\n",
    "print(\"=========end cycle=========\")"
   ]
  },
  {
   "cell_type": "markdown",
   "metadata": {},
   "source": [
    "The output clearly shows that the functions are executed simultaneously, rather than one by one."
   ]
  },
  {
   "cell_type": "markdown",
   "metadata": {},
   "source": [
    "## Multiprocessing\n",
    "\n",
    "Runs a sompletely spearate process in the system and executes the code you need there. Find our more in:\n",
    "\n",
    "- [Official documentation](https://docs.python.org/3/library/multiprocessing.html).\n",
    "- [Corresponding page](concurrency/multiprocessing.ipynb)."
   ]
  },
  {
   "cell_type": "markdown",
   "metadata": {},
   "source": [
    "---\n",
    "\n",
    "The following cell defines a funciton that prints the id of the current process. And run it in the main process and in `multiprocessing`."
   ]
  },
  {
   "cell_type": "code",
   "execution_count": 1,
   "metadata": {},
   "outputs": [
    {
     "name": "stdout",
     "output_type": "stream",
     "text": [
      "22512\n",
      "23316\n"
     ]
    }
   ],
   "source": [
    "import os\n",
    "import multiprocessing\n",
    "\n",
    "def print_pid():\n",
    "    print(os.getpid())\n",
    "\n",
    "print_pid()\n",
    "\n",
    "p = multiprocessing.Process(target=print_pid)\n",
    "p.start()\n",
    "p.join()"
   ]
  },
  {
   "cell_type": "markdown",
   "metadata": {},
   "source": [
    "As the result there are two different numbers, which showe that the second execution of the function was recognized by the system as completely different program."
   ]
  }
 ],
 "metadata": {
  "kernelspec": {
   "display_name": "python",
   "language": "python",
   "name": "python3"
  },
  "language_info": {
   "codemirror_mode": {
    "name": "ipython",
    "version": 3
   },
   "file_extension": ".py",
   "mimetype": "text/x-python",
   "name": "python",
   "nbconvert_exporter": "python",
   "pygments_lexer": "ipython3",
   "version": "3.13.5"
  }
 },
 "nbformat": 4,
 "nbformat_minor": 2
}
