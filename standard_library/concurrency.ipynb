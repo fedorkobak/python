{
 "cells": [
  {
   "cell_type": "markdown",
   "metadata": {},
   "source": [
    "# Concurrency\n",
    "\n",
    "Concurrent execution means that multiple tasks are in progress at the same time, but not necessarily running at the exact same time."
   ]
  },
  {
   "cell_type": "markdown",
   "metadata": {},
   "source": [
    "## Asyncio\n",
    "\n",
    "Python offers tools for organizing asynchronous programming. The main components are the `async` and `await` keywords, along with the `asyncio` library."
   ]
  },
  {
   "cell_type": "markdown",
   "metadata": {},
   "source": [
    "---\n",
    "\n",
    "The following cell demonstrates a classical asynchronous program. It uses the functions `fun1` and `fun2`, which are essentially the same—each prints a number in a loop. Each record identifies which function produced it."
   ]
  },
  {
   "cell_type": "code",
   "execution_count": null,
   "metadata": {},
   "outputs": [
    {
     "name": "stdout",
     "output_type": "stream",
     "text": [
      "=========begin cycle=========\n",
      "fun 1|iteration 0\n",
      "fun 2|iteration 0\n",
      "fun 2|iteration 1\n",
      "fun 1|iteration 1\n",
      "fun 1|iteration 2\n",
      "fun 1|iteration 3\n",
      "fun 2|iteration 2\n",
      "fun 2|iteration 3\n",
      "fun 2|iteration 4\n",
      "fun 1|iteration 4\n",
      "fun 2|iteration 5\n",
      "fun 2|iteration 6\n",
      "fun 2|iteration 7\n",
      "fun 2|iteration 8\n",
      "fun 1|iteration 5\n",
      "fun 1|iteration 6\n",
      "fun 2|iteration 9\n",
      "fun 1|iteration 7\n",
      "fun 1|iteration 8\n",
      "fun 1|iteration 9\n",
      "=========end cycle=========\n"
     ]
    }
   ],
   "source": [
    "import asyncio\n",
    "from random import uniform\n",
    "\n",
    "async def fun1():\n",
    "    for i in range(10):\n",
    "        print(f\"fun 1|iteration {i}\")\n",
    "        await asyncio.sleep(uniform(0, 0.1))\n",
    "\n",
    "async def fun2():\n",
    "    for i in range(10):\n",
    "        print(f\"fun 2|iteration {i}\")\n",
    "        await asyncio.sleep(uniform(0, 0.1))\n",
    "\n",
    "print(\"=========begin cycle=========\")\n",
    "await asyncio.gather(fun1(), fun2())\n",
    "print(\"=========end cycle=========\")"
   ]
  },
  {
   "cell_type": "markdown",
   "metadata": {},
   "source": [
    "## Multiprocessing\n",
    "\n",
    "Runs a sompletely spearate process in the system and executes the code you need there. Find our more in:\n",
    "\n",
    "- [Official documentation](https://docs.python.org/3/library/multiprocessing.html).\n",
    "- [Corresponding page](concurrency/multiprocessing.ipynb)."
   ]
  },
  {
   "cell_type": "markdown",
   "metadata": {},
   "source": [
    "---\n",
    "\n",
    "The following code performs the same function in the main process and in the child process using the `multiprocessing' library."
   ]
  },
  {
   "cell_type": "code",
   "execution_count": 2,
   "metadata": {},
   "outputs": [
    {
     "name": "stdout",
     "output_type": "stream",
     "text": [
      "I'm from child\n",
      "I'm from main\n",
      "I'm from child\n",
      "I'm from main\n",
      "I'm from child\n",
      "I'm from main\n"
     ]
    }
   ],
   "source": [
    "from time import sleep\n",
    "import multiprocessing\n",
    "\n",
    "def some_process(message):\n",
    "    for i in range(3):\n",
    "        print(message)\n",
    "        sleep(3)\n",
    "\n",
    "p = multiprocessing.Process(\n",
    "    target=some_process, args=(\"I'm from child\",)\n",
    ")\n",
    "p.start()\n",
    "some_process(\"I'm from main\")\n",
    "p.join()"
   ]
  },
  {
   "cell_type": "markdown",
   "metadata": {},
   "source": [
    "As a result, the messages follow one by one, even though the functions were called sequentially."
   ]
  }
 ],
 "metadata": {
  "kernelspec": {
   "display_name": "python",
   "language": "python",
   "name": "python3"
  },
  "language_info": {
   "codemirror_mode": {
    "name": "ipython",
    "version": 3
   },
   "file_extension": ".py",
   "mimetype": "text/x-python",
   "name": "python",
   "nbconvert_exporter": "python",
   "pygments_lexer": "ipython3",
   "version": "3.12.9"
  }
 },
 "nbformat": 4,
 "nbformat_minor": 2
}
