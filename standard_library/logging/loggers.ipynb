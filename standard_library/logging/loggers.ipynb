{
 "cells": [
  {
   "cell_type": "markdown",
   "metadata": {},
   "source": [
    "# Loggers\n",
    "\n",
    "A logger is the main entry point of the `logging` library, allowing you to define top-level behavior."
   ]
  },
  {
   "cell_type": "code",
   "execution_count": 2,
   "metadata": {},
   "outputs": [],
   "source": [
    "import logging"
   ]
  },
  {
   "cell_type": "markdown",
   "metadata": {},
   "source": [
    "## List all loggers\n",
    "\n",
    "It's usefull to acesss all loggers available now. All loogets defined in the cureent interprier state is defined in the `logging.Logger.manager.loggerDict`."
   ]
  },
  {
   "cell_type": "markdown",
   "metadata": {},
   "source": [
    "---\n",
    "\n",
    "The following cell demonstrates how `loggerDict` looks like for the current jupyter notebook."
   ]
  },
  {
   "cell_type": "code",
   "execution_count": 2,
   "metadata": {},
   "outputs": [
    {
     "data": {
      "text/plain": [
       "{'concurrent.futures': <Logger concurrent.futures (WARNING)>,\n",
       " 'concurrent': <logging.PlaceHolder at 0x77013bedf040>,\n",
       " 'asyncio': <Logger asyncio (WARNING)>,\n",
       " 'tornado.access': <Logger tornado.access (WARNING)>,\n",
       " 'tornado': <Logger tornado (WARNING)>,\n",
       " 'tornado.application': <Logger tornado.application (WARNING)>,\n",
       " 'tornado.general': <Logger tornado.general (WARNING)>,\n",
       " 'stack_data.serializing': <Logger stack_data.serializing (WARNING)>,\n",
       " 'stack_data': <logging.PlaceHolder at 0x77013ad56fe0>,\n",
       " 'parso': <Logger parso (WARNING)>,\n",
       " 'prompt_toolkit.buffer': <Logger prompt_toolkit.buffer (WARNING)>,\n",
       " 'prompt_toolkit': <logging.PlaceHolder at 0x77013a970d60>,\n",
       " 'parso.python.diff': <Logger parso.python.diff (WARNING)>,\n",
       " 'parso.python': <logging.PlaceHolder at 0x77013a3eb040>,\n",
       " 'parso.cache': <Logger parso.cache (WARNING)>,\n",
       " 'Comm': <Logger Comm (WARNING)>,\n",
       " 'ipykernel.comm': <Logger ipykernel.comm (WARNING)>,\n",
       " 'ipykernel': <logging.PlaceHolder at 0x770139edcaf0>,\n",
       " 'IPKernelApp': <Logger IPKernelApp (DEBUG)>}"
      ]
     },
     "execution_count": 2,
     "metadata": {},
     "output_type": "execute_result"
    }
   ],
   "source": [
    "logging.Logger.manager.loggerDict"
   ]
  },
  {
   "cell_type": "markdown",
   "metadata": {},
   "source": [
    "## Disable\n",
    "\n",
    "Some loggers can be disabled. A logger is disabled if it's `disabled` property takes the value `false`. "
   ]
  },
  {
   "cell_type": "markdown",
   "metadata": {},
   "source": [
    "---\n",
    "\n",
    "The following example shows how created logger can be disabled."
   ]
  },
  {
   "cell_type": "code",
   "execution_count": 3,
   "metadata": {},
   "outputs": [
    {
     "name": "stderr",
     "output_type": "stream",
     "text": [
      "beep\n"
     ]
    }
   ],
   "source": [
    "logger = logging.getLogger(\"disable_test_logger\")\n",
    "logger.warning(\"beep\")\n",
    "logger.disabled = True\n",
    "logger.warning(\"beep\")\n",
    "logger.disabled = False"
   ]
  },
  {
   "cell_type": "markdown",
   "metadata": {},
   "source": [
    "Even though we run the `looger.warning(\"beep\")` command twice, there is only one `beep` message because we just set `disabled=True` before the second `beep`."
   ]
  },
  {
   "cell_type": "markdown",
   "metadata": {},
   "source": [
    "## Logger hierarchy\n",
    "\n",
    "There is a hierarchy of loggers. This hierarchy is defined simply by the names of the loggers, in the format `<parent name>.<child name>`. This enables the **propagation** of the parent logger properties from the parent to the child - you can control the group of loggers configuring the common parent for all of them."
   ]
  },
  {
   "cell_type": "markdown",
   "metadata": {},
   "source": [
    "---\n",
    "\n",
    "The following cell defines the `parent_logger` and sets its level to the `ERROR`."
   ]
  },
  {
   "cell_type": "code",
   "execution_count": 3,
   "metadata": {},
   "outputs": [
    {
     "data": {
      "text/plain": [
       "40"
      ]
     },
     "execution_count": 3,
     "metadata": {},
     "output_type": "execute_result"
    }
   ],
   "source": [
    "parent_logger = logging.getLogger(\"parent_logger\")\n",
    "parent_logger.setLevel(logging.ERROR)\n",
    "parent_logger.getEffectiveLevel()"
   ]
  },
  {
   "cell_type": "markdown",
   "metadata": {},
   "source": [
    "The following cell creates the `child_logger`. Its relationship with the `parent_logger` is defined solely by logger's full name."
   ]
  },
  {
   "cell_type": "code",
   "execution_count": 4,
   "metadata": {},
   "outputs": [
    {
     "data": {
      "text/plain": [
       "40"
      ]
     },
     "execution_count": 4,
     "metadata": {},
     "output_type": "execute_result"
    }
   ],
   "source": [
    "child_logger = logging.getLogger(\"parent_logger.child_logger\")\n",
    "child_logger.getEffectiveLevel()"
   ]
  },
  {
   "cell_type": "markdown",
   "metadata": {},
   "source": [
    "The child logger follows its settings and does not produce any warning messages:"
   ]
  },
  {
   "cell_type": "code",
   "execution_count": 5,
   "metadata": {},
   "outputs": [],
   "source": [
    "child_logger.warning(\"This is a warning from the child logger.\")"
   ]
  },
  {
   "cell_type": "markdown",
   "metadata": {},
   "source": [
    "The following cell sets the parent logger's level to `INFO`. And shows the effective levels of both the parent and child loggers:"
   ]
  },
  {
   "cell_type": "code",
   "execution_count": 6,
   "metadata": {},
   "outputs": [
    {
     "data": {
      "text/plain": [
       "(20, 20)"
      ]
     },
     "execution_count": 6,
     "metadata": {},
     "output_type": "execute_result"
    }
   ],
   "source": [
    "parent_logger.setLevel(logging.INFO)\n",
    "(\n",
    "    parent_logger.getEffectiveLevel(),\n",
    "    child_logger.getEffectiveLevel()\n",
    ")"
   ]
  },
  {
   "cell_type": "markdown",
   "metadata": {},
   "source": [
    "Consequently, the child logger follows the configuration of the parent logger. The following cell show that the child logger changes behaviour just in a corresponding way:"
   ]
  },
  {
   "cell_type": "code",
   "execution_count": 7,
   "metadata": {},
   "outputs": [
    {
     "name": "stderr",
     "output_type": "stream",
     "text": [
      "This is a warning from the child logger.\n"
     ]
    }
   ],
   "source": [
    "child_logger.warning(\"This is a warning from the child logger.\")"
   ]
  }
 ],
 "metadata": {
  "kernelspec": {
   "display_name": "python",
   "language": "python",
   "name": "python3"
  },
  "language_info": {
   "codemirror_mode": {
    "name": "ipython",
    "version": 3
   },
   "file_extension": ".py",
   "mimetype": "text/x-python",
   "name": "python",
   "nbconvert_exporter": "python",
   "pygments_lexer": "ipython3",
   "version": "3.13.7"
  }
 },
 "nbformat": 4,
 "nbformat_minor": 2
}
