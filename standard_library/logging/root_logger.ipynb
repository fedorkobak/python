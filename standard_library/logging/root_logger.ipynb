{
 "cells": [
  {
   "cell_type": "markdown",
   "metadata": {},
   "source": [
    "# Root logger\n",
    "\n",
    "There is a default logger - `root` logger. This page consiters how you can manipulate with it."
   ]
  },
  {
   "cell_type": "code",
   "execution_count": 1,
   "metadata": {},
   "outputs": [],
   "source": [
    "import logging"
   ]
  },
  {
   "cell_type": "markdown",
   "metadata": {},
   "source": [
    "Note that you can access the root logger just by calling `logging.getLogger` and manipulate it just like with a regular logger."
   ]
  },
  {
   "cell_type": "code",
   "execution_count": 2,
   "metadata": {},
   "outputs": [
    {
     "data": {
      "text/plain": [
       "<RootLogger root (WARNING)>"
      ]
     },
     "execution_count": 2,
     "metadata": {},
     "output_type": "execute_result"
    }
   ],
   "source": [
    "logging.getLogger()"
   ]
  },
  {
   "cell_type": "markdown",
   "metadata": {},
   "source": [
    "## Format\n",
    "\n",
    "To set up the format for the basic logger, you should use the `format` parameter of the `logging.basicConfig` function."
   ]
  },
  {
   "cell_type": "markdown",
   "metadata": {},
   "source": [
    "---\n",
    "\n",
    "The following example sets up basic logger to print the time of the event and it's message."
   ]
  },
  {
   "cell_type": "code",
   "execution_count": 3,
   "metadata": {},
   "outputs": [
    {
     "name": "stderr",
     "output_type": "stream",
     "text": [
      "2024-11-20 11:13:36,098 A WARNING\n",
      "2024-11-20 11:13:36,099 An ERROR\n",
      "2024-11-20 11:13:36,099 A message of CRITICAL severity\n"
     ]
    }
   ],
   "source": [
    "logging.basicConfig(format='%(asctime)s %(message)s')\n",
    "\n",
    "logging.debug(\"A DEBUG Message\")\n",
    "logging.info(\"An INFO\")\n",
    "logging.warning(\"A WARNING\")\n",
    "logging.error(\"An ERROR\")\n",
    "logging.critical(\"A message of CRITICAL severity\")"
   ]
  },
  {
   "cell_type": "markdown",
   "metadata": {},
   "source": [
    "To check format of the basic logger you need:\n",
    "\n",
    "- Use `logging.getLogger()` to get the basic logger;\n",
    "- Grab the handler you're interested in. By default, basic loggers have only one handler;\n",
    "- The `formatter._fmt` field of the handler would be a string defining the format."
   ]
  },
  {
   "cell_type": "markdown",
   "metadata": {},
   "source": [
    "The following cell prints the notebooks handler format."
   ]
  },
  {
   "cell_type": "code",
   "execution_count": 4,
   "metadata": {},
   "outputs": [
    {
     "name": "stdout",
     "output_type": "stream",
     "text": [
      "%(asctime)s %(message)s\n"
     ]
    }
   ],
   "source": [
    "basic_logger = logging.getLogger()\n",
    "print(basic_logger.handlers[0].formatter._fmt)"
   ]
  },
  {
   "cell_type": "markdown",
   "metadata": {},
   "source": [
    "You cannot update the format by calling `basicConfig` again. The following cell tries to do that:"
   ]
  },
  {
   "cell_type": "code",
   "execution_count": 5,
   "metadata": {},
   "outputs": [
    {
     "name": "stderr",
     "output_type": "stream",
     "text": [
      "2024-11-20 11:13:40,474 hello\n"
     ]
    },
    {
     "name": "stdout",
     "output_type": "stream",
     "text": [
      "%(asctime)s %(message)s\n"
     ]
    }
   ],
   "source": [
    "logging.basicConfig(format=\"%(levelname)s => %(message)s\")\n",
    "print(basic_logger.handlers[0].formatter._fmt)\n",
    "logging.error(\"hello\")"
   ]
  },
  {
   "cell_type": "markdown",
   "metadata": {},
   "source": [
    "Even a direct `_fmt` change does not allow to change the output format:"
   ]
  },
  {
   "cell_type": "code",
   "execution_count": 6,
   "metadata": {},
   "outputs": [
    {
     "name": "stderr",
     "output_type": "stream",
     "text": [
      "2024-11-20 11:13:42,621 hello\n"
     ]
    }
   ],
   "source": [
    "basic_logger.handlers[0].formatter._fmt = \"%(levelname)s => %(message)s\"\n",
    "logging.error(\"hello\")"
   ]
  }
 ],
 "metadata": {
  "kernelspec": {
   "display_name": "Python 3",
   "language": "python",
   "name": "python3"
  },
  "language_info": {
   "codemirror_mode": {
    "name": "ipython",
    "version": 3
   },
   "file_extension": ".py",
   "mimetype": "text/x-python",
   "name": "python",
   "nbconvert_exporter": "python",
   "pygments_lexer": "ipython3",
   "version": "3.10.12"
  }
 },
 "nbformat": 4,
 "nbformat_minor": 2
}
