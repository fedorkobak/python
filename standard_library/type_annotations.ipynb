{
 "cells": [
  {
   "cell_type": "markdown",
   "metadata": {},
   "source": [
    "# Type annotations\n",
    "\n",
    "Python has an option to annotate types, which is useful during relatively serious development.\n",
    "\n",
    "Check resources:\n",
    "\n",
    "- [Python type checking](https://realpython.com/python-type-checking/#type-systems) article on real python.\n",
    "- [PEP 484](https://peps.python.org/pep-0484/) that introduce type hints.\n",
    "- [PEP 526](https://peps.python.org/pep-0526/) that introduce variable annotations."
   ]
  },
  {
   "cell_type": "code",
   "execution_count": null,
   "metadata": {},
   "outputs": [],
   "source": [
    "import sys\n",
    "sys.path.append(\"/tmp\")"
   ]
  },
  {
   "cell_type": "markdown",
   "metadata": {},
   "source": [
    "## Usecases\n",
    "\n",
    "In general, you can define types of parameters and return values for the function and specify the type for some variable/attribute. This doesn't affect the behavior of the interpreter in any way, but different code analisys tools make use of it."
   ]
  },
  {
   "cell_type": "markdown",
   "metadata": {},
   "source": [
    "---\n",
    "\n",
    "The following cell creates python file that defines function that expect to take `float` and `int` and return `bool`. The function is wrapped with `typeguard.typechecked` decorator, which throws raise an error every time it is called with wrong types."
   ]
  },
  {
   "cell_type": "code",
   "execution_count": 24,
   "metadata": {},
   "outputs": [
    {
     "name": "stdout",
     "output_type": "stream",
     "text": [
      "Overwriting /tmp/typed_fun.py\n"
     ]
    }
   ],
   "source": [
    "%%writefile /tmp/typed_fun.py\n",
    "from typeguard import typechecked\n",
    "\n",
    "@typechecked\n",
    "def some_function(arg1: float, arg2: int) -> bool:\n",
    "    return arg1 > arg2"
   ]
  },
  {
   "cell_type": "markdown",
   "metadata": {},
   "source": [
    "The following code shows the exception you get when you try to pass parameters of the wrong type to the function. "
   ]
  },
  {
   "cell_type": "code",
   "execution_count": 37,
   "metadata": {},
   "outputs": [
    {
     "name": "stdout",
     "output_type": "stream",
     "text": [
      "argument \"arg2\" (float) is not an instance of int\n"
     ]
    }
   ],
   "source": [
    "from typed_fun import some_function\n",
    "try: some_function(5.5, 3.3) \n",
    "except Exception as e: print(e)"
   ]
  },
  {
   "cell_type": "markdown",
   "metadata": {},
   "source": [
    "The next cell generates a file that contains a variable that shoudl be of the datatype `float` datatype, but assigns `str` to the variable."
   ]
  },
  {
   "cell_type": "code",
   "execution_count": 21,
   "metadata": {},
   "outputs": [
    {
     "name": "stdout",
     "output_type": "stream",
     "text": [
      "Overwriting /tmp/typed_var.py\n"
     ]
    }
   ],
   "source": [
    "%%writefile /tmp/typed_var.py\n",
    "pi: float = \"test\""
   ]
  },
  {
   "cell_type": "markdown",
   "metadata": {},
   "source": [
    "`mypy` static analisator throws corresponding error to that file."
   ]
  },
  {
   "cell_type": "code",
   "execution_count": 22,
   "metadata": {},
   "outputs": [
    {
     "name": "stdout",
     "output_type": "stream",
     "text": [
      "/tmp/typed_var.py:1: error: Incompatible types in assignment (expression has type \"str\", variable has type \"float\")  [assignment]\n",
      "Found 1 error in 1 file (checked 1 source file)\n"
     ]
    }
   ],
   "source": [
    "!python3 -m mypy /tmp/typed_var.py"
   ]
  },
  {
   "cell_type": "markdown",
   "metadata": {},
   "source": [
    "## Annotation cases\n",
    "\n",
    "This section provided an overview of the various syntax and `typing` attributes that can be used to define types.\n",
    "\n",
    "| **Category**         | **Syntax**                               | **Description**                                         | **Example**                                 |\n",
    "|----------------------|-------------------------------------------|---------------------------------------------------------|----------------------------------------------|\n",
    "| **Basic types**      | `int`, `str`, `bool`, `float`, `None`    | Built-in types                                          | `x: int = 5`                                 |\n",
    "| **Union**            | `typing.Union[A, B]` / `A \\| B` (3.10+)    | One of several types                                    | `x: int \\| None` or `x: Union[int, None]`      |\n",
    "| **Optional**         | `typing.Optional[T]`                             | Shorthand for `Union[T, None]`                          | `x: Optional[str] = None`                    |\n",
    "| **List**             | `typing.List[T]` / `list[T]` (3.9+)       | A list of items                                         | `names: list[str]`                           |\n",
    "| **Tuple**            | `typing.Tuple[<types>]` / tuple            | A fixed-size tuple                                      | `point: Tuple[int, int]`                    |\n",
    "| **Dict**             | `typing.Dict[K, V]` / `dict[K, V]` (3.9+)        | Dictionary with keys and values                        | `user: dict[str, int]`                       |\n",
    "| **Set**              | `typing.Set[T]` / `set[T]`                       | A set of items                                          | `tags: set[str]`                             |\n",
    "| **Callable**         | `typing.Callable[[Args], Return]`                | A function signature                                    | `f: Callable[[int, str], bool]`             |\n",
    "| **Literal**          | `typing.Literal[val1, val2]`                     | Restrict to specific literal values                     | `mode: Literal[\"r\", \"w\"]`                    |\n",
    "| **Any**              | `typing.Any`                                     | Skip type checking                                      | `data: Any`                                  |\n",
    "| **None**             | `None`                                           | Variable takes `None` value                             | `def void() -> None`                         |\n",
    "| **NoReturn**         | `typing.NoReturn`                                | Function never returns                                  | `def fail() -> NoReturn:`                    |\n",
    "| **Annotated**        | `typing.Annotated[T, metadata]`                  | Attach metadata to a type                               | `x: Annotated[int, \"positive\"]`              |\n",
    "| **NewType**          | `typing.NewType('Name', BaseType)`               | Create a distinct type based on an existing one         | `UserId = NewType('UserId', int)`            |\n",
    "| **TypeVar**          | `typing.TypeVar('T')`                            | Generic type variable                                   | `def f(x: T) -> T:`                          |\n",
    "| **Generic**          | `typing.Generic[T]`                              | Base class for generic classes                          | `class Box(Generic[T]):`                     |\n",
    "| **Self**             | `typing.Self` (3.11+)                     | Return type of method returning its own class           | `def clone(self) -> Self:`                   |\n",
    "| **ClassVar**         | `typing.ClassVar[T]`                             | Type of class-level variables                           | `version: ClassVar[str] = \"1.0\"`             |\n",
    "| **Final**            | `typing.Final`                                   | Marks values as constants                               | `MAX_SIZE: Final[int] = 100`                 |\n",
    "| **TypedDict**        | `class Movie(typing.TypedDict):`                | Dict with specific key types                            | `title: str; year: int`                      |\n",
    "| **Protocol**         | `class P(typing.Protocol):`                      | Structural subtyping (duck typing)                      | `def read(self) -> bytes:`                   |\n",
    "| **Union with ellipsis** | `tuple[int, ...]`                     | Homogeneous tuple of any length                         | `values: Tuple[int, ...]`                    |\n",
    "\n",
    "Check more accurate description with examples on the [conrresponding page](type_annotations/annotation_cases.ipynb)."
   ]
  },
  {
   "cell_type": "markdown",
   "metadata": {},
   "source": [
    "## Type aliases\n",
    "\n",
    "Note that you can save your annotations as regular python object - your programmes will be neater."
   ]
  },
  {
   "cell_type": "markdown",
   "metadata": {},
   "source": [
    "---\n",
    "\n",
    "Below is an example that defines a function to create triangles as a tuple of three two-dimensional points. To make things simplier, you can define an annotation for the point and use it to define an annotation for the triangle."
   ]
  },
  {
   "cell_type": "code",
   "execution_count": 5,
   "metadata": {},
   "outputs": [],
   "source": [
    "from random import random\n",
    "\n",
    "# Here is straighforward definition\n",
    "def get_triangle() -> tuple[\n",
    "        tuple[float, float],\n",
    "        tuple[float, float],\n",
    "        tuple[float, float]\n",
    "    ]:\n",
    "    return (\n",
    "        (random(), random())\n",
    "        for i in range(3)\n",
    "    )\n",
    "\n",
    "# Same but shorter\n",
    "point = tuple[float, float]\n",
    "def get_triangle() -> tuple[point, point, point]:\n",
    "    return (\n",
    "        (random(), random())\n",
    "        for i in range(3)\n",
    "    )"
   ]
  },
  {
   "cell_type": "markdown",
   "metadata": {},
   "source": [
    "## `__annotations__` attribute\n",
    "\n",
    "The `__annotations__` attribute allows you to retrieve annotated types for a Python object."
   ]
  },
  {
   "cell_type": "markdown",
   "metadata": {},
   "source": [
    "---\n",
    "\n",
    "For function it returns a dictionary with keys corresponding to the names of the arguments and values corresponding to the types of the arguments. The return type of the function can be accessed using the `return` key."
   ]
  },
  {
   "cell_type": "code",
   "execution_count": 1,
   "metadata": {},
   "outputs": [
    {
     "data": {
      "text/plain": [
       "{'arg1': float, 'arg2': bool, 'return': int}"
      ]
     },
     "execution_count": 1,
     "metadata": {},
     "output_type": "execute_result"
    }
   ],
   "source": [
    "def some_function(arg1: float, arg2: bool) -> int:\n",
    "    if arg1 > 10 and arg2:\n",
    "        return 20\n",
    "\n",
    "some_function.__annotations__"
   ]
  },
  {
   "cell_type": "markdown",
   "metadata": {},
   "source": [
    "You can simply access it from any Python namespace to get annotations of the waribles in that namespace."
   ]
  },
  {
   "cell_type": "code",
   "execution_count": 2,
   "metadata": {},
   "outputs": [
    {
     "data": {
      "text/plain": [
       "{'new_variable': float, 'test_variable': float}"
      ]
     },
     "execution_count": 2,
     "metadata": {},
     "output_type": "execute_result"
    }
   ],
   "source": [
    "new_variable : float = 10\n",
    "test_variable : float = 10\n",
    "\n",
    "__annotations__"
   ]
  },
  {
   "cell_type": "markdown",
   "metadata": {},
   "source": [
    "## Mypy type checker\n",
    "\n",
    "Tool that allows you to check if the programme respects the specified type hints."
   ]
  },
  {
   "cell_type": "markdown",
   "metadata": {},
   "source": [
    "---\n",
    "\n",
    "So in the following example a function is defined that takes two arguments and they are annotated as `int`. And just in the next line funciton call just ignores annotations."
   ]
  },
  {
   "cell_type": "code",
   "execution_count": 8,
   "metadata": {},
   "outputs": [
    {
     "name": "stdout",
     "output_type": "stream",
     "text": [
      "Overwriting type_annotations_files/mypy_example.py\n"
     ]
    }
   ],
   "source": [
    "%%writefile type_annotations_files/mypy_example.py\n",
    "def bin_sum(a: int, b: int):\n",
    "    return a+b\n",
    "\n",
    "print(bin_sum(\"a\", \"b\"))"
   ]
  },
  {
   "cell_type": "markdown",
   "metadata": {},
   "source": [
    "Just execution of the program won't cause any problems."
   ]
  },
  {
   "cell_type": "code",
   "execution_count": 9,
   "metadata": {},
   "outputs": [
    {
     "name": "stdout",
     "output_type": "stream",
     "text": [
      "ab\n"
     ]
    }
   ],
   "source": [
    "!python3 type_annotations_files/mypy_example.py"
   ]
  },
  {
   "cell_type": "markdown",
   "metadata": {},
   "source": [
    "Which strings do not meet the type annotation."
   ]
  },
  {
   "cell_type": "code",
   "execution_count": 10,
   "metadata": {},
   "outputs": [
    {
     "name": "stdout",
     "output_type": "stream",
     "text": [
      "type_annotations_files/mypy_example.py:4: \u001b[1m\u001b[31merror:\u001b[m Argument 1 to \u001b[m\u001b[1m\"bin_sum\"\u001b[m has incompatible type \u001b[m\u001b[1m\"str\"\u001b[m; expected \u001b[m\u001b[1m\"int\"\u001b[m  \u001b[m\u001b[33m[arg-type]\u001b[m\n",
      "type_annotations_files/mypy_example.py:4: \u001b[1m\u001b[31merror:\u001b[m Argument 2 to \u001b[m\u001b[1m\"bin_sum\"\u001b[m has incompatible type \u001b[m\u001b[1m\"str\"\u001b[m; expected \u001b[m\u001b[1m\"int\"\u001b[m  \u001b[m\u001b[33m[arg-type]\u001b[m\n",
      "\u001b[1m\u001b[31mFound 2 errors in 1 file (checked 1 source file)\u001b[m\n"
     ]
    }
   ],
   "source": [
    "!python3 -m mypy type_annotations_files/mypy_example.py"
   ]
  },
  {
   "cell_type": "markdown",
   "metadata": {},
   "source": [
    "### Get mypy types\n",
    "\n",
    "`Mypy` has it's own type detection system, so sometimes it's useful to know how to check what type it's detecting. You can do this using the `reveal_type` and `reveal_locals` functions.\n",
    "\n",
    "**Note** You don't need to import them or something `mypy` will understand them by itself."
   ]
  },
  {
   "cell_type": "markdown",
   "metadata": {},
   "source": [
    "Here is an example of the `reveal_type` function, which allows you to understand how mypy interprets the type of a given name."
   ]
  },
  {
   "cell_type": "code",
   "execution_count": 8,
   "metadata": {},
   "outputs": [
    {
     "name": "stdout",
     "output_type": "stream",
     "text": [
      "Writing type_annotations_files/mypy_reveal_type.py\n"
     ]
    }
   ],
   "source": [
    "%%writefile type_annotations_files/mypy_reveal_type.py\n",
    "import numpy as np\n",
    "reveal_type(np.pi)"
   ]
  },
  {
   "cell_type": "code",
   "execution_count": 10,
   "metadata": {},
   "outputs": [
    {
     "name": "stdout",
     "output_type": "stream",
     "text": [
      "type_annotations_files/mypy_reveal_type.py:2: \u001b[34mnote:\u001b[m Revealed type is \u001b[m\u001b[1m\"builtins.float\"\u001b[m\u001b[m\n",
      "\u001b[1m\u001b[32mSuccess: no issues found in 1 source file\u001b[m\n"
     ]
    }
   ],
   "source": [
    "!python3 -m mypy type_annotations_files/mypy_reveal_type.py"
   ]
  },
  {
   "cell_type": "markdown",
   "metadata": {},
   "source": [
    "And an example of `reveal_locals`, which prints out information about all the variables in the namespace."
   ]
  },
  {
   "cell_type": "code",
   "execution_count": 11,
   "metadata": {},
   "outputs": [
    {
     "name": "stdout",
     "output_type": "stream",
     "text": [
      "Writing type_annotations_files/mypy_reveal_locals.py\n"
     ]
    }
   ],
   "source": [
    "%%writefile type_annotations_files/mypy_reveal_locals.py\n",
    "my_float = 10.\n",
    "my_int = 10\n",
    "\n",
    "reveal_locals()"
   ]
  },
  {
   "cell_type": "code",
   "execution_count": 12,
   "metadata": {},
   "outputs": [
    {
     "name": "stdout",
     "output_type": "stream",
     "text": [
      "type_annotations_files/mypy_reveal_locals.py:4: \u001b[34mnote:\u001b[m Revealed local types are:\u001b[m\n",
      "type_annotations_files/mypy_reveal_locals.py:4: \u001b[34mnote:\u001b[m     my_float: builtins.float\u001b[m\n",
      "type_annotations_files/mypy_reveal_locals.py:4: \u001b[34mnote:\u001b[m     my_int: builtins.int\u001b[m\n",
      "\u001b[1m\u001b[32mSuccess: no issues found in 1 source file\u001b[m\n"
     ]
    }
   ],
   "source": [
    "!python3 -m mypy type_annotations_files/mypy_reveal_locals.py"
   ]
  },
  {
   "cell_type": "markdown",
   "metadata": {},
   "source": [
    "### Wrong syntax\n",
    "\n",
    "The Python interpreter doesn't throw exceptions even if there are annotations that are defined incorrectly. But `mypy` will throw errors on it's side."
   ]
  },
  {
   "cell_type": "markdown",
   "metadata": {},
   "source": [
    "Here is an example where we are trying to annotate the dictionary, but instead of annotating key and value types, we have only annotated one."
   ]
  },
  {
   "cell_type": "code",
   "execution_count": 7,
   "metadata": {},
   "outputs": [
    {
     "name": "stdout",
     "output_type": "stream",
     "text": [
      "Writing type_annotations_files/mypy_wrong_syntax.py\n"
     ]
    }
   ],
   "source": [
    "%%writefile type_annotations_files/mypy_wrong_syntax.py\n",
    "my_dict: dict[int]"
   ]
  },
  {
   "cell_type": "markdown",
   "metadata": {},
   "source": [
    "If you try to run it just with the python interpreter, it works fine."
   ]
  },
  {
   "cell_type": "code",
   "execution_count": 8,
   "metadata": {},
   "outputs": [],
   "source": [
    "!python3 type_annotations_files/mypy_wrong_syntax.py"
   ]
  },
  {
   "cell_type": "markdown",
   "metadata": {},
   "source": [
    "But `mypy` raises corresponding error."
   ]
  },
  {
   "cell_type": "code",
   "execution_count": 9,
   "metadata": {},
   "outputs": [
    {
     "name": "stdout",
     "output_type": "stream",
     "text": [
      "type_annotations_files/mypy_wrong_syntax.py:1: \u001b[1m\u001b[31merror:\u001b[m \u001b[m\u001b[1m\"dict\"\u001b[m expects 2 type arguments, but 1 given  \u001b[m\u001b[33m[type-arg]\u001b[m\n",
      "\u001b[1m\u001b[31mFound 1 error in 1 file (checked 1 source file)\u001b[m\n"
     ]
    }
   ],
   "source": [
    "!python3 -m mypy type_annotations_files/mypy_wrong_syntax.py"
   ]
  }
 ],
 "metadata": {
  "kernelspec": {
   "display_name": "python",
   "language": "python",
   "name": "python3"
  },
  "language_info": {
   "codemirror_mode": {
    "name": "ipython",
    "version": 3
   },
   "file_extension": ".py",
   "mimetype": "text/x-python",
   "name": "python",
   "nbconvert_exporter": "python",
   "pygments_lexer": "ipython3",
   "version": "3.12.9"
  }
 },
 "nbformat": 4,
 "nbformat_minor": 2
}
