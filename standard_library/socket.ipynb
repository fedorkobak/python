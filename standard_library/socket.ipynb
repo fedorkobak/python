{
 "cells": [
  {
   "cell_type": "markdown",
   "metadata": {},
   "source": [
    "# Socket\n",
    "\n",
    "A socket interface is a programming construct that enables communication between two devices or processes over a network. It serves as an endpoint for transmitting and receiving data across the network. Python provides a dedicated library called `socket` that allows you to utilize sockets for your specific needs."
   ]
  },
  {
   "cell_type": "code",
   "execution_count": 1,
   "metadata": {},
   "outputs": [],
   "source": [
    "import socket"
   ]
  },
  {
   "cell_type": "markdown",
   "metadata": {},
   "source": [
    "## Listening\n",
    "\n",
    "In the following example we creating socket, binding it to the all awailable networkinterfaces and port 5000 and make it to listen."
   ]
  },
  {
   "cell_type": "code",
   "execution_count": 2,
   "metadata": {},
   "outputs": [],
   "source": [
    "server_socket = socket.socket()\n",
    "server_socket.bind((\"0.0.0.0\", 5000))\n",
    "server_socket.listen(1)"
   ]
  },
  {
   "cell_type": "markdown",
   "metadata": {},
   "source": [
    "Now if you check the processes that occupy port 5000 - there is indeed a python3 process there."
   ]
  },
  {
   "cell_type": "code",
   "execution_count": 3,
   "metadata": {},
   "outputs": [
    {
     "name": "stdout",
     "output_type": "stream",
     "text": [
      "COMMAND    PID                 USER   FD   TYPE DEVICE SIZE/OFF NODE NAME\n",
      "python3 227872 f.kobak@maxbit.local   67u  IPv4 718964      0t0  TCP *:5000 (LISTEN)\n"
     ]
    }
   ],
   "source": [
    "!lsof -i :5000"
   ]
  },
  {
   "cell_type": "markdown",
   "metadata": {},
   "source": [
    "Next cell closes socket."
   ]
  },
  {
   "cell_type": "code",
   "execution_count": 4,
   "metadata": {},
   "outputs": [],
   "source": [
    "server_socket.close()"
   ]
  },
  {
   "cell_type": "markdown",
   "metadata": {},
   "source": [
    "As a result, there won't be any processes using port 5000."
   ]
  },
  {
   "cell_type": "code",
   "execution_count": 5,
   "metadata": {},
   "outputs": [],
   "source": [
    "!lsof -i :5000"
   ]
  }
 ],
 "metadata": {
  "kernelspec": {
   "display_name": "Python 3",
   "language": "python",
   "name": "python3"
  },
  "language_info": {
   "codemirror_mode": {
    "name": "ipython",
    "version": 3
   },
   "file_extension": ".py",
   "mimetype": "text/x-python",
   "name": "python",
   "nbconvert_exporter": "python",
   "pygments_lexer": "ipython3",
   "version": "3.10.12"
  }
 },
 "nbformat": 4,
 "nbformat_minor": 2
}
