{
 "cells": [
  {
   "cell_type": "markdown",
   "metadata": {},
   "source": [
    "# Annotations\n",
    "\n",
    "Python has an option to annotate types, which is useful during relatively serious development.\n",
    "\n",
    "Check resources:\n",
    "\n",
    "- [Python type checking](https://realpython.com/python-type-checking/#type-systems) article on real python.\n",
    "- [typing](https://docs.python.org/3/library/typing.html) package description - contains typical patterns for annotation using.\n",
    "- [PEP 484](https://peps.python.org/pep-0484/) that introduce type hints.\n",
    "- [PEP 526](https://peps.python.org/pep-0526/) that introduce variable annotations."
   ]
  },
  {
   "cell_type": "code",
   "execution_count": null,
   "metadata": {},
   "outputs": [],
   "source": [
    "import sys\n",
    "sys.path.append(\"/tmp\")"
   ]
  },
  {
   "cell_type": "markdown",
   "metadata": {},
   "source": [
    "## Usecases\n",
    "\n",
    "In general, you can define types of parameters and return values for the function and specify the type for some variable/attribute. This doesn't affect the behavior of the interpreter in any way, but different code analisys tools make use of it."
   ]
  },
  {
   "cell_type": "markdown",
   "metadata": {},
   "source": [
    "---\n",
    "\n",
    "The following cell creates python file that defines function that expect to take `float` and `int` and return `bool`. The function is wrapped with `typeguard.typechecked` decorator, which throws raise an error every time it is called with wrong types."
   ]
  },
  {
   "cell_type": "code",
   "execution_count": 24,
   "metadata": {},
   "outputs": [
    {
     "name": "stdout",
     "output_type": "stream",
     "text": [
      "Overwriting /tmp/typed_fun.py\n"
     ]
    }
   ],
   "source": [
    "%%writefile /tmp/typed_fun.py\n",
    "from typeguard import typechecked\n",
    "\n",
    "@typechecked\n",
    "def some_function(arg1: float, arg2: int) -> bool:\n",
    "    return arg1 > arg2"
   ]
  },
  {
   "cell_type": "markdown",
   "metadata": {},
   "source": [
    "The following code shows the exception you get when you try to pass parameters of the wrong type to the function. "
   ]
  },
  {
   "cell_type": "code",
   "execution_count": 37,
   "metadata": {},
   "outputs": [
    {
     "name": "stdout",
     "output_type": "stream",
     "text": [
      "argument \"arg2\" (float) is not an instance of int\n"
     ]
    }
   ],
   "source": [
    "from typed_fun import some_function\n",
    "try: some_function(5.5, 3.3) \n",
    "except Exception as e: print(e)"
   ]
  },
  {
   "cell_type": "markdown",
   "metadata": {},
   "source": [
    "The next cell generates a file that contains a variable that shoudl be of the datatype `float` datatype, but assigns `str` to the variable."
   ]
  },
  {
   "cell_type": "code",
   "execution_count": 21,
   "metadata": {},
   "outputs": [
    {
     "name": "stdout",
     "output_type": "stream",
     "text": [
      "Overwriting /tmp/typed_var.py\n"
     ]
    }
   ],
   "source": [
    "%%writefile /tmp/typed_var.py\n",
    "pi: float = \"test\""
   ]
  },
  {
   "cell_type": "markdown",
   "metadata": {},
   "source": [
    "`mypy` static analisator throws corresponding error to that file."
   ]
  },
  {
   "cell_type": "code",
   "execution_count": 22,
   "metadata": {},
   "outputs": [
    {
     "name": "stdout",
     "output_type": "stream",
     "text": [
      "/tmp/typed_var.py:1: error: Incompatible types in assignment (expression has type \"str\", variable has type \"float\")  [assignment]\n",
      "Found 1 error in 1 file (checked 1 source file)\n"
     ]
    }
   ],
   "source": [
    "!python3 -m mypy /tmp/typed_var.py"
   ]
  },
  {
   "cell_type": "markdown",
   "metadata": {},
   "source": [
    "## Annotation cases\n",
    "\n",
    "This section provided an overview of the various syntax and `typing` attributes that can be used to define types.\n",
    "\n",
    "| **Category**            | **Syntax**                                | **Description**                                             | **Example**                                  |\n",
    "|-------------------------|-------------------------------------------|-------------------------------------------------------------|----------------------------------------------|\n",
    "| **Basic types**         | `int`, `str`, `bool`, `float`, `None`     | Built-in types                                              | `x: int = 5`                                 |\n",
    "| **Union**               | `typing.Union[A, B]` / `A \\| B` (3.10+)   | One of several types                                        | `x: int \\| None` or `x: Union[int, None]`    |\n",
    "| **Optional**            | `typing.Optional[T]`                      | Shorthand for `Union[T, None]`                              | `x: Optional[str] = None`                    |\n",
    "| **List**                | `typing.List[T]` / `list[T]` (3.9+)       | A list of items                                             | `names: list[str]`                           |\n",
    "| **Tuple**               | `typing.Tuple[<types>]` / tuple           | A fixed-size tuple                                          | `point: Tuple[int, int]`                     |\n",
    "| **Dict**                | `typing.Dict[K, V]` / `dict[K, V]` (3.9+) | Dictionary with keys and values                             | `user: dict[str, int]`                       |\n",
    "| **Set**                 | `typing.Set[T]` / `set[T]`                | A set of items                                              | `tags: set[str]`                             |\n",
    "| **Callable**            | `typing.Callable[[Args], Return]`         | A function signature                                        | `f: Callable[[int, str], bool]`              |\n",
    "| **Literal**             | `typing.Literal[val1, val2]`              | Restrict to specific literal values                         | `mode: Literal[\"r\", \"w\"]`                    |\n",
    "| **Any**                 | `typing.Any`                              | Skip type checking                                          | `data: Any`                                  |\n",
    "| **None**                | `None`                                    | Variable takes `None` value                                 | `def void() -> None`                         |\n",
    "| **NoReturn**            | `typing.NoReturn`                         | Function never returns                                      | `def fail() -> NoReturn:`                    |\n",
    "| **Annotated**           | `typing.Annotated[T, metadata]`           | Attach metadata to a type                                   | `x: Annotated[int, \"positive\"]`              |\n",
    "| **NewType**             | `typing.NewType('Name', BaseType)`        | Create a distinct type based on an existing one             | `UserId = NewType('UserId', int)`            |\n",
    "| **TypeVar**             | `typing.TypeVar('T')`                     | Generic type variable                                       | `def f(x: T) -> T:`                          |\n",
    "| **Generic**             | `typing.Generic[T]`                       | Base class for generic classes                              | `class Box(Generic[T]):`                     |\n",
    "| **Self**                | `typing.Self` (3.11+)                     | Return type of method returning its own class               | `def clone(self) -> Self:`                   |\n",
    "| **ClassVar**            | `typing.ClassVar[T]`                      | Type of class-level variables                               | `version: ClassVar[str] = \"1.0\"`             |\n",
    "| **Final**               | `typing.Final`                            | Marks values as constants                                   | `MAX_SIZE: Final[int] = 100`                 |\n",
    "| **TypedDict**           | `class Movie(typing.TypedDict):`          | Dict with specific key types                                | `title: str; year: int`                      |\n",
    "| **Protocol**            | `class P(typing.Protocol):`               | Structural subtyping (duck typing)                          | `def read(self) -> bytes:`                   |\n",
    "| **Union with ellipsis** | `tuple[int, ...]`                         | Homogeneous tuple of any length                             | `values: Tuple[int, ...]`                    |\n",
    "| **Predefinition**       | `val: 'SomeType'`                         | If the type isn't defined yet use literal as annotation     | `T = list[tuple['T', 'T']]`                  |\n",
    "\n",
    "Check more accurate description with examples on the [conrresponding page](annotations/annotations_cases.ipynb)."
   ]
  },
  {
   "cell_type": "markdown",
   "metadata": {},
   "source": [
    "## Type aliases\n",
    "\n",
    "Note that you can save your annotations as regular python object - your programmes will be neater."
   ]
  },
  {
   "cell_type": "markdown",
   "metadata": {},
   "source": [
    "---\n",
    "\n",
    "Below is an example that defines a function to create triangles as a tuple of three two-dimensional points. "
   ]
  },
  {
   "cell_type": "code",
   "execution_count": null,
   "metadata": {},
   "outputs": [],
   "source": [
    "from random import random\n",
    "\n",
    "def get_triangle() -> tuple[\n",
    "        tuple[float, float],\n",
    "        tuple[float, float],\n",
    "        tuple[float, float]\n",
    "    ]:\n",
    "    return ( \n",
    "        (random(), random()),\n",
    "        (random(), random()),\n",
    "        (random(), random())\n",
    "    )"
   ]
  },
  {
   "cell_type": "markdown",
   "metadata": {},
   "source": [
    "To make things simplier, you can define an annotation for the point and use it to define an annotation for the triangle."
   ]
  },
  {
   "cell_type": "code",
   "execution_count": null,
   "metadata": {},
   "outputs": [],
   "source": [
    "point = tuple[float, float]\n",
    "def get_triangle() -> tuple[point, point, point]:\n",
    "    return ( \n",
    "        (random(), random()),\n",
    "        (random(), random()),\n",
    "        (random(), random())\n",
    "    )"
   ]
  },
  {
   "cell_type": "markdown",
   "metadata": {},
   "source": [
    "## `__annotations__` attribute\n",
    "\n",
    "The `__annotations__` attribute allows you to retrieve annotated types for a Python object."
   ]
  },
  {
   "cell_type": "markdown",
   "metadata": {},
   "source": [
    "---\n",
    "\n",
    "For function it returns a dictionary with keys corresponding to the names of the arguments and values corresponding to the types of the arguments. The return type of the function can be accessed using the `return` key."
   ]
  },
  {
   "cell_type": "code",
   "execution_count": null,
   "metadata": {},
   "outputs": [
    {
     "data": {
      "text/plain": [
       "{'arg1': float, 'arg2': bool, 'return': int}"
      ]
     },
     "execution_count": 1,
     "metadata": {},
     "output_type": "execute_result"
    }
   ],
   "source": [
    "def some_function(arg1: float, arg2: bool) -> int | None:\n",
    "    if arg1 > 10 and arg2:\n",
    "        return 20\n",
    "\n",
    "some_function.__annotations__"
   ]
  },
  {
   "cell_type": "markdown",
   "metadata": {},
   "source": [
    "You can simply access it from any Python namespace to get annotations of the waribles in that namespace."
   ]
  },
  {
   "cell_type": "code",
   "execution_count": 2,
   "metadata": {},
   "outputs": [
    {
     "data": {
      "text/plain": [
       "{'new_variable': float, 'test_variable': float}"
      ]
     },
     "execution_count": 2,
     "metadata": {},
     "output_type": "execute_result"
    }
   ],
   "source": [
    "new_variable : float = 10\n",
    "test_variable : float = 10\n",
    "\n",
    "__annotations__"
   ]
  }
 ],
 "metadata": {
  "kernelspec": {
   "display_name": "src",
   "language": "python",
   "name": "python3"
  },
  "language_info": {
   "codemirror_mode": {
    "name": "ipython",
    "version": 3
   },
   "file_extension": ".py",
   "mimetype": "text/x-python",
   "name": "python",
   "nbconvert_exporter": "python",
   "pygments_lexer": "ipython3",
   "version": "3.12.9"
  }
 },
 "nbformat": 4,
 "nbformat_minor": 2
}
