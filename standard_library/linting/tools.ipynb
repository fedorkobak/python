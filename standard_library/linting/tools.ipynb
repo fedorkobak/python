{
 "cells": [
  {
   "cell_type": "markdown",
   "id": "60bc4c4a",
   "metadata": {},
   "source": [
    "# Tools\n",
    "\n",
    "There is the set of tools that designed to organize the process of annotations verification: \n",
    "\n",
    "- [mypy](https://mypy-lang.org/): static type checking for python.\n",
    "- [pyright](https://github.com/microsoft/pyright): static type checking for python.\n",
    "- [typeguard](https://typeguard.readthedocs.io/en/latest/): runtime type checking.\n",
    "- [flake8](https://pypi.org/project/flake8/): code style chcker."
   ]
  },
  {
   "cell_type": "markdown",
   "id": "6e33a231",
   "metadata": {},
   "source": [
    "## Mypy\n",
    "\n",
    "Mypy is a static type checker for python. Check [official documentation](https://mypy-lang.org/)."
   ]
  },
  {
   "cell_type": "markdown",
   "id": "16bd4275",
   "metadata": {},
   "source": [
    "### Get mypy types\n",
    "\n",
    "`Mypy` has it's own type detection system, so sometimes it's useful to know how to check what type it's detecting. You can do this using the `reveal_type` and `reveal_locals` functions.\n",
    "\n",
    "**Note** You don't need to import them or something `mypy` will understand them by itself."
   ]
  },
  {
   "cell_type": "markdown",
   "id": "aac2e4af",
   "metadata": {},
   "source": [
    "---\n",
    "\n",
    "Here is an example of the `reveal_type` function, which allows you to understand how mypy interprets the type of a given name."
   ]
  },
  {
   "cell_type": "code",
   "execution_count": null,
   "id": "32cb2e9c",
   "metadata": {},
   "outputs": [
    {
     "name": "stdout",
     "output_type": "stream",
     "text": [
      "Writing /tmp/mypy_reveal_type.py\n"
     ]
    }
   ],
   "source": [
    "%%writefile /tmp/mypy_reveal_type.py\n",
    "import numpy as np\n",
    "reveal_type(np.pi)"
   ]
  },
  {
   "cell_type": "code",
   "execution_count": null,
   "id": "4f418604",
   "metadata": {},
   "outputs": [
    {
     "name": "stdout",
     "output_type": "stream",
     "text": [
      "/tmp/mypy_reveal_type.py:2: note: Revealed type is \"builtins.float\"\n",
      "Success: no issues found in 1 source file\n"
     ]
    }
   ],
   "source": [
    "!python3 -m mypy /tmp/mypy_reveal_type.py"
   ]
  },
  {
   "cell_type": "markdown",
   "id": "41a82392",
   "metadata": {},
   "source": [
    "And an example of `reveal_locals`, which prints out information about all the variables in the namespace."
   ]
  },
  {
   "cell_type": "code",
   "execution_count": null,
   "id": "46627070",
   "metadata": {},
   "outputs": [
    {
     "name": "stdout",
     "output_type": "stream",
     "text": [
      "Overwriting /tmp/mypy_reveal_locals.py\n"
     ]
    }
   ],
   "source": [
    "%%writefile /tmp/mypy_reveal_locals.py\n",
    "my_float = 10.\n",
    "my_int = 10\n",
    "\n",
    "reveal_locals()"
   ]
  },
  {
   "cell_type": "code",
   "execution_count": null,
   "id": "e261c47a",
   "metadata": {},
   "outputs": [
    {
     "name": "stdout",
     "output_type": "stream",
     "text": [
      "/tmp/mypy_reveal_locals.py:4: note: Revealed local types are:\n",
      "/tmp/mypy_reveal_locals.py:4: note:     my_float: builtins.float\n",
      "/tmp/mypy_reveal_locals.py:4: note:     my_int: builtins.int\n",
      "Success: no issues found in 1 source file\n"
     ]
    }
   ],
   "source": [
    "!python3 -m mypy /tmp/mypy_reveal_locals.py"
   ]
  },
  {
   "cell_type": "markdown",
   "id": "7bd318eb",
   "metadata": {},
   "source": [
    "### Wrong syntax\n",
    "\n",
    "The Python interpreter doesn't throw exceptions even if there are annotations that are defined incorrectly. But `mypy` will throw errors on it's side."
   ]
  },
  {
   "cell_type": "markdown",
   "id": "d417b7f4",
   "metadata": {},
   "source": [
    "---\n",
    "\n",
    "Here is an example where we are trying to annotate the dictionary, but instead of annotating key and value types, we have only annotated one."
   ]
  },
  {
   "cell_type": "code",
   "execution_count": null,
   "id": "0ca87d2e",
   "metadata": {},
   "outputs": [
    {
     "name": "stdout",
     "output_type": "stream",
     "text": [
      "Writing /tmp/mypy_wrong_syntax.py\n"
     ]
    }
   ],
   "source": [
    "%%writefile /tmp/mypy_wrong_syntax.py\n",
    "my_dict: dict[int]"
   ]
  },
  {
   "cell_type": "markdown",
   "id": "81e11ca5",
   "metadata": {},
   "source": [
    "If you try to run it just with the python interpreter, it works fine."
   ]
  },
  {
   "cell_type": "code",
   "execution_count": null,
   "id": "a6b48835",
   "metadata": {},
   "outputs": [],
   "source": [
    "!python3 /tmp/mypy_wrong_syntax.py"
   ]
  },
  {
   "cell_type": "markdown",
   "id": "b7c22acc",
   "metadata": {},
   "source": [
    "But `mypy` raises corresponding error."
   ]
  },
  {
   "cell_type": "code",
   "execution_count": null,
   "id": "a9c95a3b",
   "metadata": {},
   "outputs": [
    {
     "name": "stdout",
     "output_type": "stream",
     "text": [
      "/tmp/mypy_wrong_syntax.py:1: error: \"dict\" expects 2 type arguments, but 1 given  [type-arg]\n",
      "Found 1 error in 1 file (checked 1 source file)\n"
     ]
    }
   ],
   "source": [
    "!python3 -m mypy /tmp/mypy_wrong_syntax.py"
   ]
  }
 ],
 "metadata": {
  "language_info": {
   "name": "python"
  }
 },
 "nbformat": 4,
 "nbformat_minor": 5
}
