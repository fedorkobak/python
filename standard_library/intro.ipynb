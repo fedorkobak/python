{
 "cells": [
  {
   "cell_type": "markdown",
   "id": "d81addfb",
   "metadata": {},
   "source": [
    "# Intro\n",
    "\n",
    "There is a set of packages that are preinstalled with the Python build or so common that they are used in almost any Python project, either directly or indirectly. We will call these packages the standard library, and they are considered in this section."
   ]
  },
  {
   "cell_type": "markdown",
   "id": "5cfec274",
   "metadata": {},
   "source": [
    "## Logging\n",
    "\n",
    "`Logging` is a built-in Python library for organizing logs. Its purpose is to create different `Logger` objects, each of which can be used in a specific part of the program, allowing you to maintain control over your program's output.\n",
    "\n",
    "For more details check [corresponding page](logging.ipynb)."
   ]
  },
  {
   "cell_type": "markdown",
   "id": "c7b1aabb",
   "metadata": {},
   "source": [
    "---\n",
    "\n",
    "The following example demonstrates how to create a logger, `show_logger`, and attach different handlers to it. Handlers define the destination of the output, and each handler has a unique formatter—an object that defines the format of the records produced by the corresponding handler."
   ]
  },
  {
   "cell_type": "code",
   "execution_count": null,
   "id": "1a621c60",
   "metadata": {},
   "outputs": [
    {
     "name": "stderr",
     "output_type": "stream",
     "text": [
      "2024-08-30 11:58:58,516 - CRITICAL - This is my message\n",
      "This is my message|2024-08-30 11:58:58,516|CRITICAL\n"
     ]
    }
   ],
   "source": [
    "import logging\n",
    "\n",
    "show_logger = logging.getLogger(\"show logger\")\n",
    "\n",
    "handler1 = logging.StreamHandler()\n",
    "formatter = logging.Formatter('%(asctime)s - %(levelname)s - %(message)s')\n",
    "handler1.setFormatter(formatter)\n",
    "\n",
    "handler2 = logging.StreamHandler()\n",
    "formatter = logging.Formatter('%(message)s|%(asctime)s|%(levelname)s')\n",
    "handler2.setFormatter(formatter)\n",
    "\n",
    "show_logger.addHandler(handler1)\n",
    "show_logger.addHandler(handler2)\n",
    "\n",
    "show_logger.critical(\"This is my message\")"
   ]
  },
  {
   "cell_type": "markdown",
   "id": "82f36577",
   "metadata": {},
   "source": [
    "In the end, we receive messages formatted according to the logger's settings."
   ]
  },
  {
   "cell_type": "markdown",
   "id": "75457988",
   "metadata": {},
   "source": [
    "## Functools\n",
    "\n",
    "Functools is a module in Python that provides functions that return other functions that have specific properties. Check [corresponding documentation](https://docs.python.org/3/library/functools.html)."
   ]
  },
  {
   "cell_type": "markdown",
   "id": "6ccfe48f",
   "metadata": {},
   "source": [
    "### Partial\n",
    "\n",
    "With `functools.partial` you can create a function that wraps another function in order to define default values for the arguments of the wrapped function. This is really useful when you need to pass the same set of arguments many times for example in unit tests."
   ]
  },
  {
   "cell_type": "markdown",
   "id": "2802ea85",
   "metadata": {},
   "source": [
    "---\n",
    "\n",
    "The following cell defines a function with three parameters and demostrates how to call it."
   ]
  },
  {
   "cell_type": "code",
   "execution_count": null,
   "id": "778382a3",
   "metadata": {},
   "outputs": [
    {
     "name": "stdout",
     "output_type": "stream",
     "text": [
      "1, 2, 3\n"
     ]
    }
   ],
   "source": [
    "from functools import partial\n",
    "\n",
    "def some_fun(a, b, c):\n",
    "    print(f\"{a}, {b}, {c}\")\n",
    "\n",
    "some_fun(1, 2, 3)"
   ]
  },
  {
   "cell_type": "markdown",
   "id": "123409c8",
   "metadata": {},
   "source": [
    "Now created `default_some_fun` function, which is the same as `some_fun` but uses `a=3` and `b=10` as default values."
   ]
  },
  {
   "cell_type": "code",
   "execution_count": null,
   "id": "264f6a75",
   "metadata": {},
   "outputs": [],
   "source": [
    "default_some_fun = partial(some_fun, a=3, c=10)"
   ]
  },
  {
   "cell_type": "markdown",
   "id": "2e63c76f",
   "metadata": {},
   "source": [
    "The following cell shows the `default_some_fun` call with `b` set to \"hello\""
   ]
  },
  {
   "cell_type": "code",
   "execution_count": null,
   "id": "b0f2750f",
   "metadata": {},
   "outputs": [
    {
     "name": "stdout",
     "output_type": "stream",
     "text": [
      "3, hello, 10\n"
     ]
    }
   ],
   "source": [
    "default_some_fun(b=\"hello\")"
   ]
  },
  {
   "cell_type": "markdown",
   "id": "c03850a7",
   "metadata": {},
   "source": [
    "Obviously it is just like `some_fun(3, \"hello\", 10)`."
   ]
  },
  {
   "cell_type": "markdown",
   "id": "7aa78f3f",
   "metadata": {},
   "source": [
    "**Note:** It is possible to redefine values specified in `parital`. The following code calls `default_some_fun` with new value for `a` parameter."
   ]
  },
  {
   "cell_type": "code",
   "execution_count": null,
   "id": "15166ef3",
   "metadata": {},
   "outputs": [
    {
     "name": "stdout",
     "output_type": "stream",
     "text": [
      "three, hello, 10\n"
     ]
    }
   ],
   "source": [
    "default_some_fun(a=\"three\", b=\"hello\")"
   ]
  },
  {
   "cell_type": "markdown",
   "id": "f6bca666",
   "metadata": {},
   "source": [
    "As a result, instead of `3` specified by partical, we get `three` specified in the call to the result."
   ]
  },
  {
   "cell_type": "markdown",
   "id": "24951300",
   "metadata": {},
   "source": [
    "**Note:** With `partial` you can redefine any callable you like not only functions, for example you can specify a class that will always have the same argument of the `__init__`. The following cell creates a special object that will behave just like a `dict` but will have a default `hello: 10` key-value pair."
   ]
  },
  {
   "cell_type": "code",
   "execution_count": null,
   "id": "e6e148c6",
   "metadata": {},
   "outputs": [
    {
     "data": {
      "text/plain": [
       "({'hello': 10}, {'hello': 10, 'new': 3})"
      ]
     },
     "metadata": {},
     "output_type": "display_data"
    }
   ],
   "source": [
    "value = partial(dict, hello=10)\n",
    "value(), value(new=3)"
   ]
  }
 ],
 "metadata": {
  "language_info": {
   "name": "python"
  }
 },
 "nbformat": 4,
 "nbformat_minor": 5
}
