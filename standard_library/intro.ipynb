{
 "cells": [
  {
   "cell_type": "markdown",
   "id": "d81addfb",
   "metadata": {},
   "source": [
    "# Intro\n",
    "\n",
    "There is a set of packages that are preinstalled with the Python build or so common that they are used in almost any Python project, either directly or indirectly. We will call these packages the standard library, and they are considered in this section.\n",
    "\n",
    "Check [The Python Standard Library](https://docs.python.org/3/library/index.html) for the official reference."
   ]
  },
  {
   "cell_type": "markdown",
   "id": "5cfec274",
   "metadata": {},
   "source": [
    "## Logging\n",
    "\n",
    "`Logging` is a built-in Python library for organizing logs. Its purpose is to create different `Logger` objects, each of which can be used in a specific part of the program, allowing you to maintain control over your program's output.\n",
    "\n",
    "For more details check [corresponding page](logging.ipynb)."
   ]
  },
  {
   "cell_type": "markdown",
   "id": "c7b1aabb",
   "metadata": {},
   "source": [
    "---\n",
    "\n",
    "The following example demonstrates how to create a logger, `show_logger`, and attach different handlers to it. Handlers define the destination of the output, and each handler has a unique formatter—an object that defines the format of the records produced by the corresponding handler."
   ]
  },
  {
   "cell_type": "code",
   "execution_count": null,
   "id": "1a621c60",
   "metadata": {},
   "outputs": [
    {
     "name": "stderr",
     "output_type": "stream",
     "text": [
      "2024-08-30 11:58:58,516 - CRITICAL - This is my message\n",
      "This is my message|2024-08-30 11:58:58,516|CRITICAL\n"
     ]
    }
   ],
   "source": [
    "import logging\n",
    "\n",
    "show_logger = logging.getLogger(\"show logger\")\n",
    "\n",
    "handler1 = logging.StreamHandler()\n",
    "formatter = logging.Formatter('%(asctime)s - %(levelname)s - %(message)s')\n",
    "handler1.setFormatter(formatter)\n",
    "\n",
    "handler2 = logging.StreamHandler()\n",
    "formatter = logging.Formatter('%(message)s|%(asctime)s|%(levelname)s')\n",
    "handler2.setFormatter(formatter)\n",
    "\n",
    "show_logger.addHandler(handler1)\n",
    "show_logger.addHandler(handler2)\n",
    "\n",
    "show_logger.critical(\"This is my message\")"
   ]
  },
  {
   "cell_type": "markdown",
   "id": "82f36577",
   "metadata": {},
   "source": [
    "In the end, we receive messages formatted according to the logger's settings."
   ]
  },
  {
   "cell_type": "markdown",
   "id": "75457988",
   "metadata": {},
   "source": [
    "## Functools\n",
    "\n",
    "Functools is a module in Python that provides functions that return other functions that have specific properties. \n",
    "\n",
    "| Function                                    | Description                                                                        | Example                                                  |\n",
    "| ------------------------------------------- | ---------------------------------------------------------------------------------- | -------------------------------------------------------- |\n",
    "| `cache(user_function)` *(3.9+)*             | Decorator that caches results indefinitely (like `lru_cache` with `maxsize=None`). | `@cache` on `fib(n)` stores computed results.            |\n",
    "| `cached_property(func)`                     | Turns a method into a read-only property whose value is computed once and cached.  | `@cached_property def area(self): return self.w*self.h`  |\n",
    "| `cmp_to_key(func)`                          | Converts an old-style cmp function to a key function for sorting.                  | `sorted(items, key=cmp_to_key(my_cmp))`                  |\n",
    "| `lru_cache(maxsize=128, typed=False)`       | Memoizes function results with an LRU eviction policy.                             | `@lru_cache(maxsize=None)` caches without limit.         |\n",
    "| `partial(func, /, *args, **keywords)`       | Fixes some args of a function and returns a new callable.                          | `partial(pow, exp=2)(3) → 9`                             |\n",
    "| `partialmethod(func, /, *args, **keywords)` | Like `partial`, but for methods in classes.                                        | `partialmethod(setattr, name='x')`                       |\n",
    "| `reduce(function, iterable[, initializer])` | Cumulatively applies a function to items, reducing to one value.                   | `reduce(add, [1,2,3], 0) → 6`                            |\n",
    "| `singledispatch(func)`                      | Creates a single-dispatch generic function.                                        | `@singledispatch def func(x): ...`                       |\n",
    "| `singledispatchmethod(func)`                | Like `singledispatch`, but for methods.                                            | `@singledispatchmethod def m(self, arg): ...`            |\n",
    "| `total_ordering(cls)`                       | Fills in missing rich comparison methods given `__eq__` and one ordering method.   | `@total_ordering` on a class with `__eq__` and `__lt__`. |\n",
    "| `update_wrapper(wrapper, wrapped, ...)`     | Updates a wrapper function to look like the wrapped function.                      | `update_wrapper(wrapper, original_func)`                 |\n",
    "| `wraps(wrapped, ...)`                       | Decorator that applies `update_wrapper` to a wrapper function.                     | `@wraps(func) def wrapper(*a, **k): ...`                 |\n",
    "\n",
    "Check [corresponding documentation](https://docs.python.org/3/library/functools.html)."
   ]
  },
  {
   "cell_type": "markdown",
   "id": "6ccfe48f",
   "metadata": {},
   "source": [
    "### Partial\n",
    "\n",
    "With `functools.partial` you can create a function that wraps another function in order to define default values for the arguments of the wrapped function. This is really useful when you need to pass the same set of arguments many times for example in unit tests."
   ]
  },
  {
   "cell_type": "markdown",
   "id": "2802ea85",
   "metadata": {},
   "source": [
    "---\n",
    "\n",
    "The following cell defines a function with three parameters and demostrates how to call it."
   ]
  },
  {
   "cell_type": "code",
   "execution_count": null,
   "id": "778382a3",
   "metadata": {},
   "outputs": [
    {
     "name": "stdout",
     "output_type": "stream",
     "text": [
      "1, 2, 3\n"
     ]
    }
   ],
   "source": [
    "from functools import partial\n",
    "\n",
    "def some_fun(a, b, c):\n",
    "    print(f\"{a}, {b}, {c}\")\n",
    "\n",
    "some_fun(1, 2, 3)"
   ]
  },
  {
   "cell_type": "markdown",
   "id": "123409c8",
   "metadata": {},
   "source": [
    "Now created `default_some_fun` function, which is the same as `some_fun` but uses `a=3` and `b=10` as default values."
   ]
  },
  {
   "cell_type": "code",
   "execution_count": null,
   "id": "264f6a75",
   "metadata": {},
   "outputs": [],
   "source": [
    "default_some_fun = partial(some_fun, a=3, c=10)"
   ]
  },
  {
   "cell_type": "markdown",
   "id": "2e63c76f",
   "metadata": {},
   "source": [
    "The following cell shows the `default_some_fun` call with `b` set to \"hello\""
   ]
  },
  {
   "cell_type": "code",
   "execution_count": null,
   "id": "b0f2750f",
   "metadata": {},
   "outputs": [
    {
     "name": "stdout",
     "output_type": "stream",
     "text": [
      "3, hello, 10\n"
     ]
    }
   ],
   "source": [
    "default_some_fun(b=\"hello\")"
   ]
  },
  {
   "cell_type": "markdown",
   "id": "c03850a7",
   "metadata": {},
   "source": [
    "Obviously it is just like `some_fun(3, \"hello\", 10)`."
   ]
  },
  {
   "cell_type": "markdown",
   "id": "7aa78f3f",
   "metadata": {},
   "source": [
    "**Note:** It is possible to redefine values specified in `parital`. The following code calls `default_some_fun` with new value for `a` parameter."
   ]
  },
  {
   "cell_type": "code",
   "execution_count": null,
   "id": "15166ef3",
   "metadata": {},
   "outputs": [
    {
     "name": "stdout",
     "output_type": "stream",
     "text": [
      "three, hello, 10\n"
     ]
    }
   ],
   "source": [
    "default_some_fun(a=\"three\", b=\"hello\")"
   ]
  },
  {
   "cell_type": "markdown",
   "id": "f6bca666",
   "metadata": {},
   "source": [
    "As a result, instead of `3` specified by partical, we get `three` specified in the call to the result."
   ]
  },
  {
   "cell_type": "markdown",
   "id": "24951300",
   "metadata": {},
   "source": [
    "**Note:** With `partial` you can redefine any callable you like not only functions, for example you can specify a class that will always have the same argument of the `__init__`. The following cell creates a special object that will behave just like a `dict` but will have a default `hello: 10` key-value pair."
   ]
  },
  {
   "cell_type": "code",
   "execution_count": null,
   "id": "e6e148c6",
   "metadata": {},
   "outputs": [
    {
     "data": {
      "text/plain": [
       "({'hello': 10}, {'hello': 10, 'new': 3})"
      ]
     },
     "metadata": {},
     "output_type": "display_data"
    }
   ],
   "source": [
    "value = partial(dict, hello=10)\n",
    "value(), value(new=3)"
   ]
  },
  {
   "cell_type": "markdown",
   "id": "7729d38a",
   "metadata": {},
   "source": [
    "## Itertools\n",
    "\n",
    "Functions that create iterators for effecient looping. The following table shows some of the most widely used functions:\n",
    "\n",
    "| Function                                     | Description                                                | Example                                                                    |\n",
    "| -------------------------------------------- | ---------------------------------------------------------- | -------------------------------------------------------------------------- |\n",
    "| `count(start=0, step=1)`                     | Infinite count starting at `start`, incremented by `step`. | `count(10, 2) → 10, 12, 14, …`                                             |\n",
    "| `cycle(iterable)`                            | Repeats elements of the iterable indefinitely.             | `cycle('AB') → A, B, A, B, …`                                              |\n",
    "| `repeat(object, times=None)`                 | Repeats the object, optionally `times` times.              | `repeat(5, 3) → 5, 5, 5`                                                   |\n",
    "| `accumulate(iterable, func=add)`             | Running totals or accumulated results with a binary func.  | `accumulate([1,2,3]) → 1, 3, 6`                                            |\n",
    "| `chain(*iterables)`                          | Concatenates iterables.                                    | `chain('AB', 'CD') → A, B, C, D`                                           |\n",
    "| `chain.from_iterable(iterables)`             | Flattens iterable of iterables.                            | `chain.from_iterable(['AB', 'CD']) → A, B, C, D`                           |\n",
    "| `compress(data, selectors)`                  | Filters data by selectors.                                 | `compress('ABC', [1,0,1]) → A, C`                                          |\n",
    "| `dropwhile(predicate, iterable)`             | Skips while predicate is true, returns rest.               | `dropwhile(x<5, range(10)) → 5…9`                                          |\n",
    "| `filterfalse(predicate, iterable)`           | Returns items where predicate is false.                    | `filterfalse(is_even, [1,2,3]) → 1, 3`                                     |\n",
    "| `groupby(iterable, key=None)`                | Groups consecutive equal elements.                         | `groupby('AAAB') → ('A', ['A','A','A']), ('B',['B'])`                      |\n",
    "| `islice(iterable, start, stop, step=1)`      | Iterator slice.                                            | `islice(range(10), 2, 8, 2) → 2, 4, 6`                                     |\n",
    "| `pairwise(iterable)`                         | Consecutive overlapping pairs.                             | `pairwise([1,2,3]) → (1,2), (2,3)`                                         |\n",
    "| `starmap(func, iterable)`                    | Maps func with arguments unpacked from tuples.             | `starmap(pow, [(2,3), (3,2)]) → 8, 9`                                      |\n",
    "| `takewhile(predicate, iterable)`             | Takes while predicate is true.                             | `takewhile(x<5, range(10)) → 0…4`                                          |\n",
    "| `tee(iterable, n=2)`                         | Returns n independent iterators.                           | `tee([1,2], 2) → two iters of 1,2`                                         |\n",
    "| `zip_longest(*iterables, fillvalue=None)`    | Zips to the longest iterable, filling missing values.      | `zip_longest('AB', 'C', fillvalue='-') → (A,C), (B,-)`                     |\n",
    "| `product(*iterables, repeat=1)`              | Cartesian product.                                         | `product([1,2], repeat=2) → (1,1),(1,2),(2,1),(2,2)`                       |\n",
    "| `permutations(iterable, r=None)`             | r-length permutations.                                     | `permutations('AB') → ('A','B'), ('B','A')`                                |\n",
    "| `combinations(iterable, r)`                  | r-length combinations, no repeats.                         | `combinations('ABC', 2) → ('A','B'), ('A','C'), ('B','C')`                 |\n",
    "| `combinations_with_replacement(iterable, r)` | r-length combinations, with repeats.                       | `combinations_with_replacement('AB', 2) → ('A','A'), ('A','B'), ('B','B')` |\n",
    "\n",
    "Check more details in the [itertools](https://docs.python.org/3/library/itertools.html) page of official documentation."
   ]
  },
  {
   "cell_type": "markdown",
   "id": "0eda023d",
   "metadata": {},
   "source": [
    "## Textwrap\n",
    "\n",
    "The `textwrap` package is for text formatting. It contains the following functions:\n",
    "\n",
    "| Function            | Description                                                                 | Key Parameters (examples)                                       |\n",
    "|---------------------|-----------------------------------------------------------------------------|----------------------------------------------------------------|\n",
    "| `wrap()`            | Wraps a single paragraph into a list of lines.                             | `width=70`, `expand_tabs`, `replace_whitespace`, `drop_whitespace` |\n",
    "| `fill()`            | Wraps text and returns it as a single string with newlines.                | Same as `wrap()`                                                |\n",
    "| `shorten()`         | Truncates text to fit within a given width, ending with placeholder.        | `width`, `placeholder=\"...\"`                                   |\n",
    "| `dedent()`          | Removes common leading whitespace from every line.                         | *(no extra parameters)*                                         |\n",
    "| `indent()`          | Adds a prefix to selected lines of text.                                   | `prefix`, `predicate` (function deciding which lines get prefix) |\n",
    "\n",
    "The `TextWrapper` class is used for more efficient processing.\n",
    "\n",
    "For more details, check [textwrap](https://docs.python.org/3/library/textwrap.html) page of the official documentation."
   ]
  },
  {
   "cell_type": "markdown",
   "id": "097730c6",
   "metadata": {},
   "source": [
    "## Tracemalloc\n",
    "\n",
    "The `tracemalloc` package allows you to monitor memory in python. For more information, check [`tracemalloc` - Trace memory allocations](https://docs.python.org/3/library/tracemalloc.html) page of official documentation.\n",
    "\n",
    "Check more detainls in the [Tracemalloc](tracemalloc.ipynb) page."
   ]
  },
  {
   "cell_type": "markdown",
   "id": "ddd542b0",
   "metadata": {},
   "source": [
    "---\n",
    "\n",
    "To eliminate calls associated with the jupyter notebook, separate script supposed to be reated."
   ]
  },
  {
   "cell_type": "code",
   "execution_count": null,
   "id": "f12e62c0",
   "metadata": {},
   "outputs": [
    {
     "name": "stdout",
     "output_type": "stream",
     "text": [
      "Overwriting /tmp/my_file.py\n"
     ]
    }
   ],
   "source": [
    "%%writefile /tmp/my_file.py\n",
    "import tracemalloc\n",
    "\n",
    "# Start monitoring\n",
    "tracemalloc.start()\n",
    "\n",
    "value = 10\n",
    "\n",
    "# Taking information from the calls up to the present moment\n",
    "snapshot = tracemalloc.take_snapshot()\n",
    "print(snapshot.statistics('lineno'))"
   ]
  },
  {
   "cell_type": "markdown",
   "id": "50a396c8",
   "metadata": {},
   "source": [
    "The script's run is in the following cell."
   ]
  },
  {
   "cell_type": "code",
   "execution_count": 9,
   "id": "50f6dda5",
   "metadata": {},
   "outputs": [
    {
     "name": "stdout",
     "output_type": "stream",
     "text": [
      "[]\n"
     ]
    }
   ],
   "source": [
    "!python3 /tmp/my_file.py"
   ]
  },
  {
   "cell_type": "markdown",
   "id": "db81980f",
   "metadata": {},
   "source": [
    "The `snapshot.statistisc('lineno')` returns a list of different memory allocations. In the example under consideration, there is just one line that corresponds to the  `value = 10` call."
   ]
  }
 ],
 "metadata": {
  "kernelspec": {
   "display_name": "python",
   "language": "python",
   "name": "python3"
  },
  "language_info": {
   "codemirror_mode": {
    "name": "ipython",
    "version": 3
   },
   "file_extension": ".py",
   "mimetype": "text/x-python",
   "name": "python",
   "nbconvert_exporter": "python",
   "pygments_lexer": "ipython3",
   "version": "3.13.7"
  }
 },
 "nbformat": 4,
 "nbformat_minor": 5
}
