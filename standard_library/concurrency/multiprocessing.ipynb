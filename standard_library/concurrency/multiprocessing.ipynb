{
 "cells": [
  {
   "cell_type": "markdown",
   "id": "716b367f-5a0b-42cc-a5d0-9ae395afb115",
   "metadata": {},
   "source": [
    "# Multiprocessing\n",
    "\n",
    "Multiprocessing is a Python package that allows processes to be spawned in Python. Check [the official documentation](https://docs.python.org/3/library/multiprocessing.html)."
   ]
  },
  {
   "cell_type": "code",
   "execution_count": 7,
   "id": "6d3dc8dc-d933-41b3-aa09-dff7f6385574",
   "metadata": {},
   "outputs": [],
   "source": [
    "import time\n",
    "import random\n",
    "import numpy as np\n",
    "\n",
    "import multiprocessing\n",
    "from multiprocessing import Process"
   ]
  },
  {
   "cell_type": "markdown",
   "id": "2701b9c9-b3fd-4744-b156-2c20f307a986",
   "metadata": {},
   "source": [
    "## Single process\n",
    "\n",
    "To create a process from scratch, use `multiprocessing.Process` class.\n",
    "\n",
    "- The `start()` method starts the execution;\n",
    "- The `joint()` method is used to synchronise the parent process with the child processes. It allows the parent process to wait for the child processes to finish before continuing."
   ]
  },
  {
   "cell_type": "markdown",
   "id": "44a86717-3018-45c2-b00c-422245b1cbb3",
   "metadata": {},
   "source": [
    "---\n",
    "\n",
    "The following example runs the same function in different processes. The first time it iterates two times more iteration then the second."
   ]
  },
  {
   "cell_type": "code",
   "execution_count": 4,
   "id": "0a230fbb-3b73-4aeb-a74b-01116e44c45d",
   "metadata": {},
   "outputs": [
    {
     "name": "stdout",
     "output_type": "stream",
     "text": [
      "Processes were started\n",
      "second if finished 2.0598533153533936\n",
      "first if finished 4.119459390640259\n",
      "Processes were joined\n"
     ]
    }
   ],
   "source": [
    "def count(N: int, process_name: str):\n",
    "    st_time = time.time()\n",
    "    for i in range(N):\n",
    "        ((i+10)/25)**(1/2)\n",
    "    en_time = time.time()\n",
    "    print(f\"{process_name} if finished {en_time - st_time}\")\n",
    "\n",
    "iter = 10**8\n",
    "p1 = Process(target=count, args=(iter, \"first\"))\n",
    "p2 = Process(target=count, args=(int(iter/2), \"second\"))\n",
    "\n",
    "p1.start()\n",
    "p2.start()\n",
    "\n",
    "print(\"Processes were started\")\n",
    "\n",
    "p1.join()\n",
    "p2.join()\n",
    "\n",
    "print(\"Processes were joined\")"
   ]
  },
  {
   "cell_type": "markdown",
   "id": "14033d83-8ed7-4822-a02d-a584fcb37c7d",
   "metadata": {},
   "source": [
    "So, although we started `first` process earlier, it was executed later, confirming that we achieved parallel computation.\n",
    "\n",
    "`print(\"Processes were started\")` was executed immediately after the processes were started, but `print(\"Processes were joined\")` was executed only when both processes were finished - this shows us that the main process was stuck by the `join` method of the child processes."
   ]
  },
  {
   "cell_type": "markdown",
   "id": "c1db9b59-564a-41e5-a102-1f2df7961b49",
   "metadata": {},
   "source": [
    "## Pool\n",
    "\n",
    "`multiprocessing.Pool` is more common to use."
   ]
  },
  {
   "cell_type": "markdown",
   "id": "a08942b2-e202-4e5b-9c04-a95a273bc1ab",
   "metadata": {},
   "source": [
    "The following function defines a function that creates an array of 1,000,000 floats and then calculates the minimum, maximum and average values over them. In the next cell we will try to run it multiple times, just in cycle and then in multiprocesses."
   ]
  },
  {
   "cell_type": "code",
   "execution_count": 8,
   "id": "5aa02f9e-a35a-4e8f-996c-b9575962d488",
   "metadata": {},
   "outputs": [],
   "source": [
    "from multiprocessing import Pool\n",
    "def gen_random(_):\n",
    "    my_array = [random.random() for _ in range(1_000_000)]\n",
    "    return (min(my_array), max(my_array), np.mean(my_array))"
   ]
  },
  {
   "cell_type": "markdown",
   "id": "ffb771cb-009e-4e93-86a5-9729e6068ca1",
   "metadata": {},
   "source": [
    "First - classiscal option only cycle that starts function 10 times."
   ]
  },
  {
   "cell_type": "code",
   "execution_count": 5,
   "id": "a67805e3-5c26-4a21-8b41-8f66ace5e1dc",
   "metadata": {},
   "outputs": [
    {
     "name": "stdout",
     "output_type": "stream",
     "text": [
      "1.08 s ± 54.8 ms per loop (mean ± std. dev. of 7 runs, 1 loop each)\n"
     ]
    }
   ],
   "source": [
    "%%timeit\n",
    "[gen_random(None) for i in range(10)]"
   ]
  },
  {
   "cell_type": "markdown",
   "id": "3c14de2b-04e8-446c-9b58-cd85ebb45bf3",
   "metadata": {},
   "source": [
    "Now lets run it in 10 therads."
   ]
  },
  {
   "cell_type": "code",
   "execution_count": 6,
   "id": "11dfe9f9-58e2-4150-9cab-ab95d23c90f3",
   "metadata": {},
   "outputs": [
    {
     "name": "stdout",
     "output_type": "stream",
     "text": [
      "511 ms ± 16.6 ms per loop (mean ± std. dev. of 7 runs, 1 loop each)\n"
     ]
    }
   ],
   "source": [
    "%%timeit\n",
    "pool = Pool(processes=10)\n",
    "results = pool.map(gen_random, [None] * 10)\n",
    "pool.close()\n",
    "pool.join()"
   ]
  },
  {
   "cell_type": "markdown",
   "id": "ecf51334-d314-4832-bb94-70453f6702c1",
   "metadata": {},
   "source": [
    "The increase in speed is obvious."
   ]
  },
  {
   "cell_type": "markdown",
   "id": "9ad2a3ce-b92d-4a1a-868f-bbe9d39967ca",
   "metadata": {},
   "source": [
    "But let's make sure that the solution via `multiprocessing.Pool` leads to the expected results."
   ]
  },
  {
   "cell_type": "code",
   "execution_count": 11,
   "id": "9f51dfa5-a62f-434b-83c2-4c74a1b35a7d",
   "metadata": {},
   "outputs": [
    {
     "data": {
      "text/plain": [
       "[(4.888834341798542e-07, 0.9999993695614751, 0.500253121167094),\n",
       " (1.5193695950266317e-06, 0.9999995713653611, 0.5004648527204844),\n",
       " (8.338447909927993e-08, 0.9999982350763111, 0.49987126646962265),\n",
       " (3.533316917048168e-06, 0.9999988394522739, 0.5003074522538739),\n",
       " (6.854293412850154e-07, 0.9999992469319836, 0.5001294510917905),\n",
       " (7.25034506876554e-08, 0.9999993853360523, 0.5000197205058422),\n",
       " (2.1432668373400077e-07, 0.9999985629946924, 0.500037866675235),\n",
       " (3.241340156279193e-07, 0.9999995020233481, 0.4998192310331728),\n",
       " (3.97997433898567e-08, 0.9999970648221497, 0.49967546355687814),\n",
       " (1.1574031938410556e-06, 0.999999502338194, 0.4999944256310727)]"
      ]
     },
     "execution_count": 11,
     "metadata": {},
     "output_type": "execute_result"
    }
   ],
   "source": [
    "pool = Pool(processes=10)\n",
    "results = pool.map(gen_random, [None] * 10)\n",
    "results"
   ]
  },
  {
   "cell_type": "markdown",
   "id": "875063b6",
   "metadata": {},
   "source": [
    "## Start methods\n",
    "\n",
    "Processes can be started in different ways - different start methods. There are 3 startup methods: `spawn`, `fork` and `forkserver`. In practice, what matters is what the child process inherits from the parent. For more details check: \n",
    "\n",
    "- [Corresponding section of the official documentation of multiprocessing](https://docs.python.org/3/library/multiprocessing.html#contexts-and-start-methods).\n",
    "- [Corresponding page in this site](multiprocessing/start_methods.ipynb)."
   ]
  },
  {
   "cell_type": "markdown",
   "id": "7df9ee9d",
   "metadata": {},
   "source": [
    "---\n",
    "\n",
    "The following cell defines the python module that prints file descriptors that is created by the process, in linux generally it defines the resources of the process.\n",
    "\n",
    "**Note:** it must be defined in the separate module as for example the `spawn` method must to be able to load it."
   ]
  },
  {
   "cell_type": "code",
   "execution_count": 18,
   "id": "2c61cf46",
   "metadata": {},
   "outputs": [
    {
     "name": "stdout",
     "output_type": "stream",
     "text": [
      "Writing multiprocessing_files/show_resources.py\n"
     ]
    }
   ],
   "source": [
    "%%writefile multiprocessing_files/show_resources.py\n",
    "import os\n",
    "pid = os.getpid()\n",
    "\n",
    "def show_resources():\n",
    "    pid = os.getpid()\n",
    "    print(os.listdir(f\"/proc/{pid}/fd\"))"
   ]
  },
  {
   "cell_type": "markdown",
   "id": "059079ab",
   "metadata": {},
   "source": [
    "The resources available in the main process are listed below."
   ]
  },
  {
   "cell_type": "code",
   "execution_count": 14,
   "id": "6a77e558",
   "metadata": {},
   "outputs": [
    {
     "name": "stdout",
     "output_type": "stream",
     "text": [
      "['0', '1', '2', '3', '4', '5', '6', '7', '8', '9', '10', '11', '12', '13', '14', '15', '16', '17', '18', '19', '20', '21', '22', '23', '24', '25', '26', '27', '28', '29', '30', '31', '32', '33', '34', '35', '36', '37', '38', '39', '40', '41', '42', '43', '44', '45', '46', '47', '48', '49', '50', '51', '52', '53', '54', '55', '56', '57', '58', '59', '60', '61', '62', '63', '64', '65', '66', '67', '69', '71', '73', '82', '83', '84', '86', '93', '94', '99', '103', '106', '107', '108']\n"
     ]
    }
   ],
   "source": [
    "from multiprocessing_files.show_resources import show_resources\n",
    "show_resources()"
   ]
  },
  {
   "cell_type": "markdown",
   "id": "198b31a4",
   "metadata": {},
   "source": [
    "The following cell creates a function that runs `show_resources` with different startup methods."
   ]
  },
  {
   "cell_type": "code",
   "execution_count": null,
   "id": "06f69414",
   "metadata": {},
   "outputs": [],
   "source": [
    "def start_process(start_method):\n",
    "    context = multiprocessing.get_context(start_method)\n",
    "    p = context.Process(target=show_resources)\n",
    "    p.start()\n",
    "    p.join()"
   ]
  },
  {
   "cell_type": "markdown",
   "id": "b13872e4",
   "metadata": {},
   "source": [
    "The following cells show descriptos in different contexts."
   ]
  },
  {
   "cell_type": "code",
   "execution_count": 9,
   "id": "9ad349dc",
   "metadata": {},
   "outputs": [
    {
     "name": "stdout",
     "output_type": "stream",
     "text": [
      "['0', '1', '2', '3', '4', '5', '63', '64']\n"
     ]
    }
   ],
   "source": [
    "start_process(\"spawn\")"
   ]
  },
  {
   "cell_type": "code",
   "execution_count": 10,
   "id": "7099d498",
   "metadata": {},
   "outputs": [
    {
     "name": "stdout",
     "output_type": "stream",
     "text": [
      "['0', '1', '2', '3', '4', '5', '6', '7', '8', '9', '10', '11', '12', '13', '14', '15', '16', '17', '18', '19', '20', '21', '22', '23', '24', '25', '26', '27', '28', '29', '30', '31', '32', '33', '34', '35', '36', '37', '38', '39', '40', '41', '42', '43', '44', '45', '46', '47', '48', '49', '50', '51', '52', '53', '54', '55', '56', '57', '58', '59', '60', '61', '62', '63', '64', '65', '66', '67', '68', '69', '70', '71', '72', '73', '74', '75', '82', '83', '84', '86', '93', '94', '99', '103', '106', '107', '108']\n"
     ]
    }
   ],
   "source": [
    "start_process('fork')"
   ]
  },
  {
   "cell_type": "code",
   "execution_count": 12,
   "id": "5c33f639",
   "metadata": {},
   "outputs": [
    {
     "name": "stdout",
     "output_type": "stream",
     "text": [
      "['0', '1', '2', '3', '4', '5', '6', '10', '11']\n"
     ]
    }
   ],
   "source": [
    "start_process('forkserver')"
   ]
  },
  {
   "cell_type": "markdown",
   "id": "6e566014",
   "metadata": {},
   "source": [
    "As a result there, is a different list of file descriptors, which practically defines the behaviour of the process."
   ]
  }
 ],
 "metadata": {
  "kernelspec": {
   "display_name": "python",
   "language": "python",
   "name": "python3"
  },
  "language_info": {
   "codemirror_mode": {
    "name": "ipython",
    "version": 3
   },
   "file_extension": ".py",
   "mimetype": "text/x-python",
   "name": "python",
   "nbconvert_exporter": "python",
   "pygments_lexer": "ipython3",
   "version": "3.12.9"
  }
 },
 "nbformat": 4,
 "nbformat_minor": 5
}
