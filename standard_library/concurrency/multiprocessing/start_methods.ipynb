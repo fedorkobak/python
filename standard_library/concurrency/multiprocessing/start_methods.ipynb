{
 "cells": [
  {
   "cell_type": "markdown",
   "metadata": {},
   "source": [
    "# Start methods\n",
    "\n",
    "You can start processes using different methods, which generally determine what data the process shares with the parent process. This page provides an overview of the practical aspects of working with different startup methods."
   ]
  },
  {
   "cell_type": "code",
   "execution_count": 1,
   "metadata": {},
   "outputs": [],
   "source": [
    "import multiprocessing"
   ]
  },
  {
   "cell_type": "markdown",
   "metadata": {},
   "source": [
    "## Loading modules\n",
    "\n",
    "One practical aspect of using different start methods is that the `spawn` and `forkserver` methods reload the modules required to run the process, whereas the `fork` method uses the imports from the parent process."
   ]
  },
  {
   "cell_type": "markdown",
   "metadata": {},
   "source": [
    "---\n",
    "\n",
    "The following cell starts a module that prints \"module is loaded\" when it starts, and defines the variable `a = \"original variable\"`."
   ]
  },
  {
   "cell_type": "code",
   "execution_count": 2,
   "metadata": {},
   "outputs": [
    {
     "name": "stdout",
     "output_type": "stream",
     "text": [
      "Overwriting start_methods_files/value.py\n"
     ]
    }
   ],
   "source": [
    "%%writefile start_methods_files/value.py\n",
    "print(\"module is loaded\")\n",
    "a = \"original value\"\n",
    "\n",
    "def p_val(): print(a)"
   ]
  },
  {
   "cell_type": "markdown",
   "metadata": {},
   "source": [
    "The following cell imports the module into the main process runtime, and changes the value of the `a` variable."
   ]
  },
  {
   "cell_type": "code",
   "execution_count": 3,
   "metadata": {},
   "outputs": [
    {
     "name": "stdout",
     "output_type": "stream",
     "text": [
      "module is loaded\n"
     ]
    }
   ],
   "source": [
    "from start_methods_files import value\n",
    "value.a = \"new value\""
   ]
  },
  {
   "cell_type": "markdown",
   "metadata": {},
   "source": [
    "The next cells executes `p_val` function using different start methods."
   ]
  },
  {
   "cell_type": "code",
   "execution_count": 4,
   "metadata": {},
   "outputs": [],
   "source": [
    "def run_with_context(method):\n",
    "    context = multiprocessing.get_context(method)\n",
    "    p = context.Process(target=value.p_val)\n",
    "    p.start()\n",
    "    p.join()"
   ]
  },
  {
   "cell_type": "code",
   "execution_count": 5,
   "metadata": {},
   "outputs": [
    {
     "name": "stdout",
     "output_type": "stream",
     "text": [
      "module is loaded\n",
      "original value\n"
     ]
    }
   ],
   "source": [
    "run_with_context(\"spawn\")"
   ]
  },
  {
   "cell_type": "code",
   "execution_count": 6,
   "metadata": {},
   "outputs": [
    {
     "name": "stdout",
     "output_type": "stream",
     "text": [
      "new value\n"
     ]
    }
   ],
   "source": [
    "run_with_context('fork')"
   ]
  },
  {
   "cell_type": "code",
   "execution_count": 7,
   "metadata": {},
   "outputs": [
    {
     "name": "stdout",
     "output_type": "stream",
     "text": [
      "module is loaded\n",
      "original value\n"
     ]
    }
   ],
   "source": [
    "run_with_context('forkserver')"
   ]
  },
  {
   "cell_type": "markdown",
   "metadata": {},
   "source": [
    "As the result \"spawn\" and \"forkserver\" methods caused \"module is loaded\" message, and `a` value in them corresponds to the one defined in the module. At the same time, \"fork\" method doesn't print \"module is loaded\" message because it was already loaded by parent process, and prints \"new value\" because it is the value of the `a` defined in the main process."
   ]
  }
 ],
 "metadata": {
  "kernelspec": {
   "display_name": "python",
   "language": "python",
   "name": "python3"
  },
  "language_info": {
   "codemirror_mode": {
    "name": "ipython",
    "version": 3
   },
   "file_extension": ".py",
   "mimetype": "text/x-python",
   "name": "python",
   "nbconvert_exporter": "python",
   "pygments_lexer": "ipython3",
   "version": "3.12.9"
  }
 },
 "nbformat": 4,
 "nbformat_minor": 2
}
