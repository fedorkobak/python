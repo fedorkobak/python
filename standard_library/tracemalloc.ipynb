{
 "cells": [
  {
   "cell_type": "markdown",
   "id": "a153f499",
   "metadata": {},
   "source": [
    "# Tracemalloc\n",
    "\n",
    "Tracemalloc is a package that monitors memory allocation in python."
   ]
  },
  {
   "cell_type": "markdown",
   "id": "3e575df9",
   "metadata": {},
   "source": [
    "## Statistics\n",
    "\n",
    "The `tracemalloc` stores memory allocation information in special `Statistic` objects. It has 3 fileds:\n",
    "\n",
    "- `traceback`: object that refers to the line that allocated memory.\n",
    "- `size`: size in bytes of the memory allocated.\n",
    "- `count`: the number of blocks that have been allocated. A block is a contiguous piece of memory that is allocated separately from others."
   ]
  },
  {
   "cell_type": "markdown",
   "id": "c02e0119",
   "metadata": {},
   "source": [
    "---\n",
    "\n",
    "The following cell takes the random allocation record that we'll use as an example and shows representation of the statistics object as a string."
   ]
  },
  {
   "cell_type": "code",
   "execution_count": null,
   "id": "e5a4123d",
   "metadata": {},
   "outputs": [
    {
     "name": "stdout",
     "output_type": "stream",
     "text": [
      "/usr/local/lib/python3.13/linecache.py:172: size=279 KiB, count=3002, average=95 B\n"
     ]
    }
   ],
   "source": [
    "import tracemalloc\n",
    "\n",
    "tracemalloc.start()\n",
    "ans = tracemalloc.take_snapshot().statistics('lineno')\n",
    "stat_trace = ans[0]\n",
    "print(stat_trace)"
   ]
  },
  {
   "cell_type": "markdown",
   "id": "bf00b16e",
   "metadata": {},
   "source": [
    "The next code shows the type of the object we're dealing with."
   ]
  },
  {
   "cell_type": "code",
   "execution_count": null,
   "id": "89387e1f",
   "metadata": {},
   "outputs": [
    {
     "data": {
      "text/plain": [
       "tracemalloc.Statistic"
      ]
     },
     "metadata": {},
     "output_type": "display_data"
    }
   ],
   "source": [
    "type(stat_trace)"
   ]
  },
  {
   "cell_type": "markdown",
   "id": "f0eb2b78",
   "metadata": {},
   "source": [
    "Next three cells shows `count`, `size` and `traceback` attibutes of the statistic."
   ]
  },
  {
   "cell_type": "code",
   "execution_count": null,
   "id": "057ef4ef",
   "metadata": {},
   "outputs": [
    {
     "data": {
      "text/plain": [
       "3002"
      ]
     },
     "metadata": {},
     "output_type": "display_data"
    }
   ],
   "source": [
    "stat_trace.count"
   ]
  },
  {
   "cell_type": "code",
   "execution_count": null,
   "id": "71121e16",
   "metadata": {},
   "outputs": [
    {
     "data": {
      "text/plain": [
       "285727"
      ]
     },
     "metadata": {},
     "output_type": "display_data"
    }
   ],
   "source": [
    "stat_trace.size"
   ]
  },
  {
   "cell_type": "code",
   "execution_count": null,
   "id": "2bffc127",
   "metadata": {},
   "outputs": [
    {
     "data": {
      "text/plain": [
       "<Traceback (<Frame filename='/usr/local/lib/python3.13/linecache.py' lineno=172>,)>"
      ]
     },
     "metadata": {},
     "output_type": "display_data"
    }
   ],
   "source": [
    "stat_trace.traceback"
   ]
  },
  {
   "cell_type": "markdown",
   "id": "02ca5341",
   "metadata": {},
   "source": [
    "## Peak\n",
    "\n",
    "The `tracemalloc.get_traced_memory` function returns the current amount of used memory and the memory usage peak. For more details, check the [`tracemalloc.get_traced_memory`](https://docs.python.org/3/library/tracemalloc.html#tracemalloc.get_traced_memory) section of the official documentation."
   ]
  },
  {
   "cell_type": "markdown",
   "id": "d9fce9fa",
   "metadata": {},
   "source": [
    "---\n",
    "\n",
    "The following example creates a script that calls `some_function` that just allocates memory for `res = [0]` and then exits. This causes the garbage collector to immediately take all objects allocated by `some_function`.\n",
    "\n",
    "It then calls `tracemalloc.get_traced_memory` and prints the outputs: current and peak memory usage."
   ]
  },
  {
   "cell_type": "code",
   "execution_count": null,
   "id": "af65ae55",
   "metadata": {},
   "outputs": [
    {
     "name": "stdout",
     "output_type": "stream",
     "text": [
      "Overwriting /tmp/tracemalloc_files.py\n"
     ]
    }
   ],
   "source": [
    "%%writefile /tmp/tracemalloc_files.py \n",
    "import tracemalloc\n",
    "\n",
    "def some_function():\n",
    "    res = [0]\n",
    "\n",
    "tracemalloc.start()\n",
    "some_function()\n",
    "\n",
    "curr, peak = tracemalloc.get_traced_memory()\n",
    "print(curr, peak)"
   ]
  },
  {
   "cell_type": "code",
   "execution_count": null,
   "id": "3c3ca09b",
   "metadata": {},
   "outputs": [
    {
     "name": "stdout",
     "output_type": "stream",
     "text": [
      "0 8\n"
     ]
    }
   ],
   "source": [
    "!python3 /tmp/tracemalloc_files.py"
   ]
  },
  {
   "cell_type": "markdown",
   "id": "487a45dc",
   "metadata": {},
   "source": [
    "The result is that the currently allocated memory is empty after calling `tracemalloc.start()`. However, when the function was executed, the memory consumption peaked at 8 bytes."
   ]
  },
  {
   "cell_type": "markdown",
   "id": "48fa1ec6",
   "metadata": {},
   "source": [
    "## Monitoring scope\n",
    "\n",
    "This section explains which actions can be added to the `tracemalloc` results and how to work with them.\n",
    "\n",
    "Operations that was performed before the `tracemalloc.start()` call obviously are not included in the `tracemalloc` outputs. Therefore, all monitoring begins with the `tracemalloc.start()` call."
   ]
  },
  {
   "cell_type": "markdown",
   "id": "1d0698df",
   "metadata": {},
   "source": [
    "---\n",
    "\n",
    "The code represented in the following cell attempts to create a two lists: one before the `tracemalloc.start()` call and one after."
   ]
  },
  {
   "cell_type": "code",
   "execution_count": 9,
   "id": "8b6b5272",
   "metadata": {},
   "outputs": [
    {
     "name": "stdout",
     "output_type": "stream",
     "text": [
      "Overwriting /tmp/tracemalloc_scope.py\n"
     ]
    }
   ],
   "source": [
    "%%writefile /tmp/tracemalloc_scope.py\n",
    "import tracemalloc\n",
    "\n",
    "lst1 = [20]\n",
    "\n",
    "tracemalloc.start()\n",
    "\n",
    "lst2 = [30, 20]\n",
    "\n",
    "ans = tracemalloc.take_snapshot().statistics(\"lineno\")\n",
    "for v in ans:\n",
    "    print(v)"
   ]
  },
  {
   "cell_type": "code",
   "execution_count": 10,
   "id": "6e3951bd",
   "metadata": {},
   "outputs": [
    {
     "name": "stdout",
     "output_type": "stream",
     "text": [
      "/tmp/tracemalloc_scope.py:7: size=16 B, count=1, average=16 B\n"
     ]
    }
   ],
   "source": [
    "!python3 /tmp/tracemalloc_scope.py"
   ]
  },
  {
   "cell_type": "markdown",
   "id": "f0d190a2",
   "metadata": {},
   "source": [
    "There is only one allocation mentioned in traces, and it belongs to the `lst2 = [30, 20]` assignment."
   ]
  },
  {
   "cell_type": "markdown",
   "id": "09073d79",
   "metadata": {},
   "source": [
    "### Restart\n",
    "\n",
    "**Double call of the `tracemalloc.start()` does nothing.**\n",
    "\n",
    "It doesn't restart `tracemalloc` with reset of all traces, even through that might seem intuitive."
   ]
  },
  {
   "cell_type": "markdown",
   "id": "a02c5de8",
   "metadata": {},
   "source": [
    "---\n",
    "\n",
    "The following cell shows the code that declares lists both after the corresponding `tracemalloc.start()` call."
   ]
  },
  {
   "cell_type": "code",
   "execution_count": 22,
   "id": "19f882d0",
   "metadata": {},
   "outputs": [
    {
     "name": "stdout",
     "output_type": "stream",
     "text": [
      "Overwriting /tmp/tracemalloc_scope.py\n"
     ]
    }
   ],
   "source": [
    "%%writefile /tmp/tracemalloc_scope.py\n",
    "import tracemalloc\n",
    "\n",
    "tracemalloc.start()\n",
    "lst1 = [20]\n",
    "\n",
    "tracemalloc.start()\n",
    "lst2 = [30, 20]\n",
    "\n",
    "ans = tracemalloc.take_snapshot().statistics(\"lineno\")\n",
    "for v in ans:\n",
    "    print(v)"
   ]
  },
  {
   "cell_type": "code",
   "execution_count": 23,
   "id": "8e23b3f3",
   "metadata": {},
   "outputs": [
    {
     "name": "stdout",
     "output_type": "stream",
     "text": [
      "/tmp/tracemalloc_scope.py:4: size=408 B, count=2, average=204 B\n",
      "/tmp/tracemalloc_scope.py:7: size=16 B, count=1, average=16 B\n"
     ]
    }
   ],
   "source": [
    "!python3 /tmp/tracemalloc_scope.py"
   ]
  },
  {
   "cell_type": "markdown",
   "id": "de60766d",
   "metadata": {},
   "source": [
    "The resutls include allocations associated with creating lists. Therefore, the second `tracemalloc.start()` call does not clear the accumulated traces."
   ]
  },
  {
   "cell_type": "markdown",
   "id": "0fd19552",
   "metadata": {},
   "source": [
    "### Clear traces\n",
    "\n",
    "If, at any point, you need to ignore traces that have appeared since the `tracemalloc.start` call, you should use `tracemalloc.clear_traces()`."
   ]
  },
  {
   "cell_type": "markdown",
   "id": "1383a707",
   "metadata": {},
   "source": [
    "---\n",
    "\n",
    "The following cell causes python to allocate memory before and after `tracemalloc.clear_traces()`."
   ]
  },
  {
   "cell_type": "code",
   "execution_count": 18,
   "id": "92d99d5d",
   "metadata": {},
   "outputs": [
    {
     "name": "stdout",
     "output_type": "stream",
     "text": [
      "Overwriting /tmp/tracemalloc_scope.py\n"
     ]
    }
   ],
   "source": [
    "%%writefile /tmp/tracemalloc_scope.py\n",
    "import tracemalloc\n",
    "\n",
    "tracemalloc.start()\n",
    "lst1 = [20]\n",
    "\n",
    "tracemalloc.clear_traces()\n",
    "lst2 = [30, 20]\n",
    "\n",
    "ans = tracemalloc.take_snapshot().statistics(\"lineno\")\n",
    "for v in ans:\n",
    "    print(v)"
   ]
  },
  {
   "cell_type": "code",
   "execution_count": 19,
   "id": "914a3053",
   "metadata": {},
   "outputs": [
    {
     "name": "stdout",
     "output_type": "stream",
     "text": [
      "/tmp/tracemalloc_scope.py:7: size=16 B, count=1, average=16 B\n"
     ]
    }
   ],
   "source": [
    "!python3 /tmp/tracemalloc_scope.py"
   ]
  },
  {
   "cell_type": "markdown",
   "id": "02f6a0b6",
   "metadata": {},
   "source": [
    "Consequently, there is only the trace corresponding to the creation of the second list."
   ]
  }
 ],
 "metadata": {
  "kernelspec": {
   "display_name": "python (3.13.5)",
   "language": "python",
   "name": "python3"
  },
  "language_info": {
   "codemirror_mode": {
    "name": "ipython",
    "version": 3
   },
   "file_extension": ".py",
   "mimetype": "text/x-python",
   "name": "python",
   "nbconvert_exporter": "python",
   "pygments_lexer": "ipython3",
   "version": "3.13.5"
  }
 },
 "nbformat": 4,
 "nbformat_minor": 5
}
