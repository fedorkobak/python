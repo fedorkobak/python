{
 "cells": [
  {
   "cell_type": "markdown",
   "metadata": {},
   "source": [
    "# Patch\n",
    "\n",
    "You can change the behavior of an existing function or method by patching it with `unittest.mock.patch`. You just need to specify the `target`, which refers to an object in Python. Find out more in the [specific documentation page](https://docs.python.org/3/library/unittest.mock.html#unittest.mock.patch)."
   ]
  },
  {
   "cell_type": "code",
   "execution_count": 5,
   "metadata": {},
   "outputs": [],
   "source": [
    "import requests\n",
    "\n",
    "import unittest\n",
    "from unittest.mock import patch\n",
    "\n",
    "from sklearn.neighbors import KNeighborsRegressor"
   ]
  },
  {
   "cell_type": "markdown",
   "metadata": {},
   "source": [
    "## Target\n",
    "\n",
    "There’s always some mystery associated with specifying the `target` for mocking; this section focuses on the details.\n",
    "\n",
    "Target should be a string in the form 'package.module.ClassName'. The target is imported and the specified object replaced with the new object, so the target must be importable from the environment you are calling `patch()` from. The target is imported when the decorated function is executed, not at decoration time.\n",
    "\n",
    "**Note**: All targets in these notebook examples begin with the `__main__` section. This allows the patched object to be referenced in the same module as the patching code."
   ]
  },
  {
   "cell_type": "markdown",
   "metadata": {},
   "source": [
    "---\n",
    "\n",
    "The following example shows really typical case. For testing code that handles API reponse, but it's typical not ot have access to the API during code development - mocking output of the requesting tool is good option in such case."
   ]
  },
  {
   "cell_type": "code",
   "execution_count": 10,
   "metadata": {},
   "outputs": [],
   "source": [
    "def request_user(user_id):\n",
    "    response = requests.get(f\"https://im_not_exist/{user_id}\")\n",
    "    if response.ok:\n",
    "        return response.text\n",
    "    else:\n",
    "        return \"Fail!\""
   ]
  },
  {
   "cell_type": "markdown",
   "metadata": {},
   "source": [
    "Patching `requests.get` to return an object with the attribute `ok=True` allows us to ensure that we receive a response in a successful case."
   ]
  },
  {
   "cell_type": "code",
   "execution_count": null,
   "metadata": {},
   "outputs": [
    {
     "name": "stdout",
     "output_type": "stream",
     "text": [
      "Success\n"
     ]
    }
   ],
   "source": [
    "with patch(\"__main__.requests.get\") as mocked_get:    \n",
    "    mocked_get.return_value.ok = True\n",
    "    mocked_get.return_value.text = \"Success\"\n",
    "    print(request_user(\"User\"))"
   ]
  },
  {
   "cell_type": "markdown",
   "metadata": {},
   "source": [
    "Conversely, simulating an error response case returns the message corresponding to a failure."
   ]
  },
  {
   "cell_type": "code",
   "execution_count": 12,
   "metadata": {},
   "outputs": [
    {
     "name": "stdout",
     "output_type": "stream",
     "text": [
      "Fail!\n"
     ]
    }
   ],
   "source": [
    "with patch(\"__main__.requests.get\") as mocked_get:\n",
    "    mocked_get.return_value.ok = False\n",
    "    mocked_get.return_value.text = \"Success\"\n",
    "    print(request_user(\"User\"))"
   ]
  },
  {
   "cell_type": "markdown",
   "metadata": {},
   "source": [
    "### Class method\n",
    "\n",
    "You can modify the behavior of a class method as well, simply by specifying the path to it after the class name."
   ]
  },
  {
   "cell_type": "markdown",
   "metadata": {},
   "source": [
    "---\n",
    "\n",
    "As an example, consider another common case in my practice. When writing code that needs to handle a machine learning model, you don't necessarily need to use a specific model. Mocking the model's results is a good way to verify if everything works correctly. The following cell shows how to define the result of the `predict` method of the `__main__.KNeighboursRegressor` class."
   ]
  },
  {
   "cell_type": "code",
   "execution_count": 9,
   "metadata": {},
   "outputs": [
    {
     "name": "stdout",
     "output_type": "stream",
     "text": [
      "predict out\n"
     ]
    }
   ],
   "source": [
    "with patch(\"__main__.KNeighborsRegressor.predict\") as predict:\n",
    "    regressor = KNeighborsRegressor()\n",
    "    predict.return_value = 'predict out'\n",
    "    print(regressor.predict())"
   ]
  },
  {
   "cell_type": "markdown",
   "metadata": {},
   "source": [
    "### Dict\n",
    "\n",
    "With `patch.dict` you can redefine old and define new values of the dictionary.\n",
    "\n",
    "**Note:** It can also handle dict like objects not only dicts. \n",
    "\n",
    "**Note:** By default it leaves all unmentioned values unchanged - with the `clear=True` argument you can force python to clear all unmentioned keys."
   ]
  },
  {
   "cell_type": "markdown",
   "metadata": {},
   "source": [
    "---\n",
    "\n",
    "The following cell creates `my_dict`, which we'll use for experiments, and shows how its content changes under the `patch.dict` context manager and outside of it."
   ]
  },
  {
   "cell_type": "code",
   "execution_count": 7,
   "metadata": {},
   "outputs": [
    {
     "name": "stdout",
     "output_type": "stream",
     "text": [
      "{'val': 3, 'val2': 3, 'hello': 10}\n",
      "{'val': 10, 'val2': 3}\n"
     ]
    }
   ],
   "source": [
    "my_dict = dict(val=10, val2=3)\n",
    "with patch.dict(\"__main__.my_dict\", {\"hello\": 10, \"val\": 3}):\n",
    "    print(my_dict)\n",
    "print(my_dict)"
   ]
  },
  {
   "cell_type": "markdown",
   "metadata": {},
   "source": [
    "**Note:** that `val2`, which isn't mentioned when invoking `patch.dict`, stores its values in the context manager. The following code does the same, but uses the `clear=True` argument, which results in the absence of this field in the result."
   ]
  },
  {
   "cell_type": "code",
   "execution_count": 8,
   "metadata": {},
   "outputs": [
    {
     "name": "stdout",
     "output_type": "stream",
     "text": [
      "{'hello': 10, 'val': 3}\n"
     ]
    }
   ],
   "source": [
    "with patch.dict(\"__main__.my_dict\", {\"hello\": 10, \"val\": 3}, clear=True):\n",
    "    print(my_dict)"
   ]
  },
  {
   "cell_type": "markdown",
   "metadata": {},
   "source": [
    "The following code shows a very typical case related to mocking specific values for environment variables - patching `os.environ`, which is a dict-like object."
   ]
  },
  {
   "cell_type": "code",
   "execution_count": 6,
   "metadata": {},
   "outputs": [
    {
     "name": "stdout",
     "output_type": "stream",
     "text": [
      "13\n"
     ]
    }
   ],
   "source": [
    "import os\n",
    "with patch.dict(\"os.environ\", {\"MY_VALUE\": \"13\"}):\n",
    "    print(os.environ[\"MY_VALUE\"])"
   ]
  },
  {
   "cell_type": "markdown",
   "metadata": {},
   "source": [
    "## Syntax\n",
    "\n",
    "There are two general ways to define a patch: through the `with` context manager or the `@` decorator."
   ]
  },
  {
   "cell_type": "markdown",
   "metadata": {},
   "source": [
    "---\n",
    "\n",
    "The following example demonstrates patching using a context manager. A function is defined, and we have details about the function call within the context manager block."
   ]
  },
  {
   "cell_type": "code",
   "execution_count": 4,
   "metadata": {},
   "outputs": [
    {
     "name": "stdout",
     "output_type": "stream",
     "text": [
      "call('hello')\n"
     ]
    }
   ],
   "source": [
    "def my_function(a, b):\n",
    "    return a + b\n",
    "\n",
    "with patch(\"__main__.my_function\") as p:\n",
    "    my_function(\"hello\")\n",
    "    print(p.call_args)"
   ]
  },
  {
   "cell_type": "markdown",
   "metadata": {},
   "source": [
    "### Method decoration\n",
    "\n",
    "Decoration offers more flexibility in its usage. The function being decorated must include a special argument for the mock object, through which you can control the behavior of the target."
   ]
  },
  {
   "cell_type": "markdown",
   "metadata": {},
   "source": [
    "---\n",
    "\n",
    "The following example demonstrates a test case where `test_method` is decorated so that any call to `hello` will be modified within it."
   ]
  },
  {
   "cell_type": "code",
   "execution_count": 24,
   "metadata": {},
   "outputs": [
    {
     "name": "stderr",
     "output_type": "stream",
     "text": [
      "----------------------------------------------------------------------\n",
      "Ran 1 test in 0.000s\n",
      "\n",
      "OK\n"
     ]
    },
    {
     "name": "stdout",
     "output_type": "stream",
     "text": [
      "bye bye\n"
     ]
    }
   ],
   "source": [
    "def hello(): return \"hello\"\n",
    "\n",
    "\n",
    "class SomeTest(unittest.TestCase):\n",
    "    \n",
    "    @patch(\"__main__.hello\", return_value=\"bye bye\")\n",
    "    def test_method(self, mocked_hello):\n",
    "        print(hello())\n",
    "\n",
    "\n",
    "ans = unittest.main(argv=[''], verbosity=0, exit=False)\n",
    "del SomeTest"
   ]
  },
  {
   "cell_type": "markdown",
   "metadata": {},
   "source": [
    "### Class decoration\n",
    "\n",
    "Instead of decorating just one method in a test case, you can decorate the entire test case by decorating the whole class."
   ]
  },
  {
   "cell_type": "markdown",
   "metadata": {},
   "source": [
    "---\n",
    "\n",
    "The following cell shows applying `patch` as a decorator on the entire test case, demonstrating that all methods of the class exhibit modified behavior in this case."
   ]
  },
  {
   "cell_type": "code",
   "execution_count": null,
   "metadata": {},
   "outputs": [
    {
     "name": "stderr",
     "output_type": "stream",
     "text": [
      "----------------------------------------------------------------------\n",
      "Ran 2 tests in 0.001s\n",
      "\n",
      "OK\n"
     ]
    },
    {
     "name": "stdout",
     "output_type": "stream",
     "text": [
      "method1 bye bye\n",
      "method2 bye bye\n"
     ]
    }
   ],
   "source": [
    "def hello(): return \"hello\"\n",
    "\n",
    "@patch(\"__main__.hello\", return_value=\"bye bye\")\n",
    "class SomeTest(unittest.TestCase):\n",
    "    def test_method1(self, mock):\n",
    "        print(\"method1\", hello())\n",
    "\n",
    "    def test_method2(self, mock):\n",
    "        print(\"method2\", hello())\n",
    "\n",
    "ans = unittest.main(argv=[''], verbosity=0, exit=False)\n",
    "del SomeTest"
   ]
  },
  {
   "cell_type": "markdown",
   "metadata": {},
   "source": [
    "### Several decorators\n",
    "\n",
    "You can patch multiple objects by specifying multiple decorators. For each patch, you must provide a mock argument. The rules for determining which parameter belongs to which patch are as follows:\n",
    "\n",
    "- The parameter corresponding to the method patch comes before the parameter corresponding to the class patch.\n",
    "- It might feel counterintuitive that parameters for decorators specified earlier come later than those for more nested parameters—but this makes sense if you consider how decorators work, as each subsequent decorator wraps the previous one."
   ]
  },
  {
   "cell_type": "markdown",
   "metadata": {},
   "source": [
    "---\n",
    "\n",
    "The following example demonstrates how this works. There are three decorators: one applied to the entire class and two applied to specific methods. In each method, arguments are called in a way that allows us to identify the type of decoration. The output shows which argument corresponds to each decorator."
   ]
  },
  {
   "cell_type": "code",
   "execution_count": null,
   "metadata": {},
   "outputs": [
    {
     "name": "stderr",
     "output_type": "stream",
     "text": [
      "----------------------------------------------------------------------\n",
      "Ran 1 test in 0.001s\n",
      "\n",
      "OK\n"
     ]
    },
    {
     "name": "stdout",
     "output_type": "stream",
     "text": [
      "call('Inner method patch')\n",
      "call('Outer method patch')\n",
      "call('Patched by class')\n"
     ]
    }
   ],
   "source": [
    "import unittest.mock\n",
    "\n",
    "def fun1(): pass\n",
    "def fun2(): pass\n",
    "def fun3(): pass\n",
    "\n",
    "@patch(\"__main__.fun1\")\n",
    "class SomeTest(unittest.TestCase):\n",
    "    @patch(\"__main__.fun3\")\n",
    "    @patch(\"__main__.fun2\")\n",
    "    def test_value(\n",
    "        self, \n",
    "        arg1: unittest.mock.MagicMock, \n",
    "        arg2: unittest.mock.MagicMock, \n",
    "        arg3: unittest.mock.MagicMock\n",
    "    ):\n",
    "        fun1(\"Patched by class\")\n",
    "        fun2(\"Inner method patch\")\n",
    "        fun3(\"Outer method patch\")\n",
    "        \n",
    "        print(arg1.call_args)\n",
    "        print(arg2.call_args)\n",
    "        print(arg3.call_args)\n",
    "\n",
    "ans = unittest.main(argv=[''], verbosity=0, exit=False)\n",
    "del SomeTest"
   ]
  },
  {
   "cell_type": "markdown",
   "metadata": {},
   "source": [
    "### Combining\n",
    "\n",
    "The question is: if you combine different options for defining decoration, which modification will take precedence? It appears the priority, in decreasing order, is as follows: context manager, class decorator, method decorator."
   ]
  },
  {
   "cell_type": "markdown",
   "metadata": {},
   "source": [
    "---\n",
    "\n",
    "The following cell shows a test case decorated to modify the `hello` function. However, each method within the class modifies the same function in different ways:"
   ]
  },
  {
   "cell_type": "code",
   "execution_count": null,
   "metadata": {},
   "outputs": [
    {
     "name": "stderr",
     "output_type": "stream",
     "text": [
      "----------------------------------------------------------------------\n",
      "Ran 2 tests in 0.001s\n",
      "\n",
      "OK\n"
     ]
    },
    {
     "name": "stdout",
     "output_type": "stream",
     "text": [
      "method1 manager patching\n",
      "method2 class decoration patching\n"
     ]
    }
   ],
   "source": [
    "def hello(): return \"hello\"\n",
    "\n",
    "@patch(\"__main__.hello\", return_value=\"class decoration patching\")\n",
    "class SomeTest(unittest.TestCase):\n",
    "    def test_method1(self, mock):\n",
    "        with patch(\"__main__.hello\", return_value=\"manager patching\"):\n",
    "            print(\"method1\", hello())\n",
    "\n",
    "    @patch(\"__main__.hello\", return_value=\"method patching\")\n",
    "    def test_method2(self, mock, mock2):\n",
    "        print(\"method2\", hello())\n",
    "\n",
    "ans = unittest.main(argv=[''], verbosity=0, exit=False)\n",
    "del SomeTest"
   ]
  },
  {
   "cell_type": "markdown",
   "metadata": {},
   "source": [
    "As a result, we see messages showing the output from the context manager taking priority over the class decoration messages, and the class decoration messages taking priority over the method decoration messages."
   ]
  },
  {
   "cell_type": "markdown",
   "metadata": {},
   "source": [
    "## Patch handler\n",
    "\n",
    "Mocking with any syntax produces the object that should be the handler for the behavior of the mocked object - this object should be of type `MagicMock`."
   ]
  },
  {
   "cell_type": "markdown",
   "metadata": {},
   "source": [
    "---\n",
    "\n",
    "The following cell implements the function that supposed to be patched, and patches it in two different syntaxes. The code under the patch just prints the type of the object created by the `patch`."
   ]
  },
  {
   "cell_type": "code",
   "execution_count": 9,
   "metadata": {},
   "outputs": [
    {
     "name": "stdout",
     "output_type": "stream",
     "text": [
      "<class 'unittest.mock.MagicMock'>\n",
      "<class 'unittest.mock.MagicMock'>\n"
     ]
    }
   ],
   "source": [
    "def test_func(): pass\n",
    "\n",
    "# decorator syntax\n",
    "@patch(\"__main__.test_func\")\n",
    "def something(ans):\n",
    "    print(type(ans))\n",
    "something()\n",
    "\n",
    "# context manager syntax\n",
    "with patch(\"__main__.test_func\") as ans:\n",
    "    print(type(ans))"
   ]
  },
  {
   "cell_type": "markdown",
   "metadata": {},
   "source": [
    "## Patch object\n",
    "\n",
    "The `patch.object` allows you to specify the targed defined in the current environment as the target for the mock."
   ]
  },
  {
   "cell_type": "markdown",
   "metadata": {},
   "source": [
    "---\n",
    "\n",
    "The following cell defines the class, that we'll use as an example."
   ]
  },
  {
   "cell_type": "code",
   "execution_count": 2,
   "metadata": {},
   "outputs": [],
   "source": [
    "class MyExample:\n",
    "    def example_method(self):\n",
    "        print(\"hello\")"
   ]
  },
  {
   "cell_type": "markdown",
   "metadata": {},
   "source": [
    "To mock it's `example_method` with just `patch` you have to specify target as a string, in this case it would be `__main__.MyExample.example_method`.\n",
    "\n",
    "The `patch.object` allows direct access to the `MyExample`. The following cell shows an example of retrieving arguments passed during the call to the mocked method."
   ]
  },
  {
   "cell_type": "code",
   "execution_count": 3,
   "metadata": {},
   "outputs": [
    {
     "data": {
      "text/plain": [
       "call(10, 20, 30)"
      ]
     },
     "execution_count": 3,
     "metadata": {},
     "output_type": "execute_result"
    }
   ],
   "source": [
    "with patch.object(target=MyExample, attribute=\"example_method\") as mock:\n",
    "    new = MyExample()\n",
    "    new.example_method(10, 20, 30)\n",
    "    ans = mock.call_args\n",
    "\n",
    "ans"
   ]
  },
  {
   "cell_type": "markdown",
   "metadata": {},
   "source": [
    "## Create\n",
    "\n",
    "In case exact mocked attribute doesn't exist generally you will get corresponding error. But if you need to test case where attribute must be, you can use `create=True` parameter - in such case attribute under consideration will be created as a mock object."
   ]
  },
  {
   "cell_type": "markdown",
   "metadata": {},
   "source": [
    "---\n",
    "\n",
    "The following cell creates a class that has no attributes in it - we'll use it for mocking attributes."
   ]
  },
  {
   "cell_type": "code",
   "execution_count": 8,
   "metadata": {},
   "outputs": [],
   "source": [
    "class MyExample:\n",
    "    pass"
   ]
  },
  {
   "cell_type": "markdown",
   "metadata": {},
   "source": [
    "The following cell shows an attempt to mock the `hello` attribute of the `MyExample`."
   ]
  },
  {
   "cell_type": "code",
   "execution_count": 9,
   "metadata": {},
   "outputs": [
    {
     "name": "stdout",
     "output_type": "stream",
     "text": [
      "<class '__main__.MyExample'> does not have the attribute 'hello'\n"
     ]
    }
   ],
   "source": [
    "try:\n",
    "    with patch.object(target=MyExample, attribute=\"hello\"): pass\n",
    "except Exception as e:\n",
    "    print(e)"
   ]
  },
  {
   "cell_type": "markdown",
   "metadata": {},
   "source": [
    "Since `hello` is not defined in the `MyExample` class, it returns an error. In contrast, the following cell shows `patch.object` with the parameter `create=True`."
   ]
  },
  {
   "cell_type": "code",
   "execution_count": 10,
   "metadata": {},
   "outputs": [],
   "source": [
    "with patch.object(target=MyExample, attribute=\"example_method\", create=True): pass"
   ]
  },
  {
   "cell_type": "markdown",
   "metadata": {},
   "source": [
    "At first it may seem like a useless feature, but the following cell shows case when you may need to use it - suppose we need to test the logic that depends on the presence of the named attribute. The following cell shows a test that triggers a behavior that depends on the presence of the `hello` attribute. "
   ]
  },
  {
   "cell_type": "code",
   "execution_count": 11,
   "metadata": {},
   "outputs": [
    {
     "name": "stdout",
     "output_type": "stream",
     "text": [
      "1\n"
     ]
    }
   ],
   "source": [
    "class MyExample:\n",
    "    def my_test(self):\n",
    "        if hasattr(self, \"hello\"):\n",
    "            return 1\n",
    "        return 0\n",
    "\n",
    "\n",
    "with patch.object(target=MyExample, attribute=\"hello\", create=True) as mock:\n",
    "    print(MyExample().my_test())"
   ]
  }
 ],
 "metadata": {
  "kernelspec": {
   "display_name": "python",
   "language": "python",
   "name": "python3"
  },
  "language_info": {
   "codemirror_mode": {
    "name": "ipython",
    "version": 3
   },
   "file_extension": ".py",
   "mimetype": "text/x-python",
   "name": "python",
   "nbconvert_exporter": "python",
   "pygments_lexer": "ipython3",
   "version": "3.12.9"
  }
 },
 "nbformat": 4,
 "nbformat_minor": 2
}
