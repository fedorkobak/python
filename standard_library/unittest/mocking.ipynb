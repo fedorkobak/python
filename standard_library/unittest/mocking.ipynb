{
 "cells": [
  {
   "cell_type": "markdown",
   "id": "ee758633-c244-42bd-b31a-3d2df9e60d32",
   "metadata": {},
   "source": [
    "# Mocking\n",
    "\n",
    "Sometimes our programmes depend on external circumstances, but during unit testing we shouldn't worry about whether they work. And only test our code. So there are ways to change the behaviour of functions called in the programs being tested, to make it convenient for us to do the testing."
   ]
  },
  {
   "cell_type": "code",
   "execution_count": 3,
   "id": "32baec8b",
   "metadata": {},
   "outputs": [],
   "source": [
    "from unittest import mock"
   ]
  },
  {
   "cell_type": "markdown",
   "id": "0322c7f3",
   "metadata": {},
   "source": [
    "## Syntax\n",
    "\n",
    "There are several ways to perform mocking using the `unittest` library:  \n",
    "\n",
    "- **Defining a mock object**: This creates an object for which you can specify custom behavior.  \n",
    "- **Patching existing functions or methods**: This is often the most practical and widely used approach. There are several syntax options for patching:  \n",
    "  - **Using a context manager (`with`)**: The mock applies only within the scope of the `with` block, allowing you to define test-specific behavior.  \n",
    "  - **Using a decorator for a specific method**: The decorated method will use the mock instead of the real object during execution.  \n",
    "  - **Applying to an entire `unittest.TestCase` subclass**: All calls to the patched object within the test case will be handled by the corresponding mock.\n",
    "\n",
    "  Find out more in [particular page](mocking/syntax.ipynb)."
   ]
  },
  {
   "cell_type": "markdown",
   "id": "0c7bd212",
   "metadata": {},
   "source": [
    "---\n",
    "\n",
    "The following cell shows what Mock is. Object for which you can define what it must return when called."
   ]
  },
  {
   "cell_type": "code",
   "execution_count": 4,
   "id": "0f204af8",
   "metadata": {},
   "outputs": [
    {
     "data": {
      "text/plain": [
       "'Hello mock'"
      ]
     },
     "execution_count": 4,
     "metadata": {},
     "output_type": "execute_result"
    }
   ],
   "source": [
    "mock = unittest.mock.Mock()\n",
    "mock.return_value = \"Hello mock\"\n",
    "mock()"
   ]
  },
  {
   "cell_type": "markdown",
   "id": "7af0bed7",
   "metadata": {},
   "source": [
    "The following code shows the idea of the patch. The behaviour of `my_fun` inside the `with` block is changed according to the `return_value` attribute."
   ]
  },
  {
   "cell_type": "code",
   "execution_count": 11,
   "id": "c19ae469",
   "metadata": {},
   "outputs": [
    {
     "name": "stdout",
     "output_type": "stream",
     "text": [
      "Original output\n",
      "<class 'unittest.mock.MagicMock'>\n",
      "Hello patch\n"
     ]
    }
   ],
   "source": [
    "def my_fun(a, b):\n",
    "    return \"Original output\"\n",
    "\n",
    "print(my_fun(10, 20))\n",
    "\n",
    "with unittest.mock.patch(\"__main__.my_fun\") as mock_object:\n",
    "    print(type(mock_object))\n",
    "    mock_object.return_value = \"Hello patch\"\n",
    "    print(my_fun())"
   ]
  },
  {
   "cell_type": "markdown",
   "id": "023837d6",
   "metadata": {},
   "source": [
    "**Note:** The object returned by the context manager (`mock_object`) is of the `unittest.mock.MagicMock` type. You interact with it like any standard mock object, as it simply \"translates\" the defined behavior into the patched object."
   ]
  },
  {
   "cell_type": "markdown",
   "id": "e52af098",
   "metadata": {},
   "source": [
    "## Call details\n",
    "\n",
    "There are a number of tools that allow you to get details of the call to the mocker object. They are considered in the [corresponding page](mocking/call_details.ipynb)."
   ]
  },
  {
   "cell_type": "markdown",
   "id": "3ced4709",
   "metadata": {},
   "source": [
    "---\n",
    "\n",
    "The following cell creates mock and few calls for it."
   ]
  },
  {
   "cell_type": "code",
   "execution_count": 13,
   "id": "fc10fb6b",
   "metadata": {},
   "outputs": [
    {
     "data": {
      "text/plain": [
       "call('hello')"
      ]
     },
     "execution_count": 13,
     "metadata": {},
     "output_type": "execute_result"
    }
   ],
   "source": [
    "mock = unittest.mock.Mock()\n",
    "mock(10, 20, 30)\n",
    "mock(\"hello\")"
   ]
  },
  {
   "cell_type": "markdown",
   "id": "08810976",
   "metadata": {},
   "source": [
    "Consider which information about actions with the mock object we can get."
   ]
  },
  {
   "cell_type": "markdown",
   "id": "1abd054e",
   "metadata": {},
   "source": [
    "The `call_args` file contains the values passed in the last call."
   ]
  },
  {
   "cell_type": "code",
   "execution_count": 14,
   "id": "aed112d2",
   "metadata": {},
   "outputs": [
    {
     "data": {
      "text/plain": [
       "call('hello')"
      ]
     },
     "execution_count": 14,
     "metadata": {},
     "output_type": "execute_result"
    }
   ],
   "source": [
    "mock.call_args"
   ]
  },
  {
   "cell_type": "markdown",
   "id": "bba1e8e9",
   "metadata": {},
   "source": [
    "`mock_calls` contains a list of objects describing all calls to the mocked object."
   ]
  },
  {
   "cell_type": "code",
   "execution_count": 15,
   "id": "c4704f06",
   "metadata": {},
   "outputs": [
    {
     "data": {
      "text/plain": [
       "[call(10, 20, 30), call('hello')]"
      ]
     },
     "execution_count": 15,
     "metadata": {},
     "output_type": "execute_result"
    }
   ],
   "source": [
    "mock.mock_calls"
   ]
  },
  {
   "cell_type": "markdown",
   "id": "db5e63d5",
   "metadata": {},
   "source": [
    "There is a special attribute for number of calls of the mock - `call_count`."
   ]
  },
  {
   "cell_type": "code",
   "execution_count": 16,
   "id": "e23ff4cf",
   "metadata": {},
   "outputs": [
    {
     "data": {
      "text/plain": [
       "2"
      ]
     },
     "execution_count": 16,
     "metadata": {},
     "output_type": "execute_result"
    }
   ],
   "source": [
    "mock.call_count"
   ]
  },
  {
   "cell_type": "markdown",
   "id": "f4ce0e5d",
   "metadata": {},
   "source": [
    "## Dynamic attributes\n",
    "\n",
    "Mock object automatically attributes that program refers to at the some stage. So you can mock any object and consider how program refers to it at the different stages of the program."
   ]
  },
  {
   "cell_type": "markdown",
   "id": "510ba262",
   "metadata": {},
   "source": [
    "---\n",
    "\n",
    "Consider a real-world example - suppose you need to check which query was passed to the cursor of the database.\n",
    "\n",
    "The following cell creates a mocked `cursor` mocked object and sets to its `execute` attribute (which actually wasn't defined anywhere before) to `return_value = \"hello\"`."
   ]
  },
  {
   "cell_type": "code",
   "execution_count": 37,
   "id": "e76a87f2",
   "metadata": {},
   "outputs": [],
   "source": [
    "cursor = mock.Mock()\n",
    "cursor.execute.return_value = \"hello\"\n",
    "cursor.execute.mock_calls = []"
   ]
  },
  {
   "cell_type": "markdown",
   "id": "b32e790c",
   "metadata": {},
   "source": [
    "The following cell calls the \"method\" we just defined."
   ]
  },
  {
   "cell_type": "code",
   "execution_count": 38,
   "id": "86b5c9a5",
   "metadata": {},
   "outputs": [
    {
     "data": {
      "text/plain": [
       "'hello'"
      ]
     },
     "execution_count": 38,
     "metadata": {},
     "output_type": "execute_result"
    }
   ],
   "source": [
    "cursor.execute(\"some input\")"
   ]
  },
  {
   "cell_type": "markdown",
   "id": "dd006245",
   "metadata": {},
   "source": [
    "It returns the value defined in the `return_value` argument. You can interact with `cursor.exexcute` just like a normal mock object. For example following cell shows details of the call we created earlier."
   ]
  },
  {
   "cell_type": "code",
   "execution_count": 39,
   "id": "c19da9ac",
   "metadata": {},
   "outputs": [
    {
     "data": {
      "text/plain": [
       "[call('some input')]"
      ]
     },
     "execution_count": 39,
     "metadata": {},
     "output_type": "execute_result"
    }
   ],
   "source": [
    "cursor.execute.mock_calls"
   ]
  }
 ],
 "metadata": {
  "kernelspec": {
   "display_name": "src",
   "language": "python",
   "name": "python3"
  },
  "language_info": {
   "codemirror_mode": {
    "name": "ipython",
    "version": 3
   },
   "file_extension": ".py",
   "mimetype": "text/x-python",
   "name": "python",
   "nbconvert_exporter": "python",
   "pygments_lexer": "ipython3",
   "version": "3.12.9"
  }
 },
 "nbformat": 4,
 "nbformat_minor": 5
}
