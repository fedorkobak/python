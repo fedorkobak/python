{
 "cells": [
  {
   "cell_type": "markdown",
   "metadata": {},
   "source": [
    "# Syntax\n",
    "\n",
    "Syntax is set of rules that define the structure and format of valid statements and expressions in a programming language. It dictates how symbols, keywords, and operators must be arranged to create meaningful instructions for the computer."
   ]
  },
  {
   "cell_type": "markdown",
   "metadata": {},
   "source": [
    "## Operators\n",
    "\n",
    "Operators are used to perform operations on objects. Below is a list of operators in Python:\n",
    "\n",
    "| **Category**         | **Operator** | **Description**             |\n",
    "|----------------------|--------------|-----------------------------|\n",
    "| **Arithmetic**       | `+`          | Addition                    |\n",
    "|                      | `-`          | Subtraction                 |\n",
    "|                      | `*`          | Multiplication              |\n",
    "|                      | `/`          | Division                    |\n",
    "|                      | `%`          | Modulus                     |\n",
    "|                      | `**`         | Exponentiation              |\n",
    "|                      | `//`         | Floor Division              |\n",
    "| **Comparison**       | `==`         | Equal to                    |\n",
    "|                      | `!=`         | Not equal to                |\n",
    "|                      | `>`          | Greater than                |\n",
    "|                      | `<`          | Less than                   |\n",
    "|                      | `>=`         | Greater than or equal to    |\n",
    "|                      | `<=`         | Less than or equal to       |\n",
    "| **Assignment**       | `=`          | Assign                      |\n",
    "|                      | `+=`         | Add and assign              |\n",
    "|                      | `-=`         | Subtract and assign         |\n",
    "|                      | `*=`         | Multiply and assign         |\n",
    "|                      | `/=`         | Divide and assign           |\n",
    "|                      | `%=`         | Modulus and assign          |\n",
    "|                      | `**=`        | Exponentiate and assign     |\n",
    "|                      | `//=`        | Floor divide and assign     |\n",
    "| **Logical**          | `and`        | Logical AND                 |\n",
    "|                      | `or`         | Logical OR                  |\n",
    "|                      | `not`        | Logical NOT                 |\n",
    "| **Bitwise**          | `&`          | Bitwise AND                 |\n",
    "|                      | `|`          | Bitwise OR                  |\n",
    "|                      | `^`          | Bitwise XOR                 |\n",
    "|                      | `~`          | Bitwise NOT                 |\n",
    "|                      | `<<`         | Left shift                  |\n",
    "|                      | `>>`         | Right shift                 |\n",
    "| **Membership**       | `in`         | Membership test             |\n",
    "|                      | `not in`     | Non-membership test         |\n",
    "| **Identity**         | `is`         | Identity test               |\n",
    "|                      | `is not`     | Negated identity test       |\n",
    "| **Conditional**      | `x if condition else y` | Conditional expression  |\n",
    "\n",
    "\n",
    "For a more detailed description of each operator, refer to the [specific page](syntax/operators.ipynb)."
   ]
  },
  {
   "cell_type": "markdown",
   "metadata": {},
   "source": [
    "## Keywords\n",
    "\n",
    "A keyword is a special word used by Python as part of the language syntax. You can list all the valid keywords by using the `kwlist` attribute of the `keyword` module."
   ]
  },
  {
   "cell_type": "code",
   "execution_count": null,
   "metadata": {},
   "outputs": [
    {
     "data": {
      "text/plain": [
       "['False',\n",
       " 'None',\n",
       " 'True',\n",
       " 'and',\n",
       " 'as',\n",
       " 'assert',\n",
       " 'async',\n",
       " 'await',\n",
       " 'break',\n",
       " 'class',\n",
       " 'continue',\n",
       " 'def',\n",
       " 'del',\n",
       " 'elif',\n",
       " 'else',\n",
       " 'except',\n",
       " 'finally',\n",
       " 'for',\n",
       " 'from',\n",
       " 'global',\n",
       " 'if',\n",
       " 'import',\n",
       " 'in',\n",
       " 'is',\n",
       " 'lambda',\n",
       " 'nonlocal',\n",
       " 'not',\n",
       " 'or',\n",
       " 'pass',\n",
       " 'raise',\n",
       " 'return',\n",
       " 'try',\n",
       " 'while',\n",
       " 'with',\n",
       " 'yield']"
      ]
     },
     "metadata": {},
     "output_type": "display_data"
    }
   ],
   "source": [
    "import keyword\n",
    "keyword.kwlist"
   ]
  },
  {
   "cell_type": "markdown",
   "metadata": {},
   "source": [
    "Here is table with brief description to each keyword.\n",
    "\n",
    "| **Keyword** | **Description**                                                                                           |\n",
    "|-------------|-----------------------------------------------------------------------------------------------------------|\n",
    "| False       | Represents the boolean value False.                                                                      |\n",
    "| None        | Represents the absence of a value or a null value.                                                        |\n",
    "| True        | Represents the boolean value True.                                                                       |\n",
    "| and         | Logical AND operator. Returns True if both operands are true.                                             |\n",
    "| as          | Used to create an alias while importing a module or in exception handling.                               |\n",
    "| assert      | Used for debugging purposes to test if a condition is true.                                                |\n",
    "| async       | Declares an asynchronous function or method.                                                               |\n",
    "| await       | Pauses the execution of an async function until the result is available.                                  |\n",
    "| break       | Exits a loop prematurely.                                                                               |\n",
    "| class       | Used to define a new class.                                                                             |\n",
    "| continue    | Skips the rest of the code inside a loop for the current iteration and proceeds to the next iteration.    |\n",
    "| def         | Used to define a function.                                                                              |\n",
    "| del         | Deletes objects.                                                                                         |\n",
    "| elif        | Used in conditional statements, stands for \"else if\".                                                     |\n",
    "| else        | Used in conditional statements, provides an alternative block of code if conditions are not met.           |\n",
    "| except      | Used in exception handling to catch exceptions.                                                           |\n",
    "| finally     | Used in exception handling to execute code regardless of whether an exception was raised or not.          |\n",
    "| for         | Used to create a for loop for iterating over sequences.                                                    |\n",
    "| from        | Used to import specific parts of a module.                                                                |\n",
    "| global      | Declares a variable to be global.                                                                         |\n",
    "| if          | Used to start a conditional statement.                                                                    |\n",
    "| import      | Used to include modules into the current namespace.                                                       |\n",
    "| in          | Checks for membership in a sequence or container.                                                          |\n",
    "| is          | Tests for object identity, checking if two variables point to the same object.                           |\n",
    "| lambda      | Creates an anonymous function.                                                                           |\n",
    "| nonlocal    | Used to declare a variable that refers to a variable in an enclosing scope, but not global.                |\n",
    "| not         | Logical NOT operator. Returns True if the operand is false.                                               |\n",
    "| or          | Logical OR operator. Returns True if at least one operand is true.                                        |\n",
    "| pass        | A null statement used as a placeholder.                                                                    |\n",
    "| raise       | Used to raise exceptions.                                                                               |\n",
    "| return      | Exits a function and optionally returns a value.                                                           |\n",
    "| try         | Starts a block of code to be tested for exceptions.                                                         |\n",
    "| while       | Starts a while loop that continues as long as the condition is true.                                       |\n",
    "| with        | Used to simplify exception handling by encapsulating setup and cleanup code.                              |\n",
    "| yield       | Used to produce a generator in a function.                                                                |\n",
    "\n",
    "Check more details in the [special page](syntax/keywords.ipynb)."
   ]
  },
  {
   "cell_type": "markdown",
   "metadata": {},
   "source": [
    "## Exceptions\n",
    "\n",
    "The separate section is for cases of using `try/except` operators. With try you can create block that'll monitor specific types of errors and transfer control to the execpt unit if necessary. For more details check [specific page](syntax/exceptions.ipynb)."
   ]
  },
  {
   "cell_type": "markdown",
   "metadata": {},
   "source": [
    "---\n",
    "\n",
    "The following code wraps the `10/0` command, which would normally lead to an error, inside a `try` block. The `except ZeroDivisionError` block is used to define the code that will be executed if the error occurs."
   ]
  },
  {
   "cell_type": "code",
   "execution_count": 1,
   "metadata": {},
   "outputs": [
    {
     "name": "stdout",
     "output_type": "stream",
     "text": [
      "I'm an exception\n"
     ]
    }
   ],
   "source": [
    "try:\n",
    "    10/0\n",
    "except ZeroDivisionError:\n",
    "    print(\"I'm an exception\")"
   ]
  },
  {
   "cell_type": "markdown",
   "metadata": {},
   "source": [
    "## Decorators\n",
    "\n",
    "It's a sugar that allows to modify behaviour of the functions or classes. Find out more in the [specific page](basics/decorators.ipynb)."
   ]
  },
  {
   "cell_type": "markdown",
   "metadata": {},
   "source": [
    "---\n",
    "\n",
    "The following cell defines a decorator, which is a function that takes another function as an argument and returns a modified version of that function. During the creation of the new function, it prints `Functionality during function modification.` Additionally, it prints `Functionality to be added.` each time the modified function is called."
   ]
  },
  {
   "cell_type": "code",
   "execution_count": null,
   "metadata": {},
   "outputs": [],
   "source": [
    "def wrapper_function(modified_function):\n",
    "    print(\"Functionality during function modification.\")\n",
    "    def inner_function():\n",
    "        print(\"Functionality to be added.\")\n",
    "        modified_function()\n",
    "    return inner_function"
   ]
  },
  {
   "cell_type": "markdown",
   "metadata": {},
   "source": [
    "The standard way to apply a decorator to a function is by using the `@` operator. In the following cell, the `wrapper_function` decorator, which was created earlier, is applied to the `function_to_decorate` function."
   ]
  },
  {
   "cell_type": "code",
   "execution_count": null,
   "metadata": {},
   "outputs": [
    {
     "name": "stdout",
     "output_type": "stream",
     "text": [
      "Functionality during function modification.\n"
     ]
    }
   ],
   "source": [
    "@wrapper_function\n",
    "def function_to_decoration():\n",
    "    print(\"Original functionality\")"
   ]
  },
  {
   "cell_type": "markdown",
   "metadata": {},
   "source": [
    "You can realise some logic during decorator creation. So `Functionality during function modification.` was printed."
   ]
  },
  {
   "cell_type": "markdown",
   "metadata": {},
   "source": [
    "The following cell calls decorated function."
   ]
  },
  {
   "cell_type": "code",
   "execution_count": null,
   "metadata": {},
   "outputs": [
    {
     "name": "stdout",
     "output_type": "stream",
     "text": [
      "Functionality to be added.\n",
      "Original functionality\n"
     ]
    }
   ],
   "source": [
    "function_to_decoration()"
   ]
  },
  {
   "cell_type": "markdown",
   "metadata": {},
   "source": [
    "In addition to the function's original functionality, the decorator adds extra behavior."
   ]
  }
 ],
 "metadata": {
  "kernelspec": {
   "display_name": "Python 3",
   "language": "python",
   "name": "python3"
  },
  "language_info": {
   "codemirror_mode": {
    "name": "ipython",
    "version": 3
   },
   "file_extension": ".py",
   "mimetype": "text/x-python",
   "name": "python",
   "nbconvert_exporter": "python",
   "pygments_lexer": "ipython3",
   "version": "3.10.12"
  }
 },
 "nbformat": 4,
 "nbformat_minor": 2
}
