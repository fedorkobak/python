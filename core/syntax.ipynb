{
 "cells": [
  {
   "cell_type": "markdown",
   "metadata": {},
   "source": [
    "# Syntax\n",
    "\n",
    "Syntax is set of rules that define the structure and format of valid statements and expressions in a programming language. It dictates how symbols, keywords, and operators must be arranged to create meaningful instructions for the computer."
   ]
  },
  {
   "cell_type": "markdown",
   "metadata": {},
   "source": [
    "## Operators\n",
    "\n",
    "Operators are used to perform operations on objects. Below is a list of operators in Python:\n",
    "\n",
    "| **Category**         | **Operator** | **Description**             |\n",
    "|----------------------|--------------|-----------------------------|\n",
    "| **Arithmetic**       | `+`          | Addition                    |\n",
    "|                      | `-`          | Subtraction                 |\n",
    "|                      | `*`          | Multiplication              |\n",
    "|                      | `/`          | Division                    |\n",
    "|                      | `%`          | Modulus                     |\n",
    "|                      | `**`         | Exponentiation              |\n",
    "|                      | `//`         | Floor Division              |\n",
    "| **Comparison**       | `==`         | Equal to                    |\n",
    "|                      | `!=`         | Not equal to                |\n",
    "|                      | `>`          | Greater than                |\n",
    "|                      | `<`          | Less than                   |\n",
    "|                      | `>=`         | Greater than or equal to    |\n",
    "|                      | `<=`         | Less than or equal to       |\n",
    "| **Assignment**       | `=`          | Assign                      |\n",
    "|                      | `+=`         | Add and assign              |\n",
    "|                      | `-=`         | Subtract and assign         |\n",
    "|                      | `*=`         | Multiply and assign         |\n",
    "|                      | `/=`         | Divide and assign           |\n",
    "|                      | `%=`         | Modulus and assign          |\n",
    "|                      | `**=`        | Exponentiate and assign     |\n",
    "|                      | `//=`        | Floor divide and assign     |\n",
    "|                      | `\\|=`        | Inplace or                   |\n",
    "| **Logical**          | `and`        | Logical AND                 |\n",
    "|                      | `or`         | Logical OR                  |\n",
    "|                      | `not`        | Logical NOT                 |\n",
    "| **Bitwise**          | `&`          | Bitwise AND                 |\n",
    "|                      | `|`          | Bitwise OR                  |\n",
    "|                      | `^`          | Bitwise XOR                 |\n",
    "|                      | `~`          | Bitwise NOT                 |\n",
    "|                      | `<<`         | Left shift                  |\n",
    "|                      | `>>`         | Right shift                 |\n",
    "| **Membership**       | `in`         | Membership test             |\n",
    "|                      | `not in`     | Non-membership test         |\n",
    "| **Identity**         | `is`         | Identity test               |\n",
    "|                      | `is not`     | Negated identity test       |\n",
    "| **Conditional**      | `x if condition else y` | Conditional expression  |\n",
    "\n",
    "\n",
    "For a more detailed description of each operator, refer to the [specific page](syntax/operators.ipynb)."
   ]
  },
  {
   "cell_type": "markdown",
   "metadata": {},
   "source": [
    "## Keywords\n",
    "\n",
    "A keyword is a special word used by Python as part of the language syntax. You can list all the valid keywords by using the `kwlist` attribute of the `keyword` module."
   ]
  },
  {
   "cell_type": "code",
   "execution_count": null,
   "metadata": {},
   "outputs": [
    {
     "data": {
      "text/plain": [
       "['False',\n",
       " 'None',\n",
       " 'True',\n",
       " 'and',\n",
       " 'as',\n",
       " 'assert',\n",
       " 'async',\n",
       " 'await',\n",
       " 'break',\n",
       " 'class',\n",
       " 'continue',\n",
       " 'def',\n",
       " 'del',\n",
       " 'elif',\n",
       " 'else',\n",
       " 'except',\n",
       " 'finally',\n",
       " 'for',\n",
       " 'from',\n",
       " 'global',\n",
       " 'if',\n",
       " 'import',\n",
       " 'in',\n",
       " 'is',\n",
       " 'lambda',\n",
       " 'nonlocal',\n",
       " 'not',\n",
       " 'or',\n",
       " 'pass',\n",
       " 'raise',\n",
       " 'return',\n",
       " 'try',\n",
       " 'while',\n",
       " 'with',\n",
       " 'yield']"
      ]
     },
     "metadata": {},
     "output_type": "display_data"
    }
   ],
   "source": [
    "import keyword\n",
    "keyword.kwlist"
   ]
  },
  {
   "cell_type": "markdown",
   "metadata": {},
   "source": [
    "Here is table with brief description to each keyword.\n",
    "\n",
    "| **Keyword** | **Description**                                                                                           |\n",
    "|-------------|-----------------------------------------------------------------------------------------------------------|\n",
    "| False       | Represents the boolean value False.                                                                      |\n",
    "| None        | Represents the absence of a value or a null value.                                                        |\n",
    "| True        | Represents the boolean value True.                                                                       |\n",
    "| and         | Logical AND operator. Returns True if both operands are true.                                             |\n",
    "| as          | Used to create an alias while importing a module or in exception handling.                               |\n",
    "| assert      | Used for debugging purposes to test if a condition is true.                                                |\n",
    "| async       | Declares an asynchronous function or method.                                                               |\n",
    "| await       | Pauses the execution of an async function until the result is available.                                  |\n",
    "| break       | Exits a loop prematurely.                                                                               |\n",
    "| class       | Used to define a new class.                                                                             |\n",
    "| continue    | Skips the rest of the code inside a loop for the current iteration and proceeds to the next iteration.    |\n",
    "| def         | Used to define a function.                                                                              |\n",
    "| del         | Deletes objects.                                                                                         |\n",
    "| elif        | Used in conditional statements, stands for \"else if\".                                                     |\n",
    "| else        | Used in conditional statements, provides an alternative block of code if conditions are not met.           |\n",
    "| except      | Used in exception handling to catch exceptions.                                                           |\n",
    "| finally     | Used in exception handling to execute code regardless of whether an exception was raised or not.          |\n",
    "| for         | Used to create a for loop for iterating over sequences.                                                    |\n",
    "| from        | Used to import specific parts of a module.                                                                |\n",
    "| global      | Declares a variable to be global.                                                                         |\n",
    "| if          | Used to start a conditional statement.                                                                    |\n",
    "| import      | Used to include modules into the current namespace.                                                       |\n",
    "| in          | Checks for membership in a sequence or container.                                                          |\n",
    "| is          | Tests for object identity, checking if two variables point to the same object.                           |\n",
    "| lambda      | Creates an anonymous function.                                                                           |\n",
    "| nonlocal    | Used to declare a variable that refers to a variable in an enclosing scope, but not global.                |\n",
    "| not         | Logical NOT operator. Returns True if the operand is false.                                               |\n",
    "| or          | Logical OR operator. Returns True if at least one operand is true.                                        |\n",
    "| pass        | A null statement used as a placeholder.                                                                    |\n",
    "| raise       | Used to raise exceptions.                                                                               |\n",
    "| return      | Exits a function and optionally returns a value.                                                           |\n",
    "| try         | Starts a block of code to be tested for exceptions.                                                         |\n",
    "| while       | Starts a while loop that continues as long as the condition is true.                                       |\n",
    "| with        | Used to simplify exception handling by encapsulating setup and cleanup code.                              |\n",
    "| yield       | Used to produce a generator in a function.                                                                |\n",
    "\n",
    "Check more details in the [special page](syntax/keywords.ipynb)."
   ]
  },
  {
   "cell_type": "markdown",
   "metadata": {},
   "source": [
    "## Exceptions\n",
    "\n",
    "Exceptions are python's way to deal with cases when something goes wrong. There are several important concepts associated with exceptions in python:\n",
    "\n",
    "- An exception class/object - this is a descendant of the `ExceptionBaseclass` that representes a particular type of the exception.\n",
    "- `raise <instance of the exception class>` keyword allows to raise an exception.\n",
    "- To handle expceptions that may occur in different parts of the programm, use the `try/except` construct.\n",
    "\n",
    "For more check:\n",
    "\n",
    "- [Errors and Exceptions](https://docs.python.org/3/tutorial/errors.html) python tutorial.\n",
    "- In [Build-in Exception](https://docs.python.org/3/library/exceptions.html#bltin-exceptions) are listed all basic expceptions awailable in the python."
   ]
  },
  {
   "cell_type": "markdown",
   "metadata": {},
   "source": [
    "---\n",
    "\n",
    "The following cell tries to include as much as possible python exception concepts in just one really short snippet: it raises a `ValueError` in the `try` block, catches the expcetion instance as `e`, prints its type, and re-rise an exception."
   ]
  },
  {
   "cell_type": "code",
   "execution_count": 1,
   "metadata": {},
   "outputs": [
    {
     "name": "stdout",
     "output_type": "stream",
     "text": [
      "<class 'ValueError'>\n"
     ]
    },
    {
     "ename": "ValueError",
     "evalue": "hello",
     "output_type": "error",
     "traceback": [
      "\u001b[31m---------------------------------------------------------------------------\u001b[39m",
      "\u001b[31mValueError\u001b[39m                                Traceback (most recent call last)",
      "\u001b[36mCell\u001b[39m\u001b[36m \u001b[39m\u001b[32mIn[1]\u001b[39m\u001b[32m, line 2\u001b[39m\n\u001b[32m      1\u001b[39m \u001b[38;5;28;01mtry\u001b[39;00m:\n\u001b[32m----> \u001b[39m\u001b[32m2\u001b[39m     \u001b[38;5;28;01mraise\u001b[39;00m \u001b[38;5;167;01mValueError\u001b[39;00m(\u001b[33m\"\u001b[39m\u001b[33mhello\u001b[39m\u001b[33m\"\u001b[39m)\n\u001b[32m      3\u001b[39m \u001b[38;5;28;01mexcept\u001b[39;00m \u001b[38;5;167;01mException\u001b[39;00m \u001b[38;5;28;01mas\u001b[39;00m e:\n\u001b[32m      4\u001b[39m     \u001b[38;5;28mprint\u001b[39m(\u001b[38;5;28mtype\u001b[39m(e))\n",
      "\u001b[31mValueError\u001b[39m: hello"
     ]
    }
   ],
   "source": [
    "try:\n",
    "    raise ValueError(\"hello\")\n",
    "except Exception as e:\n",
    "    print(type(e))\n",
    "    raise"
   ]
  },
  {
   "cell_type": "markdown",
   "metadata": {},
   "source": [
    "## With\n",
    "\n",
    "Python allows you to define a context in which certain objects are accessible and specific setup and cleanup operations are automatically performed before and after the context is executed.\n",
    "\n",
    "For more information, see:\n",
    "\n",
    "* [The `with` statement](https://docs.python.org/3/reference/compound_stmts.html#the-with-statement) section on the \"Compound statements\" page of the official documentation.\n",
    "* [With Statement Context Managers](https://docs.python.org/3/reference/datamodel.html#context-managers) section on the \"Data model\" page.\n",
    "\n",
    "The typical syntax for the `with` statement is:\n",
    "\n",
    "```py\n",
    "with EXPRESSION as TARGET:\n",
    "    SUITE\n",
    "```\n",
    "\n",
    "Here:\n",
    "\n",
    "* `EXPRESSION` is a call that returns a context manager.\n",
    "* `TARGET` is the object created by the context manager to interact with the context.\n",
    "* `SUITE` is the block of code that will be executed within the context."
   ]
  },
  {
   "cell_type": "markdown",
   "metadata": {},
   "source": [
    "---\n",
    "\n",
    "The most common use of the `with` statement is probably in conjunction with the `open` function. In this case, the target would be an object representing a file, which will definitely be closed at the end of the context."
   ]
  },
  {
   "cell_type": "markdown",
   "metadata": {},
   "source": [
    "The following cell demonstrates opening and closing a file without the `with` statement."
   ]
  },
  {
   "cell_type": "code",
   "execution_count": 2,
   "metadata": {},
   "outputs": [
    {
     "name": "stdout",
     "output_type": "stream",
     "text": [
      "<class '_io.BufferedWriter'>\n",
      "False\n",
      "True\n"
     ]
    }
   ],
   "source": [
    "file = open(\"/tmp/some_file\", \"wb\")\n",
    "print(type(file))\n",
    "print(file.closed)\n",
    "file.close()\n",
    "print(file.closed)"
   ]
  },
  {
   "cell_type": "markdown",
   "metadata": {},
   "source": [
    "Special attention is given to the type of object that the `open` function returns. Also, attention is given to the state of the `closed` attribute of the file before and after the call to `file.close`."
   ]
  },
  {
   "cell_type": "markdown",
   "metadata": {},
   "source": [
    "The same idea, but using `with` statement."
   ]
  },
  {
   "cell_type": "code",
   "execution_count": 3,
   "metadata": {},
   "outputs": [
    {
     "name": "stdout",
     "output_type": "stream",
     "text": [
      "<class '_io.BufferedWriter'>\n",
      "False\n",
      "True\n"
     ]
    }
   ],
   "source": [
    "with open(\"/tmp/some_file\", \"wb\") as file:\n",
    "    print(type(file))\n",
    "    print(file.closed)\n",
    "print(file.closed)"
   ]
  },
  {
   "cell_type": "markdown",
   "metadata": {},
   "source": [
    "The target has the same type as the one returned by `open` in regular conditions. The values of the `file.closed` attribute inside and outside the `with` statement show that the file is opened in the context created by the `with` statement and closed immediately after the context ends."
   ]
  },
  {
   "cell_type": "markdown",
   "metadata": {},
   "source": [
    "### Several managers\n",
    "\n",
    "You can use multiple managers in one `with` statement. Simply separate all expressions produsing context managers with commas: \n",
    "\n",
    "```py\n",
    "with (\n",
    "    expression1 as target1,\n",
    "    expression2 as target2\n",
    "):\n",
    "    pass\n",
    "```"
   ]
  },
  {
   "cell_type": "markdown",
   "metadata": {},
   "source": [
    "---\n",
    "\n",
    "For me, the typical usage of the described approach for me was the mocking with the `unittest` package. It's common to alter the behavior of the several functions called in the code being tested."
   ]
  },
  {
   "cell_type": "markdown",
   "metadata": {},
   "source": [
    "The following cell shows the case with `fun1` and `fun2`, whose behavior in the `consider` is changed due to the `with` statement containing several context managers."
   ]
  },
  {
   "cell_type": "code",
   "execution_count": 5,
   "metadata": {},
   "outputs": [
    {
     "name": "stdout",
     "output_type": "stream",
     "text": [
      "modified fun1 and modified fun2\n"
     ]
    }
   ],
   "source": [
    "from unittest.mock import patch\n",
    "\n",
    "def fun1() -> str:\n",
    "    return \"fun1 original\"\n",
    "\n",
    "def fun2() -> str:\n",
    "    return \"fun2 original\"\n",
    "\n",
    "def consider() -> str:\n",
    "    return fun1() + \" and \" + fun2()\n",
    "\n",
    "with (\n",
    "    patch('__main__.fun1') as mock_fun1,\n",
    "    patch('__main__.fun2') as mock_fun2\n",
    "):\n",
    "    mock_fun1.return_value = \"modified fun1\"\n",
    "    mock_fun2.return_value = \"modified fun2\" \n",
    "    print(consider())"
   ]
  },
  {
   "cell_type": "markdown",
   "metadata": {},
   "source": [
    "## Decorators\n",
    "\n",
    "It's a sugar that allows to modify behaviour of the functions or classes. Find out more in the [specific page](basics/decorators.ipynb)."
   ]
  },
  {
   "cell_type": "markdown",
   "metadata": {},
   "source": [
    "---\n",
    "\n",
    "The following cell defines a decorator, which is a function that takes another function as an argument and returns a modified version of that function. During the creation of the new function, it prints `Functionality during function modification.` Additionally, it prints `Functionality to be added.` each time the modified function is called."
   ]
  },
  {
   "cell_type": "code",
   "execution_count": null,
   "metadata": {},
   "outputs": [],
   "source": [
    "def wrapper_function(modified_function):\n",
    "    print(\"Functionality during function modification.\")\n",
    "    def inner_function():\n",
    "        print(\"Functionality to be added.\")\n",
    "        modified_function()\n",
    "    return inner_function"
   ]
  },
  {
   "cell_type": "markdown",
   "metadata": {},
   "source": [
    "The standard way to apply a decorator to a function is by using the `@` operator. In the following cell, the `wrapper_function` decorator, which was created earlier, is applied to the `function_to_decorate` function."
   ]
  },
  {
   "cell_type": "code",
   "execution_count": null,
   "metadata": {},
   "outputs": [
    {
     "name": "stdout",
     "output_type": "stream",
     "text": [
      "Functionality during function modification.\n"
     ]
    }
   ],
   "source": [
    "@wrapper_function\n",
    "def function_to_decoration():\n",
    "    print(\"Original functionality\")"
   ]
  },
  {
   "cell_type": "markdown",
   "metadata": {},
   "source": [
    "You can realise some logic during decorator creation. So `Functionality during function modification.` was printed."
   ]
  },
  {
   "cell_type": "markdown",
   "metadata": {},
   "source": [
    "The following cell calls decorated function."
   ]
  },
  {
   "cell_type": "code",
   "execution_count": null,
   "metadata": {},
   "outputs": [
    {
     "name": "stdout",
     "output_type": "stream",
     "text": [
      "Functionality to be added.\n",
      "Original functionality\n"
     ]
    }
   ],
   "source": [
    "function_to_decoration()"
   ]
  },
  {
   "cell_type": "markdown",
   "metadata": {},
   "source": [
    "In addition to the function's original functionality, the decorator adds extra behavior."
   ]
  }
 ],
 "metadata": {
  "kernelspec": {
   "display_name": "python (3.13.5)",
   "language": "python",
   "name": "python3"
  },
  "language_info": {
   "codemirror_mode": {
    "name": "ipython",
    "version": 3
   },
   "file_extension": ".py",
   "mimetype": "text/x-python",
   "name": "python",
   "nbconvert_exporter": "python",
   "pygments_lexer": "ipython3",
   "version": "3.13.5"
  }
 },
 "nbformat": 4,
 "nbformat_minor": 2
}
