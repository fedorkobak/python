{
 "cells": [
  {
   "cell_type": "markdown",
   "id": "dc999654-3f64-4614-8016-c6d6699408d5",
   "metadata": {},
   "source": [
    "# OOP\n",
    "\n",
    "Object-Oriented Programming (OOP) is a programming paradigm that provides a way to structure code by organizing it into objects. Objects are instances of classes, which are blueprints that define the behavior and characteristics of the objects. Python is an object-oriented programming language that fully supports OOP principles.\n",
    "\n",
    "For more information check:\n",
    "\n",
    "- [Data model](https://docs.python.org/3/reference/datamodel.html#) section of the official documentation.\n",
    "- [Classes](https://docs.python.org/3/tutorial/classes.html) tutorial in the official documentation."
   ]
  },
  {
   "cell_type": "markdown",
   "id": "b9183ced",
   "metadata": {},
   "source": [
    "## Objects\n",
    "\n",
    "Everything in python is an object. Each object has it's unique identifier which you can load using the `id` build-in function. The `is` operator allows you to check if two names refer to the same object."
   ]
  },
  {
   "cell_type": "markdown",
   "id": "958d8870",
   "metadata": {},
   "source": [
    "---\n",
    "\n",
    "The following cell defines the `int` object and shows it's `id`."
   ]
  },
  {
   "cell_type": "code",
   "execution_count": 31,
   "id": "fb651593",
   "metadata": {},
   "outputs": [
    {
     "data": {
      "text/plain": [
       "99205780812584"
      ]
     },
     "execution_count": 31,
     "metadata": {},
     "output_type": "execute_result"
    }
   ],
   "source": [
    "value = 10\n",
    "id(value)"
   ]
  },
  {
   "cell_type": "markdown",
   "id": "221d14d6",
   "metadata": {},
   "source": [
    "Now for the`value` assigned to `value2`. `id(value2)` is the same as `id(value)` - they're actually the same objects."
   ]
  },
  {
   "cell_type": "code",
   "execution_count": 32,
   "id": "b830dfa5",
   "metadata": {},
   "outputs": [
    {
     "data": {
      "text/plain": [
       "99205780812584"
      ]
     },
     "execution_count": 32,
     "metadata": {},
     "output_type": "execute_result"
    }
   ],
   "source": [
    "value2 = value\n",
    "id(value2)"
   ]
  },
  {
   "cell_type": "markdown",
   "id": "e561d487",
   "metadata": {},
   "source": [
    "This can also be checked with the `is` operator."
   ]
  },
  {
   "cell_type": "code",
   "execution_count": 34,
   "id": "fd9e7ddb",
   "metadata": {},
   "outputs": [
    {
     "data": {
      "text/plain": [
       "True"
      ]
     },
     "execution_count": 34,
     "metadata": {},
     "output_type": "execute_result"
    }
   ],
   "source": [
    "value is value2"
   ]
  },
  {
   "cell_type": "markdown",
   "id": "af932360",
   "metadata": {},
   "source": [
    "But if you assign a different literal to `value2` - a new object will be created under that name."
   ]
  },
  {
   "cell_type": "code",
   "execution_count": 35,
   "id": "0735a1d5",
   "metadata": {},
   "outputs": [
    {
     "data": {
      "text/plain": [
       "99205780813224"
      ]
     },
     "execution_count": 35,
     "metadata": {},
     "output_type": "execute_result"
    }
   ],
   "source": [
    "value2 = 30\n",
    "id(value2)"
   ]
  },
  {
   "cell_type": "code",
   "execution_count": 36,
   "id": "ecf8aebb",
   "metadata": {},
   "outputs": [
    {
     "data": {
      "text/plain": [
       "False"
      ]
     },
     "execution_count": 36,
     "metadata": {},
     "output_type": "execute_result"
    }
   ],
   "source": [
    "value is value2"
   ]
  },
  {
   "cell_type": "markdown",
   "id": "290b79ef",
   "metadata": {},
   "source": [
    "## Variables\n",
    "\n",
    "Classes and their instances can contain variables (sometimes called data attributes) - it's a peace of data that corresponds to the class or its instances.\n",
    "\n",
    "There are few important concepts you need to know about \"data attributes\":\n",
    "\n",
    "- There are attributes defined for whole class and attributes unique for each instance.\n",
    "- There are special dynamic attributes that during operation wite class behaves like a regular data attribute, but in real it's a method - so you can compute value of the attribute dynamically.\n",
    "\n",
    "Find out more accurate description in the [corresponding page](oop/variables.ipynb)."
   ]
  },
  {
   "cell_type": "markdown",
   "id": "501ae7b2",
   "metadata": {},
   "source": [
    "---\n",
    "\n",
    "The following cell defines class where:\n",
    "\n",
    "- `class_var`: is a class variable.\n",
    "- `instance_var`: is a variable that will correspond to each instance of the class.\n",
    "- `dynamic_attribute`: is an attribute whose value is counted at the moment of reference to it."
   ]
  },
  {
   "cell_type": "code",
   "execution_count": 1,
   "id": "e2df7a45",
   "metadata": {},
   "outputs": [],
   "source": [
    "class MyClass:\n",
    "    class_var = 10\n",
    "\n",
    "    def __init__(self):\n",
    "        self.instance_var = 45\n",
    "\n",
    "    @property\n",
    "    def dynamic_attribute(self):\n",
    "        return self.instance_var + 7"
   ]
  },
  {
   "cell_type": "markdown",
   "id": "5966e76f",
   "metadata": {},
   "source": [
    "## Private attributes\n",
    "\n",
    "There is just a convention in the python community - to consider attributes starting with underscore (e.g. `_spam`) as a private part of the API, but there are no mechanisms that prevent you from using/modifying it.\n",
    "\n",
    "There is only one mechanism to prevent duplicate names during inheritance. If you define an attribute with a name that starts with two underscores like `__spam`, python will automatically create another reference to that attribute with name that follows pattern: `_<name of the class>__<name of attribute>`."
   ]
  },
  {
   "cell_type": "markdown",
   "id": "c4bdcccb",
   "metadata": {},
   "source": [
    "---\n",
    "\n",
    "The following cell creates an attribute that has a method which name starts with double underscore: `__private_method`. But from instance of the `MyClass` it calls `__MyClass__private_method`."
   ]
  },
  {
   "cell_type": "code",
   "execution_count": 8,
   "id": "fedbbe61",
   "metadata": {},
   "outputs": [
    {
     "name": "stdout",
     "output_type": "stream",
     "text": [
      "Private method from MyClass\n"
     ]
    }
   ],
   "source": [
    "class MyClass:\n",
    "    def __private_method(self):\n",
    "        print(\"Private method from MyClass\")\n",
    "\n",
    "my_class = MyClass()\n",
    "my_class._MyClass__private_method()"
   ]
  },
  {
   "cell_type": "markdown",
   "id": "f9573184",
   "metadata": {},
   "source": [
    "As a result, the program behaves exactly as it was declared in the `_private_method`."
   ]
  },
  {
   "cell_type": "markdown",
   "id": "25f77d34",
   "metadata": {},
   "source": [
    "The following cell creates a subclass for `MyClass` and shows that even if you reassign `__private_method`, extra reference automatically created by the python `_MyClass__private_method` still exits."
   ]
  },
  {
   "cell_type": "code",
   "execution_count": 9,
   "id": "a58a2aae",
   "metadata": {},
   "outputs": [
    {
     "name": "stdout",
     "output_type": "stream",
     "text": [
      "Private method from MyClass\n"
     ]
    }
   ],
   "source": [
    "class MySubClass(MyClass):\n",
    "    def __private_method(self):\n",
    "        print(\"Private method from MySubClass\")\n",
    "\n",
    "my_sub_class = MySubClass()\n",
    "my_sub_class._MyClass__private_method()"
   ]
  },
  {
   "cell_type": "markdown",
   "id": "03dc45e5",
   "metadata": {},
   "source": [
    "And behaves as it declared in the `MyClass.__private_method`."
   ]
  },
  {
   "cell_type": "markdown",
   "id": "233ab9b9-f64c-4ccd-8b99-6ac944b1e4a8",
   "metadata": {},
   "source": [
    "## Inheritance"
   ]
  },
  {
   "cell_type": "markdown",
   "id": "0f81775b-30f6-49b5-b8e5-372a0d72465a",
   "metadata": {},
   "source": [
    "One of the key features of OOP is inheritance, which allows a class to inherit attributes and methods from another class. The class that inherits is called a subclass or derived class, and the class from which it inherits is called a superclass or base class.\n",
    "\n",
    "Check details on features of the inheritance in the [corresponding page](oop/inheritance.ipynb)."
   ]
  },
  {
   "cell_type": "code",
   "execution_count": 7,
   "id": "5ba4a331-ec2f-4bd5-a079-fb56ecf72ee5",
   "metadata": {},
   "outputs": [],
   "source": [
    "class Car:\n",
    "    def __init__(self, make, model, year):\n",
    "        self.make = make\n",
    "        self.model = model\n",
    "        self.year = year\n",
    "        \n",
    "    def start(self):\n",
    "        print(\"The car has started.\")\n",
    "        \n",
    "    def stop(self):\n",
    "        print(\"The car has stopped.\")\n",
    "\n",
    "\n",
    "class ElectricCar(Car):\n",
    "    def __init__(self, make, model, year, battery_capacity):\n",
    "        super().__init__(make, model, year)\n",
    "        self.battery_capacity = battery_capacity\n",
    "        \n",
    "    def charge(self):\n",
    "        print(\"The electric car is charging.\")"
   ]
  },
  {
   "cell_type": "markdown",
   "id": "4719d900-31d2-492c-b251-1d65f6938656",
   "metadata": {},
   "source": [
    "In this example, we define a subclass `ElectricCar` that inherits from the `Car` class. It has an additional attribute `battery_capacity` and a new method charge. The `super()` function is used to call the superclass's constructor and initialize the inherited attributes."
   ]
  },
  {
   "cell_type": "code",
   "execution_count": 8,
   "id": "ab7728a7-6d30-4cb6-ac1f-55cc66c50ffd",
   "metadata": {},
   "outputs": [
    {
     "name": "stdout",
     "output_type": "stream",
     "text": [
      "Tesla\n",
      "100\n",
      "The car has started.\n",
      "The electric car is charging.\n"
     ]
    }
   ],
   "source": [
    "my_electric_car = ElectricCar(\"Tesla\", \"Model S\", 2023, 100)\n",
    "print(my_electric_car.make)\n",
    "print(my_electric_car.battery_capacity)\n",
    "my_electric_car.start()\n",
    "my_electric_car.charge()"
   ]
  },
  {
   "cell_type": "markdown",
   "id": "0345a5eb-7cac-4b9c-abd4-470605e898ac",
   "metadata": {},
   "source": [
    "Here, `my_electric_car` is an object of the `ElectricCar` class, which inherits attributes and methods from the `Car` class. It also has its own specific attributes and methods."
   ]
  },
  {
   "cell_type": "markdown",
   "id": "aa3536b4",
   "metadata": {},
   "source": [
    "## Special methods\n",
    "\n",
    "In classes, a set of methods with reserved names can be implemented. These methods are called when specific events occur with the class or its instances. Names of all this methods follows such pattern `__<name>__`, for example `__init__`, `__repr__` and so on.\n",
    "\n",
    "Find out more in the:\n",
    "\n",
    "- [Specific page of the official documentation](https://docs.python.org/3/reference/datamodel.html#specialnames).\n",
    "- Some description in experimental approach in the [corresponding page of this site](oop/special_methods.ipynb).\n",
    "\n",
    "The following table shows some special methods and their descriptions.\n",
    "\n",
    "| **Group**            | **Method**         | **Description**                                                    |\n",
    "|----------------------|--------------------|--------------------------------------------------------------------|\n",
    "| **Object management** | `__new__(cls)`  | Static method called to create a new instance |\n",
    "|                       | `__init__(self)` | Called immediately after instance creation    |\n",
    "|                       | `__del__(self)`  | Called when the instance is about to be destroyed - the correct abstract way to name it is \"finalizer\" |\n",
    "| **Type Conversion**   | `__str__(self)`    | Defines how an object should be converted into a string datatype.   |\n",
    "|                      | `__bool__(self)`   | Defines how an object should be converted into a boolean datatype.  |\n",
    "|                      | `__int__(self)`    | Defines how an object should be converted into an integer datatype. |\n",
    "|                      | `__float__(self)`  | Defines how an object should be converted into a float datatype.    |\n",
    "|                      | `__complex__(self)`| Defines how an object should be converted into a complex datatype.  |\n",
    "|  **Arithmetic operators**    | `__eq__(self, other)`      | Compares two objects for equality (`==`).                                 |\n",
    "|                              | `__lt__(self, other)`      | Compares if the object is less than another (`<`).                        |\n",
    "|                              | `__le__(self, other)`      | Compares if the object is less than or equal to another (`<=`).           |\n",
    "|                              | `__gt__(self, other)`      | Compares if the object is greater than another (`>`).                     |\n",
    "|                              | `__ge__(self, other)`      | Compares if the object is greater than or equal to another (`>=`).        |\n",
    "|                              | `__add__(self, other)`     | Defines addition for objects (`+`).                                       |\n",
    "|                              | `__sub__(self, other)`     | Defines subtraction for objects (`-`).                                    |\n",
    "|                              | `__mul__(self, other)`     | Defines multiplication for objects (`*`).                                 |\n",
    "|                              | `__truediv__(self, other)` | Defines division for objects (`/`).                                       |\n",
    "|                              | `__floordiv__(self, other)`| Defines floor division for objects (`//`).                                |\n",
    "|                              | `__mod__(self, other)`     | Defines modulo operation for objects (`%`).                               |\n",
    "|                              | `__pow__(self, other)`     | Defines power operation for objects (`**`).                               |\n",
    "|                              | `__and__(self, other)`     | Defines bitwise AND operation (`&`).                                      |\n",
    "|                              | `__or__(self, other)`      | Defines bitwise OR operation (`|`).                                       |\n",
    "|                              | `__xor__(self, other)`     | Defines bitwise XOR operation (`^`).                                      |\n",
    "|                              | `__iadd__(self, other)`    | Defines in-place addition (`+=`).                                         |\n",
    "|                              | `__isub__(self, other)`    | Defines in-place subtraction (`-=`).                                      |\n",
    "|                              | `__imul__(self, other)`    | Defines in-place multiplication (`*=`).                                   |\n",
    "|                              | `__idiv__(self, other)`    | Defines in-place division (`/=`).                                         |\n",
    "|                              | `__neg__(self)`            | Defines unary negation (`-`).                                             |\n",
    "|                              | `__abs__(self)`            | Returns the absolute value of the object (`abs()`).                       |\n",
    "| **Indexing operator (`[]`)** | `__setitem__(self, key, value)` | To try assigning a value to the index.  |\n",
    "|                              | `__getitem__(self, key)`        | To try to access value under the index. |\n",
    "|                              | `__delitem__(self, key)`        | To try to delete value under the index  |\n",
    "| **Iteration protocol**       | `__iter__`                 | Will be called each time you need iterate over object.                         |\n",
    "|                              | `__next__`                 | Will be called each time the object is passed to the `next` build in function. |\n"
   ]
  },
  {
   "cell_type": "markdown",
   "id": "92c9aeef",
   "metadata": {},
   "source": [
    "---\n",
    "\n",
    "As an example, consider a class that has the `__getitem__` method defined. This method determines the behavior of the instances of the class when the `[]` operator is applied to them.\n",
    "\n",
    "Here is how it works — it converts the literal `3` to the type of the input and applies `+` to the input and the transformed literal `3`."
   ]
  },
  {
   "cell_type": "code",
   "execution_count": 12,
   "id": "cbdfec07",
   "metadata": {},
   "outputs": [],
   "source": [
    "class TestClass:\n",
    "    def __getitem__(self, item):\n",
    "        return item + type(item)(3)"
   ]
  },
  {
   "cell_type": "markdown",
   "id": "94bfdc88",
   "metadata": {},
   "source": [
    "The following cell shows the behavior of the instance when `9` is passed to the `[]` operator."
   ]
  },
  {
   "cell_type": "code",
   "execution_count": 11,
   "id": "d3130654",
   "metadata": {},
   "outputs": [
    {
     "data": {
      "text/plain": [
       "9"
      ]
     },
     "execution_count": 11,
     "metadata": {},
     "output_type": "execute_result"
    }
   ],
   "source": [
    "TestClass()[6]"
   ]
  },
  {
   "cell_type": "markdown",
   "id": "4f3af442",
   "metadata": {},
   "source": [
    "You can pass string literals as well."
   ]
  },
  {
   "cell_type": "code",
   "execution_count": 10,
   "id": "7606092a",
   "metadata": {},
   "outputs": [
    {
     "data": {
      "text/plain": [
       "'hello3'"
      ]
     },
     "execution_count": 10,
     "metadata": {},
     "output_type": "execute_result"
    }
   ],
   "source": [
    "TestClass()[\"hello\"]"
   ]
  },
  {
   "cell_type": "markdown",
   "id": "ccd2161a",
   "metadata": {},
   "source": [
    "## Special attributes\n",
    "\n",
    "Actually, almost every instance in the Python environment has its own special attributes, but they come from different abstractions of the language:  \n",
    "\n",
    "- **Type attributes**: Attributes of the type itself. The `type` class, like `int`, holds these attributes.  \n",
    "- **Function attributes**, **Method attributes**: Their purpose is clear from their names.  \n",
    "- **Instance attributes**: Attributes that appear in an instance during its creation.\n",
    "\n",
    "| Category            | Attribute         | Description |\n",
    "|---------------------|------------------|-------------|\n",
    "| **Type Attributes**  | `__name__`       | Name of the class. |\n",
    "|                     | `__module__`     | Module where the class is defined. |\n",
    "|                     | `__dict__`       | Dictionary containing the class's attributes and methods. |\n",
    "|                     | `__bases__`      | Tuple of base classes (superclasses). |\n",
    "|                     | `__mro__`        | Method Resolution Order (tuple of base classes in order). |\n",
    "|                     | `__subclasses__()` | Returns a list of known subclasses. |\n",
    "|                     | `__doc__`        | Docstring of the class (or `None` if not defined). |\n",
    "|                     | `__annotations__` | Dictionary of variable type annotations. |\n",
    "|                     | `__qualname__`   | Fully qualified class name (e.g., `Outer.Inner`). |\n",
    "| **Function Attributes** | `__code__`       | Code object representing the function's compiled bytecode. |\n",
    "|                     | `__defaults__`   | Tuple of default values for function parameters. |\n",
    "|                     | `__kwdefaults__` | Dictionary of default values for keyword-only arguments. |\n",
    "|                     | `__globals__`    | Reference to the global namespace where the function is defined. |\n",
    "|                     | `__closure__`    | Tuple of cell objects containing variables used in closures. |\n",
    "|                     | `__annotations__` | Dictionary of function parameter and return type annotations. |\n",
    "| **Method Attributes** | `__func__`       | Reference to the underlying function of a method. |\n",
    "|                     | `__self__`       | Instance to which a bound method is attached. |\n",
    "|                     | `__doc__`        | Docstring of the method. |\n",
    "|                     | `__annotations__` | Dictionary of method parameter and return type annotations. |\n",
    "| **Instance Attributes** | `__dict__`       | Dictionary containing instance attributes. |\n",
    "|                     | `__class__`      | Reference to the class of the instance. |\n",
    "|                     | `__slots__`      | Tuple defining allowed instance attributes (if used). |\n",
    "|                     | `__weakref__`    | List of weak references to the object (if applicable). |\n",
    "\n",
    "Check more specific description at the [corresponding page](oop/special_attributes.ipynb)."
   ]
  },
  {
   "cell_type": "markdown",
   "id": "4aa061bf",
   "metadata": {},
   "source": [
    "## Class method\n",
    "\n",
    "A class method is a method that takes the class itself as its first argument (typically named `cls`). It should be defined using the `classmethod` decorator. A crucial feature of a class method is that it can be called not only from an instance of the class (like a typical method) but also directly from the class itself.\n",
    "\n",
    "- [Description for the `classmethod` decorator](https://docs.python.org/3/library/functions.html#classmethod).\n",
    "- [Corresponding page](oop/class_metthod.ipynb)."
   ]
  },
  {
   "cell_type": "markdown",
   "id": "74f904bd",
   "metadata": {},
   "source": [
    "---\n",
    "\n",
    "The following cell defines `class_method`, with its name reflecting its properties. In this case, `class_name` returns `cls`, allowing us to verify what it represents."
   ]
  },
  {
   "cell_type": "code",
   "execution_count": 10,
   "id": "13495962",
   "metadata": {},
   "outputs": [],
   "source": [
    "class ClassMethodExample:\n",
    "    @classmethod\n",
    "    def class_method(cls):\n",
    "        return cls"
   ]
  },
  {
   "cell_type": "markdown",
   "id": "53256edb",
   "metadata": {},
   "source": [
    "The following two cells use `class_method` from the class itself and from the instance of the class."
   ]
  },
  {
   "cell_type": "code",
   "execution_count": 11,
   "id": "1a8c741e",
   "metadata": {},
   "outputs": [
    {
     "data": {
      "text/plain": [
       "__main__.ClassMethodExample"
      ]
     },
     "execution_count": 11,
     "metadata": {},
     "output_type": "execute_result"
    }
   ],
   "source": [
    "ClassMethodExample.class_method()"
   ]
  },
  {
   "cell_type": "code",
   "execution_count": 12,
   "id": "db0e1930",
   "metadata": {},
   "outputs": [
    {
     "data": {
      "text/plain": [
       "__main__.ClassMethodExample"
      ]
     },
     "execution_count": 12,
     "metadata": {},
     "output_type": "execute_result"
    }
   ],
   "source": [
    "ClassMethodExample().class_method()"
   ]
  },
  {
   "cell_type": "markdown",
   "id": "c805131c",
   "metadata": {},
   "source": [
    "The following cell proves that `cls` is exactly the object of the class."
   ]
  },
  {
   "cell_type": "code",
   "execution_count": 13,
   "id": "dc320ae4",
   "metadata": {},
   "outputs": [
    {
     "data": {
      "text/plain": [
       "True"
      ]
     },
     "execution_count": 13,
     "metadata": {},
     "output_type": "execute_result"
    }
   ],
   "source": [
    "ClassMethodExample.class_method() == ClassMethodExample"
   ]
  },
  {
   "cell_type": "markdown",
   "id": "8bd0aeb5",
   "metadata": {},
   "source": [
    "## Static method\n",
    "\n",
    "Static method is a method of the class that isn't bound to any object - I like to think of it as an about-usual function, but just in a class namespace.\n",
    "Such an approach allows creating functions that are logically associated with a class but can be called without an instance.\n",
    "Check out more about static methods in the [corresponding tutorian](https://www.digitalocean.com/community/tutorials/python-static-method) on the digital ocean.\n",
    "\n",
    "You can formally define a method as static by wrapping it in the `staticmethod` decorator. **Note:** A static method doesn't have any relation to the instances of the object, which is why it shouldn't have the `self` parameter."
   ]
  },
  {
   "cell_type": "markdown",
   "id": "24d348ee",
   "metadata": {},
   "source": [
    "---\n",
    "\n",
    "The following cell implements a class that contains a regular method and a static method."
   ]
  },
  {
   "cell_type": "code",
   "execution_count": 14,
   "id": "e6d4c772",
   "metadata": {},
   "outputs": [],
   "source": [
    "class StaticExample:\n",
    "    def typical(self):\n",
    "        print(\"I'm typical.\")\n",
    "\n",
    "    @staticmethod\n",
    "    def static():\n",
    "        print(\"I'm static.\")"
   ]
  },
  {
   "cell_type": "markdown",
   "id": "91f12c79",
   "metadata": {},
   "source": [
    "Static methods are easily accessed by `<class name>.<method name>`. The following cell shows it:"
   ]
  },
  {
   "cell_type": "code",
   "execution_count": 17,
   "id": "d8f13904",
   "metadata": {},
   "outputs": [
    {
     "name": "stdout",
     "output_type": "stream",
     "text": [
      "I'm static.\n"
     ]
    }
   ],
   "source": [
    "StaticExample.static()"
   ]
  },
  {
   "cell_type": "markdown",
   "id": "8e64f9b7",
   "metadata": {},
   "source": [
    "The same approach with a non-static `typical` method will result in a corresponding error."
   ]
  },
  {
   "cell_type": "code",
   "execution_count": 15,
   "id": "487329a6",
   "metadata": {},
   "outputs": [
    {
     "name": "stdout",
     "output_type": "stream",
     "text": [
      "StaticExample.typical() missing 1 required positional argument: 'self'\n"
     ]
    }
   ],
   "source": [
    "try:\n",
    "    StaticExample.typical()\n",
    "except Exception as e:\n",
    "    print(e)"
   ]
  },
  {
   "cell_type": "markdown",
   "id": "9f66d9d5",
   "metadata": {},
   "source": [
    "## Abstractions\n",
    "\n",
    "Abstract class is a class which instance can't be created. Typically it is used to define rules for defining children of the class - from these child classes instances of the class can be created. To define an abstract class, you must create it as a child of the `abc.ABC` and define methods there that must be overloaded in children classes.\n",
    "\n",
    "Check more details in:\n",
    "\n",
    "- [Related python documentation](https://docs.python.org/3/library/abc.html)."
   ]
  },
  {
   "cell_type": "markdown",
   "id": "d0f04c56",
   "metadata": {},
   "source": [
    "---\n",
    "\n",
    "The following cell defines an abstract class with an `abstract_method` method that must be overloaded."
   ]
  },
  {
   "cell_type": "code",
   "execution_count": 6,
   "id": "25096485",
   "metadata": {},
   "outputs": [],
   "source": [
    "from abc import ABC, abstractmethod\n",
    "\n",
    "class AbstractClass(ABC):\n",
    "    @abstractmethod\n",
    "    def abstract_method(self):\n",
    "        pass"
   ]
  },
  {
   "cell_type": "markdown",
   "id": "d32bb3cb",
   "metadata": {},
   "source": [
    "The following code shows that you can't create an instance of the `AbstractClass`."
   ]
  },
  {
   "cell_type": "code",
   "execution_count": 7,
   "id": "bd01fd68",
   "metadata": {},
   "outputs": [
    {
     "name": "stdout",
     "output_type": "stream",
     "text": [
      "Can't instantiate abstract class AbstractClass without an implementation for abstract method 'abstract_method'\n"
     ]
    }
   ],
   "source": [
    "try: AbstractClass()\n",
    "except Exception as e: print(e)"
   ]
  },
  {
   "cell_type": "markdown",
   "id": "ef812718",
   "metadata": {},
   "source": [
    "The purpose of the `AbstractClass` is to be an ancestor for other classes and to define `methods` that need to be overloaded."
   ]
  },
  {
   "cell_type": "code",
   "execution_count": 8,
   "id": "f1ef2ae9",
   "metadata": {},
   "outputs": [],
   "source": [
    "class Ancestor(AbstractClass):\n",
    "    def abstract_method(self):\n",
    "        print(\"Implemented abstract method.\")\n",
    "\n",
    "ancestor = Ancestor()"
   ]
  }
 ],
 "metadata": {
  "kernelspec": {
   "display_name": "src",
   "language": "python",
   "name": "python3"
  },
  "language_info": {
   "codemirror_mode": {
    "name": "ipython",
    "version": 3
   },
   "file_extension": ".py",
   "mimetype": "text/x-python",
   "name": "python",
   "nbconvert_exporter": "python",
   "pygments_lexer": "ipython3",
   "version": "3.12.9"
  }
 },
 "nbformat": 4,
 "nbformat_minor": 5
}
