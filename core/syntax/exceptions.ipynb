{
 "cells": [
  {
   "cell_type": "markdown",
   "id": "011f9c43-ee8e-4fb6-a01d-2d5bf019b5c4",
   "metadata": {},
   "source": [
    "# Exceptions\n",
    "\n",
    "Exceptions is a cases in program when it is syntactically correct but there some other cases doesn't expected to be normal.\n",
    "\n",
    "Check more on the:\n",
    "\n",
    "- [Errors and Exceptions](https://docs.python.org/3/tutorial/errors.html) page of the official documentation.\n",
    "- [Build it exceptions](https://docs.python.org/3/library/exceptions.html#bltin-exceptions) list with descriptions of the built-in python exceptions. "
   ]
  },
  {
   "cell_type": "markdown",
   "id": "583f27d2",
   "metadata": {},
   "source": [
    "## `try/except`\n",
    "\n",
    "This section considers the syntax of the `try/except` block. The following code demonstrates various syntax tricks available in the `try/except` statement.\n",
    "\n",
    "```python\n",
    "try:\n",
    "    # try block\n",
    "    ...\n",
    "except <Exception type> as <object>:\n",
    "    # exception block 1\n",
    "except <Exception type>:\n",
    "    # exception block 2\n",
    "except (<Exception type 1>, <Exception type 2>) as v:\n",
    "    # exception block 3\n",
    "except (<Exception type 1>, <Exception type 2>)\n",
    "    # exception block 4\n",
    "except:\n",
    "    # exception block 5\n",
    "else: # optional\n",
    "    # else block - executed when no execptions occur \n",
    "finally: # optional\n",
    "    # finally block - executed in any case\n",
    "```\n",
    "\n",
    "Check the [`try/except`](exceptions/try_except.ipynb) special page."
   ]
  },
  {
   "cell_type": "markdown",
   "id": "e993512f-ecf0-4d7a-984a-b4d9aa416930",
   "metadata": {},
   "source": [
    "## Matching system\n",
    "\n",
    "This section describes how python describes to which `except` block an occured exception should lead to."
   ]
  },
  {
   "cell_type": "markdown",
   "id": "99a2a04c-4b7b-4110-9e53-f923957af06a",
   "metadata": {},
   "source": [
    "### Duplicates \n",
    "\n",
    "You can define any number of `except` blocks for the same exception type, but only the first one will be called."
   ]
  },
  {
   "cell_type": "markdown",
   "id": "70175300",
   "metadata": {},
   "source": [
    "---\n",
    "\n",
    "In the following example, even though is declared two codes for the `ZeroDivisionError` type exception, only the first one was executed."
   ]
  },
  {
   "cell_type": "code",
   "execution_count": 2,
   "id": "51af66de-0f70-457d-bea2-5f443b6e6a51",
   "metadata": {},
   "outputs": [
    {
     "name": "stdout",
     "output_type": "stream",
     "text": [
      "First code to handle exception\n"
     ]
    }
   ],
   "source": [
    "try:\n",
    "    1/0\n",
    "except ZeroDivisionError:\n",
    "    print(\"First code to handle exception\")\n",
    "except ZeroDivisionError:\n",
    "    print(\"Second code to handle exception\")"
   ]
  },
  {
   "cell_type": "markdown",
   "id": "e23a2e8b-1e4f-43d2-b0d3-6dcaa6bbb12e",
   "metadata": {},
   "source": [
    "## Exception object\n",
    "\n",
    "In the except clause, you can be specify  a variable that will hold the instance of the exception that occurred - you must use the syntax `except <Exception> as <variable name>` as the result in the corresponding block can implement logic that works with `<variable name>`. This variable will refer to the instance of the exception that raised. "
   ]
  },
  {
   "cell_type": "markdown",
   "id": "283f25dd",
   "metadata": {},
   "source": [
    "---\n",
    "\n",
    "The following cell shows how different exceptions pass the corresponding object to the variable of the `except` block."
   ]
  },
  {
   "cell_type": "code",
   "execution_count": 3,
   "id": "0df6f963-f03d-48ff-8022-3b0a8264c7a0",
   "metadata": {},
   "outputs": [
    {
     "name": "stdout",
     "output_type": "stream",
     "text": [
      "<class 'ZeroDivisionError'>\n",
      "error type: division by zero\n",
      "<class 'TypeError'>\n",
      "error type: can only concatenate str (not \"int\") to str\n"
     ]
    }
   ],
   "source": [
    "try_functions = [\n",
    "    lambda: 8/0,\n",
    "    lambda: \"hello\" + 4\n",
    "]\n",
    "\n",
    "for fun in try_functions:\n",
    "    try:\n",
    "        fun()\n",
    "        print(\"no error\")\n",
    "    except Exception as e:\n",
    "        print(type(e))\n",
    "        print(\"error type:\", e)"
   ]
  },
  {
   "cell_type": "markdown",
   "id": "03f98d8b",
   "metadata": {},
   "source": [
    "The next code shows that the variable contains exactly the object that was used in the `raise` statement."
   ]
  },
  {
   "cell_type": "code",
   "execution_count": 1,
   "id": "0ca45b7c",
   "metadata": {},
   "outputs": [
    {
     "name": "stdout",
     "output_type": "stream",
     "text": [
      "True\n"
     ]
    }
   ],
   "source": [
    "my_error = ValueError(\"This is some simple error\")\n",
    "\n",
    "try:\n",
    "    raise my_error\n",
    "except Exception as e:\n",
    "    print(e is my_error)"
   ]
  },
  {
   "cell_type": "markdown",
   "id": "68b6a45f",
   "metadata": {},
   "source": [
    "### From sys\n",
    "\n",
    "In the `sys` built-in python module, there are two functions, `sys.exception()` and `sys.exc_info()`, which can also provide information about exceptions that have occurred. See the corresponding [section of the official documentation](https://docs.python.org/3/library/sys.html#sys.exception) for more information."
   ]
  },
  {
   "cell_type": "markdown",
   "id": "b6bd4430",
   "metadata": {},
   "source": [
    "---\n",
    "\n",
    "The following cell shows that `sys.exception` returns exactly the same object of the exception."
   ]
  },
  {
   "cell_type": "code",
   "execution_count": null,
   "id": "3d1b1351",
   "metadata": {},
   "outputs": [
    {
     "name": "stdout",
     "output_type": "stream",
     "text": [
      "True\n"
     ]
    }
   ],
   "source": [
    "import sys\n",
    "\n",
    "try: 9/0\n",
    "except Exception as e: print(sys.exception() is e) "
   ]
  },
  {
   "cell_type": "markdown",
   "id": "d42def36",
   "metadata": {},
   "source": [
    "`sys.exc_info` is an old fashioned function that returns a tuple with different compoments of the exception."
   ]
  },
  {
   "cell_type": "code",
   "execution_count": 9,
   "id": "4b4b0420",
   "metadata": {},
   "outputs": [
    {
     "name": "stdout",
     "output_type": "stream",
     "text": [
      "(<class 'TypeError'>, TypeError('can only concatenate str (not \"int\") to str'), <traceback object at 0x799ef7ff6200>)\n"
     ]
    }
   ],
   "source": [
    "try: \"10\" + 10\n",
    "except: print(sys.exc_info())"
   ]
  },
  {
   "cell_type": "markdown",
   "id": "9b5f0bbc",
   "metadata": {},
   "source": [
    "## Traceback\n",
    "\n",
    "Traceback is information about where in the code an exception occurred. It can be extracted from the exception instance using `__traceback__` attribute. Practically you have to use `traceback.format_exception` to prepare traceback to the view as it is printed to the output in the python programm. Read more about traceback objects on the [corresponding page](https://docs.python.org/3/reference/datamodel.html#traceback-objects) of the official documentation."
   ]
  },
  {
   "cell_type": "markdown",
   "id": "bc54407b",
   "metadata": {},
   "source": [
    "---\n",
    "\n",
    "The following cell stores the exception instance that will be used as an example."
   ]
  },
  {
   "cell_type": "code",
   "execution_count": 14,
   "id": "22475872",
   "metadata": {},
   "outputs": [],
   "source": [
    "try:\n",
    "    10/0\n",
    "except Exception as e:\n",
    "    val = e "
   ]
  },
  {
   "cell_type": "markdown",
   "id": "029d90ac",
   "metadata": {},
   "source": [
    "It holds few attributes that actually hold all the information from which a typical traceback message can be constructed."
   ]
  },
  {
   "cell_type": "code",
   "execution_count": 31,
   "id": "472f8a83",
   "metadata": {},
   "outputs": [
    {
     "name": "stdout",
     "output_type": "stream",
     "text": [
      "<frame at 0x799ef7facca0, file '/tmp/ipykernel_8011/2685439381.py', line 4, code <module>>\n",
      "2\n",
      "8\n"
     ]
    }
   ],
   "source": [
    "traceback = val.__traceback__\n",
    "print(traceback.tb_frame)\n",
    "print(traceback.tb_lineno)\n",
    "print(traceback.tb_lasti)"
   ]
  },
  {
   "cell_type": "markdown",
   "id": "12f3ffb3",
   "metadata": {},
   "source": [
    "The following cell shows the use of the `traceback.format_exception` function to construct a typical traceback message."
   ]
  },
  {
   "cell_type": "code",
   "execution_count": 24,
   "id": "2eeaeafd",
   "metadata": {},
   "outputs": [
    {
     "name": "stdout",
     "output_type": "stream",
     "text": [
      "Traceback (most recent call last):\n",
      "  File \"/tmp/ipykernel_8011/2685439381.py\", line 2, in <module>\n",
      "    10/0\n",
      "    ~~^~\n",
      "ZeroDivisionError: division by zero\n",
      "\n"
     ]
    }
   ],
   "source": [
    "import traceback\n",
    "ans = traceback.format_exception(type(val), val, val.__traceback__)\n",
    "print(\"\".join(ans))"
   ]
  }
 ],
 "metadata": {
  "kernelspec": {
   "display_name": "python (3.13.5)",
   "language": "python",
   "name": "python3"
  },
  "language_info": {
   "codemirror_mode": {
    "name": "ipython",
    "version": 3
   },
   "file_extension": ".py",
   "mimetype": "text/x-python",
   "name": "python",
   "nbconvert_exporter": "python",
   "pygments_lexer": "ipython3",
   "version": "3.13.5"
  }
 },
 "nbformat": 4,
 "nbformat_minor": 5
}
