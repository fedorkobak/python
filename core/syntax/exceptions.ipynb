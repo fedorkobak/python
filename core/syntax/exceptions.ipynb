{
 "cells": [
  {
   "cell_type": "markdown",
   "id": "011f9c43-ee8e-4fb6-a01d-2d5bf019b5c4",
   "metadata": {},
   "source": [
    "# Exceptions\n",
    "\n",
    "Exceptions is a cases in program when it is syntactically correct but there some other cases doesn't expected to be normal.\n",
    "\n",
    "Check more on the:\n",
    "\n",
    "- [Errors and Exceptions](https://docs.python.org/3/tutorial/errors.html) page of the official documentation.\n",
    "- [Build it exceptions](https://docs.python.org/3/library/exceptions.html#bltin-exceptions) list with descriptions of the built-in python exceptions. "
   ]
  },
  {
   "cell_type": "markdown",
   "id": "e993512f-ecf0-4d7a-984a-b4d9aa416930",
   "metadata": {},
   "source": [
    "## Several exception types\n",
    "\n",
    "If you want to handle multiple exceptions for a block, you can use one of the following options:"
   ]
  },
  {
   "cell_type": "markdown",
   "id": "02bd8b7e-b33d-49e9-81a1-f135ccb52951",
   "metadata": {},
   "source": [
    "### Same `except` block\n",
    "\n",
    "To use the same code to handle different types of exceptions, you can simply mention them as tuples in the condition for the `except` block."
   ]
  },
  {
   "cell_type": "markdown",
   "id": "e4eaf411",
   "metadata": {},
   "source": [
    "---\n",
    "\n",
    "In the following example, a random exception type is displayed, but only three of four possible error types are mentioned in the `except` block. So I will only get a message from the `except` block until I get the unmentioned error type.\n",
    "\n",
    "I would like to emphasise once again that this is not done to handle all error types, there is a special design for this which is described [here](#default-except)."
   ]
  },
  {
   "cell_type": "code",
   "execution_count": 1,
   "id": "251540f4-a992-4045-a6d6-d0c6bc9cb408",
   "metadata": {},
   "outputs": [
    {
     "name": "stdout",
     "output_type": "stream",
     "text": [
      "====I got a type ZeroDivisionError====\n",
      "I handle all mentioned exceptions\n",
      "====I got a type TypeError====\n",
      "I handle all mentioned exceptions\n",
      "====I got a type ZeroDivisionError====\n",
      "I handle all mentioned exceptions\n",
      "====I got a type ZeroDivisionError====\n",
      "I handle all mentioned exceptions\n",
      "====I got a type IndexError====\n",
      "I handle all mentioned exceptions\n",
      "====I got a type NameError====\n"
     ]
    },
    {
     "ename": "NameError",
     "evalue": "name 'unknown_name' is not defined",
     "output_type": "error",
     "traceback": [
      "\u001b[31m---------------------------------------------------------------------------\u001b[39m",
      "\u001b[31mNameError\u001b[39m                                 Traceback (most recent call last)",
      "\u001b[36mCell\u001b[39m\u001b[36m \u001b[39m\u001b[32mIn[1]\u001b[39m\u001b[32m, line 15\u001b[39m\n\u001b[32m     13\u001b[39m     this_type = choice(error_types)\n\u001b[32m     14\u001b[39m     \u001b[38;5;28mprint\u001b[39m(\u001b[33mf\u001b[39m\u001b[33m\"\u001b[39m\u001b[33m====I got a type \u001b[39m\u001b[38;5;132;01m{\u001b[39;00mthis_type\u001b[38;5;132;01m}\u001b[39;00m\u001b[33m====\u001b[39m\u001b[33m\"\u001b[39m)\n\u001b[32m---> \u001b[39m\u001b[32m15\u001b[39m     \u001b[43mtry_functions\u001b[49m\u001b[43m[\u001b[49m\u001b[43mthis_type\u001b[49m\u001b[43m]\u001b[49m\u001b[43m(\u001b[49m\u001b[43m)\u001b[49m\n\u001b[32m     16\u001b[39m \u001b[38;5;28;01mexcept\u001b[39;00m (\u001b[38;5;167;01mZeroDivisionError\u001b[39;00m, \u001b[38;5;167;01mIndexError\u001b[39;00m, \u001b[38;5;167;01mTypeError\u001b[39;00m):\n\u001b[32m     17\u001b[39m     \u001b[38;5;28mprint\u001b[39m(\u001b[33m\"\u001b[39m\u001b[33mI handle all mentioned exceptions\u001b[39m\u001b[33m\"\u001b[39m)\n",
      "\u001b[36mCell\u001b[39m\u001b[36m \u001b[39m\u001b[32mIn[1]\u001b[39m\u001b[32m, line 7\u001b[39m, in \u001b[36m<lambda>\u001b[39m\u001b[34m()\u001b[39m\n\u001b[32m      1\u001b[39m \u001b[38;5;28;01mfrom\u001b[39;00m\u001b[38;5;250m \u001b[39m\u001b[34;01mrandom\u001b[39;00m\u001b[38;5;250m \u001b[39m\u001b[38;5;28;01mimport\u001b[39;00m choice\n\u001b[32m      2\u001b[39m test_lst = [\u001b[32m1\u001b[39m,\u001b[32m2\u001b[39m]\n\u001b[32m      3\u001b[39m try_functions = {\n\u001b[32m      4\u001b[39m     \u001b[33m\"\u001b[39m\u001b[33mZeroDivisionError\u001b[39m\u001b[33m\"\u001b[39m: \u001b[38;5;28;01mlambda\u001b[39;00m: \u001b[32m8\u001b[39m/\u001b[32m0\u001b[39m, \u001b[38;5;66;03m# \u001b[39;00m\n\u001b[32m      5\u001b[39m     \u001b[33m\"\u001b[39m\u001b[33mIndexError\u001b[39m\u001b[33m\"\u001b[39m : \u001b[38;5;28;01mlambda\u001b[39;00m: test_lst[\u001b[32m5\u001b[39m],\n\u001b[32m      6\u001b[39m     \u001b[33m\"\u001b[39m\u001b[33mTypeError\u001b[39m\u001b[33m\"\u001b[39m : \u001b[38;5;28;01mlambda\u001b[39;00m: \u001b[33m\"\u001b[39m\u001b[33mhello\u001b[39m\u001b[33m\"\u001b[39m + \u001b[32m4\u001b[39m,\n\u001b[32m----> \u001b[39m\u001b[32m7\u001b[39m     \u001b[33m\"\u001b[39m\u001b[33mNameError\u001b[39m\u001b[33m\"\u001b[39m : \u001b[38;5;28;01mlambda\u001b[39;00m: \u001b[43munknown_name\u001b[49m\n\u001b[32m      8\u001b[39m }\n\u001b[32m      9\u001b[39m error_types = \u001b[38;5;28mlist\u001b[39m(try_functions.keys())\n\u001b[32m     11\u001b[39m \u001b[38;5;28;01mfor\u001b[39;00m i \u001b[38;5;129;01min\u001b[39;00m \u001b[38;5;28mrange\u001b[39m(\u001b[32m10\u001b[39m):\n",
      "\u001b[31mNameError\u001b[39m: name 'unknown_name' is not defined"
     ]
    }
   ],
   "source": [
    "from random import choice\n",
    "test_lst = [1,2]\n",
    "try_functions = {\n",
    "    \"ZeroDivisionError\": lambda: 8/0, # \n",
    "    \"IndexError\" : lambda: test_lst[5],\n",
    "    \"TypeError\" : lambda: \"hello\" + 4,\n",
    "    \"NameError\" : lambda: unknown_name\n",
    "}\n",
    "error_types = list(try_functions.keys())\n",
    "\n",
    "for i in range(10):\n",
    "    try:\n",
    "        this_type = choice(error_types)\n",
    "        print(f\"====I got a type {this_type}====\")\n",
    "        try_functions[this_type]()\n",
    "    except (ZeroDivisionError, IndexError, TypeError):\n",
    "        print(\"I handle all mentioned exceptions\")"
   ]
  },
  {
   "cell_type": "markdown",
   "id": "167c3425-4e89-4d71-99b6-13d0d69bcebe",
   "metadata": {},
   "source": [
    "### Different `except` blocks\n",
    "\n",
    "You can set code to handle a particular type of error, and do it several times for a `try` block. All you have to do is mention several `except` blocks one after the other."
   ]
  },
  {
   "cell_type": "markdown",
   "id": "bf79dc62",
   "metadata": {},
   "source": [
    "---\n",
    "\n",
    "The following example, call random error in a loop, and different errors have different handlers. You can see that there is a specific message for each iteration."
   ]
  },
  {
   "cell_type": "code",
   "execution_count": 61,
   "id": "4aadb0f7-0a9a-4d90-899d-95e9af60fb63",
   "metadata": {},
   "outputs": [
    {
     "name": "stdout",
     "output_type": "stream",
     "text": [
      "====I got a type TypeError====\n",
      "This is wrong operations with types (third option)\n",
      "====I got a type ZeroDivisionError====\n",
      "This is divison by zero (first option)\n",
      "====I got a type TypeError====\n",
      "This is wrong operations with types (third option)\n",
      "====I got a type IndexError====\n",
      "This is wrong index (second option)\n",
      "====I got a type TypeError====\n",
      "This is wrong operations with types (third option)\n",
      "====I got a type TypeError====\n",
      "This is wrong operations with types (third option)\n",
      "====I got a type ZeroDivisionError====\n",
      "This is divison by zero (first option)\n",
      "====I got a type TypeError====\n",
      "This is wrong operations with types (third option)\n",
      "====I got a type ZeroDivisionError====\n",
      "This is divison by zero (first option)\n",
      "====I got a type TypeError====\n",
      "This is wrong operations with types (third option)\n"
     ]
    }
   ],
   "source": [
    "import numpy as np\n",
    "\n",
    "test_lst = [1,2]\n",
    "try_functions = {\n",
    "    \"ZeroDivisionError\": lambda: 8/0, # \n",
    "    \"IndexError\" : lambda: test_lst[5],\n",
    "    \"TypeError\" : lambda: \"hello\" + 4,\n",
    "}\n",
    "error_types = list(try_functions.keys())\n",
    "\n",
    "for i in range(10):\n",
    "    try:\n",
    "        this_type = np.random.choice(error_types)\n",
    "        print(f\"====I got a type {this_type}====\")\n",
    "        try_functions[this_type]()\n",
    "    except ZeroDivisionError:\n",
    "        print(\"This is divison by zero (first option)\")\n",
    "    except IndexError:\n",
    "        print(\"This is wrong index (second option)\")\n",
    "    except TypeError:\n",
    "        print(\"This is wrong operations with types (third option)\")"
   ]
  },
  {
   "cell_type": "markdown",
   "id": "99a2a04c-4b7b-4110-9e53-f923957af06a",
   "metadata": {},
   "source": [
    "### Ony one `exception` per type\n",
    "\n",
    "You can define any number of `except` blocks for the same exception type, but only the first one will be called."
   ]
  },
  {
   "cell_type": "markdown",
   "id": "70175300",
   "metadata": {},
   "source": [
    "---\n",
    "\n",
    "In the following example, even though is declared two codes for the `ZeroDivisionError` type exception, only the first one was executed."
   ]
  },
  {
   "cell_type": "code",
   "execution_count": 2,
   "id": "51af66de-0f70-457d-bea2-5f443b6e6a51",
   "metadata": {},
   "outputs": [
    {
     "name": "stdout",
     "output_type": "stream",
     "text": [
      "First code to handle exception\n"
     ]
    }
   ],
   "source": [
    "try:\n",
    "    1/0\n",
    "except ZeroDivisionError:\n",
    "    print(\"First code to handle exception\")\n",
    "except ZeroDivisionError:\n",
    "    print(\"Second code to handle exception\")"
   ]
  },
  {
   "cell_type": "markdown",
   "id": "330e4a32-f1fb-4125-9357-f50d0cc1e134",
   "metadata": {},
   "source": [
    "## default `except`\n",
    "\n",
    "You can run some code with any type of exception, just without specifying the type of exception in the corresponding `except` block."
   ]
  },
  {
   "cell_type": "markdown",
   "id": "d6168516-d13c-4d6c-93e3-e71573c922b6",
   "metadata": {},
   "source": [
    "---\n",
    "\n",
    "In the following example, I call random exceptions in a loop, and each of them is handled by an `except` block."
   ]
  },
  {
   "cell_type": "code",
   "execution_count": 5,
   "id": "5a9af848-e322-412c-8697-5cf4b28cf6af",
   "metadata": {},
   "outputs": [
    {
     "name": "stdout",
     "output_type": "stream",
     "text": [
      "====I got a type NameError====\n",
      "I handle all exceptions\n",
      "====I got a type TypeError====\n",
      "I handle all exceptions\n",
      "====I got a type NameError====\n",
      "I handle all exceptions\n",
      "====I got a type NameError====\n",
      "I handle all exceptions\n",
      "====I got a type NameError====\n",
      "I handle all exceptions\n",
      "====I got a type TypeError====\n",
      "I handle all exceptions\n",
      "====I got a type ZeroDivisionError====\n",
      "I handle all exceptions\n",
      "====I got a type IndexError====\n",
      "I handle all exceptions\n",
      "====I got a type ZeroDivisionError====\n",
      "I handle all exceptions\n",
      "====I got a type IndexError====\n",
      "I handle all exceptions\n"
     ]
    }
   ],
   "source": [
    "from random import choice\n",
    "\n",
    "test_lst = [1,2]\n",
    "try_functions = {\n",
    "    \"ZeroDivisionError\": lambda: 8/0, # \n",
    "    \"IndexError\" : lambda: test_lst[5],\n",
    "    \"TypeError\" : lambda: \"hello\" + 4,\n",
    "    \"NameError\" : lambda: unknown_name\n",
    "}\n",
    "error_types = list(try_functions.keys())\n",
    "\n",
    "\n",
    "for i in range(10):\n",
    "    try:\n",
    "        this_type = choice(error_types)\n",
    "        print(f\"====I got a type {this_type}====\")\n",
    "        try_functions[this_type]()\n",
    "    except:\n",
    "        print(\"I handle all exceptions\")"
   ]
  },
  {
   "cell_type": "markdown",
   "id": "6e0959dd-20bb-4810-b8f2-e34d2b3c7598",
   "metadata": {},
   "source": [
    "**Note** that default `except` must be placed last.\n",
    "\n",
    "So it's not possible if the default `except` hadnle all exceptions, even if you specify some specific ones - specific ones always have priority.\n",
    "\n",
    "In the following example, I am trying to place a specific exception after the default exception, but I am getting a syntax error."
   ]
  },
  {
   "cell_type": "code",
   "execution_count": 56,
   "id": "7a7a7154-5c6a-4eac-aa03-57c4a99499e1",
   "metadata": {},
   "outputs": [
    {
     "ename": "SyntaxError",
     "evalue": "default 'except:' must be last (1507528251.py, line 3)",
     "output_type": "error",
     "traceback": [
      "\u001b[0;36m  Cell \u001b[0;32mIn[56], line 3\u001b[0;36m\u001b[0m\n\u001b[0;31m    except:\u001b[0m\n\u001b[0m    ^\u001b[0m\n\u001b[0;31mSyntaxError\u001b[0m\u001b[0;31m:\u001b[0m default 'except:' must be last\n"
     ]
    }
   ],
   "source": [
    "try:\n",
    "    \"str\" + 1\n",
    "except:\n",
    "    print(\"I handle all exceptions\")\n",
    "except TypeError:\n",
    "    print(\"I handle type error\")"
   ]
  },
  {
   "cell_type": "markdown",
   "id": "e23a2e8b-1e4f-43d2-b0d3-6dcaa6bbb12e",
   "metadata": {},
   "source": [
    "## Except variable\n",
    "\n",
    "In the except clause, you can be specify  a variable that will hold the instance of the exception that occurred - you must use the syntax `except <Exception> as <variable name>` as the result in the corresponding block can implement logic that works with `<variable name>`. This variable will refer to the instance of the exception that occurred. "
   ]
  },
  {
   "cell_type": "markdown",
   "id": "283f25dd",
   "metadata": {},
   "source": [
    "---\n",
    "\n",
    "The following cell shows how different exceptions pass the corresponding object to the variable of the `except` block."
   ]
  },
  {
   "cell_type": "code",
   "execution_count": 3,
   "id": "0df6f963-f03d-48ff-8022-3b0a8264c7a0",
   "metadata": {},
   "outputs": [
    {
     "name": "stdout",
     "output_type": "stream",
     "text": [
      "<class 'ZeroDivisionError'>\n",
      "error type: division by zero\n",
      "<class 'TypeError'>\n",
      "error type: can only concatenate str (not \"int\") to str\n"
     ]
    }
   ],
   "source": [
    "try_functions = [\n",
    "    lambda: 8/0,\n",
    "    lambda: \"hello\" + 4\n",
    "]\n",
    "\n",
    "for fun in try_functions:\n",
    "    try:\n",
    "        fun()\n",
    "        print(\"no error\")\n",
    "    except Exception as e:\n",
    "        print(type(e))\n",
    "        print(\"error type:\", e)"
   ]
  },
  {
   "cell_type": "markdown",
   "id": "68b6a45f",
   "metadata": {},
   "source": [
    "### From sys\n",
    "\n",
    "In the `sys` built-in python module, there are two functions, `sys.exception()` and `sys.exc_info()`, which can also provide information about exceptions that have occurred. See the corresponding [section of the official documentation](https://docs.python.org/3/library/sys.html#sys.exception) for more information."
   ]
  },
  {
   "cell_type": "markdown",
   "id": "b6bd4430",
   "metadata": {},
   "source": [
    "---\n",
    "\n",
    "The following cell shows that `sys.exception` returns exactly the same object of the exception."
   ]
  },
  {
   "cell_type": "code",
   "execution_count": null,
   "id": "3d1b1351",
   "metadata": {},
   "outputs": [
    {
     "name": "stdout",
     "output_type": "stream",
     "text": [
      "True\n"
     ]
    }
   ],
   "source": [
    "import sys\n",
    "\n",
    "try: 9/0\n",
    "except Exception as e: print(sys.exception() is e) "
   ]
  },
  {
   "cell_type": "markdown",
   "id": "d42def36",
   "metadata": {},
   "source": [
    "`sys.exc_info` is an old fashioned function that returns a tuple with different compoments of the exception."
   ]
  },
  {
   "cell_type": "code",
   "execution_count": 9,
   "id": "4b4b0420",
   "metadata": {},
   "outputs": [
    {
     "name": "stdout",
     "output_type": "stream",
     "text": [
      "(<class 'TypeError'>, TypeError('can only concatenate str (not \"int\") to str'), <traceback object at 0x799ef7ff6200>)\n"
     ]
    }
   ],
   "source": [
    "try: \"10\" + 10\n",
    "except: print(sys.exc_info())"
   ]
  }
 ],
 "metadata": {
  "kernelspec": {
   "display_name": "python",
   "language": "python",
   "name": "python3"
  },
  "language_info": {
   "codemirror_mode": {
    "name": "ipython",
    "version": 3
   },
   "file_extension": ".py",
   "mimetype": "text/x-python",
   "name": "python",
   "nbconvert_exporter": "python",
   "pygments_lexer": "ipython3",
   "version": "3.12.9"
  }
 },
 "nbformat": 4,
 "nbformat_minor": 5
}
