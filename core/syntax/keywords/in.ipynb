{
 "cells": [
  {
   "cell_type": "markdown",
   "id": "76cea607-8a23-4faf-bb56-e310c5446175",
   "metadata": {},
   "source": [
    "# Is in array (in)"
   ]
  },
  {
   "cell_type": "markdown",
   "id": "96b5b32f-a5ef-4a3b-8415-0fb2d8267432",
   "metadata": {},
   "source": [
    "This keyword allows you to check an element in an array."
   ]
  },
  {
   "cell_type": "markdown",
   "id": "5c363fa1-b3fb-4d87-a57f-98728709b9c3",
   "metadata": {},
   "source": [
    "## list"
   ]
  },
  {
   "cell_type": "code",
   "execution_count": 12,
   "id": "c4cb4961-e904-4f42-a79c-5374663cf5c8",
   "metadata": {},
   "outputs": [
    {
     "name": "stdout",
     "output_type": "stream",
     "text": [
      "True\n",
      "False\n"
     ]
    }
   ],
   "source": [
    "test_list = [1,2,3,4,5] \n",
    "print(5 in test_list)\n",
    "print(6 in test_list)"
   ]
  },
  {
   "cell_type": "markdown",
   "id": "a5fc938c-adb2-4b67-9fcd-3fe804290a0c",
   "metadata": {},
   "source": [
    "## tuple"
   ]
  },
  {
   "cell_type": "code",
   "execution_count": 13,
   "id": "75378e19-5255-430b-b9c9-a1eea939864f",
   "metadata": {},
   "outputs": [
    {
     "name": "stdout",
     "output_type": "stream",
     "text": [
      "True\n",
      "False\n"
     ]
    }
   ],
   "source": [
    "test_tuple = (1,2,3,4,5)\n",
    "print(5 in test_tuple)\n",
    "print(6 in test_tuple)"
   ]
  },
  {
   "cell_type": "markdown",
   "id": "cf4b144b-ce13-4ac4-a5d8-02f1c2bf6c05",
   "metadata": {},
   "source": [
    "## str"
   ]
  },
  {
   "cell_type": "code",
   "execution_count": 15,
   "id": "306f66dd-c56b-47dc-9257-5a04254a7ca4",
   "metadata": {},
   "outputs": [
    {
     "name": "stdout",
     "output_type": "stream",
     "text": [
      "True\n",
      "False\n"
     ]
    }
   ],
   "source": [
    "test_str = \"this is the test str contains subline to check it\"\n",
    "\n",
    "print(\"subline\" in test_str)\n",
    "print(\"subliner\" in test_str)"
   ]
  },
  {
   "cell_type": "markdown",
   "id": "cc658076-8906-41c5-9605-623bb69b4be8",
   "metadata": {},
   "source": [
    "## dict"
   ]
  },
  {
   "cell_type": "markdown",
   "id": "7e8404b0-fc0f-4a3c-8609-b1b83165bb3b",
   "metadata": {},
   "source": [
    "Checks if the element on the left side of `in` is **in the keys** (not values) of the dictionary on the right side of `in`."
   ]
  },
  {
   "cell_type": "code",
   "execution_count": 1,
   "id": "74c140f1-affa-4408-9637-37e22a211af0",
   "metadata": {},
   "outputs": [
    {
     "name": "stdout",
     "output_type": "stream",
     "text": [
      "True\n",
      "False\n"
     ]
    }
   ],
   "source": [
    "test_dict = {\"a\":1, \"b\":2}\n",
    "print(\"a\" in test_dict)\n",
    "print(1 in test_dict)"
   ]
  },
  {
   "cell_type": "markdown",
   "id": "78311ced-7198-4271-a9dd-e1356700bd99",
   "metadata": {},
   "source": [
    "## `not in`\n",
    "\n",
    "This operator returns `True` if the collection from the right side of the operator contains the value from the left side of the operator, otherwise it returns `False`.\n",
    "\n",
    "Looks like it's syntax sugar, because now I don't see any cases where it differs from the expression `not (<value> in <collection>)`. The following example supports this idea."
   ]
  },
  {
   "cell_type": "code",
   "execution_count": 9,
   "id": "48286734-a0dd-41b2-bcab-a24fd1674459",
   "metadata": {},
   "outputs": [
    {
     "name": "stdout",
     "output_type": "stream",
     "text": [
      "False\n",
      "False\n"
     ]
    }
   ],
   "source": [
    "example_collection = [\"a\", \"b\", \"c\"]\n",
    "\n",
    "print(not (\"a\" in example_collection)) \n",
    "print(\"a\" not in example_collection)"
   ]
  }
 ],
 "metadata": {
  "kernelspec": {
   "display_name": "Python 3 (ipykernel)",
   "language": "python",
   "name": "python3"
  },
  "language_info": {
   "codemirror_mode": {
    "name": "ipython",
    "version": 3
   },
   "file_extension": ".py",
   "mimetype": "text/x-python",
   "name": "python",
   "nbconvert_exporter": "python",
   "pygments_lexer": "ipython3",
   "version": "3.10.12"
  }
 },
 "nbformat": 4,
 "nbformat_minor": 5
}
