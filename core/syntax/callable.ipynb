{
 "cells": [
  {
   "cell_type": "markdown",
   "id": "c7db179a-76e1-4a9b-8b2d-e235489fb841",
   "metadata": {},
   "source": [
    "# Callable\n",
    "\n",
    "A function in Python is a reusable block of code that performs a specific task. It can be executed with different sets of arguments, allowing for code abstraction and modularity by encapsulating operations into a single, callable unit."
   ]
  },
  {
   "cell_type": "markdown",
   "id": "bde5eca5",
   "metadata": {},
   "source": [
    "## Parameters\n",
    "\n",
    "A named entity in a function (or method) definition that specifies an argument (or in some cases, arguments) that the function can accept.\n",
    "\n",
    "Find out more:\n",
    "- In the [specific part of the official documentation](https://docs.python.org/3/glossary.html#term-parameter).\n",
    "- [Parameters](functions/parameters.ipynb) page.\n",
    "\n",
    "There are such types of parameters in python:\n",
    "\n",
    "| Name                  | Description                                                                 | Syntax                                                      |\n",
    "|-----------------------|-----------------------------------------------------------------------------|-------------------------------------------------------------|\n",
    "| *Positional-only*     | Parameters that can be specified only positionally.                        | Parameters before the symbol `/`                            |\n",
    "| *Positional-or-keyword*| Can be specified positionally as well as through keyword arguments.         | Default parameters of the function                           |\n",
    "| *Var-positional*      | Parameter that takes values of all positional arguments that don't correspond to the *positional-only* or *positional-or-keyword* parameters. | Parameter name begins with the `*` symbol; typical option is `*args` |\n",
    "| *Keyword-only*        | Can be specified only through keyword arguments.                           | Parameters that follow the *Var-positional* argument or just `*` |\n",
    "| *Var-keyword*         | Parameter that takes values of all keyword arguments that don't correspond to the *positional-or-keyword* or *keyword-only* parameters. | Parameter name begins with `**`; typical option is `**kwargs` |\n",
    "\n",
    "You can define **default values** for parameters just by using syntax `<parameter>=<default value>`. But of you have defined default values for *positional-only* or for `positional-or-keyword` parameter all following parameters of these groups should have default values. "
   ]
  },
  {
   "cell_type": "markdown",
   "id": "ccfd8d5c",
   "metadata": {},
   "source": [
    "---\n",
    "\n",
    "The following cell shows the definition of a function that contains all types of parameters, with default values defined for some of them, arranged in a way that forms a valid Python expression."
   ]
  },
  {
   "cell_type": "code",
   "execution_count": null,
   "id": "8d14a6f8",
   "metadata": {},
   "outputs": [],
   "source": [
    "def some_function(\n",
    "    positional_only1,\n",
    "    positional_only2,\n",
    "    /,\n",
    "    positional1,\n",
    "    positional2=None,\n",
    "    *args,\n",
    "    keyword_only1=None,\n",
    "    keyword_only2,\n",
    "    **kwargs \n",
    "):\n",
    "    pass"
   ]
  }
 ],
 "metadata": {
  "kernelspec": {
   "display_name": "Python 3 (ipykernel)",
   "language": "python",
   "name": "python3"
  },
  "language_info": {
   "codemirror_mode": {
    "name": "ipython",
    "version": 3
   },
   "file_extension": ".py",
   "mimetype": "text/x-python",
   "name": "python",
   "nbconvert_exporter": "python",
   "pygments_lexer": "ipython3",
   "version": "3.10.14"
  }
 },
 "nbformat": 4,
 "nbformat_minor": 5
}
