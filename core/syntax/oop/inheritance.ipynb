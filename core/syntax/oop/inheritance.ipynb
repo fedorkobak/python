{
 "cells": [
  {
   "cell_type": "markdown",
   "id": "0f67b0e4",
   "metadata": {},
   "source": [
    "# Inheritance\n",
    "\n",
    "This page disscusses various features of the python related to inheritance."
   ]
  },
  {
   "cell_type": "markdown",
   "id": "b937ce4e",
   "metadata": {},
   "source": [
    "## Child defining logic\n",
    "\n",
    "You can define some custom logic for the creating for the child classes by using the `__init_subclass__` method.\n",
    "\n",
    "Check [official description](https://docs.python.org/3/reference/datamodel.html#object.__init_subclass__) of the method."
   ]
  },
  {
   "cell_type": "markdown",
   "id": "5b000248",
   "metadata": {},
   "source": [
    "---\n",
    "\n",
    "The following cell creates a `Parent` class that makes all it's child classes to print themselves just the moment they are defined."
   ]
  },
  {
   "cell_type": "code",
   "execution_count": 12,
   "id": "d1683bfa",
   "metadata": {},
   "outputs": [],
   "source": [
    "class Parent:\n",
    "    def __init_subclass__(cls):\n",
    "        super().__init_subclass__()\n",
    "        print(\"My type is:\", cls)"
   ]
  },
  {
   "cell_type": "markdown",
   "id": "b1b855e4",
   "metadata": {},
   "source": [
    "The following cell shows the process of inheriting the `Parent` class."
   ]
  },
  {
   "cell_type": "code",
   "execution_count": 13,
   "id": "3a0a066b",
   "metadata": {},
   "outputs": [
    {
     "name": "stdout",
     "output_type": "stream",
     "text": [
      "My type is: <class '__main__.Child'>\n"
     ]
    }
   ],
   "source": [
    "class Child(Parent): pass"
   ]
  },
  {
   "cell_type": "markdown",
   "id": "0e0ba66e",
   "metadata": {},
   "source": [
    "As a result, it prints the object that holds the `Child` class."
   ]
  },
  {
   "cell_type": "markdown",
   "id": "4b9804e4",
   "metadata": {},
   "source": [
    "### Required attributes\n",
    "\n",
    "A common pattern for using these features is to define attributes that need be implemented in the child classes."
   ]
  },
  {
   "cell_type": "markdown",
   "id": "525ec548",
   "metadata": {},
   "source": [
    "---\n",
    "\n",
    "The following cell implements in the `__init_subclass__` code that checks if the `foo` attribute is defined in the child classes and throws `NotImplementedError` if it is not."
   ]
  },
  {
   "cell_type": "code",
   "execution_count": 20,
   "id": "e93c1866",
   "metadata": {},
   "outputs": [],
   "source": [
    "class Parent:\n",
    "    def __init_subclass__(cls):\n",
    "        if not hasattr(cls, 'foo'):\n",
    "            raise NotImplementedError(\"foo is not implemented\")"
   ]
  },
  {
   "cell_type": "markdown",
   "id": "dbfb749e",
   "metadata": {},
   "source": [
    "The following cell shows how the creation of the Fail(Parent) class that doesn't define the foo attribute fails."
   ]
  },
  {
   "cell_type": "code",
   "execution_count": 22,
   "id": "e0bdaf90",
   "metadata": {},
   "outputs": [
    {
     "name": "stdout",
     "output_type": "stream",
     "text": [
      "foo is not implemented\n"
     ]
    }
   ],
   "source": [
    "try: \n",
    "    class Fail(Parent): pass\n",
    "except NotImplementedError as e:\n",
    "    print(e)"
   ]
  },
  {
   "cell_type": "markdown",
   "id": "4d139dc1",
   "metadata": {},
   "source": [
    "The next code shows the creation of the child that implements the `foo` attribute - all goes well."
   ]
  },
  {
   "cell_type": "code",
   "execution_count": 17,
   "id": "3a3b586b",
   "metadata": {},
   "outputs": [],
   "source": [
    "class Ok(Parent):\n",
    "    foo = 42"
   ]
  }
 ],
 "metadata": {
  "kernelspec": {
   "display_name": "python",
   "language": "python",
   "name": "python3"
  },
  "language_info": {
   "codemirror_mode": {
    "name": "ipython",
    "version": 3
   },
   "file_extension": ".py",
   "mimetype": "text/x-python",
   "name": "python",
   "nbconvert_exporter": "python",
   "pygments_lexer": "ipython3",
   "version": "3.12.9"
  }
 },
 "nbformat": 4,
 "nbformat_minor": 5
}
