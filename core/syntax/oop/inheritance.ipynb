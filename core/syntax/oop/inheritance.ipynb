{
 "cells": [
  {
   "cell_type": "markdown",
   "id": "0f67b0e4",
   "metadata": {},
   "source": [
    "# Inheritance\n",
    "\n",
    "This page disscusses various features of the python related to inheritance.\n",
    "\n",
    "You can find helpful details in the [Classes](https://docs.python.org/3/tutorial/classes.html) python tutorial."
   ]
  },
  {
   "cell_type": "markdown",
   "id": "d3f8d883",
   "metadata": {},
   "source": [
    "## Linearization\n",
    "\n",
    "Sometimes in the python literature the term \"linearization\". Linearization is an ordered list of classes where each class searches for attributes and takes an attribute from the first class in which it appears.\n",
    "\n",
    "Python classes keep their linearization in the `__mro__` attribute."
   ]
  },
  {
   "cell_type": "markdown",
   "id": "012ae250",
   "metadata": {},
   "source": [
    "---\n",
    "\n",
    "The following cell shows the output of the `__mro__` attribute for the `int` type."
   ]
  },
  {
   "cell_type": "code",
   "execution_count": 2,
   "id": "d8391821",
   "metadata": {},
   "outputs": [
    {
     "data": {
      "text/plain": [
       "(int, object)"
      ]
     },
     "execution_count": 2,
     "metadata": {},
     "output_type": "execute_result"
    }
   ],
   "source": [
    "int.__mro__"
   ]
  },
  {
   "cell_type": "markdown",
   "id": "4a377a35",
   "metadata": {},
   "source": [
    "Or more complex linearization for the `sklearn.linear_model.LinearRegresssion`."
   ]
  },
  {
   "cell_type": "code",
   "execution_count": 3,
   "id": "453104ac",
   "metadata": {},
   "outputs": [
    {
     "data": {
      "text/plain": [
       "(sklearn.linear_model._base.LinearRegression,\n",
       " sklearn.base.MultiOutputMixin,\n",
       " sklearn.base.RegressorMixin,\n",
       " sklearn.linear_model._base.LinearModel,\n",
       " sklearn.base.BaseEstimator,\n",
       " sklearn.utils._estimator_html_repr._HTMLDocumentationLinkMixin,\n",
       " sklearn.utils._metadata_requests._MetadataRequester,\n",
       " object)"
      ]
     },
     "execution_count": 3,
     "metadata": {},
     "output_type": "execute_result"
    }
   ],
   "source": [
    "from sklearn.linear_model import LinearRegression\n",
    "LinearRegression.__mro__"
   ]
  },
  {
   "cell_type": "markdown",
   "id": "080edc74",
   "metadata": {},
   "source": [
    "## Multiple inheritance\n",
    "\n",
    "In python you are able to inherit your class from multiple classes. But with this feature come some complexity - it's hard to define the order of searching for attributes in the ancestors.\n",
    "\n",
    "There is a detailed explanation of how it works in modern python, as well as a justification for why it is done this way on this page [Method Resolution Order](https://docs.python.org/3/howto/mro.html#python-2-3-mro)."
   ]
  },
  {
   "cell_type": "markdown",
   "id": "15beffec",
   "metadata": {},
   "source": [
    "---"
   ]
  },
  {
   "cell_type": "code",
   "execution_count": null,
   "id": "02629ae9",
   "metadata": {},
   "outputs": [],
   "source": []
  },
  {
   "cell_type": "markdown",
   "id": "b937ce4e",
   "metadata": {},
   "source": [
    "## Child defining logic\n",
    "\n",
    "You can define some custom logic for the creating for the child classes by using the `__init_subclass__` method.\n",
    "\n",
    "Check [official description](https://docs.python.org/3/reference/datamodel.html#object.__init_subclass__) of the method."
   ]
  },
  {
   "cell_type": "markdown",
   "id": "5b000248",
   "metadata": {},
   "source": [
    "---\n",
    "\n",
    "The following cell creates a `Parent` class that makes all it's child classes to print themselves just the moment they are defined."
   ]
  },
  {
   "cell_type": "code",
   "execution_count": 12,
   "id": "d1683bfa",
   "metadata": {},
   "outputs": [],
   "source": [
    "class Parent:\n",
    "    def __init_subclass__(cls):\n",
    "        super().__init_subclass__()\n",
    "        print(\"My type is:\", cls)"
   ]
  },
  {
   "cell_type": "markdown",
   "id": "b1b855e4",
   "metadata": {},
   "source": [
    "The following cell shows the process of inheriting the `Parent` class."
   ]
  },
  {
   "cell_type": "code",
   "execution_count": 13,
   "id": "3a0a066b",
   "metadata": {},
   "outputs": [
    {
     "name": "stdout",
     "output_type": "stream",
     "text": [
      "My type is: <class '__main__.Child'>\n"
     ]
    }
   ],
   "source": [
    "class Child(Parent): pass"
   ]
  },
  {
   "cell_type": "markdown",
   "id": "0e0ba66e",
   "metadata": {},
   "source": [
    "As a result, it prints the object that holds the `Child` class."
   ]
  },
  {
   "cell_type": "markdown",
   "id": "4b9804e4",
   "metadata": {},
   "source": [
    "### Required attributes\n",
    "\n",
    "A common pattern for using these features is to define attributes that need be implemented in the child classes."
   ]
  },
  {
   "cell_type": "markdown",
   "id": "525ec548",
   "metadata": {},
   "source": [
    "---\n",
    "\n",
    "The following cell implements in the `__init_subclass__` code that checks if the `foo` attribute is defined in the child classes and throws `NotImplementedError` if it is not."
   ]
  },
  {
   "cell_type": "code",
   "execution_count": 20,
   "id": "e93c1866",
   "metadata": {},
   "outputs": [],
   "source": [
    "class Parent:\n",
    "    def __init_subclass__(cls):\n",
    "        if not hasattr(cls, 'foo'):\n",
    "            raise NotImplementedError(\"foo is not implemented\")"
   ]
  },
  {
   "cell_type": "markdown",
   "id": "dbfb749e",
   "metadata": {},
   "source": [
    "The following cell shows how the creation of the Fail(Parent) class that doesn't define the foo attribute fails."
   ]
  },
  {
   "cell_type": "code",
   "execution_count": 22,
   "id": "e0bdaf90",
   "metadata": {},
   "outputs": [
    {
     "name": "stdout",
     "output_type": "stream",
     "text": [
      "foo is not implemented\n"
     ]
    }
   ],
   "source": [
    "try: \n",
    "    class Fail(Parent): pass\n",
    "except NotImplementedError as e:\n",
    "    print(e)"
   ]
  },
  {
   "cell_type": "markdown",
   "id": "4d139dc1",
   "metadata": {},
   "source": [
    "The next code shows the creation of the child that implements the `foo` attribute - all goes well."
   ]
  },
  {
   "cell_type": "code",
   "execution_count": 17,
   "id": "3a3b586b",
   "metadata": {},
   "outputs": [],
   "source": [
    "class Ok(Parent):\n",
    "    foo = 42"
   ]
  }
 ],
 "metadata": {
  "kernelspec": {
   "display_name": "src",
   "language": "python",
   "name": "python3"
  },
  "language_info": {
   "codemirror_mode": {
    "name": "ipython",
    "version": 3
   },
   "file_extension": ".py",
   "mimetype": "text/x-python",
   "name": "python",
   "nbconvert_exporter": "python",
   "pygments_lexer": "ipython3",
   "version": "3.12.9"
  }
 },
 "nbformat": 4,
 "nbformat_minor": 5
}
