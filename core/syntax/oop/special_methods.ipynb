{
 "cells": [
  {
   "cell_type": "markdown",
   "metadata": {},
   "source": [
    "# Special methods\n",
    "\n",
    "A class can hold methods that define its behavior in common cases in Python. These methods usually start and end with double underscores (`__<name>__`)."
   ]
  },
  {
   "cell_type": "markdown",
   "metadata": {},
   "source": [
    "## Indexing\n",
    "\n",
    "There are three methods that organise how the class would behave when the indexing operator `[]` is applied to the instance: `__getitem__`, `__setitem__`, `__delitem__`. Their names clearly describe the idea behind them."
   ]
  },
  {
   "cell_type": "markdown",
   "metadata": {},
   "source": [
    "---\n",
    "\n",
    "The next cell shows the implementation of the class that shows the appropriate information for each of the methods."
   ]
  },
  {
   "cell_type": "code",
   "execution_count": null,
   "metadata": {},
   "outputs": [],
   "source": [
    "class Test:\n",
    "    def __setitem__(self, key, value):\n",
    "        print(f\"Set item called with {key} - {value}\")\n",
    "    \n",
    "    def __getitem__(self, key):\n",
    "        print(f\"getitem is called with {key}\")\n",
    "        return \"dummy item\"\n",
    "    \n",
    "    def __delitem__(self, key):\n",
    "        print(f\"delitem is called with {key}\")"
   ]
  },
  {
   "cell_type": "markdown",
   "metadata": {},
   "source": [
    "And here is the creation of the instance and all the manipulations that trigger the methods that we are now focusing on."
   ]
  },
  {
   "cell_type": "code",
   "execution_count": 33,
   "metadata": {},
   "outputs": [
    {
     "name": "stdout",
     "output_type": "stream",
     "text": [
      "Set item called with 40 - 4\n",
      "getitem is called with wow\n",
      "dummy item\n",
      "delitem is called with 3.14\n"
     ]
    }
   ],
   "source": [
    "test = Test()\n",
    "\n",
    "test[40] = 4\n",
    "print(test[\"wow\"])\n",
    "del test[3.14]"
   ]
  },
  {
   "cell_type": "markdown",
   "metadata": {},
   "source": [
    "**Note:** if you want to handle slices in your objects just write code to handle python `slice` object. The following code passes `3:` to the indexing operator."
   ]
  },
  {
   "cell_type": "code",
   "execution_count": 34,
   "metadata": {},
   "outputs": [
    {
     "name": "stdout",
     "output_type": "stream",
     "text": [
      "getitem is called with slice(3, None, None)\n"
     ]
    },
    {
     "data": {
      "text/plain": [
       "'dummy item'"
      ]
     },
     "execution_count": 34,
     "metadata": {},
     "output_type": "execute_result"
    }
   ],
   "source": [
    "Test()[3:]"
   ]
  },
  {
   "cell_type": "markdown",
   "metadata": {},
   "source": [
    "The result there is the `slice` object passed to the corresponding method."
   ]
  },
  {
   "cell_type": "markdown",
   "metadata": {},
   "source": [
    "## Iteration protocol\n",
    "\n",
    "To organise ability to iterate over your object you basically need to define the `__iter__` method. It will be called each time the object is passed to the `iter` build in function or used in `for` cycle.\n",
    "\n",
    "The returned object is typically have `__next__`. This method is called on every iteration. In particular case `__iter__` can return `self`, but for that case `__next__` have to be defined in the class.\n",
    "\n",
    "**Note:** python understands when to stop iteration by raising `StopIteration` exception. So you need to raise it inside the `__next__` method when object needs to stop iterations according to your logic.\n",
    "\n",
    "Check more at corresponding [iterator section](https://docs.python.org/3/glossary.html#term-iterator) of the official documentation."
   ]
  },
  {
   "cell_type": "markdown",
   "metadata": {},
   "source": [
    "---\n",
    "\n",
    "The following cell implements the class that will have the specified during creation number of iterations."
   ]
  },
  {
   "cell_type": "code",
   "execution_count": 47,
   "metadata": {},
   "outputs": [],
   "source": [
    "class IterationExample:\n",
    "    \n",
    "    def __init__(self, max_iterations):\n",
    "        self.iteration = 0\n",
    "        self.max_iterations = max_iterations\n",
    "\n",
    "    def __iter__(self):\n",
    "        print(\"__iter__ is called\")\n",
    "        return self\n",
    "    \n",
    "    def __next__(self):\n",
    "        print(\"__next__ is called\")\n",
    "\n",
    "        if self.iteration >= self.max_iterations:\n",
    "            print(\"Stop iteration is raised\")\n",
    "            raise StopIteration\n",
    "        \n",
    "        self.iteration += 1\n",
    "        return self.iteration"
   ]
  },
  {
   "cell_type": "markdown",
   "metadata": {},
   "source": [
    "Now apply the `for` cycle to the instance of that class."
   ]
  },
  {
   "cell_type": "code",
   "execution_count": 48,
   "metadata": {},
   "outputs": [
    {
     "name": "stdout",
     "output_type": "stream",
     "text": [
      "__iter__ is called\n",
      "__next__ is called\n",
      "__next__ is called\n",
      "__next__ is called\n",
      "__next__ is called\n",
      "Stop iteration is raised\n"
     ]
    }
   ],
   "source": [
    "for i in IterationExample(3):\n",
    "    pass"
   ]
  },
  {
   "cell_type": "markdown",
   "metadata": {},
   "source": [
    "**Note** `__iter__` that retuns objects that do't implement `__next__` make no sence, as python checks this detail."
   ]
  },
  {
   "cell_type": "code",
   "execution_count": 50,
   "metadata": {},
   "outputs": [
    {
     "ename": "TypeError",
     "evalue": "iter() returned non-iterator of type 'Fail'",
     "output_type": "error",
     "traceback": [
      "\u001b[31m---------------------------------------------------------------------------\u001b[39m",
      "\u001b[31mTypeError\u001b[39m                                 Traceback (most recent call last)",
      "\u001b[36mCell\u001b[39m\u001b[36m \u001b[39m\u001b[32mIn[50]\u001b[39m\u001b[32m, line 5\u001b[39m\n\u001b[32m      2\u001b[39m     \u001b[38;5;28;01mdef\u001b[39;00m\u001b[38;5;250m \u001b[39m\u001b[34m__iter__\u001b[39m(\u001b[38;5;28mself\u001b[39m):\n\u001b[32m      3\u001b[39m         \u001b[38;5;28;01mreturn\u001b[39;00m \u001b[38;5;28mself\u001b[39m\n\u001b[32m----> \u001b[39m\u001b[32m5\u001b[39m \u001b[38;5;28;43miter\u001b[39;49m\u001b[43m(\u001b[49m\u001b[43mFail\u001b[49m\u001b[43m(\u001b[49m\u001b[43m)\u001b[49m\u001b[43m)\u001b[49m\n",
      "\u001b[31mTypeError\u001b[39m: iter() returned non-iterator of type 'Fail'"
     ]
    }
   ],
   "source": [
    "class Fail:\n",
    "    def __iter__(self):\n",
    "        return self\n",
    "\n",
    "iter(Fail())"
   ]
  },
  {
   "cell_type": "markdown",
   "metadata": {},
   "source": [
    "## Switch number system\n",
    "\n",
    "There is a special `__index__` special method that determines the behaviour of the object if programm tries to apply `bin`, `oct` or `hex` fucntions to it. `__index__` just have to return regular python integer and converting of that number to the corresponding number system will be the result."
   ]
  },
  {
   "cell_type": "markdown",
   "metadata": {},
   "source": [
    "---\n",
    "\n",
    "The following cell defines the class that returns from the index number specified in the constructor of the object."
   ]
  },
  {
   "cell_type": "code",
   "execution_count": 51,
   "metadata": {},
   "outputs": [],
   "source": [
    "class NSTest:\n",
    "    def __init__(self, my_number):\n",
    "        self.my_number = my_number\n",
    "    \n",
    "    def __index__(self):\n",
    "        return self.my_number"
   ]
  },
  {
   "cell_type": "markdown",
   "metadata": {},
   "source": [
    "The following code shows the result for different number systems and input numbers."
   ]
  },
  {
   "cell_type": "code",
   "execution_count": 52,
   "metadata": {},
   "outputs": [
    {
     "data": {
      "text/plain": [
       "'0b11'"
      ]
     },
     "execution_count": 52,
     "metadata": {},
     "output_type": "execute_result"
    }
   ],
   "source": [
    "bin(NSTest(3))"
   ]
  },
  {
   "cell_type": "code",
   "execution_count": 54,
   "metadata": {},
   "outputs": [
    {
     "data": {
      "text/plain": [
       "'0o12'"
      ]
     },
     "execution_count": 54,
     "metadata": {},
     "output_type": "execute_result"
    }
   ],
   "source": [
    "oct(NSTest(10))"
   ]
  },
  {
   "cell_type": "code",
   "execution_count": 57,
   "metadata": {},
   "outputs": [
    {
     "data": {
      "text/plain": [
       "'0xc'"
      ]
     },
     "execution_count": 57,
     "metadata": {},
     "output_type": "execute_result"
    }
   ],
   "source": [
    "hex(NSTest(12))"
   ]
  },
  {
   "cell_type": "markdown",
   "metadata": {},
   "source": [
    "## Init subclass\n",
    "\n",
    "The [`__init_subclass__`](https://docs.python.org/3/reference/datamodel.html#object.__init_subclass__(cls)) will be called each time a new class subclassing the class containing is created. "
   ]
  },
  {
   "cell_type": "markdown",
   "metadata": {},
   "source": [
    "---\n",
    "\n",
    "The following cell creates a class that implements the `__init_subclass__` method so that the name of the created class is printed out."
   ]
  },
  {
   "cell_type": "code",
   "execution_count": 6,
   "metadata": {},
   "outputs": [],
   "source": [
    "class A:\n",
    "    def __init_subclass__(cls) -> None:\n",
    "        print(f\"The class {cls.__name__} is created.\")"
   ]
  },
  {
   "cell_type": "markdown",
   "metadata": {},
   "source": [
    "The next code subclasses the `B` class."
   ]
  },
  {
   "cell_type": "code",
   "execution_count": 7,
   "metadata": {},
   "outputs": [
    {
     "name": "stdout",
     "output_type": "stream",
     "text": [
      "The class B is created.\n"
     ]
    }
   ],
   "source": [
    "class B(A):\n",
    "    pass"
   ]
  },
  {
   "cell_type": "markdown",
   "metadata": {},
   "source": [
    "The corresponding message appearsl.\n",
    "\n",
    "The second step child `C` works the same way as the `B` class:"
   ]
  },
  {
   "cell_type": "code",
   "execution_count": 8,
   "metadata": {},
   "outputs": [
    {
     "name": "stdout",
     "output_type": "stream",
     "text": [
      "The class C is created.\n"
     ]
    }
   ],
   "source": [
    "class C(B):\n",
    "    pass"
   ]
  },
  {
   "cell_type": "markdown",
   "metadata": {},
   "source": [
    "### Subclass kwargs\n",
    "\n",
    "If you define the keyword arguments in the `__init_subclass__` method, they must be passed in the child class's definition."
   ]
  },
  {
   "cell_type": "markdown",
   "metadata": {},
   "source": [
    "---\n",
    "\n",
    "The following cell defines the `Base` class, which `__init_subclass__` requires `some_value` key word argument."
   ]
  },
  {
   "cell_type": "code",
   "execution_count": null,
   "metadata": {},
   "outputs": [
    {
     "name": "stdout",
     "output_type": "stream",
     "text": [
      "Got some value Hello from Child!\n"
     ]
    }
   ],
   "source": [
    "class Base:\n",
    "    def __init_subclass__(cls, /, some_value: str) -> None:\n",
    "        print(f\"Got some value {some_value}!\")"
   ]
  },
  {
   "cell_type": "markdown",
   "metadata": {},
   "source": [
    "As a result, the attempt to subclass the `Base` fails."
   ]
  },
  {
   "cell_type": "code",
   "execution_count": 12,
   "metadata": {},
   "outputs": [
    {
     "ename": "TypeError",
     "evalue": "Base.__init_subclass__() missing 1 required positional argument: 'some_value'",
     "output_type": "error",
     "traceback": [
      "\u001b[31m---------------------------------------------------------------------------\u001b[39m",
      "\u001b[31mTypeError\u001b[39m                                 Traceback (most recent call last)",
      "\u001b[36mCell\u001b[39m\u001b[36m \u001b[39m\u001b[32mIn[12]\u001b[39m\u001b[32m, line 1\u001b[39m\n\u001b[32m----> \u001b[39m\u001b[32m1\u001b[39m \u001b[38;5;28;43;01mclass\u001b[39;49;00m\u001b[38;5;250;43m \u001b[39;49m\u001b[34;43;01mChild\u001b[39;49;00m\u001b[43m(\u001b[49m\u001b[43mBase\u001b[49m\u001b[43m)\u001b[49m\u001b[43m:\u001b[49m\n\u001b[32m      2\u001b[39m \u001b[43m    \u001b[49m\u001b[38;5;28;43;01mpass\u001b[39;49;00m\n",
      "\u001b[31mTypeError\u001b[39m: Base.__init_subclass__() missing 1 required positional argument: 'some_value'"
     ]
    }
   ],
   "source": [
    "class Child(Base):\n",
    "    pass"
   ]
  },
  {
   "cell_type": "markdown",
   "metadata": {},
   "source": [
    "But if pass the `some_value`, everything goes well, and `some_value` will be used as defined in the `__init_subclass__`."
   ]
  },
  {
   "cell_type": "code",
   "execution_count": 13,
   "metadata": {},
   "outputs": [
    {
     "name": "stdout",
     "output_type": "stream",
     "text": [
      "Got some value Hello form Child!\n"
     ]
    }
   ],
   "source": [
    "class Child(Base, some_value=\"Hello form Child\"):\n",
    "    pass"
   ]
  }
 ],
 "metadata": {
  "kernelspec": {
   "display_name": "python (3.13.5)",
   "language": "python",
   "name": "python3"
  },
  "language_info": {
   "codemirror_mode": {
    "name": "ipython",
    "version": 3
   },
   "file_extension": ".py",
   "mimetype": "text/x-python",
   "name": "python",
   "nbconvert_exporter": "python",
   "pygments_lexer": "ipython3",
   "version": "3.13.9"
  }
 },
 "nbformat": 4,
 "nbformat_minor": 2
}
