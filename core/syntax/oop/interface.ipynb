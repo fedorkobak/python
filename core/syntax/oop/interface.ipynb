{
 "cells": [
  {
   "cell_type": "markdown",
   "id": "9469be60-91ca-4dcf-9766-a739910bf59a",
   "metadata": {},
   "source": [
    "# Interface\n",
    "\n",
    "See the article [implementing an interface in python](https://realpython.com/python-interface/) on realpython.org."
   ]
  },
  {
   "cell_type": "markdown",
   "id": "21b21ceb-d19c-4451-bf3c-59d0f98a91b1",
   "metadata": {},
   "source": [
    "An interface is some abstraction that allows you to define what methods must necessarily be implemented in successors."
   ]
  },
  {
   "cell_type": "markdown",
   "id": "ccc3b2a6-dea2-4ea6-a685-efba7e4752d1",
   "metadata": {},
   "source": [
    "## Problem\n",
    "\n",
    "Here is an attempt to explain a problem that is solved by abstract classes."
   ]
  },
  {
   "cell_type": "markdown",
   "id": "d80350ef-dcf3-4dda-9db4-883ba4efbaa3",
   "metadata": {},
   "source": [
    "Suppose we need to implement two toy classes, one printing two strings separated by `+`, another separated by `-`. Let's try to solve this head-on."
   ]
  },
  {
   "cell_type": "code",
   "execution_count": 1,
   "id": "29f29755-291b-4baa-b7a3-3a899f20a6d5",
   "metadata": {},
   "outputs": [
    {
     "name": "stdout",
     "output_type": "stream",
     "text": [
      "Plus concatenation hello+world\n",
      "Minus concatenation hello-world\n"
     ]
    }
   ],
   "source": [
    "class PlusConcatenation():\n",
    "    def __init__(self, left, right):\n",
    "        self.left = left\n",
    "        self.right = right\n",
    "    def get_output(self):\n",
    "        return f\"{self.left}+{self.right}\"\n",
    "\n",
    "class MinusConcatenation():\n",
    "    def __init__(self, left, right):\n",
    "        self.left = left\n",
    "        self.right = right\n",
    "    def get_output(self):\n",
    "        return f\"{self.left}-{self.right}\"\n",
    "\n",
    "print(\n",
    "    \"Plus concatenation\",\n",
    "    PlusConcatenation(\"hello\", \"world\").get_output()\n",
    ")\n",
    "print(\n",
    "    \"Minus concatenation\",\n",
    "    MinusConcatenation(\"hello\", \"world\").get_output()\n",
    ")"
   ]
  },
  {
   "cell_type": "markdown",
   "id": "e7770e3b-dd30-402b-a7d6-e94548d6893e",
   "metadata": {},
   "source": [
    "Everything works fine, but we had to repeat the code:\n",
    "\n",
    "```python\n",
    "def __init__(self, left, right):\n",
    "    self.left = left\n",
    "    self.right = right\n",
    "```\n",
    "\n",
    "In this case, it's not a big problem. But repeating when there may be many more, and it may be repeated in more places - it will be difficult to maintain."
   ]
  },
  {
   "cell_type": "markdown",
   "id": "001fa0b7-f24f-4b63-8cf1-1e1a041b6645",
   "metadata": {},
   "source": [
    "## Basic solution\n",
    "\n",
    "That's where the OOP technique comes in - let's define a parent class that implements the common functionality of the inheritors, and each inheritor specifies its own functionality.\n",
    "\n",
    "So here `__init__` is common for all `Concatenation` but `get_output` have to defined by inheritors."
   ]
  },
  {
   "cell_type": "code",
   "execution_count": 53,
   "id": "8ba0ad96-f50d-4483-a17c-d490e0e8f9f0",
   "metadata": {},
   "outputs": [
    {
     "name": "stdout",
     "output_type": "stream",
     "text": [
      "Plus concatenation hello+world\n",
      "Minus concatenation hello-world\n"
     ]
    }
   ],
   "source": [
    "class Concatenation():\n",
    "    def __init__(self, left, right):\n",
    "        self.left = left\n",
    "        self.right = right\n",
    "    def get_output(self):\n",
    "        pass\n",
    "\n",
    "class PlusConcatenation(Concatenation):\n",
    "    def get_output(self):\n",
    "        return f\"{self.left}+{self.right}\"\n",
    "class MinusConcatenation(Concatenation):\n",
    "    def get_output(self):\n",
    "        return f\"{self.left}-{self.right}\"\n",
    "print(\n",
    "    \"Plus concatenation\",\n",
    "    PlusConcatenation(\"hello\", \"world\").get_output()\n",
    ")\n",
    "print(\n",
    "    \"Minus concatenation\",\n",
    "    MinusConcatenation(\"hello\", \"world\").get_output()\n",
    ")"
   ]
  },
  {
   "cell_type": "markdown",
   "id": "d8ef9853-0a62-4524-9693-1bce829370a7",
   "metadata": {},
   "source": [
    "Well, we got what we wanted."
   ]
  },
  {
   "cell_type": "markdown",
   "id": "c904365a-8b10-405d-b85f-ef0fe768ec7e",
   "metadata": {},
   "source": [
    "But there are still some problems with these approaches, which are not really critical, but you have to keep them in mind. If inherit doesn't realise that it's functional, it can't be considered an implementation of the interface - but the syntax below allows you to create such objects, and then they will even be identified as subclasses of the parent class."
   ]
  },
  {
   "cell_type": "markdown",
   "id": "632f44d2-a8d6-4fce-93c1-384f2b124e67",
   "metadata": {},
   "source": [
    "In the following cell we have created a `DummyConcatenation` which doesn't implement `get_output`. The problem is that it's still a subclass of the `DummyConcatenation' and its instances can be created freely."
   ]
  },
  {
   "cell_type": "code",
   "execution_count": 76,
   "id": "a520e6ae-842b-4dc0-ac42-bf7e3638be99",
   "metadata": {},
   "outputs": [
    {
     "name": "stdout",
     "output_type": "stream",
     "text": [
      "issubclass(DummyConcatenation, Concatenation) True\n",
      "DummyConcatenation(\"hello\", \"world\").get_output() None\n"
     ]
    }
   ],
   "source": [
    "class DummyConcatenation(Concatenation):\n",
    "    pass\n",
    "\n",
    "print(\n",
    "    \"issubclass(DummyConcatenation, Concatenation)\",\n",
    "    issubclass(DummyConcatenation, Concatenation)\n",
    ")\n",
    "print(\n",
    "    'DummyConcatenation(\"hello\", \"world\").get_output()',\n",
    "    DummyConcatenation(\"hello\", \"world\").get_output()\n",
    ")"
   ]
  },
  {
   "cell_type": "markdown",
   "id": "2273bfaa-f292-47a6-af96-c44829caec9e",
   "metadata": {},
   "source": [
    "## `abc` module\n",
    "\n",
    "The `abc` module is designed to create abstractions in Python. So here is simple example of the example below that uses `abs.abstractmethod` decorator to define method that must have realisation in heirs. And heirs `PlusConcatenation` and `DummyConcatenation` that realise and ignore abstract method."
   ]
  },
  {
   "cell_type": "code",
   "execution_count": 28,
   "id": "3aa2feab-fec1-4f90-b7c9-e491bab4ddda",
   "metadata": {},
   "outputs": [],
   "source": [
    "import abc\n",
    "class Concatenation(metaclass=abc.ABCMeta):\n",
    "    def __init__(self, left, right):\n",
    "        self.left = left\n",
    "        self.right = right\n",
    "    @abc.abstractmethod\n",
    "    def get_output(self, path: str, file_name: str):\n",
    "        \"\"\"Load in the data set\"\"\"\n",
    "        raise NotImplementedError\n",
    "\n",
    "class PlusConcatenation(Concatenation):\n",
    "    def get_output(self):\n",
    "        print(f\"{self.left}+{self.right}\")\n",
    "class DummyConcatenation(Concatenation):\n",
    "    pass"
   ]
  },
  {
   "cell_type": "markdown",
   "id": "10218ee1-7700-4133-9bf7-204ae863de7c",
   "metadata": {},
   "source": [
    "Now when we try to create using these hairs - `PlusConcatenator` works fine, but `DummyConcatenation` wasn't even able to create an instance."
   ]
  },
  {
   "cell_type": "code",
   "execution_count": 29,
   "id": "8a1038f9-ef7b-439f-b235-b53fdba3fb0e",
   "metadata": {},
   "outputs": [
    {
     "name": "stdout",
     "output_type": "stream",
     "text": [
      "hello+world\n",
      "Can't instantiate abstract class DummyConcatenation with abstract method get_output\n"
     ]
    }
   ],
   "source": [
    "PlusConcatenation(\"hello\", \"world\").get_output()\n",
    "try:\n",
    "    DummyConcatenation(\"hello\", \"world\")\n",
    "except Exception as e:\n",
    "    print(e)"
   ]
  },
  {
   "cell_type": "markdown",
   "id": "2ca2743e-4464-4636-bd92-beab825b56bc",
   "metadata": {},
   "source": [
    "But `DummyConcatenation` is still a subclass of `Concatenation` according to the issubclass function."
   ]
  },
  {
   "cell_type": "code",
   "execution_count": 45,
   "id": "bbaa164c-2758-4494-8a14-2ad755632ebd",
   "metadata": {},
   "outputs": [
    {
     "data": {
      "text/plain": [
       "True"
      ]
     },
     "execution_count": 45,
     "metadata": {},
     "output_type": "execute_result"
    }
   ],
   "source": [
    "issubclass(DummyConcatenation, Concatenation)"
   ]
  }
 ],
 "metadata": {
  "kernelspec": {
   "display_name": "Python 3 (ipykernel)",
   "language": "python",
   "name": "python3"
  },
  "language_info": {
   "codemirror_mode": {
    "name": "ipython",
    "version": 3
   },
   "file_extension": ".py",
   "mimetype": "text/x-python",
   "name": "python",
   "nbconvert_exporter": "python",
   "pygments_lexer": "ipython3",
   "version": "3.10.12"
  }
 },
 "nbformat": 4,
 "nbformat_minor": 5
}
