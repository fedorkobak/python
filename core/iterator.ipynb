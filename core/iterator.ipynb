{
 "cells": [
  {
   "cell_type": "markdown",
   "id": "95dea180",
   "metadata": {},
   "source": [
    "# Iterator\n",
    "\n",
    "An iterator is an object that implements the iterator protocol.\n",
    "\n",
    "The iterator protocol suggests that an object have the following:\n",
    "\n",
    "- The `__iter__` dunder that returns object with a `__next__` dunder.\n",
    "- The `__next__` dunder is supposed to return the elements of the iterator one by one and raise a `StopIteration` exception when there are no more elements to iterate."
   ]
  },
  {
   "cell_type": "markdown",
   "id": "ac35d800",
   "metadata": {},
   "source": [
    "## Defining iterator\n",
    "\n",
    "You can create your own iterators by simply implementing teh iterator protocol. These classes' instances can be used wherever regular python iterators can be used, e.g., in a `list`."
   ]
  },
  {
   "cell_type": "markdown",
   "id": "10e510b8",
   "metadata": {},
   "source": [
    "---\n",
    "\n",
    "The following code defines the `MyIterator`, which allows you to iterate `len` times. Each iteration will return a random value between 0 and 100."
   ]
  },
  {
   "cell_type": "code",
   "execution_count": 1,
   "id": "bb566a1f",
   "metadata": {},
   "outputs": [],
   "source": [
    "from random import randint\n",
    "\n",
    "\n",
    "class MyIterator:\n",
    "    def __init__(self, len: int):\n",
    "        self.len = len\n",
    "        self.state = 0\n",
    "\n",
    "    def __iter__(self):\n",
    "        return self\n",
    "\n",
    "    def __next__(self):\n",
    "        if self.state < self.len:\n",
    "            self.state += 1\n",
    "            return randint(0, 100)\n",
    "        else:\n",
    "            raise StopIteration()"
   ]
  },
  {
   "cell_type": "markdown",
   "id": "1ddee1a4",
   "metadata": {},
   "source": [
    "The following cell demonstrates  the use of the `MyIterator` in a `for` loop."
   ]
  },
  {
   "cell_type": "code",
   "execution_count": null,
   "id": "c53a4cd7",
   "metadata": {},
   "outputs": [
    {
     "data": {
      "text/plain": [
       "[37, 89, 62, 7, 51, 8, 11, 11, 99, 30]"
      ]
     },
     "metadata": {},
     "output_type": "display_data"
    }
   ],
   "source": [
    "[i for i in MyIterator(10)]"
   ]
  },
  {
   "cell_type": "markdown",
   "id": "8d5e9e96",
   "metadata": {},
   "source": [
    "It returned exactly `len` values, which seem to be random."
   ]
  }
 ],
 "metadata": {
  "kernelspec": {
   "display_name": "python",
   "language": "python",
   "name": "python3"
  },
  "language_info": {
   "codemirror_mode": {
    "name": "ipython",
    "version": 3
   },
   "file_extension": ".py",
   "mimetype": "text/x-python",
   "name": "python",
   "nbconvert_exporter": "python",
   "pygments_lexer": "ipython3",
   "version": "3.13.5"
  }
 },
 "nbformat": 4,
 "nbformat_minor": 5
}
