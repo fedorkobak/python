{
 "cells": [
  {
   "cell_type": "markdown",
   "id": "95dea180",
   "metadata": {},
   "source": [
    "# Iterator\n",
    "\n",
    "An iterator is an object that implements the iterator protocol.\n",
    "\n",
    "The iterator protocol suggests that an object have the following:\n",
    "\n",
    "- The `__iter__` dunder that returns object with a `__next__` dunder.\n",
    "- The `__next__` dunder is supposed to return the elements of the iterator one by one and raise a `StopIteration` exception when there are no more elements to iterate."
   ]
  },
  {
   "cell_type": "markdown",
   "id": "ac35d800",
   "metadata": {},
   "source": [
    "## Defining iterator"
   ]
  },
  {
   "cell_type": "code",
   "execution_count": null,
   "id": "bb566a1f",
   "metadata": {},
   "outputs": [],
   "source": [
    "from random import randint\n",
    "\n",
    "\n",
    "class MyIterator:\n",
    "    def __init__(self, len: int):\n",
    "        self.len = len\n",
    "        self.state = 0\n",
    "\n",
    "    def __iter__(self):\n",
    "        return self\n",
    "\n",
    "    def __next__(self):\n",
    "        if self.state < self.len:\n",
    "            self.state += 1\n",
    "            return randint(0, 100)\n",
    "        else:\n",
    "            raise StopIteration()"
   ]
  },
  {
   "cell_type": "code",
   "execution_count": null,
   "id": "87ac41e4",
   "metadata": {},
   "outputs": [
    {
     "data": {
      "text/plain": [
       "(99, 75)"
      ]
     },
     "metadata": {},
     "output_type": "display_data"
    }
   ],
   "source": [
    "my_iterator = MyIterator(2)\n",
    "next(my_iterator), next(my_iterator)"
   ]
  },
  {
   "cell_type": "code",
   "execution_count": null,
   "id": "016e5fad",
   "metadata": {},
   "outputs": [
    {
     "ename": "StopIteration",
     "evalue": "",
     "output_type": "error",
     "traceback": [
      "\u001b[31m---------------------------------------------------------------------------\u001b[39m\n",
      "\u001b[31mStopIteration\u001b[39m                             Traceback (most recent call last)\n",
      "\u001b[36mCell\u001b[39m\u001b[36m \u001b[39m\u001b[32mIn[85]\u001b[39m\u001b[32m, line 1\u001b[39m\n",
      "\u001b[32m----> \u001b[39m\u001b[32m1\u001b[39m \u001b[38;5;28;43mnext\u001b[39;49m\u001b[43m(\u001b[49m\u001b[43mmy_iterator\u001b[49m\u001b[43m)\u001b[49m\n",
      "\n",
      "\u001b[36mCell\u001b[39m\u001b[36m \u001b[39m\u001b[32mIn[63]\u001b[39m\u001b[32m, line 17\u001b[39m, in \u001b[36mMyIterator.__next__\u001b[39m\u001b[34m(self)\u001b[39m\n",
      "\u001b[32m     15\u001b[39m     \u001b[38;5;28;01mreturn\u001b[39;00m randint(\u001b[32m0\u001b[39m, \u001b[32m100\u001b[39m)\n",
      "\u001b[32m     16\u001b[39m \u001b[38;5;28;01melse\u001b[39;00m:\n",
      "\u001b[32m---> \u001b[39m\u001b[32m17\u001b[39m     \u001b[38;5;28;01mraise\u001b[39;00m \u001b[38;5;167;01mStopIteration\u001b[39;00m()\n",
      "\n",
      "\u001b[31mStopIteration\u001b[39m: "
     ]
    }
   ],
   "source": [
    "next(my_iterator)"
   ]
  },
  {
   "cell_type": "code",
   "execution_count": null,
   "id": "c53a4cd7",
   "metadata": {},
   "outputs": [
    {
     "data": {
      "text/plain": [
       "[37, 89, 62, 7, 51, 8, 11, 11, 99, 30]"
      ]
     },
     "metadata": {},
     "output_type": "display_data"
    }
   ],
   "source": [
    "[i for i in MyIterator(10)]"
   ]
  }
 ],
 "metadata": {
  "language_info": {
   "name": "python"
  }
 },
 "nbformat": 4,
 "nbformat_minor": 5
}
