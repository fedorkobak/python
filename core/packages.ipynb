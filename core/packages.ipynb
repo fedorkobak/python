{
 "cells": [
  {
   "cell_type": "markdown",
   "metadata": {},
   "source": [
    "# Packages\n",
    "\n",
    "This section covers questions related to packages. In fact packages - just a folder that contains Python sources. In a narrower context it's a way to distribute your solutions, this page understands package in such context."
   ]
  },
  {
   "cell_type": "markdown",
   "metadata": {},
   "source": [
    "## Building\n",
    "\n",
    "A folder containing sources must be transformed into a special format suitable for distribution. This section covers the basics of building packages - converting them into a form convenient for distribution. \n",
    "\n",
    "To build a package, you need to:\n",
    "\n",
    "- Specify the build configuration in a file typically named `pyproject.toml`: find out more in the [official instructions](https://packaging.python.org/en/latest/guides/writing-pyproject-toml/#writing-pyproject-toml) on writing `.toml` files, and explore some tricky examples on the [specific page of this site](packages/pyproject_toml.ipynb).\n",
    "- Build the project using a preferred build tool. The simpliest option is [`build` package](https://build.pypa.io/en/stable/index.html)."
   ]
  },
  {
   "cell_type": "markdown",
   "metadata": {},
   "source": [
    "---\n",
    "\n",
    "All you need is a `src` folder containing the source code of the package and a `pyproject.toml` configuration file that specifies how the project should be built."
   ]
  },
  {
   "cell_type": "code",
   "execution_count": 15,
   "metadata": {
    "vscode": {
     "languageId": "shellscript"
    }
   },
   "outputs": [
    {
     "name": "stdout",
     "output_type": "stream",
     "text": [
      "\u001b[01;34mpackages_files/building\u001b[0m\n",
      "├── pyproject.toml\n",
      "└── \u001b[01;34msrc\u001b[0m\n",
      "\n",
      "1 directory, 1 file\n"
     ]
    }
   ],
   "source": [
    "tree packages_files/building"
   ]
  },
  {
   "cell_type": "markdown",
   "metadata": {},
   "source": [
    "Here is content of the `pyproject.toml` that is used for example."
   ]
  },
  {
   "cell_type": "code",
   "execution_count": 17,
   "metadata": {
    "vscode": {
     "languageId": "shellscript"
    }
   },
   "outputs": [
    {
     "name": "stdout",
     "output_type": "stream",
     "text": [
      "[project]\n",
      "name = \"example_package_FEDOR_KOBAK\"\n",
      "version = \"0.0.4\"\n",
      "authors = [\n",
      "  { name=\"Fedor Kobak\", email=\"kobfedsur@gmail.com\" },\n",
      "]\n",
      "description = \"A small example package\"\n"
     ]
    }
   ],
   "source": [
    "cat packages_files/building/pyproject.toml"
   ]
  },
  {
   "cell_type": "markdown",
   "metadata": {},
   "source": [
    "The simplest building tool is the `build` package. The following cell applies it to the project template created earlier."
   ]
  },
  {
   "cell_type": "code",
   "execution_count": 11,
   "metadata": {
    "vscode": {
     "languageId": "shellscript"
    }
   },
   "outputs": [],
   "source": [
    "python3 -m build packages_files/building --outdir /tmp/build_out &> /dev/null"
   ]
  },
  {
   "cell_type": "markdown",
   "metadata": {},
   "source": [
    "Here is the result of the construction:"
   ]
  },
  {
   "cell_type": "code",
   "execution_count": 18,
   "metadata": {
    "vscode": {
     "languageId": "shellscript"
    }
   },
   "outputs": [
    {
     "name": "stdout",
     "output_type": "stream",
     "text": [
      "\u001b[01;34m/tmp/build_out\u001b[0m\n",
      "├── example_package_FEDOR_KOBAK-0.0.4-py3-none-any.whl\n",
      "└── \u001b[01;31mexample_package_fedor_kobak-0.0.4.tar.gz\u001b[0m\n",
      "\n",
      "0 directories, 2 files\n"
     ]
    }
   ],
   "source": [
    "tree /tmp/build_out"
   ]
  },
  {
   "cell_type": "markdown",
   "metadata": {},
   "source": [
    "The result includes `.tar.gz` and `.whl` files, both of which are options for distributing Python packages."
   ]
  },
  {
   "cell_type": "markdown",
   "metadata": {},
   "source": [
    "There are some service files that were generated during the build of the following cell, remove those files."
   ]
  },
  {
   "cell_type": "code",
   "execution_count": 12,
   "metadata": {
    "vscode": {
     "languageId": "shellscript"
    }
   },
   "outputs": [],
   "source": [
    "rm -r packages_files/building/src/example_package_FEDOR_KOBAK.egg-info"
   ]
  },
  {
   "cell_type": "markdown",
   "metadata": {},
   "source": [
    "## Installation\n",
    "\n",
    "Install packages with `pip` package. So typical installation looks like `pip3 install <target to be installed>`.\n",
    "\n",
    "The most important tool for handling package installations in Python is `pip`. Check the [specific page on pip](packages/pip.ipynb) for more details."
   ]
  },
  {
   "cell_type": "markdown",
   "metadata": {},
   "source": [
    "---\n",
    "\n",
    "Consider installing the pre-prepared package. The following cell creates a new virtual environment, activates it, and installs the pre-prepared file."
   ]
  },
  {
   "cell_type": "code",
   "execution_count": 29,
   "metadata": {
    "vscode": {
     "languageId": "shellscript"
    }
   },
   "outputs": [
    {
     "name": "stdout",
     "output_type": "stream",
     "text": [
      "Processing ./packages_files/example_package_fedor_kobak-0.0.4.tar.gz\n",
      "  Installing build dependencies ... \u001b[?25ldone\n",
      "\u001b[?25h  Getting requirements to build wheel ... \u001b[?25ldone\n",
      "\u001b[?25h  Preparing metadata (pyproject.toml) ... \u001b[?25ldone\n",
      "\u001b[?25hBuilding wheels for collected packages: example_package_FEDOR_KOBAK\n",
      "  Building wheel for example_package_FEDOR_KOBAK (pyproject.toml) ... \u001b[?25ldone\n",
      "\u001b[?25h  Created wheel for example_package_FEDOR_KOBAK: filename=example_package_FEDOR_KOBAK-0.0.4-py3-none-any.whl size=1630 sha256=1cc073b7d6d1ac4732fb50310b43df8cedbbbf50527091bc611c0be425b9f28f\n",
      "  Stored in directory: /home/f.kobak@maxbit.local/.cache/pip/wheels/2f/75/0c/4013918bb2a37cc2500176bad7b2549e598dc15572f73c419e\n",
      "Successfully built example_package_FEDOR_KOBAK\n",
      "Installing collected packages: example_package_FEDOR_KOBAK\n",
      "Successfully installed example_package_FEDOR_KOBAK-0.0.4\n"
     ]
    }
   ],
   "source": [
    "python3 -m venv /tmp/test_venv\n",
    "source /tmp/test_venv/bin/activate\n",
    "pip3 install packages_files/example_package_fedor_kobak-0.0.4.tar.gz"
   ]
  },
  {
   "cell_type": "markdown",
   "metadata": {},
   "source": [
    "The installed package appears in the `lib/<python version>/site-packages` folder of the environment you're working with:"
   ]
  },
  {
   "cell_type": "code",
   "execution_count": 30,
   "metadata": {
    "vscode": {
     "languageId": "shellscript"
    }
   },
   "outputs": [
    {
     "name": "stdout",
     "output_type": "stream",
     "text": [
      "\u001b[01;34m/tmp/test_venv/lib/python3.10/site-packages/example_package\u001b[0m\n",
      "├── example.py\n",
      "├── __init__.py\n",
      "└── \u001b[01;34m__pycache__\u001b[0m\n",
      "    ├── example.cpython-310.pyc\n",
      "    └── __init__.cpython-310.pyc\n",
      "\n",
      "1 directory, 4 files\n"
     ]
    }
   ],
   "source": [
    "tree /tmp/test_venv/lib/python3.10/site-packages/example_package"
   ]
  },
  {
   "cell_type": "markdown",
   "metadata": {},
   "source": [
    "Now confirm that the installed project really works."
   ]
  },
  {
   "cell_type": "code",
   "execution_count": 31,
   "metadata": {
    "vscode": {
     "languageId": "shellscript"
    }
   },
   "outputs": [
    {
     "name": "stdout",
     "output_type": "stream",
     "text": [
      "I'm installed package!\n"
     ]
    }
   ],
   "source": [
    "python3 -c \"import example_package\"\n",
    "deactivate"
   ]
  },
  {
   "cell_type": "markdown",
   "metadata": {
    "vscode": {
     "languageId": "shellscript"
    }
   },
   "source": [
    "Importing the installed package unlocks the message embedded in it."
   ]
  },
  {
   "cell_type": "markdown",
   "metadata": {},
   "source": [
    "## Uploading\n",
    "\n",
    "For uploading can be used `twine` library. It allows to push arbitrary package to the selected python index (PyPI is one of them)."
   ]
  },
  {
   "cell_type": "markdown",
   "metadata": {},
   "source": [
    "---\n",
    "\n",
    "To play with uploading Python packages, a Python index is required. To prevent creating tons of packages available on the internet, you can set up a self-hosted Python index using [devpi](https://www.devpi.net/). The following cell creates and configures such a setup:"
   ]
  },
  {
   "cell_type": "code",
   "execution_count": 83,
   "metadata": {
    "vscode": {
     "languageId": "shellscript"
    }
   },
   "outputs": [
    {
     "name": "stdout",
     "output_type": "stream",
     "text": [
      "c6042d007e38c1f491427038157a0f9ebc40cd9ca0f96ebef013ca6d17afb0f4\n"
     ]
    }
   ],
   "source": [
    "docker run -itd --rm \\\n",
    "    --network host --name devpi-server python:3.12 \\\n",
    "    bash -c \"pip3 install devpi && devpi-init && devpi-server\" \n",
    "sleep 10 \n",
    "docker exec devpi-server bash -c \"\n",
    "    while ! devpi use http://localhost:3141 &> /dev/null; do sleep 1; done\n",
    "    devpi user -c fedor password=hello\n",
    "    devpi login fedor --password hello\n",
    "    devpi index -c prod\n",
    "    devpi use fedor/prod\n",
    "    mkdir temp\n",
    "    pip3 download setuptools wheel -d ./temp\n",
    "    devpi upload --from-dir ./temp\n",
    "\" &> /dev/null"
   ]
  },
  {
   "cell_type": "markdown",
   "metadata": {},
   "source": [
    "Now creating separate environment and installation of the `twine` library."
   ]
  },
  {
   "cell_type": "code",
   "execution_count": 84,
   "metadata": {
    "vscode": {
     "languageId": "shellscript"
    }
   },
   "outputs": [],
   "source": [
    "python3 -m venv /tmp/uploading_venv\n",
    "source /tmp/uploading_venv/bin/activate\n",
    "pip3 install twine &> /dev/null"
   ]
  },
  {
   "cell_type": "markdown",
   "metadata": {},
   "source": [
    "The next cell shows how to add a package to the index you just created."
   ]
  },
  {
   "cell_type": "code",
   "execution_count": 85,
   "metadata": {
    "vscode": {
     "languageId": "shellscript"
    }
   },
   "outputs": [
    {
     "name": "stdout",
     "output_type": "stream",
     "text": [
      "Uploading distributions to http://localhost:3141/fedor/prod/\n",
      "Uploading example_package_fedor_kobak-0.0.4.tar.gz\n",
      "\u001b[2K\u001b[35m100%\u001b[0m \u001b[90m━━━━━━━━━━━━━━━━━━━━━━━━━━━━━━━━━━━━━━━━\u001b[0m \u001b[32m3.7/3.7 kB\u001b[0m • \u001b[33m00:00\u001b[0m • \u001b[31m?\u001b[0m\n",
      "\u001b[?25h\n"
     ]
    }
   ],
   "source": [
    "twine upload \\\n",
    "    --repository-url http://localhost:3141/fedor/prod/ \\\n",
    "    ./packages_files/example_package_fedor_kobak-0.0.4.tar.gz \\\n",
    "    --password hello \\\n",
    "    --username fedor"
   ]
  },
  {
   "cell_type": "markdown",
   "metadata": {},
   "source": [
    "Let's see if everything works fine as a result by installing the created package and inwoking it."
   ]
  },
  {
   "cell_type": "code",
   "execution_count": 86,
   "metadata": {
    "vscode": {
     "languageId": "shellscript"
    }
   },
   "outputs": [
    {
     "name": "stdout",
     "output_type": "stream",
     "text": [
      "Looking in indexes: http://localhost:3141/fedor/prod\n",
      "Collecting example_package-FEDOR-KOBAK\n",
      "  Using cached example_package_FEDOR_KOBAK-0.0.4-py3-none-any.whl\n",
      "Installing collected packages: example_package-FEDOR-KOBAK\n",
      "Successfully installed example_package-FEDOR-KOBAK-0.0.4\n",
      "I'm installed package!\n"
     ]
    }
   ],
   "source": [
    "pip3 install -i http://localhost:3141/fedor/prod example_package-FEDOR-KOBAK\n",
    "python3 -c \"import example_package\""
   ]
  },
  {
   "cell_type": "markdown",
   "metadata": {},
   "source": [
    "So we got massage `I'm installing package` that was embedded in it."
   ]
  },
  {
   "cell_type": "markdown",
   "metadata": {},
   "source": [
    "Finally don't forget to clear everything was created in environment for this example."
   ]
  },
  {
   "cell_type": "code",
   "execution_count": 87,
   "metadata": {
    "vscode": {
     "languageId": "shellscript"
    }
   },
   "outputs": [
    {
     "name": "stdout",
     "output_type": "stream",
     "text": [
      "devpi-server\n"
     ]
    }
   ],
   "source": [
    "docker stop devpi-server\n",
    "deactivate\n",
    "rm -r /tmp/uploading_venv/"
   ]
  }
 ],
 "metadata": {
  "kernelspec": {
   "display_name": "Bash",
   "language": "bash",
   "name": "bash"
  },
  "language_info": {
   "codemirror_mode": "shell",
   "file_extension": ".sh",
   "mimetype": "text/x-sh",
   "name": "bash"
  }
 },
 "nbformat": 4,
 "nbformat_minor": 2
}
