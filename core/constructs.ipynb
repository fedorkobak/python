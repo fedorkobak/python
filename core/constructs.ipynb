{
 "cells": [
  {
   "cell_type": "markdown",
   "id": "351e0590",
   "metadata": {},
   "source": [
    "# Constructs\n",
    "\n",
    "This page focuses on terms that are implemented to python and allows you to explore its syntax."
   ]
  },
  {
   "cell_type": "markdown",
   "id": "0b425fe4",
   "metadata": {},
   "source": [
    "## Iterator\n",
    "\n",
    "An iterator is an object that implements the iterator protocol.\n",
    "\n",
    "The iterator protocol suggests that an object have the following:\n",
    "\n",
    "- The `__iter__` dunder that returns object with a `__next__` dunder.\n",
    "- The `__next__` dunder is supposed to return the elements of the iterator one by one and raise a `StopIteration` exception when there are no more elements to iterate.\n",
    "\n",
    "Check details on the [iterator](constructs/iterator.ipynb)."
   ]
  },
  {
   "cell_type": "markdown",
   "id": "19df8780",
   "metadata": {},
   "source": [
    "---\n",
    "\n",
    "Probably the most representive example of the iterator is a regular python `list`. The following cells show that the descripted iterator protcol is fair for the iterator."
   ]
  },
  {
   "cell_type": "markdown",
   "id": "2668e16d",
   "metadata": {},
   "source": [
    "The `iter` function can be applied to the list, showing that the `__iter__` dunder is implemented for `list`."
   ]
  },
  {
   "cell_type": "code",
   "execution_count": null,
   "id": "9d81f752",
   "metadata": {},
   "outputs": [
    {
     "data": {
      "text/plain": [
       "<list_iterator at 0x71db0e506c80>"
      ]
     },
     "metadata": {},
     "output_type": "display_data"
    }
   ],
   "source": [
    "lst = [1, 2]\n",
    "lst_iterator = lst.__iter__()\n",
    "lst_iterator"
   ]
  },
  {
   "cell_type": "markdown",
   "id": "383b76c2",
   "metadata": {},
   "source": [
    "The `__iter__` dunder should also return an iterator. This could be the same object, or something else as in the `list` case. A `list_iterator` instance is returned."
   ]
  },
  {
   "cell_type": "markdown",
   "id": "bc37b820",
   "metadata": {},
   "source": [
    "The following cell shows that the `list_iterator` has an `__iter__` dunder as well. However, the dunder returns the object itself."
   ]
  },
  {
   "cell_type": "code",
   "execution_count": null,
   "id": "985914a3",
   "metadata": {},
   "outputs": [
    {
     "data": {
      "text/plain": [
       "True"
      ]
     },
     "metadata": {},
     "output_type": "display_data"
    }
   ],
   "source": [
    "lst_iterator is lst_iterator.__iter__()"
   ]
  },
  {
   "cell_type": "markdown",
   "id": "2183f8af",
   "metadata": {},
   "source": [
    "The `list_iterator` has a `__next__` dunder. For each call, it returns the corresponding element of the `list` from which the `list_iterator` comes."
   ]
  },
  {
   "cell_type": "code",
   "execution_count": null,
   "id": "50d05d59",
   "metadata": {},
   "outputs": [
    {
     "data": {
      "text/plain": [
       "(1, 2)"
      ]
     },
     "metadata": {},
     "output_type": "display_data"
    }
   ],
   "source": [
    "(lst_iterator.__next__(), lst_iterator.__next__())"
   ]
  },
  {
   "cell_type": "markdown",
   "id": "b90c30de",
   "metadata": {},
   "source": [
    "When there are no longer any corresponding elements - the `StopIteration` error will be raised."
   ]
  },
  {
   "cell_type": "code",
   "execution_count": null,
   "id": "c3550314",
   "metadata": {},
   "outputs": [
    {
     "ename": "StopIteration",
     "evalue": "",
     "output_type": "error",
     "traceback": [
      "\u001b[31m---------------------------------------------------------------------------\u001b[39m\n",
      "\u001b[31mStopIteration\u001b[39m                             Traceback (most recent call last)\n",
      "\u001b[36mCell\u001b[39m\u001b[36m \u001b[39m\u001b[32mIn[84]\u001b[39m\u001b[32m, line 1\u001b[39m\n",
      "\u001b[32m----> \u001b[39m\u001b[32m1\u001b[39m \u001b[38;5;28;43mnext\u001b[39;49m\u001b[43m(\u001b[49m\u001b[43mlst_iterator\u001b[49m\u001b[43m)\u001b[49m\n",
      "\n",
      "\u001b[31mStopIteration\u001b[39m: "
     ]
    }
   ],
   "source": [
    "next(lst_iterator)"
   ]
  },
  {
   "cell_type": "markdown",
   "id": "638f8d20",
   "metadata": {},
   "source": [
    "## Data class\n",
    "\n",
    "There is a special tool in Python called dataclasses. Dataclasses allow you to build classes that store data and provide some built-in tools for operating with them. The crusial features are:\n",
    "\n",
    "- Automatically generated `__init__` that will create all required attributes.\n",
    "- Converting to string as `__repr__` method will be defined in dataclass.\n",
    "- Comparing as `__eq__` method will be implemented.\n",
    "\n",
    "Find out more in the [special page](constructs/data_classes.ipynb)."
   ]
  },
  {
   "cell_type": "markdown",
   "id": "c857370d",
   "metadata": {},
   "source": [
    "---\n",
    "\n",
    "To define a dataclass, you have to use the `dataclasses.dataclass` decorator. The following cell defines one that we'll use:"
   ]
  },
  {
   "cell_type": "code",
   "execution_count": null,
   "id": "0d14ff97",
   "metadata": {},
   "outputs": [],
   "source": [
    "from dataclasses import dataclass\n",
    "\n",
    "@dataclass\n",
    "class SomeData:\n",
    "    value1: int\n",
    "    value2: str"
   ]
  },
  {
   "cell_type": "markdown",
   "id": "38feaf02",
   "metadata": {},
   "source": [
    "Any instance of such a class can be transformed into a string in the format `<ClassName>(<attr1>=<val1>, ...)`. The following cell shows this:"
   ]
  },
  {
   "cell_type": "code",
   "execution_count": null,
   "id": "9fb17346",
   "metadata": {},
   "outputs": [
    {
     "name": "stdout",
     "output_type": "stream",
     "text": [
      "SomeData(value1=1, value2='wow')\n"
     ]
    }
   ],
   "source": [
    "print(SomeData(1, \"wow\"))"
   ]
  },
  {
   "cell_type": "markdown",
   "id": "e0308470",
   "metadata": {},
   "source": [
    "You can compare dataclasses out of the box, and if their attributes have the same values, you will find that the instances are equal."
   ]
  },
  {
   "cell_type": "code",
   "execution_count": null,
   "id": "e045d105",
   "metadata": {},
   "outputs": [
    {
     "name": "stdout",
     "output_type": "stream",
     "text": [
      "True\n",
      "False\n"
     ]
    }
   ],
   "source": [
    "print(SomeData(1, \"wow\") == SomeData(1, \"wow\"))\n",
    "print(SomeData(1, \"wow\") == SomeData(2, \"oh my gosh\"))"
   ]
  }
 ],
 "metadata": {
  "language_info": {
   "name": "python"
  }
 },
 "nbformat": 4,
 "nbformat_minor": 5
}
