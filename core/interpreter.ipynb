{
 "cells": [
  {
   "cell_type": "markdown",
   "metadata": {},
   "source": [
    "# Interpreter\n",
    "\n",
    "This section covers Python as software: installation, usage, source files, etc. \n",
    "\n",
    "**Note:** Some examples may change the environment in which they run, so it's better to run them in Docker. Use the following cell to start the container, the rest of the code will be executed in the container. "
   ]
  },
  {
   "cell_type": "markdown",
   "metadata": {},
   "source": [
    "## Build python\n",
    "\n",
    "Sometimes you need Python with a specific configuration, for such cases you'll need to build Python from source. You can **download the distribution** from the corresponding *releases* of the official [github account](https://github.com/python/cpython/tags). Then just compile it with the C compiler (`gcc` for linux) and prepare it to work in the system with the `make` build system. \n",
    "\n",
    "For more details check:\n",
    "\n",
    "- The official instructions for building Python [here](https://devguide.python.org/getting-started/setup-building/#compile-and-build).\n",
    "- Special [Build](interpreter/build.ipynb) page."
   ]
  },
  {
   "cell_type": "markdown",
   "metadata": {},
   "source": [
    "---\n",
    "\n",
    "Consider the process of building and installing any Python distribution."
   ]
  },
  {
   "cell_type": "markdown",
   "metadata": {},
   "source": [
    "We require some software to be able to download and build source code."
   ]
  },
  {
   "cell_type": "code",
   "execution_count": 1,
   "metadata": {
    "vscode": {
     "languageId": "shellscript"
    }
   },
   "outputs": [],
   "source": [
    "apt update &> /dev/null && apt install -y wget gcc make &> /dev/null"
   ]
  },
  {
   "cell_type": "markdown",
   "metadata": {},
   "source": [
    "The following cell downloads and unpacks the source code to be built."
   ]
  },
  {
   "cell_type": "code",
   "execution_count": 2,
   "metadata": {
    "vscode": {
     "languageId": "shellscript"
    }
   },
   "outputs": [
    {
     "name": "stdout",
     "output_type": "stream",
     "text": [
      "3.8.tar.gz  cpython-3.8\n"
     ]
    }
   ],
   "source": [
    "[ -d /tmp/installation ] && rm -r /tmp/installation\n",
    "mkdir /tmp/installation\n",
    "cd /tmp/installation\n",
    "wget -q https://github.com/python/cpython/archive/refs/tags/3.8.tar.gz\n",
    "tar -xzf 3.8.tar.gz\n",
    "ls"
   ]
  },
  {
   "cell_type": "markdown",
   "metadata": {},
   "source": [
    "As the result there is `cpython-3.8` folder that contains all necessary to build."
   ]
  },
  {
   "cell_type": "markdown",
   "metadata": {},
   "source": [
    "The following cell compiles the project, builds it, and adds it to the system as a regular package."
   ]
  },
  {
   "cell_type": "code",
   "execution_count": 3,
   "metadata": {
    "vscode": {
     "languageId": "shellscript"
    }
   },
   "outputs": [],
   "source": [
    "cd cpython-3.8\n",
    "./configure &> /dev/null\n",
    "make &> /dev/null\n",
    "make install &> /dev/null\n",
    "true"
   ]
  },
  {
   "cell_type": "markdown",
   "metadata": {},
   "source": [
    "All these steps added to the system new, self-built python. The following cell shows that it works fine."
   ]
  },
  {
   "cell_type": "code",
   "execution_count": 1,
   "metadata": {
    "vscode": {
     "languageId": "shellscript"
    }
   },
   "outputs": [
    {
     "name": "stdout",
     "output_type": "stream",
     "text": [
      "Python 3.8.20\n"
     ]
    }
   ],
   "source": [
    "python3.8 --version"
   ]
  },
  {
   "cell_type": "markdown",
   "metadata": {},
   "source": [
    "After installation, the typical location where Python appears is `/usr/local/bin/` so you can invoke it directly."
   ]
  },
  {
   "cell_type": "markdown",
   "metadata": {},
   "source": [
    "## Virtual environment\n",
    "\n",
    "It's useful to have a different python than the one you're using - you can install different packages and even different pythons. There is a `venv` package in the standard library that automates the process of building special Python interpreters.\n",
    "\n",
    "- To activate envrironmet typicaly use `*/bin/activate` script.\n",
    "- To deactivate environment use `deactivate` command that is awailable in the environment.\n",
    "\n",
    "Check more at the following sources:\n",
    "\n",
    "- [Relevant page](https://docs.python.org/3/library/venv.html) on the official documentation.\n",
    "- [Python Virtual Environments: A Primer](https://realpython.com/python-virtual-environments-a-primer/) extended tutorial."
   ]
  },
  {
   "cell_type": "markdown",
   "metadata": {},
   "source": [
    "---\n",
    "\n",
    "The following cells show an example of creating, enabling, and disabling a Python virtual environment. But first, let's check the current Python location to validate that the interpreter has successfully changed after activating the environment."
   ]
  },
  {
   "cell_type": "code",
   "execution_count": 39,
   "metadata": {
    "vscode": {
     "languageId": "shellscript"
    }
   },
   "outputs": [
    {
     "name": "stdout",
     "output_type": "stream",
     "text": [
      "/usr/local/bin/python3\n"
     ]
    }
   ],
   "source": [
    "which python3"
   ]
  },
  {
   "cell_type": "markdown",
   "metadata": {},
   "source": [
    "The following cell creates a new environment and displays the contents of the current folder."
   ]
  },
  {
   "cell_type": "code",
   "execution_count": 40,
   "metadata": {
    "vscode": {
     "languageId": "shellscript"
    }
   },
   "outputs": [
    {
     "name": "stdout",
     "output_type": "stream",
     "text": [
      "\u001b[0m\u001b[01;34mvenv\u001b[0m\n"
     ]
    }
   ],
   "source": [
    "[ -d /tmp/venv ] && rm -r /tmp/venv\n",
    "mkdir /tmp/venv\n",
    "cd /tmp/venv\n",
    "python3 -m venv venv\n",
    "ls "
   ]
  },
  {
   "cell_type": "markdown",
   "metadata": {},
   "source": [
    "There is a `venv` folder - this is actually a folder that contains the python distribution."
   ]
  },
  {
   "cell_type": "markdown",
   "metadata": {},
   "source": [
    "The following code activates the environment and shows the path to the interpreter."
   ]
  },
  {
   "cell_type": "code",
   "execution_count": 41,
   "metadata": {
    "vscode": {
     "languageId": "shellscript"
    }
   },
   "outputs": [
    {
     "name": "stdout",
     "output_type": "stream",
     "text": [
      "/tmp/venv/venv/bin/python3\n"
     ]
    }
   ],
   "source": [
    "source venv/bin/activate\n",
    "which python3"
   ]
  },
  {
   "cell_type": "markdown",
   "metadata": {},
   "source": [
    "Path is the path of the previously created virtual environment."
   ]
  },
  {
   "cell_type": "markdown",
   "metadata": {},
   "source": [
    "The deactivation process and the result are shown next."
   ]
  },
  {
   "cell_type": "code",
   "execution_count": 42,
   "metadata": {
    "vscode": {
     "languageId": "shellscript"
    }
   },
   "outputs": [
    {
     "name": "stdout",
     "output_type": "stream",
     "text": [
      "/usr/local/bin/python3\n"
     ]
    }
   ],
   "source": [
    "deactivate\n",
    "which python3"
   ]
  }
 ],
 "metadata": {
  "kernelspec": {
   "display_name": "Bash",
   "language": "bash",
   "name": "bash"
  },
  "language_info": {
   "codemirror_mode": "shell",
   "file_extension": ".sh",
   "mimetype": "text/x-sh",
   "name": "bash"
  }
 },
 "nbformat": 4,
 "nbformat_minor": 2
}
