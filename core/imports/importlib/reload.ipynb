{
 "cells": [
  {
   "cell_type": "markdown",
   "id": "6c963c5d",
   "metadata": {},
   "source": [
    "# Reload\n",
    "\n",
    "Reloading imported objects can be tricky in python. This page shows some of the challenges and how to solve them."
   ]
  },
  {
   "cell_type": "code",
   "execution_count": 1,
   "id": "a1372ee6",
   "metadata": {},
   "outputs": [],
   "source": [
    "import sys\n",
    "import importlib\n",
    "\n",
    "sys.path.append(\"/tmp\")"
   ]
  },
  {
   "cell_type": "markdown",
   "id": "24f44d91",
   "metadata": {},
   "source": [
    "## Reload non module\n",
    "\n",
    "You cannot apply `importlib.reload` to a function or class that was imported through using `from <module> import <function or class>` because this funcitons and classes are not instances of the module class. However, you can reload module from which they were impoted. Unfortunately, the name in the namespace won't update. It will still refer to the previous implementation. You have to update the name manually."
   ]
  },
  {
   "cell_type": "markdown",
   "id": "2cfe9f35",
   "metadata": {},
   "source": [
    "---\n",
    "\n",
    "The following cell generates the function `some_module.some_fun`."
   ]
  },
  {
   "cell_type": "code",
   "execution_count": 13,
   "id": "0a7edb89",
   "metadata": {},
   "outputs": [
    {
     "name": "stdout",
     "output_type": "stream",
     "text": [
      "Writing /tmp/some_module.py\n"
     ]
    }
   ],
   "source": [
    "%%writefile /tmp/some_module.py\n",
    "def some_fun():\n",
    "    print(\"initital message\")"
   ]
  },
  {
   "cell_type": "code",
   "execution_count": 22,
   "id": "683bb052",
   "metadata": {},
   "outputs": [
    {
     "name": "stdout",
     "output_type": "stream",
     "text": [
      "updated message\n"
     ]
    }
   ],
   "source": [
    "from some_module import some_fun\n",
    "some_fun()"
   ]
  },
  {
   "cell_type": "markdown",
   "id": "d9ac9a80",
   "metadata": {},
   "source": [
    "The following cell makes some changes to the module, resulting in a different message."
   ]
  },
  {
   "cell_type": "code",
   "execution_count": null,
   "id": "a99278e9",
   "metadata": {},
   "outputs": [
    {
     "name": "stdout",
     "output_type": "stream",
     "text": [
      "Overwriting /tmp/some_module.py\n"
     ]
    }
   ],
   "source": [
    "%%writefile /tmp/some_module.py\n",
    "def some_fun():\n",
    "    print(\"updated message\")"
   ]
  },
  {
   "cell_type": "markdown",
   "id": "d8179381",
   "metadata": {},
   "source": [
    "Obviosly `some_fucntion` in global scope still refers to the old implementation."
   ]
  },
  {
   "cell_type": "code",
   "execution_count": null,
   "id": "92e52d63",
   "metadata": {},
   "outputs": [
    {
     "name": "stdout",
     "output_type": "stream",
     "text": [
      "initital message\n"
     ]
    }
   ],
   "source": [
    "some_fun()"
   ]
  },
  {
   "cell_type": "markdown",
   "id": "b8fcfed8",
   "metadata": {},
   "source": [
    "Since the `some_fun` was imported using the statement `from some_module import some_fun`, there are no name in the socope that refers to the `some_module`. The following cell shows an option how you can access the module object even if there is no name corresponding name the scope."
   ]
  },
  {
   "cell_type": "code",
   "execution_count": 23,
   "id": "e9e2db09",
   "metadata": {},
   "outputs": [
    {
     "data": {
      "text/plain": [
       "<module 'some_module' from '/tmp/some_module.py'>"
      ]
     },
     "execution_count": 23,
     "metadata": {},
     "output_type": "execute_result"
    }
   ],
   "source": [
    "importlib.reload(sys.modules[some_fun.__module__])"
   ]
  },
  {
   "cell_type": "markdown",
   "id": "894715cf",
   "metadata": {},
   "source": [
    "However, the `some_fun` still refers to the old behaviour."
   ]
  },
  {
   "cell_type": "code",
   "execution_count": 19,
   "id": "80e408c5",
   "metadata": {},
   "outputs": [
    {
     "name": "stdout",
     "output_type": "stream",
     "text": [
      "initital message\n"
     ]
    }
   ],
   "source": [
    "some_fun()"
   ]
  },
  {
   "cell_type": "markdown",
   "id": "ff9ffc13",
   "metadata": {},
   "source": [
    "The function taken from the module's attribute corresponds to the new behaviour."
   ]
  },
  {
   "cell_type": "code",
   "execution_count": 24,
   "id": "5fd693bf",
   "metadata": {},
   "outputs": [
    {
     "name": "stdout",
     "output_type": "stream",
     "text": [
      "updated message\n"
     ]
    }
   ],
   "source": [
    "sys.modules[some_fun.__module__].some_fun()"
   ]
  },
  {
   "cell_type": "markdown",
   "id": "7c66f9a9",
   "metadata": {},
   "source": [
    "In order for the name of the function `some_fun` to behave like the last declaration in the file, we have to reassign `some_fun` manually. This can be done using the assignment operation (`=`) or by reimporting `some_fun`.\n",
    "\n",
    "The following code proves that it works."
   ]
  },
  {
   "cell_type": "code",
   "execution_count": 21,
   "id": "bd4442e9",
   "metadata": {},
   "outputs": [
    {
     "name": "stdout",
     "output_type": "stream",
     "text": [
      "updated message\n"
     ]
    }
   ],
   "source": [
    "from some_module import some_fun\n",
    "some_fun()"
   ]
  }
 ],
 "metadata": {
  "kernelspec": {
   "display_name": "src",
   "language": "python",
   "name": "python3"
  },
  "language_info": {
   "codemirror_mode": {
    "name": "ipython",
    "version": 3
   },
   "file_extension": ".py",
   "mimetype": "text/x-python",
   "name": "python",
   "nbconvert_exporter": "python",
   "pygments_lexer": "ipython3",
   "version": "3.12.9"
  }
 },
 "nbformat": 4,
 "nbformat_minor": 5
}
