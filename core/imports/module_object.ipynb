{
 "cells": [
  {
   "cell_type": "code",
   "execution_count": null,
   "id": "cea6662e",
   "metadata": {},
   "outputs": [
    {
     "name": "stdout",
     "output_type": "stream",
     "text": [
      "Overwriting /tmp/my_file.py\n"
     ]
    }
   ],
   "source": [
    "%%writefile /tmp/my_file.py\n",
    "print(\"name\", __name__)\n",
    "print(\"package\", __package__)\n",
    "print(\"spec\", __spec__)\n",
    "print(\"loader\", __loader__)"
   ]
  },
  {
   "cell_type": "code",
   "execution_count": null,
   "id": "23f38f29",
   "metadata": {},
   "outputs": [
    {
     "name": "stdout",
     "output_type": "stream",
     "text": [
      "name my_file\n",
      "package \n",
      "spec ModuleSpec(name='my_file', loader=<_frozen_importlib_external.SourceFileLoader object at 0x7b8504b01160>, origin='/tmp/my_file.py')\n",
      "loader <_frozen_importlib_external.SourceFileLoader object at 0x7b8504b01160>\n"
     ]
    }
   ],
   "source": [
    "import my_file\n",
    "del sys.modules[\"my_file\"]"
   ]
  },
  {
   "cell_type": "code",
   "execution_count": null,
   "id": "b85a3803",
   "metadata": {},
   "outputs": [
    {
     "name": "stdout",
     "output_type": "stream",
     "text": [
      "name __main__\n",
      "package None\n",
      "spec None\n",
      "loader <_frozen_importlib_external.SourceFileLoader object at 0x721e728072f0>\n"
     ]
    }
   ],
   "source": [
    "!python3 /tmp/my_file.py"
   ]
  }
 ],
 "metadata": {
  "language_info": {
   "name": "python"
  }
 },
 "nbformat": 4,
 "nbformat_minor": 5
}
