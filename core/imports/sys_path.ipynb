{
 "cells": [
  {
   "cell_type": "markdown",
   "metadata": {},
   "source": [
    "# sys.path list"
   ]
  },
  {
   "cell_type": "markdown",
   "metadata": {},
   "source": [
    "You can add any elements to the `sys.path`. Following cells are examples of this feature."
   ]
  },
  {
   "cell_type": "markdown",
   "metadata": {},
   "source": [
    "Let's save a module that just prints something, so that every time it is imported, this message appears in the terminal."
   ]
  },
  {
   "cell_type": "code",
   "execution_count": null,
   "metadata": {},
   "outputs": [
    {
     "name": "stdout",
     "output_type": "stream",
     "text": [
      "Writing imports_files/test_module.py\n"
     ]
    }
   ],
   "source": [
    "%%writefile imports_files/test_module.py\n",
    "print(\"this file was imported\")"
   ]
  },
  {
   "cell_type": "markdown",
   "metadata": {},
   "source": [
    "Module from the previous cell is saved in a package that is not in `sys.path`. Therefore, when trying to import it, an error is raised, as shown in the next cell:"
   ]
  },
  {
   "cell_type": "code",
   "execution_count": null,
   "metadata": {},
   "outputs": [
    {
     "name": "stdout",
     "output_type": "stream",
     "text": [
      "ModuleNotFoundError was rised\n"
     ]
    }
   ],
   "source": [
    "try:\n",
    "    import test_module\n",
    "except ModuleNotFoundError:\n",
    "    print(\"ModuleNotFoundError was rised\")"
   ]
  },
  {
   "cell_type": "markdown",
   "metadata": {},
   "source": [
    "But if you've added a folder that contains the module in question, it will be imported just fine:"
   ]
  },
  {
   "cell_type": "code",
   "execution_count": null,
   "metadata": {},
   "outputs": [],
   "source": [
    "sys.path.append(\"imports_files\")\n",
    "import test_module\n",
    "sys.path.remove(\"imports_files\")"
   ]
  },
  {
   "cell_type": "markdown",
   "metadata": {},
   "source": [
    "## Environment variable"
   ]
  },
  {
   "cell_type": "markdown",
   "metadata": {},
   "source": [
    "You can define the environment variable `PYTHONPATH` and list the paths with \":\" - they will automatically appear in the `sys.path` of python running in that environment."
   ]
  },
  {
   "cell_type": "markdown",
   "metadata": {},
   "source": [
    "In the following cell we have run some code that defines `PYTHONPATH` as two paths separated by \":\", then run a script that prints out `sys.path`. As a result you can see that the mentioned paths have been added to the `sys.path` list."
   ]
  },
  {
   "cell_type": "code",
   "execution_count": null,
   "metadata": {},
   "outputs": [
    {
     "name": "stdout",
     "output_type": "stream",
     "text": [
      "example/path1:example/path2\n",
      "\n",
      "=====python output=====\n",
      "/home/f.kobak@maxbit.local/Documents/knowledge/python/basics/path_settings_files\n",
      "/home/f.kobak@maxbit.local/Documents/knowledge/python/basics/example/path1\n",
      "/home/f.kobak@maxbit.local/Documents/knowledge/python/basics/example/path2\n",
      "/usr/lib/python310.zip\n",
      "/usr/lib/python3.10\n",
      "/usr/lib/python3.10/lib-dynload\n",
      "/home/f.kobak@maxbit.local/.local/lib/python3.10/site-packages\n",
      "/usr/local/lib/python3.10/dist-packages\n",
      "/usr/lib/python3/dist-packages\n"
     ]
    }
   ],
   "source": [
    "%%bash\n",
    "export PYTHONPATH=\"example/path1:example/path2\"\n",
    "echo $PYTHONPATH\n",
    "\n",
    "echo\n",
    "echo \"=====python output=====\"\n",
    "python3 path_settings_files/print_sys_folder.py"
   ]
  }
 ],
 "metadata": {
  "language_info": {
   "name": "python"
  }
 },
 "nbformat": 4,
 "nbformat_minor": 2
}
