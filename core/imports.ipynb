{
 "cells": [
  {
   "cell_type": "markdown",
   "id": "096269fc-478c-443d-9c5d-865d2abcd895",
   "metadata": {},
   "source": [
    "# Imports\n",
    "\n",
    "This topic may seem unimportant, but some configurations can be inconvenient. It is therefore important to know the tools that Python has for importing modules.\n",
    "\n",
    "**Sources**\n",
    "\n",
    "- [Python modules and packages intorduction](https://realpython.com/python-modules-packages/#python-modules-overview) page in realpython;\n",
    "- [Python import: advanced Techniques and Tips](https://realpython.com/python-import/) page in realpython.\n",
    "- [The importing system](https://docs.python.org/3/reference/import.html) page of the official python documentation."
   ]
  },
  {
   "cell_type": "code",
   "execution_count": 14,
   "id": "b0d5e85c",
   "metadata": {},
   "outputs": [],
   "source": [
    "import sys\n",
    "import random"
   ]
  },
  {
   "cell_type": "markdown",
   "id": "29845505",
   "metadata": {},
   "source": [
    "## Loaded modules \n",
    "\n",
    "The `sys.path` is a dictionary that contains paths to directories where Python looks for modules during program execution."
   ]
  },
  {
   "cell_type": "markdown",
   "id": "6c1c653e",
   "metadata": {},
   "source": [
    "---\n",
    "\n",
    "The following cell shows the number of packages available in the current environment."
   ]
  },
  {
   "cell_type": "code",
   "execution_count": 11,
   "id": "221ba2f8",
   "metadata": {},
   "outputs": [
    {
     "data": {
      "text/plain": [
       "961"
      ]
     },
     "execution_count": 11,
     "metadata": {},
     "output_type": "execute_result"
    }
   ],
   "source": [
    "len(sys.modules)"
   ]
  },
  {
   "cell_type": "markdown",
   "id": "69ce5e76",
   "metadata": {},
   "source": [
    "There are so many packages because Jupyter, used as the environment for these experiments, has numerous dependencies. The following cell shows the same count but for a clean Python environment without imports from Jupyter's requirements."
   ]
  },
  {
   "cell_type": "code",
   "execution_count": 19,
   "id": "0fa90e53",
   "metadata": {},
   "outputs": [
    {
     "name": "stdout",
     "output_type": "stream",
     "text": [
      "54\n"
     ]
    }
   ],
   "source": [
    "%%bash\n",
    "python3 -c \"import sys; print(len(sys.modules))\""
   ]
  },
  {
   "cell_type": "markdown",
   "id": "4f247c95",
   "metadata": {},
   "source": [
    "Here is small subset of the modules loaded by jupyter."
   ]
  },
  {
   "cell_type": "code",
   "execution_count": 18,
   "id": "1adb743f",
   "metadata": {},
   "outputs": [
    {
     "data": {
      "text/plain": [
       "['IPython.core.builtin_trap',\n",
       " 'email',\n",
       " 'IPython.core.ultratb',\n",
       " 'types',\n",
       " 'threading',\n",
       " 'asyncio.futures',\n",
       " 'psutil._psutil_linux',\n",
       " 'IPython.testing.skipdoctest',\n",
       " 'zmq.sugar.frame',\n",
       " '_json']"
      ]
     },
     "execution_count": 18,
     "metadata": {},
     "output_type": "execute_result"
    }
   ],
   "source": [
    "random.sample(list(sys.modules.keys()), 10)"
   ]
  },
  {
   "cell_type": "markdown",
   "id": "fa2a9aea",
   "metadata": {},
   "source": [
    "Each object from that list has the `module` type, as demonstrated by the following code."
   ]
  },
  {
   "cell_type": "code",
   "execution_count": 21,
   "id": "3339d1db",
   "metadata": {},
   "outputs": [
    {
     "data": {
      "text/plain": [
       "module"
      ]
     },
     "execution_count": 21,
     "metadata": {},
     "output_type": "execute_result"
    }
   ],
   "source": [
    "type(sys.modules[\"sys\"])"
   ]
  },
  {
   "cell_type": "markdown",
   "id": "a1125d5a-1180-45df-beec-41cfe0ac80e2",
   "metadata": {},
   "source": [
    "## `sys.path`\n",
    "\n",
    "The `sys.path` list defines the directories where Python searches for modules when you try to import them. For more details check [specific page](imports/sys_path.ipynb)."
   ]
  },
  {
   "cell_type": "markdown",
   "id": "c77a49b1",
   "metadata": {},
   "source": [
    "---\n",
    "\n",
    "The following cell displays the `sys.path` for the current run."
   ]
  },
  {
   "cell_type": "code",
   "execution_count": 1,
   "id": "053c654f-f133-4671-aeff-58c79d3674ac",
   "metadata": {},
   "outputs": [
    {
     "data": {
      "text/plain": [
       "['/usr/lib/python312.zip',\n",
       " '/usr/lib/python3.12',\n",
       " '/usr/lib/python3.12/lib-dynload',\n",
       " '',\n",
       " '/home/f-kobak-distance-desctop/Documents/knowledge/venv/lib/python3.12/site-packages']"
      ]
     },
     "execution_count": 1,
     "metadata": {},
     "output_type": "execute_result"
    }
   ],
   "source": [
    "sys.path"
   ]
  },
  {
   "cell_type": "markdown",
   "id": "85d68ba9",
   "metadata": {},
   "source": [
    "## Find module\n",
    "\n",
    "Roughly speaking, when Python attempts to import a module, it follows these steps:\n",
    "\n",
    "* It first checks `sys.modules` to see if the module has already been loaded.\n",
    "  **Note:** Some modules may import other modules during their initialization, so the module you're working with might already be cached if it was imported indirectly earlier.\n",
    "\n",
    "* If the module is not found in `sys.modules`, Python begins invoking the `find_spec` method of various *finder* objects.\n",
    "  Finders are responsible for determining how to handle the given module name. If a finder can locate the module, it returns a `ModuleSpec` object, which is then used to load the module into the environment.\n",
    "\n",
    "The process of searching for a module in Python is described in [this subsection](https://docs.python.org/3/reference/import.html#searching) of the official documentation.\n",
    "\n",
    "For some practical aspects of this process, see the [dedicated notebook](imports/searching_module.ipynb) on this site."
   ]
  },
  {
   "cell_type": "markdown",
   "id": "3fe6b74c",
   "metadata": {},
   "source": [
    "---"
   ]
  },
  {
   "cell_type": "code",
   "execution_count": null,
   "id": "06e93ac6",
   "metadata": {},
   "outputs": [
    {
     "data": {
      "text/plain": [
       "['sys', 'builtins', '_frozen_importlib']"
      ]
     },
     "execution_count": 17,
     "metadata": {},
     "output_type": "execute_result"
    }
   ],
   "source": [
    "list(sys.modules.keys())[:3]"
   ]
  },
  {
   "cell_type": "code",
   "execution_count": 18,
   "id": "9a9b3d24",
   "metadata": {},
   "outputs": [
    {
     "data": {
      "text/plain": [
       "<module 'sys' (built-in)>"
      ]
     },
     "execution_count": 18,
     "metadata": {},
     "output_type": "execute_result"
    }
   ],
   "source": [
    "sys.modules[\"sys\"]"
   ]
  },
  {
   "cell_type": "markdown",
   "id": "b5a4d449",
   "metadata": {},
   "source": [
    "The following cell show the finders that are used to import modules into the current environment."
   ]
  },
  {
   "cell_type": "code",
   "execution_count": 19,
   "id": "ba3ec680",
   "metadata": {},
   "outputs": [
    {
     "data": {
      "text/plain": [
       "[<_distutils_hack.DistutilsMetaFinder at 0x75fa09734080>,\n",
       " <_virtualenv._Finder at 0x75fa0a14ed20>,\n",
       " _frozen_importlib.BuiltinImporter,\n",
       " _frozen_importlib.FrozenImporter,\n",
       " _frozen_importlib_external.PathFinder,\n",
       " <six._SixMetaPathImporter at 0x75fa084b6c00>]"
      ]
     },
     "execution_count": 19,
     "metadata": {},
     "output_type": "execute_result"
    }
   ],
   "source": [
    "sys.meta_path"
   ]
  },
  {
   "cell_type": "markdown",
   "id": "36ed60bc",
   "metadata": {},
   "source": [
    "The following cell shows attempts to apply `find_spec` of the different finders to the \"pandas\"."
   ]
  },
  {
   "cell_type": "code",
   "execution_count": 26,
   "id": "fcc1a945",
   "metadata": {},
   "outputs": [
    {
     "name": "stdout",
     "output_type": "stream",
     "text": [
      "<_distutils_hack.DistutilsMetaFinder object at 0x75fa09734080> : None\n",
      "<_virtualenv._Finder object at 0x75fa0a14ed20> : None\n",
      "<class '_frozen_importlib.BuiltinImporter'> : None\n",
      "<class '_frozen_importlib.FrozenImporter'> : None\n",
      "<class '_frozen_importlib_external.PathFinder'> : ModuleSpec(name='pandas', loader=<_frozen_importlib_external.SourceFileLoader object at 0x75f9f46af9e0>, origin='/home/fedor/.local/share/hatch/env/virtual/src/4VwHlfPf/src/lib/python3.12/site-packages/pandas/__init__.py', submodule_search_locations=['/home/fedor/.local/share/hatch/env/virtual/src/4VwHlfPf/src/lib/python3.12/site-packages/pandas'])\n",
      "<six._SixMetaPathImporter object at 0x75fa084b6c00> : None\n"
     ]
    }
   ],
   "source": [
    "for finder in sys.meta_path:\n",
    "    print(finder, \":\", finder.find_spec(\"pandas\", None))"
   ]
  },
  {
   "cell_type": "markdown",
   "id": "25252671",
   "metadata": {},
   "source": [
    "As a result, `PathFinder` has a `ModuleSpec` for pandas. By comparison the following cell looks  for \"sys\" in the same way."
   ]
  },
  {
   "cell_type": "code",
   "execution_count": 27,
   "id": "c6ee92c9",
   "metadata": {},
   "outputs": [
    {
     "name": "stdout",
     "output_type": "stream",
     "text": [
      "<_distutils_hack.DistutilsMetaFinder object at 0x75fa09734080> : None\n",
      "<_virtualenv._Finder object at 0x75fa0a14ed20> : None\n",
      "<class '_frozen_importlib.BuiltinImporter'> : ModuleSpec(name='sys', loader=<class '_frozen_importlib.BuiltinImporter'>, origin='built-in')\n",
      "<class '_frozen_importlib.FrozenImporter'> : None\n",
      "<class '_frozen_importlib_external.PathFinder'> : None\n",
      "<six._SixMetaPathImporter object at 0x75fa084b6c00> : None\n"
     ]
    }
   ],
   "source": [
    "for finder in sys.meta_path:\n",
    "    print(finder, \":\", finder.find_spec(\"sys\", None))"
   ]
  },
  {
   "cell_type": "markdown",
   "id": "48c48d41",
   "metadata": {},
   "source": [
    "For the \"sys\" module, the `BuiltinImporter` returns the corresponding `ModuleSpec`, which makes sense sinse the `sys` module is a buit-in module."
   ]
  },
  {
   "cell_type": "markdown",
   "id": "e35c98a3",
   "metadata": {},
   "source": [
    "## Import function\n",
    "\n",
    "There is a special build-in function `__import__` that is actually hiden under the `import` keyword in the conventional python. See the [official description](https://docs.python.org/3/library/functions.html#import__) of the `__import__` buildin function."
   ]
  },
  {
   "cell_type": "markdown",
   "id": "9224886c",
   "metadata": {},
   "source": [
    "---\n",
    "\n",
    "The following cell shows the usage of the `cowsay` when imported through the `__import__` buildin."
   ]
  },
  {
   "cell_type": "code",
   "execution_count": null,
   "id": "25444f2f",
   "metadata": {},
   "outputs": [
    {
     "name": "stdout",
     "output_type": "stream",
     "text": [
      " ____________ \n",
      "< __import__ >\n",
      " ------------ \n",
      "        \\   ^__^\n",
      "         \\  (oo)\\_______\n",
      "            (__)\\       )\\/\\\n",
      "                ||----w |\n",
      "                ||     ||\n"
     ]
    }
   ],
   "source": [
    "cowsay = __import__(\"cowsay\")\n",
    "print(cowsay.cowsay(\"__import__\"))"
   ]
  },
  {
   "cell_type": "markdown",
   "id": "989a1580",
   "metadata": {},
   "source": [
    "## Importlib\n",
    "\n",
    "`importlib` is a special package that automates some import-related procedures, making it easier to implement import-related logic.\n",
    "\n",
    "For more information check:\n",
    "\n",
    "- [Special page](imports/importlib.ipynb).\n",
    "- [Official documentation](https://docs.python.org/3/library/importlib.html)."
   ]
  },
  {
   "cell_type": "markdown",
   "id": "11827dc9",
   "metadata": {},
   "source": [
    "---\n",
    "\n",
    "The following cell provides an example of the using `importlib.import_module` function to load the `cowsay` module."
   ]
  },
  {
   "cell_type": "code",
   "execution_count": 2,
   "id": "f462b439",
   "metadata": {},
   "outputs": [
    {
     "name": "stdout",
     "output_type": "stream",
     "text": [
      " ______ \n",
      "< test >\n",
      " ------ \n",
      "        \\   ^__^\n",
      "         \\  (oo)\\_______\n",
      "            (__)\\       )\\/\\\n",
      "                ||----w |\n",
      "                ||     ||\n"
     ]
    }
   ],
   "source": [
    "import importlib\n",
    "cowsay = importlib.import_module(\"cowsay\")\n",
    "print(cowsay.cowsay(\"test\"))"
   ]
  }
 ],
 "metadata": {
  "kernelspec": {
   "display_name": "src",
   "language": "python",
   "name": "python3"
  },
  "language_info": {
   "codemirror_mode": {
    "name": "ipython",
    "version": 3
   },
   "file_extension": ".py",
   "mimetype": "text/x-python",
   "name": "python",
   "nbconvert_exporter": "python",
   "pygments_lexer": "ipython3",
   "version": "3.12.9"
  }
 },
 "nbformat": 4,
 "nbformat_minor": 5
}
