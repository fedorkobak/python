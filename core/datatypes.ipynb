{
 "cells": [
  {
   "cell_type": "markdown",
   "metadata": {},
   "source": [
    "# Data types\n",
    "\n",
    "Here we look at things related to data types in Python."
   ]
  },
  {
   "cell_type": "markdown",
   "metadata": {},
   "source": [
    "## Basic datatypes\n",
    "\n",
    "Here are the basic datatypes that are implemented in Python by default. This is just a brief overview of the basic datatypes - see the [specific page](datatypes/basic.ipynb) for more information.\n",
    "\n",
    "| Data Type    | Mutable | Collection | Ordered | Description                         |\n",
    "|--------------|---------|------------|---------|-------------------------------------|\n",
    "| `int`        | No      | No         | -       | Integer values (e.g., 1, -10)       |\n",
    "| `float`      | No      | No         | -       | Floating-point numbers (e.g., 3.14) |\n",
    "| `str`        | No      | Yes        | Yes     | Strings (e.g., \"hello\")             |\n",
    "| `bool`       | No      | No         | -       | Boolean values (`True`, `False`)    |\n",
    "| `list`       | Yes     | Yes        | Yes     | Lists (e.g., [1, 2, 3])             |\n",
    "| `tuple`      | No      | Yes        | Yes     | Tuples (e.g., (1, 2, 3))            |\n",
    "| `dict`       | Yes     | Yes        | Yes (>=3.7)      | Dictionaries (e.g., {\"key\": \"value\"})|\n",
    "| `set`        | Yes     | Yes        | No      | Sets (e.g., {1, 2, 3})              |\n",
    "| `frozenset`  | No      | Yes        | No      | Immutable sets (e.g., frozenset([1, 2, 3])) |\n",
    "| `NoneType`   | No      | No         | -       | Represents the absence of a value   |\n",
    "\n"
   ]
  },
  {
   "cell_type": "markdown",
   "metadata": {},
   "source": [
    "In the table above we mentioned many Python datatypes, now let us describe the properties that define different types more precisely."
   ]
  },
  {
   "cell_type": "markdown",
   "metadata": {},
   "source": [
    "### Mutable\n",
    "\n",
    "The main feature of the mutable datatypes is that they can change it content."
   ]
  },
  {
   "cell_type": "markdown",
   "metadata": {},
   "source": [
    "The following example shows how to add another element to the Python list. The same list now has different contents - that's why it's mutable."
   ]
  },
  {
   "cell_type": "code",
   "execution_count": 3,
   "metadata": {},
   "outputs": [
    {
     "data": {
      "text/plain": [
       "[1, 2, 3, 4]"
      ]
     },
     "execution_count": 3,
     "metadata": {},
     "output_type": "execute_result"
    }
   ],
   "source": [
    "orginal_list = [1,2,3]\n",
    "orginal_list.append(4)\n",
    "orginal_list "
   ]
  },
  {
   "cell_type": "markdown",
   "metadata": {},
   "source": [
    "However, it's important to note that when you assign a new value to an immutable variable, say integer, you're not changing the value stored in the original integer. Instead, you create a new integer object and assign it to the variable name. This means that integers are immutable in Python; once an integer object is created, its value cannot be changed."
   ]
  },
  {
   "cell_type": "markdown",
   "metadata": {},
   "source": [
    "The following example shows that each time you change the value of intger (or any other mutable type), it's a new object."
   ]
  },
  {
   "cell_type": "code",
   "execution_count": 5,
   "metadata": {},
   "outputs": [
    {
     "name": "stdout",
     "output_type": "stream",
     "text": [
      "129449186738544\n",
      "129449186738608\n"
     ]
    }
   ],
   "source": [
    "a = 5\n",
    "print(id(5))\n",
    "a = 7\n",
    "print(id(a))"
   ]
  },
  {
   "cell_type": "markdown",
   "metadata": {},
   "source": [
    "### Collection\n",
    "\n",
    "In Python, a \"collection\" refers to a group of multiple elements that are stored together and can be manipulated as a unit. Collections are fundamental data structures that allow you to manage and organize data efficiently.\n",
    "\n",
    "Each collection has its own complexity for different operations. Check out [Time complexity](https://wiki.python.org/moin/TimeComplexity) for more information."
   ]
  },
  {
   "cell_type": "markdown",
   "metadata": {},
   "source": [
    "### Ordered\n",
    "\n",
    "Some collections in python allow user to define order other not."
   ]
  },
  {
   "cell_type": "markdown",
   "metadata": {},
   "source": [
    "Ordered collections allow you to define an order. The following example shows that the list retains the same order that was specified when it was created. This property of the list means that it's ordered."
   ]
  },
  {
   "cell_type": "code",
   "execution_count": 11,
   "metadata": {},
   "outputs": [
    {
     "name": "stdout",
     "output_type": "stream",
     "text": [
      "['a', 'b', 'c', 'd', 'e']\n",
      "['e', 'd', 'c', 'b', 'a']\n"
     ]
    }
   ],
   "source": [
    "print(['a', 'b', 'c', 'd', 'e'])\n",
    "print(['e', 'd', 'c', 'b', 'a'])"
   ]
  },
  {
   "cell_type": "markdown",
   "metadata": {},
   "source": [
    "The same example but with an unordered set. It completely ignores the order in which the elements were created and records them according to specific rules."
   ]
  },
  {
   "cell_type": "code",
   "execution_count": 13,
   "metadata": {},
   "outputs": [
    {
     "name": "stdout",
     "output_type": "stream",
     "text": [
      "{'c', 'd', 'a', 'b', 'e'}\n",
      "{'c', 'd', 'a', 'b', 'e'}\n"
     ]
    }
   ],
   "source": [
    "print({'a', 'b', 'c', 'd', 'e'})\n",
    "print({'e', 'd', 'c', 'b', 'a'})"
   ]
  },
  {
   "cell_type": "markdown",
   "metadata": {},
   "source": [
    "## Datetime"
   ]
  },
  {
   "cell_type": "markdown",
   "metadata": {},
   "source": [
    "\n",
    "Datetime data types are commonly used but can sometimes be tricky. This section covers datetime data types in core Python. Check [corresponding page](https://docs.python.org/3/library/datetime.html) on the official python documentaion or the [special page on this site](datatypes/datetime.ipynb).\n",
    "\n",
    "The following classes are available for working with datetime data:\n",
    "\n",
    "| Class       | Description                                                                                                  |\n",
    "|-------------|--------------------------------------------------------------------------------------------------------------|\n",
    "| `date`      | Represents a date (year, month, and day) without time information.                                           |\n",
    "| `time`      | Represents a time (hour, minute, second, microsecond) without any date.                                      |\n",
    "| `datetime`  | Combines both date and time information (year, month, day, hour, minute, second, microsecond).               |\n",
    "| `timedelta` | Represents a duration, i.e., the difference between two dates or times.                                      |\n",
    "| `tzinfo`    | A base class for dealing with time zones, used to handle timezone conversions.                               |\n",
    "| `timezone`  | A subclass of `tzinfo` that provides fixed offset time zones and UTC time zone.                              |"
   ]
  },
  {
   "cell_type": "markdown",
   "metadata": {},
   "source": [
    "---\n",
    "\n",
    "The following cells show, according to my experience, the most commonly used features among these:\n",
    "\n",
    "- Calculating periods between dates (time deltas).\n",
    "- Formatting dates to specific formats."
   ]
  },
  {
   "cell_type": "markdown",
   "metadata": {},
   "source": [
    "The following cells have created some `datetime` objects:"
   ]
  },
  {
   "cell_type": "code",
   "execution_count": 5,
   "metadata": {},
   "outputs": [
    {
     "data": {
      "text/plain": [
       "(datetime.date(2022, 10, 20), datetime.date(2022, 3, 4))"
      ]
     },
     "execution_count": 5,
     "metadata": {},
     "output_type": "execute_result"
    }
   ],
   "source": [
    "from datetime import date\n",
    "begin = date(2022, 10, 20)\n",
    "end = date(2022, 3, 4)\n",
    "\n",
    "begin, end"
   ]
  },
  {
   "cell_type": "markdown",
   "metadata": {},
   "source": [
    "We can easily compute the period between them just by using the `-` operator."
   ]
  },
  {
   "cell_type": "code",
   "execution_count": 6,
   "metadata": {},
   "outputs": [
    {
     "data": {
      "text/plain": [
       "datetime.timedelta(days=230)"
      ]
     },
     "execution_count": 6,
     "metadata": {},
     "output_type": "execute_result"
    }
   ],
   "source": [
    "begin - end"
   ]
  },
  {
   "cell_type": "markdown",
   "metadata": {},
   "source": [
    "The following cell applies the `strftime` method to format the transformation of the `datetime` to a string."
   ]
  },
  {
   "cell_type": "code",
   "execution_count": 9,
   "metadata": {},
   "outputs": [
    {
     "data": {
      "text/plain": [
       "'Thu 20 Oct 2022, 12:00AM'"
      ]
     },
     "execution_count": 9,
     "metadata": {},
     "output_type": "execute_result"
    }
   ],
   "source": [
    "begin.strftime('%a %d %b %Y, %I:%M%p')"
   ]
  },
  {
   "cell_type": "markdown",
   "metadata": {},
   "source": [
    "## Subtypes\n",
    "\n",
    "Python supports the concept of subtyping. Formally, we say that a type **T** is a subtype of **U** if the following two conditions hold:\n",
    "\n",
    "- Every value of type **T** is also a valid value of type **U**.\n",
    "- Every operation (method or function) that can be performed on type **U** can also be performed on type **T**, with **T** maintaining all the guarantees of **U**."
   ]
  },
  {
   "cell_type": "markdown",
   "metadata": {},
   "source": [
    "Consider example where **T=bool** and **U=int**. Anything you can do with int is acceptable to do with bool."
   ]
  },
  {
   "cell_type": "code",
   "execution_count": 109,
   "metadata": {},
   "outputs": [
    {
     "name": "stdout",
     "output_type": "stream",
     "text": [
      "2\n",
      "1\n"
     ]
    }
   ],
   "source": [
    "print(sum([True, False, True, False]))\n",
    "print(True**False)"
   ]
  },
  {
   "cell_type": "markdown",
   "metadata": {},
   "source": [
    "You can check if **T** is a subtype of **U** using the function `issubclass(<T>, <U>)` - returns true if **T** is a subtype of **U**."
   ]
  },
  {
   "cell_type": "code",
   "execution_count": 112,
   "metadata": {},
   "outputs": [
    {
     "name": "stdout",
     "output_type": "stream",
     "text": [
      "Is bool subclass of int - True\n",
      "Is list subclass of int - False\n"
     ]
    }
   ],
   "source": [
    "print(\"Is bool subclass of int -\", issubclass(bool, int))\n",
    "print(\"Is list subclass of int -\", issubclass(list, int))"
   ]
  },
  {
   "cell_type": "markdown",
   "metadata": {},
   "source": [
    "Here is code that generates table where elements $r_{ij}$ mark whether the type of the $i$-th row is a subtype of the type of the $j$-th column."
   ]
  },
  {
   "cell_type": "code",
   "execution_count": 103,
   "metadata": {},
   "outputs": [
    {
     "data": {
      "text/html": [
       "<table><tr><th></th><th>bool</th><th>int</th><th>float</th><th>complex</th><th>numbers.Number</th><th>list</th><th>bytearray</th><th>tuple</th><th>bytes</th><th>set</th><th>frozenset</th><th>dict</th><th>collections.abc.MutableSequence</th><th>collections.abc.Sequence</th><th>collections.abc.Set</th><th>collections.abc.Mapping</th></tr><tr><td>bool</td><td style='background:gray;text-align:center'>-</td><td style='background:green;text-align:center'>✓</td><td style='background:red ;text-align:center'>x</td><td style='background:red ;text-align:center'>x</td><td style='background:green;text-align:center'>✓</td><td style='background:red ;text-align:center'>x</td><td style='background:red ;text-align:center'>x</td><td style='background:red ;text-align:center'>x</td><td style='background:red ;text-align:center'>x</td><td style='background:red ;text-align:center'>x</td><td style='background:red ;text-align:center'>x</td><td style='background:red ;text-align:center'>x</td><td style='background:red ;text-align:center'>x</td><td style='background:red ;text-align:center'>x</td><td style='background:red ;text-align:center'>x</td><td style='background:red ;text-align:center'>x</td></tr><tr><td>int</td><td style='background:red ;text-align:center'>x</td><td style='background:gray;text-align:center'>-</td><td style='background:red ;text-align:center'>x</td><td style='background:red ;text-align:center'>x</td><td style='background:green;text-align:center'>✓</td><td style='background:red ;text-align:center'>x</td><td style='background:red ;text-align:center'>x</td><td style='background:red ;text-align:center'>x</td><td style='background:red ;text-align:center'>x</td><td style='background:red ;text-align:center'>x</td><td style='background:red ;text-align:center'>x</td><td style='background:red ;text-align:center'>x</td><td style='background:red ;text-align:center'>x</td><td style='background:red ;text-align:center'>x</td><td style='background:red ;text-align:center'>x</td><td style='background:red ;text-align:center'>x</td></tr><tr><td>float</td><td style='background:red ;text-align:center'>x</td><td style='background:red ;text-align:center'>x</td><td style='background:gray;text-align:center'>-</td><td style='background:red ;text-align:center'>x</td><td style='background:green;text-align:center'>✓</td><td style='background:red ;text-align:center'>x</td><td style='background:red ;text-align:center'>x</td><td style='background:red ;text-align:center'>x</td><td style='background:red ;text-align:center'>x</td><td style='background:red ;text-align:center'>x</td><td style='background:red ;text-align:center'>x</td><td style='background:red ;text-align:center'>x</td><td style='background:red ;text-align:center'>x</td><td style='background:red ;text-align:center'>x</td><td style='background:red ;text-align:center'>x</td><td style='background:red ;text-align:center'>x</td></tr><tr><td>complex</td><td style='background:red ;text-align:center'>x</td><td style='background:red ;text-align:center'>x</td><td style='background:red ;text-align:center'>x</td><td style='background:gray;text-align:center'>-</td><td style='background:green;text-align:center'>✓</td><td style='background:red ;text-align:center'>x</td><td style='background:red ;text-align:center'>x</td><td style='background:red ;text-align:center'>x</td><td style='background:red ;text-align:center'>x</td><td style='background:red ;text-align:center'>x</td><td style='background:red ;text-align:center'>x</td><td style='background:red ;text-align:center'>x</td><td style='background:red ;text-align:center'>x</td><td style='background:red ;text-align:center'>x</td><td style='background:red ;text-align:center'>x</td><td style='background:red ;text-align:center'>x</td></tr><tr><td>numbers.Number</td><td style='background:red ;text-align:center'>x</td><td style='background:red ;text-align:center'>x</td><td style='background:red ;text-align:center'>x</td><td style='background:red ;text-align:center'>x</td><td style='background:gray;text-align:center'>-</td><td style='background:red ;text-align:center'>x</td><td style='background:red ;text-align:center'>x</td><td style='background:red ;text-align:center'>x</td><td style='background:red ;text-align:center'>x</td><td style='background:red ;text-align:center'>x</td><td style='background:red ;text-align:center'>x</td><td style='background:red ;text-align:center'>x</td><td style='background:red ;text-align:center'>x</td><td style='background:red ;text-align:center'>x</td><td style='background:red ;text-align:center'>x</td><td style='background:red ;text-align:center'>x</td></tr><tr><td>list</td><td style='background:red ;text-align:center'>x</td><td style='background:red ;text-align:center'>x</td><td style='background:red ;text-align:center'>x</td><td style='background:red ;text-align:center'>x</td><td style='background:red ;text-align:center'>x</td><td style='background:gray;text-align:center'>-</td><td style='background:red ;text-align:center'>x</td><td style='background:red ;text-align:center'>x</td><td style='background:red ;text-align:center'>x</td><td style='background:red ;text-align:center'>x</td><td style='background:red ;text-align:center'>x</td><td style='background:red ;text-align:center'>x</td><td style='background:green;text-align:center'>✓</td><td style='background:green;text-align:center'>✓</td><td style='background:red ;text-align:center'>x</td><td style='background:red ;text-align:center'>x</td></tr><tr><td>bytearray</td><td style='background:red ;text-align:center'>x</td><td style='background:red ;text-align:center'>x</td><td style='background:red ;text-align:center'>x</td><td style='background:red ;text-align:center'>x</td><td style='background:red ;text-align:center'>x</td><td style='background:red ;text-align:center'>x</td><td style='background:gray;text-align:center'>-</td><td style='background:red ;text-align:center'>x</td><td style='background:red ;text-align:center'>x</td><td style='background:red ;text-align:center'>x</td><td style='background:red ;text-align:center'>x</td><td style='background:red ;text-align:center'>x</td><td style='background:green;text-align:center'>✓</td><td style='background:green;text-align:center'>✓</td><td style='background:red ;text-align:center'>x</td><td style='background:red ;text-align:center'>x</td></tr><tr><td>tuple</td><td style='background:red ;text-align:center'>x</td><td style='background:red ;text-align:center'>x</td><td style='background:red ;text-align:center'>x</td><td style='background:red ;text-align:center'>x</td><td style='background:red ;text-align:center'>x</td><td style='background:red ;text-align:center'>x</td><td style='background:red ;text-align:center'>x</td><td style='background:gray;text-align:center'>-</td><td style='background:red ;text-align:center'>x</td><td style='background:red ;text-align:center'>x</td><td style='background:red ;text-align:center'>x</td><td style='background:red ;text-align:center'>x</td><td style='background:red ;text-align:center'>x</td><td style='background:green;text-align:center'>✓</td><td style='background:red ;text-align:center'>x</td><td style='background:red ;text-align:center'>x</td></tr><tr><td>bytes</td><td style='background:red ;text-align:center'>x</td><td style='background:red ;text-align:center'>x</td><td style='background:red ;text-align:center'>x</td><td style='background:red ;text-align:center'>x</td><td style='background:red ;text-align:center'>x</td><td style='background:red ;text-align:center'>x</td><td style='background:red ;text-align:center'>x</td><td style='background:red ;text-align:center'>x</td><td style='background:gray;text-align:center'>-</td><td style='background:red ;text-align:center'>x</td><td style='background:red ;text-align:center'>x</td><td style='background:red ;text-align:center'>x</td><td style='background:red ;text-align:center'>x</td><td style='background:green;text-align:center'>✓</td><td style='background:red ;text-align:center'>x</td><td style='background:red ;text-align:center'>x</td></tr><tr><td>set</td><td style='background:red ;text-align:center'>x</td><td style='background:red ;text-align:center'>x</td><td style='background:red ;text-align:center'>x</td><td style='background:red ;text-align:center'>x</td><td style='background:red ;text-align:center'>x</td><td style='background:red ;text-align:center'>x</td><td style='background:red ;text-align:center'>x</td><td style='background:red ;text-align:center'>x</td><td style='background:red ;text-align:center'>x</td><td style='background:gray;text-align:center'>-</td><td style='background:red ;text-align:center'>x</td><td style='background:red ;text-align:center'>x</td><td style='background:red ;text-align:center'>x</td><td style='background:red ;text-align:center'>x</td><td style='background:green;text-align:center'>✓</td><td style='background:red ;text-align:center'>x</td></tr><tr><td>frozenset</td><td style='background:red ;text-align:center'>x</td><td style='background:red ;text-align:center'>x</td><td style='background:red ;text-align:center'>x</td><td style='background:red ;text-align:center'>x</td><td style='background:red ;text-align:center'>x</td><td style='background:red ;text-align:center'>x</td><td style='background:red ;text-align:center'>x</td><td style='background:red ;text-align:center'>x</td><td style='background:red ;text-align:center'>x</td><td style='background:red ;text-align:center'>x</td><td style='background:gray;text-align:center'>-</td><td style='background:red ;text-align:center'>x</td><td style='background:red ;text-align:center'>x</td><td style='background:red ;text-align:center'>x</td><td style='background:green;text-align:center'>✓</td><td style='background:red ;text-align:center'>x</td></tr><tr><td>dict</td><td style='background:red ;text-align:center'>x</td><td style='background:red ;text-align:center'>x</td><td style='background:red ;text-align:center'>x</td><td style='background:red ;text-align:center'>x</td><td style='background:red ;text-align:center'>x</td><td style='background:red ;text-align:center'>x</td><td style='background:red ;text-align:center'>x</td><td style='background:red ;text-align:center'>x</td><td style='background:red ;text-align:center'>x</td><td style='background:red ;text-align:center'>x</td><td style='background:red ;text-align:center'>x</td><td style='background:gray;text-align:center'>-</td><td style='background:red ;text-align:center'>x</td><td style='background:red ;text-align:center'>x</td><td style='background:red ;text-align:center'>x</td><td style='background:green;text-align:center'>✓</td></tr><tr><td>collections.abc.MutableSequence</td><td style='background:red ;text-align:center'>x</td><td style='background:red ;text-align:center'>x</td><td style='background:red ;text-align:center'>x</td><td style='background:red ;text-align:center'>x</td><td style='background:red ;text-align:center'>x</td><td style='background:red ;text-align:center'>x</td><td style='background:red ;text-align:center'>x</td><td style='background:red ;text-align:center'>x</td><td style='background:red ;text-align:center'>x</td><td style='background:red ;text-align:center'>x</td><td style='background:red ;text-align:center'>x</td><td style='background:red ;text-align:center'>x</td><td style='background:gray;text-align:center'>-</td><td style='background:green;text-align:center'>✓</td><td style='background:red ;text-align:center'>x</td><td style='background:red ;text-align:center'>x</td></tr><tr><td>collections.abc.Sequence</td><td style='background:red ;text-align:center'>x</td><td style='background:red ;text-align:center'>x</td><td style='background:red ;text-align:center'>x</td><td style='background:red ;text-align:center'>x</td><td style='background:red ;text-align:center'>x</td><td style='background:red ;text-align:center'>x</td><td style='background:red ;text-align:center'>x</td><td style='background:red ;text-align:center'>x</td><td style='background:red ;text-align:center'>x</td><td style='background:red ;text-align:center'>x</td><td style='background:red ;text-align:center'>x</td><td style='background:red ;text-align:center'>x</td><td style='background:red ;text-align:center'>x</td><td style='background:gray;text-align:center'>-</td><td style='background:red ;text-align:center'>x</td><td style='background:red ;text-align:center'>x</td></tr><tr><td>collections.abc.Set</td><td style='background:red ;text-align:center'>x</td><td style='background:red ;text-align:center'>x</td><td style='background:red ;text-align:center'>x</td><td style='background:red ;text-align:center'>x</td><td style='background:red ;text-align:center'>x</td><td style='background:red ;text-align:center'>x</td><td style='background:red ;text-align:center'>x</td><td style='background:red ;text-align:center'>x</td><td style='background:red ;text-align:center'>x</td><td style='background:red ;text-align:center'>x</td><td style='background:red ;text-align:center'>x</td><td style='background:red ;text-align:center'>x</td><td style='background:red ;text-align:center'>x</td><td style='background:red ;text-align:center'>x</td><td style='background:gray;text-align:center'>-</td><td style='background:red ;text-align:center'>x</td></tr><tr><td>collections.abc.Mapping</td><td style='background:red ;text-align:center'>x</td><td style='background:red ;text-align:center'>x</td><td style='background:red ;text-align:center'>x</td><td style='background:red ;text-align:center'>x</td><td style='background:red ;text-align:center'>x</td><td style='background:red ;text-align:center'>x</td><td style='background:red ;text-align:center'>x</td><td style='background:red ;text-align:center'>x</td><td style='background:red ;text-align:center'>x</td><td style='background:red ;text-align:center'>x</td><td style='background:red ;text-align:center'>x</td><td style='background:red ;text-align:center'>x</td><td style='background:red ;text-align:center'>x</td><td style='background:red ;text-align:center'>x</td><td style='background:red ;text-align:center'>x</td><td style='background:gray;text-align:center'>-</td></tr></table>"
      ],
      "text/plain": [
       "<IPython.core.display.HTML object>"
      ]
     },
     "execution_count": 103,
     "metadata": {},
     "output_type": "execute_result"
    }
   ],
   "source": [
    "import numbers\n",
    "import collections\n",
    "\n",
    "my_types = [\n",
    "    bool, int, float, complex, numbers.Number, \n",
    "    list, bytearray, tuple, bytes, set, frozenset, dict,\n",
    "    collections.abc.MutableSequence, \n",
    "    collections.abc.Sequence, collections.abc.Set, \n",
    "    collections.abc.Mapping\n",
    "]\n",
    "\n",
    "cell_wrapper = (\n",
    "    lambda content, color: \n",
    "    f\"<td style='background:{color};text-align:center'>{content}</td>\"\n",
    ")\n",
    "\n",
    "issubclasses = [\n",
    "    [\n",
    "        (\n",
    "            cell_wrapper('✓', \"green\") \n",
    "            if issubclass(t1, t2)  \n",
    "            else cell_wrapper('x', \"red \")\n",
    "        )\n",
    "        if t1 != t2 else cell_wrapper('-', \"gray\")\n",
    "        for t2 in my_types\n",
    "    ]\n",
    "    for t1 in my_types \n",
    "]\n",
    "\n",
    "def type_ecraniser(s):\n",
    "    replacements = {\n",
    "        '<','>','class', \"'\"\n",
    "    }\n",
    "    for sumb in replacements:\n",
    "        s = s.replace(sumb, '')\n",
    "    return s.strip()\n",
    "\n",
    "header = \"\".join([\n",
    "    \"<th>\" + type_ecraniser(str(t)) + \"</th>\" \n",
    "    for t in [\"\"] + my_types\n",
    "])\n",
    "header = \"<tr>\" + header + \"</tr>\"\n",
    "\n",
    "content = \"\".join([\n",
    "    (\n",
    "        \"<tr>\" +\n",
    "        f\"<td>{type_ecraniser(str(my_types[i]))}</td>\" + \n",
    "        \"\".join(row) +\n",
    "        \"</tr>\"\n",
    "    )\n",
    "    for i, row in enumerate(issubclasses)\n",
    "])\n",
    "\n",
    "HTML(f\"<table>{header + content}</table>\")\n"
   ]
  }
 ],
 "metadata": {
  "kernelspec": {
   "display_name": "Python 3",
   "language": "python",
   "name": "python3"
  },
  "language_info": {
   "codemirror_mode": {
    "name": "ipython",
    "version": 3
   },
   "file_extension": ".py",
   "mimetype": "text/x-python",
   "name": "python",
   "nbconvert_exporter": "python",
   "pygments_lexer": "ipython3",
   "version": "3.10.14"
  }
 },
 "nbformat": 4,
 "nbformat_minor": 2
}
