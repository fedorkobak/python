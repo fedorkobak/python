{
 "cells": [
  {
   "cell_type": "markdown",
   "id": "36eef5b5-0bcc-476b-b0fc-5d4deccdad76",
   "metadata": {},
   "source": [
    "# Check error (assertRaises)\n",
    "\n",
    "Sometimes programs are designed to throw exceptions in certain cases. So we need a way to test whether an exception has been thrown in that case. In this subsection I want to pay attention to such a case.\n",
    "\n",
    "There is a special tool that allows you to check whether an exception was raised: `unittest.TestCase.assertRaises`.\n",
    "\n",
    "Check more in the [specific page](https://docs.python.org/3/library/unittest.html#unittest.TestCase.assertRaises) of the official documentation."
   ]
  },
  {
   "cell_type": "markdown",
   "id": "8e39ffdd",
   "metadata": {},
   "source": [
    "---\n",
    "\n",
    "As a typical example, let's consider the function defined below."
   ]
  },
  {
   "cell_type": "code",
   "execution_count": 2,
   "id": "917b7be1",
   "metadata": {},
   "outputs": [],
   "source": [
    "import unittest\n",
    "\n",
    "def my_division(a, b):\n",
    "    if b == 0:\n",
    "        raise ValueError(\"Division by zero is detected!\")\n",
    "    return a/b"
   ]
  },
  {
   "cell_type": "markdown",
   "id": "2de41946",
   "metadata": {},
   "source": [
    "It is the implementation of a division function that raises an error when the denominator is zero. Let's test if it works:"
   ]
  },
  {
   "cell_type": "code",
   "execution_count": 3,
   "id": "104509ca",
   "metadata": {},
   "outputs": [
    {
     "ename": "ValueError",
     "evalue": "Division by zero is detected!",
     "output_type": "error",
     "traceback": [
      "\u001b[0;31m---------------------------------------------------------------------------\u001b[0m",
      "\u001b[0;31mValueError\u001b[0m                                Traceback (most recent call last)",
      "Cell \u001b[0;32mIn[3], line 1\u001b[0m\n\u001b[0;32m----> 1\u001b[0m \u001b[43mmy_division\u001b[49m\u001b[43m(\u001b[49m\u001b[38;5;241;43m5\u001b[39;49m\u001b[43m,\u001b[49m\u001b[43m \u001b[49m\u001b[38;5;241;43m0\u001b[39;49m\u001b[43m)\u001b[49m\n",
      "Cell \u001b[0;32mIn[2], line 3\u001b[0m, in \u001b[0;36mmy_division\u001b[0;34m(a, b)\u001b[0m\n\u001b[1;32m      1\u001b[0m \u001b[38;5;28;01mdef\u001b[39;00m \u001b[38;5;21mmy_division\u001b[39m(a,b):\n\u001b[1;32m      2\u001b[0m     \u001b[38;5;28;01mif\u001b[39;00m b \u001b[38;5;241m==\u001b[39m \u001b[38;5;241m0\u001b[39m:\n\u001b[0;32m----> 3\u001b[0m         \u001b[38;5;28;01mraise\u001b[39;00m \u001b[38;5;167;01mValueError\u001b[39;00m(\u001b[38;5;124m\"\u001b[39m\u001b[38;5;124mDivision by zero is detected!\u001b[39m\u001b[38;5;124m\"\u001b[39m)\n\u001b[1;32m      4\u001b[0m     \u001b[38;5;28;01mreturn\u001b[39;00m a\u001b[38;5;241m/\u001b[39mb\n",
      "\u001b[0;31mValueError\u001b[0m: Division by zero is detected!"
     ]
    }
   ],
   "source": [
    "my_division(5, 0)"
   ]
  },
  {
   "cell_type": "markdown",
   "id": "2e14fe13",
   "metadata": {},
   "source": [
    "Each time the `b` parameter is set to 0, a `ValueError` will be raised."
   ]
  },
  {
   "cell_type": "markdown",
   "id": "68c0388b-59e8-4eff-b565-a8cd3e457a7c",
   "metadata": {},
   "source": [
    "## Syntax"
   ]
  },
  {
   "cell_type": "markdown",
   "id": "20b00729-6d0a-4ab1-b5b0-b0f878298957",
   "metadata": {},
   "source": [
    "Typical syntax is: \n",
    "\n",
    "`assertRaises(<expected exception>, <function>, *<arguments that trigger the error>)`. \n",
    "\n",
    "You don't need to call the function directly; instead, you pass it along with the test case details to `unittest.TestCase.assertRaises`."
   ]
  },
  {
   "cell_type": "markdown",
   "id": "7f9631f9",
   "metadata": {},
   "source": [
    "---\n",
    "\n",
    "In the example below, the first test triggers a `ValueError` in `my_division`, while the second does not. This ensures that if an error does not occur when expected, you'll be alerted:"
   ]
  },
  {
   "cell_type": "code",
   "execution_count": 2,
   "id": "10d598cc-0dc0-4528-b53a-49c7acae2a3e",
   "metadata": {},
   "outputs": [
    {
     "name": "stderr",
     "output_type": "stream",
     "text": [
      "test_error (__main__.MyCase)\n",
      "Case where division by zero doesn't happen. ... FAIL\n",
      "test_sucessfull (__main__.MyCase)\n",
      "Case where division by zero occurs. ... ok\n",
      "\n",
      "======================================================================\n",
      "FAIL: test_error (__main__.MyCase)\n",
      "Case where division by zero doesn't happen.\n",
      "----------------------------------------------------------------------\n",
      "Traceback (most recent call last):\n",
      "  File \"/tmp/ipykernel_19354/169255605.py\", line 20, in test_error\n",
      "    self.assertRaises(\n",
      "AssertionError: ValueError not raised by my_division\n",
      "\n",
      "----------------------------------------------------------------------\n",
      "Ran 2 tests in 0.005s\n",
      "\n",
      "FAILED (failures=1)\n"
     ]
    }
   ],
   "source": [
    "class MyCase(unittest.TestCase):\n",
    "    def test_sucessfull(self):\n",
    "        '''\n",
    "        Case where division by zero occurs.\n",
    "        So testing for it will be successful.\n",
    "        '''\n",
    "        self.assertRaises(\n",
    "            ValueError,\n",
    "            my_division,\n",
    "            10, 0\n",
    "        )\n",
    "\n",
    "    def test_error(self):\n",
    "        '''\n",
    "        Case where division by zero doesn't happen.\n",
    "        So testing for it won't finish well.\n",
    "        '''\n",
    "        self.assertRaises(\n",
    "            ValueError,\n",
    "            my_division,\n",
    "            10,2\n",
    "        )\n",
    "\n",
    "ans = unittest.main(argv=[''], verbosity=2, exit=False)\n",
    "del MyCase"
   ]
  },
  {
   "cell_type": "markdown",
   "id": "003e1e61-20fd-4c63-9e5a-8c1b32013351",
   "metadata": {},
   "source": [
    "As a result we have that one test goes fine, but the second leads to the error."
   ]
  },
  {
   "cell_type": "markdown",
   "id": "d9714e1a",
   "metadata": {},
   "source": [
    "The second option is to use `unittest.TestCase.assertRaises` as a context manager and call the function under consideration within this context."
   ]
  },
  {
   "cell_type": "markdown",
   "id": "8a951cc3",
   "metadata": {},
   "source": [
    "---\n",
    "\n",
    "The following example demonstrates how it can be applied to the `my_division` function."
   ]
  },
  {
   "cell_type": "code",
   "execution_count": 3,
   "id": "9a2433e4-d141-4917-b162-7757294fdee6",
   "metadata": {},
   "outputs": [
    {
     "name": "stderr",
     "output_type": "stream",
     "text": [
      "test_case (__main__.MyCase) ... ok\n",
      "\n",
      "----------------------------------------------------------------------\n",
      "Ran 1 test in 0.001s\n",
      "\n",
      "OK\n"
     ]
    }
   ],
   "source": [
    "class MyCase(unittest.TestCase):\n",
    "    def test_case(self):\n",
    "        with self.assertRaises(ValueError):\n",
    "            my_division(10, 0)\n",
    "\n",
    "ans = unittest.main(argv=[''], verbosity=2, exit=False)\n",
    "del MyCase"
   ]
  },
  {
   "cell_type": "markdown",
   "id": "2de94bca",
   "metadata": {},
   "source": [
    "## Properties of exception\n",
    "\n",
    "If you need to check if the raised exception has specific properties, use the context manager syntax. The context object will have an `exception` attribute that contains the raised exception."
   ]
  },
  {
   "cell_type": "markdown",
   "id": "062d8098",
   "metadata": {},
   "source": [
    "---\n",
    "\n",
    "The following cell demonstrates the use of `unittest.TestCase().assertRaises(ValueError)` to check that a `ValueError` is raised within the specified context."
   ]
  },
  {
   "cell_type": "code",
   "execution_count": 34,
   "id": "6a34b6dd",
   "metadata": {},
   "outputs": [
    {
     "data": {
      "text/plain": [
       "ValueError('Something wrong')"
      ]
     },
     "metadata": {},
     "output_type": "display_data"
    },
    {
     "data": {
      "text/plain": [
       "True"
      ]
     },
     "metadata": {},
     "output_type": "display_data"
    }
   ],
   "source": [
    "with unittest.TestCase().assertRaises(ValueError) as raise_value:\n",
    "    raised_error = ValueError(\"Something wrong\")\n",
    "    raise raised_error\n",
    "\n",
    "display(raise_value.exception)\n",
    "display(raised_error is raise_value.exception)"
   ]
  },
  {
   "cell_type": "markdown",
   "id": "530c6389",
   "metadata": {},
   "source": [
    "As a result, the context object `raise_value` contains an attribute `exception`, which is the literal exception object raised within the context."
   ]
  }
 ],
 "metadata": {
  "kernelspec": {
   "display_name": "Python 3 (ipykernel)",
   "language": "python",
   "name": "python3"
  },
  "language_info": {
   "codemirror_mode": {
    "name": "ipython",
    "version": 3
   },
   "file_extension": ".py",
   "mimetype": "text/x-python",
   "name": "python",
   "nbconvert_exporter": "python",
   "pygments_lexer": "ipython3",
   "version": "3.10.14"
  }
 },
 "nbformat": 4,
 "nbformat_minor": 5
}
