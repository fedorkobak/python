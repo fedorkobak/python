{
 "cells": [
  {
   "cell_type": "markdown",
   "id": "b9ab4d95-5cf4-44f3-b6c0-aadc63989081",
   "metadata": {},
   "source": [
    "# Syntax\n",
    "\n",
    "Here we look at different syntax options for performing mocking."
   ]
  },
  {
   "cell_type": "code",
   "execution_count": 1,
   "id": "e7f64b2a",
   "metadata": {},
   "outputs": [],
   "source": [
    "import unittest"
   ]
  },
  {
   "cell_type": "markdown",
   "id": "7bfe3a0b",
   "metadata": {},
   "source": [
    "## Mock object\n",
    "\n",
    "You can define the behaviour of any object you like. Just pass a `Mock()` instance instead."
   ]
  },
  {
   "cell_type": "markdown",
   "id": "fc55fc73",
   "metadata": {},
   "source": [
    "---\n",
    "\n",
    "The following cell defines a class that can perform optional operations on the list using the `list_operation` method."
   ]
  },
  {
   "cell_type": "code",
   "execution_count": null,
   "id": "550de98c",
   "metadata": {},
   "outputs": [],
   "source": [
    "class Example:\n",
    "    def __init__(self, list_operation):\n",
    "        self.list_operation = list_operation\n",
    "    def call_fun(self, lst):\n",
    "        return self.list_operation(lst)"
   ]
  },
  {
   "cell_type": "markdown",
   "id": "46158d41",
   "metadata": {},
   "source": [
    "Now suppose you want to write test to this class and check that `list_operation` has been called in the correct way."
   ]
  },
  {
   "cell_type": "markdown",
   "id": "a4c604a9",
   "metadata": {},
   "source": [
    "Just create `Mock()` instance and pass it insead of the function that have to be specified for `Example` in constructor.\n",
    "\n",
    "The following cell shows an example that checks the output of `Example.call_fun` and that everything passed correctly."
   ]
  },
  {
   "cell_type": "code",
   "execution_count": null,
   "id": "729ce330",
   "metadata": {},
   "outputs": [
    {
     "name": "stderr",
     "output_type": "stream",
     "text": [
      "test_fail (__main__.TestExample)\n",
      "And to be sure that evertything ... FAIL\n",
      "test_ok (__main__.TestExample) ... ok\n",
      "\n",
      "======================================================================\n",
      "FAIL: test_fail (__main__.TestExample)\n",
      "And to be sure that evertything\n",
      "----------------------------------------------------------------------\n",
      "Traceback (most recent call last):\n",
      "  File \"/tmp/ipykernel_279798/3126998038.py\", line 33, in test_fail\n",
      "    mock_list_operation.assert_called_with([3,2,1])\n",
      "  File \"/usr/lib/python3.10/unittest/mock.py\", line 929, in assert_called_with\n",
      "    raise AssertionError(_error_message()) from cause\n",
      "AssertionError: expected call not found.\n",
      "Expected: mock([3, 2, 1])\n",
      "Actual: mock([10, 20, 30])\n",
      "\n",
      "----------------------------------------------------------------------\n",
      "Ran 2 tests in 0.002s\n",
      "\n",
      "FAILED (failures=1)\n"
     ]
    }
   ],
   "source": [
    "class TestExample(unittest.TestCase):\n",
    "    def test_ok(self):\n",
    "        \n",
    "        # Creating mock and difining it's behaviour\n",
    "        mock_list_operation = unittest.mock.Mock()\n",
    "        mock_list_operation.return_value = \"mocked result\"\n",
    "\n",
    "        example = Example(mock_list_operation)\n",
    "        \n",
    "        sample_list = [1, 2, 3]\n",
    "        \n",
    "        result = example.call_fun(sample_list)\n",
    "        # Assert that the result is as expected\n",
    "        self.assertEqual(result, \"mocked result\")\n",
    "        \n",
    "        # Assert that the mock was called with the correct arguments\n",
    "        mock_list_operation.assert_called_once_with(sample_list)\n",
    "\n",
    "    def test_fail(self):\n",
    "        '''\n",
    "        And to be sure that evertything\n",
    "        works lets try example that fails\n",
    "        '''\n",
    "        mock_list_operation = unittest.mock.Mock()\n",
    "        mock_list_operation.return_value = \"mocked result\"\n",
    "        example = Example(mock_list_operation)\n",
    "        example.call_fun([10,20,30])\n",
    "        mock_list_operation.assert_called_with([3,2,1])\n",
    "\n",
    "ans = unittest.main(argv=[''], verbosity=2, exit=False)\n",
    "del TestExample"
   ]
  },
  {
   "cell_type": "markdown",
   "id": "feb7db0e",
   "metadata": {},
   "source": [
    "As expected, `test_ok` ran fine and `test_fail` failed."
   ]
  },
  {
   "cell_type": "markdown",
   "id": "77752492",
   "metadata": {},
   "source": [
    "## Patch\n",
    "\n",
    "You can change the behavior of an existing function or method by patching it with `unittest.mock.patch`. You just need to specify the `target`, which refers to an object in Python. Find out more in the [specific page](patch.ipynb)."
   ]
  },
  {
   "cell_type": "markdown",
   "id": "9da52db2",
   "metadata": {},
   "source": [
    "---\n",
    "\n",
    "The following cell defines a function that we'll patch shortly. It's just a regular function with an obvious output."
   ]
  },
  {
   "cell_type": "code",
   "execution_count": null,
   "id": "25a282c3",
   "metadata": {},
   "outputs": [
    {
     "name": "stdout",
     "output_type": "stream",
     "text": [
      "5\n"
     ]
    }
   ],
   "source": [
    "def some_function(a, b):\n",
    "    return a + b\n",
    "\n",
    "print(some_function(3, 2))"
   ]
  },
  {
   "cell_type": "markdown",
   "id": "33ee4916",
   "metadata": {},
   "source": [
    "The following cell wraps the function with the `unittest.mock.patch` context, where the path to that function is specified:"
   ]
  },
  {
   "cell_type": "code",
   "execution_count": null,
   "id": "c16cda95",
   "metadata": {},
   "outputs": [
    {
     "name": "stdout",
     "output_type": "stream",
     "text": [
      "<class 'unittest.mock.MagicMock'>\n",
      "hello from patch\n"
     ]
    }
   ],
   "source": [
    "with unittest.mock.patch(\"__main__.some_function\") as patch:\n",
    "    print(type(patch))\n",
    "    patch.return_value = \"hello from patch\"\n",
    "    print(some_function(3, 2))"
   ]
  },
  {
   "cell_type": "markdown",
   "id": "dcc0e200",
   "metadata": {},
   "source": [
    "The target variable of the context manager - `patch` here - is of type `unittest.mock.MagicMock` and actually defines the behavior of the function specified as the target. Thus, calling `some_function` returns the value specified in the `return_value` attribute."
   ]
  }
 ],
 "metadata": {
  "kernelspec": {
   "display_name": "venv",
   "language": "python",
   "name": "python3"
  },
  "language_info": {
   "codemirror_mode": {
    "name": "ipython",
    "version": 3
   },
   "file_extension": ".py",
   "mimetype": "text/x-python",
   "name": "python",
   "nbconvert_exporter": "python",
   "pygments_lexer": "ipython3",
   "version": "3.12.3"
  }
 },
 "nbformat": 4,
 "nbformat_minor": 5
}
