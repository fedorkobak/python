{
 "cells": [
  {
   "cell_type": "markdown",
   "metadata": {},
   "source": [
    "# Build\n",
    "\n",
    "This page considers details on building python from source.\n",
    "\n",
    "**Note**: The examples in this notebook must be run in the same environment, as they can alter your system's configuration.\n",
    "\n",
    "You can **download the distribution** from the corresponding *releases* of the official [github account](https://github.com/python/cpython/tags).\n",
    "\n",
    "Check [Compile and build](https://devguide.python.org/getting-started/setup-building/#compile-and-build) section of documentation."
   ]
  },
  {
   "cell_type": "markdown",
   "metadata": {},
   "source": [
    "The following cell installs everything needed to build Python, downloads, and extracts the Python version that we'll use as an example."
   ]
  },
  {
   "cell_type": "code",
   "execution_count": 9,
   "metadata": {
    "vscode": {
     "languageId": "shellscript"
    }
   },
   "outputs": [],
   "source": [
    "apt update &> /dev/null && apt install -y wget gcc make &> /dev/null\n",
    "[ -d /tmp/installation ] && rm -r /tmp/installation\n",
    "mkdir /tmp/installation\n",
    "cd /tmp/installation\n",
    "wget -q https://github.com/python/cpython/archive/refs/tags/3.8.tar.gz\n",
    "tar -xzf 3.8.tar.gz\n",
    "cd cpython-3.8"
   ]
  },
  {
   "cell_type": "markdown",
   "metadata": {},
   "source": [
    "The resulting Python build may or may not include specific features. This is typically determined during the `./configure` step using CLI parameters that start with the word `with`."
   ]
  },
  {
   "cell_type": "markdown",
   "metadata": {},
   "source": [
    "All available options can be checked by running the `./configure --help` command."
   ]
  },
  {
   "cell_type": "markdown",
   "metadata": {},
   "source": [
    "---\n",
    "\n",
    "The following cell displays parts of the `./configure --help` command, as the full output is too lengthy."
   ]
  },
  {
   "cell_type": "code",
   "execution_count": 12,
   "metadata": {
    "vscode": {
     "languageId": "shellscript"
    }
   },
   "outputs": [
    {
     "name": "stdout",
     "output_type": "stream",
     "text": [
      "  --disable-option-checking  ignore unrecognized --enable/--with options\n",
      "  --enable-ipv6           Enable ipv6 (with ipv4) support\n",
      "  --with-PACKAGE[=ARG]    use PACKAGE [ARG=yes]\n",
      "  --without-PACKAGE       do not use PACKAGE (same as --with-PACKAGE=no)\n",
      "  --with-universal-archs=ARCH\n",
      "  --with-framework-name=FRAMEWORK\n",
      "                          with --enable-framework\n",
      "  --with-cxx-main=<compiler>\n",
      "                          compile main() and link python executable with C++\n",
      "  --with-suffix=.exe      set executable suffix\n",
      "  --with-pydebug          build with Py_DEBUG defined\n",
      "  --with-trace-refs       enable tracing references for debugging purpose\n",
      "  --with-assertions       build with C assertions enabled\n",
      "  --with-lto              Enable Link Time Optimization in any build. Disabled\n",
      "  --with-hash-algorithm=[fnv|siphash24]\n",
      "  --with-address-sanitizer\n",
      "  --with-memory-sanitizer enable MemorySanitizer (msan)\n",
      "  --with-undefined-behavior-sanitizer\n",
      "  --with-libs='lib1 ...'  link against additional libs\n",
      "  --with-system-expat     build pyexpat module using an installed expat\n"
     ]
    }
   ],
   "source": [
    "./configure --help | grep with | head -n 20"
   ]
  },
  {
   "cell_type": "markdown",
   "metadata": {},
   "source": [
    "## Builtin packages\n",
    "\n",
    "There is a set of python packages that can only be installed by building python."
   ]
  },
  {
   "cell_type": "markdown",
   "metadata": {},
   "source": [
    "Some packages can only be included in the Python build if the corresponding tools are installed on the system. The following table lists some of the required utilities.\n",
    "\n",
    "| Python Module            | Purpose                                | Required System Package(s)             |\n",
    "| ------------------------ | -------------------------------------- | -------------------------------------- |\n",
    "| `bz2`                    | bzip2 compression                      | `libbz2-dev`                           |\n",
    "| `lzma`                   | LZMA compression                       | `liblzma-dev` (or `xz-devel`)          |\n",
    "| `ssl`                    | SSL/TLS support                        | `libssl-dev` (or `openssl-devel`)      |\n",
    "| `sqlite3`                | SQLite support                         | `libsqlite3-dev`                       |\n",
    "| `_ctypes`                | C foreign function interface           | `libffi-dev`                           |\n",
    "| `tkinter`                | GUI support with Tk                    | `tk-dev`, `libtk8.6`, `libtcl8.6-dev`  |\n",
    "| `readline`               | Command line editing (e.g., `input()`) | `libreadline-dev`                      |\n",
    "| `gdbm`                   | GNU dbm database                       | `libgdbm-dev`                          |\n",
    "| `dbm.ndbm`               | Unix ndbm database                     | `libndbm-dev` (or part of `libc6-dev`) |\n",
    "| `_uuid`                  | UUID support                           | `uuid-dev`                             |\n",
    "| `zlib`                   | Compression support                    | `zlib1g-dev`                           |\n",
    "| `_decimal`               | Decimal floating point                 | `libmpdec-dev`                         |\n",
    "| `_sqlite3`               | SQLite bindings                        | `libsqlite3-dev`                       |\n",
    "| `_ssl`                   | SSL module                             | `libssl-dev`                           |\n",
    "| `_hashlib`               | Hashing (SHA, MD5)                     | `libssl-dev`                           |\n",
    "| `_tkinter`               | GUI support                            | `tk-dev`, `tcl-dev`                    |\n",
    "| `_curses`                | Terminal handling                      | `libncursesw5-dev`                     |\n",
    "| `_bz2`                   | bzip2 support                          | `libbz2-dev`                           |\n",
    "| `_lzma`                  | xz compression                         | `liblzma-dev`                          |\n",
    "| `termios`, `fcntl`, etc. | Terminal and system call interfaces    | Usually always built on Unix           |\n"
   ]
  },
  {
   "cell_type": "markdown",
   "metadata": {},
   "source": [
    "Here are the parameters required for package installation, the absence of which caused some problems in my practice:\n",
    "\n",
    "- `--with-ensurepip`: garantees that python will have the `ensurepip` package, which installes pip in python and possble virtual environments.\n",
    "- `--with-ssl-default-sites=openssl` to include the ssl module in the build."
   ]
  }
 ],
 "metadata": {
  "kernelspec": {
   "display_name": "Bash",
   "language": "bash",
   "name": "bash"
  },
  "language_info": {
   "codemirror_mode": "shell",
   "file_extension": ".sh",
   "mimetype": "text/x-sh",
   "name": "bash"
  }
 },
 "nbformat": 4,
 "nbformat_minor": 2
}
