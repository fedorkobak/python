{
 "cells": [
  {
   "cell_type": "markdown",
   "id": "ef9c0fc3-478d-4ec7-85bd-a3726d61199f",
   "metadata": {},
   "source": [
    "# list\n",
    "\n",
    "Is an array that you can change at runtime."
   ]
  },
  {
   "cell_type": "markdown",
   "id": "b4f5f50c-2831-4978-9ebb-98d953ba907e",
   "metadata": {},
   "source": [
    "## Remove by index\n",
    "\n",
    "The `pop` method allows you to delete an element by index and retrieve the deleted element. If an index isn't passed to the method, it will remove the last element by default."
   ]
  },
  {
   "cell_type": "markdown",
   "id": "318160fc",
   "metadata": {},
   "source": [
    "---\n",
    "\n",
    "Consider removing elements from the following list:"
   ]
  },
  {
   "cell_type": "code",
   "execution_count": 13,
   "id": "27021c1d-104f-4daf-a8df-d736fc6716f4",
   "metadata": {},
   "outputs": [],
   "source": [
    "test_list = [3, 4, 5, 2]"
   ]
  },
  {
   "cell_type": "markdown",
   "id": "6177629b",
   "metadata": {},
   "source": [
    "The following cell displays the output of the `.pip(2)` method and the transformation of the input."
   ]
  },
  {
   "cell_type": "code",
   "execution_count": 14,
   "id": "0e32f866",
   "metadata": {},
   "outputs": [
    {
     "name": "stdout",
     "output_type": "stream",
     "text": [
      "Poped element 5\n",
      "Result list [3, 4, 2]\n"
     ]
    }
   ],
   "source": [
    "print(\"Poped element\", test_list.pop(2))\n",
    "print(\"Result list\", test_list)"
   ]
  },
  {
   "cell_type": "markdown",
   "id": "e8fb5e0a",
   "metadata": {},
   "source": [
    "The following cell shows the same ouputs for the `.pip()` function without a provided index."
   ]
  },
  {
   "cell_type": "code",
   "execution_count": 15,
   "id": "f50b8b07",
   "metadata": {},
   "outputs": [
    {
     "name": "stdout",
     "output_type": "stream",
     "text": [
      "Poped element 2\n",
      "Result list [3, 4]\n"
     ]
    }
   ],
   "source": [
    "print(\"Poped element\", test_list.pop())\n",
    "print(\"Result list\", test_list)"
   ]
  },
  {
   "cell_type": "markdown",
   "id": "daee62ea-916a-49a9-ace2-d39399b6585d",
   "metadata": {},
   "source": [
    "## `remove` - delete by value"
   ]
  },
  {
   "cell_type": "markdown",
   "id": "6ff6c304-aa44-4a0b-b0ba-e845e91238ab",
   "metadata": {},
   "source": [
    "You can delete element by value."
   ]
  },
  {
   "cell_type": "code",
   "execution_count": 3,
   "id": "c32353cf-ddcf-432e-b132-2a4cbb71b4b4",
   "metadata": {},
   "outputs": [
    {
     "name": "stdout",
     "output_type": "stream",
     "text": [
      "initial list [4, 5, 4, 5]\n",
      "resutl list [5, 4, 5]\n"
     ]
    }
   ],
   "source": [
    "test_list = [4,5,4,5]\n",
    "print(\"initial list\", test_list)\n",
    "test_list.remove(4)\n",
    "print(\"resutl list\", test_list)"
   ]
  },
  {
   "cell_type": "markdown",
   "id": "dc118009-b963-4b06-9d7e-fbb923788578",
   "metadata": {},
   "source": [
    "**Note** that if there's no removing value in the source list, you'll have an error."
   ]
  },
  {
   "cell_type": "code",
   "execution_count": 4,
   "id": "aa096eb0-bd9c-4d36-b4ff-165740747508",
   "metadata": {},
   "outputs": [
    {
     "ename": "ValueError",
     "evalue": "list.remove(x): x not in list",
     "output_type": "error",
     "traceback": [
      "\u001b[0;31m---------------------------------------------------------------------------\u001b[0m",
      "\u001b[0;31mValueError\u001b[0m                                Traceback (most recent call last)",
      "Cell \u001b[0;32mIn[4], line 2\u001b[0m\n\u001b[1;32m      1\u001b[0m test_list \u001b[38;5;241m=\u001b[39m [\u001b[38;5;241m5\u001b[39m,\u001b[38;5;241m3\u001b[39m,\u001b[38;5;241m4\u001b[39m,\u001b[38;5;241m1\u001b[39m]\n\u001b[0;32m----> 2\u001b[0m \u001b[43mtest_list\u001b[49m\u001b[38;5;241;43m.\u001b[39;49m\u001b[43mremove\u001b[49m\u001b[43m(\u001b[49m\u001b[38;5;241;43m6\u001b[39;49m\u001b[43m)\u001b[49m\n",
      "\u001b[0;31mValueError\u001b[0m: list.remove(x): x not in list"
     ]
    }
   ],
   "source": [
    "test_list = [5,3,4,1]\n",
    "test_list.remove(6)"
   ]
  },
  {
   "cell_type": "markdown",
   "id": "ece99d41-b663-447c-8ea9-7338771ef660",
   "metadata": {},
   "source": [
    "## Index of the value\n",
    "\n",
    "Using the `index` method of the `list` you can get the index by which you can get the first occurrence of this element in the list. It always returns the index of the first entry of the element in the list."
   ]
  },
  {
   "cell_type": "markdown",
   "id": "65336a3b",
   "metadata": {},
   "source": [
    "---\n",
    "\n",
    "In the following example I ask `.index(3)` and got 2 as a result because the first occurrence of number 3 in the 2 index."
   ]
  },
  {
   "cell_type": "code",
   "execution_count": 9,
   "id": "1babffca-dfe7-4218-ad7c-d3db9be2366f",
   "metadata": {},
   "outputs": [
    {
     "data": {
      "text/plain": [
       "2"
      ]
     },
     "execution_count": 9,
     "metadata": {},
     "output_type": "execute_result"
    }
   ],
   "source": [
    "test_list = [1, 2, 3, 4, 3, 5]\n",
    "test_list.index(3)"
   ]
  },
  {
   "cell_type": "markdown",
   "id": "dab2f39d",
   "metadata": {},
   "source": [
    "A common way to use this method is in sorting tasks involving related lists. If you have two types of lists, and one determines the order of elements in the other, you can find the index of the maximum or minimum element in the ordering list to extract the corresponding element from the related list.\n",
    "\n",
    "The following code shows how to extract the element of the `keys` list that corresponds to the max value in the `values` list."
   ]
  },
  {
   "cell_type": "code",
   "execution_count": 12,
   "id": "c0ac23c7",
   "metadata": {},
   "outputs": [
    {
     "data": {
      "text/plain": [
       "'big'"
      ]
     },
     "execution_count": 12,
     "metadata": {},
     "output_type": "execute_result"
    }
   ],
   "source": [
    "keys = [\"small\", \"big\", \"medium\"]\n",
    "values = [0.0, 0.8, 0.5]\n",
    "\n",
    "keys[values.index(max(values))]"
   ]
  },
  {
   "cell_type": "markdown",
   "id": "8988f1ee-7e82-4579-aa9d-6ce5ac83f3f3",
   "metadata": {},
   "source": [
    "## `appned` vs `+`\n",
    "\n",
    "There are two common ways to extend a Python list: by using the `append` method and the `+` operator. There is a significant difference: `+` creates a new list and copies operands to it, but `append` changes the initial list."
   ]
  },
  {
   "cell_type": "markdown",
   "id": "22704cf9",
   "metadata": {},
   "source": [
    "---\n",
    "\n",
    "The following example:\n",
    "\n",
    "- Prints \"Initial list: <id>\";\n",
    "- Prints id of list modified with `+` operator - it has different id with initial list;\n",
    "- Prints the id of the list modified with the `append` method - it has the same id as the initial list."
   ]
  },
  {
   "cell_type": "code",
   "execution_count": 6,
   "id": "21a37c9f-5d8a-4f6f-bf04-59a6adff6d42",
   "metadata": {},
   "outputs": [
    {
     "name": "stdout",
     "output_type": "stream",
     "text": [
      "Initial list: 139771686692224\n",
      "Plus list: 139771686592256\n",
      "Append list: 139771686692224\n"
     ]
    }
   ],
   "source": [
    "internal_list = [1,2,3,4,5]\n",
    "print(\"Initial list:\", id(internal_list))\n",
    "print(\"Plus list:\", id(internal_list + [3]))\n",
    "internal_list.append(3)\n",
    "print(\"Append list:\", id(internal_list))"
   ]
  },
  {
   "cell_type": "markdown",
   "id": "4c031439-6882-4582-b115-1bf47151f982",
   "metadata": {},
   "source": [
    "## Drop duplicates\n",
    "\n",
    "A popular task when processing lists is to removing duplicate entries.\n",
    "\n",
    "- Converting to a `set`, allows to remove duplicates. However, converting back to a list will not follow the original order.\n",
    "- The second approach is to iterate over the elements of the list and add only those elements to the result list whose indices match the first entry of the original list."
   ]
  },
  {
   "cell_type": "markdown",
   "id": "2a99e948",
   "metadata": {},
   "source": [
    "---\n",
    "\n",
    "Consider the realization of the different approaches applied to the example defined in the following cell."
   ]
  },
  {
   "cell_type": "code",
   "execution_count": 4,
   "id": "70b14509-5978-40ec-8751-3a838c973bb3",
   "metadata": {},
   "outputs": [],
   "source": [
    "test_list = [1, 4, 4, 2, 2, 3, 3]"
   ]
  },
  {
   "cell_type": "markdown",
   "id": "75ae54c0",
   "metadata": {},
   "source": [
    "The following example allows you to obtain unique values, but despite the fact that the elements in the original list are not in ascending order, they are in the result of the transformation."
   ]
  },
  {
   "cell_type": "code",
   "execution_count": 5,
   "id": "0d7c6909",
   "metadata": {},
   "outputs": [
    {
     "data": {
      "text/plain": [
       "[1, 2, 3, 4]"
      ]
     },
     "execution_count": 5,
     "metadata": {},
     "output_type": "execute_result"
    }
   ],
   "source": [
    "list(set(test_list))"
   ]
  },
  {
   "cell_type": "markdown",
   "id": "166cf52f",
   "metadata": {},
   "source": [
    "The next cell adds to the output of the list generator only those elements whose index matches with the output of the `index` method for the corresponding value in the original list."
   ]
  },
  {
   "cell_type": "code",
   "execution_count": 6,
   "id": "30380672",
   "metadata": {},
   "outputs": [
    {
     "data": {
      "text/plain": [
       "[1, 4, 2, 3]"
      ]
     },
     "execution_count": 6,
     "metadata": {},
     "output_type": "execute_result"
    }
   ],
   "source": [
    "[val for i, val in enumerate(test_list) if test_list.index(val) == i]"
   ]
  },
  {
   "cell_type": "markdown",
   "id": "7b80a56f",
   "metadata": {},
   "source": [
    "As a result, the list of unique values preserves the order of elements of the original list."
   ]
  }
 ],
 "metadata": {
  "kernelspec": {
   "display_name": "python (3.13.5)",
   "language": "python",
   "name": "python3"
  },
  "language_info": {
   "codemirror_mode": {
    "name": "ipython",
    "version": 3
   },
   "file_extension": ".py",
   "mimetype": "text/x-python",
   "name": "python",
   "nbconvert_exporter": "python",
   "pygments_lexer": "ipython3",
   "version": "3.11.13"
  }
 },
 "nbformat": 4,
 "nbformat_minor": 5
}
