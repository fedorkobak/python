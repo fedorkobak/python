{
 "cells": [
  {
   "cell_type": "markdown",
   "id": "a0777292-bda8-4b09-b992-b51e8d2408b9",
   "metadata": {},
   "source": [
    "# set"
   ]
  },
  {
   "cell_type": "markdown",
   "id": "be947b83-52e9-4c9d-9abf-fdce7a0bbb1a",
   "metadata": {},
   "source": [
    "Array of unique values. You can create it by using `{<element1>, <element2>, ..., <elementn>}` or `tuple` function.\n",
    "\n",
    "In the following example, I show that it can contain only unique elements. Although element 2 is specified twice, it appears only once as a result."
   ]
  },
  {
   "cell_type": "code",
   "execution_count": 1,
   "id": "acfbfd87-0eb6-41fc-8690-ef8377aaca5f",
   "metadata": {},
   "outputs": [
    {
     "data": {
      "text/plain": [
       "{1, 2, 3, 4}"
      ]
     },
     "execution_count": 1,
     "metadata": {},
     "output_type": "execute_result"
    }
   ],
   "source": [
    "{1,2,3,4,2}"
   ]
  },
  {
   "cell_type": "markdown",
   "id": "e50e76d8-d227-482a-a009-3890ead56e30",
   "metadata": {},
   "source": [
    "## Empty set\n",
    "\n",
    "To create an empty set you should:\n",
    "\n",
    "- Use the `set` function without arguments;\n",
    "- Do **not** use empty curly brackets, it will create empty `dict` not `set`;\n",
    "- Do **not** use curly curly brackets with a comma (lite it works for `tuple`), it will cause an error."
   ]
  },
  {
   "cell_type": "markdown",
   "id": "0bc0701d-5692-4a1a-95b4-012f556068b9",
   "metadata": {},
   "source": [
    "The following cell shows that curly brackets alone create a `tuple` but not a `set`. And the `set()` expression will in turn create an instance of `set`."
   ]
  },
  {
   "cell_type": "code",
   "execution_count": 2,
   "id": "20ee637e-f06c-43e9-b292-bf064ab36a03",
   "metadata": {},
   "outputs": [
    {
     "name": "stdout",
     "output_type": "stream",
     "text": [
      "<class 'dict'>\n",
      "<class 'set'>\n"
     ]
    }
   ],
   "source": [
    "print(type({}))\n",
    "print(type(set()))"
   ]
  },
  {
   "cell_type": "markdown",
   "id": "4b9d2e55-c965-485e-9b88-1aee1c6e1487",
   "metadata": {},
   "source": [
    "The following cell shows that using braces with a comma is an error."
   ]
  },
  {
   "cell_type": "code",
   "execution_count": 3,
   "id": "2fd39625-13e2-43a1-b21d-9b7deee15139",
   "metadata": {},
   "outputs": [
    {
     "ename": "SyntaxError",
     "evalue": "invalid syntax (3645013520.py, line 1)",
     "output_type": "error",
     "traceback": [
      "\u001b[0;36m  Cell \u001b[0;32mIn[3], line 1\u001b[0;36m\u001b[0m\n\u001b[0;31m    {,}\u001b[0m\n\u001b[0m     ^\u001b[0m\n\u001b[0;31mSyntaxError\u001b[0m\u001b[0;31m:\u001b[0m invalid syntax\n"
     ]
    }
   ],
   "source": [
    "{,}"
   ]
  },
  {
   "cell_type": "markdown",
   "id": "7ee98629-41b5-4bf8-ab7c-53f8b04cd755",
   "metadata": {},
   "source": [
    "Interestingly, applying the print function to an empty set results in `set()` output."
   ]
  },
  {
   "cell_type": "code",
   "execution_count": 4,
   "id": "746ac219-2efb-4a2b-a982-92f2e7646a23",
   "metadata": {},
   "outputs": [
    {
     "name": "stdout",
     "output_type": "stream",
     "text": [
      "set()\n"
     ]
    }
   ],
   "source": [
    "print(set())"
   ]
  },
  {
   "cell_type": "markdown",
   "id": "f8e3f723-06ec-4742-ad2f-9023f459e6e0",
   "metadata": {},
   "source": [
    "## No order\n",
    "\n",
    "One of the main features of the set datatype is that it doesn't have any order. This has important implications:\n",
    "\n",
    "- You can't apply indexing syntax (the `[]` operator) to sets;\n",
    "- There are no functions associated with indexing (e.g. `pop` in the list datatype)."
   ]
  },
  {
   "cell_type": "markdown",
   "id": "edb59ea7-9ca5-4acd-9563-030f291b7754",
   "metadata": {},
   "source": [
    "## Only immutable\n",
    "\n",
    "In sets, you can only use immutable datatypes. The following cells show that if you add a mutable type to a tuple (e.g. list), you will get an error."
   ]
  },
  {
   "cell_type": "code",
   "execution_count": 5,
   "id": "2911ccc2-02ce-4b3f-ad18-dc2c9e58cd36",
   "metadata": {},
   "outputs": [
    {
     "data": {
      "text/plain": [
       "{(1, 3, 4), 1, '1', 9.4}"
      ]
     },
     "execution_count": 5,
     "metadata": {},
     "output_type": "execute_result"
    }
   ],
   "source": [
    "{1,\"1\", 9.4, (1,3,4)}"
   ]
  },
  {
   "cell_type": "code",
   "execution_count": 6,
   "id": "c4722378-b8e4-4f65-8984-5c126ca7eefa",
   "metadata": {},
   "outputs": [
    {
     "ename": "TypeError",
     "evalue": "unhashable type: 'list'",
     "output_type": "error",
     "traceback": [
      "\u001b[0;31m---------------------------------------------------------------------------\u001b[0m",
      "\u001b[0;31mTypeError\u001b[0m                                 Traceback (most recent call last)",
      "Cell \u001b[0;32mIn[6], line 1\u001b[0m\n\u001b[0;32m----> 1\u001b[0m {\u001b[38;5;241m1\u001b[39m,\u001b[38;5;124m\"\u001b[39m\u001b[38;5;124m1\u001b[39m\u001b[38;5;124m\"\u001b[39m, \u001b[38;5;241m9.4\u001b[39m, (\u001b[38;5;241m1\u001b[39m,\u001b[38;5;241m3\u001b[39m,\u001b[38;5;241m4\u001b[39m), [\u001b[38;5;241m3\u001b[39m,\u001b[38;5;241m4\u001b[39m,\u001b[38;5;241m5\u001b[39m]}\n",
      "\u001b[0;31mTypeError\u001b[0m: unhashable type: 'list'"
     ]
    }
   ],
   "source": [
    "{1,\"1\", 9.4, (1,3,4), [3,4,5]}"
   ]
  },
  {
   "cell_type": "markdown",
   "id": "7bf852f4-5a32-45b7-9b17-b8d5bd8a66a4",
   "metadata": {},
   "source": [
    "## `add` new value"
   ]
  },
  {
   "cell_type": "code",
   "execution_count": 7,
   "id": "5dd1f2dc-a12e-4d43-92c4-2041c389d75b",
   "metadata": {},
   "outputs": [
    {
     "name": "stdout",
     "output_type": "stream",
     "text": [
      "initital set {1, 2, 3}\n",
      "result set {1, 2, 3, 's'}\n"
     ]
    }
   ],
   "source": [
    "test_set = {1,2,3}\n",
    "print(\"initital set\", test_set)\n",
    "test_set.add(\"s\")\n",
    "print(\"result set\", test_set)"
   ]
  },
  {
   "cell_type": "markdown",
   "id": "7907e9d4-e2ca-4643-b3fd-6d7abb81a869",
   "metadata": {},
   "source": [
    "**Note** that adding an element that already exists in the set won't cause an error, it will simply be ignored."
   ]
  },
  {
   "cell_type": "code",
   "execution_count": 8,
   "id": "6910fb08-66b2-4dfb-89be-2f0a5f8a3692",
   "metadata": {},
   "outputs": [
    {
     "name": "stdout",
     "output_type": "stream",
     "text": [
      "initial set {1, 2, 3, 4}\n",
      "restult set {1, 2, 3, 4}\n"
     ]
    }
   ],
   "source": [
    "test_set = {1,2,3,4}\n",
    "print(\"initial set\", test_set)\n",
    "test_set.add(3)\n",
    "print(\"restult set\", test_set)"
   ]
  },
  {
   "cell_type": "markdown",
   "id": "28ed1d20-2c98-451c-a296-40308afc46e1",
   "metadata": {},
   "source": [
    "## `remove` delete by value"
   ]
  },
  {
   "cell_type": "markdown",
   "id": "e5e933fe-c6b8-420b-b19c-bc38eed5c7af",
   "metadata": {},
   "source": [
    "You can delete element by value."
   ]
  },
  {
   "cell_type": "code",
   "execution_count": 9,
   "id": "a47febaa-79a6-4be7-9d82-bb06c2459123",
   "metadata": {},
   "outputs": [
    {
     "name": "stdout",
     "output_type": "stream",
     "text": [
      "initial list {1, 2, 3, 4, 5}\n",
      "resutl list {1, 2, 3, 5}\n"
     ]
    }
   ],
   "source": [
    "test_set = {1,2,3,4,5}\n",
    "print(\"initial list\", test_set)\n",
    "test_set.remove(4)\n",
    "print(\"resutl list\", test_set)"
   ]
  },
  {
   "cell_type": "markdown",
   "id": "0f338cdd-76a2-4142-aa1a-4cb33adc87be",
   "metadata": {},
   "source": [
    "**Note** that if there's no removing value in the source list, you'll have an error."
   ]
  },
  {
   "cell_type": "code",
   "execution_count": 10,
   "id": "50e3c013-5e14-4ba6-a5e6-e7f6d65d3aef",
   "metadata": {},
   "outputs": [
    {
     "ename": "KeyError",
     "evalue": "6",
     "output_type": "error",
     "traceback": [
      "\u001b[0;31m---------------------------------------------------------------------------\u001b[0m",
      "\u001b[0;31mKeyError\u001b[0m                                  Traceback (most recent call last)",
      "Cell \u001b[0;32mIn[10], line 2\u001b[0m\n\u001b[1;32m      1\u001b[0m test_set \u001b[38;5;241m=\u001b[39m {\u001b[38;5;241m5\u001b[39m,\u001b[38;5;241m3\u001b[39m,\u001b[38;5;241m4\u001b[39m,\u001b[38;5;241m1\u001b[39m}\n\u001b[0;32m----> 2\u001b[0m \u001b[43mtest_set\u001b[49m\u001b[38;5;241;43m.\u001b[39;49m\u001b[43mremove\u001b[49m\u001b[43m(\u001b[49m\u001b[38;5;241;43m6\u001b[39;49m\u001b[43m)\u001b[49m\n",
      "\u001b[0;31mKeyError\u001b[0m: 6"
     ]
    }
   ],
   "source": [
    "test_set = {5,3,4,1}\n",
    "test_set.remove(6)"
   ]
  },
  {
   "cell_type": "markdown",
   "id": "16d11614-1c92-4dbd-b697-a8d53e97dea9",
   "metadata": {},
   "source": [
    "## `intercection`\n",
    "\n",
    "This method allows you to get a set that contains only common elements for argument sets."
   ]
  },
  {
   "cell_type": "code",
   "execution_count": 11,
   "id": "561ffb59-b573-44ca-b5bd-06b7bdc194a5",
   "metadata": {},
   "outputs": [
    {
     "data": {
      "text/plain": [
       "{2, 3}"
      ]
     },
     "execution_count": 11,
     "metadata": {},
     "output_type": "execute_result"
    }
   ],
   "source": [
    "test_set1 = {1,2,3}\n",
    "test_set2 = {2,3,4}\n",
    "test_set1.intersection(test_set2)"
   ]
  },
  {
   "cell_type": "markdown",
   "id": "4ac70590-6337-44f4-8f3c-3eaabc4b92ad",
   "metadata": {},
   "source": [
    "## `union`\n",
    "\n",
    "This method allows you to get a set that contains all elements from both argument sets."
   ]
  },
  {
   "cell_type": "code",
   "execution_count": 12,
   "id": "18a41976-f398-4b61-8850-0815b815f16a",
   "metadata": {},
   "outputs": [
    {
     "data": {
      "text/plain": [
       "{1, 2, 3, 4}"
      ]
     },
     "execution_count": 12,
     "metadata": {},
     "output_type": "execute_result"
    }
   ],
   "source": [
    "test_set1 = {1,2,3}\n",
    "test_set2 = {2,3,4}\n",
    "test_set1.union(test_set2)"
   ]
  },
  {
   "cell_type": "markdown",
   "id": "156650ad-a287-438d-93ac-156d5251ab4d",
   "metadata": {},
   "source": [
    "## `symmetric_difference`\n",
    "\n",
    "This method allows you to get a set that contains elements that are present in only one of the argument sets, but not in both."
   ]
  },
  {
   "cell_type": "code",
   "execution_count": 13,
   "id": "99aa17ee-25d2-4ad4-a3af-c7249bb4ea2b",
   "metadata": {},
   "outputs": [
    {
     "data": {
      "text/plain": [
       "{1, 4}"
      ]
     },
     "execution_count": 13,
     "metadata": {},
     "output_type": "execute_result"
    }
   ],
   "source": [
    "test_set1 = {1,2,3}\n",
    "test_set2 = {2,3,4}\n",
    "test_set1.symmetric_difference(test_set2)"
   ]
  },
  {
   "cell_type": "markdown",
   "id": "09f500b9-d1f9-476b-9473-d41203402c69",
   "metadata": {},
   "source": [
    "## Sets difference `A-B`\n",
    "\n",
    "In case you subtract set A from set B you get a set of elements from the set not contained in set B."
   ]
  },
  {
   "cell_type": "code",
   "execution_count": 14,
   "id": "ca9752c9-3b7a-4c97-ad69-9d9b193de14b",
   "metadata": {},
   "outputs": [
    {
     "data": {
      "text/plain": [
       "{1}"
      ]
     },
     "execution_count": 14,
     "metadata": {},
     "output_type": "execute_result"
    }
   ],
   "source": [
    "test_set1 = {1,2,3}\n",
    "test_set2 = {2,3,4}\n",
    "test_set1 - test_set2"
   ]
  }
 ],
 "metadata": {
  "kernelspec": {
   "display_name": "Python 3 (ipykernel)",
   "language": "python",
   "name": "python3"
  },
  "language_info": {
   "codemirror_mode": {
    "name": "ipython",
    "version": 3
   },
   "file_extension": ".py",
   "mimetype": "text/x-python",
   "name": "python",
   "nbconvert_exporter": "python",
   "pygments_lexer": "ipython3",
   "version": "3.10.12"
  }
 },
 "nbformat": 4,
 "nbformat_minor": 5
}
