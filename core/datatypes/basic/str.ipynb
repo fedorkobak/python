{
 "cells": [
  {
   "cell_type": "markdown",
   "metadata": {},
   "source": [
    "# str\n",
    "\n",
    "This page overviews features of the `str` datatype in python. Find out more in the [correspoding section](https://docs.python.org/3/library/stdtypes.html#text-sequence-type-str) of the official documentation."
   ]
  },
  {
   "cell_type": "markdown",
   "metadata": {},
   "source": [
    "## `istitle` - is first capital\n",
    "\n",
    "Lets you check if all words in the calling string are capitalised.\n",
    "\n",
    "The following example shows how it works for\n",
    "\n",
    "- Lower case only;\n",
    "- One capitalised word;\n",
    "- Line with several capitalised words;\n",
    "- Line with several words but only the first one is capitalised."
   ]
  },
  {
   "cell_type": "code",
   "execution_count": null,
   "metadata": {},
   "outputs": [
    {
     "name": "stdout",
     "output_type": "stream",
     "text": [
      "\"test line\".istitle() -> False\n",
      "\"Test\".istitle() -> True\n",
      "\"Test Line\".istitle() -> True\n",
      "\"Test line\".istitle() -> False\n"
     ]
    }
   ],
   "source": [
    "test_lines =[\n",
    "    \"test line\",\n",
    "    \"Test\",\n",
    "    \"Test Line\",\n",
    "    \"Test line\"\n",
    "]\n",
    "\n",
    "for test_line in test_lines:\n",
    "    print(f\"\\\"{test_line}\\\".istitle() -> {test_line.istitle()}\")"
   ]
  }
 ],
 "metadata": {
  "language_info": {
   "name": "python"
  }
 },
 "nbformat": 4,
 "nbformat_minor": 2
}
