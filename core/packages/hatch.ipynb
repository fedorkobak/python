{
 "cells": [
  {
   "cell_type": "markdown",
   "metadata": {},
   "source": [
    "# Hatch\n",
    "\n",
    "The `hatch` is a project management tool in python. In this page we will consider the side of using `hatch` that determines the building of the package."
   ]
  },
  {
   "cell_type": "markdown",
   "metadata": {},
   "source": [
    "## First use\n",
    "\n",
    "Here is as an example showen of the minimal setup for building a package with wheel.\n",
    "\n",
    "You need to create a `pyproject.toml` file where the `[build-system]` table specifies `hatchling.build` as the `build-backend` and includes `hatchling` as a requirement. It must also have a `[project]` table, where `name` and `version` are specified."
   ]
  },
  {
   "cell_type": "markdown",
   "metadata": {},
   "source": [
    "---\n",
    "\n",
    "The following file creates corresponing `pyproject.toml`."
   ]
  },
  {
   "cell_type": "code",
   "execution_count": 6,
   "metadata": {
    "vscode": {
     "languageId": "shellscript"
    }
   },
   "outputs": [],
   "source": [
    "mkdir -p /tmp/hatch\n",
    "cd /tmp/hatch\n",
    "\n",
    "cat << EOF > pyproject.toml\n",
    "[build-system]\n",
    "requires = [\"hatchling\"]\n",
    "build-backend = \"hatchling.build\"\n",
    "\n",
    "[project]\n",
    "name = \"hatch_test\"\n",
    "version = \"0.0.0\"\n",
    "EOF"
   ]
  },
  {
   "cell_type": "markdown",
   "metadata": {},
   "source": [
    "There are some default files that `hatch` will use for building packages. Check the rules [here](https://hatch.pypa.io/latest/plugins/builder/wheel/#default-file-selection)."
   ]
  },
  {
   "cell_type": "code",
   "execution_count": 3,
   "metadata": {
    "vscode": {
     "languageId": "shellscript"
    }
   },
   "outputs": [],
   "source": [
    "cat << EOF > hatch_test.py\n",
    "print(\"Hello, World!\")\n",
    "EOF"
   ]
  },
  {
   "cell_type": "markdown",
   "metadata": {},
   "source": [
    "Build the package with the `hatch build` command. "
   ]
  },
  {
   "cell_type": "code",
   "execution_count": 4,
   "metadata": {
    "vscode": {
     "languageId": "shellscript"
    }
   },
   "outputs": [
    {
     "name": "stdout",
     "output_type": "stream",
     "text": [
      "\u001b[92m──────────────────────────────────── \u001b[0m\u001b[1;36msdist\u001b[0m\u001b[92m ─────────────────────────────────────\u001b[0m\n",
      "dist/hatch_test-0.0.0.tar.gz\n",
      "\u001b[92m──────────────────────────────────── \u001b[0m\u001b[1;36mwheel\u001b[0m\u001b[92m ─────────────────────────────────────\u001b[0m\n",
      "dist/hatch_test-0.0.0-py2.py3-none-any.whl\n"
     ]
    }
   ],
   "source": [
    "hatch build"
   ]
  },
  {
   "cell_type": "markdown",
   "metadata": {},
   "source": [
    "As a result, there will be building artifacts in the `dist` folder."
   ]
  },
  {
   "cell_type": "code",
   "execution_count": 5,
   "metadata": {
    "vscode": {
     "languageId": "shellscript"
    }
   },
   "outputs": [
    {
     "name": "stdout",
     "output_type": "stream",
     "text": [
      ".\n",
      "├── dist\n",
      "│   ├── hatch_test-0.0.0-py2.py3-none-any.whl\n",
      "│   └── hatch_test-0.0.0.tar.gz\n",
      "├── hatch_test.py\n",
      "└── pyproject.toml\n",
      "\n",
      "2 directories, 4 files\n"
     ]
    }
   ],
   "source": [
    "tree"
   ]
  },
  {
   "cell_type": "markdown",
   "metadata": {},
   "source": [
    "## Build hooks\n",
    "\n",
    "Build hooks define code that is executed at various stages of the build. \n",
    "\n",
    "Check [official description](https://hatch.pypa.io/1.1/config/build/#build-hooks) on what build hook is and on [building hooks plugins](https://hatch.pypa.io/1.1/plugins/build-hook/#hatchling.builders.hooks.plugin.interface.BuildHookInterface)."
   ]
  },
  {
   "cell_type": "markdown",
   "metadata": {},
   "source": [
    "---\n",
    "\n",
    "The simpliest set up is to add the `[tool.hatch.build.hooks.custom]` table to your `pyproject.toml` and define hooks in the `hatch_build.py`. The following cells define this type of project. Where hook just prints a specific string to stdout. "
   ]
  },
  {
   "cell_type": "code",
   "execution_count": null,
   "metadata": {
    "vscode": {
     "languageId": "shellscript"
    }
   },
   "outputs": [],
   "source": [
    "mkdir -p /tmp/hook\n",
    "cd /tmp/hook\n",
    "\n",
    "cat << EOF > pyproject.toml\n",
    "[build-system]\n",
    "requires = [\"hatchling\"]\n",
    "build-backend = \"hatchling.build\"\n",
    "\n",
    "[project]\n",
    "name = \"hatch_test\"\n",
    "version = \"0.0.0\"\n",
    "\n",
    "[tool.hatch.build.hooks.custom]\n",
    "EOF\n",
    "\n",
    "cat << EOF > hatch_build.py\n",
    "from hatchling.builders.hooks.plugin.interface import BuildHookInterface\n",
    "\n",
    "class CustomHook(BuildHookInterface):\n",
    "\n",
    "    def initialize(self, version, build_data):\n",
    "        print(\"Message from the custom build hook\")\n",
    "EOF\n",
    "\n",
    "touch hatch_test.py"
   ]
  },
  {
   "cell_type": "markdown",
   "metadata": {},
   "source": [
    "The next cell represents the building process."
   ]
  },
  {
   "cell_type": "code",
   "execution_count": 14,
   "metadata": {
    "vscode": {
     "languageId": "shellscript"
    }
   },
   "outputs": [
    {
     "name": "stdout",
     "output_type": "stream",
     "text": [
      "\u001b[92m──────────────────────────────────── \u001b[0m\u001b[1;36msdist\u001b[0m\u001b[92m ─────────────────────────────────────\u001b[0m\n",
      "Message from the custom build hook\n",
      "dist/hatch_test-0.0.0.tar.gz\n",
      "\u001b[92m──────────────────────────────────── \u001b[0m\u001b[1;36mwheel\u001b[0m\u001b[92m ─────────────────────────────────────\u001b[0m\n",
      "Message from the custom build hook\n",
      "dist/hatch_test-0.0.0-py2.py3-none-any.whl\n"
     ]
    }
   ],
   "source": [
    "hatch build"
   ]
  },
  {
   "cell_type": "markdown",
   "metadata": {},
   "source": [
    "Before each build, there is a `Message from custom build hook` - which proves that the hook was executed."
   ]
  }
 ],
 "metadata": {
  "kernelspec": {
   "display_name": "Bash",
   "language": "bash",
   "name": "bash"
  },
  "language_info": {
   "codemirror_mode": "shell",
   "file_extension": ".sh",
   "mimetype": "text/x-sh",
   "name": "bash"
  }
 },
 "nbformat": 4,
 "nbformat_minor": 2
}
