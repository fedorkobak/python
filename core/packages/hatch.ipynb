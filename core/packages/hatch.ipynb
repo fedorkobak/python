{
 "cells": [
  {
   "cell_type": "markdown",
   "metadata": {},
   "source": [
    "# Hatch\n",
    "\n",
    "The `hatch` is a project management tool in python. In this page we will consider the side of using `hatch` that determines the building of the package."
   ]
  },
  {
   "cell_type": "markdown",
   "metadata": {},
   "source": [
    "## First use\n",
    "\n",
    "Here is as an example showen of the minimal setup for building a package with wheel.\n",
    "\n",
    "You need to create a `pyproject.toml` file where the `[build-system]` table specifies `hatchling.build` as the `build-backend` and includes `hatchling` as a requirement. It must also have a `[project]` table, where `name` and `version` are specified."
   ]
  },
  {
   "cell_type": "markdown",
   "metadata": {},
   "source": [
    "---\n",
    "\n",
    "The following file creates corresponing `pyproject.toml`."
   ]
  },
  {
   "cell_type": "code",
   "execution_count": 6,
   "metadata": {
    "vscode": {
     "languageId": "shellscript"
    }
   },
   "outputs": [],
   "source": [
    "mkdir -p /tmp/hatch\n",
    "cd /tmp/hatch\n",
    "\n",
    "cat << EOF > pyproject.toml\n",
    "[build-system]\n",
    "requires = [\"hatchling\"]\n",
    "build-backend = \"hatchling.build\"\n",
    "\n",
    "[project]\n",
    "name = \"hatch_test\"\n",
    "version = \"0.0.0\"\n",
    "EOF"
   ]
  },
  {
   "cell_type": "markdown",
   "metadata": {},
   "source": [
    "There are some default files that `hatch` will use for building packages. Check the rules [here](https://hatch.pypa.io/latest/plugins/builder/wheel/#default-file-selection)."
   ]
  },
  {
   "cell_type": "code",
   "execution_count": 3,
   "metadata": {
    "vscode": {
     "languageId": "shellscript"
    }
   },
   "outputs": [],
   "source": [
    "cat << EOF > hatch_test.py\n",
    "print(\"Hello, World!\")\n",
    "EOF"
   ]
  },
  {
   "cell_type": "markdown",
   "metadata": {},
   "source": [
    "Build the package with the `hatch build` command. "
   ]
  },
  {
   "cell_type": "code",
   "execution_count": 4,
   "metadata": {
    "vscode": {
     "languageId": "shellscript"
    }
   },
   "outputs": [
    {
     "name": "stdout",
     "output_type": "stream",
     "text": [
      "\u001b[92m──────────────────────────────────── \u001b[0m\u001b[1;36msdist\u001b[0m\u001b[92m ─────────────────────────────────────\u001b[0m\n",
      "dist/hatch_test-0.0.0.tar.gz\n",
      "\u001b[92m──────────────────────────────────── \u001b[0m\u001b[1;36mwheel\u001b[0m\u001b[92m ─────────────────────────────────────\u001b[0m\n",
      "dist/hatch_test-0.0.0-py2.py3-none-any.whl\n"
     ]
    }
   ],
   "source": [
    "hatch build"
   ]
  },
  {
   "cell_type": "markdown",
   "metadata": {},
   "source": [
    "As a result, there will be building artifacts in the `dist` folder."
   ]
  },
  {
   "cell_type": "code",
   "execution_count": 5,
   "metadata": {
    "vscode": {
     "languageId": "shellscript"
    }
   },
   "outputs": [
    {
     "name": "stdout",
     "output_type": "stream",
     "text": [
      ".\n",
      "├── dist\n",
      "│   ├── hatch_test-0.0.0-py2.py3-none-any.whl\n",
      "│   └── hatch_test-0.0.0.tar.gz\n",
      "├── hatch_test.py\n",
      "└── pyproject.toml\n",
      "\n",
      "2 directories, 4 files\n"
     ]
    }
   ],
   "source": [
    "tree"
   ]
  }
 ],
 "metadata": {
  "kernelspec": {
   "display_name": "Bash",
   "language": "bash",
   "name": "bash"
  },
  "language_info": {
   "codemirror_mode": "shell",
   "file_extension": ".sh",
   "mimetype": "text/x-sh",
   "name": "bash"
  }
 },
 "nbformat": 4,
 "nbformat_minor": 2
}
