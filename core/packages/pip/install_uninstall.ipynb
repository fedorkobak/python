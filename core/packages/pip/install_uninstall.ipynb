{
 "cells": [
  {
   "cell_type": "markdown",
   "id": "06667ab5",
   "metadata": {},
   "source": [
    "# Install & uninstall\n",
    "\n",
    "This page discusses the process of installing packages using pip."
   ]
  },
  {
   "cell_type": "markdown",
   "id": "039a9423",
   "metadata": {},
   "source": [
    "## Editable install\n",
    "\n",
    "If you want your environment to see code in the specific folder you can package that folder as a python package and install it to pip in editable mode using `pip install -e <path to the package>`. It actually just adds to the environment reference to the package, but the package in it's original location."
   ]
  },
  {
   "cell_type": "markdown",
   "id": "7be384f7",
   "metadata": {},
   "source": [
    "---\n",
    "\n",
    "The following cells create a virtual environment and a simple python project that will be used as example."
   ]
  },
  {
   "cell_type": "code",
   "execution_count": 1,
   "id": "fd061795",
   "metadata": {
    "vscode": {
     "languageId": "shellscript"
    }
   },
   "outputs": [],
   "source": [
    "mkdir /tmp/install_uninstall &> /dev/null\n",
    "cd /tmp/install_uninstall\n",
    "python3 -m venv venv\n",
    "source venv/bin/activate"
   ]
  },
  {
   "cell_type": "markdown",
   "id": "9e5fa765",
   "metadata": {},
   "source": [
    "The following cell creates a simple python package that will be used as an example."
   ]
  },
  {
   "cell_type": "code",
   "execution_count": 2,
   "id": "9753151f",
   "metadata": {
    "vscode": {
     "languageId": "shellscript"
    }
   },
   "outputs": [],
   "source": [
    "mkdir my_package &> /dev/null\n",
    "cat << EOF >> my_package/this_message.py\n",
    "def echo():\n",
    "    print('show example')\n",
    "EOF"
   ]
  },
  {
   "cell_type": "code",
   "execution_count": 3,
   "id": "34aea262",
   "metadata": {
    "vscode": {
     "languageId": "shellscript"
    }
   },
   "outputs": [],
   "source": [
    "cat << EOF >> pyproject.toml\n",
    "[build-system]\n",
    "requires = [\"setuptools>=61.0\"]\n",
    "build-backend = \"setuptools.build_meta\"\n",
    "\n",
    "[project]\n",
    "name = \"test_package\"\n",
    "version = \"0.0.0\"\n",
    "\n",
    "[package.setuptools]\n",
    "packages = [\"my_package\"]\n",
    "EOF"
   ]
  },
  {
   "cell_type": "markdown",
   "id": "5e105fcb",
   "metadata": {},
   "source": [
    "The next code implements the installation of the package in edit mode."
   ]
  },
  {
   "cell_type": "code",
   "execution_count": 4,
   "id": "c5324026",
   "metadata": {
    "vscode": {
     "languageId": "shellscript"
    }
   },
   "outputs": [],
   "source": [
    "pip3 install -e my_package &> /dev/null"
   ]
  },
  {
   "cell_type": "markdown",
   "id": "c5391d47",
   "metadata": {},
   "source": [
    "You can check if a package is installed in editable mode by checking the `pip list` for this package, if there is an `Editable project location` specified for this package, this means that the environment only has a reference to the package - the real location is specified in the `Editable project location` field."
   ]
  },
  {
   "cell_type": "code",
   "execution_count": 5,
   "id": "daa68b85",
   "metadata": {
    "vscode": {
     "languageId": "shellscript"
    }
   },
   "outputs": [
    {
     "name": "stdout",
     "output_type": "stream",
     "text": [
      "Package      Version Editable project location\n",
      "------------ ------- ---------------------------------\n",
      "pip          25.0.1\n",
      "this_message 0.0.0   /tmp/install_uninstall/my_package\n"
     ]
    }
   ],
   "source": [
    "pip3 list"
   ]
  },
  {
   "cell_type": "markdown",
   "id": "552d7b36",
   "metadata": {},
   "source": [
    "The following cell runs code that shows that the library behaves as expected."
   ]
  },
  {
   "cell_type": "code",
   "execution_count": 6,
   "id": "8f9118d1",
   "metadata": {
    "vscode": {
     "languageId": "shellscript"
    }
   },
   "outputs": [
    {
     "name": "stdout",
     "output_type": "stream",
     "text": [
      "show example\n"
     ]
    }
   ],
   "source": [
    "python3 -c \"from this_message import echo; echo()\""
   ]
  },
  {
   "cell_type": "markdown",
   "id": "665aa8f2",
   "metadata": {},
   "source": [
    "The main practical consiquence is that you can keep the source code where it's convenient for you, and it will be available anywhere python enterpriter is running.\n",
    "\n",
    "The next cell updates the package's code - to show that you don't need to reinstall the package to apply the changes."
   ]
  },
  {
   "cell_type": "code",
   "execution_count": 7,
   "id": "d7910365",
   "metadata": {
    "vscode": {
     "languageId": "shellscript"
    }
   },
   "outputs": [],
   "source": [
    "cat << EOF >> my_package/this_message.py\n",
    "def echo():\n",
    "    print('new message')\n",
    "EOF"
   ]
  },
  {
   "cell_type": "markdown",
   "id": "d72cac5c",
   "metadata": {},
   "source": [
    "The following code re-runs the package's code from a different directory."
   ]
  },
  {
   "cell_type": "code",
   "execution_count": 8,
   "id": "7b95ab32",
   "metadata": {
    "vscode": {
     "languageId": "shellscript"
    }
   },
   "outputs": [
    {
     "name": "stdout",
     "output_type": "stream",
     "text": [
      "new message\n"
     ]
    }
   ],
   "source": [
    "cd /\n",
    "python3 -c \"from this_message import echo; echo()\""
   ]
  },
  {
   "cell_type": "markdown",
   "id": "ffe376ac",
   "metadata": {},
   "source": [
    "Everything works fine and uses the latest version of the code published in the \"working\" directory."
   ]
  }
 ],
 "metadata": {
  "kernelspec": {
   "display_name": "Bash",
   "language": "bash",
   "name": "bash"
  },
  "language_info": {
   "codemirror_mode": "shell",
   "file_extension": ".sh",
   "mimetype": "text/x-sh",
   "name": "bash"
  }
 },
 "nbformat": 4,
 "nbformat_minor": 5
}
