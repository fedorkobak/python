{
 "cells": [
  {
   "cell_type": "markdown",
   "metadata": {},
   "source": [
    "# Intro\n",
    "\n",
    "This section highlights features and tools in Python that can be used independently of any specific application."
   ]
  },
  {
   "cell_type": "markdown",
   "metadata": {},
   "source": [
    "## Syntax\n",
    "\n",
    "Syntax is set of rules that define the structure and format of valid statements and expressions in a programming language. It dictates how symbols, keywords, and operators must be arranged to create meaningful instructions for the computer. Find out more at the [specific page](syntax.ipynb)."
   ]
  },
  {
   "cell_type": "markdown",
   "metadata": {},
   "source": [
    "---\n",
    "\n",
    "Look at the following code:"
   ]
  },
  {
   "cell_type": "code",
   "execution_count": 15,
   "metadata": {},
   "outputs": [
    {
     "name": "stdout",
     "output_type": "stream",
     "text": [
      "||/||\\||/|\\/\\/\\/|///|/|/|\\||||\\/|//\\\\\\/////\\|/||\\\\\n",
      "/|\\////\\||//||\\|||||/|/||///|\\//|\\///|||\\||//|/\\||\n",
      "\\|//||//\\\\/\\\\|\\\\||/|/\\\\///\\\\\\|\\\\\\\\\\/|/|\\|\\||||///\\\n",
      "//\\///\\\\|\\/|||///|\\//|\\///\\\\/\\\\/|/|\\\\\\/\\\\\\/\\\\|\\||\\\n",
      "||/\\/||||/\\|\\|//|/|/\\||\\||/\\|/|\\|//\\|/|\\|||\\|\\/\\|\\\n",
      "////|/\\\\\\//\\\\|//|\\//\\//|\\/////\\\\\\\\|\\\\/\\/|/////\\|\\|\n",
      "|\\|/\\|//\\\\/\\/|///|////||\\\\\\|\\|\\|//\\|||/\\|\\|/\\||\\\\\\\n",
      "\\/||/\\\\\\|\\/|/|\\\\\\|||\\\\/|/\\/|/|\\\\//||/\\\\|\\|\\/|/\\\\||\n",
      "/|\\\\\\|\\\\|\\/|/\\/|\\\\|\\\\|/\\\\|||//\\/\\|/\\/|\\\\\\/|/|/\\///\n",
      "|/|////|\\\\/|\\///\\/|\\///||||\\|///|\\\\/\\\\\\/\\\\||//\\/|/\n"
     ]
    }
   ],
   "source": [
    "from random import choice\n",
    "some_symbol = lambda: choice([\"\\\\\", \"|\", \"/\"])\n",
    "\n",
    "\n",
    "print(\"\\n\".join([\n",
    "    ''.join([some_symbol() for i in range(50)])\n",
    "    for i in range(10)\n",
    "]))"
   ]
  },
  {
   "cell_type": "markdown",
   "metadata": {},
   "source": [
    "At this short snippet code were used:\n",
    "\n",
    "**Operators:**\n",
    "\n",
    "1. **`=`** - Assignment operator (used in `some_symbol = lambda: ...`).\n",
    "2. **`:`** - Used in the lambda function definition (`lambda: choice(...)`).\n",
    "3. **`[]`** - List literal and list comprehension syntax (`[\"\\\\\", \"|\", \"/\"]`, `[some_symbol() for i in range(50)]`, and `[... for i in range(10)]`).\n",
    "4. **`()`** - Parentheses for function calls and grouping expressions (`choice(...)`, `some_symbol()`, and `range(...)`).\n",
    "5. **`.`** - Attribute access (used in `\"\\n\".join(...)` and `''.join(...)`).\n",
    "6. **`for`** - Part of the `for` loop in list comprehensions.\n",
    "7. **`in`** - Used in the context of the `for` loop within the list comprehensions.\n",
    "\n",
    "**Literals:**\n",
    "\n",
    "1. **`\"\\\\\", \"|\", \"/\"`** - String literals representing the symbols in the list.\n",
    "2. **`\\n`** - String literal for a newline character.\n",
    "3. **`''`** - Empty string literal.\n",
    "4. **`50`, `10`** - Integer literals used as arguments to `range()`.\n",
    "\n",
    "**Keywords:**\n",
    "\n",
    "1. **`from`** - Used for importing specific parts of a module (`from random import choice`).\n",
    "2. **`import`** - Used to bring a module or part of a module into the current namespace.\n",
    "3. **`lambda`** - Used to create an anonymous function.\n",
    "4. **`for`** - Used in the list comprehension to iterate over a range.\n",
    "5. **`in`** - Used in the `for` loop to iterate over elements."
   ]
  },
  {
   "cell_type": "markdown",
   "metadata": {},
   "source": [
    "## Files & folders\n",
    "\n",
    "This section reviews options for working with files and folders in Python. There are some tools typically used in such cases:\n",
    "\n",
    "- `os`: A core Python module for interacting with the operating system.\n",
    "- `pathlib`: A package that provides convenient path operations in Python.\n",
    "- `shutil`: Implements additional tools not available in the previous modules out of the box.\n",
    "\n",
    "Find out more in the [special page](files_folders.ipynb)."
   ]
  },
  {
   "cell_type": "markdown",
   "metadata": {},
   "source": [
    "---\n",
    "\n",
    "As example really typical task - list content of the `/tmp` folder: "
   ]
  },
  {
   "cell_type": "code",
   "execution_count": 2,
   "metadata": {},
   "outputs": [
    {
     "data": {
      "text/plain": [
       "['dumps',\n",
       " 'pyright-11804-s2fIQ36Ehj4n',\n",
       " 'snap-private-tmp',\n",
       " 'steam_chrome_overlay_uid1000_spid10387',\n",
       " 'systemd-private-57bd5d93c4894144aa34f82104c1dc8e-fwupd.service-wLri9E']"
      ]
     },
     "execution_count": 2,
     "metadata": {},
     "output_type": "execute_result"
    }
   ],
   "source": [
    "import os\n",
    "os.listdir(\"/tmp\")[:5]"
   ]
  },
  {
   "cell_type": "markdown",
   "metadata": {},
   "source": [
    "## Packages\n",
    "\n",
    "Packages in Python are additional code modules that extend the standard Python library. This section provides an overview of:\n",
    "\n",
    "- **Building packages**: Transforming source code into a distributable format.\n",
    "- **Installing packages**: Tools and methods for managing Python packages.\n",
    "- **Python indexes**: Repositories for storing Python packages and the process of uploading packages to them.\n",
    "\n",
    "Find all that staff on the [particular page](packages.ipynb) of this site."
   ]
  },
  {
   "cell_type": "markdown",
   "metadata": {},
   "source": [
    "---\n",
    "\n",
    "The packages are usually located in the `lib/python<version>/site_path` directory of the Python distribution. The following cell shows the exact directory for the interpreter used to show examples.\n",
    "\n",
    "Random entitlements from this folder will also be printed."
   ]
  },
  {
   "cell_type": "code",
   "execution_count": 24,
   "metadata": {},
   "outputs": [
    {
     "name": "stdout",
     "output_type": "stream",
     "text": [
      "/home/fedor/Documents/knowledge/venv/lib/python3.12/site-packages\n",
      "\n",
      "\n",
      "safetensors\n",
      "referencing\n",
      "psutil\n",
      "sphinx_comments-0.0.3.dist-info\n",
      "myst_nb\n",
      "aiosignal\n",
      "jedi-0.19.1.dist-info\n",
      "jupyter_core-5.7.2.dist-info\n",
      "jedi\n",
      "smmap-5.0.1.dist-info\n"
     ]
    }
   ],
   "source": [
    "import os\n",
    "import sys\n",
    "import random\n",
    "from pathlib import Path\n",
    "\n",
    "packages_path = sys.path[-1]\n",
    "print(packages_path, end=\"\\n\"*3)\n",
    "for f in random.sample(os.listdir(packages_path), 10):\n",
    "    print(f)"
   ]
  },
  {
   "cell_type": "markdown",
   "metadata": {},
   "source": [
    "The most basic tool for working with Python packages, `pip`, is itself a Python package. The following cell navigates to its folder and displays the contents of its `__init__.py` file."
   ]
  },
  {
   "cell_type": "code",
   "execution_count": 25,
   "metadata": {},
   "outputs": [
    {
     "name": "stdout",
     "output_type": "stream",
     "text": [
      "from typing import List, Optional\n",
      "\n",
      "__version__ = \"24.0\"\n",
      "\n",
      "\n",
      "def main(args: Optional[List[str]] = None) -> int:\n",
      "    \"\"\"This is an internal API only meant for use by pip's own console scripts.\n",
      "\n",
      "    For additional details, see https://github.com/pypa/pip/issues/7498.\n",
      "    \"\"\"\n",
      "    from pip._internal.utils.entrypoints import _wrapper\n",
      "\n",
      "    return _wrapper(args)\n",
      "\n"
     ]
    }
   ],
   "source": [
    "print((Path(packages_path)/\"pip\"/\"__init__.py\").read_text())"
   ]
  },
  {
   "cell_type": "markdown",
   "metadata": {},
   "source": [
    "## Data class\n",
    "\n",
    "There is a special tool in Python called dataclasses. Dataclasses allow you to build classes that store data and provide some built-in tools for operating with them. The crusial features are:\n",
    "\n",
    "- Automatically generated `__init__` that will create all required attributes.\n",
    "- Converting to string as `__repr__` method will be defined in dataclass.\n",
    "- Comparing as `__eq__` method will be implemented.\n",
    "\n",
    "Find out more in the [special page](data_classes.ipynb)."
   ]
  },
  {
   "cell_type": "markdown",
   "metadata": {},
   "source": [
    "---\n",
    "\n",
    "To define a dataclass, you have to use the `dataclasses.dataclass` decorator. The following cell defines one that we'll use:"
   ]
  },
  {
   "cell_type": "code",
   "execution_count": 3,
   "metadata": {},
   "outputs": [],
   "source": [
    "from dataclasses import dataclass\n",
    "\n",
    "@dataclass\n",
    "class SomeData:\n",
    "    value1: int\n",
    "    value2: str"
   ]
  },
  {
   "cell_type": "markdown",
   "metadata": {},
   "source": [
    "Any instance of such a class can be transformed into a string in the format `<ClassName>(<attr1>=<val1>, ...)`. The following cell shows this:"
   ]
  },
  {
   "cell_type": "code",
   "execution_count": 4,
   "metadata": {},
   "outputs": [
    {
     "name": "stdout",
     "output_type": "stream",
     "text": [
      "SomeData(value1=1, value2='wow')\n"
     ]
    }
   ],
   "source": [
    "print(SomeData(1, \"wow\"))"
   ]
  },
  {
   "cell_type": "markdown",
   "metadata": {},
   "source": [
    "You can compare dataclasses out of the box, and if their attributes have the same values, you will find that the instances are equal."
   ]
  },
  {
   "cell_type": "code",
   "execution_count": 6,
   "metadata": {},
   "outputs": [
    {
     "name": "stdout",
     "output_type": "stream",
     "text": [
      "True\n",
      "False\n"
     ]
    }
   ],
   "source": [
    "print(SomeData(1, \"wow\") == SomeData(1, \"wow\"))\n",
    "print(SomeData(1, \"wow\") == SomeData(2, \"oh my gosh\"))"
   ]
  },
  {
   "cell_type": "markdown",
   "metadata": {},
   "source": [
    "## Iterator\n",
    "\n",
    "An iterator is an object that implements the iterator protocol.\n",
    "\n",
    "The iterator protocol suggests that an object have the following:\n",
    "\n",
    "- The `__iter__` dunder that returns object with a `__next__` dunder.\n",
    "- The `__next__` dunder is supposed to return the elements of the iterator one by one and raise a `StopIteration` exception when there are no more elements to iterate."
   ]
  },
  {
   "cell_type": "code",
   "execution_count": 80,
   "metadata": {},
   "outputs": [
    {
     "data": {
      "text/plain": [
       "<list_iterator at 0x71db0e5046d0>"
      ]
     },
     "execution_count": 80,
     "metadata": {},
     "output_type": "execute_result"
    }
   ],
   "source": [
    "lst = [1, 2]\n",
    "lst_iterator = iter(lst)\n",
    "lst_iterator"
   ]
  },
  {
   "cell_type": "code",
   "execution_count": 82,
   "metadata": {},
   "outputs": [
    {
     "data": {
      "text/plain": [
       "True"
      ]
     },
     "execution_count": 82,
     "metadata": {},
     "output_type": "execute_result"
    }
   ],
   "source": [
    "lst_iterator is iter(lst_iterator)"
   ]
  },
  {
   "cell_type": "code",
   "execution_count": 83,
   "metadata": {},
   "outputs": [
    {
     "data": {
      "text/plain": [
       "(1, 2)"
      ]
     },
     "execution_count": 83,
     "metadata": {},
     "output_type": "execute_result"
    }
   ],
   "source": [
    "(next(lst_iterator), next(lst_iterator))"
   ]
  },
  {
   "cell_type": "code",
   "execution_count": 84,
   "metadata": {},
   "outputs": [
    {
     "ename": "StopIteration",
     "evalue": "",
     "output_type": "error",
     "traceback": [
      "\u001b[31m---------------------------------------------------------------------------\u001b[39m",
      "\u001b[31mStopIteration\u001b[39m                             Traceback (most recent call last)",
      "\u001b[36mCell\u001b[39m\u001b[36m \u001b[39m\u001b[32mIn[84]\u001b[39m\u001b[32m, line 1\u001b[39m\n\u001b[32m----> \u001b[39m\u001b[32m1\u001b[39m \u001b[38;5;28;43mnext\u001b[39;49m\u001b[43m(\u001b[49m\u001b[43mlst_iterator\u001b[49m\u001b[43m)\u001b[49m\n",
      "\u001b[31mStopIteration\u001b[39m: "
     ]
    }
   ],
   "source": [
    "next(lst_iterator)"
   ]
  },
  {
   "cell_type": "code",
   "execution_count": 63,
   "metadata": {},
   "outputs": [],
   "source": [
    "from random import randint\n",
    "\n",
    "\n",
    "class MyIterator:\n",
    "    def __init__(self, len: int):\n",
    "        self.len = len\n",
    "        self.state = 0\n",
    "\n",
    "    def __iter__(self):\n",
    "        return self\n",
    "\n",
    "    def __next__(self):\n",
    "        if self.state < self.len:\n",
    "            self.state += 1\n",
    "            return randint(0, 100)\n",
    "        else:\n",
    "            raise StopIteration()"
   ]
  },
  {
   "cell_type": "code",
   "execution_count": 74,
   "metadata": {},
   "outputs": [
    {
     "data": {
      "text/plain": [
       "(99, 75)"
      ]
     },
     "execution_count": 74,
     "metadata": {},
     "output_type": "execute_result"
    }
   ],
   "source": [
    "my_iterator = MyIterator(2)\n",
    "next(my_iterator), next(my_iterator)"
   ]
  },
  {
   "cell_type": "code",
   "execution_count": 75,
   "metadata": {},
   "outputs": [
    {
     "ename": "StopIteration",
     "evalue": "",
     "output_type": "error",
     "traceback": [
      "\u001b[31m---------------------------------------------------------------------------\u001b[39m",
      "\u001b[31mStopIteration\u001b[39m                             Traceback (most recent call last)",
      "\u001b[36mCell\u001b[39m\u001b[36m \u001b[39m\u001b[32mIn[75]\u001b[39m\u001b[32m, line 1\u001b[39m\n\u001b[32m----> \u001b[39m\u001b[32m1\u001b[39m \u001b[38;5;28;43mnext\u001b[39;49m\u001b[43m(\u001b[49m\u001b[43mmy_iterator\u001b[49m\u001b[43m)\u001b[49m\n",
      "\u001b[36mCell\u001b[39m\u001b[36m \u001b[39m\u001b[32mIn[63]\u001b[39m\u001b[32m, line 17\u001b[39m, in \u001b[36mMyIterator.__next__\u001b[39m\u001b[34m(self)\u001b[39m\n\u001b[32m     15\u001b[39m     \u001b[38;5;28;01mreturn\u001b[39;00m randint(\u001b[32m0\u001b[39m, \u001b[32m100\u001b[39m)\n\u001b[32m     16\u001b[39m \u001b[38;5;28;01melse\u001b[39;00m:\n\u001b[32m---> \u001b[39m\u001b[32m17\u001b[39m     \u001b[38;5;28;01mraise\u001b[39;00m \u001b[38;5;167;01mStopIteration\u001b[39;00m()\n",
      "\u001b[31mStopIteration\u001b[39m: "
     ]
    }
   ],
   "source": [
    "next(my_iterator)"
   ]
  },
  {
   "cell_type": "code",
   "execution_count": 77,
   "metadata": {},
   "outputs": [
    {
     "data": {
      "text/plain": [
       "[37, 89, 62, 7, 51, 8, 11, 11, 99, 30]"
      ]
     },
     "execution_count": 77,
     "metadata": {},
     "output_type": "execute_result"
    }
   ],
   "source": [
    "[i for i in MyIterator(10)]"
   ]
  }
 ],
 "metadata": {
  "kernelspec": {
   "display_name": "python",
   "language": "python",
   "name": "python3"
  },
  "language_info": {
   "codemirror_mode": {
    "name": "ipython",
    "version": 3
   },
   "file_extension": ".py",
   "mimetype": "text/x-python",
   "name": "python",
   "nbconvert_exporter": "python",
   "pygments_lexer": "ipython3",
   "version": "3.13.5"
  }
 },
 "nbformat": 4,
 "nbformat_minor": 2
}
