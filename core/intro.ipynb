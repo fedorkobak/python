{
 "cells": [
  {
   "cell_type": "markdown",
   "metadata": {},
   "source": [
    "# Intro\n",
    "\n",
    "This section highlights features and tools in Python that can be used independently of any specific application."
   ]
  },
  {
   "cell_type": "markdown",
   "metadata": {},
   "source": [
    "## Syntax\n",
    "\n",
    "Syntax is set of rules that define the structure and format of valid statements and expressions in a programming language. It dictates how symbols, keywords, and operators must be arranged to create meaningful instructions for the computer. Find out more at the [specific page](syntax.ipynb)."
   ]
  },
  {
   "cell_type": "markdown",
   "metadata": {},
   "source": [
    "---\n",
    "\n",
    "Look at the following code:"
   ]
  },
  {
   "cell_type": "code",
   "execution_count": 15,
   "metadata": {},
   "outputs": [
    {
     "name": "stdout",
     "output_type": "stream",
     "text": [
      "||/||\\||/|\\/\\/\\/|///|/|/|\\||||\\/|//\\\\\\/////\\|/||\\\\\n",
      "/|\\////\\||//||\\|||||/|/||///|\\//|\\///|||\\||//|/\\||\n",
      "\\|//||//\\\\/\\\\|\\\\||/|/\\\\///\\\\\\|\\\\\\\\\\/|/|\\|\\||||///\\\n",
      "//\\///\\\\|\\/|||///|\\//|\\///\\\\/\\\\/|/|\\\\\\/\\\\\\/\\\\|\\||\\\n",
      "||/\\/||||/\\|\\|//|/|/\\||\\||/\\|/|\\|//\\|/|\\|||\\|\\/\\|\\\n",
      "////|/\\\\\\//\\\\|//|\\//\\//|\\/////\\\\\\\\|\\\\/\\/|/////\\|\\|\n",
      "|\\|/\\|//\\\\/\\/|///|////||\\\\\\|\\|\\|//\\|||/\\|\\|/\\||\\\\\\\n",
      "\\/||/\\\\\\|\\/|/|\\\\\\|||\\\\/|/\\/|/|\\\\//||/\\\\|\\|\\/|/\\\\||\n",
      "/|\\\\\\|\\\\|\\/|/\\/|\\\\|\\\\|/\\\\|||//\\/\\|/\\/|\\\\\\/|/|/\\///\n",
      "|/|////|\\\\/|\\///\\/|\\///||||\\|///|\\\\/\\\\\\/\\\\||//\\/|/\n"
     ]
    }
   ],
   "source": [
    "from random import choice\n",
    "some_symbol = lambda: choice([\"\\\\\", \"|\", \"/\"])\n",
    "\n",
    "\n",
    "print(\"\\n\".join([\n",
    "    ''.join([some_symbol() for i in range(50)])\n",
    "    for i in range(10)\n",
    "]))"
   ]
  },
  {
   "cell_type": "markdown",
   "metadata": {},
   "source": [
    "At this short snippet code were used:\n",
    "\n",
    "**Operators:**\n",
    "\n",
    "1. **`=`** - Assignment operator (used in `some_symbol = lambda: ...`).\n",
    "2. **`:`** - Used in the lambda function definition (`lambda: choice(...)`).\n",
    "3. **`[]`** - List literal and list comprehension syntax (`[\"\\\\\", \"|\", \"/\"]`, `[some_symbol() for i in range(50)]`, and `[... for i in range(10)]`).\n",
    "4. **`()`** - Parentheses for function calls and grouping expressions (`choice(...)`, `some_symbol()`, and `range(...)`).\n",
    "5. **`.`** - Attribute access (used in `\"\\n\".join(...)` and `''.join(...)`).\n",
    "6. **`for`** - Part of the `for` loop in list comprehensions.\n",
    "7. **`in`** - Used in the context of the `for` loop within the list comprehensions.\n",
    "\n",
    "**Literals:**\n",
    "\n",
    "1. **`\"\\\\\", \"|\", \"/\"`** - String literals representing the symbols in the list.\n",
    "2. **`\\n`** - String literal for a newline character.\n",
    "3. **`''`** - Empty string literal.\n",
    "4. **`50`, `10`** - Integer literals used as arguments to `range()`.\n",
    "\n",
    "**Keywords:**\n",
    "\n",
    "1. **`from`** - Used for importing specific parts of a module (`from random import choice`).\n",
    "2. **`import`** - Used to bring a module or part of a module into the current namespace.\n",
    "3. **`lambda`** - Used to create an anonymous function.\n",
    "4. **`for`** - Used in the list comprehension to iterate over a range.\n",
    "5. **`in`** - Used in the `for` loop to iterate over elements."
   ]
  },
  {
   "cell_type": "markdown",
   "metadata": {},
   "source": [
    "## Files & folders\n",
    "\n",
    "This section reviews options for working with files and folders in Python. There are some tools typically used in such cases:\n",
    "\n",
    "- `os`: A core Python module for interacting with the operating system.\n",
    "- `pathlib`: A package that provides convenient path operations in Python.\n",
    "- `shutil`: Implements additional tools not available in the previous modules out of the box.\n",
    "\n",
    "Find out more in the [special page](files_folders.ipynb)."
   ]
  },
  {
   "cell_type": "markdown",
   "metadata": {},
   "source": [
    "---\n",
    "\n",
    "As example really typical task - list content of the `/tmp` folder: "
   ]
  },
  {
   "cell_type": "code",
   "execution_count": 2,
   "metadata": {},
   "outputs": [
    {
     "data": {
      "text/plain": [
       "['dumps',\n",
       " 'pyright-11804-s2fIQ36Ehj4n',\n",
       " 'snap-private-tmp',\n",
       " 'steam_chrome_overlay_uid1000_spid10387',\n",
       " 'systemd-private-57bd5d93c4894144aa34f82104c1dc8e-fwupd.service-wLri9E']"
      ]
     },
     "execution_count": 2,
     "metadata": {},
     "output_type": "execute_result"
    }
   ],
   "source": [
    "import os\n",
    "os.listdir(\"/tmp\")[:5]"
   ]
  },
  {
   "cell_type": "markdown",
   "metadata": {},
   "source": [
    "## Packages\n",
    "\n",
    "Packages in Python are additional code modules that extend the standard Python library. This section provides an overview of:\n",
    "\n",
    "- **Building packages**: Transforming source code into a distributable format.\n",
    "- **Installing packages**: Tools and methods for managing Python packages.\n",
    "- **Python indexes**: Repositories for storing Python packages and the process of uploading packages to them.\n",
    "\n",
    "Find all that staff on the [particular page](packages.ipynb) of this site."
   ]
  },
  {
   "cell_type": "markdown",
   "metadata": {},
   "source": [
    "---\n",
    "\n",
    "The packages are usually located in the `lib/python<version>/site-packages` directory of the Python distribution. The following cell shows the exact directory for the interpreter used to show examples.\n",
    "\n",
    "Random entitlements from this folder will also be printed."
   ]
  },
  {
   "cell_type": "code",
   "execution_count": 5,
   "metadata": {},
   "outputs": [
    {
     "name": "stdout",
     "output_type": "stream",
     "text": [
      "/home/fedor/.virtualenvironments/python/lib/python3.13/site-packages\n",
      "\n",
      "\n",
      "async_lru\n",
      "torch\n",
      "referencing-0.36.2.dist-info\n",
      "apscheduler\n",
      "fqdn\n",
      "jupyter_server_terminals-0.5.3.dist-info\n",
      "tinycss2-1.4.0.dist-info\n",
      "jupyter_lsp-2.2.5.dist-info\n",
      "isoduration-20.11.0.dist-info\n",
      "jupyter_server\n"
     ]
    }
   ],
   "source": [
    "import os\n",
    "import sys\n",
    "import random\n",
    "from pathlib import Path\n",
    "\n",
    "packages_path = sys.path[-2]\n",
    "print(packages_path, end=\"\\n\"*3)\n",
    "for f in random.sample(os.listdir(packages_path), 10):\n",
    "    print(f)"
   ]
  },
  {
   "cell_type": "markdown",
   "metadata": {},
   "source": [
    "The most basic tool for working with Python packages, `pip`, is itself a Python package. The following cell navigates to its folder and displays the contents of its `__init__.py` file."
   ]
  },
  {
   "cell_type": "code",
   "execution_count": 6,
   "metadata": {},
   "outputs": [
    {
     "name": "stdout",
     "output_type": "stream",
     "text": [
      "from typing import List, Optional\n",
      "\n",
      "__version__ = \"25.1.1\"\n",
      "\n",
      "\n",
      "def main(args: Optional[List[str]] = None) -> int:\n",
      "    \"\"\"This is an internal API only meant for use by pip's own console scripts.\n",
      "\n",
      "    For additional details, see https://github.com/pypa/pip/issues/7498.\n",
      "    \"\"\"\n",
      "    from pip._internal.utils.entrypoints import _wrapper\n",
      "\n",
      "    return _wrapper(args)\n",
      "\n"
     ]
    }
   ],
   "source": [
    "print((Path(packages_path)/\"pip\"/\"__init__.py\").read_text())"
   ]
  },
  {
   "cell_type": "markdown",
   "metadata": {},
   "source": [
    "## Constructs\n",
    "\n",
    "Python contains a set of approaches that allow you to use some special constructs in your custom way. Below is a list of things that related to the special python concepts and protocols:\n",
    "\n",
    "| Name               | Description                                                                 |\n",
    "|--------------------|-----------------------------------------------------------------------------|\n",
    "| `dataclass`        | A decorator that generates init, repr, eq, etc., for classes with fields.   |\n",
    "| `iterator`         | An object implementing `__iter__()` and `__next__()`.                       |\n",
    "| `iterable`         | An object implementing `__iter__()`; can be looped over.                    |\n",
    "| `generator`        | A special iterator created with a function using `yield`.                   |\n",
    "| `coroutine`        | A special function using `async def` and `await`, pausable at `await`.      |\n",
    "| `async generator`  | Like a generator, but supports asynchronous iteration with `async for`.     |\n",
    "| `context manager`  | Implements `__enter__` and `__exit__`; used with the `with` statement.       |\n",
    "| `descriptor`       | Object defining any of `__get__`, `__set__`, `__delete__`; controls access. |\n",
    "| `callable`         | Any object implementing `__call__()`, i.e. can be called like a function.   |\n",
    "| `function`         | A user-defined callable object created with `def` or `lambda`.              |\n",
    "| `classmethod`      | A method bound to the class, not instance, via `@classmethod`.              |\n",
    "| `staticmethod`     | A method that doesn't receive implicit first argument.                      |\n",
    "| `property`         | A managed attribute using `@property` and optional setters/getters.         |\n",
    "| `metaclass`        | A class of a class; controls class creation via `type` or custom classes.   |\n",
    "| `abstract class`   | Class with abstract methods using `abc.ABCMeta` and `@abstractmethod`.      |\n",
    "| `namedtuple`       | A tuple subclass with named fields, created via `collections.namedtuple`.   |\n",
    "| `enum`             | A set of symbolic names bound to unique constant values.                    |\n",
    "| `buffer`           | Object exposing the buffer protocol, used for memory sharing (e.g. `bytes`).|\n",
    "| `slice`            | Built-in object representing a slice of a sequence.                         |\n",
    "| `mapping`          | Object supporting `__getitem__`, `__setitem__`, etc. (e.g. dict-like).      |\n",
    "| `sequence`         | Ordered collection supporting indexing and slicing (e.g. lists, tuples).    |\n",
    "| `hashable`         | Object with a `__hash__()` method; usable as a dictionary key or set item.  |\n",
    "| `comparable`       | Object supporting rich comparison methods (`__eq__`, `__lt__`, etc).        |\n",
    "| `file-like`        | Object implementing `read`, `write`, etc.; used in file APIs.               |\n",
    "| `awaitable`        | Object that can be awaited (e.g. coroutine, object with `__await__()`).     |\n",
    "| `contextvars.ContextVar` | Represents a context-local variable, useful in async code.            |\n",
    "\n",
    "Check details in [Constructs](constructs.ipynb) page.\n"
   ]
  }
 ],
 "metadata": {
  "kernelspec": {
   "display_name": "python",
   "language": "python",
   "name": "python3"
  },
  "language_info": {
   "codemirror_mode": {
    "name": "ipython",
    "version": 3
   },
   "file_extension": ".py",
   "mimetype": "text/x-python",
   "name": "python",
   "nbconvert_exporter": "python",
   "pygments_lexer": "ipython3",
   "version": "3.13.5"
  }
 },
 "nbformat": 4,
 "nbformat_minor": 2
}
