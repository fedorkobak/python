{
 "cells": [
  {
   "cell_type": "markdown",
   "id": "08e9b917-6ed6-4baa-a196-e237e7d8ae3e",
   "metadata": {},
   "source": [
    "# Pathlib\n",
    "\n",
    "Pathlib is a special library built into Python that makes it easier to work with paths in Python. This page is focused on usage of this library."
   ]
  },
  {
   "cell_type": "code",
   "execution_count": 1,
   "id": "79d46786",
   "metadata": {},
   "outputs": [],
   "source": [
    "from pathlib import Path"
   ]
  },
  {
   "cell_type": "markdown",
   "id": "1a6e10bc",
   "metadata": {},
   "source": [
    "## Relative path\n",
    "\n",
    "You're free to work with relative path."
   ]
  },
  {
   "cell_type": "markdown",
   "id": "2773ffeb",
   "metadata": {},
   "source": [
    "---\n",
    "\n",
    "The following cell demonstrates that you can call `Path` without any arguments to obtain an object that refers to the current directory."
   ]
  },
  {
   "cell_type": "code",
   "execution_count": 2,
   "id": "63ba4da1",
   "metadata": {},
   "outputs": [
    {
     "data": {
      "text/plain": [
       "PosixPath('.')"
      ]
     },
     "execution_count": 2,
     "metadata": {},
     "output_type": "execute_result"
    }
   ],
   "source": [
    "relative_path = Path()\n",
    "relative_path"
   ]
  },
  {
   "cell_type": "markdown",
   "id": "b8467ed3",
   "metadata": {},
   "source": [
    "Using the `resolve` method of the `Path` class, you can obtain the corresponding absolute path."
   ]
  },
  {
   "cell_type": "code",
   "execution_count": 3,
   "id": "bf1a7e24",
   "metadata": {},
   "outputs": [
    {
     "data": {
      "text/plain": [
       "PosixPath('/home/user/Documents/code/python/core/files_folders')"
      ]
     },
     "execution_count": 3,
     "metadata": {},
     "output_type": "execute_result"
    }
   ],
   "source": [
    "relative_path.resolve()"
   ]
  },
  {
   "cell_type": "markdown",
   "id": "d451729a",
   "metadata": {},
   "source": [
    "Here, we've simply obtained the path to the directory where this notebook is located."
   ]
  },
  {
   "cell_type": "markdown",
   "id": "cf772452",
   "metadata": {},
   "source": [
    "### Parent for \".\""
   ]
  },
  {
   "cell_type": "markdown",
   "id": "bdcce308",
   "metadata": {},
   "source": [
    "The `parent` attribute will refer to the same path as the object itself."
   ]
  },
  {
   "cell_type": "markdown",
   "id": "5fa0f096",
   "metadata": {},
   "source": [
    "---\n",
    "\n",
    "The following cell demonstrates that calling `parent` from `.` returns the same relative path, which corresponds to the same absolute path."
   ]
  },
  {
   "cell_type": "code",
   "execution_count": 4,
   "id": "68c990f9",
   "metadata": {},
   "outputs": [
    {
     "data": {
      "text/plain": [
       "PosixPath('.')"
      ]
     },
     "metadata": {},
     "output_type": "display_data"
    },
    {
     "data": {
      "text/plain": [
       "PosixPath('/home/user/Documents/code/python/core/files_folders')"
      ]
     },
     "metadata": {},
     "output_type": "display_data"
    }
   ],
   "source": [
    "display(relative_path.parent)\n",
    "display(relative_path.parent.resolve())"
   ]
  },
  {
   "cell_type": "markdown",
   "id": "bb0e0b03",
   "metadata": {},
   "source": [
    "### \"..\" path"
   ]
  },
  {
   "cell_type": "markdown",
   "id": "dfcca2fb",
   "metadata": {},
   "source": [
    "But by using `..` as the path you'll refer to the parent path of the current directory."
   ]
  },
  {
   "cell_type": "markdown",
   "id": "fd93b2ab",
   "metadata": {},
   "source": [
    "---\n",
    "\n",
    "The following cell demonstrates that `Path(\"..\")` corresponds to the parent directory's absolute path. By combining multiple `..` entries with the `/` operator, you can navigate to even deeper levels within the directory structure."
   ]
  },
  {
   "cell_type": "code",
   "execution_count": 47,
   "id": "a7e7592c",
   "metadata": {},
   "outputs": [
    {
     "data": {
      "text/plain": [
       "PosixPath('/home/fedor/Documents/knowledge/python/basics/path')"
      ]
     },
     "metadata": {},
     "output_type": "display_data"
    },
    {
     "data": {
      "text/plain": [
       "PosixPath('/home/fedor/Documents/knowledge/python')"
      ]
     },
     "metadata": {},
     "output_type": "display_data"
    }
   ],
   "source": [
    "display(Path(\"..\").resolve())\n",
    "display(Path(\"../\"*3).resolve())"
   ]
  },
  {
   "cell_type": "markdown",
   "id": "c54dd7c5",
   "metadata": {},
   "source": [
    "However, the `parent` attribute works in the conventional manner by removing sections of the path. It refers to absolute paths closer to the `.` path until it reaches the `.` directory."
   ]
  },
  {
   "cell_type": "code",
   "execution_count": 58,
   "id": "0d1ec5d9",
   "metadata": {},
   "outputs": [
    {
     "data": {
      "text/plain": [
       "PosixPath('..')"
      ]
     },
     "metadata": {},
     "output_type": "display_data"
    },
    {
     "data": {
      "text/plain": [
       "PosixPath('.')"
      ]
     },
     "metadata": {},
     "output_type": "display_data"
    }
   ],
   "source": [
    "display(Path(\"../..\").parent)\n",
    "display(Path(\"..\").parent)"
   ]
  },
  {
   "cell_type": "markdown",
   "id": "71bf91fc",
   "metadata": {},
   "source": [
    "## Manipulations\n",
    "\n",
    "There is a batch of methods of the `Patholib.Path` that allows manipulate fith filesystem. Some of them:\n",
    "\n",
    "- `touch`: create file.\n",
    "- `mkdir`: create folder.\n",
    "- `unkink`: delete file.\n",
    "- `rmdir`: for deleting empty directory."
   ]
  },
  {
   "cell_type": "markdown",
   "id": "3d9f7ff1",
   "metadata": {},
   "source": [
    "---\n",
    "\n",
    "The following cell shows the creation of a folder and a file within it."
   ]
  },
  {
   "cell_type": "code",
   "execution_count": 9,
   "id": "02e139d7",
   "metadata": {},
   "outputs": [
    {
     "name": "stdout",
     "output_type": "stream",
     "text": [
      "\u001b[01;34m.\u001b[0m\n",
      "├── \u001b[01;34mexample_directory\u001b[0m\n",
      "│   └── example_file\n",
      "└── pathlib.ipynb\n",
      "\n",
      "2 directories, 2 files\n"
     ]
    }
   ],
   "source": [
    "dir_path = Path(\"example_directory\")\n",
    "dir_path.mkdir()\n",
    "file_path = dir_path/\"example_file\"\n",
    "file_path.touch()\n",
    "!tree"
   ]
  },
  {
   "cell_type": "markdown",
   "id": "3ae700a3",
   "metadata": {},
   "source": [
    "We can see the result using the system `tree` command."
   ]
  },
  {
   "cell_type": "markdown",
   "id": "3dda89dd",
   "metadata": {},
   "source": [
    "The following cell shows the difference in applying the `exists` method to existing and non-existing paths."
   ]
  },
  {
   "cell_type": "code",
   "execution_count": 10,
   "id": "8a1b3608",
   "metadata": {},
   "outputs": [
    {
     "name": "stdout",
     "output_type": "stream",
     "text": [
      "This path exists True\n",
      "This path does not exists False\n"
     ]
    }
   ],
   "source": [
    "print(\"This path exists\", file_path.exists())\n",
    "print(\"This path does not exists\", Path(\"some folder\").exists())"
   ]
  },
  {
   "cell_type": "markdown",
   "id": "1d818e8e",
   "metadata": {},
   "source": [
    "Now it's time for `unlink` and `rmdir` methods which removes file and folder we just created."
   ]
  },
  {
   "cell_type": "code",
   "execution_count": 7,
   "id": "9a209a26",
   "metadata": {},
   "outputs": [
    {
     "name": "stdout",
     "output_type": "stream",
     "text": [
      "\u001b[01;34m.\u001b[0m\n",
      "└── pathlib.ipynb\n",
      "\n",
      "1 directory, 1 file\n"
     ]
    }
   ],
   "source": [
    "file_path.unlink()\n",
    "dir_path.rmdir()\n",
    "!tree"
   ]
  },
  {
   "cell_type": "markdown",
   "id": "0ef10fd0",
   "metadata": {},
   "source": [
    "So there is only only this notebook in the output now."
   ]
  },
  {
   "cell_type": "markdown",
   "id": "7f81c21d",
   "metadata": {},
   "source": [
    "## Reading/writing\n",
    "\n",
    "You can use the `pathlib` library to read from or write to files located at a defined path. For this purpose, you can use the methods: `write_text`, `read_text`, `write_bytes`, or `read_bytes`."
   ]
  },
  {
   "cell_type": "markdown",
   "id": "01724978",
   "metadata": {},
   "source": [
    "---\n",
    "\n",
    "The following cell saves the line `hello` to the `\"temp\"` path."
   ]
  },
  {
   "cell_type": "code",
   "execution_count": 60,
   "id": "4d42ec39",
   "metadata": {},
   "outputs": [
    {
     "name": "stdout",
     "output_type": "stream",
     "text": [
      "hello"
     ]
    }
   ],
   "source": [
    "temp_path = Path(\"temp\")\n",
    "temp_path.write_text(\"hello\")\n",
    "!cat temp"
   ]
  },
  {
   "cell_type": "markdown",
   "id": "8566ede8",
   "metadata": {},
   "source": [
    "So, `cut` returns exactly the same line as we saved. Now let's try to achieve the same result using the `read_text` method of the path."
   ]
  },
  {
   "cell_type": "code",
   "execution_count": 61,
   "id": "77cf3d87",
   "metadata": {},
   "outputs": [
    {
     "name": "stdout",
     "output_type": "stream",
     "text": [
      "hello\n"
     ]
    }
   ],
   "source": [
    "print(temp_path.read_text())\n",
    "temp_path.unlink()"
   ]
  },
  {
   "cell_type": "markdown",
   "id": "69b7eb88",
   "metadata": {},
   "source": [
    "Now let's try the `write_bytes` option. We can attempt to save an integer using the `Path.write_bytes` method."
   ]
  },
  {
   "cell_type": "code",
   "execution_count": 63,
   "id": "80b82ffc",
   "metadata": {},
   "outputs": [
    {
     "name": "stdout",
     "output_type": "stream",
     "text": [
      "�\u0007"
     ]
    }
   ],
   "source": [
    "integer_value = 1988\n",
    "\n",
    "byte_length = (integer_value.bit_length() + 7) // 8\n",
    "byte_representation = integer_value.to_bytes(byte_length, byteorder='little')\n",
    "\n",
    "temp_path.write_bytes(byte_representation)\n",
    "!cat temp"
   ]
  },
  {
   "cell_type": "markdown",
   "id": "e63f5068",
   "metadata": {},
   "source": [
    "So `cat` have typical print for byte encoded values. Now read from the file and restore the number that was originally stored."
   ]
  },
  {
   "cell_type": "code",
   "execution_count": 64,
   "id": "ce2f7fe8",
   "metadata": {},
   "outputs": [
    {
     "name": "stdout",
     "output_type": "stream",
     "text": [
      "1988\n"
     ]
    }
   ],
   "source": [
    "read_bytes = temp_path.read_bytes()\n",
    "int_value = int.from_bytes(read_bytes, byteorder='little')\n",
    "temp_path.unlink()\n",
    "\n",
    "print(int_value)"
   ]
  },
  {
   "cell_type": "markdown",
   "id": "eaa1903e",
   "metadata": {},
   "source": [
    "## Overview\n",
    "\n",
    "There are a number of `PosixPath` methods that allow you to get information about your file/folder.\n",
    "\n",
    "- `exists`: check if file or folder exists.\n",
    "- [`iterdir`](https://docs.python.org/3/library/pathlib.html#pathlib.Path.iterdir): when the path points to a directory, yield path objects of the directory contents."
   ]
  },
  {
   "cell_type": "markdown",
   "id": "7606ab3f",
   "metadata": {},
   "source": [
    "---\n",
    "\n",
    "The following cell applies the `exists` method to a path that contains something and one that does not."
   ]
  },
  {
   "cell_type": "code",
   "execution_count": 9,
   "id": "a4681fc7",
   "metadata": {},
   "outputs": [
    {
     "name": "stdout",
     "output_type": "stream",
     "text": [
      "True\n",
      "False\n"
     ]
    }
   ],
   "source": [
    "print(Path().exists())\n",
    "print(Path(\"does_not_exists\").exists())"
   ]
  },
  {
   "cell_type": "markdown",
   "id": "602c9e63",
   "metadata": {},
   "source": [
    "The following cell applies the `iterdir` method to the parent directory of the current directory."
   ]
  },
  {
   "cell_type": "code",
   "execution_count": 21,
   "id": "e1ed08bb",
   "metadata": {},
   "outputs": [
    {
     "name": "stdout",
     "output_type": "stream",
     "text": [
      "Files and folders in /home/fedor/Documents/knowledge/python/basics\n"
     ]
    },
    {
     "data": {
      "text/plain": [
       "[PosixPath('/home/fedor/Documents/knowledge/python/basics/files_folders.ipynb'),\n",
       " PosixPath('/home/fedor/Documents/knowledge/python/basics/files_folders'),\n",
       " PosixPath('/home/fedor/Documents/knowledge/python/basics/regex'),\n",
       " PosixPath('/home/fedor/Documents/knowledge/python/basics/virtual_environment.ipynb'),\n",
       " PosixPath('/home/fedor/Documents/knowledge/python/basics/logging_files'),\n",
       " PosixPath('/home/fedor/Documents/knowledge/python/basics/cli_arguments'),\n",
       " PosixPath('/home/fedor/Documents/knowledge/python/basics/cli_arguments.md'),\n",
       " PosixPath('/home/fedor/Documents/knowledge/python/basics/logging.ipynb'),\n",
       " PosixPath('/home/fedor/Documents/knowledge/python/basics/syntax'),\n",
       " PosixPath('/home/fedor/Documents/knowledge/python/basics/build_package'),\n",
       " PosixPath('/home/fedor/Documents/knowledge/python/basics/build_package_files'),\n",
       " PosixPath('/home/fedor/Documents/knowledge/python/basics/build_package.ipynb'),\n",
       " PosixPath('/home/fedor/Documents/knowledge/python/basics/unittest.ipynb'),\n",
       " PosixPath('/home/fedor/Documents/knowledge/python/basics/logging'),\n",
       " PosixPath('/home/fedor/Documents/knowledge/python/basics/ipython_magics_files'),\n",
       " PosixPath('/home/fedor/Documents/knowledge/python/basics/data_classes.ipynb'),\n",
       " PosixPath('/home/fedor/Documents/knowledge/python/basics/unittest'),\n",
       " PosixPath('/home/fedor/Documents/knowledge/python/basics/syntax.ipynb'),\n",
       " PosixPath('/home/fedor/Documents/knowledge/python/basics/datatypes'),\n",
       " PosixPath('/home/fedor/Documents/knowledge/python/basics/path_files'),\n",
       " PosixPath('/home/fedor/Documents/knowledge/python/basics/datatypes.ipynb')]"
      ]
     },
     "execution_count": 21,
     "metadata": {},
     "output_type": "execute_result"
    }
   ],
   "source": [
    "path = Path(\"..\").resolve()\n",
    "print(\"Files and folders in\", path)\n",
    "list(path.iterdir())"
   ]
  }
 ],
 "metadata": {
  "kernelspec": {
   "display_name": "python",
   "language": "python",
   "name": "python3"
  },
  "language_info": {
   "codemirror_mode": {
    "name": "ipython",
    "version": 3
   },
   "file_extension": ".py",
   "mimetype": "text/x-python",
   "name": "python",
   "nbconvert_exporter": "python",
   "pygments_lexer": "ipython3",
   "version": "3.13.7"
  }
 },
 "nbformat": 4,
 "nbformat_minor": 5
}
