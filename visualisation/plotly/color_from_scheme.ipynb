{
 "cells": [
  {
   "cell_type": "markdown",
   "id": "08e7eaa0-32d1-4ea2-b6eb-e62eb16d085e",
   "metadata": {},
   "source": [
    "# Color from scheme\n",
    "\n",
    "There is a description of plotly colors <a href=\"https://plotly.com/python/builtin-colorscales/\">here</a>. But I haven't found any information about extracting colours from a colour scheme in hex or rgb form. However, there are some features that provide such an option.. There is official documentation for <a href=\"https://plotly.com/python-api-reference/generated/plotly.express.colors.html\">them</a>.\n",
    "\n",
    "The following example shows this operation for the `RdYlGn_r` colour scale:\n",
    "\n",
    "- In the first step we got a colour scale by name from the function `plotly.colors.get_colorscale`, it will be a list of tuples in the format `(number, colour)` - looks like it's a way to describe colour schemes  in plotly;\n",
    "- By using `sample_colorscale` we can get more colors including intermediate states between colours specified in the colour scheme;\n",
    "- In the end, a set of colours was visualised."
   ]
  },
  {
   "cell_type": "code",
   "execution_count": 46,
   "id": "d7bbe02c-7d3d-40de-9cdf-fc4d4eb70f26",
   "metadata": {},
   "outputs": [
    {
     "data": {
      "text/html": [
       "<text style='font-size:20px'>Color scale</text>"
      ],
      "text/plain": [
       "<IPython.core.display.HTML object>"
      ]
     },
     "metadata": {},
     "output_type": "display_data"
    },
    {
     "data": {
      "text/html": [
       "<div>\n",
       "<style scoped>\n",
       "    .dataframe tbody tr th:only-of-type {\n",
       "        vertical-align: middle;\n",
       "    }\n",
       "\n",
       "    .dataframe tbody tr th {\n",
       "        vertical-align: top;\n",
       "    }\n",
       "\n",
       "    .dataframe thead th {\n",
       "        text-align: right;\n",
       "    }\n",
       "</style>\n",
       "<table border=\"1\" class=\"dataframe\">\n",
       "  <thead>\n",
       "    <tr style=\"text-align: right;\">\n",
       "      <th></th>\n",
       "      <th></th>\n",
       "      <th></th>\n",
       "    </tr>\n",
       "  </thead>\n",
       "  <tbody>\n",
       "    <tr>\n",
       "      <th>0</th>\n",
       "      <td>0.0</td>\n",
       "      <td>rgb(0,104,55)</td>\n",
       "    </tr>\n",
       "    <tr>\n",
       "      <th>1</th>\n",
       "      <td>0.1</td>\n",
       "      <td>rgb(26,152,80)</td>\n",
       "    </tr>\n",
       "    <tr>\n",
       "      <th>2</th>\n",
       "      <td>0.2</td>\n",
       "      <td>rgb(102,189,99)</td>\n",
       "    </tr>\n",
       "    <tr>\n",
       "      <th>3</th>\n",
       "      <td>0.3</td>\n",
       "      <td>rgb(166,217,106)</td>\n",
       "    </tr>\n",
       "    <tr>\n",
       "      <th>4</th>\n",
       "      <td>0.4</td>\n",
       "      <td>rgb(217,239,139)</td>\n",
       "    </tr>\n",
       "    <tr>\n",
       "      <th>5</th>\n",
       "      <td>0.5</td>\n",
       "      <td>rgb(255,255,191)</td>\n",
       "    </tr>\n",
       "    <tr>\n",
       "      <th>6</th>\n",
       "      <td>0.6</td>\n",
       "      <td>rgb(254,224,139)</td>\n",
       "    </tr>\n",
       "    <tr>\n",
       "      <th>7</th>\n",
       "      <td>0.7</td>\n",
       "      <td>rgb(253,174,97)</td>\n",
       "    </tr>\n",
       "    <tr>\n",
       "      <th>8</th>\n",
       "      <td>0.8</td>\n",
       "      <td>rgb(244,109,67)</td>\n",
       "    </tr>\n",
       "    <tr>\n",
       "      <th>9</th>\n",
       "      <td>0.9</td>\n",
       "      <td>rgb(215,48,39)</td>\n",
       "    </tr>\n",
       "    <tr>\n",
       "      <th>10</th>\n",
       "      <td>1.0</td>\n",
       "      <td>rgb(165,0,38)</td>\n",
       "    </tr>\n",
       "  </tbody>\n",
       "</table>\n",
       "</div>"
      ],
      "text/plain": [
       "                         \n",
       "0   0.0     rgb(0,104,55)\n",
       "1   0.1    rgb(26,152,80)\n",
       "2   0.2   rgb(102,189,99)\n",
       "3   0.3  rgb(166,217,106)\n",
       "4   0.4  rgb(217,239,139)\n",
       "5   0.5  rgb(255,255,191)\n",
       "6   0.6  rgb(254,224,139)\n",
       "7   0.7   rgb(253,174,97)\n",
       "8   0.8   rgb(244,109,67)\n",
       "9   0.9    rgb(215,48,39)\n",
       "10  1.0     rgb(165,0,38)"
      ]
     },
     "metadata": {},
     "output_type": "display_data"
    },
    {
     "data": {
      "text/html": [
       "<text style='font-size:20px'>Sample color scale</text>"
      ],
      "text/plain": [
       "<IPython.core.display.HTML object>"
      ]
     },
     "metadata": {},
     "output_type": "display_data"
    },
    {
     "name": "stdout",
     "output_type": "stream",
     "text": [
      "rgb(0, 104, 55)\n",
      "rgb(14, 129, 68)\n",
      "rgb(30, 154, 81)\n",
      "rgb(70, 173, 91)\n",
      "rgb(109, 192, 100)\n",
      "rgb(142, 207, 103)\n",
      "rgb(174, 220, 111)\n",
      "rgb(201, 232, 129)\n",
      "rgb(225, 242, 150)\n",
      "rgb(245, 251, 177)\n",
      "rgb(255, 247, 177)\n",
      "rgb(254, 231, 150)\n",
      "rgb(254, 208, 126)\n",
      "rgb(253, 182, 104)\n",
      "rgb(250, 150, 86)\n",
      "rgb(245, 116, 70)\n",
      "rgb(232, 83, 55)\n",
      "rgb(217, 51, 40)\n",
      "rgb(191, 25, 39)\n",
      "rgb(165, 0, 38)\n"
     ]
    },
    {
     "data": {
      "text/html": [
       "<text style='font-size:20px'></text>"
      ],
      "text/plain": [
       "<IPython.core.display.HTML object>"
      ]
     },
     "metadata": {},
     "output_type": "display_data"
    },
    {
     "data": {
      "application/vnd.plotly.v1+json": {
       "config": {
        "plotlyServerURL": "https://plot.ly"
       },
       "data": [
        {
         "hovertemplate": "%{hovertext}<extra></extra>",
         "hovertext": [
          "rgb(0, 104, 55)"
         ],
         "marker": {
          "color": "rgb(0, 104, 55)"
         },
         "orientation": "h",
         "type": "bar",
         "x": [
          1
         ],
         "y": [
          "test color"
         ]
        },
        {
         "hovertemplate": "%{hovertext}<extra></extra>",
         "hovertext": [
          "rgb(14, 129, 68)"
         ],
         "marker": {
          "color": "rgb(14, 129, 68)"
         },
         "orientation": "h",
         "type": "bar",
         "x": [
          1
         ],
         "y": [
          "test color"
         ]
        },
        {
         "hovertemplate": "%{hovertext}<extra></extra>",
         "hovertext": [
          "rgb(30, 154, 81)"
         ],
         "marker": {
          "color": "rgb(30, 154, 81)"
         },
         "orientation": "h",
         "type": "bar",
         "x": [
          1
         ],
         "y": [
          "test color"
         ]
        },
        {
         "hovertemplate": "%{hovertext}<extra></extra>",
         "hovertext": [
          "rgb(70, 173, 91)"
         ],
         "marker": {
          "color": "rgb(70, 173, 91)"
         },
         "orientation": "h",
         "type": "bar",
         "x": [
          1
         ],
         "y": [
          "test color"
         ]
        },
        {
         "hovertemplate": "%{hovertext}<extra></extra>",
         "hovertext": [
          "rgb(109, 192, 100)"
         ],
         "marker": {
          "color": "rgb(109, 192, 100)"
         },
         "orientation": "h",
         "type": "bar",
         "x": [
          1
         ],
         "y": [
          "test color"
         ]
        },
        {
         "hovertemplate": "%{hovertext}<extra></extra>",
         "hovertext": [
          "rgb(142, 207, 103)"
         ],
         "marker": {
          "color": "rgb(142, 207, 103)"
         },
         "orientation": "h",
         "type": "bar",
         "x": [
          1
         ],
         "y": [
          "test color"
         ]
        },
        {
         "hovertemplate": "%{hovertext}<extra></extra>",
         "hovertext": [
          "rgb(174, 220, 111)"
         ],
         "marker": {
          "color": "rgb(174, 220, 111)"
         },
         "orientation": "h",
         "type": "bar",
         "x": [
          1
         ],
         "y": [
          "test color"
         ]
        },
        {
         "hovertemplate": "%{hovertext}<extra></extra>",
         "hovertext": [
          "rgb(201, 232, 129)"
         ],
         "marker": {
          "color": "rgb(201, 232, 129)"
         },
         "orientation": "h",
         "type": "bar",
         "x": [
          1
         ],
         "y": [
          "test color"
         ]
        },
        {
         "hovertemplate": "%{hovertext}<extra></extra>",
         "hovertext": [
          "rgb(225, 242, 150)"
         ],
         "marker": {
          "color": "rgb(225, 242, 150)"
         },
         "orientation": "h",
         "type": "bar",
         "x": [
          1
         ],
         "y": [
          "test color"
         ]
        },
        {
         "hovertemplate": "%{hovertext}<extra></extra>",
         "hovertext": [
          "rgb(245, 251, 177)"
         ],
         "marker": {
          "color": "rgb(245, 251, 177)"
         },
         "orientation": "h",
         "type": "bar",
         "x": [
          1
         ],
         "y": [
          "test color"
         ]
        },
        {
         "hovertemplate": "%{hovertext}<extra></extra>",
         "hovertext": [
          "rgb(255, 247, 177)"
         ],
         "marker": {
          "color": "rgb(255, 247, 177)"
         },
         "orientation": "h",
         "type": "bar",
         "x": [
          1
         ],
         "y": [
          "test color"
         ]
        },
        {
         "hovertemplate": "%{hovertext}<extra></extra>",
         "hovertext": [
          "rgb(254, 231, 150)"
         ],
         "marker": {
          "color": "rgb(254, 231, 150)"
         },
         "orientation": "h",
         "type": "bar",
         "x": [
          1
         ],
         "y": [
          "test color"
         ]
        },
        {
         "hovertemplate": "%{hovertext}<extra></extra>",
         "hovertext": [
          "rgb(254, 208, 126)"
         ],
         "marker": {
          "color": "rgb(254, 208, 126)"
         },
         "orientation": "h",
         "type": "bar",
         "x": [
          1
         ],
         "y": [
          "test color"
         ]
        },
        {
         "hovertemplate": "%{hovertext}<extra></extra>",
         "hovertext": [
          "rgb(253, 182, 104)"
         ],
         "marker": {
          "color": "rgb(253, 182, 104)"
         },
         "orientation": "h",
         "type": "bar",
         "x": [
          1
         ],
         "y": [
          "test color"
         ]
        },
        {
         "hovertemplate": "%{hovertext}<extra></extra>",
         "hovertext": [
          "rgb(250, 150, 86)"
         ],
         "marker": {
          "color": "rgb(250, 150, 86)"
         },
         "orientation": "h",
         "type": "bar",
         "x": [
          1
         ],
         "y": [
          "test color"
         ]
        },
        {
         "hovertemplate": "%{hovertext}<extra></extra>",
         "hovertext": [
          "rgb(245, 116, 70)"
         ],
         "marker": {
          "color": "rgb(245, 116, 70)"
         },
         "orientation": "h",
         "type": "bar",
         "x": [
          1
         ],
         "y": [
          "test color"
         ]
        },
        {
         "hovertemplate": "%{hovertext}<extra></extra>",
         "hovertext": [
          "rgb(232, 83, 55)"
         ],
         "marker": {
          "color": "rgb(232, 83, 55)"
         },
         "orientation": "h",
         "type": "bar",
         "x": [
          1
         ],
         "y": [
          "test color"
         ]
        },
        {
         "hovertemplate": "%{hovertext}<extra></extra>",
         "hovertext": [
          "rgb(217, 51, 40)"
         ],
         "marker": {
          "color": "rgb(217, 51, 40)"
         },
         "orientation": "h",
         "type": "bar",
         "x": [
          1
         ],
         "y": [
          "test color"
         ]
        },
        {
         "hovertemplate": "%{hovertext}<extra></extra>",
         "hovertext": [
          "rgb(191, 25, 39)"
         ],
         "marker": {
          "color": "rgb(191, 25, 39)"
         },
         "orientation": "h",
         "type": "bar",
         "x": [
          1
         ],
         "y": [
          "test color"
         ]
        },
        {
         "hovertemplate": "%{hovertext}<extra></extra>",
         "hovertext": [
          "rgb(165, 0, 38)"
         ],
         "marker": {
          "color": "rgb(165, 0, 38)"
         },
         "orientation": "h",
         "type": "bar",
         "x": [
          1
         ],
         "y": [
          "test color"
         ]
        }
       ],
       "layout": {
        "autosize": true,
        "barmode": "stack",
        "dragmode": false,
        "showlegend": false,
        "template": {
         "data": {
          "bar": [
           {
            "error_x": {
             "color": "#2a3f5f"
            },
            "error_y": {
             "color": "#2a3f5f"
            },
            "marker": {
             "line": {
              "color": "#E5ECF6",
              "width": 0.5
             },
             "pattern": {
              "fillmode": "overlay",
              "size": 10,
              "solidity": 0.2
             }
            },
            "type": "bar"
           }
          ],
          "barpolar": [
           {
            "marker": {
             "line": {
              "color": "#E5ECF6",
              "width": 0.5
             },
             "pattern": {
              "fillmode": "overlay",
              "size": 10,
              "solidity": 0.2
             }
            },
            "type": "barpolar"
           }
          ],
          "carpet": [
           {
            "aaxis": {
             "endlinecolor": "#2a3f5f",
             "gridcolor": "white",
             "linecolor": "white",
             "minorgridcolor": "white",
             "startlinecolor": "#2a3f5f"
            },
            "baxis": {
             "endlinecolor": "#2a3f5f",
             "gridcolor": "white",
             "linecolor": "white",
             "minorgridcolor": "white",
             "startlinecolor": "#2a3f5f"
            },
            "type": "carpet"
           }
          ],
          "choropleth": [
           {
            "colorbar": {
             "outlinewidth": 0,
             "ticks": ""
            },
            "type": "choropleth"
           }
          ],
          "contour": [
           {
            "colorbar": {
             "outlinewidth": 0,
             "ticks": ""
            },
            "colorscale": [
             [
              0,
              "#0d0887"
             ],
             [
              0.1111111111111111,
              "#46039f"
             ],
             [
              0.2222222222222222,
              "#7201a8"
             ],
             [
              0.3333333333333333,
              "#9c179e"
             ],
             [
              0.4444444444444444,
              "#bd3786"
             ],
             [
              0.5555555555555556,
              "#d8576b"
             ],
             [
              0.6666666666666666,
              "#ed7953"
             ],
             [
              0.7777777777777778,
              "#fb9f3a"
             ],
             [
              0.8888888888888888,
              "#fdca26"
             ],
             [
              1,
              "#f0f921"
             ]
            ],
            "type": "contour"
           }
          ],
          "contourcarpet": [
           {
            "colorbar": {
             "outlinewidth": 0,
             "ticks": ""
            },
            "type": "contourcarpet"
           }
          ],
          "heatmap": [
           {
            "colorbar": {
             "outlinewidth": 0,
             "ticks": ""
            },
            "colorscale": [
             [
              0,
              "#0d0887"
             ],
             [
              0.1111111111111111,
              "#46039f"
             ],
             [
              0.2222222222222222,
              "#7201a8"
             ],
             [
              0.3333333333333333,
              "#9c179e"
             ],
             [
              0.4444444444444444,
              "#bd3786"
             ],
             [
              0.5555555555555556,
              "#d8576b"
             ],
             [
              0.6666666666666666,
              "#ed7953"
             ],
             [
              0.7777777777777778,
              "#fb9f3a"
             ],
             [
              0.8888888888888888,
              "#fdca26"
             ],
             [
              1,
              "#f0f921"
             ]
            ],
            "type": "heatmap"
           }
          ],
          "heatmapgl": [
           {
            "colorbar": {
             "outlinewidth": 0,
             "ticks": ""
            },
            "colorscale": [
             [
              0,
              "#0d0887"
             ],
             [
              0.1111111111111111,
              "#46039f"
             ],
             [
              0.2222222222222222,
              "#7201a8"
             ],
             [
              0.3333333333333333,
              "#9c179e"
             ],
             [
              0.4444444444444444,
              "#bd3786"
             ],
             [
              0.5555555555555556,
              "#d8576b"
             ],
             [
              0.6666666666666666,
              "#ed7953"
             ],
             [
              0.7777777777777778,
              "#fb9f3a"
             ],
             [
              0.8888888888888888,
              "#fdca26"
             ],
             [
              1,
              "#f0f921"
             ]
            ],
            "type": "heatmapgl"
           }
          ],
          "histogram": [
           {
            "marker": {
             "pattern": {
              "fillmode": "overlay",
              "size": 10,
              "solidity": 0.2
             }
            },
            "type": "histogram"
           }
          ],
          "histogram2d": [
           {
            "colorbar": {
             "outlinewidth": 0,
             "ticks": ""
            },
            "colorscale": [
             [
              0,
              "#0d0887"
             ],
             [
              0.1111111111111111,
              "#46039f"
             ],
             [
              0.2222222222222222,
              "#7201a8"
             ],
             [
              0.3333333333333333,
              "#9c179e"
             ],
             [
              0.4444444444444444,
              "#bd3786"
             ],
             [
              0.5555555555555556,
              "#d8576b"
             ],
             [
              0.6666666666666666,
              "#ed7953"
             ],
             [
              0.7777777777777778,
              "#fb9f3a"
             ],
             [
              0.8888888888888888,
              "#fdca26"
             ],
             [
              1,
              "#f0f921"
             ]
            ],
            "type": "histogram2d"
           }
          ],
          "histogram2dcontour": [
           {
            "colorbar": {
             "outlinewidth": 0,
             "ticks": ""
            },
            "colorscale": [
             [
              0,
              "#0d0887"
             ],
             [
              0.1111111111111111,
              "#46039f"
             ],
             [
              0.2222222222222222,
              "#7201a8"
             ],
             [
              0.3333333333333333,
              "#9c179e"
             ],
             [
              0.4444444444444444,
              "#bd3786"
             ],
             [
              0.5555555555555556,
              "#d8576b"
             ],
             [
              0.6666666666666666,
              "#ed7953"
             ],
             [
              0.7777777777777778,
              "#fb9f3a"
             ],
             [
              0.8888888888888888,
              "#fdca26"
             ],
             [
              1,
              "#f0f921"
             ]
            ],
            "type": "histogram2dcontour"
           }
          ],
          "mesh3d": [
           {
            "colorbar": {
             "outlinewidth": 0,
             "ticks": ""
            },
            "type": "mesh3d"
           }
          ],
          "parcoords": [
           {
            "line": {
             "colorbar": {
              "outlinewidth": 0,
              "ticks": ""
             }
            },
            "type": "parcoords"
           }
          ],
          "pie": [
           {
            "automargin": true,
            "type": "pie"
           }
          ],
          "scatter": [
           {
            "fillpattern": {
             "fillmode": "overlay",
             "size": 10,
             "solidity": 0.2
            },
            "type": "scatter"
           }
          ],
          "scatter3d": [
           {
            "line": {
             "colorbar": {
              "outlinewidth": 0,
              "ticks": ""
             }
            },
            "marker": {
             "colorbar": {
              "outlinewidth": 0,
              "ticks": ""
             }
            },
            "type": "scatter3d"
           }
          ],
          "scattercarpet": [
           {
            "marker": {
             "colorbar": {
              "outlinewidth": 0,
              "ticks": ""
             }
            },
            "type": "scattercarpet"
           }
          ],
          "scattergeo": [
           {
            "marker": {
             "colorbar": {
              "outlinewidth": 0,
              "ticks": ""
             }
            },
            "type": "scattergeo"
           }
          ],
          "scattergl": [
           {
            "marker": {
             "colorbar": {
              "outlinewidth": 0,
              "ticks": ""
             }
            },
            "type": "scattergl"
           }
          ],
          "scattermapbox": [
           {
            "marker": {
             "colorbar": {
              "outlinewidth": 0,
              "ticks": ""
             }
            },
            "type": "scattermapbox"
           }
          ],
          "scatterpolar": [
           {
            "marker": {
             "colorbar": {
              "outlinewidth": 0,
              "ticks": ""
             }
            },
            "type": "scatterpolar"
           }
          ],
          "scatterpolargl": [
           {
            "marker": {
             "colorbar": {
              "outlinewidth": 0,
              "ticks": ""
             }
            },
            "type": "scatterpolargl"
           }
          ],
          "scatterternary": [
           {
            "marker": {
             "colorbar": {
              "outlinewidth": 0,
              "ticks": ""
             }
            },
            "type": "scatterternary"
           }
          ],
          "surface": [
           {
            "colorbar": {
             "outlinewidth": 0,
             "ticks": ""
            },
            "colorscale": [
             [
              0,
              "#0d0887"
             ],
             [
              0.1111111111111111,
              "#46039f"
             ],
             [
              0.2222222222222222,
              "#7201a8"
             ],
             [
              0.3333333333333333,
              "#9c179e"
             ],
             [
              0.4444444444444444,
              "#bd3786"
             ],
             [
              0.5555555555555556,
              "#d8576b"
             ],
             [
              0.6666666666666666,
              "#ed7953"
             ],
             [
              0.7777777777777778,
              "#fb9f3a"
             ],
             [
              0.8888888888888888,
              "#fdca26"
             ],
             [
              1,
              "#f0f921"
             ]
            ],
            "type": "surface"
           }
          ],
          "table": [
           {
            "cells": {
             "fill": {
              "color": "#EBF0F8"
             },
             "line": {
              "color": "white"
             }
            },
            "header": {
             "fill": {
              "color": "#C8D4E3"
             },
             "line": {
              "color": "white"
             }
            },
            "type": "table"
           }
          ]
         },
         "layout": {
          "annotationdefaults": {
           "arrowcolor": "#2a3f5f",
           "arrowhead": 0,
           "arrowwidth": 1
          },
          "autotypenumbers": "strict",
          "coloraxis": {
           "colorbar": {
            "outlinewidth": 0,
            "ticks": ""
           }
          },
          "colorscale": {
           "diverging": [
            [
             0,
             "#8e0152"
            ],
            [
             0.1,
             "#c51b7d"
            ],
            [
             0.2,
             "#de77ae"
            ],
            [
             0.3,
             "#f1b6da"
            ],
            [
             0.4,
             "#fde0ef"
            ],
            [
             0.5,
             "#f7f7f7"
            ],
            [
             0.6,
             "#e6f5d0"
            ],
            [
             0.7,
             "#b8e186"
            ],
            [
             0.8,
             "#7fbc41"
            ],
            [
             0.9,
             "#4d9221"
            ],
            [
             1,
             "#276419"
            ]
           ],
           "sequential": [
            [
             0,
             "#0d0887"
            ],
            [
             0.1111111111111111,
             "#46039f"
            ],
            [
             0.2222222222222222,
             "#7201a8"
            ],
            [
             0.3333333333333333,
             "#9c179e"
            ],
            [
             0.4444444444444444,
             "#bd3786"
            ],
            [
             0.5555555555555556,
             "#d8576b"
            ],
            [
             0.6666666666666666,
             "#ed7953"
            ],
            [
             0.7777777777777778,
             "#fb9f3a"
            ],
            [
             0.8888888888888888,
             "#fdca26"
            ],
            [
             1,
             "#f0f921"
            ]
           ],
           "sequentialminus": [
            [
             0,
             "#0d0887"
            ],
            [
             0.1111111111111111,
             "#46039f"
            ],
            [
             0.2222222222222222,
             "#7201a8"
            ],
            [
             0.3333333333333333,
             "#9c179e"
            ],
            [
             0.4444444444444444,
             "#bd3786"
            ],
            [
             0.5555555555555556,
             "#d8576b"
            ],
            [
             0.6666666666666666,
             "#ed7953"
            ],
            [
             0.7777777777777778,
             "#fb9f3a"
            ],
            [
             0.8888888888888888,
             "#fdca26"
            ],
            [
             1,
             "#f0f921"
            ]
           ]
          },
          "colorway": [
           "#636efa",
           "#EF553B",
           "#00cc96",
           "#ab63fa",
           "#FFA15A",
           "#19d3f3",
           "#FF6692",
           "#B6E880",
           "#FF97FF",
           "#FECB52"
          ],
          "font": {
           "color": "#2a3f5f"
          },
          "geo": {
           "bgcolor": "white",
           "lakecolor": "white",
           "landcolor": "#E5ECF6",
           "showlakes": true,
           "showland": true,
           "subunitcolor": "white"
          },
          "hoverlabel": {
           "align": "left"
          },
          "hovermode": "closest",
          "mapbox": {
           "style": "light"
          },
          "paper_bgcolor": "white",
          "plot_bgcolor": "#E5ECF6",
          "polar": {
           "angularaxis": {
            "gridcolor": "white",
            "linecolor": "white",
            "ticks": ""
           },
           "bgcolor": "#E5ECF6",
           "radialaxis": {
            "gridcolor": "white",
            "linecolor": "white",
            "ticks": ""
           }
          },
          "scene": {
           "xaxis": {
            "backgroundcolor": "#E5ECF6",
            "gridcolor": "white",
            "gridwidth": 2,
            "linecolor": "white",
            "showbackground": true,
            "ticks": "",
            "zerolinecolor": "white"
           },
           "yaxis": {
            "backgroundcolor": "#E5ECF6",
            "gridcolor": "white",
            "gridwidth": 2,
            "linecolor": "white",
            "showbackground": true,
            "ticks": "",
            "zerolinecolor": "white"
           },
           "zaxis": {
            "backgroundcolor": "#E5ECF6",
            "gridcolor": "white",
            "gridwidth": 2,
            "linecolor": "white",
            "showbackground": true,
            "ticks": "",
            "zerolinecolor": "white"
           }
          },
          "shapedefaults": {
           "line": {
            "color": "#2a3f5f"
           }
          },
          "ternary": {
           "aaxis": {
            "gridcolor": "white",
            "linecolor": "white",
            "ticks": ""
           },
           "baxis": {
            "gridcolor": "white",
            "linecolor": "white",
            "ticks": ""
           },
           "bgcolor": "#E5ECF6",
           "caxis": {
            "gridcolor": "white",
            "linecolor": "white",
            "ticks": ""
           }
          },
          "title": {
           "x": 0.05
          },
          "xaxis": {
           "automargin": true,
           "gridcolor": "white",
           "linecolor": "white",
           "ticks": "",
           "title": {
            "standoff": 15
           },
           "zerolinecolor": "white",
           "zerolinewidth": 2
          },
          "yaxis": {
           "automargin": true,
           "gridcolor": "white",
           "linecolor": "white",
           "ticks": "",
           "title": {
            "standoff": 15
           },
           "zerolinecolor": "white",
           "zerolinewidth": 2
          }
         }
        },
        "title": {
         "text": "Visualisation"
        },
        "xaxis": {
         "autorange": false,
         "range": [
          0,
          20
         ],
         "showgrid": false,
         "showticklabels": false,
         "type": "linear"
        },
        "yaxis": {
         "autorange": true,
         "range": [
          -0.5,
          0.5
         ],
         "type": "category"
        }
       }
      },
      "image/png": "[encoded data removed]",
      "text/html": [
       "<div>                            <div id=\"4d925813-60a1-4b86-90cb-5ea8da5096df\" class=\"plotly-graph-div\" style=\"height:525px; width:100%;\"></div>            <script type=\"text/javascript\">                require([\"plotly\"], function(Plotly) {                    window.PLOTLYENV=window.PLOTLYENV || {};                                    if (document.getElementById(\"4d925813-60a1-4b86-90cb-5ea8da5096df\")) {                    Plotly.newPlot(                        \"4d925813-60a1-4b86-90cb-5ea8da5096df\",                        [{\"hovertemplate\":\"%{hovertext}\\u003cextra\\u003e\\u003c\\u002fextra\\u003e\",\"hovertext\":[\"rgb(0, 104, 55)\"],\"marker\":{\"color\":\"rgb(0, 104, 55)\"},\"orientation\":\"h\",\"x\":[1],\"y\":[\"test color\"],\"type\":\"bar\"},{\"hovertemplate\":\"%{hovertext}\\u003cextra\\u003e\\u003c\\u002fextra\\u003e\",\"hovertext\":[\"rgb(14, 129, 68)\"],\"marker\":{\"color\":\"rgb(14, 129, 68)\"},\"orientation\":\"h\",\"x\":[1],\"y\":[\"test color\"],\"type\":\"bar\"},{\"hovertemplate\":\"%{hovertext}\\u003cextra\\u003e\\u003c\\u002fextra\\u003e\",\"hovertext\":[\"rgb(30, 154, 81)\"],\"marker\":{\"color\":\"rgb(30, 154, 81)\"},\"orientation\":\"h\",\"x\":[1],\"y\":[\"test color\"],\"type\":\"bar\"},{\"hovertemplate\":\"%{hovertext}\\u003cextra\\u003e\\u003c\\u002fextra\\u003e\",\"hovertext\":[\"rgb(70, 173, 91)\"],\"marker\":{\"color\":\"rgb(70, 173, 91)\"},\"orientation\":\"h\",\"x\":[1],\"y\":[\"test color\"],\"type\":\"bar\"},{\"hovertemplate\":\"%{hovertext}\\u003cextra\\u003e\\u003c\\u002fextra\\u003e\",\"hovertext\":[\"rgb(109, 192, 100)\"],\"marker\":{\"color\":\"rgb(109, 192, 100)\"},\"orientation\":\"h\",\"x\":[1],\"y\":[\"test color\"],\"type\":\"bar\"},{\"hovertemplate\":\"%{hovertext}\\u003cextra\\u003e\\u003c\\u002fextra\\u003e\",\"hovertext\":[\"rgb(142, 207, 103)\"],\"marker\":{\"color\":\"rgb(142, 207, 103)\"},\"orientation\":\"h\",\"x\":[1],\"y\":[\"test color\"],\"type\":\"bar\"},{\"hovertemplate\":\"%{hovertext}\\u003cextra\\u003e\\u003c\\u002fextra\\u003e\",\"hovertext\":[\"rgb(174, 220, 111)\"],\"marker\":{\"color\":\"rgb(174, 220, 111)\"},\"orientation\":\"h\",\"x\":[1],\"y\":[\"test color\"],\"type\":\"bar\"},{\"hovertemplate\":\"%{hovertext}\\u003cextra\\u003e\\u003c\\u002fextra\\u003e\",\"hovertext\":[\"rgb(201, 232, 129)\"],\"marker\":{\"color\":\"rgb(201, 232, 129)\"},\"orientation\":\"h\",\"x\":[1],\"y\":[\"test color\"],\"type\":\"bar\"},{\"hovertemplate\":\"%{hovertext}\\u003cextra\\u003e\\u003c\\u002fextra\\u003e\",\"hovertext\":[\"rgb(225, 242, 150)\"],\"marker\":{\"color\":\"rgb(225, 242, 150)\"},\"orientation\":\"h\",\"x\":[1],\"y\":[\"test color\"],\"type\":\"bar\"},{\"hovertemplate\":\"%{hovertext}\\u003cextra\\u003e\\u003c\\u002fextra\\u003e\",\"hovertext\":[\"rgb(245, 251, 177)\"],\"marker\":{\"color\":\"rgb(245, 251, 177)\"},\"orientation\":\"h\",\"x\":[1],\"y\":[\"test color\"],\"type\":\"bar\"},{\"hovertemplate\":\"%{hovertext}\\u003cextra\\u003e\\u003c\\u002fextra\\u003e\",\"hovertext\":[\"rgb(255, 247, 177)\"],\"marker\":{\"color\":\"rgb(255, 247, 177)\"},\"orientation\":\"h\",\"x\":[1],\"y\":[\"test color\"],\"type\":\"bar\"},{\"hovertemplate\":\"%{hovertext}\\u003cextra\\u003e\\u003c\\u002fextra\\u003e\",\"hovertext\":[\"rgb(254, 231, 150)\"],\"marker\":{\"color\":\"rgb(254, 231, 150)\"},\"orientation\":\"h\",\"x\":[1],\"y\":[\"test color\"],\"type\":\"bar\"},{\"hovertemplate\":\"%{hovertext}\\u003cextra\\u003e\\u003c\\u002fextra\\u003e\",\"hovertext\":[\"rgb(254, 208, 126)\"],\"marker\":{\"color\":\"rgb(254, 208, 126)\"},\"orientation\":\"h\",\"x\":[1],\"y\":[\"test color\"],\"type\":\"bar\"},{\"hovertemplate\":\"%{hovertext}\\u003cextra\\u003e\\u003c\\u002fextra\\u003e\",\"hovertext\":[\"rgb(253, 182, 104)\"],\"marker\":{\"color\":\"rgb(253, 182, 104)\"},\"orientation\":\"h\",\"x\":[1],\"y\":[\"test color\"],\"type\":\"bar\"},{\"hovertemplate\":\"%{hovertext}\\u003cextra\\u003e\\u003c\\u002fextra\\u003e\",\"hovertext\":[\"rgb(250, 150, 86)\"],\"marker\":{\"color\":\"rgb(250, 150, 86)\"},\"orientation\":\"h\",\"x\":[1],\"y\":[\"test color\"],\"type\":\"bar\"},{\"hovertemplate\":\"%{hovertext}\\u003cextra\\u003e\\u003c\\u002fextra\\u003e\",\"hovertext\":[\"rgb(245, 116, 70)\"],\"marker\":{\"color\":\"rgb(245, 116, 70)\"},\"orientation\":\"h\",\"x\":[1],\"y\":[\"test color\"],\"type\":\"bar\"},{\"hovertemplate\":\"%{hovertext}\\u003cextra\\u003e\\u003c\\u002fextra\\u003e\",\"hovertext\":[\"rgb(232, 83, 55)\"],\"marker\":{\"color\":\"rgb(232, 83, 55)\"},\"orientation\":\"h\",\"x\":[1],\"y\":[\"test color\"],\"type\":\"bar\"},{\"hovertemplate\":\"%{hovertext}\\u003cextra\\u003e\\u003c\\u002fextra\\u003e\",\"hovertext\":[\"rgb(217, 51, 40)\"],\"marker\":{\"color\":\"rgb(217, 51, 40)\"},\"orientation\":\"h\",\"x\":[1],\"y\":[\"test color\"],\"type\":\"bar\"},{\"hovertemplate\":\"%{hovertext}\\u003cextra\\u003e\\u003c\\u002fextra\\u003e\",\"hovertext\":[\"rgb(191, 25, 39)\"],\"marker\":{\"color\":\"rgb(191, 25, 39)\"},\"orientation\":\"h\",\"x\":[1],\"y\":[\"test color\"],\"type\":\"bar\"},{\"hovertemplate\":\"%{hovertext}\\u003cextra\\u003e\\u003c\\u002fextra\\u003e\",\"hovertext\":[\"rgb(165, 0, 38)\"],\"marker\":{\"color\":\"rgb(165, 0, 38)\"},\"orientation\":\"h\",\"x\":[1],\"y\":[\"test color\"],\"type\":\"bar\"}],                        {\"barmode\":\"stack\",\"dragmode\":false,\"showlegend\":false,\"title\":{\"text\":\"Visualisation\"},\"xaxis\":{\"range\":[0,20],\"showgrid\":false,\"showticklabels\":false},\"template\":{\"data\":{\"histogram2dcontour\":[{\"type\":\"histogram2dcontour\",\"colorbar\":{\"outlinewidth\":0,\"ticks\":\"\"},\"colorscale\":[[0.0,\"#0d0887\"],[0.1111111111111111,\"#46039f\"],[0.2222222222222222,\"#7201a8\"],[0.3333333333333333,\"#9c179e\"],[0.4444444444444444,\"#bd3786\"],[0.5555555555555556,\"#d8576b\"],[0.6666666666666666,\"#ed7953\"],[0.7777777777777778,\"#fb9f3a\"],[0.8888888888888888,\"#fdca26\"],[1.0,\"#f0f921\"]]}],\"choropleth\":[{\"type\":\"choropleth\",\"colorbar\":{\"outlinewidth\":0,\"ticks\":\"\"}}],\"histogram2d\":[{\"type\":\"histogram2d\",\"colorbar\":{\"outlinewidth\":0,\"ticks\":\"\"},\"colorscale\":[[0.0,\"#0d0887\"],[0.1111111111111111,\"#46039f\"],[0.2222222222222222,\"#7201a8\"],[0.3333333333333333,\"#9c179e\"],[0.4444444444444444,\"#bd3786\"],[0.5555555555555556,\"#d8576b\"],[0.6666666666666666,\"#ed7953\"],[0.7777777777777778,\"#fb9f3a\"],[0.8888888888888888,\"#fdca26\"],[1.0,\"#f0f921\"]]}],\"heatmap\":[{\"type\":\"heatmap\",\"colorbar\":{\"outlinewidth\":0,\"ticks\":\"\"},\"colorscale\":[[0.0,\"#0d0887\"],[0.1111111111111111,\"#46039f\"],[0.2222222222222222,\"#7201a8\"],[0.3333333333333333,\"#9c179e\"],[0.4444444444444444,\"#bd3786\"],[0.5555555555555556,\"#d8576b\"],[0.6666666666666666,\"#ed7953\"],[0.7777777777777778,\"#fb9f3a\"],[0.8888888888888888,\"#fdca26\"],[1.0,\"#f0f921\"]]}],\"heatmapgl\":[{\"type\":\"heatmapgl\",\"colorbar\":{\"outlinewidth\":0,\"ticks\":\"\"},\"colorscale\":[[0.0,\"#0d0887\"],[0.1111111111111111,\"#46039f\"],[0.2222222222222222,\"#7201a8\"],[0.3333333333333333,\"#9c179e\"],[0.4444444444444444,\"#bd3786\"],[0.5555555555555556,\"#d8576b\"],[0.6666666666666666,\"#ed7953\"],[0.7777777777777778,\"#fb9f3a\"],[0.8888888888888888,\"#fdca26\"],[1.0,\"#f0f921\"]]}],\"contourcarpet\":[{\"type\":\"contourcarpet\",\"colorbar\":{\"outlinewidth\":0,\"ticks\":\"\"}}],\"contour\":[{\"type\":\"contour\",\"colorbar\":{\"outlinewidth\":0,\"ticks\":\"\"},\"colorscale\":[[0.0,\"#0d0887\"],[0.1111111111111111,\"#46039f\"],[0.2222222222222222,\"#7201a8\"],[0.3333333333333333,\"#9c179e\"],[0.4444444444444444,\"#bd3786\"],[0.5555555555555556,\"#d8576b\"],[0.6666666666666666,\"#ed7953\"],[0.7777777777777778,\"#fb9f3a\"],[0.8888888888888888,\"#fdca26\"],[1.0,\"#f0f921\"]]}],\"surface\":[{\"type\":\"surface\",\"colorbar\":{\"outlinewidth\":0,\"ticks\":\"\"},\"colorscale\":[[0.0,\"#0d0887\"],[0.1111111111111111,\"#46039f\"],[0.2222222222222222,\"#7201a8\"],[0.3333333333333333,\"#9c179e\"],[0.4444444444444444,\"#bd3786\"],[0.5555555555555556,\"#d8576b\"],[0.6666666666666666,\"#ed7953\"],[0.7777777777777778,\"#fb9f3a\"],[0.8888888888888888,\"#fdca26\"],[1.0,\"#f0f921\"]]}],\"mesh3d\":[{\"type\":\"mesh3d\",\"colorbar\":{\"outlinewidth\":0,\"ticks\":\"\"}}],\"scatter\":[{\"fillpattern\":{\"fillmode\":\"overlay\",\"size\":10,\"solidity\":0.2},\"type\":\"scatter\"}],\"parcoords\":[{\"type\":\"parcoords\",\"line\":{\"colorbar\":{\"outlinewidth\":0,\"ticks\":\"\"}}}],\"scatterpolargl\":[{\"type\":\"scatterpolargl\",\"marker\":{\"colorbar\":{\"outlinewidth\":0,\"ticks\":\"\"}}}],\"bar\":[{\"error_x\":{\"color\":\"#2a3f5f\"},\"error_y\":{\"color\":\"#2a3f5f\"},\"marker\":{\"line\":{\"color\":\"#E5ECF6\",\"width\":0.5},\"pattern\":{\"fillmode\":\"overlay\",\"size\":10,\"solidity\":0.2}},\"type\":\"bar\"}],\"scattergeo\":[{\"type\":\"scattergeo\",\"marker\":{\"colorbar\":{\"outlinewidth\":0,\"ticks\":\"\"}}}],\"scatterpolar\":[{\"type\":\"scatterpolar\",\"marker\":{\"colorbar\":{\"outlinewidth\":0,\"ticks\":\"\"}}}],\"histogram\":[{\"marker\":{\"pattern\":{\"fillmode\":\"overlay\",\"size\":10,\"solidity\":0.2}},\"type\":\"histogram\"}],\"scattergl\":[{\"type\":\"scattergl\",\"marker\":{\"colorbar\":{\"outlinewidth\":0,\"ticks\":\"\"}}}],\"scatter3d\":[{\"type\":\"scatter3d\",\"line\":{\"colorbar\":{\"outlinewidth\":0,\"ticks\":\"\"}},\"marker\":{\"colorbar\":{\"outlinewidth\":0,\"ticks\":\"\"}}}],\"scattermapbox\":[{\"type\":\"scattermapbox\",\"marker\":{\"colorbar\":{\"outlinewidth\":0,\"ticks\":\"\"}}}],\"scatterternary\":[{\"type\":\"scatterternary\",\"marker\":{\"colorbar\":{\"outlinewidth\":0,\"ticks\":\"\"}}}],\"scattercarpet\":[{\"type\":\"scattercarpet\",\"marker\":{\"colorbar\":{\"outlinewidth\":0,\"ticks\":\"\"}}}],\"carpet\":[{\"aaxis\":{\"endlinecolor\":\"#2a3f5f\",\"gridcolor\":\"white\",\"linecolor\":\"white\",\"minorgridcolor\":\"white\",\"startlinecolor\":\"#2a3f5f\"},\"baxis\":{\"endlinecolor\":\"#2a3f5f\",\"gridcolor\":\"white\",\"linecolor\":\"white\",\"minorgridcolor\":\"white\",\"startlinecolor\":\"#2a3f5f\"},\"type\":\"carpet\"}],\"table\":[{\"cells\":{\"fill\":{\"color\":\"#EBF0F8\"},\"line\":{\"color\":\"white\"}},\"header\":{\"fill\":{\"color\":\"#C8D4E3\"},\"line\":{\"color\":\"white\"}},\"type\":\"table\"}],\"barpolar\":[{\"marker\":{\"line\":{\"color\":\"#E5ECF6\",\"width\":0.5},\"pattern\":{\"fillmode\":\"overlay\",\"size\":10,\"solidity\":0.2}},\"type\":\"barpolar\"}],\"pie\":[{\"automargin\":true,\"type\":\"pie\"}]},\"layout\":{\"autotypenumbers\":\"strict\",\"colorway\":[\"#636efa\",\"#EF553B\",\"#00cc96\",\"#ab63fa\",\"#FFA15A\",\"#19d3f3\",\"#FF6692\",\"#B6E880\",\"#FF97FF\",\"#FECB52\"],\"font\":{\"color\":\"#2a3f5f\"},\"hovermode\":\"closest\",\"hoverlabel\":{\"align\":\"left\"},\"paper_bgcolor\":\"white\",\"plot_bgcolor\":\"#E5ECF6\",\"polar\":{\"bgcolor\":\"#E5ECF6\",\"angularaxis\":{\"gridcolor\":\"white\",\"linecolor\":\"white\",\"ticks\":\"\"},\"radialaxis\":{\"gridcolor\":\"white\",\"linecolor\":\"white\",\"ticks\":\"\"}},\"ternary\":{\"bgcolor\":\"#E5ECF6\",\"aaxis\":{\"gridcolor\":\"white\",\"linecolor\":\"white\",\"ticks\":\"\"},\"baxis\":{\"gridcolor\":\"white\",\"linecolor\":\"white\",\"ticks\":\"\"},\"caxis\":{\"gridcolor\":\"white\",\"linecolor\":\"white\",\"ticks\":\"\"}},\"coloraxis\":{\"colorbar\":{\"outlinewidth\":0,\"ticks\":\"\"}},\"colorscale\":{\"sequential\":[[0.0,\"#0d0887\"],[0.1111111111111111,\"#46039f\"],[0.2222222222222222,\"#7201a8\"],[0.3333333333333333,\"#9c179e\"],[0.4444444444444444,\"#bd3786\"],[0.5555555555555556,\"#d8576b\"],[0.6666666666666666,\"#ed7953\"],[0.7777777777777778,\"#fb9f3a\"],[0.8888888888888888,\"#fdca26\"],[1.0,\"#f0f921\"]],\"sequentialminus\":[[0.0,\"#0d0887\"],[0.1111111111111111,\"#46039f\"],[0.2222222222222222,\"#7201a8\"],[0.3333333333333333,\"#9c179e\"],[0.4444444444444444,\"#bd3786\"],[0.5555555555555556,\"#d8576b\"],[0.6666666666666666,\"#ed7953\"],[0.7777777777777778,\"#fb9f3a\"],[0.8888888888888888,\"#fdca26\"],[1.0,\"#f0f921\"]],\"diverging\":[[0,\"#8e0152\"],[0.1,\"#c51b7d\"],[0.2,\"#de77ae\"],[0.3,\"#f1b6da\"],[0.4,\"#fde0ef\"],[0.5,\"#f7f7f7\"],[0.6,\"#e6f5d0\"],[0.7,\"#b8e186\"],[0.8,\"#7fbc41\"],[0.9,\"#4d9221\"],[1,\"#276419\"]]},\"xaxis\":{\"gridcolor\":\"white\",\"linecolor\":\"white\",\"ticks\":\"\",\"title\":{\"standoff\":15},\"zerolinecolor\":\"white\",\"automargin\":true,\"zerolinewidth\":2},\"yaxis\":{\"gridcolor\":\"white\",\"linecolor\":\"white\",\"ticks\":\"\",\"title\":{\"standoff\":15},\"zerolinecolor\":\"white\",\"automargin\":true,\"zerolinewidth\":2},\"scene\":{\"xaxis\":{\"backgroundcolor\":\"#E5ECF6\",\"gridcolor\":\"white\",\"linecolor\":\"white\",\"showbackground\":true,\"ticks\":\"\",\"zerolinecolor\":\"white\",\"gridwidth\":2},\"yaxis\":{\"backgroundcolor\":\"#E5ECF6\",\"gridcolor\":\"white\",\"linecolor\":\"white\",\"showbackground\":true,\"ticks\":\"\",\"zerolinecolor\":\"white\",\"gridwidth\":2},\"zaxis\":{\"backgroundcolor\":\"#E5ECF6\",\"gridcolor\":\"white\",\"linecolor\":\"white\",\"showbackground\":true,\"ticks\":\"\",\"zerolinecolor\":\"white\",\"gridwidth\":2}},\"shapedefaults\":{\"line\":{\"color\":\"#2a3f5f\"}},\"annotationdefaults\":{\"arrowcolor\":\"#2a3f5f\",\"arrowhead\":0,\"arrowwidth\":1},\"geo\":{\"bgcolor\":\"white\",\"landcolor\":\"#E5ECF6\",\"subunitcolor\":\"white\",\"showland\":true,\"showlakes\":true,\"lakecolor\":\"white\"},\"title\":{\"x\":0.05},\"mapbox\":{\"style\":\"light\"}}}},                        {\"responsive\": true}                    ).then(function(){\n",
       "                            \n",
       "var gd = document.getElementById('4d925813-60a1-4b86-90cb-5ea8da5096df');\n",
       "var x = new MutationObserver(function (mutations, observer) {{\n",
       "        var display = window.getComputedStyle(gd).display;\n",
       "        if (!display || display === 'none') {{\n",
       "            console.log([gd, 'removed!']);\n",
       "            Plotly.purge(gd);\n",
       "            observer.disconnect();\n",
       "        }}\n",
       "}});\n",
       "\n",
       "// Listen for the removal of the full notebook cells\n",
       "var notebookContainer = gd.closest('#notebook-container');\n",
       "if (notebookContainer) {{\n",
       "    x.observe(notebookContainer, {childList: true});\n",
       "}}\n",
       "\n",
       "// Listen for the clearing of the current output cell\n",
       "var outputEl = gd.closest('.output');\n",
       "if (outputEl) {{\n",
       "    x.observe(outputEl, {childList: true});\n",
       "}}\n",
       "\n",
       "                        })                };                });            </script>        </div>"
      ]
     },
     "metadata": {},
     "output_type": "display_data"
    }
   ],
   "source": [
    "import numpy as np\n",
    "import pandas as pd\n",
    "import plotly as pltly\n",
    "\n",
    "import plotly.graph_objects as go\n",
    "\n",
    "from IPython.display import HTML\n",
    "\n",
    "# extracting colorscale\n",
    "colorscale = pltly.colors.get_colorscale('RdYlGn_r')\n",
    "display(HTML(\"<text style='font-size:20px'>Color scale</text>\"))\n",
    "display(pd.DataFrame(colorscale, columns = [\"\", \"\"]))\n",
    "\n",
    "# creating sample basend on colorscale\n",
    "sample_colorscale = pltly.colors.sample_colorscale(\n",
    "    colorscale,\n",
    "    np.linspace(0, 1, 20)\n",
    ")\n",
    "display(HTML(\"<text style='font-size:20px'>Sample color scale</text>\"))\n",
    "for col in sample_colorscale:\n",
    "    print(col)\n",
    "\n",
    "\n",
    "# sample visualisation\n",
    "display(HTML(\"<text style='font-size:20px'></text>\"))\n",
    "go.Figure(\n",
    "    [\n",
    "        go.Bar(\n",
    "            orientation = \"h\",\n",
    "            y = [\"test color\"],\n",
    "            x = [1],\n",
    "            marker = dict(color = col),\n",
    "            hovertemplate=\"%{hovertext}<extra></extra>\",\n",
    "            hovertext=[col]\n",
    "        )\n",
    "        for col in sample_colorscale\n",
    "    ],\n",
    "    layout=dict(\n",
    "        barmode = \"stack\",\n",
    "        xaxis = dict(\n",
    "            range=[0,len(sample_colorscale)],\n",
    "            showticklabels=False, \n",
    "            showgrid=False\n",
    "        ),\n",
    "        showlegend=False,\n",
    "        title = \"Visualisation\",\n",
    "        dragmode = False\n",
    "    )\n",
    ").show()"
   ]
  }
 ],
 "metadata": {
  "kernelspec": {
   "display_name": "Python 3 (ipykernel)",
   "language": "python",
   "name": "python3"
  },
  "language_info": {
   "codemirror_mode": {
    "name": "ipython",
    "version": 3
   },
   "file_extension": ".py",
   "mimetype": "text/x-python",
   "name": "python",
   "nbconvert_exporter": "python",
   "pygments_lexer": "ipython3",
   "version": "3.10.12"
  }
 },
 "nbformat": 4,
 "nbformat_minor": 5
}
