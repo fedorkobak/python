{
 "cells": [
  {
   "cell_type": "markdown",
   "id": "f6f4aab2-1854-4c74-9c31-15839c7f8ca1",
   "metadata": {},
   "source": [
    "# Empty figure\n",
    "\n",
    "Sometimes you need to have an empty dashboard, in case there is no data or when you start the dashboard. By default, Plotly displays only axes with no data and a grid. To get rid of this ugly element, you can simply set the element to be completely transparent.\n",
    "\n",
    "So in the following example you can compare the default and fully transparent initial graph for dash."
   ]
  },
  {
   "cell_type": "code",
   "execution_count": 1,
   "id": "553c49c9-6533-4815-8cb9-bd9799a4611e",
   "metadata": {},
   "outputs": [],
   "source": [
    "from dash import dcc, html\n",
    "from jupyter_dash import JupyterDash\n",
    "from plotly import graph_objects as go\n",
    "from IPython.display import clear_output\n",
    "\n",
    "app = JupyterDash(__name__)\n",
    "options = list(range(0,20))\n",
    "value = [1,5]\n",
    "\n",
    "lst_val_to_slider_marks = lambda value: {val:str(val) for val in value}\n",
    "\n",
    "app.layout = html.Div(\n",
    "    [\n",
    "        dcc.Graph(),\n",
    "        dcc.Graph(\n",
    "            figure = go.Figure(\n",
    "                layout = dict(\n",
    "                    xaxis = {\"visible\" : False},\n",
    "                    yaxis = {\"visible\" : False},\n",
    "                    paper_bgcolor = 'rgba(0, 0, 0, 0)',\n",
    "                    plot_bgcolor = 'rgba(0, 0, 0, 0)',\n",
    "                    dragmode = False\n",
    "                )\n",
    "            )\n",
    "        )\n",
    "    ]\n",
    ")\n",
    "\n",
    "app.run_server(debug=True)\n",
    "clear_output()"
   ]
  },
  {
   "cell_type": "markdown",
   "id": "90c88c29-2e21-43e2-90c2-a340cb06c2dd",
   "metadata": {},
   "source": [
    "<img src=\"empty_figure_files/basic_and_transparent.gif\">"
   ]
  }
 ],
 "metadata": {
  "kernelspec": {
   "display_name": "Python 3 (ipykernel)",
   "language": "python",
   "name": "python3"
  },
  "language_info": {
   "codemirror_mode": {
    "name": "ipython",
    "version": 3
   },
   "file_extension": ".py",
   "mimetype": "text/x-python",
   "name": "python",
   "nbconvert_exporter": "python",
   "pygments_lexer": "ipython3",
   "version": "3.10.12"
  }
 },
 "nbformat": 4,
 "nbformat_minor": 5
}
