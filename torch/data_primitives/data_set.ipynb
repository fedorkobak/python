{
 "cells": [
  {
   "cell_type": "markdown",
   "id": "0df16fb2",
   "metadata": {},
   "source": [
    "# Data set\n",
    "\n",
    "A data set in Torch is a special type of object that prepares data and returns individual data units with indexing syntax. It have to implement such methods:"
   ]
  },
  {
   "cell_type": "markdown",
   "id": "d38c78da",
   "metadata": {},
   "source": [
    "## Iterable datasets\n",
    "\n",
    "There is a special kind of dataset - iterable dataset. It's property is that it should be used as an iterator - it have to have a specil `__iter__` method.\n",
    "\n",
    "Check the [corresposponding section](https://pytorch.org/docs/stable/data.html#torch.utils.data.IterableDataset) of the pytorch documentation."
   ]
  },
  {
   "cell_type": "markdown",
   "id": "594992e1",
   "metadata": {},
   "source": [
    "---\n",
    "\n",
    "The following cell defines such kind of dataset."
   ]
  },
  {
   "cell_type": "code",
   "execution_count": null,
   "id": "3dca1486",
   "metadata": {},
   "outputs": [],
   "source": [
    "class MyDataset(td.IterableDataset):\n",
    "    def __iter__(self):\n",
    "        return iter(torch.arange(0, 20)[:, None])"
   ]
  },
  {
   "cell_type": "markdown",
   "id": "d1d2cc17",
   "metadata": {},
   "source": [
    "As a result you'll have a object that return all instances one by one."
   ]
  },
  {
   "cell_type": "code",
   "execution_count": null,
   "id": "d16e8c0a",
   "metadata": {},
   "outputs": [
    {
     "data": {
      "text/plain": [
       "[tensor([0]),\n",
       " tensor([1]),\n",
       " tensor([2]),\n",
       " tensor([3]),\n",
       " tensor([4]),\n",
       " tensor([5]),\n",
       " tensor([6]),\n",
       " tensor([7]),\n",
       " tensor([8]),\n",
       " tensor([9]),\n",
       " tensor([10]),\n",
       " tensor([11]),\n",
       " tensor([12]),\n",
       " tensor([13]),\n",
       " tensor([14]),\n",
       " tensor([15]),\n",
       " tensor([16]),\n",
       " tensor([17]),\n",
       " tensor([18]),\n",
       " tensor([19])]"
      ]
     },
     "metadata": {},
     "output_type": "display_data"
    }
   ],
   "source": [
    "my_dataset = MyDataset()\n",
    "list(my_dataset)"
   ]
  },
  {
   "cell_type": "markdown",
   "id": "be5b4598",
   "metadata": {},
   "source": [
    "The following cell shows the application of the data loader to the dataset we've created earlier."
   ]
  },
  {
   "cell_type": "code",
   "execution_count": null,
   "id": "47f861e0",
   "metadata": {},
   "outputs": [
    {
     "data": {
      "text/plain": [
       "[tensor([[0],\n",
       "         [1],\n",
       "         [2]]),\n",
       " tensor([[3],\n",
       "         [4],\n",
       "         [5]]),\n",
       " tensor([[6],\n",
       "         [7],\n",
       "         [8]]),\n",
       " tensor([[ 9],\n",
       "         [10],\n",
       "         [11]]),\n",
       " tensor([[12],\n",
       "         [13],\n",
       "         [14]]),\n",
       " tensor([[15],\n",
       "         [16],\n",
       "         [17]]),\n",
       " tensor([[18],\n",
       "         [19]])]"
      ]
     },
     "metadata": {},
     "output_type": "display_data"
    }
   ],
   "source": [
    "data_loader = td.DataLoader(my_dataset, batch_size=3)\n",
    "list(data_loader)"
   ]
  }
 ],
 "metadata": {
  "language_info": {
   "name": "python"
  }
 },
 "nbformat": 4,
 "nbformat_minor": 5
}
