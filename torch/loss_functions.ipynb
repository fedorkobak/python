{
 "cells": [
  {
   "cell_type": "markdown",
   "metadata": {},
   "source": [
    "# Loss functions\n",
    "\n",
    "Loss functions are the target that a model strives to optimize. PyTorch provides a suite of popular loss functions, and we will explore their properties here. "
   ]
  },
  {
   "cell_type": "code",
   "execution_count": 36,
   "metadata": {
    "vscode": {
     "languageId": "shellscript"
    }
   },
   "outputs": [],
   "source": [
    "import torch\n",
    "import torch.nn.functional as F\n",
    "import matplotlib.pyplot as plt"
   ]
  },
  {
   "cell_type": "markdown",
   "metadata": {},
   "source": [
    "## Binary cross entorpy\n",
    "\n",
    "The realization of the cross-entropy loss for the binary case in PyTorch is represented by the functions: `torch.nn.functional.binary_cross_entropy` and `torch.nn.functional.binary_cross_entropy_with_logits`.\n",
    "\n",
    "This loss function takes:\n",
    "\n",
    "- `target`: the actual class labels, denoted as $y \\in \\{0,1\\}$.\n",
    "- `input`: the model's predictions, denoted as $\\hat{y}$. For `torch.nn.functional.binary_cross_entropy`, must also satisfy $\\hat{y} \\in \\left[0, 1\\right]$. The `torch.nn.functional.binary_cross_entropy_with_logits` function handles this requirement by itself, as it applies the sigmoid activation internally."
   ]
  },
  {
   "cell_type": "markdown",
   "metadata": {},
   "source": [
    "---\n",
    "\n",
    "The following cell generates two variables—one that provides better separation than the other. It visualizes the distributions of the classes over the predicted values, with the corresponding cross-entropy loss value displayed in the title."
   ]
  },
  {
   "cell_type": "code",
   "execution_count": 61,
   "metadata": {
    "vscode": {
     "languageId": "shellscript"
    }
   },
   "outputs": [
    {
     "data": {
      "image/png": "[encoded data removed]",
      "text/plain": [
       "<Figure size 1000x500 with 2 Axes>"
      ]
     },
     "metadata": {},
     "output_type": "display_data"
    }
   ],
   "source": [
    "samples = 10000\n",
    "\n",
    "y = torch.randint(low=0, high=2, size=[samples]).to(torch.float)\n",
    "\n",
    "pred_bad = torch.where(\n",
    "    y==0,\n",
    "    torch.normal(mean=-1, std=3, size=[samples]),\n",
    "    torch.normal(mean=1, std=3, size=[samples])\n",
    ")\n",
    "pred_good = torch.where(\n",
    "    y==0,\n",
    "    torch.normal(mean=-5, std = 3, size=[samples]),\n",
    "    torch.normal(mean=5, std= 3, size=[samples])\n",
    ")\n",
    "\n",
    "plt.figure(figsize=[10, 5])\n",
    "\n",
    "def hist_plot(pred):\n",
    "\n",
    "    plt.hist(pred[y==0], bins=30, alpha=0.5)\n",
    "    plt.hist(pred[y==1], bins=30, alpha=0.5)\n",
    "    \n",
    "    loss_value = F.binary_cross_entropy(\n",
    "        input=torch.sigmoid(pred), target=y\n",
    "    ).item()\n",
    "    plt.title(\"Loss =\" + str(round(loss_value, 4)))\n",
    "    \n",
    "    plt.xlabel(\"Predicted value\")\n",
    "    plt.legend([\"0\", \"1\"], title=\"class\")\n",
    "\n",
    "plt.subplot(121)\n",
    "hist_plot(pred_bad)\n",
    "\n",
    "plt.subplot(122)\n",
    "hist_plot(pred_good)\n",
    "\n",
    "plt.show()"
   ]
  },
  {
   "cell_type": "markdown",
   "metadata": {},
   "source": [
    "As you can see, the loss is lower in the case where the classes are better separated."
   ]
  },
  {
   "cell_type": "markdown",
   "metadata": {},
   "source": [
    "**Note**: If you try to pass inputs to `binary_cross_entropy` without applying the sigmoid transformation and they don't satisfy $\\hat{y} \\in \\left[0, 1\\right]$, you'll encounter an error."
   ]
  },
  {
   "cell_type": "code",
   "execution_count": 65,
   "metadata": {
    "vscode": {
     "languageId": "shellscript"
    }
   },
   "outputs": [
    {
     "name": "stdout",
     "output_type": "stream",
     "text": [
      "all elements of input should be between 0 and 1\n"
     ]
    }
   ],
   "source": [
    "try:\n",
    "    F.binary_cross_entropy(input=pred_good, target=y)\n",
    "except Exception as e: print(e)"
   ]
  },
  {
   "cell_type": "markdown",
   "metadata": {},
   "source": [
    "In such cases, you should use `binary_cross_entropy_with_logits`. It returns the same value as `binary_cross_entropy` when the input is transformed with a sigmoid function."
   ]
  },
  {
   "cell_type": "code",
   "execution_count": 71,
   "metadata": {
    "vscode": {
     "languageId": "shellscript"
    }
   },
   "outputs": [
    {
     "name": "stdout",
     "output_type": "stream",
     "text": [
      "0.12228594720363617 0.12228594720363617\n"
     ]
    }
   ],
   "source": [
    "sigmoid = F.binary_cross_entropy(input=torch.sigmoid(pred_good), target=y)\n",
    "with_logit = F.binary_cross_entropy_with_logits(input=pred_good, target=y)\n",
    "print(sigmoid.item(), with_logit.item())"
   ]
  },
  {
   "cell_type": "markdown",
   "metadata": {},
   "source": [
    "## Cross entropy\n",
    "\n",
    "This loss function is commonly used for multi-class classification problems. In PyTorch's implementation, you need to provide:\n",
    "\n",
    "- A batch $B$ of dimension $(n, K)$, where $n$ is the number of objects in the batch and $K$ is the number of classes. These represent the model's prediction scores.\n",
    "- A vector $(y_1, y_2, ..., y_n)$, where $y_i$ is an integer from $0$ to $K-1$ indicating the true class label for each observation in the batch.\n",
    "\n",
    "For a more detailed and accurate description of the sense check, please refer to the official [torch documentation page](https://pytorch.org/docs/stable/generated/torch.nn.CrossEntropyLoss.html)."
   ]
  },
  {
   "cell_type": "markdown",
   "metadata": {},
   "source": [
    "---\n",
    "\n",
    "Consider examples where the model made mistakes and where it was correct."
   ]
  },
  {
   "cell_type": "markdown",
   "metadata": {},
   "source": [
    "At the following cell, the true label for the observation was 0, but the model assigned high scores to all labels except 0. This is a mistake of the model. "
   ]
  },
  {
   "cell_type": "code",
   "execution_count": 25,
   "metadata": {
    "vscode": {
     "languageId": "shellscript"
    }
   },
   "outputs": [
    {
     "data": {
      "text/plain": [
       "tensor(1.7589)"
      ]
     },
     "execution_count": 25,
     "metadata": {},
     "output_type": "execute_result"
    }
   ],
   "source": [
    "F.cross_entropy(\n",
    "    torch.tensor([[0.1,0.5,0.7,0.5]]),\n",
    "    torch.tensor([0])\n",
    ")"
   ]
  },
  {
   "cell_type": "markdown",
   "metadata": {},
   "source": [
    "In this case, the model predicted class 2 with high confidence, assigning low scores to all other classes. The true label was indeed 2, indicating a correct prediction by the model."
   ]
  },
  {
   "cell_type": "code",
   "execution_count": 26,
   "metadata": {
    "vscode": {
     "languageId": "shellscript"
    }
   },
   "outputs": [
    {
     "data": {
      "text/plain": [
       "tensor(0.9732)"
      ]
     },
     "execution_count": 26,
     "metadata": {},
     "output_type": "execute_result"
    }
   ],
   "source": [
    "F.cross_entropy(\n",
    "    torch.tensor([[0.1,0.1,0.7,0.1]]),\n",
    "    torch.tensor([2])\n",
    ")"
   ]
  },
  {
   "cell_type": "markdown",
   "metadata": {},
   "source": [
    "Here is example that shows typical inputs for cross entropy loss."
   ]
  },
  {
   "cell_type": "code",
   "execution_count": 59,
   "metadata": {
    "vscode": {
     "languageId": "shellscript"
    }
   },
   "outputs": [
    {
     "name": "stdout",
     "output_type": "stream",
     "text": [
      "predictions batch\n",
      "tensor([[-0.8844, -0.3556,  0.9763,  1.2577, -0.6795],\n",
      "        [ 0.2358, -0.7628, -1.4757,  1.0294, -0.8632],\n",
      "        [ 0.4365, -0.9948,  0.0902, -0.7807, -0.3827],\n",
      "        [ 2.1360,  1.1786, -0.0036,  0.0101, -0.4870],\n",
      "        [ 0.1012, -0.2581,  1.4023,  0.5791,  1.3517],\n",
      "        [ 0.4122,  0.9149,  1.0000,  0.8574,  0.2017],\n",
      "        [-0.6575,  1.5868,  0.1800, -0.9720,  0.7293],\n",
      "        [ 0.5361,  1.8960,  1.0395,  0.5292, -0.0472],\n",
      "        [ 0.0543, -0.2939, -0.5856,  0.6681, -0.5274],\n",
      "        [ 0.9524,  0.9101, -0.0125,  0.4696,  0.6906]])\n",
      "labels\n",
      "tensor([1, 3, 1, 1, 1, 3, 4, 3, 2, 1])\n"
     ]
    },
    {
     "data": {
      "text/plain": [
       "tensor(1.9175)"
      ]
     },
     "execution_count": 59,
     "metadata": {},
     "output_type": "execute_result"
    }
   ],
   "source": [
    "n = 1000\n",
    "classes_count = 5\n",
    "predictions_batch = torch.randn(n, classes_count)\n",
    "labels = torch.randint(low=0, high=classes_count, size=[n])\n",
    "print(\"predictions batch\")\n",
    "print(predictions_batch[:10])\n",
    "print(\"labels\")\n",
    "print(labels[:10])\n",
    "\n",
    "F.cross_entropy(predictions_batch, labels)"
   ]
  }
 ],
 "metadata": {
  "kernelspec": {
   "display_name": "Python 3",
   "language": "python",
   "name": "python3"
  },
  "language_info": {
   "codemirror_mode": {
    "name": "ipython",
    "version": 3
   },
   "file_extension": ".py",
   "mimetype": "text/x-python",
   "name": "python",
   "nbconvert_exporter": "python",
   "pygments_lexer": "ipython3",
   "version": "3.10.12"
  }
 },
 "nbformat": 4,
 "nbformat_minor": 2
}
