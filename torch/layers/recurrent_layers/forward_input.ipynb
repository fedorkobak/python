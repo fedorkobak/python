{
 "cells": [
  {
   "cell_type": "markdown",
   "metadata": {},
   "source": [
    "# Forward input\n",
    "\n",
    "This page discusses the input of the forward recurrent layer."
   ]
  },
  {
   "cell_type": "code",
   "execution_count": 4,
   "metadata": {},
   "outputs": [],
   "source": [
    "import torch\n",
    "from torch.nn import RNN"
   ]
  },
  {
   "cell_type": "markdown",
   "metadata": {},
   "source": [
    "## Batched vs unbatched\n",
    "\n",
    "You can pass batched and unbatched input to the `RNN` layers. Batch input supposes that it would be passed a group of the sequences."
   ]
  },
  {
   "cell_type": "markdown",
   "metadata": {},
   "source": [
    "---\n",
    "\n",
    "Consider what options might be available with the layer using the parameters defined in the following cell:"
   ]
  },
  {
   "cell_type": "code",
   "execution_count": 2,
   "metadata": {},
   "outputs": [],
   "source": [
    "input_size = 2\n",
    "hidden_size = 3\n",
    "sequence_len = 10\n",
    "\n",
    "rnn = RNN(input_size=input_size, hidden_size=hidden_size)"
   ]
  },
  {
   "cell_type": "markdown",
   "metadata": {},
   "source": [
    "If you pass a two-dimensional input, it will be considered as unbatched input. You can think of it as a sequence of vectors. The following code demonstrates this:"
   ]
  },
  {
   "cell_type": "code",
   "execution_count": 5,
   "metadata": {},
   "outputs": [
    {
     "data": {
      "text/plain": [
       "(tensor([[-0.7128,  0.2305,  0.6574],\n",
       "         [-0.6411,  0.1731,  0.8624],\n",
       "         [-0.9517, -0.0183,  0.7720],\n",
       "         [-0.7536,  0.2490,  0.8430],\n",
       "         [-0.4232, -0.1032,  0.8938],\n",
       "         [-0.4463,  0.0858,  0.8568],\n",
       "         [-0.6446,  0.1017,  0.8546],\n",
       "         [-0.5241, -0.5186,  0.8515],\n",
       "         [-0.7050,  0.0501,  0.7555],\n",
       "         [-0.5168, -0.2317,  0.8506]], grad_fn=<SqueezeBackward1>),\n",
       " tensor([[-0.5168, -0.2317,  0.8506]], grad_fn=<SqueezeBackward1>))"
      ]
     },
     "execution_count": 5,
     "metadata": {},
     "output_type": "execute_result"
    }
   ],
   "source": [
    "input = torch.randn(sequence_len, input_size)\n",
    "rnn(input)"
   ]
  },
  {
   "cell_type": "markdown",
   "metadata": {},
   "source": [
    "There is a set of hidden states at each step."
   ]
  },
  {
   "cell_type": "markdown",
   "metadata": {},
   "source": [
    "The other variant assumes that a set of sequences is passed to the layer. The following cell demonstrates passing a batch of size `samples_number` through the RNN layer."
   ]
  },
  {
   "cell_type": "code",
   "execution_count": 6,
   "metadata": {},
   "outputs": [
    {
     "data": {
      "text/plain": [
       "(torch.Size([10, 5, 3]), torch.Size([1, 5, 3]))"
      ]
     },
     "execution_count": 6,
     "metadata": {},
     "output_type": "execute_result"
    }
   ],
   "source": [
    "samples_number = 5\n",
    "input = torch.randn(sequence_len, samples_number, input_size)\n",
    "output, hidden = rnn(input)\n",
    "output.shape, hidden.shape"
   ]
  },
  {
   "cell_type": "markdown",
   "metadata": {},
   "source": [
    "Finally, you get a matrix for each step in the sequence. Each row in a matrix represents a single element of the batch."
   ]
  },
  {
   "cell_type": "markdown",
   "metadata": {},
   "source": [
    "## Hidden state\n",
    "\n",
    "With the second argument of the `forward` method, you can pass the initial hidden states with which the layer should start. It should be tensor of dimentionality $\\left(D \\times L , H_{out} \\right)$ for unbatched input and $\\left(D \\times L, N , H_{out} \\right)$ for batched input."
   ]
  },
  {
   "cell_type": "markdown",
   "metadata": {},
   "source": [
    "Where:\n",
    "\n",
    "- $D$: 2 if layer is bidirectional and 1 otherwise.\n",
    "- $H_{out}$: Size of the vector describing the hidden state.\n",
    "- $N$: Batch size.\n",
    "- $L$: Layers number."
   ]
  },
  {
   "cell_type": "markdown",
   "metadata": {},
   "source": [
    "---\n",
    "\n",
    "Consider an example with parameters defined in the following cell."
   ]
  },
  {
   "cell_type": "code",
   "execution_count": 17,
   "metadata": {},
   "outputs": [],
   "source": [
    "input_size = 2\n",
    "hidden_size = 3\n",
    "sequence_len = 10"
   ]
  },
  {
   "cell_type": "markdown",
   "metadata": {},
   "source": [
    "Note the second argument of the forward, it should be the initial hidden state. There is one hidden state for each sample."
   ]
  },
  {
   "cell_type": "code",
   "execution_count": 16,
   "metadata": {},
   "outputs": [
    {
     "data": {
      "text/plain": [
       "torch.Size([10, 5, 3])"
      ]
     },
     "execution_count": 16,
     "metadata": {},
     "output_type": "execute_result"
    }
   ],
   "source": [
    "rnn = RNN(input_size=input_size, hidden_size=hidden_size)\n",
    "output, hidden = rnn(\n",
    "    torch.randn(sequence_len, samples_number, input_size),\n",
    "    torch.randn(1, samples_number, hidden_size)\n",
    ")\n",
    "output.shape"
   ]
  },
  {
   "cell_type": "markdown",
   "metadata": {},
   "source": [
    "**Note:** Extra outer dimention of the hidden state might look ambigious but it just because we are dealing with layer that contains just one straight layer.\n",
    "\n",
    "The following cell defines $RNN$ with the arguments `num_layers=3` and `bidirectional=True`. The number of hidden states increases accordingly."
   ]
  },
  {
   "cell_type": "code",
   "execution_count": 18,
   "metadata": {},
   "outputs": [
    {
     "data": {
      "text/plain": [
       "torch.Size([10, 5, 6])"
      ]
     },
     "execution_count": 18,
     "metadata": {},
     "output_type": "execute_result"
    }
   ],
   "source": [
    "num_layers = 3\n",
    "rnn = RNN(\n",
    "    input_size=input_size, \n",
    "    hidden_size=hidden_size, \n",
    "    bidirectional=True, \n",
    "    num_layers=num_layers\n",
    ")\n",
    "output, hidden = rnn(\n",
    "    torch.randn(sequence_len, samples_number, input_size),\n",
    "    torch.randn(num_layers*2, samples_number, hidden_size)\n",
    ")\n",
    "output.shape"
   ]
  }
 ],
 "metadata": {
  "kernelspec": {
   "display_name": "venv",
   "language": "python",
   "name": "python3"
  },
  "language_info": {
   "codemirror_mode": {
    "name": "ipython",
    "version": 3
   },
   "file_extension": ".py",
   "mimetype": "text/x-python",
   "name": "python",
   "nbconvert_exporter": "python",
   "pygments_lexer": "ipython3",
   "version": "3.12.3"
  }
 },
 "nbformat": 4,
 "nbformat_minor": 2
}
