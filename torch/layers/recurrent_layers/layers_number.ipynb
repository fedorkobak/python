{
 "cells": [
  {
   "cell_type": "markdown",
   "metadata": {},
   "source": [
    "# Layers number\n",
    "\n",
    "By specifying the `num_layers` parameter in `torch.nn.RNN`, you can define how many times the recurrent layer will be applied to the input data."
   ]
  },
  {
   "cell_type": "code",
   "execution_count": 2,
   "metadata": {},
   "outputs": [],
   "source": [
    "import torch\n",
    "from torch.nn import RNN"
   ]
  },
  {
   "cell_type": "markdown",
   "metadata": {},
   "source": [
    "This page uses the following common designations:\n",
    "\n",
    "- $H_{out}$: hidden layer size.\n",
    "- $L$: number of recurrnet layers.\n",
    "- $sl$: processed sequence length."
   ]
  },
  {
   "cell_type": "markdown",
   "metadata": {},
   "source": [
    "## Idea description\n",
    "\n",
    "When you specify data like this, the computation procedure changes:\n",
    "\n",
    "$$h^{l}_t = f(h_t^{l-1} [W_1^l]^T + b_1 + h_{t-1}^{l} [W^l_2]^T + b_2)$$\n",
    "\n",
    "Consider differences from classical definition of the recurrent layer.\n",
    "\n",
    "$h_t^{l}$ is a hidden state of the $t$-th element of sequence of the $l$-th layer. Obviously for the first layer it takes input values - $l=1, h_t^{l-1}=x_t$.\n",
    "\n",
    "Also you there are sets of parameters for each layer $W_1^l, W_2^l, l \\in \\overline{1,L}$ where $L$ is a number of recurrent layers."
   ]
  },
  {
   "cell_type": "markdown",
   "metadata": {},
   "source": [
    "## Output description\n",
    "\n",
    "The output of a stacked RNN layer in PyTorch, as with a standard single-layer RNN, is a tuple consisting of two elements:\n",
    "\n",
    "* The first element, `output`, contains the hidden states from the last layer of the RNN at each time step $t$. This tensor encapsulates the sequence of outputs after propagation through all RNN layers.\n",
    "* The second element, `h_n`, represents the final hidden state for each layer and for each direction (in the case of a bidirectional RNN), taken from the last time step of the input sequence. This serves as a summary of the processed input for each layer.\n"
   ]
  },
  {
   "cell_type": "markdown",
   "metadata": {},
   "source": [
    "---\n",
    "\n",
    "The following cell sends data through the stacked RNN layer."
   ]
  },
  {
   "cell_type": "code",
   "execution_count": 24,
   "metadata": {},
   "outputs": [],
   "source": [
    "sequence_len = 5\n",
    "input_size = 3\n",
    "hidden_size = 4\n",
    "input = torch.randn(sequence_len, input_size)\n",
    "\n",
    "rnn = RNN(\n",
    "    input_size=input_size, \n",
    "    hidden_size=hidden_size, \n",
    "    num_layers=2\n",
    ")\n",
    "out = rnn(input)"
   ]
  },
  {
   "cell_type": "markdown",
   "metadata": {},
   "source": [
    "Consider the output elements of the layer defined below."
   ]
  },
  {
   "cell_type": "markdown",
   "metadata": {},
   "source": [
    "The first element of output corresponds to the size $(sl, H_{out})$."
   ]
  },
  {
   "cell_type": "code",
   "execution_count": 22,
   "metadata": {},
   "outputs": [
    {
     "data": {
      "text/plain": [
       "tensor([[ 0.5623,  0.1467,  0.1087,  0.6155],\n",
       "        [-0.1213,  0.6940, -0.0027,  0.5050],\n",
       "        [ 0.1429,  0.4335,  0.0797,  0.4975],\n",
       "        [-0.0405,  0.5954,  0.0013,  0.4789],\n",
       "        [ 0.2233,  0.4955, -0.2479,  0.7426]], grad_fn=<SqueezeBackward1>)"
      ]
     },
     "execution_count": 22,
     "metadata": {},
     "output_type": "execute_result"
    }
   ],
   "source": [
    "out[0]"
   ]
  },
  {
   "cell_type": "markdown",
   "metadata": {},
   "source": [
    "This hidden state comes through **all layers at each step**."
   ]
  },
  {
   "cell_type": "markdown",
   "metadata": {},
   "source": [
    "The second element of output corresponds to the size $(L, H_{out})$."
   ]
  },
  {
   "cell_type": "code",
   "execution_count": null,
   "metadata": {},
   "outputs": [
    {
     "data": {
      "text/plain": [
       "tensor([[ 0.7996, -0.4562,  0.9697,  0.0581],\n",
       "        [ 0.2233,  0.4955, -0.2479,  0.7426]], grad_fn=<SqueezeBackward1>)"
      ]
     },
     "execution_count": 23,
     "metadata": {},
     "output_type": "execute_result"
    }
   ],
   "source": [
    "out[1]"
   ]
  },
  {
   "cell_type": "markdown",
   "metadata": {},
   "source": [
    "This hidden state comes through **all steps at each layer**."
   ]
  },
  {
   "cell_type": "markdown",
   "metadata": {},
   "source": [
    "**Note:** The last vector of `out[0]` is the same as the last vector of `out[1]`, as they are actually the same hidden state — the hidden state produced by the last layer at the last step."
   ]
  },
  {
   "cell_type": "markdown",
   "metadata": {},
   "source": [
    "## Compare to set of RNN"
   ]
  },
  {
   "cell_type": "code",
   "execution_count": 9,
   "metadata": {},
   "outputs": [],
   "source": [
    "rnn1 = RNN(input_size=input_size, hidden_size=hidden_size)\n",
    "rnn1.weight_ih_l0 = rnn.weight_ih_l0\n",
    "rnn1.bias_ih_l0 = rnn.bias_ih_l0\n",
    "rnn1.weight_hh_l0 = rnn.weight_hh_l0\n",
    "rnn1.bias_hh_l0 = rnn.bias_hh_l0\n",
    "\n",
    "rnn2 = RNN(input_size=hidden_size, hidden_size=hidden_size)\n",
    "rnn2.weight_ih_l0 = rnn.weight_ih_l1\n",
    "rnn2.bias_ih_l0 = rnn.bias_ih_l1\n",
    "rnn2.weight_hh_l0 = rnn.weight_hh_l1\n",
    "rnn2.bias_hh_l0 = rnn.bias_hh_l1"
   ]
  },
  {
   "cell_type": "code",
   "execution_count": null,
   "metadata": {},
   "outputs": [],
   "source": [
    "print(rnn2(rnn1(input)[0])[0])"
   ]
  },
  {
   "cell_type": "markdown",
   "metadata": {},
   "source": [
    "## Self implementation"
   ]
  },
  {
   "cell_type": "code",
   "execution_count": null,
   "metadata": {},
   "outputs": [],
   "source": [
    "def forward(\n",
    "    x: torch.Tensor, \n",
    "    hidden_size: int, \n",
    "    weight_ih: list[torch.Tensor], \n",
    "    bias_ih: list[torch.Tensor], \n",
    "    weight_hh: list[torch.Tensor], \n",
    "    bias_hh: list[torch.Tensor], \n",
    "    num_layers=1\n",
    "):\n",
    "    seq_len, batch_size, _ = x.size()\n",
    "    h_0 = torch.zeros(num_layers, batch_size, hidden_size)\n",
    "    h_t_minus_1 = h_0\n",
    "    h_t = h_0\n",
    "    output = []\n",
    "    for t in range(seq_len):\n",
    "        print(\"=\"*80)\n",
    "        display(Latex(f\"Processing $x_{{{t}}}$ elemnt of sequence.\"))\n",
    "        for layer in range(num_layers):\n",
    "            print(layer)\n",
    "            print(t)\n",
    "            h_t[layer] = torch.tanh(\n",
    "                x[t] @ weight_ih[layer].T\n",
    "                + bias_ih[layer]\n",
    "                + h_t_minus_1[layer] @ weight_hh[layer].T\n",
    "                + bias_hh[layer]\n",
    "            )\n",
    "            display(Latex(\"$x_i$\"))\n",
    "        output.append(h_t[-1].clone())\n",
    "        h_t_minus_1 = h_t\n",
    "    output = torch.stack(output)\n",
    "    return output, h_t"
   ]
  },
  {
   "cell_type": "code",
   "execution_count": null,
   "metadata": {},
   "outputs": [
    {
     "name": "stdout",
     "output_type": "stream",
     "text": [
      "================================================================================\n"
     ]
    },
    {
     "data": {
      "text/latex": [
       "Processing $x_{0}$ elemnt of sequence."
      ],
      "text/plain": [
       "<IPython.core.display.Latex object>"
      ]
     },
     "metadata": {},
     "output_type": "display_data"
    },
    {
     "name": "stdout",
     "output_type": "stream",
     "text": [
      "0\n",
      "0\n"
     ]
    },
    {
     "data": {
      "text/latex": [
       "$x_i$"
      ],
      "text/plain": [
       "<IPython.core.display.Latex object>"
      ]
     },
     "metadata": {},
     "output_type": "display_data"
    },
    {
     "name": "stdout",
     "output_type": "stream",
     "text": [
      "1\n",
      "0\n"
     ]
    },
    {
     "ename": "RuntimeError",
     "evalue": "mat1 and mat2 shapes cannot be multiplied (10x2 and 10x10)",
     "output_type": "error",
     "traceback": [
      "\u001b[0;31m---------------------------------------------------------------------------\u001b[0m\n",
      "\u001b[0;31mRuntimeError\u001b[0m                              Traceback (most recent call last)\n",
      "Cell \u001b[0;32mIn[48], line 6\u001b[0m\n",
      "\u001b[1;32m      3\u001b[0m bias_hh \u001b[38;5;241m=\u001b[39m [rnn\u001b[38;5;241m.\u001b[39mbias_hh_l0, rnn\u001b[38;5;241m.\u001b[39mbias_hh_l1, rnn\u001b[38;5;241m.\u001b[39mbias_hh_l2]\n",
      "\u001b[1;32m      4\u001b[0m bias_ih \u001b[38;5;241m=\u001b[39m [rnn\u001b[38;5;241m.\u001b[39mbias_ih_l0, rnn\u001b[38;5;241m.\u001b[39mbias_ih_l1, rnn\u001b[38;5;241m.\u001b[39mbias_ih_l2]\n",
      "\u001b[0;32m----> 6\u001b[0m \u001b[43mforward\u001b[49m\u001b[43m(\u001b[49m\n",
      "\u001b[1;32m      7\u001b[0m \u001b[43m    \u001b[49m\u001b[43mx\u001b[49m\u001b[38;5;241;43m=\u001b[39;49m\u001b[38;5;28;43minput\u001b[39;49m\u001b[43m,\u001b[49m\n",
      "\u001b[1;32m      8\u001b[0m \u001b[43m    \u001b[49m\u001b[43mhidden_size\u001b[49m\u001b[38;5;241;43m=\u001b[39;49m\u001b[43mrnn\u001b[49m\u001b[38;5;241;43m.\u001b[39;49m\u001b[43mhidden_size\u001b[49m\u001b[43m,\u001b[49m\n",
      "\u001b[1;32m      9\u001b[0m \u001b[43m    \u001b[49m\u001b[43mweight_ih\u001b[49m\u001b[38;5;241;43m=\u001b[39;49m\u001b[43mweight_ih\u001b[49m\u001b[43m,\u001b[49m\n",
      "\u001b[1;32m     10\u001b[0m \u001b[43m    \u001b[49m\u001b[43mbias_ih\u001b[49m\u001b[38;5;241;43m=\u001b[39;49m\u001b[43mbias_ih\u001b[49m\u001b[43m,\u001b[49m\n",
      "\u001b[1;32m     11\u001b[0m \u001b[43m    \u001b[49m\u001b[43mweight_hh\u001b[49m\u001b[38;5;241;43m=\u001b[39;49m\u001b[43mweight_hh\u001b[49m\u001b[43m,\u001b[49m\n",
      "\u001b[1;32m     12\u001b[0m \u001b[43m    \u001b[49m\u001b[43mbias_hh\u001b[49m\u001b[38;5;241;43m=\u001b[39;49m\u001b[43mbias_hh\u001b[49m\u001b[43m,\u001b[49m\n",
      "\u001b[1;32m     13\u001b[0m \u001b[43m    \u001b[49m\u001b[43mnum_layers\u001b[49m\u001b[38;5;241;43m=\u001b[39;49m\u001b[43mrnn\u001b[49m\u001b[38;5;241;43m.\u001b[39;49m\u001b[43mnum_layers\u001b[49m\n",
      "\u001b[1;32m     14\u001b[0m \u001b[43m)\u001b[49m\n",
      "\n",
      "Cell \u001b[0;32mIn[46], line 22\u001b[0m, in \u001b[0;36mforward\u001b[0;34m(x, hidden_size, weight_ih, bias_ih, weight_hh, bias_hh, num_layers)\u001b[0m\n",
      "\u001b[1;32m     19\u001b[0m     \u001b[38;5;28mprint\u001b[39m(layer)\n",
      "\u001b[1;32m     20\u001b[0m     \u001b[38;5;28mprint\u001b[39m(t)\n",
      "\u001b[1;32m     21\u001b[0m     h_t[layer] \u001b[38;5;241m=\u001b[39m torch\u001b[38;5;241m.\u001b[39mtanh(\n",
      "\u001b[0;32m---> 22\u001b[0m         \u001b[43mx\u001b[49m\u001b[43m[\u001b[49m\u001b[43mt\u001b[49m\u001b[43m]\u001b[49m\u001b[43m \u001b[49m\u001b[38;5;241;43m@\u001b[39;49m\u001b[43m \u001b[49m\u001b[43mweight_ih\u001b[49m\u001b[43m[\u001b[49m\u001b[43mlayer\u001b[49m\u001b[43m]\u001b[49m\u001b[38;5;241;43m.\u001b[39;49m\u001b[43mT\u001b[49m\n",
      "\u001b[1;32m     23\u001b[0m         \u001b[38;5;241m+\u001b[39m bias_ih[layer]\n",
      "\u001b[1;32m     24\u001b[0m         \u001b[38;5;241m+\u001b[39m h_t_minus_1[layer] \u001b[38;5;241m@\u001b[39m weight_hh[layer]\u001b[38;5;241m.\u001b[39mT\n",
      "\u001b[1;32m     25\u001b[0m         \u001b[38;5;241m+\u001b[39m bias_hh[layer]\n",
      "\u001b[1;32m     26\u001b[0m     )\n",
      "\u001b[1;32m     27\u001b[0m     display(Latex(\u001b[38;5;124m\"\u001b[39m\u001b[38;5;124m$x_i$\u001b[39m\u001b[38;5;124m\"\u001b[39m))\n",
      "\u001b[1;32m     28\u001b[0m output\u001b[38;5;241m.\u001b[39mappend(h_t[\u001b[38;5;241m-\u001b[39m\u001b[38;5;241m1\u001b[39m]\u001b[38;5;241m.\u001b[39mclone())\n",
      "\n",
      "\u001b[0;31mRuntimeError\u001b[0m: mat1 and mat2 shapes cannot be multiplied (10x2 and 10x10)"
     ]
    }
   ],
   "source": [
    "weight_hh = [rnn.weight_hh_l0, rnn.weight_hh_l1, rnn.weight_hh_l2]\n",
    "weight_ih = [rnn.weight_ih_l0, rnn.weight_ih_l1, rnn.weight_ih_l2]\n",
    "bias_hh = [rnn.bias_hh_l0, rnn.bias_hh_l1, rnn.bias_hh_l2]\n",
    "bias_ih = [rnn.bias_ih_l0, rnn.bias_ih_l1, rnn.bias_ih_l2]\n",
    "\n",
    "forward(\n",
    "    x=input,\n",
    "    hidden_size=rnn.hidden_size,\n",
    "    weight_ih=weight_ih,\n",
    "    bias_ih=bias_ih,\n",
    "    weight_hh=weight_hh,\n",
    "    bias_hh=bias_hh,\n",
    "    num_layers=rnn.num_layers\n",
    ")"
   ]
  }
 ],
 "metadata": {
  "kernelspec": {
   "display_name": "knowledge",
   "language": "python",
   "name": "python3"
  },
  "language_info": {
   "codemirror_mode": {
    "name": "ipython",
    "version": 3
   },
   "file_extension": ".py",
   "mimetype": "text/x-python",
   "name": "python",
   "nbconvert_exporter": "python",
   "pygments_lexer": "ipython3",
   "version": "3.12.9"
  }
 },
 "nbformat": 4,
 "nbformat_minor": 2
}
