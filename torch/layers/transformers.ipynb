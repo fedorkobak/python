{
 "cells": [
  {
   "cell_type": "markdown",
   "id": "e7814c50",
   "metadata": {},
   "source": [
    "# Transformers\n",
    "\n",
    "This page discusses the layers of the Torch that implements transformers architecture."
   ]
  },
  {
   "cell_type": "code",
   "execution_count": 2,
   "id": "cd05ed75",
   "metadata": {},
   "outputs": [],
   "source": [
    "import torch"
   ]
  },
  {
   "cell_type": "markdown",
   "id": "d2b4b228",
   "metadata": {},
   "source": [
    "## Encoder"
   ]
  },
  {
   "cell_type": "code",
   "execution_count": 35,
   "id": "a6f7cb27",
   "metadata": {},
   "outputs": [],
   "source": [
    "encoder = torch.nn.TransformerEncoderLayer(\n",
    "    d_model=5,\n",
    "    nhead=1,\n",
    "    batch_first=True\n",
    ")"
   ]
  },
  {
   "cell_type": "code",
   "execution_count": 36,
   "id": "f34a725c",
   "metadata": {},
   "outputs": [],
   "source": [
    "inp = torch.rand(32, 10, 5)"
   ]
  },
  {
   "cell_type": "code",
   "execution_count": 37,
   "id": "80b5f34f",
   "metadata": {},
   "outputs": [
    {
     "data": {
      "text/plain": [
       "torch.Size([32, 10, 5])"
      ]
     },
     "execution_count": 37,
     "metadata": {},
     "output_type": "execute_result"
    }
   ],
   "source": [
    "encoder(inp).shape"
   ]
  }
 ],
 "metadata": {
  "kernelspec": {
   "display_name": "knowledge",
   "language": "python",
   "name": "python3"
  },
  "language_info": {
   "codemirror_mode": {
    "name": "ipython",
    "version": 3
   },
   "file_extension": ".py",
   "mimetype": "text/x-python",
   "name": "python",
   "nbconvert_exporter": "python",
   "pygments_lexer": "ipython3",
   "version": "3.12.9"
  }
 },
 "nbformat": 4,
 "nbformat_minor": 5
}
