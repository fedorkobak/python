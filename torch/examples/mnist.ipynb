{
 "cells": [
  {
   "cell_type": "markdown",
   "id": "46fd418a-8b77-4fc4-9cee-693b5f70fb55",
   "metadata": {},
   "source": [
    "# MNIST\n",
    "\n",
    "A popular dataframe for first steps and experiments in computer vision. So here are my solutions for MNIST using torch."
   ]
  },
  {
   "cell_type": "code",
   "execution_count": 2,
   "id": "dd3c4276-d189-4be2-a03d-842475cec5ab",
   "metadata": {},
   "outputs": [],
   "source": [
    "import torch\n",
    "from torch import nn\n",
    "from torch import optim\n",
    "from torch.utils.data import DataLoader\n",
    "\n",
    "from torchvision import transforms\n",
    "from torchvision.datasets import MNIST\n",
    "\n",
    "import pandas as pd\n",
    "from tqdm import tqdm\n",
    "import matplotlib.pyplot as plt\n",
    "from IPython.display import clear_output\n",
    "\n",
    "from pathlib import Path\n",
    "files_path = Path(\"mnist_files\")\n",
    "files_path.mkdir(exist_ok=True)"
   ]
  },
  {
   "cell_type": "markdown",
   "id": "9265483e-1343-46a9-9223-dc2a5168ab6e",
   "metadata": {},
   "source": [
    "## Downloading data\n",
    "\n",
    "There is a special module in Torch that allows you to download the MNIST dataset to your computer."
   ]
  },
  {
   "cell_type": "code",
   "execution_count": 4,
   "id": "f2e04df1-4cdd-4eae-819d-f5f3c81e5ac1",
   "metadata": {},
   "outputs": [],
   "source": [
    "data_train = MNIST(\n",
    "    str(files_path),\n",
    "    train = True,\n",
    "    download = True,\n",
    "    transform = transforms.ToTensor()\n",
    ")\n",
    "data_valid = MNIST(\n",
    "    str(files_path),\n",
    "    train = False,\n",
    "    download = True,\n",
    "    transform = transforms.ToTensor()\n",
    ")"
   ]
  },
  {
   "cell_type": "code",
   "execution_count": 5,
   "id": "89908722-f854-48c8-bf3c-4974e82da637",
   "metadata": {},
   "outputs": [],
   "source": [
    "train_loader = DataLoader(data_train, batch_size = 64, shuffle = True)\n",
    "valid_loader = DataLoader(data_valid, batch_size = 64, shuffle = True)"
   ]
  },
  {
   "cell_type": "markdown",
   "id": "26bbc2e4-ad9e-44b0-889e-58d588cd7187",
   "metadata": {},
   "source": [
    "## Data description"
   ]
  },
  {
   "cell_type": "markdown",
   "id": "ee042651-d0cb-4dea-a9cd-30a451e0e423",
   "metadata": {},
   "source": [
    "**Input features** is a matrix describing images with dimensions `(n_channels, picture_width, picture_height)`."
   ]
  },
  {
   "cell_type": "code",
   "execution_count": 6,
   "id": "521e2173-702c-4dff-ae12-51c40a4b5a99",
   "metadata": {},
   "outputs": [
    {
     "data": {
      "text/plain": [
       "torch.Size([1, 28, 28])"
      ]
     },
     "execution_count": 6,
     "metadata": {},
     "output_type": "execute_result"
    }
   ],
   "source": [
    "data_train[0][0].shape"
   ]
  },
  {
   "cell_type": "markdown",
   "id": "da959c27-9a98-4850-8f16-7d2c67bc124d",
   "metadata": {},
   "source": [
    "**Target** is an integer that indicates which number will be displayed on the image."
   ]
  },
  {
   "cell_type": "code",
   "execution_count": 7,
   "id": "078ce919-db16-47c1-8ecc-d2d2d41973f5",
   "metadata": {},
   "outputs": [
    {
     "data": {
      "text/plain": [
       "5"
      ]
     },
     "execution_count": 7,
     "metadata": {},
     "output_type": "execute_result"
    }
   ],
   "source": [
    "data_train[0][1]"
   ]
  },
  {
   "cell_type": "markdown",
   "id": "aef4a2c3-4b34-43b4-9095-ea3a6224d0d8",
   "metadata": {},
   "source": [
    "## Basic network"
   ]
  },
  {
   "cell_type": "markdown",
   "id": "5f7414d6-fb8c-4b04-83b5-bf1a50023bd2",
   "metadata": {},
   "source": [
    "### Definition and usage\n",
    "\n",
    "Here is a model that implements a transformation that takes tesnsor describing picture and returns model 10 numbers."
   ]
  },
  {
   "cell_type": "code",
   "execution_count": 8,
   "id": "1aa9e04a-dc47-44b2-9fd3-9b680a585740",
   "metadata": {},
   "outputs": [
    {
     "data": {
      "text/plain": [
       "[[0.007802577689290047,\n",
       "  -0.026246704161167145,\n",
       "  -0.0670308992266655,\n",
       "  -0.010161032900214195,\n",
       "  -0.017714858055114746,\n",
       "  -0.19654646515846252,\n",
       "  0.1459650993347168,\n",
       "  0.05521680787205696,\n",
       "  0.03541004657745361,\n",
       "  0.03896047919988632]]"
      ]
     },
     "execution_count": 8,
     "metadata": {},
     "output_type": "execute_result"
    }
   ],
   "source": [
    "basic_network = nn.Sequential(\n",
    "    nn.Flatten(),\n",
    "    nn.Linear(28*28, 256),\n",
    "    nn.ReLU(),\n",
    "    nn.Linear(256, 10)\n",
    ")\n",
    "\n",
    "basic_network(data_train[0][0]).tolist()"
   ]
  },
  {
   "cell_type": "markdown",
   "id": "7954872f-3497-4fcf-b494-aecd9e706de2",
   "metadata": {},
   "source": [
    "We understand the intex of the maximum value as the predicted class. To extract it from the model result, you need to use code like in the cell below."
   ]
  },
  {
   "cell_type": "code",
   "execution_count": 9,
   "id": "c35b528d-7ad0-4db3-a40e-5005490c52ab",
   "metadata": {},
   "outputs": [
    {
     "name": "stdout",
     "output_type": "stream",
     "text": [
      "predicted number 0.1459650993347168\n",
      "predicted class 6\n"
     ]
    }
   ],
   "source": [
    "pred_number, pred_class = torch.max(basic_network(data_train[0][0]), 1)\n",
    "print(\"predicted number\", pred_number.item())\n",
    "print(\"predicted class\", pred_class.item())"
   ]
  },
  {
   "cell_type": "markdown",
   "id": "25464efe-8035-44b7-bd15-e4d3b9fb02c2",
   "metadata": {},
   "source": [
    "Or the same code applied to the whole batch."
   ]
  },
  {
   "cell_type": "code",
   "execution_count": 10,
   "id": "c2634892-3871-4ca4-94bd-c7d382ad7966",
   "metadata": {},
   "outputs": [
    {
     "data": {
      "text/html": [
       "<div>\n",
       "<style scoped>\n",
       "    .dataframe tbody tr th:only-of-type {\n",
       "        vertical-align: middle;\n",
       "    }\n",
       "\n",
       "    .dataframe tbody tr th {\n",
       "        vertical-align: top;\n",
       "    }\n",
       "\n",
       "    .dataframe thead th {\n",
       "        text-align: right;\n",
       "    }\n",
       "</style>\n",
       "<table border=\"1\" class=\"dataframe\">\n",
       "  <thead>\n",
       "    <tr style=\"text-align: right;\">\n",
       "      <th></th>\n",
       "      <th>values</th>\n",
       "      <th>classes</th>\n",
       "    </tr>\n",
       "  </thead>\n",
       "  <tbody>\n",
       "    <tr>\n",
       "      <th>0</th>\n",
       "      <td>0.075086</td>\n",
       "      <td>7</td>\n",
       "    </tr>\n",
       "    <tr>\n",
       "      <th>1</th>\n",
       "      <td>0.093597</td>\n",
       "      <td>3</td>\n",
       "    </tr>\n",
       "    <tr>\n",
       "      <th>2</th>\n",
       "      <td>0.094069</td>\n",
       "      <td>7</td>\n",
       "    </tr>\n",
       "    <tr>\n",
       "      <th>3</th>\n",
       "      <td>0.131403</td>\n",
       "      <td>7</td>\n",
       "    </tr>\n",
       "    <tr>\n",
       "      <th>4</th>\n",
       "      <td>0.122878</td>\n",
       "      <td>6</td>\n",
       "    </tr>\n",
       "  </tbody>\n",
       "</table>\n",
       "</div>"
      ],
      "text/plain": [
       "     values  classes\n",
       "0  0.075086        7\n",
       "1  0.093597        3\n",
       "2  0.094069        7\n",
       "3  0.131403        7\n",
       "4  0.122878        6"
      ]
     },
     "execution_count": 10,
     "metadata": {},
     "output_type": "execute_result"
    }
   ],
   "source": [
    "X, y = next(iter(train_loader))\n",
    "values, classes = torch.max(basic_network(X), 1)\n",
    "\n",
    "pd.DataFrame({\n",
    "    \"values\" : values.tolist(),\n",
    "    \"classes\" : classes.tolist()\n",
    "}).head()"
   ]
  },
  {
   "cell_type": "markdown",
   "id": "4239253a-0210-4497-9e01-01f8baf6b858",
   "metadata": {},
   "source": [
    "### Optimization\n",
    "\n",
    "Below is the function that implements the model training epoch."
   ]
  },
  {
   "cell_type": "code",
   "execution_count": 11,
   "id": "668ca1db-60f1-4645-a3db-e810aed932a5",
   "metadata": {},
   "outputs": [],
   "source": [
    "def epoch(\n",
    "    model: nn.Module, \n",
    "    data_loader: DataLoader, \n",
    "    optimizer: optim.Optimizer, \n",
    "    loss_fn\n",
    "):\n",
    "    model.train()\n",
    "    loss_values = []\n",
    "    \n",
    "    for x, y in tqdm(data_loader, desc = \"train\"):\n",
    "        optimizer.zero_grad()\n",
    "        output = model(x)\n",
    "        loss_val = loss_fn(output, y)\n",
    "        loss_values.append(loss_val.item())\n",
    "        loss_val.backward()\n",
    "        optimizer.step()\n",
    "\n",
    "    return sum(loss_values)/len(loss_values)"
   ]
  },
  {
   "cell_type": "markdown",
   "id": "69709841-1e9e-49da-b838-edd40d72df66",
   "metadata": {},
   "source": [
    "### Evaluation\n",
    "\n",
    "Here is a function that allows you to estimate the loss and accuracy of the model for test data."
   ]
  },
  {
   "cell_type": "code",
   "execution_count": 12,
   "id": "5bc2a478-bfeb-4b17-a90e-92d1ffda7a1a",
   "metadata": {},
   "outputs": [],
   "source": [
    "optimizer = optim.Adam(basic_network.parameters(), lr = 1e-3)\n",
    "loss_fn = nn.CrossEntropyLoss()\n",
    "\n",
    "@torch.inference_mode()\n",
    "def evaluate(\n",
    "    model: nn.Module, \n",
    "    data_loader: DataLoader, \n",
    "    loss_fn\n",
    "    ):\n",
    "    loss_values = []\n",
    "    model.eval()\n",
    "\n",
    "    total = 0\n",
    "    correct = 0\n",
    " \n",
    "    for x, y in tqdm(data_loader, desc = \"evaluation\"):\n",
    "        output = model(x)\n",
    "        \n",
    "        loss_val = loss_fn(output, y)\n",
    "        loss_values.append(loss_val.item())\n",
    "\n",
    "        _, classes = torch.max(model(x), 1)\n",
    "        \n",
    "        total += len(x)\n",
    "        correct += (classes == y).sum().item()\n",
    "    \n",
    "    return sum(loss_values)/len(loss_values), correct/total"
   ]
  },
  {
   "cell_type": "markdown",
   "id": "9c10b8cf-7e6b-437b-a75b-efe739cd5337",
   "metadata": {},
   "source": [
    "### Fitting\n",
    "\n",
    "Here is a cycle that runs a few epochs of network load."
   ]
  },
  {
   "cell_type": "code",
   "execution_count": 13,
   "id": "6292bb44-6750-40d4-bdac-1da3f2be424c",
   "metadata": {},
   "outputs": [],
   "source": [
    "train_scores, test_scores, accuracies = [], [], []\n",
    "\n",
    "for i in range(100):\n",
    "    train_scores.append(epoch(\n",
    "        model = basic_network,\n",
    "        data_loader = train_loader,\n",
    "        optimizer = optimizer,\n",
    "        loss_fn = loss_fn\n",
    "    ))\n",
    "    test_score, accuracy = evaluate(\n",
    "        model = basic_network, \n",
    "        data_loader = valid_loader,\n",
    "        loss_fn = loss_fn\n",
    "    )\n",
    "    test_scores.append(test_score)\n",
    "    accuracies.append(accuracy)\n",
    "\n",
    "\n",
    "    clear_output()\n",
    "    if accuracy > 0.98:\n",
    "        break"
   ]
  },
  {
   "cell_type": "markdown",
   "id": "bcc02350-86aa-4e2e-9261-ca359d4894ba",
   "metadata": {},
   "source": [
    "Visualise the progress of the model in the plots below."
   ]
  },
  {
   "cell_type": "code",
   "execution_count": 14,
   "id": "6f87726d-41a6-44fe-ad09-157b99d5f176",
   "metadata": {},
   "outputs": [
    {
     "data": {
      "image/png": "[encoded data removed]",
      "text/plain": [
       "<Figure size 1000x300 with 2 Axes>"
      ]
     },
     "metadata": {},
     "output_type": "display_data"
    }
   ],
   "source": [
    "plt.figure(figsize = [10, 3])\n",
    "plt.subplot(121)\n",
    "plt.title(\"Accuracy\")\n",
    "plt.plot(range(len(accuracies)), accuracies)\n",
    "plt.subplot(122)\n",
    "plt.title(\"Learn curves\")\n",
    "plt.plot(range(len(train_scores)), train_scores)\n",
    "plt.plot(range(len(test_scores)), test_scores)\n",
    "plt.legend([\"train\", \"test\"])\n",
    "plt.ylim(0,0.4)\n",
    "plt.show()"
   ]
  },
  {
   "cell_type": "markdown",
   "id": "47118ec6-4b2f-4edd-acd0-9427bf344064",
   "metadata": {},
   "source": [
    "## Сonvolutional neural network\n",
    "\n",
    "You may think that result of the previous model is pretty good, but you can imporove it iven more using convolutinal layers."
   ]
  },
  {
   "cell_type": "markdown",
   "id": "072afc05-9727-46a9-82f6-06cb4f5043dd",
   "metadata": {},
   "source": [
    "In the next cell, we've just defined the model that we're going to fit."
   ]
  },
  {
   "cell_type": "code",
   "execution_count": 17,
   "id": "fc162b33-2fc0-4365-a37d-e8d8d5abdba0",
   "metadata": {},
   "outputs": [],
   "source": [
    "cnn = nn.Sequential(\n",
    "    nn.Conv2d(in_channels = 1, out_channels = 32, kernel_size = 5),\n",
    "    nn.ReLU(),\n",
    "    nn.MaxPool2d(kernel_size =  2),\n",
    "\n",
    "    nn.Conv2d(in_channels = 32, out_channels = 64, kernel_size = 5),\n",
    "    nn.ReLU(),\n",
    "    nn.MaxPool2d(kernel_size = 2),\n",
    "\n",
    "    nn.Flatten(),\n",
    "    nn.Linear(4*4*64, 256),\n",
    "    nn.ReLU(),\n",
    "    nn.Linear(256, 10)\n",
    ")"
   ]
  },
  {
   "cell_type": "markdown",
   "id": "071e4a1f-aff8-40c9-b78a-ddad2dc3277f",
   "metadata": {},
   "source": [
    "We can use the same methods for fitting as for the basic model.\n",
    "\n",
    "**Note** Don't forget to pass the weights of the new model to the optimiser, otherwise it will continue to work with the weights of the base model."
   ]
  },
  {
   "cell_type": "code",
   "execution_count": 18,
   "id": "bd3c1ef1-6ed4-4dfc-8c5d-1b6b9c2239f9",
   "metadata": {},
   "outputs": [],
   "source": [
    "optimizer = optim.Adam(cnn.parameters(), lr = 1e-3)\n",
    "\n",
    "train_scores, test_scores, accuracies = [], [], []\n",
    "\n",
    "for i in range(100):\n",
    "    train_scores.append(epoch(\n",
    "        model = cnn,\n",
    "        data_loader = train_loader,\n",
    "        optimizer = optimizer,\n",
    "        loss_fn = loss_fn\n",
    "    ))\n",
    "    test_score, accuracy = evaluate(\n",
    "        model = cnn, \n",
    "        data_loader = valid_loader,\n",
    "        loss_fn = loss_fn\n",
    "    )\n",
    "    test_scores.append(test_score)\n",
    "    accuracies.append(accuracy)\n",
    "\n",
    "\n",
    "    clear_output()\n",
    "    if accuracy > 0.993:\n",
    "        break"
   ]
  },
  {
   "cell_type": "markdown",
   "id": "c30f6f42-c8d1-4b72-954a-2064c7fdf205",
   "metadata": {},
   "source": [
    "And visualising of the results:"
   ]
  },
  {
   "cell_type": "code",
   "execution_count": 19,
   "id": "34b3765f-fdf9-4d4b-b3c5-090288378f05",
   "metadata": {},
   "outputs": [
    {
     "data": {
      "image/png": "[encoded data removed]",
      "text/plain": [
       "<Figure size 1000x300 with 2 Axes>"
      ]
     },
     "metadata": {},
     "output_type": "display_data"
    }
   ],
   "source": [
    "plt.figure(figsize = [10, 3])\n",
    "plt.subplot(121)\n",
    "plt.title(\"Accuracy\")\n",
    "plt.plot(range(len(accuracies)), accuracies)\n",
    "plt.subplot(122)\n",
    "plt.title(\"Learn curves\")\n",
    "plt.plot(range(len(train_scores)), train_scores)\n",
    "plt.plot(range(len(test_scores)), test_scores)\n",
    "plt.legend([\"train\", \"test\"])\n",
    "plt.ylim(0,0.4)\n",
    "plt.show()"
   ]
  }
 ],
 "metadata": {
  "kernelspec": {
   "display_name": "Python 3 (ipykernel)",
   "language": "python",
   "name": "python3"
  },
  "language_info": {
   "codemirror_mode": {
    "name": "ipython",
    "version": 3
   },
   "file_extension": ".py",
   "mimetype": "text/x-python",
   "name": "python",
   "nbconvert_exporter": "python",
   "pygments_lexer": "ipython3",
   "version": "3.10.12"
  }
 },
 "nbformat": 4,
 "nbformat_minor": 5
}
