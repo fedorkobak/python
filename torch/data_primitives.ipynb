{
 "cells": [
  {
   "cell_type": "markdown",
   "metadata": {},
   "source": [
    "# Data primitives\n",
    "\n",
    "Torch implements its approach to organizing data management. It assumes that you have two objects: `Dataset` and `DataLoader`. The `Dataset` holds the data and allows access to individual data points, while the `DataLoader` organizes the data into mini-batches and provides an iterable interface for iterating over them.\n",
    "\n",
    "For the fullest description visit [`torch.utils.data`](https://pytorch.org/docs/stable/data.html#torch.utils.data.IterableDataset) tutorial."
   ]
  },
  {
   "cell_type": "code",
   "execution_count": 3,
   "metadata": {},
   "outputs": [],
   "source": [
    "import torch\n",
    "import torch.utils.data as td\n",
    "from torch.utils.data import DataLoader"
   ]
  },
  {
   "cell_type": "markdown",
   "metadata": {},
   "source": [
    "## Data set\n",
    "\n",
    "A data set in Torch is a special type of object that prepares data and returns individual data units with indexing syntax. It have to implement such methods:\n",
    "\n",
    "- `__len__`: returns the number of elements in the dataset.\n",
    "- `__getitem__`: implement the `[]` operator for objects of dataset.\n",
    "\n",
    "Check more in the [corresponding page](data_primitives/data_set.ipynb)."
   ]
  },
  {
   "cell_type": "markdown",
   "metadata": {},
   "source": [
    "---\n",
    "\n",
    "The following cell shows a simple dataset that wraps python list as a torch primitive."
   ]
  },
  {
   "cell_type": "code",
   "execution_count": 14,
   "metadata": {},
   "outputs": [],
   "source": [
    "class Example(td.Dataset):\n",
    "    def __init__(self, data: list[int]) -> None:\n",
    "        self.data = data\n",
    "\n",
    "    def __len__(self):\n",
    "        return len(self.data)\n",
    "\n",
    "    def __getitem__(self, i: int) -> torch.Tensor:\n",
    "        return torch.tensor(self.data[i])"
   ]
  },
  {
   "cell_type": "markdown",
   "metadata": {},
   "source": [
    "For each index, you will get the corresponding element, but it will be transformed into a torch tensor."
   ]
  },
  {
   "cell_type": "code",
   "execution_count": 13,
   "metadata": {},
   "outputs": [
    {
     "data": {
      "text/plain": [
       "tensor(7)"
      ]
     },
     "execution_count": 13,
     "metadata": {},
     "output_type": "execute_result"
    }
   ],
   "source": [
    "data_set = Example([3, 2, 7, 3])\n",
    "data_set[2]"
   ]
  },
  {
   "cell_type": "markdown",
   "metadata": {},
   "source": [
    "## Data loader\n",
    "\n",
    "A `DataLoader` in PyTorch is an object that simplifies the process of splitting data into batches.\n",
    "\n",
    "Find out more in the [`torch.utils.data.DataLoader`](https://pytorch.org/docs/stable/data.html#torch.utils.data.DataLoader) section of the official documentation."
   ]
  },
  {
   "cell_type": "markdown",
   "metadata": {},
   "source": [
    "### Drop incomplete batch\n",
    "\n",
    "The `drop_last` argument in `torch.DataLoader` controls whether the final batch is dropped if it doesn't contain enough elements to complete a full batch. If `drop_last=True`, any remaining samples that don't fit into a complete batch will be skipped."
   ]
  },
  {
   "cell_type": "markdown",
   "metadata": {},
   "source": [
    "---\n",
    "\n",
    "The following cell defines a `TensorDataset` tensor that used as base for dataset is showen."
   ]
  },
  {
   "cell_type": "code",
   "execution_count": null,
   "metadata": {},
   "outputs": [
    {
     "name": "stdout",
     "output_type": "stream",
     "text": [
      "tensor([[ 0,  1,  2,  3,  4],\n",
      "        [ 5,  6,  7,  8,  9],\n",
      "        [10, 11, 12, 13, 14],\n",
      "        [15, 16, 17, 18, 19],\n",
      "        [20, 21, 22, 23, 24],\n",
      "        [25, 26, 27, 28, 29],\n",
      "        [30, 31, 32, 33, 34],\n",
      "        [35, 36, 37, 38, 39],\n",
      "        [40, 41, 42, 43, 44],\n",
      "        [45, 46, 47, 48, 49],\n",
      "        [50, 51, 52, 53, 54],\n",
      "        [55, 56, 57, 58, 59],\n",
      "        [60, 61, 62, 63, 64],\n",
      "        [65, 66, 67, 68, 69]])\n"
     ]
    }
   ],
   "source": [
    "samples = 14\n",
    "dimentinarity = 5\n",
    "\n",
    "input_tensor = (\n",
    "    torch.arange(samples*dimentinarity)\n",
    "    .reshape(samples, dimentinarity)\n",
    ")\n",
    "print(input_tensor)\n",
    "\n",
    "dataset = torch.utils.data.TensorDataset(input_tensor)"
   ]
  },
  {
   "cell_type": "markdown",
   "metadata": {},
   "source": [
    "Suppose we decided to use `batch_size=4`. Since our 14 samples can't be evenly split into 4-size batches, the following cell defines such a `DataLoader` and prints all its batches."
   ]
  },
  {
   "cell_type": "code",
   "execution_count": 4,
   "metadata": {},
   "outputs": [
    {
     "name": "stdout",
     "output_type": "stream",
     "text": [
      "[tensor([[ 0,  1,  2,  3,  4],\n",
      "        [ 5,  6,  7,  8,  9],\n",
      "        [10, 11, 12, 13, 14],\n",
      "        [15, 16, 17, 18, 19]])]\n",
      "[tensor([[20, 21, 22, 23, 24],\n",
      "        [25, 26, 27, 28, 29],\n",
      "        [30, 31, 32, 33, 34],\n",
      "        [35, 36, 37, 38, 39]])]\n",
      "[tensor([[40, 41, 42, 43, 44],\n",
      "        [45, 46, 47, 48, 49],\n",
      "        [50, 51, 52, 53, 54],\n",
      "        [55, 56, 57, 58, 59]])]\n"
     ]
    }
   ],
   "source": [
    "data_loader = DataLoader(\n",
    "    dataset, \n",
    "    batch_size=4,\n",
    "    drop_last=True\n",
    ")\n",
    "\n",
    "for d in data_loader:\n",
    "    print(d)"
   ]
  },
  {
   "cell_type": "markdown",
   "metadata": {},
   "source": [
    "The numbers from the last two samples (from 60 to 69) haven't been printed because they didn't form a complete batch, and thus were not included."
   ]
  },
  {
   "cell_type": "markdown",
   "metadata": {},
   "source": [
    "### Collate function\n",
    "\n",
    "You specify how entities from the dataset should be joined into batches by setting the `collate_fn` argument of the `DataLoader`.\n",
    "\n",
    "The `collate_fn` is a function that processes a list of tuples, where each tuple represents the outputs from the dataset—typically in the form `(X, y)`. `collate_fn` should return `torch.Tensor`, but in some cases output can be different."
   ]
  },
  {
   "cell_type": "markdown",
   "metadata": {},
   "source": [
    "---\n",
    "\n",
    "Consider example where we need to build dataset over tensor dataloader cerated in the following cell."
   ]
  },
  {
   "cell_type": "code",
   "execution_count": null,
   "metadata": {},
   "outputs": [
    {
     "name": "stdout",
     "output_type": "stream",
     "text": [
      "tensor([[ 0,  1,  2,  3,  4],\n",
      "        [ 5,  6,  7,  8,  9],\n",
      "        [10, 11, 12, 13, 14],\n",
      "        [15, 16, 17, 18, 19]])\n"
     ]
    }
   ],
   "source": [
    "samples = 4\n",
    "dimentinarity = 5\n",
    "\n",
    "input_tensor = (\n",
    "    torch.arange(samples*dimentinarity)\n",
    "    .reshape(samples, dimentinarity)\n",
    ")\n",
    "print(input_tensor)\n",
    "\n",
    "dataset = torch.utils.data.TensorDataset(input_tensor)"
   ]
  },
  {
   "cell_type": "markdown",
   "metadata": {},
   "source": [
    "Here is fucntion, which we will try to pass as a `collate_fn` argument. It prints the input passed to the function to check that we got in function exactly what we expected to get. Returns a stack of input tensors."
   ]
  },
  {
   "cell_type": "code",
   "execution_count": null,
   "metadata": {},
   "outputs": [],
   "source": [
    "def check_function(batch: list[tuple[torch.Tensor]]) -> torch.Tensor:\n",
    "    print(\"I got:\", batch)\n",
    "    return torch.stack(list(zip(*batch))[0])"
   ]
  },
  {
   "cell_type": "markdown",
   "metadata": {},
   "source": [
    "Here is an example of its usage; everything works just as expected."
   ]
  },
  {
   "cell_type": "code",
   "execution_count": 55,
   "metadata": {},
   "outputs": [
    {
     "name": "stdout",
     "output_type": "stream",
     "text": [
      "I got: [(tensor([0, 1, 2, 3, 4]),), (tensor([5, 6, 7, 8, 9]),)]\n",
      "tensor([[0, 1, 2, 3, 4],\n",
      "        [5, 6, 7, 8, 9]])\n",
      "I got: [(tensor([10, 11, 12, 13, 14]),), (tensor([15, 16, 17, 18, 19]),)]\n",
      "tensor([[10, 11, 12, 13, 14],\n",
      "        [15, 16, 17, 18, 19]])\n"
     ]
    }
   ],
   "source": [
    "data_loader = DataLoader(\n",
    "    dataset=dataset,\n",
    "    collate_fn=check_function,\n",
    "    batch_size=2\n",
    ")\n",
    "\n",
    "for batch in data_loader:\n",
    "    print(batch)"
   ]
  }
 ],
 "metadata": {
  "kernelspec": {
   "display_name": "knowledge",
   "language": "python",
   "name": "python3"
  },
  "language_info": {
   "codemirror_mode": {
    "name": "ipython",
    "version": 3
   },
   "file_extension": ".py",
   "mimetype": "text/x-python",
   "name": "python",
   "nbconvert_exporter": "python",
   "pygments_lexer": "ipython3",
   "version": "3.12.9"
  }
 },
 "nbformat": 4,
 "nbformat_minor": 2
}
