{
 "cells": [
  {
   "cell_type": "markdown",
   "metadata": {},
   "source": [
    "# Data primitives\n",
    "\n",
    "Torch implements its approach to organizing data management. It assumes that you have two objects: `Dataset` and `DataLoader`. The `Dataset` holds the data and allows access to individual data points, while the `DataLoader` organizes the data into mini-batches and provides an iterable interface for iterating over them.\n",
    "\n",
    "For the fullest description visit [`torch.utils.data`](https://pytorch.org/docs/stable/data.html#torch.utils.data.IterableDataset) tutorial."
   ]
  },
  {
   "cell_type": "code",
   "execution_count": 43,
   "metadata": {},
   "outputs": [],
   "source": [
    "import torch\n",
    "import torch.utils.data as td\n",
    "from torch.utils.data import DataLoader"
   ]
  },
  {
   "cell_type": "markdown",
   "metadata": {},
   "source": [
    "## Iterable datasets\n",
    "\n",
    "There is a special kind of dataset - iterable dataset. It's property is that it should be used as an iterator - it have to have a specil `__iter__` method.\n",
    "\n",
    "Check the [corresposponding section](https://pytorch.org/docs/stable/data.html#torch.utils.data.IterableDataset) of the pytorch documentation."
   ]
  },
  {
   "cell_type": "markdown",
   "metadata": {},
   "source": [
    "---\n",
    "\n",
    "The following cell defines such kind of dataset."
   ]
  },
  {
   "cell_type": "code",
   "execution_count": 44,
   "metadata": {},
   "outputs": [],
   "source": [
    "class MyDataset(td.IterableDataset):\n",
    "    def __iter__(self):\n",
    "        return iter(torch.arange(0, 20)[:, None])"
   ]
  },
  {
   "cell_type": "markdown",
   "metadata": {},
   "source": [
    "As a result you'll have a object that return all instances one by one."
   ]
  },
  {
   "cell_type": "code",
   "execution_count": 45,
   "metadata": {},
   "outputs": [
    {
     "data": {
      "text/plain": [
       "[tensor([0]),\n",
       " tensor([1]),\n",
       " tensor([2]),\n",
       " tensor([3]),\n",
       " tensor([4]),\n",
       " tensor([5]),\n",
       " tensor([6]),\n",
       " tensor([7]),\n",
       " tensor([8]),\n",
       " tensor([9]),\n",
       " tensor([10]),\n",
       " tensor([11]),\n",
       " tensor([12]),\n",
       " tensor([13]),\n",
       " tensor([14]),\n",
       " tensor([15]),\n",
       " tensor([16]),\n",
       " tensor([17]),\n",
       " tensor([18]),\n",
       " tensor([19])]"
      ]
     },
     "execution_count": 45,
     "metadata": {},
     "output_type": "execute_result"
    }
   ],
   "source": [
    "my_dataset = MyDataset()\n",
    "list(my_dataset)"
   ]
  },
  {
   "cell_type": "markdown",
   "metadata": {},
   "source": [
    "The following cell shows the application of the data loader to the dataset we've created earlier."
   ]
  },
  {
   "cell_type": "code",
   "execution_count": 54,
   "metadata": {},
   "outputs": [
    {
     "data": {
      "text/plain": [
       "[tensor([[0],\n",
       "         [1],\n",
       "         [2]]),\n",
       " tensor([[3],\n",
       "         [4],\n",
       "         [5]]),\n",
       " tensor([[6],\n",
       "         [7],\n",
       "         [8]]),\n",
       " tensor([[ 9],\n",
       "         [10],\n",
       "         [11]]),\n",
       " tensor([[12],\n",
       "         [13],\n",
       "         [14]]),\n",
       " tensor([[15],\n",
       "         [16],\n",
       "         [17]]),\n",
       " tensor([[18],\n",
       "         [19]])]"
      ]
     },
     "execution_count": 54,
     "metadata": {},
     "output_type": "execute_result"
    }
   ],
   "source": [
    "data_loader = td.DataLoader(my_dataset, batch_size=3)\n",
    "list(data_loader)"
   ]
  },
  {
   "cell_type": "markdown",
   "metadata": {},
   "source": [
    "## Data loader\n",
    "\n",
    "A `DataLoader` in PyTorch is an object that simplifies the process of splitting data into batches.\n",
    "\n",
    "Find out more in the [`torch.utils.data.DataLoader`](https://pytorch.org/docs/stable/data.html#torch.utils.data.DataLoader) section of the official documentation."
   ]
  },
  {
   "cell_type": "markdown",
   "metadata": {},
   "source": [
    "### Drop incomplete batch\n",
    "\n",
    "The `drop_last` argument in `torch.DataLoader` controls whether the final batch is dropped if it doesn't contain enough elements to complete a full batch. If `drop_last=True`, any remaining samples that don't fit into a complete batch will be skipped."
   ]
  },
  {
   "cell_type": "markdown",
   "metadata": {},
   "source": [
    "---\n",
    "\n",
    "The following cell defines a `TensorDataset` tensor that used as base for dataset is showen."
   ]
  },
  {
   "cell_type": "code",
   "execution_count": null,
   "metadata": {},
   "outputs": [
    {
     "name": "stdout",
     "output_type": "stream",
     "text": [
      "tensor([[ 0,  1,  2,  3,  4],\n",
      "        [ 5,  6,  7,  8,  9],\n",
      "        [10, 11, 12, 13, 14],\n",
      "        [15, 16, 17, 18, 19],\n",
      "        [20, 21, 22, 23, 24],\n",
      "        [25, 26, 27, 28, 29],\n",
      "        [30, 31, 32, 33, 34],\n",
      "        [35, 36, 37, 38, 39],\n",
      "        [40, 41, 42, 43, 44],\n",
      "        [45, 46, 47, 48, 49],\n",
      "        [50, 51, 52, 53, 54],\n",
      "        [55, 56, 57, 58, 59],\n",
      "        [60, 61, 62, 63, 64],\n",
      "        [65, 66, 67, 68, 69]])\n"
     ]
    }
   ],
   "source": [
    "samples = 14\n",
    "dimentinarity = 5\n",
    "\n",
    "input_tensor = (\n",
    "    torch.arange(samples*dimentinarity)\n",
    "    .reshape(samples, dimentinarity)\n",
    ")\n",
    "print(input_tensor)\n",
    "\n",
    "dataset = torch.utils.data.TensorDataset(input_tensor)"
   ]
  },
  {
   "cell_type": "markdown",
   "metadata": {},
   "source": [
    "Suppose we decided to use `batch_size=4`. Since our 14 samples can't be evenly split into 4-size batches, the following cell defines such a `DataLoader` and prints all its batches."
   ]
  },
  {
   "cell_type": "code",
   "execution_count": 4,
   "metadata": {},
   "outputs": [
    {
     "name": "stdout",
     "output_type": "stream",
     "text": [
      "[tensor([[ 0,  1,  2,  3,  4],\n",
      "        [ 5,  6,  7,  8,  9],\n",
      "        [10, 11, 12, 13, 14],\n",
      "        [15, 16, 17, 18, 19]])]\n",
      "[tensor([[20, 21, 22, 23, 24],\n",
      "        [25, 26, 27, 28, 29],\n",
      "        [30, 31, 32, 33, 34],\n",
      "        [35, 36, 37, 38, 39]])]\n",
      "[tensor([[40, 41, 42, 43, 44],\n",
      "        [45, 46, 47, 48, 49],\n",
      "        [50, 51, 52, 53, 54],\n",
      "        [55, 56, 57, 58, 59]])]\n"
     ]
    }
   ],
   "source": [
    "data_loader = DataLoader(\n",
    "    dataset, \n",
    "    batch_size=4,\n",
    "    drop_last=True\n",
    ")\n",
    "\n",
    "for d in data_loader:\n",
    "    print(d)"
   ]
  },
  {
   "cell_type": "markdown",
   "metadata": {},
   "source": [
    "The numbers from the last two samples (from 60 to 69) haven't been printed because they didn't form a complete batch, and thus were not included."
   ]
  },
  {
   "cell_type": "markdown",
   "metadata": {},
   "source": [
    "### Collate function\n",
    "\n",
    "You specify how entities from the dataset should be joined into batches by setting the `collate_fn` argument of the `DataLoader`.\n",
    "\n",
    "The `collate_fn` is a function that processes a list of tuples, where each tuple represents the outputs from the dataset—typically in the form `(X, y)`. `collate_fn` should return `torch.Tensor`, but in some cases output can be different."
   ]
  },
  {
   "cell_type": "markdown",
   "metadata": {},
   "source": [
    "---\n",
    "\n",
    "Consider example where we need to build dataset over tensor dataloader cerated in the following cell."
   ]
  },
  {
   "cell_type": "code",
   "execution_count": null,
   "metadata": {},
   "outputs": [
    {
     "name": "stdout",
     "output_type": "stream",
     "text": [
      "tensor([[ 0,  1,  2,  3,  4],\n",
      "        [ 5,  6,  7,  8,  9],\n",
      "        [10, 11, 12, 13, 14],\n",
      "        [15, 16, 17, 18, 19]])\n"
     ]
    }
   ],
   "source": [
    "samples = 4\n",
    "dimentinarity = 5\n",
    "\n",
    "input_tensor = (\n",
    "    torch.arange(samples*dimentinarity)\n",
    "    .reshape(samples, dimentinarity)\n",
    ")\n",
    "print(input_tensor)\n",
    "\n",
    "dataset = torch.utils.data.TensorDataset(input_tensor)"
   ]
  },
  {
   "cell_type": "markdown",
   "metadata": {},
   "source": [
    "Here is fucntion, which we will try to pass as a `collate_fn` argument. It prints the input passed to the function to check that we got in function exactly what we expected to get. Returns a stack of input tensors."
   ]
  },
  {
   "cell_type": "code",
   "execution_count": null,
   "metadata": {},
   "outputs": [],
   "source": [
    "def check_function(batch: list[tuple[torch.Tensor]]) -> torch.Tensor:\n",
    "    print(\"I got:\", batch)\n",
    "    return torch.stack(list(zip(*batch))[0])"
   ]
  },
  {
   "cell_type": "markdown",
   "metadata": {},
   "source": [
    "Here is an example of its usage; everything works just as expected."
   ]
  },
  {
   "cell_type": "code",
   "execution_count": 55,
   "metadata": {},
   "outputs": [
    {
     "name": "stdout",
     "output_type": "stream",
     "text": [
      "I got: [(tensor([0, 1, 2, 3, 4]),), (tensor([5, 6, 7, 8, 9]),)]\n",
      "tensor([[0, 1, 2, 3, 4],\n",
      "        [5, 6, 7, 8, 9]])\n",
      "I got: [(tensor([10, 11, 12, 13, 14]),), (tensor([15, 16, 17, 18, 19]),)]\n",
      "tensor([[10, 11, 12, 13, 14],\n",
      "        [15, 16, 17, 18, 19]])\n"
     ]
    }
   ],
   "source": [
    "data_loader = DataLoader(\n",
    "    dataset=dataset,\n",
    "    collate_fn=check_function,\n",
    "    batch_size=2\n",
    ")\n",
    "\n",
    "for batch in data_loader:\n",
    "    print(batch)"
   ]
  }
 ],
 "metadata": {
  "kernelspec": {
   "display_name": "knowledge",
   "language": "python",
   "name": "python3"
  },
  "language_info": {
   "codemirror_mode": {
    "name": "ipython",
    "version": 3
   },
   "file_extension": ".py",
   "mimetype": "text/x-python",
   "name": "python",
   "nbconvert_exporter": "python",
   "pygments_lexer": "ipython3",
   "version": "3.12.9"
  }
 },
 "nbformat": 4,
 "nbformat_minor": 2
}
