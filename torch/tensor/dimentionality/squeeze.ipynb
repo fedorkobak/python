{
 "cells": [
  {
   "cell_type": "markdown",
   "metadata": {},
   "source": [
    "# Squeeze\n",
    "\n",
    "The `torch.squeeze` function and the `torch.Tensor.squeeze` method remove dimensions from a tensor that have a size of one. These dimensions are considered \"ambiguous\" as they contain only a single value. "
   ]
  },
  {
   "cell_type": "code",
   "execution_count": 2,
   "metadata": {},
   "outputs": [],
   "source": [
    "import torch"
   ]
  },
  {
   "cell_type": "markdown",
   "metadata": {},
   "source": [
    "## Specify dimention\n",
    "\n",
    "By specifying an number of the axis in `dim` parameter, we can reduce a specific dimension."
   ]
  },
  {
   "cell_type": "markdown",
   "metadata": {},
   "source": [
    "---\n",
    "\n",
    "Tensors with two dimensions containing only one object. These dimensions are effectively useless, as there are no sets or variations along them.  Such dimensions can be safely collapsed, treating them as single elements within the outer dimension. "
   ]
  },
  {
   "cell_type": "code",
   "execution_count": 4,
   "metadata": {},
   "outputs": [
    {
     "data": {
      "text/plain": [
       "tensor([[[[ 0],\n",
       "          [ 1],\n",
       "          [ 2],\n",
       "          [ 3],\n",
       "          [ 4]]],\n",
       "\n",
       "\n",
       "        [[[ 5],\n",
       "          [ 6],\n",
       "          [ 7],\n",
       "          [ 8],\n",
       "          [ 9]]],\n",
       "\n",
       "\n",
       "        [[[10],\n",
       "          [11],\n",
       "          [12],\n",
       "          [13],\n",
       "          [14]]]])"
      ]
     },
     "execution_count": 4,
     "metadata": {},
     "output_type": "execute_result"
    }
   ],
   "source": [
    "example_tensor = torch.arange(15).reshape(3, 1, 5, 1)\n",
    "example_tensor"
   ]
  },
  {
   "cell_type": "markdown",
   "metadata": {},
   "source": [
    "We can unwrap the 1-element vectors into a single vector by reducing along the appropriate axis. "
   ]
  },
  {
   "cell_type": "code",
   "execution_count": null,
   "metadata": {},
   "outputs": [
    {
     "data": {
      "text/plain": [
       "tensor([[[ 0,  1,  2,  3,  4]],\n",
       "\n",
       "        [[ 5,  6,  7,  8,  9]],\n",
       "\n",
       "        [[10, 11, 12, 13, 14]]])"
      ]
     },
     "metadata": {},
     "output_type": "display_data"
    }
   ],
   "source": [
    "example_tensor.squeeze(-1)"
   ]
  },
  {
   "cell_type": "markdown",
   "metadata": {},
   "source": [
    "**Note:** Specifying an axis with more than one element will result in the input tensor being returned without any changes. The following example tries to reduce 4-th dimention but it results unchanges input tensor."
   ]
  },
  {
   "cell_type": "code",
   "execution_count": null,
   "metadata": {},
   "outputs": [
    {
     "data": {
      "text/plain": [
       "tensor([[[ 0],\n",
       "         [ 1],\n",
       "         [ 2],\n",
       "         [ 3],\n",
       "         [ 4]],\n",
       "\n",
       "        [[ 5],\n",
       "         [ 6],\n",
       "         [ 7],\n",
       "         [ 8],\n",
       "         [ 9]],\n",
       "\n",
       "        [[10],\n",
       "         [11],\n",
       "         [12],\n",
       "         [13],\n",
       "         [14]]])"
      ]
     },
     "metadata": {},
     "output_type": "display_data"
    }
   ],
   "source": [
    "example_tensor.squeeze(1)"
   ]
  },
  {
   "cell_type": "markdown",
   "metadata": {},
   "source": [
    "## Practical case\n",
    "\n",
    "In regression tasks, a fully connected layer with dimensionality $[D, 1]$ is commonly used as the final layer of a neural network, where $D$ represents the number of inputs to this layer. This layer outputs a matrix with dimensionality $[n, 1]$, where $n$ corresponds to the number of objects in the minibatch processed by the network. If your target is simply a vector of $n$ elements, using this final layer could introduce errors in your network."
   ]
  },
  {
   "cell_type": "markdown",
   "metadata": {},
   "source": [
    "---\n",
    "\n",
    "Consider layer initialised with ones - so it would be matrix multiplication of input data to matrix:\n",
    "\n",
    "$$\\left(\\begin{array}{c}\n",
    "    1 \\\\ \n",
    "    1 \\\\\n",
    "    \\cdots \\\\\n",
    "    1\n",
    "\\end{array}\\right)\n",
    "$$\n",
    "\n",
    "This is the sum of the rows in the input data. "
   ]
  },
  {
   "cell_type": "code",
   "execution_count": 50,
   "metadata": {},
   "outputs": [
    {
     "name": "stdout",
     "output_type": "stream",
     "text": [
      "tensor([[0., 1., 2.],\n",
      "        [3., 4., 5.],\n",
      "        [6., 7., 8.]])\n"
     ]
    },
    {
     "data": {
      "text/plain": [
       "tensor([[ 3.],\n",
       "        [12.],\n",
       "        [21.]], grad_fn=<MmBackward0>)"
      ]
     },
     "execution_count": 50,
     "metadata": {},
     "output_type": "execute_result"
    }
   ],
   "source": [
    "samples = 3\n",
    "layer_size = 3\n",
    "\n",
    "fc = torch.nn.Linear(layer_size, 1, bias=False)\n",
    "with torch.no_grad():\n",
    "    fc.weight.copy_(torch.ones_like(fc.weight))\n",
    "\n",
    "input_data = torch.arange(\n",
    "    samples*layer_size, dtype=torch.float\n",
    ").reshape(samples, layer_size)\n",
    "\n",
    "ans = fc(input_data)\n",
    "print(input_data)\n",
    "ans"
   ]
  },
  {
   "cell_type": "markdown",
   "metadata": {},
   "source": [
    "So in case input data is matrix:\n",
    "\n",
    "$$\\left(\\begin{array}{c}\n",
    "    1&2&3 \\\\\n",
    "    4&5&6 \\\\\n",
    "    7&8&9 \n",
    "\\end{array}\\right)$$\n",
    "\n",
    "Out of the layer we'll got:\n",
    "\n",
    "$$\\left(\\begin{array}{c}\n",
    "    3 \\\\ \n",
    "    12 \\\\\n",
    "    21\n",
    "\\end{array}\\right)\n",
    "$$"
   ]
  },
  {
   "cell_type": "markdown",
   "metadata": {},
   "source": [
    "Suppose real target values are: $(0,1,2)$."
   ]
  },
  {
   "cell_type": "code",
   "execution_count": 46,
   "metadata": {},
   "outputs": [
    {
     "data": {
      "text/plain": [
       "tensor([0, 1, 2])"
      ]
     },
     "execution_count": 46,
     "metadata": {},
     "output_type": "execute_result"
    }
   ],
   "source": [
    "y = torch.arange(0, samples)\n",
    "y"
   ]
  },
  {
   "cell_type": "markdown",
   "metadata": {},
   "source": [
    "For computing mse loss, we expect a computation like: \n",
    "\n",
    "$$\\frac{(0-3)^2 + (1-12)^2 + (2-21)^2}{3} = \\frac{9 + 121 + 361}{3} = 491/3=163.[6]$$"
   ]
  },
  {
   "cell_type": "markdown",
   "metadata": {},
   "source": [
    "Applying MSE loss to this would result in: "
   ]
  },
  {
   "cell_type": "code",
   "execution_count": 47,
   "metadata": {},
   "outputs": [
    {
     "name": "stderr",
     "output_type": "stream",
     "text": [
      "/tmp/ipykernel_7944/3648618532.py:1: UserWarning: Using a target size (torch.Size([3])) that is different to the input size (torch.Size([3, 1])). This will likely lead to incorrect results due to broadcasting. Please ensure they have the same size.\n",
      "  torch.functional.F.mse_loss(ans, y)\n"
     ]
    },
    {
     "data": {
      "text/plain": [
       "tensor(175.6667, grad_fn=<MseLossBackward0>)"
      ]
     },
     "execution_count": 47,
     "metadata": {},
     "output_type": "execute_result"
    }
   ],
   "source": [
    "torch.functional.F.mse_loss(ans, y)"
   ]
  },
  {
   "cell_type": "markdown",
   "metadata": {},
   "source": [
    "We received a warning, but a result was produced—though incorrect. This discrepancy stemmed from broadcasting. The target values were broadcasted to a matrix  $Y'$, and the network output to $\\hat{Y'}$:\n",
    "\n",
    "$$Y' = \\left(\\begin{array}{c}\n",
    "    0&1&2 \\\\\n",
    "    0&1&2 \\\\\n",
    "    0&1&2 \n",
    "\\end{array}\\right), \n",
    "\\hat{Y'} = \n",
    "\\left(\\begin{array}{c}\n",
    "    3&3&3 \\\\\n",
    "    12&12&12 \\\\\n",
    "    21&21&21 \n",
    "\\end{array}\\right)\n",
    "$$\n",
    "\n",
    "The element-wise MSE between these matrices would then be precisely 175.[6]. \n"
   ]
  },
  {
   "cell_type": "markdown",
   "metadata": {},
   "source": [
    "However, after squeezing the network output, we would obtain a result of 163.[6]. "
   ]
  },
  {
   "cell_type": "code",
   "execution_count": 48,
   "metadata": {},
   "outputs": [
    {
     "data": {
      "text/plain": [
       "tensor(163.6667, grad_fn=<MseLossBackward0>)"
      ]
     },
     "execution_count": 48,
     "metadata": {},
     "output_type": "execute_result"
    }
   ],
   "source": [
    "torch.functional.F.mse_loss(ans.squeeze(), y)"
   ]
  }
 ],
 "metadata": {
  "kernelspec": {
   "display_name": "Python 3",
   "language": "python",
   "name": "python3"
  },
  "language_info": {
   "codemirror_mode": {
    "name": "ipython",
    "version": 3
   },
   "file_extension": ".py",
   "mimetype": "text/x-python",
   "name": "python",
   "nbconvert_exporter": "python",
   "pygments_lexer": "ipython3",
   "version": "3.10.12"
  }
 },
 "nbformat": 4,
 "nbformat_minor": 2
}
