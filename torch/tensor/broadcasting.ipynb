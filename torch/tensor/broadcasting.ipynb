{
 "cells": [
  {
   "cell_type": "markdown",
   "id": "cc26b3d2-cf93-4cc5-8f1f-d8542481a923",
   "metadata": {},
   "source": [
    "# Broadcasting\n",
    "\n",
    "Broadcasting is a mechanism that allows tensors of different shapes to be used together in element-wise operations."
   ]
  },
  {
   "cell_type": "code",
   "execution_count": 1,
   "id": "53cdf667",
   "metadata": {},
   "outputs": [],
   "source": [
    "import torch"
   ]
  },
  {
   "cell_type": "markdown",
   "id": "1ed706e6",
   "metadata": {},
   "source": [
    "## Broadcasting rules\n",
    "\n",
    "To understand broadcasing consider its rules:\n",
    "\n",
    "- **Rule 1 (dimensioning)**: If tensors have a different number of dimensions, the shape of the smaller tensor is padded with ones on the left side until both tensors have the same number of dimensions.\n",
    "\n",
    "- **Rule 2 (compatability)**: Two dimensions are compatible when: They are equal, or one of them is 1\n",
    "\n",
    "- **Rule 3 (broadcasting)**: If the dimensions are compatible, the tensors are broadcasted to the shape of the larger tensor. If not compatible, an error is raised.\n",
    "\n",
    "Look at each rule separately with examples."
   ]
  },
  {
   "cell_type": "markdown",
   "id": "2f51579f",
   "metadata": {},
   "source": [
    "## Dimensioning\n",
    "\n",
    "To apply element-wise operations, tensors must have the same number of dimensions. By default, if two tensors have different dimensionalities, the tensor with fewer dimensions will be expanded to match the higher-dimensional tensor. More formally, given two tensors $A$ and $B$ with dimensionalities $(d_1, d_2, ..., d_n)$ and $(d'_1, d'_2, ... , d'_m)$ respectively, where $m < n$, PyTorch will transform the dimensionality of $B$ to $(d''_1, d''_2, ..., d''_{n-m}, d''_{n-m+1}, ..., d''_n)$ where:\n",
    "\n",
    "$$\n",
    "d''_i = \\begin{cases}\n",
    "1, & \\text{if } i \\in \\{1, 2, \\ldots, n-m\\}, \\\\\n",
    "d'_j, & \\text{if } i \\in \\{n-m+1, \\ldots, n\\} \\text{ and } j = i - n + m,\n",
    "\\end{cases}\n",
    "$$\n",
    "\n",
    "Consider an example where we have tensors $A$ and $B$ with dimensionalities: $(1, 2, 3, 2, 3)$ and $(3, 2, 3)$ respectively.\n",
    "\n",
    "By default, PyTorch will transform $B$ to have a dimensionality of $(1, 1, 3, 2, 3)$. It adds ones to the beginning of the dimensionality until it reaches the same length as $A$ (5 dimensions), and then uses the original dimensions of $B$.\n",
    "\n",
    "When a tensor is transformed to match another tensor's dimensionality, it's effectively being wrapped in a series of additional dimensions, each of size 1. This creates a \"shell\" around the original tensor, expanding it to have the same number of dimensions as the target tensor. "
   ]
  },
  {
   "cell_type": "markdown",
   "id": "b4531ccf",
   "metadata": {},
   "source": [
    "---\n",
    "\n",
    "Let's consider a code example that demonstrates this dimensionality transformation. We'll add an element to a tensor and observe how PyTorch handles the broadcasting."
   ]
  },
  {
   "cell_type": "code",
   "execution_count": 49,
   "id": "88d1d3e5",
   "metadata": {},
   "outputs": [
    {
     "data": {
      "text/plain": [
       "tensor([[0, 1],\n",
       "        [2, 3]])"
      ]
     },
     "execution_count": 49,
     "metadata": {},
     "output_type": "execute_result"
    }
   ],
   "source": [
    "a = torch.arange(4).reshape(2,2)\n",
    "a"
   ]
  },
  {
   "cell_type": "markdown",
   "id": "414dcbd5",
   "metadata": {},
   "source": [
    "As a second tensor, we'll use a one-dimensional tensor `b`:"
   ]
  },
  {
   "cell_type": "code",
   "execution_count": 51,
   "id": "f08c347b",
   "metadata": {},
   "outputs": [
    {
     "data": {
      "text/plain": [
       "tensor([5, 6])"
      ]
     },
     "execution_count": 51,
     "metadata": {},
     "output_type": "execute_result"
    }
   ],
   "source": [
    "b = torch.tensor([5, 6])\n",
    "b"
   ]
  },
  {
   "cell_type": "markdown",
   "id": "54a619dd",
   "metadata": {},
   "source": [
    "There could be two ways to add two elements to the tensor `a`. By rows and by columns the following cell shows both options."
   ]
  },
  {
   "cell_type": "code",
   "execution_count": 47,
   "id": "6744eb0e",
   "metadata": {},
   "outputs": [
    {
     "name": "stdout",
     "output_type": "stream",
     "text": [
      "Adding\n",
      "tensor([[1],\n",
      "        [2]])\n"
     ]
    },
    {
     "data": {
      "text/plain": [
       "tensor([[1, 2],\n",
       "        [4, 5]])"
      ]
     },
     "execution_count": 47,
     "metadata": {},
     "output_type": "execute_result"
    }
   ],
   "source": [
    "print(\"Adding\")\n",
    "print(b[:, None])\n",
    "a + b[:, None]"
   ]
  },
  {
   "cell_type": "code",
   "execution_count": 48,
   "id": "574b3f69",
   "metadata": {},
   "outputs": [
    {
     "name": "stdout",
     "output_type": "stream",
     "text": [
      "Adding tensor([[1, 2]])\n"
     ]
    },
    {
     "data": {
      "text/plain": [
       "tensor([[1, 3],\n",
       "        [3, 5]])"
      ]
     },
     "execution_count": 48,
     "metadata": {},
     "output_type": "execute_result"
    }
   ],
   "source": [
    "print(\"Adding\", b[None])\n",
    "a + b[None]"
   ]
  },
  {
   "cell_type": "markdown",
   "id": "5272eb3f",
   "metadata": {},
   "source": [
    "Before we specify the exact method for adding the missing dimensionality, let's examine how PyTorch chooses the default approach. This will be demonstrated in the following cell."
   ]
  },
  {
   "cell_type": "code",
   "execution_count": 44,
   "id": "8e92f9a5",
   "metadata": {},
   "outputs": [
    {
     "data": {
      "text/plain": [
       "tensor([[1, 3],\n",
       "        [3, 5]])"
      ]
     },
     "execution_count": 44,
     "metadata": {},
     "output_type": "execute_result"
    }
   ],
   "source": [
    "a + b"
   ]
  },
  {
   "cell_type": "markdown",
   "id": "071e1014",
   "metadata": {},
   "source": [
    "By default, PyTorch added the extra dimension by rows. This behavior is because wrapping a one-dimensional tensor in an outer dimension results in a one-row matrix.  The two operands then share the column dimension, enabling element-wise operations."
   ]
  },
  {
   "cell_type": "markdown",
   "id": "78616a4b",
   "metadata": {},
   "source": [
    "## Compatability\n",
    "\n",
    "After padding tensors with smaller dimensions (if necessary), the resulting tensors must have compatible dimensions. This means that corresponding dimensions should be equal or one of them should be 1. \n",
    "\n",
    "More formally, if we have two tensors  $A$ and $B$ with dimensions $(d'_1, d'_2, ..., d'_n)$ and $(d''_1, d''_2, ..., d''_n)$ after padding, then for element-wise operations in PyTorch, the following condition must hold:\n",
    "\n",
    "$d'_i = d''_i$ or $d'_i = 1$ or $d''_i = 1$ for $i = 1, 2, ..., n$."
   ]
  },
  {
   "cell_type": "markdown",
   "id": "b42a6036",
   "metadata": {},
   "source": [
    "---\n",
    "\n",
    "The tensors with dimensions $(1, 3, 2)$ and $(2, 3, 1)$ are indeed compatible for element-wise operations because they satisfy the conditions:\n",
    "\n",
    "* **$d'_1 = 1$** The first dimension of the first tensor is 1.\n",
    "* **$d'_2 = d''_2$** The second dimensions of both tensors are equal (3).\n",
    "* **$d''_3 = 1$** The third dimension of the second tensor is 1."
   ]
  },
  {
   "cell_type": "code",
   "execution_count": 7,
   "id": "2050674e",
   "metadata": {},
   "outputs": [
    {
     "data": {
      "text/plain": [
       "tensor([[[0, 1],\n",
       "         [2, 3],\n",
       "         [4, 5]]])"
      ]
     },
     "execution_count": 7,
     "metadata": {},
     "output_type": "execute_result"
    }
   ],
   "source": [
    "A = torch.arange(6).reshape(1,3,2)\n",
    "A"
   ]
  },
  {
   "cell_type": "code",
   "execution_count": 8,
   "id": "e823f0cc",
   "metadata": {},
   "outputs": [
    {
     "data": {
      "text/plain": [
       "tensor([[[0],\n",
       "         [1],\n",
       "         [2]],\n",
       "\n",
       "        [[3],\n",
       "         [4],\n",
       "         [5]]])"
      ]
     },
     "execution_count": 8,
     "metadata": {},
     "output_type": "execute_result"
    }
   ],
   "source": [
    "B = torch.arange(6).reshape(2, 3, 1)\n",
    "B"
   ]
  },
  {
   "cell_type": "markdown",
   "id": "66f71662",
   "metadata": {},
   "source": [
    "After applying element-wise operations, everything works as expected. "
   ]
  },
  {
   "cell_type": "code",
   "execution_count": 9,
   "id": "51cfee31",
   "metadata": {},
   "outputs": [
    {
     "data": {
      "text/plain": [
       "tensor([[[ 0,  1],\n",
       "         [ 3,  4],\n",
       "         [ 6,  7]],\n",
       "\n",
       "        [[ 3,  4],\n",
       "         [ 6,  7],\n",
       "         [ 9, 10]]])"
      ]
     },
     "execution_count": 9,
     "metadata": {},
     "output_type": "execute_result"
    }
   ],
   "source": [
    "A + B"
   ]
  },
  {
   "cell_type": "markdown",
   "id": "3cbbdf82",
   "metadata": {},
   "source": [
    "However, any deviation from this rule results in a PyTorch error. "
   ]
  },
  {
   "cell_type": "code",
   "execution_count": 10,
   "id": "6fa815a3",
   "metadata": {},
   "outputs": [
    {
     "ename": "RuntimeError",
     "evalue": "shape '[2, 2, 1]' is invalid for input of size 6",
     "output_type": "error",
     "traceback": [
      "\u001b[0;31m---------------------------------------------------------------------------\u001b[0m",
      "\u001b[0;31mRuntimeError\u001b[0m                              Traceback (most recent call last)",
      "Cell \u001b[0;32mIn[10], line 1\u001b[0m\n\u001b[0;32m----> 1\u001b[0m B \u001b[38;5;241m=\u001b[39m \u001b[43mtorch\u001b[49m\u001b[38;5;241;43m.\u001b[39;49m\u001b[43marange\u001b[49m\u001b[43m(\u001b[49m\u001b[38;5;241;43m6\u001b[39;49m\u001b[43m)\u001b[49m\u001b[38;5;241;43m.\u001b[39;49m\u001b[43mreshape\u001b[49m\u001b[43m(\u001b[49m\u001b[38;5;241;43m2\u001b[39;49m\u001b[43m,\u001b[49m\u001b[43m \u001b[49m\u001b[38;5;241;43m2\u001b[39;49m\u001b[43m,\u001b[49m\u001b[43m \u001b[49m\u001b[38;5;241;43m1\u001b[39;49m\u001b[43m)\u001b[49m\n\u001b[1;32m      2\u001b[0m A\u001b[38;5;241m+\u001b[39mB\n",
      "\u001b[0;31mRuntimeError\u001b[0m: shape '[2, 2, 1]' is invalid for input of size 6"
     ]
    }
   ],
   "source": [
    "B = torch.arange(6).reshape(2, 2, 1)\n",
    "A + B"
   ]
  },
  {
   "cell_type": "markdown",
   "id": "0656af38",
   "metadata": {},
   "source": [
    "## Broadcasting\n",
    "\n",
    "Essentially, broadcasting aims to bring the operands to the same dimensionality before performing the operation. After previous rules if the number of elements in corresponding dimensions differs, it's guaranteed that one dimension has a size of one.  In this case, the dimension with size one will be expanded to match the corresponding dimension of the other operand by repeating its single element the required number of times."
   ]
  },
  {
   "cell_type": "markdown",
   "id": "9adcde36",
   "metadata": {},
   "source": [
    "---\n",
    "\n",
    "Let's reinforce the previous rule with a few examples."
   ]
  },
  {
   "cell_type": "markdown",
   "id": "b6c12929",
   "metadata": {},
   "source": [
    "Let's break down the broadcasting process for these operands:\n",
    "\n",
    "- `[[1, 2]]`: This tensor has dimensions (1, 2). To match the dimensions of `[[1], [2]]`, which are (2, 1), it's broadcasted by repeating its single row twice, resulting in `[[1, 2], [1, 2]]`. \n",
    "- `[[1], [2]]`: This tensor has dimensions (2, 1). To match the dimensions of `[[1, 2]]`, it's broadcasted by repeating its single element in each row twice, resulting in `[[1, 1], [2, 2]]`.\n",
    "\n",
    "After that result is obvious."
   ]
  },
  {
   "cell_type": "code",
   "execution_count": 12,
   "id": "11d87d7b",
   "metadata": {},
   "outputs": [
    {
     "data": {
      "text/plain": [
       "tensor([[2, 3],\n",
       "        [3, 4]])"
      ]
     },
     "execution_count": 12,
     "metadata": {},
     "output_type": "execute_result"
    }
   ],
   "source": [
    "torch.tensor([[1,2]]) + torch.tensor([[1], [2]])"
   ]
  },
  {
   "cell_type": "markdown",
   "id": "47169335",
   "metadata": {},
   "source": [
    "Consider the following more complex 3-dimensional example with tensors:\n",
    "\n",
    "Tensor A:\n",
    "```python\n",
    "[\n",
    "    [\n",
    "        [1],\n",
    "        [2]\n",
    "    ],\n",
    "    [\n",
    "        [3],\n",
    "        [4]\n",
    "    ]\n",
    "]\n",
    "```\n",
    "has dimensions `(2, 2, 1)`.\n",
    "\n",
    "Tensor B:\n",
    "```python\n",
    "[\n",
    "    [\n",
    "        [1, 2],\n",
    "        [2, 3]\n",
    "    ]\n",
    "]\n",
    "```\n",
    "has dimensions `(1, 2, 2)`.\n",
    "\n",
    "To match the dimensions of Tensor B, we need to add extra elements to the rows of Tensor A, resulting in:\n",
    "```python\n",
    "[\n",
    "    [\n",
    "        [1, 1],\n",
    "        [2, 2]\n",
    "    ],\n",
    "    [\n",
    "        [3, 3],\n",
    "        [4, 4]\n",
    "    ]\n",
    "]\n",
    "```\n",
    "This gives Tensor A dimensions `(2, 2, 2)`.\n",
    "\n",
    "For Tensor B, we need to add extra layers to the third dimension by repeating its existing layer. The modified Tensor B becomes:\n",
    "```python\n",
    "[\n",
    "    [\n",
    "        [1, 2],\n",
    "        [2, 3]\n",
    "    ],\n",
    "    [\n",
    "        [1, 2],\n",
    "        [2, 3]\n",
    "    ]\n",
    "]\n",
    "```\n",
    "This gives Tensor B dimensions `(2, 2, 2)`.\n",
    "\n",
    "Finally, performing element-wise operations:"
   ]
  },
  {
   "cell_type": "code",
   "execution_count": 14,
   "id": "7f097e3f",
   "metadata": {},
   "outputs": [
    {
     "data": {
      "text/plain": [
       "tensor([[[2, 3],\n",
       "         [4, 5]],\n",
       "\n",
       "        [[4, 5],\n",
       "         [6, 7]]])"
      ]
     },
     "execution_count": 14,
     "metadata": {},
     "output_type": "execute_result"
    }
   ],
   "source": [
    "A = torch.tensor([\n",
    "    [\n",
    "        [1],\n",
    "        [2]\n",
    "    ],\n",
    "    [\n",
    "        [3],\n",
    "        [4]\n",
    "    ]\n",
    "])\n",
    "B = torch.tensor([\n",
    "    [\n",
    "        [1, 2],\n",
    "        [2, 3]\n",
    "    ]\n",
    "])\n",
    "\n",
    "A + B"
   ]
  },
  {
   "cell_type": "markdown",
   "id": "feba8f24",
   "metadata": {},
   "source": [
    "## Practical example\n",
    "\n",
    "Normalizing data can be achieved efficiently and easily using broadcasting techniques. Imagine we have four objects, each represented by a 3x3 matrix.  This gives us a three-dimensional tensor containing these matrices. However, each object has a different base value.  The following code snippet generates and prints such a tensor: "
   ]
  },
  {
   "cell_type": "code",
   "execution_count": 146,
   "id": "a09f87f0",
   "metadata": {},
   "outputs": [
    {
     "data": {
      "text/plain": [
       "tensor([[[  12.8460,   11.6038,    8.2267],\n",
       "         [  13.3707,   13.0595,    9.3532],\n",
       "         [  10.6257,   10.8800,    5.5372]],\n",
       "\n",
       "        [[ 102.3054,   98.2987,   89.9491],\n",
       "         [ 103.9013,   98.5896,   98.1971],\n",
       "         [ 106.4493,   98.1544,   96.3743]],\n",
       "\n",
       "        [[ 501.0322,  499.2918,  504.5105],\n",
       "         [ 496.8454,  498.7290,  499.3281],\n",
       "         [ 499.4231,  504.0831,  499.4671]],\n",
       "\n",
       "        [[ 997.9377, 1001.2782, 1005.9980],\n",
       "         [ 999.5461, 1001.3517,  997.5663],\n",
       "         [1003.1572,  999.6476, 1001.6178]]])"
      ]
     },
     "execution_count": 146,
     "metadata": {},
     "output_type": "execute_result"
    }
   ],
   "source": [
    "value = torch.stack([\n",
    "    torch.normal(mean=mean, std=3., size=(3, 3))\n",
    "    for mean in [10, 100, 500, 1000]\n",
    "])\n",
    "value"
   ]
  },
  {
   "cell_type": "markdown",
   "id": "b1fa7d95",
   "metadata": {},
   "source": [
    "Let's say we want to standardize all of these objects, meaning we want to bring them to zero mean and unit variance."
   ]
  },
  {
   "cell_type": "markdown",
   "id": "c4af36e3",
   "metadata": {},
   "source": [
    "First, we need to calculate the mean and standard deviation for each object we're considering. "
   ]
  },
  {
   "cell_type": "code",
   "execution_count": 147,
   "id": "579b54b7",
   "metadata": {},
   "outputs": [
    {
     "name": "stdout",
     "output_type": "stream",
     "text": [
      "tensor([[[  10.6114]],\n",
      "\n",
      "        [[  99.1355]],\n",
      "\n",
      "        [[ 500.3011]],\n",
      "\n",
      "        [[1000.9001]]])\n",
      "tensor([[[2.5660]],\n",
      "\n",
      "        [[4.7580]],\n",
      "\n",
      "        [[2.5100]],\n",
      "\n",
      "        [[2.6277]]])\n"
     ]
    }
   ],
   "source": [
    "mean = value.mean(axis=[1,2], keepdim=True)\n",
    "print(mean)\n",
    "std = value.std(axis=[1,2], keepdim=True)\n",
    "print(std)"
   ]
  },
  {
   "cell_type": "markdown",
   "id": "89f81577",
   "metadata": {},
   "source": [
    "The result is two vectors, each containing a value for every object in the input array. These vectors have the same dimensionality as the objects themselves - the `keepdim=True` argument ensures this. "
   ]
  },
  {
   "cell_type": "markdown",
   "id": "9d404957",
   "metadata": {},
   "source": [
    "Now, by subtracting the means from the original arrays and dividing the result by the standard deviations, we've effectively scaled all the objects to the same scale. "
   ]
  },
  {
   "cell_type": "code",
   "execution_count": 148,
   "id": "6e824fce",
   "metadata": {},
   "outputs": [
    {
     "data": {
      "text/plain": [
       "tensor([[[ 0.8708,  0.3867, -0.9293],\n",
       "         [ 1.0753,  0.9540, -0.4904],\n",
       "         [ 0.0056,  0.1047, -1.9775]],\n",
       "\n",
       "        [[ 0.6662, -0.1759, -1.9307],\n",
       "         [ 1.0016, -0.1147, -0.1972],\n",
       "         [ 1.5372, -0.2062, -0.5803]],\n",
       "\n",
       "        [[ 0.2912, -0.4021,  1.6770],\n",
       "         [-1.3768, -0.6263, -0.3877],\n",
       "         [-0.3498,  1.5068, -0.3323]],\n",
       "\n",
       "        [[-1.1274,  0.1439,  1.9401],\n",
       "         [-0.5153,  0.1719, -1.2687],\n",
       "         [ 0.8590, -0.4767,  0.2731]]])"
      ]
     },
     "execution_count": 148,
     "metadata": {},
     "output_type": "execute_result"
    }
   ],
   "source": [
    "(value - mean)/std"
   ]
  }
 ],
 "metadata": {
  "kernelspec": {
   "display_name": "Python 3 (ipykernel)",
   "language": "python",
   "name": "python3"
  },
  "language_info": {
   "codemirror_mode": {
    "name": "ipython",
    "version": 3
   },
   "file_extension": ".py",
   "mimetype": "text/x-python",
   "name": "python",
   "nbconvert_exporter": "python",
   "pygments_lexer": "ipython3",
   "version": "3.10.12"
  }
 },
 "nbformat": 4,
 "nbformat_minor": 5
}
