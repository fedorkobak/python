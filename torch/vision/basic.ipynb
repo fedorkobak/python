{
 "cells": [
  {
   "cell_type": "markdown",
   "id": "5d160f66-81f8-42a8-8d67-fc0fc001f93b",
   "metadata": {},
   "source": [
    "# Basic\n",
    "\n",
    "Here are the basics of working with images in Torch."
   ]
  },
  {
   "cell_type": "code",
   "execution_count": 2,
   "id": "a57c7f4b-e880-4f8d-aded-a039bbf73f28",
   "metadata": {},
   "outputs": [],
   "source": [
    "import numpy as np\n",
    "\n",
    "from PIL import Image\n",
    "\n",
    "import torchvision\n",
    "from torchvision import transforms\n",
    "\n",
    "from IPython import display\n",
    "\n",
    "import matplotlib.pyplot as plt"
   ]
  },
  {
   "cell_type": "markdown",
   "id": "ec899ebb-0b9f-443f-8e68-547788e79efd",
   "metadata": {},
   "source": [
    "## Load image"
   ]
  },
  {
   "cell_type": "markdown",
   "id": "7eb573bc-c10b-4a31-bc45-64534417f4d0",
   "metadata": {},
   "source": [
    "The `PIL` library can be used to load images. For example, we will use a really simple small picture to see patterns in the matrix representation of the picture. So in the following cell I load and display the picture that will be used:"
   ]
  },
  {
   "cell_type": "code",
   "execution_count": 6,
   "id": "fadf4819-0184-4a21-aace-fe3b493f8194",
   "metadata": {},
   "outputs": [
    {
     "data": {
      "image/png": "[encoded data removed]",
      "text/plain": [
       "<PIL.PngImagePlugin.PngImageFile image mode=RGB size=8x10 at 0x7F1BED37A170>"
      ]
     },
     "execution_count": 6,
     "metadata": {},
     "output_type": "execute_result"
    }
   ],
   "source": [
    "simple_image_path = \"basic_files/test_picture.png\"\n",
    "image = Image.open(simple_image_path)\n",
    "image"
   ]
  },
  {
   "cell_type": "markdown",
   "id": "134371f2-b219-45be-9421-5f124eb812a4",
   "metadata": {},
   "source": [
    "The picture is very small, so it can be difficult to understand what exactly is on the picture. In the following cell I use matplotlib to dispalay interpolation of the picture:"
   ]
  },
  {
   "cell_type": "code",
   "execution_count": 7,
   "id": "a24c21db-18a3-49fa-aaab-ef8a7c2c8d17",
   "metadata": {},
   "outputs": [
    {
     "data": {
      "image/png": "[encoded data removed]",
      "text/plain": [
       "<Figure size 640x480 with 1 Axes>"
      ]
     },
     "metadata": {},
     "output_type": "display_data"
    }
   ],
   "source": [
    "plt.imshow(\n",
    "    plt.imread(simple_image_path, format = \"jpg\"), \n",
    "    interpolation='nearest'\n",
    ")\n",
    "plt.xticks([])\n",
    "plt.yticks([])\n",
    "plt.show()"
   ]
  },
  {
   "cell_type": "markdown",
   "id": "9250ffe7-829b-4ae8-a7ac-aed5d2b404a6",
   "metadata": {},
   "source": [
    "And now let's tranfrom picture to the torch tensor. I deliberately kept the picture using only 3 colour channels. So now we can see the tensor of dimension `(3, <picture width>, <picture height>)`, that literaly follows the pattern of the picture. "
   ]
  },
  {
   "cell_type": "code",
   "execution_count": 8,
   "id": "17a61ed8-6674-43c6-8203-fd058015d85b",
   "metadata": {},
   "outputs": [
    {
     "data": {
      "text/plain": [
       "tensor([[[1.0000, 0.0000, 0.0000, 0.0000, 1.0000, 0.0980, 0.2000, 0.2980],\n",
       "         [1.0000, 0.0000, 0.0000, 0.0000, 1.0000, 0.0980, 0.2000, 0.2980],\n",
       "         [1.0000, 0.0000, 0.0000, 0.0000, 1.0000, 0.0980, 0.2000, 0.2980],\n",
       "         [1.0000, 0.0000, 0.0000, 0.0000, 1.0000, 0.0980, 0.2000, 0.2980],\n",
       "         [1.0000, 0.0000, 0.0000, 0.0000, 1.0000, 0.0980, 0.2000, 0.2980],\n",
       "         [1.0000, 0.0000, 0.0000, 0.0000, 1.0000, 0.0980, 0.2000, 0.2980],\n",
       "         [1.0000, 0.0000, 0.0000, 0.0000, 1.0000, 0.0980, 0.2000, 0.2980],\n",
       "         [1.0000, 0.0000, 0.0000, 0.0000, 1.0000, 0.0980, 0.2000, 0.2980],\n",
       "         [1.0000, 0.0000, 0.0000, 0.0000, 1.0000, 0.0980, 0.2000, 0.2980],\n",
       "         [1.0000, 0.0000, 0.0000, 0.0000, 1.0000, 0.0980, 0.2000, 0.2980]],\n",
       "\n",
       "        [[0.0000, 1.0000, 0.0000, 0.0000, 1.0000, 0.0980, 0.2000, 0.2980],\n",
       "         [0.0000, 1.0000, 0.0000, 0.0000, 1.0000, 0.0980, 0.2000, 0.2980],\n",
       "         [0.0000, 1.0000, 0.0000, 0.0000, 1.0000, 0.0980, 0.2000, 0.2980],\n",
       "         [0.0000, 1.0000, 0.0000, 0.0000, 1.0000, 0.0980, 0.2000, 0.2980],\n",
       "         [0.0000, 1.0000, 0.0000, 0.0000, 1.0000, 0.0980, 0.2000, 0.2980],\n",
       "         [0.0000, 1.0000, 0.0000, 0.0000, 1.0000, 0.0980, 0.2000, 0.2980],\n",
       "         [0.0000, 1.0000, 0.0000, 0.0000, 1.0000, 0.0980, 0.2000, 0.2980],\n",
       "         [0.0000, 1.0000, 0.0000, 0.0000, 1.0000, 0.0980, 0.2000, 0.2980],\n",
       "         [0.0000, 1.0000, 0.0000, 0.0000, 1.0000, 0.0980, 0.2000, 0.2980],\n",
       "         [0.0000, 1.0000, 0.0000, 0.0000, 1.0000, 0.0980, 0.2000, 0.2980]],\n",
       "\n",
       "        [[0.0000, 0.0000, 1.0000, 0.0000, 1.0000, 0.0980, 0.2000, 0.2980],\n",
       "         [0.0000, 0.0000, 1.0000, 0.0000, 1.0000, 0.0980, 0.2000, 0.2980],\n",
       "         [0.0000, 0.0000, 1.0000, 0.0000, 1.0000, 0.0980, 0.2000, 0.2980],\n",
       "         [0.0000, 0.0000, 1.0000, 0.0000, 1.0000, 0.0980, 0.2000, 0.2980],\n",
       "         [0.0000, 0.0000, 1.0000, 0.0000, 1.0000, 0.0980, 0.2000, 0.2980],\n",
       "         [0.0000, 0.0000, 1.0000, 0.0000, 1.0000, 0.0980, 0.2000, 0.2980],\n",
       "         [0.0000, 0.0000, 1.0000, 0.0000, 1.0000, 0.0980, 0.2000, 0.2980],\n",
       "         [0.0000, 0.0000, 1.0000, 0.0000, 1.0000, 0.0980, 0.2000, 0.2980],\n",
       "         [0.0000, 0.0000, 1.0000, 0.0000, 1.0000, 0.0980, 0.2000, 0.2980],\n",
       "         [0.0000, 0.0000, 1.0000, 0.0000, 1.0000, 0.0980, 0.2000, 0.2980]]])"
      ]
     },
     "execution_count": 8,
     "metadata": {},
     "output_type": "execute_result"
    }
   ],
   "source": [
    "transforms.ToTensor()(image)"
   ]
  },
  {
   "cell_type": "markdown",
   "id": "066524f3-c142-4e06-b843-861593202dc5",
   "metadata": {},
   "source": [
    "## Image sample normalisation"
   ]
  },
  {
   "cell_type": "code",
   "execution_count": 16,
   "id": "0c7c5e16-e823-45d1-aada-061d0e0bdaf4",
   "metadata": {},
   "outputs": [
    {
     "name": "stdout",
     "output_type": "stream",
     "text": [
      "Files already downloaded and verified\n"
     ]
    }
   ],
   "source": [
    "cifar10 = torchvision.datasets.CIFAR10(\n",
    "    \"cifar10\",\n",
    "    download = True,\n",
    "    transform = transforms.ToTensor()\n",
    ")"
   ]
  },
  {
   "cell_type": "code",
   "execution_count": 17,
   "id": "a75ddedd-de76-48ff-af5e-8fab623d6b18",
   "metadata": {},
   "outputs": [
    {
     "name": "stdout",
     "output_type": "stream",
     "text": [
      "means [0.49139968 0.48215841 0.44653091]\n",
      "stds [0.24703223 0.24348513 0.26158784]\n"
     ]
    }
   ],
   "source": [
    "means = (cifar10.data / 255).mean(axis = (0,1,2))\n",
    "print(\"means\", means)\n",
    "stds = (cifar10.data / 255).std(axis = (0,1,2))\n",
    "print(\"stds\", stds)"
   ]
  },
  {
   "cell_type": "raw",
   "id": "39eec854-4e36-4a46-8eb4-a357569e4f80",
   "metadata": {},
   "source": [
    "transforms.Normalize(mean = means, std = stds)(torch.tensor(cifar10.data / 255))"
   ]
  }
 ],
 "metadata": {
  "kernelspec": {
   "display_name": "Python 3 (ipykernel)",
   "language": "python",
   "name": "python3"
  },
  "language_info": {
   "codemirror_mode": {
    "name": "ipython",
    "version": 3
   },
   "file_extension": ".py",
   "mimetype": "text/x-python",
   "name": "python",
   "nbconvert_exporter": "python",
   "pygments_lexer": "ipython3",
   "version": "3.10.12"
  }
 },
 "nbformat": 4,
 "nbformat_minor": 5
}
