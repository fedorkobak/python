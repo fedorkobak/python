{
 "cells": [
  {
   "cell_type": "markdown",
   "id": "45485ad2-cc5f-4051-bd25-3bd00ffa5273",
   "metadata": {},
   "source": [
    "# Redis\n",
    "\n",
    "Python has a special API to interact with redis. Here are some examples of how to use it. There is a special [dedicated to redis page](../../other/redis.ipynb), there you can learn more about it's datatypes and operations on them. This page focuses on options to use it with python programms."
   ]
  },
  {
   "cell_type": "code",
   "execution_count": 6,
   "id": "dfde1855",
   "metadata": {},
   "outputs": [],
   "source": [
    "import redis"
   ]
  },
  {
   "cell_type": "markdown",
   "id": "9498e469-0797-42ea-9e0d-f658bff90b20",
   "metadata": {},
   "source": [
    "## Redis client\n",
    "\n",
    "Interaction with redis is performed through a special object - redis client. Find out more in [specific page](redis/redis_client.ipynb)."
   ]
  },
  {
   "cell_type": "markdown",
   "id": "3e0a32cd",
   "metadata": {},
   "source": [
    "---\n",
    "\n",
    "The following cell creates such an object."
   ]
  },
  {
   "cell_type": "code",
   "execution_count": 8,
   "id": "c8713847-851d-46e4-81b8-6adc044a3ee3",
   "metadata": {},
   "outputs": [
    {
     "data": {
      "text/plain": [
       "redis.client.Redis"
      ]
     },
     "execution_count": 8,
     "metadata": {},
     "output_type": "execute_result"
    }
   ],
   "source": [
    "redis_client = redis.Redis()\n",
    "type(redis_client)"
   ]
  },
  {
   "cell_type": "markdown",
   "id": "23954174",
   "metadata": {},
   "source": [
    "You can retrieve the connection settings through the `redis.client.Redis.connection_pool.connection_kwargs` attribute."
   ]
  },
  {
   "cell_type": "code",
   "execution_count": 9,
   "id": "525f84cd",
   "metadata": {},
   "outputs": [
    {
     "data": {
      "text/plain": [
       "{'db': 0,\n",
       " 'username': None,\n",
       " 'password': None,\n",
       " 'socket_timeout': None,\n",
       " 'encoding': 'utf-8',\n",
       " 'encoding_errors': 'strict',\n",
       " 'decode_responses': False,\n",
       " 'retry_on_error': [],\n",
       " 'retry': None,\n",
       " 'health_check_interval': 0,\n",
       " 'client_name': None,\n",
       " 'redis_connect_func': None,\n",
       " 'credential_provider': None,\n",
       " 'host': 'localhost',\n",
       " 'port': 6379,\n",
       " 'socket_connect_timeout': None,\n",
       " 'socket_keepalive': None,\n",
       " 'socket_keepalive_options': None}"
      ]
     },
     "execution_count": 9,
     "metadata": {},
     "output_type": "execute_result"
    }
   ],
   "source": [
    "redis_client.connection_pool.connection_kwargs"
   ]
  },
  {
   "cell_type": "markdown",
   "id": "7e7ec092",
   "metadata": {},
   "source": [
    "Finally, don't forget to close the redis client."
   ]
  },
  {
   "cell_type": "code",
   "execution_count": 2,
   "id": "8a207fad",
   "metadata": {},
   "outputs": [],
   "source": [
    "redis_client.close()"
   ]
  },
  {
   "cell_type": "markdown",
   "id": "181301f4",
   "metadata": {},
   "source": [
    "## Save value\n",
    "\n",
    "You can store a specific value as a string in Redis using the `set` method. To retrieve this value, use the `get` method."
   ]
  },
  {
   "cell_type": "markdown",
   "id": "3d8aa953",
   "metadata": {},
   "source": [
    "---\n",
    "\n",
    "The following cell adds the value 25 to Redis under the key `value`. "
   ]
  },
  {
   "cell_type": "code",
   "execution_count": 4,
   "id": "16f54905",
   "metadata": {},
   "outputs": [
    {
     "data": {
      "text/plain": [
       "True"
      ]
     },
     "execution_count": 4,
     "metadata": {},
     "output_type": "execute_result"
    }
   ],
   "source": [
    "redis_client.set(\"value\", 25)"
   ]
  },
  {
   "cell_type": "markdown",
   "id": "47c7f992",
   "metadata": {},
   "source": [
    "Now lets check if value really added to redis."
   ]
  },
  {
   "cell_type": "code",
   "execution_count": 5,
   "id": "017a467e",
   "metadata": {},
   "outputs": [
    {
     "name": "stdout",
     "output_type": "stream",
     "text": [
      "\"25\"\n"
     ]
    }
   ],
   "source": [
    "!redis-cli GET value"
   ]
  },
  {
   "cell_type": "markdown",
   "id": "2437f666",
   "metadata": {},
   "source": [
    "And same operation but from python client."
   ]
  },
  {
   "cell_type": "code",
   "execution_count": 6,
   "id": "6ace7606",
   "metadata": {},
   "outputs": [
    {
     "data": {
      "text/plain": [
       "b'25'"
      ]
     },
     "execution_count": 6,
     "metadata": {},
     "output_type": "execute_result"
    }
   ],
   "source": [
    "redis_client.get(\"value\")"
   ]
  },
  {
   "cell_type": "markdown",
   "id": "1465fe1f",
   "metadata": {},
   "source": [
    "Let's remove the value we saved from Redis."
   ]
  },
  {
   "cell_type": "code",
   "execution_count": 7,
   "id": "f56ac570",
   "metadata": {},
   "outputs": [
    {
     "data": {
      "text/plain": [
       "1"
      ]
     },
     "execution_count": 7,
     "metadata": {},
     "output_type": "execute_result"
    }
   ],
   "source": [
    "redis_client.delete(\"value\")"
   ]
  },
  {
   "cell_type": "markdown",
   "id": "918095b2",
   "metadata": {},
   "source": [
    "However, attempting to access a non-existent key will not result in an error; it will simply return `None`."
   ]
  },
  {
   "cell_type": "code",
   "execution_count": 9,
   "id": "c39f3fc0",
   "metadata": {},
   "outputs": [
    {
     "data": {
      "text/plain": [
       "True"
      ]
     },
     "execution_count": 9,
     "metadata": {},
     "output_type": "execute_result"
    }
   ],
   "source": [
    "redis_client.get(\"value\") is None"
   ]
  },
  {
   "cell_type": "markdown",
   "id": "e218e232",
   "metadata": {},
   "source": [
    "## Save list\n",
    "\n",
    "Redis also supports a list data structure. You can save a Python list using the `rpush` method and retrieve it using the `lrange` method. "
   ]
  },
  {
   "cell_type": "markdown",
   "id": "688a90cf",
   "metadata": {},
   "source": [
    "---\n",
    "\n",
    "The following cell demonstrates how to push a Python list to Redis. "
   ]
  },
  {
   "cell_type": "code",
   "execution_count": 16,
   "id": "65b46e14",
   "metadata": {},
   "outputs": [
    {
     "data": {
      "text/plain": [
       "5"
      ]
     },
     "execution_count": 16,
     "metadata": {},
     "output_type": "execute_result"
    }
   ],
   "source": [
    "lst = [\"a\", \"b\", \"c\", \"d\", \"e\"]\n",
    "redis_client.rpush(\"python-list\", *lst)"
   ]
  },
  {
   "cell_type": "markdown",
   "id": "f4f55a41",
   "metadata": {},
   "source": [
    "Let's check if our Python list actually exists in Redis. "
   ]
  },
  {
   "cell_type": "code",
   "execution_count": 17,
   "id": "ace6bbf7",
   "metadata": {},
   "outputs": [
    {
     "name": "stdout",
     "output_type": "stream",
     "text": [
      "1) \"a\"\n",
      "2) \"b\"\n",
      "3) \"c\"\n",
      "4) \"d\"\n",
      "5) \"e\"\n"
     ]
    }
   ],
   "source": [
    "!redis-cli LRANGE python-list 0 -1"
   ]
  },
  {
   "cell_type": "markdown",
   "id": "0189bf80",
   "metadata": {},
   "source": [
    "Or same `lrange` method in Python to retrieve the list from Redis: "
   ]
  },
  {
   "cell_type": "code",
   "execution_count": 18,
   "id": "fe7301d8",
   "metadata": {},
   "outputs": [
    {
     "data": {
      "text/plain": [
       "[b'a', b'b', b'c', b'd', b'e']"
      ]
     },
     "execution_count": 18,
     "metadata": {},
     "output_type": "execute_result"
    }
   ],
   "source": [
    "redis_client.lrange(\"python-list\", 0, -1)"
   ]
  },
  {
   "cell_type": "markdown",
   "id": "29000fe7",
   "metadata": {},
   "source": [
    "Let's clean up Redis after our experiments."
   ]
  },
  {
   "cell_type": "code",
   "execution_count": 14,
   "id": "5eafe8d9",
   "metadata": {},
   "outputs": [
    {
     "data": {
      "text/plain": [
       "1"
      ]
     },
     "execution_count": 14,
     "metadata": {},
     "output_type": "execute_result"
    }
   ],
   "source": [
    "redis_client.delete(\"python-list\")"
   ]
  },
  {
   "cell_type": "markdown",
   "id": "feadba23-aa39-45a9-b0ef-88ffcf701ccc",
   "metadata": {},
   "source": [
    "## Save dictionary\n",
    "\n",
    "These python clients usually have methods that correspond to functions in the Redis database. So let us try to create `zset` using the `zadd` method."
   ]
  },
  {
   "cell_type": "code",
   "execution_count": 2,
   "id": "98028734-f358-4206-8b76-2872507ffac7",
   "metadata": {},
   "outputs": [
    {
     "data": {
      "text/plain": [
       "5"
      ]
     },
     "execution_count": 2,
     "metadata": {},
     "output_type": "execute_result"
    }
   ],
   "source": [
    "redis_client.zadd(\n",
    "    \"animal-weights\", \n",
    "    {\n",
    "        \"elephant\": 50, \n",
    "        \"lion\": 20, \n",
    "        \"giraffe\": 30, \n",
    "        \"cheetah\": 10, \n",
    "        \"rhinoceros\": 40\n",
    "    }\n",
    ")"
   ]
  },
  {
   "cell_type": "markdown",
   "id": "7eaef8e2-cf90-4431-a7ec-72392ea3b080",
   "metadata": {},
   "source": [
    "Now you can access the zset you just created from the redis command line."
   ]
  },
  {
   "cell_type": "code",
   "execution_count": 3,
   "id": "83c66018-d561-4ff5-88f7-2baf34695c7d",
   "metadata": {},
   "outputs": [
    {
     "name": "stdout",
     "output_type": "stream",
     "text": [
      " 1) \"cheetah\"\n",
      " 2) \"10\"\n",
      " 3) \"lion\"\n",
      " 4) \"20\"\n",
      " 5) \"giraffe\"\n",
      " 6) \"30\"\n",
      " 7) \"rhinoceros\"\n",
      " 8) \"40\"\n",
      " 9) \"elephant\"\n",
      "10) \"50\"\n"
     ]
    }
   ],
   "source": [
    "!redis-cli ZRANGE animal-weights 0 -1 withscores"
   ]
  },
  {
   "cell_type": "markdown",
   "id": "179cdeb8-fbee-4262-b245-3f7e4a060639",
   "metadata": {},
   "source": [
    "Or use it's equivalent in python."
   ]
  },
  {
   "cell_type": "code",
   "execution_count": 4,
   "id": "b9a2fe4d-7dfc-42c8-a5f3-b7430839bbe7",
   "metadata": {},
   "outputs": [
    {
     "data": {
      "text/plain": [
       "[(b'cheetah', 10.0),\n",
       " (b'lion', 20.0),\n",
       " (b'giraffe', 30.0),\n",
       " (b'rhinoceros', 40.0),\n",
       " (b'elephant', 50.0)]"
      ]
     },
     "execution_count": 4,
     "metadata": {},
     "output_type": "execute_result"
    }
   ],
   "source": [
    "redis_client.zrange(\"animal-weights\", 0, -1, withscores=True)"
   ]
  },
  {
   "cell_type": "markdown",
   "id": "6356cfb3-6541-44a8-b143-1555577a0ad9",
   "metadata": {},
   "source": [
    "To remove the garbage from the global redis environment, we'll delete the set we just created."
   ]
  },
  {
   "cell_type": "code",
   "execution_count": 5,
   "id": "b8debbe0-77bc-4842-af1f-bd09545acbe5",
   "metadata": {},
   "outputs": [
    {
     "data": {
      "text/plain": [
       "1"
      ]
     },
     "execution_count": 5,
     "metadata": {},
     "output_type": "execute_result"
    }
   ],
   "source": [
    "redis_client.delete(\"animal-weights\")"
   ]
  }
 ],
 "metadata": {
  "kernelspec": {
   "display_name": "Python 3 (ipykernel)",
   "language": "python",
   "name": "python3"
  },
  "language_info": {
   "codemirror_mode": {
    "name": "ipython",
    "version": 3
   },
   "file_extension": ".py",
   "mimetype": "text/x-python",
   "name": "python",
   "nbconvert_exporter": "python",
   "pygments_lexer": "ipython3",
   "version": "3.10.12"
  }
 },
 "nbformat": 4,
 "nbformat_minor": 5
}
