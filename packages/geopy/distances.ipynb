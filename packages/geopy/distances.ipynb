{
 "cells": [
  {
   "cell_type": "markdown",
   "id": "7a1e3d5e-6101-4659-8799-b41d134a1039",
   "metadata": {},
   "source": [
    "# Distances\n",
    "\n",
    "<a href=\"https://geopy.readthedocs.io/en/stable/#module-geopy.distance\">Geopy calculate distances</a>.\n",
    "\n",
    "Geopy provides a tool for calculating distances on maps."
   ]
  },
  {
   "cell_type": "code",
   "execution_count": 3,
   "id": "b4f0802e-c53f-4628-9163-7449538db266",
   "metadata": {},
   "outputs": [],
   "source": [
    "from geopy import distance\n",
    "from geopy.geocoders import Nominatim "
   ]
  },
  {
   "cell_type": "markdown",
   "id": "9a979b99-2a28-49db-b4b8-689a6a9de933",
   "metadata": {},
   "source": [
    "## Compution\n",
    "\n",
    "You need to use the `geopy.distance.distance` function to calculate the distance between two points. In the following example the distance between Minsk and Molodechno has been calculated - it looks quite close."
   ]
  },
  {
   "cell_type": "code",
   "execution_count": 20,
   "id": "404f5702-a493-48a4-be11-5e7f30d67ba4",
   "metadata": {},
   "outputs": [
    {
     "name": "stdout",
     "output_type": "stream",
     "text": [
      "Minsk<->Molodechno distance is 64.89474666491046 km\n"
     ]
    }
   ],
   "source": [
    "geolocator = Nominatim(user_agent = \"knowledge\")\n",
    "\n",
    "location1 = geolocator.geocode(\"Minsk\")\n",
    "location2 = geolocator.geocode(\"Molodechno\")\n",
    "\n",
    "my_distance = distance.distance(\n",
    "    (location1.latitude, location1.longitude),\n",
    "    (location2.latitude, location2.longitude)\n",
    ")\n",
    "print(f\"Minsk<->Molodechno distance is {my_distance.kilometers} km\")"
   ]
  },
  {
   "cell_type": "markdown",
   "id": "95fb333b-d6e2-468b-a8f8-9b66fbe6c6ff",
   "metadata": {},
   "source": [
    "## Distance object\n",
    "\n",
    "`geopy.distance.distance` returns an object of type `geopy.distance.geodesic`. The main properties of the object are displayed in the following cell."
   ]
  },
  {
   "cell_type": "code",
   "execution_count": 25,
   "id": "6c471fe7-7e04-4e66-b366-af5bdde7775e",
   "metadata": {},
   "outputs": [
    {
     "name": "stdout",
     "output_type": "stream",
     "text": [
      "ELLIPSOID\n",
      "destination\n",
      "ellipsoid_key\n",
      "feet\n",
      "ft\n",
      "geod\n",
      "kilometers\n",
      "km\n",
      "m\n",
      "measure\n",
      "meters\n",
      "mi\n",
      "miles\n",
      "nautical\n",
      "nm\n",
      "set_ellipsoid\n"
     ]
    }
   ],
   "source": [
    "for field in dir(my_distance):\n",
    "    if field[0] != \"_\":\n",
    "        print(field)"
   ]
  }
 ],
 "metadata": {
  "kernelspec": {
   "display_name": "Python 3 (ipykernel)",
   "language": "python",
   "name": "python3"
  },
  "language_info": {
   "codemirror_mode": {
    "name": "ipython",
    "version": 3
   },
   "file_extension": ".py",
   "mimetype": "text/x-python",
   "name": "python",
   "nbconvert_exporter": "python",
   "pygments_lexer": "ipython3",
   "version": "3.10.6"
  }
 },
 "nbformat": 4,
 "nbformat_minor": 5
}
