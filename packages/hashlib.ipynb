{
 "cells": [
  {
   "cell_type": "markdown",
   "id": "f8377c64-1eee-4a00-9557-ee55f61eff78",
   "metadata": {},
   "source": [
    "# Hashlib\n",
    "\n",
    "Hashlib is a library for creating hashes in Python."
   ]
  },
  {
   "cell_type": "markdown",
   "id": "69fbe4a6-f353-4d58-b0a3-086596409ae1",
   "metadata": {},
   "source": [
    "## Basic exmaples"
   ]
  },
  {
   "cell_type": "markdown",
   "id": "af738be2-502b-41a5-8266-f0e57d10fb02",
   "metadata": {},
   "source": [
    "You need to select the hash algorithm which is available in `hashlib` and pass bytes to be hashed. And call `hexdigest` method from the result."
   ]
  },
  {
   "cell_type": "code",
   "execution_count": 1,
   "id": "9d048aed-417b-41ec-8209-d956916abc7c",
   "metadata": {},
   "outputs": [
    {
     "data": {
      "text/plain": [
       "'5d41402abc4b2a76b9719d911017c592'"
      ]
     },
     "execution_count": 1,
     "metadata": {},
     "output_type": "execute_result"
    }
   ],
   "source": [
    "import hashlib\n",
    "hashlib.md5(b\"hello\").hexdigest()"
   ]
  },
  {
   "cell_type": "markdown",
   "id": "d078c704-596b-418d-94b0-273df9bcdfde",
   "metadata": {},
   "source": [
    "To use `hashlib` with string variables, convert them to bytes using the `str.encode` method."
   ]
  },
  {
   "cell_type": "code",
   "execution_count": 2,
   "id": "0ecee73e-e142-47e0-ac63-22f7ac233602",
   "metadata": {},
   "outputs": [
    {
     "data": {
      "text/plain": [
       "'5d41402abc4b2a76b9719d911017c592'"
      ]
     },
     "execution_count": 2,
     "metadata": {},
     "output_type": "execute_result"
    }
   ],
   "source": [
    "import hashlib\n",
    "hashlib.md5(\"hello\".encode()).hexdigest()"
   ]
  },
  {
   "cell_type": "markdown",
   "id": "f95e2dcd-192d-473b-9a4e-de82e5797300",
   "metadata": {},
   "source": [
    "To apply `hashlib` to a numeric variable, simply apply the `bytes` function to the number in question. Gotten object can be used as argument to `hashlib`."
   ]
  },
  {
   "cell_type": "code",
   "execution_count": 9,
   "id": "e6ffd05f-9a71-4da0-bc6d-acb907c5d439",
   "metadata": {},
   "outputs": [
    {
     "data": {
      "text/plain": [
       "'a63c90cc3684ad8b0a2176a6a8fe9005'"
      ]
     },
     "execution_count": 9,
     "metadata": {},
     "output_type": "execute_result"
    }
   ],
   "source": [
    "import hashlib\n",
    "numeric_value = 10\n",
    "hashlib.md5(bytes(numeric_value)).hexdigest()"
   ]
  },
  {
   "cell_type": "markdown",
   "id": "d8f2b253-0528-4b8e-b005-b85c8156b85a",
   "metadata": {},
   "source": [
    "## Sample split\n",
    "\n",
    "There is a nice application of hashes in statistics - you can generate independent and reproducible grouping. For unique identifiers of your records you just generate hashes, convert them to `int` and use the remainder of the division to get the identifier of the group. It can be particularly useful for A/B testing."
   ]
  },
  {
   "cell_type": "markdown",
   "id": "5cc130f1-2022-4690-825d-4537ac707c74",
   "metadata": {},
   "source": [
    "So just use the `int` function for the result of applying the hash function and specify the type of `int` as the second argument - for the unique identifier of the sample you will get a unique number."
   ]
  },
  {
   "cell_type": "code",
   "execution_count": 48,
   "id": "2aedcdaa-5704-4bb6-add7-aab8e1b67f9e",
   "metadata": {},
   "outputs": [
    {
     "name": "stdout",
     "output_type": "stream",
     "text": [
      "hash a63c90cc3684ad8b0a2176a6a8fe9005\n",
      "number 220966321958208791582980441802673131525\n"
     ]
    }
   ],
   "source": [
    "import hashlib\n",
    "numeric_value = 10\n",
    "\n",
    "hash = hashlib.md5(bytes(numeric_value)).hexdigest()\n",
    "print(\"hash\", hash)\n",
    "print(\"number\", int(hash, 16))"
   ]
  },
  {
   "cell_type": "markdown",
   "id": "3595ffd5-aeff-400f-84a5-509596cdf864",
   "metadata": {},
   "source": [
    "The following example shows how to divide the sample into three almost equal groups - dividing the remainder by 3 will define the final group."
   ]
  },
  {
   "cell_type": "code",
   "execution_count": 52,
   "id": "95c9b2cb-646d-4976-a07f-5b6296e62e88",
   "metadata": {},
   "outputs": [
    {
     "data": {
      "text/html": [
       "<div>\n",
       "<style scoped>\n",
       "    .dataframe tbody tr th:only-of-type {\n",
       "        vertical-align: middle;\n",
       "    }\n",
       "\n",
       "    .dataframe tbody tr th {\n",
       "        vertical-align: top;\n",
       "    }\n",
       "\n",
       "    .dataframe thead th {\n",
       "        text-align: right;\n",
       "    }\n",
       "</style>\n",
       "<table border=\"1\" class=\"dataframe\">\n",
       "  <thead>\n",
       "    <tr style=\"text-align: right;\">\n",
       "      <th></th>\n",
       "      <th>proportion</th>\n",
       "    </tr>\n",
       "  </thead>\n",
       "  <tbody>\n",
       "    <tr>\n",
       "      <th>0</th>\n",
       "      <td>33.93</td>\n",
       "    </tr>\n",
       "    <tr>\n",
       "      <th>1</th>\n",
       "      <td>33.52</td>\n",
       "    </tr>\n",
       "    <tr>\n",
       "      <th>2</th>\n",
       "      <td>32.55</td>\n",
       "    </tr>\n",
       "  </tbody>\n",
       "</table>\n",
       "</div>"
      ],
      "text/plain": [
       "   proportion\n",
       "0       33.93\n",
       "1       33.52\n",
       "2       32.55"
      ]
     },
     "execution_count": 52,
     "metadata": {},
     "output_type": "execute_result"
    }
   ],
   "source": [
    "import numpy as np\n",
    "import pandas as pd\n",
    "\n",
    "np.random.seed(10)\n",
    "sample = np.random.normal(3, 10, 10000)\n",
    "groupbs_number = 3\n",
    "\n",
    "(pd.Series(\n",
    "    map(\n",
    "        lambda n: int(hashlib.md5(bytes(n)).hexdigest(), 16)%groupbs_number,\n",
    "        sample\n",
    "    )\n",
    ").value_counts(normalize=True)*100).to_frame()"
   ]
  },
  {
   "cell_type": "markdown",
   "id": "2298499a-d2ae-4235-9fdc-594c71fb9715",
   "metadata": {},
   "source": [
    "The following example divides the sample into 20/80 per cent proportions. We have just used a marker that is 100 more than 20. As you can see, we've divided the sample into groups of almost 20/80."
   ]
  },
  {
   "cell_type": "code",
   "execution_count": 55,
   "id": "9d663fae-8b11-4ba0-938a-7ff8eb999605",
   "metadata": {},
   "outputs": [
    {
     "data": {
      "text/html": [
       "<div>\n",
       "<style scoped>\n",
       "    .dataframe tbody tr th:only-of-type {\n",
       "        vertical-align: middle;\n",
       "    }\n",
       "\n",
       "    .dataframe tbody tr th {\n",
       "        vertical-align: top;\n",
       "    }\n",
       "\n",
       "    .dataframe thead th {\n",
       "        text-align: right;\n",
       "    }\n",
       "</style>\n",
       "<table border=\"1\" class=\"dataframe\">\n",
       "  <thead>\n",
       "    <tr style=\"text-align: right;\">\n",
       "      <th></th>\n",
       "      <th>proportion</th>\n",
       "    </tr>\n",
       "  </thead>\n",
       "  <tbody>\n",
       "    <tr>\n",
       "      <th>True</th>\n",
       "      <td>79.44</td>\n",
       "    </tr>\n",
       "    <tr>\n",
       "      <th>False</th>\n",
       "      <td>20.56</td>\n",
       "    </tr>\n",
       "  </tbody>\n",
       "</table>\n",
       "</div>"
      ],
      "text/plain": [
       "       proportion\n",
       "True        79.44\n",
       "False       20.56"
      ]
     },
     "execution_count": 55,
     "metadata": {},
     "output_type": "execute_result"
    }
   ],
   "source": [
    "import numpy as np\n",
    "import pandas as pd\n",
    "\n",
    "np.random.seed(10)\n",
    "sample = np.random.normal(3, 10, 10000)\n",
    "groupbs_number = 3\n",
    "\n",
    "(pd.Series(\n",
    "    map(\n",
    "        lambda n: (int(hashlib.md5(bytes(n)).hexdigest(), 16)%100) > 20,\n",
    "        sample\n",
    "    )\n",
    ").value_counts(normalize=True)*100).to_frame()"
   ]
  }
 ],
 "metadata": {
  "kernelspec": {
   "display_name": "Python 3 (ipykernel)",
   "language": "python",
   "name": "python3"
  },
  "language_info": {
   "codemirror_mode": {
    "name": "ipython",
    "version": 3
   },
   "file_extension": ".py",
   "mimetype": "text/x-python",
   "name": "python",
   "nbconvert_exporter": "python",
   "pygments_lexer": "ipython3",
   "version": "3.10.12"
  }
 },
 "nbformat": 4,
 "nbformat_minor": 5
}
