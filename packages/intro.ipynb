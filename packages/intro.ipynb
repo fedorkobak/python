{
 "cells": [
  {
   "cell_type": "markdown",
   "metadata": {},
   "source": [
    "# Packages\n",
    "\n",
    "The main feature of Python is its extensive collection of packages that enhance its functionality. On this page, we will explore various aspects of working with some of these packages.\n",
    "\n",
    "**Note:** Some packages have dedicated sections."
   ]
  },
  {
   "cell_type": "markdown",
   "metadata": {},
   "source": [
    "The table below lists the most useful python packages whose names are easy to forgot.\n",
    "\n",
    "| Package         | Purpose / Goal                                  | Install Command             | Docs Link                                       |\n",
    "| --------------- | ----------------------------------------------- | --------------------------- | ----------------------------------------------- |\n",
    "| `pyperclip`     | Copy/paste clipboard cross-platform             | `pip install pyperclip`     | [Docs](https://pypi.org/project/pyperclip/)     |\n",
    "| `python-dotenv` | Load `.env` file into environment variables     | `pip install python-dotenv` | [Docs](https://pypi.org/project/python-dotenv/) |\n",
    "| `rich`          | Pretty terminal output (text, tables, markdown) | `pip install rich`          | [Docs](https://rich.readthedocs.io/)            |\n",
    "| `typer`         | Build beautiful CLI apps with minimal code      | `pip install typer`         | [Docs](https://typer.tiangolo.com/)             |\n",
    "| `pydantic`      | Data validation and parsing using Python types  | `pip install pydantic`      | [Docs](https://docs.pydantic.dev/)              |\n",
    "| `httpx`         | Modern async/sync HTTP client                   | `pip install httpx`         | [Docs](https://www.python-httpx.org/)           |\n",
    "| `schedule`      | Lightweight job scheduler                       | `pip install schedule`      | [Docs](https://schedule.readthedocs.io/)        |\n",
    "| `watchdog`      | Watch for file system changes                   | `pip install watchdog`      | [Docs](https://python-watchdog.readthedocs.io/) |\n",
    "| `click`         | Create command-line interfaces                  | `pip install click`         | [Docs](https://click.palletsprojects.com/)      |\n",
    "| `loguru`        | Super simple logging                            | `pip install loguru`        | [Docs](https://loguru.readthedocs.io/)          |\n",
    "| `tabulate`      | Format tables in plain text                     | `pip install tabulate`      | [Docs](https://pypi.org/project/tabulate/)      |\n",
    "| `tqdm`          | Add progress bars to loops                      | `pip install tqdm`          | [Docs](https://tqdm.github.io/)                 |\n",
    "| `colorama`      | Cross-platform terminal colors                  | `pip install colorama`      | [Docs](https://pypi.org/project/colorama/)      |\n",
    "| `validators`    | Validate emails, URLs, IPs, etc.                | `pip install validators`    | [Docs](https://validators.readthedocs.io/)      |\n",
    "| `filetype`      | Guess file type by content, not extension       | `pip install filetype`      | [Docs](https://pypi.org/project/filetype/)      |\n",
    "| `humanize`      | Convert numbers/dates to human-readable formats | `pip install humanize`      | [Docs](https://pypi.org/project/humanize/)      |\n",
    "| `yaspin`        | Pretty terminal spinners                        | `pip install yaspin`        | [Docs](https://github.com/pavdmyt/yaspin)       |\n",
    "| `icecream`      | Debug print with context (like `ic()`)          | `pip install icecream`      | [Docs](https://github.com/gruns/icecream)       |\n",
    "| `dateparser`    | Parse natural language dates                    | `pip install dateparser`    | [Docs](https://dateparser.readthedocs.io/)      |\n",
    "| `shortuuid`     | Short, URL-safe UUIDs                           | `pip install shortuuid`     | [Docs](https://pypi.org/project/shortuuid/)     |\n"
   ]
  },
  {
   "cell_type": "markdown",
   "metadata": {
    "vscode": {
     "languageId": "plaintext"
    }
   },
   "source": [
    "## tqdm\n",
    "\n",
    "`tqdm` is a package that allows to create progress bars in the terminal using pseudographics. For more details check [specific page](tqdm.ipynb)."
   ]
  },
  {
   "cell_type": "markdown",
   "metadata": {},
   "source": [
    "---\n",
    "\n",
    "The following cell demonstrates typical usage of `tqdm`. The `tqdm.tqdm` object wraps an iterable in a `for` loop, so each iteration of the loop increments the progress bar by 1."
   ]
  },
  {
   "cell_type": "code",
   "execution_count": 5,
   "metadata": {},
   "outputs": [
    {
     "name": "stderr",
     "output_type": "stream",
     "text": [
      "my bar: 100%|███████████████████████████████████████████████████| 10/10 [00:00<00:00, 257319.26it/s]\n"
     ]
    }
   ],
   "source": [
    "import tqdm\n",
    "for i in tqdm.tqdm(range(10), ncols=100, desc=\"my bar\"): i"
   ]
  },
  {
   "cell_type": "markdown",
   "metadata": {},
   "source": [
    "## zipfile\n",
    "\n",
    "`zipfile` is a package that allows you to operate on ZIP archives in Python."
   ]
  },
  {
   "cell_type": "markdown",
   "metadata": {},
   "source": [
    "---\n",
    "\n",
    "As an example, we'll create a ZIP file using a Linux command line, and then unpack that archive using Python.\n",
    "\n",
    "The following cell is creating file that we'll use as example."
   ]
  },
  {
   "cell_type": "code",
   "execution_count": 17,
   "metadata": {},
   "outputs": [
    {
     "name": "stdout",
     "output_type": "stream",
     "text": [
      "  adding: zip_example_file (stored 0%)\n"
     ]
    }
   ],
   "source": [
    "%%bash\n",
    "echo \"zipped message\" > zip_example_file\n",
    "zip -r archive.zip zip_example_file\n",
    "rm zip_example_file"
   ]
  },
  {
   "cell_type": "markdown",
   "metadata": {},
   "source": [
    "Now, using `zipfile.ZipFile`, we'll open the created archive and extract all its contents to the current directory."
   ]
  },
  {
   "cell_type": "code",
   "execution_count": 18,
   "metadata": {},
   "outputs": [],
   "source": [
    "from zipfile import ZipFile\n",
    "with ZipFile(\"archive.zip\") as f:\n",
    "    f.extractall(\".\")"
   ]
  },
  {
   "cell_type": "markdown",
   "metadata": {},
   "source": [
    "Now we can check the contents of the extracted file - it the same like during creation."
   ]
  },
  {
   "cell_type": "code",
   "execution_count": 19,
   "metadata": {},
   "outputs": [
    {
     "name": "stdout",
     "output_type": "stream",
     "text": [
      "zipped message\n"
     ]
    }
   ],
   "source": [
    "!cat zip_example_file"
   ]
  },
  {
   "cell_type": "markdown",
   "metadata": {},
   "source": [
    "After everything is done, don't forget to clear the environment."
   ]
  },
  {
   "cell_type": "code",
   "execution_count": 20,
   "metadata": {},
   "outputs": [],
   "source": [
    "%%bash\n",
    "rm -r zip_example_file archive.zip"
   ]
  },
  {
   "cell_type": "markdown",
   "metadata": {},
   "source": [
    "## Psutil\n",
    "\n",
    "`psutil` is a package that allows you to get in python program information about the harware resources used by a Python program. Check details in the [documentation](https://psutil.readthedocs.io/en/latest/) of the tool."
   ]
  },
  {
   "cell_type": "markdown",
   "metadata": {},
   "source": [
    "---\n",
    "\n",
    "The following cell shows code to get information about the RAM used by the program."
   ]
  },
  {
   "cell_type": "code",
   "execution_count": 13,
   "metadata": {},
   "outputs": [
    {
     "data": {
      "text/plain": [
       "62.97265625"
      ]
     },
     "execution_count": 13,
     "metadata": {},
     "output_type": "execute_result"
    }
   ],
   "source": [
    "import psutil\n",
    "process = psutil.Process()\n",
    "(process.memory_info().rss / (1024**2))"
   ]
  },
  {
   "cell_type": "markdown",
   "metadata": {},
   "source": [
    "To make sure that it really works, the following cell creates a large object and counts the RAM used by the process."
   ]
  },
  {
   "cell_type": "code",
   "execution_count": 14,
   "metadata": {},
   "outputs": [
    {
     "data": {
      "text/plain": [
       "318.97265625"
      ]
     },
     "execution_count": 14,
     "metadata": {},
     "output_type": "execute_result"
    }
   ],
   "source": [
    "ans = [0 for i in range(2**25)]\n",
    "(process.memory_full_info().rss / (1024**2))"
   ]
  },
  {
   "cell_type": "markdown",
   "metadata": {},
   "source": [
    "Now the number is much larger. Finally, delete the large object and measure the RAM again."
   ]
  },
  {
   "cell_type": "code",
   "execution_count": 15,
   "metadata": {},
   "outputs": [
    {
     "data": {
      "text/plain": [
       "63.171875"
      ]
     },
     "execution_count": 15,
     "metadata": {},
     "output_type": "execute_result"
    }
   ],
   "source": [
    "del ans\n",
    "(process.memory_full_info().rss / (1024**2))"
   ]
  },
  {
   "cell_type": "markdown",
   "metadata": {},
   "source": [
    "## APScheduler\n",
    "\n",
    "APScheduler is a package that allows to start and controll processes that will do some jobs according to some triggers.\n",
    "\n",
    "For more check:\n",
    "\n",
    "- Official [APScheduler documentation](https://apscheduler.readthedocs.io/en/3.x/index.html). \n",
    "- [Corresponding page](apscheduler.ipynb) on this website."
   ]
  },
  {
   "cell_type": "markdown",
   "metadata": {},
   "source": [
    "---\n",
    "\n",
    "The following cell shows how to run the simplest `BackgroundScheduler`. This code will start a process that prints the current time to the console every 3 seconds."
   ]
  },
  {
   "cell_type": "code",
   "execution_count": 1,
   "metadata": {},
   "outputs": [
    {
     "name": "stdout",
     "output_type": "stream",
     "text": [
      "11:54:38.109044\n",
      "11:54:41.108479\n",
      "11:54:44.108156\n",
      "11:54:47.108562\n",
      "11:54:50.108621\n",
      "11:54:53.108557\n"
     ]
    }
   ],
   "source": [
    "from datetime import datetime\n",
    "from apscheduler.schedulers.background import BackgroundScheduler\n",
    "def periodic_task():\n",
    "    print(datetime.now().time())\n",
    "\n",
    "scheduler = BackgroundScheduler()\n",
    "scheduler.add_job(periodic_task, \"interval\", seconds=3)\n",
    "scheduler.start()"
   ]
  },
  {
   "cell_type": "markdown",
   "metadata": {},
   "source": [
    "Stop the scheduler using the `shutdown` method."
   ]
  },
  {
   "cell_type": "code",
   "execution_count": 2,
   "metadata": {},
   "outputs": [],
   "source": [
    "scheduler.shutdown()"
   ]
  },
  {
   "cell_type": "markdown",
   "metadata": {},
   "source": [
    "## Hugging face\n",
    "\n",
    "Hugging Face is a site that allows you to publish and download models. It’s convenient because you can automate the process using Python scripting. For this, you need the `huggingface-hub` package. Aspects of working with it are discussed on this page.\n",
    "\n",
    "The first thing you need to do is log in:\n",
    "\n",
    "`huggingface-cli login --token <your HF token>`"
   ]
  }
 ],
 "metadata": {
  "kernelspec": {
   "display_name": "knowledge",
   "language": "python",
   "name": "python3"
  },
  "language_info": {
   "codemirror_mode": {
    "name": "ipython",
    "version": 3
   },
   "file_extension": ".py",
   "mimetype": "text/x-python",
   "name": "python",
   "nbconvert_exporter": "python",
   "pygments_lexer": "ipython3",
   "version": "3.12.8"
  }
 },
 "nbformat": 4,
 "nbformat_minor": 2
}
