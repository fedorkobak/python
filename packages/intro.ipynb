{
 "cells": [
  {
   "cell_type": "markdown",
   "metadata": {},
   "source": [
    "# Packages\n",
    "\n",
    "The main feature of Python is its extensive collection of packages that enhance its functionality. On this page, we will explore various aspects of working with some of these packages.\n",
    "\n",
    "**Note:** Some packages have dedicated sections."
   ]
  },
  {
   "cell_type": "markdown",
   "metadata": {},
   "source": [
    "The table below lists the most useful python packages whose names are easy to forgot.\n",
    "\n",
    "| Package         | Purpose / Goal                                  | Install Command             | Docs Link                                       |\n",
    "| --------------- | ----------------------------------------------- | --------------------------- | ----------------------------------------------- |\n",
    "| `pyperclip`     | Copy/paste clipboard cross-platform             | `pip install pyperclip`     | [Docs](https://pypi.org/project/pyperclip/)     |\n",
    "| `python-dotenv` | Load `.env` file into environment variables     | `pip install python-dotenv` | [Docs](https://pypi.org/project/python-dotenv/) |\n",
    "| `rich`          | Pretty terminal output (text, tables, markdown) | `pip install rich`          | [Docs](https://rich.readthedocs.io/)            |\n",
    "| `typer`         | Build beautiful CLI apps with minimal code      | `pip install typer`         | [Docs](https://typer.tiangolo.com/)             |\n",
    "| `pydantic`      | Data validation and parsing using Python types  | `pip install pydantic`      | [Docs](https://docs.pydantic.dev/)              |\n",
    "| `httpx`         | Modern async/sync HTTP client                   | `pip install httpx`         | [Docs](https://www.python-httpx.org/)           |\n",
    "| `schedule`      | Lightweight job scheduler                       | `pip install schedule`      | [Docs](https://schedule.readthedocs.io/)        |\n",
    "| `watchdog`      | Watch for file system changes                   | `pip install watchdog`      | [Docs](https://python-watchdog.readthedocs.io/) |\n",
    "| `click`         | Create command-line interfaces                  | `pip install click`         | [Docs](https://click.palletsprojects.com/)      |\n",
    "| `loguru`        | Super simple logging                            | `pip install loguru`        | [Docs](https://loguru.readthedocs.io/)          |\n",
    "| `tabulate`      | Format tables in plain text                     | `pip install tabulate`      | [Docs](https://pypi.org/project/tabulate/)      |\n",
    "| `tqdm`          | Add progress bars to loops                      | `pip install tqdm`          | [Docs](https://tqdm.github.io/)                 |\n",
    "| `colorama`      | Cross-platform terminal colors                  | `pip install colorama`      | [Docs](https://pypi.org/project/colorama/)      |\n",
    "| `validators`    | Validate emails, URLs, IPs, etc.                | `pip install validators`    | [Docs](https://validators.readthedocs.io/)      |\n",
    "| `filetype`      | Guess file type by content, not extension       | `pip install filetype`      | [Docs](https://pypi.org/project/filetype/)      |\n",
    "| `humanize`      | Convert numbers/dates to human-readable formats | `pip install humanize`      | [Docs](https://pypi.org/project/humanize/)      |\n",
    "| `yaspin`        | Pretty terminal spinners                        | `pip install yaspin`        | [Docs](https://github.com/pavdmyt/yaspin)       |\n",
    "| `icecream`      | Debug print with context (like `ic()`)          | `pip install icecream`      | [Docs](https://github.com/gruns/icecream)       |\n",
    "| `dateparser`    | Parse natural language dates                    | `pip install dateparser`    | [Docs](https://dateparser.readthedocs.io/)      |\n",
    "| `shortuuid`     | Short, URL-safe UUIDs                           | `pip install shortuuid`     | [Docs](https://pypi.org/project/shortuuid/)     |\n"
   ]
  },
  {
   "cell_type": "markdown",
   "metadata": {
    "vscode": {
     "languageId": "plaintext"
    }
   },
   "source": [
    "## tqdm\n",
    "\n",
    "`tqdm` is a package that allows to create progress bars in the terminal using pseudographics. For more details check [specific page](tqdm.ipynb)."
   ]
  },
  {
   "cell_type": "markdown",
   "metadata": {},
   "source": [
    "---\n",
    "\n",
    "The following cell demonstrates typical usage of `tqdm`. The `tqdm.tqdm` object wraps an iterable in a `for` loop, so each iteration of the loop increments the progress bar by 1."
   ]
  },
  {
   "cell_type": "code",
   "execution_count": 3,
   "metadata": {},
   "outputs": [
    {
     "name": "stderr",
     "output_type": "stream",
     "text": [
      "my bar: 100%|███████████████████████████████████████████████████| 10/10 [00:00<00:00, 120180.63it/s]\n"
     ]
    }
   ],
   "source": [
    "import tqdm\n",
    "for _ in tqdm.tqdm(range(10), ncols=100, desc=\"my bar\"): pass"
   ]
  },
  {
   "cell_type": "markdown",
   "metadata": {},
   "source": [
    "## zipfile\n",
    "\n",
    "`zipfile` is a package that allows you to operate on ZIP archives in Python."
   ]
  },
  {
   "cell_type": "markdown",
   "metadata": {},
   "source": [
    "---\n",
    "\n",
    "As an example, we'll create a ZIP file using a Linux command line, and then unpack that archive using Python.\n",
    "\n",
    "The following cell is creating file that we'll use as example."
   ]
  },
  {
   "cell_type": "code",
   "execution_count": 17,
   "metadata": {},
   "outputs": [
    {
     "name": "stdout",
     "output_type": "stream",
     "text": [
      "  adding: zip_example_file (stored 0%)\n"
     ]
    }
   ],
   "source": [
    "%%bash\n",
    "echo \"zipped message\" > zip_example_file\n",
    "zip -r archive.zip zip_example_file\n",
    "rm zip_example_file"
   ]
  },
  {
   "cell_type": "markdown",
   "metadata": {},
   "source": [
    "Now, using `zipfile.ZipFile`, we'll open the created archive and extract all its contents to the current directory."
   ]
  },
  {
   "cell_type": "code",
   "execution_count": 18,
   "metadata": {},
   "outputs": [],
   "source": [
    "from zipfile import ZipFile\n",
    "with ZipFile(\"archive.zip\") as f:\n",
    "    f.extractall(\".\")"
   ]
  },
  {
   "cell_type": "markdown",
   "metadata": {},
   "source": [
    "Now we can check the contents of the extracted file - it the same like during creation."
   ]
  },
  {
   "cell_type": "code",
   "execution_count": 19,
   "metadata": {},
   "outputs": [
    {
     "name": "stdout",
     "output_type": "stream",
     "text": [
      "zipped message\n"
     ]
    }
   ],
   "source": [
    "!cat zip_example_file"
   ]
  },
  {
   "cell_type": "markdown",
   "metadata": {},
   "source": [
    "After everything is done, don't forget to clear the environment."
   ]
  },
  {
   "cell_type": "code",
   "execution_count": 20,
   "metadata": {},
   "outputs": [],
   "source": [
    "%%bash\n",
    "rm -r zip_example_file archive.zip"
   ]
  },
  {
   "cell_type": "markdown",
   "metadata": {},
   "source": [
    "## Psutil\n",
    "\n",
    "`psutil` is a package that allows you to get in python program information about the harware resources used by a Python program. Check details in the [documentation](https://psutil.readthedocs.io/en/latest/) of the tool."
   ]
  },
  {
   "cell_type": "markdown",
   "metadata": {},
   "source": [
    "---\n",
    "\n",
    "The following cell shows code to get information about the RAM used by the program."
   ]
  },
  {
   "cell_type": "code",
   "execution_count": 13,
   "metadata": {},
   "outputs": [
    {
     "data": {
      "text/plain": [
       "62.97265625"
      ]
     },
     "execution_count": 13,
     "metadata": {},
     "output_type": "execute_result"
    }
   ],
   "source": [
    "import psutil\n",
    "process = psutil.Process()\n",
    "(process.memory_info().rss / (1024**2))"
   ]
  },
  {
   "cell_type": "markdown",
   "metadata": {},
   "source": [
    "To make sure that it really works, the following cell creates a large object and counts the RAM used by the process."
   ]
  },
  {
   "cell_type": "code",
   "execution_count": null,
   "metadata": {},
   "outputs": [
    {
     "data": {
      "text/plain": [
       "318.97265625"
      ]
     },
     "execution_count": 14,
     "metadata": {},
     "output_type": "execute_result"
    }
   ],
   "source": [
    "ans = [0 for _ in range(2**25)]\n",
    "(process.memory_full_info().rss / (1024**2))"
   ]
  },
  {
   "cell_type": "markdown",
   "metadata": {},
   "source": [
    "Now the number is much larger. Finally, delete the large object and measure the RAM again."
   ]
  },
  {
   "cell_type": "code",
   "execution_count": 15,
   "metadata": {},
   "outputs": [
    {
     "data": {
      "text/plain": [
       "63.171875"
      ]
     },
     "execution_count": 15,
     "metadata": {},
     "output_type": "execute_result"
    }
   ],
   "source": [
    "del ans\n",
    "(process.memory_full_info().rss / (1024**2))"
   ]
  },
  {
   "cell_type": "markdown",
   "metadata": {},
   "source": [
    "## APScheduler\n",
    "\n",
    "APScheduler is a package that allows to start and controll processes that will do some jobs according to some triggers.\n",
    "\n",
    "For more check:\n",
    "\n",
    "- Official [APScheduler documentation](https://apscheduler.readthedocs.io/en/3.x/index.html). \n",
    "- [Corresponding page](apscheduler.ipynb) on this website."
   ]
  },
  {
   "cell_type": "markdown",
   "metadata": {},
   "source": [
    "---\n",
    "\n",
    "The following cell shows how to run the simplest `BackgroundScheduler`. This code will start a process that prints the current time to the console every 3 seconds."
   ]
  },
  {
   "cell_type": "code",
   "execution_count": 1,
   "metadata": {},
   "outputs": [
    {
     "name": "stdout",
     "output_type": "stream",
     "text": [
      "11:54:38.109044\n",
      "11:54:41.108479\n",
      "11:54:44.108156\n",
      "11:54:47.108562\n",
      "11:54:50.108621\n",
      "11:54:53.108557\n"
     ]
    }
   ],
   "source": [
    "from datetime import datetime\n",
    "from apscheduler.schedulers.background import BackgroundScheduler\n",
    "def periodic_task():\n",
    "    print(datetime.now().time())\n",
    "\n",
    "scheduler = BackgroundScheduler()\n",
    "scheduler.add_job(periodic_task, \"interval\", seconds=3)\n",
    "scheduler.start()"
   ]
  },
  {
   "cell_type": "markdown",
   "metadata": {},
   "source": [
    "Stop the scheduler using the `shutdown` method."
   ]
  },
  {
   "cell_type": "code",
   "execution_count": 2,
   "metadata": {},
   "outputs": [],
   "source": [
    "scheduler.shutdown()"
   ]
  },
  {
   "cell_type": "markdown",
   "metadata": {},
   "source": [
    "## Drawsvg\n",
    "\n",
    "`drawsvg` is a package that allows you to describe SVG graphics with python code. Check out the [Drawsvg quick reference](https://cduck.github.io/drawsvg/).\n",
    "\n",
    "The following table represents the basic features of the `drawsvg` package:\n",
    "\n",
    "| Category          | Function / Class             | Description                                    |\n",
    "|-------------------|------------------------------|------------------------------------------------|\n",
    "| **Drawing**       | `drawsvg.Drawing`            | Create a drawing container.                    |\n",
    "|                   | `Drawing.append`             | Append elements to the drawing.                |\n",
    "|                   | `Drawing.to_svg`             | Export as an SVG string.                       |\n",
    "|                   | `Drawing.save_svg`           | Save SVG directly to file.                     |\n",
    "|                   | `Drawing.save_png`           | Export as PNG (requires `cairosvg`).           |\n",
    "| **Composition**   | `drawsvg.Group`              | Group multiple elements (`<g>`).               |\n",
    "|                   | `drawsvg.Use`                | Reuse elements by reference (`<use>`).         |\n",
    "| **Shapes**        | `drawsvg.Rectangle`          | Draw rectangles.                               |\n",
    "|                   | `drawsvg.Circle`             | Draw circles.                                  |\n",
    "|                   | `drawsvg.Ellipse`            | Draw ellipses.                                 |\n",
    "|                   | `drawsvg.Line`               | Draw straight lines.                           |\n",
    "|                   | `drawsvg.Polygon`            | Draw polygons.                                 |\n",
    "|                   | `drawsvg.Path`               | Freeform path drawing.                         |\n",
    "| **Text**          | `drawsvg.Text`               | Add text elements.                             |\n",
    "| **Transformations** | `drawsvg.Translate`        | Apply translation transform.                   |\n",
    "|                   | `drawsvg.Scale`              | Apply scaling transform.                       |\n",
    "|                   | `drawsvg.Rotate`             | Apply rotation transform.                      |\n",
    "|                   | `element.set_transform`      | Set transform on an element.                   |\n",
    "| **Accessibility** | `element.append_title`       | Add title (tooltip).                           |\n",
    "|                   | `element.append_desc`        | Add description (for accessibility/metadata).  |"
   ]
  },
  {
   "cell_type": "markdown",
   "metadata": {},
   "source": [
    "---\n",
    "\n",
    "The following cell shows how to draw a cross on a red background using svg."
   ]
  },
  {
   "cell_type": "code",
   "execution_count": 1,
   "metadata": {},
   "outputs": [
    {
     "data": {
      "image/svg+xml": [
       "<?xml version=\"1.0\" encoding=\"UTF-8\"?>\n",
       "<svg xmlns=\"http://www.w3.org/2000/svg\" xmlns:xlink=\"http://www.w3.org/1999/xlink\"\n",
       "     width=\"500\" height=\"500\" viewBox=\"0 0 500 500\">\n",
       "<defs>\n",
       "</defs>\n",
       "<rect x=\"10\" y=\"10\" width=\"490\" height=\"490\" fill=\"red\" />\n",
       "<path d=\"M50,450 L450,50\" stroke=\"black\" stroke-width=\"10\" />\n",
       "<path d=\"M50,50 L450,450\" stroke=\"black\" stroke-width=\"10\" />\n",
       "</svg>"
      ],
      "text/plain": [
       "<drawsvg.drawing.Drawing at 0x792ca64daa50>"
      ]
     },
     "execution_count": 1,
     "metadata": {},
     "output_type": "execute_result"
    }
   ],
   "source": [
    "import drawsvg as dw\n",
    "d = dw.Drawing(500, 500)\n",
    "d.append(dw.Rectangle(10, 10, 490, 490, fill=\"red\"))\n",
    "d.append(dw.Line(50, 450, 450, 50, stroke='black', stroke_width=10))\n",
    "d.append(dw.Line(50, 50, 450, 450, stroke='black', stroke_width=10))\n",
    "d"
   ]
  },
  {
   "cell_type": "markdown",
   "metadata": {},
   "source": [
    "As you can see, Jupyter knows how to represent the results of the drawsvg library."
   ]
  },
  {
   "cell_type": "markdown",
   "metadata": {},
   "source": [
    "For me, it's typically important to be able to load the corresponding SVG code. Do that with `as_svg` method of the drawsvg canvas."
   ]
  },
  {
   "cell_type": "code",
   "execution_count": 2,
   "metadata": {},
   "outputs": [
    {
     "name": "stdout",
     "output_type": "stream",
     "text": [
      "<?xml version=\"1.0\" encoding=\"UTF-8\"?>\n",
      "<svg xmlns=\"http://www.w3.org/2000/svg\" xmlns:xlink=\"http://www.w3.org/1999/xlink\"\n",
      "     width=\"500\" height=\"500\" viewBox=\"0 0 500 500\">\n",
      "<defs>\n",
      "</defs>\n",
      "<rect x=\"10\" y=\"10\" width=\"490\" height=\"490\" fill=\"red\" />\n",
      "<path d=\"M50,450 L450,50\" stroke=\"black\" stroke-width=\"10\" />\n",
      "<path d=\"M50,50 L450,450\" stroke=\"black\" stroke-width=\"10\" />\n",
      "</svg>\n"
     ]
    }
   ],
   "source": [
    "print(d.as_svg())"
   ]
  },
  {
   "cell_type": "markdown",
   "metadata": {},
   "source": [
    "### Viewbox\n",
    "\n",
    "Applying a viewbox can be a bit confusing. This is because original SVG syntax allows for some flexibility. In `drawsvg`, you have to specify exactly `viewBox` name (camel naming) and enter the value as a sting with four numbers separated by the space."
   ]
  },
  {
   "cell_type": "markdown",
   "metadata": {},
   "source": [
    "---\n",
    "\n",
    "The following cell illustrates the use of the `viewBox`. It sets the viewbox to display only a corner of the rectangle added later."
   ]
  },
  {
   "cell_type": "code",
   "execution_count": 40,
   "metadata": {},
   "outputs": [
    {
     "data": {
      "image/svg+xml": [
       "<?xml version=\"1.0\" encoding=\"UTF-8\"?>\n",
       "<svg xmlns=\"http://www.w3.org/2000/svg\" xmlns:xlink=\"http://www.w3.org/1999/xlink\"\n",
       "     width=\"200\" height=\"200\" viewBox=\"-10 -10 100 100\">\n",
       "<defs>\n",
       "</defs>\n",
       "<rect x=\"0\" y=\"0\" width=\"200\" height=\"200\" fill=\"none\" stroke-width=\"20\" stroke=\"black\" />\n",
       "</svg>"
      ],
      "text/plain": [
       "<drawsvg.drawing.Drawing at 0x792ca553c550>"
      ]
     },
     "execution_count": 40,
     "metadata": {},
     "output_type": "execute_result"
    }
   ],
   "source": [
    "d = dw.Drawing(width=200, height=200, viewBox=\"-10 -10 100 100\")\n",
    "d.append(dw.Rectangle(\n",
    "    0, 0, 200, 200,\n",
    "    fill=\"none\",\n",
    "    stroke_width=20,\n",
    "    stroke=\"black\"\n",
    "))\n",
    "d"
   ]
  },
  {
   "cell_type": "markdown",
   "metadata": {},
   "source": [
    "## Gradio\n",
    "\n",
    "Gradio is an instrument that allows you to build simple user interfaces for taking some input and immediate output. It is ideal for prototyping the machine leaning models, but can also be used in more generally."
   ]
  },
  {
   "cell_type": "markdown",
   "metadata": {},
   "source": [
    "---\n",
    "\n",
    "The following cell shows the `gradio` hello world and an approach to visualizing the output in a jupyter notebook."
   ]
  },
  {
   "cell_type": "code",
   "execution_count": 3,
   "metadata": {},
   "outputs": [
    {
     "name": "stdout",
     "output_type": "stream",
     "text": [
      "* Running on local URL:  http://127.0.0.1:7860\n",
      "* To create a public link, set `share=True` in `launch()`.\n"
     ]
    },
    {
     "data": {
      "text/html": [
       "<div><iframe src=\"http://127.0.0.1:7860/\" width=\"100%\" height=\"500\" allow=\"autoplay; camera; microphone; clipboard-read; clipboard-write;\" frameborder=\"0\" allowfullscreen></iframe></div>"
      ],
      "text/plain": [
       "<IPython.core.display.HTML object>"
      ]
     },
     "metadata": {},
     "output_type": "display_data"
    },
    {
     "data": {
      "text/plain": []
     },
     "execution_count": 3,
     "metadata": {},
     "output_type": "execute_result"
    }
   ],
   "source": [
    "import gradio as gr\n",
    "\n",
    "def greet(name: str) -> str:\n",
    "    return f\"Hello {name}!\"\n",
    "\n",
    "demo = gr.Interface(fn=greet, inputs=\"text\", outputs=\"text\")\n",
    "demo.launch(inline=True)"
   ]
  },
  {
   "cell_type": "markdown",
   "metadata": {},
   "source": [
    "## AWS SDK\n",
    "\n",
    "The AWS SDK for Python is the `boto3` package.\n",
    "\n",
    "Obviously, you need a aws subscription to use the `boto3`. Fortunately, if you just familiarise yourself with the API you, can use the [`moto`](https://docs.getmoto.org/en/latest/) package, which mocks the behaviour of `boto3`.\n",
    "\n",
    "The following table lists and describes the key components of the `boto3` package.\n",
    "\n",
    "| Entity                | Description                                                            | Abstraction Level | Typical Use                                                            | Notes                                                                           |\n",
    "| :-------------------- | :--------------------------------------------------------------------- | :---------------- | :--------------------------------------------------------------------- | :------------------------------------------------------------------------------ |\n",
    "| **Client**            | Low-level interface that directly maps to AWS API operations.          | Low               | Perform AWS operations with full control over request parameters.      | Follows AWS API 1:1; returns plain dictionaries (no objects).                   |\n",
    "| **Resource**          | Higher-level, object-oriented abstraction built on top of clients.     | High              | Work with AWS resources as Python objects instead of manual API calls. | Not all AWS services support resources; auto-manages pagination and references. |\n",
    "| **Collection**        | Iterable abstraction that groups related resources.                    | Medium            | Iterate or filter groups of resources.                                 | Returned by resource properties (e.g. `buckets.all()`, `objects.filter()`).     |\n",
    "| **Resource Instance** | Represents a single AWS resource (e.g., an S3 bucket or EC2 instance). | High              | Access attributes or perform actions on that specific resource.        | Exposes both attributes and actions of the AWS resource.                        |\n",
    "| **Resource Meta**     | Holds low-level metadata about a resource.                             | N/A               | Access client and configuration of a resource.                         | Often used to access the underlying client for unsupported operations.          |\n",
    "| **Waiter**            | Utility that polls AWS APIs until a resource reaches a desired state.  | Medium            | Wait for resources to be created, updated, or deleted.                 | Built into clients; waits for specific conditions.                              |\n",
    "| **Paginator**         | Handles paginated API responses automatically.                         | Medium            | Iterate through results that span multiple pages.                      | Available via clients and some resources.                                       |"
   ]
  },
  {
   "cell_type": "markdown",
   "metadata": {},
   "source": [
    "---\n",
    "\n",
    "The following cell shows the `region` which is specified in my `~/.aws/config` file."
   ]
  },
  {
   "cell_type": "code",
   "execution_count": 1,
   "metadata": {},
   "outputs": [
    {
     "name": "stdout",
     "output_type": "stream",
     "text": [
      "us-east-1\n"
     ]
    }
   ],
   "source": [
    "import boto3\n",
    "from moto import mock_aws\n",
    "\n",
    "mock = mock_aws()\n",
    "mock.start()\n",
    "\n",
    "session = boto3.session.Session()\n",
    "print(session.region_name)\n",
    "\n",
    "mock.stop()"
   ]
  },
  {
   "cell_type": "markdown",
   "metadata": {},
   "source": [
    "### Moto\n",
    "\n",
    "[Moto](https://docs.getmoto.org/en/latest/) enables the behaviour of AWS services to be mocked."
   ]
  },
  {
   "cell_type": "markdown",
   "metadata": {},
   "source": [
    "---\n",
    "\n",
    "The following code creates an `s3` client and attemnts to list available buckets."
   ]
  },
  {
   "cell_type": "code",
   "execution_count": null,
   "metadata": {},
   "outputs": [
    {
     "name": "stdout",
     "output_type": "stream",
     "text": [
      "Unable to locate credentials\n"
     ]
    }
   ],
   "source": [
    "import boto3\n",
    "s3 = boto3.client(\"s3\", region_name=\"us-west-2\")\n",
    "\n",
    "try:\n",
    "    s3.list_buckets()\n",
    "except Exception as e:\n",
    "    print(e)"
   ]
  },
  {
   "cell_type": "markdown",
   "metadata": {},
   "source": [
    "The result there is an error message indicating that there are no AWS credentials have been provided."
   ]
  },
  {
   "cell_type": "markdown",
   "metadata": {},
   "source": [
    "The following cell uses the same `boto3` code wrapped by the `moto` mock."
   ]
  },
  {
   "cell_type": "code",
   "execution_count": 2,
   "metadata": {},
   "outputs": [
    {
     "name": "stdout",
     "output_type": "stream",
     "text": [
      "{'Buckets': [],\n",
      " 'Owner': {'DisplayName': 'webfile', 'ID': 'bcaf1ffd86f41161ca5fb16fd081034f'},\n",
      " 'ResponseMetadata': {'HTTPHeaders': {'content-type': 'application/xml',\n",
      "                                      'x-amzn-requestid': 'tzN0rrlVDe1F4epGGP0GictXAyeEdVvaFkcoMC97KHZ3sZqlrJ8p'},\n",
      "                      'HTTPStatusCode': 200,\n",
      "                      'RequestId': 'tzN0rrlVDe1F4epGGP0GictXAyeEdVvaFkcoMC97KHZ3sZqlrJ8p',\n",
      "                      'RetryAttempts': 0}}\n"
     ]
    }
   ],
   "source": [
    "from moto import mock_aws\n",
    "from pprint import pprint\n",
    "\n",
    "mock = mock_aws()\n",
    "mock.start()\n",
    "\n",
    "s3 = boto3.client(\"s3\", region_name=\"us-west-2\")\n",
    "pprint(s3.list_buckets())\n",
    "\n",
    "mock.stop()"
   ]
  },
  {
   "cell_type": "markdown",
   "metadata": {},
   "source": [
    "The result the is some kind of AWS answer."
   ]
  },
  {
   "cell_type": "markdown",
   "metadata": {},
   "source": [
    "---\n",
    "\n",
    "The following cell shows an example of creating a bucket (`some-bucket`), listing it and deleteting it. Moto somehow retains information about the behaviour of the bucket."
   ]
  },
  {
   "cell_type": "code",
   "execution_count": 3,
   "metadata": {},
   "outputs": [
    {
     "name": "stdout",
     "output_type": "stream",
     "text": [
      "[{'CreationDate': datetime.datetime(2025, 10, 20, 12, 8, 15, tzinfo=tzutc()),\n",
      "  'Name': 'some-bucket'}]\n"
     ]
    }
   ],
   "source": [
    "with mock_aws():\n",
    "    region = \"us-west-2\"\n",
    "    bucket_name = \"some-bucket\"\n",
    "\n",
    "    s3 = boto3.client(\"s3\", region_name=region)\n",
    "\n",
    "    location = {'LocationConstraint': region}\n",
    "    s3.create_bucket(\n",
    "        Bucket=bucket_name,\n",
    "        CreateBucketConfiguration=location\n",
    "    )\n",
    "\n",
    "    pprint(s3.list_buckets()[\"Buckets\"])\n",
    "\n",
    "    s3.delete_bucket(Bucket=bucket_name)"
   ]
  }
 ],
 "metadata": {
  "kernelspec": {
   "display_name": "python",
   "language": "python",
   "name": "python3"
  },
  "language_info": {
   "codemirror_mode": {
    "name": "ipython",
    "version": 3
   },
   "file_extension": ".py",
   "mimetype": "text/x-python",
   "name": "python",
   "nbconvert_exporter": "python",
   "pygments_lexer": "ipython3",
   "version": "3.13.7"
  }
 },
 "nbformat": 4,
 "nbformat_minor": 2
}
