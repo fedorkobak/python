{
 "cells": [
  {
   "cell_type": "markdown",
   "id": "9bde309f",
   "metadata": {},
   "source": [
    "# Feature engineering\n",
    "\n",
    "This page discusses the posibilities of the feature engineering module. In databricks, feature engineering provides a convenient way to organize data for model fitting and deployment while ensuring that the data is stored correctly."
   ]
  },
  {
   "cell_type": "markdown",
   "id": "f2c98963",
   "metadata": {},
   "source": [
    "## Setup\n",
    "\n",
    "There is a special module in the Databricks SDK `databricks.feature_engineering`. This allows you to manipulate with feature storage. There is a [package](https://pypi.org/project/databricks-feature-engineering/) that adds this module is published in PyPI.\n",
    "\n",
    "Officially, it only works in the Databricks environment. The only way to use this package locally is by using [VSCode databricks extension](https://docs.databricks.com/aws/en/dev-tools/vscode-ext).\n",
    "\n",
    "\n",
    "**Note.** You may be confused by the package `databricks.feature_store`, which has the same purpose. This is a legacy package.\n",
    "\n",
    "**Note.** You won't be able to create a `FeatureEngineeringClient` if in your environment spark - so use separate environment.\n",
    "\n",
    "**Note.** When you're using databricks environments, even through the VSCode extension, you will access the `spark` object without its assignment.\n",
    "\n",
    "**Note.** The `databricks` uses `mlflow` so to control it, files recommened to setup mlflow tracking and registry URIs."
   ]
  },
  {
   "cell_type": "markdown",
   "id": "ae980a5f",
   "metadata": {},
   "source": [
    "---\n",
    "\n",
    "The following cell creates a client for feature engineering. It will only run if everything is configured correctly."
   ]
  },
  {
   "cell_type": "code",
   "execution_count": 1,
   "id": "34d7df64",
   "metadata": {},
   "outputs": [
    {
     "name": "stderr",
     "output_type": "stream",
     "text": [
      "/home/user/.virtualenvironments/databricks_connect/lib/python3.13/site-packages/databricks/ml_features/utils/request_context.py:8: UserWarning: pkg_resources is deprecated as an API. See https://setuptools.pypa.io/en/latest/pkg_resources.html. The pkg_resources package is slated for removal as early as 2025-11-30. Refrain from using this package or pin to Setuptools<81.\n",
      "  import pkg_resources\n"
     ]
    }
   ],
   "source": [
    "import mlflow\n",
    "mlflow.set_registry_uri(\"file:///tmp/databricks\")\n",
    "mlflow.set_tracking_uri(\"file:///tmp/databricks\")\n",
    "\n",
    "from databricks.feature_engineering import FeatureEngineeringClient\n",
    "fe = FeatureEngineeringClient()"
   ]
  },
  {
   "cell_type": "markdown",
   "id": "c7d48bf9",
   "metadata": {},
   "source": [
    "The following cell will create the schema that we will use as an example."
   ]
  },
  {
   "cell_type": "code",
   "execution_count": null,
   "id": "a4104082",
   "metadata": {},
   "outputs": [],
   "source": [
    "ans = spark.sql(\"CREATE SCHEMA IF NOT EXISTS knowledge\")"
   ]
  },
  {
   "cell_type": "markdown",
   "id": "dcab9afa",
   "metadata": {},
   "source": [
    "The log output is scary, but the client works fine."
   ]
  },
  {
   "cell_type": "markdown",
   "id": "411af794",
   "metadata": {},
   "source": [
    "## Create table\n",
    "\n",
    "To create feature tables use `FeatureEngineeringClient.create_table` method."
   ]
  },
  {
   "cell_type": "markdown",
   "id": "9885d0bf",
   "metadata": {},
   "source": [
    "---\n",
    "\n",
    "The following code creates the features table."
   ]
  },
  {
   "cell_type": "code",
   "execution_count": 12,
   "id": "abb37b3f",
   "metadata": {},
   "outputs": [
    {
     "name": "stderr",
     "output_type": "stream",
     "text": [
      "2025/09/30 13:38:02 INFO databricks.ml_features._compute_client._compute_client: Setting columns ['col1'] of table 'workspace.knowledge.name_of_table' to NOT NULL.\n",
      "2025/09/30 13:38:03 INFO databricks.ml_features._compute_client._compute_client: Setting Primary Keys constraint ['col1'] on table 'workspace.knowledge.name_of_table'.\n",
      "2025/09/30 13:38:10 INFO databricks.ml_features._compute_client._compute_client: Created feature table 'workspace.knowledge.name_of_table'.\n"
     ]
    },
    {
     "data": {
      "text/plain": [
       "<FeatureTable: name='workspace.knowledge.name_of_table', table_id='a154e89c-d19b-4953-9219-83dde59fd85f', description='', primary_keys=['col1'], partition_columns=[], features=['col1', 'col2'], creation_timestamp=1759232282260, online_stores=[], notebook_producers=[], job_producers=[], table_data_sources=[], path_data_sources=[], custom_data_sources=[], timestamp_keys=[], tags={}>"
      ]
     },
     "execution_count": 12,
     "metadata": {},
     "output_type": "execute_result"
    }
   ],
   "source": [
    "df = spark.createDataFrame(\n",
    "    data=[(i, i*2) for i in range(10)],\n",
    "    schema=[\"col1\", \"col2\"]\n",
    ")\n",
    "\n",
    "fe.create_table(\n",
    "    name=\"knowledge.name_of_table\",\n",
    "    df=df,\n",
    "    primary_keys=[\"col1\"]\n",
    ")"
   ]
  },
  {
   "cell_type": "markdown",
   "id": "c536d11a",
   "metadata": {},
   "source": [
    "The table appears among the regular tables and will be listed in the output of the `SHOW TABLES` command."
   ]
  },
  {
   "cell_type": "code",
   "execution_count": 13,
   "id": "46bc2355",
   "metadata": {},
   "outputs": [
    {
     "data": {
      "text/html": [
       "<table border=\"1\" class=\"dataframe\">\n",
       "  <thead>\n",
       "    <tr style=\"text-align: right;\">\n",
       "      <th></th>\n",
       "      <th>database</th>\n",
       "      <th>tableName</th>\n",
       "      <th>isTemporary</th>\n",
       "    </tr>\n",
       "  </thead>\n",
       "  <tbody>\n",
       "    <tr>\n",
       "      <th>0</th>\n",
       "      <td>knowledge</td>\n",
       "      <td>name_of_table</td>\n",
       "      <td>False</td>\n",
       "    </tr>\n",
       "  </tbody>\n",
       "</table>"
      ],
      "text/plain": [
       "DataFrame[database: string, tableName: string, isTemporary: boolean]"
      ]
     },
     "execution_count": 13,
     "metadata": {},
     "output_type": "execute_result"
    }
   ],
   "source": [
    "spark.sql(\"SHOW TABLES FROM knowledge;\")"
   ]
  },
  {
   "cell_type": "markdown",
   "id": "b271c280",
   "metadata": {},
   "source": [
    "The table can also be dropped like a regular table."
   ]
  },
  {
   "cell_type": "code",
   "execution_count": 14,
   "id": "70806555",
   "metadata": {},
   "outputs": [],
   "source": [
    "ans = spark.sql(\"DROP TABLE IF EXISTS knowledge.name_of_table;\")"
   ]
  },
  {
   "cell_type": "markdown",
   "id": "4cb6a23a",
   "metadata": {},
   "source": [
    "## Feature lookup\n",
    "\n",
    "The feature lookup specifies how features are searched in the storage. Create a feature lookup with the following code:\n",
    "\n",
    "```python\n",
    "from databricks.feature_store import FeatureLookup\n",
    "\n",
    "feature_lookup = FeatureLookup(\n",
    "    table_name=\"load_from\",\n",
    "    lookup_key=\"key\",\n",
    "    features_names=[\"feature1\", \"feature2\"]\n",
    ")\n",
    "```"
   ]
  }
 ],
 "metadata": {
  "kernelspec": {
   "display_name": "Python 3",
   "language": "python",
   "name": "python3"
  },
  "language_info": {
   "codemirror_mode": {
    "name": "ipython",
    "version": 3
   },
   "file_extension": ".py",
   "mimetype": "text/x-python",
   "name": "python",
   "nbconvert_exporter": "python",
   "pygments_lexer": "ipython3",
   "version": "3.13.7"
  }
 },
 "nbformat": 4,
 "nbformat_minor": 5
}
