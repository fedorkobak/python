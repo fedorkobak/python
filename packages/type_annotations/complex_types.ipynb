{
 "cells": [
  {
   "cell_type": "markdown",
   "metadata": {},
   "source": [
    "# Complex types\n",
    "\n",
    "This page focuses on annotations for complex datatypes like `dict`, `list`, `tuple` or `set`."
   ]
  },
  {
   "cell_type": "markdown",
   "metadata": {},
   "source": [
    "## Dict\n",
    "\n",
    "To annotate dictionary dtypes you have to use syntax `dict[<keys type>, <value type>]`, like following."
   ]
  },
  {
   "cell_type": "code",
   "execution_count": 1,
   "metadata": {},
   "outputs": [],
   "source": [
    "my_dict: dict[str, int] = {\"key1\": 10, \"key2\": 3}"
   ]
  },
  {
   "cell_type": "markdown",
   "metadata": {},
   "source": [
    "## Number of elements\n",
    "\n",
    "There are significant differences between annotations for lists or sets and annotations for tuples. In tuples, you have to define the type of each element individually, which means you need to count the number of elements in the tuple. However, for lists or sets, it's sufficient to annotate the types that can be stored in the collection."
   ]
  },
  {
   "cell_type": "code",
   "execution_count": 15,
   "metadata": {},
   "outputs": [
    {
     "name": "stdout",
     "output_type": "stream",
     "text": [
      "Writing complex_types_files/number_elements.py\n"
     ]
    }
   ],
   "source": [
    "%%writefile complex_types_files/number_elements.py\n",
    "# Annotatate type once for all elements \n",
    "my_list: list[str|int] = [\"a\", \"b\", 3, 2, \"c\"]\n",
    "my_set: set[float] = {3.,2.,5.}\n",
    "\n",
    "# Each element has a type specified for it\n",
    "my_tuple: tuple[int, float, bool] = (4, 3., True)"
   ]
  },
  {
   "cell_type": "code",
   "execution_count": 16,
   "metadata": {},
   "outputs": [
    {
     "name": "stdout",
     "output_type": "stream",
     "text": [
      "\u001b[1m\u001b[32mSuccess: no issues found in 1 source file\u001b[m\n"
     ]
    }
   ],
   "source": [
    "!python3 -m mypy complex_types_files/number_elements.py"
   ]
  },
  {
   "cell_type": "markdown",
   "metadata": {},
   "source": [
    "## Sequence\n",
    "\n",
    "With `typing.Sequence`, you can annotate any subscriptable type and those that have a defined `__len__` dunder."
   ]
  },
  {
   "cell_type": "markdown",
   "metadata": {},
   "source": [
    "In the following example we have annotated `my_sequence` as a sequence of ints or strings. So a list of strings or a tuple of ints works just fine. But set causes an error, it's not subscriptable."
   ]
  },
  {
   "cell_type": "code",
   "execution_count": 22,
   "metadata": {},
   "outputs": [
    {
     "name": "stdout",
     "output_type": "stream",
     "text": [
      "Overwriting complex_types_files/sequence.py\n"
     ]
    }
   ],
   "source": [
    "%%writefile complex_types_files/sequence.py\n",
    "from typing import Sequence\n",
    "# Annotatate type once for all elements\n",
    "# list of strings \n",
    "my_sequence: Sequence[str|int] = [\"a\", \"b\", \"c\"]\n",
    "# tuple of ints\n",
    "my_sequence = (1, 4, 2, 8)\n",
    "\n",
    "# set is not sequence\n",
    "my_sequence = {1,\"2\"}"
   ]
  },
  {
   "cell_type": "markdown",
   "metadata": {},
   "source": [
    "So mypy works fine on lines where list or tuple is assigned to `my_sequence`, but it prints an error pointing to the set assignment."
   ]
  },
  {
   "cell_type": "code",
   "execution_count": 23,
   "metadata": {},
   "outputs": [
    {
     "name": "stdout",
     "output_type": "stream",
     "text": [
      "complex_types_files/sequence.py:9: \u001b[1m\u001b[31merror:\u001b[m Incompatible types in assignment (expression has type \u001b[m\u001b[1m\"set[object]\"\u001b[m, variable has type \u001b[m\u001b[1m\"Sequence[str | int]\"\u001b[m)  \u001b[m\u001b[33m[assignment]\u001b[m\n",
      "\u001b[1m\u001b[31mFound 1 error in 1 file (checked 1 source file)\u001b[m\n"
     ]
    }
   ],
   "source": [
    "!python3 -m mypy complex_types_files/sequence.py"
   ]
  }
 ],
 "metadata": {
  "kernelspec": {
   "display_name": "Python 3",
   "language": "python",
   "name": "python3"
  },
  "language_info": {
   "codemirror_mode": {
    "name": "ipython",
    "version": 3
   },
   "file_extension": ".py",
   "mimetype": "text/x-python",
   "name": "python",
   "nbconvert_exporter": "python",
   "pygments_lexer": "ipython3",
   "version": "3.10.14"
  }
 },
 "nbformat": 4,
 "nbformat_minor": 2
}
