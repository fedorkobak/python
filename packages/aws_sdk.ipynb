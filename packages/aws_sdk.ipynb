{
 "cells": [
  {
   "cell_type": "markdown",
   "id": "4b673be9",
   "metadata": {},
   "source": [
    "# AWS SDK\n",
    "\n",
    "The python SKD for AWS is the `boto3` package. This page covers the details of working with the `boto3` package."
   ]
  },
  {
   "cell_type": "code",
   "execution_count": null,
   "id": "3a187942",
   "metadata": {},
   "outputs": [],
   "source": [
    "import moto\n",
    "import boto3\n",
    "from pprint import pprint"
   ]
  },
  {
   "cell_type": "markdown",
   "id": "939d9bbc",
   "metadata": {},
   "source": [
    "## Moto\n",
    "\n",
    "[Moto](https://docs.getmoto.org/en/latest/) enables the behaviour of AWS services to be mocked."
   ]
  },
  {
   "cell_type": "markdown",
   "id": "acf7bd47",
   "metadata": {},
   "source": [
    "---\n",
    "\n",
    "The following code creates an `s3` client and attemnts to list available buckets."
   ]
  },
  {
   "cell_type": "code",
   "execution_count": null,
   "id": "5a09515a",
   "metadata": {},
   "outputs": [
    {
     "name": "stdout",
     "output_type": "stream",
     "text": [
      "Unable to locate credentials\n"
     ]
    }
   ],
   "source": [
    "s3 = boto3.client(\"s3\", region_name=\"us-west-2\")\n",
    "\n",
    "try:\n",
    "    s3.list_buckets()\n",
    "except Exception as e:\n",
    "    print(e)"
   ]
  },
  {
   "cell_type": "markdown",
   "id": "28835846",
   "metadata": {},
   "source": [
    "The result there is an error message indicating that there are no AWS credentials have been provided."
   ]
  },
  {
   "cell_type": "markdown",
   "id": "7c1ef953",
   "metadata": {},
   "source": [
    "The following cell uses the same `boto3` code wrapped by the `moto` mock."
   ]
  },
  {
   "cell_type": "code",
   "execution_count": null,
   "id": "6120932f",
   "metadata": {},
   "outputs": [
    {
     "name": "stdout",
     "output_type": "stream",
     "text": [
      "{'Buckets': [],\n",
      " 'Owner': {'DisplayName': 'webfile', 'ID': 'bcaf1ffd86f41161ca5fb16fd081034f'},\n",
      " 'ResponseMetadata': {'HTTPHeaders': {'content-type': 'application/xml',\n",
      "                                      'x-amzn-requestid': 'tzN0rrlVDe1F4epGGP0GictXAyeEdVvaFkcoMC97KHZ3sZqlrJ8p'},\n",
      "                      'HTTPStatusCode': 200,\n",
      "                      'RequestId': 'tzN0rrlVDe1F4epGGP0GictXAyeEdVvaFkcoMC97KHZ3sZqlrJ8p',\n",
      "                      'RetryAttempts': 0}}\n"
     ]
    }
   ],
   "source": [
    "mock = moto.mock_aws()\n",
    "mock.start()\n",
    "\n",
    "s3 = boto3.client(\"s3\", region_name=\"us-west-2\")\n",
    "pprint(s3.list_buckets())\n",
    "\n",
    "mock.stop()"
   ]
  },
  {
   "cell_type": "markdown",
   "id": "64936f5f",
   "metadata": {},
   "source": [
    "The result the is some kind of AWS answer."
   ]
  },
  {
   "cell_type": "markdown",
   "id": "9c019713",
   "metadata": {},
   "source": [
    "---\n",
    "\n",
    "The following cell shows an example of creating a bucket (`some-bucket`), listing it and deleteting it. Moto somehow retains information about the behaviour of the bucket."
   ]
  },
  {
   "cell_type": "code",
   "execution_count": null,
   "id": "eecad26a",
   "metadata": {},
   "outputs": [
    {
     "name": "stdout",
     "output_type": "stream",
     "text": [
      "[{'CreationDate': datetime.datetime(2025, 10, 20, 12, 8, 15, tzinfo=tzutc()),\n",
      "  'Name': 'some-bucket'}]\n"
     ]
    }
   ],
   "source": [
    "with moto.mock_aws():\n",
    "    region = \"us-west-2\"\n",
    "    bucket_name = \"some-bucket\"\n",
    "\n",
    "    s3 = boto3.client(\"s3\", region_name=region)\n",
    "\n",
    "    location = {'LocationConstraint': region}\n",
    "    s3.create_bucket(\n",
    "        Bucket=bucket_name,\n",
    "        CreateBucketConfiguration=location\n",
    "    )\n",
    "\n",
    "    pprint(s3.list_buckets()[\"Buckets\"])\n",
    "\n",
    "    s3.delete_bucket(Bucket=bucket_name)"
   ]
  },
  {
   "cell_type": "markdown",
   "id": "dbc76149",
   "metadata": {},
   "source": [
    "## Services names\n",
    "\n",
    "Boto provides access to the services thorugh its abstractions: `client`, `resources` etc. You usually have to specify to which service you want to access using a special shortcut. You can get a list of shortcuts from the `boto3.session.Session().get_available_services()` method. \n",
    "\n",
    "As there is a huge amount of services awailable in AWS, the following table lists the most imporant for me with a short description:\n",
    "\n",
    "| Group   | Shortcut                          | Description                                                                    |\n",
    "|---------|---------------------------------- |--------------------------------------------------------------------------------|\n",
    "|         | `s3`                              | S3 storage                                                                     |\n",
    "|         | `iam`                             | Identity and Access Management - managing users and permissions                |\n",
    "|         | `dynamodb`                        | Dynamo database                                                                |\n",
    "|         | `lambda`                          | Lambda functions                                                               |\n",
    "| bedrock | `bedrock`                         | Core Amazon Bedrock service for managing foundation models and configurations. |\n",
    "|         | `bedrock-runtime`                 | Runtime APIs for invoking and generating responses from Bedrock models.        |\n",
    "|         | `bedrock-agent`                   | Control APIs for creating and managing Bedrock AI agents and their resources.  |\n",
    "|         | `bedrock-agent-runtime`           | Runtime APIs for invoking Bedrock agents and retrieving their outputs.         |\n",
    "|         | `bedrock-agentcore`               | Platform for building and running advanced AI agents with memory and tools.    |\n",
    "|         | `bedrock-agentcore-control`       | Control-plane APIs for configuring AgentCore components and deployments.       |\n",
    "|         | `bedrock-data-automation`         | Service for automating data processing and transformation workflows.           |\n",
    "|         | `bedrock-data-automation-runtime` | Runtime APIs for executing and monitoring data automation tasks.               |\n"
   ]
  },
  {
   "cell_type": "markdown",
   "id": "8fd4c6ad",
   "metadata": {},
   "source": [
    "---\n",
    "\n",
    "The following cell gets a list of the available services prints their amount and prints a few of them."
   ]
  },
  {
   "cell_type": "code",
   "execution_count": 9,
   "id": "c417fb19",
   "metadata": {},
   "outputs": [
    {
     "name": "stdout",
     "output_type": "stream",
     "text": [
      "413\n",
      "accessanalyzer\n",
      "account\n",
      "acm\n",
      "acm-pca\n",
      "aiops\n",
      "amp\n",
      "amplify\n",
      "amplifybackend\n",
      "amplifyuibuilder\n",
      "apigateway\n",
      "apigatewaymanagementapi\n",
      "apigatewayv2\n",
      "appconfig\n",
      "appconfigdata\n",
      "appfabric\n",
      "appflow\n",
      "appintegrations\n",
      "application-autoscaling\n",
      "application-insights\n",
      "application-signals\n"
     ]
    }
   ],
   "source": [
    "with moto.mock_aws():\n",
    "    session = boto3.session.Session()\n",
    "    services = session.get_available_services()\n",
    "\n",
    "print(len(services))\n",
    "for s in services[:20]:\n",
    "    print(s)"
   ]
  },
  {
   "cell_type": "markdown",
   "id": "ddb068d9",
   "metadata": {},
   "source": [
    "## Client\n",
    "\n",
    "The [client](https://boto3.amazonaws.com/v1/documentation/api/latest/guide/clients.html) provides a low-level, 1:1 access to the AWS services.\n",
    "\n",
    "Create client through `boto3.client` method."
   ]
  }
 ],
 "metadata": {
  "kernelspec": {
   "display_name": "python",
   "language": "python",
   "name": "python3"
  },
  "language_info": {
   "codemirror_mode": {
    "name": "ipython",
    "version": 3
   },
   "file_extension": ".py",
   "mimetype": "text/x-python",
   "name": "python",
   "nbconvert_exporter": "python",
   "pygments_lexer": "ipython3",
   "version": "3.13.7"
  }
 },
 "nbformat": 4,
 "nbformat_minor": 5
}
