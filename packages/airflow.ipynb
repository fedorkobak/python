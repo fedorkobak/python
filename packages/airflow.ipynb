{
 "cells": [
  {
   "cell_type": "markdown",
   "metadata": {},
   "source": [
    "# Airflow\n",
    "\n",
    "Airflow is a tool that allows to schedule a set of processes commonly used in ETL pipelines and sometimes in ML automation. This section considers typical ways to use Airflow.\n",
    "\n",
    "We typically are typically run airflow in the Docker container to make sure that we are working in a clean environment. Use following command to run the container.\n",
    "\n",
    "Build the docker image described in the `airflow_files/dockerfile` and run it with the `standalone` command.\n",
    "\n",
    "```bash\n",
    "docker build -f packages/airflow_files/dockerfile .\n",
    "docker run -d --rm --name airflow -p 8080:8080 -v ./:/knowledge airflow standalone\n",
    "```\n",
    "\n",
    "Image that is used as an example configured in such way to create default user with login `user` and password `user` that will be used as credentials for the airflow server."
   ]
  }
 ],
 "metadata": {
  "kernelspec": {
   "display_name": "Bash",
   "language": "bash",
   "name": "bash"
  },
  "language_info": {
   "codemirror_mode": "shell",
   "file_extension": ".sh",
   "mimetype": "text/x-sh",
   "name": "bash"
  }
 },
 "nbformat": 4,
 "nbformat_minor": 2
}
