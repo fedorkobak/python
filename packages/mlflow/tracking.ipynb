{
 "cells": [
  {
   "cell_type": "markdown",
   "id": "21538ceb",
   "metadata": {},
   "source": [
    "# Tracking\n",
    "\n",
    "This page discusses the MLFlow component responsible for tracking - monitoring of the various attempts to train a model."
   ]
  },
  {
   "cell_type": "code",
   "execution_count": null,
   "id": "9a7d91b2",
   "metadata": {},
   "outputs": [],
   "source": [
    "import mlflow\n",
    "mlflow.set_tracking_uri(\"http://localhost:5000/\")"
   ]
  },
  {
   "cell_type": "markdown",
   "id": "c0d2ad86",
   "metadata": {},
   "source": [
    "## Run\n",
    "\n",
    "Run in mlflow refers to the execution of a machine learning experiment or a piece of code that you want to track and record. It represents a specific execution instance with associated metadata and recorded metrics, parameters, artifacts, and tags."
   ]
  },
  {
   "cell_type": "markdown",
   "id": "feba56b8",
   "metadata": {},
   "source": [
    "---\n",
    "\n",
    "Run can be started with `mlflow.start_run()` and end it with `mlflow.end_run()`. By passing the `run_name` parameter to the `mlflow.start_run()` function, you can define the name of the run. The following cell demonstrates how it may be:"
   ]
  },
  {
   "cell_type": "code",
   "execution_count": null,
   "id": "37296b66",
   "metadata": {},
   "outputs": [
    {
     "name": "stdout",
     "output_type": "stream",
     "text": [
      "🏃 View run my_run_name at: http://localhost:5000/#/experiments/0/runs/df97b94f785a4454a45529f26920009e\n",
      "🧪 View experiment at: http://localhost:5000/#/experiments/0\n"
     ]
    }
   ],
   "source": [
    "import mlflow\n",
    "\n",
    "mlflow.start_run(run_name=\"my_run_name\")\n",
    "mlflow.end_run()"
   ]
  },
  {
   "cell_type": "markdown",
   "id": "517c8085",
   "metadata": {},
   "source": [
    "**Note** it's OK to have several runs with the same name - you can think of them as different versions of the same run."
   ]
  }
 ],
 "metadata": {
  "kernelspec": {
   "display_name": "python (3.13.5)",
   "language": "python",
   "name": "python3"
  },
  "language_info": {
   "codemirror_mode": {
    "name": "ipython",
    "version": 3
   },
   "file_extension": ".py",
   "mimetype": "text/x-python",
   "name": "python",
   "nbconvert_exporter": "python",
   "pygments_lexer": "ipython3",
   "version": "3.13.5"
  }
 },
 "nbformat": 4,
 "nbformat_minor": 5
}
