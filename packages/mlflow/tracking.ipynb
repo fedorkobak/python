{
 "cells": [
  {
   "cell_type": "markdown",
   "id": "21538ceb",
   "metadata": {},
   "source": [
    "# Tracking\n",
    "\n",
    "This page discusses the MLFlow component responsible for tracking - monitoring of the various attempts to train a model."
   ]
  },
  {
   "cell_type": "code",
   "execution_count": 3,
   "id": "9a7d91b2",
   "metadata": {},
   "outputs": [],
   "source": [
    "import mlflow\n",
    "from mlflow.tracking import MlflowClient\n",
    "\n",
    "client = MlflowClient()\n",
    "mlflow.set_tracking_uri(\"http://localhost:5000/\")"
   ]
  },
  {
   "cell_type": "markdown",
   "id": "de6babe2",
   "metadata": {},
   "source": [
    "## Experiment\n",
    "\n",
    "Select the experiment that represents the current project with `mlflow.set_experiment`. If the experiment doesn't exist, it creates a new one."
   ]
  },
  {
   "cell_type": "markdown",
   "id": "3cec3496",
   "metadata": {},
   "source": [
    "---\n",
    "\n",
    "The following cell sets the \"some experiment\"."
   ]
  },
  {
   "cell_type": "code",
   "execution_count": 15,
   "id": "93cf263f",
   "metadata": {},
   "outputs": [
    {
     "name": "stderr",
     "output_type": "stream",
     "text": [
      "2025/08/08 11:54:55 INFO mlflow.tracking.fluent: Experiment with name 'some experiment' does not exist. Creating a new experiment.\n"
     ]
    },
    {
     "data": {
      "text/plain": [
       "<Experiment: artifact_location='mlflow-artifacts:/101046082978810346', creation_time=1754643295457, experiment_id='101046082978810346', last_update_time=1754643295457, lifecycle_stage='active', name='some experiment', tags={}>"
      ]
     },
     "execution_count": 15,
     "metadata": {},
     "output_type": "execute_result"
    }
   ],
   "source": [
    "mlflow.set_experiment(\"some experiment\")"
   ]
  },
  {
   "cell_type": "markdown",
   "id": "639034be",
   "metadata": {},
   "source": [
    "Based on the log message, you can see that \"some experiment\" was created during the `set_experiment` call."
   ]
  },
  {
   "cell_type": "markdown",
   "id": "c0d2ad86",
   "metadata": {},
   "source": [
    "## Run\n",
    "\n",
    "Run in mlflow refers to the execution of a machine learning experiment or a piece of code that you want to track and record. It represents a specific execution instance with associated metadata and recorded metrics, parameters, artifacts, and tags."
   ]
  },
  {
   "cell_type": "markdown",
   "id": "feba56b8",
   "metadata": {},
   "source": [
    "---\n",
    "\n",
    "Run can be started with `mlflow.start_run()` and end it with `mlflow.end_run()`. By passing the `run_name` parameter to the `mlflow.start_run()` function, you can define the name of the run. The following cell demonstrates how it may be:"
   ]
  },
  {
   "cell_type": "code",
   "execution_count": 10,
   "id": "37296b66",
   "metadata": {},
   "outputs": [
    {
     "name": "stdout",
     "output_type": "stream",
     "text": [
      "🏃 View run my_run_name at: http://localhost:5000/#/experiments/0/runs/925288ded96849d38de4ab46b5f9e3e4\n",
      "🧪 View experiment at: http://localhost:5000/#/experiments/0\n"
     ]
    }
   ],
   "source": [
    "import mlflow\n",
    "\n",
    "mlflow.start_run(run_name=\"my_run_name\")\n",
    "mlflow.end_run()"
   ]
  },
  {
   "cell_type": "markdown",
   "id": "517c8085",
   "metadata": {},
   "source": [
    "**Note** it's OK to have several runs with the same name - you can think of them as different versions of the same run."
   ]
  },
  {
   "cell_type": "markdown",
   "id": "4f6e3b36",
   "metadata": {},
   "source": [
    "The most popular approach to start a run is using `mlflow.start_run` as a context manager expression. The run begins upon entering the context and ends upon exiting it.\n",
    "\n",
    "The follwoing cell shows launching an empty run using exactly context manager approach."
   ]
  },
  {
   "cell_type": "code",
   "execution_count": 18,
   "id": "0545879e",
   "metadata": {},
   "outputs": [
    {
     "name": "stdout",
     "output_type": "stream",
     "text": [
      "🏃 View run with run at: http://localhost:5000/#/experiments/101046082978810346/runs/b96f254b78f14e7ca8e19b2ec23146f9\n",
      "🧪 View experiment at: http://localhost:5000/#/experiments/101046082978810346\n"
     ]
    }
   ],
   "source": [
    "with mlflow.start_run(run_name=\"with run\"):\n",
    "    pass"
   ]
  },
  {
   "cell_type": "markdown",
   "id": "14f12eec",
   "metadata": {},
   "source": [
    "Use the `mlflow.search_runs` command to list all available runs."
   ]
  },
  {
   "cell_type": "code",
   "execution_count": 17,
   "id": "d15006f3",
   "metadata": {},
   "outputs": [
    {
     "data": {
      "text/html": [
       "<div>\n",
       "<style scoped>\n",
       "    .dataframe tbody tr th:only-of-type {\n",
       "        vertical-align: middle;\n",
       "    }\n",
       "\n",
       "    .dataframe tbody tr th {\n",
       "        vertical-align: top;\n",
       "    }\n",
       "\n",
       "    .dataframe thead th {\n",
       "        text-align: right;\n",
       "    }\n",
       "</style>\n",
       "<table border=\"1\" class=\"dataframe\">\n",
       "  <thead>\n",
       "    <tr style=\"text-align: right;\">\n",
       "      <th></th>\n",
       "      <th>run_id</th>\n",
       "      <th>experiment_id</th>\n",
       "      <th>status</th>\n",
       "      <th>artifact_uri</th>\n",
       "      <th>start_time</th>\n",
       "      <th>end_time</th>\n",
       "      <th>tags.mlflow.source.name</th>\n",
       "      <th>tags.mlflow.source.type</th>\n",
       "      <th>tags.mlflow.runName</th>\n",
       "      <th>tags.mlflow.user</th>\n",
       "    </tr>\n",
       "  </thead>\n",
       "  <tbody>\n",
       "    <tr>\n",
       "      <th>0</th>\n",
       "      <td>7ac6c477dc724ea5ad07065cdae6794e</td>\n",
       "      <td>101046082978810346</td>\n",
       "      <td>FINISHED</td>\n",
       "      <td>mlflow-artifacts:/101046082978810346/7ac6c477d...</td>\n",
       "      <td>2025-08-08 09:12:47.469000+00:00</td>\n",
       "      <td>2025-08-08 09:12:47.480000+00:00</td>\n",
       "      <td>/home/fedor/.virtualenvironments/python/lib/py...</td>\n",
       "      <td>LOCAL</td>\n",
       "      <td>with run</td>\n",
       "      <td>fedor</td>\n",
       "    </tr>\n",
       "    <tr>\n",
       "      <th>1</th>\n",
       "      <td>925288ded96849d38de4ab46b5f9e3e4</td>\n",
       "      <td>0</td>\n",
       "      <td>FINISHED</td>\n",
       "      <td>mlflow-artifacts:/0/925288ded96849d38de4ab46b5...</td>\n",
       "      <td>2025-08-08 08:46:34.027000+00:00</td>\n",
       "      <td>2025-08-08 08:46:34.041000+00:00</td>\n",
       "      <td>/home/fedor/.virtualenvironments/python/lib/py...</td>\n",
       "      <td>LOCAL</td>\n",
       "      <td>my_run_name</td>\n",
       "      <td>fedor</td>\n",
       "    </tr>\n",
       "    <tr>\n",
       "      <th>2</th>\n",
       "      <td>c243c89b84fc4c62ad756d4512d6f4ee</td>\n",
       "      <td>0</td>\n",
       "      <td>FINISHED</td>\n",
       "      <td>mlflow-artifacts:/0/c243c89b84fc4c62ad756d4512...</td>\n",
       "      <td>2025-08-08 08:41:22.880000+00:00</td>\n",
       "      <td>2025-08-08 08:44:31.008000+00:00</td>\n",
       "      <td>/home/fedor/.virtualenvironments/python/lib/py...</td>\n",
       "      <td>LOCAL</td>\n",
       "      <td>my_run_name</td>\n",
       "      <td>fedor</td>\n",
       "    </tr>\n",
       "  </tbody>\n",
       "</table>\n",
       "</div>"
      ],
      "text/plain": [
       "                             run_id  ... tags.mlflow.user\n",
       "0  7ac6c477dc724ea5ad07065cdae6794e  ...            fedor\n",
       "1  925288ded96849d38de4ab46b5f9e3e4  ...            fedor\n",
       "2  c243c89b84fc4c62ad756d4512d6f4ee  ...            fedor\n",
       "\n",
       "[3 rows x 10 columns]"
      ]
     },
     "execution_count": 17,
     "metadata": {},
     "output_type": "execute_result"
    }
   ],
   "source": [
    "mlflow.search_runs(search_all_experiments=True)"
   ]
  }
 ],
 "metadata": {
  "kernelspec": {
   "display_name": "python (3.13.5)",
   "language": "python",
   "name": "python3"
  },
  "language_info": {
   "codemirror_mode": {
    "name": "ipython",
    "version": 3
   },
   "file_extension": ".py",
   "mimetype": "text/x-python",
   "name": "python",
   "nbconvert_exporter": "python",
   "pygments_lexer": "ipython3",
   "version": "3.13.5"
  }
 },
 "nbformat": 4,
 "nbformat_minor": 5
}
