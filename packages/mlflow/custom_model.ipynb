{
 "cells": [
  {
   "cell_type": "markdown",
   "id": "a13d436f-5a7b-49b3-af45-fa2565259b03",
   "metadata": {},
   "source": [
    "# Custom model\n",
    "\n",
    "mlflow can be used to log custom models. Here I try to understand how it works.\n",
    "\n",
    "**Sources**:\n",
    "\n",
    "- [mlflow.pyfunc](https://mlflow.org/docs/latest/python_api/mlflow.pyfunc.html#creating-custom-pyfunc-models);"
   ]
  },
  {
   "cell_type": "markdown",
   "id": "607e2594-f0bc-4c55-ae1e-78cae078b5d8",
   "metadata": {},
   "source": [
    "## Set up"
   ]
  },
  {
   "cell_type": "markdown",
   "id": "45a3129e-8417-4807-93ad-77b3f7e7839c",
   "metadata": {},
   "source": [
    "The following cell starts the mlflow instance in docker."
   ]
  },
  {
   "cell_type": "code",
   "execution_count": 4,
   "id": "a42258f7-a0fe-454c-a3b6-8275e4a4f0c0",
   "metadata": {},
   "outputs": [
    {
     "name": "stdout",
     "output_type": "stream",
     "text": [
      "f36c038cbd239d43e24220ee09150647ab5c03c7701c4040487e15e716f7e24a\n"
     ]
    }
   ],
   "source": [
    "%%bash\n",
    "docker run -p 5000:5000 -dt --name my_server --rm \\\n",
    "    ghcr.io/mlflow/mlflow \\\n",
    "    bash -c \"mlflow server --host 0.0.0.0 --port 5000\""
   ]
  },
  {
   "cell_type": "markdown",
   "id": "66cdfec4-5213-46a1-9aba-493ac7180fc3",
   "metadata": {},
   "source": [
    "**Note** Don't forget to close the container when you've finished playing with this notebook:"
   ]
  },
  {
   "cell_type": "code",
   "execution_count": 2,
   "id": "5f825dc7-3bee-4186-8596-e1a98d434eec",
   "metadata": {},
   "outputs": [
    {
     "name": "stdout",
     "output_type": "stream",
     "text": [
      "my_server\n"
     ]
    }
   ],
   "source": [
    "!docker stop my_server"
   ]
  },
  {
   "cell_type": "markdown",
   "id": "6dba7004-b994-41c8-8593-dea1c0205628",
   "metadata": {},
   "source": [
    "Now imports:"
   ]
  },
  {
   "cell_type": "code",
   "execution_count": 5,
   "id": "35a51cae-66ce-47c1-af3c-d6c040ee9c3b",
   "metadata": {},
   "outputs": [],
   "source": [
    "import mlflow\n",
    "import pandas as pd\n",
    "\n",
    "mlflow.set_tracking_uri(uri=\"http://localhost:5000\")"
   ]
  },
  {
   "cell_type": "markdown",
   "id": "5fb6eaa3-e8f6-4c01-9376-9568a09023bd",
   "metadata": {},
   "source": [
    "## Function\n",
    "\n",
    "The simplest method is to define a function that takes model input and returns model output. You need to pass this function as the `python_moder` argument of the `mlflow.pyfunc.log_model` function:"
   ]
  },
  {
   "cell_type": "code",
   "execution_count": 10,
   "id": "fc5b3378-f5da-41c8-8712-e04331d2f5f5",
   "metadata": {},
   "outputs": [],
   "source": [
    "def predict(model_input):\n",
    "    return model_input.apply(lambda x: x * 2)\n",
    "\n",
    "with mlflow.start_run():\n",
    "    mlflow.pyfunc.log_model(\n",
    "        \"model\", \n",
    "        python_model=predict, \n",
    "        pip_requirements=[\"pandas\"])\n",
    "    run_id = mlflow.active_run().info.run_id"
   ]
  },
  {
   "cell_type": "markdown",
   "id": "5eef3b78-e9ed-42bd-b54a-f372f12195b3",
   "metadata": {},
   "source": [
    "Now you can load this model from mlflow. But it's interesting that you don't have the function stored directly, but some wrapper `mlflow.pyfunc.PyFuncModel` following the cell to show it:"
   ]
  },
  {
   "cell_type": "code",
   "execution_count": 11,
   "id": "cedc820f-426c-4b7c-8c43-7e9419c60e12",
   "metadata": {},
   "outputs": [
    {
     "data": {
      "application/vnd.jupyter.widget-view+json": {
       "model_id": "afd8ee7c806c4e2395a5671cb6e9604e",
       "version_major": 2,
       "version_minor": 0
      },
      "text/plain": [
       "Downloading artifacts:   0%|          | 0/9 [00:00<?, ?it/s]"
      ]
     },
     "metadata": {},
     "output_type": "display_data"
    },
    {
     "name": "stdout",
     "output_type": "stream",
     "text": [
      "Loaded object type - <class 'mlflow.pyfunc.PyFuncModel'>\n"
     ]
    }
   ],
   "source": [
    "# Load the model from the tracking server and perform inference\n",
    "model = mlflow.pyfunc.load_model(f\"runs:/{run_id}/model\")\n",
    "print(\"Loaded object type -\", type(model))"
   ]
  },
  {
   "cell_type": "markdown",
   "id": "6485a25f-f646-4c0c-a591-7db9bff51c9c",
   "metadata": {},
   "source": [
    "But it does have a `predict` method that you can use to get a prediction:"
   ]
  },
  {
   "cell_type": "code",
   "execution_count": 12,
   "id": "1df72952-2a9a-4acb-a393-200065e70610",
   "metadata": {},
   "outputs": [
    {
     "data": {
      "text/plain": [
       "0    20\n",
       "1    40\n",
       "2    60\n",
       "dtype: int64"
      ]
     },
     "execution_count": 12,
     "metadata": {},
     "output_type": "execute_result"
    }
   ],
   "source": [
    "model.predict(pd.Series([10,20,30]))"
   ]
  },
  {
   "cell_type": "markdown",
   "id": "937b216a-9854-4ec8-93ce-e4a342d75c0f",
   "metadata": {},
   "source": [
    "## Class\n",
    "\n",
    "You can use object ancestors of `mlflow.pyfunc.PythonModel` that implement the `predict` method. This method should have `context` and `model_imput` parameters."
   ]
  },
  {
   "cell_type": "markdown",
   "id": "9f6d0080-b3fe-42d6-a40b-af5389ab9f1d",
   "metadata": {},
   "source": [
    "The following cell shows what this might look like:"
   ]
  },
  {
   "cell_type": "code",
   "execution_count": 23,
   "id": "f616e337-0e4e-4560-a4bf-e57b9493d3e0",
   "metadata": {},
   "outputs": [],
   "source": [
    "class MyModel(mlflow.pyfunc.PythonModel):\n",
    "    test = \"I'm field you want to acess!!!\"\n",
    "    def predict(self, context, model_input, params=None):\n",
    "        return [x * 2 for x in model_input]\n",
    "\n",
    "# Save the function as a model\n",
    "with mlflow.start_run():\n",
    "    mlflow.pyfunc.log_model(\n",
    "        \"model\", python_model=MyModel(), pip_requirements=[\"pandas\"]\n",
    "    )\n",
    "    run_id = mlflow.active_run().info.run_id"
   ]
  },
  {
   "cell_type": "markdown",
   "id": "822ef05e-0973-4936-a85c-543d74137724",
   "metadata": {},
   "source": [
    "But after loading, you'll have a `mlflow.pyfunc.PyFuncModel`. **It's not type of the instance we logged with mlflow.**"
   ]
  },
  {
   "cell_type": "code",
   "execution_count": 24,
   "id": "833d4ab4-caa3-4990-aaf6-cabb10c4b7c9",
   "metadata": {},
   "outputs": [
    {
     "data": {
      "application/vnd.jupyter.widget-view+json": {
       "model_id": "aec87c82de304904952ecb8897139427",
       "version_major": 2,
       "version_minor": 0
      },
      "text/plain": [
       "Downloading artifacts:   0%|          | 0/9 [00:00<?, ?it/s]"
      ]
     },
     "metadata": {},
     "output_type": "display_data"
    },
    {
     "name": "stdout",
     "output_type": "stream",
     "text": [
      "Loaded object type - <class 'mlflow.pyfunc.PyFuncModel'>\n"
     ]
    }
   ],
   "source": [
    "# Load the model from the tracking server and perform inference\n",
    "model = mlflow.pyfunc.load_model(f\"runs:/{run_id}/model\")\n",
    "print(\"Loaded object type -\", type(model))"
   ]
  },
  {
   "cell_type": "markdown",
   "id": "5d7788e1-a896-490f-b25c-ca84f790052c",
   "metadata": {},
   "source": [
    "To extract the prediction from these objects, simply use the `predict` method."
   ]
  },
  {
   "cell_type": "code",
   "execution_count": 25,
   "id": "27a7cf4d-d4be-4e25-a9bd-e1e02071d0ad",
   "metadata": {},
   "outputs": [
    {
     "name": "stdout",
     "output_type": "stream",
     "text": [
      "Prediction:[2, 4, 6]\n"
     ]
    }
   ],
   "source": [
    "print(f\"Prediction:{model.predict(pd.Series([1, 2, 3]))}\")"
   ]
  },
  {
   "cell_type": "markdown",
   "id": "6b8e83d8-69aa-477d-83ab-0bf7b021e4c1",
   "metadata": {},
   "source": [
    "You extract the original object from the wrapper using the `unwrap_python_model` method. The following cell access attribute of the original object is logged with mlflow."
   ]
  },
  {
   "cell_type": "code",
   "execution_count": 26,
   "id": "be3022d5-52f5-4063-8f13-d6f97f79849f",
   "metadata": {},
   "outputs": [
    {
     "data": {
      "text/plain": [
       "\"I'm field you want to acess!!!\""
      ]
     },
     "execution_count": 26,
     "metadata": {},
     "output_type": "execute_result"
    }
   ],
   "source": [
    "model.unwrap_python_model().test"
   ]
  }
 ],
 "metadata": {
  "kernelspec": {
   "display_name": "Python 3 (ipykernel)",
   "language": "python",
   "name": "python3"
  },
  "language_info": {
   "codemirror_mode": {
    "name": "ipython",
    "version": 3
   },
   "file_extension": ".py",
   "mimetype": "text/x-python",
   "name": "python",
   "nbconvert_exporter": "python",
   "pygments_lexer": "ipython3",
   "version": "3.10.12"
  }
 },
 "nbformat": 4,
 "nbformat_minor": 5
}
