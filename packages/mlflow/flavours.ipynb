{
 "cells": [
  {
   "cell_type": "markdown",
   "id": "9de3b5c3",
   "metadata": {},
   "source": [
    "# Flavours\n",
    "\n",
    "Flavours in mlflow terminology are special modules that integrate mlflow with the most popular ML frameworks. This page describes features of various flavours and pyfunc the flavour that is supposed to be used in the general cases."
   ]
  },
  {
   "cell_type": "code",
   "execution_count": 2,
   "id": "0672388d",
   "metadata": {},
   "outputs": [],
   "source": [
    "import numpy as np\n",
    "from sklearn.linear_model import LinearRegression\n",
    "\n",
    "import mlflow\n",
    "import mlflow.models\n",
    "import mlflow.sklearn\n",
    "\n",
    "mlflow.set_tracking_uri(\"http://localhost:5000/\")"
   ]
  },
  {
   "cell_type": "markdown",
   "id": "8f2e0364",
   "metadata": {},
   "source": [
    "## Pyfunc"
   ]
  },
  {
   "cell_type": "markdown",
   "id": "c31a86f9",
   "metadata": {},
   "source": [
    "### Load other\n",
    "\n",
    "An interesting fact is that pyfunc is able to load models logged by other flavours. They would be loaded as a special kind of `pyfunc`."
   ]
  },
  {
   "cell_type": "markdown",
   "id": "a9cd0808",
   "metadata": {},
   "source": [
    "---\n",
    "\n",
    "The following cell fits a `sklearn.LinearRegression` model and logs it - as it should with sklearn flavour."
   ]
  },
  {
   "cell_type": "code",
   "execution_count": 13,
   "id": "fd2b9c32",
   "metadata": {},
   "outputs": [
    {
     "name": "stdout",
     "output_type": "stream",
     "text": [
      "🏃 View run test_run at: http://localhost:5000/#/experiments/0/runs/48bdb3a7b3a6497cbb42b29d31935cf1\n",
      "🧪 View experiment at: http://localhost:5000/#/experiments/0\n"
     ]
    }
   ],
   "source": [
    "model_to_save = LinearRegression().fit(\n",
    "    X=np.random.normal(0, 2, size=(100, 2)),\n",
    "    y=np.random.normal(0, 20, size=100)\n",
    ")\n",
    "signature = mlflow.models.infer_signature(\n",
    "    np.random.normal(0, 2, size=(100, 2)),\n",
    "    np.random.normal(0, 20, size=100)\n",
    ")\n",
    "\n",
    "with mlflow.start_run(run_name=\"test_run\"):\n",
    "    model_info = mlflow.sklearn.log_model(\n",
    "        model_to_save,\n",
    "        signature=signature\n",
    "    )"
   ]
  },
  {
   "cell_type": "markdown",
   "id": "4657b71a",
   "metadata": {},
   "source": [
    "The following cell loads the saved model using sklearn flavour."
   ]
  },
  {
   "cell_type": "code",
   "execution_count": 20,
   "id": "0972e4aa",
   "metadata": {},
   "outputs": [
    {
     "data": {
      "application/vnd.jupyter.widget-view+json": {
       "model_id": "ad48eeecb9f6470684dcd5bcfdd6ad84",
       "version_major": 2,
       "version_minor": 0
      },
      "text/plain": [
       "Downloading artifacts:   0%|          | 0/5 [00:00<?, ?it/s]"
      ]
     },
     "metadata": {},
     "output_type": "display_data"
    },
    {
     "data": {
      "text/plain": [
       "sklearn.linear_model._base.LinearRegression"
      ]
     },
     "execution_count": 20,
     "metadata": {},
     "output_type": "execute_result"
    }
   ],
   "source": [
    "sklearn_loaded = mlflow.sklearn.load_model(model_info.model_uri)\n",
    "type(sklearn_loaded)"
   ]
  },
  {
   "cell_type": "markdown",
   "id": "75ab2538",
   "metadata": {},
   "source": [
    "The next code loads the model using `mlflow.pyfunc.load_model`."
   ]
  },
  {
   "cell_type": "code",
   "execution_count": 21,
   "id": "61504e4f",
   "metadata": {},
   "outputs": [
    {
     "data": {
      "application/vnd.jupyter.widget-view+json": {
       "model_id": "24be2d53c82e421387baec4db2f4a361",
       "version_major": 2,
       "version_minor": 0
      },
      "text/plain": [
       "Downloading artifacts:   0%|          | 0/5 [00:00<?, ?it/s]"
      ]
     },
     "metadata": {},
     "output_type": "display_data"
    },
    {
     "data": {
      "text/plain": [
       "mlflow.pyfunc.PyFuncModel"
      ]
     },
     "execution_count": 21,
     "metadata": {},
     "output_type": "execute_result"
    }
   ],
   "source": [
    "pyfunk_loaded = mlflow.pyfunc.load_model(model_info.model_uri)\n",
    "type(pyfunk_loaded)"
   ]
  },
  {
   "cell_type": "markdown",
   "id": "b6b5f0a4",
   "metadata": {},
   "source": [
    "Note that the types of the gotten objects are different.\n",
    "\n",
    "The following cell shows that all objects: original, loaded with pyfunc and loaded with sklearn; return the same predictions."
   ]
  },
  {
   "cell_type": "code",
   "execution_count": 22,
   "id": "331084c1",
   "metadata": {},
   "outputs": [
    {
     "data": {
      "text/plain": [
       "(array([-0.08650699]), array([-0.08650699]), array([-0.08650699]))"
      ]
     },
     "execution_count": 22,
     "metadata": {},
     "output_type": "execute_result"
    }
   ],
   "source": [
    "X = np.array([[1, 8]], dtype=np.float64)\n",
    "(\n",
    "    sklearn_loaded.predict(X),\n",
    "    pyfunk_loaded.predict(X),\n",
    "    model_to_save.predict(X)\n",
    ")"
   ]
  }
 ],
 "metadata": {
  "kernelspec": {
   "display_name": "python (3.13.5)",
   "language": "python",
   "name": "python3"
  },
  "language_info": {
   "codemirror_mode": {
    "name": "ipython",
    "version": 3
   },
   "file_extension": ".py",
   "mimetype": "text/x-python",
   "name": "python",
   "nbconvert_exporter": "python",
   "pygments_lexer": "ipython3",
   "version": "3.13.5"
  }
 },
 "nbformat": 4,
 "nbformat_minor": 5
}
