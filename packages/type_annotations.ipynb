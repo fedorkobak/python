{
 "cells": [
  {
   "cell_type": "markdown",
   "metadata": {},
   "source": [
    "# Type annotations\n",
    "\n",
    "Python has an option to annotate types, which is useful during relatively serious development.\n",
    "\n",
    "Check resources:\n",
    "\n",
    "- [Python type checking](https://realpython.com/python-type-checking/#type-systems) article on real python.\n",
    "- [PEP 484](https://peps.python.org/pep-0484/) that introduce type hints.\n",
    "- [PEP 526](https://peps.python.org/pep-0526/) that introduce variable annotations."
   ]
  },
  {
   "cell_type": "markdown",
   "metadata": {},
   "source": [
    "## Syntax"
   ]
  },
  {
   "cell_type": "markdown",
   "metadata": {},
   "source": [
    "### Functions annotations\n",
    "\n",
    "There is an option to annotate the function. You can annotate type for arguments and type for output value. For more details check [specific page](type_annotations/function_annotations.ipynb)."
   ]
  },
  {
   "cell_type": "code",
   "execution_count": null,
   "metadata": {},
   "outputs": [],
   "source": [
    "def some_function(arg1: float, arg2: int) -> bool:\n",
    "    pass"
   ]
  },
  {
   "cell_type": "markdown",
   "metadata": {},
   "source": [
    "### Variables annotations\n",
    "\n",
    "You can annotate the type of variable in your code."
   ]
  },
  {
   "cell_type": "code",
   "execution_count": 14,
   "metadata": {},
   "outputs": [],
   "source": [
    "pi: float = 3.142"
   ]
  },
  {
   "cell_type": "markdown",
   "metadata": {},
   "source": [
    "### Complex types annotation\n",
    "\n",
    "There is a special syntax for annotating the types of elements of complex types. Find out more about annotations for complex data types at [specific page](type_annotations/complex_types.ipynb).\n",
    "\n",
    "Here is a short example of annotations for different complex types."
   ]
  },
  {
   "cell_type": "code",
   "execution_count": 8,
   "metadata": {},
   "outputs": [],
   "source": [
    "my_tuple: tuple[int, float, bool] = (10, 4., True)\n",
    "my_list: list[int] = [10,20,30]\n",
    "my_dict: dict[str, float] = {\"item1\" : 3., \"item2\" : 7.}\n",
    "my_set: set[int] = {3,2,1,4}"
   ]
  },
  {
   "cell_type": "markdown",
   "metadata": {},
   "source": [
    "### Any type\n",
    "\n",
    "Some times you'll meet cases where object can take any type. In most cases you can just ignore typing for it. But there are reasons why you should have option to declare that expression can have any type:\n",
    "\n",
    "- To show that any type is a deliberate decision.\n",
    "- To have an option for cases where a type must be specified, such as the type of keys in a dictionary or the type of a particular element in a tuple."
   ]
  },
  {
   "cell_type": "markdown",
   "metadata": {},
   "source": [
    "Consider the example where there are functions that return the key of the item with the maximum value from dict. But keys can be of any type that is acceptable to be keys for dictionaries. So it can be completed with syntax below."
   ]
  },
  {
   "cell_type": "code",
   "execution_count": 13,
   "metadata": {},
   "outputs": [
    {
     "data": {
      "text/plain": [
       "'hello'"
      ]
     },
     "execution_count": 13,
     "metadata": {},
     "output_type": "execute_result"
    }
   ],
   "source": [
    "from typing import Any\n",
    "def max_key(inp_dict: dict[Any, int|float]) -> Any:\n",
    "    return max(inp_dict, key=inp_dict.get)\n",
    "\n",
    "max_key({10: 3, \"hello\": 7})"
   ]
  },
  {
   "cell_type": "markdown",
   "metadata": {},
   "source": [
    "## Type aliases\n",
    "\n",
    "Note that you can save your annotations as regular python object - your programmes will be neater."
   ]
  },
  {
   "cell_type": "markdown",
   "metadata": {},
   "source": [
    "Below is an example that defines a function to create triangles as a tuple of three two-dimensional points. To make things simplier, you can define an annotation for the point and use it to define an annotation for the triangle."
   ]
  },
  {
   "cell_type": "code",
   "execution_count": 5,
   "metadata": {},
   "outputs": [],
   "source": [
    "from random import random\n",
    "\n",
    "# Here is straighforward definition\n",
    "def get_triangle() -> tuple[\n",
    "        tuple[float, float],\n",
    "        tuple[float, float],\n",
    "        tuple[float, float]\n",
    "    ]:\n",
    "    return (\n",
    "        (random(), random())\n",
    "        for i in range(3)\n",
    "    )\n",
    "\n",
    "# Same but shorter\n",
    "point = tuple[float, float]\n",
    "def get_triangle() -> tuple[point, point, point]:\n",
    "    return (\n",
    "        (random(), random())\n",
    "        for i in range(3)\n",
    "    )"
   ]
  },
  {
   "cell_type": "markdown",
   "metadata": {},
   "source": [
    "## `__annotations__` attribute\n",
    "\n",
    "The `__annotations__` attribute allows you to retrieve annotated types for a Python object."
   ]
  },
  {
   "cell_type": "markdown",
   "metadata": {},
   "source": [
    "For function it returns a dictionary with keys corresponding to the names of the arguments and values corresponding to the types of the arguments. The return type of the function can be accessed using the `return` key."
   ]
  },
  {
   "cell_type": "code",
   "execution_count": 1,
   "metadata": {},
   "outputs": [
    {
     "data": {
      "text/plain": [
       "{'arg1': float, 'arg2': bool, 'return': int}"
      ]
     },
     "execution_count": 1,
     "metadata": {},
     "output_type": "execute_result"
    }
   ],
   "source": [
    "def some_function(arg1: float, arg2: bool) -> int:\n",
    "    if arg1 > 10 and arg2:\n",
    "        return 20\n",
    "\n",
    "some_function.__annotations__"
   ]
  },
  {
   "cell_type": "markdown",
   "metadata": {},
   "source": [
    "You can simply access it from any Python namespace to get annotations of the waribles in that namespace."
   ]
  },
  {
   "cell_type": "code",
   "execution_count": 2,
   "metadata": {},
   "outputs": [
    {
     "data": {
      "text/plain": [
       "{'new_variable': float, 'test_variable': float}"
      ]
     },
     "execution_count": 2,
     "metadata": {},
     "output_type": "execute_result"
    }
   ],
   "source": [
    "new_variable : float = 10\n",
    "test_variable : float = 10\n",
    "\n",
    "__annotations__"
   ]
  },
  {
   "cell_type": "markdown",
   "metadata": {},
   "source": [
    "## Mypy type checker\n",
    "\n",
    "Tool that allows you to check if the programme respects the specified type hints."
   ]
  },
  {
   "cell_type": "markdown",
   "metadata": {},
   "source": [
    "So in the following example a function is defined that takes two arguments and they are annotated as `int`. And just in the next line funciton call just ignores annotations."
   ]
  },
  {
   "cell_type": "code",
   "execution_count": 8,
   "metadata": {},
   "outputs": [
    {
     "name": "stdout",
     "output_type": "stream",
     "text": [
      "Overwriting type_annotations_files/mypy_example.py\n"
     ]
    }
   ],
   "source": [
    "%%writefile type_annotations_files/mypy_example.py\n",
    "def bin_sum(a: int, b: int):\n",
    "    return a+b\n",
    "\n",
    "print(bin_sum(\"a\", \"b\"))"
   ]
  },
  {
   "cell_type": "markdown",
   "metadata": {},
   "source": [
    "Just execution of the program won't cause any problems."
   ]
  },
  {
   "cell_type": "code",
   "execution_count": 9,
   "metadata": {},
   "outputs": [
    {
     "name": "stdout",
     "output_type": "stream",
     "text": [
      "ab\n"
     ]
    }
   ],
   "source": [
    "!python3 type_annotations_files/mypy_example.py"
   ]
  },
  {
   "cell_type": "markdown",
   "metadata": {},
   "source": [
    "Which strings do not meet the type annotation."
   ]
  },
  {
   "cell_type": "code",
   "execution_count": 10,
   "metadata": {},
   "outputs": [
    {
     "name": "stdout",
     "output_type": "stream",
     "text": [
      "type_annotations_files/mypy_example.py:4: \u001b[1m\u001b[31merror:\u001b[m Argument 1 to \u001b[m\u001b[1m\"bin_sum\"\u001b[m has incompatible type \u001b[m\u001b[1m\"str\"\u001b[m; expected \u001b[m\u001b[1m\"int\"\u001b[m  \u001b[m\u001b[33m[arg-type]\u001b[m\n",
      "type_annotations_files/mypy_example.py:4: \u001b[1m\u001b[31merror:\u001b[m Argument 2 to \u001b[m\u001b[1m\"bin_sum\"\u001b[m has incompatible type \u001b[m\u001b[1m\"str\"\u001b[m; expected \u001b[m\u001b[1m\"int\"\u001b[m  \u001b[m\u001b[33m[arg-type]\u001b[m\n",
      "\u001b[1m\u001b[31mFound 2 errors in 1 file (checked 1 source file)\u001b[m\n"
     ]
    }
   ],
   "source": [
    "!python3 -m mypy type_annotations_files/mypy_example.py"
   ]
  },
  {
   "cell_type": "markdown",
   "metadata": {},
   "source": [
    "### Get mypy types\n",
    "\n",
    "`Mypy` has it's own type detection system, so sometimes it's useful to know how to check what type it's detecting. You can do this using the `reveal_type` and `reveal_locals` functions.\n",
    "\n",
    "**Note** You don't need to import them or something `mypy` will understand them by itself."
   ]
  },
  {
   "cell_type": "markdown",
   "metadata": {},
   "source": [
    "Here is an example of the `reveal_type` function, which allows you to understand how mypy interprets the type of a given name."
   ]
  },
  {
   "cell_type": "code",
   "execution_count": 8,
   "metadata": {},
   "outputs": [
    {
     "name": "stdout",
     "output_type": "stream",
     "text": [
      "Writing type_annotations_files/mypy_reveal_type.py\n"
     ]
    }
   ],
   "source": [
    "%%writefile type_annotations_files/mypy_reveal_type.py\n",
    "import numpy as np\n",
    "reveal_type(np.pi)"
   ]
  },
  {
   "cell_type": "code",
   "execution_count": 10,
   "metadata": {},
   "outputs": [
    {
     "name": "stdout",
     "output_type": "stream",
     "text": [
      "type_annotations_files/mypy_reveal_type.py:2: \u001b[34mnote:\u001b[m Revealed type is \u001b[m\u001b[1m\"builtins.float\"\u001b[m\u001b[m\n",
      "\u001b[1m\u001b[32mSuccess: no issues found in 1 source file\u001b[m\n"
     ]
    }
   ],
   "source": [
    "!python3 -m mypy type_annotations_files/mypy_reveal_type.py"
   ]
  },
  {
   "cell_type": "markdown",
   "metadata": {},
   "source": [
    "And an example of `reveal_locals`, which prints out information about all the variables in the namespace."
   ]
  },
  {
   "cell_type": "code",
   "execution_count": 11,
   "metadata": {},
   "outputs": [
    {
     "name": "stdout",
     "output_type": "stream",
     "text": [
      "Writing type_annotations_files/mypy_reveal_locals.py\n"
     ]
    }
   ],
   "source": [
    "%%writefile type_annotations_files/mypy_reveal_locals.py\n",
    "my_float = 10.\n",
    "my_int = 10\n",
    "\n",
    "reveal_locals()"
   ]
  },
  {
   "cell_type": "code",
   "execution_count": 12,
   "metadata": {},
   "outputs": [
    {
     "name": "stdout",
     "output_type": "stream",
     "text": [
      "type_annotations_files/mypy_reveal_locals.py:4: \u001b[34mnote:\u001b[m Revealed local types are:\u001b[m\n",
      "type_annotations_files/mypy_reveal_locals.py:4: \u001b[34mnote:\u001b[m     my_float: builtins.float\u001b[m\n",
      "type_annotations_files/mypy_reveal_locals.py:4: \u001b[34mnote:\u001b[m     my_int: builtins.int\u001b[m\n",
      "\u001b[1m\u001b[32mSuccess: no issues found in 1 source file\u001b[m\n"
     ]
    }
   ],
   "source": [
    "!python3 -m mypy type_annotations_files/mypy_reveal_locals.py"
   ]
  },
  {
   "cell_type": "markdown",
   "metadata": {},
   "source": [
    "### Wrong syntax\n",
    "\n",
    "The Python interpreter doesn't throw exceptions even if there are annotations that are defined incorrectly. But `mypy` will throw errors on it's side."
   ]
  },
  {
   "cell_type": "markdown",
   "metadata": {},
   "source": [
    "Here is an example where we are trying to annotate the dictionary, but instead of annotating key and value types, we have only annotated one."
   ]
  },
  {
   "cell_type": "code",
   "execution_count": 7,
   "metadata": {},
   "outputs": [
    {
     "name": "stdout",
     "output_type": "stream",
     "text": [
      "Writing type_annotations_files/mypy_wrong_syntax.py\n"
     ]
    }
   ],
   "source": [
    "%%writefile type_annotations_files/mypy_wrong_syntax.py\n",
    "my_dict: dict[int]"
   ]
  },
  {
   "cell_type": "markdown",
   "metadata": {},
   "source": [
    "If you try to run it just with the python interpreter, it works fine."
   ]
  },
  {
   "cell_type": "code",
   "execution_count": 8,
   "metadata": {},
   "outputs": [],
   "source": [
    "!python3 type_annotations_files/mypy_wrong_syntax.py"
   ]
  },
  {
   "cell_type": "markdown",
   "metadata": {},
   "source": [
    "But `mypy` raises corresponding error."
   ]
  },
  {
   "cell_type": "code",
   "execution_count": 9,
   "metadata": {},
   "outputs": [
    {
     "name": "stdout",
     "output_type": "stream",
     "text": [
      "type_annotations_files/mypy_wrong_syntax.py:1: \u001b[1m\u001b[31merror:\u001b[m \u001b[m\u001b[1m\"dict\"\u001b[m expects 2 type arguments, but 1 given  \u001b[m\u001b[33m[type-arg]\u001b[m\n",
      "\u001b[1m\u001b[31mFound 1 error in 1 file (checked 1 source file)\u001b[m\n"
     ]
    }
   ],
   "source": [
    "!python3 -m mypy type_annotations_files/mypy_wrong_syntax.py"
   ]
  }
 ],
 "metadata": {
  "kernelspec": {
   "display_name": "Python 3",
   "language": "python",
   "name": "python3"
  },
  "language_info": {
   "codemirror_mode": {
    "name": "ipython",
    "version": 3
   },
   "file_extension": ".py",
   "mimetype": "text/x-python",
   "name": "python",
   "nbconvert_exporter": "python",
   "pygments_lexer": "ipython3",
   "version": "3.10.14"
  }
 },
 "nbformat": 4,
 "nbformat_minor": 2
}
