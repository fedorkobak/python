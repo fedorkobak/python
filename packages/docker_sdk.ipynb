{
 "cells": [
  {
   "cell_type": "markdown",
   "id": "f87ac862-cb9c-4c8c-aa2c-3e84e6a0e67d",
   "metadata": {},
   "source": [
    "# Docker SDK\n",
    "\n",
    "There is a Python library that allows you to manage your Docker instance using Python [docker-py](https://docker-py.readthedocs.io/en/stable/index.html#)."
   ]
  },
  {
   "cell_type": "code",
   "execution_count": 1,
   "id": "cb7d1320-6983-4a1e-9377-791774d3d7c2",
   "metadata": {},
   "outputs": [],
   "source": [
    "import docker\n",
    "client = docker.from_env()"
   ]
  },
  {
   "cell_type": "markdown",
   "id": "23fe7162",
   "metadata": {},
   "source": [
    "## Intoduction"
   ]
  },
  {
   "cell_type": "markdown",
   "id": "47d0aa9c-abf5-48f3-b211-67be3cb33e34",
   "metadata": {},
   "source": [
    "As an introduction, consider the really basic operations of working with Docker - how they can be performed using the docker sdk:\n",
    "\n",
    "- Image build.\n",
    "- Images list.\n",
    "- Container run.\n",
    "- Containers list.\n",
    "- Container remove.\n",
    "- Image remove."
   ]
  },
  {
   "cell_type": "markdown",
   "id": "65b34e48-4dcc-48cb-81d1-8f24b0b03430",
   "metadata": {},
   "source": [
    "As an example, we will use an image based on the dockerfile defined below:"
   ]
  },
  {
   "cell_type": "code",
   "execution_count": 10,
   "id": "7e105f18-f42b-4016-a6a3-1d606032560b",
   "metadata": {},
   "outputs": [],
   "source": [
    "!mkdir -p /tmp/docker_sdk_files"
   ]
  },
  {
   "cell_type": "code",
   "execution_count": 11,
   "id": "a399ac87",
   "metadata": {},
   "outputs": [
    {
     "name": "stdout",
     "output_type": "stream",
     "text": [
      "Overwriting /tmp/docker_sdk_files/dockerfile\n"
     ]
    }
   ],
   "source": [
    "%%writefile /tmp/docker_sdk_files/dockerfile\n",
    "FROM ubuntu\n",
    "CMD [\"echo\", \"hello_new_image\"]"
   ]
  },
  {
   "cell_type": "markdown",
   "id": "65c6f14d-d25a-4695-8ccd-23d0beab87fc",
   "metadata": {},
   "source": [
    "It's an image that will print `hello_new_image` when it starts."
   ]
  },
  {
   "cell_type": "markdown",
   "id": "2f6ee823-0d98-426f-8ee0-862941c1468d",
   "metadata": {},
   "source": [
    "**Build image**\n",
    "\n",
    "Using `docker_client.images.build` we can build the image."
   ]
  },
  {
   "cell_type": "code",
   "execution_count": 12,
   "id": "a8c5ae7f-3be6-402b-985b-dcf46d15242e",
   "metadata": {},
   "outputs": [
    {
     "data": {
      "text/plain": [
       "(<Image: 'modified_hello_world:latest'>, <itertools._tee at 0x710a12d9e200>)"
      ]
     },
     "execution_count": 12,
     "metadata": {},
     "output_type": "execute_result"
    }
   ],
   "source": [
    "client.images.build(path=\"/tmp/docker_sdk_files\", tag=\"modified_hello_world\")"
   ]
  },
  {
   "cell_type": "markdown",
   "id": "39c107c9-0710-495a-b6cf-aa3e53a8be8b",
   "metadata": {},
   "source": [
    "**List images**\n",
    "\n",
    "To list all images use the `docker_client.images.list` method, it will return a `list` of all images in the docker daemon."
   ]
  },
  {
   "cell_type": "markdown",
   "id": "b3886c30-4954-4e87-bd4a-9c6a95f31105",
   "metadata": {},
   "source": [
    "The following example shows the top element of the list - there should be an image just created."
   ]
  },
  {
   "cell_type": "code",
   "execution_count": 13,
   "id": "3546e44e-587d-4f38-9bb0-5c29f39bc819",
   "metadata": {},
   "outputs": [
    {
     "data": {
      "text/plain": [
       "<Image: 'modified_hello_world:latest'>"
      ]
     },
     "execution_count": 13,
     "metadata": {},
     "output_type": "execute_result"
    }
   ],
   "source": [
    "client.images.list()[0]"
   ]
  },
  {
   "cell_type": "markdown",
   "id": "818b3947-7456-4f0c-9007-df3fbadcf74b",
   "metadata": {},
   "source": [
    "**Run container**\n",
    "\n",
    "For more details check [specific page about containers](docker_sdk/containers.ipynb).\n",
    "\n",
    "Let's try to run the container based on the image we just created."
   ]
  },
  {
   "cell_type": "code",
   "execution_count": null,
   "id": "bb1e4872-0194-42b7-bc1b-c65bbdfe9b13",
   "metadata": {},
   "outputs": [
    {
     "data": {
      "text/plain": [
       "b'hello_new_image\\n'"
      ]
     },
     "execution_count": 14,
     "metadata": {},
     "output_type": "execute_result"
    }
   ],
   "source": [
    "client.containers.run(\n",
    "    'modified_hello_world', \n",
    "    name=\"modified_hello_world_container\"\n",
    ")"
   ]
  },
  {
   "cell_type": "markdown",
   "id": "aab2b267-4e6d-4dea-8a9c-a75f320ab526",
   "metadata": {},
   "source": [
    "As expected, we got a message back from the container."
   ]
  },
  {
   "cell_type": "markdown",
   "id": "de0c88da-586b-4951-b45e-6c9fba2753df",
   "metadata": {},
   "source": [
    "**List containers**\n",
    "\n",
    "To list available containers, you actually need the same method as for images - `client.containers.list`. The following example prints the name of the first container in the list - it is the same as we specified when running that container."
   ]
  },
  {
   "cell_type": "code",
   "execution_count": 15,
   "id": "699e5a62-847b-47bf-a74b-a116685d7da4",
   "metadata": {},
   "outputs": [
    {
     "data": {
      "text/plain": [
       "'modified_hello_world_container'"
      ]
     },
     "execution_count": 15,
     "metadata": {},
     "output_type": "execute_result"
    }
   ],
   "source": [
    "client.containers.list(all = True)[0].name"
   ]
  },
  {
   "cell_type": "markdown",
   "id": "cc28ea0a-2d68-4c02-9696-54411fe12e8f",
   "metadata": {},
   "source": [
    "**Remove container**\n",
    "\n",
    "To remove a container, you can use the `remove` method of the **container itself**."
   ]
  },
  {
   "cell_type": "markdown",
   "id": "432c89fd-0061-4d4e-8013-14e3f52f2182",
   "metadata": {},
   "source": [
    "The following example runs the `remove` method on the container we created earlier, and shows the list of containers - it's now empty."
   ]
  },
  {
   "cell_type": "code",
   "execution_count": null,
   "id": "48652b26-e9e1-4934-a691-01949e3bb81d",
   "metadata": {},
   "outputs": [
    {
     "data": {
      "text/plain": [
       "[<Container: 4065dbc52270>,\n",
       " <Container: fd82f0fb24df>,\n",
       " <Container: 2d6dd3e39210>,\n",
       " <Container: 1a06c8f8fc92>,\n",
       " <Container: db44a0789e04>,\n",
       " <Container: d53d6874f3c8>,\n",
       " <Container: 989a496be053>]"
      ]
     },
     "execution_count": 16,
     "metadata": {},
     "output_type": "execute_result"
    }
   ],
   "source": [
    "client.containers.list(all=True)[0].remove()\n",
    "client.containers.list(all=True)"
   ]
  },
  {
   "cell_type": "markdown",
   "id": "e581000c-194b-41ec-a1d4-8c9d8f6b2780",
   "metadata": {},
   "source": [
    "**Remove image**\n",
    "\n",
    "By using method `images.remove` you can remove image. "
   ]
  },
  {
   "cell_type": "markdown",
   "id": "ca0b19bb-f1b4-4030-9db8-741e869ea0e3",
   "metadata": {},
   "source": [
    "The following example applies it to the image created for this example, and shows the list of images - there are some images on my system now, but there are no more `modified_hello_world` images."
   ]
  },
  {
   "cell_type": "code",
   "execution_count": 17,
   "id": "c0683abd-ac16-4a11-9082-458680786728",
   "metadata": {},
   "outputs": [
    {
     "data": {
      "text/plain": [
       "[<Image: 'docker:latest'>,\n",
       " <Image: 'clickhouse/clickhouse-server:latest'>,\n",
       " <Image: 'airflow:latest'>,\n",
       " <Image: 'apache/airflow:3.0.0b4'>,\n",
       " <Image: 'ghcr.io/mlflow/mlflow:v2.21.0'>,\n",
       " <Image: 'dad_backup:latest'>,\n",
       " <Image: 'postgres:17.4'>,\n",
       " <Image: 'postgres:latest'>,\n",
       " <Image: 'alpine:latest'>,\n",
       " <Image: 'apache/airflow:2.10.5', 'apache/airflow:latest'>,\n",
       " <Image: 'python:3.12'>,\n",
       " <Image: 'ubuntu:24.04', 'ubuntu:latest'>,\n",
       " <Image: 'knowledge_dev:latest'>,\n",
       " <Image: 'knowledge_jupyter:latest'>,\n",
       " <Image: 'knowledge_docker:latest'>,\n",
       " <Image: 'clickhouse/clickhouse-server:24'>,\n",
       " <Image: 'apache/airflow:2.1.2'>,\n",
       " <Image: 'postgres:15.4'>,\n",
       " <Image: 'brandoncc/vim-be-good:stable'>]"
      ]
     },
     "execution_count": 17,
     "metadata": {},
     "output_type": "execute_result"
    }
   ],
   "source": [
    "client.images.remove(\"modified_hello_world\")\n",
    "client.images.list()"
   ]
  }
 ],
 "metadata": {
  "kernelspec": {
   "display_name": "python",
   "language": "python",
   "name": "python3"
  },
  "language_info": {
   "codemirror_mode": {
    "name": "ipython",
    "version": 3
   },
   "file_extension": ".py",
   "mimetype": "text/x-python",
   "name": "python",
   "nbconvert_exporter": "python",
   "pygments_lexer": "ipython3",
   "version": "3.12.9"
  }
 },
 "nbformat": 4,
 "nbformat_minor": 5
}
