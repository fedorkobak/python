{
 "cells": [
  {
   "cell_type": "markdown",
   "id": "daabe0c8-cdfe-48ee-991f-b1a52063b3ba",
   "metadata": {},
   "source": [
    "# Print options\n",
    "\n",
    "Numpy outputs can be configured through `set_printoptions` function. Here is described with examples some options.\n",
    "\n",
    "For more information, see the corresponding page in the [official documentation](https://numpy.org/doc/stable/reference/generated/numpy.set_printoptions.html)."
   ]
  },
  {
   "cell_type": "code",
   "execution_count": 1,
   "id": "f89ae27f-3f27-468d-859d-cdc38e9a9d49",
   "metadata": {},
   "outputs": [],
   "source": [
    "import numpy as np\n",
    "\n",
    "np.random.seed(1)\n",
    "arr = np.random.uniform(-10, 10, 20)"
   ]
  },
  {
   "cell_type": "markdown",
   "id": "1dfa7417-9c36-4e75-939b-8d6711d548ef",
   "metadata": {
    "tags": []
   },
   "source": [
    "## `precision`\n",
    "\n",
    "Allows you to select the number of characters to be displayed after the decimal separator. By default it's 8."
   ]
  },
  {
   "cell_type": "markdown",
   "id": "5c1a83df",
   "metadata": {},
   "source": [
    "---\n",
    "\n",
    "The following cell shows outputs for the different values of the parameter."
   ]
  },
  {
   "cell_type": "code",
   "execution_count": 4,
   "id": "fd6077be-9887-4182-a7df-22b1bc698d94",
   "metadata": {},
   "outputs": [
    {
     "name": "stdout",
     "output_type": "stream",
     "text": [
      "precision=3\n",
      "[-1.66   4.406 -9.998 -3.953 -7.065 -8.153 -6.275 -3.089 -2.065  0.776\n",
      " -1.616  3.704 -5.911  7.562 -9.452  3.409 -1.654  1.174 -7.192 -6.038]\n",
      "precision=5\n",
      "[-1.65956  4.40649 -9.99771 -3.95335 -7.06488 -8.15323 -6.2748  -3.08879\n",
      " -2.06465  0.77633 -1.61611  3.70439 -5.91096  7.56235 -9.45225  3.40935\n",
      " -1.6539   1.1738  -7.19226 -6.03797]\n"
     ]
    }
   ],
   "source": [
    "print(\"precision=3\")\n",
    "np.set_printoptions(\n",
    "    precision=3\n",
    ")\n",
    "print(arr)\n",
    "print(\"precision=5\")\n",
    "np.set_printoptions(\n",
    "    precision=5\n",
    ")\n",
    "print(arr)"
   ]
  },
  {
   "cell_type": "markdown",
   "id": "b6cfe439-9644-4bdc-90f7-d62de47b99db",
   "metadata": {
    "tags": []
   },
   "source": [
    "## `threshold`\n",
    "\n",
    "With the `threshold` parameter you can specify the maximum size of the array that can be represented without any summarisation. Summarisation is a way to represent an array shorter by hiding some of the elements."
   ]
  },
  {
   "cell_type": "markdown",
   "id": "d06a2436",
   "metadata": {},
   "source": [
    "---\n",
    "\n",
    "The following cell shows in the contrast representation of the 20 elements array with values `threshold=20` and `threshold=19` values."
   ]
  },
  {
   "cell_type": "code",
   "execution_count": 14,
   "id": "70c4036e-dee9-4ae3-8f4d-2f62f1e48445",
   "metadata": {},
   "outputs": [
    {
     "name": "stdout",
     "output_type": "stream",
     "text": [
      "threshold=20; lead to full display of the array\n",
      "[0.51998728 0.85432652 0.73038509 0.44367867 0.84823692 0.2926463\n",
      " 0.06968334 0.65043151 0.92419416 0.12764245 0.0786205  0.23087711\n",
      " 0.74445412 0.61933252 0.55952937 0.44320053 0.34593265 0.001056\n",
      " 0.18968612 0.75649162]\n",
      "threshold=19; lead ot display just summary of the array\n",
      "[0.51998728 0.85432652 0.73038509 ... 0.001056   0.18968612 0.75649162]\n"
     ]
    }
   ],
   "source": [
    "arr = np.random.rand(20)\n",
    "\n",
    "print(\"threshold=20; lead to full display of the array\")\n",
    "np.set_printoptions(threshold=20)\n",
    "print(arr)\n",
    "\n",
    "print(\"threshold=19; lead ot display just summary of the array\")\n",
    "np.set_printoptions(threshold=19)\n",
    "print(arr)"
   ]
  },
  {
   "cell_type": "markdown",
   "id": "c84fb85b-293d-4adf-86ac-d2dda4cab064",
   "metadata": {
    "tags": []
   },
   "source": [
    "## `edgeitems`\n",
    "\n",
    "Defines how many elements are displayed on both sides of `...`. By default it's 3."
   ]
  },
  {
   "cell_type": "markdown",
   "id": "54dc514b",
   "metadata": {},
   "source": [
    "---\n",
    "\n",
    "The following cell shows in the contrast representation of the array with `edgeitems=3` and `edgeitems=5`."
   ]
  },
  {
   "cell_type": "code",
   "execution_count": 18,
   "id": "56deb5a7-f2d8-46db-89bd-d5942629f218",
   "metadata": {},
   "outputs": [
    {
     "name": "stdout",
     "output_type": "stream",
     "text": [
      "edgeitems=3\n",
      "[0.17201879 0.00447939 0.45801459 ... 0.94304821 0.91343646 0.49323007]\n",
      "edgeitems=5\n",
      "[0.17201879 0.00447939 0.45801459 0.90427001 0.15933161 ... 0.19034866\n",
      " 0.49419617 0.94304821 0.91343646 0.49323007]\n"
     ]
    }
   ],
   "source": [
    "arr = np.random.rand(20)\n",
    "np.set_printoptions(\n",
    "    edgeitems=3,\n",
    "    threshold=0\n",
    ")\n",
    "print(\"edgeitems=3\")\n",
    "print(arr)\n",
    "\n",
    "np.set_printoptions(\n",
    "    edgeitems=5\n",
    ")\n",
    "print(\"edgeitems=5\")\n",
    "print(arr)"
   ]
  },
  {
   "cell_type": "markdown",
   "id": "2631d1ba-6ee9-420a-a93d-7f348357d4ce",
   "metadata": {
    "tags": []
   },
   "source": [
    "## `linewidth`\n",
    "\n",
    "How many characters will be displayed on each line, the default is 75. `[` and `\\n` are also counted. That's why you always get 3 characters less from the array. The result seems to be approximate, because the specified `linewidth` may not be a multiple of the number of matrix symbols. Moreover, strings are different - minuses, and the value of the `precision` argument will affect the length of strings."
   ]
  },
  {
   "cell_type": "markdown",
   "id": "6afa1494",
   "metadata": {},
   "source": [
    "---\n",
    "\n",
    "The follwing cell sets the parameter under consideration to the 20. And prints the array."
   ]
  },
  {
   "cell_type": "code",
   "execution_count": 15,
   "id": "044e8ee9-099c-45a7-bbd4-5bd3da0db8fe",
   "metadata": {},
   "outputs": [
    {
     "name": "stdout",
     "output_type": "stream",
     "text": [
      "[ -1.7   4.4 -10.\n",
      "  -4.   -7.1  -8.2\n",
      "  -6.3  -3.1  -2.1\n",
      "   0.8  -1.6   3.7\n",
      "  -5.9   7.6  -9.5\n",
      "   3.4  -1.7   1.2\n",
      "  -7.2  -6. ]\n"
     ]
    }
   ],
   "source": [
    "np.set_printoptions(\n",
    "    linewidth=20,\n",
    "    threshold=1000,\n",
    "    precision=1\n",
    ")\n",
    "print(arr)"
   ]
  },
  {
   "cell_type": "markdown",
   "id": "0c817cf3",
   "metadata": {},
   "source": [
    "Array is printed thinner than the default numpy representation. To be sure that numpy has followed to the specified instructions, the following cell counts the number of symbols for each row."
   ]
  },
  {
   "cell_type": "code",
   "execution_count": 23,
   "id": "4841ccf7",
   "metadata": {},
   "outputs": [
    {
     "name": "stdout",
     "output_type": "stream",
     "text": [
      "- '[ -1.7   4.4 -10.' - 17 symbols\n",
      "- '  -4.   -7.1  -8.2' - 18 symbols\n",
      "- '  -6.3  -3.1  -2.1' - 18 symbols\n",
      "- '   0.8  -1.6   3.7' - 18 symbols\n",
      "- '  -5.9   7.6  -9.5' - 18 symbols\n",
      "- '   3.4  -1.7   1.2' - 18 symbols\n",
      "- '  -7.2  -6. ]' - 13 symbols\n"
     ]
    }
   ],
   "source": [
    "matr_strs = str(arr).split(\"\\n\")\n",
    "for line in matr_strs:\n",
    "    print(f\"- '{line}' - {len(line)} symbols\")"
   ]
  },
  {
   "cell_type": "markdown",
   "id": "9af4517a",
   "metadata": {},
   "source": [
    "All lines have less than 20 symbols - the only option to fit the array into lines that don't take more than 20 symbols."
   ]
  },
  {
   "cell_type": "markdown",
   "id": "d8c5f9c0-285b-4b33-895f-3254c268cd64",
   "metadata": {
    "tags": []
   },
   "source": [
    "## Fixed point notation\n",
    "\n",
    "Fixed point notation (e.g. exponential notation, scientific notation) is a way of writting numbers like this `1e-4`. By default, numpy will print any array using this type of notation only if $m < 1e-4$ or $M/m > 1e3$, where $m$ minimum value in the array under consideration $M$ maximum value of the array under consideration. You can change the behaviour by using the `supress=True` parameter of the `set_printoptions`, this forces numpy to always use the regular form of the number. "
   ]
  },
  {
   "cell_type": "markdown",
   "id": "e407dc01",
   "metadata": {},
   "source": [
    "---\n",
    "\n",
    "The following cell creates a numpy array where one of the numbers is extremely small, and displays it with different values of the `suppress` parameter."
   ]
  },
  {
   "cell_type": "code",
   "execution_count": 7,
   "id": "e5b9cde2",
   "metadata": {},
   "outputs": [
    {
     "name": "stdout",
     "output_type": "stream",
     "text": [
      "[ 0.000001 10.      ]\n",
      "[1.e-06 1.e+01]\n"
     ]
    }
   ],
   "source": [
    "example_array = np.array([1e-6, 10])\n",
    "\n",
    "np.set_printoptions(suppress=True)\n",
    "print(example_array)\n",
    "\n",
    "np.set_printoptions(suppress=False)\n",
    "print(example_array)"
   ]
  },
  {
   "cell_type": "markdown",
   "id": "0820da17",
   "metadata": {},
   "source": [
    "The same example, but using a different rule of printing value in the scientific form - ratio of minimum and maximum numbers."
   ]
  },
  {
   "cell_type": "code",
   "execution_count": 10,
   "id": "6988f21f",
   "metadata": {},
   "outputs": [
    {
     "name": "stdout",
     "output_type": "stream",
     "text": [
      "[     1. 100000.]\n",
      "[1.e+00 1.e+05]\n"
     ]
    }
   ],
   "source": [
    "example_array = np.array([1, 1e+5])\n",
    "\n",
    "np.set_printoptions(suppress=True)\n",
    "print(example_array)\n",
    "\n",
    "np.set_printoptions(suppress=False)\n",
    "print(example_array)"
   ]
  },
  {
   "cell_type": "markdown",
   "id": "88ea8c08-36c6-4957-8fd9-5de42d751c62",
   "metadata": {},
   "source": [
    "**Note:** Scientific notation doesn't work for the integer datatype. The following cell show examples with the same arrays, but one stored in the integer datatype and the other in the float datatype."
   ]
  },
  {
   "cell_type": "code",
   "execution_count": 11,
   "id": "5db83ac4-4d49-475c-bc0f-cd661c534a21",
   "metadata": {},
   "outputs": [
    {
     "name": "stdout",
     "output_type": "stream",
     "text": [
      "int\n",
      "[   1 1001]\n",
      "\n",
      "\n",
      "float\n",
      "[1.000e+00 1.001e+03]\n"
     ]
    }
   ],
   "source": [
    "np.set_printoptions(suppress = False)\n",
    "\n",
    "print(\"int\")\n",
    "ints_arr = np.array([1, 1001])\n",
    "print(ints_arr, end = \"\\n\\n\\n\")\n",
    "\n",
    "floats_arr = np.array([1.0, 1001])\n",
    "print(\"float\")\n",
    "print(floats_arr)"
   ]
  },
  {
   "cell_type": "markdown",
   "id": "d9234c51-5532-4d5c-b4f5-020269567012",
   "metadata": {
    "jp-MarkdownHeadingCollapsed": true,
    "tags": []
   },
   "source": [
    "## `nanstr` \n",
    "\n",
    "`nanstr` parameter allows to set what string to use for pringing `NaN` values."
   ]
  },
  {
   "cell_type": "markdown",
   "id": "f586b28f",
   "metadata": {},
   "source": [
    "---\n",
    "\n",
    "The following cell prints an array with `nanstr=\"No data\"`."
   ]
  },
  {
   "cell_type": "code",
   "execution_count": 5,
   "id": "8ad8a738-aa21-4704-a2eb-4478796a4478",
   "metadata": {},
   "outputs": [
    {
     "data": {
      "text/plain": [
       "array([[No data,      0., No data,      0.],\n",
       "       [     0., No data,      0., No data],\n",
       "       [No data,      0., No data,      0.],\n",
       "       [     0., No data,      0., No data]])"
      ]
     },
     "execution_count": 5,
     "metadata": {},
     "output_type": "execute_result"
    }
   ],
   "source": [
    "np.set_printoptions(nanstr=\"No data\")\n",
    "\n",
    "nan_arr = np.fromfunction(\n",
    "    lambda i, j: np.where(\n",
    "        (i+j)%2, 0, np.nan\n",
    "    ),\n",
    "    (4,4)\n",
    ")\n",
    "\n",
    "nan_arr"
   ]
  },
  {
   "cell_type": "markdown",
   "id": "56b147cb-d1bd-48d3-b821-3a8c219853f2",
   "metadata": {
    "jp-MarkdownHeadingCollapsed": true,
    "tags": []
   },
   "source": [
    "## `infstr`\n",
    "\n",
    "The `infstr` parameter allows you to specify how the way infinity is displayed on your numpy arrays."
   ]
  },
  {
   "cell_type": "markdown",
   "id": "3fb510c1",
   "metadata": {},
   "source": [
    "---\n",
    "\n",
    "Following code shows how `Custom infinity` line can be used for defining how infinity values have to be displayed in numpy arrays."
   ]
  },
  {
   "cell_type": "code",
   "execution_count": 7,
   "id": "bc7ea88a-f573-4456-a6c4-349517c204f0",
   "metadata": {},
   "outputs": [
    {
     "data": {
      "text/plain": [
       "array([[ Custom infinity, -Custom infinity,  Custom infinity,\n",
       "        -Custom infinity],\n",
       "       [-Custom infinity,  Custom infinity, -Custom infinity,\n",
       "         Custom infinity],\n",
       "       [ Custom infinity, -Custom infinity,  Custom infinity,\n",
       "        -Custom infinity],\n",
       "       [-Custom infinity,  Custom infinity, -Custom infinity,\n",
       "         Custom infinity]])"
      ]
     },
     "execution_count": 7,
     "metadata": {},
     "output_type": "execute_result"
    }
   ],
   "source": [
    "np.set_printoptions(infstr=\"Custom infinity\")\n",
    "\n",
    "nan_arr = np.fromfunction(\n",
    "    lambda i, j: np.where(\n",
    "        (i+j)%2, -np.inf, np.inf\n",
    "    ),\n",
    "    (4,4)\n",
    ")\n",
    "\n",
    "nan_arr"
   ]
  },
  {
   "cell_type": "markdown",
   "id": "b19ae357-5960-4e6b-bb35-c10528497ee9",
   "metadata": {
    "jp-MarkdownHeadingCollapsed": true,
    "tags": []
   },
   "source": [
    "## `sign`\n",
    "\n",
    "With sign parameter allows you specify how numpy handles the displaycement of the `+` sign. Generally it can take 3 values \" \", \"+\" and \"-\":\n",
    "\n",
    "- In case of \"-\", nothing is printed.\n",
    "- In the case \"+\", each positive number is preceded by a \"+\".\n",
    "- In the case \" \", each positive number is preceded by a space.  "
   ]
  },
  {
   "cell_type": "markdown",
   "id": "e7396469",
   "metadata": {},
   "source": [
    "---\n",
    "\n",
    "The next cell shows the differences in display for all possible cases."
   ]
  },
  {
   "cell_type": "code",
   "execution_count": 8,
   "id": "70096041-832b-4793-9b61-643ba2126694",
   "metadata": {},
   "outputs": [
    {
     "name": "stdout",
     "output_type": "stream",
     "text": [
      "[1.]\n",
      "[+1.]\n",
      "[ 1.]\n"
     ]
    }
   ],
   "source": [
    "np.set_printoptions(\n",
    "    sign='-',\n",
    "    linewidth=10\n",
    ")\n",
    "print(np.array([1.0]))\n",
    "\n",
    "np.set_printoptions(sign='+')\n",
    "print(np.array([1.0]))\n",
    "\n",
    "np.set_printoptions(sign=' ')\n",
    "print(np.array([1.0]))"
   ]
  },
  {
   "cell_type": "markdown",
   "id": "95973b38-180d-40bf-8bcb-0638c040f38d",
   "metadata": {},
   "source": [
    "**Note:** if you're using `sign='-'`, numpy still may can add some space to the negative numbers just to make the result to look like a matrix."
   ]
  },
  {
   "cell_type": "code",
   "execution_count": null,
   "id": "a40758b6-45eb-4b6f-bfd0-79138f25d782",
   "metadata": {},
   "outputs": [
    {
     "name": "stdout",
     "output_type": "stream",
     "text": [
      "[[-0.27320818 -1.730814   -0.25073122]\n",
      " [ 0.62554647  1.92942427  0.4122529 ]\n",
      " [ 0.42870972  0.18284921 -0.80934173]]\n",
      "[[-0.27320818 -1.730814   -0.25073122]\n",
      " [ 0.62554647  1.92942427  0.4122529 ]\n",
      " [ 0.42870972  0.18284921 -0.80934173]]\n"
     ]
    }
   ],
   "source": [
    "arr = np.random.normal(0, 1, [3, 3])\n",
    "\n",
    "np.set_printoptions(sign='-', linewidth=50)\n",
    "print(arr)"
   ]
  },
  {
   "cell_type": "markdown",
   "id": "d1bf6dd1-dc53-45e7-8fd0-c87fd10e4926",
   "metadata": {
    "jp-MarkdownHeadingCollapsed": true,
    "tags": []
   },
   "source": [
    "## Fromatter\n",
    "\n",
    "With the `formatter` argument, you can specify for each type a fucntion that will process that type before displaying it. Just pass the dictionary that with the type/function correspondance. Also key `all` can be used to apply the function to all datatypes."
   ]
  },
  {
   "cell_type": "markdown",
   "id": "6c47241e",
   "metadata": {},
   "source": [
    "---\n",
    "\n",
    "The following cell shows application of use of the `formatter` for `float` datatype."
   ]
  },
  {
   "cell_type": "code",
   "execution_count": 3,
   "id": "eea82319-e6e4-4b54-8ce4-62e017e0d998",
   "metadata": {},
   "outputs": [
    {
     "name": "stdout",
     "output_type": "stream",
     "text": [
      "bool dtype\n",
      "[✓ ×]\n"
     ]
    }
   ],
   "source": [
    "bool_exprimental = np.array([True, False])\n",
    "def bool_formatter(val):\n",
    "    return \"✓\" if val else \"×\"\n",
    "\n",
    "np.set_printoptions(\n",
    "    formatter={'bool':bool_formatter}\n",
    ")\n",
    "print(\"bool dtype\")\n",
    "print(bool_exprimental)"
   ]
  },
  {
   "cell_type": "markdown",
   "id": "c5b3eef0-1165-4118-b0e8-0f13546146ab",
   "metadata": {},
   "source": [
    "To remove all formatters, simply pass an empty dictionary to the `formatter` argument."
   ]
  },
  {
   "cell_type": "code",
   "execution_count": 16,
   "id": "8039b7ea-ec6f-48d8-a059-502d2c99ff1c",
   "metadata": {},
   "outputs": [
    {
     "name": "stdout",
     "output_type": "stream",
     "text": [
      "[ True False]\n"
     ]
    }
   ],
   "source": [
    "np.set_printoptions(formatter={})\n",
    "print(bool_exprimental)"
   ]
  },
  {
   "cell_type": "markdown",
   "id": "24840521",
   "metadata": {},
   "source": [
    "The following code applies rules to the `all` key - so `int` will use the same rule as `float`."
   ]
  },
  {
   "cell_type": "code",
   "execution_count": 10,
   "id": "7ac07e9c-3695-4bea-80c2-6a6ba92b459e",
   "metadata": {},
   "outputs": [
    {
     "name": "stdout",
     "output_type": "stream",
     "text": [
      "[[<class 'numpy.float64'> <class 'numpy.float64'> <class 'numpy.float64'>]\n",
      " [<class 'numpy.float64'> <class 'numpy.float64'> <class 'numpy.float64'>]\n",
      " [<class 'numpy.float64'> <class 'numpy.float64'> <class 'numpy.float64'>]]\n",
      "[<class 'numpy.int64'> <class 'numpy.int64'> <class 'numpy.int64'>\n",
      " <class 'numpy.int64'>]\n"
     ]
    }
   ],
   "source": [
    "arr = np.random.rand(3, 3)\n",
    "np.set_printoptions(\n",
    "    formatter = {'all': lambda val: str(type(val))}\n",
    ")\n",
    "\n",
    "print(arr)\n",
    "print(np.array([0, 1, 2, 3]))"
   ]
  },
  {
   "cell_type": "markdown",
   "id": "79317bf7",
   "metadata": {},
   "source": [
    "**Note:** The key of the specific datatype has higher priority than the `all` key, the following cell proves this."
   ]
  },
  {
   "cell_type": "code",
   "execution_count": null,
   "id": "0ca15c4c-c613-4a30-b7b2-88eb9bd728f9",
   "metadata": {},
   "outputs": [
    {
     "data": {
      "text/plain": [
       "array([ключ для bool, ключ для bool, ключ для bool, ключ для bool,\n",
       "       ключ для bool, ключ для bool, ключ для bool, ключ для bool,\n",
       "       ключ для bool, ключ для bool, ключ для bool, ключ для bool,\n",
       "       ключ для bool, ключ для bool, ключ для bool, ключ для bool,\n",
       "       ключ для bool, ключ для bool, ключ для bool, ключ для bool])"
      ]
     },
     "execution_count": 11,
     "metadata": {},
     "output_type": "execute_result"
    }
   ],
   "source": [
    "np.set_printoptions(\n",
    "    formatter = {\n",
    "        'all': lambda x: \"ключ для all\",\n",
    "        'bool': lambda x: \"ключ для bool\",\n",
    "    }\n",
    ")\n",
    "\n",
    "bool_array = np.random.choice([True, False], 20)\n",
    "bool_array"
   ]
  },
  {
   "cell_type": "markdown",
   "id": "0b4e14c4-1f7b-403a-96d4-429f650eb8dd",
   "metadata": {
    "jp-MarkdownHeadingCollapsed": true,
    "tags": []
   },
   "source": [
    "## `floatmode`\n",
    "\n",
    "Allows you to specify more specific rules associated with the display of the float point numbers in numpy. It can take one of the following values:\n",
    "\n",
    "- `fixed`: uses exactly the number of symbols as specified by the `precision` parameter.\n",
    "- `unique`: is the number of characters required to uniquely define a number.\n",
    "- `maxprec`: if number can be defined in less than `precision` digits, it will be displayed shorter, but number can't take more than `precision` digits.\n",
    "- `maxprec_equal`: all numbers use the same number of symbols, determined by the digits required to uniquely display the longest number, but not exceeding `precision`."
   ]
  },
  {
   "cell_type": "markdown",
   "id": "27b344f0",
   "metadata": {},
   "source": [
    "---\n",
    "\n",
    "The following cell creates an array that will be used as example. The array is created so the first element can be idtentified by 4 digits and others by 2 digits."
   ]
  },
  {
   "cell_type": "code",
   "execution_count": 45,
   "id": "2e12a143-a727-43da-891e-f12181e8c5ac",
   "metadata": {},
   "outputs": [],
   "source": [
    "np.set_printoptions(precision=3)\n",
    "test_arr = np.array([0.4839, 0.7])"
   ]
  },
  {
   "cell_type": "markdown",
   "id": "6f0a28c3",
   "metadata": {},
   "source": [
    "The `floatmode='fixed'` for the given example will hide last sign of the 4-digit value, one digit value will be filled with zeros to have 3 digits."
   ]
  },
  {
   "cell_type": "code",
   "execution_count": 46,
   "id": "66ec14d8-28b5-44d3-ac75-06cd120f5f1e",
   "metadata": {},
   "outputs": [
    {
     "data": {
      "text/plain": [
       "array([0.484, 0.700], shape=(2,))"
      ]
     },
     "execution_count": 46,
     "metadata": {},
     "output_type": "execute_result"
    }
   ],
   "source": [
    "np.set_printoptions(floatmode='fixed')\n",
    "test_arr"
   ]
  },
  {
   "cell_type": "markdown",
   "id": "a9a88395",
   "metadata": {},
   "source": [
    "The `floatmode='unique'` literally tells the system to ignore the `precision=3` - all values use this and only this number of digits for complete definition."
   ]
  },
  {
   "cell_type": "code",
   "execution_count": 47,
   "id": "2813575e-9d4d-4f9f-a265-22258b0435ef",
   "metadata": {},
   "outputs": [
    {
     "data": {
      "text/plain": [
       "array([0.4839, 0.7   ], shape=(2,))"
      ]
     },
     "execution_count": 47,
     "metadata": {},
     "output_type": "execute_result"
    }
   ],
   "source": [
    "np.set_printoptions(floatmode='unique')\n",
    "test_arr"
   ]
  },
  {
   "cell_type": "markdown",
   "id": "96902ecd",
   "metadata": {},
   "source": [
    "The `floatmode='maxprec'` for a 4 digit number truncates it to 3 digits, but for a 1 digit float it just leaves as it is."
   ]
  },
  {
   "cell_type": "code",
   "execution_count": 48,
   "id": "b6dd6508-718c-4fdb-a6e8-a68b96508d43",
   "metadata": {},
   "outputs": [
    {
     "data": {
      "text/plain": [
       "array([0.484, 0.7  ], shape=(2,))"
      ]
     },
     "execution_count": 48,
     "metadata": {},
     "output_type": "execute_result"
    }
   ],
   "source": [
    "np.set_printoptions(floatmode=\"maxprec\")\n",
    "test_arr"
   ]
  },
  {
   "cell_type": "markdown",
   "id": "561c0216",
   "metadata": {},
   "source": [
    "The `floatmode=\"maxprec_equl\"` for the basic example works just like `floatmode=fixed` as the 4-digit value is measured with 3 digits, the 1-digit value is completed with zeros corresponding to the 3 digits. The main idea of this type of the `floatmode` is in the second example it uses only 2 digits for both numbers, as values with maximum number of digits have exactly 2 digits."
   ]
  },
  {
   "cell_type": "code",
   "execution_count": 50,
   "id": "6d1e6a5e-c9de-4a4c-9b8e-553f87e822f8",
   "metadata": {},
   "outputs": [
    {
     "name": "stdout",
     "output_type": "stream",
     "text": [
      "[0.484 0.700]\n",
      "[0.55 0.70]\n"
     ]
    }
   ],
   "source": [
    "np.set_printoptions(precision=3, floatmode=\"maxprec_equal\")\n",
    "print(test_arr)\n",
    "print(np.array([0.55, 0.7]))"
   ]
  }
 ],
 "metadata": {
  "kernelspec": {
   "display_name": "python",
   "language": "python",
   "name": "python3"
  },
  "language_info": {
   "codemirror_mode": {
    "name": "ipython",
    "version": 3
   },
   "file_extension": ".py",
   "mimetype": "text/x-python",
   "name": "python",
   "nbconvert_exporter": "python",
   "pygments_lexer": "ipython3",
   "version": "3.12.9"
  }
 },
 "nbformat": 4,
 "nbformat_minor": 5
}
