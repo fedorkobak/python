{
 "cells": [
  {
   "cell_type": "markdown",
   "id": "77a2a580",
   "metadata": {},
   "source": [
    "# Operations"
   ]
  },
  {
   "cell_type": "code",
   "execution_count": 1,
   "id": "6dd1f219",
   "metadata": {},
   "outputs": [],
   "source": [
    "import numpy as np"
   ]
  },
  {
   "cell_type": "markdown",
   "id": "a81cf293",
   "metadata": {},
   "source": [
    "## Tensordot\n",
    "\n",
    "`np.tensordot` realises tensors product by specified axes."
   ]
  },
  {
   "cell_type": "markdown",
   "id": "79614f6d",
   "metadata": {},
   "source": [
    "---\n",
    "\n",
    "Consider as targets for the example two-dimentional matrices:\n",
    "\n",
    "$$\n",
    "a = \\left(\\begin{array}{cc}\n",
    "    a_{11} = 1 & a_{12} = 2 \\\\ \n",
    "    a_{21} = 3 & a_{22} = 4 \\\\ \n",
    "\\end{array}\\right)\n",
    "$$\n",
    "\n",
    "$$\n",
    "b = \\left(\\begin{array}{cc}\n",
    "    b_{11} = 5 & b_{12} = 6 \\\\ \n",
    "    b_{21} = 7 & b_{22} = 8 \\\\ \n",
    "\\end{array}\\right)\n",
    "$$\n",
    "\n",
    "Following cells multiplies matrices under consideration with all possible axes combinations specified."
   ]
  },
  {
   "cell_type": "code",
   "execution_count": 2,
   "id": "8d304c75",
   "metadata": {},
   "outputs": [],
   "source": [
    "a = np.array([[1, 2], [3, 4]])\n",
    "b = np.array([[5, 6], [7, 8]])"
   ]
  },
  {
   "cell_type": "markdown",
   "id": "de731a63",
   "metadata": {},
   "source": [
    "$D^a = \\left\\{0\\right\\}, D^b=\\left\\{0\\right\\}$\n",
    "\n",
    "$$\n",
    "\\left(\\begin{array}{cc}\n",
    "    a_{11} \\dot b_{11} + a_{21} \\dot b_{21} = 26 & a_{11} \\dot b_{12} + a_{21} \\dot b_{22} = 30 \\\\ \n",
    "    a_{12} \\dot b_{11} + a_{22} \\dot b_{21} = 38 & a_{12} \\dot b_{12} + a_{22} \\dot b_{22} = 44 \\\\ \n",
    "\\end{array}\\right)\n",
    "$$"
   ]
  },
  {
   "cell_type": "code",
   "execution_count": 3,
   "id": "801b5404",
   "metadata": {},
   "outputs": [
    {
     "data": {
      "text/plain": [
       "array([[26, 30],\n",
       "       [38, 44]])"
      ]
     },
     "execution_count": 3,
     "metadata": {},
     "output_type": "execute_result"
    }
   ],
   "source": [
    "np.tensordot(a, b, (0, 0))"
   ]
  },
  {
   "cell_type": "markdown",
   "id": "ecd93f67",
   "metadata": {},
   "source": [
    "$D^a = \\left\\{0\\right\\}, D^b=\\left\\{1\\right\\}$\n",
    "\n",
    "$$\n",
    "\\left(\\begin{array}{cc}\n",
    "    a_{11} \\dot b_{11} + a_{21} \\dot b_{12} = 23 & a_{11} \\dot b_{21} + a_{21} \\dot b_{22} = 31 \\\\ \n",
    "    a_{12} \\dot b_{11} + a_{22} \\dot b_{21} = 38 & a_{12} \\dot b_{12} + a_{22} \\dot b_{22} = 44 \\\\ \n",
    "\\end{array}\\right)\n",
    "$$"
   ]
  },
  {
   "cell_type": "code",
   "execution_count": 4,
   "id": "6241a5fa",
   "metadata": {},
   "outputs": [
    {
     "data": {
      "text/plain": [
       "array([[23, 31],\n",
       "       [34, 46]])"
      ]
     },
     "execution_count": 4,
     "metadata": {},
     "output_type": "execute_result"
    }
   ],
   "source": [
    "np.tensordot(a, b, (0, 1))"
   ]
  },
  {
   "cell_type": "markdown",
   "id": "ddcb4ad1",
   "metadata": {},
   "source": [
    "$D^a = \\left\\{1\\right\\}, D^b=\\left\\{0\\right\\}$\n",
    "\n",
    "$$\n",
    "\\left(\\begin{array}{cc}\n",
    "    a_{11} \\dot b_{11} + a_{12} \\dot b_{21} = 19 & a_{11} \\dot b_{12} + a_{12} \\dot b_{22} = 22 \\\\ \n",
    "    a_{21} \\dot b_{11} + a_{22} \\dot b_{21} = 43 & a_{21} \\dot b_{11} + a_{22} \\dot b_{22} = 50 \\\\ \n",
    "\\end{array}\\right)\n",
    "$$"
   ]
  },
  {
   "cell_type": "code",
   "execution_count": 5,
   "id": "bd0f8083",
   "metadata": {},
   "outputs": [
    {
     "data": {
      "text/plain": [
       "array([[19, 22],\n",
       "       [43, 50]])"
      ]
     },
     "execution_count": 5,
     "metadata": {},
     "output_type": "execute_result"
    }
   ],
   "source": [
    "np.tensordot(a, b, (1, 0))"
   ]
  },
  {
   "cell_type": "markdown",
   "id": "d20e4a34",
   "metadata": {},
   "source": [
    "$D^a = \\left\\{1\\right\\}, D^b=\\left\\{1\\right\\}$\n",
    "\n",
    "$$\n",
    "\\left(\\begin{array}{cc}\n",
    "    a_{11} \\dot b_{11} + a_{12} \\dot b_{12} = 17 & a_{11} \\dot b_{21} + a_{12} \\dot b_{22} = 23 \\\\ \n",
    "    a_{21} \\dot b_{11} + a_{22} \\dot b_{12} = 39 & a_{21} \\dot b_{21} + a_{22} \\dot b_{22} = 53 \\\\ \n",
    "\\end{array}\\right)\n",
    "$$"
   ]
  },
  {
   "cell_type": "code",
   "execution_count": 6,
   "id": "dd418396",
   "metadata": {},
   "outputs": [
    {
     "data": {
      "text/plain": [
       "array([[17, 23],\n",
       "       [39, 53]])"
      ]
     },
     "execution_count": 6,
     "metadata": {},
     "output_type": "execute_result"
    }
   ],
   "source": [
    "np.tensordot(a, b, (1, 1))"
   ]
  },
  {
   "cell_type": "markdown",
   "id": "374c20b8",
   "metadata": {},
   "source": [
    "$D^a = \\left\\{0, 1\\right\\}, D^b=\\left\\{0, 1\\right\\}$\n",
    "\n",
    "$$\n",
    "a_{11}b_{11} + a_{12}b_{12} + a_{21}b_{21} + a_{22}b_{22} = 70\n",
    "$$"
   ]
  },
  {
   "cell_type": "code",
   "execution_count": null,
   "id": "33a83cce",
   "metadata": {},
   "outputs": [
    {
     "data": {
      "text/plain": [
       "array(70)"
      ]
     },
     "execution_count": 10,
     "metadata": {},
     "output_type": "execute_result"
    }
   ],
   "source": [
    "np.tensordot(a, b, ((0, 1), (0, 1)))"
   ]
  },
  {
   "cell_type": "markdown",
   "id": "46d947ce",
   "metadata": {},
   "source": [
    "$D^a = \\left\\{ 1, 0 \\right\\}, D^b=\\left\\{ 0, 1\\right\\}$\n",
    "\n",
    "$$a_{11}b_{11} + a_{12}b_{21} + a_{21}b_{21} + a_{22}b_{22} = 69$$"
   ]
  },
  {
   "cell_type": "code",
   "execution_count": 8,
   "id": "dc3f4743",
   "metadata": {},
   "outputs": [
    {
     "data": {
      "text/plain": [
       "array(69)"
      ]
     },
     "execution_count": 8,
     "metadata": {},
     "output_type": "execute_result"
    }
   ],
   "source": [
    "np.tensordot(a, b, ((1, 0), (0, 1)))"
   ]
  }
 ],
 "metadata": {
  "kernelspec": {
   "display_name": "python (3.13.5)",
   "language": "python",
   "name": "python3"
  },
  "language_info": {
   "codemirror_mode": {
    "name": "ipython",
    "version": 3
   },
   "file_extension": ".py",
   "mimetype": "text/x-python",
   "name": "python",
   "nbconvert_exporter": "python",
   "pygments_lexer": "ipython3",
   "version": "3.13.5"
  }
 },
 "nbformat": 4,
 "nbformat_minor": 5
}
