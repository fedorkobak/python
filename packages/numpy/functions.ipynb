{
 "cells": [
  {
   "cell_type": "markdown",
   "id": "c7640962-1c83-4bcc-bd5a-dbe0f9ce10ae",
   "metadata": {},
   "source": [
    "**Тут я собираю сведения о функция `numpy` которымы должен пользоваться или постоянно забываю как**"
   ]
  },
  {
   "cell_type": "code",
   "execution_count": 2,
   "id": "c7844f6c-0b66-457c-8f79-5b5e9cb5528e",
   "metadata": {},
   "outputs": [],
   "source": [
    "import numpy as np"
   ]
  },
  {
   "cell_type": "markdown",
   "id": "228920b3-3664-45f3-82a5-adae662f793d",
   "metadata": {},
   "source": [
    "# `fromfunciton`\n",
    "\n",
    "Позволяет создать `numpy.array` используя правило задаваемое через функцию."
   ]
  },
  {
   "cell_type": "code",
   "execution_count": 3,
   "id": "cd932f32-235d-400c-a275-a3d8e536e8fd",
   "metadata": {},
   "outputs": [
    {
     "data": {
      "text/plain": [
       "array([[ 0.,  1.,  2.,  3.],\n",
       "       [ 3.,  4.,  5.,  6.],\n",
       "       [ 6.,  7.,  8.,  9.],\n",
       "       [ 9., 10., 11., 12.]])"
      ]
     },
     "execution_count": 3,
     "metadata": {},
     "output_type": "execute_result"
    }
   ],
   "source": [
    "np.fromfunction(lambda i, j: i*3 + j, (4,4))"
   ]
  },
  {
   "cell_type": "markdown",
   "id": "08b849eb-f37f-4dca-85a3-bfe3aab19a7f",
   "metadata": {},
   "source": [
    "### `numpy` всегда оперирует массивами\n",
    "\n",
    "Следует помнить, что `numpy` всегда оперирует массивами. Рассмотрим пример кода из следующей ячейки. Тут предполагается возвращать для четной суммы индексов строковое значение \"четная\" а для не четной суммы индексов \"нечетная\"."
   ]
  },
  {
   "cell_type": "code",
   "execution_count": 7,
   "id": "2d6c6d7e-9049-4dc4-b51b-bf6b53cbf971",
   "metadata": {},
   "outputs": [
    {
     "ename": "ValueError",
     "evalue": "The truth value of an array with more than one element is ambiguous. Use a.any() or a.all()",
     "output_type": "error",
     "traceback": [
      "\u001b[0;31m---------------------------------------------------------------------------\u001b[0m",
      "\u001b[0;31mValueError\u001b[0m                                Traceback (most recent call last)",
      "Input \u001b[0;32mIn [7]\u001b[0m, in \u001b[0;36m<module>\u001b[0;34m\u001b[0m\n\u001b[0;32m----> 1\u001b[0m \u001b[43mnp\u001b[49m\u001b[38;5;241;43m.\u001b[39;49m\u001b[43mfromfunction\u001b[49m\u001b[43m(\u001b[49m\n\u001b[1;32m      2\u001b[0m \u001b[43m    \u001b[49m\u001b[38;5;28;43;01mlambda\u001b[39;49;00m\u001b[43m \u001b[49m\u001b[43mi\u001b[49m\u001b[43m,\u001b[49m\u001b[43mj\u001b[49m\u001b[43m:\u001b[49m\u001b[38;5;124;43m\"\u001b[39;49m\u001b[38;5;124;43mЧетая\u001b[39;49m\u001b[38;5;124;43m\"\u001b[39;49m\u001b[43m \u001b[49m\u001b[38;5;28;43;01mif\u001b[39;49;00m\u001b[43m \u001b[49m\u001b[43mi\u001b[49m\u001b[38;5;241;43m>\u001b[39;49m\u001b[43mj\u001b[49m\u001b[43m \u001b[49m\u001b[38;5;28;43;01melse\u001b[39;49;00m\u001b[43m \u001b[49m\u001b[38;5;124;43m\"\u001b[39;49m\u001b[38;5;124;43mНе четная\u001b[39;49m\u001b[38;5;124;43m\"\u001b[39;49m\u001b[43m,\u001b[49m\n\u001b[1;32m      3\u001b[0m \u001b[43m    \u001b[49m\u001b[43m(\u001b[49m\u001b[38;5;241;43m4\u001b[39;49m\u001b[43m,\u001b[49m\u001b[38;5;241;43m4\u001b[39;49m\u001b[43m)\u001b[49m\n\u001b[1;32m      4\u001b[0m \u001b[43m)\u001b[49m\n",
      "File \u001b[0;32m~/.local/lib/python3.10/site-packages/numpy/core/numeric.py:1847\u001b[0m, in \u001b[0;36mfromfunction\u001b[0;34m(function, shape, dtype, like, **kwargs)\u001b[0m\n\u001b[1;32m   1844\u001b[0m     \u001b[38;5;28;01mreturn\u001b[39;00m _fromfunction_with_like(function, shape, dtype\u001b[38;5;241m=\u001b[39mdtype, like\u001b[38;5;241m=\u001b[39mlike, \u001b[38;5;241m*\u001b[39m\u001b[38;5;241m*\u001b[39mkwargs)\n\u001b[1;32m   1846\u001b[0m args \u001b[38;5;241m=\u001b[39m indices(shape, dtype\u001b[38;5;241m=\u001b[39mdtype)\n\u001b[0;32m-> 1847\u001b[0m \u001b[38;5;28;01mreturn\u001b[39;00m \u001b[43mfunction\u001b[49m\u001b[43m(\u001b[49m\u001b[38;5;241;43m*\u001b[39;49m\u001b[43margs\u001b[49m\u001b[43m,\u001b[49m\u001b[43m \u001b[49m\u001b[38;5;241;43m*\u001b[39;49m\u001b[38;5;241;43m*\u001b[39;49m\u001b[43mkwargs\u001b[49m\u001b[43m)\u001b[49m\n",
      "Input \u001b[0;32mIn [7]\u001b[0m, in \u001b[0;36m<lambda>\u001b[0;34m(i, j)\u001b[0m\n\u001b[1;32m      1\u001b[0m np\u001b[38;5;241m.\u001b[39mfromfunction(\n\u001b[0;32m----> 2\u001b[0m     \u001b[38;5;28;01mlambda\u001b[39;00m i,j:\u001b[38;5;124m\"\u001b[39m\u001b[38;5;124mЧетая\u001b[39m\u001b[38;5;124m\"\u001b[39m \u001b[38;5;28;01mif\u001b[39;00m i\u001b[38;5;241m>\u001b[39mj \u001b[38;5;28;01melse\u001b[39;00m \u001b[38;5;124m\"\u001b[39m\u001b[38;5;124mНе четная\u001b[39m\u001b[38;5;124m\"\u001b[39m,\n\u001b[1;32m      3\u001b[0m     (\u001b[38;5;241m4\u001b[39m,\u001b[38;5;241m4\u001b[39m)\n\u001b[1;32m      4\u001b[0m )\n",
      "\u001b[0;31mValueError\u001b[0m: The truth value of an array with more than one element is ambiguous. Use a.any() or a.all()"
     ]
    }
   ],
   "source": [
    "np.fromfunction(\n",
    "    lambda i,j:\"Четая\" if i>j else \"Не четная\",\n",
    "    (4,4)\n",
    ")"
   ]
  },
  {
   "cell_type": "markdown",
   "id": "ef334b17-9cf2-4f53-98f6-0d73b470ac4c",
   "metadata": {},
   "source": [
    "Для того, чтобы разобраться почему так происходит, выведем параметы, которые приходят в функцию-правило переданную `fromfunction`."
   ]
  },
  {
   "cell_type": "code",
   "execution_count": 8,
   "id": "da2b1b41-ec99-46c9-a03c-8ec4955a947b",
   "metadata": {},
   "outputs": [
    {
     "name": "stdout",
     "output_type": "stream",
     "text": [
      "[[0. 0. 0. 0.]\n",
      " [1. 1. 1. 1.]\n",
      " [2. 2. 2. 2.]\n",
      " [3. 3. 3. 3.]]\n",
      "[[0. 1. 2. 3.]\n",
      " [0. 1. 2. 3.]\n",
      " [0. 1. 2. 3.]\n",
      " [0. 1. 2. 3.]]\n"
     ]
    },
    {
     "data": {
      "text/plain": [
       "0"
      ]
     },
     "execution_count": 8,
     "metadata": {},
     "output_type": "execute_result"
    }
   ],
   "source": [
    "def test_func(i,j):\n",
    "    print(i)\n",
    "    print(j)\n",
    "    return 0\n",
    "\n",
    "np.fromfunction(test_func, (4,4))"
   ]
  },
  {
   "cell_type": "markdown",
   "id": "291dec9e-bab2-4fc2-9b2c-09f771c263d3",
   "metadata": {},
   "source": [
    "Итак, приходят матрицы с индексами по строчкам для аргумента `i` и по столбцам для аргумента `j`."
   ]
  },
  {
   "cell_type": "code",
   "execution_count": 5,
   "id": "476a6607-ec57-45a6-ba73-0ec71c7d3de9",
   "metadata": {},
   "outputs": [
    {
     "data": {
      "text/plain": [
       "array([['четная', 'нечетная', 'четная', 'нечетная'],\n",
       "       ['нечетная', 'четная', 'нечетная', 'четная'],\n",
       "       ['четная', 'нечетная', 'четная', 'нечетная'],\n",
       "       ['нечетная', 'четная', 'нечетная', 'четная']], dtype='<U8')"
      ]
     },
     "execution_count": 5,
     "metadata": {},
     "output_type": "execute_result"
    }
   ],
   "source": [
    "np.fromfunction(\n",
    "    lambda i,j: np.where((i+j)%2==0, \"четная\", \"нечетная\"),\n",
    "    (4,4)\n",
    ")"
   ]
  }
 ],
 "metadata": {
  "kernelspec": {
   "display_name": "Python 3 (ipykernel)",
   "language": "python",
   "name": "python3"
  },
  "language_info": {
   "codemirror_mode": {
    "name": "ipython",
    "version": 3
   },
   "file_extension": ".py",
   "mimetype": "text/x-python",
   "name": "python",
   "nbconvert_exporter": "python",
   "pygments_lexer": "ipython3",
   "version": "3.10.12"
  }
 },
 "nbformat": 4,
 "nbformat_minor": 5
}
