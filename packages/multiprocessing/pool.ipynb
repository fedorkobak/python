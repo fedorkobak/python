{
 "cells": [
  {
   "cell_type": "markdown",
   "id": "8a3be610-54a9-4c7e-aac3-8937c111d7cc",
   "metadata": {},
   "source": [
    "# Pool\n",
    "\n",
    "Is an object that automatically creates a specified number of processes and applies some function in those threads."
   ]
  },
  {
   "cell_type": "code",
   "execution_count": 1,
   "id": "ae82c9d9-f3c2-4063-9555-9db6a9887ce0",
   "metadata": {},
   "outputs": [],
   "source": [
    "import numpy as np\n",
    "from math import sqrt\n",
    "from random import random\n",
    "from multiprocessing import Pool"
   ]
  },
  {
   "cell_type": "markdown",
   "id": "06d7040c-10df-4d2d-b17b-2c3733b46059",
   "metadata": {},
   "source": [
    "## Examples and baselines\n",
    "\n",
    "We will consider a common task for data scientists, which involves computing distances between objects. We have an array of objects `X`, and we need to compute the distances between each object in the array and a target object `x`."
   ]
  },
  {
   "cell_type": "markdown",
   "id": "023d9e4a-3c80-463f-aeea-cd1597e0f8f6",
   "metadata": {},
   "source": [
    "The next cell creates the required objects:"
   ]
  },
  {
   "cell_type": "code",
   "execution_count": 3,
   "id": "80ab821c-243d-462f-91f0-0cbd35269aff",
   "metadata": {},
   "outputs": [],
   "source": [
    "sample_size = 1_000_000\n",
    "features_size = 10\n",
    "\n",
    "X = np.random.normal(size=(sample_size, features_size))\n",
    "x = np.random.normal(size=features_size)"
   ]
  },
  {
   "cell_type": "markdown",
   "id": "586ad260-c2b3-4cc2-858e-f9642a40941c",
   "metadata": {},
   "source": [
    "The following cell implements an operation that we'll use to calculate distances between objects."
   ]
  },
  {
   "cell_type": "code",
   "execution_count": 29,
   "id": "50e8b0a9-34f4-4e2b-b307-395cef266db6",
   "metadata": {},
   "outputs": [],
   "source": [
    "def compute_distances(X : np.ndarray, a : np.ndarray) -> list:\n",
    "    '''\n",
    "    This function computes the Euclidean distances\n",
    "    between all objects in an array and a specified object.\n",
    "    Its purpose is to demonstrate the benefits of using multithreading.\n",
    "    The function intentionally avoids using numpy operations, as they appear \n",
    "    to have their own multithreading optimizations. The bottom line is that \n",
    "    without multithreading, there is no significant performance gain.\n",
    "\n",
    "    Parameters\n",
    "    ----------\n",
    "    X : np.ndarray\n",
    "        (number of objcets, object dimensionality)\n",
    "        array of objects for which we need distances\n",
    "    a : np.ndarray\n",
    "        (object dimensionality)\n",
    "        object to which we need to compare all objects from X\n",
    "    '''\n",
    "    return [\n",
    "        sqrt(sum([(a_v-b_v)**2 for a_v, b_v in zip(a,b)]))\n",
    "        for b in X\n",
    "    ]"
   ]
  },
  {
   "cell_type": "markdown",
   "id": "abe8caa5-5103-4ef8-8f6e-b3095475046f",
   "metadata": {},
   "source": [
    "So let's estimate how long it will take to calculate all the distances at once."
   ]
  },
  {
   "cell_type": "code",
   "execution_count": 4,
   "id": "24000e3f-c660-401c-8b13-a02400d8144d",
   "metadata": {},
   "outputs": [
    {
     "name": "stdout",
     "output_type": "stream",
     "text": [
      "7.67 s ± 131 ms per loop (mean ± std. dev. of 7 runs, 1 loop each)\n"
     ]
    }
   ],
   "source": [
    "%%timeit -n 1\n",
    "compute_distances(X, x)"
   ]
  },
  {
   "cell_type": "markdown",
   "id": "940c451b-84f4-4d13-b936-59352b59ce55",
   "metadata": {},
   "source": [
    "## map\n",
    "\n",
    "Map is the simplest method of pooling - you simply specify which function to apply and define the function's arguments for each process."
   ]
  },
  {
   "cell_type": "code",
   "execution_count": 15,
   "id": "46cda4e5-7389-463c-86f3-c048bc02b63a",
   "metadata": {},
   "outputs": [],
   "source": [
    "def wrapper(X):\n",
    "    '''\n",
    "    Just warps compute_distances to have opportunity to pass there different X \n",
    "    but the same X.\n",
    "    '''\n",
    "    return compute_distances(X, x)"
   ]
  },
  {
   "cell_type": "markdown",
   "id": "870d9f57-4b69-482a-bb68-3bcfce0520fe",
   "metadata": {},
   "source": [
    "Here is an example of use. The original array of objects was split into chunks and `wrapper` was applied to each chunk."
   ]
  },
  {
   "cell_type": "code",
   "execution_count": 16,
   "id": "6cecf262-b83a-47d5-92a7-c4e7d994d255",
   "metadata": {},
   "outputs": [
    {
     "name": "stdout",
     "output_type": "stream",
     "text": [
      "2.9 s ± 53.3 ms per loop (mean ± std. dev. of 7 runs, 1 loop each)\n"
     ]
    }
   ],
   "source": [
    "%%timeit -n 1\n",
    "split = np.array_split(X, 5)\n",
    "\n",
    "pool = Pool(processes=5)\n",
    "pool.map(wrapper , split)\n",
    "pool.close()\n",
    "pool.join()"
   ]
  },
  {
   "cell_type": "markdown",
   "id": "e198a19a-8a78-45d0-9df7-b971ff74f6e1",
   "metadata": {},
   "source": [
    "### Results order\n",
    "\n",
    "`pool.map` the results will always be in the order of the array they were applied to."
   ]
  },
  {
   "cell_type": "markdown",
   "id": "09525ae7-055b-43e2-82f4-acf1ec0a99c7",
   "metadata": {},
   "source": [
    "To demonstrate this, we have created an example where initially created threads take significantly longer to complete. In order to clearly determine which options finished earlier, we have included print statements. Additionally, each thread produces output that unambiguously identifies the thread from which the result was obtained."
   ]
  },
  {
   "cell_type": "code",
   "execution_count": 45,
   "id": "ea34084c-7a58-423e-9ab6-e951d1afe5f0",
   "metadata": {},
   "outputs": [
    {
     "name": "stdout",
     "output_type": "stream",
     "text": [
      "100000 iterations started \n",
      "100 iterations started \n",
      "10 iterations started \n",
      "100 iterations finished \n",
      "10 iterations finished \n",
      "100000 iterations finished \n",
      "results : [100000, 100, 10]\n"
     ]
    }
   ],
   "source": [
    "def wrapper(it_number):\n",
    "    print(f\"{it_number} iterations started \\n\", end=\"\")\n",
    "    [random() for i in range(it_number)]\n",
    "    print(f\"{it_number} iterations finished \\n\", end=\"\")\n",
    "    return it_number\n",
    "\n",
    "split = np.array_split(X, 5)\n",
    "pool = Pool(processes=5)\n",
    "results = pool.map(wrapper , [100000,100,10])\n",
    "pool.close()\n",
    "pool.join()\n",
    "\n",
    "print(f\"results : {results}\")"
   ]
  },
  {
   "cell_type": "markdown",
   "id": "781cc840-6247-4de1-99dc-fde178519e6d",
   "metadata": {},
   "source": [
    "So even thread with 100000 iterations finished last - it's output is first in the output."
   ]
  }
 ],
 "metadata": {
  "kernelspec": {
   "display_name": "Python 3 (ipykernel)",
   "language": "python",
   "name": "python3"
  },
  "language_info": {
   "codemirror_mode": {
    "name": "ipython",
    "version": 3
   },
   "file_extension": ".py",
   "mimetype": "text/x-python",
   "name": "python",
   "nbconvert_exporter": "python",
   "pygments_lexer": "ipython3",
   "version": "3.10.12"
  }
 },
 "nbformat": 4,
 "nbformat_minor": 5
}
