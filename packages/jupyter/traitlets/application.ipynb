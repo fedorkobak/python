{
 "cells": [
  {
   "cell_type": "markdown",
   "metadata": {},
   "source": [
    "# Application"
   ]
  },
  {
   "cell_type": "code",
   "execution_count": null,
   "metadata": {},
   "outputs": [],
   "source": [
    "import sys\n",
    "from traitlets.config import Application\n",
    "Application._instance = None\n",
    "\n",
    "# During the start of the notebook, different CLI parameters can be passed to\n",
    "# the process that literally keeps the notebook. Traitlets are implemented in\n",
    "# such a way that they take arguments that are common to the environment. The\n",
    "# following code removes all additional arguments so that the outputs are not\n",
    "# affected by arguments specified for the jupyter run.\n",
    "for i, arg in enumerate(sys.argv):\n",
    "    if arg.startswith(\"--\"):\n",
    "        del sys.argv[i]"
   ]
  },
  {
   "cell_type": "markdown",
   "metadata": {},
   "source": [
    "## Start\n",
    "\n",
    "The method `start` is called when the application starts. It is usually used as an action code for the application, most commonly to start the application loop."
   ]
  },
  {
   "cell_type": "markdown",
   "metadata": {},
   "source": [
    "---\n",
    "\n",
    "The following cell defines the ancestor of the `Application`, which overloads the `start` method to `print(\"application started\")`."
   ]
  },
  {
   "cell_type": "code",
   "execution_count": 2,
   "metadata": {},
   "outputs": [],
   "source": [
    "from traitlets import Unicode\n",
    "class CustomApplication(Application):\n",
    "    f = Unicode(\"some\").tag(config=True)\n",
    "    def start(self):\n",
    "        print(\"application started\")"
   ]
  },
  {
   "cell_type": "markdown",
   "metadata": {},
   "source": [
    "When the application launches, it prints the corresponding message to the standard output."
   ]
  },
  {
   "cell_type": "code",
   "execution_count": 15,
   "metadata": {},
   "outputs": [
    {
     "name": "stdout",
     "output_type": "stream",
     "text": [
      "application started\n"
     ]
    }
   ],
   "source": [
    "application = CustomApplication()\n",
    "application.launch_instance()"
   ]
  },
  {
   "cell_type": "markdown",
   "metadata": {},
   "source": [
    "## Command line\n",
    "\n",
    "The core feature of the `Application` class is that it behaves like `traitlets.config.Config`, but it can override class properties from the command line arguments. You just have to pass arguments like `<class name>.<attribute>=<value>` when calling the program, just in the configuration script for the `traitlets.config.Config`."
   ]
  },
  {
   "cell_type": "markdown",
   "metadata": {},
   "source": [
    "---\n",
    "\n",
    "The following cell defines python script that defines the inheritor of the `Application`, that has the `parameter` trait in it - consider how to set the value of `parameter`."
   ]
  },
  {
   "cell_type": "code",
   "execution_count": null,
   "metadata": {},
   "outputs": [
    {
     "name": "stdout",
     "output_type": "stream",
     "text": [
      "Writing /tmp/my_application.py\n"
     ]
    }
   ],
   "source": [
    "%%writefile /tmp/my_application.py\n",
    "import traitlets\n",
    "from traitlets.config import Application\n",
    "from traitlets.utils import cast_unicode\n",
    "\n",
    "class MyApplication(Application):\n",
    "    parameter = traitlets.Unicode(\n",
    "        default_value=\"default\",\n",
    "        config=True\n",
    "    )\n",
    "\n",
    "if __name__ == \"__main__\":\n",
    "    MyApplication.launch_instance()\n",
    "    my_application = MyApplication.instance()\n",
    "    print(my_application.parameter)"
   ]
  },
  {
   "cell_type": "markdown",
   "metadata": {},
   "source": [
    "The following cell calls the previously created scriptip without any additional arguments."
   ]
  },
  {
   "cell_type": "code",
   "execution_count": 10,
   "metadata": {},
   "outputs": [
    {
     "name": "stdout",
     "output_type": "stream",
     "text": [
      "default\n"
     ]
    }
   ],
   "source": [
    "!python3 /tmp/my_application.py"
   ]
  },
  {
   "cell_type": "markdown",
   "metadata": {},
   "source": [
    "As a result, the `MyApplication.instance().parameter` will have a default value. The following cell runs the same script, but passes the value as a CLI argument."
   ]
  },
  {
   "cell_type": "code",
   "execution_count": 3,
   "metadata": {},
   "outputs": [
    {
     "name": "stdout",
     "output_type": "stream",
     "text": [
      "new value\n"
     ]
    }
   ],
   "source": [
    "!python3 /tmp/my_application.py --MyApplication.parameter=\"new value\""
   ]
  },
  {
   "cell_type": "markdown",
   "metadata": {},
   "source": [
    "Sometimes it usefull to intialise `Application` from python code. You can do this by passing argumets as a `list[str]` to the `initialize` method."
   ]
  },
  {
   "cell_type": "code",
   "execution_count": 11,
   "metadata": {},
   "outputs": [
    {
     "data": {
      "text/plain": [
       "'new value'"
      ]
     },
     "execution_count": 11,
     "metadata": {},
     "output_type": "execute_result"
    }
   ],
   "source": [
    "import os\n",
    "os.chdir(\"/tmp\")\n",
    "from my_application import MyApplication\n",
    "\n",
    "app = MyApplication()\n",
    "app.initialize([\"--MyApplication.parameter\", \"new value\"])\n",
    "app.parameter"
   ]
  }
 ],
 "metadata": {
  "kernelspec": {
   "display_name": "python",
   "language": "python",
   "name": "python3"
  },
  "language_info": {
   "codemirror_mode": {
    "name": "ipython",
    "version": 3
   },
   "file_extension": ".py",
   "mimetype": "text/x-python",
   "name": "python",
   "nbconvert_exporter": "python",
   "pygments_lexer": "ipython3",
   "version": "3.13.5"
  }
 },
 "nbformat": 4,
 "nbformat_minor": 2
}
