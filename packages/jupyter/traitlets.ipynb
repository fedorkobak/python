{
 "cells": [
  {
   "cell_type": "markdown",
   "metadata": {},
   "source": [
    "# Traitlets\n",
    "\n",
    "Traitlets is a tool that allows to make python objects that, automatically check types, autamatically change values of attributes and implement \"on change\" callbacks."
   ]
  },
  {
   "cell_type": "code",
   "execution_count": 1,
   "metadata": {},
   "outputs": [],
   "source": [
    "import traitlets"
   ]
  },
  {
   "cell_type": "markdown",
   "metadata": {},
   "source": [
    "## Observation\n",
    "\n",
    "\"Observing\" is one of the main features of the `HasTraits` objects. You can set a method to be called when something changes in the instance with the `observe` method. If you don't need this callback anymore just use the `unobserve` method."
   ]
  },
  {
   "cell_type": "markdown",
   "metadata": {},
   "source": [
    "--- \n",
    "\n",
    "The following cell creates a `has_traits` object that has the `my_trait` trait and attaches `something` function to be called when any attribute in the `has_traits` changes."
   ]
  },
  {
   "cell_type": "code",
   "execution_count": 20,
   "metadata": {},
   "outputs": [],
   "source": [
    "class ItHasTratis(traitlets.HasTraits):\n",
    "    my_trait = traitlets.Int()\n",
    "\n",
    "has_traits = ItHasTratis()\n",
    "\n",
    "def something(change):\n",
    "    print(\"Trait value changed!\")\n",
    "\n",
    "has_traits.observe(something)"
   ]
  },
  {
   "cell_type": "markdown",
   "metadata": {},
   "source": [
    "So in case to `has_tratis.my_trait` got a new value - code of the `something` is executed."
   ]
  },
  {
   "cell_type": "code",
   "execution_count": 21,
   "metadata": {},
   "outputs": [
    {
     "name": "stdout",
     "output_type": "stream",
     "text": [
      "Trait value changed!\n"
     ]
    }
   ],
   "source": [
    "has_traits.my_trait = 1"
   ]
  },
  {
   "cell_type": "markdown",
   "metadata": {},
   "source": [
    "The following cell `unobserve` callback from the `has_trats` object."
   ]
  },
  {
   "cell_type": "code",
   "execution_count": 22,
   "metadata": {},
   "outputs": [],
   "source": [
    "has_traits.unobserve(something)\n",
    "has_traits.my_trait = 2"
   ]
  },
  {
   "cell_type": "markdown",
   "metadata": {},
   "source": [
    "As a result, there is no output assumed by `something` in the output."
   ]
  }
 ],
 "metadata": {
  "kernelspec": {
   "display_name": "python",
   "language": "python",
   "name": "python3"
  },
  "language_info": {
   "codemirror_mode": {
    "name": "ipython",
    "version": 3
   },
   "file_extension": ".py",
   "mimetype": "text/x-python",
   "name": "python",
   "nbconvert_exporter": "python",
   "pygments_lexer": "ipython3",
   "version": "3.12.9"
  }
 },
 "nbformat": 4,
 "nbformat_minor": 2
}
