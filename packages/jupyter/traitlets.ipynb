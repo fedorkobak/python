{
 "cells": [
  {
   "cell_type": "markdown",
   "metadata": {},
   "source": [
    "# Traitlets\n",
    "\n",
    "Traitlets is a tool that allows to make python objects that, automatically check types, autamatically change values of attributes and implement \"on change\" callbacks."
   ]
  },
  {
   "cell_type": "code",
   "execution_count": 2,
   "metadata": {},
   "outputs": [],
   "source": [
    "import traitlets"
   ]
  },
  {
   "cell_type": "markdown",
   "metadata": {},
   "source": [
    "## Observation\n",
    "\n",
    "\"Observing\" is one of the main features of the `HasTraits` objects. You can set a method to be called when something changes in the instance with the `observe` method. If you don't need this callback anymore just use the `unobserve` method."
   ]
  },
  {
   "cell_type": "markdown",
   "metadata": {},
   "source": [
    "--- \n",
    "\n",
    "The following cell creates a `has_traits` object that has the `my_trait` trait and attaches `something` function to be called when any attribute in the `has_traits` changes."
   ]
  },
  {
   "cell_type": "code",
   "execution_count": 20,
   "metadata": {},
   "outputs": [],
   "source": [
    "class ItHasTratis(traitlets.HasTraits):\n",
    "    my_trait = traitlets.Int()\n",
    "\n",
    "has_traits = ItHasTratis()\n",
    "\n",
    "def something(change):\n",
    "    print(\"Trait value changed!\")\n",
    "\n",
    "has_traits.observe(something)"
   ]
  },
  {
   "cell_type": "markdown",
   "metadata": {},
   "source": [
    "So in case to `has_tratis.my_trait` got a new value - code of the `something` is executed."
   ]
  },
  {
   "cell_type": "code",
   "execution_count": 21,
   "metadata": {},
   "outputs": [
    {
     "name": "stdout",
     "output_type": "stream",
     "text": [
      "Trait value changed!\n"
     ]
    }
   ],
   "source": [
    "has_traits.my_trait = 1"
   ]
  },
  {
   "cell_type": "markdown",
   "metadata": {},
   "source": [
    "The following cell `unobserve` callback from the `has_trats` object."
   ]
  },
  {
   "cell_type": "code",
   "execution_count": 22,
   "metadata": {},
   "outputs": [],
   "source": [
    "has_traits.unobserve(something)\n",
    "has_traits.my_trait = 2"
   ]
  },
  {
   "cell_type": "markdown",
   "metadata": {},
   "source": [
    "As a result, there is no output assumed by `something` in the output."
   ]
  },
  {
   "cell_type": "markdown",
   "metadata": {},
   "source": [
    "### Change\n",
    "\n",
    "Any function that you assign to be a callback must have a to have one parameter - this is an for argument that describes the change that triggered the callback."
   ]
  },
  {
   "cell_type": "markdown",
   "metadata": {},
   "source": [
    "---\n",
    "\n",
    "The next cell defines `HasTraits`, which stores the `change` it received in the global variable `test` - so it's possible to study this object from the global environment."
   ]
  },
  {
   "cell_type": "code",
   "execution_count": 5,
   "metadata": {},
   "outputs": [],
   "source": [
    "test: object\n",
    "\n",
    "class ItHasTratis(traitlets.HasTraits):\n",
    "    my_trait = traitlets.Int()\n",
    "\n",
    "    @traitlets.observe(traitlets.All)\n",
    "    def method(self, change):\n",
    "        global test\n",
    "        test = change\n",
    "\n",
    "has_traits = ItHasTratis()\n",
    "has_traits.my_trait = 1"
   ]
  },
  {
   "cell_type": "markdown",
   "metadata": {},
   "source": [
    "The next cell shows the type of the object."
   ]
  },
  {
   "cell_type": "code",
   "execution_count": 7,
   "metadata": {},
   "outputs": [
    {
     "data": {
      "text/plain": [
       "traitlets.utils.bunch.Bunch"
      ]
     },
     "execution_count": 7,
     "metadata": {},
     "output_type": "execute_result"
    }
   ],
   "source": [
    "type(test)"
   ]
  },
  {
   "cell_type": "markdown",
   "metadata": {},
   "source": [
    "Actually, it's a relatively simple dictionary that describes change."
   ]
  },
  {
   "cell_type": "code",
   "execution_count": 8,
   "metadata": {},
   "outputs": [
    {
     "data": {
      "text/plain": [
       "{'name': 'my_trait',\n",
       " 'old': 0,\n",
       " 'new': 1,\n",
       " 'owner': <__main__.ItHasTratis at 0x7ddb005f7b30>,\n",
       " 'type': 'change'}"
      ]
     },
     "execution_count": 8,
     "metadata": {},
     "output_type": "execute_result"
    }
   ],
   "source": [
    "test"
   ]
  },
  {
   "cell_type": "markdown",
   "metadata": {},
   "source": [
    "## Configurable\n",
    "\n",
    "`Configurable` is a special object that allows objects to be created from a configuration file defined elsewhere. In particular, it could be a simple python file that has `traitlets.config.Config` defined in it. "
   ]
  },
  {
   "cell_type": "markdown",
   "metadata": {},
   "source": [
    "---\n",
    "\n",
    "The following cell defines `Configurable`, which we'll use as an example."
   ]
  },
  {
   "cell_type": "code",
   "execution_count": 3,
   "metadata": {},
   "outputs": [],
   "source": [
    "class MyConfigurable(traitlets.config.Configurable):\n",
    "    name = traitlets.Unicode(\"DefaultName\", config=True)\n",
    "    count = traitlets.Int(5, config=True)"
   ]
  },
  {
   "cell_type": "markdown",
   "metadata": {},
   "source": [
    "The following cell defines config - so it contains default values for attributes of the `MyConfigurable` instance."
   ]
  },
  {
   "cell_type": "code",
   "execution_count": 4,
   "metadata": {},
   "outputs": [],
   "source": [
    "config = traitlets.config.Config()\n",
    "config.MyConfigurable.name = \"Alice\"\n",
    "config.MyConfigurable.count = 42"
   ]
  },
  {
   "cell_type": "markdown",
   "metadata": {},
   "source": [
    "The following code creates `MyConfigurable` with the previously defined config - the corresponding attributes take the values as defined in the config."
   ]
  },
  {
   "cell_type": "code",
   "execution_count": 6,
   "metadata": {},
   "outputs": [
    {
     "name": "stdout",
     "output_type": "stream",
     "text": [
      "Alice 42\n"
     ]
    }
   ],
   "source": [
    "my_configurable = MyConfigurable(config=config)\n",
    "print(my_configurable.name, my_configurable.count)"
   ]
  }
 ],
 "metadata": {
  "kernelspec": {
   "display_name": "python",
   "language": "python",
   "name": "python3"
  },
  "language_info": {
   "codemirror_mode": {
    "name": "ipython",
    "version": 3
   },
   "file_extension": ".py",
   "mimetype": "text/x-python",
   "name": "python",
   "nbconvert_exporter": "python",
   "pygments_lexer": "ipython3",
   "version": "3.12.9"
  }
 },
 "nbformat": 4,
 "nbformat_minor": 2
}
