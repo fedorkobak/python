{
 "cells": [
  {
   "cell_type": "markdown",
   "metadata": {},
   "source": [
    "# Run from python\n",
    "\n",
    "This page is about running jupyter kernel and operating with it from other python instance. It can be useful for demonstration purposes - you'll will be able to play with jupyter code from jupyter."
   ]
  },
  {
   "cell_type": "code",
   "execution_count": 1,
   "metadata": {},
   "outputs": [],
   "source": [
    "import multiprocessing\n",
    "from ipykernel.kernelapp import IPKernelApp"
   ]
  },
  {
   "cell_type": "markdown",
   "metadata": {},
   "source": [
    "## Kernel class\n",
    "\n",
    "You can specify directly `kernel_class` in the `KernelManager` to be able to run a kernel based on the class defined right in this file."
   ]
  },
  {
   "cell_type": "markdown",
   "metadata": {},
   "source": [
    "---\n",
    "\n",
    "The following cell defines a simple kernel that simply returns constant text for each input, and creates a corresponding `KernelManager` that uses this `SimpleKernel`."
   ]
  },
  {
   "cell_type": "code",
   "execution_count": 3,
   "metadata": {},
   "outputs": [
    {
     "name": "stdout",
     "output_type": "stream",
     "text": [
      "Overwriting simple_kernel.py\n"
     ]
    }
   ],
   "source": [
    "%%writefile simple_kernel.py\n",
    "from ipykernel.kernelbase import Kernel\n",
    "\n",
    "\n",
    "class SimpleKernel(Kernel):\n",
    "    def do_execute(\n",
    "        self,\n",
    "        code,\n",
    "        silent,\n",
    "        store_history=True,\n",
    "        user_expressions=None,\n",
    "        allow_stdin=False\n",
    "    ):\n",
    "        if not silent:\n",
    "            stream_content = {'name': 'stdout', 'text': \"Hello from your kernel\"}\n",
    "            self.send_response(self.iopub_socket, 'stream', stream_content)\n",
    "\n",
    "        return {\n",
    "            'status': 'ok',\n",
    "            'execution_count': self.execution_count,\n",
    "            'payload': [],\n",
    "            'user_expressions': {},\n",
    "        }"
   ]
  },
  {
   "cell_type": "markdown",
   "metadata": {},
   "source": [
    "The following cell executes some \"code\" in the kernel."
   ]
  },
  {
   "cell_type": "code",
   "execution_count": 1,
   "metadata": {},
   "outputs": [],
   "source": [
    "from ipykernel.kernelapp import IPKernelApp"
   ]
  },
  {
   "cell_type": "code",
   "execution_count": 2,
   "metadata": {},
   "outputs": [],
   "source": [
    "inst = IPKernelApp.instance()"
   ]
  },
  {
   "cell_type": "code",
   "execution_count": 42,
   "metadata": {},
   "outputs": [
    {
     "data": {
      "text/plain": [
       "'/run/user/1000/jupyter/runtime/kernel-v3846490b9a546b04096e69af2704f4779c040d2fd.json'"
      ]
     },
     "execution_count": 42,
     "metadata": {},
     "output_type": "execute_result"
    }
   ],
   "source": [
    "inst.connection_file"
   ]
  },
  {
   "cell_type": "code",
   "execution_count": 99,
   "metadata": {},
   "outputs": [
    {
     "name": "stdout",
     "output_type": "stream",
     "text": [
      "Overwriting my_file.py\n"
     ]
    }
   ],
   "source": [
    "%%writefile my_file.py\n",
    "from ipykernel.kernelapp import IPKernelApp\n",
    "\n",
    "def print_connection_file():\n",
    "\n",
    "    parameters = dict(\n",
    "        connection_file=\"/tmp/fuck.json\",\n",
    "        shell_port=6000,\n",
    "        stdin_port=6001,\n",
    "        iopub_port=6002,\n",
    "        hb_port=6003,\n",
    "        control_port=6004\n",
    "    )\n",
    "\n",
    "    argv=[\"--f /tmp/fuck2.json\"]\n",
    "    # IPKernelApp.launch_instance(argv=argv, kwargs=parameters)\n",
    "    app = IPKernelApp.instance(**parameters)\n",
    "    # app.initialize()\n",
    "    app.parse_command_line(argv=argv)\n",
    "    # app.parse_command_line()\n",
    "    print(app.argv)\n",
    "    print(app.abs_connection_file)\n",
    "    print(app.cli_config)\n",
    "    # argv = app._get_sys_argv(check_argcomplete=bool(app.subcommands))[1:]\n",
    "    # print(argv)"
   ]
  },
  {
   "cell_type": "code",
   "execution_count": 100,
   "metadata": {},
   "outputs": [],
   "source": [
    "import my_file\n",
    "import importlib\n",
    "importlib.reload(my_file)\n",
    "import multiprocessing"
   ]
  },
  {
   "cell_type": "code",
   "execution_count": 101,
   "metadata": {},
   "outputs": [
    {
     "name": "stdout",
     "output_type": "stream",
     "text": [
      "['--f /tmp/fuck2.json']\n",
      "/tmp/fuck.json\n",
      "{}\n"
     ]
    }
   ],
   "source": [
    "context = multiprocessing.get_context('spawn')\n",
    "p = context.Process(target=my_file.print_connection_file)\n",
    "p.start()\n",
    "p.join()"
   ]
  },
  {
   "cell_type": "code",
   "execution_count": 103,
   "metadata": {},
   "outputs": [],
   "source": [
    "from traitlets.config import Application"
   ]
  },
  {
   "cell_type": "code",
   "execution_count": 105,
   "metadata": {},
   "outputs": [
    {
     "data": {
      "text/plain": [
       "<ipykernel.kernelapp.IPKernelApp at 0x7267ca0340b0>"
      ]
     },
     "execution_count": 105,
     "metadata": {},
     "output_type": "execute_result"
    }
   ],
   "source": [
    "Application.instance()"
   ]
  }
 ],
 "metadata": {
  "kernelspec": {
   "display_name": "python",
   "language": "python",
   "name": "python3"
  },
  "language_info": {
   "codemirror_mode": {
    "name": "ipython",
    "version": 3
   },
   "file_extension": ".py",
   "mimetype": "text/x-python",
   "name": "python",
   "nbconvert_exporter": "python",
   "pygments_lexer": "ipython3",
   "version": "3.12.9"
  }
 },
 "nbformat": 4,
 "nbformat_minor": 2
}
