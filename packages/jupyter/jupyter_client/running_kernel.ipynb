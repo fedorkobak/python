{
 "cells": [
  {
   "cell_type": "markdown",
   "metadata": {},
   "source": [
    "# Run from python\n",
    "\n",
    "This page is about running jupyter kernel and operating with it from other python instance. It can be useful for demonstration purposes - you'll will be able to play with jupyter code from jupyter."
   ]
  },
  {
   "cell_type": "code",
   "execution_count": 1,
   "metadata": {},
   "outputs": [],
   "source": [
    "from ipykernel.kernelbase import Kernel\n",
    "from jupyter_client import KernelManager"
   ]
  },
  {
   "cell_type": "markdown",
   "metadata": {},
   "source": [
    "## Kernel class\n",
    "\n",
    "You can specify directly `kernel_class` in the `KernelManager` to be able to run a kernel based on the class defined right in this file."
   ]
  },
  {
   "cell_type": "markdown",
   "metadata": {},
   "source": [
    "---\n",
    "\n",
    "The following cell defines a simple kernel that simply returns constant text for each input, and creates a corresponding `KernelManager` that uses this `SimpleKernel`."
   ]
  },
  {
   "cell_type": "code",
   "execution_count": 2,
   "metadata": {},
   "outputs": [],
   "source": [
    "class SimpleKernel(Kernel):\n",
    "    def do_execute(\n",
    "        self,\n",
    "        code,\n",
    "        silent,\n",
    "        store_history=True,\n",
    "        user_expressions=None,\n",
    "        allow_stdin=False\n",
    "    ):\n",
    "        if not silent:\n",
    "            stream_content = {'name': 'stdout', 'text': \"Hello from your kernel\"}\n",
    "            self.send_response(self.iopub_socket, 'stream', stream_content)\n",
    "\n",
    "        return {\n",
    "            'status': 'ok',\n",
    "            'execution_count': self.execution_count,\n",
    "            'payload': [],\n",
    "            'user_expressions': {},\n",
    "        }\n",
    "\n",
    "\n",
    "km = KernelManager(kernel_class=SimpleKernel)\n",
    "km.start_kernel()\n",
    "\n",
    "kc = km.client()\n",
    "kc.start_channels()"
   ]
  },
  {
   "cell_type": "markdown",
   "metadata": {},
   "source": [
    "The following cell executes some \"code\" in the kernel."
   ]
  },
  {
   "cell_type": "code",
   "execution_count": null,
   "metadata": {},
   "outputs": [],
   "source": [
    "kc.execute(\"toy kernel\", reply=True)\n",
    "msg = kc.get_iopub_msg()\n",
    "while True:\n",
    "   msg = kc.get_iopub_msg(timeout=50)\n",
    "   if msg['msg_type'] == 'stream':\n",
    "        break\n",
    "msg[\"content\"][\"text\"]"
   ]
  },
  {
   "cell_type": "code",
   "execution_count": null,
   "metadata": {},
   "outputs": [
    {
     "data": {
      "text/plain": [
       "jupyter_client.blocking.client.BlockingKernelClient"
      ]
     },
     "execution_count": 5,
     "metadata": {},
     "output_type": "execute_result"
    }
   ],
   "source": [
    "type(kc)"
   ]
  },
  {
   "cell_type": "code",
   "execution_count": 5,
   "metadata": {},
   "outputs": [],
   "source": [
    "kc.shutdown(reply=True)\n",
    "km.shutdown_kernel(now=True)"
   ]
  }
 ],
 "metadata": {
  "kernelspec": {
   "display_name": "python",
   "language": "python",
   "name": "python3"
  },
  "language_info": {
   "codemirror_mode": {
    "name": "ipython",
    "version": 3
   },
   "file_extension": ".py",
   "mimetype": "text/x-python",
   "name": "python",
   "nbconvert_exporter": "python",
   "pygments_lexer": "ipython3",
   "version": "3.10.16"
  }
 },
 "nbformat": 4,
 "nbformat_minor": 2
}
