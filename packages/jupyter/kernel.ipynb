{
 "cells": [
  {
   "cell_type": "markdown",
   "id": "85286683",
   "metadata": {},
   "source": [
    "# Kernel\n",
    "\n",
    "This page gives an overview of ways to start jupytes kernel, options to define behaviour and other useful tricks."
   ]
  },
  {
   "cell_type": "code",
   "execution_count": null,
   "id": "f06fa22d",
   "metadata": {},
   "outputs": [],
   "source": [
    "import sys\n",
    "from utils.run_jupyter_kernel import IPKernelAppProcess, get_messages\n",
    "\n",
    "sys.path.append(\"/tmp\")"
   ]
  },
  {
   "cell_type": "markdown",
   "id": "400f9119",
   "metadata": {},
   "source": [
    "## CLI\n",
    "\n",
    "`jupyter-kernel` tool comes with `jupyter_client` package."
   ]
  },
  {
   "cell_type": "markdown",
   "id": "4843882a",
   "metadata": {},
   "source": [
    "---\n",
    "\n",
    "It confuses me that `jupyter_client` provides the `jupyter-kernel` CLI tool. If you have the same doubts, the following cells will prove it.\n",
    "\n",
    "The code in the following cell shows the file to which `jupyter-kernel` refers in the system."
   ]
  },
  {
   "cell_type": "code",
   "execution_count": null,
   "id": "d346868f",
   "metadata": {},
   "outputs": [
    {
     "name": "stdout",
     "output_type": "stream",
     "text": [
      "/usr/local/bin/jupyter-kernel\n"
     ]
    }
   ],
   "source": [
    "!which jupyter-kernel"
   ]
  },
  {
   "cell_type": "markdown",
   "id": "ed0752cc",
   "metadata": {},
   "source": [
    "And behind it is Python code that refers to `jupyter_client.kernelapp.main`."
   ]
  },
  {
   "cell_type": "code",
   "execution_count": null,
   "id": "df4f5280",
   "metadata": {},
   "outputs": [
    {
     "name": "stdout",
     "output_type": "stream",
     "text": [
      "#!/usr/local/bin/python3.12\n",
      "# -*- coding: utf-8 -*-\n",
      "import re\n",
      "import sys\n",
      "from jupyter_client.kernelapp import main\n",
      "if __name__ == '__main__':\n",
      "    sys.argv[0] = re.sub(r'(-script\\.pyw|\\.exe)?$', '', sys.argv[0])\n",
      "    sys.exit(main())\n"
     ]
    }
   ],
   "source": [
    "!cat $(which jupyter-kernel)"
   ]
  },
  {
   "cell_type": "markdown",
   "id": "555ddcca",
   "metadata": {},
   "source": [
    "## Run from jupyter\n",
    "\n",
    "For the purposes of this project, it's useful to be able to run jupyter kernels in jupyter notebooks. There are a number of problems associated with this, mainly related mainly to the fact that jupyter notebook uses it's own kernel to work, and this fact blocks the creation  of new jupyter kernels. Read more about this and possible solutions in the [related page](kernel/run_from_jupyter.ipynb).\n",
    "\n",
    "As a ready solution to be able to experiment with different jupyter kernel use `utils.run_jupyter_kernel.IPKernelAppProcess` function."
   ]
  },
  {
   "cell_type": "markdown",
   "id": "18309da8",
   "metadata": {},
   "source": [
    "---\n",
    "\n",
    "The following cell shows the process of running of the kernel with `utils.run_jupyter_kernel.IPKernelAppProcess`."
   ]
  },
  {
   "cell_type": "code",
   "execution_count": null,
   "id": "e379c9c5",
   "metadata": {},
   "outputs": [
    {
     "name": "stdout",
     "output_type": "stream",
     "text": [
      "NOTE: When using the `ipython kernel` entry point, Ctrl-C will not work.\n",
      "\n",
      "To exit, you will have to explicitly quit this process, by either sending\n",
      "\"quit\" from a client, or using Ctrl-\\ in UNIX-like environments.\n",
      "\n",
      "To read more about this, see https://github.com/ipython/ipython/issues/2049\n",
      "\n",
      "\n",
      "To connect another client to this kernel, use:\n",
      "    --existing /tmp/example_connection_file.json\n"
     ]
    }
   ],
   "source": [
    "p = IPKernelAppProcess(\"/tmp/example_connection_file.json\")"
   ]
  },
  {
   "cell_type": "markdown",
   "id": "491e138d",
   "metadata": {},
   "source": [
    "As a result, we got a typical ipykernel starting log."
   ]
  },
  {
   "cell_type": "markdown",
   "id": "aab11474",
   "metadata": {},
   "source": [
    "## Build kernel\n",
    "\n",
    "There are three ways to create your own Jupyter kernel; check more [here](https://jupyter-client.readthedocs.io/en/latest/kernels.html). This page focuses on the simplest method: [simple Python wrapper kernels](https://jupyter-client.readthedocs.io/en/latest/wrapperkernels.html).\n",
    "\n",
    "Kernel is actually a subclass of the `ipykernel.kernelbase.Kernel`, which implements custom logic in for the kernel."
   ]
  },
  {
   "cell_type": "markdown",
   "id": "0c3ab993",
   "metadata": {},
   "source": [
    "---\n",
    "\n",
    "The following cell shows the implementation of the kernel. This is kernel that to any execution sends to the client `{'name': 'stdout', 'text': <input>}` where input is a code that is required to be executed."
   ]
  },
  {
   "cell_type": "code",
   "execution_count": 1,
   "id": "31e59aae",
   "metadata": {},
   "outputs": [
    {
     "name": "stdout",
     "output_type": "stream",
     "text": [
      "Writing /tmp/my_kernel.py\n"
     ]
    }
   ],
   "source": [
    "%%writefile /tmp/my_kernel.py\n",
    "from ipykernel.kernelbase import Kernel\n",
    "\n",
    "class EchoKernel(Kernel):\n",
    "    implementation = 'Echo'\n",
    "    implementation_version = '1.0'\n",
    "    language = 'no-op'\n",
    "    language_version = '0.1'\n",
    "    language_info = {\n",
    "        'name': 'Any text',\n",
    "        'mimetype': 'text/plain',\n",
    "        'file_extension': '.txt',\n",
    "    }\n",
    "    banner = \"Echo kernel - as useful as a parrot\"\n",
    "\n",
    "    def do_execute(\n",
    "        self,\n",
    "        code,\n",
    "        silent,\n",
    "        store_history=True,\n",
    "        user_expressions=None,\n",
    "        allow_stdin=False\n",
    "    ):\n",
    "        if not silent:\n",
    "            stream_content = {'name': 'stdout', 'text': code}\n",
    "            self.send_response(self.iopub_socket, 'stream', stream_content)\n",
    "\n",
    "        return {\n",
    "            'status': 'ok',\n",
    "            'execution_count': self.execution_count,\n",
    "            'payload': [],\n",
    "            'user_expressions': {},\n",
    "        }\n",
    "\n",
    "if __name__ == '__main__':\n",
    "    from ipykernel.kernelapp import IPKernelApp\n",
    "    IPKernelApp.launch_instance(kernel_class=EchoKernel)"
   ]
  },
  {
   "cell_type": "markdown",
   "id": "8b0d83fd",
   "metadata": {},
   "source": [
    "The following cell runs `EchoKernel`."
   ]
  },
  {
   "cell_type": "code",
   "execution_count": null,
   "id": "0264efbc",
   "metadata": {},
   "outputs": [
    {
     "name": "stdout",
     "output_type": "stream",
     "text": [
      "NOTE: When using the `ipython kernel` entry point, Ctrl-C will not work.\n",
      "\n",
      "To exit, you will have to explicitly quit this process, by either sending\n",
      "\"quit\" from a client, or using Ctrl-\\ in UNIX-like environments.\n",
      "\n",
      "To read more about this, see https://github.com/ipython/ipython/issues/2049\n",
      "\n",
      "\n",
      "To connect another client to this kernel, use:\n",
      "    --existing /tmp/echo_kernel.json\n"
     ]
    }
   ],
   "source": [
    "from my_kernel import EchoKernel\n",
    "p = IPKernelAppProcess(\n",
    "    connection_file=\"/tmp/echo_kernel.json\",\n",
    "    kernel_class=EchoKernel\n",
    ")"
   ]
  },
  {
   "cell_type": "markdown",
   "id": "abdf9d3a",
   "metadata": {},
   "source": [
    "The next code runs `this is message` in the kernel we just created."
   ]
  },
  {
   "cell_type": "code",
   "execution_count": null,
   "id": "e7ab9d28",
   "metadata": {},
   "outputs": [
    {
     "data": {
      "text/plain": [
       "'this is message'"
      ]
     },
     "execution_count": 17,
     "metadata": {},
     "output_type": "execute_result"
    }
   ],
   "source": [
    "messages = get_messages(\n",
    "    connection_file=\"/tmp/echo_kernel.json\",\n",
    "    code=\"this is message\"\n",
    ")\n",
    "for msg in messages:\n",
    "    if msg[\"header\"][\"msg_type\"] == \"stream\":\n",
    "        ans = msg[\"content\"]\n",
    "ans[\"text\"]"
   ]
  },
  {
   "cell_type": "markdown",
   "id": "394b9722",
   "metadata": {},
   "source": [
    "And we got back `this is message` just as specified in the kernel."
   ]
  },
  {
   "cell_type": "markdown",
   "id": "02fa664a",
   "metadata": {},
   "source": [
    "## Register kernel"
   ]
  },
  {
   "cell_type": "markdown",
   "id": "5745f41d",
   "metadata": {},
   "source": [
    "The next step is to register the kernel, which involves creating a `json` configuration file that points to the Python code you created earlier. First, we should check where existing kernels are stored using the `jupyter kernelspec list` command."
   ]
  },
  {
   "cell_type": "code",
   "execution_count": null,
   "id": "4e0d133f",
   "metadata": {},
   "outputs": [
    {
     "name": "stdout",
     "output_type": "stream",
     "text": [
      "Available kernels:\n",
      "  python3    /usr/local/share/jupyter/kernels/python3\n"
     ]
    }
   ],
   "source": [
    "!jupyter kernelspec list"
   ]
  },
  {
   "cell_type": "markdown",
   "id": "02cf6e33",
   "metadata": {},
   "source": [
    "At the same path, we need to create a folder for the kernel and place `kernel.json` inside it. The `argv` key in `kernel.json` should execute the module we created earlier."
   ]
  },
  {
   "cell_type": "code",
   "execution_count": null,
   "id": "3674f89a",
   "metadata": {},
   "outputs": [],
   "source": [
    "!mkdir -p /usr/local/share/jupyter/kernels/echo"
   ]
  },
  {
   "cell_type": "code",
   "execution_count": null,
   "id": "fe5685af",
   "metadata": {},
   "outputs": [
    {
     "name": "stdout",
     "output_type": "stream",
     "text": [
      "Overwriting /usr/local/share/jupyter/kernels/echo/kernel.json\n"
     ]
    }
   ],
   "source": [
    "%%writefile /usr/local/share/jupyter/kernels/echo/kernel.json\n",
    "{\n",
    "    \"argv\":[\n",
    "        \"python3\", \n",
    "        \"/tmp/my_kernel.py\", \n",
    "        \"-f\", \n",
    "        \"{connection_file}\"\n",
    "    ],\n",
    "    \"display_name\":\"Echo\"\n",
    "}"
   ]
  },
  {
   "cell_type": "markdown",
   "id": "b8413a2b",
   "metadata": {},
   "source": [
    "Now the result of the `jupyter kernelspec list` command is the kernel you just created."
   ]
  },
  {
   "cell_type": "code",
   "execution_count": null,
   "id": "17ceeb7f",
   "metadata": {},
   "outputs": [
    {
     "name": "stdout",
     "output_type": "stream",
     "text": [
      "Available kernels:\n",
      "  echo       /usr/local/share/jupyter/kernels/echo\n",
      "  python3    /usr/local/share/jupyter/kernels/python3\n"
     ]
    }
   ],
   "source": [
    "!jupyter kernelspec list"
   ]
  },
  {
   "cell_type": "markdown",
   "id": "4526d35a",
   "metadata": {},
   "source": [
    "To ensure that everything works correct let's try to run `echo` kernel and send `hello, parrot?` to be executed."
   ]
  },
  {
   "cell_type": "code",
   "execution_count": null,
   "id": "a0e102c9",
   "metadata": {},
   "outputs": [],
   "source": [
    "from jupyter_client import KernelManager\n",
    "km = KernelManager(kernel_name=\"echo\")\n",
    "km.start_kernel()\n",
    "\n",
    "kc = km.client()\n",
    "kc.start_channels()\n",
    "\n",
    "kc.execute(\"hello, parrot?\", reply=True)\n",
    "msg = kc.get_iopub_msg()\n",
    "while True:\n",
    "   msg = kc.get_iopub_msg(timeout=5)\n",
    "   if msg['msg_type'] == 'stream':\n",
    "        break\n",
    "\n",
    "kc.shutdown(reply=True)\n",
    "km.shutdown_kernel(now=True)"
   ]
  },
  {
   "cell_type": "markdown",
   "id": "ef0b8f4e",
   "metadata": {},
   "source": [
    "As a result, the kernel returns exactly what we've sent it - exactly as specified in its logic."
   ]
  },
  {
   "cell_type": "code",
   "execution_count": null,
   "id": "8d680f05",
   "metadata": {},
   "outputs": [
    {
     "data": {
      "text/plain": [
       "'hello, parrot?'"
      ]
     },
     "metadata": {},
     "output_type": "display_data"
    }
   ],
   "source": [
    "msg[\"content\"][\"text\"]"
   ]
  },
  {
   "cell_type": "markdown",
   "id": "d336b338",
   "metadata": {},
   "source": [
    "Even better, you can run a Jupyter Notebook file, select `echo` from the list of kernels, and use it just like any other notebook."
   ]
  }
 ],
 "metadata": {
  "kernelspec": {
   "display_name": "python",
   "language": "python",
   "name": "python3"
  },
  "language_info": {
   "codemirror_mode": {
    "name": "ipython",
    "version": 3
   },
   "file_extension": ".py",
   "mimetype": "text/x-python",
   "name": "python",
   "nbconvert_exporter": "python",
   "pygments_lexer": "ipython3",
   "version": "3.12.9"
  }
 },
 "nbformat": 4,
 "nbformat_minor": 5
}
