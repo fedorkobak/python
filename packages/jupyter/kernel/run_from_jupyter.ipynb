{
 "cells": [
  {
   "cell_type": "markdown",
   "metadata": {},
   "source": [
    "# Run from jupyter\n",
    "\n",
    "This page give an overview of the details of running a jupyter kernel from the jupyter notebook. It doesn't have much practical sence but extremely usefull for purposes of this project."
   ]
  },
  {
   "cell_type": "code",
   "execution_count": 1,
   "metadata": {},
   "outputs": [],
   "source": [
    "import sys\n",
    "sys.path.append(\"/tmp\")\n",
    "import multiprocessing\n",
    "from ipykernel.kernelbase import Kernel\n",
    "from ipykernel.kernelapp import IPKernelApp\n",
    "from jupyter_client.blocking import BlockingKernelClient"
   ]
  },
  {
   "cell_type": "markdown",
   "metadata": {},
   "source": [
    "## Create new instance\n",
    "\n",
    "The main problem associated with running kernel from jupyter environment - is that in execution environment already created kernel object. It follows singleton pattern which means that it has one instance over whole program, so if you try to create a new kernel you'll just get the same object - not create a new one. This can be overcome by running the kernel in the new process.\n",
    "\n",
    "**Note** The process must be started in `spawn` or `forkserver` context so that it not to share resources with the parent process. For more details on this issue, see description on the different startup methods in the `multiprocessing` package. "
   ]
  },
  {
   "cell_type": "markdown",
   "metadata": {},
   "source": [
    "---\n",
    "\n",
    "The following cell shows the instance of the `Kernel` class."
   ]
  },
  {
   "cell_type": "code",
   "execution_count": 11,
   "metadata": {},
   "outputs": [
    {
     "data": {
      "text/plain": [
       "<ipykernel.ipkernel.IPythonKernel at 0x7377f016b650>"
      ]
     },
     "execution_count": 11,
     "metadata": {},
     "output_type": "execute_result"
    }
   ],
   "source": [
    "Kernel.instance()"
   ]
  },
  {
   "cell_type": "markdown",
   "metadata": {},
   "source": [
    "As the result we got reference to the `IPythonKernel` - this is the kernel of the environment this notebook runned in."
   ]
  },
  {
   "cell_type": "markdown",
   "metadata": {},
   "source": [
    "So if you directly call `IPKernelApp.launch_instance` directly, you will just get error related to the fact that resources the kernel is trying to use are occupied, as shown in the next cell."
   ]
  },
  {
   "cell_type": "code",
   "execution_count": 7,
   "metadata": {},
   "outputs": [
    {
     "name": "stdout",
     "output_type": "stream",
     "text": [
      "init_sockets cannot be called twice!\n"
     ]
    }
   ],
   "source": [
    "try:\n",
    "    IPKernelApp.launch_instance()\n",
    "except Exception as e:\n",
    "    print(e)"
   ]
  },
  {
   "cell_type": "markdown",
   "metadata": {},
   "source": [
    "The next code creates prints `Kernel.instance()` from the separate process."
   ]
  },
  {
   "cell_type": "code",
   "execution_count": null,
   "metadata": {},
   "outputs": [
    {
     "name": "stdout",
     "output_type": "stream",
     "text": [
      "Overwriting /tmp/show_kernel_instance.py\n"
     ]
    }
   ],
   "source": [
    "%%writefile /tmp/show_kernel_instance.py\n",
    "from ipykernel.kernelbase import Kernel\n",
    "\n",
    "def process_target():\n",
    "    print(Kernel.instance())"
   ]
  },
  {
   "cell_type": "code",
   "execution_count": 12,
   "metadata": {},
   "outputs": [
    {
     "name": "stdout",
     "output_type": "stream",
     "text": [
      "<ipykernel.kernelbase.Kernel object at 0x77d29a450d70>\n"
     ]
    }
   ],
   "source": [
    "from show_kernel_instance import process_target\n",
    "context = multiprocessing.get_context(\"spawn\")\n",
    "p = context.Process(target=process_target)\n",
    "p.start()"
   ]
  },
  {
   "cell_type": "markdown",
   "metadata": {},
   "source": [
    "In the separate process, `Kernel.instance` refers to the different object."
   ]
  },
  {
   "cell_type": "markdown",
   "metadata": {},
   "source": [
    "## Solution"
   ]
  },
  {
   "cell_type": "code",
   "execution_count": 2,
   "metadata": {},
   "outputs": [
    {
     "name": "stdout",
     "output_type": "stream",
     "text": [
      "Overwriting /tmp/run_kernel.py\n"
     ]
    }
   ],
   "source": [
    "%%writefile /tmp/run_kernel.py\n",
    "from ipykernel.kernelapp import IPKernelApp\n",
    "\n",
    "def process_target():\n",
    "    IPKernelApp.launch_instance([\"-f\", \"/tmp/example_connection.json\"])"
   ]
  },
  {
   "cell_type": "code",
   "execution_count": 6,
   "metadata": {},
   "outputs": [
    {
     "name": "stdout",
     "output_type": "stream",
     "text": [
      "/home/fedor/Documents/python/packages/jupyter/kernel\n",
      "NOTE: When using the `ipython kernel` entry point, Ctrl-C will not work.\n",
      "\n",
      "To exit, you will have to explicitly quit this process, by either sending\n",
      "\"quit\" from a client, or using Ctrl-\\ in UNIX-like environments.\n",
      "\n",
      "To read more about this, see https://github.com/ipython/ipython/issues/2049\n",
      "\n",
      "\n",
      "To connect another client to this kernel, use:\n",
      "    --existing /tmp/example_connection.json\n"
     ]
    }
   ],
   "source": [
    "import sys \n",
    "sys.path.append(\"/tmp\")\n",
    "from run_kernel import process_target\n",
    "\n",
    "context = multiprocessing.get_context(\"spawn\")\n",
    "p = context.Process(target=process_target)\n",
    "p.start()"
   ]
  },
  {
   "cell_type": "code",
   "execution_count": 7,
   "metadata": {},
   "outputs": [
    {
     "data": {
      "text/plain": [
       "True"
      ]
     },
     "execution_count": 7,
     "metadata": {},
     "output_type": "execute_result"
    }
   ],
   "source": [
    "client = BlockingKernelClient()\n",
    "client.load_connection_file(\"/tmp/example_connection.json\")\n",
    "client.start_channels()\n",
    "client.is_alive()"
   ]
  }
 ],
 "metadata": {
  "kernelspec": {
   "display_name": "python",
   "language": "python",
   "name": "python3"
  },
  "language_info": {
   "codemirror_mode": {
    "name": "ipython",
    "version": 3
   },
   "file_extension": ".py",
   "mimetype": "text/x-python",
   "name": "python",
   "nbconvert_exporter": "python",
   "pygments_lexer": "ipython3",
   "version": "3.12.9"
  }
 },
 "nbformat": 4,
 "nbformat_minor": 2
}
