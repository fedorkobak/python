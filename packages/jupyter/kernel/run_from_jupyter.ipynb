{
 "cells": [
  {
   "cell_type": "markdown",
   "metadata": {},
   "source": [
    "# Run from jupyter\n",
    "\n",
    "This page give an overview of the details of running a jupyter kernel from the jupyter notebook. It doesn't have much practical sence but extremely usefull for purposes of this project."
   ]
  },
  {
   "cell_type": "code",
   "execution_count": null,
   "metadata": {},
   "outputs": [],
   "source": [
    "import sys\n",
    "import importlib\n",
    "import multiprocessing\n",
    "from ipykernel.kernelbase import Kernel\n",
    "from ipykernel.kernelapp import IPKernelApp\n",
    "from jupyter_client.blocking import BlockingKernelClient\n",
    "\n",
    "sys.path.append(\"/tmp\")"
   ]
  },
  {
   "cell_type": "markdown",
   "metadata": {},
   "source": [
    "## Create new instance\n",
    "\n",
    "The main problem associated with running kernel from jupyter environment - is that in execution environment already created kernel object. It follows singleton pattern which means that it has one instance over whole program, so if you try to create a new kernel you'll just get the same object - not create a new one. This can be overcome by running the kernel in the new process.\n",
    "\n",
    "**Note** The process must be started in `spawn` or `forkserver` context so that it not to share resources with the parent process. For more details on this issue, see description on the different startup methods in the `multiprocessing` package. "
   ]
  },
  {
   "cell_type": "markdown",
   "metadata": {},
   "source": [
    "---\n",
    "\n",
    "The following cell shows the instance of the `Kernel` class."
   ]
  },
  {
   "cell_type": "code",
   "execution_count": 11,
   "metadata": {},
   "outputs": [
    {
     "data": {
      "text/plain": [
       "<ipykernel.ipkernel.IPythonKernel at 0x7377f016b650>"
      ]
     },
     "execution_count": 11,
     "metadata": {},
     "output_type": "execute_result"
    }
   ],
   "source": [
    "Kernel.instance()"
   ]
  },
  {
   "cell_type": "markdown",
   "metadata": {},
   "source": [
    "As the result we got reference to the `IPythonKernel` - this is the kernel of the environment this notebook runned in."
   ]
  },
  {
   "cell_type": "markdown",
   "metadata": {},
   "source": [
    "So if you directly call `IPKernelApp.launch_instance` directly, you will just get error related to the fact that resources the kernel is trying to use are occupied, as shown in the next cell."
   ]
  },
  {
   "cell_type": "code",
   "execution_count": 7,
   "metadata": {},
   "outputs": [
    {
     "name": "stdout",
     "output_type": "stream",
     "text": [
      "init_sockets cannot be called twice!\n"
     ]
    }
   ],
   "source": [
    "try:\n",
    "    IPKernelApp.launch_instance()\n",
    "except Exception as e:\n",
    "    print(e)"
   ]
  },
  {
   "cell_type": "markdown",
   "metadata": {},
   "source": [
    "The next code creates prints `Kernel.instance()` from the separate process."
   ]
  },
  {
   "cell_type": "code",
   "execution_count": 15,
   "metadata": {},
   "outputs": [
    {
     "name": "stdout",
     "output_type": "stream",
     "text": [
      "Overwriting /tmp/show_kernel_instance.py\n"
     ]
    }
   ],
   "source": [
    "%%writefile /tmp/show_kernel_instance.py\n",
    "from ipykernel.kernelbase import Kernel\n",
    "\n",
    "def process_target():\n",
    "    print(Kernel.instance())"
   ]
  },
  {
   "cell_type": "code",
   "execution_count": 12,
   "metadata": {},
   "outputs": [
    {
     "name": "stdout",
     "output_type": "stream",
     "text": [
      "<ipykernel.kernelbase.Kernel object at 0x77d29a450d70>\n"
     ]
    }
   ],
   "source": [
    "from show_kernel_instance import process_target\n",
    "context = multiprocessing.get_context(\"spawn\")\n",
    "p = context.Process(target=process_target)\n",
    "p.start()"
   ]
  },
  {
   "cell_type": "markdown",
   "metadata": {},
   "source": [
    "In the separate process, `Kernel.instance` refers to the different object."
   ]
  },
  {
   "cell_type": "markdown",
   "metadata": {},
   "source": [
    "## CLI arguments\n",
    "\n",
    "Another issue related to starting the kernel in the jupyter notebook is that it can use command line arguments used by the parent process. Specifically, if a connection file was specified when setting up the kernel's new `IPKernelApp` object, these parameters will be inherited by the child process, and `IPKernelApp` will read and use these parameter.\n",
    "\n",
    "- The most obvious solution is to simply skip the parameters of the parent process `sys.argv = ['python3']`.\n",
    "- In some cases it's more beneficial to pass parameters directly as `list[str]` to `IPKernelApp.launch_instance` which will be used later in `IPKernelApp.initialize`."
   ]
  },
  {
   "cell_type": "markdown",
   "metadata": {},
   "source": [
    "---\n",
    "\n",
    "**Note** The following example was run in vscode jupyter notebook implementation and in different implementation result may be different."
   ]
  },
  {
   "cell_type": "markdown",
   "metadata": {},
   "source": [
    "Two subsequent cells start a new process that prints `sys.argv` and calls the `IPKernelApp.parse_command_line` method which is an important part of the `IPKernelApp.launch_instance` instance. Dsiplays the `connection_file` attribute of the `IPKernelApp`."
   ]
  },
  {
   "cell_type": "code",
   "execution_count": 40,
   "metadata": {},
   "outputs": [
    {
     "name": "stdout",
     "output_type": "stream",
     "text": [
      "Overwriting /tmp/show_arv.py\n"
     ]
    }
   ],
   "source": [
    "%%writefile /tmp/show_arv.py\n",
    "import sys\n",
    "from ipykernel.kernelapp import IPKernelApp\n",
    "\n",
    "def process_target():\n",
    "    print(sys.argv)\n",
    "    app = IPKernelApp.instance()\n",
    "    app.parse_command_line()\n",
    "    print(\"connection file:\", app.connection_file)"
   ]
  },
  {
   "cell_type": "code",
   "execution_count": 41,
   "metadata": {},
   "outputs": [
    {
     "name": "stdout",
     "output_type": "stream",
     "text": [
      "['/home/fedor/.virtualenvs/python/lib/python3.12/site-packages/ipykernel_launcher.py', '--f=/run/user/1000/jupyter/runtime/kernel-v3230a012ea78203d37cfc76381637f9f4dec70282.json']\n",
      "connection file: /run/user/1000/jupyter/runtime/kernel-v3230a012ea78203d37cfc76381637f9f4dec70282.json\n"
     ]
    }
   ],
   "source": [
    "import show_arv\n",
    "context = multiprocessing.get_context(\"spawn\")\n",
    "p = context.Process(target=show_arv.process_target)\n",
    "p.start()"
   ]
  },
  {
   "cell_type": "markdown",
   "metadata": {},
   "source": [
    "As a result, `IPKernelApp` will use the same connection file as the main kernel."
   ]
  },
  {
   "cell_type": "markdown",
   "metadata": {},
   "source": [
    "The following cell shows the result of `parsing_command_line` after resetting of the command line arguments from the parent process. "
   ]
  },
  {
   "cell_type": "code",
   "execution_count": 42,
   "metadata": {},
   "outputs": [
    {
     "name": "stdout",
     "output_type": "stream",
     "text": [
      "Overwriting /tmp/show_arv.py\n"
     ]
    }
   ],
   "source": [
    "%%writefile /tmp/show_arv.py\n",
    "import sys\n",
    "from ipykernel.kernelapp import IPKernelApp\n",
    "\n",
    "def process_target():\n",
    "    sys.argv = [\"python3\"]\n",
    "    app = IPKernelApp.instance()\n",
    "    app.parse_command_line()\n",
    "    print(\"connection file:\", app.connection_file)"
   ]
  },
  {
   "cell_type": "code",
   "execution_count": 43,
   "metadata": {},
   "outputs": [
    {
     "name": "stdout",
     "output_type": "stream",
     "text": [
      "connection file: \n"
     ]
    }
   ],
   "source": [
    "importlib.reload(show_arv)\n",
    "context = multiprocessing.get_context(\"spawn\")\n",
    "p = context.Process(target=show_arv.process_target)\n",
    "p.start()"
   ]
  },
  {
   "cell_type": "markdown",
   "metadata": {},
   "source": [
    "As a result, there is no connection file in the child process."
   ]
  },
  {
   "cell_type": "markdown",
   "metadata": {},
   "source": [
    "An alternative solution is to pass the arguments as to the system as `List[str]`. The following cell runs `parse_command_line` that resets the `connection_file`."
   ]
  },
  {
   "cell_type": "code",
   "execution_count": 44,
   "metadata": {},
   "outputs": [
    {
     "name": "stdout",
     "output_type": "stream",
     "text": [
      "Overwriting /tmp/show_arv.py\n"
     ]
    }
   ],
   "source": [
    "%%writefile /tmp/show_arv.py\n",
    "import sys\n",
    "from ipykernel.kernelapp import IPKernelApp\n",
    "\n",
    "def process_target():\n",
    "    app = IPKernelApp.instance()\n",
    "    app.parse_command_line([\"--f\", \"value\"])\n",
    "    print(\"connection file:\", app.connection_file)"
   ]
  },
  {
   "cell_type": "code",
   "execution_count": 45,
   "metadata": {},
   "outputs": [
    {
     "name": "stdout",
     "output_type": "stream",
     "text": [
      "connection file: value\n"
     ]
    }
   ],
   "source": [
    "importlib.reload(show_arv)\n",
    "context = multiprocessing.get_context(\"spawn\")\n",
    "p = context.Process(target=show_arv.process_target)\n",
    "p.start()"
   ]
  },
  {
   "cell_type": "markdown",
   "metadata": {},
   "source": [
    "As a result, the `connection_file` attribute of the `IPKernelApp` takes the values specified in the command line argument list."
   ]
  },
  {
   "cell_type": "markdown",
   "metadata": {},
   "source": [
    "## Implementation\n",
    "\n",
    "This section describes the minimal working setup of the code that runs the kernel inside jupyter notebook."
   ]
  },
  {
   "cell_type": "markdown",
   "metadata": {},
   "source": [
    "---\n",
    "\n",
    "The following cell defines the target for the process. It is only the `IPKernelApp.launch_instance` that redefines the connection file."
   ]
  },
  {
   "cell_type": "code",
   "execution_count": 48,
   "metadata": {},
   "outputs": [
    {
     "name": "stdout",
     "output_type": "stream",
     "text": [
      "Overwriting /tmp/run_kernel.py\n"
     ]
    }
   ],
   "source": [
    "%%writefile /tmp/run_kernel.py\n",
    "from ipykernel.kernelapp import IPKernelApp\n",
    "\n",
    "def process_target():\n",
    "    IPKernelApp.launch_instance([\"-f\", \"/tmp/example_connection.json\"])"
   ]
  },
  {
   "cell_type": "markdown",
   "metadata": {},
   "source": [
    "The following code runs this kernel in a separate process."
   ]
  },
  {
   "cell_type": "code",
   "execution_count": 50,
   "metadata": {},
   "outputs": [
    {
     "name": "stdout",
     "output_type": "stream",
     "text": [
      "NOTE: When using the `ipython kernel` entry point, Ctrl-C will not work.\n",
      "\n",
      "To exit, you will have to explicitly quit this process, by either sending\n",
      "\"quit\" from a client, or using Ctrl-\\ in UNIX-like environments.\n",
      "\n",
      "To read more about this, see https://github.com/ipython/ipython/issues/2049\n",
      "\n",
      "\n",
      "To connect another client to this kernel, use:\n",
      "    --existing /tmp/example_connection.json\n"
     ]
    }
   ],
   "source": [
    "from run_kernel import process_target\n",
    "context = multiprocessing.get_context(\"spawn\")\n",
    "p = context.Process(target=process_target)\n",
    "p.start()"
   ]
  },
  {
   "cell_type": "markdown",
   "metadata": {},
   "source": [
    "To make sure that everything is working properly, the following cell creates a client that connects to this kernel and shows that it's alive."
   ]
  },
  {
   "cell_type": "code",
   "execution_count": 7,
   "metadata": {},
   "outputs": [
    {
     "data": {
      "text/plain": [
       "True"
      ]
     },
     "execution_count": 7,
     "metadata": {},
     "output_type": "execute_result"
    }
   ],
   "source": [
    "client = BlockingKernelClient()\n",
    "client.load_connection_file(\"/tmp/example_connection.json\")\n",
    "client.start_channels()\n",
    "client.is_alive()"
   ]
  },
  {
   "cell_type": "markdown",
   "metadata": {},
   "source": [
    "## Special tool\n",
    "\n",
    "To make it easier to run jupyter kernels from juptyer notebook developed, a special tool has been developed. Use `utils.run_jupyter_kernel.run_kernel_in_process`. It takes arguments:\n",
    "\n",
    "- `connection_file`: Path to the kernel connection file.\n",
    "- `kernel_class`: Class of the kernel that determines the behaviour of the kernel."
   ]
  },
  {
   "cell_type": "markdown",
   "metadata": {},
   "source": [
    "---\n",
    "\n",
    "The following cell runs kernel starts a new jupyter kernel."
   ]
  },
  {
   "cell_type": "code",
   "execution_count": 2,
   "metadata": {},
   "outputs": [
    {
     "name": "stdout",
     "output_type": "stream",
     "text": [
      "NOTE: When using the `ipython kernel` entry point, Ctrl-C will not work.\n",
      "\n",
      "To exit, you will have to explicitly quit this process, by either sending\n",
      "\"quit\" from a client, or using Ctrl-\\ in UNIX-like environments.\n",
      "\n",
      "To read more about this, see https://github.com/ipython/ipython/issues/2049\n",
      "\n",
      "\n",
      "To connect another client to this kernel, use:\n",
      "    --existing /tmp/run_kernel_example.json\n"
     ]
    }
   ],
   "source": [
    "from ipykernel.ipkernel import IPythonKernel\n",
    "from utils.run_jupyter_kernel import run_kernel_in_process\n",
    "\n",
    "run_kernel_in_process(\n",
    "    connection_file=\"/tmp/run_kernel_example.json\",\n",
    "    kernel_class=IPythonKernel\n",
    ")"
   ]
  },
  {
   "cell_type": "markdown",
   "metadata": {},
   "source": [
    "The following cell creates a client that proves that kernels works fine."
   ]
  },
  {
   "cell_type": "code",
   "execution_count": 3,
   "metadata": {},
   "outputs": [
    {
     "data": {
      "text/plain": [
       "True"
      ]
     },
     "execution_count": 3,
     "metadata": {},
     "output_type": "execute_result"
    }
   ],
   "source": [
    "client = BlockingKernelClient()\n",
    "client.load_connection_file(\"/tmp/run_kernel_example.json\")\n",
    "client.start_channels()\n",
    "client.is_alive()"
   ]
  }
 ],
 "metadata": {
  "kernelspec": {
   "display_name": "python",
   "language": "python",
   "name": "python3"
  },
  "language_info": {
   "codemirror_mode": {
    "name": "ipython",
    "version": 3
   },
   "file_extension": ".py",
   "mimetype": "text/x-python",
   "name": "python",
   "nbconvert_exporter": "python",
   "pygments_lexer": "ipython3",
   "version": "3.12.9"
  }
 },
 "nbformat": 4,
 "nbformat_minor": 2
}
