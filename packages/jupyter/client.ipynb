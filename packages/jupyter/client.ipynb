{
 "cells": [
  {
   "cell_type": "markdown",
   "metadata": {},
   "source": [
    "# Client\n",
    "\n",
    "This section describes how the jupyter client normally works and how to work with different implementations of the jupyter client."
   ]
  },
  {
   "cell_type": "markdown",
   "metadata": {},
   "source": [
    "---\n",
    "\n",
    "The following cell runs the simpliest `IPythonKernlel` that is commonly used for experimenting with jupyter clients."
   ]
  },
  {
   "cell_type": "code",
   "execution_count": 59,
   "metadata": {},
   "outputs": [
    {
     "name": "stdout",
     "output_type": "stream",
     "text": [
      "NOTE: When using the `ipython kernel` entry point, Ctrl-C will not work.\n",
      "\n",
      "To exit, you will have to explicitly quit this process, by either sending\n",
      "\"quit\" from a client, or using Ctrl-\\ in UNIX-like environments.\n",
      "\n",
      "To read more about this, see https://github.com/ipython/ipython/issues/2049\n",
      "\n",
      "\n",
      "To connect another client to this kernel, use:\n",
      "    --existing /tmp/connection_file.json\n"
     ]
    }
   ],
   "source": [
    "from pathlib import Path\n",
    "from utils import run_kernel_in_process\n",
    "from jupyter_client.blocking import BlockingKernelClient\n",
    "from IPython.display import JSON\n",
    "\n",
    "\n",
    "connection_file = Path(\"/tmp\")/\"connection_file.json\"\n",
    "connection_file.unlink(missing_ok=True)\n",
    "run_kernel_in_process(connection_file=\"/tmp/connection_file.json\")"
   ]
  },
  {
   "cell_type": "markdown",
   "metadata": {},
   "source": [
    "## Creating client\n",
    "\n",
    "The following cell defines the client that we'll use as an example. You need to pass the connection file to the kernel and call the `start_channels` method."
   ]
  },
  {
   "cell_type": "code",
   "execution_count": null,
   "metadata": {},
   "outputs": [],
   "source": [
    "client = BlockingKernelClient()\n",
    "client.load_connection_file(connection_file)\n",
    "client.start_channels()"
   ]
  },
  {
   "cell_type": "markdown",
   "metadata": {},
   "source": [
    "The conenction can be checked by using the `is_alive` method - it must return `True`."
   ]
  },
  {
   "cell_type": "code",
   "execution_count": 13,
   "metadata": {},
   "outputs": [
    {
     "data": {
      "text/plain": [
       "True"
      ]
     },
     "execution_count": 13,
     "metadata": {},
     "output_type": "execute_result"
    }
   ],
   "source": [
    "client.is_alive()"
   ]
  },
  {
   "cell_type": "markdown",
   "metadata": {},
   "source": [
    "## Execute\n",
    "\n",
    "For execution code, use the `execute` method to point to code that needs to be executed. It returns `msg_id` which allows to identify which messages from the kernel correspond to which messages returned by the kernel.\n",
    "\n",
    "To get messages from the kernel, use the client's `get_iopub_msg` method of the client. It consistently returns different messages that correspond to different stages of execution. "
   ]
  },
  {
   "cell_type": "markdown",
   "metadata": {},
   "source": [
    "---\n",
    "\n",
    "The following cell sends some code to be executed by the kernel."
   ]
  },
  {
   "cell_type": "code",
   "execution_count": 84,
   "metadata": {},
   "outputs": [
    {
     "data": {
      "text/plain": [
       "'99566749-dde045f26306ed8070cf45a5_51308_11'"
      ]
     },
     "execution_count": 84,
     "metadata": {},
     "output_type": "execute_result"
    }
   ],
   "source": [
    "msg_id = client.execute(\"x = 42\\ny = x * 2\\ny\")\n",
    "msg_id"
   ]
  },
  {
   "cell_type": "markdown",
   "metadata": {},
   "source": [
    "The following cell collects all messages generaged by the kernel."
   ]
  },
  {
   "cell_type": "code",
   "execution_count": 85,
   "metadata": {},
   "outputs": [],
   "source": [
    "ans_list = []\n",
    "\n",
    "while True:\n",
    "    try:\n",
    "        ans_list.append(client.get_iopub_msg(timeout=5))\n",
    "    except:\n",
    "        break"
   ]
  },
  {
   "cell_type": "markdown",
   "metadata": {},
   "source": [
    "In this case 4 messages were returned by the kernel. There is a lot of duplicated information: what's importand at this stage is: \n",
    "\n",
    "- `msg_type`: this allows to understand what type of message we got, for example `execute_result` means that this message.\n",
    "- `content`: the content that the kernel sends to the client - depends on `msg_type`.\n",
    "- `header.msg_id`: This allows to understand to which message from the client this response belongs to."
   ]
  },
  {
   "cell_type": "code",
   "execution_count": 86,
   "metadata": {},
   "outputs": [
    {
     "data": {
      "text/plain": [
       "{'header': {'msg_id': '828386eb-bf56f05325d4274482ffa1df_53484_60',\n",
       "  'msg_type': 'status',\n",
       "  'username': 'fedor',\n",
       "  'session': '828386eb-bf56f05325d4274482ffa1df',\n",
       "  'date': datetime.datetime(2025, 4, 14, 15, 46, 36, 576434, tzinfo=tzutc()),\n",
       "  'version': '5.3'},\n",
       " 'msg_id': '828386eb-bf56f05325d4274482ffa1df_53484_60',\n",
       " 'msg_type': 'status',\n",
       " 'parent_header': {'msg_id': '99566749-dde045f26306ed8070cf45a5_51308_11',\n",
       "  'msg_type': 'execute_request',\n",
       "  'username': 'fedor',\n",
       "  'session': '99566749-dde045f26306ed8070cf45a5',\n",
       "  'date': datetime.datetime(2025, 4, 14, 15, 46, 36, 574804, tzinfo=tzutc()),\n",
       "  'version': '5.3'},\n",
       " 'metadata': {},\n",
       " 'content': {'execution_state': 'busy'},\n",
       " 'buffers': []}"
      ]
     },
     "execution_count": 86,
     "metadata": {},
     "output_type": "execute_result"
    }
   ],
   "source": [
    "ans_list[0]"
   ]
  },
  {
   "cell_type": "code",
   "execution_count": 87,
   "metadata": {},
   "outputs": [
    {
     "data": {
      "text/plain": [
       "{'header': {'msg_id': '828386eb-bf56f05325d4274482ffa1df_53484_61',\n",
       "  'msg_type': 'execute_input',\n",
       "  'username': 'fedor',\n",
       "  'session': '828386eb-bf56f05325d4274482ffa1df',\n",
       "  'date': datetime.datetime(2025, 4, 14, 15, 46, 36, 577101, tzinfo=tzutc()),\n",
       "  'version': '5.3'},\n",
       " 'msg_id': '828386eb-bf56f05325d4274482ffa1df_53484_61',\n",
       " 'msg_type': 'execute_input',\n",
       " 'parent_header': {'msg_id': '99566749-dde045f26306ed8070cf45a5_51308_11',\n",
       "  'msg_type': 'execute_request',\n",
       "  'username': 'fedor',\n",
       "  'session': '99566749-dde045f26306ed8070cf45a5',\n",
       "  'date': datetime.datetime(2025, 4, 14, 15, 46, 36, 574804, tzinfo=tzutc()),\n",
       "  'version': '5.3'},\n",
       " 'metadata': {},\n",
       " 'content': {'code': 'x = 42\\ny = x * 2\\ny', 'execution_count': 12},\n",
       " 'buffers': []}"
      ]
     },
     "execution_count": 87,
     "metadata": {},
     "output_type": "execute_result"
    }
   ],
   "source": [
    "ans_list[1]"
   ]
  },
  {
   "cell_type": "code",
   "execution_count": 88,
   "metadata": {},
   "outputs": [
    {
     "data": {
      "text/plain": [
       "{'header': {'msg_id': '828386eb-bf56f05325d4274482ffa1df_53484_62',\n",
       "  'msg_type': 'execute_result',\n",
       "  'username': 'fedor',\n",
       "  'session': '828386eb-bf56f05325d4274482ffa1df',\n",
       "  'date': datetime.datetime(2025, 4, 14, 15, 46, 36, 579208, tzinfo=tzutc()),\n",
       "  'version': '5.3'},\n",
       " 'msg_id': '828386eb-bf56f05325d4274482ffa1df_53484_62',\n",
       " 'msg_type': 'execute_result',\n",
       " 'parent_header': {'msg_id': '99566749-dde045f26306ed8070cf45a5_51308_11',\n",
       "  'msg_type': 'execute_request',\n",
       "  'username': 'fedor',\n",
       "  'session': '99566749-dde045f26306ed8070cf45a5',\n",
       "  'date': datetime.datetime(2025, 4, 14, 15, 46, 36, 574804, tzinfo=tzutc()),\n",
       "  'version': '5.3'},\n",
       " 'metadata': {},\n",
       " 'content': {'data': {'text/plain': '84'},\n",
       "  'metadata': {},\n",
       "  'execution_count': 12},\n",
       " 'buffers': []}"
      ]
     },
     "execution_count": 88,
     "metadata": {},
     "output_type": "execute_result"
    }
   ],
   "source": [
    "ans_list[2]"
   ]
  },
  {
   "cell_type": "code",
   "execution_count": 89,
   "metadata": {},
   "outputs": [
    {
     "data": {
      "text/plain": [
       "{'header': {'msg_id': '828386eb-bf56f05325d4274482ffa1df_53484_64',\n",
       "  'msg_type': 'status',\n",
       "  'username': 'fedor',\n",
       "  'session': '828386eb-bf56f05325d4274482ffa1df',\n",
       "  'date': datetime.datetime(2025, 4, 14, 15, 46, 36, 584279, tzinfo=tzutc()),\n",
       "  'version': '5.3'},\n",
       " 'msg_id': '828386eb-bf56f05325d4274482ffa1df_53484_64',\n",
       " 'msg_type': 'status',\n",
       " 'parent_header': {'msg_id': '99566749-dde045f26306ed8070cf45a5_51308_11',\n",
       "  'msg_type': 'execute_request',\n",
       "  'username': 'fedor',\n",
       "  'session': '99566749-dde045f26306ed8070cf45a5',\n",
       "  'date': datetime.datetime(2025, 4, 14, 15, 46, 36, 574804, tzinfo=tzutc()),\n",
       "  'version': '5.3'},\n",
       " 'metadata': {},\n",
       " 'content': {'execution_state': 'idle'},\n",
       " 'buffers': []}"
      ]
     },
     "execution_count": 89,
     "metadata": {},
     "output_type": "execute_result"
    }
   ],
   "source": [
    "ans_list[3]"
   ]
  }
 ],
 "metadata": {
  "kernelspec": {
   "display_name": "python",
   "language": "python",
   "name": "python3"
  },
  "language_info": {
   "codemirror_mode": {
    "name": "ipython",
    "version": 3
   },
   "file_extension": ".py",
   "mimetype": "text/x-python",
   "name": "python",
   "nbconvert_exporter": "python",
   "pygments_lexer": "ipython3",
   "version": "3.12.9"
  }
 },
 "nbformat": 4,
 "nbformat_minor": 2
}
