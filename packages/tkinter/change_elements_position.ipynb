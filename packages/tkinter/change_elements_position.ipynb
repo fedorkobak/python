{
 "cells": [
  {
   "cell_type": "markdown",
   "id": "23252f63-31a5-477c-848f-e1935e7cbd2a",
   "metadata": {},
   "source": [
    "# Change elements position\n",
    "\n",
    "Sometimes it is useful to be able to reuse the same element without creating a new one. In such cases, you have the option to hide the element and then reposition it elsewhere."
   ]
  },
  {
   "cell_type": "markdown",
   "id": "86a80ec5-731d-451b-a5a0-9812472df388",
   "metadata": {},
   "source": [
    "To hide an element, you can utilize the appropriate \"forget method\" depending on the layout manager you used. For example, if you positioned the element using the `pack` method, you can use `pack_forget` to hide it. Similarly, if you utilized the `place` method, you can use `place_forget`, and if you used `grid`, you can use `grid_forget` and so on. Choose the appropriate forget method based on the layout manager you employed."
   ]
  },
  {
   "cell_type": "markdown",
   "id": "1fff2ff6-a939-4ed0-b695-886bb1a47f3b",
   "metadata": {},
   "source": [
    "The following example shows how to change the `pack` side of the button by pressing the arrows or just hiding it with the `space` key."
   ]
  },
  {
   "cell_type": "code",
   "execution_count": 23,
   "id": "0b2f6eb0-7d39-4b61-84c3-1c56f94ddb38",
   "metadata": {},
   "outputs": [],
   "source": [
    "import tkinter as tk\n",
    "\n",
    "root = tk.Tk()\n",
    "root.geometry(\"300x300\")\n",
    "\n",
    "button = tk.Button(root, text=\"My button\")\n",
    "button.pack(side=tk.TOP)\n",
    "\n",
    "def replace_button(side):\n",
    "    button.pack_forget()\n",
    "    button.pack(side=side)\n",
    "root.bind('<Up>', lambda event: replace_button(side=tk.TOP))\n",
    "root.bind('<Down>', lambda event: replace_button(side=tk.BOTTOM))\n",
    "root.bind('<Left>', lambda event: replace_button(side=tk.LEFT))\n",
    "root.bind('<Right>', lambda event: replace_button(side=tk.RIGHT))\n",
    "\n",
    "# If you only use the forget method on a button, \n",
    "# it will disappear. However, if you press any \n",
    "# arrow key, it will reappear in the corresponding \n",
    "# position. This way, you can reuse objects.\n",
    "root.bind('<space>', lambda event: button.pack_forget())\n",
    "\n",
    "root.mainloop()"
   ]
  }
 ],
 "metadata": {
  "kernelspec": {
   "display_name": "Python 3 (ipykernel)",
   "language": "python",
   "name": "python3"
  },
  "language_info": {
   "codemirror_mode": {
    "name": "ipython",
    "version": 3
   },
   "file_extension": ".py",
   "mimetype": "text/x-python",
   "name": "python",
   "nbconvert_exporter": "python",
   "pygments_lexer": "ipython3",
   "version": "3.10.14"
  }
 },
 "nbformat": 4,
 "nbformat_minor": 5
}
