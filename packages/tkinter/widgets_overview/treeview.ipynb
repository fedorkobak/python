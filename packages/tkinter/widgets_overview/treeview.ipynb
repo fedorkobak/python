{
 "cells": [
  {
   "cell_type": "markdown",
   "id": "f0133e6b-b0d4-4e1e-972a-b9d9231b57ad",
   "metadata": {},
   "source": [
    "# Treeview\n",
    "\n",
    "`ttk.Treview` is a class that is used to display data in a hierarchical or tabular form. This page focuses on the properties of the tree view.\n",
    "\n",
    "See more detailed description on the [official documentation section](https://docs.python.org/3/library/tkinter.ttk.html#treeview)."
   ]
  },
  {
   "cell_type": "code",
   "execution_count": 1,
   "id": "038c711e-53cc-4907-85c1-03ebfb69533a",
   "metadata": {},
   "outputs": [],
   "source": [
    "import os\n",
    "from pathlib import Path\n",
    "os.chdir(str(Path(os.getcwd()).parent.parent))\n",
    "\n",
    "import tkinter as tk\n",
    "from tkinter import ttk\n",
    "\n",
    "from tkinter_files.screenshot import take_screenshot"
   ]
  },
  {
   "cell_type": "markdown",
   "id": "bbadbd2a-cda9-42b9-80af-d7faa26cbd91",
   "metadata": {},
   "source": [
    "## Select element\n",
    "\n",
    "Sometimes you'll need to create a feature that allows you to display a particular value in the treeview. Key methods here are\n",
    "\n",
    "- `selection_set` select specific item.\n",
    "- `see` scroll values to such position to see specified element."
   ]
  },
  {
   "cell_type": "markdown",
   "id": "3498eb42-ef48-46c9-ad65-998262a6bc23",
   "metadata": {},
   "source": [
    "Here is an example that builds a simple application that allows to find elements with a certain index."
   ]
  },
  {
   "cell_type": "code",
   "execution_count": 20,
   "id": "4b57da86-5bf6-41d3-800e-4a3f5653a442",
   "metadata": {},
   "outputs": [],
   "source": [
    "root = tk.Tk()\n",
    "root.geometry(\"200x300\")\n",
    "\n",
    "tree = ttk.Treeview(root, columns=(\"ind\"), show='headings')\n",
    "tree.pack()\n",
    "\n",
    "entry = tk.Entry(root)\n",
    "entry.pack()\n",
    "button = tk.Button(root, text=\"Go to item\")\n",
    "button.pack()\n",
    "\n",
    "for i in range(100):\n",
    "    tree.insert(\n",
    "        parent=\"\",\n",
    "        index=\"end\",\n",
    "        values=f\"value\\ {str(i)}\",\n",
    "        iid=i\n",
    "    )\n",
    "\n",
    "def go_to_obs(event):\n",
    "    value = entry.get()\n",
    "    # This is key part - here is called `selection_set` and `see`\n",
    "    tree.selection_set(value)\n",
    "    tree.see(value)\n",
    "\n",
    "button.bind(\"<Button-1>\", go_to_obs)\n",
    "\n",
    "root.mainloop()"
   ]
  },
  {
   "cell_type": "markdown",
   "id": "50cd6baa-92b2-4cfb-99b2-985abdcd9f14",
   "metadata": {},
   "source": [
    "You have to specify `iid` in `see` and `selection_set` methods. The following example illustrates this:\n",
    "\n",
    "We have two items where:\n",
    "\n",
    "- `selection 1` corresponds to the `tiger` value.\n",
    "- `selection 2` corresponds to the `girafe` value.\n",
    "\n",
    "After creating ayout we called `selection_set(\"selection 2\")`."
   ]
  },
  {
   "cell_type": "code",
   "execution_count": 28,
   "id": "ac2f4624-9a51-44f3-bfc5-668e92c335bb",
   "metadata": {},
   "outputs": [
    {
     "data": {
      "image/png": "[encoded data removed]",
      "text/plain": [
       "<PIL.Image.Image image mode=RGBA size=202x221 at 0x7FF40F79BC40>"
      ]
     },
     "metadata": {},
     "output_type": "display_data"
    }
   ],
   "source": [
    "root = tk.Tk()\n",
    "\n",
    "tree = ttk.Treeview(root, columns=(\"ind\"), show='headings')\n",
    "tree.pack()\n",
    "tree.insert(\n",
    "    parent=\"\", index=\"end\", values=\"tiger\", iid=\"selection 1\"\n",
    ")\n",
    "tree.insert(\n",
    "    parent=\"\", index=\"end\", values=\"girafe\", iid=\"selection 2\"\n",
    ")\n",
    "\n",
    "tree.selection_set(\"selection 2\")\n",
    "\n",
    "root.after(200, take_screenshot, root)\n",
    "root.mainloop()"
   ]
  },
  {
   "cell_type": "markdown",
   "id": "dd13dff3-f2e3-46cb-8338-d86a68131aba",
   "metadata": {},
   "source": [
    "As a result we have selected the `girafe` element which corresponds to the `iid=selection 2`."
   ]
  }
 ],
 "metadata": {
  "kernelspec": {
   "display_name": "Python 3 (ipykernel)",
   "language": "python",
   "name": "python3"
  },
  "language_info": {
   "codemirror_mode": {
    "name": "ipython",
    "version": 3
   },
   "file_extension": ".py",
   "mimetype": "text/x-python",
   "name": "python",
   "nbconvert_exporter": "python",
   "pygments_lexer": "ipython3",
   "version": "3.10.12"
  }
 },
 "nbformat": 4,
 "nbformat_minor": 5
}
