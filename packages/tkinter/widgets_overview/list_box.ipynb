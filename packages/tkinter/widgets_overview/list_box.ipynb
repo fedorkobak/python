{
 "cells": [
  {
   "cell_type": "markdown",
   "id": "1cf9536f-bf4c-4f8e-b664-a78a8524127a",
   "metadata": {
    "tags": []
   },
   "source": [
    "# Listbox\n",
    "\n",
    "`tkinter.ListBox` is an element that allows you to create a set of items so that you can select a subset of items for further manipulations."
   ]
  },
  {
   "cell_type": "code",
   "execution_count": 2,
   "id": "5351c136",
   "metadata": {},
   "outputs": [],
   "source": [
    "import os\n",
    "import tkinter as tk\n",
    "from pathlib import Path\n",
    "from random import randint\n",
    "\n",
    "os.chdir(str(Path().resolve().parent.parent))\n",
    "\n",
    "from tkinter_files.screenshot import take_screenshot"
   ]
  },
  {
   "cell_type": "markdown",
   "id": "f0d110fc",
   "metadata": {},
   "source": [
    "## Insert\n",
    "\n",
    "The `tkinter.ListBox.insert` method allows you to add items to the list box."
   ]
  },
  {
   "cell_type": "markdown",
   "id": "97e6c8cb",
   "metadata": {},
   "source": [
    "---\n",
    "\n",
    "The following cell creates a list box with 5 elements."
   ]
  },
  {
   "cell_type": "code",
   "execution_count": 11,
   "id": "149ef015",
   "metadata": {},
   "outputs": [
    {
     "data": {
      "image/png": "[encoded data removed]",
      "text/plain": [
       "<PIL.Image.Image image mode=RGBA size=164x204>"
      ]
     },
     "metadata": {},
     "output_type": "display_data"
    }
   ],
   "source": [
    "root = tk.Tk()\n",
    "\n",
    "list_box = tk.Listbox()\n",
    "\n",
    "list_box.pack()\n",
    "for i in range(5):\n",
    "    list_box.insert(tk.END, f'item {i}')\n",
    "\n",
    "root.after(200, take_screenshot, root)\n",
    "root.mainloop()"
   ]
  },
  {
   "cell_type": "markdown",
   "id": "facf3a3e",
   "metadata": {},
   "source": [
    "## Get\n",
    "\n",
    "With the `tkinter.listbox.get` method you can get the value under the specified element of the list."
   ]
  },
  {
   "cell_type": "markdown",
   "id": "3a68ea44",
   "metadata": {},
   "source": [
    "---\n",
    "\n",
    "The following cell creates a set of random listbox elements, and displays the contents of the third (index 2) in the `print` output."
   ]
  },
  {
   "cell_type": "code",
   "execution_count": 27,
   "id": "df07f44b",
   "metadata": {},
   "outputs": [
    {
     "name": "stdout",
     "output_type": "stream",
     "text": [
      "Element 2 is: [XFtW\n"
     ]
    },
    {
     "data": {
      "image/png": "[encoded data removed]",
      "text/plain": [
       "<PIL.Image.Image image mode=RGBA size=164x204>"
      ]
     },
     "metadata": {},
     "output_type": "display_data"
    }
   ],
   "source": [
    "root = tk.Tk()\n",
    "\n",
    "list_box = tk.Listbox()\n",
    "generate_line = lambda: \"\".join([chr(randint(ord(\"A\"), ord(\"z\"))) for i in range(5)])\n",
    "list_box.pack()\n",
    "\n",
    "for i in range(5):\n",
    "    list_box.insert(tk.END, generate_line())\n",
    "\n",
    "print(\"Element 2 is:\", list_box.get(2))\n",
    "\n",
    "root.after(200, take_screenshot, root)\n",
    "root.mainloop()"
   ]
  },
  {
   "cell_type": "markdown",
   "id": "00b98438",
   "metadata": {},
   "source": [
    "## Delete\n",
    "\n",
    "With `Listbox.delete(<index of the item>)` you can delete any item from the list."
   ]
  },
  {
   "cell_type": "markdown",
   "id": "3efa16e5",
   "metadata": {},
   "source": [
    "---\n",
    "\n",
    "The following cell creates some elements and deletes an intermediate one - as a result, one element is missing."
   ]
  },
  {
   "cell_type": "code",
   "execution_count": 3,
   "id": "3c321b8a",
   "metadata": {},
   "outputs": [
    {
     "data": {
      "image/png": "[encoded data removed]",
      "text/plain": [
       "<PIL.Image.Image image mode=RGBA size=164x204>"
      ]
     },
     "metadata": {},
     "output_type": "display_data"
    }
   ],
   "source": [
    "root = tk.Tk()\n",
    "\n",
    "list_box = tk.Listbox()\n",
    "\n",
    "list_box.pack()\n",
    "for i in range(5):\n",
    "    list_box.insert(tk.END, f'item {i}')\n",
    "list_box.delete(2)\n",
    "\n",
    "root.after(200, take_screenshot, root)\n",
    "\n",
    "root.mainloop()"
   ]
  },
  {
   "cell_type": "markdown",
   "id": "bbe2305f",
   "metadata": {},
   "source": [
    "## Selection\n",
    "\n",
    "There are the following tools that you can use to handle the selection in `tk.Listbox`:\n",
    "\n",
    "- `selection_set`: allows to specify indices that have to be selected.\n",
    "- `curselection`: allows to get indices of the currently selected items.\n",
    "- `selectmode`: is a field that allows to specify the behavior of the list box when something is selected."
   ]
  },
  {
   "cell_type": "markdown",
   "id": "a4ec2d3d",
   "metadata": {},
   "source": [
    "---\n",
    "\n",
    "The following cell creates the listbox and selects some items in it."
   ]
  },
  {
   "cell_type": "code",
   "execution_count": 13,
   "id": "eb4d7370",
   "metadata": {},
   "outputs": [
    {
     "data": {
      "image/png": "[encoded data removed]",
      "text/plain": [
       "<PIL.Image.Image image mode=RGBA size=164x204>"
      ]
     },
     "metadata": {},
     "output_type": "display_data"
    }
   ],
   "source": [
    "root = tk.Tk()\n",
    "list_box = tk.Listbox()\n",
    "\n",
    "list_box.pack()\n",
    "for i in range(5):\n",
    "    list_box.insert(tk.END, f'item {i}')\n",
    "\n",
    "list_box.selection_set(2)\n",
    "list_box.selection_set(4)\n",
    "\n",
    "root.after(200, take_screenshot, root)\n",
    "root.mainloop()"
   ]
  },
  {
   "cell_type": "markdown",
   "id": "ed65440d",
   "metadata": {},
   "source": [
    "As the result corresponding items seems to be selected."
   ]
  },
  {
   "cell_type": "markdown",
   "id": "525f893b",
   "metadata": {},
   "source": [
    "The follwing cell shows the output of the `curselection` method."
   ]
  },
  {
   "cell_type": "code",
   "execution_count": 11,
   "id": "a774636c",
   "metadata": {},
   "outputs": [
    {
     "data": {
      "text/plain": [
       "(2, 4)"
      ]
     },
     "execution_count": 11,
     "metadata": {},
     "output_type": "execute_result"
    }
   ],
   "source": [
    "list_box = tk.Listbox()\n",
    "\n",
    "for i in range(5):\n",
    "    list_box.insert(tk.END, f'item {i}')\n",
    "\n",
    "list_box.selection_set(2)\n",
    "list_box.selection_set(4)\n",
    "\n",
    "list_box.curselection()"
   ]
  }
 ],
 "metadata": {
  "kernelspec": {
   "display_name": "python",
   "language": "python",
   "name": "python3"
  },
  "language_info": {
   "codemirror_mode": {
    "name": "ipython",
    "version": 3
   },
   "file_extension": ".py",
   "mimetype": "text/x-python",
   "name": "python",
   "nbconvert_exporter": "python",
   "pygments_lexer": "ipython3",
   "version": "3.12.9"
  }
 },
 "nbformat": 4,
 "nbformat_minor": 5
}
