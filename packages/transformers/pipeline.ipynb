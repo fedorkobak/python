{
 "cells": [
  {
   "cell_type": "markdown",
   "metadata": {},
   "source": [
    "#  Pipeline\n",
    "\n",
    "`transformers.Pipeline` provides the most straightforward way to use models available in Hugging Face, combining all procedures into a single class. Learn more on the [dedicated documentation page](https://huggingface.co/docs/transformers/main_classes/pipelines).\n",
    "\n",
    "This page considers features of using this tool."
   ]
  },
  {
   "cell_type": "code",
   "execution_count": 32,
   "metadata": {},
   "outputs": [],
   "source": [
    "import transformers\n",
    "from math import exp"
   ]
  },
  {
   "cell_type": "markdown",
   "metadata": {},
   "source": [
    "## Pipeline task\n",
    "\n",
    "The behavior of the pipeline strongly depends on its `task`. Each task returns a different object. For a full list of tasks and links to the corresponding objects, check [this link](https://huggingface.co/docs/transformers/v4.47.1/en/main_classes/pipelines#transformers.pipeline.task).\n",
    "\n",
    "You can specify different options for different tasks, both when you're creating the pipeline and when you're working on it."
   ]
  },
  {
   "cell_type": "markdown",
   "metadata": {},
   "source": [
    "---\n",
    "\n",
    "The following cell shows an example of using `task=\"text-classification\"`. For this, you can specify `function_to_apply`, which is exclusive to `text-classification`. In the example, `'none'` is specified, indicating that the result shouldn't be transformed."
   ]
  },
  {
   "cell_type": "code",
   "execution_count": 38,
   "metadata": {},
   "outputs": [
    {
     "name": "stderr",
     "output_type": "stream",
     "text": [
      "Device set to use cpu\n"
     ]
    },
    {
     "data": {
      "text/plain": [
       "{'label': 'POSITIVE', 'score': 4.055374622344971}"
      ]
     },
     "execution_count": 38,
     "metadata": {},
     "output_type": "execute_result"
    }
   ],
   "source": [
    "ans = transformers.pipeline(\n",
    "    task=\"text-classification\",\n",
    "    function_to_apply=\"none\",\n",
    "    model=\"distilbert/distilbert-base-uncased-finetuned-sst-2-english\"\n",
    ")(\"wow\")[0]\n",
    "ans"
   ]
  },
  {
   "cell_type": "markdown",
   "metadata": {},
   "source": [
    "The following cell applies a sigmoid function to the result of the previous cell:"
   ]
  },
  {
   "cell_type": "code",
   "execution_count": 39,
   "metadata": {},
   "outputs": [
    {
     "data": {
      "text/plain": [
       "0.9829661915068255"
      ]
     },
     "execution_count": 39,
     "metadata": {},
     "output_type": "execute_result"
    }
   ],
   "source": [
    "1 / (1 + exp(-ans[\"score\"]))"
   ]
  },
  {
   "cell_type": "markdown",
   "metadata": {},
   "source": [
    "The same result using pipeline with `function_to_apply=\"sigmoid\"` on the same phrase:"
   ]
  },
  {
   "cell_type": "code",
   "execution_count": 40,
   "metadata": {},
   "outputs": [
    {
     "name": "stderr",
     "output_type": "stream",
     "text": [
      "Device set to use cpu\n"
     ]
    },
    {
     "data": {
      "text/plain": [
       "{'label': 'POSITIVE', 'score': 0.9829661846160889}"
      ]
     },
     "execution_count": 40,
     "metadata": {},
     "output_type": "execute_result"
    }
   ],
   "source": [
    "ans = transformers.pipeline(\n",
    "    task=\"text-classification\",\n",
    "    function_to_apply=\"sigmoid\",\n",
    "    model=\"distilbert/distilbert-base-uncased-finetuned-sst-2-english\"\n",
    ")(\"wow\")[0]\n",
    "ans"
   ]
  },
  {
   "cell_type": "markdown",
   "metadata": {},
   "source": [
    "Consider another example: using the `question-answering` pipeline. For it, the argument `function_to_apply` doesn't make sense at all. Moreover, you need to pass data to it in a different manner.\n"
   ]
  },
  {
   "cell_type": "markdown",
   "metadata": {},
   "source": [
    "---\n",
    "\n",
    "The following cell defines the pipeline and shows errors if you don't pass data to it in the right way."
   ]
  },
  {
   "cell_type": "code",
   "execution_count": 9,
   "metadata": {},
   "outputs": [
    {
     "name": "stderr",
     "output_type": "stream",
     "text": [
      "Device set to use cpu\n"
     ]
    },
    {
     "name": "stdout",
     "output_type": "stream",
     "text": [
      "w argument needs to be of type (SquadExample, dict)\n"
     ]
    },
    {
     "name": "stderr",
     "output_type": "stream",
     "text": [
      "/home/fedor/Documents/knowledge/venv/lib/python3.12/site-packages/transformers/pipelines/question_answering.py:391: FutureWarning: Passing a list of SQuAD examples to the pipeline is deprecated and will be removed in v5. Inputs should be passed using the `question` and `context` keyword arguments instead.\n",
      "  warnings.warn(\n"
     ]
    }
   ],
   "source": [
    "qa_pipeline = transformers.pipeline(\n",
    "    task=\"question-answering\",\n",
    "    model=\"distilbert-base-cased-distilled-squad\", \n",
    ")\n",
    "\n",
    "try:\n",
    "    qa_pipeline(\"wow\")\n",
    "except Exception as e:\n",
    "    print(e)"
   ]
  },
  {
   "cell_type": "markdown",
   "metadata": {},
   "source": [
    "This type of pipeline needs `question` and `context` arguments to work correctly, the following cell shows the case of using it."
   ]
  },
  {
   "cell_type": "code",
   "execution_count": 15,
   "metadata": {},
   "outputs": [
    {
     "data": {
      "text/plain": [
       "{'score': 0.6897236108779907, 'start': 50, 'end': 52, 'answer': '2m'}"
      ]
     },
     "execution_count": 15,
     "metadata": {},
     "output_type": "execute_result"
    }
   ],
   "source": [
    "qa_pipeline(\n",
    "    question=\"How tall is John\",\n",
    "    context=(\n",
    "        \"John was a really tall men. \" \n",
    "        \"His height was around 2m. \"\n",
    "        \"But it was nothing special for him.\"\n",
    "    )\n",
    ")"
   ]
  }
 ],
 "metadata": {
  "kernelspec": {
   "display_name": "venv",
   "language": "python",
   "name": "python3"
  },
  "language_info": {
   "codemirror_mode": {
    "name": "ipython",
    "version": 3
   },
   "file_extension": ".py",
   "mimetype": "text/x-python",
   "name": "python",
   "nbconvert_exporter": "python",
   "pygments_lexer": "ipython3",
   "version": "3.12.3"
  }
 },
 "nbformat": 4,
 "nbformat_minor": 2
}
