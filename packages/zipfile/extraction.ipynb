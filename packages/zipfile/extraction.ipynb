{
 "cells": [
  {
   "cell_type": "markdown",
   "metadata": {},
   "source": [
    "# Extraction\n",
    "\n",
    "Extraction using the `zipfile` package has its specific features, and this page focuses on describing them."
   ]
  },
  {
   "cell_type": "code",
   "execution_count": 21,
   "metadata": {},
   "outputs": [],
   "source": [
    "import seedir as sd\n",
    "from pathlib import Path\n",
    "from zipfile import ZipFile\n",
    "import shutil"
   ]
  },
  {
   "cell_type": "markdown",
   "metadata": {},
   "source": [
    "We need an archive to use as an example. The following cell creates such an archive in the folder `extraction_files` and shows its file structure. "
   ]
  },
  {
   "cell_type": "code",
   "execution_count": 23,
   "metadata": {},
   "outputs": [
    {
     "name": "stdout",
     "output_type": "stream",
     "text": [
      "toy_folder/\n",
      "├─inner_folder/\n",
      "│ └─file\n",
      "└─archived_file\n"
     ]
    }
   ],
   "source": [
    "files_path = Path(\"extraction_files\")\n",
    "files_path.mkdir(exist_ok=True)\n",
    "\n",
    "toy_folder = files_path/\"toy_folder\"\n",
    "toy_folder.mkdir(exist_ok=True)\n",
    "\n",
    "archieve_file_path = (toy_folder/\"archived_file\")\n",
    "archieve_file_path.write_text(\"this is some message\")\n",
    "\n",
    "inner_folder = toy_folder/\"inner_folder\"\n",
    "inner_file = inner_folder/\"file\"\n",
    "inner_folder.mkdir()\n",
    "inner_file.write_text(\"inner file content\")\n",
    "\n",
    "archive_path = files_path/\"archive.zip\"\n",
    "with ZipFile(file=archive_path, mode='w') as a:\n",
    "    a.write(archieve_file_path)\n",
    "    a.write(inner_file)\n",
    "\n",
    "sd.seedir(toy_folder)\n",
    "shutil.rmtree(toy_folder)"
   ]
  },
  {
   "cell_type": "markdown",
   "metadata": {},
   "source": [
    "## Particular file\n",
    "\n",
    "If you need to extract a particular file, not the whole file tree from an archive, you can use:\n",
    "\n",
    "- The `extract` method: It's straightforward but copies the whole path in the archive to the filesystem.\n",
    "- The `open` method for a particular file, combined with binary copying to another stream: This allows more control over the extraction process."
   ]
  },
  {
   "cell_type": "markdown",
   "metadata": {},
   "source": [
    "---\n",
    "\n",
    "The following cell shows using of the `extract` method, and prints the file system of the destimation folder. "
   ]
  },
  {
   "cell_type": "code",
   "execution_count": 24,
   "metadata": {},
   "outputs": [
    {
     "name": "stdout",
     "output_type": "stream",
     "text": [
      "temp_dir/\n",
      "├─inner_file/\n",
      "│ └─extraction_files/\n",
      "│   └─toy_folder/\n",
      "│     └─inner_folder/\n",
      "│       └─file\n",
      "└─outer_file/\n",
      "  └─extraction_files/\n",
      "    └─toy_folder/\n",
      "      └─archived_file\n"
     ]
    }
   ],
   "source": [
    "temp_dir = Path(\"temp_dir\")\n",
    "outer_file_path = temp_dir/\"outer_file\"\n",
    "inner_file_path = temp_dir/\"inner_file\"\n",
    "\n",
    "with ZipFile(file=archive_path, mode='r') as f:\n",
    "    f.extract(member=str(archieve_file_path), path=outer_file_path)\n",
    "    f.extract(member=str(inner_file), path=inner_file_path)\n",
    "\n",
    "sd.seedir(temp_dir)\n",
    "shutil.rmtree(temp_dir)"
   ]
  },
  {
   "cell_type": "markdown",
   "metadata": {},
   "source": [
    "Files were loaded, but their paths are fully copied inside the archive to the destination folder."
   ]
  },
  {
   "cell_type": "markdown",
   "metadata": {},
   "source": [
    "The following cell shows the second option - file of archive was opened separately and rewrited to the specified file in filesystem."
   ]
  },
  {
   "cell_type": "code",
   "execution_count": 29,
   "metadata": {},
   "outputs": [
    {
     "name": "stdout",
     "output_type": "stream",
     "text": [
      "extraction_files/\n",
      "├─archive.zip\n",
      "└─particular_file\n",
      "Content: inner file content\n"
     ]
    }
   ],
   "source": [
    "dest_file = files_path/\"particular_file\"\n",
    "\n",
    "with ZipFile(file=archive_path, mode='r') as zip_archive:\n",
    "    with (\n",
    "        zip_archive.open(str(inner_file), mode='r') as source, \n",
    "        open(str(dest_file), mode=\"wb\") as destination\n",
    "    ):\n",
    "        destination.write(source.read())\n",
    "\n",
    "sd.seedir(files_path)\n",
    "print(\"Content:\", dest_file.read_text())\n",
    "dest_file.unlink()"
   ]
  },
  {
   "cell_type": "markdown",
   "metadata": {},
   "source": [
    "The file was extracted to the same folder as the archive. In the file tree, there are only the extracted files without any extra folders. Finally, the contents of the extracted file are printed, and they correspond to the originally saved content."
   ]
  }
 ],
 "metadata": {
  "kernelspec": {
   "display_name": "Python 3",
   "language": "python",
   "name": "python3"
  },
  "language_info": {
   "codemirror_mode": {
    "name": "ipython",
    "version": 3
   },
   "file_extension": ".py",
   "mimetype": "text/x-python",
   "name": "python",
   "nbconvert_exporter": "python",
   "pygments_lexer": "ipython3",
   "version": "3.10.12"
  }
 },
 "nbformat": 4,
 "nbformat_minor": 2
}
