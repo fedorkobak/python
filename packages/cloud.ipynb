{
 "cells": [
  {
   "cell_type": "markdown",
   "id": "ee870abd",
   "metadata": {},
   "source": [
    "# Cloud\n",
    "\n",
    "There is a set of packages that alllows interaction with cloud solutions using Python. This section considers them."
   ]
  },
  {
   "cell_type": "markdown",
   "id": "80d13797",
   "metadata": {},
   "source": [
    "## AWS\n",
    "\n",
    "The `boto3` package implements an AWS SDK for Python. Obviously, you need an AWS subscription ot use it, but you can try some of its functionalities using the `moto` mocking framework.\n",
    "\n",
    "For more details check the [AWS SDK](cloud/aws_sdk.ipynb)"
   ]
  },
  {
   "cell_type": "markdown",
   "id": "342ebfbf",
   "metadata": {},
   "source": [
    "---\n",
    "\n",
    "The following cell shows the request sent to the AWS s3 service to list the buckets. The behaviour of `boto3` is mocked with `moto`."
   ]
  },
  {
   "cell_type": "code",
   "execution_count": 4,
   "id": "40ee0776",
   "metadata": {},
   "outputs": [
    {
     "name": "stdout",
     "output_type": "stream",
     "text": [
      "{'Buckets': [],\n",
      " 'Owner': {'DisplayName': 'webfile', 'ID': 'bcaf1ffd86f41161ca5fb16fd081034f'},\n",
      " 'ResponseMetadata': {'HTTPHeaders': {'content-type': 'application/xml',\n",
      "                                      'x-amzn-requestid': 'cfpTl6w6Ppk4aeXACjlVu84OCADmC68LdAP4wXHowLYEBiKkljR9'},\n",
      "                      'HTTPStatusCode': 200,\n",
      "                      'RequestId': 'cfpTl6w6Ppk4aeXACjlVu84OCADmC68LdAP4wXHowLYEBiKkljR9',\n",
      "                      'RetryAttempts': 0}}\n"
     ]
    }
   ],
   "source": [
    "import moto\n",
    "import boto3\n",
    "from pprint import pprint\n",
    "\n",
    "mock = moto.mock_aws()\n",
    "mock.start()\n",
    "\n",
    "s3 = boto3.client(\"s3\", region_name=\"us-west-2\")\n",
    "pprint(s3.list_buckets())\n",
    "\n",
    "mock.stop()"
   ]
  }
 ],
 "metadata": {
  "kernelspec": {
   "display_name": "python",
   "language": "python",
   "name": "python3"
  },
  "language_info": {
   "codemirror_mode": {
    "name": "ipython",
    "version": 3
   },
   "file_extension": ".py",
   "mimetype": "text/x-python",
   "name": "python",
   "nbconvert_exporter": "python",
   "pygments_lexer": "ipython3",
   "version": "3.13.7"
  }
 },
 "nbformat": 4,
 "nbformat_minor": 5
}
