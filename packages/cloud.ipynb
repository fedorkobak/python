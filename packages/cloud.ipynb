{
 "cells": [
  {
   "cell_type": "markdown",
   "id": "ee870abd",
   "metadata": {},
   "source": [
    "# Cloud\n",
    "\n",
    "There is a set of packages that alllows interaction with cloud solutions using Python. This section considers them."
   ]
  },
  {
   "cell_type": "markdown",
   "id": "1d7b362e",
   "metadata": {},
   "source": [
    "## Databricks SDK\n",
    "\n",
    "Databricks is a platform for developing data applications. It provides the python SKD.\n",
    "\n",
    "As it provides intercation with cloud based platform you have to set up an authentification in the `.databricks` file. Check more on configuration the authentification in:\n",
    "\n",
    "- [Create a Databricks configuration profile file](https://docs.databricks.com/aws/en/dev-tools/auth/config-profiles).\n",
    "- [Databricks personal access token authentification](https://docs.databricks.com/aws/en/dev-tools/auth/pat).\n",
    "\n",
    "\n",
    "Few important packages:\n",
    "\n",
    "- The [databricks-connect](https://pypi.org/project/databricks-connect/) allows to connect to the facilities of the databricks cluster.\n",
    "- The [databricks-feature-engineering](https://pypi.org/project/databricks-feature-engineering/) API for manaing the databricks featurestore. After installing the module `databricks.feature_engineering` will be awailable from the environment.\n",
    "- The [Databrick Utilities](https://docs.databricks.com/aws/en/dev-tools/databricks-utils) is a module available inside Databricks as `dbutils` that allows you to manipulate with the Databricks environment from python codeq.\n",
    "\n",
    "For more details check: \n",
    "\n",
    "- [Databricks SDK for python](https://databricks-sdk-py.readthedocs.io/en/latest/) documentation.\n",
    "- [Databricks SDK](cloud/databricks_sdk.ipynb) page in this website."
   ]
  },
  {
   "cell_type": "markdown",
   "id": "a4fee167",
   "metadata": {},
   "source": [
    "---\n",
    "\n",
    "The simpliest way to set up the configuration is through an authentication token.\n",
    "\n",
    "Create file `~/databrickscfg`, that should look like this:\n",
    "\n",
    "```\n",
    "[DEFAULT]\n",
    "host = https:////dbc-<some unique for workspace>.cloud.databricks.com\n",
    "token = <here is your token>\n",
    "```\n",
    "\n",
    "- The profile name `DEFAULT` is important. You can specify a different name, but this will be used by default.\n",
    "- The `host` you can copy from the browser url line (just host, without path).\n",
    "- The `token` you can get through databricks UI: settings->developer->Access tokens->Manage."
   ]
  },
  {
   "cell_type": "markdown",
   "id": "0e3ed001",
   "metadata": {},
   "source": [
    "If the configuration is set up correctly, you should be able to run the following cell without any errors."
   ]
  },
  {
   "cell_type": "code",
   "execution_count": null,
   "id": "e5d9426d",
   "metadata": {},
   "outputs": [
    {
     "data": {
      "text/plain": [
       "databricks.sdk.WorkspaceClient"
      ]
     },
     "metadata": {},
     "output_type": "display_data"
    }
   ],
   "source": [
    "from databricks.sdk import WorkspaceClient\n",
    "\n",
    "w = WorkspaceClient()\n",
    "type(w)"
   ]
  },
  {
   "cell_type": "markdown",
   "id": "80d13797",
   "metadata": {},
   "source": [
    "## AWS\n",
    "\n",
    "The `boto3` package implements an AWS SDK for Python. Obviously, you need an AWS subscription ot use it, but you can try some of its functionalities using the `moto` mocking framework.\n",
    "\n",
    "For more details check the [AWS SDK](cloud/aws_sdk.ipynb)"
   ]
  },
  {
   "cell_type": "markdown",
   "id": "342ebfbf",
   "metadata": {},
   "source": [
    "---\n",
    "\n",
    "The following cell shows the request sent to the AWS s3 service to list the buckets. The behaviour of `boto3` is mocked with `moto`."
   ]
  },
  {
   "cell_type": "code",
   "execution_count": 4,
   "id": "40ee0776",
   "metadata": {},
   "outputs": [
    {
     "name": "stdout",
     "output_type": "stream",
     "text": [
      "{'Buckets': [],\n",
      " 'Owner': {'DisplayName': 'webfile', 'ID': 'bcaf1ffd86f41161ca5fb16fd081034f'},\n",
      " 'ResponseMetadata': {'HTTPHeaders': {'content-type': 'application/xml',\n",
      "                                      'x-amzn-requestid': 'cfpTl6w6Ppk4aeXACjlVu84OCADmC68LdAP4wXHowLYEBiKkljR9'},\n",
      "                      'HTTPStatusCode': 200,\n",
      "                      'RequestId': 'cfpTl6w6Ppk4aeXACjlVu84OCADmC68LdAP4wXHowLYEBiKkljR9',\n",
      "                      'RetryAttempts': 0}}\n"
     ]
    }
   ],
   "source": [
    "import moto\n",
    "import boto3\n",
    "from pprint import pprint\n",
    "\n",
    "mock = moto.mock_aws()\n",
    "mock.start()\n",
    "\n",
    "s3 = boto3.client(\"s3\", region_name=\"us-west-2\")\n",
    "pprint(s3.list_buckets())\n",
    "\n",
    "mock.stop()"
   ]
  }
 ],
 "metadata": {
  "kernelspec": {
   "display_name": "python",
   "language": "python",
   "name": "python3"
  },
  "language_info": {
   "codemirror_mode": {
    "name": "ipython",
    "version": 3
   },
   "file_extension": ".py",
   "mimetype": "text/x-python",
   "name": "python",
   "nbconvert_exporter": "python",
   "pygments_lexer": "ipython3",
   "version": "3.13.7"
  }
 },
 "nbformat": 4,
 "nbformat_minor": 5
}
