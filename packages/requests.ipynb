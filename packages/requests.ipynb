{
 "cells": [
  {
   "cell_type": "markdown",
   "metadata": {},
   "source": [
    "# Requests\n",
    "\n",
    "`requests` is a Python library that allows you to send http requests. Read more about this library in the [official documentation](https://requests.readthedocs.io/en/latest/#)."
   ]
  },
  {
   "cell_type": "code",
   "execution_count": 29,
   "metadata": {},
   "outputs": [],
   "source": [
    "import docker\n",
    "import requests\n",
    "\n",
    "docker_client = docker.from_env()"
   ]
  },
  {
   "cell_type": "markdown",
   "metadata": {},
   "source": [
    "## Default headers\n",
    "\n",
    "There are some headers that the `requests` library generates itself - even if you've specified empty headers, there will be some headers in the request.\n",
    "\n",
    "---\n",
    "\n",
    "The following example shows that requests with headers specified as empty lead to requests that still have some headers."
   ]
  },
  {
   "cell_type": "markdown",
   "metadata": {},
   "source": [
    "In the following cell we create container of the `httpbin` which allows to check headers of the requests."
   ]
  },
  {
   "cell_type": "code",
   "execution_count": 42,
   "metadata": {},
   "outputs": [],
   "source": [
    "container = docker_client.containers.run(\n",
    "    image=\"kennethreitz/httpbin\",\n",
    "    ports={80: 80},\n",
    "    detach=True,\n",
    "    remove=True\n",
    ")"
   ]
  },
  {
   "cell_type": "markdown",
   "metadata": {},
   "source": [
    "By sending the request to the `httpbin` we created earlier, in the `/headers` path, we can check the headers of the request - they'll be returned as a response."
   ]
  },
  {
   "cell_type": "code",
   "execution_count": 43,
   "metadata": {},
   "outputs": [
    {
     "name": "stdout",
     "output_type": "stream",
     "text": [
      "{\n",
      "  \"headers\": {\n",
      "    \"Accept-Encoding\": \"identity\", \n",
      "    \"Host\": \"localhost\", \n",
      "    \"User-Agent\": \"python-urllib3/1.26.5\"\n",
      "  }\n",
      "}\n",
      "\n"
     ]
    }
   ],
   "source": [
    "\n",
    "prepared_request = requests.Request(\n",
    "    'GET', \n",
    "    'http://localhost:80/headers', \n",
    "    headers={}\n",
    ").prepare()\n",
    "\n",
    "session = requests.Session()\n",
    "response = session.send(prepared_request)\n",
    "\n",
    "print(response.content.decode(\"utf-8\"))"
   ]
  },
  {
   "cell_type": "markdown",
   "metadata": {},
   "source": [
    "Even though we explicitly specified `headers={}`, it still results in some filled headers."
   ]
  },
  {
   "cell_type": "markdown",
   "metadata": {},
   "source": [
    "To keep the environment clean, we need to stop the docker containers."
   ]
  },
  {
   "cell_type": "code",
   "execution_count": 44,
   "metadata": {},
   "outputs": [],
   "source": [
    "container.stop()"
   ]
  }
 ],
 "metadata": {
  "kernelspec": {
   "display_name": "Python 3",
   "language": "python",
   "name": "python3"
  },
  "language_info": {
   "codemirror_mode": {
    "name": "ipython",
    "version": 3
   },
   "file_extension": ".py",
   "mimetype": "text/x-python",
   "name": "python",
   "nbconvert_exporter": "python",
   "pygments_lexer": "ipython3",
   "version": "3.10.12"
  }
 },
 "nbformat": 4,
 "nbformat_minor": 2
}
