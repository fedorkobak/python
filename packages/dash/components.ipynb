{
 "cells": [
  {
   "cell_type": "markdown",
   "id": "f2da5edf-5f99-49ae-85ec-28dc54366329",
   "metadata": {},
   "source": [
    "# Components\n",
    "\n",
    "On this page I'll be exploring the possibilities of using different Plotly components."
   ]
  },
  {
   "cell_type": "markdown",
   "id": "cd2ff1f2-66de-49f6-8902-ab2acd329cc9",
   "metadata": {},
   "source": [
    "# Sources\n",
    "\n",
    "- <a href=\"https://dash.plotly.com/dash-core-components/dropdown\">dash.dcc.Dropdown</a>;\n",
    "- <a href=\"https://dash.plotly.com/dash-html-components/button\">dash.html.Button</a>;"
   ]
  },
  {
   "cell_type": "markdown",
   "id": "eaa7c93d-1877-436e-a8dc-fa8d4fd7e53c",
   "metadata": {},
   "source": [
    "# Button\n",
    "\n",
    "It's common not to use the button's `n_clicks` property as a trigger for the callback.\n",
    "\n",
    "So in the following example, there is a button that translates the `n_clicks` property to text in the `p` element."
   ]
  },
  {
   "cell_type": "code",
   "execution_count": 1,
   "id": "636cc409-1862-4c01-83c4-faac0a62a5f4",
   "metadata": {},
   "outputs": [],
   "source": [
    "from dash import Dash, html, callback, Input, Output\n",
    "from IPython.display import clear_output\n",
    "\n",
    "app = Dash(__name__)\n",
    "app.layout = html.Div([\n",
    "    html.Button(\n",
    "        \"Example button\", \n",
    "        id=\"test-button\", \n",
    "        n_clicks=0 # you can set any nuber for start\n",
    "    ),\n",
    "    html.P(\"\", id=\"result-p\")\n",
    "])\n",
    "@callback(\n",
    "    Output(\"result-p\", \"children\"),\n",
    "    Input(\"test-button\", \"n_clicks\")\n",
    ")\n",
    "def test_callback(n_clicks):\n",
    "    return n_clicks\n",
    "\n",
    "app.run(debug=False, port = 8054)\n",
    "clear_output()"
   ]
  },
  {
   "cell_type": "markdown",
   "id": "3f31f6a8-f5c7-480f-a6f7-3a213929e53f",
   "metadata": {},
   "source": [
    "<img src=\"components_examples/button_example.gif\"></img>"
   ]
  },
  {
   "cell_type": "markdown",
   "id": "203147d7-f597-4396-bcf6-394fd7b01e3b",
   "metadata": {},
   "source": [
    "# Dropdown\n",
    "\n",
    "Find more <a href=\"https://dash.plotly.com/dash-core-components/dropdown\">dash.dcc.Dropdown documentation.</a>"
   ]
  },
  {
   "cell_type": "code",
   "execution_count": 1,
   "id": "f29ae3ef-f9bb-4555-aaa6-ca77526abb26",
   "metadata": {},
   "outputs": [
    {
     "data": {
      "text/html": [
       "\n",
       "        <iframe\n",
       "            width=\"100%\"\n",
       "            height=\"650\"\n",
       "            src=\"http://127.0.0.1:8051/\"\n",
       "            frameborder=\"0\"\n",
       "            allowfullscreen\n",
       "            \n",
       "        ></iframe>\n",
       "        "
      ],
      "text/plain": [
       "<IPython.lib.display.IFrame at 0x7fa9b6cf8fd0>"
      ]
     },
     "metadata": {},
     "output_type": "display_data"
    },
    {
     "name": "stdout",
     "output_type": "stream",
     "text": [
      "Dash app running on http://127.0.0.1:8051/\n"
     ]
    }
   ],
   "source": [
    "from jupyter_dash import JupyterDash\n",
    "from dash import dcc, html\n",
    "from IPython.display import clear_output\n",
    "\n",
    "my_list = [\n",
    "    \"BelarusSales\",\n",
    "    \"SalesNetworkBelarus\",\n",
    "    \"BelSalesNetwork\",\n",
    "    \"SalesNetworkBel\",\n",
    "    \"SalesOfBelarus\",\n",
    "    \"BelSalesNetworks\",\n",
    "    \"BelarusSalesNetwork\",\n",
    "    \"SalesInBelarus\",\n",
    "]\n",
    "\n",
    "app = JupyterDash(__name__)\n",
    "\n",
    "app.layout = html.Div([dcc.Dropdown(\n",
    "    my_list,\n",
    "    multi=True\n",
    ")])\n",
    "\n",
    "app.run_server(debug=False, port = 8051)\n",
    "clear_output()"
   ]
  },
  {
   "cell_type": "markdown",
   "id": "e75b6b41-913d-44fc-ae76-bf67ee4017a6",
   "metadata": {},
   "source": [
    "# Checklist"
   ]
  },
  {
   "cell_type": "code",
   "execution_count": 1,
   "id": "4ef63167-f670-4a45-81f9-4a27f8e661c2",
   "metadata": {},
   "outputs": [
    {
     "data": {
      "text/html": [
       "\n",
       "        <iframe\n",
       "            width=\"100%\"\n",
       "            height=\"650\"\n",
       "            src=\"http://127.0.0.1:8052/\"\n",
       "            frameborder=\"0\"\n",
       "            allowfullscreen\n",
       "            \n",
       "        ></iframe>\n",
       "        "
      ],
      "text/plain": [
       "<IPython.lib.display.IFrame at 0x7f2bc7970fd0>"
      ]
     },
     "metadata": {},
     "output_type": "display_data"
    },
    {
     "name": "stdout",
     "output_type": "stream",
     "text": [
      "Dash app running on http://127.0.0.1:8052/\n"
     ]
    }
   ],
   "source": [
    "from jupyter_dash import JupyterDash\n",
    "from dash import dcc, html\n",
    "from IPython.display import clear_output\n",
    "\n",
    "my_list = [\n",
    "    \"BelarusSales\",\n",
    "    \"SalesNetworkBelarus\",\n",
    "    \"BelSalesNetwork\",\n",
    "    \"SalesNetworkBel\",\n",
    "    \"SalesOfBelarus\",\n",
    "    \"BelSalesNetworks\",\n",
    "    \"BelarusSalesNetwork\",\n",
    "    \"SalesInBelarus\",\n",
    "]\n",
    "\n",
    "app = JupyterDash(__name__)\n",
    "\n",
    "app.layout = html.Div([\n",
    "    dcc.Checklist(\n",
    "        my_list,\n",
    "        style = {\n",
    "            \"font-size\": \"150%\", \n",
    "            \"height\":\"5cm\",\n",
    "            \"border\" : \"solid\",\n",
    "            \"overflow\":\"auto\"\n",
    "        }\n",
    "    )\n",
    "])\n",
    "\n",
    "app.run_server(debug=False, port = 8052)"
   ]
  },
  {
   "cell_type": "markdown",
   "id": "6808cab2-391d-47f6-ba89-f3b822c0dd19",
   "metadata": {},
   "source": [
    "# Details"
   ]
  },
  {
   "cell_type": "markdown",
   "id": "3cfb5524-ddeb-4366-9aa6-85f8595f5198",
   "metadata": {},
   "source": [
    "## Basic example\n",
    "\n",
    "`dash.html.Details` allows you to define a group of elements that hide some other components and show them on click."
   ]
  },
  {
   "cell_type": "code",
   "execution_count": 1,
   "id": "c95a35c6-d7db-4000-b857-34a1e6910464",
   "metadata": {},
   "outputs": [],
   "source": [
    "from jupyter_dash import JupyterDash\n",
    "from dash import dcc, html\n",
    "from IPython.display import clear_output\n",
    "\n",
    "my_list = [\n",
    "    \"BelarusSales\",\n",
    "    \"SalesNetworkBelarus\",\n",
    "    \"BelSalesNetwork\",\n",
    "    \"SalesNetworkBel\",\n",
    "    \"SalesOfBelarus\",\n",
    "    \"BelSalesNetworks\",\n",
    "    \"BelarusSalesNetwork\",\n",
    "    \"SalesInBelarus\",\n",
    "]\n",
    "\n",
    "app = JupyterDash(__name__)\n",
    "\n",
    "app.layout = html.Details(\n",
    "    [html.H3(i) for i in my_list],\n",
    ")\n",
    "\n",
    "app.run_server(debug=False, port = 8053)\n",
    "clear_output()"
   ]
  },
  {
   "cell_type": "markdown",
   "id": "3c19d3c1-06cf-4c3c-a142-f77e81227f6f",
   "metadata": {},
   "source": [
    "<img src=\"components_examples/details_example.gif\"></img>"
   ]
  },
  {
   "cell_type": "markdown",
   "id": "1ad0e690-0231-4497-81f4-41eb5a785928",
   "metadata": {},
   "source": [
    "## Summary (caption)\n",
    "\n",
    "If you want to change the caption of the details (text near the arrow), you should create a `Summary` object as a child of the `Details` tag. The important feature is that you can put other objects (like buttons and so on) in the `Summary`.\n",
    "\n",
    "Read more:\n",
    "\n",
    "- <a href=\"https://developer.mozilla.org/en-US/docs/Web/HTML/Element/details\">MDN web docs about Details tag</a>;\n",
    "- <a href=\"https://dash.plotly.com/dash-html-components/summary\">Dash documentation about `dash.html.Details`</a>;\n",
    "- <a href=\"https://dash.plotly.com/dash-html-components/summary\">Dash documentation about `dash.html.Summary`</a>.\n",
    "\n",
    "So in the following example there is a `Details` with the caption \"My details\" and an additional button in the header."
   ]
  },
  {
   "cell_type": "code",
   "execution_count": null,
   "id": "4885113c-9eea-4b46-9e8d-744be3192ff6",
   "metadata": {},
   "outputs": [],
   "source": [
    "from jupyter_dash import JupyterDash\n",
    "from dash import dcc, html\n",
    "from IPython.display import clear_output\n",
    "\n",
    "my_list = [\n",
    "    \"BelarusSales\",\n",
    "    \"SalesNetworkBelarus\",\n",
    "    \"BelSalesNetwork\",\n",
    "    \"SalesNetworkBel\",\n",
    "    \"SalesOfBelarus\",\n",
    "    \"BelSalesNetworks\",\n",
    "    \"BelarusSalesNetwork\",\n",
    "    \"SalesInBelarus\",\n",
    "]\n",
    "\n",
    "app = JupyterDash(__name__)\n",
    "\n",
    "contents = [html.H3(i) for i in my_list]\n",
    "summary = [\n",
    "    html.Summary([\n",
    "        \"My details\", \n",
    "        html.Button(\"Summary button\")\n",
    "    ])\n",
    "]\n",
    "\n",
    "app.layout = html.Details(contents + summary)\n",
    "\n",
    "app.run_server(debug=False, port = 8054)\n",
    "clear_output()"
   ]
  },
  {
   "cell_type": "markdown",
   "id": "66ec470a-0d5c-407b-9abb-6bb8e89495d5",
   "metadata": {},
   "source": [
    "<img src=\"components_examples/details_summary_use.gif\">"
   ]
  },
  {
   "cell_type": "markdown",
   "id": "62f9587e-877f-450c-8944-38e14e644834",
   "metadata": {},
   "source": [
    "## Overlapping\n",
    "\n",
    "You can put any content in the `Details` section, and when the element is scrolled it should move any content that follows it. So in the example below I use both simple strings and other dash components."
   ]
  },
  {
   "cell_type": "code",
   "execution_count": null,
   "id": "fd4baf20-8954-4228-9bee-6fcf62c17bba",
   "metadata": {},
   "outputs": [],
   "source": [
    "from jupyter_dash import JupyterDash\n",
    "from dash import dcc, html\n",
    "from IPython.display import clear_output\n",
    "\n",
    "app = JupyterDash(__name__)\n",
    "\n",
    "contents1 = [elem for i in range(10) for elem in [f\"line{i}\", html.Br()]]\n",
    "\n",
    "contents2 = [dcc.Checklist(\n",
    "    options = [f\"Checkbox{i}\" for i in range(10)]\n",
    ")]\n",
    "\n",
    "app.layout = html.Div([\n",
    "        html.Details(contents1 + contents2),\n",
    "    \"Some other contents\"\n",
    "])\n",
    "\n",
    "app.run_server(debug=False, port = 8055)\n",
    "clear_output()"
   ]
  },
  {
   "cell_type": "markdown",
   "id": "6597500f-f149-47fd-bb32-b77fca3de9a1",
   "metadata": {},
   "source": [
    "<img src=\"components_examples/Details_overlapping.gif\">"
   ]
  }
 ],
 "metadata": {
  "kernelspec": {
   "display_name": "Python 3 (ipykernel)",
   "language": "python",
   "name": "python3"
  },
  "language_info": {
   "codemirror_mode": {
    "name": "ipython",
    "version": 3
   },
   "file_extension": ".py",
   "mimetype": "text/x-python",
   "name": "python",
   "nbconvert_exporter": "python",
   "pygments_lexer": "ipython3",
   "version": "3.10.6"
  }
 },
 "nbformat": 4,
 "nbformat_minor": 5
}
