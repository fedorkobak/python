{
 "cells": [
  {
   "cell_type": "markdown",
   "id": "f55e3c21",
   "metadata": {},
   "source": [
    "# Psycopg\n",
    "\n",
    "Psycopg is a postgres adapter for python programming language."
   ]
  },
  {
   "cell_type": "code",
   "execution_count": 6,
   "id": "3f506d75",
   "metadata": {},
   "outputs": [],
   "source": [
    "import time\n",
    "import docker\n",
    "import psycopg\n",
    "from src.rerun_docker import reload_docker_container\n",
    "\n",
    "client = docker.from_env()\n",
    "container_name = \"psycopg_examples\"\n",
    "container_port = 5432\n",
    "\n",
    "container = reload_docker_container(\n",
    "    container_name,\n",
    "    image=\"postgres:17.4\",\n",
    "    environment={\n",
    "        \"POSTGRES_PASSWORD\": \"password\",\n",
    "    },\n",
    "    ports={f\"{container_port}/tcp\": 5432},\n",
    "    detach=True,\n",
    "    remove=True\n",
    ")\n",
    "\n",
    "def get_connection():\n",
    "    return psycopg.connect(\n",
    "        dbname=\"postgres\",\n",
    "        user=\"postgres\",\n",
    "        password=\"password\",\n",
    "        host=\"localhost\",\n",
    "        port=container_port\n",
    "    )"
   ]
  },
  {
   "cell_type": "markdown",
   "id": "aed4ce91",
   "metadata": {},
   "source": [
    "## Load data\n",
    "\n",
    "To run anything in postgres you need to:\n",
    "\n",
    "- Create a connection: `psycopg.connect()`.\n",
    "- Create cursor: `connection.cursor()`.\n",
    "- Execute your query: `cursor.execute()`.\n",
    "- Get data from cursor: `cursor.fetchall`, `cursor.fetachone`, `cursor.description` etc."
   ]
  },
  {
   "cell_type": "markdown",
   "id": "8d81bce2",
   "metadata": {},
   "source": [
    "---\n",
    "\n",
    "The following cell connects to the database."
   ]
  },
  {
   "cell_type": "code",
   "execution_count": 2,
   "id": "eb4a951a",
   "metadata": {},
   "outputs": [],
   "source": [
    "connection = psycopg.connect(\n",
    "    dbname=\"postgres\",\n",
    "    user=\"postgres\",\n",
    "    password=\"password\",\n",
    "    host=\"localhost\",\n",
    "    port=container_port\n",
    ")"
   ]
  },
  {
   "cell_type": "markdown",
   "id": "1b3bb053",
   "metadata": {},
   "source": [
    "The next code executes the query in the database and loads the results and the name of the column."
   ]
  },
  {
   "cell_type": "code",
   "execution_count": 3,
   "id": "16fd4253",
   "metadata": {},
   "outputs": [
    {
     "name": "stdout",
     "output_type": "stream",
     "text": [
      "Columns [<Column 'value1', type: int4 (oid: 23)>, <Column 'value2', type: text (oid: 25)>]\n",
      "Data [(50, 'test')]\n"
     ]
    }
   ],
   "source": [
    "with connection.cursor() as cursor:\n",
    "    cursor.execute(\"SELECT 50 AS value1, 'test' AS value2;\")\n",
    "    columns = cursor.description\n",
    "    data = cursor.fetchall()\n",
    "\n",
    "print(\"Columns\", columns)\n",
    "print(\"Data\", data)"
   ]
  },
  {
   "cell_type": "markdown",
   "id": "69764e66",
   "metadata": {},
   "source": [
    "### Columns\n",
    "\n",
    "Information about columns is stored in the `cursor.description` attribute, which is a `list` of objects that describe columns."
   ]
  },
  {
   "cell_type": "markdown",
   "id": "b099a152",
   "metadata": {},
   "source": [
    "---\n",
    "\n",
    "The next cell shows the type of the object that describes column."
   ]
  },
  {
   "cell_type": "code",
   "execution_count": 11,
   "id": "da2d32ce",
   "metadata": {},
   "outputs": [
    {
     "data": {
      "text/plain": [
       "psycopg.Column"
      ]
     },
     "execution_count": 11,
     "metadata": {},
     "output_type": "execute_result"
    }
   ],
   "source": [
    "type(columns[0])"
   ]
  },
  {
   "cell_type": "markdown",
   "id": "e92dcb93",
   "metadata": {},
   "source": [
    "You can get the name of the column from the `name` attribute."
   ]
  },
  {
   "cell_type": "code",
   "execution_count": 12,
   "id": "c5f6185f",
   "metadata": {},
   "outputs": [
    {
     "data": {
      "text/plain": [
       "'value1'"
      ]
     },
     "execution_count": 12,
     "metadata": {},
     "output_type": "execute_result"
    }
   ],
   "source": [
    "columns[0].name"
   ]
  },
  {
   "cell_type": "markdown",
   "id": "69c67b78",
   "metadata": {},
   "source": [
    "## No data\n",
    "\n",
    "Some queries should not to return any data. You can check if the given query returnes any data by checking the `cursor.rowcount` attribute. If it takes `-1` value, it means that query doesn't return anything."
   ]
  },
  {
   "cell_type": "markdown",
   "id": "f5d0e09f",
   "metadata": {},
   "source": [
    "---\n",
    "\n",
    "The following cell shows the `cursor.rowcount` attribute in the case of a `CREATE TABLE` query."
   ]
  },
  {
   "cell_type": "code",
   "execution_count": 8,
   "id": "f8df6388",
   "metadata": {},
   "outputs": [
    {
     "data": {
      "text/plain": [
       "-1"
      ]
     },
     "execution_count": 8,
     "metadata": {},
     "output_type": "execute_result"
    }
   ],
   "source": [
    "with connection.cursor() as cursor:\n",
    "    cursor.execute(\"CREATE TABLE table1 (val1 INT, val2 INT);\")\n",
    "    rowcount = cursor.rowcount\n",
    "    cursor.execute(\"DROP TABLE table1;\")\n",
    "\n",
    "rowcount"
   ]
  },
  {
   "cell_type": "markdown",
   "id": "98d66d32",
   "metadata": {},
   "source": [
    "As a result, `cursor.rowcount` takes the value `-1`. The next cell shows the same case but for the `SELECT` query to show difference."
   ]
  },
  {
   "cell_type": "code",
   "execution_count": 7,
   "id": "0f45b710",
   "metadata": {},
   "outputs": [
    {
     "data": {
      "text/plain": [
       "1"
      ]
     },
     "execution_count": 7,
     "metadata": {},
     "output_type": "execute_result"
    }
   ],
   "source": [
    "with connection.cursor() as cursor:\n",
    "    cursor.execute(\"SELECT 50;\")\n",
    "    rowcount = cursor.rowcount\n",
    "\n",
    "rowcount"
   ]
  },
  {
   "cell_type": "markdown",
   "id": "1540ea92",
   "metadata": {},
   "source": [
    "## Server messages\n",
    "\n",
    "In some cases postgreSQL server sends some textual information corresponding to the command that caused these responses.\n",
    "\n",
    "- You can access the messages describing which commands were executed by using `cursor.statusmessage` attribute.\n",
    "- You can access postgres log messages from special handler that can be added using `connection.add_notice_handler` method.\n",
    "\n",
    "Check details in the [corresponding section of the official documentation](https://www.psycopg.org/psycopg3/docs/advanced/async.html#server-messages)."
   ]
  },
  {
   "cell_type": "markdown",
   "id": "fe75fdd8",
   "metadata": {},
   "source": [
    "---\n",
    "\n",
    "The following cell shows how you can extract various messagee that appear during the execution of the `DROP TABLE IF EXISTS` command."
   ]
  },
  {
   "cell_type": "code",
   "execution_count": null,
   "id": "112afd45",
   "metadata": {},
   "outputs": [
    {
     "name": "stdout",
     "output_type": "stream",
     "text": [
      "The server says: NOTICE - table \"default_values_example\" does not exist, skipping\n",
      "DROP TABLE\n"
     ]
    }
   ],
   "source": [
    "connection = get_connection()\n",
    "\n",
    "global global_notice\n",
    "\n",
    "def log_notice(diag):\n",
    "    print(f\"The server says: {diag.severity} - {diag.message_primary}\")\n",
    "\n",
    "connection.add_notice_handler(log_notice)\n",
    "\n",
    "with connection.cursor() as cursor:\n",
    "    cursor.execute(\"DROP TABLE IF EXISTS default_values_example;\")\n",
    "    print(cursor.statusmessage)\n",
    "\n",
    "connection.close()"
   ]
  }
 ],
 "metadata": {
  "kernelspec": {
   "display_name": "src",
   "language": "python",
   "name": "python3"
  },
  "language_info": {
   "codemirror_mode": {
    "name": "ipython",
    "version": 3
   },
   "file_extension": ".py",
   "mimetype": "text/x-python",
   "name": "python",
   "nbconvert_exporter": "python",
   "pygments_lexer": "ipython3",
   "version": "3.12.9"
  }
 },
 "nbformat": 4,
 "nbformat_minor": 5
}
