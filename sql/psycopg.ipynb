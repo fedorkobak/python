{
 "cells": [
  {
   "cell_type": "markdown",
   "id": "f55e3c21",
   "metadata": {},
   "source": [
    "# Psycopg\n",
    "\n",
    "Psycopg is a postgres adapter for python programming language."
   ]
  },
  {
   "cell_type": "code",
   "execution_count": 10,
   "id": "3f506d75",
   "metadata": {},
   "outputs": [],
   "source": [
    "import time\n",
    "import docker\n",
    "import psycopg\n",
    "from src.rerun_docker import reload_docker_container\n",
    "\n",
    "client = docker.from_env()\n",
    "container_name = \"psycopg_examples\"\n",
    "container_port = 5432\n",
    "\n",
    "container = reload_docker_container(\n",
    "    container_name,\n",
    "    image=\"postgres:17.4\",\n",
    "    environment={\n",
    "        \"POSTGRES_PASSWORD\": \"password\",\n",
    "    },\n",
    "    ports={f\"{container_port}/tcp\": 5432},\n",
    "    detach=True,\n",
    "    remove=True\n",
    ")\n",
    "\n",
    "def get_connection():\n",
    "    return psycopg.connect(\n",
    "        dbname=\"postgres\",\n",
    "        user=\"postgres\",\n",
    "        password=\"password\",\n",
    "        host=\"localhost\",\n",
    "        port=container_port\n",
    "    )"
   ]
  },
  {
   "cell_type": "markdown",
   "id": "aed4ce91",
   "metadata": {},
   "source": [
    "## Load data\n",
    "\n",
    "To run anything in postgres you need to:\n",
    "\n",
    "- Create a connection: `psycopg.connect()`.\n",
    "- Create cursor: `connection.cursor()`.\n",
    "- Execute your query: `cursor.execute()`.\n",
    "- Get data from cursor: `cursor.fetchall`, `cursor.fetachone`, `cursor.description` etc."
   ]
  },
  {
   "cell_type": "markdown",
   "id": "8d81bce2",
   "metadata": {},
   "source": [
    "---\n",
    "\n",
    "The following cell connects to the database."
   ]
  },
  {
   "cell_type": "code",
   "execution_count": 2,
   "id": "eb4a951a",
   "metadata": {},
   "outputs": [],
   "source": [
    "connection = psycopg.connect(\n",
    "    dbname=\"postgres\",\n",
    "    user=\"postgres\",\n",
    "    password=\"password\",\n",
    "    host=\"localhost\",\n",
    "    port=container_port\n",
    ")"
   ]
  },
  {
   "cell_type": "markdown",
   "id": "1b3bb053",
   "metadata": {},
   "source": [
    "The next code executes the query in the database and loads the results and the name of the column."
   ]
  },
  {
   "cell_type": "code",
   "execution_count": 3,
   "id": "16fd4253",
   "metadata": {},
   "outputs": [
    {
     "name": "stdout",
     "output_type": "stream",
     "text": [
      "Columns [<Column 'value1', type: int4 (oid: 23)>, <Column 'value2', type: text (oid: 25)>]\n",
      "Data [(50, 'test')]\n"
     ]
    }
   ],
   "source": [
    "with connection.cursor() as cursor:\n",
    "    cursor.execute(\"SELECT 50 AS value1, 'test' AS value2;\")\n",
    "    columns = cursor.description\n",
    "    data = cursor.fetchall()\n",
    "\n",
    "print(\"Columns\", columns)\n",
    "print(\"Data\", data)"
   ]
  },
  {
   "cell_type": "markdown",
   "id": "69764e66",
   "metadata": {},
   "source": [
    "### Columns\n",
    "\n",
    "Information about columns is stored in the `cursor.description` attribute, which is a `list` of objects that describe columns."
   ]
  },
  {
   "cell_type": "markdown",
   "id": "b099a152",
   "metadata": {},
   "source": [
    "---\n",
    "\n",
    "The next cell shows the type of the object that describes column."
   ]
  },
  {
   "cell_type": "code",
   "execution_count": 11,
   "id": "da2d32ce",
   "metadata": {},
   "outputs": [
    {
     "data": {
      "text/plain": [
       "psycopg.Column"
      ]
     },
     "execution_count": 11,
     "metadata": {},
     "output_type": "execute_result"
    }
   ],
   "source": [
    "type(columns[0])"
   ]
  },
  {
   "cell_type": "markdown",
   "id": "e92dcb93",
   "metadata": {},
   "source": [
    "You can get the name of the column from the `name` attribute."
   ]
  },
  {
   "cell_type": "code",
   "execution_count": 12,
   "id": "c5f6185f",
   "metadata": {},
   "outputs": [
    {
     "data": {
      "text/plain": [
       "'value1'"
      ]
     },
     "execution_count": 12,
     "metadata": {},
     "output_type": "execute_result"
    }
   ],
   "source": [
    "columns[0].name"
   ]
  },
  {
   "cell_type": "markdown",
   "id": "69c67b78",
   "metadata": {},
   "source": [
    "## No data\n",
    "\n",
    "Some queries should not to return any data. You can check if the given query returnes any data by checking the `cursor.rowcount` attribute. If it takes `-1` value, it means that query doesn't return anything."
   ]
  },
  {
   "cell_type": "markdown",
   "id": "f5d0e09f",
   "metadata": {},
   "source": [
    "---\n",
    "\n",
    "The following cell shows the `cursor.rowcount` attribute in the case of a `CREATE TABLE` query."
   ]
  },
  {
   "cell_type": "code",
   "execution_count": 8,
   "id": "f8df6388",
   "metadata": {},
   "outputs": [
    {
     "data": {
      "text/plain": [
       "-1"
      ]
     },
     "execution_count": 8,
     "metadata": {},
     "output_type": "execute_result"
    }
   ],
   "source": [
    "with connection.cursor() as cursor:\n",
    "    cursor.execute(\"CREATE TABLE table1 (val1 INT, val2 INT);\")\n",
    "    rowcount = cursor.rowcount\n",
    "    cursor.execute(\"DROP TABLE table1;\")\n",
    "\n",
    "rowcount"
   ]
  },
  {
   "cell_type": "markdown",
   "id": "98d66d32",
   "metadata": {},
   "source": [
    "As a result, `cursor.rowcount` takes the value `-1`. The next cell shows the same case but for the `SELECT` query to show difference."
   ]
  },
  {
   "cell_type": "code",
   "execution_count": 7,
   "id": "0f45b710",
   "metadata": {},
   "outputs": [
    {
     "data": {
      "text/plain": [
       "1"
      ]
     },
     "execution_count": 7,
     "metadata": {},
     "output_type": "execute_result"
    }
   ],
   "source": [
    "with connection.cursor() as cursor:\n",
    "    cursor.execute(\"SELECT 50;\")\n",
    "    rowcount = cursor.rowcount\n",
    "\n",
    "rowcount"
   ]
  },
  {
   "cell_type": "markdown",
   "id": "724722c3",
   "metadata": {},
   "source": [
    "## Row count\n",
    "\n",
    "Check corresponding section of the [official documentation](https://www.psycopg.org/psycopg3/docs/api/cursors.html#psycopg.Cursor.rowcount).\n",
    "\n",
    "\n",
    "Number of records affected by the operation that produced the current result set. Term \"affected\" isn't really clear, but according to my experience it refer to the:\n",
    "\n",
    "- Number of rows inserted by the `INSERT` operation\n",
    "- Number of rows returned by the `SELECT`.\n",
    "\n",
    "All other operations usually result in  `rowcount` taking value -1."
   ]
  },
  {
   "cell_type": "markdown",
   "id": "429a6944",
   "metadata": {},
   "source": [
    "---\n",
    "\n",
    "The following cell shows `cursor.rowcount` for commands that only work with tables."
   ]
  },
  {
   "cell_type": "code",
   "execution_count": null,
   "id": "32259b5b",
   "metadata": {},
   "outputs": [
    {
     "data": {
      "text/plain": [
       "-1"
      ]
     },
     "execution_count": 23,
     "metadata": {},
     "output_type": "execute_result"
    }
   ],
   "source": [
    "connection = get_connection()\n",
    "cursor = connection.cursor()\n",
    "\n",
    "cursor.execute(\"\"\"\n",
    "    DROP TABLE IF EXISTS my_table;\n",
    "    CREATE TABLE my_table (val INT);\n",
    "\"\"\")\n",
    "cursor.rowcount"
   ]
  },
  {
   "cell_type": "markdown",
   "id": "df1959c9",
   "metadata": {},
   "source": [
    "So `cursor.rowcount` takes the value -1, because it doesn't interact with any row in the database. \n",
    "\n",
    "The following cell considers the opration of inserting some rows into the table."
   ]
  },
  {
   "cell_type": "code",
   "execution_count": 24,
   "id": "fbc1807e",
   "metadata": {},
   "outputs": [
    {
     "data": {
      "text/plain": [
       "4"
      ]
     },
     "execution_count": 24,
     "metadata": {},
     "output_type": "execute_result"
    }
   ],
   "source": [
    "cursor.execute(\"INSERT INTO my_table (val) VALUES (1), (2), (3), (4);\")\n",
    "cursor.rowcount"
   ]
  },
  {
   "cell_type": "markdown",
   "id": "1a329568",
   "metadata": {},
   "source": [
    "As a result, `cursor.rowcount` takes the value as the number of inserted rows.\n",
    "\n",
    "The same result can be obtained by loading from the table - as it has 4 rows loaded."
   ]
  },
  {
   "cell_type": "code",
   "execution_count": 25,
   "id": "52a0adf9",
   "metadata": {},
   "outputs": [
    {
     "data": {
      "text/plain": [
       "4"
      ]
     },
     "execution_count": 25,
     "metadata": {},
     "output_type": "execute_result"
    }
   ],
   "source": [
    "cursor.execute(\"SELECT * FROM my_table;\")\n",
    "cursor.rowcount"
   ]
  },
  {
   "cell_type": "code",
   "execution_count": 26,
   "id": "d54a12ed",
   "metadata": {},
   "outputs": [],
   "source": [
    "cursor.close()\n",
    "connection.close()"
   ]
  },
  {
   "cell_type": "markdown",
   "id": "1540ea92",
   "metadata": {},
   "source": [
    "## Server messages\n",
    "\n",
    "In some cases postgreSQL server sends some textual information corresponding to the command that caused these responses.\n",
    "\n",
    "- You can access the messages describing which commands were executed by using `cursor.statusmessage` attribute.\n",
    "- You can access postgres log messages from special handler that can be added using `connection.add_notice_handler` method.\n",
    "\n",
    "Check details:\n",
    "\n",
    "- [Server messages](https://www.psycopg.org/psycopg3/docs/advanced/async.html#server-messages) section of the official documentation.\n",
    "- Description of the [`statusmessage`](https://www.psycopg.org/psycopg3/docs/api/cursors.html#psycopg.Cursor.statusmessage) attribute."
   ]
  },
  {
   "cell_type": "markdown",
   "id": "fe75fdd8",
   "metadata": {},
   "source": [
    "---\n",
    "\n",
    "The following cell shows how you can extract various messagee that appear during the execution of the `DROP TABLE IF EXISTS` command."
   ]
  },
  {
   "cell_type": "code",
   "execution_count": null,
   "id": "112afd45",
   "metadata": {},
   "outputs": [
    {
     "name": "stdout",
     "output_type": "stream",
     "text": [
      "The server says: NOTICE - table \"default_values_example\" does not exist, skipping\n",
      "DROP TABLE\n"
     ]
    }
   ],
   "source": [
    "connection = get_connection()\n",
    "\n",
    "def log_notice(diag):\n",
    "    print(f\"The server says: {diag.severity} - {diag.message_primary}\")\n",
    "\n",
    "connection.add_notice_handler(log_notice)\n",
    "\n",
    "with connection.cursor() as cursor:\n",
    "    cursor.execute(\"DROP TABLE IF EXISTS default_values_example;\")\n",
    "    print(cursor.statusmessage)\n",
    "\n",
    "connection.close()"
   ]
  },
  {
   "cell_type": "markdown",
   "id": "ed539e77",
   "metadata": {},
   "source": [
    "## Output sets\n",
    "\n",
    "There are cases where one call to the `cursor` can return multiple results:\n",
    "\n",
    "- To `execute`, several SQL commands are passed in one `str`, such as `SELECT 1; SELECT 2;`.\n",
    "- In case the `executemany` method is used to execute multiple SQL statements.\n",
    "\n",
    "By default, `cursor` keeps information about the first command, but you can \"move\" the cursor to the next one by using the `cursor.nextset()` method. "
   ]
  },
  {
   "cell_type": "markdown",
   "id": "70adf623",
   "metadata": {},
   "source": [
    "---\n",
    "\n",
    "The following cell creates `cursor`, which just executed code with two queries in it. Using this example we'll consider how to load data from structures like this."
   ]
  },
  {
   "cell_type": "code",
   "execution_count": 13,
   "id": "865f9bfe",
   "metadata": {},
   "outputs": [
    {
     "data": {
      "text/plain": [
       "<psycopg.Cursor [TUPLES_OK] [INTRANS] (host=localhost database=postgres) at 0x7944a2b62150>"
      ]
     },
     "execution_count": 13,
     "metadata": {},
     "output_type": "execute_result"
    }
   ],
   "source": [
    "connection = get_connection()\n",
    "cursor = connection.cursor()\n",
    "cursor.execute(\"SELECT 1;SELECT 2;\")"
   ]
  },
  {
   "cell_type": "markdown",
   "id": "1b19a9ec",
   "metadata": {},
   "source": [
    "In the initial state, the cursor \"points\" to the result of the first SQL query."
   ]
  },
  {
   "cell_type": "code",
   "execution_count": 14,
   "id": "788d4931",
   "metadata": {},
   "outputs": [
    {
     "data": {
      "text/plain": [
       "[(1,)]"
      ]
     },
     "execution_count": 14,
     "metadata": {},
     "output_type": "execute_result"
    }
   ],
   "source": [
    "cursor.fetchall()"
   ]
  },
  {
   "cell_type": "markdown",
   "id": "6de393ba",
   "metadata": {},
   "source": [
    "So `cursor.fetchall()` returns the result of the first `SELECT`. To access the results of the second select, you need to call `nextstep`."
   ]
  },
  {
   "cell_type": "code",
   "execution_count": 15,
   "id": "9433e9d0",
   "metadata": {},
   "outputs": [
    {
     "data": {
      "text/plain": [
       "True"
      ]
     },
     "execution_count": 15,
     "metadata": {},
     "output_type": "execute_result"
    }
   ],
   "source": [
    "cursor.nextset()"
   ]
  },
  {
   "cell_type": "markdown",
   "id": "b6dd9a9e",
   "metadata": {},
   "source": [
    "The fact that it returned `True` means that there is data for another query."
   ]
  },
  {
   "cell_type": "code",
   "execution_count": 16,
   "id": "e9a978a7",
   "metadata": {},
   "outputs": [
    {
     "data": {
      "text/plain": [
       "[(2,)]"
      ]
     },
     "execution_count": 16,
     "metadata": {},
     "output_type": "execute_result"
    }
   ],
   "source": [
    "cursor.fetchall()"
   ]
  },
  {
   "cell_type": "markdown",
   "id": "f57d7b64",
   "metadata": {},
   "source": [
    "The `cursor.fetchall()` returns data for the second query."
   ]
  },
  {
   "cell_type": "code",
   "execution_count": 17,
   "id": "964c06e0",
   "metadata": {},
   "outputs": [
    {
     "name": "stdout",
     "output_type": "stream",
     "text": [
      "None\n"
     ]
    }
   ],
   "source": [
    "print(cursor.nextset())"
   ]
  },
  {
   "cell_type": "markdown",
   "id": "7149dbbd",
   "metadata": {},
   "source": [
    "The fact that `cursor.nextstep()` returned `None` means that there is no more data."
   ]
  },
  {
   "cell_type": "code",
   "execution_count": 18,
   "id": "2be340c4",
   "metadata": {},
   "outputs": [],
   "source": [
    "cursor.close()\n",
    "connection.close()"
   ]
  },
  {
   "cell_type": "markdown",
   "id": "735f9aa3",
   "metadata": {},
   "source": [
    "### Cursor attributes\n",
    "\n",
    "Other cursor attributes that is determined by the command being executed, change with with the `cursor.nextstep()` call."
   ]
  },
  {
   "cell_type": "markdown",
   "id": "5987aac7",
   "metadata": {},
   "source": [
    "---\n",
    "\n",
    "The following cell executes several SQL commands with different `rowcount` and `statusmessage` values, and prints the corresponding values of the attributes."
   ]
  },
  {
   "cell_type": "code",
   "execution_count": 21,
   "id": "18a97b8a",
   "metadata": {},
   "outputs": [
    {
     "name": "stdout",
     "output_type": "stream",
     "text": [
      "Status message: DROP TABLE\n",
      "Rows count: -1\n",
      "Status message: CREATE TABLE\n",
      "Rows count: -1\n",
      "Status message: SELECT 1\n",
      "Rows count: 1\n"
     ]
    }
   ],
   "source": [
    "connection = get_connection()\n",
    "\n",
    "def print_cursor_attirbutes(cursor):\n",
    "    print(\"Status message:\", cursor.statusmessage)\n",
    "    print(\"Rows count:\", cursor.rowcount)\n",
    "\n",
    "\n",
    "with connection.cursor() as cursor:\n",
    "    cursor.execute(\"\"\"\n",
    "        DROP TABLE IF EXISTS table1;\n",
    "        CREATE TABLE table1 (val1 INT, val2 INT);\n",
    "        SELECT 10;\n",
    "    \"\"\")\n",
    "    print_cursor_attirbutes(cursor=cursor)\n",
    "    while cursor.nextset():\n",
    "        print_cursor_attirbutes(cursor=cursor)"
   ]
  }
 ],
 "metadata": {
  "kernelspec": {
   "display_name": "src",
   "language": "python",
   "name": "python3"
  },
  "language_info": {
   "codemirror_mode": {
    "name": "ipython",
    "version": 3
   },
   "file_extension": ".py",
   "mimetype": "text/x-python",
   "name": "python",
   "nbconvert_exporter": "python",
   "pygments_lexer": "ipython3",
   "version": "3.12.9"
  }
 },
 "nbformat": 4,
 "nbformat_minor": 5
}
