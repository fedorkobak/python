{
 "cells": [
  {
   "cell_type": "markdown",
   "id": "f55e3c21",
   "metadata": {},
   "source": [
    "# Psycopg\n",
    "\n",
    "Psycopg is a postgres adapter for python programming language."
   ]
  },
  {
   "cell_type": "code",
   "execution_count": 59,
   "id": "3f506d75",
   "metadata": {},
   "outputs": [],
   "source": [
    "import time\n",
    "import docker\n",
    "import psycopg2\n",
    "\n",
    "client = docker.from_env()\n",
    "container_name = \"psycopg_examples\"\n",
    "container_port = 5432"
   ]
  },
  {
   "cell_type": "markdown",
   "id": "e1231d9a",
   "metadata": {},
   "source": [
    "The following cell runs postgres in a docker container or reruns it if necessary."
   ]
  },
  {
   "cell_type": "code",
   "execution_count": 60,
   "id": "dfaf807f",
   "metadata": {},
   "outputs": [],
   "source": [
    "def check_container(name: str) -> bool:\n",
    "    containters = [\n",
    "        container.name \n",
    "        for container in client.containers.list()\n",
    "    ]\n",
    "    return name in containters\n",
    "\n",
    "\n",
    "try:\n",
    "    container = client.containers.get(container_name)\n",
    "    container.stop()\n",
    "    while check_container(container_name):\n",
    "        time.sleep(1)\n",
    "\n",
    "except docker.errors.NotFound:\n",
    "    pass\n",
    "finally:\n",
    "    container = client.containers.run(\n",
    "        \"postgres:17.4\",\n",
    "        name=container_name,\n",
    "        environment={\n",
    "            \"POSTGRES_PASSWORD\": \"password\",\n",
    "        },\n",
    "        ports={f\"{container_port}/tcp\": 5432},\n",
    "        detach=True,\n",
    "        remove=True\n",
    "    )"
   ]
  },
  {
   "cell_type": "markdown",
   "id": "aed4ce91",
   "metadata": {},
   "source": [
    "## Execute\n",
    "\n",
    "To run anything in postgres you need to:\n",
    "\n",
    "- Create a connection: `psycopg2.connect()`.\n",
    "- Create cursor: `connection.cursor()`.\n",
    "- Execute your query: `cursor.execute()`.\n",
    "- Get data from cursor: `cursor.fetchall`, `cursor.fetachone`, `cursor.description` etc."
   ]
  },
  {
   "cell_type": "markdown",
   "id": "8d81bce2",
   "metadata": {},
   "source": [
    "---\n",
    "\n",
    "The following cell connects to the database."
   ]
  },
  {
   "cell_type": "code",
   "execution_count": 73,
   "id": "eb4a951a",
   "metadata": {},
   "outputs": [],
   "source": [
    "connection = psycopg2.connect(\n",
    "    dbname=\"postgres\",\n",
    "    user=\"postgres\",\n",
    "    password=\"password\",\n",
    "    host=\"localhost\",\n",
    "    port=container_port\n",
    ")"
   ]
  },
  {
   "cell_type": "markdown",
   "id": "1b3bb053",
   "metadata": {},
   "source": [
    "The next code executes the query in the database and loads the results and the name of the column."
   ]
  },
  {
   "cell_type": "code",
   "execution_count": 79,
   "id": "16fd4253",
   "metadata": {},
   "outputs": [
    {
     "name": "stdout",
     "output_type": "stream",
     "text": [
      "Columns (Column(name='value1', type_code=23), Column(name='value2', type_code=25))\n",
      "Data [(50, 'test')]\n"
     ]
    }
   ],
   "source": [
    "with connection.cursor() as cursor:\n",
    "    cursor.execute(\"SELECT 50 AS value1, 'test' AS value2;\")\n",
    "    columns = cursor.description\n",
    "    data = cursor.fetchall()\n",
    "\n",
    "print(\"Columns\", columns)\n",
    "print(\"Data\", data)"
   ]
  }
 ],
 "metadata": {
  "kernelspec": {
   "display_name": "python",
   "language": "python",
   "name": "python3"
  },
  "language_info": {
   "codemirror_mode": {
    "name": "ipython",
    "version": 3
   },
   "file_extension": ".py",
   "mimetype": "text/x-python",
   "name": "python",
   "nbconvert_exporter": "python",
   "pygments_lexer": "ipython3",
   "version": "3.12.9"
  }
 },
 "nbformat": 4,
 "nbformat_minor": 5
}
