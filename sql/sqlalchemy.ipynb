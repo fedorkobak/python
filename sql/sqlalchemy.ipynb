{
 "cells": [
  {
   "cell_type": "markdown",
   "metadata": {},
   "source": [
    "# SQLAlchemy\n",
    "\n",
    "This section overviews popular library that provides a tools to operate with database `SQLAlchemy` python library. Check [main page](https://www.sqlalchemy.org/)."
   ]
  },
  {
   "cell_type": "code",
   "execution_count": 1,
   "metadata": {},
   "outputs": [],
   "source": [
    "import sqlalchemy"
   ]
  },
  {
   "cell_type": "markdown",
   "metadata": {},
   "source": [
    "## Engine\n",
    "\n",
    "An engine is a Python object that implements interaction with the database.\n",
    "\n",
    "For details check:\n",
    "\n",
    "- [Establishing Connectivity - the Engine](https://docs.sqlalchemy.org/en/20/tutorial/engine.html#tutorial-engine) tutorial.\n",
    "- [Engine object](https://docs.sqlalchemy.org/en/20/core/connections.html#sqlalchemy.engine.Engine) reference.\n",
    "- [`create_engine`](https://docs.sqlalchemy.org/en/20/core/engines.html#sqlalchemy.create_engine) function reference."
   ]
  },
  {
   "cell_type": "markdown",
   "metadata": {},
   "source": [
    "---\n",
    "\n",
    "The following cell creates inmemory `sqlite` engine:"
   ]
  },
  {
   "cell_type": "code",
   "execution_count": 2,
   "metadata": {},
   "outputs": [
    {
     "data": {
      "text/plain": [
       "Engine(sqlite+pysqlite:///:memory:)"
      ]
     },
     "execution_count": 2,
     "metadata": {},
     "output_type": "execute_result"
    }
   ],
   "source": [
    "engine = sqlalchemy.create_engine(\"sqlite+pysqlite:///:memory:\")\n",
    "engine"
   ]
  },
  {
   "cell_type": "markdown",
   "metadata": {},
   "source": [
    "Now, to prove that it works as a regular `sqlite` query, retrieve the version of the database."
   ]
  },
  {
   "cell_type": "code",
   "execution_count": 3,
   "metadata": {},
   "outputs": [
    {
     "data": {
      "text/plain": [
       "[('3.37.2',)]"
      ]
     },
     "execution_count": 3,
     "metadata": {},
     "output_type": "execute_result"
    }
   ],
   "source": [
    "with engine.connect() as conn:\n",
    "    ans = conn.execute(sqlalchemy.text(\"SELECT sqlite_version();\"))\n",
    "ans.fetchall()"
   ]
  },
  {
   "cell_type": "markdown",
   "metadata": {},
   "source": [
    "### Log DB commands\n",
    "\n",
    "To check what exact commands where executed by the `SQLAlchemy` you can set `echo=True` argument to the `Engine`. After that every command executed by SQLAlchmy will be displayed in the corresponding logger. "
   ]
  },
  {
   "cell_type": "markdown",
   "metadata": {},
   "source": [
    "---\n",
    "\n",
    "The following cell executes some SQL and extracts its result."
   ]
  },
  {
   "cell_type": "code",
   "execution_count": 4,
   "metadata": {},
   "outputs": [
    {
     "name": "stdout",
     "output_type": "stream",
     "text": [
      "2025-01-13 18:34:07,420 INFO sqlalchemy.engine.Engine BEGIN (implicit)\n",
      "2025-01-13 18:34:07,421 INFO sqlalchemy.engine.Engine SELECT 'hello world'\n",
      "2025-01-13 18:34:07,422 INFO sqlalchemy.engine.Engine [generated in 0.00154s] ()\n",
      "2025-01-13 18:34:07,422 INFO sqlalchemy.engine.Engine ROLLBACK\n"
     ]
    }
   ],
   "source": [
    "engine = sqlalchemy.create_engine(\"sqlite+pysqlite:///:memory:\", echo=True)\n",
    "with engine.connect() as conn:\n",
    "    result = conn.execute(sqlalchemy.text(\"SELECT 'hello world'\"))\n",
    "    result.all()"
   ]
  },
  {
   "cell_type": "markdown",
   "metadata": {},
   "source": [
    "The corresponding records are shown in the standard output."
   ]
  },
  {
   "cell_type": "markdown",
   "metadata": {},
   "source": [
    "## Metadata\n",
    "\n",
    "Metadata contains information that defines the structure of the database: tables, relationships between tables, and table schemas. Check the more in:\n",
    "\n",
    "- [Corresponding page of the official documentation](https://docs.sqlalchemy.org/en/20/tutorial/metadata.html#tutorial-working-with-metadata).\n",
    "- [Special page](sqlalchemy/metadata.ipynb)."
   ]
  },
  {
   "cell_type": "markdown",
   "metadata": {},
   "source": [
    "---\n",
    "\n",
    "Following code creates `MetaData`."
   ]
  },
  {
   "cell_type": "code",
   "execution_count": 5,
   "metadata": {},
   "outputs": [
    {
     "data": {
      "text/plain": [
       "MetaData()"
      ]
     },
     "execution_count": 5,
     "metadata": {},
     "output_type": "execute_result"
    }
   ],
   "source": [
    "metadata = sqlalchemy.MetaData()\n",
    "metadata"
   ]
  },
  {
   "cell_type": "markdown",
   "metadata": {},
   "source": [
    "Since it should be a representation of a database in Python code, you can easily create tables using it. The folowing cell adds `test_table` and displays awaible tables."
   ]
  },
  {
   "cell_type": "code",
   "execution_count": 6,
   "metadata": {},
   "outputs": [
    {
     "data": {
      "text/plain": [
       "FacadeDict({'test_table': Table('test_table', MetaData(), Column('id', Integer(), table=<test_table>), schema=None)})"
      ]
     },
     "execution_count": 6,
     "metadata": {},
     "output_type": "execute_result"
    }
   ],
   "source": [
    "sqlalchemy.Table(\n",
    "    \"test_table\",\n",
    "    metadata,\n",
    "    sqlalchemy.Column(\"id\", sqlalchemy.Integer)\n",
    ")\n",
    "metadata.tables"
   ]
  },
  {
   "cell_type": "markdown",
   "metadata": {},
   "source": [
    "Apply all changes to the specified database by using `metadata.create_all(<engine for the database>)`."
   ]
  },
  {
   "cell_type": "code",
   "execution_count": 7,
   "metadata": {},
   "outputs": [],
   "source": [
    "engine = sqlalchemy.create_engine(\"sqlite+pysqlite:///:memory:\")\n",
    "metadata.create_all(engine)"
   ]
  },
  {
   "cell_type": "markdown",
   "metadata": {},
   "source": [
    "After that, the schema of the database should match the schema created in SQLAlchemy."
   ]
  },
  {
   "cell_type": "code",
   "execution_count": 9,
   "metadata": {},
   "outputs": [
    {
     "name": "stdout",
     "output_type": "stream",
     "text": [
      "('test_table',)\n"
     ]
    }
   ],
   "source": [
    "with engine.connect() as conn:\n",
    "    res = conn.execute(\n",
    "        sqlalchemy.text(\n",
    "            \"SELECT name FROM sqlite_master WHERE type='table'\"\n",
    "        )\n",
    "    )\n",
    "    for row in res:\n",
    "        print(row)"
   ]
  }
 ],
 "metadata": {
  "kernelspec": {
   "display_name": "venv",
   "language": "python",
   "name": "python3"
  },
  "language_info": {
   "codemirror_mode": {
    "name": "ipython",
    "version": 3
   },
   "file_extension": ".py",
   "mimetype": "text/x-python",
   "name": "python",
   "nbconvert_exporter": "python",
   "pygments_lexer": "ipython3",
   "version": "3.12.8"
  }
 },
 "nbformat": 4,
 "nbformat_minor": 2
}
