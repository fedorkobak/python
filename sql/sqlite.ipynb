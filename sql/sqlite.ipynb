{
 "cells": [
  {
   "cell_type": "markdown",
   "id": "5c56400d",
   "metadata": {},
   "source": [
    "# sqlite\n",
    "\n",
    "`sqlite3` package implements a sqlite database in the python. It's usually build in package. Check [its page](https://docs.python.org/3/library/sqlite3.html) in python.org."
   ]
  },
  {
   "cell_type": "code",
   "execution_count": 5,
   "id": "d937e986",
   "metadata": {},
   "outputs": [],
   "source": [
    "import sqlite3"
   ]
  },
  {
   "cell_type": "markdown",
   "id": "9f5626b0",
   "metadata": {},
   "source": [
    "## Usage\n",
    "\n",
    "To use database you need: create connection, get cursor, manipulate with database using cursor methods."
   ]
  },
  {
   "cell_type": "markdown",
   "id": "71b74678",
   "metadata": {},
   "source": [
    "---\n",
    "\n",
    "The following cell creates the connection - it passes `:memory:` to use the database only in memory without any file where data will be stored."
   ]
  },
  {
   "cell_type": "code",
   "execution_count": 22,
   "id": "9e2146a8",
   "metadata": {},
   "outputs": [],
   "source": [
    "con = sqlite3.connect(':memory:')"
   ]
  },
  {
   "cell_type": "markdown",
   "id": "7645177f",
   "metadata": {},
   "source": [
    "Next code shows how to create cursor and load data from it."
   ]
  },
  {
   "cell_type": "code",
   "execution_count": 23,
   "id": "875ae864",
   "metadata": {},
   "outputs": [
    {
     "data": {
      "text/plain": [
       "<sqlite3.Cursor at 0x73c3b067f0c0>"
      ]
     },
     "execution_count": 23,
     "metadata": {},
     "output_type": "execute_result"
    }
   ],
   "source": [
    "cursor = con.cursor()\n",
    "cursor.execute(\"SELECT 1 as val1, 2 as val2;\")"
   ]
  },
  {
   "cell_type": "markdown",
   "id": "2c755ae8",
   "metadata": {},
   "source": [
    "The following cells show how you can extract data and ged description to it."
   ]
  },
  {
   "cell_type": "code",
   "execution_count": 24,
   "id": "8271ab2c",
   "metadata": {},
   "outputs": [
    {
     "data": {
      "text/plain": [
       "[(1, 2)]"
      ]
     },
     "execution_count": 24,
     "metadata": {},
     "output_type": "execute_result"
    }
   ],
   "source": [
    "cursor.fetchall()"
   ]
  },
  {
   "cell_type": "code",
   "execution_count": 25,
   "id": "f43f3b3a",
   "metadata": {},
   "outputs": [
    {
     "data": {
      "text/plain": [
       "(('val1', None, None, None, None, None, None),\n",
       " ('val2', None, None, None, None, None, None))"
      ]
     },
     "execution_count": 25,
     "metadata": {},
     "output_type": "execute_result"
    }
   ],
   "source": [
    "cursor.description"
   ]
  },
  {
   "cell_type": "markdown",
   "id": "023afa5d",
   "metadata": {},
   "source": [
    "## Not query\n",
    "\n",
    "Consider how sqlite deals with commands that aren't supposed to return data. After executing such commands:\n",
    "\n",
    "- `fetchone`: cursor returns `None`.\n",
    "- `fetchall`: cursor returns `[]`.\n",
    "- `description`: attribute of the cursor takes the value `None`."
   ]
  },
  {
   "cell_type": "markdown",
   "id": "cf4eda81",
   "metadata": {},
   "source": [
    "---\n",
    "\n",
    "The following cell executes a command that creates a table and displays values taken from various different attributes and methods of the cursor."
   ]
  },
  {
   "cell_type": "code",
   "execution_count": 9,
   "id": "298a3ddf",
   "metadata": {},
   "outputs": [
    {
     "name": "stdout",
     "output_type": "stream",
     "text": [
      "description None\n",
      "fetchone() None\n",
      "fetchall() []\n"
     ]
    }
   ],
   "source": [
    "con = sqlite3.connect(\":memory:\")\n",
    "cursor = con.cursor()\n",
    "\n",
    "cursor.execute(\"CREATE TABLE my_table (col1 INT);\")\n",
    "\n",
    "print(\"description\", cursor.description)\n",
    "print(\"fetchone()\", cursor.fetchone())\n",
    "print(\"fetchall()\", cursor.fetchall())\n",
    "\n",
    "cursor.close()"
   ]
  },
  {
   "cell_type": "markdown",
   "id": "54a8505e",
   "metadata": {},
   "source": [
    "## Several commands\n",
    "\n",
    "SQLite doesn't support option to execute several SQL commands as the one string. For convenience of experiments in this section, self-created tool `src.execute_several_statements` is used."
   ]
  },
  {
   "cell_type": "markdown",
   "id": "4946b3c1",
   "metadata": {},
   "source": [
    "---\n",
    "\n",
    "The following cell shows a type of error you'll get if you try to execute SQL code that contains multiple queries in one execution. "
   ]
  },
  {
   "cell_type": "code",
   "execution_count": 16,
   "id": "2f114c9c",
   "metadata": {},
   "outputs": [
    {
     "name": "stdout",
     "output_type": "stream",
     "text": [
      "<class 'sqlite3.ProgrammingError'> You can only execute one statement at a time.\n"
     ]
    }
   ],
   "source": [
    "con = sqlite3.connect(\":memory:\")\n",
    "cursor = con.cursor()\n",
    "try:\n",
    "    cursor.execute(\"\"\"\n",
    "    CREATE TABLE tab1 (val INT);\n",
    "    INSERT INTO tab1 (val) VALUES (10), (40);\n",
    "    \"\"\")\n",
    "except Exception as e: print(type(e), e)"
   ]
  },
  {
   "cell_type": "markdown",
   "id": "bb391d07",
   "metadata": {},
   "source": [
    "The follwing code shows a solution that you can use - use `execute_several_statements` to execute code."
   ]
  },
  {
   "cell_type": "code",
   "execution_count": 17,
   "id": "2c2e56a1",
   "metadata": {},
   "outputs": [
    {
     "data": {
      "text/plain": [
       "[(None, []),\n",
       " ((('value', None, None, None, None, None, None),), [(10,)]),\n",
       " (None, [])]"
      ]
     },
     "execution_count": 17,
     "metadata": {},
     "output_type": "execute_result"
    }
   ],
   "source": [
    "from src.sqlite import execute_several_statements\n",
    "queries = \"\"\"\n",
    "    CREATE TABLE tab1 (val INT);\n",
    "    SELECT 10 as value;\n",
    "    INSERT INTO tab1 (val) VALUES (10), (40);\n",
    "\"\"\"\n",
    "execute_several_statements(\n",
    "    cursor=cursor, queries=queries\n",
    ")"
   ]
  },
  {
   "cell_type": "markdown",
   "id": "550e8a5d",
   "metadata": {},
   "source": [
    "The result is a list containing `description` and `fetchall()` of the corresponding query."
   ]
  }
 ],
 "metadata": {
  "kernelspec": {
   "display_name": "src",
   "language": "python",
   "name": "python3"
  },
  "language_info": {
   "codemirror_mode": {
    "name": "ipython",
    "version": 3
   },
   "file_extension": ".py",
   "mimetype": "text/x-python",
   "name": "python",
   "nbconvert_exporter": "python",
   "pygments_lexer": "ipython3",
   "version": "3.12.9"
  }
 },
 "nbformat": 4,
 "nbformat_minor": 5
}
