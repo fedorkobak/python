{
 "cells": [
  {
   "cell_type": "markdown",
   "id": "69531cef",
   "metadata": {},
   "source": [
    "# Clickhouse\n",
    "\n",
    "This section provides an overview of features related to intefacing with the Clickhouse database. The [`clickhouse_connect`](https://pypi.org/project/clickhouse-connect/) is a database driver for python. Check the the description at the [clickhouse site](https://clickhouse.com/docs/integrations/python)."
   ]
  },
  {
   "cell_type": "code",
   "execution_count": 9,
   "id": "8ea44efa",
   "metadata": {},
   "outputs": [],
   "source": [
    "from time import sleep\n",
    "import clickhouse_connect\n",
    "from src.rerun_docker import reload_docker_container\n",
    "\n",
    "container = reload_docker_container(\n",
    "    image=\"clickhouse/clickhouse-server:24\",\n",
    "    name=\"clickhouse_examples\",\n",
    "    detach=True,\n",
    "    remove=True,\n",
    "    ports={\n",
    "        \"8123\": 8123,\n",
    "    },\n",
    ")\n",
    "sleep(5)\n",
    "\n",
    "client = clickhouse_connect.get_client(\n",
    "    host=\"localhost\",\n",
    "    port=8123,\n",
    "    username=\"default\",\n",
    "    password=\"\",\n",
    "    database=\"default\",\n",
    ")"
   ]
  },
  {
   "cell_type": "markdown",
   "id": "fa0402f9",
   "metadata": {},
   "source": [
    "## Execute methods\n",
    "\n",
    "The `clickhouse_connect.client` has several methods to execute code in it: `query`, `command` and `insert`. The difference isn't really clear - because in general they all allow you to do the same things. But according to the documentation, they are optimized for the purposes that correspond to their names."
   ]
  },
  {
   "cell_type": "markdown",
   "id": "5531756a",
   "metadata": {},
   "source": [
    "---\n",
    "\n",
    "The following cell shows the execution of the `SELECT` statement in the `query` method and shows the typical format of the output."
   ]
  },
  {
   "cell_type": "code",
   "execution_count": 10,
   "id": "671a6637",
   "metadata": {},
   "outputs": [
    {
     "name": "stdout",
     "output_type": "stream",
     "text": [
      "Column names: ('v10', 'v20', 'v30', 'v40')\n",
      "Data: [(10, 20, 30, 40)]\n"
     ]
    }
   ],
   "source": [
    "query_result = client.query(\"SELECT 10 v10, 20 v20, 30 v30, 40 v40;\")\n",
    "print(\"Column names:\", query_result.column_names)\n",
    "print(\"Data:\", query_result.result_rows)"
   ]
  },
  {
   "cell_type": "markdown",
   "id": "fb8d759e",
   "metadata": {},
   "source": [
    "The following cell performs a `CREATE TABLE` using the `query` method."
   ]
  },
  {
   "cell_type": "code",
   "execution_count": 11,
   "id": "fbefd2d2",
   "metadata": {},
   "outputs": [
    {
     "name": "stdout",
     "output_type": "stream",
     "text": [
      "Column names: ('read_rows', 'read_bytes', 'written_rows', 'written_bytes', 'total_rows_to_read', 'result_rows', 'result_bytes', 'elapsed_ns', 'query_id')\n",
      "Data: [[0, 0, 0, 0, 0, 0, 0, 8088019, '76cd5f5f-928d-4a06-a8dc-89bf52477d9b']]\n"
     ]
    }
   ],
   "source": [
    "query_result = client.query(\"\"\"\n",
    "    CREATE TABLE\n",
    "    IF NOT EXISTS \n",
    "    test_table (v10 UInt8, v20 UInt8) \n",
    "    ENGINE = MergeTree ORDER BY v10;\n",
    "\"\"\")\n",
    "\n",
    "print(\"Column names:\", query_result.column_names)\n",
    "print(\"Data:\", query_result.result_rows)"
   ]
  },
  {
   "cell_type": "markdown",
   "id": "a58d1b76",
   "metadata": {},
   "source": [
    "Everything works fine - it looks like the output just returns some technical information."
   ]
  },
  {
   "cell_type": "markdown",
   "id": "8ac5da9a",
   "metadata": {},
   "source": [
    "And the next cell shows that the `INSERT` operation can also be performed by `query`."
   ]
  },
  {
   "cell_type": "code",
   "execution_count": 12,
   "id": "f6d0847a",
   "metadata": {},
   "outputs": [
    {
     "name": "stdout",
     "output_type": "stream",
     "text": [
      "Column names: ()\n",
      "Data: []\n"
     ]
    }
   ],
   "source": [
    "query_result = client.query(\"\"\"\n",
    "    INSERT INTO test_table (v10, v20) \n",
    "    VALUES (3, 5), (5, 5)\n",
    "\"\"\")\n",
    "\n",
    "print(\"Column names:\", query_result.column_names)\n",
    "print(\"Data:\", query_result.result_rows)"
   ]
  },
  {
   "cell_type": "markdown",
   "id": "a135faa8",
   "metadata": {},
   "source": [
    "Finally, the next cell shows that the `CREATE TABLE` and `INSERT` operations were sucessful - the data was inserted into the created table."
   ]
  },
  {
   "cell_type": "code",
   "execution_count": 13,
   "id": "3444b756",
   "metadata": {},
   "outputs": [
    {
     "data": {
      "text/plain": [
       "[(3, 5), (5, 5)]"
      ]
     },
     "execution_count": 13,
     "metadata": {},
     "output_type": "execute_result"
    }
   ],
   "source": [
    "client.query(\"SELECT * FROM test_table;\").result_rows"
   ]
  },
  {
   "cell_type": "markdown",
   "id": "e39e4db3",
   "metadata": {},
   "source": [
    "## Multistatement\n",
    "\n",
    "`clickhouse_connect` doesn't allow to run multistatement code."
   ]
  },
  {
   "cell_type": "markdown",
   "id": "a2d1533e",
   "metadata": {},
   "source": [
    "---\n",
    "\n",
    "The following cell shows the type of the error you would get in attempt to execute `multistatement` sql code using `clickhouse_connect`."
   ]
  },
  {
   "cell_type": "code",
   "execution_count": 12,
   "id": "ad99a0dc",
   "metadata": {},
   "outputs": [
    {
     "name": "stdout",
     "output_type": "stream",
     "text": [
      "HTTPDriver for http://localhost:8123 received ClickHouse error code 62\n",
      " Code: 62. DB::Exception: Syntax error (Multi-statements are not allowed): failed at position 17 (end of query) (line 1, col 17): ; SELECT 2 as val2\n",
      " FORMAT Native. . (SYNTAX_ERROR) (version 24.10.2.80 (official build))\n",
      "\n"
     ]
    }
   ],
   "source": [
    "try:\n",
    "    client.query(\"SELECT 1 as val1; SELECT 2 as val2;\")\n",
    "except Exception as e:\n",
    "    print(e)"
   ]
  }
 ],
 "metadata": {
  "kernelspec": {
   "display_name": "python",
   "language": "python",
   "name": "python3"
  },
  "language_info": {
   "codemirror_mode": {
    "name": "ipython",
    "version": 3
   },
   "file_extension": ".py",
   "mimetype": "text/x-python",
   "name": "python",
   "nbconvert_exporter": "python",
   "pygments_lexer": "ipython3",
   "version": "3.12.9"
  }
 },
 "nbformat": 4,
 "nbformat_minor": 5
}
