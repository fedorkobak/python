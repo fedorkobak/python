{
 "cells": [
  {
   "cell_type": "markdown",
   "id": "69531cef",
   "metadata": {},
   "source": [
    "# Clickhouse\n",
    "\n",
    "This section provides an overview of features related to intefacing with the Clickhouse database. The [`clickhouse_connect`](https://pypi.org/project/clickhouse-connect/) is a database driver for python. Check the the description at the [clickhouse site](https://clickhouse.com/docs/integrations/python)."
   ]
  },
  {
   "cell_type": "code",
   "execution_count": 4,
   "id": "8ea44efa",
   "metadata": {},
   "outputs": [],
   "source": [
    "import clickhouse_connect\n",
    "from src.rerun_docker import reload_docker_container\n",
    "\n",
    "container = reload_docker_container(\n",
    "    image=\"clickhouse/clickhouse-server:24\",\n",
    "    name=\"clickhouse_examples\",\n",
    "    detach=True,\n",
    "    remove=True,\n",
    "    ports={\n",
    "        \"8123\": 8123,\n",
    "    },\n",
    ")"
   ]
  },
  {
   "cell_type": "markdown",
   "id": "fa0402f9",
   "metadata": {},
   "source": [
    "## Executing\n",
    "\n",
    "To execute the command, you must create a client using the `clickhouse_connect.get_client` method and use the `query` method of the gotten object."
   ]
  },
  {
   "cell_type": "markdown",
   "id": "19e28901",
   "metadata": {},
   "source": [
    "---\n",
    "\n",
    "The following cell shows the process of creating a connection."
   ]
  },
  {
   "cell_type": "code",
   "execution_count": 5,
   "id": "5db285c0",
   "metadata": {},
   "outputs": [],
   "source": [
    "client = clickhouse_connect.get_client(\n",
    "    host=\"localhost\",\n",
    "    port=8123,\n",
    "    username=\"default\",\n",
    "    password=\"\",\n",
    "    database=\"default\",\n",
    ")"
   ]
  },
  {
   "cell_type": "markdown",
   "id": "5531756a",
   "metadata": {},
   "source": [
    "The following code shows the structure of the output."
   ]
  },
  {
   "cell_type": "code",
   "execution_count": 6,
   "id": "671a6637",
   "metadata": {},
   "outputs": [
    {
     "name": "stdout",
     "output_type": "stream",
     "text": [
      "Column names: ('v10', 'v20', 'v30', 'v40')\n",
      "Data: [(10, 20, 30, 40)]\n"
     ]
    }
   ],
   "source": [
    "query_result = client.query(\"SELECT 10 v10, 20 v20, 30 v30, 40 v40;\")\n",
    "print(\"Column names:\", query_result.column_names)\n",
    "print(\"Data:\", query_result.result_rows)"
   ]
  },
  {
   "cell_type": "markdown",
   "id": "fb8d759e",
   "metadata": {},
   "source": [
    "Next cell executes some command that shouldn't have any output."
   ]
  },
  {
   "cell_type": "code",
   "execution_count": 7,
   "id": "fbefd2d2",
   "metadata": {},
   "outputs": [
    {
     "name": "stdout",
     "output_type": "stream",
     "text": [
      "Column names: ('read_rows', 'read_bytes', 'written_rows', 'written_bytes', 'total_rows_to_read', 'result_rows', 'result_bytes', 'elapsed_ns', 'query_id')\n",
      "Data: [[0, 0, 0, 0, 0, 0, 0, 9927398, 'e693da30-7d1d-4e0e-964f-8e788525b16f']]\n"
     ]
    }
   ],
   "source": [
    "query_result = client.query(\"\"\"\n",
    "    CREATE TABLE\n",
    "    IF NOT EXISTS \n",
    "    test_table (v10 UInt8, v20 UInt8) \n",
    "    ENGINE = MergeTree ORDER BY v10;\n",
    "\"\"\")\n",
    "\n",
    "print(\"Column names:\", query_result.column_names)\n",
    "print(\"Data:\", query_result.result_rows)"
   ]
  },
  {
   "cell_type": "markdown",
   "id": "a58d1b76",
   "metadata": {},
   "source": [
    "But it looks like it has some technical information."
   ]
  },
  {
   "cell_type": "code",
   "execution_count": null,
   "id": "6f83cce6",
   "metadata": {},
   "outputs": [],
   "source": [
    "client.close()"
   ]
  },
  {
   "cell_type": "markdown",
   "id": "e39e4db3",
   "metadata": {},
   "source": [
    "## Multistatement\n",
    "\n",
    "`clickhouse_connect` doesn't allow to run multistatement code."
   ]
  },
  {
   "cell_type": "markdown",
   "id": "a2d1533e",
   "metadata": {},
   "source": [
    "---\n",
    "\n",
    "The following cell shows the type of the error you would get in attempt to execute `multistatement` sql code using `clickhouse_connect`."
   ]
  },
  {
   "cell_type": "code",
   "execution_count": 12,
   "id": "ad99a0dc",
   "metadata": {},
   "outputs": [
    {
     "name": "stdout",
     "output_type": "stream",
     "text": [
      "HTTPDriver for http://localhost:8123 received ClickHouse error code 62\n",
      " Code: 62. DB::Exception: Syntax error (Multi-statements are not allowed): failed at position 17 (end of query) (line 1, col 17): ; SELECT 2 as val2\n",
      " FORMAT Native. . (SYNTAX_ERROR) (version 24.10.2.80 (official build))\n",
      "\n"
     ]
    }
   ],
   "source": [
    "try:\n",
    "    client.query(\"SELECT 1 as val1; SELECT 2 as val2;\")\n",
    "except Exception as e:\n",
    "    print(e)"
   ]
  }
 ],
 "metadata": {
  "kernelspec": {
   "display_name": "python",
   "language": "python",
   "name": "python3"
  },
  "language_info": {
   "codemirror_mode": {
    "name": "ipython",
    "version": 3
   },
   "file_extension": ".py",
   "mimetype": "text/x-python",
   "name": "python",
   "nbconvert_exporter": "python",
   "pygments_lexer": "ipython3",
   "version": "3.12.9"
  }
 },
 "nbformat": 4,
 "nbformat_minor": 5
}
