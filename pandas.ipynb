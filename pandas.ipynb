{
 "cells": [
  {
   "cell_type": "markdown",
   "metadata": {},
   "source": [
    "# Pandas\n",
    "\n",
    "`pandas` is a popular Python library for processing tabular data. It has excellent documentation, but some questions might not be straightforward. In this section, I will discuss some complex concepts and things I tend to forget."
   ]
  },
  {
   "cell_type": "code",
   "execution_count": 1,
   "metadata": {},
   "outputs": [],
   "source": [
    "import numpy as np\n",
    "import pandas as pd"
   ]
  },
  {
   "cell_type": "markdown",
   "metadata": {},
   "source": [
    "## Styles\n",
    "\n",
    "If you need a specific representation for your data in pandas, there is a feature that allows you to customize the representation of a pandas DataFrame.\n",
    "\n",
    "Check the [official guide](https://pandas.pydata.org/docs/user_guide/style.html) from pandas and the [specific page](pandas/styles.ipynb) on this website."
   ]
  },
  {
   "cell_type": "markdown",
   "metadata": {},
   "source": [
    "---\n",
    "\n",
    "The following cell demonstrates how different tools can change the appearance of a table. The original table is shown first, followed by the modified tables."
   ]
  },
  {
   "cell_type": "code",
   "execution_count": 20,
   "metadata": {},
   "outputs": [
    {
     "data": {
      "text/html": [
       "<div>\n",
       "<style scoped>\n",
       "    .dataframe tbody tr th:only-of-type {\n",
       "        vertical-align: middle;\n",
       "    }\n",
       "\n",
       "    .dataframe tbody tr th {\n",
       "        vertical-align: top;\n",
       "    }\n",
       "\n",
       "    .dataframe thead tr th {\n",
       "        text-align: left;\n",
       "    }\n",
       "\n",
       "    .dataframe thead tr:last-of-type th {\n",
       "        text-align: right;\n",
       "    }\n",
       "</style>\n",
       "<table border=\"1\" class=\"dataframe\">\n",
       "  <thead>\n",
       "    <tr>\n",
       "      <th>Model:</th>\n",
       "      <th colspan=\"2\" halign=\"left\">Decision Tree</th>\n",
       "      <th colspan=\"2\" halign=\"left\">Regression</th>\n",
       "      <th colspan=\"2\" halign=\"left\">Random</th>\n",
       "    </tr>\n",
       "    <tr>\n",
       "      <th>Predicted:</th>\n",
       "      <th>Tumour</th>\n",
       "      <th>Non-Tumour</th>\n",
       "      <th>Tumour</th>\n",
       "      <th>Non-Tumour</th>\n",
       "      <th>Tumour</th>\n",
       "      <th>Non-Tumour</th>\n",
       "    </tr>\n",
       "    <tr>\n",
       "      <th>Actual Label:</th>\n",
       "      <th></th>\n",
       "      <th></th>\n",
       "      <th></th>\n",
       "      <th></th>\n",
       "      <th></th>\n",
       "      <th></th>\n",
       "    </tr>\n",
       "  </thead>\n",
       "  <tbody>\n",
       "    <tr>\n",
       "      <th>Tumour (Positive)</th>\n",
       "      <td>38.0</td>\n",
       "      <td>2.0</td>\n",
       "      <td>18.0</td>\n",
       "      <td>22.0</td>\n",
       "      <td>21</td>\n",
       "      <td>NaN</td>\n",
       "    </tr>\n",
       "    <tr>\n",
       "      <th>Non-Tumour (Negative)</th>\n",
       "      <td>19.0</td>\n",
       "      <td>439.0</td>\n",
       "      <td>6.0</td>\n",
       "      <td>452.0</td>\n",
       "      <td>226</td>\n",
       "      <td>232.0</td>\n",
       "    </tr>\n",
       "  </tbody>\n",
       "</table>\n",
       "</div>"
      ],
      "text/plain": [
       "Model:                Decision Tree            Regression            Random  \\\n",
       "Predicted:                   Tumour Non-Tumour     Tumour Non-Tumour Tumour   \n",
       "Actual Label:                                                                 \n",
       "Tumour (Positive)              38.0        2.0       18.0       22.0     21   \n",
       "Non-Tumour (Negative)          19.0      439.0        6.0      452.0    226   \n",
       "\n",
       "Model:                            \n",
       "Predicted:            Non-Tumour  \n",
       "Actual Label:                     \n",
       "Tumour (Positive)            NaN  \n",
       "Non-Tumour (Negative)      232.0  "
      ]
     },
     "metadata": {},
     "output_type": "display_data"
    },
    {
     "data": {
      "text/html": [
       "<style type=\"text/css\">\n",
       "#T_d82f9 td:hover {\n",
       "  background-color: #ffffb3;\n",
       "}\n",
       "#T_d82f9 .index_name {\n",
       "  font-style: italic;\n",
       "  color: darkgrey;\n",
       "  font-weight: normal;\n",
       "}\n",
       "#T_d82f9 th:not(.index_name) {\n",
       "  background-color: #000066;\n",
       "  color: white;\n",
       "}\n",
       "#T_d82f9 th.col_heading {\n",
       "  text-align: center;\n",
       "}\n",
       "#T_d82f9 th.col_heading.level0 {\n",
       "  font-size: 1.5em;\n",
       "}\n",
       "#T_d82f9 td {\n",
       "  text-align: center;\n",
       "  font-weight: bold;\n",
       "}\n",
       "#T_d82f9 .true {\n",
       "  background-color: #e6ffe6;\n",
       "}\n",
       "#T_d82f9 .false {\n",
       "  background-color: #ffe6e6;\n",
       "}\n",
       "</style>\n",
       "<table id=\"T_d82f9\">\n",
       "  <thead>\n",
       "    <tr>\n",
       "      <th class=\"index_name level0\" >Model:</th>\n",
       "      <th id=\"T_d82f9_level0_col0\" class=\"col_heading level0 col0\" colspan=\"2\">Decision Tree</th>\n",
       "      <th id=\"T_d82f9_level0_col2\" class=\"col_heading level0 col2\" colspan=\"2\">Regression</th>\n",
       "      <th id=\"T_d82f9_level0_col4\" class=\"col_heading level0 col4\" colspan=\"2\">Random</th>\n",
       "    </tr>\n",
       "    <tr>\n",
       "      <th class=\"index_name level1\" >Predicted:</th>\n",
       "      <th id=\"T_d82f9_level1_col0\" class=\"col_heading level1 col0\" >Tumour</th>\n",
       "      <th id=\"T_d82f9_level1_col1\" class=\"col_heading level1 col1\" >Non-Tumour</th>\n",
       "      <th id=\"T_d82f9_level1_col2\" class=\"col_heading level1 col2\" >Tumour</th>\n",
       "      <th id=\"T_d82f9_level1_col3\" class=\"col_heading level1 col3\" >Non-Tumour</th>\n",
       "      <th id=\"T_d82f9_level1_col4\" class=\"col_heading level1 col4\" >Tumour</th>\n",
       "      <th id=\"T_d82f9_level1_col5\" class=\"col_heading level1 col5\" >Non-Tumour</th>\n",
       "    </tr>\n",
       "    <tr>\n",
       "      <th class=\"index_name level0\" >Actual Label:</th>\n",
       "      <th class=\"blank col0\" >&nbsp;</th>\n",
       "      <th class=\"blank col1\" >&nbsp;</th>\n",
       "      <th class=\"blank col2\" >&nbsp;</th>\n",
       "      <th class=\"blank col3\" >&nbsp;</th>\n",
       "      <th class=\"blank col4\" >&nbsp;</th>\n",
       "      <th class=\"blank col5\" >&nbsp;</th>\n",
       "    </tr>\n",
       "  </thead>\n",
       "  <tbody>\n",
       "    <tr>\n",
       "      <th id=\"T_d82f9_level0_row0\" class=\"row_heading level0 row0\" >Tumour (Positive)</th>\n",
       "      <td id=\"T_d82f9_row0_col0\" class=\"data row0 col0 true\" >38</td>\n",
       "      <td id=\"T_d82f9_row0_col1\" class=\"data row0 col1 false\" >2</td>\n",
       "      <td id=\"T_d82f9_row0_col2\" class=\"data row0 col2 true\" >18</td>\n",
       "      <td id=\"T_d82f9_row0_col3\" class=\"data row0 col3 false\" >22</td>\n",
       "      <td id=\"T_d82f9_row0_col4\" class=\"data row0 col4 true\" >21</td>\n",
       "      <td id=\"T_d82f9_row0_col5\" class=\"data row0 col5 false\" >nan</td>\n",
       "    </tr>\n",
       "    <tr>\n",
       "      <th id=\"T_d82f9_level0_row1\" class=\"row_heading level0 row1\" >Non-Tumour (Negative)</th>\n",
       "      <td id=\"T_d82f9_row1_col0\" class=\"data row1 col0 false\" >19</td>\n",
       "      <td id=\"T_d82f9_row1_col1\" class=\"data row1 col1 true\" >439</td>\n",
       "      <td id=\"T_d82f9_row1_col2\" class=\"data row1 col2 false\" >6</td>\n",
       "      <td id=\"T_d82f9_row1_col3\" class=\"data row1 col3 true\" >452</td>\n",
       "      <td id=\"T_d82f9_row1_col4\" class=\"data row1 col4 false\" >226</td>\n",
       "      <td id=\"T_d82f9_row1_col5\" class=\"data row1 col5 true\" >232</td>\n",
       "    </tr>\n",
       "  </tbody>\n",
       "</table>\n"
      ],
      "text/plain": [
       "<pandas.io.formats.style.Styler at 0x7406d4de3190>"
      ]
     },
     "execution_count": 20,
     "metadata": {},
     "output_type": "execute_result"
    }
   ],
   "source": [
    "df = pd.DataFrame(\n",
    "    [[38.0, 2.0, 18.0, 22.0, 21, np.nan],[19, 439, 6, 452, 226,232]],\n",
    "    index=pd.Index(\n",
    "        ['Tumour (Positive)', 'Non-Tumour (Negative)'], \n",
    "        name='Actual Label:'\n",
    "    ),\n",
    "    columns=pd.MultiIndex.from_product(\n",
    "        [['Decision Tree', 'Regression', 'Random'],['Tumour', 'Non-Tumour']], \n",
    "        names=['Model:', 'Predicted:']\n",
    "    )\n",
    ")\n",
    "\n",
    "display(df)\n",
    "\n",
    "cell_hover = {  # for row hover use <tr> instead of <td>\n",
    "    'selector': 'td:hover',\n",
    "    'props': [('background-color', '#ffffb3')]\n",
    "}\n",
    "index_names = {\n",
    "    'selector': '.index_name',\n",
    "    'props': 'font-style: italic; color: darkgrey; font-weight:normal;'\n",
    "}\n",
    "headers = {\n",
    "    'selector': 'th:not(.index_name)',\n",
    "    'props': 'background-color: #000066; color: white;'\n",
    "}\n",
    "\n",
    "cell_color = pd.DataFrame(\n",
    "    [['true', 'false', 'true', 'false', 'true', 'false'],\n",
    "    ['false', 'true', 'false', 'true', 'false', 'true']],\n",
    "    index=df.index,\n",
    "    columns=df.columns\n",
    ")\n",
    "\n",
    "(\n",
    "    df.style.format('{:.0f}')\n",
    "    .set_table_styles([cell_hover, index_names, headers])\n",
    "    .set_table_styles([\n",
    "        {'selector': 'th.col_heading', 'props': 'text-align: center;'},\n",
    "        {'selector': 'th.col_heading.level0', 'props': 'font-size: 1.5em;'},\n",
    "        {'selector': 'td', 'props': 'text-align: center; font-weight: bold;'},\n",
    "    ], overwrite=False)\n",
    "    .set_table_styles([\n",
    "        {'selector': '.true', 'props': 'background-color: #e6ffe6;'},\n",
    "        {'selector': '.false', 'props': 'background-color: #ffe6e6;'},\n",
    "    ], overwrite=False)\n",
    "    .set_td_classes(cell_color)\n",
    ")"
   ]
  },
  {
   "cell_type": "markdown",
   "metadata": {},
   "source": [
    "## Testing\n",
    "\n",
    "There is a `pandas.testing` module that allows you to implement unit tests for `pandas` objects. Check the [corresponding documentation section](https://pandas.pydata.org/docs/reference/testing.html) for more details."
   ]
  },
  {
   "cell_type": "markdown",
   "metadata": {},
   "source": [
    "---\n",
    "\n",
    "The following cell shows a typical case that helps explain why you should use `pandas.testing` asserts instead of self-made comparisons of series. There are `pandas.Series` objects that are essentially equal, but they contain empty values."
   ]
  },
  {
   "cell_type": "code",
   "execution_count": 3,
   "metadata": {},
   "outputs": [],
   "source": [
    "a = pd.Series([1, np.NaN, 3])\n",
    "b = pd.Series([1, np.NaN, 3])"
   ]
  },
  {
   "cell_type": "markdown",
   "metadata": {},
   "source": [
    "But any comparison operation involving `np.NaN` values results in a `False` output."
   ]
  },
  {
   "cell_type": "code",
   "execution_count": 11,
   "metadata": {},
   "outputs": [
    {
     "data": {
      "text/plain": [
       "0     True\n",
       "1    False\n",
       "2     True\n",
       "dtype: bool"
      ]
     },
     "metadata": {},
     "output_type": "display_data"
    },
    {
     "data": {
      "text/plain": [
       "False"
      ]
     },
     "metadata": {},
     "output_type": "display_data"
    }
   ],
   "source": [
    "display(a == b)\n",
    "display((a == b).all())"
   ]
  },
  {
   "cell_type": "markdown",
   "metadata": {},
   "source": [
    "Simply comparing pandas objects often requires writing a lot of additional code to handle such specific conditions. You can avoid that by using `pd.testing` asserts, as demonstrated below for the series we created earlier."
   ]
  },
  {
   "cell_type": "code",
   "execution_count": 12,
   "metadata": {},
   "outputs": [],
   "source": [
    "pd.testing.assert_series_equal(a, b)"
   ]
  },
  {
   "cell_type": "markdown",
   "metadata": {},
   "source": [
    "The following cell shows the comparison of two series and the message that would be shown in std err in case the series are different."
   ]
  },
  {
   "cell_type": "code",
   "execution_count": 9,
   "metadata": {},
   "outputs": [
    {
     "name": "stdout",
     "output_type": "stream",
     "text": [
      "Series are different\n",
      "\n",
      "Series values are different (33.33333 %)\n",
      "[index]: [0, 1, 2]\n",
      "[left]:  [1, 2, 3]\n",
      "[right]: [1, 4, 3]\n"
     ]
    }
   ],
   "source": [
    "try:\n",
    "    pd.testing.assert_series_equal(\n",
    "        pd.Series([1, 2, 3]),\n",
    "        pd.Series([1, 4, 3])\n",
    "    )\n",
    "except Exception as e:\n",
    "    print(e)"
   ]
  },
  {
   "cell_type": "markdown",
   "metadata": {},
   "source": [
    "### Check like\n",
    "\n",
    "The `check_like` parameter allows you to specify whether the test should check the order of columns or indices in the output.\n",
    "\n",
    "**Note:** The meanings of the values can be a bit confusing:\n",
    "\n",
    "- `True`: Means that an assertion won’t be raised if the datasets are the same but the order is different.\n",
    "- `False`: Means that an assertion will be raised if `left` and `right` have a different order."
   ]
  },
  {
   "cell_type": "markdown",
   "metadata": {},
   "source": [
    "---\n",
    "\n",
    "The following cell creates datasets `a` and `b`. Generally, they are the same, but the rows and columns are in a different order."
   ]
  },
  {
   "cell_type": "code",
   "execution_count": 12,
   "metadata": {},
   "outputs": [
    {
     "data": {
      "text/html": [
       "<div>\n",
       "<style scoped>\n",
       "    .dataframe tbody tr th:only-of-type {\n",
       "        vertical-align: middle;\n",
       "    }\n",
       "\n",
       "    .dataframe tbody tr th {\n",
       "        vertical-align: top;\n",
       "    }\n",
       "\n",
       "    .dataframe thead th {\n",
       "        text-align: right;\n",
       "    }\n",
       "</style>\n",
       "<table border=\"1\" class=\"dataframe\">\n",
       "  <thead>\n",
       "    <tr style=\"text-align: right;\">\n",
       "      <th></th>\n",
       "      <th>a</th>\n",
       "      <th>b</th>\n",
       "    </tr>\n",
       "  </thead>\n",
       "  <tbody>\n",
       "    <tr>\n",
       "      <th>1</th>\n",
       "      <td>1</td>\n",
       "      <td>3</td>\n",
       "    </tr>\n",
       "    <tr>\n",
       "      <th>2</th>\n",
       "      <td>2</td>\n",
       "      <td>1</td>\n",
       "    </tr>\n",
       "  </tbody>\n",
       "</table>\n",
       "</div>"
      ],
      "text/plain": [
       "   a  b\n",
       "1  1  3\n",
       "2  2  1"
      ]
     },
     "metadata": {},
     "output_type": "display_data"
    },
    {
     "data": {
      "text/html": [
       "<div>\n",
       "<style scoped>\n",
       "    .dataframe tbody tr th:only-of-type {\n",
       "        vertical-align: middle;\n",
       "    }\n",
       "\n",
       "    .dataframe tbody tr th {\n",
       "        vertical-align: top;\n",
       "    }\n",
       "\n",
       "    .dataframe thead th {\n",
       "        text-align: right;\n",
       "    }\n",
       "</style>\n",
       "<table border=\"1\" class=\"dataframe\">\n",
       "  <thead>\n",
       "    <tr style=\"text-align: right;\">\n",
       "      <th></th>\n",
       "      <th>b</th>\n",
       "      <th>a</th>\n",
       "    </tr>\n",
       "  </thead>\n",
       "  <tbody>\n",
       "    <tr>\n",
       "      <th>2</th>\n",
       "      <td>1</td>\n",
       "      <td>2</td>\n",
       "    </tr>\n",
       "    <tr>\n",
       "      <th>1</th>\n",
       "      <td>3</td>\n",
       "      <td>1</td>\n",
       "    </tr>\n",
       "  </tbody>\n",
       "</table>\n",
       "</div>"
      ],
      "text/plain": [
       "   b  a\n",
       "2  1  2\n",
       "1  3  1"
      ]
     },
     "metadata": {},
     "output_type": "display_data"
    }
   ],
   "source": [
    "a = pd.DataFrame(\n",
    "    {\"a\": [1, 2], \"b\": [3, 1]},\n",
    "    index=[1, 2]\n",
    ")\n",
    "b = pd.DataFrame(\n",
    "    {\"b\": [1, 3], \"a\": [2, 1]},\n",
    "    index=[2, 1]\n",
    ")\n",
    "display(a, b)"
   ]
  },
  {
   "cell_type": "markdown",
   "metadata": {},
   "source": [
    "If you call the default `assert_frame_equal`, it will raise a corresponding error."
   ]
  },
  {
   "cell_type": "code",
   "execution_count": 13,
   "metadata": {},
   "outputs": [
    {
     "name": "stdout",
     "output_type": "stream",
     "text": [
      "DataFrame.index are different\n",
      "\n",
      "DataFrame.index values are different (100.0 %)\n",
      "[left]:  Index([1, 2], dtype='int64')\n",
      "[right]: Index([2, 1], dtype='int64')\n",
      "At positional index 0, first diff: 1 != 2\n"
     ]
    }
   ],
   "source": [
    "try:\n",
    "    pd.testing.assert_frame_equal(a, b)\n",
    "except Exception as e:\n",
    "    print(e)"
   ]
  },
  {
   "cell_type": "markdown",
   "metadata": {},
   "source": [
    "But if `check_like=True`, it will only check if the index/column combination has the same values in `left` and `right`."
   ]
  },
  {
   "cell_type": "code",
   "execution_count": 14,
   "metadata": {},
   "outputs": [],
   "source": [
    "pd.testing.assert_frame_equal(a, b, check_like=True)"
   ]
  }
 ],
 "metadata": {
  "kernelspec": {
   "display_name": "Python 3",
   "language": "python",
   "name": "python3"
  },
  "language_info": {
   "codemirror_mode": {
    "name": "ipython",
    "version": 3
   },
   "file_extension": ".py",
   "mimetype": "text/x-python",
   "name": "python",
   "nbconvert_exporter": "python",
   "pygments_lexer": "ipython3",
   "version": "3.10.12"
  }
 },
 "nbformat": 4,
 "nbformat_minor": 2
}
