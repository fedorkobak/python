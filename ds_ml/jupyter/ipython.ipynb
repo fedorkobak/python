{
 "cells": [
  {
   "cell_type": "markdown",
   "metadata": {},
   "source": [
    "# IPython\n",
    "\n",
    "`ipython` is modified python shell. It provide some tools that allows to intercat with objects in more convenient way than classical python shell. Check [official docuemtation](https://ipython.readthedocs.io/en/latest/index.html).\n",
    "\n",
    "But the greatest feature of the `ipython` is that it provides kernel for jupyter `ipykernel`. `ipykernel` is deafult kernel for `jupyter` and most users consider them as a signlre product. In fact `ipykernel` just takes code cell from jupyter and process it with `ipython`."
   ]
  },
  {
   "cell_type": "markdown",
   "metadata": {},
   "source": [
    "## Syntax\n",
    "\n",
    "`IPython` provides special expressions called \"IPython magics\" that extend the functionality of the classical Python shell. These magics are categorized into three types:\n",
    "\n",
    "- **Line-oriented magics**: Begin with `%` and apply to the next single expression. These can be embedded in Python code, allowing you to save results to a variable, for example.\n",
    "- **Cell-oriented magics**: Begin with `%%` and apply to the entire cell (must be used in the first row of the cell).\n",
    "- **Special magics**: Use special symbols (`?`, `!`, `$`) to instruct `ipykernel` to perform specific tasks.\n",
    "\n",
    "Most magics can be used in both line-oriented and cell-oriented syntax, some even have special magics (such as symbol aliasing).\n",
    "\n",
    "Check:\n",
    "\n",
    "- [Corresponding section](https://ipython.readthedocs.io/en/latest/interactive/tutorial.html#magic-functions) of the ipython tutorial.\n",
    "- [Specific page](ipython/syntax.ipynb) in this site."
   ]
  },
  {
   "cell_type": "markdown",
   "metadata": {},
   "source": [
    "---\n",
    "\n",
    "The following cells roughly considers use cases."
   ]
  },
  {
   "cell_type": "markdown",
   "metadata": {},
   "source": [
    "The next code uses the `%timeit` magic just around other Python code."
   ]
  },
  {
   "cell_type": "code",
   "execution_count": 10,
   "metadata": {},
   "outputs": [
    {
     "name": "stdout",
     "output_type": "stream",
     "text": [
      "some code\n",
      "35.1 ms ± 261 μs per loop (mean ± std. dev. of 7 runs, 10 loops each)\n",
      "some code\n"
     ]
    }
   ],
   "source": [
    "print(\"some code\")\n",
    "%timeit ans = [i for i in range(1_000_000)]\n",
    "print(\"some code\")"
   ]
  },
  {
   "cell_type": "markdown",
   "metadata": {},
   "source": [
    "`timeit` magic we used before have cell-oriented option to be used."
   ]
  },
  {
   "cell_type": "code",
   "execution_count": 9,
   "metadata": {},
   "outputs": [
    {
     "name": "stdout",
     "output_type": "stream",
     "text": [
      "20 ms ± 65.1 μs per loop (mean ± std. dev. of 7 runs, 10 loops each)\n"
     ]
    }
   ],
   "source": [
    "%%timeit\n",
    "for i in range(1_000_000):\n",
    "    pass"
   ]
  },
  {
   "cell_type": "markdown",
   "metadata": {},
   "source": [
    "And probably the most popular special magic - `?` shows the description for the `IPython` module."
   ]
  },
  {
   "cell_type": "code",
   "execution_count": 8,
   "metadata": {},
   "outputs": [
    {
     "name": "stdout",
     "output_type": "stream",
     "text": [
      "\u001b[0;31mType:\u001b[0m        module\n",
      "\u001b[0;31mString form:\u001b[0m <module 'IPython' from '/home/fedor/Documents/knowledge/venv/lib/python3.12/site-packages/IPython/__init__.py'>\n",
      "\u001b[0;31mFile:\u001b[0m        ~/Documents/knowledge/venv/lib/python3.12/site-packages/IPython/__init__.py\n",
      "\u001b[0;31mDocstring:\u001b[0m  \n",
      "IPython: tools for interactive and parallel computing in Python.\n",
      "\n",
      "https://ipython.org"
     ]
    }
   ],
   "source": [
    "import IPython\n",
    "IPython?"
   ]
  },
  {
   "cell_type": "markdown",
   "metadata": {},
   "source": [
    "## Reference\n",
    "\n",
    "There are several options to learn more about magics in IPython:\n",
    "\n",
    "- `lsmagic`: Lists all available magics.  \n",
    "- `magic`: Shows available magics and their docstrings.  \n",
    "- `<magic-name>?`: Displays the docstring of the specified magic."
   ]
  },
  {
   "cell_type": "markdown",
   "metadata": {},
   "source": [
    "---\n",
    "\n",
    "The following cells show the output of magic. **Note:** The `magic` output is too long, so it is not used here."
   ]
  },
  {
   "cell_type": "code",
   "execution_count": 4,
   "metadata": {},
   "outputs": [
    {
     "name": "stdout",
     "output_type": "stream",
     "text": [
      "Available line magics:\n",
      "%alias  %alias_magic  %autoawait  %autocall  %automagic  %autosave  %bookmark  %cat  %cd  %clear  %code_wrap  %colors  %conda  %config  %connect_info  %cp  %debug  %dhist  %dirs  %doctest_mode  %ed  %edit  %env  %gui  %hist  %history  %killbgscripts  %ldir  %less  %lf  %lk  %ll  %load  %load_ext  %loadpy  %logoff  %logon  %logstart  %logstate  %logstop  %ls  %lsmagic  %lx  %macro  %magic  %mamba  %man  %matplotlib  %micromamba  %mkdir  %more  %mv  %notebook  %page  %pastebin  %pdb  %pdef  %pdoc  %pfile  %pinfo  %pinfo2  %pip  %popd  %pprint  %precision  %prun  %psearch  %psource  %pushd  %pwd  %pycat  %pylab  %qtconsole  %quickref  %recall  %rehashx  %reload_ext  %rep  %rerun  %reset  %reset_selective  %rm  %rmdir  %run  %save  %sc  %set_env  %store  %sx  %system  %tb  %time  %timeit  %unalias  %unload_ext  %uv  %who  %who_ls  %whos  %xdel  %xmode\n",
      "\n",
      "Available cell magics:\n",
      "%%!  %%HTML  %%SVG  %%bash  %%capture  %%code_wrap  %%debug  %%file  %%html  %%javascript  %%js  %%latex  %%markdown  %%perl  %%prun  %%pypy  %%python  %%python2  %%python3  %%ruby  %%script  %%sh  %%svg  %%sx  %%system  %%time  %%timeit  %%writefile\n",
      "\n",
      "Automagic is ON, % prefix IS NOT needed for line magics.\n"
     ]
    }
   ],
   "source": [
    "ans = %lsmagic\n",
    "print(ans)"
   ]
  },
  {
   "cell_type": "markdown",
   "metadata": {},
   "source": [
    "Here is an example of description for the `autosave` magic."
   ]
  },
  {
   "cell_type": "code",
   "execution_count": 8,
   "metadata": {},
   "outputs": [
    {
     "name": "stdout",
     "output_type": "stream",
     "text": [
      "\u001b[0;31mDocstring:\u001b[0m\n",
      "Set the autosave interval in the notebook (in seconds).\n",
      "\n",
      "The default value is 120, or two minutes.\n",
      "``%autosave 0`` will disable autosave.\n",
      "\n",
      "This magic only has an effect when called from the notebook interface.\n",
      "It has no effect when called in a startup file.\n",
      "\u001b[0;31mFile:\u001b[0m      ~/Documents/knowledge/venv/lib/python3.12/site-packages/ipykernel/zmqshell.py"
     ]
    }
   ],
   "source": [
    "%autosave?"
   ]
  },
  {
   "cell_type": "markdown",
   "metadata": {},
   "source": [
    "## Measure performance\n",
    "\n",
    "There are two magic functions to estimate the performance of the code:\n",
    "\n",
    "- `%time`: measures the delay of the given code.\n",
    "- `%timeit`: run given code several times to get accurate estimation of the performance"
   ]
  },
  {
   "cell_type": "markdown",
   "metadata": {},
   "source": [
    "---\n",
    "\n",
    "The following cell defines the function that runs a given number of iterations."
   ]
  },
  {
   "cell_type": "code",
   "execution_count": null,
   "metadata": {},
   "outputs": [],
   "source": [
    "def some_computing(i_count: int):\n",
    "    for i in range(i_count):\n",
    "        ans = 5 + 5"
   ]
  },
  {
   "cell_type": "markdown",
   "metadata": {},
   "source": [
    "The following code runs 10 and 500 iterations under the `time` magic function."
   ]
  },
  {
   "cell_type": "code",
   "execution_count": null,
   "metadata": {},
   "outputs": [],
   "source": [
    "print(\"=====10 iterations=====\")\n",
    "%time some_computing(10)\n",
    "print(\"=====500 iterations=====\")\n",
    "%time some_computing(500)"
   ]
  },
  {
   "cell_type": "markdown",
   "metadata": {},
   "source": [
    "**Metrics meaning**\n",
    "\n",
    "- `CPU times` gives description of the duration by stage of execution:\n",
    "    - `user` user-side duration;\n",
    "    - `sys` system-side duration;\n",
    "    - `total` total duration of the calculation.\n",
    "- `Wall time` duration of the calculation with overhead resources (whatever they may be).\n",
    "\n",
    "**Note** Nowadays, I don't know exactly what the difference is between the user side and the system side - but you should learn Linux to find out."
   ]
  },
  {
   "cell_type": "markdown",
   "metadata": {},
   "source": [
    "The following cell runs 10 and 500 iterations under `timeit` magic."
   ]
  },
  {
   "cell_type": "code",
   "execution_count": null,
   "metadata": {},
   "outputs": [
    {
     "name": "stdout",
     "output_type": "stream",
     "text": [
      "=====10 iterations=====\n",
      "215 ns ± 1.15 ns per loop (mean ± std. dev. of 7 runs, 1,000,000 loops each)\n",
      "=====500 iterations=====\n",
      "7 μs ± 144 ns per loop (mean ± std. dev. of 7 runs, 100,000 loops each)\n"
     ]
    }
   ],
   "source": [
    "print(\"=====10 iterations=====\")\n",
    "%timeit some_computing(10)\n",
    "print(\"=====500 iterations=====\")\n",
    "%timeit some_computing(500)"
   ]
  },
  {
   "cell_type": "markdown",
   "metadata": {},
   "source": [
    "## System command (`!`)\n",
    "\n",
    "You can access the environment you ran IPython from by simply adding `!` before the line. For linux/macOS this is usually terminal line for windows it is usually powerShall."
   ]
  },
  {
   "cell_type": "markdown",
   "metadata": {},
   "source": [
    "---\n",
    "\n",
    "The following cell executes `curl google.com` in the inpython shell."
   ]
  },
  {
   "cell_type": "code",
   "execution_count": 25,
   "metadata": {},
   "outputs": [
    {
     "name": "stdout",
     "output_type": "stream",
     "text": [
      "<HTML><HEAD><meta http-equiv=\"content-type\" content=\"text/html;charset=utf-8\">\n",
      "<TITLE>301 Moved</TITLE></HEAD><BODY>\n",
      "<H1>301 Moved</H1>\n",
      "The document has moved\n",
      "<A HREF=\"http://www.google.com/\">here</A>.\n",
      "</BODY></HTML>\n"
     ]
    }
   ],
   "source": [
    "!curl google.com"
   ]
  },
  {
   "cell_type": "markdown",
   "metadata": {},
   "source": [
    "**Note:** Just like regular magic, you can embed `!<command>` to the regular python expressions. The following cell stores the result of `curl google.com` in the variable and displays it as HTML with regular Python code."
   ]
  },
  {
   "cell_type": "code",
   "execution_count": 24,
   "metadata": {},
   "outputs": [
    {
     "data": {
      "text/html": [
       "<HTML><HEAD><meta http-equiv=\"content-type\" content=\"text/html;charset=utf-8\"><TITLE>301 Moved</TITLE></HEAD><BODY><H1>301 Moved</H1>The document has moved<A HREF=\"http://www.google.com/\">here</A>.</BODY></HTML>"
      ],
      "text/plain": [
       "<IPython.core.display.HTML object>"
      ]
     },
     "execution_count": 24,
     "metadata": {},
     "output_type": "execute_result"
    }
   ],
   "source": [
    "from IPython.display import display, HTML\n",
    "res = !curl -s google.com\n",
    "HTML(\"\".join(res))"
   ]
  },
  {
   "cell_type": "markdown",
   "metadata": {},
   "source": [
    "## Alternative languages\n",
    "\n",
    "There is a set of magic commands that allow you to run alternative-specific code in `IPython`. The following table lists them:\n",
    "\n",
    "| Magic          | Purpose                                                                          |\n",
    "| -------------- | -------------------------------------------------------------------------------- |\n",
    "| `%%bash`       | Run cell content as a Bash shell script.                                         |\n",
    "| `%%sh`         | Alias for `%%bash`.                                                              |\n",
    "| `%%script`     | Run code in a specified interpreter (e.g., `%%script python3`, `%%script perl`). |\n",
    "| `%%html`       | Render cell content as raw HTML in the output.                                   |\n",
    "| `%%latex`      | Render LaTeX equations or content.                                               |\n",
    "| `%%javascript` | Run JavaScript in the browser context.                                           |\n",
    "| `%%js`         | Alias for `%%javascript`.                                                        |\n",
    "| `%%perl`       | Run code in Perl.                                                                |\n",
    "| `%%ruby`       | Run code in Ruby.                                                                |\n",
    "| `%%python`     | Run cell content with the current Python interpreter (explicit).                 |\n",
    "| `%%python2`    | Run code using Python 2 (if available).                                          |\n",
    "| `%%python3`    | Run code using Python 3.                                                         |\n",
    "| `%%ruby`       | Run code in Ruby.                                                                |\n",
    "| `%%perl`       | Run code in Perl.                                                                |\n",
    "| `%%bash`       | Run code in Bash (redundant but often used).                                     |\n",
    "| `%%sh`         | Run code in system shell.                                                        |\n",
    "| `%%R`          | Run R code (if `rpy2` is installed).                                             |\n",
    "| `%%cython`     | Run Cython code (if `Cython` is installed).                                      |\n",
    "| `%%svg`        | Render raw SVG output.                                                           |\n",
    "\n",
    "\n",
    "**Note.** Looks like this magic is only available in whole cell mode."
   ]
  },
  {
   "cell_type": "markdown",
   "metadata": {},
   "source": [
    "---"
   ]
  },
  {
   "cell_type": "markdown",
   "metadata": {},
   "source": [
    "The following cell runs some bash code:"
   ]
  },
  {
   "cell_type": "code",
   "execution_count": null,
   "metadata": {},
   "outputs": [
    {
     "name": "stdout",
     "output_type": "stream",
     "text": [
      "total 16\n",
      "-rw-rw-r-- 1 fedor fedor 4127 жні 26 18:40 magic_commands.ipynb\n",
      "drwxrwxr-x 3 fedor fedor 4096 жні 25 15:10 nbconvert\n",
      "drwxrwxr-x 4 fedor fedor 4096 жні 25 15:10 voila_vs_nbconvert_saving_html\n"
     ]
    }
   ],
   "source": [
    "%%bash\n",
    "ls -l"
   ]
  },
  {
   "cell_type": "markdown",
   "metadata": {},
   "source": [
    "The next cell contains simple HTML code:"
   ]
  },
  {
   "cell_type": "code",
   "execution_count": null,
   "metadata": {},
   "outputs": [
    {
     "data": {
      "text/html": [
       "<button>Button as HTML element</button>\n"
      ],
      "text/plain": [
       "<IPython.core.display.HTML object>"
      ]
     },
     "metadata": {},
     "output_type": "display_data"
    }
   ],
   "source": [
    "%%HTML\n",
    "<button>Button as HTML element</button>"
   ]
  },
  {
   "cell_type": "markdown",
   "metadata": {},
   "source": [
    "## Extensions\n",
    "\n",
    "IPython has some extensions, you can load them with the magic `%load_ext <extension>`. Find out more on extensions in ipython from [corresponding page of the offical documentation](https://ipython.readthedocs.io/en/stable/config/extensions/index.html)."
   ]
  },
  {
   "cell_type": "markdown",
   "metadata": {},
   "source": [
    "## Reloading modules\n",
    "\n",
    "With the `autoreload` extension, you can make the imported object to be reloaded according to some rules so that your environment would be up to date. Check documetation of the [`autoreload`](https://ipython.readthedocs.io/en/stable/config/extensions/autoreload.html) module. Check more details in the [corresponding page](ipython/reloading_modules.ipynb)."
   ]
  },
  {
   "cell_type": "markdown",
   "metadata": {},
   "source": [
    "---\n",
    "\n",
    "The following cell defines the `set_module` function, which creates a module with parameterized behavior."
   ]
  },
  {
   "cell_type": "code",
   "execution_count": 22,
   "metadata": {},
   "outputs": [],
   "source": [
    "from pathlib import Path\n",
    "\n",
    "template = '''\n",
    "def echo_message():\n",
    "    print(\"{message}\")\n",
    "'''\n",
    "\n",
    "module_path = Path(\"ipython_files\")/\"my_module.py\"\n",
    "\n",
    "def set_module(message):\n",
    "    module_path.write_text(template.format(message=message))\n",
    "\n",
    "set_module(\"initial\")"
   ]
  },
  {
   "cell_type": "markdown",
   "metadata": {},
   "source": [
    "The following code imports the module using special ipython features to make it reload each time the code is run."
   ]
  },
  {
   "cell_type": "code",
   "execution_count": 23,
   "metadata": {},
   "outputs": [
    {
     "name": "stdout",
     "output_type": "stream",
     "text": [
      "The autoreload extension is already loaded. To reload it, use:\n",
      "  %reload_ext autoreload\n"
     ]
    }
   ],
   "source": [
    "%load_ext autoreload\n",
    "%autoreload explicit\n",
    "from ipython_files import my_module \n",
    "%aimport ipython_files.my_module"
   ]
  },
  {
   "cell_type": "markdown",
   "metadata": {},
   "source": [
    "Now `my_module.echo_message` has the behavior we've specified at the beginning: "
   ]
  },
  {
   "cell_type": "code",
   "execution_count": 24,
   "metadata": {},
   "outputs": [
    {
     "name": "stdout",
     "output_type": "stream",
     "text": [
      "initial\n"
     ]
    }
   ],
   "source": [
    "my_module.echo_message()"
   ]
  },
  {
   "cell_type": "markdown",
   "metadata": {},
   "source": [
    "And after running code that changes the source of `my_module.echo_message`, calling the function results in the new behavior."
   ]
  },
  {
   "cell_type": "code",
   "execution_count": 29,
   "metadata": {},
   "outputs": [],
   "source": [
    "set_module(\"changed\")"
   ]
  },
  {
   "cell_type": "code",
   "execution_count": 30,
   "metadata": {},
   "outputs": [
    {
     "name": "stdout",
     "output_type": "stream",
     "text": [
      "changed\n"
     ]
    }
   ],
   "source": [
    "my_module.echo_message()"
   ]
  },
  {
   "cell_type": "markdown",
   "metadata": {},
   "source": [
    "## `%%writefile`\n",
    "\n",
    "This is the magic that allows you to save the contents of the cell to a file. You need to use the syntax `%%writefile <directory>` in the first line of the cell to save it in the `<directory>`.\n",
    "\n",
    "All code cells in this section are the same example and should be run one by one."
   ]
  },
  {
   "cell_type": "markdown",
   "metadata": {},
   "source": [
    "A new folder has been created here. The `ls` command confirms that it's empty."
   ]
  },
  {
   "cell_type": "code",
   "execution_count": null,
   "metadata": {},
   "outputs": [],
   "source": [
    "%%bash\n",
    "mkdir ipython_magics_files/writefile_files\n",
    "ls ipython_magics_files/writefile_files"
   ]
  },
  {
   "cell_type": "markdown",
   "metadata": {},
   "source": [
    "Using `%%writefile` to a non-existent file."
   ]
  },
  {
   "cell_type": "code",
   "execution_count": null,
   "metadata": {},
   "outputs": [
    {
     "name": "stdout",
     "output_type": "stream",
     "text": [
      "Writing ipython_magics_files/writefile_files/writefile\n"
     ]
    }
   ],
   "source": [
    "%%writefile ipython_magics_files/writefile_files/writefile\n",
    "this is the file from the cell"
   ]
  },
  {
   "cell_type": "markdown",
   "metadata": {},
   "source": [
    "Verify that the file has been created and contains the content specified in the previous cell."
   ]
  },
  {
   "cell_type": "code",
   "execution_count": null,
   "metadata": {},
   "outputs": [
    {
     "name": "stdout",
     "output_type": "stream",
     "text": [
      "=====files=====\n",
      "writefile\n",
      "=====content=====\n",
      "this is the file from the cell\n"
     ]
    }
   ],
   "source": [
    "%%bash \n",
    "echo \"=====files=====\"\n",
    "ls ipython_magics_files/writefile_files\n",
    "echo \"=====content=====\"\n",
    "cat ipython_magics_files/writefile_files/writefile"
   ]
  },
  {
   "cell_type": "markdown",
   "metadata": {},
   "source": [
    "Now let's try using the same file, but for a different cell. The message `Overwriting ...` indicates that the content will be completely replaced."
   ]
  },
  {
   "cell_type": "code",
   "execution_count": null,
   "metadata": {},
   "outputs": [
    {
     "name": "stdout",
     "output_type": "stream",
     "text": [
      "Overwriting ipython_magics_files/writefile_files/writefile\n"
     ]
    }
   ],
   "source": [
    "%%writefile ipython_magics_files/writefile_files/writefile\n",
    "some other message for another cell"
   ]
  },
  {
   "cell_type": "markdown",
   "metadata": {},
   "source": [
    "Make sure that the contents of the file are from the last cell."
   ]
  },
  {
   "cell_type": "code",
   "execution_count": null,
   "metadata": {},
   "outputs": [
    {
     "name": "stdout",
     "output_type": "stream",
     "text": [
      "some other message for another cell\n"
     ]
    }
   ],
   "source": [
    "%%bash\n",
    "cat ipython_magics_files/writefile_files/writefile"
   ]
  },
  {
   "cell_type": "markdown",
   "metadata": {},
   "source": [
    "Finally delete the folder so that the content remains fully playable."
   ]
  },
  {
   "cell_type": "code",
   "execution_count": null,
   "metadata": {},
   "outputs": [],
   "source": [
    "%%bash\n",
    "rm -r ipython_magics_files/writefile_files/"
   ]
  },
  {
   "cell_type": "markdown",
   "metadata": {},
   "source": [
    "## Matplotlib\n",
    "\n",
    "IPython is integrated with the plotting library `matplotlib`. There is a special magic command `%matplotlib` that allows configuring the behavior of `matplotlib`."
   ]
  },
  {
   "cell_type": "markdown",
   "metadata": {},
   "source": [
    "---\n",
    "\n",
    "The following example sets the `tk` engine for `matplotlib`, resulting in plots being displayed in a dedicated Tkinter window."
   ]
  },
  {
   "cell_type": "code",
   "execution_count": null,
   "metadata": {},
   "outputs": [
    {
     "data": {
      "text/plain": [
       "[<matplotlib.lines.Line2D at 0x7a7dec8fe750>]"
      ]
     },
     "metadata": {},
     "output_type": "display_data"
    }
   ],
   "source": [
    "%matplotlib tk\n",
    "import matplotlib.pyplot as plt\n",
    "plt.plot([1, 2, 3], [1, 2, 1])"
   ]
  }
 ],
 "metadata": {
  "kernelspec": {
   "display_name": "python (3.13.5)",
   "language": "python",
   "name": "python3"
  },
  "language_info": {
   "codemirror_mode": {
    "name": "ipython",
    "version": 3
   },
   "file_extension": ".py",
   "mimetype": "text/x-python",
   "name": "python",
   "nbconvert_exporter": "python",
   "pygments_lexer": "ipython3",
   "version": "3.13.7"
  }
 },
 "nbformat": 4,
 "nbformat_minor": 2
}
