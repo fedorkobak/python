{
 "cells": [
  {
   "cell_type": "markdown",
   "id": "90eb301c",
   "metadata": {},
   "source": [
    "# Spark\n",
    "\n",
    "This page considers the python SDK for Spark."
   ]
  },
  {
   "cell_type": "code",
   "execution_count": 29,
   "id": "6a579cca",
   "metadata": {},
   "outputs": [],
   "source": [
    "from pyspark.sql import SparkSession\n",
    "from pyspark.sql.functions import col\n",
    "\n",
    "spark_session = SparkSession.builder.appName('Temp').getOrCreate()"
   ]
  },
  {
   "cell_type": "markdown",
   "id": "e17c7510",
   "metadata": {},
   "source": [
    "## Dataframe\n",
    "\n",
    "Spark SQL contains a DataFrame objects that provide a way to interact with tabular data.\n",
    "\n",
    "You can define a data frame: \n",
    "\n",
    "- Directly from your code using the `createDataFrame` method of the session object.\n",
    "- Using some special methods to read from external sources stored in the `read` attribute of the session."
   ]
  },
  {
   "cell_type": "markdown",
   "id": "0b8e04fd",
   "metadata": {},
   "source": [
    "---\n",
    "\n",
    "The following cell defines the Spark dataset, which is formatted so that each row is a tuple whose values correspond to each column. And shows it."
   ]
  },
  {
   "cell_type": "code",
   "execution_count": 14,
   "id": "afbc857a",
   "metadata": {},
   "outputs": [
    {
     "name": "stderr",
     "output_type": "stream",
     "text": [
      "                                                                                \r"
     ]
    },
    {
     "name": "stdout",
     "output_type": "stream",
     "text": [
      "+-----+---+\n",
      "|   _1| _2|\n",
      "+-----+---+\n",
      "|Alice| 25|\n",
      "|  Bob| 30|\n",
      "|Cathy| 35|\n",
      "+-----+---+\n",
      "\n"
     ]
    }
   ],
   "source": [
    "df = spark_session.createDataFrame(\n",
    "    data=[(\"Alice\", 25), (\"Bob\", 30), (\"Cathy\", 35)]\n",
    ")\n",
    "df.show()"
   ]
  },
  {
   "cell_type": "markdown",
   "id": "814e085c",
   "metadata": {},
   "source": [
    "The following cell shows an alternative way to define the same data frame. Each row here is represented as a dictionary, and the values are specified under the keys, which correesponds to the column names."
   ]
  },
  {
   "cell_type": "code",
   "execution_count": 16,
   "id": "4a830849",
   "metadata": {},
   "outputs": [
    {
     "name": "stdout",
     "output_type": "stream",
     "text": [
      "+---+-----+\n",
      "|age| name|\n",
      "+---+-----+\n",
      "| 25|Alice|\n",
      "| 30|  Bob|\n",
      "| 35|Cathy|\n",
      "+---+-----+\n",
      "\n"
     ]
    }
   ],
   "source": [
    "df = spark_session.createDataFrame(\n",
    "    data=[\n",
    "        {\"name\": \"Alice\", \"age\": 25},\n",
    "        {\"name\": \"Bob\", \"age\": 30},\n",
    "        {\"name\": \"Cathy\", \"age\": 35}\n",
    "    ]\n",
    ")\n",
    "df.show()"
   ]
  },
  {
   "cell_type": "markdown",
   "id": "ed120d80",
   "metadata": {},
   "source": [
    "## Read csv\n",
    "\n",
    "Use the `read.csv` method of the spark session to read a CSV file."
   ]
  },
  {
   "cell_type": "markdown",
   "id": "30d81beb",
   "metadata": {},
   "source": [
    "---\n",
    "\n",
    "The following cell reads the `spark.csv` file that I prepared earlier."
   ]
  },
  {
   "cell_type": "code",
   "execution_count": 4,
   "id": "a644caf6",
   "metadata": {},
   "outputs": [
    {
     "data": {
      "text/plain": [
       "DataFrame[Name: string,  Age: double,  Salary: double]"
      ]
     },
     "metadata": {},
     "output_type": "display_data"
    }
   ],
   "source": [
    "spark = SparkSession.builder.appName(\"Temp\").getOrCreate()\n",
    "df = spark.read.csv(\n",
    "    \"spark_files/scv_example.csv\",\n",
    "    header=True,\n",
    "    inferSchema=True,\n",
    "    multiLine=True,\n",
    "    escape=','\n",
    ")\n",
    "display(df)"
   ]
  },
  {
   "cell_type": "markdown",
   "id": "545aa92e",
   "metadata": {},
   "source": [
    "### Shcema\n",
    "\n",
    "Use the `schema` argument to define the schema. The schema can be specified as a simple string that matches column names with their expected data types."
   ]
  },
  {
   "cell_type": "markdown",
   "id": "e0031097",
   "metadata": {},
   "source": [
    "---\n",
    "\n",
    "The following cell shows the matching of the `int` data type to the `Age` column instead of the default `double` data type."
   ]
  },
  {
   "cell_type": "code",
   "execution_count": 10,
   "id": "3e25a5bf",
   "metadata": {},
   "outputs": [
    {
     "data": {
      "text/plain": [
       "DataFrame[Name: string, Age: int, Salary: double]"
      ]
     },
     "execution_count": 10,
     "metadata": {},
     "output_type": "execute_result"
    }
   ],
   "source": [
    "schema = \"\"\"\n",
    "Name string,\n",
    "Age int,\n",
    "Salary double\n",
    "\"\"\"\n",
    "\n",
    "spark.read.csv(\n",
    "    \"spark_files/scv_example.csv\",\n",
    "    schema=schema\n",
    ")"
   ]
  },
  {
   "cell_type": "markdown",
   "id": "1ea257ea",
   "metadata": {},
   "source": [
    "## Columns\n",
    "\n",
    "Data frame consists of a set of columns. There are two concepts important to know for refering the columns:\n",
    "\n",
    "- There are corresponding attibute of the data frame.\n",
    "- The `pyspark.sql.functions.col` allows you to define a reference to a column, when applied to a particular dataset, will be interpreted as a specific column in that dataset.\n",
    "\n",
    "Spark uses these references to the columns when performing operations like: `withColumn` and `filter`."
   ]
  },
  {
   "cell_type": "markdown",
   "id": "76726723",
   "metadata": {},
   "source": [
    "---\n",
    "\n",
    "The following cell defines the data frame that will be used as an example."
   ]
  },
  {
   "cell_type": "code",
   "execution_count": 45,
   "id": "db655689",
   "metadata": {},
   "outputs": [
    {
     "name": "stdout",
     "output_type": "stream",
     "text": [
      "+-------+-------+\n",
      "|column1|column2|\n",
      "+-------+-------+\n",
      "|      8|     20|\n",
      "|      9|     43|\n",
      "|     15|     88|\n",
      "+-------+-------+\n",
      "\n"
     ]
    }
   ],
   "source": [
    "test_df = spark_session.createDataFrame(\n",
    "    data=[\n",
    "        (8, 20),\n",
    "        (9, 43),\n",
    "        (15, 88)\n",
    "    ],\n",
    "    schema=[\"column1\", \"column2\"]\n",
    ")\n",
    "test_df.show()"
   ]
  },
  {
   "cell_type": "markdown",
   "id": "5911232d",
   "metadata": {},
   "source": [
    "The following cell apply the `filter` with the condition specified using a direct reference to the `test_df.column1`."
   ]
  },
  {
   "cell_type": "code",
   "execution_count": 49,
   "id": "4ebcd675",
   "metadata": {},
   "outputs": [
    {
     "name": "stdout",
     "output_type": "stream",
     "text": [
      "<class 'pyspark.sql.classic.column.Column'>\n",
      "+-------+-------+\n",
      "|column1|column2|\n",
      "+-------+-------+\n",
      "|     15|     88|\n",
      "+-------+-------+\n",
      "\n"
     ]
    }
   ],
   "source": [
    "condition = (test_df.column1 > 10)\n",
    "print(type(condition))\n",
    "test_df.filter(condition=condition).show()"
   ]
  },
  {
   "cell_type": "markdown",
   "id": "1b5eab8c",
   "metadata": {},
   "source": [
    "Alternatively, the next cell specifies the `calculation` using the abstract `column2`. However, the `withColumn` function of the `test_df` interprets it as a reference to `column2` it contains."
   ]
  },
  {
   "cell_type": "code",
   "execution_count": null,
   "id": "3039550c",
   "metadata": {},
   "outputs": [
    {
     "name": "stdout",
     "output_type": "stream",
     "text": [
      "+-------+-------+------+\n",
      "|column1|column2|result|\n",
      "+-------+-------+------+\n",
      "|      8|     20|    28|\n",
      "|      9|     43|    51|\n",
      "|     15|     88|    96|\n",
      "+-------+-------+------+\n",
      "\n"
     ]
    }
   ],
   "source": [
    "calculation = col(\"column2\") + 8\n",
    "test_df.withColumn(\"result\", calculation).show()"
   ]
  },
  {
   "cell_type": "markdown",
   "id": "348f1216",
   "metadata": {},
   "source": [
    "## Computations\n",
    "\n",
    "The dataframe object provides a `withColumn` method to operate with columns. You are supposed to provide:\n",
    "- The name of the column in which the result should be srored. If the column doesn't exists, it will be created in output dataframe.\n",
    "- The column object or computational expression that defines the new column."
   ]
  },
  {
   "cell_type": "markdown",
   "id": "5f4689df",
   "metadata": {},
   "source": [
    "---\n",
    "\n",
    "The following cell creates the data frame that we will use for our experiments."
   ]
  },
  {
   "cell_type": "code",
   "execution_count": 28,
   "id": "625ae5a6",
   "metadata": {},
   "outputs": [
    {
     "name": "stdout",
     "output_type": "stream",
     "text": [
      "+-------+-------+\n",
      "|numbers|strings|\n",
      "+-------+-------+\n",
      "|      8| value1|\n",
      "|      9| value2|\n",
      "+-------+-------+\n",
      "\n"
     ]
    }
   ],
   "source": [
    "test_df = spark_session.createDataFrame(\n",
    "    data=[\n",
    "        (8, \"value1\"),\n",
    "        (9, \"value2\")\n",
    "    ],\n",
    "    schema=[\"numbers\", \"strings\"]\n",
    ")\n",
    "test_df.show()"
   ]
  },
  {
   "cell_type": "markdown",
   "id": "72477250",
   "metadata": {},
   "source": [
    "The following code modifies the example data frame by using `withColumn` function."
   ]
  },
  {
   "cell_type": "code",
   "execution_count": null,
   "id": "69d94d22",
   "metadata": {},
   "outputs": [
    {
     "name": "stdout",
     "output_type": "stream",
     "text": [
      "+-------+-------+\n",
      "|numbers|strings|\n",
      "+-------+-------+\n",
      "|     98| value1|\n",
      "|     99| value2|\n",
      "+-------+-------+\n",
      "\n"
     ]
    }
   ],
   "source": [
    "test_df.withColumn(\n",
    "    \"numbers\",\n",
    "    col(\"numbers\") + 90\n",
    ").show()"
   ]
  },
  {
   "cell_type": "markdown",
   "id": "10f35fab",
   "metadata": {},
   "source": [
    "## Group by\n",
    "\n",
    "The data frame contains the `groupBy` method method, which returns a special `GroupedData` object. This object contains a set of tools for building an aggregations over the data:\n",
    "\n",
    "| Method             | Description                                       |\n",
    "| ------------------ | ------------------------------------------------- |\n",
    "| `agg` | General aggregation with one or more expressions. |\n",
    "| `avg`    | Computes the average of the given columns.        |\n",
    "| `mean`   | Alias for `avg()`.                                |\n",
    "| `max`    | Maximum value for each column.                    |\n",
    "| `min`    | Minimum value for each column.                    |\n",
    "| `sum`    | Sum of values for each column.                    |\n",
    "| `count`  | Count of rows for each group.                     |\n",
    "| `pivot` | Performs a pivot (like SQL `PIVOT`) on the specified column, turning its values into new columns. |\n",
    "| `applyInPandas` | Apply a function to each group as a Pandas DataFrame and return a new DataFrame.             |\n",
    "| `apply`         | Apply a user-defined function to each group (returns an RDD, not a DataFrame — less common). |\n",
    "\n",
    "Check more details in the [`groupby`](spark/groupby.ipynb) page."
   ]
  },
  {
   "cell_type": "markdown",
   "id": "40e8df74",
   "metadata": {},
   "source": [
    "---\n",
    "\n",
    "The following cell defines an example data frame. It constructs and shows the `GroupedData` object based on it."
   ]
  },
  {
   "cell_type": "code",
   "execution_count": 66,
   "id": "8f096b1e",
   "metadata": {},
   "outputs": [
    {
     "data": {
      "text/plain": [
       "GroupedData[grouping expressions: [group], value: [group: string, value: bigint], type: GroupBy]"
      ]
     },
     "execution_count": 66,
     "metadata": {},
     "output_type": "execute_result"
    }
   ],
   "source": [
    "test_df = spark_session.createDataFrame(\n",
    "    data=[\n",
    "        (\"a\", 3),\n",
    "        (\"a\", 2),\n",
    "        (\"c\", 4),\n",
    "        (\"c\", 7)\n",
    "    ],\n",
    "    schema=['group', 'value']\n",
    ")\n",
    "\n",
    "grouped_expression = test_df.groupBy('group')\n",
    "grouped_expression"
   ]
  },
  {
   "cell_type": "markdown",
   "id": "2a79d4af",
   "metadata": {},
   "source": [
    "The following code shows how to use the `agg` function to compute the aggregations based on the groups."
   ]
  },
  {
   "cell_type": "code",
   "execution_count": 68,
   "id": "cecfb36d",
   "metadata": {},
   "outputs": [
    {
     "name": "stdout",
     "output_type": "stream",
     "text": [
      "+-----+----------+----------+----------+----------+\n",
      "|group|sum(value)|avg(value)|min(value)|max(value)|\n",
      "+-----+----------+----------+----------+----------+\n",
      "|    a|         5|       2.5|         2|         3|\n",
      "|    c|        11|       5.5|         4|         7|\n",
      "+-----+----------+----------+----------+----------+\n",
      "\n"
     ]
    }
   ],
   "source": [
    "from pyspark.sql.functions import sum, avg, min, max\n",
    "grouped_expression.agg(\n",
    "    sum('value'),\n",
    "    avg('value'),\n",
    "    min('value'),\n",
    "    max('value')\n",
    ").show()"
   ]
  }
 ],
 "metadata": {
  "kernelspec": {
   "display_name": "python",
   "language": "python",
   "name": "python3"
  },
  "language_info": {
   "codemirror_mode": {
    "name": "ipython",
    "version": 3
   },
   "file_extension": ".py",
   "mimetype": "text/x-python",
   "name": "python",
   "nbconvert_exporter": "python",
   "pygments_lexer": "ipython3",
   "version": "3.13.7"
  }
 },
 "nbformat": 4,
 "nbformat_minor": 5
}
