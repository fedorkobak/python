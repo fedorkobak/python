{
 "cells": [
  {
   "cell_type": "markdown",
   "id": "90eb301c",
   "metadata": {},
   "source": [
    "# Spark\n",
    "\n",
    "This page considers the python SDK for Spark."
   ]
  },
  {
   "cell_type": "code",
   "execution_count": 29,
   "id": "6a579cca",
   "metadata": {},
   "outputs": [],
   "source": [
    "from pyspark.sql import SparkSession\n",
    "from pyspark.sql.functions import col\n",
    "\n",
    "spark_session = SparkSession.builder.appName('Temp').getOrCreate()"
   ]
  },
  {
   "cell_type": "markdown",
   "id": "e17c7510",
   "metadata": {},
   "source": [
    "## Dataframe\n",
    "\n",
    "Spark SQL contains a DataFrame objects that provide a way to interact with tabular data.\n",
    "\n",
    "You can define a data frame: \n",
    "\n",
    "- Directly from your code using the `createDataFrame` method of the session object.\n",
    "- Using some special methods to read from external sources stored in the `read` attribute of the session."
   ]
  },
  {
   "cell_type": "markdown",
   "id": "0b8e04fd",
   "metadata": {},
   "source": [
    "---\n",
    "\n",
    "The following cell defines the Spark dataset, which is formatted so that each row is a tuple whose values correspond to each column. And shows it."
   ]
  },
  {
   "cell_type": "code",
   "execution_count": 14,
   "id": "afbc857a",
   "metadata": {},
   "outputs": [
    {
     "name": "stderr",
     "output_type": "stream",
     "text": [
      "                                                                                \r"
     ]
    },
    {
     "name": "stdout",
     "output_type": "stream",
     "text": [
      "+-----+---+\n",
      "|   _1| _2|\n",
      "+-----+---+\n",
      "|Alice| 25|\n",
      "|  Bob| 30|\n",
      "|Cathy| 35|\n",
      "+-----+---+\n",
      "\n"
     ]
    }
   ],
   "source": [
    "df = spark_session.createDataFrame(\n",
    "    data=[(\"Alice\", 25), (\"Bob\", 30), (\"Cathy\", 35)]\n",
    ")\n",
    "df.show()"
   ]
  },
  {
   "cell_type": "markdown",
   "id": "814e085c",
   "metadata": {},
   "source": [
    "The following cell shows an alternative way to define the same data frame. Each row here is represented as a dictionary, and the values are specified under the keys, which correesponds to the column names."
   ]
  },
  {
   "cell_type": "code",
   "execution_count": 16,
   "id": "4a830849",
   "metadata": {},
   "outputs": [
    {
     "name": "stdout",
     "output_type": "stream",
     "text": [
      "+---+-----+\n",
      "|age| name|\n",
      "+---+-----+\n",
      "| 25|Alice|\n",
      "| 30|  Bob|\n",
      "| 35|Cathy|\n",
      "+---+-----+\n",
      "\n"
     ]
    }
   ],
   "source": [
    "df = spark_session.createDataFrame(\n",
    "    data=[\n",
    "        {\"name\": \"Alice\", \"age\": 25},\n",
    "        {\"name\": \"Bob\", \"age\": 30},\n",
    "        {\"name\": \"Cathy\", \"age\": 35}\n",
    "    ]\n",
    ")\n",
    "df.show()"
   ]
  },
  {
   "cell_type": "markdown",
   "id": "ed120d80",
   "metadata": {},
   "source": [
    "## Read csv\n",
    "\n",
    "Use the `read.csv` method of the spark session to read a CSV file."
   ]
  },
  {
   "cell_type": "markdown",
   "id": "30d81beb",
   "metadata": {},
   "source": [
    "---\n",
    "\n",
    "The following cell reads the `spark.csv` file that I prepared earlier."
   ]
  },
  {
   "cell_type": "code",
   "execution_count": 4,
   "id": "a644caf6",
   "metadata": {},
   "outputs": [
    {
     "data": {
      "text/plain": [
       "DataFrame[Name: string,  Age: double,  Salary: double]"
      ]
     },
     "metadata": {},
     "output_type": "display_data"
    }
   ],
   "source": [
    "spark = SparkSession.builder.appName(\"Temp\").getOrCreate()\n",
    "df = spark.read.csv(\n",
    "    \"spark_files/scv_example.csv\",\n",
    "    header=True,\n",
    "    inferSchema=True,\n",
    "    multiLine=True,\n",
    "    escape=','\n",
    ")\n",
    "display(df)"
   ]
  },
  {
   "cell_type": "markdown",
   "id": "545aa92e",
   "metadata": {},
   "source": [
    "### Shcema\n",
    "\n",
    "Use the `schema` argument to define the schema. The schema can be specified as a simple string that matches column names with their expected data types."
   ]
  },
  {
   "cell_type": "markdown",
   "id": "e0031097",
   "metadata": {},
   "source": [
    "---\n",
    "\n",
    "The following cell shows the matching of the `int` data type to the `Age` column instead of the default `double` data type."
   ]
  },
  {
   "cell_type": "code",
   "execution_count": 10,
   "id": "3e25a5bf",
   "metadata": {},
   "outputs": [
    {
     "data": {
      "text/plain": [
       "DataFrame[Name: string, Age: int, Salary: double]"
      ]
     },
     "execution_count": 10,
     "metadata": {},
     "output_type": "execute_result"
    }
   ],
   "source": [
    "schema = \"\"\"\n",
    "Name string,\n",
    "Age int,\n",
    "Salary double\n",
    "\"\"\"\n",
    "\n",
    "spark.read.csv(\n",
    "    \"spark_files/scv_example.csv\",\n",
    "    schema=schema\n",
    ")"
   ]
  },
  {
   "cell_type": "markdown",
   "id": "1ea257ea",
   "metadata": {},
   "source": [
    "## Columns\n",
    "\n",
    "The dataframe object provides a `withColumn` method to operate with columns. You are supposed to provide:\n",
    "- The name of the column in which the result should be srored. If the column doesn't exists, it will be created in output dataframe.\n",
    "- The column object or computational expression that defines the new column."
   ]
  },
  {
   "cell_type": "markdown",
   "id": "5f4689df",
   "metadata": {},
   "source": [
    "---\n",
    "\n",
    "The following cell creates the data frame that we will use for our experiments."
   ]
  },
  {
   "cell_type": "code",
   "execution_count": 28,
   "id": "625ae5a6",
   "metadata": {},
   "outputs": [
    {
     "name": "stdout",
     "output_type": "stream",
     "text": [
      "+-------+-------+\n",
      "|numbers|strings|\n",
      "+-------+-------+\n",
      "|      8| value1|\n",
      "|      9| value2|\n",
      "+-------+-------+\n",
      "\n"
     ]
    }
   ],
   "source": [
    "test_df = spark_session.createDataFrame(\n",
    "    data=[\n",
    "        (8, \"value1\"),\n",
    "        (9, \"value2\")\n",
    "    ],\n",
    "    schema=[\"numbers\", \"strings\"]\n",
    ")\n",
    "test_df.show()"
   ]
  },
  {
   "cell_type": "markdown",
   "id": "72477250",
   "metadata": {},
   "source": [
    "The following code modifies the example data frame by using `withColumn` function."
   ]
  },
  {
   "cell_type": "code",
   "execution_count": 33,
   "id": "69d94d22",
   "metadata": {},
   "outputs": [
    {
     "name": "stdout",
     "output_type": "stream",
     "text": [
      "+-------+-------+\n",
      "|numbers|strings|\n",
      "+-------+-------+\n",
      "|     98| value1|\n",
      "|     99| value2|\n",
      "+-------+-------+\n",
      "\n"
     ]
    }
   ],
   "source": [
    "test_df.withColumn(\n",
    "    \"numbers\",\n",
    "    col(\"numbers\") + 90\n",
    ").show()"
   ]
  }
 ],
 "metadata": {
  "kernelspec": {
   "display_name": "python",
   "language": "python",
   "name": "python3"
  },
  "language_info": {
   "codemirror_mode": {
    "name": "ipython",
    "version": 3
   },
   "file_extension": ".py",
   "mimetype": "text/x-python",
   "name": "python",
   "nbconvert_exporter": "python",
   "pygments_lexer": "ipython3",
   "version": "3.13.7"
  }
 },
 "nbformat": 4,
 "nbformat_minor": 5
}
