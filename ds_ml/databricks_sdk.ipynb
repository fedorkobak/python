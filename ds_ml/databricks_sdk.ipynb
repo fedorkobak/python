{
 "cells": [
  {
   "cell_type": "markdown",
   "id": "86382367",
   "metadata": {},
   "source": [
    "# Databricks SDK\n",
    "\n",
    "This page considers details on working with databricks SDK."
   ]
  },
  {
   "cell_type": "markdown",
   "id": "be0b7cd2",
   "metadata": {},
   "source": [
    "## OpenAI client\n",
    "\n",
    "The method `serving_endpoints.get_open_ai_client.get_open_ai_client` returns the  `openai.OpenAI` client, which you can use to requiest some served models."
   ]
  },
  {
   "cell_type": "markdown",
   "id": "3aaaa6aa",
   "metadata": {},
   "source": [
    "---\n",
    "\n",
    "The following cell creates the `open_ai_client` and shows that it is really open ai client."
   ]
  },
  {
   "cell_type": "code",
   "execution_count": 1,
   "id": "1c8cc7e2",
   "metadata": {},
   "outputs": [
    {
     "data": {
      "text/plain": [
       "openai.OpenAI"
      ]
     },
     "execution_count": 1,
     "metadata": {},
     "output_type": "execute_result"
    }
   ],
   "source": [
    "from databricks.sdk import WorkspaceClient\n",
    "w = WorkspaceClient()\n",
    "\n",
    "open_ai_client = w.serving_endpoints.get_open_ai_client()\n",
    "type(open_ai_client)"
   ]
  },
  {
   "cell_type": "markdown",
   "id": "1024492e",
   "metadata": {},
   "source": [
    "The following cell illustrates the invocation of the embedding model."
   ]
  },
  {
   "cell_type": "code",
   "execution_count": 2,
   "id": "48166408",
   "metadata": {},
   "outputs": [
    {
     "data": {
      "text/plain": [
       "openai.types.create_embedding_response.CreateEmbeddingResponse"
      ]
     },
     "execution_count": 2,
     "metadata": {},
     "output_type": "execute_result"
    }
   ],
   "source": [
    "\n",
    "embedding = open_ai_client.embeddings.create(\n",
    "   model=\"databricks-gte-large-en\",\n",
    "   input=\"hello\"\n",
    ")\n",
    "type(embedding)"
   ]
  },
  {
   "cell_type": "markdown",
   "id": "1714f2f9",
   "metadata": {},
   "source": [
    "The result is an `openai` embedding response object."
   ]
  },
  {
   "cell_type": "code",
   "execution_count": 3,
   "id": "03059517",
   "metadata": {},
   "outputs": [
    {
     "data": {
      "text/plain": [
       "[-0.9521484375,\n",
       " -0.7998046875,\n",
       " -0.79931640625,\n",
       " -0.138427734375,\n",
       " -0.79150390625,\n",
       " -0.31787109375,\n",
       " -0.55810546875,\n",
       " 0.392333984375,\n",
       " -0.36767578125,\n",
       " 0.4013671875,\n",
       " -0.0791015625,\n",
       " -0.78515625,\n",
       " -0.4599609375,\n",
       " 0.4189453125,\n",
       " 0.418212890625,\n",
       " -0.36767578125,\n",
       " -0.587890625,\n",
       " -0.466796875,\n",
       " 0.159423828125,\n",
       " -0.359130859375]"
      ]
     },
     "execution_count": 3,
     "metadata": {},
     "output_type": "execute_result"
    }
   ],
   "source": [
    "embedding.data[0].embedding[:20]"
   ]
  },
  {
   "cell_type": "markdown",
   "id": "5f6a504b",
   "metadata": {},
   "source": [
    "## Spark session\n",
    "\n",
    "You can get a databricks session that will have access to your databricks workspace by using `databricks.connect.DatabricksSession.builder.remote().getOrCreate` method.\n",
    "\n",
    "- You cannnot create crate a `DatabricksSession` if you have a regular `pyspark` installed on your system. You must run this code from a different Python environment."
   ]
  },
  {
   "cell_type": "markdown",
   "id": "816627d2",
   "metadata": {},
   "source": [
    "---\n",
    "\n",
    "The following cell creates a Spark session that attched to the Databricks environment runned in the \"serverless\" mode."
   ]
  },
  {
   "cell_type": "code",
   "execution_count": 1,
   "id": "5861762a",
   "metadata": {},
   "outputs": [],
   "source": [
    "from databricks.connect import DatabricksSession\n",
    "spark = DatabricksSession.builder.remote(serverless=True).getOrCreate()"
   ]
  },
  {
   "cell_type": "markdown",
   "id": "ea131633",
   "metadata": {},
   "source": [
    "The following cell displays the list of the tables that are available in my Databricks workspace."
   ]
  },
  {
   "cell_type": "code",
   "execution_count": 2,
   "id": "a24a75b6",
   "metadata": {},
   "outputs": [
    {
     "name": "stdout",
     "output_type": "stream",
     "text": [
      "+--------+--------------------+-----------+\n",
      "|database|           tableName|isTemporary|\n",
      "+--------+--------------------+-----------+\n",
      "| default|  telco_churn_bronze|      false|\n",
      "| default|telco_churn_features|      false|\n",
      "+--------+--------------------+-----------+\n",
      "\n"
     ]
    }
   ],
   "source": [
    "spark.sql(\"SHOW TABLES\").show()"
   ]
  }
 ],
 "metadata": {
  "kernelspec": {
   "display_name": "databricks_connect",
   "language": "python",
   "name": "python3"
  },
  "language_info": {
   "codemirror_mode": {
    "name": "ipython",
    "version": 3
   },
   "file_extension": ".py",
   "mimetype": "text/x-python",
   "name": "python",
   "nbconvert_exporter": "python",
   "pygments_lexer": "ipython3",
   "version": "3.13.7"
  }
 },
 "nbformat": 4,
 "nbformat_minor": 5
}
