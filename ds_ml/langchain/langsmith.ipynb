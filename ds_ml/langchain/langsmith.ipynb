{
 "cells": [
  {
   "cell_type": "markdown",
   "id": "ee03efc7",
   "metadata": {},
   "source": [
    "# LangSmith\n",
    "\n",
    "Langsmith is a service that monitors and evaluates your models. It is integrated with LangChain and LangGraph, but you can generally use it with any framework you like.\n",
    "\n",
    "**Note.** Langsmith is closed-source proprietary roject. It provides some free to use features.\n",
    "\n",
    "Check example for [tracing exatly LangChain](https://docs.langchain.com/langsmith/trace-with-langchain)."
   ]
  },
  {
   "cell_type": "markdown",
   "id": "4aeaf519",
   "metadata": {},
   "source": [
    "## Setup\n",
    "\n",
    "Before importing langchain you're supposed to set variables:\n",
    "\n",
    "- `LANGSMITH_TRACING=true`.\n",
    "- `LANGSMITH_API_KEY=<your API key>`.\n",
    "\n",
    "If your API key has access to multiple workspaces, set `LANGSMITH_WORKSPACE_ID`.\n",
    "\n",
    "Define the porject that is suppposed to be used with variable `LANGSMITH_PROJECT`."
   ]
  },
  {
   "cell_type": "markdown",
   "id": "116e7e3c",
   "metadata": {},
   "source": [
    "---\n",
    "\n",
    "Run the following cell:"
   ]
  },
  {
   "cell_type": "code",
   "execution_count": 2,
   "id": "f26faa6d",
   "metadata": {},
   "outputs": [
    {
     "name": "stdout",
     "output_type": "stream",
     "text": [
      "The last name of Vlad is Smith.\n"
     ]
    }
   ],
   "source": [
    "from langchain_ollama import ChatOllama\n",
    "from langchain_core.prompts import ChatPromptTemplate\n",
    "from langchain_core.output_parsers import StrOutputParser\n",
    "\n",
    "prompt = ChatPromptTemplate.from_messages([\n",
    "    (\"system\", \"You are a helpful assistant. Please respond to the user's request only based on the given context.\"),\n",
    "    (\"user\", \"Question: {question}\\nContext: {context}\")\n",
    "])\n",
    "\n",
    "model = ChatOllama(model=\"qwen2:0.5b\")\n",
    "output_parser = StrOutputParser()\n",
    "chain = prompt | model | output_parser\n",
    "\n",
    "question = \"What is the last name of Vlad\"\n",
    "context = \"Vlad Smith, Andrew Gather\"\n",
    "\n",
    "ans = chain.invoke({\"question\": question, \"context\": context})\n",
    "print(ans)"
   ]
  },
  {
   "cell_type": "markdown",
   "id": "ecf51d23",
   "metadata": {},
   "source": [
    "A new run associated with this code should appear in your \"default\" project."
   ]
  },
  {
   "cell_type": "markdown",
   "id": "cc88a65a",
   "metadata": {},
   "source": [
    "## Traceble\n",
    "\n",
    "You can trace to the langsmith calls of an arbitrary function by wrapping it in the `@traceble` decorator."
   ]
  },
  {
   "cell_type": "markdown",
   "id": "33b6e17b",
   "metadata": {},
   "source": [
    "---\n",
    "\n",
    "The following cell defines the `some_super_function` wrapped with `@traceble`."
   ]
  },
  {
   "cell_type": "code",
   "execution_count": 11,
   "id": "08ee5f82",
   "metadata": {},
   "outputs": [],
   "source": [
    "from langsmith import traceable\n",
    "\n",
    "@traceable\n",
    "def some_super_function(a: str, b: str) -> dict[str, str | dict]:\n",
    "    return {\n",
    "        b: a,\n",
    "        \"inner info\": {\"this\": \"is information\"}\n",
    "    }"
   ]
  },
  {
   "cell_type": "markdown",
   "id": "68aa05d3",
   "metadata": {},
   "source": [
    "Running the following cell generates a message in Langsmith that contains the input and output values of the call."
   ]
  },
  {
   "cell_type": "code",
   "execution_count": 10,
   "id": "4100e104",
   "metadata": {},
   "outputs": [
    {
     "data": {
      "text/plain": [
       "{40: 20, 'inner info': {'this': 'is information'}}"
      ]
     },
     "execution_count": 10,
     "metadata": {},
     "output_type": "execute_result"
    }
   ],
   "source": [
    "some_super_function(20, 40)"
   ]
  },
  {
   "cell_type": "markdown",
   "id": "0e2fd5fe",
   "metadata": {},
   "source": [
    "## Datasets\n",
    "\n",
    "LangSmith allows you to define datasets. These datasets can be created and edited from the LangSmith GUI or from python code."
   ]
  },
  {
   "cell_type": "markdown",
   "id": "55bd61ee",
   "metadata": {},
   "source": [
    "---\n",
    "\n",
    "The following code demonstrates how to create a dataset and push some samples to it."
   ]
  },
  {
   "cell_type": "code",
   "execution_count": 12,
   "id": "52c5a5bc",
   "metadata": {},
   "outputs": [
    {
     "data": {
      "text/plain": [
       "{'example_ids': ['678d0c77-7dca-4d3c-8485-493bfbd16c7b',\n",
       "  'd478a242-b452-4cff-a84a-bb709f7b9cfc',\n",
       "  '10b0f183-9dcf-499a-a4ee-9d427c64c460'],\n",
       " 'count': 3}"
      ]
     },
     "execution_count": 12,
     "metadata": {},
     "output_type": "execute_result"
    }
   ],
   "source": [
    "from langsmith import Client\n",
    "\n",
    "client = Client()\n",
    "\n",
    "examples = [\n",
    "    {\n",
    "        \"inputs\": {\"question\": \"Hello, how are you?\"},\n",
    "        \"outputs\": {\"answer\": \"I'm fine and you.\"},\n",
    "    },\n",
    "    {\n",
    "        \"inputs\": {\"question\": \"What is the capital of France?\"},\n",
    "        \"outputs\": {\"answer\": \"Paris is the capital of France\"},\n",
    "    },\n",
    "    {\n",
    "        \"inputs\": {\"question\": \"Hi my name is Fedor\"},\n",
    "        \"outputs\": {\"answer\": \"I'm some usefull LLM\"},\n",
    "    },\n",
    "]\n",
    "\n",
    "dataset_name = \"Example dataset\"\n",
    "dataset = client.create_dataset(dataset_name=dataset_name)\n",
    "client.create_examples(\n",
    "    dataset_id=dataset.id,\n",
    "    examples=examples\n",
    ")"
   ]
  }
 ],
 "metadata": {
  "kernelspec": {
   "display_name": "python",
   "language": "python",
   "name": "python3"
  },
  "language_info": {
   "codemirror_mode": {
    "name": "ipython",
    "version": 3
   },
   "file_extension": ".py",
   "mimetype": "text/x-python",
   "name": "python",
   "nbconvert_exporter": "python",
   "pygments_lexer": "ipython3",
   "version": "3.13.7"
  }
 },
 "nbformat": 4,
 "nbformat_minor": 5
}
