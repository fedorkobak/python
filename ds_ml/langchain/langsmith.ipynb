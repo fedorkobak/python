{
 "cells": [
  {
   "cell_type": "markdown",
   "id": "ee03efc7",
   "metadata": {},
   "source": [
    "# LangSmith\n",
    "\n",
    "Langsmith is a service that monitors and evaluates your models. It is integrated with LangChain and LangGraph, but you can generally use it with any framework you like.\n",
    "\n",
    "**Note.** Langsmith is closed-source proprietary roject. It provides some free to use features."
   ]
  },
  {
   "cell_type": "markdown",
   "id": "4aeaf519",
   "metadata": {},
   "source": [
    "## Setup\n",
    "\n",
    "Before importing langchain you're supposed to set variables:\n",
    "\n",
    "- `LANGSMITH_TRACING=true`.\n",
    "- `LANGSMITH_API_KEY=<your API key>`.\n",
    "\n",
    "If your API key has access to multiple workspaces, set `LANGSMITH_WORKSPACE_ID`.\n",
    "\n",
    "Define the porject that is suppposed to be used with variable `LANGSMITH_PROJECT`."
   ]
  },
  {
   "cell_type": "markdown",
   "id": "116e7e3c",
   "metadata": {},
   "source": [
    "---\n",
    "\n",
    "Run the following cell:"
   ]
  },
  {
   "cell_type": "code",
   "execution_count": 2,
   "id": "f26faa6d",
   "metadata": {},
   "outputs": [
    {
     "name": "stdout",
     "output_type": "stream",
     "text": [
      "The last name of Vlad is Smith.\n"
     ]
    }
   ],
   "source": [
    "from langchain_ollama import ChatOllama\n",
    "from langchain_core.prompts import ChatPromptTemplate\n",
    "from langchain_core.output_parsers import StrOutputParser\n",
    "\n",
    "prompt = ChatPromptTemplate.from_messages([\n",
    "    (\"system\", \"You are a helpful assistant. Please respond to the user's request only based on the given context.\"),\n",
    "    (\"user\", \"Question: {question}\\nContext: {context}\")\n",
    "])\n",
    "\n",
    "model = ChatOllama(model=\"qwen2:0.5b\")\n",
    "output_parser = StrOutputParser()\n",
    "chain = prompt | model | output_parser\n",
    "\n",
    "question = \"What is the last name of Vlad\"\n",
    "context = \"Vlad Smith, Andrew Gather\"\n",
    "\n",
    "ans = chain.invoke({\"question\": question, \"context\": context})\n",
    "print(ans)"
   ]
  },
  {
   "cell_type": "markdown",
   "id": "ecf51d23",
   "metadata": {},
   "source": [
    "A new run associated with this code should appear in your \"default\" project."
   ]
  }
 ],
 "metadata": {
  "kernelspec": {
   "display_name": "python",
   "language": "python",
   "name": "python3"
  },
  "language_info": {
   "codemirror_mode": {
    "name": "ipython",
    "version": 3
   },
   "file_extension": ".py",
   "mimetype": "text/x-python",
   "name": "python",
   "nbconvert_exporter": "python",
   "pygments_lexer": "ipython3",
   "version": "3.13.7"
  }
 },
 "nbformat": 4,
 "nbformat_minor": 5
}
