{
 "cells": [
  {
   "cell_type": "markdown",
   "id": "ea1a4aa9",
   "metadata": {},
   "source": [
    "# Hub\n",
    "\n",
    "\n",
    "Hugging Face provides the `huggingface_hub` Python package, which offers tools for storing and managing models, as well as for using third-party models. It allows you to download models from the Hub and make requests to inference APIs deployed on Hugging Face’s infrastructure."
   ]
  },
  {
   "cell_type": "code",
   "execution_count": 15,
   "id": "5530700a",
   "metadata": {},
   "outputs": [],
   "source": [
    "from huggingface_hub import InferenceClient"
   ]
  },
  {
   "cell_type": "markdown",
   "id": "265d5e2f",
   "metadata": {},
   "source": [
    "## Inference client\n",
    "\n",
    "The `huggingface_hub` package provides an `InferenceClient` interface, which is a unified object to access different models launched in the hub infrastructure. This section discusses how the object can be used.\n",
    "\n",
    "For details:\n",
    "\n",
    "- [Inference Client](https://huggingface.co/docs/huggingface_hub/package_reference/inference_client#huggingface_hub.InferenceClient) section of the API reference.\n",
    "- [Run inference on servers](https://huggingface.co/docs/huggingface_hub/guides/inference) tutorial."
   ]
  },
  {
   "cell_type": "markdown",
   "id": "ebfde3aa",
   "metadata": {},
   "source": [
    "---\n",
    "\n",
    "The following cell uses the `huggingface_hub.InferenceClient` to request model inference provided by the hub. \n",
    "\n",
    "**Note**: You should have your hugging face token in the `$HF_TOKEN` environment variable. This token should have access to the inferences requests."
   ]
  },
  {
   "cell_type": "markdown",
   "id": "b0e3775c",
   "metadata": {},
   "source": [
    "### Chat completion\n",
    "\n",
    "The `InferenceClient.chat_completion` method completes a chat - in the `messages` have to be provided the chat history, it returns the next response.\n",
    "\n",
    "In the messages, you should specify the message and the **role** that provided the message, according to the chat that is supposed to be completed. Roles depends on the model you're using but the common options are:\n",
    "\n",
    "- `user`: client that asks a model to do something.\n",
    "- `assistant`: answer of a model.\n",
    "- `system`: system prompt that regulates the model's general behaviour."
   ]
  },
  {
   "cell_type": "markdown",
   "id": "aec80e3f",
   "metadata": {},
   "source": [
    "---\n",
    "\n",
    "The following cell shows how it supposed to be used."
   ]
  },
  {
   "cell_type": "code",
   "execution_count": null,
   "id": "53039a23",
   "metadata": {},
   "outputs": [
    {
     "name": "stdout",
     "output_type": "stream",
     "text": [
      "The best answer is Canberra\n"
     ]
    }
   ],
   "source": [
    "client = InferenceClient(model=\"meta-llama/Llama-4-Scout-17B-16E-Instruct\")\n",
    "\n",
    "output = client.chat_completion(\n",
    "    messages=[\n",
    "        {\"role\": \"user\", \"content\": \"The capital of Australia is\"},\n",
    "    ],\n",
    "    stream=False,\n",
    "    max_tokens=20,\n",
    ")\n",
    "print(output.choices[0].message.content)\n"
   ]
  },
  {
   "cell_type": "markdown",
   "id": "03faa70e",
   "metadata": {},
   "source": [
    "**Note.** In some tutorials `client.chat.completions.create` is used instead. They appear to have the same output."
   ]
  },
  {
   "cell_type": "code",
   "execution_count": 13,
   "id": "2245fcc6",
   "metadata": {},
   "outputs": [
    {
     "name": "stdout",
     "output_type": "stream",
     "text": [
      "The best answer is Canberra\n"
     ]
    }
   ],
   "source": [
    "output = client.chat.completions.create(\n",
    "    messages=[\n",
    "        {\"role\": \"user\", \"content\": \"The capital of Australia is\"},\n",
    "    ],\n",
    "    stream=False,\n",
    "    max_tokens=20,\n",
    ")\n",
    "\n",
    "print(output.choices[0].message.content)"
   ]
  }
 ],
 "metadata": {
  "kernelspec": {
   "display_name": "python (3.13.5)",
   "language": "python",
   "name": "python3"
  },
  "language_info": {
   "codemirror_mode": {
    "name": "ipython",
    "version": 3
   },
   "file_extension": ".py",
   "mimetype": "text/x-python",
   "name": "python",
   "nbconvert_exporter": "python",
   "pygments_lexer": "ipython3",
   "version": "3.13.5"
  }
 },
 "nbformat": 4,
 "nbformat_minor": 5
}
