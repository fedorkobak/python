{
 "cells": [
  {
   "cell_type": "markdown",
   "id": "408b1fd7",
   "metadata": {},
   "source": [
    "# Optuna\n",
    "\n",
    "Optuna is a framework that allows to finds optimal parameters for a given function. Its primary function is hyperparameter optimization for the machine learning models.\n",
    "\n",
    "Optuna uses the following **terminology** for its objects:\n",
    "\n",
    "- **Trial** is a signle call of the objective function.\n",
    "- **Study** is an optimization session, which is a collection of trials.\n",
    "- **Parameter** is a variable whose value is to be optimized, which is typically the loss or accuracy of the model."
   ]
  }
 ],
 "metadata": {
  "kernelspec": {
   "display_name": "python",
   "language": "python",
   "name": "python3"
  },
  "language_info": {
   "name": "python",
   "version": "3.13.7"
  }
 },
 "nbformat": 4,
 "nbformat_minor": 5
}
