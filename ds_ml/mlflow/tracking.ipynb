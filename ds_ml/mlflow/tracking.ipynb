{
 "cells": [
  {
   "cell_type": "markdown",
   "id": "21538ceb",
   "metadata": {},
   "source": [
    "# Tracking\n",
    "\n",
    "This page discusses the MLFlow component responsible for tracking - monitoring of the various attempts to train a model."
   ]
  },
  {
   "cell_type": "code",
   "execution_count": 2,
   "id": "9a7d91b2",
   "metadata": {},
   "outputs": [],
   "source": [
    "import mlflow\n",
    "import numpy as np\n",
    "\n",
    "import mlflow.models\n",
    "import mlflow.sklearn\n",
    "from mlflow.tracking import MlflowClient\n",
    "\n",
    "from sklearn.linear_model import LinearRegression\n",
    "\n",
    "\n",
    "client = MlflowClient()\n",
    "mlflow.set_tracking_uri(\"file:///tmp/tracking_examples\")"
   ]
  },
  {
   "cell_type": "markdown",
   "id": "6ed0d6b8",
   "metadata": {},
   "source": [
    "## Tags\n",
    "\n",
    "Tags are key-value pairs used to systematize runs in MLflow. You can consider them as the properties of the run.\n",
    "\n",
    "There are **system tags** that are defined by mlflow. These tags are listed in [System Tags Reference](https://mlflow.org/docs/latest/ml/tracking/tracking-api/#system-tags-reference) section of the official documentation.\n",
    "\n",
    "Technically, you can set or change tags using:\n",
    "\n",
    "- `mlflow.set_tag(<name>, <value>)`: for setting a single tag.\n",
    "- `mlflow.set_tags(<dict>)`: for setting a set of tags with a single call."
   ]
  },
  {
   "cell_type": "markdown",
   "id": "ca036a32",
   "metadata": {},
   "source": [
    "---\n",
    "\n",
    "The following cell shows a run and how tags can be applied to it."
   ]
  },
  {
   "cell_type": "code",
   "execution_count": null,
   "id": "23845fb1",
   "metadata": {},
   "outputs": [
    {
     "name": "stderr",
     "output_type": "stream",
     "text": [
      "2025/08/10 16:12:37 INFO mlflow.tracking.fluent: Experiment with name 'tags_experiment' does not exist. Creating a new experiment.\n"
     ]
    },
    {
     "name": "stdout",
     "output_type": "stream",
     "text": [
      "🏃 View run likeable-sloth-308 at: http://localhost:5000/#/experiments/191345348810661561/runs/5c666b98b09349018ffa2d0c3061b080\n",
      "🧪 View experiment at: http://localhost:5000/#/experiments/191345348810661561\n"
     ]
    }
   ],
   "source": [
    "mlflow.set_experiment(\"tags_experiment\")\n",
    "with mlflow.start_run():\n",
    "    mlflow.set_tag(\"single tag\", \"value for single tag\")\n",
    "\n",
    "    mlflow.set_tags({\n",
    "        \"tag1\": \"value1\",\n",
    "        \"tag2\": \"value2\"\n",
    "    })"
   ]
  },
  {
   "cell_type": "markdown",
   "id": "67fc22aa",
   "metadata": {},
   "source": [
    "The following cell searches for the previously created run. The specified `tag1`, `tag2` and `single_tag` are in the same line with, for example, `tags.mlflow.runName`, because at the storage level this information has the same status."
   ]
  },
  {
   "cell_type": "code",
   "execution_count": 5,
   "id": "d3069485",
   "metadata": {},
   "outputs": [
    {
     "data": {
      "text/html": [
       "<div>\n",
       "<style scoped>\n",
       "    .dataframe tbody tr th:only-of-type {\n",
       "        vertical-align: middle;\n",
       "    }\n",
       "\n",
       "    .dataframe tbody tr th {\n",
       "        vertical-align: top;\n",
       "    }\n",
       "\n",
       "    .dataframe thead th {\n",
       "        text-align: right;\n",
       "    }\n",
       "</style>\n",
       "<table border=\"1\" class=\"dataframe\">\n",
       "  <thead>\n",
       "    <tr style=\"text-align: right;\">\n",
       "      <th></th>\n",
       "      <th>run_id</th>\n",
       "      <th>experiment_id</th>\n",
       "      <th>status</th>\n",
       "      <th>artifact_uri</th>\n",
       "      <th>start_time</th>\n",
       "      <th>end_time</th>\n",
       "      <th>tags.mlflow.runName</th>\n",
       "      <th>tags.mlflow.source.type</th>\n",
       "      <th>tags.tag1</th>\n",
       "      <th>tags.mlflow.source.name</th>\n",
       "      <th>tags.tag2</th>\n",
       "      <th>tags.single tag</th>\n",
       "      <th>tags.mlflow.user</th>\n",
       "    </tr>\n",
       "  </thead>\n",
       "  <tbody>\n",
       "    <tr>\n",
       "      <th>0</th>\n",
       "      <td>5c666b98b09349018ffa2d0c3061b080</td>\n",
       "      <td>191345348810661561</td>\n",
       "      <td>FINISHED</td>\n",
       "      <td>mlflow-artifacts:/191345348810661561/5c666b98b...</td>\n",
       "      <td>2025-08-10 13:12:37.702000+00:00</td>\n",
       "      <td>2025-08-10 13:12:37.719000+00:00</td>\n",
       "      <td>likeable-sloth-308</td>\n",
       "      <td>LOCAL</td>\n",
       "      <td>value1</td>\n",
       "      <td>/home/fedor/.virtualenvironments/python/lib/py...</td>\n",
       "      <td>value2</td>\n",
       "      <td>value for single tag</td>\n",
       "      <td>fedor</td>\n",
       "    </tr>\n",
       "  </tbody>\n",
       "</table>\n",
       "</div>"
      ],
      "text/plain": [
       "                             run_id       experiment_id    status  \\\n",
       "0  5c666b98b09349018ffa2d0c3061b080  191345348810661561  FINISHED   \n",
       "\n",
       "                                        artifact_uri  \\\n",
       "0  mlflow-artifacts:/191345348810661561/5c666b98b...   \n",
       "\n",
       "                        start_time                         end_time  \\\n",
       "0 2025-08-10 13:12:37.702000+00:00 2025-08-10 13:12:37.719000+00:00   \n",
       "\n",
       "  tags.mlflow.runName tags.mlflow.source.type tags.tag1  \\\n",
       "0  likeable-sloth-308                   LOCAL    value1   \n",
       "\n",
       "                             tags.mlflow.source.name tags.tag2  \\\n",
       "0  /home/fedor/.virtualenvironments/python/lib/py...    value2   \n",
       "\n",
       "        tags.single tag tags.mlflow.user  \n",
       "0  value for single tag            fedor  "
      ]
     },
     "execution_count": 5,
     "metadata": {},
     "output_type": "execute_result"
    }
   ],
   "source": [
    "id = mlflow.get_experiment_by_name(\"tags_experiment\").experiment_id\n",
    "mlflow.search_runs(experiment_ids=id)"
   ]
  },
  {
   "cell_type": "markdown",
   "id": "de6babe2",
   "metadata": {},
   "source": [
    "## Experiment\n",
    "\n",
    "An experiment is a set of runs with different parameters for the same model. There are a few functions to manage the runs with very transparent names:\n",
    "\n",
    "- `mlflow.create_experiment`.\n",
    "- `mlflow.set_experiment`."
   ]
  },
  {
   "cell_type": "markdown",
   "id": "3cec3496",
   "metadata": {},
   "source": [
    "---\n",
    "\n",
    "The following cell sets the \"some experiment\"."
   ]
  },
  {
   "cell_type": "code",
   "execution_count": 3,
   "id": "93cf263f",
   "metadata": {},
   "outputs": [
    {
     "data": {
      "text/plain": [
       "<Experiment: artifact_location='mlflow-artifacts:/316075063118674621', creation_time=1754732470778, experiment_id='316075063118674621', last_update_time=1754732470778, lifecycle_stage='active', name='some experiment', tags={}>"
      ]
     },
     "execution_count": 3,
     "metadata": {},
     "output_type": "execute_result"
    }
   ],
   "source": [
    "experiment = mlflow.set_experiment(\"some experiment\")\n",
    "experiment"
   ]
  },
  {
   "cell_type": "markdown",
   "id": "639034be",
   "metadata": {},
   "source": [
    "Based on the log message, you can see that \"some experiment\" was created during the `set_experiment` call."
   ]
  },
  {
   "cell_type": "markdown",
   "id": "ccfa8c85",
   "metadata": {},
   "source": [
    "### Experiment object\n",
    "\n",
    "There is an object that describes an experiment in mlflow. It has the type `mlflow.entities.experiment.Experiment`.\n",
    "\n",
    "You can access the experiment objects in several cases:\n",
    "\n",
    "- `mlflow.set_experiment`: returns the experiment that is active now.\n",
    "- `mlflow.get_experiment`: returns the experiment with the specified id.\n",
    "- `mlflow.get_experiment_by_name`: returns the experiment with the specified name."
   ]
  },
  {
   "cell_type": "markdown",
   "id": "b0245850",
   "metadata": {},
   "source": [
    "---\n",
    "\n",
    "The following cell shows the attributes of an experiment."
   ]
  },
  {
   "cell_type": "code",
   "execution_count": null,
   "id": "fa5e577c",
   "metadata": {},
   "outputs": [
    {
     "name": "stdout",
     "output_type": "stream",
     "text": [
      "mlflow-artifacts:/316075063118674621\n",
      "1754732470778\n",
      "316075063118674621\n",
      "1754732470778\n",
      "active\n",
      "some experiment\n"
     ]
    }
   ],
   "source": [
    "experiment = mlflow.set_experiment(\"some experiment\")\n",
    "print(\n",
    "    experiment.artifact_location,\n",
    "    experiment.creation_time,\n",
    "    experiment.experiment_id,\n",
    "    experiment.last_update_time,\n",
    "    experiment.lifecycle_stage,\n",
    "    experiment.name,\n",
    "    sep=\"\\n\"\n",
    ")"
   ]
  },
  {
   "cell_type": "markdown",
   "id": "e74b44b0",
   "metadata": {},
   "source": [
    "### Current experiment\n",
    "\n",
    "There is no special tool to get information about the experiment that is active in mlflow right now. The only option that is available now is to start a run and load information from it, using the `run.info.experiment_id` attributes to get the id of the experiment and the `mlflow.get_experiment` function to load the other information about the experiment."
   ]
  },
  {
   "cell_type": "markdown",
   "id": "5fe0a564",
   "metadata": {},
   "source": [
    "---\n",
    "\n",
    "The following cell shows how information about the currently used experiment can be loaded using the `experiment_id` that the run keeps."
   ]
  },
  {
   "cell_type": "code",
   "execution_count": 2,
   "id": "cc234447",
   "metadata": {},
   "outputs": [
    {
     "name": "stdout",
     "output_type": "stream",
     "text": [
      "Experiment ID: 0\n",
      "Experiment name: Default\n",
      "🏃 View run secretive-horse-172 at: http://localhost:5000/#/experiments/0/runs/85fd8830eb3a435fbc84142f9083719c\n",
      "🧪 View experiment at: http://localhost:5000/#/experiments/0\n"
     ]
    }
   ],
   "source": [
    "with mlflow.start_run() as run:\n",
    "    experiment_id = run.info.experiment_id\n",
    "    print(\"Experiment ID:\", experiment_id)\n",
    "    experiment = mlflow.get_experiment(experiment_id)\n",
    "    print(\"Experiment name:\", experiment.name)"
   ]
  },
  {
   "cell_type": "markdown",
   "id": "c9bada0b",
   "metadata": {},
   "source": [
    "### Env variable\n",
    "\n",
    "You can set the experiment to be used with `MLFLOW_EXPERIMENT_NAME` environment variable."
   ]
  },
  {
   "cell_type": "markdown",
   "id": "c08c7b4d",
   "metadata": {},
   "source": [
    "---\n",
    "\n",
    "The following code sets the value `\"env experiment\"` for the `MLFLOW_EXPERIMENT_NAME` variable."
   ]
  },
  {
   "cell_type": "code",
   "execution_count": 3,
   "id": "a456e592",
   "metadata": {},
   "outputs": [],
   "source": [
    "import os\n",
    "import mlflow\n",
    "os.environ[\"MLFLOW_EXPERIMENT_NAME\"] = \"env experiment\""
   ]
  },
  {
   "cell_type": "markdown",
   "id": "c85f1bad",
   "metadata": {},
   "source": [
    "The next code, by loading information about the active run, shows that the value from the environment variable was applied."
   ]
  },
  {
   "cell_type": "code",
   "execution_count": 4,
   "id": "56836633",
   "metadata": {},
   "outputs": [
    {
     "name": "stdout",
     "output_type": "stream",
     "text": [
      "env experiment\n"
     ]
    }
   ],
   "source": [
    "with mlflow.start_run() as run:\n",
    "    name = mlflow.get_experiment(run.info.experiment_id).name\n",
    "print(name)"
   ]
  },
  {
   "cell_type": "markdown",
   "id": "c0d2ad86",
   "metadata": {},
   "source": [
    "## Run\n",
    "\n",
    "Run in mlflow refers to the execution of a machine learning experiment or a piece of code that you want to track and record. It represents a specific execution instance with associated metadata and recorded metrics, parameters, artifacts, and tags.\n",
    "\n",
    "The most usefull methods of `mflow` in roder to manipulate the runs are listted in the following table:\n",
    "\n",
    "| Method | Description |\n",
    "|--------|-------------|\n",
    "| `mlflow.start_run` | To start run |\n",
    "| `mlflow.end_run` | To end run |\n",
    "| `mlflow.delete_run` | To delete run |\n",
    "| `mlflow.search_runs` | To search for the runs |\n",
    "\n",
    "Note that one runs can be nested to the orhter - child nad parent runs.\n",
    "\n",
    "For more details check out:\n",
    "\n",
    "- [Run management](https://mlflow.org/docs/latest/ml/tracking/tracking-api/#run-management) section of the official mlflow tutorials - it describes functions to manipulate runs.\n",
    "- [Runs](tracking/runs.ipynb) page in this website."
   ]
  },
  {
   "cell_type": "markdown",
   "id": "feba56b8",
   "metadata": {},
   "source": [
    "---\n",
    "\n",
    "Run can be started with `mlflow.start_run()` and end it with `mlflow.end_run()`. By passing the `run_name` parameter to the `mlflow.start_run()` function, you can define the name of the run. The following cell demonstrates how it may be:"
   ]
  },
  {
   "cell_type": "code",
   "execution_count": 10,
   "id": "37296b66",
   "metadata": {},
   "outputs": [
    {
     "name": "stdout",
     "output_type": "stream",
     "text": [
      "🏃 View run my_run_name at: http://localhost:5000/#/experiments/0/runs/925288ded96849d38de4ab46b5f9e3e4\n",
      "🧪 View experiment at: http://localhost:5000/#/experiments/0\n"
     ]
    }
   ],
   "source": [
    "import mlflow\n",
    "\n",
    "mlflow.start_run(run_name=\"my_run_name\")\n",
    "mlflow.end_run()"
   ]
  },
  {
   "cell_type": "markdown",
   "id": "517c8085",
   "metadata": {},
   "source": [
    "**Note** it's OK to have several runs with the same name - you can think of them as different versions of the same run."
   ]
  },
  {
   "cell_type": "markdown",
   "id": "4f6e3b36",
   "metadata": {},
   "source": [
    "The most popular approach to start a run is using `mlflow.start_run` as a context manager expression. The run begins upon entering the context and ends upon exiting it.\n",
    "\n",
    "The follwoing cell shows launching an empty run using exactly context manager approach."
   ]
  },
  {
   "cell_type": "code",
   "execution_count": 18,
   "id": "0545879e",
   "metadata": {},
   "outputs": [
    {
     "name": "stdout",
     "output_type": "stream",
     "text": [
      "🏃 View run with run at: http://localhost:5000/#/experiments/101046082978810346/runs/b96f254b78f14e7ca8e19b2ec23146f9\n",
      "🧪 View experiment at: http://localhost:5000/#/experiments/101046082978810346\n"
     ]
    }
   ],
   "source": [
    "with mlflow.start_run(run_name=\"with run\"):\n",
    "    pass"
   ]
  },
  {
   "cell_type": "markdown",
   "id": "14f12eec",
   "metadata": {},
   "source": [
    "Use the `mlflow.search_runs` command to list all available runs."
   ]
  },
  {
   "cell_type": "code",
   "execution_count": 17,
   "id": "d15006f3",
   "metadata": {},
   "outputs": [
    {
     "data": {
      "text/html": [
       "<div>\n",
       "<style scoped>\n",
       "    .dataframe tbody tr th:only-of-type {\n",
       "        vertical-align: middle;\n",
       "    }\n",
       "\n",
       "    .dataframe tbody tr th {\n",
       "        vertical-align: top;\n",
       "    }\n",
       "\n",
       "    .dataframe thead th {\n",
       "        text-align: right;\n",
       "    }\n",
       "</style>\n",
       "<table border=\"1\" class=\"dataframe\">\n",
       "  <thead>\n",
       "    <tr style=\"text-align: right;\">\n",
       "      <th></th>\n",
       "      <th>run_id</th>\n",
       "      <th>experiment_id</th>\n",
       "      <th>status</th>\n",
       "      <th>artifact_uri</th>\n",
       "      <th>start_time</th>\n",
       "      <th>end_time</th>\n",
       "      <th>tags.mlflow.source.name</th>\n",
       "      <th>tags.mlflow.source.type</th>\n",
       "      <th>tags.mlflow.runName</th>\n",
       "      <th>tags.mlflow.user</th>\n",
       "    </tr>\n",
       "  </thead>\n",
       "  <tbody>\n",
       "    <tr>\n",
       "      <th>0</th>\n",
       "      <td>7ac6c477dc724ea5ad07065cdae6794e</td>\n",
       "      <td>101046082978810346</td>\n",
       "      <td>FINISHED</td>\n",
       "      <td>mlflow-artifacts:/101046082978810346/7ac6c477d...</td>\n",
       "      <td>2025-08-08 09:12:47.469000+00:00</td>\n",
       "      <td>2025-08-08 09:12:47.480000+00:00</td>\n",
       "      <td>/home/fedor/.virtualenvironments/python/lib/py...</td>\n",
       "      <td>LOCAL</td>\n",
       "      <td>with run</td>\n",
       "      <td>fedor</td>\n",
       "    </tr>\n",
       "    <tr>\n",
       "      <th>1</th>\n",
       "      <td>925288ded96849d38de4ab46b5f9e3e4</td>\n",
       "      <td>0</td>\n",
       "      <td>FINISHED</td>\n",
       "      <td>mlflow-artifacts:/0/925288ded96849d38de4ab46b5...</td>\n",
       "      <td>2025-08-08 08:46:34.027000+00:00</td>\n",
       "      <td>2025-08-08 08:46:34.041000+00:00</td>\n",
       "      <td>/home/fedor/.virtualenvironments/python/lib/py...</td>\n",
       "      <td>LOCAL</td>\n",
       "      <td>my_run_name</td>\n",
       "      <td>fedor</td>\n",
       "    </tr>\n",
       "    <tr>\n",
       "      <th>2</th>\n",
       "      <td>c243c89b84fc4c62ad756d4512d6f4ee</td>\n",
       "      <td>0</td>\n",
       "      <td>FINISHED</td>\n",
       "      <td>mlflow-artifacts:/0/c243c89b84fc4c62ad756d4512...</td>\n",
       "      <td>2025-08-08 08:41:22.880000+00:00</td>\n",
       "      <td>2025-08-08 08:44:31.008000+00:00</td>\n",
       "      <td>/home/fedor/.virtualenvironments/python/lib/py...</td>\n",
       "      <td>LOCAL</td>\n",
       "      <td>my_run_name</td>\n",
       "      <td>fedor</td>\n",
       "    </tr>\n",
       "  </tbody>\n",
       "</table>\n",
       "</div>"
      ],
      "text/plain": [
       "                             run_id  ... tags.mlflow.user\n",
       "0  7ac6c477dc724ea5ad07065cdae6794e  ...            fedor\n",
       "1  925288ded96849d38de4ab46b5f9e3e4  ...            fedor\n",
       "2  c243c89b84fc4c62ad756d4512d6f4ee  ...            fedor\n",
       "\n",
       "[3 rows x 10 columns]"
      ]
     },
     "execution_count": 17,
     "metadata": {},
     "output_type": "execute_result"
    }
   ],
   "source": [
    "mlflow.search_runs(search_all_experiments=True)"
   ]
  },
  {
   "cell_type": "markdown",
   "id": "5b92928f",
   "metadata": {},
   "source": [
    "## Log\n",
    "\n",
    "The following table represents things you can log with mlflow and their corresponding functions.\n",
    "\n",
    "| **Loggable Entity**         | **MLflow Function(s)**                                                                                                                                |\n",
    "| --------------------------- | ----------------------------------------------------------------------------------------------------------------------------------------------------- |\n",
    "| Parameters (single)         | `mlflow.log_param(key, value)`                                                                                                                        |\n",
    "| Parameters (multiple)       | `mlflow.log_params(dict_of_params)`                                                                                                                   |\n",
    "| Metrics (single)            | `mlflow.log_metric(key, value, step=None)`                                                                                                            |\n",
    "| Metrics (multiple)          | Metric logging is usually done one at a time — there's no built-in `log_metrics()`, but you can loop over a dict to call `log_metric` multiple times. |\n",
    "| Artifacts (single file)     | `mlflow.log_artifact(local_path, artifact_path=None)`                                                                                                 |\n",
    "| Artifacts (directory)       | `mlflow.log_artifacts(local_dir, artifact_path=None)`                                                                                                 |\n",
    "| Models (generic)            | `mlflow.log_model(model, artifact_path, **kwargs)`                                                                                                    |\n",
    "| Models (framework-specific) | - `mlflow.sklearn.log_model(...)`<br>- `mlflow.pytorch.log_model(...)`<br>- `mlflow.tensorflow.log_model(...)`, etc.                                  |"
   ]
  },
  {
   "cell_type": "markdown",
   "id": "e8daeb65",
   "metadata": {},
   "source": [
    "---\n",
    "\n",
    "The following code represents the procedure of model logging."
   ]
  },
  {
   "cell_type": "code",
   "execution_count": 8,
   "id": "c5016aa9",
   "metadata": {},
   "outputs": [
    {
     "name": "stdout",
     "output_type": "stream",
     "text": [
      "🏃 View run test_run at: http://localhost:5000/#/experiments/155825779609388391/runs/57a4997e6e7d4b37b4237f1254ffd2f7\n",
      "🧪 View experiment at: http://localhost:5000/#/experiments/155825779609388391\n"
     ]
    }
   ],
   "source": [
    "model = LinearRegression().fit(\n",
    "    X=np.random.normal(0, 2, size=(100, 2)),\n",
    "    y=np.random.normal(0, 20, size=100)\n",
    ")\n",
    "signature = mlflow.models.infer_signature(\n",
    "    np.random.normal(0, 2, size=(100, 2)),\n",
    "    np.random.normal(0, 20, size=100)\n",
    ")\n",
    "\n",
    "with mlflow.start_run(run_name=\"test_run\"):\n",
    "    mlflow.sklearn.log_model(model, signature=signature)"
   ]
  }
 ],
 "metadata": {
  "kernelspec": {
   "display_name": "python (3.13.5)",
   "language": "python",
   "name": "python3"
  },
  "language_info": {
   "codemirror_mode": {
    "name": "ipython",
    "version": 3
   },
   "file_extension": ".py",
   "mimetype": "text/x-python",
   "name": "python",
   "nbconvert_exporter": "python",
   "pygments_lexer": "ipython3",
   "version": "3.13.5"
  }
 },
 "nbformat": 4,
 "nbformat_minor": 5
}
