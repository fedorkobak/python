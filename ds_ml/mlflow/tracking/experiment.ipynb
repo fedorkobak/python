{
 "cells": [
  {
   "cell_type": "markdown",
   "id": "779478d1",
   "metadata": {},
   "source": [
    "# Experiment\n",
    "\n",
    "In mlflow, an experiment is a structure that contains a set of runs. Typically, comparable runs are kept in the same experiment."
   ]
  },
  {
   "cell_type": "markdown",
   "id": "db32a833",
   "metadata": {},
   "source": [
    "## Experiment object\n",
    "\n",
    "There is an object that describes an experiment in mlflow. It has the type `mlflow.entities.experiment.Experiment`.\n",
    "\n",
    "You can access the experiment objects in several cases:\n",
    "\n",
    "- `mlflow.set_experiment`: returns the experiment that is active now.\n",
    "- `mlflow.get_experiment`: returns the experiment with the specified id.\n",
    "- `mlflow.get_experiment_by_name`: returns the experiment with the specified name."
   ]
  },
  {
   "cell_type": "markdown",
   "id": "5170e780",
   "metadata": {},
   "source": [
    "---\n",
    "\n",
    "The following cell shows the attributes of an experiment."
   ]
  },
  {
   "cell_type": "code",
   "execution_count": null,
   "id": "7a1629d0",
   "metadata": {},
   "outputs": [
    {
     "name": "stdout",
     "output_type": "stream",
     "text": [
      "mlflow-artifacts:/316075063118674621\n",
      "1754732470778\n",
      "316075063118674621\n",
      "1754732470778\n",
      "active\n",
      "some experiment\n"
     ]
    }
   ],
   "source": [
    "experiment = mlflow.set_experiment(\"some experiment\")\n",
    "print(\n",
    "    experiment.artifact_location,\n",
    "    experiment.creation_time,\n",
    "    experiment.experiment_id,\n",
    "    experiment.last_update_time,\n",
    "    experiment.lifecycle_stage,\n",
    "    experiment.name,\n",
    "    sep=\"\\n\"\n",
    ")"
   ]
  },
  {
   "cell_type": "markdown",
   "id": "4d07f5c9",
   "metadata": {},
   "source": [
    "## Current experiment\n",
    "\n",
    "There is no special tool to get information about the experiment that is active in mlflow right now. The only option that is available now is to start a run and load information from it, using the `run.info.experiment_id` attributes to get the id of the experiment and the `mlflow.get_experiment` function to load the other information about the experiment."
   ]
  },
  {
   "cell_type": "markdown",
   "id": "31ec68d4",
   "metadata": {},
   "source": [
    "---\n",
    "\n",
    "The following cell shows how information about the currently used experiment can be loaded using the `experiment_id` that the run keeps."
   ]
  },
  {
   "cell_type": "code",
   "execution_count": null,
   "id": "5ad38300",
   "metadata": {},
   "outputs": [
    {
     "name": "stdout",
     "output_type": "stream",
     "text": [
      "Experiment ID: 0\n",
      "Experiment name: Default\n",
      "🏃 View run secretive-horse-172 at: http://localhost:5000/#/experiments/0/runs/85fd8830eb3a435fbc84142f9083719c\n",
      "🧪 View experiment at: http://localhost:5000/#/experiments/0\n"
     ]
    }
   ],
   "source": [
    "with mlflow.start_run() as run:\n",
    "    experiment_id = run.info.experiment_id\n",
    "    print(\"Experiment ID:\", experiment_id)\n",
    "    experiment = mlflow.get_experiment(experiment_id)\n",
    "    print(\"Experiment name:\", experiment.name)"
   ]
  },
  {
   "cell_type": "markdown",
   "id": "c4efbfe8",
   "metadata": {},
   "source": [
    "## Env variable\n",
    "\n",
    "You can set the experiment to be used with `MLFLOW_EXPERIMENT_NAME` environment variable."
   ]
  },
  {
   "cell_type": "markdown",
   "id": "7b30bf86",
   "metadata": {},
   "source": [
    "---\n",
    "\n",
    "The following code sets the value `\"env experiment\"` for the `MLFLOW_EXPERIMENT_NAME` variable."
   ]
  },
  {
   "cell_type": "code",
   "execution_count": null,
   "id": "07756824",
   "metadata": {},
   "outputs": [],
   "source": [
    "import os\n",
    "import mlflow\n",
    "os.environ[\"MLFLOW_EXPERIMENT_NAME\"] = \"env experiment\""
   ]
  },
  {
   "cell_type": "markdown",
   "id": "ff79c972",
   "metadata": {},
   "source": [
    "The next code, by loading information about the active run, shows that the value from the environment variable was applied."
   ]
  },
  {
   "cell_type": "code",
   "execution_count": null,
   "id": "2c25ff57",
   "metadata": {},
   "outputs": [
    {
     "name": "stdout",
     "output_type": "stream",
     "text": [
      "env experiment\n"
     ]
    }
   ],
   "source": [
    "with mlflow.start_run() as run:\n",
    "    name = mlflow.get_experiment(run.info.experiment_id).name\n",
    "print(name)"
   ]
  }
 ],
 "metadata": {
  "kernelspec": {
   "display_name": "python",
   "language": "python",
   "name": "python3"
  },
  "language_info": {
   "name": "python",
   "version": "3.13.7"
  }
 },
 "nbformat": 4,
 "nbformat_minor": 5
}
