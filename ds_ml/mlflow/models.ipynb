{
 "cells": [
  {
   "cell_type": "markdown",
   "id": "5682b4b4",
   "metadata": {},
   "source": [
    "# Models\n",
    "\n",
    "This page discusses details related to the MLFlow model component, which is responsible for model versioning and deployment."
   ]
  },
  {
   "cell_type": "code",
   "execution_count": 1,
   "id": "1258b726",
   "metadata": {},
   "outputs": [],
   "source": [
    "import mlflow\n",
    "import mlflow.pyfunc.utils\n",
    "\n",
    "!rm -rf /tmp/models_set_up\n",
    "mlflow.set_tracking_uri(\"file:///tmp/models_set_up\")"
   ]
  },
  {
   "cell_type": "markdown",
   "id": "4a7d3b37",
   "metadata": {},
   "source": [
    "## PyFunc\n",
    "\n",
    "The `mlflow.pyfunc` module implements the mlflow features that allow you to build flawour-agnostic models. It is ideal for highly specific approaches that don't fit within the boundaries of any popular framework."
   ]
  },
  {
   "cell_type": "markdown",
   "id": "bb2ed9a3",
   "metadata": {},
   "source": [
    "---\n",
    "\n",
    "The following cell defines the `example_model` function, which performs a computation intended to imitate a imtate model. Log it and register it in the `mlflow` registry."
   ]
  },
  {
   "cell_type": "code",
   "execution_count": 2,
   "id": "585fc20d",
   "metadata": {},
   "outputs": [
    {
     "name": "stderr",
     "output_type": "stream",
     "text": [
      "/home/user/.virtualenvironments/python/lib/python3.13/site-packages/mlflow/pyfunc/utils/data_validation.py:155: FutureWarning: Model's `predict` method contains invalid parameters: {'model_intput'}. Only the following parameter names are allowed: context, model_input, and params. Note that invalid parameters will no longer be permitted in future versions.\n",
      "  param_names = _check_func_signature(func, \"predict\")\n",
      "Successfully registered model 'pyfunc_model'.\n",
      "Created version '1' of model 'pyfunc_model'.\n"
     ]
    }
   ],
   "source": [
    "@mlflow.pyfunc.utils.pyfunc\n",
    "def example_model(model_intput: list[float]) -> list[float]:\n",
    "    return list(map(lambda x: x**2, model_intput))\n",
    "\n",
    "with mlflow.start_run():\n",
    "    mlflow.pyfunc.log_model(\n",
    "        name=\"model\",\n",
    "        python_model=example_model,\n",
    "        registered_model_name=\"pyfunc_model\",\n",
    "        pip_requirements=[]\n",
    "    )"
   ]
  },
  {
   "cell_type": "markdown",
   "id": "357bc436",
   "metadata": {},
   "source": [
    "The following cell shows the code that loads model, and uses the model."
   ]
  },
  {
   "cell_type": "code",
   "execution_count": 3,
   "id": "0686d070",
   "metadata": {},
   "outputs": [
    {
     "data": {
      "text/plain": [
       "[1.0, 4.0, 9.0]"
      ]
     },
     "execution_count": 3,
     "metadata": {},
     "output_type": "execute_result"
    }
   ],
   "source": [
    "model = mlflow.pyfunc.load_model(\"models:/pyfunc_model/1\")\n",
    "model.predict([1., 2., 3.])"
   ]
  },
  {
   "cell_type": "markdown",
   "id": "64863a11",
   "metadata": {},
   "source": [
    "The results correspond to the calculation specified in the `example_model` function."
   ]
  }
 ],
 "metadata": {
  "kernelspec": {
   "display_name": "python",
   "language": "python",
   "name": "python3"
  },
  "language_info": {
   "codemirror_mode": {
    "name": "ipython",
    "version": 3
   },
   "file_extension": ".py",
   "mimetype": "text/x-python",
   "name": "python",
   "nbconvert_exporter": "python",
   "pygments_lexer": "ipython3",
   "version": "3.13.7"
  }
 },
 "nbformat": 4,
 "nbformat_minor": 5
}
