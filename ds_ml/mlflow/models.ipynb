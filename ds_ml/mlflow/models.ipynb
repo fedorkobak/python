{
 "cells": [
  {
   "cell_type": "markdown",
   "id": "5682b4b4",
   "metadata": {},
   "source": [
    "# Models\n",
    "\n",
    "This page discusses details related to the MLFlow model component, which is responsible for model versioning and deployment.\n",
    "\n",
    "Check more in:\n",
    "\n",
    "- [MLFlow pyfunc](https://mlflow.org/docs/latest/api_reference/python_api/mlflow.pyfunc.html) page of the official documentation."
   ]
  },
  {
   "cell_type": "code",
   "execution_count": 1,
   "id": "1258b726",
   "metadata": {},
   "outputs": [],
   "source": [
    "import mlflow\n",
    "import mlflow.pyfunc.utils\n",
    "\n",
    "!rm -rf /tmp/models_set_up\n",
    "mlflow.set_tracking_uri(\"file:///tmp/models_set_up\")"
   ]
  },
  {
   "cell_type": "markdown",
   "id": "4a7d3b37",
   "metadata": {},
   "source": [
    "## PyFunc\n",
    "\n",
    "The `mlflow.pyfunc` module implements the mlflow features that allow you to build flawour-agnostic models. It is ideal for highly specific approaches that don't fit within the boundaries of any popular framework.\n",
    "\n",
    "There are two options to create model:\n",
    "\n",
    "- The funciton was wrapped in the `mlflow.pyfunc.utils.pyfunc` decorator.\n",
    "- The class is an ancestor of the `mlflow.pyfunc.PythonModel`."
   ]
  },
  {
   "cell_type": "markdown",
   "id": "bb2ed9a3",
   "metadata": {},
   "source": [
    "### Function\n",
    "\n",
    "---\n",
    "\n",
    "The following cell defines the `example_model` function, which performs a computation intended to imitate a imtate model. Log it and register it in the `mlflow` registry."
   ]
  },
  {
   "cell_type": "code",
   "execution_count": 2,
   "id": "585fc20d",
   "metadata": {},
   "outputs": [
    {
     "name": "stderr",
     "output_type": "stream",
     "text": [
      "/home/user/.virtualenvironments/python/lib/python3.13/site-packages/mlflow/pyfunc/utils/data_validation.py:155: FutureWarning: Model's `predict` method contains invalid parameters: {'model_intput'}. Only the following parameter names are allowed: context, model_input, and params. Note that invalid parameters will no longer be permitted in future versions.\n",
      "  param_names = _check_func_signature(func, \"predict\")\n",
      "Successfully registered model 'pyfunc_model'.\n",
      "Created version '1' of model 'pyfunc_model'.\n"
     ]
    }
   ],
   "source": [
    "@mlflow.pyfunc.utils.pyfunc\n",
    "def example_model(model_intput: list[float]) -> list[float]:\n",
    "    return list(map(lambda x: x**2, model_intput))\n",
    "\n",
    "with mlflow.start_run():\n",
    "    mlflow.pyfunc.log_model(\n",
    "        name=\"model\",\n",
    "        python_model=example_model,\n",
    "        registered_model_name=\"pyfunc_model\",\n",
    "        pip_requirements=[]\n",
    "    )"
   ]
  },
  {
   "cell_type": "markdown",
   "id": "357bc436",
   "metadata": {},
   "source": [
    "The following cell shows the code that loads model, and uses the model."
   ]
  },
  {
   "cell_type": "code",
   "execution_count": 3,
   "id": "0686d070",
   "metadata": {},
   "outputs": [
    {
     "data": {
      "text/plain": [
       "[1.0, 4.0, 9.0]"
      ]
     },
     "execution_count": 3,
     "metadata": {},
     "output_type": "execute_result"
    }
   ],
   "source": [
    "model = mlflow.pyfunc.load_model(\"models:/pyfunc_model/1\")\n",
    "model.predict([1., 2., 3.])"
   ]
  },
  {
   "cell_type": "markdown",
   "id": "64863a11",
   "metadata": {},
   "source": [
    "The results correspond to the calculation specified in the `example_model` function."
   ]
  },
  {
   "cell_type": "markdown",
   "id": "51c2e140",
   "metadata": {},
   "source": [
    "### Class\n",
    "\n",
    "In class have to be define the `predict` method. Tha is implements the model's computation."
   ]
  },
  {
   "cell_type": "markdown",
   "id": "a7aae5e1",
   "metadata": {},
   "source": [
    "---\n",
    "\n",
    "The following cell shows the class definition of the class and it's logging to the `mlflow`."
   ]
  },
  {
   "cell_type": "code",
   "execution_count": 3,
   "id": "73787a0d",
   "metadata": {},
   "outputs": [
    {
     "name": "stderr",
     "output_type": "stream",
     "text": [
      "Successfully registered model 'pyclass_model'.\n",
      "Created version '1' of model 'pyclass_model'.\n"
     ]
    }
   ],
   "source": [
    "class MyModel(mlflow.pyfunc.PythonModel):\n",
    "    test = \"I'm field you want to acess!!!\"\n",
    "    def predict(self, context, model_input: list[float], params=None):\n",
    "        return [x * 2 for x in model_input]\n",
    "\n",
    "with mlflow.start_run():\n",
    "    mlflow.pyfunc.log_model(\n",
    "        name=\"model\",\n",
    "        python_model=MyModel(),\n",
    "        pip_requirements=[\"pandas\"],\n",
    "        registered_model_name=\"pyclass_model\"\n",
    "    )"
   ]
  },
  {
   "cell_type": "markdown",
   "id": "4af78dd4",
   "metadata": {},
   "source": [
    "The code for loading the model from the registry is the same as it was for the function approach."
   ]
  },
  {
   "cell_type": "code",
   "execution_count": 4,
   "id": "6fb6deb8",
   "metadata": {},
   "outputs": [
    {
     "data": {
      "text/plain": [
       "[4.0, 8.0]"
      ]
     },
     "execution_count": 4,
     "metadata": {},
     "output_type": "execute_result"
    }
   ],
   "source": [
    "model = mlflow.pyfunc.load_model(\"models:/pyclass_model/1\")\n",
    "model.predict([2., 4.])"
   ]
  },
  {
   "cell_type": "markdown",
   "id": "71769844",
   "metadata": {},
   "source": [
    "## Signature\n",
    "\n",
    "An MLFlow model signature is declares of the model inputs, outputs, and parameters of a model. The main elements of the MLFlow API associated with signatures are as following:\n",
    "\n",
    "| Element | Type | Description |\n",
    "|---------|------|-------------|\n",
    "| `ModelSignature` | Class | Represents the full input/output schema of a model. |\n",
    "| `Schema` | Class | Collection of column specs describing input/output structure. |\n",
    "| `ColSpec` | Class | Describes a single column (type, name, optional). |\n",
    "| `TensorSpec` | Class | Describes a tensor (dtype, shape, name). |\n",
    "| `ParamSchema` | Class | Schema for parameter-based inputs (non-data, e.g. hyperparams). |\n",
    "| `DataType` | Enum | Supported MLflow types: `integer`, `long`, `float`, `double`, `boolean`, `string`, `binary`. |\n",
    "| `infer_signature` | Function | Infers a `ModelSignature` from sample input/output. |\n",
    "| `to_dict` / `from_dict` | Method | Serialize/deserialize `ModelSignature` objects. |\n",
    "| `__eq__` | Method | Compare two signatures for equality (useful in tests). |\n",
    "\n",
    "Check the informations in the [Model Signatures and Input Examples](https://mlflow.org/docs/latest/ml/model/signatures/) models."
   ]
  },
  {
   "cell_type": "markdown",
   "id": "a7c44f82",
   "metadata": {},
   "source": [
    "---\n",
    "\n",
    "The following cell logs the model with `input_example`, which will be used to generate the model's signature."
   ]
  },
  {
   "cell_type": "code",
   "execution_count": 14,
   "id": "a256bef6",
   "metadata": {},
   "outputs": [
    {
     "name": "stderr",
     "output_type": "stream",
     "text": [
      "/home/user/.virtualenvironments/python/lib/python3.13/site-packages/mlflow/types/utils.py:452: UserWarning: Hint: Inferred schema contains integer column(s). Integer columns in Python cannot represent missing values. If your input data contains missing values at inference time, it will be encoded as floats and will cause a schema enforcement error. The best way to avoid this problem is to infer the model schema based on a realistic data sample (training dataset) that includes missing values. Alternatively, you can declare integer columns as doubles (float64) whenever these columns may have missing values. See `Handling Integers With Missing Values <https://www.mlflow.org/docs/latest/models.html#handling-integers-with-missing-values>`_ for more details.\n",
      "  warnings.warn(\n",
      "Registered model 'rf_model' already exists. Creating a new version of this model...\n",
      "Created version '2' of model 'rf_model'.\n"
     ]
    }
   ],
   "source": [
    "import pandas as pd\n",
    "import mlflow\n",
    "from sklearn.ensemble import RandomForestRegressor\n",
    "from sklearn.datasets import make_regression\n",
    "\n",
    "X, y = make_regression(n_samples=100, n_features=4, noise=0.1)\n",
    "X = pd.DataFrame(X, columns=[f\"feature_{i}\" for i in range(X.shape[1])])\n",
    "X[\"feature_1\"] = X[\"feature_1\"].astype(int)\n",
    "\n",
    "with mlflow.start_run():\n",
    "    rf = RandomForestRegressor().fit(X, y)\n",
    "    mlflow.sklearn.log_model(\n",
    "        rf,\n",
    "        name=\"model\",\n",
    "        registered_model_name=\"rf_model\",\n",
    "        input_example=X.iloc[:5]\n",
    "    )"
   ]
  },
  {
   "cell_type": "markdown",
   "id": "1ab39f93",
   "metadata": {},
   "source": [
    "To obtain the signature of a registered model, retrieve the `signature` attribute from the `ModelInfo` object."
   ]
  },
  {
   "cell_type": "code",
   "execution_count": 17,
   "id": "74c6909d",
   "metadata": {},
   "outputs": [
    {
     "data": {
      "text/plain": [
       "inputs: \n",
       "  ['feature_0': double (required), 'feature_1': long (required), 'feature_2': double (required), 'feature_3': double (required)]\n",
       "outputs: \n",
       "  [double (required)]\n",
       "params: \n",
       "  None"
      ]
     },
     "execution_count": 17,
     "metadata": {},
     "output_type": "execute_result"
    }
   ],
   "source": [
    "model = mlflow.models.get_model_info(\"models:/rf_model/1\")\n",
    "model.signature"
   ]
  }
 ],
 "metadata": {
  "kernelspec": {
   "display_name": "python",
   "language": "python",
   "name": "python3"
  },
  "language_info": {
   "codemirror_mode": {
    "name": "ipython",
    "version": 3
   },
   "file_extension": ".py",
   "mimetype": "text/x-python",
   "name": "python",
   "nbconvert_exporter": "python",
   "pygments_lexer": "ipython3",
   "version": "3.13.7"
  }
 },
 "nbformat": 4,
 "nbformat_minor": 5
}
