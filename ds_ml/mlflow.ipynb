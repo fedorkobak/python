{
 "cells": [
  {
   "cell_type": "markdown",
   "id": "1fcb02be-ba66-42db-bdaf-833464b92911",
   "metadata": {},
   "source": [
    "# MLflow\n",
    "\n",
    "Is a popular pool for tracking machine learning models. These pages focus on aspects of using mlflow.\n",
    "\n",
    "Learm more:\n",
    "\n",
    "- [Tracking server overview](https://mlflow.org/docs/latest/getting-started/tracking-server-overview/index.html#method-1-start-your-own-mlflow-server) on official mlflow site;\n",
    "- [MLflow tracking quickstart](https://mlflow.org/docs/latest/getting-started/intro-quickstart/index.html) on official mlflow site;\n",
    "- [Official MLflow docker image](https://mlflow.org/docs/latest/docker.html)."
   ]
  },
  {
   "cell_type": "markdown",
   "id": "dcabed57",
   "metadata": {},
   "source": [
    "## Configuration\n",
    "\n",
    "There are a few aspects of the MLFlow configuration. \n",
    "\n",
    "The client-side configuration is mainly involves setting the tracking URI and, if necessary, the credentials to access it. The MLFlow client can work without the server being launched; it simply will stores information in a special format in a local folder.\n",
    "\n",
    "The server can easily can be set up just by using the special `mlflow server` command from the python environmet where mlflow is installed.\n",
    "\n",
    "For more details check the [Configuration](mlflow/configuration.ipynb) page."
   ]
  },
  {
   "cell_type": "markdown",
   "id": "d947f14a",
   "metadata": {},
   "source": [
    "## Tracking\n",
    "\n",
    "**Tracking** is an MLFlow component that stores, visualizes, and organizes the model fitting process. It tracks what happens during model training.\n",
    "\n",
    "More specifically MLFlow tracks:\n",
    "\n",
    "- Record experiment **parameters** such as hyperparameters and model configuration.\n",
    "- Log **metrics** and compare them for performance measures.\n",
    "- Store and manage output **artifacts** such as trained models and plots.\n",
    "- Store model's **source code** from the run.\n",
    "\n",
    "The model fitting process generally involves the attempt to make similar computations but with slight changes in the approach, implementation, or hyperparameters. To systematize the set of entities that are usually generated during different attempts mlflow introduces a few terms that are described in the following table.\n",
    "\n",
    "| Term       | Description                                                            |\n",
    "| ---------- | ---------------------------------------------------------------------- |\n",
    "| tag        | Key-value pair that somehow describes run.                             |\n",
    "| experiment | Series of runs that represents attempts to train a specific model.     |\n",
    "| run        | Separate attempt to train the model with given set of hyperparameters. |\n",
    "\n",
    "Find more in:\n",
    "\n",
    "- [MLFlow Tracking Quickstart](https://mlflow.org/docs/latest/ml/tracking/quickstart/) official tutorial.\n",
    "- [Tracking](mlflow/tracking.ipynb) page.\n",
    "- [MLFlow Tracking APIs](https://mlflow.org/docs/latest/ml/tracking/tracking-api) where different functions to interact with the Tracking API are referenced."
   ]
  },
  {
   "cell_type": "markdown",
   "id": "d4f8567c",
   "metadata": {},
   "source": [
    "## Flavours\n",
    "\n",
    "There are a tone of ML frameworks today, and mlflow is supposed to support them. For this purpose it has the flavour concept - it's a wrapper that works with a particular framework. If model doesn't correspond to the given flavours then it is supposed to use pyfunc.\n",
    "\n",
    "Typically flavours are submodules of mlflow that you're supposed to use in your pipelines, the following table lists flavours awailable in mlflow.\n",
    "\n",
    "| **Flavor Name**     | **Description**                                                                                                                                                     |\n",
    "| ------------------- | ------------------------------------------------------------------------------------------------------------------------------------------------------------------- |\n",
    "| `python_function`   | The universal Python-oriented flavor (aka `pyfunc`). Enables model loading with `mlflow.pyfunc.load_model()`; great for generic deployment and inference workflows. |\n",
    "| `mlflow.sklearn`    | Flavor for scikit-learn models. Ensures easy logging and reproducibility of scikit-learn artifacts.                                                                 |\n",
    "| `mlflow.tensorflow` | For TensorFlow (TF1.x & TF2.x) models. Manages saving and loading in TF’s native format.                                                                            |\n",
    "| `mlflow.keras`      | Specifically for Keras models. Built on top of the TensorFlow backend, but tailored for Keras workflows.                                                            |\n",
    "| `mlflow.pytorch`    | Manages PyTorch models using TorchScript or native serialization.                                                                                                   |\n",
    "| `mlflow.spark`      | For Spark MLlib models. Handles persistence via Spark’s `PipelineModel` or `Estimator`.                                                                             |\n",
    "| `mlflow.xgboost`    | Supports XGBoost models. Saves and loads model artifacts via XGBoost’s binary format.                                                                               |\n",
    "| `mlflow.lightgbm`   | For LightGBM models—handles Booser-style models efficiently.                                                                                                        |\n",
    "| `mlflow.catboost`   | For CatBoost models. Ensures correct serialization and logging of CatBoost estimators.                                                                              |\n",
    "| `mlflow.pyfunc`     | Essentially the same as `python_function`, serving as a catch-all flavor that wraps custom Python inference logic.                                                  |\n"
   ]
  },
  {
   "cell_type": "markdown",
   "id": "d6181beb",
   "metadata": {},
   "source": [
    "## Data\n",
    "\n",
    "MLFlow contains a special `mlflow.data` module that makes it easy to save and load datasets used for model training and evaluation.\n",
    "\n",
    "It have two interfaces:\n",
    "\n",
    "- `Dataset`: Represents a dataset.\n",
    "- `DatasetSource`: Represents a source of the data.\n",
    "\n",
    "You can create a `Dataset` from many Python data frameworks. The following cell shows the classes that represent data objects from different frameworks, and the methods used to create them:\n",
    "\n",
    "| Framework      | Object                                               | Create method                                      |\n",
    "|----------------|------------------------------------------------------|----------------------------------------------------|\n",
    "| `pandas`       | `mlflow.data.pandas_dataset.PandasDataset`           | `mlflow.data.from_pandas`                          |\n",
    "| `Numpy`        | `mlflow.data.numpy_dataset.NumpyDataset`             | `mlflow.data.from_numpy`                           |\n",
    "| `Spark`        | `mlflow.data.spark_dataset.SparkDataset`             | `mlflow.data.from_spark`                           |\n",
    "|                |                                                      | `mlflow.data.load_delta`                           |\n",
    "| `Hugging Face` | `mlflow.data.huggingface_dataset.HuggingFaceDataset` | `mlflow.data.huggingface_dataset.from_huggingface` |\n",
    "| `TensorFlow`   | `mlflow.data.tensorflow_dataset.TensorFlowDataset`   | `mlflow.data.tensorflow_dataset.from_tensorflow`   |\n",
    "|                | `mlflow.data.tensorflow_dataset.EvaluationDataset`   |                                                    |\n",
    "| `polars`       | `mlflow.data.polars_dataset.PolarsDataset`           | `mlflow.data.polars_dataset.from_polars`           |\n",
    "\n",
    "For more details check:\n",
    "\n",
    "- The [MLFlow Dataset Tracking](https://mlflow.org/docs/latest/ml/dataset/).\n",
    "- The [mlflow.data](https://mlflow.org/docs/latest/api_reference/python_api/mlflow.data.html) API reference."
   ]
  },
  {
   "cell_type": "markdown",
   "id": "9235ea92",
   "metadata": {},
   "source": [
    "---\n",
    "\n",
    "Consider the process of creating an MLFlow dataset from a csv file that is published on the internet."
   ]
  },
  {
   "cell_type": "code",
   "execution_count": null,
   "id": "e0c12419",
   "metadata": {},
   "outputs": [
    {
     "data": {
      "text/html": [
       "<div>\n",
       "<style scoped>\n",
       "    .dataframe tbody tr th:only-of-type {\n",
       "        vertical-align: middle;\n",
       "    }\n",
       "\n",
       "    .dataframe tbody tr th {\n",
       "        vertical-align: top;\n",
       "    }\n",
       "\n",
       "    .dataframe thead th {\n",
       "        text-align: right;\n",
       "    }\n",
       "</style>\n",
       "<table border=\"1\" class=\"dataframe\">\n",
       "  <thead>\n",
       "    <tr style=\"text-align: right;\">\n",
       "      <th></th>\n",
       "      <th>fixed acidity</th>\n",
       "      <th>volatile acidity</th>\n",
       "      <th>citric acid</th>\n",
       "      <th>residual sugar</th>\n",
       "      <th>chlorides</th>\n",
       "      <th>free sulfur dioxide</th>\n",
       "      <th>total sulfur dioxide</th>\n",
       "      <th>density</th>\n",
       "      <th>pH</th>\n",
       "      <th>sulphates</th>\n",
       "      <th>alcohol</th>\n",
       "      <th>quality</th>\n",
       "    </tr>\n",
       "  </thead>\n",
       "  <tbody>\n",
       "    <tr>\n",
       "      <th>0</th>\n",
       "      <td>7.4</td>\n",
       "      <td>0.70</td>\n",
       "      <td>0.00</td>\n",
       "      <td>1.9</td>\n",
       "      <td>0.076</td>\n",
       "      <td>11.0</td>\n",
       "      <td>34.0</td>\n",
       "      <td>0.9978</td>\n",
       "      <td>3.51</td>\n",
       "      <td>0.56</td>\n",
       "      <td>9.4</td>\n",
       "      <td>5</td>\n",
       "    </tr>\n",
       "    <tr>\n",
       "      <th>1</th>\n",
       "      <td>7.8</td>\n",
       "      <td>0.88</td>\n",
       "      <td>0.00</td>\n",
       "      <td>2.6</td>\n",
       "      <td>0.098</td>\n",
       "      <td>25.0</td>\n",
       "      <td>67.0</td>\n",
       "      <td>0.9968</td>\n",
       "      <td>3.20</td>\n",
       "      <td>0.68</td>\n",
       "      <td>9.8</td>\n",
       "      <td>5</td>\n",
       "    </tr>\n",
       "    <tr>\n",
       "      <th>2</th>\n",
       "      <td>7.8</td>\n",
       "      <td>0.76</td>\n",
       "      <td>0.04</td>\n",
       "      <td>2.3</td>\n",
       "      <td>0.092</td>\n",
       "      <td>15.0</td>\n",
       "      <td>54.0</td>\n",
       "      <td>0.9970</td>\n",
       "      <td>3.26</td>\n",
       "      <td>0.65</td>\n",
       "      <td>9.8</td>\n",
       "      <td>5</td>\n",
       "    </tr>\n",
       "    <tr>\n",
       "      <th>3</th>\n",
       "      <td>11.2</td>\n",
       "      <td>0.28</td>\n",
       "      <td>0.56</td>\n",
       "      <td>1.9</td>\n",
       "      <td>0.075</td>\n",
       "      <td>17.0</td>\n",
       "      <td>60.0</td>\n",
       "      <td>0.9980</td>\n",
       "      <td>3.16</td>\n",
       "      <td>0.58</td>\n",
       "      <td>9.8</td>\n",
       "      <td>6</td>\n",
       "    </tr>\n",
       "    <tr>\n",
       "      <th>4</th>\n",
       "      <td>7.4</td>\n",
       "      <td>0.70</td>\n",
       "      <td>0.00</td>\n",
       "      <td>1.9</td>\n",
       "      <td>0.076</td>\n",
       "      <td>11.0</td>\n",
       "      <td>34.0</td>\n",
       "      <td>0.9978</td>\n",
       "      <td>3.51</td>\n",
       "      <td>0.56</td>\n",
       "      <td>9.4</td>\n",
       "      <td>5</td>\n",
       "    </tr>\n",
       "  </tbody>\n",
       "</table>\n",
       "</div>"
      ],
      "text/plain": [
       "   fixed acidity  volatile acidity  citric acid  residual sugar  chlorides  \\\n",
       "0            7.4              0.70         0.00             1.9      0.076   \n",
       "1            7.8              0.88         0.00             2.6      0.098   \n",
       "2            7.8              0.76         0.04             2.3      0.092   \n",
       "3           11.2              0.28         0.56             1.9      0.075   \n",
       "4            7.4              0.70         0.00             1.9      0.076   \n",
       "\n",
       "   free sulfur dioxide  total sulfur dioxide  density    pH  sulphates  \\\n",
       "0                 11.0                  34.0   0.9978  3.51       0.56   \n",
       "1                 25.0                  67.0   0.9968  3.20       0.68   \n",
       "2                 15.0                  54.0   0.9970  3.26       0.65   \n",
       "3                 17.0                  60.0   0.9980  3.16       0.58   \n",
       "4                 11.0                  34.0   0.9978  3.51       0.56   \n",
       "\n",
       "   alcohol  quality  \n",
       "0      9.4        5  \n",
       "1      9.8        5  \n",
       "2      9.8        5  \n",
       "3      9.8        6  \n",
       "4      9.4        5  "
      ]
     },
     "execution_count": 1,
     "metadata": {},
     "output_type": "execute_result"
    }
   ],
   "source": [
    "import os\n",
    "import mlflow\n",
    "import mlflow.data\n",
    "import pandas as pd\n",
    "\n",
    "mlflow.set_tracking_uri(\"file:///tmp/mlflow_temp\")\n",
    "\n",
    "data_url = \"http://archive.ics.uci.edu/ml/machine-learning-databases/wine-quality/winequality-red.csv\"\n",
    "\n",
    "data = pd.read_csv(data_url, sep=\";\")\n",
    "data.head()"
   ]
  },
  {
   "cell_type": "markdown",
   "id": "b9140bd4",
   "metadata": {},
   "source": [
    "The following cell starts the run and logs this dataset under the run. "
   ]
  },
  {
   "cell_type": "code",
   "execution_count": 8,
   "id": "08f2e6bc",
   "metadata": {},
   "outputs": [
    {
     "name": "stderr",
     "output_type": "stream",
     "text": [
      "/home/user/.virtualenvironments/python/lib/python3.13/site-packages/mlflow/data/dataset_source_registry.py:148: UserWarning: Failed to determine whether UCVolumeDatasetSource can resolve source information for 'http://archive.ics.uci.edu/ml/machine-learning-databases/wine-quality/winequality-red.csv'. Exception: \n",
      "  return _dataset_source_registry.resolve(\n",
      "/home/user/.virtualenvironments/python/lib/python3.13/site-packages/mlflow/types/utils.py:452: UserWarning: Hint: Inferred schema contains integer column(s). Integer columns in Python cannot represent missing values. If your input data contains missing values at inference time, it will be encoded as floats and will cause a schema enforcement error. The best way to avoid this problem is to infer the model schema based on a realistic data sample (training dataset) that includes missing values. Alternatively, you can declare integer columns as doubles (float64) whenever these columns may have missing values. See `Handling Integers With Missing Values <https://www.mlflow.org/docs/latest/models.html#handling-integers-with-missing-values>`_ for more details.\n",
      "  warnings.warn(\n"
     ]
    }
   ],
   "source": [
    "dataset = mlflow.data.from_pandas(data, source=data_url)\n",
    "\n",
    "experiment = mlflow.set_experiment(\"test_datasets\")\n",
    "with mlflow.start_run():\n",
    "    mlflow.log_input(dataset=dataset, context=\"training\")"
   ]
  },
  {
   "cell_type": "markdown",
   "id": "aaeee9fd",
   "metadata": {},
   "source": [
    "## Models\n",
    "\n",
    "The Model component of mlflow is responsible for registering and versioning the models. The summary of the usefull function is represented in the following table:\n",
    "\n",
    "| **Feature**                     | **Description**                                                                                                        |\n",
    "| ------------------------------- | ---------------------------------------------------------------------------------------------------------------------- |\n",
    "| **Model Packaging**             | Packages models with their environment (conda, pip, or Docker) for reproducible deployment.                            |\n",
    "| **Multiple Flavors**            | Supports multiple \"flavors\" (e.g., `python_function`, `sklearn`, `pytorch`, `onnx`) to enable deployment across tools. |\n",
    "| **Model Registry Integration**  | Integrates with MLflow Model Registry to version, approve, and stage models for production.                            |\n",
    "| **Deployment Options**          | Deploys to local REST server, cloud services (AWS SageMaker, Azure ML), or custom targets.                             |\n",
    "| **Model Signature**             | Captures input and output schema (columns, types, shapes) to enforce interface consistency.                            |\n",
    "| **Input Example**               | Stores example input data for testing and documentation.                                                               |\n",
    "| **Custom Inference Logic**      | Allows defining custom `predict` logic using `python_function` flavor for flexible inference.                          |\n",
    "| **Environment Reproducibility** | Captures dependencies using `conda.yaml`, `requirements.txt`, or `MLmodel` file for exact environment recreation.      |\n",
    "| **CLI & API Support**           | Provides both CLI (`mlflow models serve`, `mlflow models predict`) and Python API for easy model serving and testing.  |\n",
    "| **Cross-Framework Support**     | Works with Scikit-learn, TensorFlow, PyTorch, XGBoost, LightGBM, and many more ML frameworks.                          |"
   ]
  },
  {
   "cell_type": "markdown",
   "id": "1f1ded17",
   "metadata": {},
   "source": [
    "---\n",
    "\n",
    "The following cell sets up the mlflow and generates an example dataset."
   ]
  },
  {
   "cell_type": "code",
   "execution_count": 1,
   "id": "5b127ce1",
   "metadata": {},
   "outputs": [],
   "source": [
    "import mlflow\n",
    "import mlflow.models\n",
    "from sklearn.datasets import make_classification\n",
    "from sklearn.ensemble import GradientBoostingClassifier\n",
    "\n",
    "mlflow.set_tracking_uri(\"file:///tmp/model_registry_example\")\n",
    "client = mlflow.MlflowClient()\n",
    "\n",
    "X, y = make_classification(\n",
    "    n_samples=500,\n",
    "    n_features=5,\n",
    "    random_state=1\n",
    ")"
   ]
  },
  {
   "cell_type": "markdown",
   "id": "cd056c9b",
   "metadata": {},
   "source": [
    "The following cell creates a really simple `mlflow` run, that is not registred by default."
   ]
  },
  {
   "cell_type": "code",
   "execution_count": 2,
   "id": "f0e085f4",
   "metadata": {},
   "outputs": [],
   "source": [
    "with mlflow.start_run():\n",
    "    gbc = GradientBoostingClassifier().fit(X, y)\n",
    "    signature = mlflow.models.infer_signature(X, y)\n",
    "    mlflow.sklearn.log_model(\n",
    "        gbc,\n",
    "        signature=signature\n",
    "    )"
   ]
  },
  {
   "cell_type": "markdown",
   "id": "be31ef43",
   "metadata": {},
   "source": [
    "With `MlflowClient.search_registred_model` you can get a list of registered models."
   ]
  },
  {
   "cell_type": "code",
   "execution_count": 3,
   "id": "a8f07ae7",
   "metadata": {},
   "outputs": [],
   "source": [
    "for m in client.search_registered_models():\n",
    "    print(m.name)"
   ]
  },
  {
   "cell_type": "markdown",
   "id": "0334ead7",
   "metadata": {},
   "source": [
    "As expected it empty."
   ]
  },
  {
   "cell_type": "markdown",
   "id": "24bbd485",
   "metadata": {},
   "source": [
    "You can declare that a model has to be added to the model registry by specifying the `registred_model_name` argument for the `log_model`. The following cell creates the same run as the previous one, but with the `registred_model_name` is specified."
   ]
  },
  {
   "cell_type": "code",
   "execution_count": 5,
   "id": "b82b86a0",
   "metadata": {},
   "outputs": [
    {
     "name": "stderr",
     "output_type": "stream",
     "text": [
      "Successfully registered model 'HEY! this is model'.\n",
      "Created version '1' of model 'HEY! this is model'.\n"
     ]
    }
   ],
   "source": [
    "with mlflow.start_run():\n",
    "    gbc = GradientBoostingClassifier().fit(X, y)\n",
    "    signature = mlflow.models.infer_signature(X, y)\n",
    "    mlflow.sklearn.log_model(\n",
    "        gbc,\n",
    "        signature=signature,\n",
    "        registered_model_name=\"HEY! this is model\"\n",
    "    )"
   ]
  },
  {
   "cell_type": "markdown",
   "id": "cc057643",
   "metadata": {},
   "source": [
    "Now, there is a model with a corresponding name in the outputs of the `search_registered_models`."
   ]
  },
  {
   "cell_type": "code",
   "execution_count": 6,
   "id": "e08e7b01",
   "metadata": {},
   "outputs": [
    {
     "name": "stdout",
     "output_type": "stream",
     "text": [
      "HEY! this is model\n"
     ]
    }
   ],
   "source": [
    "for m in client.search_registered_models():\n",
    "    print(m.name)"
   ]
  }
 ],
 "metadata": {
  "kernelspec": {
   "display_name": "python",
   "language": "python",
   "name": "python3"
  },
  "language_info": {
   "codemirror_mode": {
    "name": "ipython",
    "version": 3
   },
   "file_extension": ".py",
   "mimetype": "text/x-python",
   "name": "python",
   "nbconvert_exporter": "python",
   "pygments_lexer": "ipython3",
   "version": "3.13.7"
  }
 },
 "nbformat": 4,
 "nbformat_minor": 5
}
