{
 "cells": [
  {
   "cell_type": "markdown",
   "id": "bf02e0ea-5ee6-477f-97b7-5b218b611966",
   "metadata": {},
   "source": [
    "# Request\n",
    "\n",
    "In this page I will describe how to make different types of requests to `geopy`.\n",
    "\n",
    "<a href=\"https://geopy.readthedocs.io/en/stable/\">Geopy documentation</a>."
   ]
  },
  {
   "cell_type": "markdown",
   "id": "c6fcceac-05ab-475f-9035-004cc4a31a44",
   "metadata": {},
   "source": [
    "To use it you need to create a `Nominatim` object and pass it `user_agent`. In my opinion you can pass whatever you want as `user_agent`, I don't really understand how this option is used."
   ]
  },
  {
   "cell_type": "code",
   "execution_count": 4,
   "id": "0f03fef8-6726-4d7c-8e0c-7f984a45fc59",
   "metadata": {},
   "outputs": [],
   "source": [
    "from geopy.geocoders import Nominatim\n",
    "geolocator = Nominatim(user_agent = \"knowledge\")"
   ]
  },
  {
   "cell_type": "markdown",
   "id": "078cd5ea-b766-4566-84e1-2db8a892a210",
   "metadata": {},
   "source": [
    "## Arbitrary request\n",
    "\n",
    "Using the `geocode` method, you can query the system address as text."
   ]
  },
  {
   "cell_type": "code",
   "execution_count": 16,
   "id": "97ead621-9b8d-4c4b-b9bb-c6768b774304",
   "metadata": {},
   "outputs": [
    {
     "data": {
      "text/plain": [
       "{'place_id': 184576951,\n",
       " 'licence': 'Data © OpenStreetMap contributors, ODbL 1.0. http://osm.org/copyright',\n",
       " 'osm_type': 'relation',\n",
       " 'osm_id': 59195,\n",
       " 'lat': '53.9024716',\n",
       " 'lon': '27.5618225',\n",
       " 'class': 'boundary',\n",
       " 'type': 'administrative',\n",
       " 'place_rank': 7,\n",
       " 'importance': 0.6699404177567978,\n",
       " 'addresstype': 'city',\n",
       " 'name': 'Minsk',\n",
       " 'display_name': 'Minsk, Belarus',\n",
       " 'boundingbox': ['53.7938470', '53.9717897', '27.3740176', '28.0799469']}"
      ]
     },
     "execution_count": 16,
     "metadata": {},
     "output_type": "execute_result"
    }
   ],
   "source": [
    "geolocator.geocode(\"Minsk\", language = \"en\").raw"
   ]
  },
  {
   "cell_type": "markdown",
   "id": "6314433c-8f8c-47a9-b00c-d33ae1401866",
   "metadata": {},
   "source": [
    "## Request as coordinates\n",
    "\n",
    "Using `reverse` method you can pass any coordinates you like as tuple and got answer."
   ]
  },
  {
   "cell_type": "code",
   "execution_count": 17,
   "id": "ae9f49a7-125d-44d1-b84f-be9f13f00f01",
   "metadata": {},
   "outputs": [
    {
     "data": {
      "text/plain": [
       "{'place_id': 82486720,\n",
       " 'licence': 'Data © OpenStreetMap contributors, ODbL 1.0. http://osm.org/copyright',\n",
       " 'osm_type': 'way',\n",
       " 'osm_id': 706822395,\n",
       " 'lat': '42.999751989667615',\n",
       " 'lon': '23.000019012462104',\n",
       " 'class': 'highway',\n",
       " 'type': 'tertiary',\n",
       " 'place_rank': 26,\n",
       " 'importance': 0.10000999999999993,\n",
       " 'addresstype': 'road',\n",
       " 'name': '813',\n",
       " 'display_name': '813, Бондин хан, Туден, Годеч, Софийская область, 2240, Болгария',\n",
       " 'address': {'road': '813',\n",
       "  'neighbourhood': 'Бондин хан',\n",
       "  'village': 'Туден',\n",
       "  'municipality': 'Годеч',\n",
       "  'county': 'Софийская область',\n",
       "  'ISO3166-2-lvl6': 'BG-23',\n",
       "  'postcode': '2240',\n",
       "  'country': 'Болгария',\n",
       "  'country_code': 'bg'},\n",
       " 'boundingbox': ['42.9936767', '42.9998986', '22.9871460', '23.0008811']}"
      ]
     },
     "execution_count": 17,
     "metadata": {},
     "output_type": "execute_result"
    }
   ],
   "source": [
    "geolocator.reverse((43, 23), language = \"ru\").raw"
   ]
  },
  {
   "cell_type": "markdown",
   "id": "4cea6ecb-2012-49df-a4a1-4599795f17d7",
   "metadata": {},
   "source": [
    "## Location object\n",
    "\n",
    "Requests to geopy will return the `geopy.location.Location` object."
   ]
  },
  {
   "cell_type": "markdown",
   "id": "ecdac855-9e1e-44c1-821f-fa00414538e2",
   "metadata": {},
   "source": [
    "The next cell lists the interesting fields."
   ]
  },
  {
   "cell_type": "code",
   "execution_count": 36,
   "id": "8013de22-0a59-4768-8316-72bf3f4dc86a",
   "metadata": {},
   "outputs": [
    {
     "name": "stdout",
     "output_type": "stream",
     "text": [
      "address\n",
      "altitude\n",
      "latitude\n",
      "longitude\n",
      "point\n",
      "raw\n"
     ]
    }
   ],
   "source": [
    "location_opject = geolocator.geocode(\"Minsk\", language = \"ru\")\n",
    "\n",
    "for field in dir(location_opject): \n",
    "    if field[0] != \"_\": print(field)"
   ]
  },
  {
   "cell_type": "markdown",
   "id": "e8c85a61-8982-421b-9716-1ae2de559032",
   "metadata": {},
   "source": [
    "**`raw`** field is crusical it contains original answer from api."
   ]
  },
  {
   "cell_type": "code",
   "execution_count": 38,
   "id": "5358b1a9-3136-4911-af62-86bc76349111",
   "metadata": {},
   "outputs": [
    {
     "data": {
      "text/plain": [
       "{'place_id': 152512099,\n",
       " 'licence': 'Data © OpenStreetMap contributors, ODbL 1.0. http://osm.org/copyright',\n",
       " 'osm_type': 'relation',\n",
       " 'osm_id': 59195,\n",
       " 'lat': '53.9024716',\n",
       " 'lon': '27.5618225',\n",
       " 'class': 'boundary',\n",
       " 'type': 'administrative',\n",
       " 'place_rank': 7,\n",
       " 'importance': 0.6699404177567978,\n",
       " 'addresstype': 'city',\n",
       " 'name': 'Минск',\n",
       " 'display_name': 'Минск, Беларусь',\n",
       " 'boundingbox': ['53.7938470', '53.9717897', '27.3740176', '28.0799469']}"
      ]
     },
     "execution_count": 38,
     "metadata": {},
     "output_type": "execute_result"
    }
   ],
   "source": [
    "location_opject.raw"
   ]
  }
 ],
 "metadata": {
  "kernelspec": {
   "display_name": "Python 3 (ipykernel)",
   "language": "python",
   "name": "python3"
  },
  "language_info": {
   "codemirror_mode": {
    "name": "ipython",
    "version": 3
   },
   "file_extension": ".py",
   "mimetype": "text/x-python",
   "name": "python",
   "nbconvert_exporter": "python",
   "pygments_lexer": "ipython3",
   "version": "3.10.6"
  }
 },
 "nbformat": 4,
 "nbformat_minor": 5
}
