{
 "cells": [
  {
   "cell_type": "markdown",
   "id": "0b3a77dc",
   "metadata": {},
   "source": [
    "# Create array\n",
    "\n",
    "Here is discussed in details different approaches to create a array in numpy."
   ]
  },
  {
   "cell_type": "code",
   "execution_count": 1,
   "id": "bd2101ca",
   "metadata": {},
   "outputs": [],
   "source": [
    "import numpy as np"
   ]
  },
  {
   "cell_type": "markdown",
   "id": "63afdfdf",
   "metadata": {},
   "source": [
    "## From function\n",
    "\n",
    "You can set a custom rule for creating a numpy array by using `np.fromfunction`. The first argument specifies a function that takes the index of the row and the index of the column and must return elements that typically depend on the indexes."
   ]
  },
  {
   "cell_type": "markdown",
   "id": "df20fd3d",
   "metadata": {},
   "source": [
    "---\n",
    "\n",
    "The following cell shows the process of generating a sequential array using this method."
   ]
  },
  {
   "cell_type": "code",
   "execution_count": 2,
   "id": "c95edf89",
   "metadata": {},
   "outputs": [
    {
     "data": {
      "text/plain": [
       "array([[ 0.,  1.,  2.,  3.],\n",
       "       [ 3.,  4.,  5.,  6.],\n",
       "       [ 6.,  7.,  8.,  9.],\n",
       "       [ 9., 10., 11., 12.]])"
      ]
     },
     "execution_count": 2,
     "metadata": {},
     "output_type": "execute_result"
    }
   ],
   "source": [
    "np.fromfunction(lambda i, j: i*3 + j, (4,4))"
   ]
  }
 ],
 "metadata": {
  "kernelspec": {
   "display_name": "python (3.13.5)",
   "language": "python",
   "name": "python3"
  },
  "language_info": {
   "codemirror_mode": {
    "name": "ipython",
    "version": 3
   },
   "file_extension": ".py",
   "mimetype": "text/x-python",
   "name": "python",
   "nbconvert_exporter": "python",
   "pygments_lexer": "ipython3",
   "version": "3.13.5"
  }
 },
 "nbformat": 4,
 "nbformat_minor": 5
}
