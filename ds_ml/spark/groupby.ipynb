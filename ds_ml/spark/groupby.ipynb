{
 "cells": [
  {
   "cell_type": "markdown",
   "id": "3155eaf6",
   "metadata": {},
   "source": [
    "# Group by\n",
    "\n",
    "Spark SQL supports a typical \"group by\" operations. The corresponding tools are provided by the grouping data object that comes from the data frame's `groupBy` method. This page discusses the options for using the grouped data object."
   ]
  },
  {
   "cell_type": "code",
   "execution_count": 2,
   "id": "1102fbd3",
   "metadata": {},
   "outputs": [
    {
     "name": "stderr",
     "output_type": "stream",
     "text": [
      "WARNING: Using incubator modules: jdk.incubator.vector\n",
      "Using Spark's default log4j profile: org/apache/spark/log4j2-defaults.properties\n",
      "25/09/19 15:34:52 WARN Utils: Your hostname, user-ThinkPad-E16-Gen-2, resolves to a loopback address: 127.0.1.1; using 10.202.22.210 instead (on interface enp0s31f6)\n",
      "25/09/19 15:34:52 WARN Utils: Set SPARK_LOCAL_IP if you need to bind to another address\n",
      "Using Spark's default log4j profile: org/apache/spark/log4j2-defaults.properties\n",
      "Setting default log level to \"WARN\".\n",
      "To adjust logging level use sc.setLogLevel(newLevel). For SparkR, use setLogLevel(newLevel).\n",
      "25/09/19 15:34:53 WARN NativeCodeLoader: Unable to load native-hadoop library for your platform... using builtin-java classes where applicable\n",
      "25/09/19 15:34:54 WARN Utils: Service 'SparkUI' could not bind on port 4040. Attempting port 4041.\n",
      "25/09/19 15:34:54 WARN Utils: Service 'SparkUI' could not bind on port 4041. Attempting port 4042.\n"
     ]
    }
   ],
   "source": [
    "from pyspark.sql import SparkSession\n",
    "\n",
    "spark_session = SparkSession.builder.appName('Temp').getOrCreate()"
   ]
  },
  {
   "cell_type": "markdown",
   "id": "be99342a",
   "metadata": {},
   "source": [
    "## Direct methos\n",
    "\n",
    "There is a set of methods that directly return just one specific aggregation: `min`, `max`, `avg`, `mean`, and `count`. You can list the columns for which you want to compute these aggregations. The meaning completely matches the functions names. They will calculate the aggregations by all available columns by default, but you can also specify the specific columns to be used in the output."
   ]
  },
  {
   "cell_type": "markdown",
   "id": "ab17a4e5",
   "metadata": {},
   "source": [
    "---\n",
    "\n",
    "The following cell defines the data frame and grouped data that will be used as the example."
   ]
  },
  {
   "cell_type": "code",
   "execution_count": 11,
   "id": "143668c0",
   "metadata": {},
   "outputs": [],
   "source": [
    "df = spark_session.createDataFrame(\n",
    "    [\n",
    "        (\"a\", 10, 7, 9),\n",
    "        (\"a\", 18, 3, 1),\n",
    "        (\"b\", 12, 9, 1),\n",
    "        (\"b\", 15, 7, 0),\n",
    "        (\"c\", 4, 9, 12),\n",
    "        (\"c\", 12, 15, 5) \n",
    "    ],\n",
    "    schema=['group', \"value1\", \"value2\", \"value3\"]\n",
    ")\n",
    "gb = df.groupBy(\"group\")"
   ]
  },
  {
   "cell_type": "markdown",
   "id": "17deefac",
   "metadata": {},
   "source": [
    "The following cell shows the application of the `min` function, without specifying wich column to use."
   ]
  },
  {
   "cell_type": "code",
   "execution_count": 12,
   "id": "d6459d9e",
   "metadata": {},
   "outputs": [
    {
     "name": "stdout",
     "output_type": "stream",
     "text": [
      "+-----+-----------+-----------+-----------+\n",
      "|group|min(value1)|min(value2)|min(value3)|\n",
      "+-----+-----------+-----------+-----------+\n",
      "|    a|         10|          3|          1|\n",
      "|    b|         12|          7|          0|\n",
      "|    c|          4|          9|          5|\n",
      "+-----+-----------+-----------+-----------+\n",
      "\n"
     ]
    }
   ],
   "source": [
    "gb.min().show()"
   ]
  },
  {
   "cell_type": "markdown",
   "id": "43efd5b3",
   "metadata": {},
   "source": [
    "The `max` function is only used for the `value1` column:"
   ]
  },
  {
   "cell_type": "code",
   "execution_count": 14,
   "id": "6004df0c",
   "metadata": {},
   "outputs": [
    {
     "name": "stdout",
     "output_type": "stream",
     "text": [
      "+-----+-----------+\n",
      "|group|max(value1)|\n",
      "+-----+-----------+\n",
      "|    a|         18|\n",
      "|    b|         15|\n",
      "|    c|         12|\n",
      "+-----+-----------+\n",
      "\n"
     ]
    }
   ],
   "source": [
    "gb.max(\"value1\").show()"
   ]
  },
  {
   "cell_type": "markdown",
   "id": "4465b5de",
   "metadata": {},
   "source": [
    "The application of the `avg` to `value1` and `value2`:"
   ]
  },
  {
   "cell_type": "code",
   "execution_count": 18,
   "id": "9d7d3aa6",
   "metadata": {},
   "outputs": [
    {
     "name": "stdout",
     "output_type": "stream",
     "text": [
      "+-----+-----------+-----------+\n",
      "|group|avg(value1)|avg(value2)|\n",
      "+-----+-----------+-----------+\n",
      "|    a|       14.0|        5.0|\n",
      "|    b|       13.5|        8.0|\n",
      "|    c|        8.0|       12.0|\n",
      "+-----+-----------+-----------+\n",
      "\n"
     ]
    }
   ],
   "source": [
    "gb.avg(\"value1\", \"value2\").show()"
   ]
  }
 ],
 "metadata": {
  "kernelspec": {
   "display_name": "python",
   "language": "python",
   "name": "python3"
  },
  "language_info": {
   "codemirror_mode": {
    "name": "ipython",
    "version": 3
   },
   "file_extension": ".py",
   "mimetype": "text/x-python",
   "name": "python",
   "nbconvert_exporter": "python",
   "pygments_lexer": "ipython3",
   "version": "3.13.7"
  }
 },
 "nbformat": 4,
 "nbformat_minor": 5
}
