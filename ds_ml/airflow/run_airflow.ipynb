{
 "cells": [
  {
   "cell_type": "markdown",
   "id": "2a3fcbf1-2dfa-4a2b-970f-705b2b568d0e",
   "metadata": {},
   "source": [
    "# Run airflow\n",
    "\n",
    "To play with airflow we run airflow. In this section I will describe how to get airflow up in a docker container, and by default I will use this method in any airflow related questions onthis site.\n",
    "\n",
    "\n",
    "- <a href=\"https://airflow.apache.org/docs/apache-airflow/stable/start.html\">Airflow quick start</a> - describes how to run standalone airflow;\n",
    "- <a href=\"https://airflow.apache.org/docs/apache-airflow/stable/security/webserver.html\">Webserver</a> - more about server configurarion."
   ]
  },
  {
   "cell_type": "markdown",
   "id": "08e8a363-f171-42d9-9ca2-97962e8f2d4f",
   "metadata": {},
   "source": [
    "## Image\n",
    "\n",
    "The following docker file should be used to build the image.\n",
    "\n",
    "Features an image built from this dockerfile:\n",
    "\n",
    "- Admin username is `admin` and password is `admin`;\n",
    "- Cofigure disables automatic loading of example dags, so it will be more convenient to concentrate on writing your own dags."
   ]
  },
  {
   "cell_type": "code",
   "execution_count": 4,
   "id": "0310ce1c-9bd8-4a41-8c66-c4da7158310c",
   "metadata": {},
   "outputs": [
    {
     "name": "stdout",
     "output_type": "stream",
     "text": [
      "Overwriting run_airflow/dockerfile\n"
     ]
    }
   ],
   "source": [
    "%%writefile run_airflow/dockerfile\n",
    "FROM python:3.10\n",
    "\n",
    "# Script for airflow installation\n",
    "# described below\n",
    "COPY install_airflow.sh install_airflow.sh\n",
    "RUN bash install_airflow.sh\n",
    "\n",
    "# we need to create user in other case\n",
    "# airflow will create it by itself with\n",
    "# random password\n",
    "# for some reason it asks to run airflow db init\n",
    "# before creating a user\n",
    "RUN airflow db init; \\\n",
    "    airflow users create \\\n",
    "        --username admin \\\n",
    "        --password admin \\\n",
    "        --firstname Fedor \\\n",
    "        --lastname Kobak \\\n",
    "        --role Admin \\\n",
    "        --email spiderman@superhero.org;\n",
    "\n",
    "# Here is the command that replaces the load_examples\n",
    "# parameter from True to False. So if you\n",
    "# airflow, you won't get any examples in the list of dags.\n",
    "RUN sed -i 's/load_examples = True/load_examples = False/g' /root/airflow/airflow.cfg\n",
    "\n",
    "CMD [\"airflow\", \"standalone\"]"
   ]
  },
  {
   "cell_type": "markdown",
   "id": "163af5dc-11f0-4062-8250-a705887f2b43",
   "metadata": {},
   "source": [
    "**`install_airflow.sh`** just copied from <a href=\"https://airflow.apache.org/docs/apache-airflow/stable/start.html\">airflow quick start</a> page."
   ]
  },
  {
   "cell_type": "code",
   "execution_count": 12,
   "id": "01c23019-590e-4555-bb65-625f8ab176eb",
   "metadata": {},
   "outputs": [
    {
     "name": "stdout",
     "output_type": "stream",
     "text": [
      "Writing run_airflow/isntall_airflow.sh\n"
     ]
    }
   ],
   "source": [
    "%%writefile run_airflow/isntall_airflow.sh\n",
    "AIRFLOW_VERSION=2.7.1\n",
    "\n",
    "# Extract the version of Python you have installed. If you're currently using Python 3.11 you may want to set this manually as noted above, Python 3.11 is not yet supported.\n",
    "PYTHON_VERSION=\"$(python --version | cut -d \" \" -f 2 | cut -d \".\" -f 1-2)\"\n",
    "\n",
    "CONSTRAINT_URL=\"https://raw.githubusercontent.com/apache/airflow/constraints-${AIRFLOW_VERSION}/constraints-${PYTHON_VERSION}.txt\"\n",
    "# For example this would install 2.7.1 with python 3.8: https://raw.githubusercontent.com/apache/airflow/constraints-2.7.1/constraints-3.8.txt\n",
    "\n",
    "pip install \"apache-airflow==${AIRFLOW_VERSION}\" --constraint \"${CONSTRAINT_URL}\""
   ]
  },
  {
   "cell_type": "markdown",
   "id": "42a9d28e-a206-4ca8-a401-496c9f83e82c",
   "metadata": {},
   "source": [
    "## Start the container\n",
    "\n",
    "In the following cell command to start the container. We need port 8080 to get access to the airflow browser client."
   ]
  },
  {
   "cell_type": "code",
   "execution_count": 1,
   "id": "89b9c445-f5af-4557-bf70-ef6ab1bf0459",
   "metadata": {},
   "outputs": [],
   "source": [
    "!docker run -itd --rm\\\n",
    "    --name start_airflow\\\n",
    "    -p 8080:8080\\\n",
    "    airflow_tests &> /dev/null"
   ]
  },
  {
   "cell_type": "markdown",
   "id": "44124a31-7af8-4e0b-ba80-89b7b4c07d4d",
   "metadata": {},
   "source": [
    "Now you can try `localhost:8080` on your browser (use username - admin and password - admin)."
   ]
  },
  {
   "cell_type": "markdown",
   "id": "411f9898-3ccc-46ab-8610-c1833e89d000",
   "metadata": {},
   "source": [
    "**Don't forget** to stop the container when you don't need it."
   ]
  },
  {
   "cell_type": "code",
   "execution_count": 2,
   "id": "3fa27f30-bd6b-4e9f-9965-d37dbd1738e4",
   "metadata": {},
   "outputs": [],
   "source": [
    "!docker stop start_airflow &> /dev/null"
   ]
  }
 ],
 "metadata": {
  "kernelspec": {
   "display_name": "Python 3 (ipykernel)",
   "language": "python",
   "name": "python3"
  },
  "language_info": {
   "codemirror_mode": {
    "name": "ipython",
    "version": 3
   },
   "file_extension": ".py",
   "mimetype": "text/x-python",
   "name": "python",
   "nbconvert_exporter": "python",
   "pygments_lexer": "ipython3",
   "version": "3.10.6"
  }
 },
 "nbformat": 4,
 "nbformat_minor": 5
}
