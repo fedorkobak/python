{
 "cells": [
  {
   "cell_type": "markdown",
   "id": "90eb1c6f-97d3-4353-abc8-d752f2f2aaf5",
   "metadata": {},
   "source": [
    "# Bash tasks\n",
    "\n",
    "This page will cover the peculiarities of using bash to describe tasks in airflow."
   ]
  },
  {
   "cell_type": "markdown",
   "id": "ea82e699-3381-45c8-b956-7dd1da294d34",
   "metadata": {},
   "source": [
    "## DAG"
   ]
  },
  {
   "cell_type": "code",
   "execution_count": 50,
   "id": "e94c43d4-3e16-4969-a94e-248e063d3019",
   "metadata": {},
   "outputs": [
    {
     "name": "stdout",
     "output_type": "stream",
     "text": [
      "Overwriting bash_tasks/bash_tasks.py\n"
     ]
    }
   ],
   "source": [
    "%%writefile bash_tasks/bash_tasks.py\n",
    "\n",
    "from datetime import datetime, timedelta\n",
    "from textwrap import dedent\n",
    "\n",
    "from airflow import DAG\n",
    "\n",
    "from airflow.operators.bash import BashOperator\n",
    "with DAG(\n",
    "    \"bash_tasks\",\n",
    "    default_args={\n",
    "        \"depends_on_past\": False,\n",
    "    },\n",
    "    description=\"A simple tutorial DAG\",\n",
    "    schedule=timedelta(days=1),\n",
    "    start_date=datetime(2021, 1, 1),\n",
    "    catchup=False,\n",
    "    tags=[\"example\"],\n",
    ") as dag:\n",
    "\n",
    "    print_bash_date = BashOperator(\n",
    "        task_id=\"print_date\",\n",
    "        bash_command=\"\"\"\n",
    "        for i in {0..3}\n",
    "        do\n",
    "            echo \"current date: $(date)\"\n",
    "        done\n",
    "        \"\"\"\n",
    "    )\n",
    "\n",
    "    run_external_script = BashOperator(\n",
    "        task_id=\"external_script\",\n",
    "        bash_command=\"\"\"\n",
    "        for i in {0..3}\n",
    "        do\n",
    "            echo \"current date: $(date)\"\n",
    "        done\n",
    "        \"\"\"\n",
    "    )"
   ]
  },
  {
   "cell_type": "markdown",
   "id": "8648dff6-cdc9-4cb7-97c7-f43c4962622a",
   "metadata": {},
   "source": [
    "## Container"
   ]
  },
  {
   "cell_type": "code",
   "execution_count": 51,
   "id": "abd7830e-3988-4888-8316-3521f7b07256",
   "metadata": {},
   "outputs": [
    {
     "name": "stdout",
     "output_type": "stream",
     "text": [
      "dag_id     | filepath      | owner   | paused\n",
      "===========+===============+=========+=======\n",
      "bash_tasks | bash_tasks.py | airflow | True  \n",
      "                                             \n"
     ]
    }
   ],
   "source": [
    "%%bash\n",
    "docker run -d --rm\\\n",
    "    --name bash_tasks\\\n",
    "    -p 8080:8080\\\n",
    "    -v ./bash_tasks:/root/airflow/dags\\\n",
    "    airflow_tests &> /dev/null\n",
    "\n",
    "docker exec bash_tasks airflow dags list"
   ]
  },
  {
   "cell_type": "code",
   "execution_count": 52,
   "id": "2840d4a6-af5f-462c-a3e4-633c42baf0dd",
   "metadata": {},
   "outputs": [
    {
     "name": "stdout",
     "output_type": "stream",
     "text": [
      "DB: sqlite:////root/airflow/airflow.db\n",
      "Performing upgrade to the metadata database sqlite:////root/airflow/airflow.db\n",
      "[\u001b[34m2023-09-25T11:23:17.657+0000\u001b[0m] {\u001b[34mmigration.py:\u001b[0m213} INFO\u001b[0m - Context impl SQLiteImpl.\u001b[0m\n",
      "[\u001b[34m2023-09-25T11:23:17.658+0000\u001b[0m] {\u001b[34mmigration.py:\u001b[0m216} INFO\u001b[0m - Will assume non-transactional DDL.\u001b[0m\n",
      "[\u001b[34m2023-09-25T11:23:17.659+0000\u001b[0m] {\u001b[34mdb.py:\u001b[0m1622} INFO\u001b[0m - Creating tables\u001b[0m\n",
      "INFO  [alembic.runtime.migration] Context impl SQLiteImpl.\n",
      "INFO  [alembic.runtime.migration] Will assume non-transactional DDL.\n",
      "Database migrating done!\n"
     ]
    }
   ],
   "source": [
    "!docker exec bash_tasks airflow db migrate"
   ]
  },
  {
   "cell_type": "code",
   "execution_count": 46,
   "id": "a182197f-0e7b-4934-a1ca-9b87d57d4bdb",
   "metadata": {},
   "outputs": [
    {
     "name": "stdout",
     "output_type": "stream",
     "text": [
      "bash_tasks\n"
     ]
    }
   ],
   "source": [
    "!docker stop bash_tasks"
   ]
  },
  {
   "cell_type": "markdown",
   "id": "3a8baac4-df99-430e-ab9f-ce68c094157a",
   "metadata": {},
   "source": [
    "## `print_bash_date` "
   ]
  },
  {
   "cell_type": "code",
   "execution_count": 53,
   "id": "db08cf11-c0aa-485c-ad2e-618c6e54bdb8",
   "metadata": {},
   "outputs": [
    {
     "name": "stdout",
     "output_type": "stream",
     "text": [
      "[\u001b[34m2023-09-25T11:23:20.435+0000\u001b[0m] {\u001b[34mdagbag.py:\u001b[0m539} INFO\u001b[0m - Filling up the DagBag from /root/airflow/dags\u001b[0m\n",
      "[\u001b[34m2023-09-25T11:23:20.558+0000\u001b[0m] {\u001b[34mtaskinstance.py:\u001b[0m1157} INFO\u001b[0m - Dependencies all met for dep_context=non-requeueable deps ti=<TaskInstance: bash_tasks.print_date __airflow_temporary_run_2023-09-25T11:21:25.160046+00:00__ [None]>\u001b[0m\n",
      "[\u001b[34m2023-09-25T11:23:20.561+0000\u001b[0m] {\u001b[34mtaskinstance.py:\u001b[0m1157} INFO\u001b[0m - Dependencies all met for dep_context=requeueable deps ti=<TaskInstance: bash_tasks.print_date __airflow_temporary_run_2023-09-25T11:21:25.160046+00:00__ [None]>\u001b[0m\n",
      "[\u001b[34m2023-09-25T11:23:20.562+0000\u001b[0m] {\u001b[34mtaskinstance.py:\u001b[0m1359} INFO\u001b[0m - Starting attempt 1 of 2\u001b[0m\n",
      "[\u001b[34m2023-09-25T11:23:20.562+0000\u001b[0m] {\u001b[34mtaskinstance.py:\u001b[0m1428} WARNING\u001b[0m - cannot record queued_duration for task print_date because previous state change time has not been saved\u001b[0m\n",
      "[\u001b[34m2023-09-25T11:23:20.562+0000\u001b[0m] {\u001b[34mtaskinstance.py:\u001b[0m1380} INFO\u001b[0m - Executing <Task(BashOperator): print_date> on 2015-06-01 00:00:00+00:00\u001b[0m\n",
      "[\u001b[34m2023-09-25T11:23:20.581+0000\u001b[0m] {\u001b[34mtaskinstance.py:\u001b[0m1660} INFO\u001b[0m - Exporting env vars: AIRFLOW_CTX_DAG_OWNER='airflow' AIRFLOW_CTX_DAG_ID='bash_tasks' AIRFLOW_CTX_TASK_ID='print_date' AIRFLOW_CTX_EXECUTION_DATE='2015-06-01T00:00:00+00:00' AIRFLOW_CTX_TRY_NUMBER='1' AIRFLOW_CTX_DAG_RUN_ID='__airflow_temporary_run_2023-09-25T11:21:25.160046+00:00__'\u001b[0m\n",
      "[\u001b[34m2023-09-25T11:23:20.582+0000\u001b[0m] {\u001b[34msubprocess.py:\u001b[0m63} INFO\u001b[0m - Tmp dir root location: /tmp\u001b[0m\n",
      "[\u001b[34m2023-09-25T11:23:20.582+0000\u001b[0m] {\u001b[34msubprocess.py:\u001b[0m75} INFO\u001b[0m - Running command: ['/usr/bin/bash', '-c', '\\n        for i in {0..3}\\n        do\\n            echo \"current date: $(date)\"\\n        done\\n        ']\u001b[0m\n",
      "[\u001b[34m2023-09-25T11:23:20.586+0000\u001b[0m] {\u001b[34msubprocess.py:\u001b[0m86} INFO\u001b[0m - Output:\u001b[0m\n",
      "[\u001b[34m2023-09-25T11:23:20.587+0000\u001b[0m] {\u001b[34msubprocess.py:\u001b[0m93} INFO\u001b[0m - current date: Mon Sep 25 11:23:20 UTC 2023\u001b[0m\n",
      "[\u001b[34m2023-09-25T11:23:20.588+0000\u001b[0m] {\u001b[34msubprocess.py:\u001b[0m93} INFO\u001b[0m - current date: Mon Sep 25 11:23:20 UTC 2023\u001b[0m\n",
      "[\u001b[34m2023-09-25T11:23:20.588+0000\u001b[0m] {\u001b[34msubprocess.py:\u001b[0m93} INFO\u001b[0m - current date: Mon Sep 25 11:23:20 UTC 2023\u001b[0m\n",
      "[\u001b[34m2023-09-25T11:23:20.589+0000\u001b[0m] {\u001b[34msubprocess.py:\u001b[0m93} INFO\u001b[0m - current date: Mon Sep 25 11:23:20 UTC 2023\u001b[0m\n",
      "[\u001b[34m2023-09-25T11:23:20.589+0000\u001b[0m] {\u001b[34msubprocess.py:\u001b[0m97} INFO\u001b[0m - Command exited with return code 0\u001b[0m\n",
      "[\u001b[34m2023-09-25T11:23:20.599+0000\u001b[0m] {\u001b[34mtaskinstance.py:\u001b[0m1398} INFO\u001b[0m - Marking task as SUCCESS. dag_id=bash_tasks, task_id=print_date, execution_date=20150601T000000, start_date=, end_date=20230925T112320\u001b[0m\n"
     ]
    }
   ],
   "source": [
    "!docker exec bash_tasks airflow tasks test bash_tasks print_date 2015-06-01\n",
    "#| grep \" - current date\""
   ]
  }
 ],
 "metadata": {
  "kernelspec": {
   "display_name": "Python 3 (ipykernel)",
   "language": "python",
   "name": "python3"
  },
  "language_info": {
   "codemirror_mode": {
    "name": "ipython",
    "version": 3
   },
   "file_extension": ".py",
   "mimetype": "text/x-python",
   "name": "python",
   "nbconvert_exporter": "python",
   "pygments_lexer": "ipython3",
   "version": "3.10.6"
  }
 },
 "nbformat": 4,
 "nbformat_minor": 5
}
