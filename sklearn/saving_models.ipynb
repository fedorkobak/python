{
 "cells": [
  {
   "cell_type": "markdown",
   "id": "f5791b75-f222-4a15-91e2-62482d6d7083",
   "metadata": {},
   "source": [
    "# Saving models"
   ]
  },
  {
   "cell_type": "code",
   "execution_count": 1,
   "id": "c5f5e5a2-c4a6-4f68-b802-2bab11a657b2",
   "metadata": {},
   "outputs": [],
   "source": [
    "import dill\n",
    "import pickle\n",
    "\n",
    "import numpy as np\n",
    "\n",
    "from IPython.display import HTML\n",
    "\n",
    "from sklearn.preprocessing import FunctionTransformer"
   ]
  },
  {
   "cell_type": "markdown",
   "id": "17aeb387-43f7-4d3e-a1ad-a802121317e6",
   "metadata": {},
   "source": [
    "## pickle\n",
    "\n",
    "Pickle is simpliest way to save python objects and sklearn models/transformers as well."
   ]
  },
  {
   "cell_type": "markdown",
   "id": "0186f299-2548-4e3d-9bb5-68217abcab98",
   "metadata": {},
   "source": [
    "### Basic"
   ]
  },
  {
   "cell_type": "markdown",
   "id": "e8934365-72ca-42c2-9089-2b2595ec2664",
   "metadata": {},
   "source": [
    "Here is a simple sklearn transformer that returns an array with specified row in each value with same number of observations as in input array."
   ]
  },
  {
   "cell_type": "code",
   "execution_count": 2,
   "id": "b9e5418f-d3a5-4db0-8aeb-ff0a336fef7f",
   "metadata": {},
   "outputs": [
    {
     "data": {
      "text/plain": [
       "array([['im from pickle'],\n",
       "       ['im from pickle'],\n",
       "       ['im from pickle']], dtype='<U14')"
      ]
     },
     "execution_count": 2,
     "metadata": {},
     "output_type": "execute_result"
    }
   ],
   "source": [
    "def test(X):\n",
    "    return np.array([[\"im from pickle\"]]*X.shape[0])\n",
    "\n",
    "transformer_obj = FunctionTransformer(test)\n",
    "transformer_obj.fit_transform(np.array([[2],[3],[4]]))"
   ]
  },
  {
   "cell_type": "markdown",
   "id": "dedf5f68-1cdb-4cf3-992b-b1ff065df158",
   "metadata": {},
   "source": [
    "Here is option to save it using pickle. After saving, the object is removed from python memory."
   ]
  },
  {
   "cell_type": "code",
   "execution_count": 3,
   "id": "e1939ab3-a8cb-4f9f-b71a-83ddf20b26a8",
   "metadata": {},
   "outputs": [],
   "source": [
    "with open(\"saving_models_files/pickled_transformer.pkl\", \"wb\") as f:\n",
    "    pickle.dump(transformer_obj, f)\n",
    "del transformer_obj"
   ]
  },
  {
   "cell_type": "markdown",
   "id": "5af40e42-ed17-4bff-9e9b-04c3599e7404",
   "metadata": {},
   "source": [
    "Now let's load the model from the file - all goes well."
   ]
  },
  {
   "cell_type": "code",
   "execution_count": 4,
   "id": "427ba81e-9a05-4901-81e2-7b98a707e6d2",
   "metadata": {},
   "outputs": [
    {
     "data": {
      "text/plain": [
       "array([['im from pickle'],\n",
       "       ['im from pickle']], dtype='<U14')"
      ]
     },
     "execution_count": 4,
     "metadata": {},
     "output_type": "execute_result"
    }
   ],
   "source": [
    "with open(\"saving_models_files/pickled_transformer.pkl\", \"rb\") as f:\n",
    "    loaded_transformer = pickle.load(f)\n",
    "loaded_transformer.transform(np.array([[1],[2]]))"
   ]
  },
  {
   "cell_type": "markdown",
   "id": "0a59a6e7-92ae-4ca0-82cf-0940a3c79c99",
   "metadata": {},
   "source": [
    "### Troubles with functions\n",
    "\n",
    "When using pickle to save models, there is one nuance - the functions you use in your pipline must be available where you are going to deploy it."
   ]
  },
  {
   "cell_type": "markdown",
   "id": "2197d4bb-f14c-4cac-9bb6-66bec9dc0acf",
   "metadata": {},
   "source": [
    "Here the transformer is created and saved as in the previous section, but after saving not only the transformer itself is deleted, but also the function used in it."
   ]
  },
  {
   "cell_type": "code",
   "execution_count": 5,
   "id": "855ae411-5bf2-472c-b4e5-15d3c8c69403",
   "metadata": {},
   "outputs": [],
   "source": [
    "def test(X):\n",
    "    return np.array([[\"im from pickle\"]]*X.shape[0])\n",
    "\n",
    "transformer_obj = FunctionTransformer(test)\n",
    "transformer_obj.fit_transform(np.array([[2],[3],[4]]))\n",
    "\n",
    "with open(\"saving_models_files/pickled_transformer.pkl\", \"wb\") as f:\n",
    "    pickle.dump(transformer_obj, f)\n",
    "del transformer_obj, test"
   ]
  },
  {
   "cell_type": "markdown",
   "id": "e3cef9eb-2132-496f-985a-e98019f5bbdf",
   "metadata": {},
   "source": [
    "Now let's try to load this function from a file - and get an error saying that there is no access to the requested function."
   ]
  },
  {
   "cell_type": "code",
   "execution_count": 6,
   "id": "dc21cd76-3c41-4fc6-8fb2-aeb7fe5748cd",
   "metadata": {},
   "outputs": [
    {
     "name": "stdout",
     "output_type": "stream",
     "text": [
      "Got exception: Can't get attribute 'test' on <module '__main__'>\n"
     ]
    }
   ],
   "source": [
    "try:\n",
    "    with open(\n",
    "        \"saving_models_files/pickled_transformer.pkl\", \"rb\"\n",
    "    ) as f:\n",
    "        loaded_transformer = pickle.load(f)\n",
    "except Exception as e:\n",
    "    print(\"Got exception:\", e)"
   ]
  },
  {
   "cell_type": "markdown",
   "id": "a2fe0bfa-ebc1-43a6-a9f8-936c2a4bda7d",
   "metadata": {},
   "source": [
    "## dill"
   ]
  },
  {
   "cell_type": "markdown",
   "id": "64469106-9470-4345-b5d5-8b9b365560a7",
   "metadata": {},
   "source": [
    "### Basic usage"
   ]
  },
  {
   "cell_type": "markdown",
   "id": "bd8c0ca9-1046-4848-a95e-cabf487b8f08",
   "metadata": {},
   "source": [
    "In the [troubles with functions](#pickle) section, I mentioned that Pickle doesn't store functions that can be used in Sklearn constructions. Using dill for this purpose can help to solve this problem. Let's try the same example using the Dill module instead of the `pickle` module use `dill`."
   ]
  },
  {
   "cell_type": "markdown",
   "id": "7d113439-9537-4ad2-b17f-9c0715529e7d",
   "metadata": {},
   "source": [
    "The following cell creates a Sklearn transformer with specific behaviour:"
   ]
  },
  {
   "cell_type": "code",
   "execution_count": 7,
   "id": "8802a942-4573-4a1d-8829-e4627f2d50df",
   "metadata": {},
   "outputs": [
    {
     "data": {
      "text/plain": [
       "array([['im from dill'],\n",
       "       ['im from dill'],\n",
       "       ['im from dill']], dtype='<U12')"
      ]
     },
     "execution_count": 7,
     "metadata": {},
     "output_type": "execute_result"
    }
   ],
   "source": [
    "def test(X):\n",
    "    return np.array([[\"im from dill\"]]*X.shape[0])\n",
    "\n",
    "transformer_obj = FunctionTransformer(test)\n",
    "transformer_obj.fit_transform(np.array([[2],[3],[4]]))"
   ]
  },
  {
   "cell_type": "markdown",
   "id": "9a10329c-e028-443b-85fa-3a6ba3ded2c6",
   "metadata": {},
   "source": [
    "Now let's save it and immediately delete the transformer and use it."
   ]
  },
  {
   "cell_type": "code",
   "execution_count": 8,
   "id": "40966ab7-5c98-4f07-b0b6-01341514f052",
   "metadata": {},
   "outputs": [],
   "source": [
    "with open(\"saving_models_files/dilled_transformer.pkl\", \"wb\") as f:\n",
    "    dill.dump(transformer_obj, f)\n",
    "del transformer_obj, test"
   ]
  },
  {
   "cell_type": "markdown",
   "id": "7d88d2aa-ebf4-449f-8c56-10207152f8c2",
   "metadata": {},
   "source": [
    "After loading it with dill it still saves it behaviour:"
   ]
  },
  {
   "cell_type": "code",
   "execution_count": 9,
   "id": "a7f42e43-9a77-437e-ac8d-f5fbc5c0a769",
   "metadata": {},
   "outputs": [
    {
     "data": {
      "text/plain": [
       "array([['im from dill'],\n",
       "       ['im from dill']], dtype='<U12')"
      ]
     },
     "execution_count": 9,
     "metadata": {},
     "output_type": "execute_result"
    }
   ],
   "source": [
    "with open(\"saving_models_files/dilled_transformer.pkl\", \"rb\") as f:\n",
    "    transformer_loaded = dill.load(f)\n",
    "transformer_loaded.transform(np.array([[2],[3]]))"
   ]
  },
  {
   "cell_type": "markdown",
   "id": "95d0aca9-423b-4c64-8c73-3eef76fd524c",
   "metadata": {},
   "source": [
    "### Imported modules"
   ]
  },
  {
   "cell_type": "markdown",
   "id": "98da4521-6785-4547-8618-539ea39d330c",
   "metadata": {},
   "source": [
    "#### Problem description"
   ]
  },
  {
   "cell_type": "markdown",
   "id": "9e2c5d7a-f514-4765-bfe8-3b434e204a1b",
   "metadata": {},
   "source": [
    "In the previous section, the function used in the transformer was defined in the same module as the object to be stored. This works fine. But it's much more common to store some functions in other modules, for example for testing purposes. Let's reproduce this problem."
   ]
  },
  {
   "cell_type": "markdown",
   "id": "c6a4e839-0dad-419b-96c9-9cc6a3bb66d5",
   "metadata": {},
   "source": [
    "In the following cell I in separate file function that our transformer will use."
   ]
  },
  {
   "cell_type": "code",
   "execution_count": 10,
   "id": "a0e410de-02d7-4430-9193-f2adb3d74dc8",
   "metadata": {},
   "outputs": [
    {
     "name": "stdout",
     "output_type": "stream",
     "text": [
      "Overwriting saving_models_files/dill_function.py\n"
     ]
    }
   ],
   "source": [
    "%%writefile saving_models_files/dill_function.py\n",
    "import numpy as np\n",
    "\n",
    "def test(X):\n",
    "    return np.array([[\"im from dill\"]]*X.shape[0])"
   ]
  },
  {
   "cell_type": "markdown",
   "id": "17f9c164-3033-4c43-bba0-ec45fee63bc6",
   "metadata": {},
   "source": [
    "Here is a transformer created using the **from module** function."
   ]
  },
  {
   "cell_type": "code",
   "execution_count": 11,
   "id": "be9db6a3-a5fc-46fe-82b3-12c7b3025a4e",
   "metadata": {},
   "outputs": [
    {
     "data": {
      "text/plain": [
       "array([['im from dill'],\n",
       "       ['im from dill'],\n",
       "       ['im from dill']], dtype='<U12')"
      ]
     },
     "metadata": {},
     "output_type": "display_data"
    }
   ],
   "source": [
    "from saving_models_files.dill_function import test\n",
    "\n",
    "transformer_obj = FunctionTransformer(test)\n",
    "display(transformer_obj.fit_transform(np.array([[2],[3],[4]])))\n",
    "\n",
    "with open(\"saving_models_files/dilled_other_module_transformer.pkl\", \"wb\") as f:\n",
    "    dill.dump(transformer_obj, f)"
   ]
  },
  {
   "cell_type": "markdown",
   "id": "96d65f7d-48e3-46b7-ac7a-077c12aeab4a",
   "metadata": {},
   "source": [
    "If you now try to load a file from a file that doesn't have the same access as `test`, you will get an error.\n",
    "\n",
    "In the following cell code that tries to load the transformer is saved in a different folder, so there is no path like `saving_models_files/dill_function.py` there."
   ]
  },
  {
   "cell_type": "code",
   "execution_count": 12,
   "id": "444ac40c-facb-4f37-be9f-ac0534108420",
   "metadata": {},
   "outputs": [
    {
     "name": "stdout",
     "output_type": "stream",
     "text": [
      "Overwriting saving_models_files/dill_loader.py\n"
     ]
    }
   ],
   "source": [
    "%%writefile saving_models_files/dill_loader.py\n",
    "import dill\n",
    "import numpy as np\n",
    "\n",
    "try:\n",
    "    with open(\"dilled_other_module_transformer.pkl\", \"rb\") as f:\n",
    "        transformer_loaded = dill.load(f)\n",
    "    print(transformer_loaded.fit_transform(np.array([[2],[3],[4]])))\n",
    "except Exception as e:\n",
    "    print(\"Got exception:\", e)"
   ]
  },
  {
   "cell_type": "markdown",
   "id": "bdaa6083-e9dc-4892-bbe3-f90e152f12cc",
   "metadata": {},
   "source": [
    "Now let's try to run this code from its folder."
   ]
  },
  {
   "cell_type": "code",
   "execution_count": 13,
   "id": "c43a9e73-2652-489f-80a6-57458f7a4a06",
   "metadata": {},
   "outputs": [
    {
     "name": "stdout",
     "output_type": "stream",
     "text": [
      "Got exception: No module named 'saving_models_files'\n"
     ]
    }
   ],
   "source": [
    "%%bash\n",
    "cd saving_models_files\n",
    "python3 dill_loader.py"
   ]
  },
  {
   "cell_type": "markdown",
   "id": "94205694-f39f-4082-881d-ad2046a110c0",
   "metadata": {},
   "source": [
    "The result is error."
   ]
  },
  {
   "cell_type": "markdown",
   "id": "098e3b98-c031-4150-a350-82ee877aa008",
   "metadata": {},
   "source": [
    "#### Solution\n",
    "\n",
    "There is a really similar blog to this - https://oegedijk.github.io/blog/ check it out. And there is described the <a href=\"https://oegedijk.github.io/blog/pickle/dill/python/2020/11/10/serializing-dill-references.html\">same issue</a>. Solution is stolen there."
   ]
  },
  {
   "cell_type": "markdown",
   "id": "93881544-a6b3-4bc0-a002-4d61dbcf69aa",
   "metadata": {},
   "source": [
    "The problem is that python knows the modules from which the objects are taken. So the next cell shows the __module__ attribute for imponentiated and locally declared functions."
   ]
  },
  {
   "cell_type": "code",
   "execution_count": 14,
   "id": "755ecb10-cc6a-4df2-94c5-aaec89333613",
   "metadata": {},
   "outputs": [
    {
     "name": "stdout",
     "output_type": "stream",
     "text": [
      "test.__module__ - saving_models_files.dill_function\n",
      "test2.__module__ - __main__\n"
     ]
    }
   ],
   "source": [
    "from saving_models_files.dill_function import test\n",
    "def test2():\n",
    "    pass\n",
    "print(\n",
    "    \"test.__module__ - \", test.__module__, \"\\n\",\n",
    "    \"test2.__module__ - \", test2.__module__, sep = \"\"\n",
    ")"
   ]
  },
  {
   "cell_type": "markdown",
   "id": "d3a84026-8f03-4f1c-a573-fe95dbd91cc8",
   "metadata": {},
   "source": [
    "It looks like `dill` only saves objects defined in `__main__`. So one of the solutions is to simply redefine them in the current module. So a `mainify` function from the following cell will do it. This shows that the `__module__` attribute was really changed, and saves trasnformer that was created with the changed function."
   ]
  },
  {
   "cell_type": "code",
   "execution_count": 15,
   "id": "f35658e1-cd99-4282-9b3c-8044e9084345",
   "metadata": {},
   "outputs": [
    {
     "name": "stdout",
     "output_type": "stream",
     "text": [
      "before mainify test.__module__=='saving_models_files.dill_function'\n",
      "after mainify test.__module__=='__main__'\n",
      "\n"
     ]
    }
   ],
   "source": [
    "def mainify(obj):\n",
    "    if obj.__module__ != \"__main__\":\n",
    "        import __main__\n",
    "        import inspect\n",
    "        s = inspect.getsource(obj)\n",
    "        co = compile(s, '<string>', 'exec')\n",
    "        exec(co, __main__.__dict__)\n",
    "\n",
    "\n",
    "# showing that mainify really changes __module__\n",
    "# attribute\n",
    "from saving_models_files.dill_function import test\n",
    "print(f\"before mainify test.__module__=='{test.__module__}'\",)\n",
    "mainify(test)\n",
    "print(f\"after mainify test.__module__=='{test.__module__}'\", end = \"\\n\\n\")\n",
    "\n",
    "\n",
    "transformer_obj = FunctionTransformer(test)\n",
    "with open(\"saving_models_files/dilled_other_module_transformer.pkl\", \"wb\") as f:\n",
    "    dill.dump(transformer_obj, f)\n",
    "del transformer_obj, test"
   ]
  },
  {
   "cell_type": "markdown",
   "id": "8f2ddb6f-8119-41ce-8057-b38f6c2a78f6",
   "metadata": {},
   "source": [
    "Finally let's try to execute the same code that we was trying to exceture before."
   ]
  },
  {
   "cell_type": "code",
   "execution_count": 16,
   "id": "e2b3c83d-4a6e-4bab-8fc7-0a628fad1571",
   "metadata": {},
   "outputs": [
    {
     "name": "stdout",
     "output_type": "stream",
     "text": [
      "[['im from dill']\n",
      " ['im from dill']\n",
      " ['im from dill']]\n"
     ]
    }
   ],
   "source": [
    "%%bash\n",
    "cd saving_models_files\n",
    "python3 dill_loader.py"
   ]
  },
  {
   "cell_type": "markdown",
   "id": "3816f8b6-7d3c-4ad8-82b4-dd842314bb62",
   "metadata": {},
   "source": [
    "Now code goes fine."
   ]
  }
 ],
 "metadata": {
  "kernelspec": {
   "display_name": "Python 3 (ipykernel)",
   "language": "python",
   "name": "python3"
  },
  "language_info": {
   "codemirror_mode": {
    "name": "ipython",
    "version": 3
   },
   "file_extension": ".py",
   "mimetype": "text/x-python",
   "name": "python",
   "nbconvert_exporter": "python",
   "pygments_lexer": "ipython3",
   "version": "3.10.12"
  }
 },
 "nbformat": 4,
 "nbformat_minor": 5
}
