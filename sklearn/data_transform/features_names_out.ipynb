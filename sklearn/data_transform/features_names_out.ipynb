{
 "cells": [
  {
   "cell_type": "markdown",
   "id": "6e3244b8-17c4-47be-a081-73042890bf3b",
   "metadata": {},
   "source": [
    "# Features names out"
   ]
  },
  {
   "cell_type": "markdown",
   "id": "0431a9e2-05ca-4b56-b9fb-5be244cb9a73",
   "metadata": {},
   "source": [
    "Having the ability to identify columns after applying transformations using different sklearn transformers is highly crucial. By default, sklearn transformers generate `numpy.array` outputs, lacking the column structure found in `pandas.DataFrame`.\n",
    "\n",
    "Fortunately, a solution to this problem has been introduced in `sklearn==1.1`. This solution involves the utilization of the `get_feature_names_out` method, which returns the feature names as values."
   ]
  },
  {
   "cell_type": "code",
   "execution_count": 1,
   "id": "7db2c8f6-a191-4ac0-81f2-9af7888c0495",
   "metadata": {},
   "outputs": [],
   "source": [
    "from datetime import datetime\n",
    "\n",
    "import numpy as np\n",
    "import pandas as pd\n",
    "\n",
    "from IPython.display import HTML\n",
    "header_template = \"<p style='font-size:17px'>{}</p>\"\n",
    "\n",
    "from sklearn.preprocessing import (\n",
    "    FunctionTransformer,\n",
    "    StandardScaler,\n",
    "    PolynomialFeatures,\n",
    "    OneHotEncoder\n",
    ")\n",
    "from sklearn.datasets import make_regression\n",
    "from sklearn.compose import ColumnTransformer\n",
    "from sklearn.ensemble import GradientBoostingRegressor\n",
    "from sklearn.pipeline import Pipeline\n",
    "\n",
    "import matplotlib.pyplot as plt\n",
    "\n",
    "# this is frame with few numeric columns that\n",
    "# is typically used for examples\n",
    "input_frame = pd.DataFrame({\n",
    "    f\"feature{n}\" : np.random.normal(0, 10, 5)\n",
    "    for n in range(3)\n",
    "})"
   ]
  },
  {
   "cell_type": "markdown",
   "id": "f926d7bd-5cdb-48b1-9d68-e38a61f52117",
   "metadata": {},
   "source": [
    "## Defined names"
   ]
  },
  {
   "cell_type": "markdown",
   "id": "a516953c-89e7-419d-9a8c-c8fc5f1a0522",
   "metadata": {},
   "source": [
    "There are converters that specify columns output names by themselves. In them you can simply call `get_features_names_out` in the trained object and the input names of the features will be returned. Some examples of such transformers:]\n",
    "\n",
    "- `StandartScaler`;\n",
    "- `OneHotEncoder`;\n",
    "- `ColumnTransformer`;\n",
    "- `PolynomialFeatures`;\n",
    "- `CountVectorizer`;\n",
    "- `TfidfVectorizer`."
   ]
  },
  {
   "cell_type": "markdown",
   "id": "ed9c69fe-c97b-4090-b70e-aa74490c7d95",
   "metadata": {},
   "source": [
    "### `StandartScaler`"
   ]
  },
  {
   "cell_type": "markdown",
   "id": "dd764fb2-353c-4a61-a58a-9254c5895604",
   "metadata": {},
   "source": [
    "So in the following example cell is for `StandardScaler` - it just keeps names of the input array:"
   ]
  },
  {
   "cell_type": "code",
   "execution_count": 2,
   "id": "bc1de995-a051-430b-a756-f877153e7e9f",
   "metadata": {},
   "outputs": [
    {
     "data": {
      "text/html": [
       "<p style='font-size:17px'>Input dataframe</p>"
      ],
      "text/plain": [
       "<IPython.core.display.HTML object>"
      ]
     },
     "metadata": {},
     "output_type": "display_data"
    },
    {
     "data": {
      "text/html": [
       "<div>\n",
       "<style scoped>\n",
       "    .dataframe tbody tr th:only-of-type {\n",
       "        vertical-align: middle;\n",
       "    }\n",
       "\n",
       "    .dataframe tbody tr th {\n",
       "        vertical-align: top;\n",
       "    }\n",
       "\n",
       "    .dataframe thead th {\n",
       "        text-align: right;\n",
       "    }\n",
       "</style>\n",
       "<table border=\"1\" class=\"dataframe\">\n",
       "  <thead>\n",
       "    <tr style=\"text-align: right;\">\n",
       "      <th></th>\n",
       "      <th>feature0</th>\n",
       "      <th>feature1</th>\n",
       "      <th>feature2</th>\n",
       "    </tr>\n",
       "  </thead>\n",
       "  <tbody>\n",
       "    <tr>\n",
       "      <th>0</th>\n",
       "      <td>-14.280722</td>\n",
       "      <td>31.497491</td>\n",
       "      <td>6.184412</td>\n",
       "    </tr>\n",
       "    <tr>\n",
       "      <th>1</th>\n",
       "      <td>-2.075748</td>\n",
       "      <td>-8.914110</td>\n",
       "      <td>-22.870986</td>\n",
       "    </tr>\n",
       "    <tr>\n",
       "      <th>2</th>\n",
       "      <td>-5.787826</td>\n",
       "      <td>-8.953351</td>\n",
       "      <td>7.191721</td>\n",
       "    </tr>\n",
       "    <tr>\n",
       "      <th>3</th>\n",
       "      <td>2.867856</td>\n",
       "      <td>-1.689381</td>\n",
       "      <td>-0.849110</td>\n",
       "    </tr>\n",
       "    <tr>\n",
       "      <th>4</th>\n",
       "      <td>-1.705764</td>\n",
       "      <td>-2.525341</td>\n",
       "      <td>9.514077</td>\n",
       "    </tr>\n",
       "  </tbody>\n",
       "</table>\n",
       "</div>"
      ],
      "text/plain": [
       "    feature0   feature1   feature2\n",
       "0 -14.280722  31.497491   6.184412\n",
       "1  -2.075748  -8.914110 -22.870986\n",
       "2  -5.787826  -8.953351   7.191721\n",
       "3   2.867856  -1.689381  -0.849110\n",
       "4  -1.705764  -2.525341   9.514077"
      ]
     },
     "metadata": {},
     "output_type": "display_data"
    },
    {
     "data": {
      "text/html": [
       "<p style='font-size:17px'>transform result</p>"
      ],
      "text/plain": [
       "<IPython.core.display.HTML object>"
      ]
     },
     "metadata": {},
     "output_type": "display_data"
    },
    {
     "data": {
      "text/plain": [
       "array([[-1.75635129,  1.95850161,  0.53512169],\n",
       "       [ 0.3693552 , -0.71405318, -1.91325944],\n",
       "       [-0.27716716, -0.71664833,  0.62000351],\n",
       "       [ 1.23036894, -0.23625764, -0.05756487],\n",
       "       [ 0.43379432, -0.29154246,  0.81569911]])"
      ]
     },
     "metadata": {},
     "output_type": "display_data"
    },
    {
     "data": {
      "text/html": [
       "<p style='font-size:17px'>.get_features_names_out result</p>"
      ],
      "text/plain": [
       "<IPython.core.display.HTML object>"
      ]
     },
     "metadata": {},
     "output_type": "display_data"
    },
    {
     "data": {
      "text/plain": [
       "array(['feature0', 'feature1', 'feature2'], dtype=object)"
      ]
     },
     "metadata": {},
     "output_type": "display_data"
    }
   ],
   "source": [
    "display(HTML(header_template.format(\"Input dataframe\")))\n",
    "display(input_frame)\n",
    "\n",
    "my_scaler = StandardScaler()\n",
    "display(HTML(header_template.format(\"transform result\")))\n",
    "display(my_scaler.fit_transform(input_frame))\n",
    "\n",
    "display(HTML(header_template.format(\".get_features_names_out result\")))\n",
    "display(my_scaler.get_feature_names_out())"
   ]
  },
  {
   "cell_type": "markdown",
   "id": "f17a9c49-00f6-437e-a261-dfa3753238b1",
   "metadata": {},
   "source": [
    "### `PolynomialFeatures`"
   ]
  },
  {
   "cell_type": "markdown",
   "id": "5fc2fa93-528c-425d-8edd-ca7a5f802697",
   "metadata": {},
   "source": [
    "The example we considered before was for `StandardScaler` - it returns the same amount of features as it was in the input. But what if we consider transformers that output more columns than there were in the input?\n",
    "\n",
    "Obviously `PolynomialFeatures` belongs to such transformers in that it returns products and powers of the original features. So the next cell prints out `get_feature_names` from `PolynomialFeatures`."
   ]
  },
  {
   "cell_type": "code",
   "execution_count": 3,
   "id": "de435cd5-eef6-43e6-93ab-77927a40089c",
   "metadata": {},
   "outputs": [
    {
     "data": {
      "text/html": [
       "<p style='font-size:17px'>Input frame</p>"
      ],
      "text/plain": [
       "<IPython.core.display.HTML object>"
      ]
     },
     "metadata": {},
     "output_type": "display_data"
    },
    {
     "data": {
      "text/html": [
       "<div>\n",
       "<style scoped>\n",
       "    .dataframe tbody tr th:only-of-type {\n",
       "        vertical-align: middle;\n",
       "    }\n",
       "\n",
       "    .dataframe tbody tr th {\n",
       "        vertical-align: top;\n",
       "    }\n",
       "\n",
       "    .dataframe thead th {\n",
       "        text-align: right;\n",
       "    }\n",
       "</style>\n",
       "<table border=\"1\" class=\"dataframe\">\n",
       "  <thead>\n",
       "    <tr style=\"text-align: right;\">\n",
       "      <th></th>\n",
       "      <th>feature0</th>\n",
       "      <th>feature1</th>\n",
       "      <th>feature2</th>\n",
       "    </tr>\n",
       "  </thead>\n",
       "  <tbody>\n",
       "    <tr>\n",
       "      <th>0</th>\n",
       "      <td>-14.280722</td>\n",
       "      <td>31.497491</td>\n",
       "      <td>6.184412</td>\n",
       "    </tr>\n",
       "    <tr>\n",
       "      <th>1</th>\n",
       "      <td>-2.075748</td>\n",
       "      <td>-8.914110</td>\n",
       "      <td>-22.870986</td>\n",
       "    </tr>\n",
       "    <tr>\n",
       "      <th>2</th>\n",
       "      <td>-5.787826</td>\n",
       "      <td>-8.953351</td>\n",
       "      <td>7.191721</td>\n",
       "    </tr>\n",
       "    <tr>\n",
       "      <th>3</th>\n",
       "      <td>2.867856</td>\n",
       "      <td>-1.689381</td>\n",
       "      <td>-0.849110</td>\n",
       "    </tr>\n",
       "    <tr>\n",
       "      <th>4</th>\n",
       "      <td>-1.705764</td>\n",
       "      <td>-2.525341</td>\n",
       "      <td>9.514077</td>\n",
       "    </tr>\n",
       "  </tbody>\n",
       "</table>\n",
       "</div>"
      ],
      "text/plain": [
       "    feature0   feature1   feature2\n",
       "0 -14.280722  31.497491   6.184412\n",
       "1  -2.075748  -8.914110 -22.870986\n",
       "2  -5.787826  -8.953351   7.191721\n",
       "3   2.867856  -1.689381  -0.849110\n",
       "4  -1.705764  -2.525341   9.514077"
      ]
     },
     "metadata": {},
     "output_type": "display_data"
    },
    {
     "data": {
      "text/html": [
       "<p style='font-size:17px'>Output feature names</p>"
      ],
      "text/plain": [
       "<IPython.core.display.HTML object>"
      ]
     },
     "metadata": {},
     "output_type": "display_data"
    },
    {
     "data": {
      "text/plain": [
       "array(['1', 'feature0', 'feature1', 'feature2', 'feature0^2',\n",
       "       'feature0 feature1', 'feature0 feature2', 'feature1^2',\n",
       "       'feature1 feature2', 'feature2^2'], dtype=object)"
      ]
     },
     "metadata": {},
     "output_type": "display_data"
    }
   ],
   "source": [
    "poly_transformer = PolynomialFeatures()\n",
    "poly_transformer.fit_transform(input_frame)\n",
    "\n",
    "display(HTML(header_template.format(\"Input frame\")))\n",
    "display(input_frame)\n",
    "display(HTML(header_template.format(\"Output feature names\")))\n",
    "display(poly_transformer.get_feature_names_out())"
   ]
  },
  {
   "cell_type": "markdown",
   "id": "2bbe75b7-92cb-4500-a5a5-08eaf98741ae",
   "metadata": {},
   "source": [
    "Everything is pretty simple - it writes the names of the inputs used in the product one by one and uses the `^` symbol to declare the power.\n",
    "\n",
    "It seems that other transformers with such features will have something similar - quite simple, but not really customisable."
   ]
  },
  {
   "cell_type": "markdown",
   "id": "6dc8822e-c7b2-4a9d-90e4-a435ba428d3b",
   "metadata": {},
   "source": [
    "## `FunctionTransformer`"
   ]
  },
  {
   "cell_type": "markdown",
   "id": "3c0dc823-120a-44f0-b487-bb48281a806f",
   "metadata": {},
   "source": [
    "This transformer have a bit tricky behaviour of `get_feature_names_out` method. \n",
    "\n",
    "You have to specify `feature_names_out`. It can be `\"one-to-one\"` or something callable. For both options I have examples below."
   ]
  },
  {
   "cell_type": "markdown",
   "id": "89585c2e-152d-4805-9aae-176bba38d43f",
   "metadata": {},
   "source": [
    "### `\"one-to-one\"`"
   ]
  },
  {
   "cell_type": "markdown",
   "id": "53a85c8c-24af-4413-b520-97d3d7030277",
   "metadata": {},
   "source": [
    "`one-to-one` simply causes `.get_feature_names_out` to return the feature names as they were in the input. The following example is sutitable for `dummy` transformer - the following example is suitable for the `dummy` transformer - it simply returns it's input."
   ]
  },
  {
   "cell_type": "code",
   "execution_count": 4,
   "id": "f589470e-a170-44d2-a0ea-35ae21d9bdc1",
   "metadata": {},
   "outputs": [
    {
     "data": {
      "text/html": [
       "<p style='font-size:17px'>Input dataframe</p>"
      ],
      "text/plain": [
       "<IPython.core.display.HTML object>"
      ]
     },
     "metadata": {},
     "output_type": "display_data"
    },
    {
     "data": {
      "text/html": [
       "<div>\n",
       "<style scoped>\n",
       "    .dataframe tbody tr th:only-of-type {\n",
       "        vertical-align: middle;\n",
       "    }\n",
       "\n",
       "    .dataframe tbody tr th {\n",
       "        vertical-align: top;\n",
       "    }\n",
       "\n",
       "    .dataframe thead th {\n",
       "        text-align: right;\n",
       "    }\n",
       "</style>\n",
       "<table border=\"1\" class=\"dataframe\">\n",
       "  <thead>\n",
       "    <tr style=\"text-align: right;\">\n",
       "      <th></th>\n",
       "      <th>feature0</th>\n",
       "      <th>feature1</th>\n",
       "      <th>feature2</th>\n",
       "    </tr>\n",
       "  </thead>\n",
       "  <tbody>\n",
       "    <tr>\n",
       "      <th>0</th>\n",
       "      <td>-14.280722</td>\n",
       "      <td>31.497491</td>\n",
       "      <td>6.184412</td>\n",
       "    </tr>\n",
       "    <tr>\n",
       "      <th>1</th>\n",
       "      <td>-2.075748</td>\n",
       "      <td>-8.914110</td>\n",
       "      <td>-22.870986</td>\n",
       "    </tr>\n",
       "    <tr>\n",
       "      <th>2</th>\n",
       "      <td>-5.787826</td>\n",
       "      <td>-8.953351</td>\n",
       "      <td>7.191721</td>\n",
       "    </tr>\n",
       "    <tr>\n",
       "      <th>3</th>\n",
       "      <td>2.867856</td>\n",
       "      <td>-1.689381</td>\n",
       "      <td>-0.849110</td>\n",
       "    </tr>\n",
       "    <tr>\n",
       "      <th>4</th>\n",
       "      <td>-1.705764</td>\n",
       "      <td>-2.525341</td>\n",
       "      <td>9.514077</td>\n",
       "    </tr>\n",
       "  </tbody>\n",
       "</table>\n",
       "</div>"
      ],
      "text/plain": [
       "    feature0   feature1   feature2\n",
       "0 -14.280722  31.497491   6.184412\n",
       "1  -2.075748  -8.914110 -22.870986\n",
       "2  -5.787826  -8.953351   7.191721\n",
       "3   2.867856  -1.689381  -0.849110\n",
       "4  -1.705764  -2.525341   9.514077"
      ]
     },
     "metadata": {},
     "output_type": "display_data"
    },
    {
     "data": {
      "text/html": [
       "<p style='font-size:17px'>transform result</p>"
      ],
      "text/plain": [
       "<IPython.core.display.HTML object>"
      ]
     },
     "metadata": {},
     "output_type": "display_data"
    },
    {
     "data": {
      "text/html": [
       "<div>\n",
       "<style scoped>\n",
       "    .dataframe tbody tr th:only-of-type {\n",
       "        vertical-align: middle;\n",
       "    }\n",
       "\n",
       "    .dataframe tbody tr th {\n",
       "        vertical-align: top;\n",
       "    }\n",
       "\n",
       "    .dataframe thead th {\n",
       "        text-align: right;\n",
       "    }\n",
       "</style>\n",
       "<table border=\"1\" class=\"dataframe\">\n",
       "  <thead>\n",
       "    <tr style=\"text-align: right;\">\n",
       "      <th></th>\n",
       "      <th>feature0</th>\n",
       "      <th>feature1</th>\n",
       "      <th>feature2</th>\n",
       "    </tr>\n",
       "  </thead>\n",
       "  <tbody>\n",
       "    <tr>\n",
       "      <th>0</th>\n",
       "      <td>-14.280722</td>\n",
       "      <td>31.497491</td>\n",
       "      <td>6.184412</td>\n",
       "    </tr>\n",
       "    <tr>\n",
       "      <th>1</th>\n",
       "      <td>-2.075748</td>\n",
       "      <td>-8.914110</td>\n",
       "      <td>-22.870986</td>\n",
       "    </tr>\n",
       "    <tr>\n",
       "      <th>2</th>\n",
       "      <td>-5.787826</td>\n",
       "      <td>-8.953351</td>\n",
       "      <td>7.191721</td>\n",
       "    </tr>\n",
       "    <tr>\n",
       "      <th>3</th>\n",
       "      <td>2.867856</td>\n",
       "      <td>-1.689381</td>\n",
       "      <td>-0.849110</td>\n",
       "    </tr>\n",
       "    <tr>\n",
       "      <th>4</th>\n",
       "      <td>-1.705764</td>\n",
       "      <td>-2.525341</td>\n",
       "      <td>9.514077</td>\n",
       "    </tr>\n",
       "  </tbody>\n",
       "</table>\n",
       "</div>"
      ],
      "text/plain": [
       "    feature0   feature1   feature2\n",
       "0 -14.280722  31.497491   6.184412\n",
       "1  -2.075748  -8.914110 -22.870986\n",
       "2  -5.787826  -8.953351   7.191721\n",
       "3   2.867856  -1.689381  -0.849110\n",
       "4  -1.705764  -2.525341   9.514077"
      ]
     },
     "metadata": {},
     "output_type": "display_data"
    },
    {
     "data": {
      "text/html": [
       "<p style='font-size:17px'>.get_features_names_out result</p>"
      ],
      "text/plain": [
       "<IPython.core.display.HTML object>"
      ]
     },
     "metadata": {},
     "output_type": "display_data"
    },
    {
     "data": {
      "text/plain": [
       "array(['feature0', 'feature1', 'feature2'], dtype=object)"
      ]
     },
     "metadata": {},
     "output_type": "display_data"
    }
   ],
   "source": [
    "display(HTML(header_template.format(\"Input dataframe\")))\n",
    "display(input_frame)\n",
    "\n",
    "my_scaler = FunctionTransformer(\n",
    "    lambda X : X,\n",
    "    feature_names_out = \"one-to-one\"\n",
    ")\n",
    "display(HTML(header_template.format(\"transform result\")))\n",
    "display(my_scaler.fit_transform(input_frame))\n",
    "\n",
    "display(HTML(header_template.format(\".get_features_names_out result\")))\n",
    "display(my_scaler.get_feature_names_out())"
   ]
  },
  {
   "cell_type": "markdown",
   "id": "d03429ce-d091-4b98-a28d-8c27685167d0",
   "metadata": {},
   "source": [
    "**Note**: While the usefulness of `.get_feature_names_out` may not be apparent in the current case where a transformer returns a dataframe, it becomes valuable in more complex pipelines where it remembers feature names in a scikit-learn style. Its ability to retain names can be crucial in such scenarios, making it a useful feature to have."
   ]
  },
  {
   "cell_type": "markdown",
   "id": "6192b10b-ba1a-48c1-86b4-729688e9a844",
   "metadata": {},
   "source": [
    "### Callable\n",
    "\n",
    "If you pass callable as argument to `feature_names_out` it will be called with `.get_feature_names_out`. It should instance of `FunctionTransformer` that called method and input array of input features. "
   ]
  },
  {
   "cell_type": "markdown",
   "id": "b42ee354-4003-42fb-9419-abdf96043434",
   "metadata": {},
   "source": [
    "#### Expected inputs\n",
    "\n",
    "Let's study what is passed to the specified in `feature_names_out` funcion on the example. Let's just try to substitute such a function that will return its own input elements."
   ]
  },
  {
   "cell_type": "code",
   "execution_count": 5,
   "id": "245afddb-fa4c-4315-9021-16006cb0d0db",
   "metadata": {},
   "outputs": [
    {
     "data": {
      "text/html": [
       "<p style='font-size:17px'>First argument - transformer itself</p>"
      ],
      "text/plain": [
       "<IPython.core.display.HTML object>"
      ]
     },
     "metadata": {},
     "output_type": "display_data"
    },
    {
     "data": {
      "text/html": [
       "<style>#sk-container-id-1 {\n",
       "  /* Definition of color scheme common for light and dark mode */\n",
       "  --sklearn-color-text: black;\n",
       "  --sklearn-color-line: gray;\n",
       "  /* Definition of color scheme for unfitted estimators */\n",
       "  --sklearn-color-unfitted-level-0: #fff5e6;\n",
       "  --sklearn-color-unfitted-level-1: #f6e4d2;\n",
       "  --sklearn-color-unfitted-level-2: #ffe0b3;\n",
       "  --sklearn-color-unfitted-level-3: chocolate;\n",
       "  /* Definition of color scheme for fitted estimators */\n",
       "  --sklearn-color-fitted-level-0: #f0f8ff;\n",
       "  --sklearn-color-fitted-level-1: #d4ebff;\n",
       "  --sklearn-color-fitted-level-2: #b3dbfd;\n",
       "  --sklearn-color-fitted-level-3: cornflowerblue;\n",
       "\n",
       "  /* Specific color for light theme */\n",
       "  --sklearn-color-text-on-default-background: var(--sg-text-color, var(--theme-code-foreground, var(--jp-content-font-color1, black)));\n",
       "  --sklearn-color-background: var(--sg-background-color, var(--theme-background, var(--jp-layout-color0, white)));\n",
       "  --sklearn-color-border-box: var(--sg-text-color, var(--theme-code-foreground, var(--jp-content-font-color1, black)));\n",
       "  --sklearn-color-icon: #696969;\n",
       "\n",
       "  @media (prefers-color-scheme: dark) {\n",
       "    /* Redefinition of color scheme for dark theme */\n",
       "    --sklearn-color-text-on-default-background: var(--sg-text-color, var(--theme-code-foreground, var(--jp-content-font-color1, white)));\n",
       "    --sklearn-color-background: var(--sg-background-color, var(--theme-background, var(--jp-layout-color0, #111)));\n",
       "    --sklearn-color-border-box: var(--sg-text-color, var(--theme-code-foreground, var(--jp-content-font-color1, white)));\n",
       "    --sklearn-color-icon: #878787;\n",
       "  }\n",
       "}\n",
       "\n",
       "#sk-container-id-1 {\n",
       "  color: var(--sklearn-color-text);\n",
       "}\n",
       "\n",
       "#sk-container-id-1 pre {\n",
       "  padding: 0;\n",
       "}\n",
       "\n",
       "#sk-container-id-1 input.sk-hidden--visually {\n",
       "  border: 0;\n",
       "  clip: rect(1px 1px 1px 1px);\n",
       "  clip: rect(1px, 1px, 1px, 1px);\n",
       "  height: 1px;\n",
       "  margin: -1px;\n",
       "  overflow: hidden;\n",
       "  padding: 0;\n",
       "  position: absolute;\n",
       "  width: 1px;\n",
       "}\n",
       "\n",
       "#sk-container-id-1 div.sk-dashed-wrapped {\n",
       "  border: 1px dashed var(--sklearn-color-line);\n",
       "  margin: 0 0.4em 0.5em 0.4em;\n",
       "  box-sizing: border-box;\n",
       "  padding-bottom: 0.4em;\n",
       "  background-color: var(--sklearn-color-background);\n",
       "}\n",
       "\n",
       "#sk-container-id-1 div.sk-container {\n",
       "  /* jupyter's `normalize.less` sets `[hidden] { display: none; }`\n",
       "     but bootstrap.min.css set `[hidden] { display: none !important; }`\n",
       "     so we also need the `!important` here to be able to override the\n",
       "     default hidden behavior on the sphinx rendered scikit-learn.org.\n",
       "     See: https://github.com/scikit-learn/scikit-learn/issues/21755 */\n",
       "  display: inline-block !important;\n",
       "  position: relative;\n",
       "}\n",
       "\n",
       "#sk-container-id-1 div.sk-text-repr-fallback {\n",
       "  display: none;\n",
       "}\n",
       "\n",
       "div.sk-parallel-item,\n",
       "div.sk-serial,\n",
       "div.sk-item {\n",
       "  /* draw centered vertical line to link estimators */\n",
       "  background-image: linear-gradient(var(--sklearn-color-text-on-default-background), var(--sklearn-color-text-on-default-background));\n",
       "  background-size: 2px 100%;\n",
       "  background-repeat: no-repeat;\n",
       "  background-position: center center;\n",
       "}\n",
       "\n",
       "/* Parallel-specific style estimator block */\n",
       "\n",
       "#sk-container-id-1 div.sk-parallel-item::after {\n",
       "  content: \"\";\n",
       "  width: 100%;\n",
       "  border-bottom: 2px solid var(--sklearn-color-text-on-default-background);\n",
       "  flex-grow: 1;\n",
       "}\n",
       "\n",
       "#sk-container-id-1 div.sk-parallel {\n",
       "  display: flex;\n",
       "  align-items: stretch;\n",
       "  justify-content: center;\n",
       "  background-color: var(--sklearn-color-background);\n",
       "  position: relative;\n",
       "}\n",
       "\n",
       "#sk-container-id-1 div.sk-parallel-item {\n",
       "  display: flex;\n",
       "  flex-direction: column;\n",
       "}\n",
       "\n",
       "#sk-container-id-1 div.sk-parallel-item:first-child::after {\n",
       "  align-self: flex-end;\n",
       "  width: 50%;\n",
       "}\n",
       "\n",
       "#sk-container-id-1 div.sk-parallel-item:last-child::after {\n",
       "  align-self: flex-start;\n",
       "  width: 50%;\n",
       "}\n",
       "\n",
       "#sk-container-id-1 div.sk-parallel-item:only-child::after {\n",
       "  width: 0;\n",
       "}\n",
       "\n",
       "/* Serial-specific style estimator block */\n",
       "\n",
       "#sk-container-id-1 div.sk-serial {\n",
       "  display: flex;\n",
       "  flex-direction: column;\n",
       "  align-items: center;\n",
       "  background-color: var(--sklearn-color-background);\n",
       "  padding-right: 1em;\n",
       "  padding-left: 1em;\n",
       "}\n",
       "\n",
       "\n",
       "/* Toggleable style: style used for estimator/Pipeline/ColumnTransformer box that is\n",
       "clickable and can be expanded/collapsed.\n",
       "- Pipeline and ColumnTransformer use this feature and define the default style\n",
       "- Estimators will overwrite some part of the style using the `sk-estimator` class\n",
       "*/\n",
       "\n",
       "/* Pipeline and ColumnTransformer style (default) */\n",
       "\n",
       "#sk-container-id-1 div.sk-toggleable {\n",
       "  /* Default theme specific background. It is overwritten whether we have a\n",
       "  specific estimator or a Pipeline/ColumnTransformer */\n",
       "  background-color: var(--sklearn-color-background);\n",
       "}\n",
       "\n",
       "/* Toggleable label */\n",
       "#sk-container-id-1 label.sk-toggleable__label {\n",
       "  cursor: pointer;\n",
       "  display: block;\n",
       "  width: 100%;\n",
       "  margin-bottom: 0;\n",
       "  padding: 0.5em;\n",
       "  box-sizing: border-box;\n",
       "  text-align: center;\n",
       "}\n",
       "\n",
       "#sk-container-id-1 label.sk-toggleable__label-arrow:before {\n",
       "  /* Arrow on the left of the label */\n",
       "  content: \"▸\";\n",
       "  float: left;\n",
       "  margin-right: 0.25em;\n",
       "  color: var(--sklearn-color-icon);\n",
       "}\n",
       "\n",
       "#sk-container-id-1 label.sk-toggleable__label-arrow:hover:before {\n",
       "  color: var(--sklearn-color-text);\n",
       "}\n",
       "\n",
       "/* Toggleable content - dropdown */\n",
       "\n",
       "#sk-container-id-1 div.sk-toggleable__content {\n",
       "  max-height: 0;\n",
       "  max-width: 0;\n",
       "  overflow: hidden;\n",
       "  text-align: left;\n",
       "  /* unfitted */\n",
       "  background-color: var(--sklearn-color-unfitted-level-0);\n",
       "}\n",
       "\n",
       "#sk-container-id-1 div.sk-toggleable__content.fitted {\n",
       "  /* fitted */\n",
       "  background-color: var(--sklearn-color-fitted-level-0);\n",
       "}\n",
       "\n",
       "#sk-container-id-1 div.sk-toggleable__content pre {\n",
       "  margin: 0.2em;\n",
       "  border-radius: 0.25em;\n",
       "  color: var(--sklearn-color-text);\n",
       "  /* unfitted */\n",
       "  background-color: var(--sklearn-color-unfitted-level-0);\n",
       "}\n",
       "\n",
       "#sk-container-id-1 div.sk-toggleable__content.fitted pre {\n",
       "  /* unfitted */\n",
       "  background-color: var(--sklearn-color-fitted-level-0);\n",
       "}\n",
       "\n",
       "#sk-container-id-1 input.sk-toggleable__control:checked~div.sk-toggleable__content {\n",
       "  /* Expand drop-down */\n",
       "  max-height: 200px;\n",
       "  max-width: 100%;\n",
       "  overflow: auto;\n",
       "}\n",
       "\n",
       "#sk-container-id-1 input.sk-toggleable__control:checked~label.sk-toggleable__label-arrow:before {\n",
       "  content: \"▾\";\n",
       "}\n",
       "\n",
       "/* Pipeline/ColumnTransformer-specific style */\n",
       "\n",
       "#sk-container-id-1 div.sk-label input.sk-toggleable__control:checked~label.sk-toggleable__label {\n",
       "  color: var(--sklearn-color-text);\n",
       "  background-color: var(--sklearn-color-unfitted-level-2);\n",
       "}\n",
       "\n",
       "#sk-container-id-1 div.sk-label.fitted input.sk-toggleable__control:checked~label.sk-toggleable__label {\n",
       "  background-color: var(--sklearn-color-fitted-level-2);\n",
       "}\n",
       "\n",
       "/* Estimator-specific style */\n",
       "\n",
       "/* Colorize estimator box */\n",
       "#sk-container-id-1 div.sk-estimator input.sk-toggleable__control:checked~label.sk-toggleable__label {\n",
       "  /* unfitted */\n",
       "  background-color: var(--sklearn-color-unfitted-level-2);\n",
       "}\n",
       "\n",
       "#sk-container-id-1 div.sk-estimator.fitted input.sk-toggleable__control:checked~label.sk-toggleable__label {\n",
       "  /* fitted */\n",
       "  background-color: var(--sklearn-color-fitted-level-2);\n",
       "}\n",
       "\n",
       "#sk-container-id-1 div.sk-label label.sk-toggleable__label,\n",
       "#sk-container-id-1 div.sk-label label {\n",
       "  /* The background is the default theme color */\n",
       "  color: var(--sklearn-color-text-on-default-background);\n",
       "}\n",
       "\n",
       "/* On hover, darken the color of the background */\n",
       "#sk-container-id-1 div.sk-label:hover label.sk-toggleable__label {\n",
       "  color: var(--sklearn-color-text);\n",
       "  background-color: var(--sklearn-color-unfitted-level-2);\n",
       "}\n",
       "\n",
       "/* Label box, darken color on hover, fitted */\n",
       "#sk-container-id-1 div.sk-label.fitted:hover label.sk-toggleable__label.fitted {\n",
       "  color: var(--sklearn-color-text);\n",
       "  background-color: var(--sklearn-color-fitted-level-2);\n",
       "}\n",
       "\n",
       "/* Estimator label */\n",
       "\n",
       "#sk-container-id-1 div.sk-label label {\n",
       "  font-family: monospace;\n",
       "  font-weight: bold;\n",
       "  display: inline-block;\n",
       "  line-height: 1.2em;\n",
       "}\n",
       "\n",
       "#sk-container-id-1 div.sk-label-container {\n",
       "  text-align: center;\n",
       "}\n",
       "\n",
       "/* Estimator-specific */\n",
       "#sk-container-id-1 div.sk-estimator {\n",
       "  font-family: monospace;\n",
       "  border: 1px dotted var(--sklearn-color-border-box);\n",
       "  border-radius: 0.25em;\n",
       "  box-sizing: border-box;\n",
       "  margin-bottom: 0.5em;\n",
       "  /* unfitted */\n",
       "  background-color: var(--sklearn-color-unfitted-level-0);\n",
       "}\n",
       "\n",
       "#sk-container-id-1 div.sk-estimator.fitted {\n",
       "  /* fitted */\n",
       "  background-color: var(--sklearn-color-fitted-level-0);\n",
       "}\n",
       "\n",
       "/* on hover */\n",
       "#sk-container-id-1 div.sk-estimator:hover {\n",
       "  /* unfitted */\n",
       "  background-color: var(--sklearn-color-unfitted-level-2);\n",
       "}\n",
       "\n",
       "#sk-container-id-1 div.sk-estimator.fitted:hover {\n",
       "  /* fitted */\n",
       "  background-color: var(--sklearn-color-fitted-level-2);\n",
       "}\n",
       "\n",
       "/* Specification for estimator info (e.g. \"i\" and \"?\") */\n",
       "\n",
       "/* Common style for \"i\" and \"?\" */\n",
       "\n",
       ".sk-estimator-doc-link,\n",
       "a:link.sk-estimator-doc-link,\n",
       "a:visited.sk-estimator-doc-link {\n",
       "  float: right;\n",
       "  font-size: smaller;\n",
       "  line-height: 1em;\n",
       "  font-family: monospace;\n",
       "  background-color: var(--sklearn-color-background);\n",
       "  border-radius: 1em;\n",
       "  height: 1em;\n",
       "  width: 1em;\n",
       "  text-decoration: none !important;\n",
       "  margin-left: 1ex;\n",
       "  /* unfitted */\n",
       "  border: var(--sklearn-color-unfitted-level-1) 1pt solid;\n",
       "  color: var(--sklearn-color-unfitted-level-1);\n",
       "}\n",
       "\n",
       ".sk-estimator-doc-link.fitted,\n",
       "a:link.sk-estimator-doc-link.fitted,\n",
       "a:visited.sk-estimator-doc-link.fitted {\n",
       "  /* fitted */\n",
       "  border: var(--sklearn-color-fitted-level-1) 1pt solid;\n",
       "  color: var(--sklearn-color-fitted-level-1);\n",
       "}\n",
       "\n",
       "/* On hover */\n",
       "div.sk-estimator:hover .sk-estimator-doc-link:hover,\n",
       ".sk-estimator-doc-link:hover,\n",
       "div.sk-label-container:hover .sk-estimator-doc-link:hover,\n",
       ".sk-estimator-doc-link:hover {\n",
       "  /* unfitted */\n",
       "  background-color: var(--sklearn-color-unfitted-level-3);\n",
       "  color: var(--sklearn-color-background);\n",
       "  text-decoration: none;\n",
       "}\n",
       "\n",
       "div.sk-estimator.fitted:hover .sk-estimator-doc-link.fitted:hover,\n",
       ".sk-estimator-doc-link.fitted:hover,\n",
       "div.sk-label-container:hover .sk-estimator-doc-link.fitted:hover,\n",
       ".sk-estimator-doc-link.fitted:hover {\n",
       "  /* fitted */\n",
       "  background-color: var(--sklearn-color-fitted-level-3);\n",
       "  color: var(--sklearn-color-background);\n",
       "  text-decoration: none;\n",
       "}\n",
       "\n",
       "/* Span, style for the box shown on hovering the info icon */\n",
       ".sk-estimator-doc-link span {\n",
       "  display: none;\n",
       "  z-index: 9999;\n",
       "  position: relative;\n",
       "  font-weight: normal;\n",
       "  right: .2ex;\n",
       "  padding: .5ex;\n",
       "  margin: .5ex;\n",
       "  width: min-content;\n",
       "  min-width: 20ex;\n",
       "  max-width: 50ex;\n",
       "  color: var(--sklearn-color-text);\n",
       "  box-shadow: 2pt 2pt 4pt #999;\n",
       "  /* unfitted */\n",
       "  background: var(--sklearn-color-unfitted-level-0);\n",
       "  border: .5pt solid var(--sklearn-color-unfitted-level-3);\n",
       "}\n",
       "\n",
       ".sk-estimator-doc-link.fitted span {\n",
       "  /* fitted */\n",
       "  background: var(--sklearn-color-fitted-level-0);\n",
       "  border: var(--sklearn-color-fitted-level-3);\n",
       "}\n",
       "\n",
       ".sk-estimator-doc-link:hover span {\n",
       "  display: block;\n",
       "}\n",
       "\n",
       "/* \"?\"-specific style due to the `<a>` HTML tag */\n",
       "\n",
       "#sk-container-id-1 a.estimator_doc_link {\n",
       "  float: right;\n",
       "  font-size: 1rem;\n",
       "  line-height: 1em;\n",
       "  font-family: monospace;\n",
       "  background-color: var(--sklearn-color-background);\n",
       "  border-radius: 1rem;\n",
       "  height: 1rem;\n",
       "  width: 1rem;\n",
       "  text-decoration: none;\n",
       "  /* unfitted */\n",
       "  color: var(--sklearn-color-unfitted-level-1);\n",
       "  border: var(--sklearn-color-unfitted-level-1) 1pt solid;\n",
       "}\n",
       "\n",
       "#sk-container-id-1 a.estimator_doc_link.fitted {\n",
       "  /* fitted */\n",
       "  border: var(--sklearn-color-fitted-level-1) 1pt solid;\n",
       "  color: var(--sklearn-color-fitted-level-1);\n",
       "}\n",
       "\n",
       "/* On hover */\n",
       "#sk-container-id-1 a.estimator_doc_link:hover {\n",
       "  /* unfitted */\n",
       "  background-color: var(--sklearn-color-unfitted-level-3);\n",
       "  color: var(--sklearn-color-background);\n",
       "  text-decoration: none;\n",
       "}\n",
       "\n",
       "#sk-container-id-1 a.estimator_doc_link.fitted:hover {\n",
       "  /* fitted */\n",
       "  background-color: var(--sklearn-color-fitted-level-3);\n",
       "}\n",
       "</style><div id=\"sk-container-id-1\" class=\"sk-top-container\"><div class=\"sk-text-repr-fallback\"><pre>FunctionTransformer(feature_names_out=&lt;function &lt;lambda&gt; at 0x726f0464c1f0&gt;,\n",
       "                    func=&lt;function &lt;lambda&gt; at 0x726f0464c160&gt;)</pre><b>In a Jupyter environment, please rerun this cell to show the HTML representation or trust the notebook. <br />On GitHub, the HTML representation is unable to render, please try loading this page with nbviewer.org.</b></div><div class=\"sk-container\" hidden><div class=\"sk-item\"><div class=\"sk-estimator fitted sk-toggleable\"><input class=\"sk-toggleable__control sk-hidden--visually\" id=\"sk-estimator-id-1\" type=\"checkbox\" checked><label for=\"sk-estimator-id-1\" class=\"sk-toggleable__label fitted sk-toggleable__label-arrow fitted\">&nbsp;&nbsp;FunctionTransformer<a class=\"sk-estimator-doc-link fitted\" rel=\"noreferrer\" target=\"_blank\" href=\"https://scikit-learn.org/1.4/modules/generated/sklearn.preprocessing.FunctionTransformer.html\">?<span>Documentation for FunctionTransformer</span></a><span class=\"sk-estimator-doc-link fitted\">i<span>Fitted</span></span></label><div class=\"sk-toggleable__content fitted\"><pre>FunctionTransformer(feature_names_out=&lt;function &lt;lambda&gt; at 0x726f0464c1f0&gt;,\n",
       "                    func=&lt;function &lt;lambda&gt; at 0x726f0464c160&gt;)</pre></div> </div></div></div></div>"
      ],
      "text/plain": [
       "FunctionTransformer(feature_names_out=<function <lambda> at 0x726f0464c1f0>,\n",
       "                    func=<function <lambda> at 0x726f0464c160>)"
      ]
     },
     "metadata": {},
     "output_type": "display_data"
    },
    {
     "name": "stdout",
     "output_type": "stream",
     "text": [
      "Check if first input of the feature_names_outreally initial transformer -  True\n"
     ]
    },
    {
     "data": {
      "text/html": [
       "<p style='font-size:17px'>Second argument - input feature names</p>"
      ],
      "text/plain": [
       "<IPython.core.display.HTML object>"
      ]
     },
     "metadata": {},
     "output_type": "display_data"
    },
    {
     "data": {
      "text/plain": [
       "array(['feature0', 'feature1', 'feature2'], dtype=object)"
      ]
     },
     "execution_count": 5,
     "metadata": {},
     "output_type": "execute_result"
    }
   ],
   "source": [
    "my_transformer = FunctionTransformer(\n",
    "    lambda X: np.array(X),\n",
    "    # here is just function that returns\n",
    "    # it's inputs to check what they actualy\n",
    "    # are\n",
    "    feature_names_out=(\n",
    "        lambda transformer, input_features: \\\n",
    "        (transformer, input_features)\n",
    "    )\n",
    ")\n",
    "my_transformer.fit_transform(input_frame)\n",
    "features_output = my_transformer.get_feature_names_out()\n",
    "\n",
    "display(HTML(header_template.format(\"First argument - transformer itself\")))\n",
    "display(features_output[0])\n",
    "print(\n",
    "    \"Check if first input of the feature_names_out\"\n",
    "    \"really initial transformer - \",\n",
    "    features_output[0] is my_transformer\n",
    ")\n",
    "display(HTML(header_template.format(\"Second argument - input feature names\")))\n",
    "features_output[1]"
   ]
  },
  {
   "cell_type": "markdown",
   "id": "a3ae61f8-3502-47e8-96f0-8019e41e970b",
   "metadata": {},
   "source": [
    "#### Real world example"
   ]
  },
  {
   "cell_type": "markdown",
   "id": "ef3ecdc7-6130-435b-a67d-047ebed75265",
   "metadata": {},
   "source": [
    "Here is an example of how the tools we are considering might be used in the real world.\n",
    "\n",
    "Suppose you need to build a transformer that returns squares and cubes of each feature of the input array. And the result features should have names `<inputname> square` for squares and `<inputname> cube` for cubes.\n",
    "\n",
    "This can be achieved with the following code:"
   ]
  },
  {
   "cell_type": "code",
   "execution_count": 6,
   "id": "5e6732ff-de63-43a3-8fbc-d83b906ac458",
   "metadata": {},
   "outputs": [
    {
     "data": {
      "text/html": [
       "<p style='font-size:17px'>Input dataframe</p>"
      ],
      "text/plain": [
       "<IPython.core.display.HTML object>"
      ]
     },
     "metadata": {},
     "output_type": "display_data"
    },
    {
     "data": {
      "text/html": [
       "<div>\n",
       "<style scoped>\n",
       "    .dataframe tbody tr th:only-of-type {\n",
       "        vertical-align: middle;\n",
       "    }\n",
       "\n",
       "    .dataframe tbody tr th {\n",
       "        vertical-align: top;\n",
       "    }\n",
       "\n",
       "    .dataframe thead th {\n",
       "        text-align: right;\n",
       "    }\n",
       "</style>\n",
       "<table border=\"1\" class=\"dataframe\">\n",
       "  <thead>\n",
       "    <tr style=\"text-align: right;\">\n",
       "      <th></th>\n",
       "      <th>feature0</th>\n",
       "      <th>feature1</th>\n",
       "      <th>feature2</th>\n",
       "    </tr>\n",
       "  </thead>\n",
       "  <tbody>\n",
       "    <tr>\n",
       "      <th>0</th>\n",
       "      <td>-14.280722</td>\n",
       "      <td>31.497491</td>\n",
       "      <td>6.184412</td>\n",
       "    </tr>\n",
       "    <tr>\n",
       "      <th>1</th>\n",
       "      <td>-2.075748</td>\n",
       "      <td>-8.914110</td>\n",
       "      <td>-22.870986</td>\n",
       "    </tr>\n",
       "    <tr>\n",
       "      <th>2</th>\n",
       "      <td>-5.787826</td>\n",
       "      <td>-8.953351</td>\n",
       "      <td>7.191721</td>\n",
       "    </tr>\n",
       "    <tr>\n",
       "      <th>3</th>\n",
       "      <td>2.867856</td>\n",
       "      <td>-1.689381</td>\n",
       "      <td>-0.849110</td>\n",
       "    </tr>\n",
       "    <tr>\n",
       "      <th>4</th>\n",
       "      <td>-1.705764</td>\n",
       "      <td>-2.525341</td>\n",
       "      <td>9.514077</td>\n",
       "    </tr>\n",
       "  </tbody>\n",
       "</table>\n",
       "</div>"
      ],
      "text/plain": [
       "    feature0   feature1   feature2\n",
       "0 -14.280722  31.497491   6.184412\n",
       "1  -2.075748  -8.914110 -22.870986\n",
       "2  -5.787826  -8.953351   7.191721\n",
       "3   2.867856  -1.689381  -0.849110\n",
       "4  -1.705764  -2.525341   9.514077"
      ]
     },
     "metadata": {},
     "output_type": "display_data"
    },
    {
     "data": {
      "text/html": [
       "<p style='font-size:17px'>transform output</p>"
      ],
      "text/plain": [
       "<IPython.core.display.HTML object>"
      ]
     },
     "metadata": {},
     "output_type": "display_data"
    },
    {
     "data": {
      "text/plain": [
       "array([[ 2.03939021e+02, -2.91239646e+03,  9.92091924e+02,\n",
       "         3.12484062e+04,  3.82469580e+01,  2.36534965e+02],\n",
       "       [ 4.30872906e+00, -8.94383501e+00,  7.94613487e+01,\n",
       "        -7.08327166e+02,  5.23081992e+02, -1.19634008e+04],\n",
       "       [ 3.34989304e+01, -1.93885982e+02,  8.01624893e+01,\n",
       "        -7.17722882e+02,  5.17208506e+01,  3.71961926e+02],\n",
       "       [ 8.22459681e+00,  2.35869576e+01,  2.85400873e+00,\n",
       "        -4.82150860e+00,  7.20987968e-01, -6.12198168e-01],\n",
       "       [ 2.90962976e+00, -4.96314078e+00,  6.37734601e+00,\n",
       "        -1.61049719e+01,  9.05176701e+01,  8.61192125e+02]])"
      ]
     },
     "metadata": {},
     "output_type": "display_data"
    },
    {
     "data": {
      "text/html": [
       "<p style='font-size:17px'>.get_feature_names_out</p>"
      ],
      "text/plain": [
       "<IPython.core.display.HTML object>"
      ]
     },
     "metadata": {},
     "output_type": "display_data"
    },
    {
     "data": {
      "text/plain": [
       "array(['feature0 square', 'feature0 cubic', 'feature1 square',\n",
       "       'feature1 cubic', 'feature2 square', 'feature2 cubic'],\n",
       "      dtype=object)"
      ]
     },
     "metadata": {},
     "output_type": "display_data"
    }
   ],
   "source": [
    "my_transformer = FunctionTransformer(\n",
    "    # iterates over all input features\n",
    "    # and returns square and cube of them\n",
    "    lambda X : np.concatenate(\n",
    "        [\n",
    "            np.array(X[[col]]**power)\n",
    "            for col in X\n",
    "            for power in range(2,4)\n",
    "        ], \n",
    "        axis = 1\n",
    "    ),\n",
    "    # iterates over input features anmes\n",
    "    # and for each creates pair of square\n",
    "    # and cube name\n",
    "    feature_names_out = (\n",
    "        lambda transformer, input_features: [\n",
    "            f\"{feature} {power_str}\"\n",
    "            for feature in input_features\n",
    "            for power_str in [\"square\", \"cubic\"]\n",
    "        ]\n",
    "    )\n",
    ")\n",
    "\n",
    "display(HTML(header_template.format(\"Input dataframe\")))\n",
    "display(input_frame)\n",
    "\n",
    "display(HTML(header_template.format(\"transform output\")))\n",
    "display(my_transformer.fit_transform(input_frame))\n",
    "\n",
    "display(HTML(header_template.format(\".get_feature_names_out\")))\n",
    "display(my_transformer.get_feature_names_out())"
   ]
  },
  {
   "cell_type": "markdown",
   "id": "2d9f8c3c-a0d8-457d-992c-468c6d53d643",
   "metadata": {},
   "source": [
    "#### Pandas output"
   ]
  },
  {
   "cell_type": "markdown",
   "id": "e391a54d-9e0c-4b34-9551-06c9de4279b6",
   "metadata": {},
   "source": [
    "Ideally, if the function specified in FunctionTransfomer returns pandas.DataFrame, then the columns that `get_feature_names_out` returns should be automatically applied to the result. But if you try to adapt the previous example, the result is an error. Just like in the following cell."
   ]
  },
  {
   "cell_type": "code",
   "execution_count": 7,
   "id": "0e4e4758-d30a-4d4b-863a-cd9c5b34842f",
   "metadata": {},
   "outputs": [
    {
     "data": {
      "text/html": [
       "<p style='font-size:17px'>Input dataframe</p>"
      ],
      "text/plain": [
       "<IPython.core.display.HTML object>"
      ]
     },
     "metadata": {},
     "output_type": "display_data"
    },
    {
     "data": {
      "text/html": [
       "<div>\n",
       "<style scoped>\n",
       "    .dataframe tbody tr th:only-of-type {\n",
       "        vertical-align: middle;\n",
       "    }\n",
       "\n",
       "    .dataframe tbody tr th {\n",
       "        vertical-align: top;\n",
       "    }\n",
       "\n",
       "    .dataframe thead th {\n",
       "        text-align: right;\n",
       "    }\n",
       "</style>\n",
       "<table border=\"1\" class=\"dataframe\">\n",
       "  <thead>\n",
       "    <tr style=\"text-align: right;\">\n",
       "      <th></th>\n",
       "      <th>feature0</th>\n",
       "      <th>feature1</th>\n",
       "      <th>feature2</th>\n",
       "    </tr>\n",
       "  </thead>\n",
       "  <tbody>\n",
       "    <tr>\n",
       "      <th>0</th>\n",
       "      <td>-14.280722</td>\n",
       "      <td>31.497491</td>\n",
       "      <td>6.184412</td>\n",
       "    </tr>\n",
       "    <tr>\n",
       "      <th>1</th>\n",
       "      <td>-2.075748</td>\n",
       "      <td>-8.914110</td>\n",
       "      <td>-22.870986</td>\n",
       "    </tr>\n",
       "    <tr>\n",
       "      <th>2</th>\n",
       "      <td>-5.787826</td>\n",
       "      <td>-8.953351</td>\n",
       "      <td>7.191721</td>\n",
       "    </tr>\n",
       "    <tr>\n",
       "      <th>3</th>\n",
       "      <td>2.867856</td>\n",
       "      <td>-1.689381</td>\n",
       "      <td>-0.849110</td>\n",
       "    </tr>\n",
       "    <tr>\n",
       "      <th>4</th>\n",
       "      <td>-1.705764</td>\n",
       "      <td>-2.525341</td>\n",
       "      <td>9.514077</td>\n",
       "    </tr>\n",
       "  </tbody>\n",
       "</table>\n",
       "</div>"
      ],
      "text/plain": [
       "    feature0   feature1   feature2\n",
       "0 -14.280722  31.497491   6.184412\n",
       "1  -2.075748  -8.914110 -22.870986\n",
       "2  -5.787826  -8.953351   7.191721\n",
       "3   2.867856  -1.689381  -0.849110\n",
       "4  -1.705764  -2.525341   9.514077"
      ]
     },
     "metadata": {},
     "output_type": "display_data"
    },
    {
     "data": {
      "text/html": [
       "<p style='font-size:17px'>Output dataframe</p>"
      ],
      "text/plain": [
       "<IPython.core.display.HTML object>"
      ]
     },
     "metadata": {},
     "output_type": "display_data"
    },
    {
     "data": {
      "text/html": [
       "<div>\n",
       "<style scoped>\n",
       "    .dataframe tbody tr th:only-of-type {\n",
       "        vertical-align: middle;\n",
       "    }\n",
       "\n",
       "    .dataframe tbody tr th {\n",
       "        vertical-align: top;\n",
       "    }\n",
       "\n",
       "    .dataframe thead th {\n",
       "        text-align: right;\n",
       "    }\n",
       "</style>\n",
       "<table border=\"1\" class=\"dataframe\">\n",
       "  <thead>\n",
       "    <tr style=\"text-align: right;\">\n",
       "      <th></th>\n",
       "      <th>feature0^2</th>\n",
       "      <th>feature0^3</th>\n",
       "      <th>feature1^2</th>\n",
       "      <th>feature1^3</th>\n",
       "      <th>feature2^2</th>\n",
       "      <th>feature2^3</th>\n",
       "    </tr>\n",
       "  </thead>\n",
       "  <tbody>\n",
       "    <tr>\n",
       "      <th>0</th>\n",
       "      <td>203.939021</td>\n",
       "      <td>-2912.396463</td>\n",
       "      <td>992.091924</td>\n",
       "      <td>31248.406225</td>\n",
       "      <td>38.246958</td>\n",
       "      <td>236.534965</td>\n",
       "    </tr>\n",
       "    <tr>\n",
       "      <th>1</th>\n",
       "      <td>4.308729</td>\n",
       "      <td>-8.943835</td>\n",
       "      <td>79.461349</td>\n",
       "      <td>-708.327166</td>\n",
       "      <td>523.081992</td>\n",
       "      <td>-11963.400814</td>\n",
       "    </tr>\n",
       "    <tr>\n",
       "      <th>2</th>\n",
       "      <td>33.498930</td>\n",
       "      <td>-193.885982</td>\n",
       "      <td>80.162489</td>\n",
       "      <td>-717.722882</td>\n",
       "      <td>51.720851</td>\n",
       "      <td>371.961926</td>\n",
       "    </tr>\n",
       "    <tr>\n",
       "      <th>3</th>\n",
       "      <td>8.224597</td>\n",
       "      <td>23.586958</td>\n",
       "      <td>2.854009</td>\n",
       "      <td>-4.821509</td>\n",
       "      <td>0.720988</td>\n",
       "      <td>-0.612198</td>\n",
       "    </tr>\n",
       "    <tr>\n",
       "      <th>4</th>\n",
       "      <td>2.909630</td>\n",
       "      <td>-4.963141</td>\n",
       "      <td>6.377346</td>\n",
       "      <td>-16.104972</td>\n",
       "      <td>90.517670</td>\n",
       "      <td>861.192125</td>\n",
       "    </tr>\n",
       "  </tbody>\n",
       "</table>\n",
       "</div>"
      ],
      "text/plain": [
       "   feature0^2   feature0^3  feature1^2    feature1^3  feature2^2    feature2^3\n",
       "0  203.939021 -2912.396463  992.091924  31248.406225   38.246958    236.534965\n",
       "1    4.308729    -8.943835   79.461349   -708.327166  523.081992 -11963.400814\n",
       "2   33.498930  -193.885982   80.162489   -717.722882   51.720851    371.961926\n",
       "3    8.224597    23.586958    2.854009     -4.821509    0.720988     -0.612198\n",
       "4    2.909630    -4.963141    6.377346    -16.104972   90.517670    861.192125"
      ]
     },
     "metadata": {},
     "output_type": "display_data"
    },
    {
     "data": {
      "text/html": [
       "<p style='font-size:17px'>get_features_names_out</p>"
      ],
      "text/plain": [
       "<IPython.core.display.HTML object>"
      ]
     },
     "metadata": {},
     "output_type": "display_data"
    },
    {
     "data": {
      "text/plain": [
       "array(['feature0^2', 'feature0^3', 'feature1^2', 'feature1^3',\n",
       "       'feature2^2', 'feature2^3'], dtype=object)"
      ]
     },
     "metadata": {},
     "output_type": "display_data"
    }
   ],
   "source": [
    "my_transformer = FunctionTransformer(\n",
    "    # iterates over all input features\n",
    "    # and returns square and cube of them\n",
    "    lambda X : pd.DataFrame(\n",
    "        {\n",
    "            f\"{str(col)}^{power}\" : X[col]**power\n",
    "            for col in X\n",
    "            for power in range(2,4)\n",
    "        }\n",
    "    ),\n",
    "    # iterates over input features anmes\n",
    "    # and for each creates pair of square\n",
    "    # and cube name\n",
    "    feature_names_out = (\n",
    "        lambda transformer, input_features: [\n",
    "            f\"{str(feature)}^{power}\"\n",
    "            for feature in input_features\n",
    "            for power in range(2,4)\n",
    "        ]\n",
    "    )\n",
    ")\n",
    "\n",
    "display(HTML(header_template.format(\"Input dataframe\")))\n",
    "display(input_frame)\n",
    "display(HTML(header_template.format(\"Output dataframe\")))\n",
    "display(my_transformer.fit_transform(input_frame))\n",
    "display(HTML(header_template.format(\"get_features_names_out\")))\n",
    "display(my_transformer.get_feature_names_out())"
   ]
  },
  {
   "cell_type": "markdown",
   "id": "8358c385-9a24-4873-9d9e-a467aaa9e6d4",
   "metadata": {},
   "source": [
    "**Note** that the columns of the output dataframe should be the same as the columns provided by `features_names_out`. The following cells show the error you would get otherwise. There is an [issue](https://github.com/scikit-learn/scikit-learn/issues/28780) about this in the `sklearn` github repository, check it out - something may have changed."
   ]
  },
  {
   "cell_type": "code",
   "execution_count": 8,
   "id": "bf5a2567-525e-4f82-8e9e-dd78bed2c868",
   "metadata": {},
   "outputs": [
    {
     "name": "stdout",
     "output_type": "stream",
     "text": [
      "Exception text: The output generated by `func` have different column names than the ones provided by `get_feature_names_out`. Got output with columns names: ['feature0^2', 'feature0^3', 'feature1^2', 'feature1^3', 'feature2^2', 'feature2^3'] and `get_feature_names_out` returned: ['out_feature0^2', 'out_feature0^3', 'out_feature1^2', 'out_feature1^3', 'out_feature2^2', 'out_feature2^3']. The column names can be overridden by setting `set_output(transform='pandas')` or `set_output(transform='polars')` such that the column names are set to the names provided by `get_feature_names_out`.\n"
     ]
    }
   ],
   "source": [
    "my_transformer = FunctionTransformer(\n",
    "    lambda X : pd.DataFrame(\n",
    "        {\n",
    "            f\"{str(col)}^{power}\" : X[col]**power\n",
    "            for col in X\n",
    "            for power in range(2,4)\n",
    "        }\n",
    "    ),\n",
    "    feature_names_out = (\n",
    "        lambda transformer, input_features: [\n",
    "            f\"out_{str(feature)}^{power}\" # it will differ from output of function\n",
    "            for feature in input_features\n",
    "            for power in range(2,4)\n",
    "        ]\n",
    "    )\n",
    ")\n",
    "\n",
    "my_transformer.fit(input_frame)\n",
    "# transform causes a error\n",
    "try:\n",
    "    my_transformer.transform(input_frame)\n",
    "except Exception as e:\n",
    "    print(\"Exception text:\", e)"
   ]
  },
  {
   "cell_type": "markdown",
   "id": "1db57ea0-6f77-46c2-9f8c-112ca5531905",
   "metadata": {},
   "source": [
    "## Whole pipeline"
   ]
  },
  {
   "cell_type": "markdown",
   "id": "43268268-c780-4e69-94fa-bc22d4eeb92a",
   "metadata": {},
   "source": [
    "All the tools described above are useful only if we use them in a full pipeline of data transformations. It's easy to just define column names for output if you're using a single transformer. It's harder if you use a series of transformers connected by `Pipeline` or `ColumnTransformer`.\n",
    "\n",
    "In this section we would try to build a whole pipeline with the model and check how easy it would be to explore properties of the model having feature names."
   ]
  },
  {
   "cell_type": "markdown",
   "id": "b58b6051-f671-4001-855c-0e6e7addd612",
   "metadata": {},
   "source": [
    "### Task generation"
   ]
  },
  {
   "cell_type": "markdown",
   "id": "cc629ec2-f291-4bbc-ba06-23dc057c1239",
   "metadata": {},
   "source": [
    "Let's take a synthetic regression task as an example. It would have some informative features mixed with useless ones. It would have some categorical features and some numerical features to have reason to apply `StandardScaler` and `OneHotEncoding` to data. Also it would have a `datetime` function that stores some useful information in it's months to try `FunctionTransformer` for extracting different components of the date."
   ]
  },
  {
   "cell_type": "code",
   "execution_count": 9,
   "id": "c07a9278-a1d5-45e5-b203-5cc353284267",
   "metadata": {},
   "outputs": [
    {
     "data": {
      "text/html": [
       "<div>\n",
       "<style scoped>\n",
       "    .dataframe tbody tr th:only-of-type {\n",
       "        vertical-align: middle;\n",
       "    }\n",
       "\n",
       "    .dataframe tbody tr th {\n",
       "        vertical-align: top;\n",
       "    }\n",
       "\n",
       "    .dataframe thead th {\n",
       "        text-align: right;\n",
       "    }\n",
       "</style>\n",
       "<table border=\"1\" class=\"dataframe\">\n",
       "  <thead>\n",
       "    <tr style=\"text-align: right;\">\n",
       "      <th></th>\n",
       "      <th>feature 0</th>\n",
       "      <th>feature 1</th>\n",
       "      <th>feature 2</th>\n",
       "      <th>feature 3</th>\n",
       "      <th>feature 4</th>\n",
       "      <th>feature 5</th>\n",
       "      <th>feature 6</th>\n",
       "      <th>feature 7</th>\n",
       "      <th>feature 8</th>\n",
       "      <th>feature 9</th>\n",
       "      <th>...</th>\n",
       "      <th>feature 11</th>\n",
       "      <th>feature 12</th>\n",
       "      <th>feature 13</th>\n",
       "      <th>feature 14</th>\n",
       "      <th>feature 15</th>\n",
       "      <th>feature 16</th>\n",
       "      <th>feature 17</th>\n",
       "      <th>feature 18</th>\n",
       "      <th>feature 19</th>\n",
       "      <th>date feature</th>\n",
       "    </tr>\n",
       "  </thead>\n",
       "  <tbody>\n",
       "    <tr>\n",
       "      <th>0</th>\n",
       "      <td>2.617891</td>\n",
       "      <td>c</td>\n",
       "      <td>d</td>\n",
       "      <td>b</td>\n",
       "      <td>c</td>\n",
       "      <td>a</td>\n",
       "      <td>a</td>\n",
       "      <td>b</td>\n",
       "      <td>-196.739681</td>\n",
       "      <td>e</td>\n",
       "      <td>...</td>\n",
       "      <td>-47.603852</td>\n",
       "      <td>d</td>\n",
       "      <td>33.356150</td>\n",
       "      <td>a</td>\n",
       "      <td>a</td>\n",
       "      <td>-122.367117</td>\n",
       "      <td>-6.721474</td>\n",
       "      <td>c</td>\n",
       "      <td>e</td>\n",
       "      <td>1986-09-04</td>\n",
       "    </tr>\n",
       "    <tr>\n",
       "      <th>1</th>\n",
       "      <td>-70.125115</td>\n",
       "      <td>a</td>\n",
       "      <td>a</td>\n",
       "      <td>c</td>\n",
       "      <td>a</td>\n",
       "      <td>a</td>\n",
       "      <td>b</td>\n",
       "      <td>b</td>\n",
       "      <td>-10.601175</td>\n",
       "      <td>f</td>\n",
       "      <td>...</td>\n",
       "      <td>-71.627628</td>\n",
       "      <td>a</td>\n",
       "      <td>-101.127295</td>\n",
       "      <td>e</td>\n",
       "      <td>b</td>\n",
       "      <td>-91.372820</td>\n",
       "      <td>4.377953</td>\n",
       "      <td>c</td>\n",
       "      <td>d</td>\n",
       "      <td>1993-08-14</td>\n",
       "    </tr>\n",
       "    <tr>\n",
       "      <th>2</th>\n",
       "      <td>-20.582671</td>\n",
       "      <td>c</td>\n",
       "      <td>a</td>\n",
       "      <td>c</td>\n",
       "      <td>d</td>\n",
       "      <td>c</td>\n",
       "      <td>b</td>\n",
       "      <td>b</td>\n",
       "      <td>200.739023</td>\n",
       "      <td>d</td>\n",
       "      <td>...</td>\n",
       "      <td>-16.353255</td>\n",
       "      <td>a</td>\n",
       "      <td>40.661435</td>\n",
       "      <td>a</td>\n",
       "      <td>a</td>\n",
       "      <td>-96.068509</td>\n",
       "      <td>0.313386</td>\n",
       "      <td>b</td>\n",
       "      <td>g</td>\n",
       "      <td>1991-08-07</td>\n",
       "    </tr>\n",
       "    <tr>\n",
       "      <th>3</th>\n",
       "      <td>-15.356126</td>\n",
       "      <td>c</td>\n",
       "      <td>a</td>\n",
       "      <td>d</td>\n",
       "      <td>c</td>\n",
       "      <td>c</td>\n",
       "      <td>d</td>\n",
       "      <td>b</td>\n",
       "      <td>-153.459105</td>\n",
       "      <td>b</td>\n",
       "      <td>...</td>\n",
       "      <td>26.679386</td>\n",
       "      <td>e</td>\n",
       "      <td>120.183909</td>\n",
       "      <td>f</td>\n",
       "      <td>b</td>\n",
       "      <td>16.846444</td>\n",
       "      <td>-2.223026</td>\n",
       "      <td>a</td>\n",
       "      <td>f</td>\n",
       "      <td>2013-09-02</td>\n",
       "    </tr>\n",
       "    <tr>\n",
       "      <th>4</th>\n",
       "      <td>-63.181240</td>\n",
       "      <td>a</td>\n",
       "      <td>g</td>\n",
       "      <td>a</td>\n",
       "      <td>b</td>\n",
       "      <td>b</td>\n",
       "      <td>d</td>\n",
       "      <td>b</td>\n",
       "      <td>-108.291832</td>\n",
       "      <td>b</td>\n",
       "      <td>...</td>\n",
       "      <td>-17.332633</td>\n",
       "      <td>f</td>\n",
       "      <td>21.126076</td>\n",
       "      <td>b</td>\n",
       "      <td>b</td>\n",
       "      <td>-147.533723</td>\n",
       "      <td>-2.960036</td>\n",
       "      <td>b</td>\n",
       "      <td>h</td>\n",
       "      <td>2019-09-16</td>\n",
       "    </tr>\n",
       "  </tbody>\n",
       "</table>\n",
       "<p>5 rows × 21 columns</p>\n",
       "</div>"
      ],
      "text/plain": [
       "   feature 0 feature 1 feature 2 feature 3 feature 4 feature 5 feature 6  \\\n",
       "0   2.617891         c         d         b         c         a         a   \n",
       "1 -70.125115         a         a         c         a         a         b   \n",
       "2 -20.582671         c         a         c         d         c         b   \n",
       "3 -15.356126         c         a         d         c         c         d   \n",
       "4 -63.181240         a         g         a         b         b         d   \n",
       "\n",
       "  feature 7   feature 8 feature 9  ...  feature 11  feature 12  feature 13  \\\n",
       "0         b -196.739681         e  ...  -47.603852           d   33.356150   \n",
       "1         b  -10.601175         f  ...  -71.627628           a -101.127295   \n",
       "2         b  200.739023         d  ...  -16.353255           a   40.661435   \n",
       "3         b -153.459105         b  ...   26.679386           e  120.183909   \n",
       "4         b -108.291832         b  ...  -17.332633           f   21.126076   \n",
       "\n",
       "   feature 14 feature 15  feature 16  feature 17  feature 18 feature 19  \\\n",
       "0           a          a -122.367117   -6.721474           c          e   \n",
       "1           e          b  -91.372820    4.377953           c          d   \n",
       "2           a          a  -96.068509    0.313386           b          g   \n",
       "3           f          b   16.846444   -2.223026           a          f   \n",
       "4           b          b -147.533723   -2.960036           b          h   \n",
       "\n",
       "  date feature  \n",
       "0   1986-09-04  \n",
       "1   1993-08-14  \n",
       "2   1991-08-07  \n",
       "3   2013-09-02  \n",
       "4   2019-09-16  \n",
       "\n",
       "[5 rows x 21 columns]"
      ]
     },
     "execution_count": 9,
     "metadata": {},
     "output_type": "execute_result"
    }
   ],
   "source": [
    "np.random.seed(100)\n",
    "\n",
    "n_features=20\n",
    "n_samples=1000\n",
    "\n",
    "X, y = make_regression(\n",
    "    n_samples=n_samples,\n",
    "    n_features=n_features, \n",
    "    n_informative=10,\n",
    "    random_state=10\n",
    ")\n",
    "\n",
    "def categorise_feature(X : np.array) -> np.array:\n",
    "    '''\n",
    "    Function that allows to convert numerical\n",
    "    characteristics into categorical characteristics \n",
    "    with Latin alphabet. It uses a random number \n",
    "    of bins.\n",
    "\n",
    "    Parameters\n",
    "    ----------\n",
    "    X : np.array\n",
    "        input feature;\n",
    "\n",
    "    Returns\n",
    "    ----------\n",
    "    out : np.array\n",
    "        same size feature with values\n",
    "        encoded as symbols of Latin alphabet.\n",
    "    '''\n",
    "    quantiles = np.linspace(0, 1, np.random.randint(4, 10))[1:-1]\n",
    "    bins = np.quantile(X, quantiles)\n",
    "    labels = [\n",
    "        chr(i) for i in \n",
    "        range(\n",
    "            ord(\"a\"), \n",
    "            ord(\"a\") + len(quantiles) + 1\n",
    "        )\n",
    "    ]\n",
    "    res = np.full(len(X), labels[0])\n",
    "    for bin, label in zip(bins, labels[1:]):\n",
    "        res[X>bin] = label\n",
    "\n",
    "    return res\n",
    "\n",
    "X = pd.DataFrame({\n",
    "    f\"feature {i}\":(\n",
    "        X[:, i]*np.random.uniform(-100,100) \n",
    "        if np.random.rand() > 0.5 else \n",
    "        categorise_feature(X[:,i])\n",
    "    ) \n",
    "    for i in range(X.shape[1])\n",
    "})\n",
    "\n",
    "# constructing month number which\n",
    "# correlate with target\n",
    "# but it have to have some noise\n",
    "months = y + np.random.normal(0, np.std(y)*2, n_samples)\n",
    "months = np.round((\n",
    "    (months - np.min(months))/\n",
    "    (np.max(months) - np.min(months))\n",
    ")*12)\n",
    "months[months < 1] = 1\n",
    "\n",
    "# constructing date feature that using\n",
    "# where only month can be useful in\n",
    "# the prediction task\n",
    "date_feature = (\n",
    "    pd.DataFrame({\n",
    "        \"day\" : np.random.randint(1,29, n_samples),\n",
    "        \"month\" : months.astype(\"int\"),\n",
    "        \"year\" : np.random.randint(1980, 2024, n_samples)\n",
    "    })\n",
    "    .apply(\n",
    "        lambda row: datetime(\n",
    "            row[\"year\"], \n",
    "            row[\"month\"], \n",
    "            row[\"day\"]\n",
    "        ), \n",
    "        axis = 1\n",
    "    )\n",
    ")\n",
    "\n",
    "X[\"date feature\"] = date_feature\n",
    "X.head()"
   ]
  },
  {
   "cell_type": "markdown",
   "id": "76b14f88-c2b7-4ad0-8308-228c3d76cd18",
   "metadata": {},
   "source": [
    "### Pipeline"
   ]
  },
  {
   "cell_type": "markdown",
   "id": "222c7613-e3c8-4aaf-b167-12e6c7c0d1b4",
   "metadata": {},
   "source": [
    "As planned:\n",
    "\n",
    "- Numeric features go throgh the `StandartScaler` with the name `numeric_transformer`;\n",
    "- Categorial features go throgh the `OneHotEncoding` with the name `object_transformer`;\n",
    "- And there is `FunctionTransformer` for `date feature` which extracts `day`, `month` and `year`, and gives corresponding names to the output.\n",
    "\n",
    "And there is a gradient boosting as model of the pipeline."
   ]
  },
  {
   "cell_type": "code",
   "execution_count": 10,
   "id": "f6f578ef-f90f-42f1-9e3f-1b6994c3bd5f",
   "metadata": {},
   "outputs": [],
   "source": [
    "numeric_features = X.select_dtypes(\"number\").columns.to_list()\n",
    "object_features = X.select_dtypes(\"O\").columns.to_list()\n",
    "date_time_transformer = FunctionTransformer(\n",
    "    lambda X: pd.DataFrame({\n",
    "        \"day\" : X.dt.day,\n",
    "        \"month\" : X.dt.month,\n",
    "        \"year\" : X.dt.year\n",
    "    }),\n",
    "    feature_names_out = (\n",
    "        lambda tr, inp: \n",
    "        [\"day\", \"month\", \"year\"]\n",
    "    )\n",
    ")\n",
    "\n",
    "my_transformer = ColumnTransformer([\n",
    "    (\"numeric_transformer\", StandardScaler(), numeric_features),\n",
    "    (\"object_transformer\", OneHotEncoder(), object_features),\n",
    "    (\"datetime_transformer\", date_time_transformer, \"date feature\")\n",
    "])\n",
    "\n",
    "pl = Pipeline([\n",
    "    (\"transformer\", my_transformer),\n",
    "    (\"model\", GradientBoostingRegressor(random_state=10))\n",
    "])\n",
    "pl=pl.fit(X,y)"
   ]
  },
  {
   "cell_type": "markdown",
   "id": "6924ce33-fc78-40d7-b23c-16d4521b290d",
   "metadata": {},
   "source": [
    "### Feature importances"
   ]
  },
  {
   "cell_type": "markdown",
   "id": "bf91e17a-80f9-421f-8b65-9bfecd789528",
   "metadata": {},
   "source": [
    "Now this is what we're all about. Now, let's say that for reasons of optimising the algorithm we need to get variables that are not important for decision making. Gradient Boosting has `feature_importances_` for such purposes. But as you can see in the following cell, it is completely useless in the raw view."
   ]
  },
  {
   "cell_type": "code",
   "execution_count": 11,
   "id": "8e1aa475-4e0b-44e3-a441-4f753ea7705f",
   "metadata": {},
   "outputs": [
    {
     "data": {
      "text/plain": [
       "array([2.47289298e-01, 2.38966681e-03, 6.15139879e-03, 3.53447551e-03,\n",
       "       2.19951240e-03, 2.66402624e-01, 2.55979225e-02, 3.09790962e-04,\n",
       "       0.00000000e+00, 0.00000000e+00, 3.75741598e-04, 0.00000000e+00,\n",
       "       3.18557550e-04, 3.17112646e-04, 1.10644546e-04, 0.00000000e+00,\n",
       "       1.78952666e-05, 6.46668227e-05, 1.86142792e-04, 0.00000000e+00,\n",
       "       0.00000000e+00, 6.72328698e-05, 3.92795818e-02, 6.38885869e-03,\n",
       "       0.00000000e+00, 2.91394844e-03, 3.50356952e-02, 0.00000000e+00,\n",
       "       2.84008478e-04, 7.04788804e-05, 0.00000000e+00, 2.07779652e-04,\n",
       "       3.93672142e-06, 1.13211846e-04, 3.99649454e-04, 3.79798469e-04,\n",
       "       7.83053217e-02, 0.00000000e+00, 5.75348690e-02, 1.12977377e-03,\n",
       "       9.39223697e-05, 0.00000000e+00, 0.00000000e+00, 2.15973947e-05,\n",
       "       6.86836029e-04, 9.17177949e-04, 1.04394168e-03, 7.12935589e-05,\n",
       "       0.00000000e+00, 0.00000000e+00, 0.00000000e+00, 0.00000000e+00,\n",
       "       4.43880249e-02, 8.11633707e-03, 2.73218256e-04, 0.00000000e+00,\n",
       "       7.81992544e-03, 4.35630916e-02, 2.05404571e-04, 4.53438250e-04,\n",
       "       6.85197453e-04, 0.00000000e+00, 2.29351672e-02, 0.00000000e+00,\n",
       "       1.39065136e-02, 0.00000000e+00, 0.00000000e+00, 0.00000000e+00,\n",
       "       0.00000000e+00, 0.00000000e+00, 0.00000000e+00, 0.00000000e+00,\n",
       "       0.00000000e+00, 9.06998067e-04, 7.62847932e-02, 2.47526727e-04])"
      ]
     },
     "execution_count": 11,
     "metadata": {},
     "output_type": "execute_result"
    }
   ],
   "source": [
    "pl.steps[1][1].feature_importances_"
   ]
  },
  {
   "cell_type": "markdown",
   "id": "645d4c8e-36e6-40b7-853c-b13b3786f570",
   "metadata": {},
   "source": [
    "The only conclusion I can draw from this bunch of numbers is that months is just an infomative feature extracted from `date feature` - its just because I remember that it should be a prelast feature."
   ]
  },
  {
   "cell_type": "markdown",
   "id": "db955b53-1f44-4ab5-87c6-819e745ddf56",
   "metadata": {},
   "source": [
    "This is where `get_feature_names_out` really helps. If we call it for `ColumnsTransformer` it'll call it for each of its transformers and return in the format `<transformer_name>__<outputs of get_feature_names_out for transformers>`. So now we can map feature to any number and preform any visualisation you like."
   ]
  },
  {
   "cell_type": "code",
   "execution_count": 12,
   "id": "8f0969c5-969e-44e0-9d1e-210c09a8ef44",
   "metadata": {},
   "outputs": [
    {
     "data": {
      "image/png": "[encoded data removed]",
      "text/plain": [
       "<Figure size 2000x1000 with 1 Axes>"
      ]
     },
     "metadata": {},
     "output_type": "display_data"
    }
   ],
   "source": [
    "plt.figure(figsize=[20, 10])\n",
    "plt.bar(\n",
    "    pl.steps[0][1].get_feature_names_out(),\n",
    "    pl.steps[1][1].feature_importances_\n",
    ")\n",
    "plt.xticks(rotation=90)\n",
    "plt.show()"
   ]
  },
  {
   "cell_type": "markdown",
   "id": "8dd17f67-29ee-4941-be70-7f7fb23aa9c3",
   "metadata": {},
   "source": [
    "So now it's much easier to conclude that useful features here are: 0,16,17,4,7,14,18 and months from `date feature`. So it's namy features to exclude and as a result optimise the model."
   ]
  }
 ],
 "metadata": {
  "kernelspec": {
   "display_name": "Python 3 (ipykernel)",
   "language": "python",
   "name": "python3"
  },
  "language_info": {
   "codemirror_mode": {
    "name": "ipython",
    "version": 3
   },
   "file_extension": ".py",
   "mimetype": "text/x-python",
   "name": "python",
   "nbconvert_exporter": "python",
   "pygments_lexer": "ipython3",
   "version": "3.10.12"
  }
 },
 "nbformat": 4,
 "nbformat_minor": 5
}
