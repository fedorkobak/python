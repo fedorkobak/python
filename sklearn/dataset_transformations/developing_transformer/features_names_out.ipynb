{
 "cells": [
  {
   "cell_type": "markdown",
   "id": "2dbe9769-c2b2-4198-9e00-6c9c363e7811",
   "metadata": {},
   "source": [
    "# Feature names out\n",
    "\n",
    "Check [developer API for `set_output`](https://scikit-learn.org/stable/developers/develop.html#developer-api-for-set-output) for more details.\n",
    "\n",
    "In practice, it's extremely important to be able to save column names through transformations."
   ]
  },
  {
   "cell_type": "code",
   "execution_count": 1,
   "id": "8f04871a-d641-47b3-a606-24c94342c86e",
   "metadata": {},
   "outputs": [],
   "source": [
    "import numpy as np\n",
    "import pandas as pd\n",
    "example_data = pd.read_parquet(\"example_frame.parquet\")\n",
    "\n",
    "from sklearn.base import BaseEstimator, TransformerMixin\n",
    "from sklearn.pipeline import FeatureUnion"
   ]
  },
  {
   "cell_type": "markdown",
   "id": "46c29911-0554-48de-ba26-0822d6aa8b32",
   "metadata": {},
   "source": [
    "The class from [minimum setup](../developing_transformer.ipynb) the previous section doesn't have `get_feature_names_out` by default - so you'll get a corresponding error. The following cell shows it:"
   ]
  },
  {
   "cell_type": "code",
   "execution_count": 2,
   "id": "26b07935-5da3-4317-ad59-828405057126",
   "metadata": {},
   "outputs": [
    {
     "name": "stdout",
     "output_type": "stream",
     "text": [
      "'ColumnsSubtraction' object has no attribute 'get_feature_names_out'\n"
     ]
    }
   ],
   "source": [
    "class ColumnsSubtraction(BaseEstimator, TransformerMixin):\n",
    "    def __init__(self, A_columns : list, B_columns : list):\n",
    "        self.A_columns = A_columns\n",
    "        self.B_columns = B_columns\n",
    "\n",
    "    def fit(self, X, y=None):\n",
    "        return self\n",
    "    \n",
    "    def transform(self, X):\n",
    "        return (\n",
    "            X[self.A_columns].to_numpy() - \n",
    "            X[self.B_columns].to_numpy()\n",
    "        )\n",
    "\n",
    "\n",
    "transoformer = (\n",
    "    ColumnsSubtraction(\n",
    "        [\"a x\", \"a y\"], \n",
    "        [\"b x\", \"b y\"]\n",
    "    )\n",
    "    .fit(example_data)\n",
    ")\n",
    "try:\n",
    "    transoformer.get_feature_names_out()\n",
    "except Exception as e:\n",
    "    print(e)"
   ]
  },
  {
   "cell_type": "markdown",
   "id": "3e7471aa-14d5-4378-85b5-82652e8cc5aa",
   "metadata": {},
   "source": [
    "As a result, you cannot use interfaces associated with feature names in a transformer that contains such components."
   ]
  },
  {
   "cell_type": "markdown",
   "id": "ee6d428a-3615-4ca9-a4f9-e5c6cd9500da",
   "metadata": {},
   "source": [
    "## Defining `get_feature_names_out`\n",
    "\n",
    "Here, for our example with a transformer that subtracts columns, we define `get_feature_names_out`, which returns column names corresponding to the sense of the transformation."
   ]
  },
  {
   "cell_type": "code",
   "execution_count": 3,
   "id": "3a881624-aec2-4e16-a0c9-41ad11bc4b90",
   "metadata": {},
   "outputs": [],
   "source": [
    "class ColumnsSubtractionNames(BaseEstimator, TransformerMixin):\n",
    "    def __init__(self, A_columns : list, B_columns : list):\n",
    "        if len(A_columns) != len(B_columns):\n",
    "            raise ValueError(\n",
    "                \"The number of columns in the decreasing \"\n",
    "                \"and subtracting columns do not match.\"\n",
    "            )\n",
    "        self.A_columns = A_columns\n",
    "        self.B_columns = B_columns\n",
    "\n",
    "    def fit(self, X, y=None):\n",
    "        return self\n",
    "    \n",
    "    def transform(self, X):\n",
    "        return (\n",
    "            X[self.A_columns].to_numpy() - \n",
    "            X[self.B_columns].to_numpy()\n",
    "        )\n",
    "\n",
    "    def get_feature_names_out(self, input_features=None):\n",
    "        return np.array([\n",
    "            f\"'{a_col}'-'{b_col}'\"\n",
    "            for a_col, b_col in\n",
    "            zip(self.A_columns, self.B_columns)\n",
    "        ])"
   ]
  },
  {
   "cell_type": "markdown",
   "id": "b114ffef-8c53-4cd2-b0a1-e7e43acf50c9",
   "metadata": {},
   "source": [
    "Instances of `ColumnsSubtractionNames` will return column names and any complex transforms that are used will be able to use the `get_feature_names_out` method."
   ]
  },
  {
   "cell_type": "code",
   "execution_count": 4,
   "id": "7702c597-cd25-4ed4-9e15-20db967ecd43",
   "metadata": {},
   "outputs": [
    {
     "data": {
      "text/plain": [
       "array([\"a-b__'a x'-'b x'\", \"a-b__'a y'-'b y'\", \"x-y__'a x'-'a y'\",\n",
       "       \"x-y__'b x'-'b y'\"], dtype=object)"
      ]
     },
     "execution_count": 4,
     "metadata": {},
     "output_type": "execute_result"
    }
   ],
   "source": [
    "test_union = FeatureUnion([\n",
    "    (\"a-b\", ColumnsSubtractionNames([\"a x\", \"a y\"], [\"b x\", \"b y\"])),\n",
    "    (\"x-y\", ColumnsSubtractionNames([\"a x\", \"b x\"], [\"a y\", \"b y\"]))\n",
    "])\n",
    "test_union.fit(example_data)\n",
    "test_union.get_feature_names_out()"
   ]
  },
  {
   "cell_type": "markdown",
   "id": "037dd9d0-c08e-4794-8f89-b0907fb66e7a",
   "metadata": {},
   "source": [
    "**Note** By applying the method `set_output(transform=\"pandas\")` to the instance of your transformer with defined `get_feature_names_out` - you make it return pandas data frames."
   ]
  },
  {
   "cell_type": "code",
   "execution_count": 5,
   "id": "6305adfc-7dc5-4f20-b6b4-bd64a2d22200",
   "metadata": {},
   "outputs": [
    {
     "data": {
      "text/html": [
       "<div>\n",
       "<style scoped>\n",
       "    .dataframe tbody tr th:only-of-type {\n",
       "        vertical-align: middle;\n",
       "    }\n",
       "\n",
       "    .dataframe tbody tr th {\n",
       "        vertical-align: top;\n",
       "    }\n",
       "\n",
       "    .dataframe thead th {\n",
       "        text-align: right;\n",
       "    }\n",
       "</style>\n",
       "<table border=\"1\" class=\"dataframe\">\n",
       "  <thead>\n",
       "    <tr style=\"text-align: right;\">\n",
       "      <th></th>\n",
       "      <th>a-b__'a x'-'b x'</th>\n",
       "      <th>a-b__'a y'-'b y'</th>\n",
       "      <th>x-y__'a x'-'a y'</th>\n",
       "      <th>x-y__'b x'-'b y'</th>\n",
       "    </tr>\n",
       "  </thead>\n",
       "  <tbody>\n",
       "    <tr>\n",
       "      <th>0</th>\n",
       "      <td>0.869201</td>\n",
       "      <td>-0.437556</td>\n",
       "      <td>1.198449</td>\n",
       "      <td>-0.108308</td>\n",
       "    </tr>\n",
       "    <tr>\n",
       "      <th>1</th>\n",
       "      <td>1.935135</td>\n",
       "      <td>1.715619</td>\n",
       "      <td>-0.487465</td>\n",
       "      <td>-0.706980</td>\n",
       "    </tr>\n",
       "    <tr>\n",
       "      <th>2</th>\n",
       "      <td>-1.737973</td>\n",
       "      <td>-1.300535</td>\n",
       "      <td>-0.520647</td>\n",
       "      <td>-0.083210</td>\n",
       "    </tr>\n",
       "    <tr>\n",
       "      <th>3</th>\n",
       "      <td>-0.443834</td>\n",
       "      <td>0.549681</td>\n",
       "      <td>-0.168783</td>\n",
       "      <td>0.824732</td>\n",
       "    </tr>\n",
       "    <tr>\n",
       "      <th>4</th>\n",
       "      <td>2.256280</td>\n",
       "      <td>-1.779005</td>\n",
       "      <td>1.751811</td>\n",
       "      <td>-2.283474</td>\n",
       "    </tr>\n",
       "  </tbody>\n",
       "</table>\n",
       "</div>"
      ],
      "text/plain": [
       "   a-b__'a x'-'b x'  a-b__'a y'-'b y'  x-y__'a x'-'a y'  x-y__'b x'-'b y'\n",
       "0          0.869201         -0.437556          1.198449         -0.108308\n",
       "1          1.935135          1.715619         -0.487465         -0.706980\n",
       "2         -1.737973         -1.300535         -0.520647         -0.083210\n",
       "3         -0.443834          0.549681         -0.168783          0.824732\n",
       "4          2.256280         -1.779005          1.751811         -2.283474"
      ]
     },
     "execution_count": 5,
     "metadata": {},
     "output_type": "execute_result"
    }
   ],
   "source": [
    "test_union.set_output(transform=\"pandas\")\n",
    "test_union.fit_transform(example_data).head()"
   ]
  },
  {
   "cell_type": "markdown",
   "id": "3dea0196-752e-4910-a8fb-c65fedfaf5e9",
   "metadata": {},
   "source": [
    "**Note** All currently known transformers return `numpy.array` from `get_feature_names_out` so, all things being equal, you should also try to return `numpy.array`."
   ]
  }
 ],
 "metadata": {
  "kernelspec": {
   "display_name": "Python 3 (ipykernel)",
   "language": "python",
   "name": "python3"
  },
  "language_info": {
   "codemirror_mode": {
    "name": "ipython",
    "version": 3
   },
   "file_extension": ".py",
   "mimetype": "text/x-python",
   "name": "python",
   "nbconvert_exporter": "python",
   "pygments_lexer": "ipython3",
   "version": "3.10.12"
  }
 },
 "nbformat": 4,
 "nbformat_minor": 5
}
