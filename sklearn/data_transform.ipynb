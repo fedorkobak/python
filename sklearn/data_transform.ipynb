{
 "cells": [
  {
   "cell_type": "markdown",
   "id": "2f03baf1",
   "metadata": {},
   "source": [
    "# Data transform\n",
    "\n",
    "In sklearn there are a lot of tools that allow you to organise the \"flow of data\". It's extremely convenient and saves a lot of time in real tasks. This section is focused on them.\n",
    "\n",
    "Find out more in the [relevant section of the Sklearn User Guide](https://scikit-learn.org/stable/data_transforms.html)."
   ]
  },
  {
   "cell_type": "code",
   "execution_count": 2,
   "id": "8a892050",
   "metadata": {},
   "outputs": [],
   "source": [
    "import sklearn\n",
    "from sklearn import preprocessing\n",
    "import numpy as np"
   ]
  },
  {
   "cell_type": "markdown",
   "id": "b87d82a3",
   "metadata": {},
   "source": [
    "## Encoders\n",
    "\n",
    "An encoder is a type of transformation (or better to say \"encode\") that converts categorical data into the numeric. The following table ones awailable in `scikit-learn`:\n",
    "\n",
    "| Encoder                                     | Description                                                                                            |\n",
    "| ------------------------------------------- | ------------------------------------------------------------------------------------------------------ |\n",
    "| `sklearn.preprocessing.OneHotEncoder`       | Converts categorical variables into a one-hot numeric array (sparse or dense).                         |\n",
    "| `sklearn.preprocessing.OrdinalEncoder`      | Encodes categorical features as integers (`0` to `n\\_categories - 1)`.                                 |\n",
    "| `sklearn.preprocessing.LabelEncoder`        | Encodes target labels with values between `0` and `n\\_classes - 1`. Intended for labels, not features. |\n",
    "\n",
    "Check more details in [Encoders](data_transform/encoders.ipynb) page."
   ]
  },
  {
   "cell_type": "markdown",
   "id": "d1c03303",
   "metadata": {},
   "source": [
    "---\n",
    "\n",
    "The following cell creates a column of categorial features that will serve as example."
   ]
  },
  {
   "cell_type": "code",
   "execution_count": 6,
   "id": "1a7e705d",
   "metadata": {},
   "outputs": [
    {
     "data": {
      "text/plain": [
       "array([['a'],\n",
       "       ['b'],\n",
       "       ['c'],\n",
       "       ['a'],\n",
       "       ['c']], dtype='<U1')"
      ]
     },
     "execution_count": 6,
     "metadata": {},
     "output_type": "execute_result"
    }
   ],
   "source": [
    "inp = np.array([\"a\", \"b\", \"c\", \"a\", \"c\"])[:, None]\n",
    "inp"
   ]
  },
  {
   "cell_type": "markdown",
   "id": "66edbf11",
   "metadata": {},
   "source": [
    "The following cell shows the application of the one-hot encoding to the example column."
   ]
  },
  {
   "cell_type": "code",
   "execution_count": 8,
   "id": "a6e2f47c",
   "metadata": {},
   "outputs": [
    {
     "data": {
      "text/plain": [
       "array([[1., 0., 0.],\n",
       "       [0., 1., 0.],\n",
       "       [0., 0., 1.],\n",
       "       [1., 0., 0.],\n",
       "       [0., 0., 1.]])"
      ]
     },
     "execution_count": 8,
     "metadata": {},
     "output_type": "execute_result"
    }
   ],
   "source": [
    "(\n",
    "    preprocessing.\n",
    "    OneHotEncoder(sparse_output=False).\n",
    "    fit_transform(inp)\n",
    ")"
   ]
  },
  {
   "cell_type": "markdown",
   "id": "612c7ca0",
   "metadata": {},
   "source": [
    "The following code shows how to apply the `sklearn.preprocessing.OrdinalEncoder` to the example."
   ]
  },
  {
   "cell_type": "code",
   "execution_count": 7,
   "id": "afe7f228",
   "metadata": {},
   "outputs": [
    {
     "data": {
      "text/plain": [
       "array([[0.],\n",
       "       [1.],\n",
       "       [2.],\n",
       "       [0.],\n",
       "       [2.]])"
      ]
     },
     "execution_count": 7,
     "metadata": {},
     "output_type": "execute_result"
    }
   ],
   "source": [
    "preprocessing.OrdinalEncoder().fit_transform(inp)"
   ]
  }
 ],
 "metadata": {
  "kernelspec": {
   "display_name": "knowledge",
   "language": "python",
   "name": "python3"
  },
  "language_info": {
   "codemirror_mode": {
    "name": "ipython",
    "version": 3
   },
   "file_extension": ".py",
   "mimetype": "text/x-python",
   "name": "python",
   "nbconvert_exporter": "python",
   "pygments_lexer": "ipython3",
   "version": "3.12.8"
  }
 },
 "nbformat": 4,
 "nbformat_minor": 5
}
