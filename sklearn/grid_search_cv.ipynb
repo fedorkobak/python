{
 "cells": [
  {
   "cell_type": "markdown",
   "id": "407cb2b6-5d13-495d-8134-b2c0d84afddb",
   "metadata": {},
   "source": [
    "# Grid search CV\n",
    "\n",
    "`sklearn.model_selection.GridSearchCV` is an extremely useful tool that allows you to try out your model with different combinations of hyper-parameters.\n",
    "\n",
    "Learn more:\n",
    "\n",
    "- <a href=\"https://scikit-learn.org/stable/modules/generated/sklearn.model_selection.GridSearchCV.html\"> Official documentation page</a>;\n",
    "- <a href=\"https://scikit-learn.org/stable/modules/grid_search.html#grid-search\"> Sklearn user guide for tuning model hyperparameters</a>."
   ]
  },
  {
   "cell_type": "markdown",
   "id": "0f0e8e8a-4623-4829-a973-e7659f4f7430",
   "metadata": {},
   "source": [
    "## Use one train/test split\n",
    "\n",
    "Sometimes it's not necessary to use cross-validation grid search, so here's how to do a fit on train data and a validation on test once per parameter combination using `sklearn.model_selection.GridSearchCV`.\n",
    "\n",
    "There is a `cv` argument in the `GridSearchCV` constructor. One of the options of arguments that can be passed is an iteramble object, where each element contains a `tuple` like object that contains train and test subsample indexes. So to achieve our goal we can pass an element list that contains a specific train/test split.\n",
    "\n",
    "So in the following example is showen that self coded solution and using `GridSearchCV` object in described way will lead to same results. But the `GridSearchCV` option requires much less code and getting all features of `GridSearchCV` out of the box."
   ]
  },
  {
   "cell_type": "markdown",
   "id": "56dfbf49-ec1b-4036-841e-62ef44eae5a6",
   "metadata": {},
   "source": [
    "This cell:\n",
    "\n",
    "- Gerates sample;\n",
    "- Performs train/test split. Note that `train_test_split` is passed an array that matches the indices of the observations in the original sample, so that it also returns train/test split for sample indices;\n",
    "- Defines the hyperparameter values that will be tried."
   ]
  },
  {
   "cell_type": "code",
   "execution_count": 56,
   "id": "f96d33b7-5ade-40c9-a89c-f4221eba12a9",
   "metadata": {},
   "outputs": [],
   "source": [
    "from sklearn.tree import DecisionTreeClassifier\n",
    "from sklearn.datasets import make_classification\n",
    "\n",
    "X, y = make_classification(\n",
    "    n_samples = 500, \n",
    "    n_features = 2, \n",
    "    n_redundant = 0, \n",
    "    n_classes = 2,\n",
    "    random_state = 1\n",
    ")\n",
    "\n",
    "X_train, X_test, y_train, y_test, train_inds, test_inds =\\\n",
    "    train_test_split(X, y, np.arange(len(X)))\n",
    "\n",
    "param_grid = {\n",
    "    \"max_leaf_nodes\" : [5, 10, 20, 50, 100],\n",
    "    \"max_depth\" : [3, 7, 10]\n",
    "}"
   ]
  },
  {
   "cell_type": "markdown",
   "id": "2db4e379-8a97-4594-806d-2d314887ab60",
   "metadata": {},
   "source": [
    "Here is a selfmade enumeration of all possible combinations of hyperparameters. The result will be an array with $AUC_{roc}$ estimates on the test sample."
   ]
  },
  {
   "cell_type": "code",
   "execution_count": 57,
   "id": "f4b2d657-5c7e-4575-ad1d-2beefac18488",
   "metadata": {},
   "outputs": [],
   "source": [
    "from sklearn.metrics import roc_auc_score\n",
    "\n",
    "my_tree = DecisionTreeClassifier(random_state = 1)\n",
    "roc_aucs = []\n",
    "\n",
    "\n",
    "for max_leaf_nodes in param_grid[\"max_leaf_nodes\"]:\n",
    "    for max_depth in param_grid[\"max_depth\"]:\n",
    "        my_tree.set_params(\n",
    "            max_leaf_nodes = max_leaf_nodes,\n",
    "            max_depth = max_depth\n",
    "        )\n",
    "        my_tree.fit(X_train, y_train)\n",
    "        roc_aucs.append(roc_auc_score(\n",
    "            y_test,\n",
    "            my_tree.predict_proba(X_test)[:,1]\n",
    "        ))"
   ]
  },
  {
   "cell_type": "markdown",
   "id": "e87e3b2f-2083-48f1-85ff-3b03e1e08b3e",
   "metadata": {},
   "source": [
    "The trick described above is used here. It leteraly does the same as the previous cell, but in much less code."
   ]
  },
  {
   "cell_type": "code",
   "execution_count": 58,
   "id": "6483775a-3f43-425b-8545-29f517aaea7a",
   "metadata": {},
   "outputs": [],
   "source": [
    "from sklearn.model_selection import GridSearchCV\n",
    "grid_search_cv = GridSearchCV(\n",
    "    estimator = my_tree,\n",
    "    scoring = \"roc_auc\",\n",
    "    param_grid = param_grid,\n",
    "    cv = [(train_inds, test_inds)]\n",
    ").fit(X, y)"
   ]
  },
  {
   "cell_type": "markdown",
   "id": "e02fd1ff-6243-4ff0-94d3-77b5d6cccc35",
   "metadata": {},
   "source": [
    "Finally let's compare results of selfmade solution and the one performed by `GridSearchCV` - they are the same."
   ]
  },
  {
   "cell_type": "code",
   "execution_count": 60,
   "id": "d471b3af-becb-418e-b882-54b953313feb",
   "metadata": {},
   "outputs": [
    {
     "data": {
      "text/html": [
       "<div>\n",
       "<style scoped>\n",
       "    .dataframe tbody tr th:only-of-type {\n",
       "        vertical-align: middle;\n",
       "    }\n",
       "\n",
       "    .dataframe tbody tr th {\n",
       "        vertical-align: top;\n",
       "    }\n",
       "\n",
       "    .dataframe thead th {\n",
       "        text-align: right;\n",
       "    }\n",
       "</style>\n",
       "<table border=\"1\" class=\"dataframe\">\n",
       "  <thead>\n",
       "    <tr style=\"text-align: right;\">\n",
       "      <th></th>\n",
       "      <th>Self code</th>\n",
       "      <th>GridSearchCV</th>\n",
       "    </tr>\n",
       "  </thead>\n",
       "  <tbody>\n",
       "    <tr>\n",
       "      <th>0</th>\n",
       "      <td>0.966872</td>\n",
       "      <td>0.966872</td>\n",
       "    </tr>\n",
       "    <tr>\n",
       "      <th>1</th>\n",
       "      <td>0.966872</td>\n",
       "      <td>0.963919</td>\n",
       "    </tr>\n",
       "    <tr>\n",
       "      <th>2</th>\n",
       "      <td>0.966872</td>\n",
       "      <td>0.963919</td>\n",
       "    </tr>\n",
       "    <tr>\n",
       "      <th>3</th>\n",
       "      <td>0.963919</td>\n",
       "      <td>0.963919</td>\n",
       "    </tr>\n",
       "    <tr>\n",
       "      <th>4</th>\n",
       "      <td>0.929122</td>\n",
       "      <td>0.963919</td>\n",
       "    </tr>\n",
       "    <tr>\n",
       "      <th>5</th>\n",
       "      <td>0.929122</td>\n",
       "      <td>0.966872</td>\n",
       "    </tr>\n",
       "    <tr>\n",
       "      <th>6</th>\n",
       "      <td>0.963919</td>\n",
       "      <td>0.929122</td>\n",
       "    </tr>\n",
       "    <tr>\n",
       "      <th>7</th>\n",
       "      <td>0.932717</td>\n",
       "      <td>0.932717</td>\n",
       "    </tr>\n",
       "    <tr>\n",
       "      <th>8</th>\n",
       "      <td>0.921161</td>\n",
       "      <td>0.932717</td>\n",
       "    </tr>\n",
       "    <tr>\n",
       "      <th>9</th>\n",
       "      <td>0.963919</td>\n",
       "      <td>0.932717</td>\n",
       "    </tr>\n",
       "    <tr>\n",
       "      <th>10</th>\n",
       "      <td>0.932717</td>\n",
       "      <td>0.966872</td>\n",
       "    </tr>\n",
       "    <tr>\n",
       "      <th>11</th>\n",
       "      <td>0.911531</td>\n",
       "      <td>0.929122</td>\n",
       "    </tr>\n",
       "    <tr>\n",
       "      <th>12</th>\n",
       "      <td>0.963919</td>\n",
       "      <td>0.921161</td>\n",
       "    </tr>\n",
       "    <tr>\n",
       "      <th>13</th>\n",
       "      <td>0.932717</td>\n",
       "      <td>0.911531</td>\n",
       "    </tr>\n",
       "    <tr>\n",
       "      <th>14</th>\n",
       "      <td>0.911531</td>\n",
       "      <td>0.911531</td>\n",
       "    </tr>\n",
       "  </tbody>\n",
       "</table>\n",
       "</div>"
      ],
      "text/plain": [
       "    Self code  GridSearchCV\n",
       "0    0.966872      0.966872\n",
       "1    0.966872      0.963919\n",
       "2    0.966872      0.963919\n",
       "3    0.963919      0.963919\n",
       "4    0.929122      0.963919\n",
       "5    0.929122      0.966872\n",
       "6    0.963919      0.929122\n",
       "7    0.932717      0.932717\n",
       "8    0.921161      0.932717\n",
       "9    0.963919      0.932717\n",
       "10   0.932717      0.966872\n",
       "11   0.911531      0.929122\n",
       "12   0.963919      0.921161\n",
       "13   0.932717      0.911531\n",
       "14   0.911531      0.911531"
      ]
     },
     "execution_count": 60,
     "metadata": {},
     "output_type": "execute_result"
    }
   ],
   "source": [
    "import pandas as pd\n",
    "pd.DataFrame({\n",
    "    \"Self code\" : roc_aucs,\n",
    "    \"GridSearchCV\" : grid_search_cv.cv_results_[\"mean_test_score\"]\n",
    "})"
   ]
  }
 ],
 "metadata": {
  "kernelspec": {
   "display_name": "Python 3 (ipykernel)",
   "language": "python",
   "name": "python3"
  },
  "language_info": {
   "codemirror_mode": {
    "name": "ipython",
    "version": 3
   },
   "file_extension": ".py",
   "mimetype": "text/x-python",
   "name": "python",
   "nbconvert_exporter": "python",
   "pygments_lexer": "ipython3",
   "version": "3.10.12"
  }
 },
 "nbformat": 4,
 "nbformat_minor": 5
}
