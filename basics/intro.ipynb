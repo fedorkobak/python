{
 "cells": [
  {
   "cell_type": "markdown",
   "metadata": {},
   "source": [
    "# Intro\n",
    "\n",
    "This section highlights features and tools in Python that can be used independently of any specific application."
   ]
  },
  {
   "cell_type": "markdown",
   "metadata": {},
   "source": [
    "## Syntax\n",
    "\n",
    "Syntax is set of rules that define the structure and format of valid statements and expressions in a programming language. It dictates how symbols, keywords, and operators must be arranged to create meaningful instructions for the computer. Find out more at the [specific page](syntax.ipynb)."
   ]
  },
  {
   "cell_type": "markdown",
   "metadata": {},
   "source": [
    "---\n",
    "\n",
    "Look at the following code:"
   ]
  },
  {
   "cell_type": "code",
   "execution_count": 15,
   "metadata": {},
   "outputs": [
    {
     "name": "stdout",
     "output_type": "stream",
     "text": [
      "||/||\\||/|\\/\\/\\/|///|/|/|\\||||\\/|//\\\\\\/////\\|/||\\\\\n",
      "/|\\////\\||//||\\|||||/|/||///|\\//|\\///|||\\||//|/\\||\n",
      "\\|//||//\\\\/\\\\|\\\\||/|/\\\\///\\\\\\|\\\\\\\\\\/|/|\\|\\||||///\\\n",
      "//\\///\\\\|\\/|||///|\\//|\\///\\\\/\\\\/|/|\\\\\\/\\\\\\/\\\\|\\||\\\n",
      "||/\\/||||/\\|\\|//|/|/\\||\\||/\\|/|\\|//\\|/|\\|||\\|\\/\\|\\\n",
      "////|/\\\\\\//\\\\|//|\\//\\//|\\/////\\\\\\\\|\\\\/\\/|/////\\|\\|\n",
      "|\\|/\\|//\\\\/\\/|///|////||\\\\\\|\\|\\|//\\|||/\\|\\|/\\||\\\\\\\n",
      "\\/||/\\\\\\|\\/|/|\\\\\\|||\\\\/|/\\/|/|\\\\//||/\\\\|\\|\\/|/\\\\||\n",
      "/|\\\\\\|\\\\|\\/|/\\/|\\\\|\\\\|/\\\\|||//\\/\\|/\\/|\\\\\\/|/|/\\///\n",
      "|/|////|\\\\/|\\///\\/|\\///||||\\|///|\\\\/\\\\\\/\\\\||//\\/|/\n"
     ]
    }
   ],
   "source": [
    "from random import choice\n",
    "some_symbol = lambda: choice([\"\\\\\", \"|\", \"/\"])\n",
    "\n",
    "\n",
    "print(\"\\n\".join([\n",
    "    ''.join([some_symbol() for i in range(50)])\n",
    "    for i in range(10)\n",
    "]))"
   ]
  },
  {
   "cell_type": "markdown",
   "metadata": {},
   "source": [
    "At this short snippet code were used:\n",
    "\n",
    "**Operators:**\n",
    "\n",
    "1. **`=`** - Assignment operator (used in `some_symbol = lambda: ...`).\n",
    "2. **`:`** - Used in the lambda function definition (`lambda: choice(...)`).\n",
    "3. **`[]`** - List literal and list comprehension syntax (`[\"\\\\\", \"|\", \"/\"]`, `[some_symbol() for i in range(50)]`, and `[... for i in range(10)]`).\n",
    "4. **`()`** - Parentheses for function calls and grouping expressions (`choice(...)`, `some_symbol()`, and `range(...)`).\n",
    "5. **`.`** - Attribute access (used in `\"\\n\".join(...)` and `''.join(...)`).\n",
    "6. **`for`** - Part of the `for` loop in list comprehensions.\n",
    "7. **`in`** - Used in the context of the `for` loop within the list comprehensions.\n",
    "\n",
    "**Literals:**\n",
    "\n",
    "1. **`\"\\\\\", \"|\", \"/\"`** - String literals representing the symbols in the list.\n",
    "2. **`\\n`** - String literal for a newline character.\n",
    "3. **`''`** - Empty string literal.\n",
    "4. **`50`, `10`** - Integer literals used as arguments to `range()`.\n",
    "\n",
    "**Keywords:**\n",
    "\n",
    "1. **`from`** - Used for importing specific parts of a module (`from random import choice`).\n",
    "2. **`import`** - Used to bring a module or part of a module into the current namespace.\n",
    "3. **`lambda`** - Used to create an anonymous function.\n",
    "4. **`for`** - Used in the list comprehension to iterate over a range.\n",
    "5. **`in`** - Used in the `for` loop to iterate over elements."
   ]
  },
  {
   "cell_type": "markdown",
   "metadata": {},
   "source": [
    "## Files & folders\n",
    "\n",
    "This section reviews options for working with files and folders in Python. There are some tools typically used in such cases:\n",
    "\n",
    "- `os`: A core Python module for interacting with the operating system.\n",
    "- `pathlib`: A package that provides convenient path operations in Python.\n",
    "- `shutil`: Implements additional tools not available in the previous modules out of the box.\n",
    "\n",
    "Find out more in the [special page](files_folders.ipynb)."
   ]
  },
  {
   "cell_type": "markdown",
   "metadata": {},
   "source": [
    "---\n",
    "\n",
    "As example really typical task - list content of the `/tmp` folder: "
   ]
  },
  {
   "cell_type": "code",
   "execution_count": 2,
   "metadata": {},
   "outputs": [
    {
     "data": {
      "text/plain": [
       "['dumps',\n",
       " 'pyright-11804-s2fIQ36Ehj4n',\n",
       " 'snap-private-tmp',\n",
       " 'steam_chrome_overlay_uid1000_spid10387',\n",
       " 'systemd-private-57bd5d93c4894144aa34f82104c1dc8e-fwupd.service-wLri9E']"
      ]
     },
     "execution_count": 2,
     "metadata": {},
     "output_type": "execute_result"
    }
   ],
   "source": [
    "import os\n",
    "os.listdir(\"/tmp\")[:5]"
   ]
  },
  {
   "cell_type": "markdown",
   "metadata": {},
   "source": [
    "## Packages\n",
    "\n",
    "Packages in Python are additional code modules that extend the standard Python library. This section provides an overview of:\n",
    "\n",
    "- **Building packages**: Transforming source code into a distributable format.\n",
    "- **Installing packages**: Tools and methods for managing Python packages.\n",
    "- **Python indexes**: Repositories for storing Python packages and the process of uploading packages to them.\n",
    "\n",
    "Find all that staff on the [particular page](packages.ipynb) of this site."
   ]
  },
  {
   "cell_type": "markdown",
   "metadata": {},
   "source": [
    "---\n",
    "\n",
    "The packages are usually located in the `lib/python<version>/site_path` directory of the Python distribution. The following cell shows the exact directory for the interpreter used to show examples.\n",
    "\n",
    "Random entitlements from this folder will also be printed."
   ]
  },
  {
   "cell_type": "code",
   "execution_count": 24,
   "metadata": {},
   "outputs": [
    {
     "name": "stdout",
     "output_type": "stream",
     "text": [
      "/home/fedor/Documents/knowledge/venv/lib/python3.12/site-packages\n",
      "\n",
      "\n",
      "safetensors\n",
      "referencing\n",
      "psutil\n",
      "sphinx_comments-0.0.3.dist-info\n",
      "myst_nb\n",
      "aiosignal\n",
      "jedi-0.19.1.dist-info\n",
      "jupyter_core-5.7.2.dist-info\n",
      "jedi\n",
      "smmap-5.0.1.dist-info\n"
     ]
    }
   ],
   "source": [
    "import os\n",
    "import sys\n",
    "import random\n",
    "from pathlib import Path\n",
    "\n",
    "packages_path = sys.path[-1]\n",
    "print(packages_path, end=\"\\n\"*3)\n",
    "for f in random.sample(os.listdir(packages_path), 10):\n",
    "    print(f)"
   ]
  },
  {
   "cell_type": "markdown",
   "metadata": {},
   "source": [
    "The most basic tool for working with Python packages, `pip`, is itself a Python package. The following cell navigates to its folder and displays the contents of its `__init__.py` file."
   ]
  },
  {
   "cell_type": "code",
   "execution_count": 25,
   "metadata": {},
   "outputs": [
    {
     "name": "stdout",
     "output_type": "stream",
     "text": [
      "from typing import List, Optional\n",
      "\n",
      "__version__ = \"24.0\"\n",
      "\n",
      "\n",
      "def main(args: Optional[List[str]] = None) -> int:\n",
      "    \"\"\"This is an internal API only meant for use by pip's own console scripts.\n",
      "\n",
      "    For additional details, see https://github.com/pypa/pip/issues/7498.\n",
      "    \"\"\"\n",
      "    from pip._internal.utils.entrypoints import _wrapper\n",
      "\n",
      "    return _wrapper(args)\n",
      "\n"
     ]
    }
   ],
   "source": [
    "print((Path(packages_path)/\"pip\"/\"__init__.py\").read_text())"
   ]
  },
  {
   "cell_type": "markdown",
   "metadata": {},
   "source": [
    "## Logging\n",
    "\n",
    "`Logging` is a built-in Python library for organizing logs. Its purpose is to create different `Logger` objects, each of which can be used in a specific part of the program, allowing you to maintain control over your program's output.\n",
    "\n",
    "For more details check [corresponding page](logging.ipynb)."
   ]
  },
  {
   "cell_type": "markdown",
   "metadata": {},
   "source": [
    "---\n",
    "\n",
    "The following example demonstrates how to create a logger, `show_logger`, and attach different handlers to it. Handlers define the destination of the output, and each handler has a unique formatter—an object that defines the format of the records produced by the corresponding handler."
   ]
  },
  {
   "cell_type": "code",
   "execution_count": 2,
   "metadata": {},
   "outputs": [
    {
     "name": "stderr",
     "output_type": "stream",
     "text": [
      "2024-08-30 11:58:58,516 - CRITICAL - This is my message\n",
      "This is my message|2024-08-30 11:58:58,516|CRITICAL\n"
     ]
    }
   ],
   "source": [
    "import logging\n",
    "\n",
    "show_logger = logging.getLogger(\"show logger\")\n",
    "\n",
    "handler1 = logging.StreamHandler()\n",
    "formatter = logging.Formatter('%(asctime)s - %(levelname)s - %(message)s')\n",
    "handler1.setFormatter(formatter)\n",
    "\n",
    "handler2 = logging.StreamHandler()\n",
    "formatter = logging.Formatter('%(message)s|%(asctime)s|%(levelname)s')\n",
    "handler2.setFormatter(formatter)\n",
    "\n",
    "show_logger.addHandler(handler1)\n",
    "show_logger.addHandler(handler2)\n",
    "\n",
    "show_logger.critical(\"This is my message\")"
   ]
  },
  {
   "cell_type": "markdown",
   "metadata": {},
   "source": [
    "In the end, we receive messages formatted according to the logger's settings."
   ]
  },
  {
   "cell_type": "markdown",
   "metadata": {},
   "source": [
    "## Data class\n",
    "\n",
    "There is a special tool in Python called dataclasses. Dataclasses allow you to build classes that store data and provide some built-in tools for operating with them. The crusial features are:\n",
    "\n",
    "- Automatically generated `__init__` that will create all required attributes.\n",
    "- Converting to string as `__repr__` method will be defined in dataclass.\n",
    "- Comparing as `__eq__` method will be implemented.\n",
    "\n",
    "Find out more in the [special page](data_classes.ipynb)."
   ]
  },
  {
   "cell_type": "markdown",
   "metadata": {},
   "source": [
    "---\n",
    "\n",
    "To define a dataclass, you have to use the `dataclasses.dataclass` decorator. The following cell defines one that we'll use:"
   ]
  },
  {
   "cell_type": "code",
   "execution_count": 3,
   "metadata": {},
   "outputs": [],
   "source": [
    "from dataclasses import dataclass\n",
    "\n",
    "@dataclass\n",
    "class SomeData:\n",
    "    value1: int\n",
    "    value2: str"
   ]
  },
  {
   "cell_type": "markdown",
   "metadata": {},
   "source": [
    "Any instance of such a class can be transformed into a string in the format `<ClassName>(<attr1>=<val1>, ...)`. The following cell shows this:"
   ]
  },
  {
   "cell_type": "code",
   "execution_count": 4,
   "metadata": {},
   "outputs": [
    {
     "name": "stdout",
     "output_type": "stream",
     "text": [
      "SomeData(value1=1, value2='wow')\n"
     ]
    }
   ],
   "source": [
    "print(SomeData(1, \"wow\"))"
   ]
  },
  {
   "cell_type": "markdown",
   "metadata": {},
   "source": [
    "You can compare dataclasses out of the box, and if their attributes have the same values, you will find that the instances are equal."
   ]
  },
  {
   "cell_type": "code",
   "execution_count": 6,
   "metadata": {},
   "outputs": [
    {
     "name": "stdout",
     "output_type": "stream",
     "text": [
      "True\n",
      "False\n"
     ]
    }
   ],
   "source": [
    "print(SomeData(1, \"wow\") == SomeData(1, \"wow\"))\n",
    "print(SomeData(1, \"wow\") == SomeData(2, \"oh my gosh\"))"
   ]
  },
  {
   "cell_type": "markdown",
   "metadata": {},
   "source": [
    "## Functools\n",
    "\n",
    "Functools is a module in Python that provides functions that return other functions that have specific properties. Check [corresponding documentation](https://docs.python.org/3/library/functools.html)."
   ]
  },
  {
   "cell_type": "markdown",
   "metadata": {},
   "source": [
    "### Partial\n",
    "\n",
    "With `functools.partial` you can create a function that wraps another function in order to define default values for the arguments of the wrapped function. This is really useful when you need to pass the same set of arguments many times for example in unit tests."
   ]
  },
  {
   "cell_type": "markdown",
   "metadata": {},
   "source": [
    "---\n",
    "\n",
    "The following cell defines a function with three parameters and demostrates how to call it."
   ]
  },
  {
   "cell_type": "code",
   "execution_count": 2,
   "metadata": {},
   "outputs": [
    {
     "name": "stdout",
     "output_type": "stream",
     "text": [
      "1, 2, 3\n"
     ]
    }
   ],
   "source": [
    "from functools import partial\n",
    "\n",
    "def some_fun(a, b, c):\n",
    "    print(f\"{a}, {b}, {c}\")\n",
    "\n",
    "some_fun(1, 2, 3)"
   ]
  },
  {
   "cell_type": "markdown",
   "metadata": {},
   "source": [
    "Now created `default_some_fun` function, which is the same as `some_fun` but uses `a=3` and `b=10` as default values."
   ]
  },
  {
   "cell_type": "code",
   "execution_count": 3,
   "metadata": {},
   "outputs": [],
   "source": [
    "default_some_fun = partial(some_fun, a=3, c=10)"
   ]
  },
  {
   "cell_type": "markdown",
   "metadata": {},
   "source": [
    "The following cell shows the `default_some_fun` call with `b` set to \"hello\""
   ]
  },
  {
   "cell_type": "code",
   "execution_count": 4,
   "metadata": {},
   "outputs": [
    {
     "name": "stdout",
     "output_type": "stream",
     "text": [
      "3, hello, 10\n"
     ]
    }
   ],
   "source": [
    "default_some_fun(b=\"hello\")"
   ]
  },
  {
   "cell_type": "markdown",
   "metadata": {},
   "source": [
    "Obviously it is just like `some_fun(3, \"hello\", 10)`."
   ]
  },
  {
   "cell_type": "markdown",
   "metadata": {},
   "source": [
    "**Note:** It is possible to redefine values specified in `parital`. The following code calls `default_some_fun` with new value for `a` parameter."
   ]
  },
  {
   "cell_type": "code",
   "execution_count": 5,
   "metadata": {},
   "outputs": [
    {
     "name": "stdout",
     "output_type": "stream",
     "text": [
      "three, hello, 10\n"
     ]
    }
   ],
   "source": [
    "default_some_fun(a=\"three\", b=\"hello\")"
   ]
  },
  {
   "cell_type": "markdown",
   "metadata": {},
   "source": [
    "As a result, instead of `3` specified by partical, we get `three` specified in the call to the result."
   ]
  },
  {
   "cell_type": "markdown",
   "metadata": {},
   "source": [
    "**Note:** With `partial` you can redefine any callable you like not only functions, for example you can specify a class that will always have the same argument of the `__init__`. The following cell creates a special object that will behave just like a `dict` but will have a default `hello: 10` key-value pair."
   ]
  },
  {
   "cell_type": "code",
   "execution_count": 6,
   "metadata": {},
   "outputs": [
    {
     "data": {
      "text/plain": [
       "({'hello': 10}, {'hello': 10, 'new': 3})"
      ]
     },
     "execution_count": 6,
     "metadata": {},
     "output_type": "execute_result"
    }
   ],
   "source": [
    "value = partial(dict, hello=10)\n",
    "value(), value(new=3)"
   ]
  },
  {
   "cell_type": "markdown",
   "metadata": {},
   "source": [
    "## Asynchronous I/O\n",
    "\n",
    "Python offers tools for organizing asynchronous programming. The main components are the `async` and `await` keywords, along with the `asyncio` library."
   ]
  },
  {
   "cell_type": "markdown",
   "metadata": {},
   "source": [
    "---\n",
    "\n",
    "The following cell demonstrates a classical asynchronous program. It uses the functions `fun1` and `fun2`, which are essentially the same—each prints a number in a loop. Each record identifies which function produced it."
   ]
  },
  {
   "cell_type": "code",
   "execution_count": 52,
   "metadata": {},
   "outputs": [
    {
     "name": "stdout",
     "output_type": "stream",
     "text": [
      "=========begin cycle=========\n",
      "fun 1|iteration 0\n",
      "fun 2|iteration 0\n",
      "fun 2|iteration 1\n",
      "fun 1|iteration 1\n",
      "fun 1|iteration 2\n",
      "fun 1|iteration 3\n",
      "fun 2|iteration 2\n",
      "fun 2|iteration 3\n",
      "fun 2|iteration 4\n",
      "fun 1|iteration 4\n",
      "fun 2|iteration 5\n",
      "fun 2|iteration 6\n",
      "fun 2|iteration 7\n",
      "fun 2|iteration 8\n",
      "fun 1|iteration 5\n",
      "fun 1|iteration 6\n",
      "fun 2|iteration 9\n",
      "fun 1|iteration 7\n",
      "fun 1|iteration 8\n",
      "fun 1|iteration 9\n",
      "=========end cycle=========\n"
     ]
    }
   ],
   "source": [
    "import asyncio\n",
    "from random import uniform\n",
    "\n",
    "async def fun1():\n",
    "    for i in range(10):\n",
    "        print(f\"fun 1|iteration {i}\")\n",
    "        await asyncio.sleep(uniform(0, 0.1))\n",
    "\n",
    "async def fun2():\n",
    "    for i in range(10):\n",
    "        print(f\"fun 2|iteration {i}\")\n",
    "        await asyncio.sleep(uniform(0, 0.1))\n",
    "\n",
    "print(\"=========begin cycle=========\")\n",
    "await asyncio.gather(fun1(), fun2())\n",
    "print(\"=========end cycle=========\")"
   ]
  }
 ],
 "metadata": {
  "kernelspec": {
   "display_name": "knowledge",
   "language": "python",
   "name": "python3"
  },
  "language_info": {
   "codemirror_mode": {
    "name": "ipython",
    "version": 3
   },
   "file_extension": ".py",
   "mimetype": "text/x-python",
   "name": "python",
   "nbconvert_exporter": "python",
   "pygments_lexer": "ipython3",
   "version": "3.12.9"
  }
 },
 "nbformat": 4,
 "nbformat_minor": 2
}
