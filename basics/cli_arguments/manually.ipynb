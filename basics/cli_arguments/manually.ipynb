{
 "cells": [
  {
   "cell_type": "markdown",
   "id": "b77b3005-d2bd-4e1b-a281-b2a62cfe6b69",
   "metadata": {},
   "source": [
    "# Manually"
   ]
  },
  {
   "cell_type": "markdown",
   "id": "34ef91ef-b35b-47fd-a7a1-0b7fc3772694",
   "metadata": {},
   "source": [
    "Using the `sys.argv` object, you can access all the values passed to Python interpreter during the current run.\n",
    "\n",
    "So the following example defines a script that shows that `sys.argv` contains a list of string values, including those passed to the program from the run directory."
   ]
  },
  {
   "cell_type": "code",
   "execution_count": 5,
   "id": "14f1d35a-167e-44e3-a99f-4f001a54f0fa",
   "metadata": {},
   "outputs": [
    {
     "name": "stdout",
     "output_type": "stream",
     "text": [
      "Overwriting manually_files/example.py\n"
     ]
    }
   ],
   "source": [
    "%%writefile manually_files/example.py\n",
    "import sys\n",
    "for v in sys.argv: print(v)"
   ]
  },
  {
   "cell_type": "code",
   "execution_count": 6,
   "id": "d4c6ed66-7461-4fb1-9a2a-e5bcbb092a0a",
   "metadata": {},
   "outputs": [
    {
     "name": "stdout",
     "output_type": "stream",
     "text": [
      "manually_files/example.py\n",
      "value1\n",
      "value2\n",
      "value3\n",
      "value4\n",
      "value5\n",
      "value6\n",
      "value7\n",
      "value8\n",
      "value9\n",
      "value10\n"
     ]
    }
   ],
   "source": [
    "%%bash \n",
    "python3 manually_files/example.py value{1..10}"
   ]
  }
 ],
 "metadata": {
  "kernelspec": {
   "display_name": "Python 3 (ipykernel)",
   "language": "python",
   "name": "python3"
  },
  "language_info": {
   "codemirror_mode": {
    "name": "ipython",
    "version": 3
   },
   "file_extension": ".py",
   "mimetype": "text/x-python",
   "name": "python",
   "nbconvert_exporter": "python",
   "pygments_lexer": "ipython3",
   "version": "3.10.12"
  }
 },
 "nbformat": 4,
 "nbformat_minor": 5
}
