{
 "cells": [
  {
   "cell_type": "markdown",
   "id": "4b9de737-b3f7-48d3-b381-99c713b78cb2",
   "metadata": {},
   "source": [
    "# Library `argparse`\n",
    "\n",
    "`argparse` is Python's built-in library that allows the creation of typical command-line interfaces for Python scripts. Findout more in the [specific section of the official documentation](https://docs.python.org/3/library/argparse.html)."
   ]
  },
  {
   "cell_type": "code",
   "execution_count": 5,
   "id": "a59724e4",
   "metadata": {},
   "outputs": [],
   "source": [
    "import argparse"
   ]
  },
  {
   "cell_type": "markdown",
   "id": "99443a44-794d-41d2-9874-eabe989e6159",
   "metadata": {},
   "source": [
    "## Basic usage\n",
    "\n",
    "Argparse is a library that allows you to describe parameters that should be passed to the program when called from the command line. There are few central features of `ArgumentParser.add_argument` method:\n",
    "\n",
    "- To define positional parameters of the program, use only line as first positional argument of the `add_argument`;\n",
    "- To define an option, add the prefix `--` to the first positional argument of the `add_argument`;\n",
    "- You can access to the values by using `ArgumentParser.parse_args().<option dest>`."
   ]
  },
  {
   "cell_type": "markdown",
   "id": "149556f3",
   "metadata": {},
   "source": [
    "---\n",
    "\n",
    "In a real project, you'll write your scripts in separate files. The following cell creates a script and writes it to disk. This script uses `argparse` to implement a command-line interface and prints the values of the received arguments:"
   ]
  },
  {
   "cell_type": "code",
   "execution_count": 1,
   "id": "73b6a1e4-bb81-40fc-bf4b-26db95ab61ed",
   "metadata": {},
   "outputs": [
    {
     "name": "stdout",
     "output_type": "stream",
     "text": [
      "Overwriting argparse_files/basic_argparse.py\n"
     ]
    }
   ],
   "source": [
    "%%writefile argparse_files/basic_argparse.py\n",
    "import argparse\n",
    "\n",
    "my_parser = argparse.ArgumentParser(\n",
    "    description='Process some integers.'\n",
    ")\n",
    "my_parser.add_argument(\n",
    "    \"positional\", \n",
    "    help = \"Example of the positional argument.\",\n",
    ")\n",
    "my_parser.add_argument(\n",
    "    \"--option\",\n",
    "    help = \"Option that takes value.\"\n",
    ")\n",
    "\n",
    "args = my_parser.parse_args()\n",
    "print(\n",
    "    \"positional : \", args.positional, \"\\n\",\n",
    "    \"option : \", args.option,\n",
    "    sep = \"\"\n",
    ")"
   ]
  },
  {
   "cell_type": "markdown",
   "id": "e5431e10-e4fe-4325-9c58-f0831b3ef933",
   "metadata": {},
   "source": [
    "Here is the `--help` output  for the created programme."
   ]
  },
  {
   "cell_type": "code",
   "execution_count": 2,
   "id": "2138ff84-2a18-4e06-8f02-cfb569ad6341",
   "metadata": {},
   "outputs": [
    {
     "name": "stdout",
     "output_type": "stream",
     "text": [
      "usage: basic_argparse.py [-h] [--option OPTION] positional\n",
      "\n",
      "Process some integers.\n",
      "\n",
      "positional arguments:\n",
      "  positional       Example of the positional argument.\n",
      "\n",
      "options:\n",
      "  -h, --help       show this help message and exit\n",
      "  --option OPTION  Option that takes value.\n"
     ]
    }
   ],
   "source": [
    "%%bash\n",
    "python3 argparse_files/basic_argparse.py --help"
   ]
  },
  {
   "cell_type": "markdown",
   "id": "24819f13-4610-4af3-9a7a-8cfbdce49e05",
   "metadata": {},
   "source": [
    "Here is example of calling programm."
   ]
  },
  {
   "cell_type": "code",
   "execution_count": 3,
   "id": "dc8609f1-182f-4f84-8d08-6d43a2dff0c8",
   "metadata": {},
   "outputs": [
    {
     "name": "stdout",
     "output_type": "stream",
     "text": [
      "positional : positional_value\n",
      "option : option_value\n"
     ]
    }
   ],
   "source": [
    "%%bash\n",
    "python3 argparse_files/basic_argparse.py\\\n",
    "    positional_value\\\n",
    "    --option option_value"
   ]
  },
  {
   "cell_type": "markdown",
   "id": "088bb7db",
   "metadata": {},
   "source": [
    "### Parse arguments\n",
    "\n",
    "For experimentation purposes, it's easier to pass arguments to be parsed as a list - `ArgumentParser.parse_args` allows this option."
   ]
  },
  {
   "cell_type": "markdown",
   "id": "49290819",
   "metadata": {},
   "source": [
    "---\n",
    "\n",
    "The following cell creates an `ArgumentParser`, adds an argument to it, and shows the result of parsing."
   ]
  },
  {
   "cell_type": "code",
   "execution_count": 15,
   "id": "1dd401c5",
   "metadata": {},
   "outputs": [
    {
     "data": {
      "text/plain": [
       "Namespace(value='10')"
      ]
     },
     "execution_count": 15,
     "metadata": {},
     "output_type": "execute_result"
    }
   ],
   "source": [
    "my_parser = argparse.ArgumentParser(description='Process some integers.')\n",
    "my_parser.add_argument(\"--value\")\n",
    "ans = my_parser.parse_args([\"--value\", \"10\"])\n",
    "ans"
   ]
  },
  {
   "cell_type": "markdown",
   "id": "502d1348",
   "metadata": {},
   "source": [
    "It returns the same object as it would if defined in a script."
   ]
  },
  {
   "cell_type": "code",
   "execution_count": 16,
   "id": "727f9ea7",
   "metadata": {},
   "outputs": [
    {
     "data": {
      "text/plain": [
       "'10'"
      ]
     },
     "execution_count": 16,
     "metadata": {},
     "output_type": "execute_result"
    }
   ],
   "source": [
    "ans.value"
   ]
  },
  {
   "cell_type": "markdown",
   "id": "bcbffca0",
   "metadata": {},
   "source": [
    "### Pring help\n",
    "\n",
    "To print the `--help` message, use `ArgumentParser.print_help`."
   ]
  },
  {
   "cell_type": "markdown",
   "id": "9309df9f",
   "metadata": {},
   "source": [
    "---\n",
    "\n",
    "The following cell shows an example of such usage."
   ]
  },
  {
   "cell_type": "code",
   "execution_count": 18,
   "id": "16de613f",
   "metadata": {},
   "outputs": [
    {
     "name": "stdout",
     "output_type": "stream",
     "text": [
      "usage: ipykernel_launcher.py [-h] [--value VALUE]\n",
      "\n",
      "Process some integers.\n",
      "\n",
      "options:\n",
      "  -h, --help     show this help message and exit\n",
      "  --value VALUE\n"
     ]
    }
   ],
   "source": [
    "my_parser = argparse.ArgumentParser(description='Process some integers.')\n",
    "my_parser.add_argument(\"--value\")\n",
    "my_parser.print_help()"
   ]
  },
  {
   "cell_type": "markdown",
   "id": "f383134e",
   "metadata": {},
   "source": [
    "## Name with dash\n",
    "\n",
    "When you have an argument with a multi-word name, it's typical to separate the words with a dash (e.g., `--my-argument`). However, in Python, variable and attribute names cannot contain dashes. Therefore, the `ArgumentParser` will convert the dashed name to a format that is valid in Python, typically by replacing dashes with underscores. For example, `--my-argument` would be accessible as `args.my_argument` in the Python code."
   ]
  },
  {
   "cell_type": "markdown",
   "id": "1bc60c19",
   "metadata": {},
   "source": [
    "---\n",
    "\n",
    "The following example adds an argument that has a dash in its name."
   ]
  },
  {
   "cell_type": "code",
   "execution_count": 26,
   "id": "d599f5ae",
   "metadata": {},
   "outputs": [
    {
     "data": {
      "text/plain": [
       "'10'"
      ]
     },
     "execution_count": 26,
     "metadata": {},
     "output_type": "execute_result"
    }
   ],
   "source": [
    "my_parser = argparse.ArgumentParser()\n",
    "my_parser.add_argument(\"--value-dash\")\n",
    "ans = my_parser.parse_args([\"--value-dash\", \"10\"])\n",
    "ans.value_dash"
   ]
  },
  {
   "cell_type": "markdown",
   "id": "464ffb31",
   "metadata": {},
   "source": [
    "After parsing, in Python, you can access the obtained value using the `value_dash` name."
   ]
  },
  {
   "cell_type": "markdown",
   "id": "087e2c0a-7ddc-47ac-aee2-202be4497201",
   "metadata": {},
   "source": [
    "## `metavar`\n",
    "\n",
    "<a href=\"https://docs.python.org/3/library/argparse.html#metavar\">Official description</a>, to my mind, isn't really clear so here I present alternative description."
   ]
  },
  {
   "cell_type": "markdown",
   "id": "a8f12252-2adb-4b20-97e1-7849f3ae2f20",
   "metadata": {},
   "source": [
    "It's typical for CLI utilities to show in the help how to pass values to them. For example, `grep` has a `--label` option that takes a value, and it's help describes that you should use the syntax `--label=<passed value>` for it, which is just shown in the cell below. So here `LABEL` is a value that should be replaced with an argument during the call, and this type of constraint is called metavar."
   ]
  },
  {
   "cell_type": "code",
   "execution_count": 40,
   "id": "27afa667-5559-422d-9645-e0d222b72a2d",
   "metadata": {},
   "outputs": [
    {
     "name": "stdout",
     "output_type": "stream",
     "text": [
      "      --label=LABEL         use LABEL as the standard input file name prefix\n"
     ]
    }
   ],
   "source": [
    "%%bash\n",
    "grep --help | grep label"
   ]
  },
  {
   "cell_type": "markdown",
   "id": "919d35e3-e7e3-41a4-901b-743241154ea1",
   "metadata": {},
   "source": [
    "In argparse, every option that takes an argument has `metavar` as the upper case of `dest`, which is typical for cli units. But you can set your own using the `metavar` argument of the `add_argument` method. For arguments that take multiple values, you can set `metavar` as a tuple."
   ]
  },
  {
   "cell_type": "markdown",
   "id": "22525344",
   "metadata": {},
   "source": [
    "---\n",
    "\n",
    "The following cell creates an `ArgumentParser` that uses metavars."
   ]
  },
  {
   "cell_type": "code",
   "execution_count": null,
   "id": "8cd790a4-e328-490d-a53b-20a64ec9691a",
   "metadata": {},
   "outputs": [
    {
     "data": {
      "text/plain": [
       "_StoreAction(option_strings=['--double_metavar'], dest='double_metavar', nargs=2, const=None, default=None, type=None, choices=None, required=False, help=None, metavar=('value1', 'value2'))"
      ]
     },
     "execution_count": 19,
     "metadata": {},
     "output_type": "execute_result"
    }
   ],
   "source": [
    "my_parser = argparse.ArgumentParser(description='Process some integers.')\n",
    "my_parser.add_argument(\"--option\")\n",
    "my_parser.add_argument(\"--set_metavar\", metavar=\"this_is_metavar\")\n",
    "my_parser.add_argument(\n",
    "    \"--double_metavar\",\n",
    "    nargs=2,\n",
    "    metavar=('value1', 'value2')\n",
    ")"
   ]
  },
  {
   "cell_type": "markdown",
   "id": "62d53382-64f4-494a-b96e-8a0798bc9d9c",
   "metadata": {},
   "source": [
    "This is what the `--help` of this programme looks like. Pay attention to the metavars of the options."
   ]
  },
  {
   "cell_type": "code",
   "execution_count": 20,
   "id": "f03cd60f-2912-4c6d-b200-832e84818427",
   "metadata": {},
   "outputs": [
    {
     "name": "stdout",
     "output_type": "stream",
     "text": [
      "usage: ipykernel_launcher.py [-h] [--option OPTION]\n",
      "                             [--set_metavar this_is_metavar]\n",
      "                             [--double_metavar value1 value2]\n",
      "\n",
      "Process some integers.\n",
      "\n",
      "options:\n",
      "  -h, --help            show this help message and exit\n",
      "  --option OPTION\n",
      "  --set_metavar this_is_metavar\n",
      "  --double_metavar value1 value2\n"
     ]
    }
   ],
   "source": [
    "my_parser.print_help()"
   ]
  },
  {
   "cell_type": "markdown",
   "id": "2a9c6061-80be-45f3-9af9-9c48509f1429",
   "metadata": {},
   "source": [
    "The following cell shows the results of the parsing."
   ]
  },
  {
   "cell_type": "code",
   "execution_count": null,
   "id": "2f0d8ea6",
   "metadata": {},
   "outputs": [
    {
     "data": {
      "text/plain": [
       "Namespace(option='option_value', set_metavar='metavar_value', double_metavar=['value1', 'value2'])"
      ]
     },
     "execution_count": 21,
     "metadata": {},
     "output_type": "execute_result"
    }
   ],
   "source": [
    "my_parser.parse_args([\n",
    "    \"--option\", \"option_value\", \n",
    "    \"--set_metavar\", \"metavar_value\", \n",
    "    \"--double_metavar\", \"value1\", \"value2\"\n",
    "])"
   ]
  }
 ],
 "metadata": {
  "kernelspec": {
   "display_name": "Python 3",
   "language": "python",
   "name": "python3"
  },
  "language_info": {
   "codemirror_mode": {
    "name": "ipython",
    "version": 3
   },
   "file_extension": ".py",
   "mimetype": "text/x-python",
   "name": "python",
   "nbconvert_exporter": "python",
   "pygments_lexer": "ipython3",
   "version": "3.10.12"
  }
 },
 "nbformat": 4,
 "nbformat_minor": 5
}
