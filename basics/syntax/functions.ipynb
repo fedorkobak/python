{
 "cells": [
  {
   "cell_type": "markdown",
   "id": "c7db179a-76e1-4a9b-8b2d-e235489fb841",
   "metadata": {},
   "source": [
    "# Functions\n",
    "\n",
    "A function in Python is a reusable block of code that performs a specific task. It can be executed with different sets of arguments, allowing for code abstraction and modularity by encapsulating operations into a single, callable unit."
   ]
  },
  {
   "cell_type": "markdown",
   "id": "bde5eca5",
   "metadata": {},
   "source": [
    "## Parameters\n",
    "\n",
    "A named entity in a function (or method) definition that specifies an argument (or in some cases, arguments) that the function can accept.\n",
    "\n",
    "Find out more:\n",
    "- In the [specific part of the official documentation](https://docs.python.org/3/glossary.html#term-parameter).\n",
    "- [Parameters](functions/parameters.ipynb) page.\n",
    "\n",
    "There are such types of parameters in python:\n",
    "\n",
    "| Name                  | Description                                                                 | Syntax                                                      |\n",
    "|-----------------------|-----------------------------------------------------------------------------|-------------------------------------------------------------|\n",
    "| *Positional-only*     | Parameters that can be specified only positionally.                        | Parameters before the symbol `/`                            |\n",
    "| *Positional-or-keyword*| Can be specified positionally as well as through keyword arguments.         | Default parameters of the function                           |\n",
    "| *Var-positional*      | Parameter that takes values of all positional arguments that don't correspond to the *positional-only* or *positional-or-keyword* parameters. | Parameter name begins with the `*` symbol; typical option is `*args` |\n",
    "| *Keyword-only*        | Can be specified only through keyword arguments.                           | Parameters that follow the *Var-positional* argument or just `*` |\n",
    "| *Var-keyword*         | Parameter that takes values of all keyword arguments that don't correspond to the *positional-or-keyword* or *keyword-only* parameters. | Parameter name begins with `**`; typical option is `**kwargs` |\n",
    "\n",
    "You can define **default values** for parameters just by using syntax `<parameter>=<default value>`. But of you have defined default values for *positional-only* or for `positional-or-keyword` parameter all following parameters of these groups should have default values. "
   ]
  },
  {
   "cell_type": "markdown",
   "id": "ccfd8d5c",
   "metadata": {},
   "source": [
    "---\n",
    "\n",
    "The following cell shows the definition of a function that contains all types of parameters, with default values defined for some of them, arranged in a way that forms a valid Python expression."
   ]
  },
  {
   "cell_type": "code",
   "execution_count": null,
   "id": "8d14a6f8",
   "metadata": {},
   "outputs": [],
   "source": [
    "def some_function(\n",
    "    positional_only1,\n",
    "    positional_only2,\n",
    "    /,\n",
    "    positional1,\n",
    "    positional2=None,\n",
    "    *args,\n",
    "    keyword_only1=None,\n",
    "    keyword_only2,\n",
    "    **kwargs \n",
    "):\n",
    "    pass"
   ]
  },
  {
   "cell_type": "markdown",
   "id": "a212b47e",
   "metadata": {},
   "source": [
    "## Built in functions\n",
    "\n",
    "Python includes a set of built-in functions that are available directly in the interpreter without requiring any imports. This section provides an overview of these functions."
   ]
  },
  {
   "cell_type": "markdown",
   "id": "68933690",
   "metadata": {},
   "source": [
    "### Sorted\n",
    "\n",
    "Function for sorting in python. Which takes an object and returns a new object with the elements sorted. You can pass any sortable object, such as a list, and receive the sorted result.\n",
    "\n",
    "---\n",
    "\n",
    "The following cell demonstrates how to sort a Python list."
   ]
  },
  {
   "cell_type": "code",
   "execution_count": 3,
   "id": "019da98f",
   "metadata": {},
   "outputs": [
    {
     "data": {
      "text/plain": [
       "[1, 2, 2, 3, 4, 8]"
      ]
     },
     "execution_count": 3,
     "metadata": {},
     "output_type": "execute_result"
    }
   ],
   "source": [
    "sorted([8, 2, 3, 1, 4, 2])"
   ]
  },
  {
   "cell_type": "markdown",
   "id": "8a06fd4c",
   "metadata": {},
   "source": [
    "#### Key argument\n",
    "\n",
    "The `key` argument allows you to specify a callable that, for each element of the original array, returns a value used to determine the order of the elements during sorting."
   ]
  },
  {
   "cell_type": "markdown",
   "id": "6bf82d60",
   "metadata": {},
   "source": [
    "---\n",
    "\n",
    "Consider the list `[4, 5, 7, 12, 15]`. If we want to treat odd numbers as halves when sorting, the code to achieve this is shown below:"
   ]
  },
  {
   "cell_type": "code",
   "execution_count": 12,
   "id": "6ddaab05",
   "metadata": {},
   "outputs": [
    {
     "data": {
      "text/plain": [
       "[5, 7, 4, 15, 12]"
      ]
     },
     "execution_count": 12,
     "metadata": {},
     "output_type": "execute_result"
    }
   ],
   "source": [
    "ans = [4, 5, 7, 12, 15]\n",
    "sorted(ans, key=lambda x: (x/2 if x%2 else x))"
   ]
  },
  {
   "cell_type": "markdown",
   "id": "ed17aba8",
   "metadata": {},
   "source": [
    "Consider the following example: for each element of the original array, if the number is odd, it is transformed to half of its value; if it is even, it remains unchanged. For the list `[4, 5, 7, 12, 15]`, this results in the pairs: `4 → 4`, `5 → 2.5`, `7 → 3.5`, `12 → 12`, and `15 → 7.5`. Sorting based on these transformed values gives the order: `5 → 2.5`, `7 → 3.5`, `4 → 4`, `15 → 7.5`, and `12 → 12`, which corresponds to the original list order of `[5, 7, 4, 15, 12]`."
   ]
  },
  {
   "cell_type": "markdown",
   "id": "6f80cab6",
   "metadata": {},
   "source": [
    "One useful example is sorting dictionary keys based on their corresponding values. By passing a function that retrieves the value for each key, you can obtain a list of keys sorted according to their values."
   ]
  },
  {
   "cell_type": "code",
   "execution_count": 7,
   "id": "55dc412f",
   "metadata": {},
   "outputs": [
    {
     "data": {
      "text/plain": [
       "['ford', 'mazda', 'bmw', 'mercedes', 'toyota', 'audi']"
      ]
     },
     "execution_count": 7,
     "metadata": {},
     "output_type": "execute_result"
    }
   ],
   "source": [
    "sort_dict = {\n",
    "    \"mazda\": 32,\n",
    "    \"audi\": 50,\n",
    "    \"mercedes\": 43,\n",
    "    \"bmw\": 38,\n",
    "    \"toyota\": 45,\n",
    "    \"ford\": 29\n",
    "}\n",
    "sorted(sort_dict, key=lambda key: sort_dict[key])"
   ]
  }
 ],
 "metadata": {
  "kernelspec": {
   "display_name": "Python 3 (ipykernel)",
   "language": "python",
   "name": "python3"
  },
  "language_info": {
   "codemirror_mode": {
    "name": "ipython",
    "version": 3
   },
   "file_extension": ".py",
   "mimetype": "text/x-python",
   "name": "python",
   "nbconvert_exporter": "python",
   "pygments_lexer": "ipython3",
   "version": "3.10.14"
  }
 },
 "nbformat": 4,
 "nbformat_minor": 5
}
