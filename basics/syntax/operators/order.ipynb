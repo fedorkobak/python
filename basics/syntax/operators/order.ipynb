{
 "cells": [
  {
   "cell_type": "markdown",
   "id": "9cd19454-e697-4b9e-bb71-84be50934812",
   "metadata": {},
   "source": [
    "# Order\n",
    "\n",
    "Here I'll show features related to the order of execution of expressions with different combinations of operators.\n",
    "\n",
    "Somewhere on the internet I found such a picture describing the order of execution for Python operators.\n",
    "\n",
    "![operators](order_files/operators_order.jpg \"Some file\")"
   ]
  },
  {
   "cell_type": "markdown",
   "id": "46e1d730-7ee8-4f05-b57a-0629db0575cb",
   "metadata": {},
   "source": [
    "The top operators are executed first, regardless of where they appear in the expression. Operators at the same level will be executed in the sequence as they are specified in the expression according to the rule specified in the \"Associativity\" column."
   ]
  },
  {
   "cell_type": "markdown",
   "id": "d7438bf1-ce8e-4523-853f-e4bf752eed65",
   "metadata": {},
   "source": [
    "## Operator sequence\n",
    "\n",
    "The following example show that `**` will be executed before `*` anyway. Calculation always follows the way $4^2=16 \\rightarrow 16*2 = 32$ and never $2*4=8 \\rightarrow 8^2=64$."
   ]
  },
  {
   "cell_type": "code",
   "execution_count": 1,
   "id": "5caf6c6e-ca59-43ef-9684-e929753798f6",
   "metadata": {},
   "outputs": [
    {
     "name": "stdout",
     "output_type": "stream",
     "text": [
      "32\n"
     ]
    }
   ],
   "source": [
    "print(2*4**2)"
   ]
  },
  {
   "cell_type": "markdown",
   "id": "b2f7286d-06a4-41fb-a242-1a011e9ba1f6",
   "metadata": {},
   "source": [
    "## Associativity\n",
    "\n",
    "As mentioned for the operators `/` and `*`, they are executed from left to right. So the following example will use logic $3/3=1 \\rightarrow 1*2=2$, not $3*2=6 \\rightarrow 3/6=0.5$."
   ]
  },
  {
   "cell_type": "code",
   "execution_count": 19,
   "id": "32472b60-5185-47ae-987a-22e295ad5e49",
   "metadata": {},
   "outputs": [
    {
     "data": {
      "text/plain": [
       "2.0"
      ]
     },
     "execution_count": 19,
     "metadata": {},
     "output_type": "execute_result"
    }
   ],
   "source": [
    "3/3*2"
   ]
  },
  {
   "cell_type": "markdown",
   "id": "369f82a5-d9c2-417f-86d1-21b4a5c21aba",
   "metadata": {},
   "source": [
    "One more example shows how associativity rool changes the result with exactly same operands.\n",
    "\n",
    "- In first case it uses logic $3/3=1 \\rightarrow [1/3]=1$;\n",
    "- In second case it uses logic $[3/3]=0 \\rightarrow 0/3=0$."
   ]
  },
  {
   "cell_type": "code",
   "execution_count": 24,
   "id": "ab16b536-6e33-4f08-9e73-53677895fc3a",
   "metadata": {},
   "outputs": [
    {
     "name": "stdout",
     "output_type": "stream",
     "text": [
      "1.0\n",
      "0.0\n"
     ]
    }
   ],
   "source": [
    "print(3/3%3)\n",
    "print(3%3/3)"
   ]
  }
 ],
 "metadata": {
  "kernelspec": {
   "display_name": "Python 3 (ipykernel)",
   "language": "python",
   "name": "python3"
  },
  "language_info": {
   "codemirror_mode": {
    "name": "ipython",
    "version": 3
   },
   "file_extension": ".py",
   "mimetype": "text/x-python",
   "name": "python",
   "nbconvert_exporter": "python",
   "pygments_lexer": "ipython3",
   "version": "3.10.12"
  }
 },
 "nbformat": 4,
 "nbformat_minor": 5
}
