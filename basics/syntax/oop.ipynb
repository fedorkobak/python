{
 "cells": [
  {
   "cell_type": "markdown",
   "id": "dc999654-3f64-4614-8016-c6d6699408d5",
   "metadata": {},
   "source": [
    "# OOP\n",
    "\n",
    "Object-Oriented Programming (OOP) is a programming paradigm that provides a way to structure code by organizing it into objects. Objects are instances of classes, which are blueprints that define the behavior and characteristics of the objects. Python is an object-oriented programming language that fully supports OOP principles."
   ]
  },
  {
   "cell_type": "markdown",
   "id": "3150687d-0844-4176-879b-bb5bc0ee21a4",
   "metadata": {},
   "source": [
    "## Classes and Objects"
   ]
  },
  {
   "cell_type": "markdown",
   "id": "dfa49322-8c01-489f-8d05-2d195c8591fd",
   "metadata": {},
   "source": [
    "In Python, a class is defined using the class keyword. It encapsulates data (attributes) and functions (methods) that operate on that data. An object is an instance of a class, created using the class as a template."
   ]
  },
  {
   "cell_type": "markdown",
   "id": "1a0b708a-86b3-4ef4-826d-6b17749c865c",
   "metadata": {},
   "source": [
    "Here's an example of a simple class definition:"
   ]
  },
  {
   "cell_type": "code",
   "execution_count": 1,
   "id": "1e0b81a5-691e-4b39-9ca5-c5acb9b09f4d",
   "metadata": {},
   "outputs": [],
   "source": [
    "class Car:\n",
    "    def __init__(self, make, model, year):\n",
    "        self.make = make\n",
    "        self.model = model\n",
    "        self.year = year\n",
    "        \n",
    "    def start(self):\n",
    "        print(\"The car has started.\")\n",
    "        \n",
    "    def stop(self):\n",
    "        print(\"The car has stopped.\")"
   ]
  },
  {
   "cell_type": "markdown",
   "id": "960b67d9-4dbe-42fe-96e5-f6b6d1f5093e",
   "metadata": {},
   "source": [
    "In this example, we define a class called Car. It has three attributes: make, model, and year. The __init__ method is a special method called the constructor, which is invoked when an object is created. The start and stop methods are defined to perform actions specific to a car object."
   ]
  },
  {
   "cell_type": "markdown",
   "id": "c6f613fa-e498-4035-830a-cfccb2f954fb",
   "metadata": {},
   "source": [
    "To create an instance of the Car class, we can use the following code:"
   ]
  },
  {
   "cell_type": "code",
   "execution_count": 2,
   "id": "7b76e061-f1dc-43f3-98d5-d95fe84daef9",
   "metadata": {},
   "outputs": [],
   "source": [
    "my_car = Car(\"Toyota\", \"Camry\", 2022)"
   ]
  },
  {
   "cell_type": "markdown",
   "id": "89d65839-008f-4de5-b583-253cba233dce",
   "metadata": {},
   "source": [
    "Here, `my_car` is an object of the Car class. We pass the arguments \"Toyota\", \"Camry\", and 2022 to the constructor to initialize the object."
   ]
  },
  {
   "cell_type": "markdown",
   "id": "32563e34-b164-4f56-9ba9-c1f65ed3e336",
   "metadata": {},
   "source": [
    "## Accessing Attributes and Invoking Methods"
   ]
  },
  {
   "cell_type": "markdown",
   "id": "d1996ba9-5839-49e7-bfe1-15e2f79fcfcb",
   "metadata": {},
   "source": [
    "Once we have an object, we can access its attributes and invoke its methods using the dot notation."
   ]
  },
  {
   "cell_type": "code",
   "execution_count": 4,
   "id": "222a3333-8bfc-4e8b-9a02-3f4ddd0d963d",
   "metadata": {},
   "outputs": [
    {
     "name": "stdout",
     "output_type": "stream",
     "text": [
      "Toyota\n",
      "Camry\n",
      "2022\n",
      "The car has started.\n",
      "The car has stopped.\n"
     ]
    }
   ],
   "source": [
    "print(my_car.make)\n",
    "print(my_car.model)\n",
    "print(my_car.year)\n",
    "\n",
    "my_car.start()\n",
    "my_car.stop()"
   ]
  },
  {
   "cell_type": "markdown",
   "id": "af177215-e630-44df-bf28-0ccb1a85dd2b",
   "metadata": {},
   "source": [
    "Here, we access the attributes make, model, and year of my_car and invoke its start and stop methods."
   ]
  },
  {
   "cell_type": "markdown",
   "id": "233ab9b9-f64c-4ccd-8b99-6ac944b1e4a8",
   "metadata": {},
   "source": [
    "## Inheritance"
   ]
  },
  {
   "cell_type": "markdown",
   "id": "0f81775b-30f6-49b5-b8e5-372a0d72465a",
   "metadata": {},
   "source": [
    "One of the key features of OOP is inheritance, which allows a class to inherit attributes and methods from another class. The class that inherits is called a subclass or derived class, and the class from which it inherits is called a superclass or base class."
   ]
  },
  {
   "cell_type": "code",
   "execution_count": 5,
   "id": "5ba4a331-ec2f-4bd5-a079-fb56ecf72ee5",
   "metadata": {},
   "outputs": [],
   "source": [
    "class ElectricCar(Car):\n",
    "    def __init__(self, make, model, year, battery_capacity):\n",
    "        super().__init__(make, model, year)\n",
    "        self.battery_capacity = battery_capacity\n",
    "        \n",
    "    def charge(self):\n",
    "        print(\"The electric car is charging.\")"
   ]
  },
  {
   "cell_type": "markdown",
   "id": "4719d900-31d2-492c-b251-1d65f6938656",
   "metadata": {},
   "source": [
    "In this example, we define a subclass `ElectricCar` that inherits from the `Car` class. It has an additional attribute `battery_capacity` and a new method charge. The `super()` function is used to call the superclass's constructor and initialize the inherited attributes."
   ]
  },
  {
   "cell_type": "code",
   "execution_count": 6,
   "id": "ab7728a7-6d30-4cb6-ac1f-55cc66c50ffd",
   "metadata": {},
   "outputs": [
    {
     "name": "stdout",
     "output_type": "stream",
     "text": [
      "Tesla\n",
      "100\n",
      "The car has started.\n",
      "The electric car is charging.\n"
     ]
    }
   ],
   "source": [
    "my_electric_car = ElectricCar(\"Tesla\", \"Model S\", 2023, 100)\n",
    "print(my_electric_car.make)\n",
    "print(my_electric_car.battery_capacity)\n",
    "my_electric_car.start()\n",
    "my_electric_car.charge()"
   ]
  },
  {
   "cell_type": "markdown",
   "id": "0345a5eb-7cac-4b9c-abd4-470605e898ac",
   "metadata": {},
   "source": [
    "Here, `my_electric_car` is an object of the `ElectricCar` class, which inherits attributes and methods from the `Car` class. It also has its own specific attributes and methods."
   ]
  },
  {
   "cell_type": "markdown",
   "id": "aa3536b4",
   "metadata": {},
   "source": [
    "## Special methods\n",
    "\n",
    "In classes, a set of methods with reserved names can be implemented. These methods are called when specific events occur with the class or its instances. Names of all this methods follows such pattern `__<name>__`, for example `__init__`, `__repr__` and so on.\n",
    "\n",
    "Find out more in the:\n",
    "\n",
    "- [Specific page of the official documentation](https://docs.python.org/3/reference/datamodel.html#specialnames).\n",
    "- Some description in experimental approach in the [corresponding page of this site](oop/special_methods.ipynb).\n",
    "\n",
    "The following table shows some special methods and their descriptions.\n",
    "\n",
    "| **Group**            | **Method**         | **Description**                                                    |\n",
    "|----------------------|--------------------|--------------------------------------------------------------------|\n",
    "| **Object management** | `__new__(cls)`  | Static method called to create a new instance |\n",
    "|                       | `__init__(self)` | Called immediately after instance creation    |\n",
    "|                       | `__del__(self)`  | Called when the instance is about to be destroyed - the correct abstract way to name it is \"finalizer\" |\n",
    "| **Type Conversion**   | `__str__(self)`    | Defines how an object should be converted into a string datatype.   |\n",
    "|                      | `__bool__(self)`   | Defines how an object should be converted into a boolean datatype.  |\n",
    "|                      | `__int__(self)`    | Defines how an object should be converted into an integer datatype. |\n",
    "|                      | `__float__(self)`  | Defines how an object should be converted into a float datatype.    |\n",
    "|                      | `__complex__(self)`| Defines how an object should be converted into a complex datatype.  |\n",
    "|  **Arithmetic operators**    | `__eq__(self, other)`      | Compares two objects for equality (`==`).                                 |\n",
    "|                              | `__lt__(self, other)`      | Compares if the object is less than another (`<`).                        |\n",
    "|                              | `__le__(self, other)`      | Compares if the object is less than or equal to another (`<=`).           |\n",
    "|                              | `__gt__(self, other)`      | Compares if the object is greater than another (`>`).                     |\n",
    "|                              | `__ge__(self, other)`      | Compares if the object is greater than or equal to another (`>=`).        |\n",
    "|                              | `__add__(self, other)`     | Defines addition for objects (`+`).                                       |\n",
    "|                              | `__sub__(self, other)`     | Defines subtraction for objects (`-`).                                    |\n",
    "|                              | `__mul__(self, other)`     | Defines multiplication for objects (`*`).                                 |\n",
    "|                              | `__truediv__(self, other)` | Defines division for objects (`/`).                                       |\n",
    "|                              | `__floordiv__(self, other)`| Defines floor division for objects (`//`).                                |\n",
    "|                              | `__mod__(self, other)`     | Defines modulo operation for objects (`%`).                               |\n",
    "|                              | `__pow__(self, other)`     | Defines power operation for objects (`**`).                               |\n",
    "|                              | `__and__(self, other)`     | Defines bitwise AND operation (`&`).                                      |\n",
    "|                              | `__or__(self, other)`      | Defines bitwise OR operation (`|`).                                       |\n",
    "|                              | `__xor__(self, other)`     | Defines bitwise XOR operation (`^`).                                      |\n",
    "|                              | `__iadd__(self, other)`    | Defines in-place addition (`+=`).                                         |\n",
    "|                              | `__isub__(self, other)`    | Defines in-place subtraction (`-=`).                                      |\n",
    "|                              | `__imul__(self, other)`    | Defines in-place multiplication (`*=`).                                   |\n",
    "|                              | `__idiv__(self, other)`    | Defines in-place division (`/=`).                                         |\n",
    "|                              | `__neg__(self)`            | Defines unary negation (`-`).                                             |\n",
    "|                              | `__abs__(self)`            | Returns the absolute value of the object (`abs()`).                       |\n",
    "| **Indexing operator (`[]`)** | `__setitem__(self, key, value)` | To try assigning a value to the index.  |\n",
    "|                              | `__getitem__(self, key)`        | To try to access value under the index. |\n",
    "|                              | `__delitem__(self, key)`        | To try to delete value under the index  |\n",
    "| **Iteration protocol**       | `__iter__`                 | Will be called each time you need iterate over object.                         |\n",
    "|                              | `__next__`                 | Will be called each time the object is passed to the `next` build in function. |\n"
   ]
  },
  {
   "cell_type": "markdown",
   "id": "92c9aeef",
   "metadata": {},
   "source": [
    "---\n",
    "\n",
    "As an example, consider a class that has the `__getitem__` method defined. This method determines the behavior of the instances of the class when the `[]` operator is applied to them.\n",
    "\n",
    "Here is how it works — it converts the literal `3` to the type of the input and applies `+` to the input and the transformed literal `3`."
   ]
  },
  {
   "cell_type": "code",
   "execution_count": 12,
   "id": "cbdfec07",
   "metadata": {},
   "outputs": [],
   "source": [
    "class TestClass:\n",
    "    def __getitem__(self, item):\n",
    "        return item + type(item)(3)"
   ]
  },
  {
   "cell_type": "markdown",
   "id": "94bfdc88",
   "metadata": {},
   "source": [
    "The following cell shows the behavior of the instance when `9` is passed to the `[]` operator."
   ]
  },
  {
   "cell_type": "code",
   "execution_count": 11,
   "id": "d3130654",
   "metadata": {},
   "outputs": [
    {
     "data": {
      "text/plain": [
       "9"
      ]
     },
     "execution_count": 11,
     "metadata": {},
     "output_type": "execute_result"
    }
   ],
   "source": [
    "TestClass()[6]"
   ]
  },
  {
   "cell_type": "markdown",
   "id": "4f3af442",
   "metadata": {},
   "source": [
    "You can pass string literals as well."
   ]
  },
  {
   "cell_type": "code",
   "execution_count": 10,
   "id": "7606092a",
   "metadata": {},
   "outputs": [
    {
     "data": {
      "text/plain": [
       "'hello3'"
      ]
     },
     "execution_count": 10,
     "metadata": {},
     "output_type": "execute_result"
    }
   ],
   "source": [
    "TestClass()[\"hello\"]"
   ]
  },
  {
   "cell_type": "markdown",
   "id": "4aa061bf",
   "metadata": {},
   "source": [
    "## Class method\n",
    "\n",
    "A class method is a method that takes the class itself as its first argument (typically named `cls`). It should be defined using the `classmethod` decorator. A crucial feature of a class method is that it can be called not only from an instance of the class (like a typical method) but also directly from the class itself.\n",
    "\n",
    "- [Description for the `classmethod` decorator](https://docs.python.org/3/library/functions.html#classmethod).\n",
    "- [Corresponding page](oop/class_metthod.ipynb)."
   ]
  },
  {
   "cell_type": "markdown",
   "id": "74f904bd",
   "metadata": {},
   "source": [
    "---\n",
    "\n",
    "The following cell defines `class_method`, with its name reflecting its properties. In this case, `class_name` returns `cls`, allowing us to verify what it represents."
   ]
  },
  {
   "cell_type": "code",
   "execution_count": 10,
   "id": "13495962",
   "metadata": {},
   "outputs": [],
   "source": [
    "class ClassMethodExample:\n",
    "    @classmethod\n",
    "    def class_method(cls):\n",
    "        return cls"
   ]
  },
  {
   "cell_type": "markdown",
   "id": "53256edb",
   "metadata": {},
   "source": [
    "The following two cells use `class_method` from the class itself and from the instance of the class."
   ]
  },
  {
   "cell_type": "code",
   "execution_count": 11,
   "id": "1a8c741e",
   "metadata": {},
   "outputs": [
    {
     "data": {
      "text/plain": [
       "__main__.ClassMethodExample"
      ]
     },
     "execution_count": 11,
     "metadata": {},
     "output_type": "execute_result"
    }
   ],
   "source": [
    "ClassMethodExample.class_method()"
   ]
  },
  {
   "cell_type": "code",
   "execution_count": 12,
   "id": "db0e1930",
   "metadata": {},
   "outputs": [
    {
     "data": {
      "text/plain": [
       "__main__.ClassMethodExample"
      ]
     },
     "execution_count": 12,
     "metadata": {},
     "output_type": "execute_result"
    }
   ],
   "source": [
    "ClassMethodExample().class_method()"
   ]
  },
  {
   "cell_type": "markdown",
   "id": "c805131c",
   "metadata": {},
   "source": [
    "The following cell proves that `cls` is exactly the object of the class."
   ]
  },
  {
   "cell_type": "code",
   "execution_count": 13,
   "id": "dc320ae4",
   "metadata": {},
   "outputs": [
    {
     "data": {
      "text/plain": [
       "True"
      ]
     },
     "execution_count": 13,
     "metadata": {},
     "output_type": "execute_result"
    }
   ],
   "source": [
    "ClassMethodExample.class_method() == ClassMethodExample"
   ]
  },
  {
   "cell_type": "markdown",
   "id": "8bd0aeb5",
   "metadata": {},
   "source": [
    "## Static method\n",
    "\n",
    "Static method is a method of the class that isn't bound to any object - I like to think of it as an about-usual function, but just in a class namespace.\n",
    "Such an approach allows creating functions that are logically associated with a class but can be called without an instance.\n",
    "Check out more about static methods in the [corresponding tutorian](https://www.digitalocean.com/community/tutorials/python-static-method) on the digital ocean.\n",
    "\n",
    "You can formally define a method as static by wrapping it in the `staticmethod` decorator. **Note:** A static method doesn't have any relation to the instances of the object, which is why it shouldn't have the `self` parameter."
   ]
  },
  {
   "cell_type": "markdown",
   "id": "24d348ee",
   "metadata": {},
   "source": [
    "---\n",
    "\n",
    "The following cell implements a class that contains a regular method and a static method."
   ]
  },
  {
   "cell_type": "code",
   "execution_count": 14,
   "id": "e6d4c772",
   "metadata": {},
   "outputs": [],
   "source": [
    "class StaticExample:\n",
    "    def typical(self):\n",
    "        print(\"I'm typical.\")\n",
    "\n",
    "    @staticmethod\n",
    "    def static():\n",
    "        print(\"I'm static.\")"
   ]
  },
  {
   "cell_type": "markdown",
   "id": "91f12c79",
   "metadata": {},
   "source": [
    "Static methods are easily accessed by `<class name>.<method name>`. The following cell shows it:"
   ]
  },
  {
   "cell_type": "code",
   "execution_count": 17,
   "id": "d8f13904",
   "metadata": {},
   "outputs": [
    {
     "name": "stdout",
     "output_type": "stream",
     "text": [
      "I'm static.\n"
     ]
    }
   ],
   "source": [
    "StaticExample.static()"
   ]
  },
  {
   "cell_type": "markdown",
   "id": "8e64f9b7",
   "metadata": {},
   "source": [
    "The same approach with a non-static `typical` method will result in a corresponding error."
   ]
  },
  {
   "cell_type": "code",
   "execution_count": 15,
   "id": "487329a6",
   "metadata": {},
   "outputs": [
    {
     "name": "stdout",
     "output_type": "stream",
     "text": [
      "StaticExample.typical() missing 1 required positional argument: 'self'\n"
     ]
    }
   ],
   "source": [
    "try:\n",
    "    StaticExample.typical()\n",
    "except Exception as e:\n",
    "    print(e)"
   ]
  }
 ],
 "metadata": {
  "kernelspec": {
   "display_name": "Python 3",
   "language": "python",
   "name": "python3"
  },
  "language_info": {
   "codemirror_mode": {
    "name": "ipython",
    "version": 3
   },
   "file_extension": ".py",
   "mimetype": "text/x-python",
   "name": "python",
   "nbconvert_exporter": "python",
   "pygments_lexer": "ipython3",
   "version": "3.10.12"
  }
 },
 "nbformat": 4,
 "nbformat_minor": 5
}
