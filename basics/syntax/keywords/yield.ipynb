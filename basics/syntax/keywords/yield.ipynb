{
 "cells": [
  {
   "cell_type": "markdown",
   "id": "c5cd3eb4-a142-4ddd-8572-f3296e72fd0e",
   "metadata": {},
   "source": [
    "# yield"
   ]
  },
  {
   "cell_type": "markdown",
   "id": "f6a4b7b6-0b01-4efa-bd6e-6f7306fe73c4",
   "metadata": {},
   "source": [
    "`yield` is a keyword in Python that is used to return from a function while preserving the state of its local variables, and when such a function is called again, execution continues from the `yield` statement where it was interrupted. Any function containing the `yield` keyword is called a generator. We can say that `yield` is what makes it a generator."
   ]
  },
  {
   "cell_type": "markdown",
   "id": "45ce4624-ee98-480b-b5c9-b5e8c2a52695",
   "metadata": {},
   "source": [
    "## Comparison"
   ]
  },
  {
   "cell_type": "markdown",
   "id": "c4809c68-2d1f-4f8a-a4c6-670f907437b1",
   "metadata": {},
   "source": [
    "Consider an example where we extract only even numbers from a list. `basic_fun` represents the solution without using `yield` and `yield_fun` represents the solution with the `yield` function.\n",
    "\n",
    "You can use `yield` just like `return`, but remember - it returns to the function for the next iteration."
   ]
  },
  {
   "cell_type": "code",
   "execution_count": 1,
   "id": "d3cae011-8892-4d04-8cea-5c5040eecdc0",
   "metadata": {},
   "outputs": [],
   "source": [
    "def basic_fun(list_of_nums):\n",
    "    return [i for i in list_of_nums if (i%2) == 0]\n",
    "\n",
    "def yield_fun(list_of_nums):\n",
    "    for i in list_of_nums:\n",
    "        if i % 2 == 0:\n",
    "            yield i"
   ]
  },
  {
   "cell_type": "markdown",
   "id": "646f07d3-70f5-4cef-8c6a-b65acec37b4f",
   "metadata": {},
   "source": [
    "So here both functions have been applied to a list of values. And of course we got the same result:"
   ]
  },
  {
   "cell_type": "code",
   "execution_count": 2,
   "id": "e3330773-d628-477b-818a-ac6736a329ff",
   "metadata": {},
   "outputs": [
    {
     "name": "stdout",
     "output_type": "stream",
     "text": [
      "basic_fun result: [2, 8, 42]\n",
      "get_even result: [2, 8, 42]\n"
     ]
    }
   ],
   "source": [
    "list_of_nums = [1, 2, 3, 8, 15, 42]\n",
    "print(\n",
    "    \"basic_fun result:\", \n",
    "    basic_fun(list_of_nums)\n",
    ")\n",
    "print(\n",
    "    \"get_even result:\",\n",
    "    list(yield_fun(list_of_nums))\n",
    ")"
   ]
  },
  {
   "cell_type": "markdown",
   "id": "086011a4-5018-47de-a52f-f0b26a8ec502",
   "metadata": {},
   "source": [
    "## Return value\n",
    "\n",
    "Functions that exits with `yield` returns `generator` - is special object in python.\n",
    "\n",
    "The following example simply iterates over a list of numbers using the `yield` operator and prints each element.\n",
    "\n",
    "The key idea here is that\n",
    "\n",
    "- During the function call, the function wasn't actually executed - we don't have any output from `print`, and we got the `generator` object as a result;\n",
    "- But when we unpacked the `generator` into a list, we got messages and a list as a result."
   ]
  },
  {
   "cell_type": "code",
   "execution_count": 34,
   "id": "5c8abf0f-0764-4bcc-9f7c-cfa789bf7eb5",
   "metadata": {},
   "outputs": [
    {
     "name": "stdout",
     "output_type": "stream",
     "text": [
      "Function execution:\n",
      "Result: <generator object experiment_fun at 0x7fada84d4b30>\n",
      "\n",
      "Generator unpacking:\n",
      "processing object: 10\n",
      "processing object: 20\n",
      "processing object: 30\n",
      "processing object: 40\n",
      "processing object: 50\n",
      "Result: [10, 20, 30, 40, 50]\n"
     ]
    }
   ],
   "source": [
    "def experiment_fun(list_of_nums):\n",
    "    for v in list_of_nums:\n",
    "        print(f\"processing object: {v}\")\n",
    "        yield v\n",
    "\n",
    "list_of_nums = [10,20,30,40,50]\n",
    "\n",
    "print(\"Function execution:\")\n",
    "gen = experiment_fun(list_of_nums)\n",
    "print(\"Result:\", gen, end = \"\\n\\n\")\n",
    "\n",
    "print(\"Generator unpacking:\")\n",
    "print(\"Result:\", list(gen))"
   ]
  },
  {
   "cell_type": "markdown",
   "id": "86fa21f8-54fe-4229-bbd0-89932ca5711f",
   "metadata": {},
   "source": [
    "## `yield` and `return`\n",
    "\n",
    "But what happens if you use both `yield` and `return` in the same function? Nothing special - the function will create generator, but if it has `return` in it - it will just stop iterating over `generator`.\n",
    "\n",
    "So the following cell just shows how it might look - it iterates over the passed array while for the first three elements, but then `return` is executed so that elements after the third have not been processed."
   ]
  },
  {
   "cell_type": "code",
   "execution_count": 44,
   "id": "ccfae0de-e532-4dec-8158-d197cdd27fd9",
   "metadata": {},
   "outputs": [
    {
     "name": "stdout",
     "output_type": "stream",
     "text": [
      "processing object: (10, 0)\n",
      "processing object: (20, 1)\n",
      "processing object: (30, 2)\n"
     ]
    },
    {
     "data": {
      "text/plain": [
       "[10, 20, 30]"
      ]
     },
     "execution_count": 44,
     "metadata": {},
     "output_type": "execute_result"
    }
   ],
   "source": [
    "def experiment_fun(list_of_nums):\n",
    "    for i, v in enumerate(list_of_nums):\n",
    "        print(f\"processing object: {v, i}\")\n",
    "        \n",
    "        yield v\n",
    "        \n",
    "        if i > 1:\n",
    "            return \"test\"\n",
    "\n",
    "list_of_nums = [10,20,30,40,50]\n",
    "list(experiment_fun(list_of_nums))"
   ]
  }
 ],
 "metadata": {
  "kernelspec": {
   "display_name": "Python 3 (ipykernel)",
   "language": "python",
   "name": "python3"
  },
  "language_info": {
   "codemirror_mode": {
    "name": "ipython",
    "version": 3
   },
   "file_extension": ".py",
   "mimetype": "text/x-python",
   "name": "python",
   "nbconvert_exporter": "python",
   "pygments_lexer": "ipython3",
   "version": "3.10.12"
  }
 },
 "nbformat": 4,
 "nbformat_minor": 5
}
