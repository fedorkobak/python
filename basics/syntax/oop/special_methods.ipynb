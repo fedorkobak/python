{
 "cells": [
  {
   "cell_type": "markdown",
   "metadata": {},
   "source": [
    "# Special methods\n",
    "\n",
    "A class can hold methods that define its behavior in common cases in Python. These methods usually start and end with double underscores (`__<name>__`)."
   ]
  },
  {
   "cell_type": "markdown",
   "metadata": {},
   "source": [
    "## Indexing\n",
    "\n",
    "There are three methods that organise how the class would behave when the indexing operator `[]` is applied to the instance: `__getitem__`, `__setitem__`, `__delitem__`. Their names clearly describe the idea behind them."
   ]
  },
  {
   "cell_type": "markdown",
   "metadata": {},
   "source": [
    "---\n",
    "\n",
    "The next cell shows the implementation of the class that shows the appropriate information for each of the methods."
   ]
  },
  {
   "cell_type": "code",
   "execution_count": null,
   "metadata": {},
   "outputs": [],
   "source": [
    "class Test:\n",
    "    def __setitem__(self, key, value):\n",
    "        print(f\"Set item called with {key} - {value}\")\n",
    "    \n",
    "    def __getitem__(self, key):\n",
    "        print(f\"getitem is called with {key}\")\n",
    "        return \"dummy item\"\n",
    "    \n",
    "    def __delitem__(self, key):\n",
    "        print(f\"delitem is called with {key}\")"
   ]
  },
  {
   "cell_type": "markdown",
   "metadata": {},
   "source": [
    "And here is the creation of the instance and all the manipulations that trigger the methods that we are now focusing on."
   ]
  },
  {
   "cell_type": "code",
   "execution_count": 33,
   "metadata": {},
   "outputs": [
    {
     "name": "stdout",
     "output_type": "stream",
     "text": [
      "Set item called with 40 - 4\n",
      "getitem is called with wow\n",
      "dummy item\n",
      "delitem is called with 3.14\n"
     ]
    }
   ],
   "source": [
    "test = Test()\n",
    "\n",
    "test[40] = 4\n",
    "print(test[\"wow\"])\n",
    "del test[3.14]"
   ]
  }
 ],
 "metadata": {
  "kernelspec": {
   "display_name": "python",
   "language": "python",
   "name": "python3"
  },
  "language_info": {
   "codemirror_mode": {
    "name": "ipython",
    "version": 3
   },
   "file_extension": ".py",
   "mimetype": "text/x-python",
   "name": "python",
   "nbconvert_exporter": "python",
   "pygments_lexer": "ipython3",
   "version": "3.12.9"
  }
 },
 "nbformat": 4,
 "nbformat_minor": 2
}
