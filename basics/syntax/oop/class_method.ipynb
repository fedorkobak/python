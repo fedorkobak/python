{
 "cells": [
  {
   "cell_type": "markdown",
   "metadata": {},
   "source": [
    "# Class method\n",
    "\n",
    "A class method is a method that takes the class itself as its first argument (typically named `cls`). It should be defined using the `classmethod` decorator. A crucial feature of a class method is that it can be called not only from an instance of the class (like a typical method) but also directly from the class itself.\n",
    "\n",
    "- [Description for the `classmethod` decorator](https://docs.python.org/3/library/functions.html#classmethod)."
   ]
  },
  {
   "cell_type": "markdown",
   "metadata": {},
   "source": [
    "## Inheritance\n",
    "\n",
    "The question is: does `cls` refer to the ancestor (the class where the method is defined) or the descendant (the class from which the method is called)? In Python, `cls` always refers to the descendant—the class on which the method is invoked—regardless of whether the method is inherited or overridden."
   ]
  },
  {
   "cell_type": "markdown",
   "metadata": {},
   "source": [
    "---\n",
    "\n",
    "The following example defines the `Base` class, which has a class method that allows us to identify the class we are operating on."
   ]
  },
  {
   "cell_type": "code",
   "execution_count": 2,
   "metadata": {},
   "outputs": [],
   "source": [
    "class Base:\n",
    "    @classmethod\n",
    "    def example_method(cls):\n",
    "        return cls"
   ]
  },
  {
   "cell_type": "markdown",
   "metadata": {},
   "source": [
    "The following code is really obvious, as we call `exmpale_method` from `Desc1` itself, which was passed to the `cls` argument."
   ]
  },
  {
   "cell_type": "code",
   "execution_count": 11,
   "metadata": {},
   "outputs": [
    {
     "data": {
      "text/plain": [
       "__main__.Desc1"
      ]
     },
     "execution_count": 11,
     "metadata": {},
     "output_type": "execute_result"
    }
   ],
   "source": [
    "class Desc1(Base):\n",
    "    pass\n",
    "\n",
    "Desc1.example_method()"
   ]
  },
  {
   "cell_type": "markdown",
   "metadata": {},
   "source": [
    "More specific case refers to calling `example_method` from `super`."
   ]
  },
  {
   "cell_type": "code",
   "execution_count": 12,
   "metadata": {},
   "outputs": [
    {
     "data": {
      "text/plain": [
       "__main__.Desc2"
      ]
     },
     "execution_count": 12,
     "metadata": {},
     "output_type": "execute_result"
    }
   ],
   "source": [
    "class Desc2(Base):\n",
    "    @classmethod\n",
    "    def example_method(cls):\n",
    "        return super().example_method()\n",
    "\n",
    "Desc2.example_method()"
   ]
  },
  {
   "cell_type": "markdown",
   "metadata": {},
   "source": [
    "But the result is the same - `cls` still refers to the class from which the method was called."
   ]
  }
 ],
 "metadata": {
  "kernelspec": {
   "display_name": "Python 3",
   "language": "python",
   "name": "python3"
  },
  "language_info": {
   "codemirror_mode": {
    "name": "ipython",
    "version": 3
   },
   "file_extension": ".py",
   "mimetype": "text/x-python",
   "name": "python",
   "nbconvert_exporter": "python",
   "pygments_lexer": "ipython3",
   "version": "3.10.12"
  }
 },
 "nbformat": 4,
 "nbformat_minor": 2
}
