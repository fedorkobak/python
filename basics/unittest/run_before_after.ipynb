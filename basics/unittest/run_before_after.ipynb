{
 "cells": [
  {
   "cell_type": "markdown",
   "id": "2e1d523d-3f3a-472e-b41a-579dbbd0ecc0",
   "metadata": {},
   "source": [
    "# Run code before/after\n",
    "\n",
    "In `unittest` library, there is an option to execute some code before/after executing all the tests described in a class, and before/after each test in the class test separately. So this page is to discover details of how to use this feature."
   ]
  },
  {
   "cell_type": "markdown",
   "id": "8eab828b-37d2-4133-a77d-f068b1e31aab",
   "metadata": {},
   "source": [
    "## Each test method (`setUp`/`tearDown`)"
   ]
  },
  {
   "cell_type": "markdown",
   "id": "3192e4a2-9bbd-443b-8154-5eeb4ea4f4bd",
   "metadata": {},
   "source": [
    "Sometimes it's useful to run some code before or after each test. To do this, you can add `setUp`, `tearDown` methods to your inheritance of the `TestCase` class. `setUp` is executed before each test described in your program, `tearDown` after."
   ]
  },
  {
   "cell_type": "markdown",
   "id": "e6821f80-f3f9-4f83-bdd3-dfd53a891bce",
   "metadata": {},
   "source": [
    "This subsection just shows how it works. Here is a test where each method just shows that it has been run in the console. And there are `setUp` and `tearDown` which just print a message."
   ]
  },
  {
   "cell_type": "code",
   "execution_count": 1,
   "id": "d707f890-3a36-4359-8ccd-1c3860a7231e",
   "metadata": {},
   "outputs": [
    {
     "name": "stderr",
     "output_type": "stream",
     "text": [
      "test_1 (__main__.UpDownTests) ... ok\n",
      "test_2 (__main__.UpDownTests) ... ok\n",
      "\n",
      "----------------------------------------------------------------------\n",
      "Ran 2 tests in 0.001s\n",
      "\n",
      "OK\n"
     ]
    },
    {
     "name": "stdout",
     "output_type": "stream",
     "text": [
      "setUp run\n",
      "test_1 run\n",
      "tearDown run\n",
      "\n",
      "\n",
      "setUp run\n",
      "test_2 run\n",
      "tearDown run\n",
      "\n",
      "\n"
     ]
    }
   ],
   "source": [
    "import unittest\n",
    "\n",
    "class UpDownTests(unittest.TestCase):\n",
    "\n",
    "    def setUp(self):\n",
    "        print(\"setUp run\")\n",
    "\n",
    "    def tearDown(self):\n",
    "        print(\"tearDown run\", end = \"\\n\\n\\n\")\n",
    "\n",
    "    def test_1(self):\n",
    "        print(\"test_1 run\")\n",
    "\n",
    "    def test_2(self):\n",
    "        print(\"test_2 run\")\n",
    "\n",
    "ans = unittest.main(argv=[''], verbosity=2, exit=False)\n",
    "del UpDownTests"
   ]
  },
  {
   "cell_type": "markdown",
   "id": "75a3b12f-4d2d-47d4-96fe-ab04cea9f9a2",
   "metadata": {},
   "source": [
    "## Whole test class (`setUpClass`/`tearDownClass`)"
   ]
  },
  {
   "cell_type": "markdown",
   "id": "27f8382c-c517-4084-8d9d-59f91238d38c",
   "metadata": {},
   "source": [
    "There is an option to run some code before/after executing all test methods in the inheritage of `unittest.TestCase`. You need to use the `setUpClass`/`tearDownClass` methods for this. **Note** You need to wrap it with a `classmethod` decorator. The following cell only shows how it can be implemented:"
   ]
  },
  {
   "cell_type": "code",
   "execution_count": 2,
   "id": "1bd6efef-e9ed-4db4-92c8-16c51adeddb9",
   "metadata": {},
   "outputs": [
    {
     "name": "stderr",
     "output_type": "stream",
     "text": [
      "test_1 (__main__.UpDownTests) ... ok\n",
      "test_2 (__main__.UpDownTests) ... ok\n",
      "\n",
      "----------------------------------------------------------------------\n",
      "Ran 2 tests in 0.001s\n",
      "\n",
      "OK\n"
     ]
    },
    {
     "name": "stdout",
     "output_type": "stream",
     "text": [
      "setUpClass run\n",
      "test_1 run\n",
      "test_2 run\n",
      "tearDownClass run\n",
      "\n",
      "\n"
     ]
    }
   ],
   "source": [
    "import unittest\n",
    "\n",
    "class UpDownTests(unittest.TestCase):\n",
    "\n",
    "    @classmethod\n",
    "    def setUpClass(self):\n",
    "        print(\"setUpClass run\")\n",
    "\n",
    "    @classmethod\n",
    "    def tearDownClass(self):\n",
    "        print(\"tearDownClass run\", end = \"\\n\\n\\n\")\n",
    "\n",
    "    def test_1(self):\n",
    "        print(\"test_1 run\")\n",
    "\n",
    "    def test_2(self):\n",
    "        print(\"test_2 run\")\n",
    "\n",
    "ans = unittest.main(argv=[''], verbosity=2, exit=False)\n",
    "del UpDownTests"
   ]
  },
  {
   "cell_type": "markdown",
   "id": "9af7bbe0-99cd-4516-a7a4-c6bced1ba997",
   "metadata": {},
   "source": [
    "There is print from `setUpClass` before each tests and print from `tearDownClass` after each test."
   ]
  }
 ],
 "metadata": {
  "kernelspec": {
   "display_name": "Python 3 (ipykernel)",
   "language": "python",
   "name": "python3"
  },
  "language_info": {
   "codemirror_mode": {
    "name": "ipython",
    "version": 3
   },
   "file_extension": ".py",
   "mimetype": "text/x-python",
   "name": "python",
   "nbconvert_exporter": "python",
   "pygments_lexer": "ipython3",
   "version": "3.10.12"
  }
 },
 "nbformat": 4,
 "nbformat_minor": 5
}
