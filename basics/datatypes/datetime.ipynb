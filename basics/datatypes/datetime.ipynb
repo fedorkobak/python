{
 "cells": [
  {
   "cell_type": "markdown",
   "metadata": {},
   "source": [
    "# Datetime\n",
    "\n",
    "This page describes Python features for working with date and time objects. Check the [relevant page in the documentation](https://docs.python.org/3/library/datetime.html)."
   ]
  },
  {
   "cell_type": "code",
   "execution_count": 1,
   "metadata": {},
   "outputs": [],
   "source": [
    "from datetime import date, time, datetime"
   ]
  },
  {
   "cell_type": "markdown",
   "metadata": {},
   "source": [
    "## String conversions\n",
    "\n",
    "It turns out that it's quite typical to transform strings to `datetime` data types and vice versa, so this question deserves separate consideration. Check corresponding section in official documentation.\n",
    "\n",
    "Use `datetime.strptime` to convert **string to date** and the **strftime** method of `datetime.date`, `datetime.time`, or `datetime.datetime` objects.\n",
    "\n",
    "You must specify a `format` string that indicates the format to convert to or convert from. You can specify different components of date or time (such as days, hours, etc.) using special symbols that begin with the `%` symbol. Look for a full list of possible components in the [corresponding section](https://docs.python.org/3/library/datetime.html#format-codes) of the official documentation."
   ]
  },
  {
   "cell_type": "markdown",
   "metadata": {},
   "source": [
    "---\n",
    "\n",
    "Consider some examples of format strings. The following cell prints outputs for a set of format strings for typical formats used in different contexts."
   ]
  },
  {
   "cell_type": "code",
   "execution_count": 26,
   "metadata": {},
   "outputs": [
    {
     "name": "stdout",
     "output_type": "stream",
     "text": [
      "%Y-%m-%d %H-%M-%S.%f -> 2000-10-20 12-33-17.003333\n",
      "%d.%m.%Y -> 20.10.2000\n",
      "%Y/%d/%m -> 2000/20/10\n"
     ]
    }
   ],
   "source": [
    "obj = datetime(2000, 10, 20, 12, 33, 17, 3333)\n",
    "formats = [\n",
    "    \"%Y-%m-%d %H-%M-%S.%f\",\n",
    "    \"%d.%m.%Y\",\n",
    "    \"%Y/%d/%m\"\n",
    "]\n",
    "\n",
    "for format in formats:\n",
    "    print(format + \" -> \" + obj.strftime(format))"
   ]
  },
  {
   "cell_type": "markdown",
   "metadata": {},
   "source": [
    "An example of conversion from string to `datetime`: the same string with different format strings produces different `datetime` objects. "
   ]
  },
  {
   "cell_type": "code",
   "execution_count": 37,
   "metadata": {},
   "outputs": [
    {
     "data": {
      "text/plain": [
       "(datetime.datetime(2000, 10, 12, 0, 0), datetime.datetime(2000, 12, 10, 0, 0))"
      ]
     },
     "execution_count": 37,
     "metadata": {},
     "output_type": "execute_result"
    }
   ],
   "source": [
    "datetime.strptime(\"2000-10-12\", \"%Y-%m-%d\"),\\\n",
    "datetime.strptime(\"2000-10-12\", \"%Y-%d-%m\")"
   ]
  }
 ],
 "metadata": {
  "kernelspec": {
   "display_name": "venv",
   "language": "python",
   "name": "python3"
  },
  "language_info": {
   "codemirror_mode": {
    "name": "ipython",
    "version": 3
   },
   "file_extension": ".py",
   "mimetype": "text/x-python",
   "name": "python",
   "nbconvert_exporter": "python",
   "pygments_lexer": "ipython3",
   "version": "3.10.14"
  }
 },
 "nbformat": 4,
 "nbformat_minor": 2
}
