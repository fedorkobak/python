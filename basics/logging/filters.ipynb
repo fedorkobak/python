{
 "cells": [
  {
   "cell_type": "markdown",
   "metadata": {},
   "source": [
    "# Filters\n",
    "\n",
    "With filters, you can set specific rules for which messages should be passed to the output by handlers. Additionally, filters are a common place to customize the behavior of the logger."
   ]
  },
  {
   "cell_type": "code",
   "execution_count": 3,
   "metadata": {},
   "outputs": [],
   "source": [
    "import logging\n",
    "from logging import LogRecord"
   ]
  },
  {
   "cell_type": "markdown",
   "metadata": {},
   "source": [
    "## Extra format fields\n",
    "\n",
    "With a custom filter, you can modify the structure of the `LogRecord` used for logging each record. By specifying a custom formatter, you can include any additional fields in the logger's format as desired."
   ]
  },
  {
   "cell_type": "markdown",
   "metadata": {},
   "source": [
    "---\n",
    "\n",
    "Consider the following example, where the logger's messages include `my_field`."
   ]
  },
  {
   "cell_type": "code",
   "execution_count": 4,
   "metadata": {},
   "outputs": [],
   "source": [
    "test_logger = logging.getLogger(\"test_logger\")\n",
    "\n",
    "stream_handler = logging.StreamHandler()\n",
    "formatter = logging.Formatter('%(levelname)s|%(name)s|%(my_field)s')\n",
    "stream_handler.setFormatter(formatter)\n",
    "test_logger.addHandler(stream_handler)"
   ]
  },
  {
   "cell_type": "markdown",
   "metadata": {},
   "source": [
    "To make this work, you need to create a custom filter that adds the value of `my_field` to each `LogRecord` and add this logger to the "
   ]
  },
  {
   "cell_type": "code",
   "execution_count": 5,
   "metadata": {},
   "outputs": [],
   "source": [
    "class CutomFilter(logging.Filter):\n",
    "    my_field = \"\"\n",
    "    def filter(self, record: LogRecord) -> bool:\n",
    "        record.my_field = self.my_field\n",
    "        return super().filter(record)\n",
    "\n",
    "custom_filter = CutomFilter()\n",
    "test_logger.addFilter(custom_filter)"
   ]
  },
  {
   "cell_type": "markdown",
   "metadata": {},
   "source": [
    "Finally the way to use it. Here is calling some logging methods after specification `custom_filter.my_filed = \"value1\"`."
   ]
  },
  {
   "cell_type": "code",
   "execution_count": 6,
   "metadata": {},
   "outputs": [
    {
     "name": "stderr",
     "output_type": "stream",
     "text": [
      "CRITICAL|test_logger|value1\n",
      "WARNING|test_logger|value1\n"
     ]
    }
   ],
   "source": [
    "custom_filter.my_field = \"value1\"\n",
    "test_logger.critical(\"\")\n",
    "test_logger.warning(\"\")"
   ]
  },
  {
   "cell_type": "markdown",
   "metadata": {},
   "source": [
    "Each record will include a section with `value1`.\n",
    "\n",
    "Now switch `value1` to `value2` and call record again."
   ]
  },
  {
   "cell_type": "code",
   "execution_count": 7,
   "metadata": {},
   "outputs": [
    {
     "name": "stderr",
     "output_type": "stream",
     "text": [
      "CRITICAL|test_logger|value2\n"
     ]
    }
   ],
   "source": [
    "custom_filter.my_field = \"value2\"\n",
    "test_logger.critical(\"\")"
   ]
  },
  {
   "cell_type": "markdown",
   "metadata": {},
   "source": [
    "It leads to the `value2` in the last section."
   ]
  }
 ],
 "metadata": {
  "kernelspec": {
   "display_name": "Python 3",
   "language": "python",
   "name": "python3"
  },
  "language_info": {
   "codemirror_mode": {
    "name": "ipython",
    "version": 3
   },
   "file_extension": ".py",
   "mimetype": "text/x-python",
   "name": "python",
   "nbconvert_exporter": "python",
   "pygments_lexer": "ipython3",
   "version": "3.10.12"
  }
 },
 "nbformat": 4,
 "nbformat_minor": 2
}
