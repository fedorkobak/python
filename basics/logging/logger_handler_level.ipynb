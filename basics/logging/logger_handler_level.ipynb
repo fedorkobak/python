{
 "cells": [
  {
   "cell_type": "markdown",
   "id": "4eed481c-78d7-4de1-af69-8e455b5f5f6b",
   "metadata": {},
   "source": [
    "# Logger/Handler level\n",
    "\n",
    "You can set levers for both the handler and the logger. But what if they have different levels? Note that the messages with insufficient level will be rejected by the handler or the logger. So only records with a level higher than the level of the logger and the level of the handler will be logged."
   ]
  },
  {
   "cell_type": "code",
   "execution_count": 6,
   "id": "577a8c19-a030-42d0-96bc-f52dd719e3cd",
   "metadata": {},
   "outputs": [],
   "source": [
    "import logging\n",
    "from pathlib import Path\n",
    "logger = logging.getLogger(\"test\")"
   ]
  },
  {
   "cell_type": "markdown",
   "id": "a681c0a5-7db6-4a20-bfd6-dfd65b94b04a",
   "metadata": {},
   "source": [
    "## Basic example"
   ]
  },
  {
   "cell_type": "markdown",
   "id": "0faca470-e7cb-4ba1-811b-4f9c8db0615e",
   "metadata": {},
   "source": [
    "In the following cells, two options have been tried:\n",
    "\n",
    "- The logger level is higher than the handler level;\n",
    "- The logger level is lower than the handler level."
   ]
  },
  {
   "cell_type": "code",
   "execution_count": 2,
   "id": "52e7c584-836a-40b9-b532-c9474c3f7d93",
   "metadata": {},
   "outputs": [],
   "source": [
    "logger.setLevel(\"WARNING\")\n",
    "\n",
    "handler = logging.StreamHandler()\n",
    "handler.setLevel(\"DEBUG\")\n",
    "handler.setFormatter(\n",
    "    logging.Formatter(\"%(levelname)s - %(message)s\")\n",
    ")\n",
    "\n",
    "logger.addHandler(handler)\n",
    "logger.info(\"message\")\n",
    "logger.handlers.clear()"
   ]
  },
  {
   "cell_type": "code",
   "execution_count": 3,
   "id": "5fed418a-2e23-4a0b-b857-aa3104d1eee6",
   "metadata": {},
   "outputs": [],
   "source": [
    "logger.setLevel(\"DEBUG\")\n",
    "\n",
    "handler = logging.StreamHandler()\n",
    "handler.setLevel(\"WARNING\")\n",
    "handler.setFormatter(\n",
    "    logging.Formatter(\"%(levelname)s - %(message)s\")\n",
    ")\n",
    "\n",
    "logger.addHandler(handler)\n",
    "logger.info(\"message\")\n",
    "logger.handlers.clear()"
   ]
  },
  {
   "cell_type": "markdown",
   "id": "e04d8863-56f4-49d8-8469-e26914ef9b4b",
   "metadata": {},
   "source": [
    "As you can see, nothing is logged in either case."
   ]
  },
  {
   "cell_type": "markdown",
   "id": "ddbdb255-894f-48c0-ade1-33091c058444",
   "metadata": {},
   "source": [
    "## Use case\n",
    "\n",
    "It is good to think about it in this context: the logger determines the global logging level and will not let inappropriate messages to any handler, and handlers determine which messages they need and which among those that passed the logger. "
   ]
  },
  {
   "cell_type": "markdown",
   "id": "94588e29-6b26-4fda-9195-f32f98ffd0a1",
   "metadata": {},
   "source": [
    "Suppose we only want to see debugging messages in terminal output, but when we save to file we only care about more serious messages - warnings and more serious. And we have already finished debugging our application, so we only care about info messages and above, so we can set the `INFO` level for the logger and all sources will have only info and above messages.\n",
    "\n",
    "The following code realises described setup:"
   ]
  },
  {
   "cell_type": "code",
   "execution_count": 16,
   "id": "f156455d-6efd-43fb-9aec-ba9bd53ebd64",
   "metadata": {},
   "outputs": [
    {
     "name": "stderr",
     "output_type": "stream",
     "text": [
      "info\n",
      "warning\n",
      "error\n",
      "critical\n"
     ]
    }
   ],
   "source": [
    "stream_handler = logging.StreamHandler()\n",
    "stream_handler.setLevel(\"DEBUG\")\n",
    "file_handler = logging.FileHandler(\n",
    "    Path(\"logger_handler_level_files\")/\"log\",\n",
    "    mode=\"w\"\n",
    ")\n",
    "file_handler.setLevel(\"WARNING\")\n",
    "\n",
    "logger.setLevel(\"INFO\")\n",
    "logger.addHandler(stream_handler)\n",
    "logger.addHandler(file_handler)\n",
    "\n",
    "logger.debug(\"debug\")\n",
    "logger.info(\"info\")\n",
    "logger.warning(\"warning\")\n",
    "logger.error(\"error\")\n",
    "logger.critical(\"critical\")\n",
    "\n",
    "logger.handlers.clear()"
   ]
  },
  {
   "cell_type": "markdown",
   "id": "031ebccb-1e3d-4624-9dfe-f597172ac767",
   "metadata": {},
   "source": [
    "So in terminal we can see all the messages that the logger has allowed us to see. But let's also check the file."
   ]
  },
  {
   "cell_type": "code",
   "execution_count": 18,
   "id": "56565457-69e0-4d35-b16c-9ef7f512a913",
   "metadata": {},
   "outputs": [
    {
     "name": "stdout",
     "output_type": "stream",
     "text": [
      "warning\n",
      "error\n",
      "critical\n"
     ]
    }
   ],
   "source": [
    "!cat logger_handler_level_files/log"
   ]
  },
  {
   "cell_type": "markdown",
   "id": "e41129c5-f040-40e5-b919-2509ab09849e",
   "metadata": {},
   "source": [
    "Here are only important enough messages."
   ]
  }
 ],
 "metadata": {
  "kernelspec": {
   "display_name": "Python 3 (ipykernel)",
   "language": "python",
   "name": "python3"
  },
  "language_info": {
   "codemirror_mode": {
    "name": "ipython",
    "version": 3
   },
   "file_extension": ".py",
   "mimetype": "text/x-python",
   "name": "python",
   "nbconvert_exporter": "python",
   "pygments_lexer": "ipython3",
   "version": "3.10.12"
  }
 },
 "nbformat": 4,
 "nbformat_minor": 5
}
