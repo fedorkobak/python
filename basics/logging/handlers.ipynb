{
 "cells": [
  {
   "cell_type": "markdown",
   "id": "456f7f3c-99b4-4752-b404-5ae34d870c8c",
   "metadata": {},
   "source": [
    "# Handlers\n",
    "\n",
    "The handler in the `logging` library is a tool that allows you to specify the direction in which new records from the logger will appear. \n",
    "\n",
    "Check list of the [usefull handlers](https://docs.python.org/3/howto/logging.html#useful-handlers)."
   ]
  },
  {
   "cell_type": "code",
   "execution_count": 2,
   "id": "b76b7365-50a6-4ef8-bdb8-0a7df321587c",
   "metadata": {},
   "outputs": [],
   "source": [
    "import logging"
   ]
  },
  {
   "cell_type": "markdown",
   "id": "40dabe93",
   "metadata": {},
   "source": [
    "## Add/list/remove\n",
    "\n",
    "Use:\n",
    "\n",
    "- `Logger.addHandler`: method to add handler.\n",
    "- `Logger.handlers`: is a list that contains all awailable handlers.\n",
    "- `Logger.removeHandler`: method to remove handler."
   ]
  },
  {
   "cell_type": "markdown",
   "id": "ea803048",
   "metadata": {},
   "source": [
    "---\n",
    "\n",
    "The following cell creates a logger and handler that we'll use as an example."
   ]
  },
  {
   "cell_type": "code",
   "execution_count": 3,
   "id": "5a69358a",
   "metadata": {},
   "outputs": [],
   "source": [
    "my_logger = logging.getLogger(\"crud logger\")\n",
    "handler = logging.StreamHandler()"
   ]
  },
  {
   "cell_type": "markdown",
   "id": "91daf1fe",
   "metadata": {},
   "source": [
    "Next code adds handler to the logger."
   ]
  },
  {
   "cell_type": "code",
   "execution_count": 4,
   "id": "8057ad3a",
   "metadata": {},
   "outputs": [],
   "source": [
    "my_logger.addHandler(handler)"
   ]
  },
  {
   "cell_type": "markdown",
   "id": "b43dc398",
   "metadata": {},
   "source": [
    "Here is how the `handlers` attribute of the logger looks."
   ]
  },
  {
   "cell_type": "code",
   "execution_count": 5,
   "id": "c5ca7b34",
   "metadata": {},
   "outputs": [
    {
     "data": {
      "text/plain": [
       "[<StreamHandler stderr (NOTSET)>]"
      ]
     },
     "execution_count": 5,
     "metadata": {},
     "output_type": "execute_result"
    }
   ],
   "source": [
    "my_logger.handlers"
   ]
  },
  {
   "cell_type": "markdown",
   "id": "23cbe0a4",
   "metadata": {},
   "source": [
    "There is one element - logger that we've just added.\n",
    "\n",
    "Following cell applies `removeHandler` method."
   ]
  },
  {
   "cell_type": "code",
   "execution_count": null,
   "id": "5c58c3af",
   "metadata": {},
   "outputs": [],
   "source": [
    "my_logger.removeHandler(handler)"
   ]
  },
  {
   "cell_type": "markdown",
   "id": "216977b2",
   "metadata": {},
   "source": [
    "The next cell shows that there are no handlers left in the logger after handler removal."
   ]
  },
  {
   "cell_type": "code",
   "execution_count": 7,
   "id": "9cb4aafd",
   "metadata": {},
   "outputs": [
    {
     "data": {
      "text/plain": [
       "[]"
      ]
     },
     "execution_count": 7,
     "metadata": {},
     "output_type": "execute_result"
    }
   ],
   "source": [
    "my_logger.handlers"
   ]
  },
  {
   "cell_type": "markdown",
   "id": "63baa8ad-91e9-4b63-8b00-92b552cc30cc",
   "metadata": {},
   "source": [
    "## Several handlers\n",
    "\n",
    "A great option is that you can add multiple handlers to a logger, allowing the same messages to be sent to different sources sulmatenously."
   ]
  },
  {
   "cell_type": "markdown",
   "id": "00e59c2a-125d-4d72-ad8f-f3a1b92f164d",
   "metadata": {},
   "source": [
    "---\n",
    "\n",
    "Here is an example to illustrate the point. There are two handlers. They print in a format that allows you to identify which logger printed the line. The first logger has a \"DEBUG\" level and the second has an \"ERROR\" level, so it'll print fewer messages. Both are added to the same logger."
   ]
  },
  {
   "cell_type": "code",
   "execution_count": 38,
   "id": "7eedcc43-777c-45cd-bda5-1c8ee8fe95a6",
   "metadata": {},
   "outputs": [],
   "source": [
    "my_logger = logging.getLogger(\"test\")\n",
    "\n",
    "stream_handler1 = logging.StreamHandler()\n",
    "stream_handler1.setLevel(\"DEBUG\")\n",
    "stream_handler1.setFormatter(\n",
    "    logging.Formatter(\"Stream handler1 %(message)s\")\n",
    ")\n",
    "\n",
    "stream_handler2 = logging.StreamHandler()\n",
    "stream_handler2.setLevel(\"ERROR\")\n",
    "stream_handler2.setFormatter(\n",
    "    logging.Formatter(\"Stream handler2 %(message)s\")\n",
    ")\n",
    "\n",
    "my_logger.addHandler(stream_handler1)\n",
    "my_logger.addHandler(stream_handler2)"
   ]
  },
  {
   "cell_type": "markdown",
   "id": "31640a04-bbd0-4862-ad52-7d2feb1de08e",
   "metadata": {},
   "source": [
    "Now lets try to execute some log commands from logger."
   ]
  },
  {
   "cell_type": "code",
   "execution_count": 39,
   "id": "126d0835-234d-403f-be02-3b152a44e4dd",
   "metadata": {},
   "outputs": [
    {
     "name": "stderr",
     "output_type": "stream",
     "text": [
      "Stream handler1 debug\n",
      "Stream handler1 info\n",
      "Stream handler1 warning\n",
      "Stream handler1 error\n",
      "Stream handler2 error\n",
      "Stream handler1 critical\n",
      "Stream handler2 critical\n"
     ]
    }
   ],
   "source": [
    "my_logger.debug(\"debug\")\n",
    "my_logger.info(\"info\")\n",
    "my_logger.warning(\"warning\")\n",
    "my_logger.error(\"error\")\n",
    "my_logger.critical(\"critical\")\n",
    "my_logger.handlers.clear()"
   ]
  },
  {
   "cell_type": "markdown",
   "id": "a7122686-814a-4929-880b-3b420226c3cf",
   "metadata": {},
   "source": [
    "As a result, you can see that some messages were replied to twice, but each logging command was called once. This happens because error and critical messages were generated by both handlers added to the logger in question."
   ]
  },
  {
   "cell_type": "markdown",
   "id": "8175a178",
   "metadata": {},
   "source": [
    "## Custom handler\n",
    "\n",
    "There are a set of conditions for a Python class to function as a logging handler. You can check them [here](https://docs.python.org/3/library/logging.html#handler-objects). So presumably you can make a class that satisfies these requirements and use it as a logger. For example, a handler that publishes messages to [Slack chat](https://github.com/mathiasose/slacker_log_handler). This section explores how you can create your own logging handler.\n",
    "\n",
    "The minimal requirement is to create a class that inherits from `logging.Handler` and defines the `emit` method to specify the handler's behavior."
   ]
  },
  {
   "cell_type": "markdown",
   "id": "b23e203d",
   "metadata": {},
   "source": [
    "---\n",
    "\n",
    "The following cell defines the simplest handler you can make - on each try it just applies `print` to the same messages."
   ]
  },
  {
   "cell_type": "code",
   "execution_count": 2,
   "id": "aeae1a2c",
   "metadata": {},
   "outputs": [],
   "source": [
    "from logging import LogRecord\n",
    "\n",
    "class ToyHandler(logging.Handler):\n",
    "    def emit(self, record: LogRecord) -> None:\n",
    "        print(\"This is a message from simple custom logger.\")"
   ]
  },
  {
   "cell_type": "markdown",
   "id": "0e8a7491",
   "metadata": {},
   "source": [
    "The following cell shows how such a handler can be used."
   ]
  },
  {
   "cell_type": "code",
   "execution_count": 3,
   "id": "6f7a205f",
   "metadata": {},
   "outputs": [
    {
     "name": "stdout",
     "output_type": "stream",
     "text": [
      "This is a message from simple custom logger.\n"
     ]
    }
   ],
   "source": [
    "toy_logger = logging.getLogger(\"toy\")\n",
    "toy_logger.addHandler(ToyHandler())\n",
    "toy_logger.error(\"hello\")"
   ]
  }
 ],
 "metadata": {
  "kernelspec": {
   "display_name": "Python 3",
   "language": "python",
   "name": "python3"
  },
  "language_info": {
   "codemirror_mode": {
    "name": "ipython",
    "version": 3
   },
   "file_extension": ".py",
   "mimetype": "text/x-python",
   "name": "python",
   "nbconvert_exporter": "python",
   "pygments_lexer": "ipython3",
   "version": "3.10.12"
  }
 },
 "nbformat": 4,
 "nbformat_minor": 5
}
